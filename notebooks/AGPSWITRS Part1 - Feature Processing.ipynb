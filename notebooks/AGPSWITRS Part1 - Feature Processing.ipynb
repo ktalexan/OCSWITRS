{
 "cells": [
  {
   "cell_type": "markdown",
   "metadata": {},
   "source": [
    "<div style = \"background-color:indigo\"><center>\n",
    "<h1 style=\"font-size: 50px; font-weight: bold; color:goldenrod; border-top: 3px solid goldenrod; padding-top: 10px\">OC SWITRS GIS Data Processing</h1>\n",
    "<div style=\"font-size: 35px; font-weight: bold; color: goldenrod\"> Part 1 - Feature Class Geoprocessing</div>\n",
    "<div style=\"font-size: 30px; font-weight: bold; color: goldenrod; border-bottom: 3px solid goldenrod; padding-bottom: 20px\">v.1, January 2025</div>\n",
    "</center></div>"
   ]
  },
  {
   "cell_type": "markdown",
   "metadata": {},
   "source": [
    "<h1 style=\"font-weight:bold; color:orangered; border-bottom: 2px solid orangered\">1. Preliminaries</h1>"
   ]
  },
  {
   "cell_type": "markdown",
   "metadata": {},
   "source": [
    "<h2 style=\"font-weight:bold; color:dodgerblue; border-bottom: 1px solid dodgerblue; padding-left: 25px\">1.1 Referencing Libraries and Initialization</h2>"
   ]
  },
  {
   "cell_type": "markdown",
   "metadata": {},
   "source": [
    "If needed to reset the kernel, please run the following cell:"
   ]
  },
  {
   "cell_type": "code",
   "execution_count": null,
   "metadata": {},
   "outputs": [],
   "source": [
    "#%reset"
   ]
  },
  {
   "cell_type": "markdown",
   "metadata": {},
   "source": [
    "Instantiating python libraries for the project"
   ]
  },
  {
   "cell_type": "code",
   "execution_count": null,
   "metadata": {},
   "outputs": [],
   "source": [
    "# Import Python libraries\n",
    "import os, json, pytz, math, arcpy, arcgis\n",
    "from datetime import date, time, datetime, timedelta, tzinfo, timezone\n",
    "from arcpy import metadata as md\n",
    "\n",
    "# important as it \"enhances\" Pandas by importing these classes (from ArcGIS API for Python)\n",
    "from arcgis.features import GeoAccessor, GeoSeriesAccessor"
   ]
  },
  {
   "cell_type": "markdown",
   "metadata": {},
   "source": [
    "<h2 style=\"font-weight:bold; color:dodgerblue; border-bottom: 1px solid dodgerblue; padding-left: 25px\">1.2. Project and Workspace Variables</h2>"
   ]
  },
  {
   "cell_type": "markdown",
   "metadata": {},
   "source": [
    "Define and maitnain project, workspace, ArcGIS, and data-related variables"
   ]
  },
  {
   "cell_type": "markdown",
   "metadata": {},
   "source": [
    "<h3 style=\"font-weight:bold; color:lime; padding-left: 50px\">Project and Geodatabase Paths</h3>"
   ]
  },
  {
   "cell_type": "markdown",
   "metadata": {},
   "source": [
    "Define the ArcGIS pro project variables"
   ]
  },
  {
   "cell_type": "code",
   "execution_count": null,
   "metadata": {},
   "outputs": [],
   "source": [
    "# Environment variable for OneDrive path\n",
    "onedriveFolder = os.getenv(\"OneDriveCommercial\")\n",
    "\n",
    "# OCSWITRS project path\n",
    "projectFolder = os.path.join(onedriveFolder, \"Documents\", \"OCSWITRS\")"
   ]
  },
  {
   "cell_type": "markdown",
   "metadata": {},
   "source": [
    "Which running environment this notebook is using? (1 = Visual Studio Code, 2 = ArcGIS Pro)"
   ]
  },
  {
   "cell_type": "code",
   "execution_count": null,
   "metadata": {},
   "outputs": [],
   "source": [
    "runEnv = input(\"Enter the running environment (1=VSCode, 2=ArcGIS Pro): \")"
   ]
  },
  {
   "cell_type": "markdown",
   "metadata": {},
   "source": [
    "<h3 style=\"font-weight:bold; color:lime; padding-left: 50px\">ArcGIS Pro Paths</h3>"
   ]
  },
  {
   "cell_type": "markdown",
   "metadata": {},
   "source": [
    "ArcGIS pro related paths"
   ]
  },
  {
   "cell_type": "code",
   "execution_count": null,
   "metadata": {},
   "outputs": [],
   "source": [
    "# OCSWITRS project AGP path\n",
    "agpFolder = os.path.join(projectFolder, \"AGPSWITRS\")\n",
    "\n",
    "# AGP APRX file name and path\n",
    "aprxName = \"AGPSWITRS.aprx\"\n",
    "aprxPath = os.path.join(agpFolder, aprxName)\n",
    "\n",
    "# ArcGIS Pro project geodatabase and path\n",
    "gdbName = \"AGPSWITRS.gdb\"\n",
    "gdbPath = os.path.join(agpFolder, gdbName)\n",
    "\n",
    "# ArcGIS pro project\n",
    "if runEnv == \"1\":  # VSCode\n",
    "    print(\"Running in VSCode (project = aprxPath)\")\n",
    "    aprx = arcpy.mp.ArcGISProject(aprxPath)\n",
    "elif runEnv == \"2\":  # ArcGIS Pro\n",
    "    print(\"Running in ArcGIS Pro (project = CURRENT)\")\n",
    "    aprx = arcpy.mp.ArcGISProject('CURRENT')\n",
    "\n",
    "# Close all map views\n",
    "aprx.closeViews()\n",
    "\n",
    "# Current ArcGIS workspace (arcpy)\n",
    "arcpy.env.workspace = gdbPath\n",
    "workspace = arcpy.env.workspace\n",
    "# Enable overwriting existing outputs\n",
    "arcpy.env.overwriteOutput = True\n",
    "# Disable adding outputs to map\n",
    "arcpy.env.addOutputsToMap = False"
   ]
  },
  {
   "cell_type": "markdown",
   "metadata": {},
   "source": [
    "<h3 style=\"font-weight:bold; color:lime; padding-left: 50px\">Folder Paths</h3>"
   ]
  },
  {
   "cell_type": "code",
   "execution_count": null,
   "metadata": {},
   "outputs": [],
   "source": [
    "# Raw data folder path\n",
    "rawDataFolder = os.path.join(projectFolder, \"Data\", \"Raw\")\n",
    "\n",
    "# Maps folder path\n",
    "mapsFolder = os.path.join(projectFolder, \"Maps\")\n",
    "\n",
    "# Layers folder path\n",
    "layersFolder = os.path.join(projectFolder, \"Layers\")\n",
    "layersTemplate = os.path.join(layersFolder, \"Templates\")\n",
    "\n",
    "# Layouts folder path\n",
    "layoutsFolder = os.path.join(projectFolder, \"Layouts\")\n",
    "\n",
    "# Notebooks folder path\n",
    "notebooksFolder = os.path.join(projectFolder, \"Notebooks\")\n",
    "codebookPath = os.path.join(projectFolder, \"Data\", \"codebook\", \"cb.json\")"
   ]
  },
  {
   "cell_type": "markdown",
   "metadata": {},
   "source": [
    "Geodatabase feature datasets paths (directories)"
   ]
  },
  {
   "cell_type": "code",
   "execution_count": null,
   "metadata": {},
   "outputs": [],
   "source": [
    "# RawData feature dataset in the geodatabase\n",
    "gdbRawData = os.path.join(gdbPath, \"RawData\")\n",
    "\n",
    "# RawData feature dataset in the geodatabase\n",
    "gdbSupportingData = os.path.join(gdbPath, \"SupportingData\")\n",
    "\n",
    "# AnalysisData feature dataset in the geodatabase\n",
    "gdbAnalysisData = os.path.join(gdbPath, \"AnalysisData\")\n",
    "\n",
    "# HotSpotData feature dataset in the geodatabase\n",
    "gdbHotspotData = os.path.join(gdbPath, \"HotSpotData\")"
   ]
  },
  {
   "cell_type": "markdown",
   "metadata": {},
   "source": [
    "<h3 style=\"font-weight:bold; color:lime; padding-left: 50px\">Data Folder Paths</h3>"
   ]
  },
  {
   "cell_type": "markdown",
   "metadata": {},
   "source": [
    "The most current raw data files cover the periods from 01/01/2013 to 09/30/2024. The data files are already processed in the R scripts and imported into the project's geodatabase."
   ]
  },
  {
   "cell_type": "code",
   "execution_count": null,
   "metadata": {},
   "outputs": [],
   "source": [
    "# Add the start date of the raw data to a new python datetime object\n",
    "dateStart = datetime(2012, 1, 1)\n",
    "\n",
    "# Add the end date of the raw data to a new python datetime object\n",
    "dateEnd = datetime(2024, 9, 30)\n",
    "\n",
    "# Define time and date variables\n",
    "timeZone = pytz.timezone(\"US/Pacific\")\n",
    "today = datetime.now(timeZone)\n",
    "dateUpdated = today.strftime(\"%B %d, %Y\")\n",
    "timeUpdated = today.strftime(\"%I:%M %p\")"
   ]
  },
  {
   "cell_type": "markdown",
   "metadata": {},
   "source": [
    "Define date strings for metadata"
   ]
  },
  {
   "cell_type": "code",
   "execution_count": null,
   "metadata": {},
   "outputs": [],
   "source": [
    "# String defining the years of the raw data\n",
    "mdYears = f\"{dateStart.year}-{dateEnd.year}\"\n",
    "\n",
    "# String defining the start and end dates of the raw data\n",
    "mdDates = f\"Data from {dateStart.strftime('%B %d, %Y')} to {dateEnd.strftime('%B %d, %Y')}\""
   ]
  },
  {
   "cell_type": "markdown",
   "metadata": {},
   "source": [
    "<h3 style=\"font-weight:bold; color:lime; padding-left: 50px\">Codebook</h3>"
   ]
  },
  {
   "cell_type": "code",
   "execution_count": null,
   "metadata": {},
   "outputs": [],
   "source": [
    "# Load the JSON file from directory and store it in a variable\n",
    "with open(codebookPath) as jsonFile:\n",
    "    codebook = json.load(jsonFile)"
   ]
  },
  {
   "cell_type": "markdown",
   "metadata": {},
   "source": [
    "<h3 style=\"font-weight:bold; color:lime; padding-left: 50px\">JSON CIM Exports</h3>"
   ]
  },
  {
   "cell_type": "markdown",
   "metadata": {},
   "source": [
    "Creating a function to export the CIM JSON files to disk."
   ]
  },
  {
   "cell_type": "code",
   "execution_count": null,
   "metadata": {},
   "outputs": [],
   "source": [
    "def export_cim(cimType, cimObject, cimName):\n",
    "    \"\"\"Export a CIM object to a file in both native (MAPX, PAGX, LYRX) and JSON CIM formats.\"\"\"\n",
    "    match cimType:\n",
    "        # When the CIM object is a map\n",
    "        case \"map\":\n",
    "            # Export the CIM object to a MAPX file\n",
    "            print(f\"Exporting {cimName} map to MAPX...\")\n",
    "            cimObject.exportToMAPX(os.path.join(mapsFolder, cimName+\".mapx\"))\n",
    "            print(arcpy.GetMessages())\n",
    "            \n",
    "            # Export the CIM object to a JSON file\n",
    "            print(f\"Exporting {cimName} map to JSON...\\n\")\n",
    "            with open(os.path.join(mapsFolder, cimName+\".mapx\"), \"r\") as f:\n",
    "                data = f.read()\n",
    "            with open(os.path.join(mapsFolder, cimName+\".json\"), \"w\") as f:\n",
    "                f.write(data)\n",
    "        \n",
    "        # When the CIM object is a layout\n",
    "        case \"layout\":\n",
    "            # Export the CIM object to a PAGX file\n",
    "            print(f\"Exporting {cimName} layout to PAGX...\")\n",
    "            cimObject.exportToPAGX(os.path.join(layoutsFolder, cimName+\".pagx\"))\n",
    "            print(arcpy.GetMessages())\n",
    "            \n",
    "            # Export the CIM object to a JSON file\n",
    "            print(f\"Exporting {cimName} layout to JSON...\\n\")\n",
    "            with open(os.path.join(layoutsFolder, cimName+\".pagx\"), \"r\") as f:\n",
    "                data = f.read()\n",
    "            with open(os.path.join(layoutsFolder, cimName+\".json\"), \"w\") as f:\n",
    "                f.write(data)\n",
    "        \n",
    "        # When the CIM object is a layer\n",
    "        case \"layer\":\n",
    "            # Export the CIM object to a LYRX file\n",
    "            print(f\"Exporting {cimName} layer to LYRX...\")\n",
    "            # Reformat the name of the output file\n",
    "            for m in aprx.listMaps():\n",
    "                for l in m.listLayers():\n",
    "                    if l == cimObject:\n",
    "                        cimNewName = m.name.title()+\"Map-\"+l.name.replace(\"OCSWITRS \", \"\")\n",
    "            # Save the layer to a LYRX file\n",
    "            arcpy.management.SaveToLayerFile(cimObject, os.path.join(layersFolder, cimNewName + \".lyrx\"))\n",
    "            print(arcpy.GetMessages())\n",
    "            \n",
    "            # Export the CIM object to a JSON file\n",
    "            print(f\"Exporting {cimName} layer to JSON...\\n\")\n",
    "            with open(os.path.join(layersFolder, cimNewName+\".lyrx\"), \"r\") as f:\n",
    "                data = f.read()\n",
    "            with open(os.path.join(layersFolder, cimNewName+\".json\"), \"w\") as f:\n",
    "                f.write(data)"
   ]
  },
  {
   "cell_type": "markdown",
   "metadata": {},
   "source": [
    "<h2 style=\"font-weight:bold; color:dodgerblue; border-bottom: 1px solid dodgerblue; padding-left: 25px\">1.3. ArcGIS Pro Workspace</h2>"
   ]
  },
  {
   "cell_type": "markdown",
   "metadata": {},
   "source": [
    "Set the workspace and environment settings for the ArcGIS Pro project"
   ]
  },
  {
   "cell_type": "code",
   "execution_count": null,
   "metadata": {},
   "outputs": [],
   "source": [
    "# Set the workspace and environment to the root of the project geodatabase\n",
    "arcpy.env.workspace = gdbPath\n",
    "workspace = arcpy.env.workspace\n",
    "\n",
    "# Current ArcGIS workspace (arcpy)\n",
    "arcpy.env.workspace = gdbPath\n",
    "workspace = arcpy.env.workspace\n",
    "\n",
    "# Enable overwriting existing outputs\n",
    "arcpy.env.overwriteOutput = True\n",
    "\n",
    "# Disable adding outputs to map\n",
    "arcpy.env.addOutputsToMap = False"
   ]
  },
  {
   "cell_type": "markdown",
   "metadata": {},
   "source": [
    "<h2 style=\"font-weight:bold; color:dodgerblue; border-bottom: 1px solid dodgerblue; padding-left: 25px\">1.4. Map and Layout Lists</h2>"
   ]
  },
  {
   "cell_type": "markdown",
   "metadata": {},
   "source": [
    "<h3 style=\"font-weight:bold; color:lime; padding-left: 50px\">Project Maps</h3>"
   ]
  },
  {
   "cell_type": "code",
   "execution_count": null,
   "metadata": {},
   "outputs": [],
   "source": [
    "# List of maps to be created for the project\n",
    "mapList = [\"collisions\", \"crashes\", \"parties\", \"victims\", \"injuries\", \"fatalities\", \"fhs100m1km\", \"fhs150m2km\", \"fhs100m5km\", \"fhsRoads500ft\", \"ohsRoads500ft\", \"roadCrashes\",\n",
    "           \"roadHotspots\", \"roadBuffers\", \"roadSegments\", \"roads\", \"pointFhs\", \"pointOhs\", \"popDens\", \"houDens\", \"areaCities\", \"areaBlocks\", \"summaries\", \"analysis\", \"regression\"]"
   ]
  },
  {
   "cell_type": "markdown",
   "metadata": {},
   "source": [
    "<h3 style=\"font-weight:bold; color:lime; padding-left: 50px\">Project Layouts</h3>"
   ]
  },
  {
   "cell_type": "code",
   "execution_count": null,
   "metadata": {},
   "outputs": [],
   "source": [
    "# List or layouts to be created for the project\n",
    "layoutList = [\"maps\", \"injuries\", \"hotspots\", \"roads\", \"points\", \"densities\", \"areas\"]"
   ]
  },
  {
   "cell_type": "markdown",
   "metadata": {},
   "source": [
    "<h2 style=\"font-weight:bold; color:dodgerblue; border-bottom: 1px solid dodgerblue; padding-left: 25px\">1.5. Clean Up Data</h2>"
   ]
  },
  {
   "cell_type": "markdown",
   "metadata": {},
   "source": [
    "<h3 style=\"font-weight:bold; color:lime; padding-left: 50px\">Delete Feature Classes</h3>"
   ]
  },
  {
   "cell_type": "markdown",
   "metadata": {},
   "source": [
    "Clean up the feature classes in the geodatabase for the Analysis and Hotspot Feature Datasets"
   ]
  },
  {
   "cell_type": "code",
   "execution_count": null,
   "metadata": {},
   "outputs": [],
   "source": [
    "for d in [\"AnalysisData\", \"HotSpotData\"]:\n",
    "    print(f\"Dataset: {d}\")\n",
    "    for f in arcpy.ListFeatureClasses(feature_dataset = d):\n",
    "        print(f\"- Removing {f} feature class from the project...\")\n",
    "        arcpy.management.Delete(f)"
   ]
  },
  {
   "cell_type": "markdown",
   "metadata": {},
   "source": [
    "<h3 style=\"font-weight:bold; color:lime; padding-left: 50px\">Delete Maps</h3>"
   ]
  },
  {
   "cell_type": "markdown",
   "metadata": {},
   "source": [
    "Clean up the maps in the project structure"
   ]
  },
  {
   "cell_type": "code",
   "execution_count": null,
   "metadata": {},
   "outputs": [],
   "source": [
    "for m in aprx.listMaps():\n",
    "    print(f\"- Removing {m.name} map from the project...\")\n",
    "    aprx.deleteItem(m)"
   ]
  },
  {
   "cell_type": "markdown",
   "metadata": {},
   "source": [
    "<h3 style=\"font-weight:bold; color:lime; padding-left: 50px\">Delete Layouts</h3>"
   ]
  },
  {
   "cell_type": "markdown",
   "metadata": {},
   "source": [
    "Clean up the layouts in the project structure"
   ]
  },
  {
   "cell_type": "code",
   "execution_count": null,
   "metadata": {},
   "outputs": [],
   "source": [
    "for l in aprx.listLayouts():\n",
    "    print(f\"- Removing {l.name} layout from the project...\")\n",
    "    aprx.deleteItem(l)"
   ]
  },
  {
   "cell_type": "markdown",
   "metadata": {},
   "source": [
    "<h3 style=\"font-weight:bold; color:lime; padding-left: 50px\">Save Project</h3>"
   ]
  },
  {
   "cell_type": "code",
   "execution_count": null,
   "metadata": {},
   "outputs": [],
   "source": [
    "# Save the project\n",
    "aprx.save()"
   ]
  },
  {
   "cell_type": "markdown",
   "metadata": {},
   "source": [
    "<h1 style=\"font-weight:bold; color:orangered; border-bottom: 2px solid orangered\">2. Geodatabase Operations</h1>"
   ]
  },
  {
   "cell_type": "markdown",
   "metadata": {},
   "source": [
    "<h2 style=\"font-weight:bold; color:dodgerblue; border-bottom: 1px solid dodgerblue; padding-left: 25px\">2.1. Raw Data Feature Classes</h2>"
   ]
  },
  {
   "cell_type": "markdown",
   "metadata": {},
   "source": [
    "<h3 style=\"font-weight:bold; color:lime; padding-left: 50px\">Feature Class Paths</h3>"
   ]
  },
  {
   "cell_type": "markdown",
   "metadata": {},
   "source": [
    "Paths to raw data geodatabase feature classes"
   ]
  },
  {
   "cell_type": "code",
   "execution_count": null,
   "metadata": {},
   "outputs": [],
   "source": [
    "# Paths to raw data feature classes\n",
    "victims = os.path.join(gdbRawData, \"victims\")\n",
    "parties = os.path.join(gdbRawData, \"parties\")\n",
    "crashes = os.path.join(gdbRawData, \"crashes\")\n",
    "collisions = os.path.join(gdbRawData, \"collisions\")"
   ]
  },
  {
   "cell_type": "markdown",
   "metadata": {},
   "source": [
    "<h3 style=\"font-weight:bold; color:lime; padding-left: 50px\">Feature Class Fields</h3>"
   ]
  },
  {
   "cell_type": "markdown",
   "metadata": {},
   "source": [
    "Obtain a list of fields for each raw data geodatabase feature class"
   ]
  },
  {
   "cell_type": "code",
   "execution_count": null,
   "metadata": {},
   "outputs": [],
   "source": [
    "# Fields for the raw data feature classes\n",
    "victimsFields = [f.name for f in arcpy.ListFields(victims)] # victims field list\n",
    "partiesFields = [f.name for f in arcpy.ListFields(parties)] # parties field list\n",
    "crashesFields = [f.name for f in arcpy.ListFields(crashes)] # crashes field list\n",
    "collisionsFields = [f.name for f in arcpy.ListFields(collisions)] # collisions field list"
   ]
  },
  {
   "cell_type": "markdown",
   "metadata": {},
   "source": [
    "<h3 style=\"font-weight:bold; color:lime; padding-left: 50px\">Row Counts</h3>"
   ]
  },
  {
   "cell_type": "markdown",
   "metadata": {},
   "source": [
    "Count rows in each of the raw data geodatabase feature classes"
   ]
  },
  {
   "cell_type": "code",
   "execution_count": null,
   "metadata": {},
   "outputs": [],
   "source": [
    "# Get the count for the raw data feature classes\n",
    "victimsCount = int(arcpy.management.GetCount(victims)[0])\n",
    "partiesCount = int(arcpy.management.GetCount(parties)[0])\n",
    "crashesCount = int(arcpy.management.GetCount(crashes)[0])\n",
    "collisionsCount = int(arcpy.management.GetCount(collisions)[0])\n",
    "\n",
    "print(f\"\\nRaw Data Counts:\\n- Victims: {victimsCount:,}\\n- Parties: {partiesCount:,}\\n- Crashes: {crashesCount:,}\\n- Collisions: {collisionsCount:,}\")"
   ]
  },
  {
   "cell_type": "markdown",
   "metadata": {},
   "source": [
    "<h3 style=\"font-weight:bold; color:lime; padding-left: 50px\">Collisions Feature Class Aliases</h3>"
   ]
  },
  {
   "cell_type": "markdown",
   "metadata": {},
   "source": [
    "Adding feature class alias for the collisions feature class"
   ]
  },
  {
   "cell_type": "code",
   "execution_count": null,
   "metadata": {},
   "outputs": [],
   "source": [
    "# Collisions feature class alias\n",
    "collisionsAlias = \"OCSWITRS Collisions\"\n",
    "\n",
    "# Collisions feature class\n",
    "arcpy.AlterAliasName(collisions, collisionsAlias)\n",
    "print(f\"Collisions: {arcpy.GetMessages()}\")"
   ]
  },
  {
   "cell_type": "markdown",
   "metadata": {},
   "source": [
    "Adding field aliases to the collisions feature class"
   ]
  },
  {
   "cell_type": "code",
   "execution_count": null,
   "metadata": {},
   "outputs": [],
   "source": [
    "# Collisions field aliases\n",
    "for f in collisionsFields:\n",
    "    if f in list(codebook.keys()):\n",
    "        print(f\"\\tMatch {codebook[f]['varOrder']}: {f} ({codebook[f]['label']})\")\n",
    "        arcpy.management.AlterField(\n",
    "            in_table = collisions,\n",
    "            field = f,\n",
    "            new_field_alias = codebook[f]['label']\n",
    "        )\n",
    "print(arcpy.GetMessages())"
   ]
  },
  {
   "cell_type": "markdown",
   "metadata": {},
   "source": [
    "<h3 style=\"font-weight:bold; color:lime; padding-left: 50px\">Crashes Feature Class Aliases</h3>"
   ]
  },
  {
   "cell_type": "markdown",
   "metadata": {},
   "source": [
    "Adding feature class alias for the crashes feature class"
   ]
  },
  {
   "cell_type": "code",
   "execution_count": null,
   "metadata": {},
   "outputs": [],
   "source": [
    "# Crashes feature class alias\n",
    "crashesAlias = \"OCSWITRS Crashes\"\n",
    "\n",
    "# Crashes feature class\n",
    "arcpy.AlterAliasName(crashes, crashesAlias)\n",
    "print(f\"Crashes: {arcpy.GetMessages()}\")"
   ]
  },
  {
   "cell_type": "markdown",
   "metadata": {},
   "source": [
    "Adding field aliases to the crashes feature class"
   ]
  },
  {
   "cell_type": "code",
   "execution_count": null,
   "metadata": {},
   "outputs": [],
   "source": [
    "# Crashes field aliases\n",
    "for f in crashesFields:\n",
    "    if f in list(codebook.keys()):\n",
    "        print(f\"\\tMatch {codebook[f]['varOrder']}: {f} ({codebook[f]['label']})\")\n",
    "        arcpy.management.AlterField(\n",
    "            in_table = crashes,\n",
    "            field = f,\n",
    "            new_field_alias = codebook[f]['label']\n",
    "        )\n",
    "print(arcpy.GetMessages())"
   ]
  },
  {
   "cell_type": "markdown",
   "metadata": {},
   "source": [
    "<h3 style=\"font-weight:bold; color:lime; padding-left: 50px\">Parties Feature Class Aliases</h3>"
   ]
  },
  {
   "cell_type": "markdown",
   "metadata": {},
   "source": [
    "Adding feature class alias for the parties feature class"
   ]
  },
  {
   "cell_type": "code",
   "execution_count": null,
   "metadata": {},
   "outputs": [],
   "source": [
    "# Parties feature class alias\n",
    "partiesAlias = \"OCSWITRS Parties\"\n",
    "\n",
    "# Parties feature class\n",
    "arcpy.AlterAliasName(parties, partiesAlias)\n",
    "print(f\"Parties: {arcpy.GetMessages()}\")"
   ]
  },
  {
   "cell_type": "markdown",
   "metadata": {},
   "source": [
    "Adding field aliases to the parties feature class"
   ]
  },
  {
   "cell_type": "code",
   "execution_count": null,
   "metadata": {},
   "outputs": [],
   "source": [
    "# Parties field aliases\n",
    "for f in partiesFields:\n",
    "    if f in list(codebook.keys()):\n",
    "        print(f\"\\tMatch {codebook[f]['varOrder']}: {f} ({codebook[f]['label']})\")\n",
    "        arcpy.management.AlterField(\n",
    "            in_table = parties,\n",
    "            field = f,\n",
    "            new_field_alias = codebook[f]['label']\n",
    "        )\n",
    "print(arcpy.GetMessages())"
   ]
  },
  {
   "cell_type": "markdown",
   "metadata": {},
   "source": [
    "<h3 style=\"font-weight:bold; color:lime; padding-left: 50px\">Victims Feature Class Aliases</h3>"
   ]
  },
  {
   "cell_type": "markdown",
   "metadata": {},
   "source": [
    "Adding feature class alias for the victims feature class"
   ]
  },
  {
   "cell_type": "code",
   "execution_count": null,
   "metadata": {},
   "outputs": [],
   "source": [
    "# Victims feature class alias\n",
    "victimsAlias = \"OCSWITRS Victims\"\n",
    "\n",
    "# Victims feature class\n",
    "arcpy.AlterAliasName(victims, victimsAlias)\n",
    "print(f\"Victims: {arcpy.GetMessages()}\")"
   ]
  },
  {
   "cell_type": "markdown",
   "metadata": {},
   "source": [
    "Adding field aliases to the victims feature class"
   ]
  },
  {
   "cell_type": "code",
   "execution_count": null,
   "metadata": {},
   "outputs": [],
   "source": [
    "# Victims field aliases\n",
    "for f in victimsFields:\n",
    "    if f in list(codebook.keys()):\n",
    "        print(f\"\\tMatch {codebook[f]['varOrder']}: {f} ({codebook[f]['label']})\")\n",
    "        arcpy.management.AlterField(\n",
    "            in_table = victims,\n",
    "            field = f,\n",
    "            new_field_alias = codebook[f]['label']\n",
    "        )\n",
    "print(arcpy.GetMessages())"
   ]
  },
  {
   "cell_type": "markdown",
   "metadata": {},
   "source": [
    "<h2 style=\"font-weight:bold; color:dodgerblue; border-bottom: 1px solid dodgerblue; padding-left: 25px\">2.2. Supporting Data Feature Classes</h2>"
   ]
  },
  {
   "cell_type": "markdown",
   "metadata": {},
   "source": [
    "<h3 style=\"font-weight:bold; color:lime; padding-left: 50px\">Feature Class Paths</h3>"
   ]
  },
  {
   "cell_type": "markdown",
   "metadata": {},
   "source": [
    "Paths to the supporting data geodatabase feature classes"
   ]
  },
  {
   "cell_type": "code",
   "execution_count": null,
   "metadata": {},
   "outputs": [],
   "source": [
    "# Paths to supporting data feature classes\n",
    "boundaries = os.path.join(gdbSupportingData, \"boundaries\")\n",
    "cities = os.path.join(gdbSupportingData, \"cities\")\n",
    "censusBlocks = os.path.join(gdbSupportingData, \"censusBlocks\")\n",
    "roads = os.path.join(gdbSupportingData, \"roads\")"
   ]
  },
  {
   "cell_type": "markdown",
   "metadata": {},
   "source": [
    "<h3 style=\"font-weight:bold; color:lime; padding-left: 50px\">Feature Class Fields</h3>"
   ]
  },
  {
   "cell_type": "markdown",
   "metadata": {},
   "source": [
    "Obtain the list fields of the supporting data geodatabase feature classes"
   ]
  },
  {
   "cell_type": "code",
   "execution_count": null,
   "metadata": {},
   "outputs": [],
   "source": [
    "# Fields for the supporting data feature classes\n",
    "boundariesFields = [f.name for f in arcpy.ListFields(boundaries)] # boundaries field list\n",
    "citiesFields = [f.name for f in arcpy.ListFields(cities)] # cities field list\n",
    "censusBlocksFields = [f.name for f in arcpy.ListFields(censusBlocks)] # censusBlocks field list\n",
    "roadsFields = [f.name for f in arcpy.ListFields(roads)] # roads field list"
   ]
  },
  {
   "cell_type": "markdown",
   "metadata": {},
   "source": [
    "<h3 style=\"font-weight:bold; color:lime; padding-left: 50px\">Row Counts</h3>"
   ]
  },
  {
   "cell_type": "markdown",
   "metadata": {},
   "source": [
    "Count rows in each of the supporting data geodatabase feature classes"
   ]
  },
  {
   "cell_type": "code",
   "execution_count": null,
   "metadata": {},
   "outputs": [],
   "source": [
    "# Get the count for the supporting data feature classes\n",
    "boundariesCount = int(arcpy.management.GetCount(boundaries)[0])\n",
    "citiesCount = int(arcpy.management.GetCount(cities)[0])\n",
    "censusBlocksCount = int(arcpy.management.GetCount(censusBlocks)[0])\n",
    "roadsCount = int(arcpy.management.GetCount(roads)[0])\n",
    "\n",
    "# Print the counts\n",
    "print(f\"Supporting Data Counts:\\n- Boundaries: {boundariesCount:,}\\n- Cities: {citiesCount:,}\\n- Census Blocks: {censusBlocksCount:,}\\n- Roads: {roadsCount:,}\")"
   ]
  },
  {
   "cell_type": "markdown",
   "metadata": {},
   "source": [
    "<h3 style=\"font-weight:bold; color:lime; padding-left: 50px\">Roads Feature Class</h3>"
   ]
  },
  {
   "cell_type": "markdown",
   "metadata": {},
   "source": [
    "Adding feature class alias for the roads feature class"
   ]
  },
  {
   "cell_type": "code",
   "execution_count": null,
   "metadata": {},
   "outputs": [],
   "source": [
    "# Roads feature class alias\n",
    "roadsAlias = \"OCSWITRS Roads\"\n",
    "\n",
    "# Roads feature class\n",
    "arcpy.AlterAliasName(roads, roadsAlias)\n",
    "print(f\"Roads: {arcpy.GetMessages()}\")"
   ]
  },
  {
   "cell_type": "markdown",
   "metadata": {},
   "source": [
    "Adding field aliases to the roads feature class"
   ]
  },
  {
   "cell_type": "code",
   "execution_count": null,
   "metadata": {},
   "outputs": [],
   "source": [
    "# Roads field aliases\n",
    "for f in roadsFields:\n",
    "    if f in list(codebook.keys()):\n",
    "        print(f\"\\tMatch {codebook[f]['varOrder']}: {f} ({codebook[f]['label']})\")\n",
    "        arcpy.management.AlterField(\n",
    "            in_table = roads,\n",
    "            field = f,\n",
    "            new_field_alias = codebook[f]['label']\n",
    "        )\n",
    "print(arcpy.GetMessages())"
   ]
  },
  {
   "cell_type": "markdown",
   "metadata": {},
   "source": [
    "<h3 style=\"font-weight:bold; color:lime; padding-left: 50px\">Census Blocks Feature Class</h3>"
   ]
  },
  {
   "cell_type": "markdown",
   "metadata": {},
   "source": [
    "Adding feature class alias for the census blocks feature class"
   ]
  },
  {
   "cell_type": "code",
   "execution_count": null,
   "metadata": {},
   "outputs": [],
   "source": [
    "# Census Blocks feature class alias\n",
    "censusBlocksAlias = \"OCSWITRS Census Blocks\"\n",
    "\n",
    "# Census Blocks feature class\n",
    "arcpy.AlterAliasName(censusBlocks, censusBlocksAlias)\n",
    "print(f\"USC 2020 Census Blocks: {arcpy.GetMessages()}\")"
   ]
  },
  {
   "cell_type": "markdown",
   "metadata": {},
   "source": [
    "Adding field aliases to the census blocks feature class"
   ]
  },
  {
   "cell_type": "code",
   "execution_count": null,
   "metadata": {},
   "outputs": [],
   "source": [
    "# Census Blocks field aliases\n",
    "for f in censusBlocksFields:\n",
    "    if f in list(codebook.keys()):\n",
    "        print(f\"\\tMatch {codebook[f]['varOrder']}: {f} ({codebook[f]['label']})\")\n",
    "        arcpy.management.AlterField(\n",
    "            in_table = censusBlocks,\n",
    "            field = f,\n",
    "            new_field_alias = codebook[f]['label']\n",
    "        )\n",
    "print(arcpy.GetMessages())"
   ]
  },
  {
   "cell_type": "markdown",
   "metadata": {},
   "source": [
    "<h3 style=\"font-weight:bold; color:lime; padding-left: 50px\">Cities Feature Class</h3>"
   ]
  },
  {
   "cell_type": "markdown",
   "metadata": {},
   "source": [
    "Adding feature class alias for the cities feature class"
   ]
  },
  {
   "cell_type": "code",
   "execution_count": null,
   "metadata": {},
   "outputs": [],
   "source": [
    "# Cities feature class alias\n",
    "citiesAlias = \"OCSWITRS Cities\"\n",
    "\n",
    "# Cities feature class\n",
    "arcpy.AlterAliasName(cities, citiesAlias)\n",
    "print(f\"Cities: {arcpy.GetMessages()}\")"
   ]
  },
  {
   "cell_type": "markdown",
   "metadata": {},
   "source": [
    "Adding field aliases to the cities feature class"
   ]
  },
  {
   "cell_type": "code",
   "execution_count": null,
   "metadata": {},
   "outputs": [],
   "source": [
    "# Cities field aliases\n",
    "for f in citiesFields:\n",
    "    if f in list(codebook.keys()):\n",
    "        print(f\"\\tMatch {codebook[f]['varOrder']}: {f} ({codebook[f]['label']})\")\n",
    "        arcpy.management.AlterField(\n",
    "            in_table = cities,\n",
    "            field = f,\n",
    "            new_field_alias = codebook[f]['label']\n",
    "        )\n",
    "print(arcpy.GetMessages())"
   ]
  },
  {
   "cell_type": "markdown",
   "metadata": {},
   "source": [
    "<h3 style=\"font-weight:bold; color:lime; padding-left: 50px\">Boundaries Feature Class</h3>"
   ]
  },
  {
   "cell_type": "markdown",
   "metadata": {},
   "source": [
    "Adding feature class alias for the boundaries feature class"
   ]
  },
  {
   "cell_type": "code",
   "execution_count": null,
   "metadata": {},
   "outputs": [],
   "source": [
    "# Boundaries feature class alias\n",
    "boundariesAlias = \"OCSWITRS Boundaries\"\n",
    "\n",
    "# Boundaries feature class\n",
    "arcpy.AlterAliasName(boundaries, boundariesAlias)\n",
    "print(f\"Boundaries: {arcpy.GetMessages()}\")"
   ]
  },
  {
   "cell_type": "markdown",
   "metadata": {},
   "source": [
    "<h3 style=\"font-weight:bold; color:lime; padding-left: 50px\">Save Project</h3>"
   ]
  },
  {
   "cell_type": "code",
   "execution_count": null,
   "metadata": {},
   "outputs": [],
   "source": [
    "# Save the project\n",
    "aprx.save()"
   ]
  },
  {
   "cell_type": "markdown",
   "metadata": {},
   "source": [
    "<h2 style=\"font-weight:bold; color:dodgerblue; border-bottom: 1px solid dodgerblue; padding-left: 25px\">2.3. Data Enrichment Feature Classes</h2>"
   ]
  },
  {
   "cell_type": "markdown",
   "metadata": {},
   "source": [
    "<h3 style=\"font-weight:bold; color:lime; padding-left: 50px\">Feature Class Paths</h3>"
   ]
  },
  {
   "cell_type": "code",
   "execution_count": null,
   "metadata": {},
   "outputs": [],
   "source": [
    "collisions1 = os.path.join(gdbRawData, \"collisions1\")"
   ]
  },
  {
   "cell_type": "markdown",
   "metadata": {},
   "source": [
    "<h3 style=\"font-weight:bold; color:lime; padding-left: 50px\">Feature Class Joins</h3>"
   ]
  },
  {
   "cell_type": "markdown",
   "metadata": {},
   "source": []
  },
  {
   "cell_type": "code",
   "execution_count": null,
   "metadata": {},
   "outputs": [],
   "source": [
    "# Join the collisions feature class with the censusBlocks feature class\n",
    "arcpy.analysis.SpatialJoin(\n",
    "    target_features = collisions,\n",
    "    join_features = censusBlocks,\n",
    "    out_feature_class = collisions1,\n",
    "    join_operation = \"JOIN_ONE_TO_ONE\",\n",
    "    join_type = \"KEEP_ALL\",\n",
    "    match_option = \"INTERSECT\",\n",
    "    search_radius = None,\n",
    "    distance_field_name = None,\n",
    "    match_fields = None\n",
    ")\n",
    "\n"
   ]
  },
  {
   "cell_type": "code",
   "execution_count": null,
   "metadata": {},
   "outputs": [],
   "source": [
    "arcpy.analysis.SpatialJoin(\n",
    "    target_features=\"OCSWITRS Crashes\",\n",
    "    join_features=\"OCSWITRS Census Blocks\",\n",
    "    out_feature_class=r\"C:\\Users\\ktalexan\\AppData\\Local\\Temp\\ArcGISProTemp25272\\Untitled\\Default.gdb\\OCSWITRSCrashes_SpatialJoin\",\n",
    "    join_operation=\"JOIN_ONE_TO_ONE\",\n",
    "    join_type=\"KEEP_ALL\",\n",
    "    field_mapping='caseId \"Case ID\" true true false 4 Long 0 0,First,#,OCSWITRS Crashes,caseId,-1,-1;cid \"Crash ID\" true true false 255 Text 0 0,First,#,OCSWITRS Crashes,cid,0,254;crashTag \"Crash Tag\" true true false 8 Double 0 0,First,#,OCSWITRS Crashes,crashTag,-1,-1;crashesCaseTag \"Crashes Tag\" true true false 4 Long 0 0,First,#,OCSWITRS Crashes,crashesCaseTag,-1,-1;crashesCidCount \"Total Collisions in Crashes Dataset\" true true false 4 Long 0 0,First,#,OCSWITRS Crashes,crashesCidCount,-1,-1;city \"City\" true true false 255 Text 0 0,First,#,OCSWITRS Crashes,city,0,254;dateDatetime \"Crash Date and Time\" true true false 8 Date 0 0,First,#,OCSWITRS Crashes,dateDatetime,-1,-1;dateYear \"Crash Year\" true true false 8 Date 0 0,First,#,OCSWITRS Crashes,dateYear,-1,-1;dateQuarter \"Crash Quarter\" true true false 8 Date 0 0,First,#,OCSWITRS Crashes,dateQuarter,-1,-1;dateMonth \"Crash Month\" true true false 8 Date 0 0,First,#,OCSWITRS Crashes,dateMonth,-1,-1;dateWeek \"Crash Week\" true true false 8 Date 0 0,First,#,OCSWITRS Crashes,dateWeek,-1,-1;dateDay \"Crash Day\" true true false 8 Date 0 0,First,#,OCSWITRS Crashes,dateDay,-1,-1;dateProcess \"Process Date\" true true false 8 Date 0 0,First,#,OCSWITRS Crashes,dateProcess,-1,-1;dtYear \"Crash Year\" true true false 4 Long 0 0,First,#,OCSWITRS Crashes,dtYear,-1,-1;dtQuarter \"Crash Quarter\" true true false 255 Text 0 0,First,#,OCSWITRS Crashes,dtQuarter,0,254;dtMonth \"Crash Month\" true true false 255 Text 0 0,First,#,OCSWITRS Crashes,dtMonth,0,254;dtYearWeek \"Crash Year Week\" true true false 4 Long 0 0,First,#,OCSWITRS Crashes,dtYearWeek,-1,-1;dtWeekDay \"Crash Weekday\" true true false 255 Text 0 0,First,#,OCSWITRS Crashes,dtWeekDay,0,254;dtMonthDay \"Crash Month Day\" true true false 4 Long 0 0,First,#,OCSWITRS Crashes,dtMonthDay,-1,-1;dtYearDay \"Crash Year Day\" true true false 4 Long 0 0,First,#,OCSWITRS Crashes,dtYearDay,-1,-1;dtHour \"Crash Hour\" true true false 4 Long 0 0,First,#,OCSWITRS Crashes,dtHour,-1,-1;dtMinute \"Crash Minute\" true true false 4 Long 0 0,First,#,OCSWITRS Crashes,dtMinute,-1,-1;dtDst \"Crash Daylight Saving Time\" true true false 255 Text 0 0,First,#,OCSWITRS Crashes,dtDst,0,254;dtZone \"Crash Time Zone\" true true false 255 Text 0 0,First,#,OCSWITRS Crashes,dtZone,0,254;collDate \"Collision Date Reported\" true true false 255 Text 0 0,First,#,OCSWITRS Crashes,collDate,0,254;collTime \"Collision Time Reported\" true true false 4 Long 0 0,First,#,OCSWITRS Crashes,collTime,-1,-1;accidentYear \"Crash Year\" true true false 4 Long 0 0,First,#,OCSWITRS Crashes,accidentYear,-1,-1;processDate \"Processing Date\" true true false 255 Text 0 0,First,#,OCSWITRS Crashes,processDate,0,254;collTimeIntervals \"Crash Time Intervals\" true true false 255 Text 0 0,First,#,OCSWITRS Crashes,collTimeIntervals,0,254;rushHours \"Rush Hours\" true true false 255 Text 0 0,First,#,OCSWITRS Crashes,rushHours,0,254;rushHoursBin \"Rush Hours Binary\" true true false 255 Text 0 0,First,#,OCSWITRS Crashes,rushHoursBin,0,254;collSeverity \"Collision Severity\" true true false 255 Text 0 0,First,#,OCSWITRS Crashes,collSeverity,0,254;collSeverityNum \"Collision Severity Numeric\" true true false 4 Long 0 0,First,#,OCSWITRS Crashes,collSeverityNum,-1,-1;collSeverityBin \"Collision Severity Binary\" true true false 255 Text 0 0,First,#,OCSWITRS Crashes,collSeverityBin,0,254;collSeverityRank \"Collision Severity Rank\" true true false 255 Text 0 0,First,#,OCSWITRS Crashes,collSeverityRank,0,254;collSeverityRankNum \"Collision Severity Rank Numeric\" true true false 4 Long 0 0,First,#,OCSWITRS Crashes,collSeverityRankNum,-1,-1;indSevere \"Severe Injury Indicator\" true true false 255 Text 0 0,First,#,OCSWITRS Crashes,indSevere,0,254;indFatal \"Fatal Injury Indicator\" true true false 255 Text 0 0,First,#,OCSWITRS Crashes,indFatal,0,254;indMulti \"Multiple Injury Indicator\" true true false 255 Text 0 0,First,#,OCSWITRS Crashes,indMulti,0,254;partyCount \"Party Count\" true true false 4 Long 0 0,First,#,OCSWITRS Crashes,partyCount,-1,-1;victimCount \"Victim Count\" true true false 4 Long 0 0,First,#,OCSWITRS Crashes,victimCount,-1,-1;numberKilled \"Killed Victims\" true true false 4 Long 0 0,First,#,OCSWITRS Crashes,numberKilled,-1,-1;numberInj \"Injured Victims\" true true false 4 Long 0 0,First,#,OCSWITRS Crashes,numberInj,-1,-1;countSevereInj \"Severe Injury Count\" true true false 4 Long 0 0,First,#,OCSWITRS Crashes,countSevereInj,-1,-1;countVisibleInj \"Visible Injury Count\" true true false 4 Long 0 0,First,#,OCSWITRS Crashes,countVisibleInj,-1,-1;countComplaintPain \"Complaint of Pain Injury Count\" true true false 4 Long 0 0,First,#,OCSWITRS Crashes,countComplaintPain,-1,-1;countCarKilled \"Number of Killed Car Victims\" true true false 4 Long 0 0,First,#,OCSWITRS Crashes,countCarKilled,-1,-1;countCarInj \"Number of Injured Car Victims\" true true false 4 Long 0 0,First,#,OCSWITRS Crashes,countCarInj,-1,-1;countPedKilled \"Pedestrian Killed Count\" true true false 4 Long 0 0,First,#,OCSWITRS Crashes,countPedKilled,-1,-1;countPedInj \"Pedestrian Injury Count\" true true false 4 Long 0 0,First,#,OCSWITRS Crashes,countPedInj,-1,-1;countBicKilled \"Bicyclist Killed Count\" true true false 4 Long 0 0,First,#,OCSWITRS Crashes,countBicKilled,-1,-1;countBicInj \"Bicyclist Injury Count\" true true false 4 Long 0 0,First,#,OCSWITRS Crashes,countBicInj,-1,-1;countMcKilled \"Motorcyclist Killed Count\" true true false 4 Long 0 0,First,#,OCSWITRS Crashes,countMcKilled,-1,-1;countMcInj \"Motorcyclist Injury Count\" true true false 4 Long 0 0,First,#,OCSWITRS Crashes,countMcInj,-1,-1;primaryCollFactor \"Primary Collision Factor\" true true false 255 Text 0 0,First,#,OCSWITRS Crashes,primaryCollFactor,0,254;typeOfColl \"Type of Crash\" true true false 255 Text 0 0,First,#,OCSWITRS Crashes,typeOfColl,0,254;pedAccident \"Pedestrian Crash\" true true false 255 Text 0 0,First,#,OCSWITRS Crashes,pedAccident,0,254;bicAccident \"Bicycle Crash\" true true false 255 Text 0 0,First,#,OCSWITRS Crashes,bicAccident,0,254;mcAccident \"Motorcycle Crash\" true true false 255 Text 0 0,First,#,OCSWITRS Crashes,mcAccident,0,254;truckAccident \"Truck Crash\" true true false 255 Text 0 0,First,#,OCSWITRS Crashes,truckAccident,0,254;hitAndRun \"Hit and Run\" true true false 255 Text 0 0,First,#,OCSWITRS Crashes,hitAndRun,0,254;hitAndRunBin \"Hit and Run Binary\" true true false 255 Text 0 0,First,#,OCSWITRS Crashes,hitAndRunBin,0,254;alcoholInvolved \"Alcohol Involved\" true true false 255 Text 0 0,First,#,OCSWITRS Crashes,alcoholInvolved,0,254;juris \"Jurisdiction\" true true false 255 Text 0 0,First,#,OCSWITRS Crashes,juris,0,254;officerId \"Officer ID\" true true false 255 Text 0 0,First,#,OCSWITRS Crashes,officerId,0,254;reportingDistrict \"Reporting District\" true true false 255 Text 0 0,First,#,OCSWITRS Crashes,reportingDistrict,0,254;chpShift \"CHP Shift\" true true false 255 Text 0 0,First,#,OCSWITRS Crashes,chpShift,0,254;cntyCityLoc \"County City Location\" true true false 255 Text 0 0,First,#,OCSWITRS Crashes,cntyCityLoc,0,254;specialCond \"Special Condition\" true true false 255 Text 0 0,First,#,OCSWITRS Crashes,specialCond,0,254;beatType \"Beat Type\" true true false 255 Text 0 0,First,#,OCSWITRS Crashes,beatType,0,254;chpBeatType \"CHP Beat Type\" true true false 255 Text 0 0,First,#,OCSWITRS Crashes,chpBeatType,0,254;chpBeatClass \"CHP Beat Class\" true true false 255 Text 0 0,First,#,OCSWITRS Crashes,chpBeatClass,0,254;beatNumber \"Beat Number\" true true false 255 Text 0 0,First,#,OCSWITRS Crashes,beatNumber,0,254;primaryRd \"Primary Road\" true true false 255 Text 0 0,First,#,OCSWITRS Crashes,primaryRd,0,254;secondaryRd \"Secondary Road\" true true false 255 Text 0 0,First,#,OCSWITRS Crashes,secondaryRd,0,254;distance \"Distance\" true true false 8 Double 0 0,First,#,OCSWITRS Crashes,distance,-1,-1;direction \"Direction\" true true false 255 Text 0 0,First,#,OCSWITRS Crashes,direction,0,254;intersection \"Intersection\" true true false 255 Text 0 0,First,#,OCSWITRS Crashes,intersection,0,254;weather1 \"Weather 1\" true true false 255 Text 0 0,First,#,OCSWITRS Crashes,weather1,0,254;weather2 \"Weather 2\" true true false 255 Text 0 0,First,#,OCSWITRS Crashes,weather2,0,254;weatherComb \"Combined Weather\" true true false 255 Text 0 0,First,#,OCSWITRS Crashes,weatherComb,0,254;roadSurface \"Road Surface\" true true false 255 Text 0 0,First,#,OCSWITRS Crashes,roadSurface,0,254;roadCond1 \"Road Condition 1\" true true false 255 Text 0 0,First,#,OCSWITRS Crashes,roadCond1,0,254;roadCond2 \"Road Condition 2\" true true false 255 Text 0 0,First,#,OCSWITRS Crashes,roadCond2,0,254;lighting \"Lighting\" true true false 255 Text 0 0,First,#,OCSWITRS Crashes,lighting,0,254;controlDevice \"Control Device\" true true false 255 Text 0 0,First,#,OCSWITRS Crashes,controlDevice,0,254;stateHwyInd \"State Highway Indicator\" true true false 255 Text 0 0,First,#,OCSWITRS Crashes,stateHwyInd,0,254;sideOfHwy \"Side of Highway\" true true false 255 Text 0 0,First,#,OCSWITRS Crashes,sideOfHwy,0,254;towAway \"Tow Away\" true true false 255 Text 0 0,First,#,OCSWITRS Crashes,towAway,0,254;pcfCodeOfViol \"PCF Violation Code\" true true false 255 Text 0 0,First,#,OCSWITRS Crashes,pcfCodeOfViol,0,254;pcfViolCategory \"PCF Violation Category\" true true false 255 Text 0 0,First,#,OCSWITRS Crashes,pcfViolCategory,0,254;pcfViolation \"PCF Violation\" true true false 255 Text 0 0,First,#,OCSWITRS Crashes,pcfViolation,0,254;pcfViolSubsection \"PCF Violation Subsection\" true true false 255 Text 0 0,First,#,OCSWITRS Crashes,pcfViolSubsection,0,254;mviw \"Motor Vehicle Involved With\" true true false 255 Text 0 0,First,#,OCSWITRS Crashes,mviw,0,254;pedAction \"Pedestrian Action\" true true false 255 Text 0 0,First,#,OCSWITRS Crashes,pedAction,0,254;notPrivateProperty \"Not Private Property\" true true false 255 Text 0 0,First,#,OCSWITRS Crashes,notPrivateProperty,0,254;stwdVehTypeAtFault \"Statewide Vehicle Type at Fault\" true true false 255 Text 0 0,First,#,OCSWITRS Crashes,stwdVehTypeAtFault,0,254;chpVehTypeAtFault \"CHP Vehicle Type at Fault\" true true false 255 Text 0 0,First,#,OCSWITRS Crashes,chpVehTypeAtFault,0,254;primaryRamp \"Primary Ramp\" true true false 255 Text 0 0,First,#,OCSWITRS Crashes,primaryRamp,0,254;secondaryRamp \"Secondary Ramp\" true true false 255 Text 0 0,First,#,OCSWITRS Crashes,secondaryRamp,0,254;latitude \"GPS Latitude\" true true false 8 Double 0 0,First,#,OCSWITRS Crashes,latitude,-1,-1;longitude \"GPS Longitude\" true true false 8 Double 0 0,First,#,OCSWITRS Crashes,longitude,-1,-1;pointX \"X Coordinate Location\" true true false 8 Double 0 0,First,#,OCSWITRS Crashes,pointX,-1,-1;pointY \"Y Coordinate Location\" true true false 8 Double 0 0,First,#,OCSWITRS Crashes,pointY,-1,-1;severityBin \"Severity Binary\" true true false 2 Short 0 0,First,#,OCSWITRS Crashes,severityBin,-1,-1;GEOID \"Geographic Identifier\" true true false 16 Text 0 0,First,#,OCSWITRS Census Blocks,GEOID,0,15;SUFFIX \"Suffix\" true true false 1 Text 0 0,First,#,OCSWITRS Census Blocks,SUFFIX,0,0;NAME \"Name\" true true false 11 Text 0 0,First,#,OCSWITRS Census Blocks,NAME,0,10;populationTotal \"Total Population\" true true false 4 Long 0 0,First,#,OCSWITRS Census Blocks,populationTotal,-1,-1;housingUnitsTotal \"Total Housing Units\" true true false 4 Long 0 0,First,#,OCSWITRS Census Blocks,housingUnitsTotal,-1,-1;householdsTotal \"Total Households\" true true false 4 Long 0 0,First,#,OCSWITRS Census Blocks,householdsTotal,-1,-1;housingUnitsVacant \"Vacant Housing Units\" true true false 4 Long 0 0,First,#,OCSWITRS Census Blocks,housingUnitsVacant,-1,-1;housingUnitsMortgage \"Housing Units with Mortgage\" true true false 4 Long 0 0,First,#,OCSWITRS Census Blocks,housingUnitsMortgage,-1,-1;howsingUnitsOwned \"Owned housing units free and clear\" true true false 4 Long 0 0,First,#,OCSWITRS Census Blocks,howsingUnitsOwned,-1,-1;housingUnitsRenterOccupied \"Renter Occupied Housing Units\" true true false 4 Long 0 0,First,#,OCSWITRS Census Blocks,housingUnitsRenterOccupied,-1,-1;vacancyRate \"Vacancy Rate\" true true false 8 Double 0 0,First,#,OCSWITRS Census Blocks,vacancyRate,-1,-1;housingUnitsOwnerOccupied \"Owner Occupied Housing Units\" true true false 4 Long 0 0,First,#,OCSWITRS Census Blocks,housingUnitsOwnerOccupied,-1,-1;homeownershipRate \"Homeownership Rate\" true true false 8 Double 0 0,First,#,OCSWITRS Census Blocks,homeownershipRate,-1,-1;populationDensity \"Population Density\" true true false 8 Double 0 0,First,#,OCSWITRS Census Blocks,populationDensity,-1,-1;housingDensity \"Housing Density\" true true false 8 Double 0 0,First,#,OCSWITRS Census Blocks,housingDensity,-1,-1',\n",
    "    match_option=\"INTERSECT\",\n",
    "    search_radius=None,\n",
    "    distance_field_name=\"\",\n",
    "    match_fields=None\n",
    ")"
   ]
  },
  {
   "cell_type": "markdown",
   "metadata": {},
   "source": [
    "<h2 style=\"font-weight:bold; color:dodgerblue; border-bottom: 1px solid dodgerblue; padding-left: 25px\">2.3. Analysis Data Feature Classes</h2>"
   ]
  },
  {
   "cell_type": "markdown",
   "metadata": {},
   "source": [
    "<h3 style=\"font-weight:bold; color:lime; padding-left: 50px\">Delete all Old Analysis Feature Classes</h3>"
   ]
  },
  {
   "cell_type": "markdown",
   "metadata": {},
   "source": [
    "Loop through all analysis data feature dataset and delete all feature classes"
   ]
  },
  {
   "cell_type": "code",
   "execution_count": null,
   "metadata": {},
   "outputs": [],
   "source": [
    "for f in arcpy.ListFeatureClasses(feature_dataset = \"AnalysisData\"):\n",
    "    print(f\"Deleting {f}...\")\n",
    "    arcpy.Delete_management(f)\n",
    "    print(arcpy.GetMessages())"
   ]
  },
  {
   "cell_type": "markdown",
   "metadata": {},
   "source": [
    "<h3 style=\"font-weight:bold; color:lime; padding-left: 50px\">Create Major Roads</h3>"
   ]
  },
  {
   "cell_type": "markdown",
   "metadata": {},
   "source": [
    "Separate the primary and secondary roads from the local roads"
   ]
  },
  {
   "cell_type": "code",
   "execution_count": null,
   "metadata": {},
   "outputs": [],
   "source": [
    "# Output feature class for the major roads\n",
    "roadsMajor = os.path.join(gdbAnalysisData, \"roadsMajor\")\n",
    "\n",
    "# Select the major (primary and secondary) roads from the roads feature class\n",
    "arcpy.analysis.Select(\n",
    "    in_features = roads,\n",
    "    out_feature_class = roadsMajor,\n",
    "    where_clause = \"roadCat = 'Primary' Or roadCat = 'Secondary'\"\n",
    ")\n",
    "print(arcpy.GetMessages())"
   ]
  },
  {
   "cell_type": "markdown",
   "metadata": {},
   "source": [
    "Add feature class alias for the major roads feature class"
   ]
  },
  {
   "cell_type": "code",
   "execution_count": null,
   "metadata": {},
   "outputs": [],
   "source": [
    "# Define the major roads layer alias and modify the feature class alias\n",
    "roadsMajorAlias = \"OCSWITRS Major Roads\"\n",
    "arcpy.AlterAliasName(roadsMajor, roadsMajorAlias)\n",
    "print(arcpy.GetMessages())"
   ]
  },
  {
   "cell_type": "markdown",
   "metadata": {},
   "source": [
    "Obtain the list of fields for the major roads feature class"
   ]
  },
  {
   "cell_type": "code",
   "execution_count": null,
   "metadata": {},
   "outputs": [],
   "source": [
    "roadsMajorFields = [f.name for f in arcpy.ListFields(roadsMajor)] # roadsMajor field list\n",
    "\n",
    "# Field Aliases for the major roads feature class\n",
    "for f in arcpy.ListFields(roadsMajor):\n",
    "    print(f\"{f.name} ({f.aliasName})\")"
   ]
  },
  {
   "cell_type": "markdown",
   "metadata": {},
   "source": [
    "<h3 style=\"font-weight:bold; color:lime; padding-left: 50px\">Create Major Road Buffers</h3>"
   ]
  },
  {
   "cell_type": "markdown",
   "metadata": {},
   "source": [
    "Create road buffers for the primary and secondary roads"
   ]
  },
  {
   "cell_type": "code",
   "execution_count": null,
   "metadata": {},
   "outputs": [],
   "source": [
    "# Output feature class for the major roads buffers\n",
    "roadsMajorBuffers = os.path.join(gdbAnalysisData, \"roadsMajorBuffers\")\n",
    "\n",
    "# Buffer the major roads feature class by 250 meters (on each side)\n",
    "arcpy.analysis.Buffer(\n",
    "    in_features = roadsMajor,\n",
    "    out_feature_class = roadsMajorBuffers,\n",
    "    buffer_distance_or_field = \"250 Meters\",\n",
    "    line_side = \"FULL\",\n",
    "    line_end_type = \"FLAT\",\n",
    "    dissolve_option = \"NONE\",\n",
    "    dissolve_field = None,\n",
    "    method = \"PLANAR\"\n",
    ")\n",
    "print(arcpy.GetMessages())"
   ]
  },
  {
   "cell_type": "markdown",
   "metadata": {},
   "source": [
    "Add feature class alias for the major road buffers feature class"
   ]
  },
  {
   "cell_type": "code",
   "execution_count": null,
   "metadata": {},
   "outputs": [],
   "source": [
    "# Define the major roads buffers layer alias and modify the feature class alias\n",
    "roadsMajorBuffersAlias = \"OCSWITRS Major Roads Buffers\"\n",
    "arcpy.AlterAliasName(roadsMajorBuffers, roadsMajorBuffersAlias)\n",
    "print(arcpy.GetMessages())"
   ]
  },
  {
   "cell_type": "markdown",
   "metadata": {},
   "source": [
    "Obtain the list of fields for the major road buffers feature class"
   ]
  },
  {
   "cell_type": "code",
   "execution_count": null,
   "metadata": {},
   "outputs": [],
   "source": [
    "roadsMajorBuffersFields = [f.name for f in arcpy.ListFields(roadsMajorBuffers)] # roadsMajorBuffers field list\n",
    "\n",
    "# Field Aliases for the major roads buffers feature class\n",
    "for f in arcpy.ListFields(roadsMajorBuffers):\n",
    "    print(f\"{f.name} ({f.aliasName})\")"
   ]
  },
  {
   "cell_type": "markdown",
   "metadata": {},
   "source": [
    "<h3 style=\"font-weight:bold; color:lime; padding-left: 50px\">Summarize Major Road Buffers</h3>"
   ]
  },
  {
   "cell_type": "markdown",
   "metadata": {},
   "source": [
    "Create a summary for each of the road buffers that contains statistics and counts of crash collision data"
   ]
  },
  {
   "cell_type": "code",
   "execution_count": null,
   "metadata": {},
   "outputs": [],
   "source": [
    "# Output feature class for the summarized major roads buffers\n",
    "roadsMajorBuffersSum = os.path.join(gdbAnalysisData, \"roadsMajorBuffersSum\")\n",
    "\n",
    "# Summarize the major roads buffers feature class by key crashes attributes\n",
    "arcpy.analysis.SummarizeWithin(\n",
    "    in_polygons = roadsMajorBuffers,\n",
    "    in_sum_features = crashes,\n",
    "    out_feature_class = roadsMajorBuffersSum,\n",
    "    keep_all_polygons = \"KEEP_ALL\",\n",
    "    sum_fields = [\n",
    "        [\"crashTag\", \"Sum\"], [\"partyCount\", \"Sum\"], [\"victimCount\", \"Sum\"], [\"numberKilled\", \"Sum\"], \n",
    "        [\"numberInj\", \"Sum\"], [\"countSevereInj\", \"Sum\"], [\"countVisibleInj\", \"Sum\"],\n",
    "        [\"countComplaintPain\", \"Sum\"], [\"countCarKilled\", \"Sum\"], [\"countCarInj\", \"Sum\"],\n",
    "        [\"countPedKilled\", \"Sum\"], [\"countPedInj\", \"Sum\"], [\"countBicKilled\", \"Sum\"],\n",
    "        [\"countBicInj\", \"Sum\"], [\"countMcKilled\", \"Sum\"], [\"countMcInj\", \"Sum\"],\n",
    "        [\"collSeverityNum\", \"Mean\"], [\"collSeverityRankNum\", \"Mean\"]\n",
    "    ]\n",
    ")\n",
    "print(arcpy.GetMessages())"
   ]
  },
  {
   "cell_type": "markdown",
   "metadata": {},
   "source": [
    "Add feature class alias for the summarized major road buffers feature class"
   ]
  },
  {
   "cell_type": "code",
   "execution_count": null,
   "metadata": {},
   "outputs": [],
   "source": [
    "# Define the major roads buffers summary layer alias and modify the feature class alias\n",
    "roadsMajorBuffersSumAlias = \"OCSWITRS Major Roads Buffers Summary\"\n",
    "arcpy.AlterAliasName(roadsMajorBuffersSum, roadsMajorBuffersSumAlias)\n",
    "print(arcpy.GetMessages())"
   ]
  },
  {
   "cell_type": "markdown",
   "metadata": {},
   "source": [
    "Obtain the fields for the summarized major road buffers feature class"
   ]
  },
  {
   "cell_type": "code",
   "execution_count": null,
   "metadata": {},
   "outputs": [],
   "source": [
    "roadsMajorBuffersSumFields = [f.name for f in arcpy.ListFields(roadsMajorBuffersSum)] # roadsMajorBuffersSum field list\n",
    "\n",
    "# Field Aliases for the major roads buffers summary feature class\n",
    "for f in arcpy.ListFields(roadsMajorBuffersSum):\n",
    "    print(f\"{f.name} ({f.aliasName})\")"
   ]
  },
  {
   "cell_type": "markdown",
   "metadata": {},
   "source": [
    "<h3 style=\"font-weight:bold; color:lime; padding-left: 50px\">Points 1,000 ft along major road lines</h3>"
   ]
  },
  {
   "cell_type": "markdown",
   "metadata": {},
   "source": [
    "Generate points every 1,000 feet along the major road lines"
   ]
  },
  {
   "cell_type": "code",
   "execution_count": null,
   "metadata": {},
   "outputs": [],
   "source": [
    "# Create a path for the new summarized major road buffers feature class\n",
    "roadsMajorPointsAlongLines = os.path.join(gdbAnalysisData, \"roadsMajorPointsAlongLines\")\n",
    "\n",
    "arcpy.management.GeneratePointsAlongLines(\n",
    "    Input_Features = roadsMajor,\n",
    "    Output_Feature_Class = roadsMajorPointsAlongLines,\n",
    "    Point_Placement = \"DISTANCE\",\n",
    "    Distance = \"1000 Feet\",\n",
    "    Percentage = None,\n",
    "    Include_End_Points = \"NO_END_POINTS\",\n",
    "    Add_Chainage_Fields = \"NO_CHAINAGE\",\n",
    "    Distance_Field=None,\n",
    "    Distance_Method = \"PLANAR\"\n",
    ")"
   ]
  },
  {
   "cell_type": "markdown",
   "metadata": {},
   "source": [
    "Add feature class alias for the points along major road lines feature class"
   ]
  },
  {
   "cell_type": "code",
   "execution_count": null,
   "metadata": {},
   "outputs": [],
   "source": [
    "# Define the major roads points along lines layer alias and modify the feature class alias\n",
    "roadsMajorPointsAlongLinesAlias = \"OCSWITRS Major Roads Points Along Lines\"\n",
    "arcpy.AlterAliasName(roadsMajorPointsAlongLines, roadsMajorPointsAlongLinesAlias)\n",
    "print(arcpy.GetMessages())"
   ]
  },
  {
   "cell_type": "markdown",
   "metadata": {},
   "source": [
    "Obtain the fields for the points along major road lines feature class"
   ]
  },
  {
   "cell_type": "code",
   "execution_count": null,
   "metadata": {},
   "outputs": [],
   "source": [
    "roadsMajorPointsAlongLinesFields = [f.name for f in arcpy.ListFields(roadsMajorPointsAlongLines)] # roadsMajorPointsAlongLines field list\n",
    "\n",
    "# Field Aliases for the major roads points along lines feature class\n",
    "for f in arcpy.ListFields(roadsMajorPointsAlongLines):\n",
    "    print(f\"{f.name} ({f.aliasName})\")"
   ]
  },
  {
   "cell_type": "markdown",
   "metadata": {},
   "source": [
    "<h3 style=\"font-weight:bold; color:lime; padding-left: 50px\">Split Road Segments 1,000ft apart</h3>"
   ]
  },
  {
   "cell_type": "markdown",
   "metadata": {},
   "source": [
    "Split road segments at the points (1,000 feet apart)"
   ]
  },
  {
   "cell_type": "code",
   "execution_count": null,
   "metadata": {},
   "outputs": [],
   "source": [
    "# Create a path for the new split major roads feature class\n",
    "roadsMajorSplit = os.path.join(gdbAnalysisData, \"roadsMajorSplit\")\n",
    "\n",
    "# Split the major roads at the points along the lines\n",
    "arcpy.management.SplitLineAtPoint(\n",
    "    in_features = roadsMajor,\n",
    "    point_features = roadsMajorPointsAlongLines,\n",
    "    out_feature_class = roadsMajorSplit,\n",
    "    search_radius = \"1000 Feet\"\n",
    ")"
   ]
  },
  {
   "cell_type": "markdown",
   "metadata": {},
   "source": [
    "Add feature class alias for the split road segments feature class"
   ]
  },
  {
   "cell_type": "code",
   "execution_count": null,
   "metadata": {},
   "outputs": [],
   "source": [
    "# Define the major roads split layer alias and modify the feature class alias\n",
    "roadsMajorSplitAlias = \"OCSWITRS Major Roads Split\"\n",
    "arcpy.AlterAliasName(roadsMajorSplit, roadsMajorSplitAlias)\n",
    "print(arcpy.GetMessages())"
   ]
  },
  {
   "cell_type": "markdown",
   "metadata": {},
   "source": [
    "Obtain the fields for the split road segments feature class"
   ]
  },
  {
   "cell_type": "code",
   "execution_count": null,
   "metadata": {},
   "outputs": [],
   "source": [
    "roadsMajorSplitFields = [f.name for f in arcpy.ListFields(roadsMajorSplit)] # roadsMajorSplit field list\n",
    "\n",
    "# Field Aliases for the major roads split feature class\n",
    "for f in arcpy.ListFields(roadsMajorSplit):\n",
    "    print(f\"{f.name} ({f.aliasName})\")"
   ]
  },
  {
   "cell_type": "markdown",
   "metadata": {},
   "source": [
    "<h3 style=\"font-weight:bold; color:lime; padding-left: 50px\">Buffers 500ft around road segments</h3>"
   ]
  },
  {
   "cell_type": "markdown",
   "metadata": {},
   "source": [
    "Create buffers (500 ft) around the road segments (1,000 feet)"
   ]
  },
  {
   "cell_type": "code",
   "execution_count": null,
   "metadata": {},
   "outputs": [],
   "source": [
    "# Create a path for the new split major roads feature class\n",
    "roadsMajorSplitBuffer = os.path.join(gdbAnalysisData, \"roadsMajorSplitBuffer\")\n",
    "\n",
    "# Buffer the split major roads by 500 feet\n",
    "arcpy.analysis.Buffer(\n",
    "    in_features = roadsMajorSplit,\n",
    "    out_feature_class = roadsMajorSplitBuffer,\n",
    "    buffer_distance_or_field = \"500 Feet\",\n",
    "    line_side = \"FULL\",\n",
    "    line_end_type = \"FLAT\",\n",
    "    dissolve_option = \"NONE\",\n",
    "    dissolve_field = None,\n",
    "    method = \"PLANAR\"\n",
    ")"
   ]
  },
  {
   "cell_type": "markdown",
   "metadata": {},
   "source": [
    "Add feature class alias for the road segment buffers feature class"
   ]
  },
  {
   "cell_type": "code",
   "execution_count": null,
   "metadata": {},
   "outputs": [],
   "source": [
    "# Define the major roads split buffer layer alias and modify the feature class alias\n",
    "roadsMajorSplitBufferAlias = \"OCSWITRS Major Roads Split Buffer\"\n",
    "arcpy.AlterAliasName(roadsMajorSplitBuffer, roadsMajorSplitBufferAlias)\n",
    "print(arcpy.GetMessages())"
   ]
  },
  {
   "cell_type": "markdown",
   "metadata": {},
   "source": [
    "Obtain the fields for the road segment buffers feature class"
   ]
  },
  {
   "cell_type": "code",
   "execution_count": null,
   "metadata": {},
   "outputs": [],
   "source": [
    "roadsMajorSplitBufferFields = [f.name for f in arcpy.ListFields(roadsMajorSplitBuffer)] # roadsMajorSplitBuffer field list\n",
    "\n",
    "# Field Aliases for the major roads split buffer feature class\n",
    "for f in arcpy.ListFields(roadsMajorSplitBuffer):\n",
    "    print(f\"{f.name} ({f.aliasName})\")"
   ]
  },
  {
   "cell_type": "markdown",
   "metadata": {},
   "source": [
    "<h3 style=\"font-weight:bold; color:lime; padding-left: 50px\">Summarize road segments buffers</h3>"
   ]
  },
  {
   "cell_type": "markdown",
   "metadata": {},
   "source": [
    "Summarize the crash collision data for each of the road segments"
   ]
  },
  {
   "cell_type": "code",
   "execution_count": null,
   "metadata": {},
   "outputs": [],
   "source": [
    "# Create a path for the new summarized major road buffers feature class\n",
    "roadsMajorSplitBufferSum = os.path.join(gdbAnalysisData, \"roadsMajorSplitBufferSum\")\n",
    "\n",
    "# Summarize the data within the major road buffers from the crashes data\n",
    "arcpy.analysis.SummarizeWithin(\n",
    "    in_polygons = roadsMajorSplitBuffer,\n",
    "    in_sum_features = crashes,\n",
    "    out_feature_class = roadsMajorSplitBufferSum,\n",
    "    keep_all_polygons = \"KEEP_ALL\",\n",
    "    sum_fields=[\n",
    "        [\"crashTag\", \"Sum\"], [\"partyCount\", \"Sum\"], [\"victimCount\", \"Sum\"], [\"numberKilled\", \"Sum\"], \n",
    "        [\"numberInj\", \"Sum\"], [\"countSevereInj\", \"Sum\"], [\"countVisibleInj\", \"Sum\"],\n",
    "        [\"countComplaintPain\", \"Sum\"], [\"countCarKilled\", \"Sum\"], [\"countCarInj\", \"Sum\"],\n",
    "        [\"countPedKilled\", \"Sum\"], [\"countPedInj\", \"Sum\"], [\"countBicKilled\", \"Sum\"],\n",
    "        [\"countBicInj\", \"Sum\"], [\"countMcKilled\", \"Sum\"], [\"countMcInj\", \"Sum\"],\n",
    "        [\"collSeverityNum\", \"Mean\"], [\"collSeverityRankNum\", \"Mean\"]\n",
    "    ]\n",
    ")"
   ]
  },
  {
   "cell_type": "markdown",
   "metadata": {},
   "source": [
    "Add feature class alias for the summarized road segments buffers feature class"
   ]
  },
  {
   "cell_type": "code",
   "execution_count": null,
   "metadata": {},
   "outputs": [],
   "source": [
    "# Define the major roads split buffer summary layer alias and modify the feature class alias\n",
    "roadsMajorSplitBufferSumAlias = \"OCSWITRS Major Roads Split Buffer Summary\"\n",
    "arcpy.AlterAliasName(roadsMajorSplitBufferSum, roadsMajorSplitBufferSumAlias)\n",
    "print(arcpy.GetMessages())"
   ]
  },
  {
   "cell_type": "markdown",
   "metadata": {},
   "source": [
    "Obtain the fields for the summarized road segments buffers feature class"
   ]
  },
  {
   "cell_type": "code",
   "execution_count": null,
   "metadata": {},
   "outputs": [],
   "source": [
    "roadsMajorSplitBufferSumFields = [f.name for f in arcpy.ListFields(roadsMajorSplitBufferSum)] # roadsMajorSplitBufferSum field list\n",
    "\n",
    "# Field Aliases for the major roads split buffer summary feature class\n",
    "for f in arcpy.ListFields(roadsMajorSplitBufferSum):\n",
    "    print(f\"{f.name} ({f.aliasName})\")"
   ]
  },
  {
   "cell_type": "markdown",
   "metadata": {},
   "source": [
    "<h3 style=\"font-weight:bold; color:lime; padding-left: 50px\">Summarize Census Blocks</h3>"
   ]
  },
  {
   "cell_type": "markdown",
   "metadata": {},
   "source": [
    "Create a summary for each of the Census blocks that contains statistics and counts of crash collision data"
   ]
  },
  {
   "cell_type": "code",
   "execution_count": null,
   "metadata": {},
   "outputs": [],
   "source": [
    "# Create a path for the new summarized US 2020 Census Blocks feature class\n",
    "censusBlocksSum = os.path.join(gdbAnalysisData, \"censusBlocksSum\")\n",
    "\n",
    "arcpy.analysis.SummarizeWithin(\n",
    "    in_polygons = censusBlocks,\n",
    "    in_sum_features = crashes,\n",
    "    out_feature_class = censusBlocksSum,\n",
    "    keep_all_polygons = \"KEEP_ALL\",\n",
    "    sum_fields = [\n",
    "        [\"crashTag\", \"Sum\"], [\"partyCount\", \"Sum\"], [\"victimCount\", \"Sum\"], [\"numberKilled\", \"Sum\"], \n",
    "        [\"numberInj\", \"Sum\"], [\"countSevereInj\", \"Sum\"], [\"countVisibleInj\", \"Sum\"],\n",
    "        [\"countComplaintPain\", \"Sum\"], [\"countCarKilled\", \"Sum\"], [\"countCarInj\", \"Sum\"],\n",
    "        [\"countPedKilled\", \"Sum\"], [\"countPedInj\", \"Sum\"], [\"countBicKilled\", \"Sum\"],\n",
    "        [\"countBicInj\", \"Sum\"], [\"countMcKilled\", \"Sum\"], [\"countMcInj\", \"Sum\"],\n",
    "        [\"collSeverityNum\", \"Mean\"], [\"collSeverityRankNum\", \"Mean\"]\n",
    "    ]\n",
    ")"
   ]
  },
  {
   "cell_type": "markdown",
   "metadata": {},
   "source": [
    "Add feature class alias for the summarized Census blocks feature class"
   ]
  },
  {
   "cell_type": "code",
   "execution_count": null,
   "metadata": {},
   "outputs": [],
   "source": [
    "# Define the US 2020 Census Blocks summary layer alias and modify the feature class alias\n",
    "censusBlocksSumAlias = \"OCSWITRS Census Blocks Summary\"\n",
    "arcpy.AlterAliasName(censusBlocksSum, censusBlocksSumAlias)\n",
    "print(arcpy.GetMessages())"
   ]
  },
  {
   "cell_type": "markdown",
   "metadata": {},
   "source": [
    "Obtain the fields for the summarized Census blocks feature class"
   ]
  },
  {
   "cell_type": "code",
   "execution_count": null,
   "metadata": {},
   "outputs": [],
   "source": [
    "cenBlocksSumFields = [f.name for f in arcpy.ListFields(censusBlocksSum)] # cenBlocksSum field list\n",
    "\n",
    "# Field Aliases for the US 2020 Census Blocks summary feature class\n",
    "for f in arcpy.ListFields(censusBlocksSum):\n",
    "    print(f\"{f.name} ({f.aliasName})\")"
   ]
  },
  {
   "cell_type": "markdown",
   "metadata": {},
   "source": [
    "<h3 style=\"font-weight:bold; color:lime; padding-left: 50px\">Summarize Cities</h3>"
   ]
  },
  {
   "cell_type": "markdown",
   "metadata": {},
   "source": [
    "Create a summary for each of the cities that contains statistics and counts of crash collision data"
   ]
  },
  {
   "cell_type": "code",
   "execution_count": null,
   "metadata": {},
   "outputs": [],
   "source": [
    "# Create a path for the new summarized US 2020 Census Blocks feature class\n",
    "citiesSum = os.path.join(gdbAnalysisData, \"citiesSum\")\n",
    "\n",
    "# Summarize the data within the cities from the crashes data\n",
    "arcpy.analysis.SummarizeWithin(\n",
    "    in_polygons = cities,\n",
    "    in_sum_features = crashes,\n",
    "    out_feature_class = citiesSum,\n",
    "    keep_all_polygons = \"KEEP_ALL\",\n",
    "    sum_fields=[\n",
    "        [\"crashTag\", \"Sum\"], [\"partyCount\", \"Sum\"], [\"victimCount\", \"Sum\"], [\"numberKilled\", \"Sum\"], \n",
    "        [\"numberInj\", \"Sum\"], [\"countSevereInj\", \"Sum\"], [\"countVisibleInj\", \"Sum\"],\n",
    "        [\"countComplaintPain\", \"Sum\"], [\"countCarKilled\", \"Sum\"], [\"countCarInj\", \"Sum\"],\n",
    "        [\"countPedKilled\", \"Sum\"], [\"countPedInj\", \"Sum\"], [\"countBicKilled\", \"Sum\"],\n",
    "        [\"countBicInj\", \"Sum\"], [\"countMcKilled\", \"Sum\"], [\"countMcInj\", \"Sum\"],\n",
    "        [\"collSeverityNum\", \"Mean\"], [\"collSeverityRankNum\", \"Mean\"]\n",
    "    ]\n",
    ")"
   ]
  },
  {
   "cell_type": "markdown",
   "metadata": {},
   "source": [
    "Add feature class alias for the summarized cities feature class"
   ]
  },
  {
   "cell_type": "code",
   "execution_count": null,
   "metadata": {},
   "outputs": [],
   "source": [
    "# Define the cities summary layer alias and modify the feature class alias\n",
    "citiesSumAlias = \"OCSWITRS Cities Summary\"\n",
    "arcpy.AlterAliasName(citiesSum, citiesSumAlias)\n",
    "print(arcpy.GetMessages())"
   ]
  },
  {
   "cell_type": "markdown",
   "metadata": {},
   "source": [
    "Obtain the fields for the summarized cities feature class"
   ]
  },
  {
   "cell_type": "code",
   "execution_count": null,
   "metadata": {},
   "outputs": [],
   "source": [
    "citiesSumFields = [f.name for f in arcpy.ListFields(citiesSum)] # citiesSum field list\n",
    "\n",
    "# Field Aliases for the cities summary feature class\n",
    "for f in arcpy.ListFields(citiesSum):\n",
    "    print(f\"{f.name} ({f.aliasName})\")"
   ]
  },
  {
   "cell_type": "markdown",
   "metadata": {},
   "source": [
    "<h3 style=\"font-weight:bold; color:lime; padding-left: 50px\">Crashes within 500ft from Major Roads</h3>"
   ]
  },
  {
   "cell_type": "markdown",
   "metadata": {},
   "source": [
    "Select all crashes that are within 500 ft of the major roads"
   ]
  },
  {
   "cell_type": "code",
   "execution_count": null,
   "metadata": {},
   "outputs": [],
   "source": [
    "# Create a path for the new feature class\n",
    "crashes500ftFromMajorRoads = os.path.join(gdbAnalysisData, \"crashes500ftFromMajorRoads\")\n",
    "\n",
    "# Select the crashes within 500 feet of the major roads and store it in a temporary layer\n",
    "tempLyr = arcpy.management.SelectLayerByLocation(\n",
    "    in_layer = crashes,\n",
    "    select_features = roadsMajor,\n",
    "    search_distance = \"500 Feet\",\n",
    "    selection_type = \"NEW_SELECTION\",\n",
    "    invert_spatial_relationship = \"NOT_INVERT\"\n",
    ")\n",
    "\n",
    "# Export the selected crashes to a new feature class\n",
    "arcpy.conversion.ExportFeatures(\n",
    "    in_features = tempLyr,\n",
    "    out_features = crashes500ftFromMajorRoads,\n",
    "    where_clause = \"\",\n",
    "    use_field_alias_as_name = \"NOT_USE_ALIAS\",\n",
    ")\n",
    "print(arcpy.GetMessages())\n",
    "\n",
    "# Delete the temporary layer\n",
    "arcpy.management.Delete(tempLyr)"
   ]
  },
  {
   "cell_type": "markdown",
   "metadata": {},
   "source": [
    "Add feature class alias for the crashes within 500 ft from major roads feature class"
   ]
  },
  {
   "cell_type": "code",
   "execution_count": null,
   "metadata": {},
   "outputs": [],
   "source": [
    "# Define the crashes 500 feet from major roads layer alias and modify the feature class alias\n",
    "crashes500ftFromMajorRoadsAlias = \"OCSWITRS Crashes 500 Feet from Major Roads\"\n",
    "arcpy.AlterAliasName(crashes500ftFromMajorRoads, crashes500ftFromMajorRoadsAlias)\n",
    "print(arcpy.GetMessages())"
   ]
  },
  {
   "cell_type": "markdown",
   "metadata": {},
   "source": [
    "Obtain the fields for the crashes within 500 ft from major roads feature class"
   ]
  },
  {
   "cell_type": "code",
   "execution_count": null,
   "metadata": {},
   "outputs": [],
   "source": [
    "crashes500ftFromMajorRoadsFields = [f.name for f in arcpy.ListFields(crashes500ftFromMajorRoads)] # crashes500ftFromMajorRoads field list\n",
    "\n",
    "# Field Aliases for the crashes 500 feet from major roads feature class\n",
    "for f in arcpy.ListFields(crashes500ftFromMajorRoads):\n",
    "    print(f\"{f.name} ({f.aliasName})\")"
   ]
  },
  {
   "cell_type": "markdown",
   "metadata": {},
   "source": [
    "<h3 style=\"font-weight:bold; color:lime; padding-left: 50px\">Crashes (Collision Severity) Exploratory Regression</h3>"
   ]
  },
  {
   "cell_type": "markdown",
   "metadata": {},
   "source": [
    "Generate a collision severity binary indicator to crashes dataset"
   ]
  },
  {
   "cell_type": "code",
   "execution_count": null,
   "metadata": {},
   "outputs": [],
   "source": [
    "# Add collision severity binary indicator to crashes\n",
    "arcpy.management.CalculateField(\n",
    "    in_table = crashes,\n",
    "    field = \"severityBin\",\n",
    "    expression = \"sevbin(!collSeverityBin!)\",\n",
    "    expression_type = \"PYTHON3\",\n",
    "    code_block = \"\"\"def sevbin(x):\n",
    "    if x == \"Severe or fatal\":\n",
    "        return 1\n",
    "    elif x == \"None, minor or pain\":\n",
    "        return 0\"\"\",\n",
    "    field_type = \"SHORT\",\n",
    "    enforce_domains = \"NO_ENFORCE_DOMAINS\"\n",
    ")"
   ]
  },
  {
   "cell_type": "markdown",
   "metadata": {},
   "source": [
    "Add a field alias for the collision severity binary indicator"
   ]
  },
  {
   "cell_type": "code",
   "execution_count": null,
   "metadata": {},
   "outputs": [],
   "source": [
    "arcpy.management.AlterField(\n",
    "    in_table = crashes,\n",
    "    field = \"severityBin\",\n",
    "    new_field_alias = \"Severity Binary\"\n",
    ")"
   ]
  },
  {
   "cell_type": "markdown",
   "metadata": {},
   "source": [
    "Perform exploratory regression to predict the binary severity bin"
   ]
  },
  {
   "cell_type": "code",
   "execution_count": null,
   "metadata": {
    "scrolled": true
   },
   "outputs": [],
   "source": [
    "arcpy.stats.ExploratoryRegression(\n",
    "    Input_Features=crashes,\n",
    "    Dependent_Variable=\"severityBin\",\n",
    "    Candidate_Explanatory_Variables=\"accidentYear;collSeverityNum;collSeverityRankNum;partyCount;victimCount;numberKilled;numberInj;countSevereInj;countVisibleInj;countComplaintPain;countCarKilled;countCarInj;countPedKilled;countPedInj;countBicKilled;countBicInj;countMcKilled;countMcInj\",\n",
    "    Weights_Matrix_File=None,\n",
    "    Output_Report_File=None,\n",
    "    Output_Results_Table=None,\n",
    "    Maximum_Number_of_Explanatory_Variables=5,\n",
    "    Minimum_Number_of_Explanatory_Variables=1,\n",
    "    Minimum_Acceptable_Adj_R_Squared=0.5,\n",
    "    Maximum_Coefficient_p_value_Cutoff=0.05,\n",
    "    Maximum_VIF_Value_Cutoff=7.5,\n",
    "    Minimum_Acceptable_Jarque_Bera_p_value=0.1,\n",
    "    Minimum_Acceptable_Spatial_Autocorrelation_p_value=0.1\n",
    ")"
   ]
  },
  {
   "cell_type": "markdown",
   "metadata": {},
   "source": [
    "<h3 style=\"font-weight:bold; color:lime; padding-left: 50px\">Save Project</h3>"
   ]
  },
  {
   "cell_type": "code",
   "execution_count": null,
   "metadata": {},
   "outputs": [],
   "source": [
    "# Save the project\n",
    "aprx.save()"
   ]
  },
  {
   "cell_type": "markdown",
   "metadata": {},
   "source": [
    "<h2 style=\"font-weight:bold; color:dodgerblue; border-bottom: 1px solid dodgerblue; padding-left: 25px\">2.4. Hotspot Data Feature Classes</h2>"
   ]
  },
  {
   "cell_type": "markdown",
   "metadata": {},
   "source": [
    "<h3 style=\"font-weight:bold; color:lime; padding-left: 50px\">Delete all Old Hotspot Feature Classes</h3>"
   ]
  },
  {
   "cell_type": "markdown",
   "metadata": {},
   "source": [
    "Loop through all hotspot data feature dataset and delete all feature classes"
   ]
  },
  {
   "cell_type": "code",
   "execution_count": null,
   "metadata": {},
   "outputs": [],
   "source": [
    "for f in arcpy.ListFeatureClasses(feature_dataset = \"HotSpotData\"):\n",
    "    print(f\"Deleting {f}...\")\n",
    "    arcpy.Delete_management(f)\n",
    "    print(arcpy.GetMessages())"
   ]
  },
  {
   "cell_type": "markdown",
   "metadata": {},
   "source": [
    "<h3 style=\"font-weight:bold; color:lime; padding-left: 50px\">Create Hot Spots (Crashes, Collision Severity)</h3>"
   ]
  },
  {
   "cell_type": "markdown",
   "metadata": {},
   "source": [
    "Create a hot spot analysis for the crash collision data (collision severity)"
   ]
  },
  {
   "cell_type": "code",
   "execution_count": null,
   "metadata": {},
   "outputs": [],
   "source": [
    "# Create a path for the new crashes hot spots feature class\n",
    "crashesHotspots = os.path.join(gdbHotspotData, \"crashesHotspots\")\n",
    "\n",
    "# Create hot spots points\n",
    "arcpy.stats.HotSpots(\n",
    "    Input_Feature_Class = crashes,\n",
    "    Input_Field = \"collSeverityNum\",\n",
    "    Output_Feature_Class = crashesHotspots,\n",
    "    Conceptualization_of_Spatial_Relationships = \"FIXED_DISTANCE_BAND\",\n",
    "    Distance_Method = \"EUCLIDEAN_DISTANCE\",\n",
    "    Standardization = \"ROW\",\n",
    "    Distance_Band_or_Threshold_Distance = None,\n",
    "    Self_Potential_Field = None,\n",
    "    Weights_Matrix_File = None,\n",
    "    Apply_False_Discovery_Rate__FDR__Correction = \"NO_FDR\",\n",
    "    number_of_neighbors = None\n",
    ")"
   ]
  },
  {
   "cell_type": "markdown",
   "metadata": {},
   "source": [
    "Add feature class alias for the hot spots (crashes, collision severity) feature class"
   ]
  },
  {
   "cell_type": "code",
   "execution_count": null,
   "metadata": {},
   "outputs": [],
   "source": [
    "# Define the crashes hot spots layer alias and modify the feature class alias\n",
    "crashesHotspotsAlias = \"OCSWITRS Crashes Hot Spots\"\n",
    "arcpy.AlterAliasName(crashesHotspots, crashesHotspotsAlias)\n",
    "print(arcpy.GetMessages())"
   ]
  },
  {
   "cell_type": "markdown",
   "metadata": {},
   "source": [
    "Obtain the fields for the hot spots (crashes, collision severity) feature class"
   ]
  },
  {
   "cell_type": "code",
   "execution_count": null,
   "metadata": {},
   "outputs": [],
   "source": [
    "crashesHotspotsFields = [f.name for f in arcpy.ListFields(crashesHotspots)] # crashesHotspots field list\n",
    "\n",
    "# Field Aliases for the crashes hot spots feature class\n",
    "for f in arcpy.ListFields(crashesHotspots):\n",
    "    print(f\"{f.name} ({f.aliasName})\")"
   ]
  },
  {
   "cell_type": "markdown",
   "metadata": {},
   "source": [
    "<h3 style=\"font-weight:bold; color:lime; padding-left: 50px\">Optimized Hot Spots (Crashes, Collision Severity, 1,000 m)</h3>"
   ]
  },
  {
   "cell_type": "markdown",
   "metadata": {},
   "source": [
    "Optimized hot spot analysis for the crash collision data (collision severity)"
   ]
  },
  {
   "cell_type": "code",
   "execution_count": null,
   "metadata": {},
   "outputs": [],
   "source": [
    "# Create a path for the new optimized crashes hot spots feature class\n",
    "crashesOptimizedHotspots = os.path.join(gdbHotspotData, \"crashesOptimizedHotspots\")\n",
    "\n",
    "# Perform Optimized Hot Spot Analysis on the crashes data\n",
    "arcpy.stats.OptimizedHotSpotAnalysis(\n",
    "    Input_Features = crashes,\n",
    "    Output_Features = crashesOptimizedHotspots,\n",
    "    Analysis_Field = \"collSeverityNum\",\n",
    "    Incident_Data_Aggregation_Method = \"COUNT_INCIDENTS_WITHIN_FISHNET_POLYGONS\",\n",
    "    Bounding_Polygons_Defining_Where_Incidents_Are_Possible = None,\n",
    "    Polygons_For_Aggregating_Incidents_Into_Counts = None,\n",
    "    Density_Surface = None,\n",
    "    Cell_Size = None,\n",
    "    Distance_Band = \"1000 Meters\"\n",
    ")"
   ]
  },
  {
   "cell_type": "markdown",
   "metadata": {},
   "source": [
    "Add feature class alias for the optimized hot spots (crashes, collision severity, 1,000 m) feature class"
   ]
  },
  {
   "cell_type": "code",
   "execution_count": null,
   "metadata": {},
   "outputs": [],
   "source": [
    "# Define the optimized crashes hot spots layer alias and modify the feature class alias\n",
    "crashesOptimizedHotspotsAlias = \"OCSWITRS Crashes Optimized Hot Spots\"\n",
    "arcpy.AlterAliasName(crashesOptimizedHotspots, crashesOptimizedHotspotsAlias)\n",
    "print(arcpy.GetMessages())"
   ]
  },
  {
   "cell_type": "markdown",
   "metadata": {},
   "source": [
    "Obtain the fields for the optimized hot spots (crashes, collision severity, 1,000 m) feature class"
   ]
  },
  {
   "cell_type": "code",
   "execution_count": null,
   "metadata": {},
   "outputs": [],
   "source": [
    "crashesOptimizedHotspotsFields = [f.name for f in arcpy.ListFields(crashesOptimizedHotspots)] # crashesOptimizedHotspots field list\n",
    "\n",
    "# Field Aliases for the optimized crashes hot spots feature class\n",
    "for f in arcpy.ListFields(crashesOptimizedHotspots):\n",
    "    print(f\"{f.name} ({f.aliasName})\")"
   ]
  },
  {
   "cell_type": "markdown",
   "metadata": {},
   "source": [
    "<h3 style=\"font-weight:bold; color:lime; padding-left: 50px\">Find Hot Spots (Crashes, 100m bins, 1km neighbors)</h3>"
   ]
  },
  {
   "cell_type": "markdown",
   "metadata": {},
   "source": [
    "Find hot spots for the crash collision data using 100 m bins and 1 km neighborhood radius (328 ft/ 0.621 mi)"
   ]
  },
  {
   "cell_type": "code",
   "execution_count": null,
   "metadata": {},
   "outputs": [],
   "source": [
    "# Create a path for the new crashes find hot spots feature class\n",
    "crashesFindHotspots100m1km = os.path.join(gdbHotspotData, \"crashesFindHotspots100m1km\")\n",
    "\n",
    "# Find the hot spots within the crashes data\n",
    "arcpy.gapro.FindHotSpots(\n",
    "    point_layer = crashes,\n",
    "    out_feature_class = crashesFindHotspots100m1km,\n",
    "    bin_size = \"100 Meters\",\n",
    "    neighborhood_size = \"1 Kilometers\",\n",
    "    time_step_interval = None,\n",
    "    time_step_alignment = \"START_TIME\",\n",
    "    time_step_reference = None\n",
    ")"
   ]
  },
  {
   "cell_type": "markdown",
   "metadata": {},
   "source": [
    "Add feature class alias for the hot spots (crashes, 100m bins, 1km neighbors) feature class"
   ]
  },
  {
   "cell_type": "code",
   "execution_count": null,
   "metadata": {},
   "outputs": [],
   "source": [
    "# Define the crashes find hot spots layer alias and modify the feature class alias\n",
    "crashesFindHotspots100m1kmAlias = \"OCSWITRS Crashes Find Hot Spots 100m 1km\"\n",
    "arcpy.AlterAliasName(crashesFindHotspots100m1km, crashesFindHotspots100m1kmAlias)\n",
    "print(arcpy.GetMessages())"
   ]
  },
  {
   "cell_type": "markdown",
   "metadata": {},
   "source": [
    "Obtain the fields for the hot spots (crashes, 100m bins, 1km neighbors) feature class"
   ]
  },
  {
   "cell_type": "code",
   "execution_count": null,
   "metadata": {},
   "outputs": [],
   "source": [
    "crashesFindHotspots100m1kmFields = [f.name for f in arcpy.ListFields(crashesFindHotspots100m1km)] # crashesFindHotspots100m1km field list\n",
    "\n",
    "# Field Aliases for the crashes find hot spots feature class\n",
    "for f in arcpy.ListFields(crashesFindHotspots100m1km):\n",
    "    print(f\"{f.name} ({f.aliasName})\")"
   ]
  },
  {
   "cell_type": "markdown",
   "metadata": {},
   "source": [
    "<h3 style=\"font-weight:bold; color:lime; padding-left: 50px\">Find Hot Spots (Crashes, 150m bins, 2km neighbors)</h3>"
   ]
  },
  {
   "cell_type": "markdown",
   "metadata": {},
   "source": [
    "Find hot spots for the crash collision data using 150 m bins and 2 km neighborhood radius (492 ft/ 1.24 mi)"
   ]
  },
  {
   "cell_type": "code",
   "execution_count": null,
   "metadata": {},
   "outputs": [],
   "source": [
    "# Create a path for the new crashes find hot spots feature class\n",
    "crashesFindHotspots150m2km = os.path.join(gdbHotspotData, \"crashesFindHotspots150m2km\")\n",
    "\n",
    "# Find the hot spots within the crashes data\n",
    "arcpy.gapro.FindHotSpots(\n",
    "    point_layer = crashes,\n",
    "    out_feature_class = crashesFindHotspots150m2km,\n",
    "    bin_size = \"150 Meters\",\n",
    "    neighborhood_size = \"2 Kilometers\",\n",
    "    time_step_interval = None,\n",
    "    time_step_alignment = \"START_TIME\",\n",
    "    time_step_reference = None\n",
    ")"
   ]
  },
  {
   "cell_type": "markdown",
   "metadata": {},
   "source": [
    "Add feature class alias for the hot spots (crashes, 150m bins, 2km neighbors) feature class"
   ]
  },
  {
   "cell_type": "code",
   "execution_count": null,
   "metadata": {},
   "outputs": [],
   "source": [
    "# Define the crashes find hot spots layer alias and modify the feature class alias\n",
    "crashesFindHotspots150m2kmAlias = \"OCSWITRS Crashes Find Hot Spots 150m 2km\"\n",
    "arcpy.AlterAliasName(crashesFindHotspots150m2km, crashesFindHotspots150m2kmAlias)\n",
    "print(arcpy.GetMessages())"
   ]
  },
  {
   "cell_type": "markdown",
   "metadata": {},
   "source": [
    "Obtain the fields for the hot spots (crashes, 150m bins, 2km neighbors) feature class"
   ]
  },
  {
   "cell_type": "code",
   "execution_count": null,
   "metadata": {},
   "outputs": [],
   "source": [
    "crashesFindHotspots150m2kmFields = [f.name for f in arcpy.ListFields(crashesFindHotspots150m2km)] # crashesFindHotspots150m2km field list\n",
    "\n",
    "# Field Aliases for the crashes find hot spots feature class\n",
    "for f in arcpy.ListFields(crashesFindHotspots150m2km):\n",
    "    print(f\"{f.name} ({f.aliasName})\")"
   ]
  },
  {
   "cell_type": "markdown",
   "metadata": {},
   "source": [
    "<h3 style=\"font-weight:bold; color:lime; padding-left: 50px\">Find Hot Spots (Crashes, 100m bins, 5km neighbors)</h3>"
   ]
  },
  {
   "cell_type": "markdown",
   "metadata": {},
   "source": [
    "Find hot spots for the crash collision data using 100 m bins and 5 km neighborhood radius (328 ft/ 3.11 mi)"
   ]
  },
  {
   "cell_type": "code",
   "execution_count": null,
   "metadata": {},
   "outputs": [],
   "source": [
    "# Create a path for the new crashes find hot spots feature class\n",
    "crashesFindHotspots100m5km = os.path.join(gdbHotspotData, \"crashesFindHotspots100m5km\")\n",
    "\n",
    "# Find the hot spots within the crashes data\n",
    "arcpy.gapro.FindHotSpots(\n",
    "    point_layer = crashes,\n",
    "    out_feature_class = crashesFindHotspots100m5km,\n",
    "    bin_size = \"100 Meters\",\n",
    "    neighborhood_size = \"5 Kilometers\",\n",
    "    time_step_interval = None,\n",
    "    time_step_alignment = \"START_TIME\",\n",
    "    time_step_reference = None\n",
    ")"
   ]
  },
  {
   "cell_type": "markdown",
   "metadata": {},
   "source": [
    "Add feature class alias for the hot spots (crashes, 100m bins, 5km neighbors) feature class"
   ]
  },
  {
   "cell_type": "code",
   "execution_count": null,
   "metadata": {},
   "outputs": [],
   "source": [
    "# Define the crashes find hot spots layer alias and modify the feature class alias\n",
    "crashesFindHotspots100m5kmAlias = \"OCSWITRS Crashes Find Hot Spots 100m 5km\"\n",
    "arcpy.AlterAliasName(crashesFindHotspots100m5km, crashesFindHotspots100m5kmAlias)\n",
    "print(arcpy.GetMessages())"
   ]
  },
  {
   "cell_type": "markdown",
   "metadata": {},
   "source": [
    "Obtain the fields for the hot spots (crashes, 100m bins, 5km neighbors) feature class"
   ]
  },
  {
   "cell_type": "code",
   "execution_count": null,
   "metadata": {},
   "outputs": [],
   "source": [
    "crashesFindHotspots100m5kmFields = [f.name for f in arcpy.ListFields(crashesFindHotspots100m5km)] # crashesFindHotspots100m5km field list\n",
    "\n",
    "# Field Aliases for the crashes find hot spots feature class\n",
    "for f in arcpy.ListFields(crashesFindHotspots100m5km):\n",
    "    print(f\"{f.name} ({f.aliasName})\")"
   ]
  },
  {
   "cell_type": "markdown",
   "metadata": {},
   "source": [
    "<h3 style=\"font-weight:bold; color:lime; padding-left: 50px\">Hot Spots (Proximity to Major Roads, 500ft)</h3>"
   ]
  },
  {
   "cell_type": "markdown",
   "metadata": {},
   "source": [
    "Hot spot points within 500 feet of major roads"
   ]
  },
  {
   "cell_type": "code",
   "execution_count": null,
   "metadata": {},
   "outputs": [],
   "source": [
    "# Create a path for the new hot spots within 500 mt from major roads feature class\n",
    "crashesHotspots500ftFromMajorRoads = os.path.join(gdbHotspotData, \"crashesHotspots500ftFromMajorRoads\")\n",
    "\n",
    "arcpy.stats.HotSpots(\n",
    "    Input_Feature_Class = crashes500ftFromMajorRoads,\n",
    "    Input_Field=\"collSeverityNum\",\n",
    "    Output_Feature_Class = crashesHotspots500ftFromMajorRoads,\n",
    "    Conceptualization_of_Spatial_Relationships = \"FIXED_DISTANCE_BAND\",\n",
    "    Distance_Method = \"EUCLIDEAN_DISTANCE\",\n",
    "    Standardization = \"ROW\",\n",
    "    Distance_Band_or_Threshold_Distance = None,\n",
    "    Self_Potential_Field = None,\n",
    "    Weights_Matrix_File = None,\n",
    "    Apply_False_Discovery_Rate__FDR__Correction = \"NO_FDR\",\n",
    "    number_of_neighbors = None\n",
    ")"
   ]
  },
  {
   "cell_type": "markdown",
   "metadata": {},
   "source": [
    "Add feature class alias for the hot spots (proximity to major roads, 500ft) feature class"
   ]
  },
  {
   "cell_type": "code",
   "execution_count": null,
   "metadata": {},
   "outputs": [],
   "source": [
    "# Define the crashes hot spots 500 feet from major roads layer alias and modify the feature class alias\n",
    "crashesHotspots500ftFromMajorRoadsAlias = \"OCSWITRS Crashes Hot Spots 500 Feet from Major Roads\"\n",
    "arcpy.AlterAliasName(crashesHotspots500ftFromMajorRoads, crashesHotspots500ftFromMajorRoadsAlias)\n",
    "print(arcpy.GetMessages())"
   ]
  },
  {
   "cell_type": "markdown",
   "metadata": {},
   "source": [
    "Obtain the fields for the hot spots (proximity to major roads, 500ft) feature class"
   ]
  },
  {
   "cell_type": "code",
   "execution_count": null,
   "metadata": {},
   "outputs": [],
   "source": [
    "crashesHotspots500ftFromMajorRoadsFields = [f.name for f in arcpy.ListFields(crashesHotspots500ftFromMajorRoads)] # crashesHotspots500ftFromMajorRoads field list\n",
    "\n",
    "# Field Aliases for the crashes hot spots 500 feet from major roads feature class\n",
    "for f in arcpy.ListFields(crashesHotspots500ftFromMajorRoads):\n",
    "    print(f\"{f.name} ({f.aliasName})\")"
   ]
  },
  {
   "cell_type": "markdown",
   "metadata": {},
   "source": [
    "<h3 style=\"font-weight:bold; color:lime; padding-left: 50px\">Find Hot Spots (Proximity to Major Roads, 500ft)</h3>"
   ]
  },
  {
   "cell_type": "markdown",
   "metadata": {},
   "source": [
    "Find hot spots within 500 feet from major roads"
   ]
  },
  {
   "cell_type": "code",
   "execution_count": null,
   "metadata": {},
   "outputs": [],
   "source": [
    "# Create a path for the new hot spots within 500 ft from major roads feature class\n",
    "crashesFindHotspots500ftMajorRoads500ft1mi = os.path.join(gdbHotspotData, \"crashesFindHotspots500ftMajorRoads500ft1mi\")\n",
    "\n",
    "arcpy.gapro.FindHotSpots(\n",
    "    point_layer = crashes500ftFromMajorRoads,\n",
    "    out_feature_class = crashesFindHotspots500ftMajorRoads500ft1mi,\n",
    "    bin_size=\"500 Feet\",\n",
    "    neighborhood_size = \"1 Miles\",\n",
    "    time_step_interval = None,\n",
    "    time_step_alignment = \"START_TIME\",\n",
    "    time_step_reference=None\n",
    ")"
   ]
  },
  {
   "cell_type": "markdown",
   "metadata": {},
   "source": [
    "Add feature class alias for the hot spots (proximity to major roads, 500ft) feature class"
   ]
  },
  {
   "cell_type": "code",
   "execution_count": null,
   "metadata": {},
   "outputs": [],
   "source": [
    "# Define the crashes find hot spots 500 feet from major roads layer alias and modify the feature class alias\n",
    "crashesFindHotspots500ftMajorRoads500ft1miAlias = \"OCSWITRS Crashes Find Hot Spots 500 Feet from Major Roads 500ft 1mi\"\n",
    "arcpy.AlterAliasName(crashesFindHotspots500ftMajorRoads500ft1mi, crashesFindHotspots500ftMajorRoads500ft1miAlias)\n",
    "print(arcpy.GetMessages())"
   ]
  },
  {
   "cell_type": "markdown",
   "metadata": {},
   "source": [
    "Obtain the fields for the hot spots (proximity to major roads, 500ft) feature class"
   ]
  },
  {
   "cell_type": "code",
   "execution_count": null,
   "metadata": {},
   "outputs": [],
   "source": [
    "crashesFindHotspots500ftMajorRoads500ft1miFields = [f.name for f in arcpy.ListFields(crashesFindHotspots500ftMajorRoads500ft1mi)] # crashesFindHotspots500ftMajorRoads500ft1mi field list\n",
    "\n",
    "# Field Aliases for the crashes find hot spots 500 feet from major roads feature class\n",
    "for f in arcpy.ListFields(crashesFindHotspots500ftMajorRoads500ft1mi):\n",
    "    print(f\"{f.name} ({f.aliasName})\")"
   ]
  },
  {
   "cell_type": "markdown",
   "metadata": {},
   "source": [
    "<h1 style=\"font-weight:bold; color:orangered; border-bottom: 2px solid orangered\">3. Feature Class Metadata Processing</h1>"
   ]
  },
  {
   "cell_type": "markdown",
   "metadata": {},
   "source": [
    "<h2 style=\"font-weight:bold; color:dodgerblue; border-bottom: 1px solid dodgerblue; padding-left: 25px\">3.1. Collisions Metadata</h2>"
   ]
  },
  {
   "cell_type": "markdown",
   "metadata": {},
   "source": [
    "Create a new metadata object for the collisions feature class"
   ]
  },
  {
   "cell_type": "code",
   "execution_count": null,
   "metadata": {},
   "outputs": [],
   "source": [
    "# Define key metadata attributes for the Collisions feature class\n",
    "mdoCollisions = md.Metadata()\n",
    "mdoCollisions.title = \"OCSWITRS Combined Collisions Points\"\n",
    "mdoCollisions.tags = \"Orange County, California, Traffic, Traffic Conditions, Crashes, Collisions, Road Safety, Accidents, SWITRS, OCSWITRS, Transportation\"\n",
    "mdoCollisions.summary = f\"Statewide Integrated Traffic Records System (SWITRS) Combined Collisions Data for Orange County, California ({mdYears})\"\n",
    "mdoCollisions.description = f\"\"\"<div style=\"text-align:Left;\"><div><div><p><span style=\"font-weight:bold;\">Statewide Integrated Traffic Records System (SWITRS)</span><span> location point data, containing </span><span style=\"font-weight:bold;\">combined reports on collision crashes, parties, and victims</span><span> in Orange County, California for {mdYears} ({mdDates}). The data are collected and maintained by the </span><a href=\"https://www.chp.ca.gov:443/\" style=\"text-decoration:underline;\"><span>California Highway Patrol (CHP)</span></a><span>, from incidents reported by local and government agencies. Original tabular datasets are provided by the </span><a href=\"https://tims.berkeley.edu:443/\" style=\"text-decoration:underline;\"><span>Transportation Injury Mapping System (TIMS)</span></a><span>. Only records with reported locational GPS attributes in Orange County are included in the spatial database (either from X and Y geocoded coordinates, or the longitude and latitude coordinates generated by the CHP officer on site). Incidents without valid coordinates are omitted from this spatial dataset representation. Last Updated on <b>{dateUpdated}</b></span></p></div></div></div>\"\"\"\n",
    "mdoCollisions.credits = \"Dr. Kostas Alexandridis, GISP, Data Scientist, OC Public Works, OC Survey Geospatial Services\"\n",
    "mdoCollisions.accessConstraints = \"\"\"<div style=\"text-align:Left;\"><p><span>The SWITRS data displayed are provided by the California Highway Patrol (CHP) reports through the Transportation Injury Mapping System (TIMS) of the University of California, Berkeley. Issues of report accuracy should be addressed to CHP.</span></p><p>The displayed mapped data can be used under a <a href=\"https://creativecommons.org/licenses/by-sa/3.0/\" target=\"_blank\">Creative Commons CC-SA-BY</a> License, providing attribution to TIMS, CHP, and OC Public Works, OC Survey Geospatial Services. </p><div>We make every effort to provide the most accurate and up-to-date data and information. Nevertheless, the data feed is provided, 'as is' and OC Public Work's standard <a href=\"https://www.ocgov.com/contact-county/disclaimer\" target=\"_blank\">Disclaimer</a> applies.<br /></div><div><br /></div><div>For any inquiries, suggestions or questions, please contact:</div><div><br /></div><div style=\"text-align:center;\"><a href=\"https://www.linkedin.com/in/ktalexan/\" target=\"_blank\"><b>Dr. Kostas Alexandridis, GISP</b></a><br /></div><div style=\"text-align:center;\">GIS Analyst | Spatial Complex Systems Scientist</div><div style=\"text-align:center;\">OC Public Works/OC Survey Geospatial Applications</div><div style=\"text-align:center;\"><div>601 N. Ross Street, P.O. Box 4048, Santa Ana, CA 92701</div><div>Email: <a href=\"mailto:kostas.alexandridis@ocpw.ocgov.com\" target=\"_blank\">kostas.alexandridis@ocpw.ocgov.com</a> | Phone: (714) 967-0826</div><div><br /></div></div></div>\"\"\"\n",
    "mdoCollisions.thumbnailUri = \"https://ocpw.maps.arcgis.com/sharing/rest/content/items/6b96b7d6d5394cbb95aa2fae390503a9/data\""
   ]
  },
  {
   "cell_type": "markdown",
   "metadata": {},
   "source": [
    "Assign the collisions metadata object to the collisions feature class"
   ]
  },
  {
   "cell_type": "code",
   "execution_count": null,
   "metadata": {},
   "outputs": [],
   "source": [
    "# Apply the metadata object to the collisions feature class\n",
    "mdCollisions = md.Metadata(collisions)\n",
    "if not mdCollisions.isReadOnly:\n",
    "    mdCollisions.copy(mdoCollisions)\n",
    "    mdCollisions.save()\n",
    "    print(f\"Metadata updated for {collisionsAlias} feature class.\")"
   ]
  },
  {
   "cell_type": "markdown",
   "metadata": {},
   "source": [
    "<h2 style=\"font-weight:bold; color:dodgerblue; border-bottom: 1px solid dodgerblue; padding-left: 25px\">3.2. Crashes Metadata</h2>"
   ]
  },
  {
   "cell_type": "markdown",
   "metadata": {},
   "source": [
    "Create a new metadata object for the crashes feature class"
   ]
  },
  {
   "cell_type": "code",
   "execution_count": null,
   "metadata": {},
   "outputs": [],
   "source": [
    "# Define key metadata attributes for the Crashes feature class\n",
    "mdoCrashes = md.Metadata()\n",
    "mdoCrashes.title = \"OCSWITRS Crashes Points\"\n",
    "mdoCrashes.tags = \"Orange County, California, Traffic, Traffic Conditions, Crashes, Collisions, Road Safety, Accidents, SWITRS, OCSWITRS, Transportation\"\n",
    "mdoCrashes.summary = f\"Statewide Integrated Traffic Records System (SWITRS) Crash Data for Orange County, California ({mdYears})\"\n",
    "mdoCrashes.description = f\"\"\"<div style=\"text-align:Left;\"><div><div><p><span style=\"font-weight:bold;\">Statewide Integrated Traffic Records System (SWITRS)</span><span> location point data, containing </span><span style=\"font-weight:bold;\">reports on crashes</span><span> in Orange County, California for {mdYears} ({mdDates}). The data are collected and maintained by the </span><a href=\"https://www.chp.ca.gov:443/\" style=\"text-decoration:underline;\"><span>California Highway Patrol (CHP)</span></a><span>, from incidents reported by local and government agencies. Original tabular datasets are provided by the </span><a href=\"https://tims.berkeley.edu:443/\" style=\"text-decoration:underline;\"><span>Transportation Injury Mapping System (TIMS)</span></a><span>. Only records with reported locational GPS attributes in Orange County are included in the spatial database (either from X and Y geocoded coordinates, or the longitude and latitude coordinates generated by the CHP officer on site). Incidents without valid coordinates are omitted from this spatial dataset representation. Last Updated on <b>{dateUpdated}</b></span></p></div></div></div>\"\"\"\n",
    "mdoCrashes.credits = \"Dr. Kostas Alexandridis, GISP, Data Scientist, OC Public Works, OC Survey Geospatial Services\"\n",
    "mdoCrashes.accessConstraints = \"\"\"<div style=\"text-align:Left;\"><p><span>The SWITRS data displayed are provided by the California Highway Patrol (CHP) reports through the Transportation Injury Mapping System (TIMS) of the University of California, Berkeley. Issues of report accuracy should be addressed to CHP.</span></p><p>The displayed mapped data can be used under a <a href=\"https://creativecommons.org/licenses/by-sa/3.0/\" target=\"_blank\">Creative Commons CC-SA-BY</a> License, providing attribution to TIMS, CHP, and OC Public Works, OC Survey Geospatial Services. </p><div>We make every effort to provide the most accurate and up-to-date data and information. Nevertheless, the data feed is provided, 'as is' and OC Public Work's standard <a href=\"https://www.ocgov.com/contact-county/disclaimer\" target=\"_blank\">Disclaimer</a> applies.<br /></div><div><br /></div><div>For any inquiries, suggestions or questions, please contact:</div><div><br /></div><div style=\"text-align:center;\"><a href=\"https://www.linkedin.com/in/ktalexan/\" target=\"_blank\"><b>Dr. Kostas Alexandridis, GISP</b></a><br /></div><div style=\"text-align:center;\">GIS Analyst | Spatial Complex Systems Scientist</div><div style=\"text-align:center;\">OC Public Works/OC Survey Geospatial Applications</div><div style=\"text-align:center;\"><div>601 N. Ross Street, P.O. Box 4048, Santa Ana, CA 92701</div><div>Email: <a href=\"mailto:kostas.alexandridis@ocpw.ocgov.com\" target=\"_blank\">kostas.alexandridis@ocpw.ocgov.com</a> | Phone: (714) 967-0826</div><div><br /></div></div></div>\"\"\"\n",
    "mdoCrashes.thumbnailUri = \"https://ocpw.maps.arcgis.com/sharing/rest/content/items/6b96b7d6d5394cbb95aa2fae390503a9/data\""
   ]
  },
  {
   "cell_type": "markdown",
   "metadata": {},
   "source": [
    "Assign the crashes metadata object to the crashes feature class"
   ]
  },
  {
   "cell_type": "code",
   "execution_count": null,
   "metadata": {},
   "outputs": [],
   "source": [
    "# Apply the metadata object to the crashes feature class\n",
    "mdCrashes = md.Metadata(crashes)\n",
    "if not mdCrashes.isReadOnly:\n",
    "    mdCrashes.copy(mdoCrashes)\n",
    "    mdCrashes.save()\n",
    "    print(f\"Metadata updated for {crashesAlias} feature class.\")"
   ]
  },
  {
   "cell_type": "markdown",
   "metadata": {},
   "source": [
    "<h2 style=\"font-weight:bold; color:dodgerblue; border-bottom: 1px solid dodgerblue; padding-left: 25px\">3.3. Parties Metadata</h2>"
   ]
  },
  {
   "cell_type": "markdown",
   "metadata": {},
   "source": [
    "Create a new metadata object for the parties feature class"
   ]
  },
  {
   "cell_type": "code",
   "execution_count": null,
   "metadata": {},
   "outputs": [],
   "source": [
    "# Define key metadata attributes for the Parties feature class\n",
    "mdoParties = md.Metadata()\n",
    "mdoParties.title = \"OCSWITRS Parties Points\"\n",
    "mdoParties.tags = \"Orange County, California, Traffic, Traffic Conditions, Crashes, Parties, Collisions, Road Safety, Accidents, SWITRS, OCSWITRS, Transportation\"\n",
    "mdoParties.summary = f\"Statewide Integrated Traffic Records System (SWITRS) Incident-Involved Parties Data for Orange County, California ({mdYears})\"\n",
    "mdoParties.description = f\"\"\"<div style=\"text-align:Left;\"><div><div><p><span style=\"font-weight:bold;\">Statewide Integrated Traffic Records System (SWITRS)</span><span> location point data, containing </span><span style=\"font-weight:bold;\">reports on parties involved in crash incidents</span><span> in Orange County, California for {mdYears} ({mdDates}). The data are collected and maintained by the </span><a href=\"https://www.chp.ca.gov:443/\" style=\"text-decoration:underline;\"><span>California Highway Patrol (CHP)</span></a><span>, from incidents reported by local and government agencies. Original tabular datasets are provided by the </span><a href=\"https://tims.berkeley.edu:443/\" style=\"text-decoration:underline;\"><span>Transportation Injury Mapping System (TIMS)</span></a><span>. Only records with reported locational GPS attributes in Orange County are included in the spatial database (either from X and Y geocoded coordinates, or the longitude and latitude coordinates generated by the CHP officer on site). Incidents without valid coordinates are omitted from this spatial dataset representation. Last Updated on <b>{dateUpdated}</b></span></p></div></div></div>\"\"\"\n",
    "mdoParties.credits = \"Dr. Kostas Alexandridis, GISP, Data Scientist, OC Public Works, OC Survey Geospatial Services\"\n",
    "mdoParties.accessConstraints = \"\"\"<div style=\"text-align:Left;\"><p><span>The SWITRS data displayed are provided by the California Highway Patrol (CHP) reports through the Transportation Injury Mapping System (TIMS) of the University of California, Berkeley. Issues of report accuracy should be addressed to CHP.</span></p><p>The displayed mapped data can be used under a <a href=\"https://creativecommons.org/licenses/by-sa/3.0/\" target=\"_blank\">Creative Commons CC-SA-BY</a> License, providing attribution to TIMS, CHP, and OC Public Works, OC Survey Geospatial Services. </p><div>We make every effort to provide the most accurate and up-to-date data and information. Nevertheless, the data feed is provided, 'as is' and OC Public Work's standard <a href=\"https://www.ocgov.com/contact-county/disclaimer\" target=\"_blank\">Disclaimer</a> applies.<br /></div><div><br /></div><div>For any inquiries, suggestions or questions, please contact:</div><div><br /></div><div style=\"text-align:center;\"><a href=\"https://www.linkedin.com/in/ktalexan/\" target=\"_blank\"><b>Dr. Kostas Alexandridis, GISP</b></a><br /></div><div style=\"text-align:center;\">GIS Analyst | Spatial Complex Systems Scientist</div><div style=\"text-align:center;\">OC Public Works/OC Survey Geospatial Applications</div><div style=\"text-align:center;\"><div>601 N. Ross Street, P.O. Box 4048, Santa Ana, CA 92701</div><div>Email: <a href=\"mailto:kostas.alexandridis@ocpw.ocgov.com\" target=\"_blank\">kostas.alexandridis@ocpw.ocgov.com</a> | Phone: (714) 967-0826</div><div><br /></div></div></div>\"\"\"\n",
    "mdoParties.thumbnailUri = \"https://ocpw.maps.arcgis.com/sharing/rest/content/items/1e07bb1002f9457fa6fd3540fdb08e29/data\""
   ]
  },
  {
   "cell_type": "markdown",
   "metadata": {},
   "source": [
    "Assign the parties metadata object to the parties feature class"
   ]
  },
  {
   "cell_type": "code",
   "execution_count": null,
   "metadata": {},
   "outputs": [],
   "source": [
    "# Apply the metadata object to the parties feature class\n",
    "mdParties = md.Metadata(parties)\n",
    "if not mdParties.isReadOnly:\n",
    "    mdParties.copy(mdoParties)\n",
    "    mdParties.save()\n",
    "    print(f\"Metadata updated for {partiesAlias} feature class.\")"
   ]
  },
  {
   "cell_type": "markdown",
   "metadata": {},
   "source": [
    "<h2 style=\"font-weight:bold; color:dodgerblue; border-bottom: 1px solid dodgerblue; padding-left: 25px\">3.4. Victims Metadata</h2>"
   ]
  },
  {
   "cell_type": "markdown",
   "metadata": {},
   "source": [
    "Create a new metadata object for the victims feature class"
   ]
  },
  {
   "cell_type": "code",
   "execution_count": null,
   "metadata": {},
   "outputs": [],
   "source": [
    "# Define key metadata attributes for the Victims feature class\n",
    "mdoVictims = md.Metadata()\n",
    "mdoVictims.title = \"OCSWITRS Victims Points\"\n",
    "mdoVictims.tags = \"Orange County, California, Traffic, Traffic Conditions, Crashes, Victims, Collisions, Road Safety, Accidents, SWITRS, OCSWITRS, Transportation\"\n",
    "mdoVictims.summary = f\"Statewide Integrated Traffic Records System (SWITRS) Incident-Involved Victims Data for Orange County, California ({mdYears})\"\n",
    "mdoVictims.description = f\"\"\"<div style=\"text-align:Left;\"><div><div><p><span style=\"font-weight:bold;\">Statewide Integrated Traffic Records System (SWITRS)</span><span> location point data, containing </span><span style=\"font-weight:bold;\">reports on victims/persons involved in crash incidents</span><span> in Orange County, California for {mdYears} ({mdDates}). The data are collected and maintained by the </span><a href=\"https://www.chp.ca.gov:443/\" style=\"text-decoration:underline;\"><span>California Highway Patrol (CHP)</span></a><span>, from incidents reported by local and government agencies. Original tabular datasets are provided by the </span><a href=\"https://tims.berkeley.edu:443/\" style=\"text-decoration:underline;\"><span>Transportation Injury Mapping System (TIMS)</span></a><span>. Only records with reported locational GPS attributes in Orange County are included in the spatial database (either from X and Y geocoded coordinates, or the longitude and latitude coordinates generated by the CHP officer on site). Incidents without valid coordinates are omitted from this spatial dataset representation. Last Updated on <b>{dateUpdated}</b></span></p></div></div></div>\"\"\"\n",
    "mdoVictims.credits = \"Dr. Kostas Alexandridis, GISP, Data Scientist, OC Public Works, OC Survey Geospatial Services\"\n",
    "mdoVictims.accessConstraints = \"\"\"<div style=\"text-align:Left;\"><p><span>The SWITRS data displayed are provided by the California Highway Patrol (CHP) reports through the Transportation Injury Mapping System (TIMS) of the University of California, Berkeley. Issues of report accuracy should be addressed to CHP.</span></p><p>The displayed mapped data can be used under a <a href=\"https://creativecommons.org/licenses/by-sa/3.0/\" target=\"_blank\">Creative Commons CC-SA-BY</a> License, providing attribution to TIMS, CHP, and OC Public Works, OC Survey Geospatial Services. </p><div>We make every effort to provide the most accurate and up-to-date data and information. Nevertheless, the data feed is provided, 'as is' and OC Public Work's standard <a href=\"https://www.ocgov.com/contact-county/disclaimer\" target=\"_blank\">Disclaimer</a> applies.<br /></div><div><br /></div><div>For any inquiries, suggestions or questions, please contact:</div><div><br /></div><div style=\"text-align:center;\"><a href=\"https://www.linkedin.com/in/ktalexan/\" target=\"_blank\"><b>Dr. Kostas Alexandridis, GISP</b></a><br /></div><div style=\"text-align:center;\">GIS Analyst | Spatial Complex Systems Scientist</div><div style=\"text-align:center;\">OC Public Works/OC Survey Geospatial Applications</div><div style=\"text-align:center;\"><div>601 N. Ross Street, P.O. Box 4048, Santa Ana, CA 92701</div><div>Email: <a href=\"mailto:kostas.alexandridis@ocpw.ocgov.com\" target=\"_blank\">kostas.alexandridis@ocpw.ocgov.com</a> | Phone: (714) 967-0826</div><div><br /></div></div></div>\"\"\"\n",
    "mdoVictims.thumbnailUri = \"https://ocpw.maps.arcgis.com/sharing/rest/content/items/78682395df4744009c58625f1db0c25b/data\""
   ]
  },
  {
   "cell_type": "markdown",
   "metadata": {},
   "source": [
    "Assign the victims metadata object to the victims feature class"
   ]
  },
  {
   "cell_type": "code",
   "execution_count": null,
   "metadata": {},
   "outputs": [],
   "source": [
    "# Apply the metadata object to the victims feature class\n",
    "mdVictims = md.Metadata(victims)\n",
    "if not mdVictims.isReadOnly:\n",
    "    mdVictims.copy(mdoVictims)\n",
    "    mdVictims.save()\n",
    "    print(f\"Metadata updated for {victimsAlias} feature class.\")"
   ]
  },
  {
   "cell_type": "markdown",
   "metadata": {},
   "source": [
    "<h2 style=\"font-weight:bold; color:dodgerblue; border-bottom: 1px solid dodgerblue; padding-left: 25px\">3.5. Roads Metadata</h2>"
   ]
  },
  {
   "cell_type": "markdown",
   "metadata": {},
   "source": [
    "Create a new metadata object for the roads feature class"
   ]
  },
  {
   "cell_type": "code",
   "execution_count": null,
   "metadata": {},
   "outputs": [],
   "source": [
    "# Define key metadata attributes for the Roads feature class\n",
    "mdoRoads = md.Metadata()\n",
    "mdoRoads.title = \"OCSWITRS Roads Network\"\n",
    "mdoRoads.tags = \"Orange County, California, Roads, Traffic, Road Safety, Transportation, Collisions, Crashes, SWITRS, OCSWITRS\"\n",
    "mdoRoads.summary = \"All roads for Orange County, California (Primary roads and highways, secondary roads, and local roads)\"\n",
    "mdoRoads.description = \"\"\"<div style=\"text-align:Left;\"><div><div><p><span>The Orange County Roads Network is a comprehensive representation of all roads in the area, including primary roads and highways, secondary roads, and local roads. The data are sourced from the Orange County Department of Public Works and are updated regularly to reflect the most current road network configuration.</span></p></div></div></div>\"\"\"\n",
    "mdoRoads.credits = \"Dr. Kostas Alexandridis, GISP, Data Scientist, OC Public Works, OC Survey Geospatial Services\"\n",
    "mdoRoads.accessConstraints = \"\"\"<div style=\"text-align:Left;\"><div><div><p><span>The feed data and associated resources (maps, apps, endpoints) can be used under a <a href=\"https://creativecommons.org/licenses/by-sa/3.0/\" target=\"_blank\">Creative Commons CC-SA-BY</a> License, providing attribution to OC Public Works, OC Survey Geospatial Services. </p><div>We make every effort to provide the most accurate and up-to-date data and information. Nevertheless, the data feed is provided, 'as is' and OC Public Work's standard <a href=\"https://www.ocgov.com/contact-county/disclaimer\" target=\"_blank\">Disclaimer</a> applies.<br /></div><div><br /></div><div>For any inquiries, suggestions or questions, please contact:</div><div><br /></div><div style=\"text-align:center;\"><a href=\"https://www.linkedin.com/in/ktalexan/\" target=\"_blank\"><b>Dr. Kostas Alexandridis, GISP</b></a><br /></div><div style=\"text-align:center;\">GIS Analyst | Spatial Complex Systems Scientist</div><div style=\"text-align:center;\">OC Public Works/OC Survey Geospatial Applications</div><div style=\"text-align:center;\"><div>601 N. Ross Street, P.O. Box 4048, Santa Ana, CA 92701</div><div>Email: <a href=\"mailto:kostas.alexandridis@ocpw.ocgov.com\" target=\"_blank\">kostas.alexandridis@ocpw.ocgov.com</a> | Phone: (714) 967-0826</div><div><br /></div></div></div>\"\"\"\n",
    "mdoRoads.thumbnailUri = \"https://ocpw.maps.arcgis.com/sharing/rest/content/items/76f6fbe9acbb482c9684307854d6352b/data\""
   ]
  },
  {
   "cell_type": "markdown",
   "metadata": {},
   "source": [
    "Assign the roads metadata object to the roads feature class"
   ]
  },
  {
   "cell_type": "code",
   "execution_count": null,
   "metadata": {},
   "outputs": [],
   "source": [
    "# Apply the metadata object to the roads feature class\n",
    "mdRoads = md.Metadata(roads)\n",
    "if not mdRoads.isReadOnly:\n",
    "    mdRoads.copy(mdoRoads)\n",
    "    mdRoads.save()\n",
    "    print(f\"Metadata updated for {roadsAlias} feature class.\")"
   ]
  },
  {
   "cell_type": "markdown",
   "metadata": {},
   "source": [
    "<h2 style=\"font-weight:bold; color:dodgerblue; border-bottom: 1px solid dodgerblue; padding-left: 25px\">3.6. Census Blocks Metadata</h2>"
   ]
  },
  {
   "cell_type": "markdown",
   "metadata": {},
   "source": [
    "Create a new metadata object for the census blocks feature class"
   ]
  },
  {
   "cell_type": "code",
   "execution_count": null,
   "metadata": {},
   "outputs": [],
   "source": [
    "# Define key metadata attributes for the US Census 2020 Blocks feature class\n",
    "mdoCensusBlocks = md.Metadata()\n",
    "mdoCensusBlocks.title = \"OCSWITRS US Census 2020 Blocks\"\n",
    "mdoCensusBlocks.tags = \"Orange County, California, US Census 2020, Blocks, Census, Demographics, Population\"\n",
    "mdoCensusBlocks.summary = \"US Census 2020 Blocks for Orange County, California\"\n",
    "mdoCensusBlocks.description = \"\"\"<div style=\"text-align:Left;\"><div><div><p><span>The US Census 2020 Blocks feature class provides a comprehensive representation of the 2020 Census Blocks for Orange County, California. The data are sourced from the US Census Bureau and are updated regularly to reflect the most current demographic and population data.</span></p></div></div></div>\"\"\"\n",
    "mdoCensusBlocks.credits = \"Dr. Kostas Alexandridis, GISP, Data Scientist, OC Public Works, OC Survey Geospatial Services\"\n",
    "mdoCensusBlocks.accessConstraints = \"\"\"<div style=\"text-align:Left;\"><div><div><p><span>The feed data and associated resources (maps, apps, endpoints) can be used under a <a href=\"https://creativecommons.org/licenses/by-sa/3.0/\" target=\"_blank\">Creative Commons CC-SA-BY</a> License, providing attribution to OC Public Works, OC Survey Geospatial Services. </p><div>We make every effort to provide the most accurate and up-to-date data and information. Nevertheless, the data feed is provided, 'as is' and OC Public Work's standard <a href=\"https://www.ocgov.com/contact-county/disclaimer\" target=\"_blank\">Disclaimer</a> applies.<br /></div><div><br /></div><div>For any inquiries, suggestions or questions, please contact:</div><div><br /></div><div style=\"text-align:center;\"><a href=\"https://www.linkedin.com/in/ktalexan/\" target=\"_blank\"><b>Dr. Kostas Alexandridis, GISP</b></a><br /></div><div style=\"text-align:center;\">GIS Analyst | Spatial Complex Systems Scientist</div><div style=\"text-align:center;\">OC Public Works/OC Survey Geospatial Applications</div><div style=\"text-align:center;\"><div>601 N. Ross Street, P.O. Box 4048, Santa Ana, CA 92701</div><div>Email: <a href=\"mailto:kostas.alexandridis@ocpw.ocgov.com\" target=\"_blank\">kostas.alexandridis@ocpw.ocgov.com</a> | Phone: (714) 967-0826</div><div><br /></div></div></div>\"\"\"\n",
    "mdoCensusBlocks.thumbnailUri = \"https://ocpw.maps.arcgis.com/sharing/rest/content/items/e2c4cd39783a4d1bb0925ead15a23cdc/data\""
   ]
  },
  {
   "cell_type": "markdown",
   "metadata": {},
   "source": [
    "Assign the census blocks metadata object to the census blocks feature class"
   ]
  },
  {
   "cell_type": "code",
   "execution_count": null,
   "metadata": {},
   "outputs": [],
   "source": [
    "# Apply the metadata object to the US Census 2020 Blocks feature class\n",
    "mdCensusBlocks = md.Metadata(censusBlocks)\n",
    "if not mdCensusBlocks.isReadOnly:\n",
    "    mdCensusBlocks.copy(mdoCensusBlocks)\n",
    "    mdCensusBlocks.save()\n",
    "    print(f\"Metadata updated for {censusBlocksAlias} feature class.\")"
   ]
  },
  {
   "cell_type": "markdown",
   "metadata": {},
   "source": [
    "<h2 style=\"font-weight:bold; color:dodgerblue; border-bottom: 1px solid dodgerblue; padding-left: 25px\">3.7. Cities Metadata</h2>"
   ]
  },
  {
   "cell_type": "markdown",
   "metadata": {},
   "source": [
    "Create a new metadata object for the cities feature class"
   ]
  },
  {
   "cell_type": "code",
   "execution_count": null,
   "metadata": {},
   "outputs": [],
   "source": [
    "# Define key metadata attributes for the Cities feature class\n",
    "mdoCities = md.Metadata()\n",
    "mdoCities.title = \"OCSWITRS Cities Boundaries\"\n",
    "mdoCities.tags = \"Orange County, California, Cities, Traffic, Road Safety, Transportation, Collisions, Crashes, SWITRS, OCSWITRS\"\n",
    "mdoCities.summary = \"Orange County City and Unincorporated Areas Land Boundaries, enriched with geodemographic characteristics\"\n",
    "mdoCities.description = \"\"\"<div style=\"text-align:Left;\"><div><div><p><span>The Orange County City and Unincorporated Areas Land Boundaries are enriched with a comprehensive set of geodemographic characteristics from OC ACS 2021 data. These characteristics span across demographic, housing, economic, and social aspects, providing a holistic view of the area. </span></p><p><span>The geodemographic data originate from the US Census American Community Survey (ACS) 2021, a 5-year estimate of the key Characteristics of Cities' geographic level in Orange County, California. The data contains:</span></p><ul><li><p><span>Total population and housing counts for each area;</span></p></li><li><p><span>Population and housing density measurements (per square mile);</span></p></li><li><p><span>Race counts for Asian, Black or African American, Hispanic and White groups;</span></p></li><li><p><span>Aggregate values for the number of vehicles commuting and travel time to work;</span></p></li></ul></div></div></div>\"\"\"\n",
    "mdoCities.credits = \"Dr. Kostas Alexandridis, GISP, Data Scientist, OC Public Works, OC Survey Geospatial Services\"\n",
    "mdoCities.accessConstraints = \"\"\"<div style=\"text-align:Left;\"><div><div><p><span>The feed data and associated resources (maps, apps, endpoints) can be used under a <a href=\"https://creativecommons.org/licenses/by-sa/3.0/\" target=\"_blank\">Creative Commons CC-SA-BY</a> License, providing attribution to OC Public Works, OC Survey Geospatial Services. </p><div>We make every effort to provide the most accurate and up-to-date data and information. Nevertheless, the data feed is provided, 'as is' and OC Public Work's standard <a href=\"https://www.ocgov.com/contact-county/disclaimer\" target=\"_blank\">Disclaimer</a> applies.<br /></div><div><br /></div><div>For any inquiries, suggestions or questions, please contact:</div><div><br /></div><div style=\"text-align:center;\"><a href=\"https://www.linkedin.com/in/ktalexan/\" target=\"_blank\"><b>Dr. Kostas Alexandridis, GISP</b></a><br /></div><div style=\"text-align:center;\">GIS Analyst | Spatial Complex Systems Scientist</div><div style=\"text-align:center;\">OC Public Works/OC Survey Geospatial Applications</div><div style=\"text-align:center;\"><div>601 N. Ross Street, P.O. Box 4048, Santa Ana, CA 92701</div><div>Email: <a href=\"mailto:kostas.alexandridis@ocpw.ocgov.com\" target=\"_blank\">kostas.alexandridis@ocpw.ocgov.com</a> | Phone: (714) 967-0826</div><div><br /></div></div></div>\"\"\"\n",
    "mdoCities.thumbnailUri = \"https://ocpw.maps.arcgis.com/sharing/rest/content/items/ffe4a73307a245eda7dc7eaffe1db6d2/data\""
   ]
  },
  {
   "cell_type": "markdown",
   "metadata": {},
   "source": [
    "Assign the cities metadata object to the cities feature class"
   ]
  },
  {
   "cell_type": "code",
   "execution_count": null,
   "metadata": {},
   "outputs": [],
   "source": [
    "# Apply the metadata object to the Cities feature class\n",
    "mdCities = md.Metadata(cities)\n",
    "if not mdCities.isReadOnly:\n",
    "    mdCities.copy(mdoCities)\n",
    "    mdCities.save()\n",
    "    print(f\"Metadata updated for {citiesAlias} feature class.\")"
   ]
  },
  {
   "cell_type": "markdown",
   "metadata": {},
   "source": [
    "<h2 style=\"font-weight:bold; color:dodgerblue; border-bottom: 1px solid dodgerblue; padding-left: 25px\">3.8. Boundaries Metadata</h2>"
   ]
  },
  {
   "cell_type": "markdown",
   "metadata": {},
   "source": [
    "Create a new metadata object for the boundaries feature class"
   ]
  },
  {
   "cell_type": "code",
   "execution_count": null,
   "metadata": {},
   "outputs": [],
   "source": [
    "# Define key metadata attributes for the Boundaries feature class\n",
    "mdoBoundaries = md.Metadata()\n",
    "mdoBoundaries.title = \"OC Land Boundaries\"\n",
    "mdoBoundaries.tags = \"Orange County, California, Boundaries, Traffic, Road Safety, Transportation, Collisions, Crashes, SWITRS, OCSWITRS\"\n",
    "mdoBoundaries.summary = \"Land boundaries for Orange County, cities, and unincorporated areas\"\n",
    "mdoBoundaries.description = \"\"\"<div style=\"text-align:Left;\"><div><div><p><span>Land boundaries for Orange County, cities, and unincorporated areas (based on the five supervisorial districts). Contains additional geodemographic data on population and housing from the US Census 2021 American Community Survey (ACS).</span></p></div></div></div>\"\"\"\n",
    "mdoBoundaries.credits = \"Dr. Kostas Alexandridis, GISP, Data Scientist, OC Public Works, OC Survey Geospatial Services\"\n",
    "mdoBoundaries.accessConstraints = \"\"\"<div style=\"text-align:Left;\"><div><div><p><span>The feed data and associated resources (maps, apps, endpoints) can be used under a <a href=\"https://creativecommons.org/licenses/by-sa/3.0/\" target=\"_blank\">Creative Commons CC-SA-BY</a> License, providing attribution to OC Public Works, OC Survey Geospatial Services. </p><div>We make every effort to provide the most accurate and up-to-date data and information. Nevertheless, the data feed is provided, 'as is' and OC Public Work's standard <a href=\"https://www.ocgov.com/contact-county/disclaimer\" target=\"_blank\">Disclaimer</a> applies.<br /></div><div><br /></div><div>For any inquiries, suggestions or questions, please contact:</div><div><br /></div><div style=\"text-align:center;\"><a href=\"https://www.linkedin.com/in/ktalexan/\" target=\"_blank\"><b>Dr. Kostas Alexandridis, GISP</b></a><br /></div><div style=\"text-align:center;\">GIS Analyst | Spatial Complex Systems Scientist</div><div style=\"text-align:center;\">OC Public Works/OC Survey Geospatial Applications</div><div style=\"text-align:center;\"><div>601 N. Ross Street, P.O. Box 4048, Santa Ana, CA 92701</div><div>Email: <a href=\"mailto:kostas.alexandridis@ocpw.ocgov.com\" target=\"_blank\">kostas.alexandridis@ocpw.ocgov.com</a> | Phone: (714) 967-0826</div><div><br /></div></div></div>\"\"\"\n",
    "mdoBoundaries.thumbnailUri = \"https://ocpw.maps.arcgis.com/sharing/rest/content/items/4041c4b1f4234218a4ce654e5d22f176/data\""
   ]
  },
  {
   "cell_type": "markdown",
   "metadata": {},
   "source": [
    "Assign the boundaries metadata object to the boundaries feature class"
   ]
  },
  {
   "cell_type": "code",
   "execution_count": null,
   "metadata": {},
   "outputs": [],
   "source": [
    "# Apply the metadata object to the Boundaries feature class\n",
    "mdBoundaries = md.Metadata(boundaries)\n",
    "if not mdBoundaries.isReadOnly:\n",
    "    mdBoundaries.copy(mdoBoundaries)\n",
    "    mdBoundaries.save()\n",
    "    print(f\"Metadata updated for {boundariesAlias} feature class.\")"
   ]
  },
  {
   "cell_type": "markdown",
   "metadata": {},
   "source": [
    "<h3 style=\"font-weight:bold; color:lime; padding-left: 50px\">Save Project</h3>"
   ]
  },
  {
   "cell_type": "code",
   "execution_count": null,
   "metadata": {},
   "outputs": [],
   "source": [
    "# Save the project\n",
    "aprx.save()"
   ]
  },
  {
   "cell_type": "markdown",
   "metadata": {},
   "source": [
    "<div style = \"background-color:indigo\"><center>\n",
    "<h1 style=\"font-weight:bold; color:goldenrod; border-top: 2px solid goldenrod; border-bottom: 2px solid goldenrod; padding-top: 5px; padding-bottom: 10px\">End of Script</h1>\n",
    "</center></div>"
   ]
  }
 ],
 "metadata": {
  "kernelspec": {
   "display_name": "agpenv",
   "language": "python",
   "name": "python3"
  },
  "language_info": {
   "codemirror_mode": {
    "name": "ipython",
    "version": 3
   },
   "file_extension": ".py",
   "mimetype": "text/x-python",
   "name": "python",
   "nbconvert_exporter": "python",
   "pygments_lexer": "ipython3",
   "version": "3.11.10"
  }
 },
 "nbformat": 4,
 "nbformat_minor": 4
}
