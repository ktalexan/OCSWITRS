{
 "cells": [
  {
   "cell_type": "markdown",
   "metadata": {},
   "source": [
    "<div style = \"background-color:indigo\"><center>\n",
    "<h1 style=\"font-size: 50px; font-weight: bold; color:goldenrod; border-top: 3px solid goldenrod; padding-top: 10px\">OC SWITRS GIS Data Processing</h1>\n",
    "<div style=\"font-size: 35px; font-weight: bold; color: goldenrod\"> Part 1 - Feature Class Geoprocessing</div>\n",
    "<div style=\"font-size: 30px; font-weight: bold; color: goldenrod; border-bottom: 3px solid goldenrod; padding-bottom: 20px\">v.2.1, May 2025</div>\n",
    "</center></div>"
   ]
  },
  {
   "cell_type": "markdown",
   "metadata": {},
   "source": [
    "<h1 style=\"font-weight:bold; color:orangered; border-bottom: 2px solid orangered\">1. Preliminaries</h1>"
   ]
  },
  {
   "cell_type": "markdown",
   "metadata": {},
   "source": [
    "<h2 style=\"font-weight:bold; color:dodgerblue; border-bottom: 1px solid dodgerblue; padding-left: 25px\">1.1 Referencing Libraries and Initialization</h2>"
   ]
  },
  {
   "cell_type": "markdown",
   "metadata": {},
   "source": [
    "If needed to reset the kernel, please run the following cell:"
   ]
  },
  {
   "cell_type": "code",
   "execution_count": null,
   "metadata": {},
   "outputs": [],
   "source": [
    "#%reset"
   ]
  },
  {
   "cell_type": "markdown",
   "metadata": {},
   "source": [
    "Instantiating python libraries for the project"
   ]
  },
  {
   "cell_type": "code",
   "execution_count": 1,
   "metadata": {},
   "outputs": [],
   "source": [
    "# Import Python libraries\n",
    "import os, json, pytz, math, arcpy, arcgis\n",
    "from datetime import date, time, datetime, timedelta, tzinfo, timezone\n",
    "from arcpy import metadata as md\n",
    "\n",
    "# important as it \"enhances\" Pandas by importing these classes (from ArcGIS API for Python)\n",
    "from arcgis.features import GeoAccessor, GeoSeriesAccessor"
   ]
  },
  {
   "cell_type": "markdown",
   "metadata": {},
   "source": [
    "<h2 style=\"font-weight:bold; color:dodgerblue; border-bottom: 1px solid dodgerblue; padding-left: 25px\">1.2. Project and Workspace Variables</h2>"
   ]
  },
  {
   "cell_type": "markdown",
   "metadata": {},
   "source": [
    "Define and maitnain project, workspace, ArcGIS, and data-related variables"
   ]
  },
  {
   "cell_type": "markdown",
   "metadata": {},
   "source": [
    "<h3 style=\"font-weight:bold; color:lime; padding-left: 50px\">Project and Geodatabase Paths</h3>"
   ]
  },
  {
   "cell_type": "markdown",
   "metadata": {},
   "source": [
    "Define the ArcGIS pro project variables"
   ]
  },
  {
   "cell_type": "code",
   "execution_count": 11,
   "metadata": {},
   "outputs": [],
   "source": [
    "# Current notebook directory\n",
    "notebookDir = os.getcwd()\n",
    "\n",
    "# Define the project folder (parent directory of the current working directory)\n",
    "projectFolder = os.path.dirname(os.getcwd())"
   ]
  },
  {
   "cell_type": "markdown",
   "metadata": {},
   "source": [
    "Which running environment this notebook is using? (1 = Visual Studio Code, 2 = ArcGIS Pro)"
   ]
  },
  {
   "cell_type": "code",
   "execution_count": 12,
   "metadata": {},
   "outputs": [],
   "source": [
    "runEnv = input(\"Enter the running environment (1=VSCode, 2=ArcGIS Pro): \")"
   ]
  },
  {
   "cell_type": "markdown",
   "metadata": {},
   "source": [
    "<h3 style=\"font-weight:bold; color:lime; padding-left: 50px\">ArcGIS Pro Paths</h3>"
   ]
  },
  {
   "cell_type": "markdown",
   "metadata": {},
   "source": [
    "ArcGIS pro related paths"
   ]
  },
  {
   "cell_type": "code",
   "execution_count": 13,
   "metadata": {},
   "outputs": [
    {
     "name": "stdout",
     "output_type": "stream",
     "text": [
      "Running in VSCode (project = aprxPath)\n"
     ]
    }
   ],
   "source": [
    "# OCSWITRS project AGP path\n",
    "agpFolder = os.path.join(projectFolder, \"AGPSWITRS\")\n",
    "\n",
    "# AGP APRX file name and path\n",
    "aprxName = \"AGPSWITRS.aprx\"\n",
    "aprxPath = os.path.join(agpFolder, aprxName)\n",
    "\n",
    "# ArcGIS Pro project geodatabase and path\n",
    "gdbName = \"AGPSWITRS.gdb\"\n",
    "gdbPath = os.path.join(agpFolder, gdbName)\n",
    "\n",
    "# ArcGIS pro project\n",
    "if runEnv == \"1\":  # VSCode\n",
    "    print(\"Running in VSCode (project = aprxPath)\")\n",
    "    aprx = arcpy.mp.ArcGISProject(aprxPath)\n",
    "elif runEnv == \"2\":  # ArcGIS Pro\n",
    "    print(\"Running in ArcGIS Pro (project = CURRENT)\")\n",
    "    aprx = arcpy.mp.ArcGISProject('CURRENT')\n",
    "\n",
    "# Close all map views\n",
    "aprx.closeViews()\n",
    "\n",
    "# Current ArcGIS workspace (arcpy)\n",
    "arcpy.env.workspace = gdbPath\n",
    "workspace = arcpy.env.workspace\n",
    "# Enable overwriting existing outputs\n",
    "arcpy.env.overwriteOutput = True\n",
    "# Disable adding outputs to map\n",
    "arcpy.env.addOutputsToMap = False"
   ]
  },
  {
   "cell_type": "markdown",
   "metadata": {},
   "source": [
    "<h3 style=\"font-weight:bold; color:lime; padding-left: 50px\">Folder Paths</h3>"
   ]
  },
  {
   "cell_type": "code",
   "execution_count": 14,
   "metadata": {},
   "outputs": [],
   "source": [
    "# Raw data folder path\n",
    "rawDataFolder = os.path.join(projectFolder, \"data\", \"raw\")\n",
    "\n",
    "# Maps folder path\n",
    "mapsFolder = os.path.join(projectFolder, \"maps\")\n",
    "\n",
    "# Layers folder path\n",
    "layersFolder = os.path.join(projectFolder, \"layers\")\n",
    "layersTemplate = os.path.join(layersFolder, \"templates\")\n",
    "\n",
    "# Layouts folder path\n",
    "layoutsFolder = os.path.join(projectFolder, \"layouts\")\n",
    "\n",
    "# Notebooks folder path\n",
    "notebooksFolder = os.path.join(projectFolder, \"notebooks\")\n",
    "codebookPath = os.path.join(projectFolder, \"scripts\", \"codebook\", \"cb.json\")"
   ]
  },
  {
   "cell_type": "markdown",
   "metadata": {},
   "source": [
    "Geodatabase feature datasets paths (directories)"
   ]
  },
  {
   "cell_type": "code",
   "execution_count": 15,
   "metadata": {},
   "outputs": [],
   "source": [
    "# RawData feature dataset in the geodatabase\n",
    "gdbRawData = os.path.join(gdbPath, \"RawData\")\n",
    "\n",
    "# RawData feature dataset in the geodatabase\n",
    "gdbSupportingData = os.path.join(gdbPath, \"SupportingData\")\n",
    "\n",
    "# AnalysisData feature dataset in the geodatabase\n",
    "gdbAnalysisData = os.path.join(gdbPath, \"AnalysisData\")\n",
    "\n",
    "# HotSpotData feature dataset in the geodatabase\n",
    "gdbHotspotData = os.path.join(gdbPath, \"HotSpotData\")"
   ]
  },
  {
   "cell_type": "markdown",
   "metadata": {},
   "source": [
    "<h3 style=\"font-weight:bold; color:lime; padding-left: 50px\">Data Folder Paths</h3>"
   ]
  },
  {
   "cell_type": "markdown",
   "metadata": {},
   "source": [
    "The most current raw data files cover the periods from 01/01/2013 to 09/30/2024. The data files are already processed in the R scripts and imported into the project's geodatabase."
   ]
  },
  {
   "cell_type": "code",
   "execution_count": 16,
   "metadata": {},
   "outputs": [],
   "source": [
    "# Add the start date of the raw data to a new python datetime object\n",
    "dateStart = datetime(2012, 1, 1)\n",
    "\n",
    "# Add the end date of the raw data to a new python datetime object\n",
    "dateEnd = datetime(2024, 12, 31)\n",
    "\n",
    "# Define time and date variables\n",
    "timeZone = pytz.timezone(\"US/Pacific\")\n",
    "today = datetime.now(timeZone)\n",
    "dateUpdated = today.strftime(\"%B %d, %Y\")\n",
    "timeUpdated = today.strftime(\"%I:%M %p\")"
   ]
  },
  {
   "cell_type": "markdown",
   "metadata": {},
   "source": [
    "Define date strings for metadata"
   ]
  },
  {
   "cell_type": "code",
   "execution_count": 17,
   "metadata": {},
   "outputs": [],
   "source": [
    "# String defining the years of the raw data\n",
    "mdYears = f\"{dateStart.year}-{dateEnd.year}\"\n",
    "\n",
    "# String defining the start and end dates of the raw data\n",
    "mdDates = f\"Data from {dateStart.strftime('%B %d, %Y')} to {dateEnd.strftime('%B %d, %Y')}\""
   ]
  },
  {
   "cell_type": "markdown",
   "metadata": {},
   "source": [
    "<h3 style=\"font-weight:bold; color:lime; padding-left: 50px\">Codebook</h3>"
   ]
  },
  {
   "cell_type": "code",
   "execution_count": 18,
   "metadata": {},
   "outputs": [],
   "source": [
    "# Load the JSON file from directory and store it in a variable\n",
    "with open(codebookPath) as jsonFile:\n",
    "    codebook = json.load(jsonFile)"
   ]
  },
  {
   "cell_type": "markdown",
   "metadata": {},
   "source": [
    "<h3 style=\"font-weight:bold; color:lime; padding-left: 50px\">JSON CIM Exports</h3>"
   ]
  },
  {
   "cell_type": "markdown",
   "metadata": {},
   "source": [
    "Creating a function to export the CIM JSON files to disk."
   ]
  },
  {
   "cell_type": "code",
   "execution_count": 19,
   "metadata": {},
   "outputs": [],
   "source": [
    "def export_cim(cimType, cimObject, cimName):\n",
    "    \"\"\"Export a CIM object to a file in both native (MAPX, PAGX, LYRX) and JSON CIM formats.\"\"\"\n",
    "    match cimType:\n",
    "        # When the CIM object is a map\n",
    "        case \"map\":\n",
    "            # Export the CIM object to a MAPX file\n",
    "            print(f\"Exporting {cimName} map to MAPX...\")\n",
    "            cimObject.exportToMAPX(os.path.join(mapsFolder, cimName+\".mapx\"))\n",
    "            print(arcpy.GetMessages())\n",
    "            \n",
    "            # Export the CIM object to a JSON file\n",
    "            print(f\"Exporting {cimName} map to JSON...\\n\")\n",
    "            with open(os.path.join(mapsFolder, cimName+\".mapx\"), \"r\") as f:\n",
    "                data = f.read()\n",
    "            with open(os.path.join(mapsFolder, cimName+\".json\"), \"w\") as f:\n",
    "                f.write(data)\n",
    "        \n",
    "        # When the CIM object is a layout\n",
    "        case \"layout\":\n",
    "            # Export the CIM object to a PAGX file\n",
    "            print(f\"Exporting {cimName} layout to PAGX...\")\n",
    "            cimObject.exportToPAGX(os.path.join(layoutsFolder, cimName+\".pagx\"))\n",
    "            print(arcpy.GetMessages())\n",
    "            \n",
    "            # Export the CIM object to a JSON file\n",
    "            print(f\"Exporting {cimName} layout to JSON...\\n\")\n",
    "            with open(os.path.join(layoutsFolder, cimName+\".pagx\"), \"r\") as f:\n",
    "                data = f.read()\n",
    "            with open(os.path.join(layoutsFolder, cimName+\".json\"), \"w\") as f:\n",
    "                f.write(data)\n",
    "        \n",
    "        # When the CIM object is a layer\n",
    "        case \"layer\":\n",
    "            # Export the CIM object to a LYRX file\n",
    "            print(f\"Exporting {cimName} layer to LYRX...\")\n",
    "            # Reformat the name of the output file\n",
    "            for m in aprx.listMaps():\n",
    "                for l in m.listLayers():\n",
    "                    if l == cimObject:\n",
    "                        cimNewName = m.name.title()+\"Map-\"+l.name.replace(\"OCSWITRS \", \"\")\n",
    "            # Save the layer to a LYRX file\n",
    "            arcpy.management.SaveToLayerFile(cimObject, os.path.join(layersFolder, cimNewName + \".lyrx\"))\n",
    "            print(arcpy.GetMessages())\n",
    "            \n",
    "            # Export the CIM object to a JSON file\n",
    "            print(f\"Exporting {cimName} layer to JSON...\\n\")\n",
    "            with open(os.path.join(layersFolder, cimNewName+\".lyrx\"), \"r\") as f:\n",
    "                data = f.read()\n",
    "            with open(os.path.join(layersFolder, cimNewName+\".json\"), \"w\") as f:\n",
    "                f.write(data)"
   ]
  },
  {
   "cell_type": "markdown",
   "metadata": {},
   "source": [
    "<h2 style=\"font-weight:bold; color:dodgerblue; border-bottom: 1px solid dodgerblue; padding-left: 25px\">1.3. ArcGIS Pro Workspace</h2>"
   ]
  },
  {
   "cell_type": "markdown",
   "metadata": {},
   "source": [
    "Set the workspace and environment settings for the ArcGIS Pro project"
   ]
  },
  {
   "cell_type": "code",
   "execution_count": 20,
   "metadata": {},
   "outputs": [],
   "source": [
    "# Set the workspace and environment to the root of the project geodatabase\n",
    "arcpy.env.workspace = gdbPath\n",
    "workspace = arcpy.env.workspace\n",
    "\n",
    "# Current ArcGIS workspace (arcpy)\n",
    "arcpy.env.workspace = gdbPath\n",
    "workspace = arcpy.env.workspace\n",
    "\n",
    "# Enable overwriting existing outputs\n",
    "arcpy.env.overwriteOutput = True\n",
    "\n",
    "# Disable adding outputs to map\n",
    "arcpy.env.addOutputsToMap = False"
   ]
  },
  {
   "cell_type": "markdown",
   "metadata": {},
   "source": [
    "<h2 style=\"font-weight:bold; color:dodgerblue; border-bottom: 1px solid dodgerblue; padding-left: 25px\">1.4. Map and Layout Lists</h2>"
   ]
  },
  {
   "cell_type": "markdown",
   "metadata": {},
   "source": [
    "<h3 style=\"font-weight:bold; color:lime; padding-left: 50px\">Project Maps</h3>"
   ]
  },
  {
   "cell_type": "code",
   "execution_count": 21,
   "metadata": {},
   "outputs": [],
   "source": [
    "# List of maps to be created for the project\n",
    "mapList = [\"collisions\", \"crashes\", \"parties\", \"victims\", \"injuries\", \"fatalities\", \"fhs100m1km\", \"fhs150m2km\", \"fhs100m5km\", \"fhsRoads500ft\", \"ohsRoads500ft\", \"roadCrashes\",\n",
    "           \"roadHotspots\", \"roadBuffers\", \"roadSegments\", \"roads\", \"pointFhs\", \"pointOhs\", \"popDens\", \"houDens\", \"areaCities\", \"areaBlocks\", \"summaries\", \"analysis\", \"regression\"]"
   ]
  },
  {
   "cell_type": "markdown",
   "metadata": {},
   "source": [
    "<h3 style=\"font-weight:bold; color:lime; padding-left: 50px\">Project Layouts</h3>"
   ]
  },
  {
   "cell_type": "code",
   "execution_count": 22,
   "metadata": {},
   "outputs": [],
   "source": [
    "# List or layouts to be created for the project\n",
    "layoutList = [\"maps\", \"injuries\", \"hotspots\", \"roads\", \"points\", \"densities\", \"areas\"]"
   ]
  },
  {
   "cell_type": "markdown",
   "metadata": {},
   "source": [
    "<h2 style=\"font-weight:bold; color:dodgerblue; border-bottom: 1px solid dodgerblue; padding-left: 25px\">1.5. Clean Up Data</h2>"
   ]
  },
  {
   "cell_type": "markdown",
   "metadata": {},
   "source": [
    "<h3 style=\"font-weight:bold; color:lime; padding-left: 50px\">Delete Feature Classes</h3>"
   ]
  },
  {
   "cell_type": "markdown",
   "metadata": {},
   "source": [
    "Clean up the feature classes in the geodatabase for the Analysis and Hotspot Feature Datasets"
   ]
  },
  {
   "cell_type": "code",
   "execution_count": 23,
   "metadata": {},
   "outputs": [
    {
     "name": "stdout",
     "output_type": "stream",
     "text": [
      "Dataset: AnalysisData\n",
      "- Removing roadsMajor feature class from the project...\n",
      "- Removing roadsMajorBuffers feature class from the project...\n",
      "- Removing roadsMajorBuffersSum feature class from the project...\n",
      "- Removing roadsMajorPointsAlongLines feature class from the project...\n",
      "- Removing roadsMajorSplit feature class from the project...\n",
      "- Removing roadsMajorSplitBuffer feature class from the project...\n",
      "- Removing roadsMajorSplitBufferSum feature class from the project...\n",
      "- Removing censusBlocksSum feature class from the project...\n",
      "- Removing citiesSum feature class from the project...\n",
      "- Removing crashes500ftFromMajorRoads feature class from the project...\n",
      "Dataset: HotSpotData\n",
      "- Removing crashesHotspots feature class from the project...\n",
      "- Removing crashesOptimizedHotspots feature class from the project...\n",
      "- Removing crashesFindHotspots100m1km feature class from the project...\n",
      "- Removing crashesFindHotspots150m2km feature class from the project...\n",
      "- Removing crashesFindHotspots100m5km feature class from the project...\n",
      "- Removing crashesHotspots500ftFromMajorRoads feature class from the project...\n",
      "- Removing crashesFindHotspots500ftMajorRoads500ft1mi feature class from the project...\n"
     ]
    }
   ],
   "source": [
    "for d in [\"AnalysisData\", \"HotSpotData\"]:\n",
    "    print(f\"Dataset: {d}\")\n",
    "    for f in arcpy.ListFeatureClasses(feature_dataset = d):\n",
    "        print(f\"- Removing {f} feature class from the project...\")\n",
    "        arcpy.management.Delete(f)"
   ]
  },
  {
   "cell_type": "markdown",
   "metadata": {},
   "source": [
    "<h3 style=\"font-weight:bold; color:lime; padding-left: 50px\">Delete Maps</h3>"
   ]
  },
  {
   "cell_type": "markdown",
   "metadata": {},
   "source": [
    "Clean up the maps in the project structure"
   ]
  },
  {
   "cell_type": "code",
   "execution_count": 24,
   "metadata": {},
   "outputs": [
    {
     "name": "stdout",
     "output_type": "stream",
     "text": [
      "- Removing analysis map from the project...\n",
      "- Removing areaBlocks map from the project...\n",
      "- Removing areaCities map from the project...\n",
      "- Removing collisions map from the project...\n",
      "- Removing crashes map from the project...\n",
      "- Removing fatalities map from the project...\n",
      "- Removing fhs100m1km map from the project...\n",
      "- Removing fhs100m5km map from the project...\n",
      "- Removing fhs150m2km map from the project...\n",
      "- Removing fhsRoads500ft map from the project...\n",
      "- Removing houDens map from the project...\n",
      "- Removing injuries map from the project...\n",
      "- Removing ohsRoads500ft map from the project...\n",
      "- Removing parties map from the project...\n",
      "- Removing pointFhs map from the project...\n",
      "- Removing pointOhs map from the project...\n",
      "- Removing popDens map from the project...\n",
      "- Removing regression map from the project...\n",
      "- Removing roadBuffers map from the project...\n",
      "- Removing roadCrashes map from the project...\n",
      "- Removing roadHotspots map from the project...\n",
      "- Removing roads map from the project...\n",
      "- Removing roadSegments map from the project...\n",
      "- Removing summaries map from the project...\n",
      "- Removing victims map from the project...\n"
     ]
    }
   ],
   "source": [
    "for m in aprx.listMaps():\n",
    "    print(f\"- Removing {m.name} map from the project...\")\n",
    "    aprx.deleteItem(m)"
   ]
  },
  {
   "cell_type": "markdown",
   "metadata": {},
   "source": [
    "<h3 style=\"font-weight:bold; color:lime; padding-left: 50px\">Delete Layouts</h3>"
   ]
  },
  {
   "cell_type": "markdown",
   "metadata": {},
   "source": [
    "Clean up the layouts in the project structure"
   ]
  },
  {
   "cell_type": "code",
   "execution_count": 25,
   "metadata": {},
   "outputs": [
    {
     "name": "stdout",
     "output_type": "stream",
     "text": [
      "- Removing maps layout from the project...\n",
      "- Removing injuries layout from the project...\n",
      "- Removing hotspots layout from the project...\n",
      "- Removing roads layout from the project...\n",
      "- Removing points layout from the project...\n",
      "- Removing density layout from the project...\n",
      "- Removing areas layout from the project...\n"
     ]
    }
   ],
   "source": [
    "for l in aprx.listLayouts():\n",
    "    print(f\"- Removing {l.name} layout from the project...\")\n",
    "    aprx.deleteItem(l)"
   ]
  },
  {
   "cell_type": "markdown",
   "metadata": {},
   "source": [
    "<h3 style=\"font-weight:bold; color:lime; padding-left: 50px\">Save Project</h3>"
   ]
  },
  {
   "cell_type": "code",
   "execution_count": 26,
   "metadata": {},
   "outputs": [],
   "source": [
    "# Save the project\n",
    "aprx.save()"
   ]
  },
  {
   "cell_type": "markdown",
   "metadata": {},
   "source": [
    "<h1 style=\"font-weight:bold; color:orangered; border-bottom: 2px solid orangered\">2. Geodatabase Operations</h1>"
   ]
  },
  {
   "cell_type": "markdown",
   "metadata": {},
   "source": [
    "<h2 style=\"font-weight:bold; color:dodgerblue; border-bottom: 1px solid dodgerblue; padding-left: 25px\">2.1. Raw Data Feature Classes</h2>"
   ]
  },
  {
   "cell_type": "markdown",
   "metadata": {},
   "source": [
    "<h3 style=\"font-weight:bold; color:lime; padding-left: 50px\">Feature Class Paths</h3>"
   ]
  },
  {
   "cell_type": "markdown",
   "metadata": {},
   "source": [
    "Paths to raw data geodatabase feature classes"
   ]
  },
  {
   "cell_type": "code",
   "execution_count": 27,
   "metadata": {},
   "outputs": [],
   "source": [
    "# Paths to raw data feature classes\n",
    "victims = os.path.join(gdbRawData, \"victims\")\n",
    "parties = os.path.join(gdbRawData, \"parties\")\n",
    "crashes = os.path.join(gdbRawData, \"crashes\")\n",
    "collisions = os.path.join(gdbRawData, \"collisions\")"
   ]
  },
  {
   "cell_type": "markdown",
   "metadata": {},
   "source": [
    "<h3 style=\"font-weight:bold; color:lime; padding-left: 50px\">Feature Class Fields</h3>"
   ]
  },
  {
   "cell_type": "markdown",
   "metadata": {},
   "source": [
    "Obtain a list of fields for each raw data geodatabase feature class"
   ]
  },
  {
   "cell_type": "code",
   "execution_count": 28,
   "metadata": {},
   "outputs": [],
   "source": [
    "# Fields for the raw data feature classes\n",
    "victimsFields = [f.name for f in arcpy.ListFields(victims)] # victims field list\n",
    "partiesFields = [f.name for f in arcpy.ListFields(parties)] # parties field list\n",
    "crashesFields = [f.name for f in arcpy.ListFields(crashes)] # crashes field list\n",
    "collisionsFields = [f.name for f in arcpy.ListFields(collisions)] # collisions field list"
   ]
  },
  {
   "cell_type": "markdown",
   "metadata": {},
   "source": [
    "<h3 style=\"font-weight:bold; color:lime; padding-left: 50px\">Row Counts</h3>"
   ]
  },
  {
   "cell_type": "markdown",
   "metadata": {},
   "source": [
    "Count rows in each of the raw data geodatabase feature classes"
   ]
  },
  {
   "cell_type": "code",
   "execution_count": 29,
   "metadata": {},
   "outputs": [
    {
     "name": "stdout",
     "output_type": "stream",
     "text": [
      "\n",
      "Raw Data Counts:\n",
      "- Victims: 296,827\n",
      "- Parties: 367,407\n",
      "- Crashes: 170,195\n",
      "- Collisions: 437,258\n"
     ]
    }
   ],
   "source": [
    "# Get the count for the raw data feature classes\n",
    "victimsCount = int(arcpy.management.GetCount(victims)[0])\n",
    "partiesCount = int(arcpy.management.GetCount(parties)[0])\n",
    "crashesCount = int(arcpy.management.GetCount(crashes)[0])\n",
    "collisionsCount = int(arcpy.management.GetCount(collisions)[0])\n",
    "\n",
    "print(f\"\\nRaw Data Counts:\\n- Victims: {victimsCount:,}\\n- Parties: {partiesCount:,}\\n- Crashes: {crashesCount:,}\\n- Collisions: {collisionsCount:,}\")"
   ]
  },
  {
   "cell_type": "markdown",
   "metadata": {},
   "source": [
    "<h3 style=\"font-weight:bold; color:lime; padding-left: 50px\">Collisions Feature Class Aliases</h3>"
   ]
  },
  {
   "cell_type": "markdown",
   "metadata": {},
   "source": [
    "Adding feature class alias for the collisions feature class"
   ]
  },
  {
   "cell_type": "code",
   "execution_count": 30,
   "metadata": {},
   "outputs": [
    {
     "name": "stdout",
     "output_type": "stream",
     "text": [
      "Collisions: Start Time: Monday, May 5, 2025 7:58:27 AM\n",
      "Row Count = 437258\n",
      "Succeeded at Monday, May 5, 2025 7:58:27 AM (Elapsed Time: 0.03 seconds)\n"
     ]
    }
   ],
   "source": [
    "# Collisions feature class alias\n",
    "collisionsAlias = \"OCSWITRS Collisions\"\n",
    "\n",
    "# Collisions feature class\n",
    "arcpy.AlterAliasName(collisions, collisionsAlias)\n",
    "print(f\"Collisions: {arcpy.GetMessages()}\")"
   ]
  },
  {
   "cell_type": "markdown",
   "metadata": {},
   "source": [
    "Adding field aliases to the collisions feature class"
   ]
  },
  {
   "cell_type": "code",
   "execution_count": 31,
   "metadata": {},
   "outputs": [
    {
     "name": "stdout",
     "output_type": "stream",
     "text": [
      "\tMatch 1: caseId (Case ID)\n",
      "\tMatch 2: cid (Crash ID)\n",
      "\tMatch 3: pid (Party ID)\n",
      "\tMatch 4: vid (Victim ID)\n",
      "\tMatch 5: crashTag (Crash Tag)\n",
      "\tMatch 6: partyTag (Party Tag)\n",
      "\tMatch 7: victimTag (Victim Tag)\n",
      "\tMatch 8: partyNumber (Party Number)\n",
      "\tMatch 9: victimNumber (Victim Number)\n",
      "\tMatch 10: crashesCaseTag (Crashes Tag)\n",
      "\tMatch 11: partiesCaseTag (Parties Tag)\n",
      "\tMatch 12: victimsCaseTag (Victims Tag)\n",
      "\tMatch 16: combinedInd (Combined Indicator)\n",
      "\tMatch 17: crashesCidCount (Total Collisions in Crashes Dataset)\n",
      "\tMatch 18: partiesCidCount (Total Collisions in Parties Dataset)\n",
      "\tMatch 19: victimsCidCount (Total Collisions in Victims Dataset)\n",
      "\tMatch 20: partiesPidCount (Total Parties in Parties Dataset)\n",
      "\tMatch 21: victimsPidCount (Total Parties in Victims Dataset)\n",
      "\tMatch 22: victimsVidCount (Total Victims in Victims Dataset)\n",
      "\tMatch 23: city (City)\n",
      "\tMatch 24: placeType (Place Type)\n",
      "\tMatch 25: dateDatetime (Crash Date and Time)\n",
      "\tMatch 26: dateYear (Crash Year)\n",
      "\tMatch 27: dateQuarter (Crash Quarter)\n",
      "\tMatch 28: dateMonth (Crash Month)\n",
      "\tMatch 29: dateWeek (Crash Week)\n",
      "\tMatch 30: dateDay (Crash Day)\n",
      "\tMatch 31: dateProcess (Process Date)\n",
      "\tMatch 32: dtYear (Crash Year)\n",
      "\tMatch 33: dtQuarter (Crash Quarter)\n",
      "\tMatch 34: dtMonth (Crash Month)\n",
      "\tMatch 35: dtYearWeek (Crash Year Week)\n",
      "\tMatch 36: dtWeekDay (Crash Weekday)\n",
      "\tMatch 37: dtMonthDay (Crash Month Day)\n",
      "\tMatch 38: dtYearDay (Crash Year Day)\n",
      "\tMatch 39: dtHour (Crash Hour)\n",
      "\tMatch 40: dtMinute (Crash Minute)\n",
      "\tMatch 41: dtDst (Crash Daylight Saving Time)\n",
      "\tMatch 42: dtZone (Crash Time Zone)\n",
      "\tMatch 43: collDate (Collision Date Reported)\n",
      "\tMatch 44: collTime (Collision Time Reported)\n",
      "\tMatch 45: accidentYear (Crash Year)\n",
      "\tMatch 46: processDate (Processing Date)\n",
      "\tMatch 47: collTimeIntervals (Crash Time Intervals)\n",
      "\tMatch 48: rushHours (Rush Hours)\n",
      "\tMatch 49: rushHoursBin (Rush Hours Binary)\n",
      "\tMatch 50: collSeverity (Collision Severity)\n",
      "\tMatch 51: collSeverityNum (Collision Severity Numeric)\n",
      "\tMatch 52: collSeverityBin (Collision Severity Binary)\n",
      "\tMatch 53: collSeverityRank (Collision Severity Rank)\n",
      "\tMatch 54: collSeverityRankNum (Collision Severity Rank Numeric)\n",
      "\tMatch 55: indSevere (Severe Injury Indicator)\n",
      "\tMatch 56: indFatal (Fatal Injury Indicator)\n",
      "\tMatch 57: indMulti (Multiple Injury Indicator)\n",
      "\tMatch 58: partyCount (Party Count)\n",
      "\tMatch 59: victimCount (Victim Count)\n",
      "\tMatch 60: numberKilled (Killed Victims)\n",
      "\tMatch 61: numberInj (Injured Victims)\n",
      "\tMatch 62: countSevereInj (Severe Injury Count)\n",
      "\tMatch 63: countVisibleInj (Visible Injury Count)\n",
      "\tMatch 64: countComplaintPain (Complaint of Pain Injury Count)\n",
      "\tMatch 65: countCarKilled (Number of Killed Car Victims)\n",
      "\tMatch 66: countCarInj (Number of Injured Car Victims)\n",
      "\tMatch 67: countPedKilled (Pedestrian Killed Count)\n",
      "\tMatch 68: countPedInj (Pedestrian Injury Count)\n",
      "\tMatch 69: countBicKilled (Bicyclist Killed Count)\n",
      "\tMatch 70: countBicInj (Bicyclist Injury Count)\n",
      "\tMatch 71: countMcKilled (Motorcyclist Killed Count)\n",
      "\tMatch 72: countMcInj (Motorcyclist Injury Count)\n",
      "\tMatch 73: primaryCollFactor (Primary Collision Factor)\n",
      "\tMatch 74: typeOfColl (Type of Crash)\n",
      "\tMatch 75: pedAccident (Pedestrian Crash)\n",
      "\tMatch 76: bicAccident (Bicycle Crash)\n",
      "\tMatch 77: mcAccident (Motorcycle Crash)\n",
      "\tMatch 78: truckAccident (Truck Crash)\n",
      "\tMatch 79: hitAndRun (Hit and Run)\n",
      "\tMatch 80: hitAndRunBin (Hit and Run Binary)\n",
      "\tMatch 81: alcoholInvolved (Alcohol Involved)\n",
      "\tMatch 82: juris (Jurisdiction)\n",
      "\tMatch 83: officerId (Officer ID)\n",
      "\tMatch 84: reportingDistrict (Reporting District)\n",
      "\tMatch 85: chpShift (CHP Shift)\n",
      "\tMatch 86: cntyCityLoc (County City Location)\n",
      "\tMatch 87: specialCond (Special Condition)\n",
      "\tMatch 88: beatType (Beat Type)\n",
      "\tMatch 89: chpBeatType (CHP Beat Type)\n",
      "\tMatch 90: chpBeatClass (CHP Beat Class)\n",
      "\tMatch 91: beatNumber (Beat Number)\n",
      "\tMatch 92: primaryRd (Primary Road)\n",
      "\tMatch 93: secondaryRd (Secondary Road)\n",
      "\tMatch 94: distance (Distance)\n",
      "\tMatch 95: direction (Direction)\n",
      "\tMatch 96: intersection (Intersection)\n",
      "\tMatch 97: weather1 (Weather 1)\n",
      "\tMatch 98: weather2 (Weather 2)\n",
      "\tMatch 99: weatherComb (Combined Weather)\n",
      "\tMatch 100: roadSurface (Road Surface)\n",
      "\tMatch 101: roadCond1 (Road Condition 1)\n",
      "\tMatch 102: roadCond2 (Road Condition 2)\n",
      "\tMatch 103: lighting (Lighting)\n",
      "\tMatch 104: controlDevice (Control Device)\n",
      "\tMatch 105: stateHwyInd (State Highway Indicator)\n",
      "\tMatch 106: sideOfHwy (Side of Highway)\n",
      "\tMatch 107: towAway (Tow Away)\n",
      "\tMatch 108: pcfCodeOfViol (PCF Violation Code)\n",
      "\tMatch 109: pcfViolCategory (PCF Violation Category)\n",
      "\tMatch 110: pcfViolation (PCF Violation)\n",
      "\tMatch 111: pcfViolSubsection (PCF Violation Subsection)\n",
      "\tMatch 112: mviw (Motor Vehicle Involved With)\n",
      "\tMatch 113: pedAction (Pedestrian Action)\n",
      "\tMatch 114: notPrivateProperty (Not Private Property)\n",
      "\tMatch 115: stwdVehTypeAtFault (Statewide Vehicle Type at Fault)\n",
      "\tMatch 116: chpVehTypeAtFault (CHP Vehicle Type at Fault)\n",
      "\tMatch 117: primaryRamp (Primary Ramp)\n",
      "\tMatch 118: secondaryRamp (Secondary Ramp)\n",
      "\tMatch 119: partyType (Party Type)\n",
      "\tMatch 120: atFault (At Fault)\n",
      "\tMatch 121: partySex (Party Sex)\n",
      "\tMatch 122: partyAge (Party Age)\n",
      "\tMatch 123: partyAgeGroup (Party Age Group)\n",
      "\tMatch 124: partyRace (Party Race)\n",
      "\tMatch 125: partyNumberKilled (Party Number Killed)\n",
      "\tMatch 126: partyNumberInj (Party Number Injured)\n",
      "\tMatch 127: inattention (Inattention)\n",
      "\tMatch 128: partySobriety (Party Sobriety)\n",
      "\tMatch 129: duiAlcoholInd (DUI Alcohol Indicator)\n",
      "\tMatch 130: partyDrugPhysical (Party Drug Physical)\n",
      "\tMatch 131: duiDrugInd (DUI Drug Indicator)\n",
      "\tMatch 132: dirOfTravel (Direction of Travel)\n",
      "\tMatch 133: partySafetyEq1 (Party Safety Equipment 1)\n",
      "\tMatch 134: partySafetyEq2 (Party Safety Equipment 2)\n",
      "\tMatch 135: finanRespons (Financial Responsibility)\n",
      "\tMatch 136: spInfo1 (Special Information 1)\n",
      "\tMatch 137: spInfo2 (Special Information 2)\n",
      "\tMatch 138: spInfo3 (Special Information 3)\n",
      "\tMatch 139: oafViolCode (OAF Violation Code)\n",
      "\tMatch 140: oafViolCat (OAF Violation Category)\n",
      "\tMatch 141: oafViolSection (OAF Violation Section)\n",
      "\tMatch 142: oafViolSuffix (OAF Violation Suffix)\n",
      "\tMatch 143: oaf1 (Other Associated Factor 1)\n",
      "\tMatch 144: oaf2 (Other Associated Factor 2)\n",
      "\tMatch 145: movePreAcc (Movement Preceding Crash)\n",
      "\tMatch 146: vehicleYear (Vehicle Year)\n",
      "\tMatch 147: vehicleYearGroup (Vehicle Year Group)\n",
      "\tMatch 148: vehicleMake (Vehicle Make)\n",
      "\tMatch 149: stwdVehicleType (Statewide Vehicle Type)\n",
      "\tMatch 150: chpVehTypeTowing (CHP Vehicle Type Towing)\n",
      "\tMatch 151: chpVehTypeTowed (CHP Vehicle Type Towed)\n",
      "\tMatch 152: specialInfoF (Special Information F)\n",
      "\tMatch 153: specialInfoG (Special Information G)\n",
      "\tMatch 154: victimRole (Victim Role)\n",
      "\tMatch 155: victimSex (Victim Sex)\n",
      "\tMatch 156: victimAge (Victim Age)\n",
      "\tMatch 157: victimAgeGroup (Victim Age Group)\n",
      "\tMatch 158: victimDegreeOfInjury (Victim Degree of Injury)\n",
      "\tMatch 159: victimDegreeOfInjuryBin (Victim Degree of Injury Binary)\n",
      "\tMatch 160: victimSeatingPosition (Victim Seating Position)\n",
      "\tMatch 161: victimSafetyEq1 (Victim Safety Equipment 1)\n",
      "\tMatch 162: victimSafetyEq2 (Victim Safety Equipment 2)\n",
      "\tMatch 163: victimEjected (Victim Ejected)\n",
      "\tMatch 164: cityAreaSqmi (City Area)\n",
      "\tMatch 165: cityPopDens (City Population Density)\n",
      "\tMatch 166: cityHouDens (City Housing Density)\n",
      "\tMatch 167: cityPopTotal (City Total Population)\n",
      "\tMatch 168: cityHouTotal (City Total Housing Units)\n",
      "\tMatch 169: cityPopAsian (City Asian Population)\n",
      "\tMatch 170: cityPopBlack (City Black Population)\n",
      "\tMatch 171: cityPopHispanic (City Hispanic Population)\n",
      "\tMatch 172: cityPopWhite (City White Population)\n",
      "\tMatch 173: cityVehicles (Number of Commuting Vehicles)\n",
      "\tMatch 174: cityTravelTime (Aggregate Travel Time to Work)\n",
      "\tMatch 175: cityMeanTravelTime (Mean Travel Time to work Per Vehicle)\n",
      "\tMatch 181: roadsPrimary (Number of Primary Road Segments)\n",
      "\tMatch 182: roadsSecondary (Number of Secondary Road Segments)\n",
      "\tMatch 183: roadsLocal (Number of Local Road Segments)\n",
      "\tMatch 184: roadLengthMean (Mean Road Length)\n",
      "\tMatch 185: roadLengthSum (Total Road Length)\n",
      "\tMatch 198: latitude (GPS Latitude)\n",
      "\tMatch 199: longitude (GPS Longitude)\n",
      "\tMatch 200: pointX (X Coordinate Location)\n",
      "\tMatch 201: pointY (Y Coordinate Location)\n",
      "Start Time: Monday, May 5, 2025 8:00:40 AM\n",
      "Succeeded at Monday, May 5, 2025 8:00:41 AM (Elapsed Time: 0.32 seconds)\n"
     ]
    }
   ],
   "source": [
    "# Collisions field aliases\n",
    "for f in collisionsFields:\n",
    "    if f in list(codebook.keys()):\n",
    "        print(f\"\\tMatch {codebook[f]['varOrder']}: {f} ({codebook[f]['label']})\")\n",
    "        arcpy.management.AlterField(\n",
    "            in_table = collisions,\n",
    "            field = f,\n",
    "            new_field_alias = codebook[f]['label']\n",
    "        )\n",
    "print(arcpy.GetMessages())"
   ]
  },
  {
   "cell_type": "markdown",
   "metadata": {},
   "source": [
    "<h3 style=\"font-weight:bold; color:lime; padding-left: 50px\">Crashes Feature Class Aliases</h3>"
   ]
  },
  {
   "cell_type": "markdown",
   "metadata": {},
   "source": [
    "Adding feature class alias for the crashes feature class"
   ]
  },
  {
   "cell_type": "code",
   "execution_count": 32,
   "metadata": {},
   "outputs": [
    {
     "name": "stdout",
     "output_type": "stream",
     "text": [
      "Crashes: Start Time: Monday, May 5, 2025 8:00:40 AM\n",
      "Succeeded at Monday, May 5, 2025 8:00:41 AM (Elapsed Time: 0.32 seconds)\n"
     ]
    }
   ],
   "source": [
    "# Crashes feature class alias\n",
    "crashesAlias = \"OCSWITRS Crashes\"\n",
    "\n",
    "# Crashes feature class\n",
    "arcpy.AlterAliasName(crashes, crashesAlias)\n",
    "print(f\"Crashes: {arcpy.GetMessages()}\")"
   ]
  },
  {
   "cell_type": "markdown",
   "metadata": {},
   "source": [
    "Adding field aliases to the crashes feature class"
   ]
  },
  {
   "cell_type": "code",
   "execution_count": 33,
   "metadata": {},
   "outputs": [
    {
     "name": "stdout",
     "output_type": "stream",
     "text": [
      "\tMatch 1: caseId (Case ID)\n",
      "\tMatch 2: cid (Crash ID)\n",
      "\tMatch 5: crashTag (Crash Tag)\n",
      "\tMatch 10: crashesCaseTag (Crashes Tag)\n",
      "\tMatch 17: crashesCidCount (Total Collisions in Crashes Dataset)\n",
      "\tMatch 23: city (City)\n",
      "\tMatch 25: dateDatetime (Crash Date and Time)\n",
      "\tMatch 26: dateYear (Crash Year)\n",
      "\tMatch 27: dateQuarter (Crash Quarter)\n",
      "\tMatch 28: dateMonth (Crash Month)\n",
      "\tMatch 29: dateWeek (Crash Week)\n",
      "\tMatch 30: dateDay (Crash Day)\n",
      "\tMatch 31: dateProcess (Process Date)\n",
      "\tMatch 32: dtYear (Crash Year)\n",
      "\tMatch 33: dtQuarter (Crash Quarter)\n",
      "\tMatch 34: dtMonth (Crash Month)\n",
      "\tMatch 35: dtYearWeek (Crash Year Week)\n",
      "\tMatch 36: dtWeekDay (Crash Weekday)\n",
      "\tMatch 37: dtMonthDay (Crash Month Day)\n",
      "\tMatch 38: dtYearDay (Crash Year Day)\n",
      "\tMatch 39: dtHour (Crash Hour)\n",
      "\tMatch 40: dtMinute (Crash Minute)\n",
      "\tMatch 41: dtDst (Crash Daylight Saving Time)\n",
      "\tMatch 42: dtZone (Crash Time Zone)\n",
      "\tMatch 43: collDate (Collision Date Reported)\n",
      "\tMatch 44: collTime (Collision Time Reported)\n",
      "\tMatch 45: accidentYear (Crash Year)\n",
      "\tMatch 46: processDate (Processing Date)\n",
      "\tMatch 47: collTimeIntervals (Crash Time Intervals)\n",
      "\tMatch 48: rushHours (Rush Hours)\n",
      "\tMatch 49: rushHoursBin (Rush Hours Binary)\n",
      "\tMatch 50: collSeverity (Collision Severity)\n",
      "\tMatch 51: collSeverityNum (Collision Severity Numeric)\n",
      "\tMatch 52: collSeverityBin (Collision Severity Binary)\n",
      "\tMatch 53: collSeverityRank (Collision Severity Rank)\n",
      "\tMatch 54: collSeverityRankNum (Collision Severity Rank Numeric)\n",
      "\tMatch 55: indSevere (Severe Injury Indicator)\n",
      "\tMatch 56: indFatal (Fatal Injury Indicator)\n",
      "\tMatch 57: indMulti (Multiple Injury Indicator)\n",
      "\tMatch 58: partyCount (Party Count)\n",
      "\tMatch 59: victimCount (Victim Count)\n",
      "\tMatch 60: numberKilled (Killed Victims)\n",
      "\tMatch 61: numberInj (Injured Victims)\n",
      "\tMatch 62: countSevereInj (Severe Injury Count)\n",
      "\tMatch 63: countVisibleInj (Visible Injury Count)\n",
      "\tMatch 64: countComplaintPain (Complaint of Pain Injury Count)\n",
      "\tMatch 65: countCarKilled (Number of Killed Car Victims)\n",
      "\tMatch 66: countCarInj (Number of Injured Car Victims)\n",
      "\tMatch 67: countPedKilled (Pedestrian Killed Count)\n",
      "\tMatch 68: countPedInj (Pedestrian Injury Count)\n",
      "\tMatch 69: countBicKilled (Bicyclist Killed Count)\n",
      "\tMatch 70: countBicInj (Bicyclist Injury Count)\n",
      "\tMatch 71: countMcKilled (Motorcyclist Killed Count)\n",
      "\tMatch 72: countMcInj (Motorcyclist Injury Count)\n",
      "\tMatch 73: primaryCollFactor (Primary Collision Factor)\n",
      "\tMatch 74: typeOfColl (Type of Crash)\n",
      "\tMatch 75: pedAccident (Pedestrian Crash)\n",
      "\tMatch 76: bicAccident (Bicycle Crash)\n",
      "\tMatch 77: mcAccident (Motorcycle Crash)\n",
      "\tMatch 78: truckAccident (Truck Crash)\n",
      "\tMatch 79: hitAndRun (Hit and Run)\n",
      "\tMatch 80: hitAndRunBin (Hit and Run Binary)\n",
      "\tMatch 81: alcoholInvolved (Alcohol Involved)\n",
      "\tMatch 82: juris (Jurisdiction)\n",
      "\tMatch 83: officerId (Officer ID)\n",
      "\tMatch 84: reportingDistrict (Reporting District)\n",
      "\tMatch 85: chpShift (CHP Shift)\n",
      "\tMatch 86: cntyCityLoc (County City Location)\n",
      "\tMatch 87: specialCond (Special Condition)\n",
      "\tMatch 88: beatType (Beat Type)\n",
      "\tMatch 89: chpBeatType (CHP Beat Type)\n",
      "\tMatch 90: chpBeatClass (CHP Beat Class)\n",
      "\tMatch 91: beatNumber (Beat Number)\n",
      "\tMatch 92: primaryRd (Primary Road)\n",
      "\tMatch 93: secondaryRd (Secondary Road)\n",
      "\tMatch 94: distance (Distance)\n",
      "\tMatch 95: direction (Direction)\n",
      "\tMatch 96: intersection (Intersection)\n",
      "\tMatch 97: weather1 (Weather 1)\n",
      "\tMatch 98: weather2 (Weather 2)\n",
      "\tMatch 99: weatherComb (Combined Weather)\n",
      "\tMatch 100: roadSurface (Road Surface)\n",
      "\tMatch 101: roadCond1 (Road Condition 1)\n",
      "\tMatch 102: roadCond2 (Road Condition 2)\n",
      "\tMatch 103: lighting (Lighting)\n",
      "\tMatch 104: controlDevice (Control Device)\n",
      "\tMatch 105: stateHwyInd (State Highway Indicator)\n",
      "\tMatch 106: sideOfHwy (Side of Highway)\n",
      "\tMatch 107: towAway (Tow Away)\n",
      "\tMatch 108: pcfCodeOfViol (PCF Violation Code)\n",
      "\tMatch 109: pcfViolCategory (PCF Violation Category)\n",
      "\tMatch 110: pcfViolation (PCF Violation)\n",
      "\tMatch 111: pcfViolSubsection (PCF Violation Subsection)\n",
      "\tMatch 112: mviw (Motor Vehicle Involved With)\n",
      "\tMatch 113: pedAction (Pedestrian Action)\n",
      "\tMatch 114: notPrivateProperty (Not Private Property)\n",
      "\tMatch 115: stwdVehTypeAtFault (Statewide Vehicle Type at Fault)\n",
      "\tMatch 116: chpVehTypeAtFault (CHP Vehicle Type at Fault)\n",
      "\tMatch 117: primaryRamp (Primary Ramp)\n",
      "\tMatch 118: secondaryRamp (Secondary Ramp)\n",
      "\tMatch 198: latitude (GPS Latitude)\n",
      "\tMatch 199: longitude (GPS Longitude)\n",
      "\tMatch 200: pointX (X Coordinate Location)\n",
      "\tMatch 201: pointY (Y Coordinate Location)\n",
      "Start Time: Monday, May 5, 2025 8:01:55 AM\n",
      "Succeeded at Monday, May 5, 2025 8:01:55 AM (Elapsed Time: 0.32 seconds)\n"
     ]
    }
   ],
   "source": [
    "# Crashes field aliases\n",
    "for f in crashesFields:\n",
    "    if f in list(codebook.keys()):\n",
    "        print(f\"\\tMatch {codebook[f]['varOrder']}: {f} ({codebook[f]['label']})\")\n",
    "        arcpy.management.AlterField(\n",
    "            in_table = crashes,\n",
    "            field = f,\n",
    "            new_field_alias = codebook[f]['label']\n",
    "        )\n",
    "print(arcpy.GetMessages())"
   ]
  },
  {
   "cell_type": "markdown",
   "metadata": {},
   "source": [
    "<h3 style=\"font-weight:bold; color:lime; padding-left: 50px\">Parties Feature Class Aliases</h3>"
   ]
  },
  {
   "cell_type": "markdown",
   "metadata": {},
   "source": [
    "Adding feature class alias for the parties feature class"
   ]
  },
  {
   "cell_type": "code",
   "execution_count": 34,
   "metadata": {},
   "outputs": [
    {
     "name": "stdout",
     "output_type": "stream",
     "text": [
      "Parties: Start Time: Monday, May 5, 2025 8:01:55 AM\n",
      "Succeeded at Monday, May 5, 2025 8:01:55 AM (Elapsed Time: 0.32 seconds)\n"
     ]
    }
   ],
   "source": [
    "# Parties feature class alias\n",
    "partiesAlias = \"OCSWITRS Parties\"\n",
    "\n",
    "# Parties feature class\n",
    "arcpy.AlterAliasName(parties, partiesAlias)\n",
    "print(f\"Parties: {arcpy.GetMessages()}\")"
   ]
  },
  {
   "cell_type": "markdown",
   "metadata": {},
   "source": [
    "Adding field aliases to the parties feature class"
   ]
  },
  {
   "cell_type": "code",
   "execution_count": 35,
   "metadata": {},
   "outputs": [
    {
     "name": "stdout",
     "output_type": "stream",
     "text": [
      "\tMatch 1: caseId (Case ID)\n",
      "\tMatch 2: cid (Crash ID)\n",
      "\tMatch 3: pid (Party ID)\n",
      "\tMatch 6: partyTag (Party Tag)\n",
      "\tMatch 8: partyNumber (Party Number)\n",
      "\tMatch 11: partiesCaseTag (Parties Tag)\n",
      "\tMatch 18: partiesCidCount (Total Collisions in Parties Dataset)\n",
      "\tMatch 20: partiesPidCount (Total Parties in Parties Dataset)\n",
      "\tMatch 25: dateDatetime (Crash Date and Time)\n",
      "\tMatch 26: dateYear (Crash Year)\n",
      "\tMatch 27: dateQuarter (Crash Quarter)\n",
      "\tMatch 28: dateMonth (Crash Month)\n",
      "\tMatch 29: dateWeek (Crash Week)\n",
      "\tMatch 30: dateDay (Crash Day)\n",
      "\tMatch 31: dateProcess (Process Date)\n",
      "\tMatch 32: dtYear (Crash Year)\n",
      "\tMatch 33: dtQuarter (Crash Quarter)\n",
      "\tMatch 34: dtMonth (Crash Month)\n",
      "\tMatch 35: dtYearWeek (Crash Year Week)\n",
      "\tMatch 36: dtWeekDay (Crash Weekday)\n",
      "\tMatch 37: dtMonthDay (Crash Month Day)\n",
      "\tMatch 38: dtYearDay (Crash Year Day)\n",
      "\tMatch 39: dtHour (Crash Hour)\n",
      "\tMatch 40: dtMinute (Crash Minute)\n",
      "\tMatch 41: dtDst (Crash Daylight Saving Time)\n",
      "\tMatch 42: dtZone (Crash Time Zone)\n",
      "\tMatch 43: collDate (Collision Date Reported)\n",
      "\tMatch 44: collTime (Collision Time Reported)\n",
      "\tMatch 46: processDate (Processing Date)\n",
      "\tMatch 50: collSeverity (Collision Severity)\n",
      "\tMatch 51: collSeverityNum (Collision Severity Numeric)\n",
      "\tMatch 53: collSeverityRank (Collision Severity Rank)\n",
      "\tMatch 54: collSeverityRankNum (Collision Severity Rank Numeric)\n",
      "\tMatch 119: partyType (Party Type)\n",
      "\tMatch 120: atFault (At Fault)\n",
      "\tMatch 121: partySex (Party Sex)\n",
      "\tMatch 122: partyAge (Party Age)\n",
      "\tMatch 123: partyAgeGroup (Party Age Group)\n",
      "\tMatch 124: partyRace (Party Race)\n",
      "\tMatch 125: partyNumberKilled (Party Number Killed)\n",
      "\tMatch 126: partyNumberInj (Party Number Injured)\n",
      "\tMatch 127: inattention (Inattention)\n",
      "\tMatch 128: partySobriety (Party Sobriety)\n",
      "\tMatch 129: duiAlcoholInd (DUI Alcohol Indicator)\n",
      "\tMatch 130: partyDrugPhysical (Party Drug Physical)\n",
      "\tMatch 131: duiDrugInd (DUI Drug Indicator)\n",
      "\tMatch 132: dirOfTravel (Direction of Travel)\n",
      "\tMatch 133: partySafetyEq1 (Party Safety Equipment 1)\n",
      "\tMatch 134: partySafetyEq2 (Party Safety Equipment 2)\n",
      "\tMatch 135: finanRespons (Financial Responsibility)\n",
      "\tMatch 136: spInfo1 (Special Information 1)\n",
      "\tMatch 137: spInfo2 (Special Information 2)\n",
      "\tMatch 138: spInfo3 (Special Information 3)\n",
      "\tMatch 139: oafViolCode (OAF Violation Code)\n",
      "\tMatch 140: oafViolCat (OAF Violation Category)\n",
      "\tMatch 141: oafViolSection (OAF Violation Section)\n",
      "\tMatch 142: oafViolSuffix (OAF Violation Suffix)\n",
      "\tMatch 143: oaf1 (Other Associated Factor 1)\n",
      "\tMatch 144: oaf2 (Other Associated Factor 2)\n",
      "\tMatch 145: movePreAcc (Movement Preceding Crash)\n",
      "\tMatch 146: vehicleYear (Vehicle Year)\n",
      "\tMatch 147: vehicleYearGroup (Vehicle Year Group)\n",
      "\tMatch 148: vehicleMake (Vehicle Make)\n",
      "\tMatch 149: stwdVehicleType (Statewide Vehicle Type)\n",
      "\tMatch 150: chpVehTypeTowing (CHP Vehicle Type Towing)\n",
      "\tMatch 151: chpVehTypeTowed (CHP Vehicle Type Towed)\n",
      "\tMatch 152: specialInfoF (Special Information F)\n",
      "\tMatch 153: specialInfoG (Special Information G)\n",
      "\tMatch 200: pointX (X Coordinate Location)\n",
      "\tMatch 201: pointY (Y Coordinate Location)\n",
      "Start Time: Monday, May 5, 2025 8:02:50 AM\n",
      "Succeeded at Monday, May 5, 2025 8:02:50 AM (Elapsed Time: 0.35 seconds)\n"
     ]
    }
   ],
   "source": [
    "# Parties field aliases\n",
    "for f in partiesFields:\n",
    "    if f in list(codebook.keys()):\n",
    "        print(f\"\\tMatch {codebook[f]['varOrder']}: {f} ({codebook[f]['label']})\")\n",
    "        arcpy.management.AlterField(\n",
    "            in_table = parties,\n",
    "            field = f,\n",
    "            new_field_alias = codebook[f]['label']\n",
    "        )\n",
    "print(arcpy.GetMessages())"
   ]
  },
  {
   "cell_type": "markdown",
   "metadata": {},
   "source": [
    "<h3 style=\"font-weight:bold; color:lime; padding-left: 50px\">Victims Feature Class Aliases</h3>"
   ]
  },
  {
   "cell_type": "markdown",
   "metadata": {},
   "source": [
    "Adding feature class alias for the victims feature class"
   ]
  },
  {
   "cell_type": "code",
   "execution_count": 36,
   "metadata": {},
   "outputs": [
    {
     "name": "stdout",
     "output_type": "stream",
     "text": [
      "Victims: Start Time: Monday, May 5, 2025 8:02:50 AM\n",
      "Succeeded at Monday, May 5, 2025 8:02:50 AM (Elapsed Time: 0.35 seconds)\n"
     ]
    }
   ],
   "source": [
    "# Victims feature class alias\n",
    "victimsAlias = \"OCSWITRS Victims\"\n",
    "\n",
    "# Victims feature class\n",
    "arcpy.AlterAliasName(victims, victimsAlias)\n",
    "print(f\"Victims: {arcpy.GetMessages()}\")"
   ]
  },
  {
   "cell_type": "markdown",
   "metadata": {},
   "source": [
    "Adding field aliases to the victims feature class"
   ]
  },
  {
   "cell_type": "code",
   "execution_count": 37,
   "metadata": {},
   "outputs": [
    {
     "name": "stdout",
     "output_type": "stream",
     "text": [
      "\tMatch 1: caseId (Case ID)\n",
      "\tMatch 2: cid (Crash ID)\n",
      "\tMatch 3: pid (Party ID)\n",
      "\tMatch 4: vid (Victim ID)\n",
      "\tMatch 7: victimTag (Victim Tag)\n",
      "\tMatch 8: partyNumber (Party Number)\n",
      "\tMatch 9: victimNumber (Victim Number)\n",
      "\tMatch 12: victimsCaseTag (Victims Tag)\n",
      "\tMatch 19: victimsCidCount (Total Collisions in Victims Dataset)\n",
      "\tMatch 21: victimsPidCount (Total Parties in Victims Dataset)\n",
      "\tMatch 22: victimsVidCount (Total Victims in Victims Dataset)\n",
      "\tMatch 25: dateDatetime (Crash Date and Time)\n",
      "\tMatch 26: dateYear (Crash Year)\n",
      "\tMatch 27: dateQuarter (Crash Quarter)\n",
      "\tMatch 28: dateMonth (Crash Month)\n",
      "\tMatch 29: dateWeek (Crash Week)\n",
      "\tMatch 30: dateDay (Crash Day)\n",
      "\tMatch 31: dateProcess (Process Date)\n",
      "\tMatch 32: dtYear (Crash Year)\n",
      "\tMatch 33: dtQuarter (Crash Quarter)\n",
      "\tMatch 34: dtMonth (Crash Month)\n",
      "\tMatch 35: dtYearWeek (Crash Year Week)\n",
      "\tMatch 36: dtWeekDay (Crash Weekday)\n",
      "\tMatch 37: dtMonthDay (Crash Month Day)\n",
      "\tMatch 38: dtYearDay (Crash Year Day)\n",
      "\tMatch 39: dtHour (Crash Hour)\n",
      "\tMatch 40: dtMinute (Crash Minute)\n",
      "\tMatch 41: dtDst (Crash Daylight Saving Time)\n",
      "\tMatch 42: dtZone (Crash Time Zone)\n",
      "\tMatch 43: collDate (Collision Date Reported)\n",
      "\tMatch 44: collTime (Collision Time Reported)\n",
      "\tMatch 46: processDate (Processing Date)\n",
      "\tMatch 50: collSeverity (Collision Severity)\n",
      "\tMatch 51: collSeverityNum (Collision Severity Numeric)\n",
      "\tMatch 53: collSeverityRank (Collision Severity Rank)\n",
      "\tMatch 54: collSeverityRankNum (Collision Severity Rank Numeric)\n",
      "\tMatch 154: victimRole (Victim Role)\n",
      "\tMatch 155: victimSex (Victim Sex)\n",
      "\tMatch 156: victimAge (Victim Age)\n",
      "\tMatch 157: victimAgeGroup (Victim Age Group)\n",
      "\tMatch 158: victimDegreeOfInjury (Victim Degree of Injury)\n",
      "\tMatch 159: victimDegreeOfInjuryBin (Victim Degree of Injury Binary)\n",
      "\tMatch 160: victimSeatingPosition (Victim Seating Position)\n",
      "\tMatch 161: victimSafetyEq1 (Victim Safety Equipment 1)\n",
      "\tMatch 162: victimSafetyEq2 (Victim Safety Equipment 2)\n",
      "\tMatch 163: victimEjected (Victim Ejected)\n",
      "\tMatch 200: pointX (X Coordinate Location)\n",
      "\tMatch 201: pointY (Y Coordinate Location)\n",
      "Start Time: Monday, May 5, 2025 8:03:29 AM\n",
      "Succeeded at Monday, May 5, 2025 8:03:30 AM (Elapsed Time: 0.32 seconds)\n"
     ]
    }
   ],
   "source": [
    "# Victims field aliases\n",
    "for f in victimsFields:\n",
    "    if f in list(codebook.keys()):\n",
    "        print(f\"\\tMatch {codebook[f]['varOrder']}: {f} ({codebook[f]['label']})\")\n",
    "        arcpy.management.AlterField(\n",
    "            in_table = victims,\n",
    "            field = f,\n",
    "            new_field_alias = codebook[f]['label']\n",
    "        )\n",
    "print(arcpy.GetMessages())"
   ]
  },
  {
   "cell_type": "markdown",
   "metadata": {},
   "source": [
    "<h2 style=\"font-weight:bold; color:dodgerblue; border-bottom: 1px solid dodgerblue; padding-left: 25px\">2.2. Supporting Data Feature Classes</h2>"
   ]
  },
  {
   "cell_type": "markdown",
   "metadata": {},
   "source": [
    "<h3 style=\"font-weight:bold; color:lime; padding-left: 50px\">Feature Class Paths</h3>"
   ]
  },
  {
   "cell_type": "markdown",
   "metadata": {},
   "source": [
    "Paths to the supporting data geodatabase feature classes"
   ]
  },
  {
   "cell_type": "code",
   "execution_count": 38,
   "metadata": {},
   "outputs": [],
   "source": [
    "# Paths to supporting data feature classes\n",
    "boundaries = os.path.join(gdbSupportingData, \"boundaries\")\n",
    "cities = os.path.join(gdbSupportingData, \"cities\")\n",
    "censusBlocks = os.path.join(gdbSupportingData, \"censusBlocks\")\n",
    "roads = os.path.join(gdbSupportingData, \"roads\")"
   ]
  },
  {
   "cell_type": "markdown",
   "metadata": {},
   "source": [
    "<h3 style=\"font-weight:bold; color:lime; padding-left: 50px\">Feature Class Fields</h3>"
   ]
  },
  {
   "cell_type": "markdown",
   "metadata": {},
   "source": [
    "Obtain the list fields of the supporting data geodatabase feature classes"
   ]
  },
  {
   "cell_type": "code",
   "execution_count": 39,
   "metadata": {},
   "outputs": [],
   "source": [
    "# Fields for the supporting data feature classes\n",
    "boundariesFields = [f.name for f in arcpy.ListFields(boundaries)] # boundaries field list\n",
    "citiesFields = [f.name for f in arcpy.ListFields(cities)] # cities field list\n",
    "censusBlocksFields = [f.name for f in arcpy.ListFields(censusBlocks)] # censusBlocks field list\n",
    "roadsFields = [f.name for f in arcpy.ListFields(roads)] # roads field list"
   ]
  },
  {
   "cell_type": "markdown",
   "metadata": {},
   "source": [
    "<h3 style=\"font-weight:bold; color:lime; padding-left: 50px\">Row Counts</h3>"
   ]
  },
  {
   "cell_type": "markdown",
   "metadata": {},
   "source": [
    "Count rows in each of the supporting data geodatabase feature classes"
   ]
  },
  {
   "cell_type": "code",
   "execution_count": 40,
   "metadata": {},
   "outputs": [
    {
     "name": "stdout",
     "output_type": "stream",
     "text": [
      "Supporting Data Counts:\n",
      "- Boundaries: 1\n",
      "- Cities: 46\n",
      "- Census Blocks: 26,864\n",
      "- Roads: 59,144\n"
     ]
    }
   ],
   "source": [
    "# Get the count for the supporting data feature classes\n",
    "boundariesCount = int(arcpy.management.GetCount(boundaries)[0])\n",
    "citiesCount = int(arcpy.management.GetCount(cities)[0])\n",
    "censusBlocksCount = int(arcpy.management.GetCount(censusBlocks)[0])\n",
    "roadsCount = int(arcpy.management.GetCount(roads)[0])\n",
    "\n",
    "# Print the counts\n",
    "print(f\"Supporting Data Counts:\\n- Boundaries: {boundariesCount:,}\\n- Cities: {citiesCount:,}\\n- Census Blocks: {censusBlocksCount:,}\\n- Roads: {roadsCount:,}\")"
   ]
  },
  {
   "cell_type": "markdown",
   "metadata": {},
   "source": [
    "<h3 style=\"font-weight:bold; color:lime; padding-left: 50px\">Roads Feature Class</h3>"
   ]
  },
  {
   "cell_type": "markdown",
   "metadata": {},
   "source": [
    "Adding feature class alias for the roads feature class"
   ]
  },
  {
   "cell_type": "code",
   "execution_count": 41,
   "metadata": {},
   "outputs": [
    {
     "name": "stdout",
     "output_type": "stream",
     "text": [
      "Roads: Start Time: Monday, May 5, 2025 8:03:44 AM\n",
      "Row Count = 59144\n",
      "Succeeded at Monday, May 5, 2025 8:03:44 AM (Elapsed Time: 0.07 seconds)\n"
     ]
    }
   ],
   "source": [
    "# Roads feature class alias\n",
    "roadsAlias = \"OCSWITRS Roads\"\n",
    "\n",
    "# Roads feature class\n",
    "arcpy.AlterAliasName(roads, roadsAlias)\n",
    "print(f\"Roads: {arcpy.GetMessages()}\")"
   ]
  },
  {
   "cell_type": "markdown",
   "metadata": {},
   "source": [
    "Adding field aliases to the roads feature class"
   ]
  },
  {
   "cell_type": "code",
   "execution_count": 42,
   "metadata": {},
   "outputs": [
    {
     "name": "stdout",
     "output_type": "stream",
     "text": [
      "\tMatch 178: placeName (Road City)\n",
      "\tMatch 176: roadName (Road Name)\n",
      "\tMatch 177: roadId (Road ID)\n",
      "\tMatch 179: roadCat (Road Category)\n",
      "\tMatch 180: roadLength (Road Length (in miles))\n",
      "\tMatch 181: roadsPrimary (Number of Primary Road Segments)\n",
      "\tMatch 182: roadsSecondary (Number of Secondary Road Segments)\n",
      "\tMatch 183: roadsLocal (Number of Local Road Segments)\n",
      "\tMatch 184: roadLengthMean (Mean Road Length)\n",
      "\tMatch 185: roadLengthSum (Total Road Length)\n",
      "Start Time: Monday, May 5, 2025 8:03:58 AM\n",
      "Succeeded at Monday, May 5, 2025 8:03:58 AM (Elapsed Time: 0.33 seconds)\n"
     ]
    }
   ],
   "source": [
    "# Roads field aliases\n",
    "for f in roadsFields:\n",
    "    if f in list(codebook.keys()):\n",
    "        print(f\"\\tMatch {codebook[f]['varOrder']}: {f} ({codebook[f]['label']})\")\n",
    "        arcpy.management.AlterField(\n",
    "            in_table = roads,\n",
    "            field = f,\n",
    "            new_field_alias = codebook[f]['label']\n",
    "        )\n",
    "print(arcpy.GetMessages())"
   ]
  },
  {
   "cell_type": "markdown",
   "metadata": {},
   "source": [
    "<h3 style=\"font-weight:bold; color:lime; padding-left: 50px\">Census Blocks Feature Class</h3>"
   ]
  },
  {
   "cell_type": "markdown",
   "metadata": {},
   "source": [
    "Adding feature class alias for the census blocks feature class"
   ]
  },
  {
   "cell_type": "code",
   "execution_count": 43,
   "metadata": {},
   "outputs": [
    {
     "name": "stdout",
     "output_type": "stream",
     "text": [
      "USC 2020 Census Blocks: Start Time: Monday, May 5, 2025 8:03:58 AM\n",
      "Succeeded at Monday, May 5, 2025 8:03:58 AM (Elapsed Time: 0.33 seconds)\n"
     ]
    }
   ],
   "source": [
    "# Census Blocks feature class alias\n",
    "censusBlocksAlias = \"OCSWITRS Census Blocks\"\n",
    "\n",
    "# Census Blocks feature class\n",
    "arcpy.AlterAliasName(censusBlocks, censusBlocksAlias)\n",
    "print(f\"USC 2020 Census Blocks: {arcpy.GetMessages()}\")"
   ]
  },
  {
   "cell_type": "markdown",
   "metadata": {},
   "source": [
    "Adding field aliases to the census blocks feature class"
   ]
  },
  {
   "cell_type": "code",
   "execution_count": 44,
   "metadata": {},
   "outputs": [
    {
     "name": "stdout",
     "output_type": "stream",
     "text": [
      "\tMatch 186: populationTotal (Total Population)\n",
      "\tMatch 187: housingUnitsTotal (Total Housing Units)\n",
      "\tMatch 188: householdsTotal (Total Households)\n",
      "\tMatch 189: housingUnitsVacant (Vacant Housing Units)\n",
      "\tMatch 190: housingUnitsMortgage (Housing Units with Mortgage)\n",
      "\tMatch 192: housingUnitsRenterOccupied (Renter Occupied Housing Units)\n",
      "\tMatch 194: housingUnitsOwnerOccupied (Owner Occupied Housing Units)\n",
      "\tMatch 195: homeownershipRate (Homeownership Rate)\n",
      "\tMatch 193: vacancyRate (Vacancy Rate)\n",
      "\tMatch 196: populationDensity (Population Density)\n",
      "\tMatch 197: housingDensity (Housing Density)\n",
      "Start Time: Monday, May 5, 2025 8:04:12 AM\n",
      "Succeeded at Monday, May 5, 2025 8:04:12 AM (Elapsed Time: 0.17 seconds)\n"
     ]
    }
   ],
   "source": [
    "# Census Blocks field aliases\n",
    "for f in censusBlocksFields:\n",
    "    if f in list(codebook.keys()):\n",
    "        print(f\"\\tMatch {codebook[f]['varOrder']}: {f} ({codebook[f]['label']})\")\n",
    "        arcpy.management.AlterField(\n",
    "            in_table = censusBlocks,\n",
    "            field = f,\n",
    "            new_field_alias = codebook[f]['label']\n",
    "        )\n",
    "print(arcpy.GetMessages())"
   ]
  },
  {
   "cell_type": "markdown",
   "metadata": {},
   "source": [
    "<h3 style=\"font-weight:bold; color:lime; padding-left: 50px\">Cities Feature Class</h3>"
   ]
  },
  {
   "cell_type": "markdown",
   "metadata": {},
   "source": [
    "Adding feature class alias for the cities feature class"
   ]
  },
  {
   "cell_type": "code",
   "execution_count": 45,
   "metadata": {},
   "outputs": [
    {
     "name": "stdout",
     "output_type": "stream",
     "text": [
      "Cities: Start Time: Monday, May 5, 2025 8:04:12 AM\n",
      "Succeeded at Monday, May 5, 2025 8:04:12 AM (Elapsed Time: 0.17 seconds)\n"
     ]
    }
   ],
   "source": [
    "# Cities feature class alias\n",
    "citiesAlias = \"OCSWITRS Cities\"\n",
    "\n",
    "# Cities feature class\n",
    "arcpy.AlterAliasName(cities, citiesAlias)\n",
    "print(f\"Cities: {arcpy.GetMessages()}\")"
   ]
  },
  {
   "cell_type": "markdown",
   "metadata": {},
   "source": [
    "Adding field aliases to the cities feature class"
   ]
  },
  {
   "cell_type": "code",
   "execution_count": 46,
   "metadata": {},
   "outputs": [
    {
     "name": "stdout",
     "output_type": "stream",
     "text": [
      "\tMatch 23: city (City)\n",
      "\tMatch 24: placeType (Place Type)\n",
      "\tMatch 164: cityAreaSqmi (City Area)\n",
      "\tMatch 167: cityPopTotal (City Total Population)\n",
      "\tMatch 168: cityHouTotal (City Total Housing Units)\n",
      "\tMatch 165: cityPopDens (City Population Density)\n",
      "\tMatch 166: cityHouDens (City Housing Density)\n",
      "\tMatch 169: cityPopAsian (City Asian Population)\n",
      "\tMatch 170: cityPopBlack (City Black Population)\n",
      "\tMatch 171: cityPopHispanic (City Hispanic Population)\n",
      "\tMatch 172: cityPopWhite (City White Population)\n",
      "\tMatch 173: cityVehicles (Number of Commuting Vehicles)\n",
      "\tMatch 174: cityTravelTime (Aggregate Travel Time to Work)\n",
      "\tMatch 175: cityMeanTravelTime (Mean Travel Time to work Per Vehicle)\n",
      "Start Time: Monday, May 5, 2025 8:04:25 AM\n",
      "Succeeded at Monday, May 5, 2025 8:04:26 AM (Elapsed Time: 0.37 seconds)\n"
     ]
    }
   ],
   "source": [
    "# Cities field aliases\n",
    "for f in citiesFields:\n",
    "    if f in list(codebook.keys()):\n",
    "        print(f\"\\tMatch {codebook[f]['varOrder']}: {f} ({codebook[f]['label']})\")\n",
    "        arcpy.management.AlterField(\n",
    "            in_table = cities,\n",
    "            field = f,\n",
    "            new_field_alias = codebook[f]['label']\n",
    "        )\n",
    "print(arcpy.GetMessages())"
   ]
  },
  {
   "cell_type": "markdown",
   "metadata": {},
   "source": [
    "<h3 style=\"font-weight:bold; color:lime; padding-left: 50px\">Boundaries Feature Class</h3>"
   ]
  },
  {
   "cell_type": "markdown",
   "metadata": {},
   "source": [
    "Adding feature class alias for the boundaries feature class"
   ]
  },
  {
   "cell_type": "code",
   "execution_count": 47,
   "metadata": {},
   "outputs": [
    {
     "name": "stdout",
     "output_type": "stream",
     "text": [
      "Boundaries: Start Time: Monday, May 5, 2025 8:04:25 AM\n",
      "Succeeded at Monday, May 5, 2025 8:04:26 AM (Elapsed Time: 0.37 seconds)\n"
     ]
    }
   ],
   "source": [
    "# Boundaries feature class alias\n",
    "boundariesAlias = \"OCSWITRS Boundaries\"\n",
    "\n",
    "# Boundaries feature class\n",
    "arcpy.AlterAliasName(boundaries, boundariesAlias)\n",
    "print(f\"Boundaries: {arcpy.GetMessages()}\")"
   ]
  },
  {
   "cell_type": "markdown",
   "metadata": {},
   "source": [
    "<h3 style=\"font-weight:bold; color:lime; padding-left: 50px\">Save Project</h3>"
   ]
  },
  {
   "cell_type": "code",
   "execution_count": 48,
   "metadata": {},
   "outputs": [],
   "source": [
    "# Save the project\n",
    "aprx.save()"
   ]
  },
  {
   "cell_type": "markdown",
   "metadata": {},
   "source": [
    "<h2 style=\"font-weight:bold; color:dodgerblue; border-bottom: 1px solid dodgerblue; padding-left: 25px\">2.3. Data Enrichment Feature Classes</h2>"
   ]
  },
  {
   "cell_type": "markdown",
   "metadata": {},
   "source": [
    "<h3 style=\"font-weight:bold; color:lime; padding-left: 50px\">Feature Class Paths</h3>"
   ]
  },
  {
   "cell_type": "code",
   "execution_count": 49,
   "metadata": {},
   "outputs": [],
   "source": [
    "collisions1 = os.path.join(gdbRawData, \"collisions1\")"
   ]
  },
  {
   "cell_type": "markdown",
   "metadata": {},
   "source": [
    "<h3 style=\"font-weight:bold; color:lime; padding-left: 50px\">Feature Class Joins</h3>"
   ]
  },
  {
   "cell_type": "markdown",
   "metadata": {},
   "source": []
  },
  {
   "cell_type": "code",
   "execution_count": 50,
   "metadata": {},
   "outputs": [
    {
     "data": {
      "text/html": [
       "<div class='gpresult'><h2 class='msg-title'>Messages</h2><div id='messages'>Start Time: Monday, May 5, 2025 8:04:42 AM<br>Succeeded at Monday, May 5, 2025 8:07:35 AM (Elapsed Time: 2 minutes 52 seconds)<br></div><div id = 'default' /></div></div>"
      ],
      "text/plain": [
       "<Result 'c:\\\\Users\\\\ktale\\\\OneDrive\\\\Documents\\\\GitHub\\\\OCSWITRS\\\\AGPSWITRS\\\\AGPSWITRS.gdb\\\\RawData\\\\collisions1'>"
      ]
     },
     "execution_count": 50,
     "metadata": {},
     "output_type": "execute_result"
    }
   ],
   "source": [
    "# Join the collisions feature class with the censusBlocks feature class\n",
    "arcpy.analysis.SpatialJoin(\n",
    "    target_features = collisions,\n",
    "    join_features = censusBlocks,\n",
    "    out_feature_class = collisions1,\n",
    "    join_operation = \"JOIN_ONE_TO_ONE\",\n",
    "    join_type = \"KEEP_ALL\",\n",
    "    match_option = \"INTERSECT\",\n",
    "    search_radius = None,\n",
    "    distance_field_name = None,\n",
    "    match_fields = None\n",
    ")\n"
   ]
  },
  {
   "cell_type": "markdown",
   "metadata": {},
   "source": [
    "<h2 style=\"font-weight:bold; color:dodgerblue; border-bottom: 1px solid dodgerblue; padding-left: 25px\">2.3. Analysis Data Feature Classes</h2>"
   ]
  },
  {
   "cell_type": "markdown",
   "metadata": {},
   "source": [
    "<h3 style=\"font-weight:bold; color:lime; padding-left: 50px\">Delete all Old Analysis Feature Classes</h3>"
   ]
  },
  {
   "cell_type": "markdown",
   "metadata": {},
   "source": [
    "Loop through all analysis data feature dataset and delete all feature classes"
   ]
  },
  {
   "cell_type": "code",
   "execution_count": 51,
   "metadata": {},
   "outputs": [],
   "source": [
    "for f in arcpy.ListFeatureClasses(feature_dataset = \"AnalysisData\"):\n",
    "    print(f\"Deleting {f}...\")\n",
    "    arcpy.Delete_management(f)\n",
    "    print(arcpy.GetMessages())"
   ]
  },
  {
   "cell_type": "markdown",
   "metadata": {},
   "source": [
    "<h3 style=\"font-weight:bold; color:lime; padding-left: 50px\">Create Major Roads</h3>"
   ]
  },
  {
   "cell_type": "markdown",
   "metadata": {},
   "source": [
    "Separate the primary and secondary roads from the local roads"
   ]
  },
  {
   "cell_type": "code",
   "execution_count": 52,
   "metadata": {},
   "outputs": [
    {
     "name": "stdout",
     "output_type": "stream",
     "text": [
      "Start Time: Monday, May 5, 2025 8:07:57 AM\n",
      "Succeeded at Monday, May 5, 2025 8:07:58 AM (Elapsed Time: 0.93 seconds)\n"
     ]
    }
   ],
   "source": [
    "# Output feature class for the major roads\n",
    "roadsMajor = os.path.join(gdbAnalysisData, \"roadsMajor\")\n",
    "\n",
    "# Select the major (primary and secondary) roads from the roads feature class\n",
    "arcpy.analysis.Select(\n",
    "    in_features = roads,\n",
    "    out_feature_class = roadsMajor,\n",
    "    where_clause = \"roadCat = 'Primary' Or roadCat = 'Secondary'\"\n",
    ")\n",
    "print(arcpy.GetMessages())"
   ]
  },
  {
   "cell_type": "markdown",
   "metadata": {},
   "source": [
    "Add feature class alias for the major roads feature class"
   ]
  },
  {
   "cell_type": "code",
   "execution_count": 53,
   "metadata": {},
   "outputs": [
    {
     "name": "stdout",
     "output_type": "stream",
     "text": [
      "Start Time: Monday, May 5, 2025 8:07:57 AM\n",
      "Succeeded at Monday, May 5, 2025 8:07:58 AM (Elapsed Time: 0.93 seconds)\n"
     ]
    }
   ],
   "source": [
    "# Define the major roads layer alias and modify the feature class alias\n",
    "roadsMajorAlias = \"OCSWITRS Major Roads\"\n",
    "arcpy.AlterAliasName(roadsMajor, roadsMajorAlias)\n",
    "print(arcpy.GetMessages())"
   ]
  },
  {
   "cell_type": "markdown",
   "metadata": {},
   "source": [
    "Obtain the list of fields for the major roads feature class"
   ]
  },
  {
   "cell_type": "code",
   "execution_count": 54,
   "metadata": {},
   "outputs": [
    {
     "name": "stdout",
     "output_type": "stream",
     "text": [
      "OBJECTID (OBJECTID)\n",
      "Shape (Shape)\n",
      "placeName (Road City)\n",
      "roadName (Road Name)\n",
      "roadId (Road ID)\n",
      "roadCat (Road Category)\n",
      "roadLength (Road Length (in miles))\n",
      "roadsPrimary (Number of Primary Road Segments)\n",
      "roadsSecondary (Number of Secondary Road Segments)\n",
      "roadsLocal (Number of Local Road Segments)\n",
      "roadLengthMean (Mean Road Length)\n",
      "roadLengthSum (Total Road Length)\n",
      "Shape_Length (Shape_Length)\n"
     ]
    }
   ],
   "source": [
    "roadsMajorFields = [f.name for f in arcpy.ListFields(roadsMajor)] # roadsMajor field list\n",
    "\n",
    "# Field Aliases for the major roads feature class\n",
    "for f in arcpy.ListFields(roadsMajor):\n",
    "    print(f\"{f.name} ({f.aliasName})\")"
   ]
  },
  {
   "cell_type": "markdown",
   "metadata": {},
   "source": [
    "<h3 style=\"font-weight:bold; color:lime; padding-left: 50px\">Create Major Road Buffers</h3>"
   ]
  },
  {
   "cell_type": "markdown",
   "metadata": {},
   "source": [
    "Create road buffers for the primary and secondary roads"
   ]
  },
  {
   "cell_type": "code",
   "execution_count": 55,
   "metadata": {},
   "outputs": [
    {
     "name": "stdout",
     "output_type": "stream",
     "text": [
      "Start Time: Monday, May 5, 2025 8:08:34 AM\n",
      "Succeeded at Monday, May 5, 2025 8:08:36 AM (Elapsed Time: 2.04 seconds)\n"
     ]
    }
   ],
   "source": [
    "# Output feature class for the major roads buffers\n",
    "roadsMajorBuffers = os.path.join(gdbAnalysisData, \"roadsMajorBuffers\")\n",
    "\n",
    "# Buffer the major roads feature class by 250 meters (on each side)\n",
    "arcpy.analysis.Buffer(\n",
    "    in_features = roadsMajor,\n",
    "    out_feature_class = roadsMajorBuffers,\n",
    "    buffer_distance_or_field = \"250 Meters\",\n",
    "    line_side = \"FULL\",\n",
    "    line_end_type = \"FLAT\",\n",
    "    dissolve_option = \"NONE\",\n",
    "    dissolve_field = None,\n",
    "    method = \"PLANAR\"\n",
    ")\n",
    "print(arcpy.GetMessages())"
   ]
  },
  {
   "cell_type": "markdown",
   "metadata": {},
   "source": [
    "Add feature class alias for the major road buffers feature class"
   ]
  },
  {
   "cell_type": "code",
   "execution_count": 56,
   "metadata": {},
   "outputs": [
    {
     "name": "stdout",
     "output_type": "stream",
     "text": [
      "Start Time: Monday, May 5, 2025 8:08:34 AM\n",
      "Succeeded at Monday, May 5, 2025 8:08:36 AM (Elapsed Time: 2.04 seconds)\n"
     ]
    }
   ],
   "source": [
    "# Define the major roads buffers layer alias and modify the feature class alias\n",
    "roadsMajorBuffersAlias = \"OCSWITRS Major Roads Buffers\"\n",
    "arcpy.AlterAliasName(roadsMajorBuffers, roadsMajorBuffersAlias)\n",
    "print(arcpy.GetMessages())"
   ]
  },
  {
   "cell_type": "markdown",
   "metadata": {},
   "source": [
    "Obtain the list of fields for the major road buffers feature class"
   ]
  },
  {
   "cell_type": "code",
   "execution_count": 57,
   "metadata": {},
   "outputs": [
    {
     "name": "stdout",
     "output_type": "stream",
     "text": [
      "OBJECTID (OBJECTID)\n",
      "Shape (Shape)\n",
      "placeName (Road City)\n",
      "roadName (Road Name)\n",
      "roadId (Road ID)\n",
      "roadCat (Road Category)\n",
      "roadLength (Road Length (in miles))\n",
      "roadsPrimary (Number of Primary Road Segments)\n",
      "roadsSecondary (Number of Secondary Road Segments)\n",
      "roadsLocal (Number of Local Road Segments)\n",
      "roadLengthMean (Mean Road Length)\n",
      "roadLengthSum (Total Road Length)\n",
      "BUFF_DIST (BUFF_DIST)\n",
      "ORIG_FID (ORIG_FID)\n",
      "Shape_Length (Shape_Length)\n",
      "Shape_Area (Shape_Area)\n"
     ]
    }
   ],
   "source": [
    "roadsMajorBuffersFields = [f.name for f in arcpy.ListFields(roadsMajorBuffers)] # roadsMajorBuffers field list\n",
    "\n",
    "# Field Aliases for the major roads buffers feature class\n",
    "for f in arcpy.ListFields(roadsMajorBuffers):\n",
    "    print(f\"{f.name} ({f.aliasName})\")"
   ]
  },
  {
   "cell_type": "markdown",
   "metadata": {},
   "source": [
    "<h3 style=\"font-weight:bold; color:lime; padding-left: 50px\">Summarize Major Road Buffers</h3>"
   ]
  },
  {
   "cell_type": "markdown",
   "metadata": {},
   "source": [
    "Create a summary for each of the road buffers that contains statistics and counts of crash collision data"
   ]
  },
  {
   "cell_type": "code",
   "execution_count": 58,
   "metadata": {},
   "outputs": [
    {
     "name": "stdout",
     "output_type": "stream",
     "text": [
      "Start Time: Monday, May 5, 2025 8:09:43 AM\n",
      "Succeeded at Monday, May 5, 2025 8:10:13 AM (Elapsed Time: 30.01 seconds)\n"
     ]
    }
   ],
   "source": [
    "# Output feature class for the summarized major roads buffers\n",
    "roadsMajorBuffersSum = os.path.join(gdbAnalysisData, \"roadsMajorBuffersSum\")\n",
    "\n",
    "# Summarize the major roads buffers feature class by key crashes attributes\n",
    "arcpy.analysis.SummarizeWithin(\n",
    "    in_polygons = roadsMajorBuffers,\n",
    "    in_sum_features = crashes,\n",
    "    out_feature_class = roadsMajorBuffersSum,\n",
    "    keep_all_polygons = \"KEEP_ALL\",\n",
    "    sum_fields = [\n",
    "        [\"crashTag\", \"Sum\"], [\"partyCount\", \"Sum\"], [\"victimCount\", \"Sum\"], [\"numberKilled\", \"Sum\"], \n",
    "        [\"numberInj\", \"Sum\"], [\"countSevereInj\", \"Sum\"], [\"countVisibleInj\", \"Sum\"],\n",
    "        [\"countComplaintPain\", \"Sum\"], [\"countCarKilled\", \"Sum\"], [\"countCarInj\", \"Sum\"],\n",
    "        [\"countPedKilled\", \"Sum\"], [\"countPedInj\", \"Sum\"], [\"countBicKilled\", \"Sum\"],\n",
    "        [\"countBicInj\", \"Sum\"], [\"countMcKilled\", \"Sum\"], [\"countMcInj\", \"Sum\"],\n",
    "        [\"collSeverityNum\", \"Mean\"], [\"collSeverityRankNum\", \"Mean\"]\n",
    "    ]\n",
    ")\n",
    "print(arcpy.GetMessages())"
   ]
  },
  {
   "cell_type": "markdown",
   "metadata": {},
   "source": [
    "Add feature class alias for the summarized major road buffers feature class"
   ]
  },
  {
   "cell_type": "code",
   "execution_count": 59,
   "metadata": {},
   "outputs": [
    {
     "name": "stdout",
     "output_type": "stream",
     "text": [
      "Start Time: Monday, May 5, 2025 8:09:43 AM\n",
      "Succeeded at Monday, May 5, 2025 8:10:13 AM (Elapsed Time: 30.01 seconds)\n"
     ]
    }
   ],
   "source": [
    "# Define the major roads buffers summary layer alias and modify the feature class alias\n",
    "roadsMajorBuffersSumAlias = \"OCSWITRS Major Roads Buffers Summary\"\n",
    "arcpy.AlterAliasName(roadsMajorBuffersSum, roadsMajorBuffersSumAlias)\n",
    "print(arcpy.GetMessages())"
   ]
  },
  {
   "cell_type": "markdown",
   "metadata": {},
   "source": [
    "Obtain the fields for the summarized major road buffers feature class"
   ]
  },
  {
   "cell_type": "code",
   "execution_count": 60,
   "metadata": {},
   "outputs": [
    {
     "name": "stdout",
     "output_type": "stream",
     "text": [
      "OBJECTID (OBJECTID)\n",
      "Shape (Shape)\n",
      "placeName (Road City)\n",
      "roadName (Road Name)\n",
      "roadId (Road ID)\n",
      "roadCat (Road Category)\n",
      "roadLength (Road Length (in miles))\n",
      "roadsPrimary (Number of Primary Road Segments)\n",
      "roadsSecondary (Number of Secondary Road Segments)\n",
      "roadsLocal (Number of Local Road Segments)\n",
      "roadLengthMean (Mean Road Length)\n",
      "roadLengthSum (Total Road Length)\n",
      "BUFF_DIST (BUFF_DIST)\n",
      "ORIG_FID (ORIG_FID)\n",
      "Shape_Length (Shape_Length)\n",
      "Shape_Area (Shape_Area)\n",
      "sum_crashTag (Sum Crash Tag)\n",
      "sum_partyCount (Sum Party Count)\n",
      "sum_victimCount (Sum Victim Count)\n",
      "sum_numberKilled (Sum Killed Victims)\n",
      "sum_numberInj (Sum Injured Victims)\n",
      "sum_countSevereInj (Sum Severe Injury Count)\n",
      "sum_countVisibleInj (Sum Visible Injury Count)\n",
      "sum_countComplaintPain (Sum Complaint of Pain Injury Count)\n",
      "sum_countCarKilled (Sum Number of Killed Car Victims)\n",
      "sum_countCarInj (Sum Number of Injured Car Victims)\n",
      "sum_countPedKilled (Sum Pedestrian Killed Count)\n",
      "sum_countPedInj (Sum Pedestrian Injury Count)\n",
      "sum_countBicKilled (Sum Bicyclist Killed Count)\n",
      "sum_countBicInj (Sum Bicyclist Injury Count)\n",
      "sum_countMcKilled (Sum Motorcyclist Killed Count)\n",
      "sum_countMcInj (Sum Motorcyclist Injury Count)\n",
      "mean_collSeverityNum (Mean Collision Severity Numeric)\n",
      "mean_collSeverityRankNum (Mean Collision Severity Rank Numeric)\n",
      "Point_Count (Count of Points)\n"
     ]
    }
   ],
   "source": [
    "roadsMajorBuffersSumFields = [f.name for f in arcpy.ListFields(roadsMajorBuffersSum)] # roadsMajorBuffersSum field list\n",
    "\n",
    "# Field Aliases for the major roads buffers summary feature class\n",
    "for f in arcpy.ListFields(roadsMajorBuffersSum):\n",
    "    print(f\"{f.name} ({f.aliasName})\")"
   ]
  },
  {
   "cell_type": "markdown",
   "metadata": {},
   "source": [
    "<h3 style=\"font-weight:bold; color:lime; padding-left: 50px\">Points 1,000 ft along major road lines</h3>"
   ]
  },
  {
   "cell_type": "markdown",
   "metadata": {},
   "source": [
    "Generate points every 1,000 feet along the major road lines"
   ]
  },
  {
   "cell_type": "code",
   "execution_count": 61,
   "metadata": {},
   "outputs": [
    {
     "data": {
      "text/html": [
       "<div class='gpresult'><h2 class='msg-title'>Messages</h2><div id='messages'>Start Time: Monday, May 5, 2025 8:10:27 AM<br>Succeeded at Monday, May 5, 2025 8:10:31 AM (Elapsed Time: 4.35 seconds)<br></div><div id = 'default' /></div></div>"
      ],
      "text/plain": [
       "<Result 'c:\\\\Users\\\\ktale\\\\OneDrive\\\\Documents\\\\GitHub\\\\OCSWITRS\\\\AGPSWITRS\\\\AGPSWITRS.gdb\\\\AnalysisData\\\\roadsMajorPointsAlongLines'>"
      ]
     },
     "execution_count": 61,
     "metadata": {},
     "output_type": "execute_result"
    }
   ],
   "source": [
    "# Create a path for the new summarized major road buffers feature class\n",
    "roadsMajorPointsAlongLines = os.path.join(gdbAnalysisData, \"roadsMajorPointsAlongLines\")\n",
    "\n",
    "arcpy.management.GeneratePointsAlongLines(\n",
    "    Input_Features = roadsMajor,\n",
    "    Output_Feature_Class = roadsMajorPointsAlongLines,\n",
    "    Point_Placement = \"DISTANCE\",\n",
    "    Distance = \"1000 Feet\",\n",
    "    Percentage = None,\n",
    "    Include_End_Points = \"NO_END_POINTS\",\n",
    "    Add_Chainage_Fields = \"NO_CHAINAGE\",\n",
    "    Distance_Field=None,\n",
    "    Distance_Method = \"PLANAR\"\n",
    ")"
   ]
  },
  {
   "cell_type": "markdown",
   "metadata": {},
   "source": [
    "Add feature class alias for the points along major road lines feature class"
   ]
  },
  {
   "cell_type": "code",
   "execution_count": 62,
   "metadata": {},
   "outputs": [
    {
     "name": "stdout",
     "output_type": "stream",
     "text": [
      "Start Time: Monday, May 5, 2025 8:10:27 AM\n",
      "Succeeded at Monday, May 5, 2025 8:10:31 AM (Elapsed Time: 4.35 seconds)\n"
     ]
    }
   ],
   "source": [
    "# Define the major roads points along lines layer alias and modify the feature class alias\n",
    "roadsMajorPointsAlongLinesAlias = \"OCSWITRS Major Roads Points Along Lines\"\n",
    "arcpy.AlterAliasName(roadsMajorPointsAlongLines, roadsMajorPointsAlongLinesAlias)\n",
    "print(arcpy.GetMessages())"
   ]
  },
  {
   "cell_type": "markdown",
   "metadata": {},
   "source": [
    "Obtain the fields for the points along major road lines feature class"
   ]
  },
  {
   "cell_type": "code",
   "execution_count": 63,
   "metadata": {},
   "outputs": [
    {
     "name": "stdout",
     "output_type": "stream",
     "text": [
      "OBJECTID (OBJECTID)\n",
      "Shape (Shape)\n",
      "ORIG_FID (ORIG_FID)\n",
      "placeName (Road City)\n",
      "roadName (Road Name)\n",
      "roadId (Road ID)\n",
      "roadCat (Road Category)\n",
      "roadLength (Road Length (in miles))\n",
      "roadsPrimary (Number of Primary Road Segments)\n",
      "roadsSecondary (Number of Secondary Road Segments)\n",
      "roadsLocal (Number of Local Road Segments)\n",
      "roadLengthMean (Mean Road Length)\n",
      "roadLengthSum (Total Road Length)\n",
      "Shape_Length (Shape_Length)\n"
     ]
    }
   ],
   "source": [
    "roadsMajorPointsAlongLinesFields = [f.name for f in arcpy.ListFields(roadsMajorPointsAlongLines)] # roadsMajorPointsAlongLines field list\n",
    "\n",
    "# Field Aliases for the major roads points along lines feature class\n",
    "for f in arcpy.ListFields(roadsMajorPointsAlongLines):\n",
    "    print(f\"{f.name} ({f.aliasName})\")"
   ]
  },
  {
   "cell_type": "markdown",
   "metadata": {},
   "source": [
    "<h3 style=\"font-weight:bold; color:lime; padding-left: 50px\">Split Road Segments 1,000ft apart</h3>"
   ]
  },
  {
   "cell_type": "markdown",
   "metadata": {},
   "source": [
    "Split road segments at the points (1,000 feet apart)"
   ]
  },
  {
   "cell_type": "code",
   "execution_count": 64,
   "metadata": {},
   "outputs": [
    {
     "data": {
      "text/html": [
       "<div class='gpresult'><h2 class='msg-title'>Messages</h2><div id='messages'>Start Time: Monday, May 5, 2025 8:10:43 AM<br>Succeeded at Monday, May 5, 2025 8:10:57 AM (Elapsed Time: 13.61 seconds)<br></div><div id = 'default' /></div></div>"
      ],
      "text/plain": [
       "<Result 'c:\\\\Users\\\\ktale\\\\OneDrive\\\\Documents\\\\GitHub\\\\OCSWITRS\\\\AGPSWITRS\\\\AGPSWITRS.gdb\\\\AnalysisData\\\\roadsMajorSplit'>"
      ]
     },
     "execution_count": 64,
     "metadata": {},
     "output_type": "execute_result"
    }
   ],
   "source": [
    "# Create a path for the new split major roads feature class\n",
    "roadsMajorSplit = os.path.join(gdbAnalysisData, \"roadsMajorSplit\")\n",
    "\n",
    "# Split the major roads at the points along the lines\n",
    "arcpy.management.SplitLineAtPoint(\n",
    "    in_features = roadsMajor,\n",
    "    point_features = roadsMajorPointsAlongLines,\n",
    "    out_feature_class = roadsMajorSplit,\n",
    "    search_radius = \"1000 Feet\"\n",
    ")"
   ]
  },
  {
   "cell_type": "markdown",
   "metadata": {},
   "source": [
    "Add feature class alias for the split road segments feature class"
   ]
  },
  {
   "cell_type": "code",
   "execution_count": 65,
   "metadata": {},
   "outputs": [
    {
     "name": "stdout",
     "output_type": "stream",
     "text": [
      "Start Time: Monday, May 5, 2025 8:10:43 AM\n",
      "Succeeded at Monday, May 5, 2025 8:10:57 AM (Elapsed Time: 13.61 seconds)\n"
     ]
    }
   ],
   "source": [
    "# Define the major roads split layer alias and modify the feature class alias\n",
    "roadsMajorSplitAlias = \"OCSWITRS Major Roads Split\"\n",
    "arcpy.AlterAliasName(roadsMajorSplit, roadsMajorSplitAlias)\n",
    "print(arcpy.GetMessages())"
   ]
  },
  {
   "cell_type": "markdown",
   "metadata": {},
   "source": [
    "Obtain the fields for the split road segments feature class"
   ]
  },
  {
   "cell_type": "code",
   "execution_count": 66,
   "metadata": {},
   "outputs": [
    {
     "name": "stdout",
     "output_type": "stream",
     "text": [
      "OBJECTID (OBJECTID)\n",
      "Shape (Shape)\n",
      "placeName (Road City)\n",
      "roadName (Road Name)\n",
      "roadId (Road ID)\n",
      "roadCat (Road Category)\n",
      "roadLength (Road Length (in miles))\n",
      "roadsPrimary (Number of Primary Road Segments)\n",
      "roadsSecondary (Number of Secondary Road Segments)\n",
      "roadsLocal (Number of Local Road Segments)\n",
      "roadLengthMean (Mean Road Length)\n",
      "roadLengthSum (Total Road Length)\n",
      "ORIG_FID (ORIG_FID)\n",
      "ORIG_SEQ (ORIG_SEQ)\n",
      "Shape_Length (Shape_Length)\n"
     ]
    }
   ],
   "source": [
    "roadsMajorSplitFields = [f.name for f in arcpy.ListFields(roadsMajorSplit)] # roadsMajorSplit field list\n",
    "\n",
    "# Field Aliases for the major roads split feature class\n",
    "for f in arcpy.ListFields(roadsMajorSplit):\n",
    "    print(f\"{f.name} ({f.aliasName})\")"
   ]
  },
  {
   "cell_type": "markdown",
   "metadata": {},
   "source": [
    "<h3 style=\"font-weight:bold; color:lime; padding-left: 50px\">Buffers 500ft around road segments</h3>"
   ]
  },
  {
   "cell_type": "markdown",
   "metadata": {},
   "source": [
    "Create buffers (500 ft) around the road segments (1,000 feet)"
   ]
  },
  {
   "cell_type": "code",
   "execution_count": 67,
   "metadata": {},
   "outputs": [
    {
     "data": {
      "text/html": [
       "<div class='gpresult'><h2 class='msg-title'>Messages</h2><div id='messages'>Start Time: Monday, May 5, 2025 8:11:11 AM<br>WARNING 000636: Skipping feature 64 because a negative or very small distance resulted in no geometry.<br>WARNING 000636: Skipping feature 344 because a negative or very small distance resulted in no geometry.<br>WARNING 000636: Skipping feature 345 because a negative or very small distance resulted in no geometry.<br>WARNING 000636: Skipping feature 625 because a negative or very small distance resulted in no geometry.<br>WARNING 000636: Skipping feature 1294 because a negative or very small distance resulted in no geometry.<br>WARNING 000636: Skipping feature 1295 because a negative or very small distance resulted in no geometry.<br>WARNING 000636: Skipping feature 1296 because a negative or very small distance resulted in no geometry.<br>WARNING 000636: Skipping feature 1297 because a negative or very small distance resulted in no geometry.<br>WARNING 000636: Skipping feature 1308 because a negative or very small distance resulted in no geometry.<br>WARNING 000636: Skipping feature 1952 because a negative or very small distance resulted in no geometry.<br>WARNING 000636: Skipping feature 1953 because a negative or very small distance resulted in no geometry.<br>WARNING 000636: Skipping feature 2122 because a negative or very small distance resulted in no geometry.<br>WARNING 000636: Skipping feature 2123 because a negative or very small distance resulted in no geometry.<br>WARNING 000636: Skipping feature 2124 because a negative or very small distance resulted in no geometry.<br>WARNING 000636: Skipping feature 2138 because a negative or very small distance resulted in no geometry.<br>WARNING 000636: Skipping feature 2139 because a negative or very small distance resulted in no geometry.<br>WARNING 000636: Skipping feature 2140 because a negative or very small distance resulted in no geometry.<br>WARNING 000636: Skipping feature 2141 because a negative or very small distance resulted in no geometry.<br>WARNING 000636: Skipping feature 3157 because a negative or very small distance resulted in no geometry.<br>WARNING 000636: Skipping feature 3159 because a negative or very small distance resulted in no geometry.<br>WARNING 000636: Skipping feature 3175 because a negative or very small distance resulted in no geometry.<br>WARNING 000636: Skipping feature 3176 because a negative or very small distance resulted in no geometry.<br>WARNING 000636: Skipping feature 3180 because a negative or very small distance resulted in no geometry.<br>WARNING 000636: Skipping feature 3188 because a negative or very small distance resulted in no geometry.<br>WARNING 000636: Skipping feature 3206 because a negative or very small distance resulted in no geometry.<br>WARNING 000636: Skipping feature 3212 because a negative or very small distance resulted in no geometry.<br>WARNING 000636: Skipping feature 3213 because a negative or very small distance resulted in no geometry.<br>WARNING 000636: Skipping feature 3227 because a negative or very small distance resulted in no geometry.<br>WARNING 000636: Skipping feature 3231 because a negative or very small distance resulted in no geometry.<br>WARNING 000636: Skipping feature 3254 because a negative or very small distance resulted in no geometry.<br>WARNING 000636: Skipping feature 3255 because a negative or very small distance resulted in no geometry.<br>WARNING 000636: Skipping feature 3256 because a negative or very small distance resulted in no geometry.<br>WARNING 000636: Skipping feature 3257 because a negative or very small distance resulted in no geometry.<br>WARNING 000636: Skipping feature 3258 because a negative or very small distance resulted in no geometry.<br>WARNING 000636: Skipping feature 3272 because a negative or very small distance resulted in no geometry.<br>WARNING 000636: Skipping feature 3273 because a negative or very small distance resulted in no geometry.<br>WARNING 000636: Skipping feature 3274 because a negative or very small distance resulted in no geometry.<br>WARNING 000636: Skipping feature 3776 because a negative or very small distance resulted in no geometry.<br>WARNING 000636: Skipping feature 3791 because a negative or very small distance resulted in no geometry.<br>WARNING 000636: Skipping feature 3815 because a negative or very small distance resulted in no geometry.<br>WARNING 000636: Skipping feature 3839 because a negative or very small distance resulted in no geometry.<br>WARNING 000636: Skipping feature 3953 because a negative or very small distance resulted in no geometry.<br>WARNING 000636: Skipping feature 3962 because a negative or very small distance resulted in no geometry.<br>WARNING 000636: Skipping feature 3968 because a negative or very small distance resulted in no geometry.<br>WARNING 000636: Skipping feature 3983 because a negative or very small distance resulted in no geometry.<br>WARNING 000636: Skipping feature 3991 because a negative or very small distance resulted in no geometry.<br>WARNING 000636: Skipping feature 4009 because a negative or very small distance resulted in no geometry.<br>WARNING 000636: Skipping feature 4016 because a negative or very small distance resulted in no geometry.<br>WARNING 000636: Skipping feature 4037 because a negative or very small distance resulted in no geometry.<br>WARNING 000636: Skipping feature 4041 because a negative or very small distance resulted in no geometry.<br>WARNING 000636: Skipping feature 4045 because a negative or very small distance resulted in no geometry.<br>WARNING 000636: Skipping feature 4059 because a negative or very small distance resulted in no geometry.<br>WARNING 000636: Skipping feature 4060 because a negative or very small distance resulted in no geometry.<br>WARNING 000636: Skipping feature 4210 because a negative or very small distance resulted in no geometry.<br>WARNING 000636: Skipping feature 4211 because a negative or very small distance resulted in no geometry.<br>WARNING 000636: Skipping feature 4212 because a negative or very small distance resulted in no geometry.<br>WARNING 000636: Skipping feature 4224 because a negative or very small distance resulted in no geometry.<br>WARNING 000636: Skipping feature 4226 because a negative or very small distance resulted in no geometry.<br>WARNING 000636: Skipping feature 4227 because a negative or very small distance resulted in no geometry.<br>WARNING 000636: Skipping feature 4229 because a negative or very small distance resulted in no geometry.<br>WARNING 000636: Skipping feature 4302 because a negative or very small distance resulted in no geometry.<br>WARNING 000636: Skipping feature 4303 because a negative or very small distance resulted in no geometry.<br>WARNING 000636: Skipping feature 4346 because a negative or very small distance resulted in no geometry.<br>WARNING 000636: Skipping feature 4353 because a negative or very small distance resulted in no geometry.<br>WARNING 000636: Skipping feature 4354 because a negative or very small distance resulted in no geometry.<br>WARNING 000636: Skipping feature 4356 because a negative or very small distance resulted in no geometry.<br>WARNING 000636: Skipping feature 4407 because a negative or very small distance resulted in no geometry.<br>WARNING 000636: Skipping feature 4414 because a negative or very small distance resulted in no geometry.<br>WARNING 000636: Skipping feature 4415 because a negative or very small distance resulted in no geometry.<br>WARNING 000636: Skipping feature 4417 because a negative or very small distance resulted in no geometry.<br>WARNING 000636: Skipping feature 4591 because a negative or very small distance resulted in no geometry.<br>WARNING 000636: Skipping feature 4606 because a negative or very small distance resulted in no geometry.<br>WARNING 000636: Skipping feature 4609 because a negative or very small distance resulted in no geometry.<br>WARNING 000636: Skipping feature 4610 because a negative or very small distance resulted in no geometry.<br>WARNING 000636: Skipping feature 4621 because a negative or very small distance resulted in no geometry.<br>WARNING 000636: Skipping feature 4739 because a negative or very small distance resulted in no geometry.<br>WARNING 000636: Skipping feature 4754 because a negative or very small distance resulted in no geometry.<br>WARNING 000636: Skipping feature 4757 because a negative or very small distance resulted in no geometry.<br>WARNING 000636: Skipping feature 4758 because a negative or very small distance resulted in no geometry.<br>WARNING 000636: Skipping feature 4769 because a negative or very small distance resulted in no geometry.<br>WARNING 000636: Skipping feature 4829 because a negative or very small distance resulted in no geometry.<br>WARNING 000636: Skipping feature 4845 because a negative or very small distance resulted in no geometry.<br>WARNING 000636: Skipping feature 4846 because a negative or very small distance resulted in no geometry.<br>WARNING 000636: Skipping feature 4847 because a negative or very small distance resulted in no geometry.<br>WARNING 000636: Skipping feature 4848 because a negative or very small distance resulted in no geometry.<br>WARNING 000636: Skipping feature 4849 because a negative or very small distance resulted in no geometry.<br>WARNING 000636: Skipping feature 4904 because a negative or very small distance resulted in no geometry.<br>WARNING 000636: Skipping feature 4905 because a negative or very small distance resulted in no geometry.<br>WARNING 000636: Skipping feature 4906 because a negative or very small distance resulted in no geometry.<br>WARNING 000636: Skipping feature 4907 because a negative or very small distance resulted in no geometry.<br>WARNING 000636: Skipping feature 4908 because a negative or very small distance resulted in no geometry.<br>WARNING 000636: Skipping feature 4999 because a negative or very small distance resulted in no geometry.<br>WARNING 000636: Skipping feature 5000 because a negative or very small distance resulted in no geometry.<br>WARNING 000636: Skipping feature 5001 because a negative or very small distance resulted in no geometry.<br>WARNING 000636: Skipping feature 5002 because a negative or very small distance resulted in no geometry.<br>WARNING 000636: Skipping feature 5003 because a negative or very small distance resulted in no geometry.<br>WARNING 000636: Skipping feature 5028 because a negative or very small distance resulted in no geometry.<br>WARNING 000636: Skipping feature 5048 because a negative or very small distance resulted in no geometry.<br>WARNING 000636: Skipping feature 5049 because a negative or very small distance resulted in no geometry.<br>WARNING 000636: Skipping feature 5050 because a negative or very small distance resulted in no geometry.<br>WARNING 000636: Skipping feature 5051 because a negative or very small distance resulted in no geometry.<br>WARNING 000636: Skipping feature 5052 because a negative or very small distance resulted in no geometry.<br>WARNING 000636: Skipping feature 5200 because a negative or very small distance resulted in no geometry.<br>WARNING 000636: Skipping feature 5292 because a negative or very small distance resulted in no geometry.<br>WARNING 000636: Skipping feature 5294 because a negative or very small distance resulted in no geometry.<br>WARNING 000636: Skipping feature 5306 because a negative or very small distance resulted in no geometry.<br>WARNING 000636: Skipping feature 5307 because a negative or very small distance resulted in no geometry.<br>WARNING 000636: Skipping feature 5324 because a negative or very small distance resulted in no geometry.<br>WARNING 000636: Skipping feature 5328 because a negative or very small distance resulted in no geometry.<br>WARNING 000636: Skipping feature 5336 because a negative or very small distance resulted in no geometry.<br>WARNING 000636: Skipping feature 5360 because a negative or very small distance resulted in no geometry.<br>WARNING 000636: Skipping feature 5361 because a negative or very small distance resulted in no geometry.<br>WARNING 000636: Skipping feature 5366 because a negative or very small distance resulted in no geometry.<br>WARNING 000636: Skipping feature 5383 because a negative or very small distance resulted in no geometry.<br>WARNING 000636: Skipping feature 5388 because a negative or very small distance resulted in no geometry.<br>WARNING 000636: Skipping feature 5389 because a negative or very small distance resulted in no geometry.<br>WARNING 000636: Skipping feature 5390 because a negative or very small distance resulted in no geometry.<br>WARNING 000636: Skipping feature 5391 because a negative or very small distance resulted in no geometry.<br>WARNING 000636: Skipping feature 5392 because a negative or very small distance resulted in no geometry.<br>WARNING 000636: Skipping feature 5414 because a negative or very small distance resulted in no geometry.<br>WARNING 000636: Skipping feature 5415 because a negative or very small distance resulted in no geometry.<br>WARNING 000636: Skipping feature 5416 because a negative or very small distance resulted in no geometry.<br>WARNING 000636: Skipping feature 6007 because a negative or very small distance resulted in no geometry.<br>WARNING 000636: Skipping feature 6031 because a negative or very small distance resulted in no geometry.<br>WARNING 000636: Skipping feature 6043 because a negative or very small distance resulted in no geometry.<br>WARNING 000636: Skipping feature 6076 because a negative or very small distance resulted in no geometry.<br>WARNING 000636: Skipping feature 6118 because a negative or very small distance resulted in no geometry.<br>WARNING 000636: Skipping feature 6123 because a negative or very small distance resulted in no geometry.<br>WARNING 000636: Skipping feature 6142 because a negative or very small distance resulted in no geometry.<br>WARNING 000636: Skipping feature 6148 because a negative or very small distance resulted in no geometry.<br>WARNING 000636: Skipping feature 6152 because a negative or very small distance resulted in no geometry.<br>WARNING 000636: Skipping feature 6160 because a negative or very small distance resulted in no geometry.<br>WARNING 000636: Skipping feature 6185 because a negative or very small distance resulted in no geometry.<br>WARNING 000636: Skipping feature 6204 because a negative or very small distance resulted in no geometry.<br>WARNING 000636: Skipping feature 6214 because a negative or very small distance resulted in no geometry.<br>WARNING 000636: Skipping feature 6215 because a negative or very small distance resulted in no geometry.<br>WARNING 000636: Skipping feature 6228 because a negative or very small distance resulted in no geometry.<br>WARNING 000636: Skipping feature 6232 because a negative or very small distance resulted in no geometry.<br>WARNING 000636: Skipping feature 6738 because a negative or very small distance resulted in no geometry.<br>WARNING 000636: Skipping feature 6745 because a negative or very small distance resulted in no geometry.<br>WARNING 000636: Skipping feature 6748 because a negative or very small distance resulted in no geometry.<br>WARNING 000636: Skipping feature 6807 because a negative or very small distance resulted in no geometry.<br>WARNING 000636: Skipping feature 7151 because a negative or very small distance resulted in no geometry.<br>WARNING 000636: Skipping feature 7152 because a negative or very small distance resulted in no geometry.<br>WARNING 000636: Skipping feature 7461 because a negative or very small distance resulted in no geometry.<br>WARNING 000636: Skipping feature 7808 because a negative or very small distance resulted in no geometry.<br>WARNING 000636: Skipping feature 7811 because a negative or very small distance resulted in no geometry.<br>WARNING 000636: Skipping feature 7812 because a negative or very small distance resulted in no geometry.<br>WARNING 000636: Skipping feature 7813 because a negative or very small distance resulted in no geometry.<br>WARNING 000636: Skipping feature 7838 because a negative or very small distance resulted in no geometry.<br>WARNING 000636: Skipping feature 7839 because a negative or very small distance resulted in no geometry.<br>WARNING 000636: Skipping feature 7840 because a negative or very small distance resulted in no geometry.<br>WARNING 000636: Skipping feature 7841 because a negative or very small distance resulted in no geometry.<br>WARNING 000636: Skipping feature 7956 because a negative or very small distance resulted in no geometry.<br>WARNING 000636: Skipping feature 7957 because a negative or very small distance resulted in no geometry.<br>WARNING 000636: Skipping feature 7964 because a negative or very small distance resulted in no geometry.<br>WARNING 000636: Skipping feature 7965 because a negative or very small distance resulted in no geometry.<br>WARNING 000636: Skipping feature 7966 because a negative or very small distance resulted in no geometry.<br>WARNING 000636: Skipping feature 7990 because a negative or very small distance resulted in no geometry.<br>WARNING 000636: Skipping feature 7994 because a negative or very small distance resulted in no geometry.<br>WARNING 000636: Skipping feature 7995 because a negative or very small distance resulted in no geometry.<br>WARNING 000636: Skipping feature 7997 because a negative or very small distance resulted in no geometry.<br>WARNING 000636: Skipping feature 9348 because a negative or very small distance resulted in no geometry.<br>WARNING 000636: Skipping feature 9580 because a negative or very small distance resulted in no geometry.<br>WARNING 000636: Skipping feature 10895 because a negative or very small distance resulted in no geometry.<br>WARNING 000636: Skipping feature 10897 because a negative or very small distance resulted in no geometry.<br>WARNING 000636: Skipping feature 10913 because a negative or very small distance resulted in no geometry.<br>WARNING 000636: Skipping feature 10914 because a negative or very small distance resulted in no geometry.<br>WARNING 000636: Skipping feature 10918 because a negative or very small distance resulted in no geometry.<br>WARNING 000636: Skipping feature 10926 because a negative or very small distance resulted in no geometry.<br>WARNING 000636: Skipping feature 10944 because a negative or very small distance resulted in no geometry.<br>WARNING 000636: Skipping feature 10950 because a negative or very small distance resulted in no geometry.<br>WARNING 000636: Skipping feature 10951 because a negative or very small distance resulted in no geometry.<br>WARNING 000636: Skipping feature 10971 because a negative or very small distance resulted in no geometry.<br>WARNING 000636: Skipping feature 10975 because a negative or very small distance resulted in no geometry.<br>WARNING 000636: Skipping feature 11000 because a negative or very small distance resulted in no geometry.<br>WARNING 000636: Skipping feature 11001 because a negative or very small distance resulted in no geometry.<br>WARNING 000636: Skipping feature 11002 because a negative or very small distance resulted in no geometry.<br>WARNING 000636: Skipping feature 11003 because a negative or very small distance resulted in no geometry.<br>WARNING 000636: Skipping feature 11004 because a negative or very small distance resulted in no geometry.<br>WARNING 000636: Skipping feature 11018 because a negative or very small distance resulted in no geometry.<br>WARNING 000636: Skipping feature 11019 because a negative or very small distance resulted in no geometry.<br>WARNING 000636: Skipping feature 11020 because a negative or very small distance resulted in no geometry.<br>WARNING 000636: Skipping feature 11122 because a negative or very small distance resulted in no geometry.<br>WARNING 000636: Skipping feature 11127 because a negative or very small distance resulted in no geometry.<br>WARNING 000636: Skipping feature 11146 because a negative or very small distance resulted in no geometry.<br>WARNING 000636: Skipping feature 11152 because a negative or very small distance resulted in no geometry.<br>WARNING 000636: Skipping feature 11156 because a negative or very small distance resulted in no geometry.<br>WARNING 000636: Skipping feature 11164 because a negative or very small distance resulted in no geometry.<br>WARNING 000636: Skipping feature 11189 because a negative or very small distance resulted in no geometry.<br>WARNING 000636: Skipping feature 11208 because a negative or very small distance resulted in no geometry.<br>WARNING 000636: Skipping feature 11218 because a negative or very small distance resulted in no geometry.<br>WARNING 000636: Skipping feature 11219 because a negative or very small distance resulted in no geometry.<br>WARNING 000636: Skipping feature 11232 because a negative or very small distance resulted in no geometry.<br>WARNING 000636: Skipping feature 11236 because a negative or very small distance resulted in no geometry.<br>WARNING 000636: Skipping feature 11523 because a negative or very small distance resulted in no geometry.<br>WARNING 000636: Skipping feature 11541 because a negative or very small distance resulted in no geometry.<br>WARNING 000636: Skipping feature 11617 because a negative or very small distance resulted in no geometry.<br>WARNING 000636: Skipping feature 11635 because a negative or very small distance resulted in no geometry.<br>WARNING 000636: Skipping feature 11822 because a negative or very small distance resulted in no geometry.<br>WARNING 000636: Skipping feature 11830 because a negative or very small distance resulted in no geometry.<br>WARNING 000636: Skipping feature 13207 because a negative or very small distance resulted in no geometry.<br>WARNING 000636: Skipping feature 13491 because a negative or very small distance resulted in no geometry.<br>WARNING 000636: Skipping feature 13492 because a negative or very small distance resulted in no geometry.<br>WARNING 000636: Skipping feature 13493 because a negative or very small distance resulted in no geometry.<br>WARNING 000636: Skipping feature 13494 because a negative or very small distance resulted in no geometry.<br>WARNING 000636: Skipping feature 13505 because a negative or very small distance resulted in no geometry.<br>WARNING 000636: Skipping feature 14173 because a negative or very small distance resulted in no geometry.<br>WARNING 000636: Skipping feature 14181 because a negative or very small distance resulted in no geometry.<br>WARNING 000636: Skipping feature 14549 because a negative or very small distance resulted in no geometry.<br>WARNING 000636: Skipping feature 14556 because a negative or very small distance resulted in no geometry.<br>WARNING 000636: Skipping feature 14811 because a negative or very small distance resulted in no geometry.<br>WARNING 000636: Skipping feature 14812 because a negative or very small distance resulted in no geometry.<br>WARNING 000636: Skipping feature 16560 because a negative or very small distance resulted in no geometry.<br>WARNING 000636: Skipping feature 16703 because a negative or very small distance resulted in no geometry.<br>WARNING 000636: Skipping feature 16859 because a negative or very small distance resulted in no geometry.<br>WARNING 000636: Skipping feature 17277 because a negative or very small distance resulted in no geometry.<br>WARNING 000636: Skipping feature 17280 because a negative or very small distance resulted in no geometry.<br>WARNING 000636: Skipping feature 17288 because a negative or very small distance resulted in no geometry.<br>WARNING 000636: Skipping feature 17348 because a negative or very small distance resulted in no geometry.<br>Succeeded at Monday, May 5, 2025 8:11:20 AM (Elapsed Time: 8.78 seconds)<br></div><div id = 'default' /></div></div>"
      ],
      "text/plain": [
       "<Result 'c:\\\\Users\\\\ktale\\\\OneDrive\\\\Documents\\\\GitHub\\\\OCSWITRS\\\\AGPSWITRS\\\\AGPSWITRS.gdb\\\\AnalysisData\\\\roadsMajorSplitBuffer'>"
      ]
     },
     "execution_count": 67,
     "metadata": {},
     "output_type": "execute_result"
    }
   ],
   "source": [
    "# Create a path for the new split major roads feature class\n",
    "roadsMajorSplitBuffer = os.path.join(gdbAnalysisData, \"roadsMajorSplitBuffer\")\n",
    "\n",
    "# Buffer the split major roads by 500 feet\n",
    "arcpy.analysis.Buffer(\n",
    "    in_features = roadsMajorSplit,\n",
    "    out_feature_class = roadsMajorSplitBuffer,\n",
    "    buffer_distance_or_field = \"500 Feet\",\n",
    "    line_side = \"FULL\",\n",
    "    line_end_type = \"FLAT\",\n",
    "    dissolve_option = \"NONE\",\n",
    "    dissolve_field = None,\n",
    "    method = \"PLANAR\"\n",
    ")"
   ]
  },
  {
   "cell_type": "markdown",
   "metadata": {},
   "source": [
    "Add feature class alias for the road segment buffers feature class"
   ]
  },
  {
   "cell_type": "code",
   "execution_count": 68,
   "metadata": {},
   "outputs": [
    {
     "name": "stdout",
     "output_type": "stream",
     "text": [
      "Start Time: Monday, May 5, 2025 8:11:11 AM\n",
      "WARNING 000636: Skipping feature 64 because a negative or very small distance resulted in no geometry.\n",
      "WARNING 000636: Skipping feature 344 because a negative or very small distance resulted in no geometry.\n",
      "WARNING 000636: Skipping feature 345 because a negative or very small distance resulted in no geometry.\n",
      "WARNING 000636: Skipping feature 625 because a negative or very small distance resulted in no geometry.\n",
      "WARNING 000636: Skipping feature 1294 because a negative or very small distance resulted in no geometry.\n",
      "WARNING 000636: Skipping feature 1295 because a negative or very small distance resulted in no geometry.\n",
      "WARNING 000636: Skipping feature 1296 because a negative or very small distance resulted in no geometry.\n",
      "WARNING 000636: Skipping feature 1297 because a negative or very small distance resulted in no geometry.\n",
      "WARNING 000636: Skipping feature 1308 because a negative or very small distance resulted in no geometry.\n",
      "WARNING 000636: Skipping feature 1952 because a negative or very small distance resulted in no geometry.\n",
      "WARNING 000636: Skipping feature 1953 because a negative or very small distance resulted in no geometry.\n",
      "WARNING 000636: Skipping feature 2122 because a negative or very small distance resulted in no geometry.\n",
      "WARNING 000636: Skipping feature 2123 because a negative or very small distance resulted in no geometry.\n",
      "WARNING 000636: Skipping feature 2124 because a negative or very small distance resulted in no geometry.\n",
      "WARNING 000636: Skipping feature 2138 because a negative or very small distance resulted in no geometry.\n",
      "WARNING 000636: Skipping feature 2139 because a negative or very small distance resulted in no geometry.\n",
      "WARNING 000636: Skipping feature 2140 because a negative or very small distance resulted in no geometry.\n",
      "WARNING 000636: Skipping feature 2141 because a negative or very small distance resulted in no geometry.\n",
      "WARNING 000636: Skipping feature 3157 because a negative or very small distance resulted in no geometry.\n",
      "WARNING 000636: Skipping feature 3159 because a negative or very small distance resulted in no geometry.\n",
      "WARNING 000636: Skipping feature 3175 because a negative or very small distance resulted in no geometry.\n",
      "WARNING 000636: Skipping feature 3176 because a negative or very small distance resulted in no geometry.\n",
      "WARNING 000636: Skipping feature 3180 because a negative or very small distance resulted in no geometry.\n",
      "WARNING 000636: Skipping feature 3188 because a negative or very small distance resulted in no geometry.\n",
      "WARNING 000636: Skipping feature 3206 because a negative or very small distance resulted in no geometry.\n",
      "WARNING 000636: Skipping feature 3212 because a negative or very small distance resulted in no geometry.\n",
      "WARNING 000636: Skipping feature 3213 because a negative or very small distance resulted in no geometry.\n",
      "WARNING 000636: Skipping feature 3227 because a negative or very small distance resulted in no geometry.\n",
      "WARNING 000636: Skipping feature 3231 because a negative or very small distance resulted in no geometry.\n",
      "WARNING 000636: Skipping feature 3254 because a negative or very small distance resulted in no geometry.\n",
      "WARNING 000636: Skipping feature 3255 because a negative or very small distance resulted in no geometry.\n",
      "WARNING 000636: Skipping feature 3256 because a negative or very small distance resulted in no geometry.\n",
      "WARNING 000636: Skipping feature 3257 because a negative or very small distance resulted in no geometry.\n",
      "WARNING 000636: Skipping feature 3258 because a negative or very small distance resulted in no geometry.\n",
      "WARNING 000636: Skipping feature 3272 because a negative or very small distance resulted in no geometry.\n",
      "WARNING 000636: Skipping feature 3273 because a negative or very small distance resulted in no geometry.\n",
      "WARNING 000636: Skipping feature 3274 because a negative or very small distance resulted in no geometry.\n",
      "WARNING 000636: Skipping feature 3776 because a negative or very small distance resulted in no geometry.\n",
      "WARNING 000636: Skipping feature 3791 because a negative or very small distance resulted in no geometry.\n",
      "WARNING 000636: Skipping feature 3815 because a negative or very small distance resulted in no geometry.\n",
      "WARNING 000636: Skipping feature 3839 because a negative or very small distance resulted in no geometry.\n",
      "WARNING 000636: Skipping feature 3953 because a negative or very small distance resulted in no geometry.\n",
      "WARNING 000636: Skipping feature 3962 because a negative or very small distance resulted in no geometry.\n",
      "WARNING 000636: Skipping feature 3968 because a negative or very small distance resulted in no geometry.\n",
      "WARNING 000636: Skipping feature 3983 because a negative or very small distance resulted in no geometry.\n",
      "WARNING 000636: Skipping feature 3991 because a negative or very small distance resulted in no geometry.\n",
      "WARNING 000636: Skipping feature 4009 because a negative or very small distance resulted in no geometry.\n",
      "WARNING 000636: Skipping feature 4016 because a negative or very small distance resulted in no geometry.\n",
      "WARNING 000636: Skipping feature 4037 because a negative or very small distance resulted in no geometry.\n",
      "WARNING 000636: Skipping feature 4041 because a negative or very small distance resulted in no geometry.\n",
      "WARNING 000636: Skipping feature 4045 because a negative or very small distance resulted in no geometry.\n",
      "WARNING 000636: Skipping feature 4059 because a negative or very small distance resulted in no geometry.\n",
      "WARNING 000636: Skipping feature 4060 because a negative or very small distance resulted in no geometry.\n",
      "WARNING 000636: Skipping feature 4210 because a negative or very small distance resulted in no geometry.\n",
      "WARNING 000636: Skipping feature 4211 because a negative or very small distance resulted in no geometry.\n",
      "WARNING 000636: Skipping feature 4212 because a negative or very small distance resulted in no geometry.\n",
      "WARNING 000636: Skipping feature 4224 because a negative or very small distance resulted in no geometry.\n",
      "WARNING 000636: Skipping feature 4226 because a negative or very small distance resulted in no geometry.\n",
      "WARNING 000636: Skipping feature 4227 because a negative or very small distance resulted in no geometry.\n",
      "WARNING 000636: Skipping feature 4229 because a negative or very small distance resulted in no geometry.\n",
      "WARNING 000636: Skipping feature 4302 because a negative or very small distance resulted in no geometry.\n",
      "WARNING 000636: Skipping feature 4303 because a negative or very small distance resulted in no geometry.\n",
      "WARNING 000636: Skipping feature 4346 because a negative or very small distance resulted in no geometry.\n",
      "WARNING 000636: Skipping feature 4353 because a negative or very small distance resulted in no geometry.\n",
      "WARNING 000636: Skipping feature 4354 because a negative or very small distance resulted in no geometry.\n",
      "WARNING 000636: Skipping feature 4356 because a negative or very small distance resulted in no geometry.\n",
      "WARNING 000636: Skipping feature 4407 because a negative or very small distance resulted in no geometry.\n",
      "WARNING 000636: Skipping feature 4414 because a negative or very small distance resulted in no geometry.\n",
      "WARNING 000636: Skipping feature 4415 because a negative or very small distance resulted in no geometry.\n",
      "WARNING 000636: Skipping feature 4417 because a negative or very small distance resulted in no geometry.\n",
      "WARNING 000636: Skipping feature 4591 because a negative or very small distance resulted in no geometry.\n",
      "WARNING 000636: Skipping feature 4606 because a negative or very small distance resulted in no geometry.\n",
      "WARNING 000636: Skipping feature 4609 because a negative or very small distance resulted in no geometry.\n",
      "WARNING 000636: Skipping feature 4610 because a negative or very small distance resulted in no geometry.\n",
      "WARNING 000636: Skipping feature 4621 because a negative or very small distance resulted in no geometry.\n",
      "WARNING 000636: Skipping feature 4739 because a negative or very small distance resulted in no geometry.\n",
      "WARNING 000636: Skipping feature 4754 because a negative or very small distance resulted in no geometry.\n",
      "WARNING 000636: Skipping feature 4757 because a negative or very small distance resulted in no geometry.\n",
      "WARNING 000636: Skipping feature 4758 because a negative or very small distance resulted in no geometry.\n",
      "WARNING 000636: Skipping feature 4769 because a negative or very small distance resulted in no geometry.\n",
      "WARNING 000636: Skipping feature 4829 because a negative or very small distance resulted in no geometry.\n",
      "WARNING 000636: Skipping feature 4845 because a negative or very small distance resulted in no geometry.\n",
      "WARNING 000636: Skipping feature 4846 because a negative or very small distance resulted in no geometry.\n",
      "WARNING 000636: Skipping feature 4847 because a negative or very small distance resulted in no geometry.\n",
      "WARNING 000636: Skipping feature 4848 because a negative or very small distance resulted in no geometry.\n",
      "WARNING 000636: Skipping feature 4849 because a negative or very small distance resulted in no geometry.\n",
      "WARNING 000636: Skipping feature 4904 because a negative or very small distance resulted in no geometry.\n",
      "WARNING 000636: Skipping feature 4905 because a negative or very small distance resulted in no geometry.\n",
      "WARNING 000636: Skipping feature 4906 because a negative or very small distance resulted in no geometry.\n",
      "WARNING 000636: Skipping feature 4907 because a negative or very small distance resulted in no geometry.\n",
      "WARNING 000636: Skipping feature 4908 because a negative or very small distance resulted in no geometry.\n",
      "WARNING 000636: Skipping feature 4999 because a negative or very small distance resulted in no geometry.\n",
      "WARNING 000636: Skipping feature 5000 because a negative or very small distance resulted in no geometry.\n",
      "WARNING 000636: Skipping feature 5001 because a negative or very small distance resulted in no geometry.\n",
      "WARNING 000636: Skipping feature 5002 because a negative or very small distance resulted in no geometry.\n",
      "WARNING 000636: Skipping feature 5003 because a negative or very small distance resulted in no geometry.\n",
      "WARNING 000636: Skipping feature 5028 because a negative or very small distance resulted in no geometry.\n",
      "WARNING 000636: Skipping feature 5048 because a negative or very small distance resulted in no geometry.\n",
      "WARNING 000636: Skipping feature 5049 because a negative or very small distance resulted in no geometry.\n",
      "WARNING 000636: Skipping feature 5050 because a negative or very small distance resulted in no geometry.\n",
      "WARNING 000636: Skipping feature 5051 because a negative or very small distance resulted in no geometry.\n",
      "WARNING 000636: Skipping feature 5052 because a negative or very small distance resulted in no geometry.\n",
      "WARNING 000636: Skipping feature 5200 because a negative or very small distance resulted in no geometry.\n",
      "WARNING 000636: Skipping feature 5292 because a negative or very small distance resulted in no geometry.\n",
      "WARNING 000636: Skipping feature 5294 because a negative or very small distance resulted in no geometry.\n",
      "WARNING 000636: Skipping feature 5306 because a negative or very small distance resulted in no geometry.\n",
      "WARNING 000636: Skipping feature 5307 because a negative or very small distance resulted in no geometry.\n",
      "WARNING 000636: Skipping feature 5324 because a negative or very small distance resulted in no geometry.\n",
      "WARNING 000636: Skipping feature 5328 because a negative or very small distance resulted in no geometry.\n",
      "WARNING 000636: Skipping feature 5336 because a negative or very small distance resulted in no geometry.\n",
      "WARNING 000636: Skipping feature 5360 because a negative or very small distance resulted in no geometry.\n",
      "WARNING 000636: Skipping feature 5361 because a negative or very small distance resulted in no geometry.\n",
      "WARNING 000636: Skipping feature 5366 because a negative or very small distance resulted in no geometry.\n",
      "WARNING 000636: Skipping feature 5383 because a negative or very small distance resulted in no geometry.\n",
      "WARNING 000636: Skipping feature 5388 because a negative or very small distance resulted in no geometry.\n",
      "WARNING 000636: Skipping feature 5389 because a negative or very small distance resulted in no geometry.\n",
      "WARNING 000636: Skipping feature 5390 because a negative or very small distance resulted in no geometry.\n",
      "WARNING 000636: Skipping feature 5391 because a negative or very small distance resulted in no geometry.\n",
      "WARNING 000636: Skipping feature 5392 because a negative or very small distance resulted in no geometry.\n",
      "WARNING 000636: Skipping feature 5414 because a negative or very small distance resulted in no geometry.\n",
      "WARNING 000636: Skipping feature 5415 because a negative or very small distance resulted in no geometry.\n",
      "WARNING 000636: Skipping feature 5416 because a negative or very small distance resulted in no geometry.\n",
      "WARNING 000636: Skipping feature 6007 because a negative or very small distance resulted in no geometry.\n",
      "WARNING 000636: Skipping feature 6031 because a negative or very small distance resulted in no geometry.\n",
      "WARNING 000636: Skipping feature 6043 because a negative or very small distance resulted in no geometry.\n",
      "WARNING 000636: Skipping feature 6076 because a negative or very small distance resulted in no geometry.\n",
      "WARNING 000636: Skipping feature 6118 because a negative or very small distance resulted in no geometry.\n",
      "WARNING 000636: Skipping feature 6123 because a negative or very small distance resulted in no geometry.\n",
      "WARNING 000636: Skipping feature 6142 because a negative or very small distance resulted in no geometry.\n",
      "WARNING 000636: Skipping feature 6148 because a negative or very small distance resulted in no geometry.\n",
      "WARNING 000636: Skipping feature 6152 because a negative or very small distance resulted in no geometry.\n",
      "WARNING 000636: Skipping feature 6160 because a negative or very small distance resulted in no geometry.\n",
      "WARNING 000636: Skipping feature 6185 because a negative or very small distance resulted in no geometry.\n",
      "WARNING 000636: Skipping feature 6204 because a negative or very small distance resulted in no geometry.\n",
      "WARNING 000636: Skipping feature 6214 because a negative or very small distance resulted in no geometry.\n",
      "WARNING 000636: Skipping feature 6215 because a negative or very small distance resulted in no geometry.\n",
      "WARNING 000636: Skipping feature 6228 because a negative or very small distance resulted in no geometry.\n",
      "WARNING 000636: Skipping feature 6232 because a negative or very small distance resulted in no geometry.\n",
      "WARNING 000636: Skipping feature 6738 because a negative or very small distance resulted in no geometry.\n",
      "WARNING 000636: Skipping feature 6745 because a negative or very small distance resulted in no geometry.\n",
      "WARNING 000636: Skipping feature 6748 because a negative or very small distance resulted in no geometry.\n",
      "WARNING 000636: Skipping feature 6807 because a negative or very small distance resulted in no geometry.\n",
      "WARNING 000636: Skipping feature 7151 because a negative or very small distance resulted in no geometry.\n",
      "WARNING 000636: Skipping feature 7152 because a negative or very small distance resulted in no geometry.\n",
      "WARNING 000636: Skipping feature 7461 because a negative or very small distance resulted in no geometry.\n",
      "WARNING 000636: Skipping feature 7808 because a negative or very small distance resulted in no geometry.\n",
      "WARNING 000636: Skipping feature 7811 because a negative or very small distance resulted in no geometry.\n",
      "WARNING 000636: Skipping feature 7812 because a negative or very small distance resulted in no geometry.\n",
      "WARNING 000636: Skipping feature 7813 because a negative or very small distance resulted in no geometry.\n",
      "WARNING 000636: Skipping feature 7838 because a negative or very small distance resulted in no geometry.\n",
      "WARNING 000636: Skipping feature 7839 because a negative or very small distance resulted in no geometry.\n",
      "WARNING 000636: Skipping feature 7840 because a negative or very small distance resulted in no geometry.\n",
      "WARNING 000636: Skipping feature 7841 because a negative or very small distance resulted in no geometry.\n",
      "WARNING 000636: Skipping feature 7956 because a negative or very small distance resulted in no geometry.\n",
      "WARNING 000636: Skipping feature 7957 because a negative or very small distance resulted in no geometry.\n",
      "WARNING 000636: Skipping feature 7964 because a negative or very small distance resulted in no geometry.\n",
      "WARNING 000636: Skipping feature 7965 because a negative or very small distance resulted in no geometry.\n",
      "WARNING 000636: Skipping feature 7966 because a negative or very small distance resulted in no geometry.\n",
      "WARNING 000636: Skipping feature 7990 because a negative or very small distance resulted in no geometry.\n",
      "WARNING 000636: Skipping feature 7994 because a negative or very small distance resulted in no geometry.\n",
      "WARNING 000636: Skipping feature 7995 because a negative or very small distance resulted in no geometry.\n",
      "WARNING 000636: Skipping feature 7997 because a negative or very small distance resulted in no geometry.\n",
      "WARNING 000636: Skipping feature 9348 because a negative or very small distance resulted in no geometry.\n",
      "WARNING 000636: Skipping feature 9580 because a negative or very small distance resulted in no geometry.\n",
      "WARNING 000636: Skipping feature 10895 because a negative or very small distance resulted in no geometry.\n",
      "WARNING 000636: Skipping feature 10897 because a negative or very small distance resulted in no geometry.\n",
      "WARNING 000636: Skipping feature 10913 because a negative or very small distance resulted in no geometry.\n",
      "WARNING 000636: Skipping feature 10914 because a negative or very small distance resulted in no geometry.\n",
      "WARNING 000636: Skipping feature 10918 because a negative or very small distance resulted in no geometry.\n",
      "WARNING 000636: Skipping feature 10926 because a negative or very small distance resulted in no geometry.\n",
      "WARNING 000636: Skipping feature 10944 because a negative or very small distance resulted in no geometry.\n",
      "WARNING 000636: Skipping feature 10950 because a negative or very small distance resulted in no geometry.\n",
      "WARNING 000636: Skipping feature 10951 because a negative or very small distance resulted in no geometry.\n",
      "WARNING 000636: Skipping feature 10971 because a negative or very small distance resulted in no geometry.\n",
      "WARNING 000636: Skipping feature 10975 because a negative or very small distance resulted in no geometry.\n",
      "WARNING 000636: Skipping feature 11000 because a negative or very small distance resulted in no geometry.\n",
      "WARNING 000636: Skipping feature 11001 because a negative or very small distance resulted in no geometry.\n",
      "WARNING 000636: Skipping feature 11002 because a negative or very small distance resulted in no geometry.\n",
      "WARNING 000636: Skipping feature 11003 because a negative or very small distance resulted in no geometry.\n",
      "WARNING 000636: Skipping feature 11004 because a negative or very small distance resulted in no geometry.\n",
      "WARNING 000636: Skipping feature 11018 because a negative or very small distance resulted in no geometry.\n",
      "WARNING 000636: Skipping feature 11019 because a negative or very small distance resulted in no geometry.\n",
      "WARNING 000636: Skipping feature 11020 because a negative or very small distance resulted in no geometry.\n",
      "WARNING 000636: Skipping feature 11122 because a negative or very small distance resulted in no geometry.\n",
      "WARNING 000636: Skipping feature 11127 because a negative or very small distance resulted in no geometry.\n",
      "WARNING 000636: Skipping feature 11146 because a negative or very small distance resulted in no geometry.\n",
      "WARNING 000636: Skipping feature 11152 because a negative or very small distance resulted in no geometry.\n",
      "WARNING 000636: Skipping feature 11156 because a negative or very small distance resulted in no geometry.\n",
      "WARNING 000636: Skipping feature 11164 because a negative or very small distance resulted in no geometry.\n",
      "WARNING 000636: Skipping feature 11189 because a negative or very small distance resulted in no geometry.\n",
      "WARNING 000636: Skipping feature 11208 because a negative or very small distance resulted in no geometry.\n",
      "WARNING 000636: Skipping feature 11218 because a negative or very small distance resulted in no geometry.\n",
      "WARNING 000636: Skipping feature 11219 because a negative or very small distance resulted in no geometry.\n",
      "WARNING 000636: Skipping feature 11232 because a negative or very small distance resulted in no geometry.\n",
      "WARNING 000636: Skipping feature 11236 because a negative or very small distance resulted in no geometry.\n",
      "WARNING 000636: Skipping feature 11523 because a negative or very small distance resulted in no geometry.\n",
      "WARNING 000636: Skipping feature 11541 because a negative or very small distance resulted in no geometry.\n",
      "WARNING 000636: Skipping feature 11617 because a negative or very small distance resulted in no geometry.\n",
      "WARNING 000636: Skipping feature 11635 because a negative or very small distance resulted in no geometry.\n",
      "WARNING 000636: Skipping feature 11822 because a negative or very small distance resulted in no geometry.\n",
      "WARNING 000636: Skipping feature 11830 because a negative or very small distance resulted in no geometry.\n",
      "WARNING 000636: Skipping feature 13207 because a negative or very small distance resulted in no geometry.\n",
      "WARNING 000636: Skipping feature 13491 because a negative or very small distance resulted in no geometry.\n",
      "WARNING 000636: Skipping feature 13492 because a negative or very small distance resulted in no geometry.\n",
      "WARNING 000636: Skipping feature 13493 because a negative or very small distance resulted in no geometry.\n",
      "WARNING 000636: Skipping feature 13494 because a negative or very small distance resulted in no geometry.\n",
      "WARNING 000636: Skipping feature 13505 because a negative or very small distance resulted in no geometry.\n",
      "WARNING 000636: Skipping feature 14173 because a negative or very small distance resulted in no geometry.\n",
      "WARNING 000636: Skipping feature 14181 because a negative or very small distance resulted in no geometry.\n",
      "WARNING 000636: Skipping feature 14549 because a negative or very small distance resulted in no geometry.\n",
      "WARNING 000636: Skipping feature 14556 because a negative or very small distance resulted in no geometry.\n",
      "WARNING 000636: Skipping feature 14811 because a negative or very small distance resulted in no geometry.\n",
      "WARNING 000636: Skipping feature 14812 because a negative or very small distance resulted in no geometry.\n",
      "WARNING 000636: Skipping feature 16560 because a negative or very small distance resulted in no geometry.\n",
      "WARNING 000636: Skipping feature 16703 because a negative or very small distance resulted in no geometry.\n",
      "WARNING 000636: Skipping feature 16859 because a negative or very small distance resulted in no geometry.\n",
      "WARNING 000636: Skipping feature 17277 because a negative or very small distance resulted in no geometry.\n",
      "WARNING 000636: Skipping feature 17280 because a negative or very small distance resulted in no geometry.\n",
      "WARNING 000636: Skipping feature 17288 because a negative or very small distance resulted in no geometry.\n",
      "WARNING 000636: Skipping feature 17348 because a negative or very small distance resulted in no geometry.\n",
      "Succeeded at Monday, May 5, 2025 8:11:20 AM (Elapsed Time: 8.78 seconds)\n"
     ]
    }
   ],
   "source": [
    "# Define the major roads split buffer layer alias and modify the feature class alias\n",
    "roadsMajorSplitBufferAlias = \"OCSWITRS Major Roads Split Buffer\"\n",
    "arcpy.AlterAliasName(roadsMajorSplitBuffer, roadsMajorSplitBufferAlias)\n",
    "print(arcpy.GetMessages())"
   ]
  },
  {
   "cell_type": "markdown",
   "metadata": {},
   "source": [
    "Obtain the fields for the road segment buffers feature class"
   ]
  },
  {
   "cell_type": "code",
   "execution_count": 69,
   "metadata": {},
   "outputs": [
    {
     "name": "stdout",
     "output_type": "stream",
     "text": [
      "OBJECTID (OBJECTID)\n",
      "Shape (Shape)\n",
      "placeName (Road City)\n",
      "roadName (Road Name)\n",
      "roadId (Road ID)\n",
      "roadCat (Road Category)\n",
      "roadLength (Road Length (in miles))\n",
      "roadsPrimary (Number of Primary Road Segments)\n",
      "roadsSecondary (Number of Secondary Road Segments)\n",
      "roadsLocal (Number of Local Road Segments)\n",
      "roadLengthMean (Mean Road Length)\n",
      "roadLengthSum (Total Road Length)\n",
      "ORIG_FID (ORIG_FID)\n",
      "ORIG_SEQ (ORIG_SEQ)\n",
      "BUFF_DIST (BUFF_DIST)\n",
      "Shape_Length (Shape_Length)\n",
      "Shape_Area (Shape_Area)\n"
     ]
    }
   ],
   "source": [
    "roadsMajorSplitBufferFields = [f.name for f in arcpy.ListFields(roadsMajorSplitBuffer)] # roadsMajorSplitBuffer field list\n",
    "\n",
    "# Field Aliases for the major roads split buffer feature class\n",
    "for f in arcpy.ListFields(roadsMajorSplitBuffer):\n",
    "    print(f\"{f.name} ({f.aliasName})\")"
   ]
  },
  {
   "cell_type": "markdown",
   "metadata": {},
   "source": [
    "<h3 style=\"font-weight:bold; color:lime; padding-left: 50px\">Summarize road segments buffers</h3>"
   ]
  },
  {
   "cell_type": "markdown",
   "metadata": {},
   "source": [
    "Summarize the crash collision data for each of the road segments"
   ]
  },
  {
   "cell_type": "code",
   "execution_count": 70,
   "metadata": {},
   "outputs": [
    {
     "data": {
      "text/html": [
       "<div class='gpresult'><h2 class='msg-title'>Messages</h2><div id='messages'>Start Time: Monday, May 5, 2025 8:11:31 AM<br>Succeeded at Monday, May 5, 2025 8:12:08 AM (Elapsed Time: 36.90 seconds)<br></div><div id = 'default' /></div></div>"
      ],
      "text/plain": [
       "<Result 'c:\\\\Users\\\\ktale\\\\OneDrive\\\\Documents\\\\GitHub\\\\OCSWITRS\\\\AGPSWITRS\\\\AGPSWITRS.gdb\\\\AnalysisData\\\\roadsMajorSplitBufferSum'>"
      ]
     },
     "execution_count": 70,
     "metadata": {},
     "output_type": "execute_result"
    }
   ],
   "source": [
    "# Create a path for the new summarized major road buffers feature class\n",
    "roadsMajorSplitBufferSum = os.path.join(gdbAnalysisData, \"roadsMajorSplitBufferSum\")\n",
    "\n",
    "# Summarize the data within the major road buffers from the crashes data\n",
    "arcpy.analysis.SummarizeWithin(\n",
    "    in_polygons = roadsMajorSplitBuffer,\n",
    "    in_sum_features = crashes,\n",
    "    out_feature_class = roadsMajorSplitBufferSum,\n",
    "    keep_all_polygons = \"KEEP_ALL\",\n",
    "    sum_fields=[\n",
    "        [\"crashTag\", \"Sum\"], [\"partyCount\", \"Sum\"], [\"victimCount\", \"Sum\"], [\"numberKilled\", \"Sum\"], \n",
    "        [\"numberInj\", \"Sum\"], [\"countSevereInj\", \"Sum\"], [\"countVisibleInj\", \"Sum\"],\n",
    "        [\"countComplaintPain\", \"Sum\"], [\"countCarKilled\", \"Sum\"], [\"countCarInj\", \"Sum\"],\n",
    "        [\"countPedKilled\", \"Sum\"], [\"countPedInj\", \"Sum\"], [\"countBicKilled\", \"Sum\"],\n",
    "        [\"countBicInj\", \"Sum\"], [\"countMcKilled\", \"Sum\"], [\"countMcInj\", \"Sum\"],\n",
    "        [\"collSeverityNum\", \"Mean\"], [\"collSeverityRankNum\", \"Mean\"]\n",
    "    ]\n",
    ")"
   ]
  },
  {
   "cell_type": "markdown",
   "metadata": {},
   "source": [
    "Add feature class alias for the summarized road segments buffers feature class"
   ]
  },
  {
   "cell_type": "code",
   "execution_count": 71,
   "metadata": {},
   "outputs": [
    {
     "name": "stdout",
     "output_type": "stream",
     "text": [
      "Start Time: Monday, May 5, 2025 8:11:31 AM\n",
      "Succeeded at Monday, May 5, 2025 8:12:08 AM (Elapsed Time: 36.90 seconds)\n"
     ]
    }
   ],
   "source": [
    "# Define the major roads split buffer summary layer alias and modify the feature class alias\n",
    "roadsMajorSplitBufferSumAlias = \"OCSWITRS Major Roads Split Buffer Summary\"\n",
    "arcpy.AlterAliasName(roadsMajorSplitBufferSum, roadsMajorSplitBufferSumAlias)\n",
    "print(arcpy.GetMessages())"
   ]
  },
  {
   "cell_type": "markdown",
   "metadata": {},
   "source": [
    "Obtain the fields for the summarized road segments buffers feature class"
   ]
  },
  {
   "cell_type": "code",
   "execution_count": 72,
   "metadata": {},
   "outputs": [
    {
     "name": "stdout",
     "output_type": "stream",
     "text": [
      "OBJECTID (OBJECTID)\n",
      "Shape (Shape)\n",
      "placeName (Road City)\n",
      "roadName (Road Name)\n",
      "roadId (Road ID)\n",
      "roadCat (Road Category)\n",
      "roadLength (Road Length (in miles))\n",
      "roadsPrimary (Number of Primary Road Segments)\n",
      "roadsSecondary (Number of Secondary Road Segments)\n",
      "roadsLocal (Number of Local Road Segments)\n",
      "roadLengthMean (Mean Road Length)\n",
      "roadLengthSum (Total Road Length)\n",
      "ORIG_FID (ORIG_FID)\n",
      "ORIG_SEQ (ORIG_SEQ)\n",
      "BUFF_DIST (BUFF_DIST)\n",
      "Shape_Length (Shape_Length)\n",
      "Shape_Area (Shape_Area)\n",
      "sum_crashTag (Sum Crash Tag)\n",
      "sum_partyCount (Sum Party Count)\n",
      "sum_victimCount (Sum Victim Count)\n",
      "sum_numberKilled (Sum Killed Victims)\n",
      "sum_numberInj (Sum Injured Victims)\n",
      "sum_countSevereInj (Sum Severe Injury Count)\n",
      "sum_countVisibleInj (Sum Visible Injury Count)\n",
      "sum_countComplaintPain (Sum Complaint of Pain Injury Count)\n",
      "sum_countCarKilled (Sum Number of Killed Car Victims)\n",
      "sum_countCarInj (Sum Number of Injured Car Victims)\n",
      "sum_countPedKilled (Sum Pedestrian Killed Count)\n",
      "sum_countPedInj (Sum Pedestrian Injury Count)\n",
      "sum_countBicKilled (Sum Bicyclist Killed Count)\n",
      "sum_countBicInj (Sum Bicyclist Injury Count)\n",
      "sum_countMcKilled (Sum Motorcyclist Killed Count)\n",
      "sum_countMcInj (Sum Motorcyclist Injury Count)\n",
      "mean_collSeverityNum (Mean Collision Severity Numeric)\n",
      "mean_collSeverityRankNum (Mean Collision Severity Rank Numeric)\n",
      "Point_Count (Count of Points)\n"
     ]
    }
   ],
   "source": [
    "roadsMajorSplitBufferSumFields = [f.name for f in arcpy.ListFields(roadsMajorSplitBufferSum)] # roadsMajorSplitBufferSum field list\n",
    "\n",
    "# Field Aliases for the major roads split buffer summary feature class\n",
    "for f in arcpy.ListFields(roadsMajorSplitBufferSum):\n",
    "    print(f\"{f.name} ({f.aliasName})\")"
   ]
  },
  {
   "cell_type": "markdown",
   "metadata": {},
   "source": [
    "<h3 style=\"font-weight:bold; color:lime; padding-left: 50px\">Summarize Census Blocks</h3>"
   ]
  },
  {
   "cell_type": "markdown",
   "metadata": {},
   "source": [
    "Create a summary for each of the Census blocks that contains statistics and counts of crash collision data"
   ]
  },
  {
   "cell_type": "code",
   "execution_count": 73,
   "metadata": {},
   "outputs": [
    {
     "data": {
      "text/html": [
       "<div class='gpresult'><h2 class='msg-title'>Messages</h2><div id='messages'>Start Time: Monday, May 5, 2025 8:12:41 AM<br>Succeeded at Monday, May 5, 2025 8:13:27 AM (Elapsed Time: 45.49 seconds)<br></div><div id = 'default' /></div></div>"
      ],
      "text/plain": [
       "<Result 'c:\\\\Users\\\\ktale\\\\OneDrive\\\\Documents\\\\GitHub\\\\OCSWITRS\\\\AGPSWITRS\\\\AGPSWITRS.gdb\\\\AnalysisData\\\\censusBlocksSum'>"
      ]
     },
     "execution_count": 73,
     "metadata": {},
     "output_type": "execute_result"
    }
   ],
   "source": [
    "# Create a path for the new summarized US 2020 Census Blocks feature class\n",
    "censusBlocksSum = os.path.join(gdbAnalysisData, \"censusBlocksSum\")\n",
    "\n",
    "arcpy.analysis.SummarizeWithin(\n",
    "    in_polygons = censusBlocks,\n",
    "    in_sum_features = crashes,\n",
    "    out_feature_class = censusBlocksSum,\n",
    "    keep_all_polygons = \"KEEP_ALL\",\n",
    "    sum_fields = [\n",
    "        [\"crashTag\", \"Sum\"], [\"partyCount\", \"Sum\"], [\"victimCount\", \"Sum\"], [\"numberKilled\", \"Sum\"], \n",
    "        [\"numberInj\", \"Sum\"], [\"countSevereInj\", \"Sum\"], [\"countVisibleInj\", \"Sum\"],\n",
    "        [\"countComplaintPain\", \"Sum\"], [\"countCarKilled\", \"Sum\"], [\"countCarInj\", \"Sum\"],\n",
    "        [\"countPedKilled\", \"Sum\"], [\"countPedInj\", \"Sum\"], [\"countBicKilled\", \"Sum\"],\n",
    "        [\"countBicInj\", \"Sum\"], [\"countMcKilled\", \"Sum\"], [\"countMcInj\", \"Sum\"],\n",
    "        [\"collSeverityNum\", \"Mean\"], [\"collSeverityRankNum\", \"Mean\"]\n",
    "    ]\n",
    ")"
   ]
  },
  {
   "cell_type": "markdown",
   "metadata": {},
   "source": [
    "Add feature class alias for the summarized Census blocks feature class"
   ]
  },
  {
   "cell_type": "code",
   "execution_count": 74,
   "metadata": {},
   "outputs": [
    {
     "name": "stdout",
     "output_type": "stream",
     "text": [
      "Start Time: Monday, May 5, 2025 8:12:41 AM\n",
      "Succeeded at Monday, May 5, 2025 8:13:27 AM (Elapsed Time: 45.49 seconds)\n"
     ]
    }
   ],
   "source": [
    "# Define the US 2020 Census Blocks summary layer alias and modify the feature class alias\n",
    "censusBlocksSumAlias = \"OCSWITRS Census Blocks Summary\"\n",
    "arcpy.AlterAliasName(censusBlocksSum, censusBlocksSumAlias)\n",
    "print(arcpy.GetMessages())"
   ]
  },
  {
   "cell_type": "markdown",
   "metadata": {},
   "source": [
    "Obtain the fields for the summarized Census blocks feature class"
   ]
  },
  {
   "cell_type": "code",
   "execution_count": 75,
   "metadata": {},
   "outputs": [
    {
     "name": "stdout",
     "output_type": "stream",
     "text": [
      "OBJECTID (Object ID)\n",
      "Shape (Shape)\n",
      "geoID (Geographic Identifier)\n",
      "blockName (Census Block Name)\n",
      "populationTotal (Total Population)\n",
      "housingUnitsTotal (Total Housing Units)\n",
      "householdsTotal (Total Households)\n",
      "housingUnitsVacant (Vacant Housing Units)\n",
      "housingUnitsMortgage (Housing Units with Mortgage)\n",
      "howsingUnitsOwned (Owned housing units free and clear)\n",
      "housingUnitsRenterOccupied (Renter Occupied Housing Units)\n",
      "housingUnitsOwnerOccupied (Owner Occupied Housing Units)\n",
      "homeownershipRate (Homeownership Rate)\n",
      "vacancyRate (Vacancy Rate)\n",
      "populationDensity (Population Density)\n",
      "housingDensity (Housing Density)\n",
      "latitudeIntpoint (Current latitude of the internal point)\n",
      "longitudeIntpoint (Current longitude of the internal point)\n",
      "areaLand (Land Area)\n",
      "areaWater (Water Area)\n",
      "Shape_Length (Shape_Length)\n",
      "Shape_Area (Shape_Area)\n",
      "sum_crashTag (Sum Crash Tag)\n",
      "sum_partyCount (Sum Party Count)\n",
      "sum_victimCount (Sum Victim Count)\n",
      "sum_numberKilled (Sum Killed Victims)\n",
      "sum_numberInj (Sum Injured Victims)\n",
      "sum_countSevereInj (Sum Severe Injury Count)\n",
      "sum_countVisibleInj (Sum Visible Injury Count)\n",
      "sum_countComplaintPain (Sum Complaint of Pain Injury Count)\n",
      "sum_countCarKilled (Sum Number of Killed Car Victims)\n",
      "sum_countCarInj (Sum Number of Injured Car Victims)\n",
      "sum_countPedKilled (Sum Pedestrian Killed Count)\n",
      "sum_countPedInj (Sum Pedestrian Injury Count)\n",
      "sum_countBicKilled (Sum Bicyclist Killed Count)\n",
      "sum_countBicInj (Sum Bicyclist Injury Count)\n",
      "sum_countMcKilled (Sum Motorcyclist Killed Count)\n",
      "sum_countMcInj (Sum Motorcyclist Injury Count)\n",
      "mean_collSeverityNum (Mean Collision Severity Numeric)\n",
      "mean_collSeverityRankNum (Mean Collision Severity Rank Numeric)\n",
      "Point_Count (Count of Points)\n"
     ]
    }
   ],
   "source": [
    "cenBlocksSumFields = [f.name for f in arcpy.ListFields(censusBlocksSum)] # cenBlocksSum field list\n",
    "\n",
    "# Field Aliases for the US 2020 Census Blocks summary feature class\n",
    "for f in arcpy.ListFields(censusBlocksSum):\n",
    "    print(f\"{f.name} ({f.aliasName})\")"
   ]
  },
  {
   "cell_type": "markdown",
   "metadata": {},
   "source": [
    "<h3 style=\"font-weight:bold; color:lime; padding-left: 50px\">Summarize Cities</h3>"
   ]
  },
  {
   "cell_type": "markdown",
   "metadata": {},
   "source": [
    "Create a summary for each of the cities that contains statistics and counts of crash collision data"
   ]
  },
  {
   "cell_type": "code",
   "execution_count": 76,
   "metadata": {},
   "outputs": [
    {
     "data": {
      "text/html": [
       "<div class='gpresult'><h2 class='msg-title'>Messages</h2><div id='messages'>Start Time: Monday, May 5, 2025 8:13:41 AM<br>Succeeded at Monday, May 5, 2025 8:14:12 AM (Elapsed Time: 31.52 seconds)<br></div><div id = 'default' /></div></div>"
      ],
      "text/plain": [
       "<Result 'c:\\\\Users\\\\ktale\\\\OneDrive\\\\Documents\\\\GitHub\\\\OCSWITRS\\\\AGPSWITRS\\\\AGPSWITRS.gdb\\\\AnalysisData\\\\citiesSum'>"
      ]
     },
     "execution_count": 76,
     "metadata": {},
     "output_type": "execute_result"
    }
   ],
   "source": [
    "# Create a path for the new summarized US 2020 Census Blocks feature class\n",
    "citiesSum = os.path.join(gdbAnalysisData, \"citiesSum\")\n",
    "\n",
    "# Summarize the data within the cities from the crashes data\n",
    "arcpy.analysis.SummarizeWithin(\n",
    "    in_polygons = cities,\n",
    "    in_sum_features = crashes,\n",
    "    out_feature_class = citiesSum,\n",
    "    keep_all_polygons = \"KEEP_ALL\",\n",
    "    sum_fields=[\n",
    "        [\"crashTag\", \"Sum\"], [\"partyCount\", \"Sum\"], [\"victimCount\", \"Sum\"], [\"numberKilled\", \"Sum\"], \n",
    "        [\"numberInj\", \"Sum\"], [\"countSevereInj\", \"Sum\"], [\"countVisibleInj\", \"Sum\"],\n",
    "        [\"countComplaintPain\", \"Sum\"], [\"countCarKilled\", \"Sum\"], [\"countCarInj\", \"Sum\"],\n",
    "        [\"countPedKilled\", \"Sum\"], [\"countPedInj\", \"Sum\"], [\"countBicKilled\", \"Sum\"],\n",
    "        [\"countBicInj\", \"Sum\"], [\"countMcKilled\", \"Sum\"], [\"countMcInj\", \"Sum\"],\n",
    "        [\"collSeverityNum\", \"Mean\"], [\"collSeverityRankNum\", \"Mean\"]\n",
    "    ]\n",
    ")"
   ]
  },
  {
   "cell_type": "markdown",
   "metadata": {},
   "source": [
    "Add feature class alias for the summarized cities feature class"
   ]
  },
  {
   "cell_type": "code",
   "execution_count": 77,
   "metadata": {},
   "outputs": [
    {
     "name": "stdout",
     "output_type": "stream",
     "text": [
      "Start Time: Monday, May 5, 2025 8:13:41 AM\n",
      "Succeeded at Monday, May 5, 2025 8:14:12 AM (Elapsed Time: 31.52 seconds)\n"
     ]
    }
   ],
   "source": [
    "# Define the cities summary layer alias and modify the feature class alias\n",
    "citiesSumAlias = \"OCSWITRS Cities Summary\"\n",
    "arcpy.AlterAliasName(citiesSum, citiesSumAlias)\n",
    "print(arcpy.GetMessages())"
   ]
  },
  {
   "cell_type": "markdown",
   "metadata": {},
   "source": [
    "Obtain the fields for the summarized cities feature class"
   ]
  },
  {
   "cell_type": "code",
   "execution_count": 78,
   "metadata": {},
   "outputs": [
    {
     "name": "stdout",
     "output_type": "stream",
     "text": [
      "OBJECTID (OBJECTID)\n",
      "Shape (Shape)\n",
      "city (City)\n",
      "placeType (Place Type)\n",
      "cityAreaSqmi (City Area)\n",
      "cityPopTotal (City Total Population)\n",
      "cityHouTotal (City Total Housing Units)\n",
      "cityPopDens (City Population Density)\n",
      "cityHouDens (City Housing Density)\n",
      "cityPopAsian (City Asian Population)\n",
      "cityPopBlack (City Black Population)\n",
      "cityPopHispanic (City Hispanic Population)\n",
      "cityPopWhite (City White Population)\n",
      "cityVehicles (Number of Commuting Vehicles)\n",
      "cityTravelTime (Aggregate Travel Time to Work)\n",
      "cityMeanTravelTime (Mean Travel Time to work Per Vehicle)\n",
      "Shape_Length (Shape_Length)\n",
      "Shape_Area (Shape_Area)\n",
      "sum_crashTag (Sum Crash Tag)\n",
      "sum_partyCount (Sum Party Count)\n",
      "sum_victimCount (Sum Victim Count)\n",
      "sum_numberKilled (Sum Killed Victims)\n",
      "sum_numberInj (Sum Injured Victims)\n",
      "sum_countSevereInj (Sum Severe Injury Count)\n",
      "sum_countVisibleInj (Sum Visible Injury Count)\n",
      "sum_countComplaintPain (Sum Complaint of Pain Injury Count)\n",
      "sum_countCarKilled (Sum Number of Killed Car Victims)\n",
      "sum_countCarInj (Sum Number of Injured Car Victims)\n",
      "sum_countPedKilled (Sum Pedestrian Killed Count)\n",
      "sum_countPedInj (Sum Pedestrian Injury Count)\n",
      "sum_countBicKilled (Sum Bicyclist Killed Count)\n",
      "sum_countBicInj (Sum Bicyclist Injury Count)\n",
      "sum_countMcKilled (Sum Motorcyclist Killed Count)\n",
      "sum_countMcInj (Sum Motorcyclist Injury Count)\n",
      "mean_collSeverityNum (Mean Collision Severity Numeric)\n",
      "mean_collSeverityRankNum (Mean Collision Severity Rank Numeric)\n",
      "Point_Count (Count of Points)\n"
     ]
    }
   ],
   "source": [
    "citiesSumFields = [f.name for f in arcpy.ListFields(citiesSum)] # citiesSum field list\n",
    "\n",
    "# Field Aliases for the cities summary feature class\n",
    "for f in arcpy.ListFields(citiesSum):\n",
    "    print(f\"{f.name} ({f.aliasName})\")"
   ]
  },
  {
   "cell_type": "markdown",
   "metadata": {},
   "source": [
    "<h3 style=\"font-weight:bold; color:lime; padding-left: 50px\">Crashes within 500ft from Major Roads</h3>"
   ]
  },
  {
   "cell_type": "markdown",
   "metadata": {},
   "source": [
    "Select all crashes that are within 500 ft of the major roads"
   ]
  },
  {
   "cell_type": "code",
   "execution_count": 79,
   "metadata": {},
   "outputs": [
    {
     "name": "stdout",
     "output_type": "stream",
     "text": [
      "Start Time: Monday, May 5, 2025 8:15:10 AM\n",
      "Succeeded at Monday, May 5, 2025 8:15:21 AM (Elapsed Time: 10.19 seconds)\n"
     ]
    },
    {
     "data": {
      "text/html": [
       "<div class='gpresult'><h2 class='msg-title'>Messages</h2><div id='messages'>Start Time: Monday, May 5, 2025 8:15:21 AM<br>Succeeded at Monday, May 5, 2025 8:15:21 AM (Elapsed Time: 0.04 seconds)<br></div><div id = 'default' /></div></div>"
      ],
      "text/plain": [
       "<Result 'true'>"
      ]
     },
     "execution_count": 79,
     "metadata": {},
     "output_type": "execute_result"
    }
   ],
   "source": [
    "# Create a path for the new feature class\n",
    "crashes500ftFromMajorRoads = os.path.join(gdbAnalysisData, \"crashes500ftFromMajorRoads\")\n",
    "\n",
    "# Select the crashes within 500 feet of the major roads and store it in a temporary layer\n",
    "tempLyr = arcpy.management.SelectLayerByLocation(\n",
    "    in_layer = crashes,\n",
    "    select_features = roadsMajor,\n",
    "    search_distance = \"500 Feet\",\n",
    "    selection_type = \"NEW_SELECTION\",\n",
    "    invert_spatial_relationship = \"NOT_INVERT\"\n",
    ")\n",
    "\n",
    "# Export the selected crashes to a new feature class\n",
    "arcpy.conversion.ExportFeatures(\n",
    "    in_features = tempLyr,\n",
    "    out_features = crashes500ftFromMajorRoads,\n",
    "    where_clause = \"\",\n",
    "    use_field_alias_as_name = \"NOT_USE_ALIAS\",\n",
    ")\n",
    "print(arcpy.GetMessages())\n",
    "\n",
    "# Delete the temporary layer\n",
    "arcpy.management.Delete(tempLyr)"
   ]
  },
  {
   "cell_type": "markdown",
   "metadata": {},
   "source": [
    "Add feature class alias for the crashes within 500 ft from major roads feature class"
   ]
  },
  {
   "cell_type": "code",
   "execution_count": 80,
   "metadata": {},
   "outputs": [
    {
     "name": "stdout",
     "output_type": "stream",
     "text": [
      "Start Time: Monday, May 5, 2025 8:15:21 AM\n",
      "Succeeded at Monday, May 5, 2025 8:15:21 AM (Elapsed Time: 0.04 seconds)\n"
     ]
    }
   ],
   "source": [
    "# Define the crashes 500 feet from major roads layer alias and modify the feature class alias\n",
    "crashes500ftFromMajorRoadsAlias = \"OCSWITRS Crashes 500 Feet from Major Roads\"\n",
    "arcpy.AlterAliasName(crashes500ftFromMajorRoads, crashes500ftFromMajorRoadsAlias)\n",
    "print(arcpy.GetMessages())"
   ]
  },
  {
   "cell_type": "markdown",
   "metadata": {},
   "source": [
    "Obtain the fields for the crashes within 500 ft from major roads feature class"
   ]
  },
  {
   "cell_type": "code",
   "execution_count": 81,
   "metadata": {},
   "outputs": [
    {
     "name": "stdout",
     "output_type": "stream",
     "text": [
      "OBJECTID (OBJECTID)\n",
      "Shape (Shape)\n",
      "caseId (Case ID)\n",
      "cid (Crash ID)\n",
      "crashTag (Crash Tag)\n",
      "crashesCaseTag (Crashes Tag)\n",
      "crashesCidCount (Total Collisions in Crashes Dataset)\n",
      "city (City)\n",
      "dateDatetime (Crash Date and Time)\n",
      "dateYear (Crash Year)\n",
      "dateQuarter (Crash Quarter)\n",
      "dateMonth (Crash Month)\n",
      "dateWeek (Crash Week)\n",
      "dateDay (Crash Day)\n",
      "dateProcess (Process Date)\n",
      "dtYear (Crash Year)\n",
      "dtQuarter (Crash Quarter)\n",
      "dtMonth (Crash Month)\n",
      "dtYearWeek (Crash Year Week)\n",
      "dtWeekDay (Crash Weekday)\n",
      "dtMonthDay (Crash Month Day)\n",
      "dtYearDay (Crash Year Day)\n",
      "dtHour (Crash Hour)\n",
      "dtMinute (Crash Minute)\n",
      "dtDst (Crash Daylight Saving Time)\n",
      "dtZone (Crash Time Zone)\n",
      "collDate (Collision Date Reported)\n",
      "collTime (Collision Time Reported)\n",
      "accidentYear (Crash Year)\n",
      "processDate (Processing Date)\n",
      "collTimeIntervals (Crash Time Intervals)\n",
      "rushHours (Rush Hours)\n",
      "rushHoursBin (Rush Hours Binary)\n",
      "collSeverity (Collision Severity)\n",
      "collSeverityNum (Collision Severity Numeric)\n",
      "collSeverityBin (Collision Severity Binary)\n",
      "collSeverityRank (Collision Severity Rank)\n",
      "collSeverityRankNum (Collision Severity Rank Numeric)\n",
      "indSevere (Severe Injury Indicator)\n",
      "indFatal (Fatal Injury Indicator)\n",
      "indMulti (Multiple Injury Indicator)\n",
      "partyCount (Party Count)\n",
      "victimCount (Victim Count)\n",
      "numberKilled (Killed Victims)\n",
      "numberInj (Injured Victims)\n",
      "countSevereInj (Severe Injury Count)\n",
      "countVisibleInj (Visible Injury Count)\n",
      "countComplaintPain (Complaint of Pain Injury Count)\n",
      "countCarKilled (Number of Killed Car Victims)\n",
      "countCarInj (Number of Injured Car Victims)\n",
      "countPedKilled (Pedestrian Killed Count)\n",
      "countPedInj (Pedestrian Injury Count)\n",
      "countBicKilled (Bicyclist Killed Count)\n",
      "countBicInj (Bicyclist Injury Count)\n",
      "countMcKilled (Motorcyclist Killed Count)\n",
      "countMcInj (Motorcyclist Injury Count)\n",
      "primaryCollFactor (Primary Collision Factor)\n",
      "typeOfColl (Type of Crash)\n",
      "pedAccident (Pedestrian Crash)\n",
      "bicAccident (Bicycle Crash)\n",
      "mcAccident (Motorcycle Crash)\n",
      "truckAccident (Truck Crash)\n",
      "hitAndRun (Hit and Run)\n",
      "hitAndRunBin (Hit and Run Binary)\n",
      "alcoholInvolved (Alcohol Involved)\n",
      "juris (Jurisdiction)\n",
      "officerId (Officer ID)\n",
      "reportingDistrict (Reporting District)\n",
      "chpShift (CHP Shift)\n",
      "cntyCityLoc (County City Location)\n",
      "specialCond (Special Condition)\n",
      "beatType (Beat Type)\n",
      "chpBeatType (CHP Beat Type)\n",
      "chpBeatClass (CHP Beat Class)\n",
      "beatNumber (Beat Number)\n",
      "primaryRd (Primary Road)\n",
      "secondaryRd (Secondary Road)\n",
      "distance (Distance)\n",
      "direction (Direction)\n",
      "intersection (Intersection)\n",
      "weather1 (Weather 1)\n",
      "weather2 (Weather 2)\n",
      "weatherComb (Combined Weather)\n",
      "roadSurface (Road Surface)\n",
      "roadCond1 (Road Condition 1)\n",
      "roadCond2 (Road Condition 2)\n",
      "lighting (Lighting)\n",
      "controlDevice (Control Device)\n",
      "stateHwyInd (State Highway Indicator)\n",
      "sideOfHwy (Side of Highway)\n",
      "towAway (Tow Away)\n",
      "pcfCodeOfViol (PCF Violation Code)\n",
      "pcfViolCategory (PCF Violation Category)\n",
      "pcfViolation (PCF Violation)\n",
      "pcfViolSubsection (PCF Violation Subsection)\n",
      "mviw (Motor Vehicle Involved With)\n",
      "pedAction (Pedestrian Action)\n",
      "notPrivateProperty (Not Private Property)\n",
      "stwdVehTypeAtFault (Statewide Vehicle Type at Fault)\n",
      "chpVehTypeAtFault (CHP Vehicle Type at Fault)\n",
      "primaryRamp (Primary Ramp)\n",
      "secondaryRamp (Secondary Ramp)\n",
      "latitude (GPS Latitude)\n",
      "longitude (GPS Longitude)\n",
      "pointX (X Coordinate Location)\n",
      "pointY (Y Coordinate Location)\n"
     ]
    }
   ],
   "source": [
    "crashes500ftFromMajorRoadsFields = [f.name for f in arcpy.ListFields(crashes500ftFromMajorRoads)] # crashes500ftFromMajorRoads field list\n",
    "\n",
    "# Field Aliases for the crashes 500 feet from major roads feature class\n",
    "for f in arcpy.ListFields(crashes500ftFromMajorRoads):\n",
    "    print(f\"{f.name} ({f.aliasName})\")"
   ]
  },
  {
   "cell_type": "markdown",
   "metadata": {},
   "source": [
    "<h3 style=\"font-weight:bold; color:lime; padding-left: 50px\">Crashes (Collision Severity) Exploratory Regression</h3>"
   ]
  },
  {
   "cell_type": "markdown",
   "metadata": {},
   "source": [
    "Generate a collision severity binary indicator to crashes dataset"
   ]
  },
  {
   "cell_type": "code",
   "execution_count": 82,
   "metadata": {},
   "outputs": [
    {
     "data": {
      "text/html": [
       "<div class='gpresult'><h2 class='msg-title'>Messages</h2><div id='messages'>Start Time: Monday, May 5, 2025 8:15:30 AM<br>Adding severityBin to crashes...<br>Succeeded at Monday, May 5, 2025 8:15:41 AM (Elapsed Time: 10.88 seconds)<br></div><div id = 'default' /></div></div>"
      ],
      "text/plain": [
       "<Result 'c:\\\\Users\\\\ktale\\\\OneDrive\\\\Documents\\\\GitHub\\\\OCSWITRS\\\\AGPSWITRS\\\\AGPSWITRS.gdb\\\\RawData\\\\crashes'>"
      ]
     },
     "execution_count": 82,
     "metadata": {},
     "output_type": "execute_result"
    }
   ],
   "source": [
    "# Add collision severity binary indicator to crashes\n",
    "arcpy.management.CalculateField(\n",
    "    in_table = crashes,\n",
    "    field = \"severityBin\",\n",
    "    expression = \"sevbin(!collSeverityBin!)\",\n",
    "    expression_type = \"PYTHON3\",\n",
    "    code_block = \"\"\"def sevbin(x):\n",
    "    if x == \"Severe or fatal\":\n",
    "        return 1\n",
    "    elif x == \"None, minor or pain\":\n",
    "        return 0\"\"\",\n",
    "    field_type = \"SHORT\",\n",
    "    enforce_domains = \"NO_ENFORCE_DOMAINS\"\n",
    ")"
   ]
  },
  {
   "cell_type": "markdown",
   "metadata": {},
   "source": [
    "Add a field alias for the collision severity binary indicator"
   ]
  },
  {
   "cell_type": "code",
   "execution_count": 83,
   "metadata": {},
   "outputs": [
    {
     "data": {
      "text/html": [
       "<div class='gpresult'><h2 class='msg-title'>Messages</h2><div id='messages'>Start Time: Monday, May 5, 2025 8:15:41 AM<br>Succeeded at Monday, May 5, 2025 8:15:42 AM (Elapsed Time: 0.22 seconds)<br></div><div id = 'default' /></div></div>"
      ],
      "text/plain": [
       "<Result 'c:\\\\Users\\\\ktale\\\\OneDrive\\\\Documents\\\\GitHub\\\\OCSWITRS\\\\AGPSWITRS\\\\AGPSWITRS.gdb\\\\RawData\\\\crashes'>"
      ]
     },
     "execution_count": 83,
     "metadata": {},
     "output_type": "execute_result"
    }
   ],
   "source": [
    "arcpy.management.AlterField(\n",
    "    in_table = crashes,\n",
    "    field = \"severityBin\",\n",
    "    new_field_alias = \"Severity Binary\"\n",
    ")"
   ]
  },
  {
   "cell_type": "markdown",
   "metadata": {},
   "source": [
    "Perform exploratory regression to predict the binary severity bin"
   ]
  },
  {
   "cell_type": "code",
   "execution_count": 84,
   "metadata": {
    "scrolled": true
   },
   "outputs": [
    {
     "data": {
      "text/html": [
       "<div class='gpresult'><h2 class='msg-title'>Messages</h2><div id='messages'>Start Time: Monday, May 5, 2025 8:15:50 AM<br>******************************************************************************<br>Choose 1 of 18 Summary<br>           Highest Adjusted R-Squared Results           \\nAdjR2       AICc   JB K(BP)  VIF   SA   Model                 \\n 0.73 -216854.05 0.00  0.00 1.00 0.00  +COUNTSEVEREINJ***     \\n 0.68 -188424.90 0.00  0.00 1.00 0.00  +COLLSEVERITYRANKNUM***\\n 0.49 -106863.81 0.00  0.00 1.00 0.00  +COLLSEVERITYNUM***    <br>       Passing Models       \\nAdjR2 AICc JB K(BP) VIF SA   Model<br>******************************************************************************<br>Choose 2 of 18 Summary<br>                     Highest Adjusted R-Squared Results                     \\nAdjR2       AICc   JB K(BP)  VIF   SA   Model                                     \\n 0.91 -398742.78 0.00  0.00 3.27 0.00  +COLLSEVERITYRANKNUM***  -NUMBERKILLED***  \\n 0.89 -369351.32 0.00  0.00 1.54 0.00  +COLLSEVERITYRANKNUM***  +COUNTSEVEREINJ***\\n 0.87 -341959.19 0.00  0.00 1.00 0.00  +NUMBERKILLED***  +COUNTSEVEREINJ***       <br>       Passing Models       \\nAdjR2 AICc JB K(BP) VIF SA   Model<br>******************************************************************************<br>Choose 3 of 18 Summary<br>                               Highest Adjusted R-Squared Results                              \\nAdjR2       AICc   JB K(BP)  VIF   SA   Model                                                        \\n 0.91 -411139.87 0.00  0.00 5.05 0.02  +COLLSEVERITYNUM***  +COLLSEVERITYRANKNUM***  -NUMBERKILLED***\\n 0.91 -406007.62 0.00  0.00 4.11 0.01  +COLLSEVERITYRANKNUM***  -NUMBERKILLED***  -COUNTCARKILLED*** \\n 0.91 -401793.95 0.00  0.00 3.75 0.00  +COLLSEVERITYRANKNUM***  -NUMBERKILLED***  +COUNTPEDKILLED*** <br>       Passing Models       \\nAdjR2 AICc JB K(BP) VIF SA   Model<br>WARNING 001304: Unable to estimate the following models due to severe multicollinearity (data redundancy).<br>WARNING 001176: Perfect Multicollinearity in: SEVERITYBIN ~ Intercept + VICTIMCOUNT + NUMBERKILLED + NUMBERINJ.<br>******************************************************************************<br>Choose 4 of 18 Summary<br>                                          Highest Adjusted R-Squared Results                                          \\nAdjR2       AICc   JB K(BP)  VIF   SA   Model                                                                               \\n 0.93 -456792.85 0.00  0.00 9.68 0.02  +COLLSEVERITYNUM***  +COLLSEVERITYRANKNUM***  -NUMBERKILLED***  -COUNTVISIBLEINJ***  \\n 0.93 -436888.86 0.00  0.00 5.78 0.00  +COLLSEVERITYNUM***  +COLLSEVERITYRANKNUM***  +COUNTSEVEREINJ***  -COUNTVISIBLEINJ***\\n 0.92 -424610.80 0.00  0.00 5.27 0.00  +COLLSEVERITYNUM***  +NUMBERKILLED***  +COUNTSEVEREINJ***  -COUNTVISIBLEINJ***       <br>       Passing Models       \\nAdjR2 AICc JB K(BP) VIF SA   Model<br>WARNING 001304: Unable to estimate the following models due to severe multicollinearity (data redundancy).<br>WARNING 001176: Perfect Multicollinearity in: SEVERITYBIN ~ Intercept + ACCIDENTYEAR + VICTIMCOUNT + NUMBERKILLED + NUMBERINJ.<br>WARNING 001176: Perfect Multicollinearity in: SEVERITYBIN ~ Intercept + COLLSEVERITYNUM + VICTIMCOUNT + NUMBERKILLED + NUMBERINJ.<br>WARNING 001176: Perfect Multicollinearity in: SEVERITYBIN ~ Intercept + COLLSEVERITYRANKNUM + VICTIMCOUNT + NUMBERKILLED + NUMBERINJ.<br>WARNING 001176: Perfect Multicollinearity in: SEVERITYBIN ~ Intercept + COLLSEVERITYRANKNUM + VICTIMCOUNT + NUMBERINJ + COUNTSEVEREINJ.<br>WARNING 001176: Perfect Multicollinearity in: SEVERITYBIN ~ Intercept + PARTYCOUNT + VICTIMCOUNT + NUMBERKILLED + NUMBERINJ.<br>WARNING 001176: Perfect Multicollinearity in: SEVERITYBIN ~ Intercept + VICTIMCOUNT + NUMBERKILLED + NUMBERINJ + COUNTSEVEREINJ.<br>WARNING 001176: Perfect Multicollinearity in: SEVERITYBIN ~ Intercept + VICTIMCOUNT + NUMBERKILLED + NUMBERINJ + COUNTVISIBLEINJ.<br>WARNING 001176: Perfect Multicollinearity in: SEVERITYBIN ~ Intercept + VICTIMCOUNT + NUMBERKILLED + NUMBERINJ + COUNTCOMPLAINTPAIN.<br>WARNING 001176: Perfect Multicollinearity in: SEVERITYBIN ~ Intercept + VICTIMCOUNT + NUMBERKILLED + NUMBERINJ + COUNTCARKILLED.<br>WARNING 001176: Perfect Multicollinearity in: SEVERITYBIN ~ Intercept + VICTIMCOUNT + NUMBERKILLED + NUMBERINJ + COUNTCARINJ.<br>WARNING 001176: Perfect Multicollinearity in: SEVERITYBIN ~ Intercept + VICTIMCOUNT + NUMBERKILLED + NUMBERINJ + COUNTPEDKILLED.<br>WARNING 001176: Perfect Multicollinearity in: SEVERITYBIN ~ Intercept + VICTIMCOUNT + NUMBERKILLED + NUMBERINJ + COUNTPEDINJ.<br>WARNING 001176: Perfect Multicollinearity in: SEVERITYBIN ~ Intercept + VICTIMCOUNT + NUMBERKILLED + NUMBERINJ + COUNTBICKILLED.<br>WARNING 001176: Perfect Multicollinearity in: SEVERITYBIN ~ Intercept + VICTIMCOUNT + NUMBERKILLED + NUMBERINJ + COUNTBICINJ.<br>WARNING 001176: Perfect Multicollinearity in: SEVERITYBIN ~ Intercept + VICTIMCOUNT + NUMBERKILLED + NUMBERINJ + COUNTMCKILLED.<br>WARNING 001176: Perfect Multicollinearity in: SEVERITYBIN ~ Intercept + VICTIMCOUNT + NUMBERKILLED + NUMBERINJ + COUNTMCINJ.<br>WARNING 001176: Perfect Multicollinearity in: SEVERITYBIN ~ Intercept + NUMBERINJ + COUNTSEVEREINJ + COUNTVISIBLEINJ + COUNTCOMPLAINTPAIN.<br>******************************************************************************<br>Choose 5 of 18 Summary<br>                                                    Highest Adjusted R-Squared Results                                                    \\nAdjR2       AICc   JB K(BP)    VIF   SA   Model                                                                                                 \\n 0.94 -459553.30 0.00  0.00   9.96 0.02  +COLLSEVERITYNUM***  +COLLSEVERITYRANKNUM***  -NUMBERKILLED***  -COUNTVISIBLEINJ***  -COUNTCARKILLED***\\n 0.94 -458202.68 0.00  0.00 189.84 0.03  +COLLSEVERITYNUM***  +COLLSEVERITYRANKNUM***  -VICTIMCOUNT***  +NUMBERINJ***  -COUNTVISIBLEINJ***      \\n 0.94 -458202.68 0.00  0.00  10.87 0.03  +COLLSEVERITYNUM***  +COLLSEVERITYRANKNUM***  -NUMBERKILLED***  +NUMBERINJ***  -COUNTVISIBLEINJ***     <br>       Passing Models       \\nAdjR2 AICc JB K(BP) VIF SA   Model<br>WARNING 001304: Unable to estimate the following models due to severe multicollinearity (data redundancy).<br>WARNING 001176: Perfect Multicollinearity in: SEVERITYBIN ~ Intercept + ACCIDENTYEAR + COLLSEVERITYNUM + VICTIMCOUNT + NUMBERKILLED + NUMBERINJ.<br>WARNING 001176: Perfect Multicollinearity in: SEVERITYBIN ~ Intercept + ACCIDENTYEAR + COLLSEVERITYRANKNUM + VICTIMCOUNT + NUMBERKILLED + NUMBERINJ.<br>WARNING 001176: Perfect Multicollinearity in: SEVERITYBIN ~ Intercept + ACCIDENTYEAR + COLLSEVERITYRANKNUM + VICTIMCOUNT + NUMBERINJ + COUNTSEVEREINJ.<br>WARNING 001176: Perfect Multicollinearity in: SEVERITYBIN ~ Intercept + ACCIDENTYEAR + PARTYCOUNT + VICTIMCOUNT + NUMBERKILLED + NUMBERINJ.<br>WARNING 001176: Perfect Multicollinearity in: SEVERITYBIN ~ Intercept + ACCIDENTYEAR + VICTIMCOUNT + NUMBERKILLED + NUMBERINJ + COUNTSEVEREINJ.<br>WARNING 001176: Perfect Multicollinearity in: SEVERITYBIN ~ Intercept + ACCIDENTYEAR + VICTIMCOUNT + NUMBERKILLED + NUMBERINJ + COUNTVISIBLEINJ.<br>WARNING 001176: Perfect Multicollinearity in: SEVERITYBIN ~ Intercept + ACCIDENTYEAR + VICTIMCOUNT + NUMBERKILLED + NUMBERINJ + COUNTCOMPLAINTPAIN.<br>WARNING 001176: Perfect Multicollinearity in: SEVERITYBIN ~ Intercept + ACCIDENTYEAR + VICTIMCOUNT + NUMBERKILLED + NUMBERINJ + COUNTCARKILLED.<br>WARNING 001176: Perfect Multicollinearity in: SEVERITYBIN ~ Intercept + ACCIDENTYEAR + VICTIMCOUNT + NUMBERKILLED + NUMBERINJ + COUNTCARINJ.<br>WARNING 001176: Perfect Multicollinearity in: SEVERITYBIN ~ Intercept + ACCIDENTYEAR + VICTIMCOUNT + NUMBERKILLED + NUMBERINJ + COUNTPEDKILLED.<br>WARNING 001176: Perfect Multicollinearity in: SEVERITYBIN ~ Intercept + ACCIDENTYEAR + VICTIMCOUNT + NUMBERKILLED + NUMBERINJ + COUNTPEDINJ.<br>WARNING 001176: Perfect Multicollinearity in: SEVERITYBIN ~ Intercept + ACCIDENTYEAR + VICTIMCOUNT + NUMBERKILLED + NUMBERINJ + COUNTBICKILLED.<br>WARNING 001176: Perfect Multicollinearity in: SEVERITYBIN ~ Intercept + ACCIDENTYEAR + VICTIMCOUNT + NUMBERKILLED + NUMBERINJ + COUNTBICINJ.<br>WARNING 001176: Perfect Multicollinearity in: SEVERITYBIN ~ Intercept + ACCIDENTYEAR + VICTIMCOUNT + NUMBERKILLED + NUMBERINJ + COUNTMCKILLED.<br>WARNING 001176: Perfect Multicollinearity in: SEVERITYBIN ~ Intercept + ACCIDENTYEAR + VICTIMCOUNT + NUMBERKILLED + NUMBERINJ + COUNTMCINJ.<br>WARNING 001176: Perfect Multicollinearity in: SEVERITYBIN ~ Intercept + ACCIDENTYEAR + NUMBERINJ + COUNTSEVEREINJ + COUNTVISIBLEINJ + COUNTCOMPLAINTPAIN.<br>WARNING 001176: Perfect Multicollinearity in: SEVERITYBIN ~ Intercept + COLLSEVERITYNUM + COLLSEVERITYRANKNUM + VICTIMCOUNT + NUMBERKILLED + NUMBERINJ.<br>WARNING 001176: Perfect Multicollinearity in: SEVERITYBIN ~ Intercept + COLLSEVERITYNUM + COLLSEVERITYRANKNUM + VICTIMCOUNT + NUMBERINJ + COUNTSEVEREINJ.<br>WARNING 001176: Perfect Multicollinearity in: SEVERITYBIN ~ Intercept + COLLSEVERITYNUM + PARTYCOUNT + VICTIMCOUNT + NUMBERKILLED + NUMBERINJ.<br>WARNING 001176: Perfect Multicollinearity in: SEVERITYBIN ~ Intercept + COLLSEVERITYNUM + VICTIMCOUNT + NUMBERKILLED + NUMBERINJ + COUNTSEVEREINJ.<br>WARNING 001176: Perfect Multicollinearity in: SEVERITYBIN ~ Intercept + COLLSEVERITYNUM + VICTIMCOUNT + NUMBERKILLED + NUMBERINJ + COUNTVISIBLEINJ.<br>WARNING 001176: Perfect Multicollinearity in: SEVERITYBIN ~ Intercept + COLLSEVERITYNUM + VICTIMCOUNT + NUMBERKILLED + NUMBERINJ + COUNTCOMPLAINTPAIN.<br>WARNING 001176: Perfect Multicollinearity in: SEVERITYBIN ~ Intercept + COLLSEVERITYNUM + VICTIMCOUNT + NUMBERKILLED + NUMBERINJ + COUNTCARKILLED.<br>WARNING 001176: Perfect Multicollinearity in: SEVERITYBIN ~ Intercept + COLLSEVERITYNUM + VICTIMCOUNT + NUMBERKILLED + NUMBERINJ + COUNTCARINJ.<br>WARNING 001176: Perfect Multicollinearity in: SEVERITYBIN ~ Intercept + COLLSEVERITYNUM + VICTIMCOUNT + NUMBERKILLED + NUMBERINJ + COUNTPEDKILLED.<br>WARNING 001176: Perfect Multicollinearity in: SEVERITYBIN ~ Intercept + COLLSEVERITYNUM + VICTIMCOUNT + NUMBERKILLED + NUMBERINJ + COUNTPEDINJ.<br>WARNING 001176: Perfect Multicollinearity in: SEVERITYBIN ~ Intercept + COLLSEVERITYNUM + VICTIMCOUNT + NUMBERKILLED + NUMBERINJ + COUNTBICKILLED.<br>WARNING 001176: Perfect Multicollinearity in: SEVERITYBIN ~ Intercept + COLLSEVERITYNUM + VICTIMCOUNT + NUMBERKILLED + NUMBERINJ + COUNTBICINJ.<br>WARNING 001176: Perfect Multicollinearity in: SEVERITYBIN ~ Intercept + COLLSEVERITYNUM + VICTIMCOUNT + NUMBERKILLED + NUMBERINJ + COUNTMCKILLED.<br>WARNING 001176: Perfect Multicollinearity in: SEVERITYBIN ~ Intercept + COLLSEVERITYNUM + VICTIMCOUNT + NUMBERKILLED + NUMBERINJ + COUNTMCINJ.<br>WARNING 001176: Perfect Multicollinearity in: SEVERITYBIN ~ Intercept + COLLSEVERITYNUM + NUMBERINJ + COUNTSEVEREINJ + COUNTVISIBLEINJ + COUNTCOMPLAINTPAIN.<br>WARNING 001176: Perfect Multicollinearity in: SEVERITYBIN ~ Intercept + COLLSEVERITYRANKNUM + PARTYCOUNT + VICTIMCOUNT + NUMBERKILLED + NUMBERINJ.<br>WARNING 001176: Perfect Multicollinearity in: SEVERITYBIN ~ Intercept + COLLSEVERITYRANKNUM + PARTYCOUNT + VICTIMCOUNT + NUMBERINJ + COUNTSEVEREINJ.<br>WARNING 001176: Perfect Multicollinearity in: SEVERITYBIN ~ Intercept + COLLSEVERITYRANKNUM + VICTIMCOUNT + NUMBERKILLED + NUMBERINJ + COUNTSEVEREINJ.<br>WARNING 001176: Perfect Multicollinearity in: SEVERITYBIN ~ Intercept + COLLSEVERITYRANKNUM + VICTIMCOUNT + NUMBERKILLED + NUMBERINJ + COUNTVISIBLEINJ.<br>WARNING 001176: Perfect Multicollinearity in: SEVERITYBIN ~ Intercept + COLLSEVERITYRANKNUM + VICTIMCOUNT + NUMBERKILLED + NUMBERINJ + COUNTCOMPLAINTPAIN.<br>WARNING 001176: Perfect Multicollinearity in: SEVERITYBIN ~ Intercept + COLLSEVERITYRANKNUM + VICTIMCOUNT + NUMBERKILLED + NUMBERINJ + COUNTCARKILLED.<br>WARNING 001176: Perfect Multicollinearity in: SEVERITYBIN ~ Intercept + COLLSEVERITYRANKNUM + VICTIMCOUNT + NUMBERKILLED + NUMBERINJ + COUNTCARINJ.<br>WARNING 001176: Perfect Multicollinearity in: SEVERITYBIN ~ Intercept + COLLSEVERITYRANKNUM + VICTIMCOUNT + NUMBERKILLED + NUMBERINJ + COUNTPEDKILLED.<br>WARNING 001176: Perfect Multicollinearity in: SEVERITYBIN ~ Intercept + COLLSEVERITYRANKNUM + VICTIMCOUNT + NUMBERKILLED + NUMBERINJ + COUNTPEDINJ.<br>WARNING 001176: Perfect Multicollinearity in: SEVERITYBIN ~ Intercept + COLLSEVERITYRANKNUM + VICTIMCOUNT + NUMBERKILLED + NUMBERINJ + COUNTBICKILLED.<br>WARNING 001176: Perfect Multicollinearity in: SEVERITYBIN ~ Intercept + COLLSEVERITYRANKNUM + VICTIMCOUNT + NUMBERKILLED + NUMBERINJ + COUNTBICINJ.<br>WARNING 001176: Perfect Multicollinearity in: SEVERITYBIN ~ Intercept + COLLSEVERITYRANKNUM + VICTIMCOUNT + NUMBERKILLED + NUMBERINJ + COUNTMCKILLED.<br>WARNING 001176: Perfect Multicollinearity in: SEVERITYBIN ~ Intercept + COLLSEVERITYRANKNUM + VICTIMCOUNT + NUMBERKILLED + NUMBERINJ + COUNTMCINJ.<br>WARNING 001176: Perfect Multicollinearity in: SEVERITYBIN ~ Intercept + COLLSEVERITYRANKNUM + VICTIMCOUNT + NUMBERINJ + COUNTSEVEREINJ + COUNTVISIBLEINJ.<br>WARNING 001176: Perfect Multicollinearity in: SEVERITYBIN ~ Intercept + COLLSEVERITYRANKNUM + VICTIMCOUNT + NUMBERINJ + COUNTSEVEREINJ + COUNTCOMPLAINTPAIN.<br>WARNING 001176: Perfect Multicollinearity in: SEVERITYBIN ~ Intercept + COLLSEVERITYRANKNUM + VICTIMCOUNT + NUMBERINJ + COUNTSEVEREINJ + COUNTCARKILLED.<br>WARNING 001176: Perfect Multicollinearity in: SEVERITYBIN ~ Intercept + COLLSEVERITYRANKNUM + VICTIMCOUNT + NUMBERINJ + COUNTSEVEREINJ + COUNTCARINJ.<br>WARNING 001176: Perfect Multicollinearity in: SEVERITYBIN ~ Intercept + COLLSEVERITYRANKNUM + VICTIMCOUNT + NUMBERINJ + COUNTSEVEREINJ + COUNTPEDKILLED.<br>WARNING 001176: Perfect Multicollinearity in: SEVERITYBIN ~ Intercept + COLLSEVERITYRANKNUM + VICTIMCOUNT + NUMBERINJ + COUNTSEVEREINJ + COUNTPEDINJ.<br>WARNING 001176: Perfect Multicollinearity in: SEVERITYBIN ~ Intercept + COLLSEVERITYRANKNUM + VICTIMCOUNT + NUMBERINJ + COUNTSEVEREINJ + COUNTBICKILLED.<br>WARNING 001176: Perfect Multicollinearity in: SEVERITYBIN ~ Intercept + COLLSEVERITYRANKNUM + VICTIMCOUNT + NUMBERINJ + COUNTSEVEREINJ + COUNTBICINJ.<br>WARNING 001176: Perfect Multicollinearity in: SEVERITYBIN ~ Intercept + COLLSEVERITYRANKNUM + VICTIMCOUNT + NUMBERINJ + COUNTSEVEREINJ + COUNTMCKILLED.<br>WARNING 001176: Perfect Multicollinearity in: SEVERITYBIN ~ Intercept + COLLSEVERITYRANKNUM + VICTIMCOUNT + NUMBERINJ + COUNTSEVEREINJ + COUNTMCINJ.<br>WARNING 001176: Perfect Multicollinearity in: SEVERITYBIN ~ Intercept + COLLSEVERITYRANKNUM + VICTIMCOUNT + NUMBERINJ + COUNTVISIBLEINJ + COUNTCOMPLAINTPAIN.<br>WARNING 001176: Perfect Multicollinearity in: SEVERITYBIN ~ Intercept + COLLSEVERITYRANKNUM + VICTIMCOUNT + COUNTSEVEREINJ + COUNTVISIBLEINJ + COUNTCOMPLAINTPAIN.<br>WARNING 001176: Perfect Multicollinearity in: SEVERITYBIN ~ Intercept + COLLSEVERITYRANKNUM + NUMBERINJ + COUNTSEVEREINJ + COUNTVISIBLEINJ + COUNTCOMPLAINTPAIN.<br>WARNING 001176: Perfect Multicollinearity in: SEVERITYBIN ~ Intercept + PARTYCOUNT + VICTIMCOUNT + NUMBERKILLED + NUMBERINJ + COUNTSEVEREINJ.<br>WARNING 001176: Perfect Multicollinearity in: SEVERITYBIN ~ Intercept + PARTYCOUNT + VICTIMCOUNT + NUMBERKILLED + NUMBERINJ + COUNTVISIBLEINJ.<br>WARNING 001176: Perfect Multicollinearity in: SEVERITYBIN ~ Intercept + PARTYCOUNT + VICTIMCOUNT + NUMBERKILLED + NUMBERINJ + COUNTCOMPLAINTPAIN.<br>WARNING 001176: Perfect Multicollinearity in: SEVERITYBIN ~ Intercept + PARTYCOUNT + VICTIMCOUNT + NUMBERKILLED + NUMBERINJ + COUNTCARKILLED.<br>WARNING 001176: Perfect Multicollinearity in: SEVERITYBIN ~ Intercept + PARTYCOUNT + VICTIMCOUNT + NUMBERKILLED + NUMBERINJ + COUNTCARINJ.<br>WARNING 001176: Perfect Multicollinearity in: SEVERITYBIN ~ Intercept + PARTYCOUNT + VICTIMCOUNT + NUMBERKILLED + NUMBERINJ + COUNTPEDKILLED.<br>WARNING 001176: Perfect Multicollinearity in: SEVERITYBIN ~ Intercept + PARTYCOUNT + VICTIMCOUNT + NUMBERKILLED + NUMBERINJ + COUNTPEDINJ.<br>WARNING 001176: Perfect Multicollinearity in: SEVERITYBIN ~ Intercept + PARTYCOUNT + VICTIMCOUNT + NUMBERKILLED + NUMBERINJ + COUNTBICKILLED.<br>WARNING 001176: Perfect Multicollinearity in: SEVERITYBIN ~ Intercept + PARTYCOUNT + VICTIMCOUNT + NUMBERKILLED + NUMBERINJ + COUNTBICINJ.<br>WARNING 001176: Perfect Multicollinearity in: SEVERITYBIN ~ Intercept + PARTYCOUNT + VICTIMCOUNT + NUMBERKILLED + NUMBERINJ + COUNTMCKILLED.<br>WARNING 001176: Perfect Multicollinearity in: SEVERITYBIN ~ Intercept + PARTYCOUNT + VICTIMCOUNT + NUMBERKILLED + NUMBERINJ + COUNTMCINJ.<br>WARNING 001176: Perfect Multicollinearity in: SEVERITYBIN ~ Intercept + PARTYCOUNT + NUMBERINJ + COUNTSEVEREINJ + COUNTVISIBLEINJ + COUNTCOMPLAINTPAIN.<br>WARNING 001176: Perfect Multicollinearity in: SEVERITYBIN ~ Intercept + VICTIMCOUNT + NUMBERKILLED + NUMBERINJ + COUNTSEVEREINJ + COUNTVISIBLEINJ.<br>WARNING 001176: Perfect Multicollinearity in: SEVERITYBIN ~ Intercept + VICTIMCOUNT + NUMBERKILLED + NUMBERINJ + COUNTSEVEREINJ + COUNTCOMPLAINTPAIN.<br>WARNING 001176: Perfect Multicollinearity in: SEVERITYBIN ~ Intercept + VICTIMCOUNT + NUMBERKILLED + NUMBERINJ + COUNTSEVEREINJ + COUNTCARKILLED.<br>WARNING 001176: Perfect Multicollinearity in: SEVERITYBIN ~ Intercept + VICTIMCOUNT + NUMBERKILLED + NUMBERINJ + COUNTSEVEREINJ + COUNTCARINJ.<br>WARNING 001176: Perfect Multicollinearity in: SEVERITYBIN ~ Intercept + VICTIMCOUNT + NUMBERKILLED + NUMBERINJ + COUNTSEVEREINJ + COUNTPEDKILLED.<br>WARNING 001176: Perfect Multicollinearity in: SEVERITYBIN ~ Intercept + VICTIMCOUNT + NUMBERKILLED + NUMBERINJ + COUNTSEVEREINJ + COUNTPEDINJ.<br>WARNING 001176: Perfect Multicollinearity in: SEVERITYBIN ~ Intercept + VICTIMCOUNT + NUMBERKILLED + NUMBERINJ + COUNTSEVEREINJ + COUNTBICKILLED.<br>WARNING 001176: Perfect Multicollinearity in: SEVERITYBIN ~ Intercept + VICTIMCOUNT + NUMBERKILLED + NUMBERINJ + COUNTSEVEREINJ + COUNTBICINJ.<br>WARNING 001176: Perfect Multicollinearity in: SEVERITYBIN ~ Intercept + VICTIMCOUNT + NUMBERKILLED + NUMBERINJ + COUNTSEVEREINJ + COUNTMCKILLED.<br>WARNING 001176: Perfect Multicollinearity in: SEVERITYBIN ~ Intercept + VICTIMCOUNT + NUMBERKILLED + NUMBERINJ + COUNTSEVEREINJ + COUNTMCINJ.<br>WARNING 001176: Perfect Multicollinearity in: SEVERITYBIN ~ Intercept + VICTIMCOUNT + NUMBERKILLED + NUMBERINJ + COUNTVISIBLEINJ + COUNTCOMPLAINTPAIN.<br>WARNING 001176: Perfect Multicollinearity in: SEVERITYBIN ~ Intercept + VICTIMCOUNT + NUMBERKILLED + NUMBERINJ + COUNTVISIBLEINJ + COUNTCARKILLED.<br>WARNING 001176: Perfect Multicollinearity in: SEVERITYBIN ~ Intercept + VICTIMCOUNT + NUMBERKILLED + NUMBERINJ + COUNTVISIBLEINJ + COUNTCARINJ.<br>WARNING 001176: Perfect Multicollinearity in: SEVERITYBIN ~ Intercept + VICTIMCOUNT + NUMBERKILLED + NUMBERINJ + COUNTVISIBLEINJ + COUNTPEDKILLED.<br>WARNING 001176: Perfect Multicollinearity in: SEVERITYBIN ~ Intercept + VICTIMCOUNT + NUMBERKILLED + NUMBERINJ + COUNTVISIBLEINJ + COUNTPEDINJ.<br>WARNING 001176: Perfect Multicollinearity in: SEVERITYBIN ~ Intercept + VICTIMCOUNT + NUMBERKILLED + NUMBERINJ + COUNTVISIBLEINJ + COUNTBICKILLED.<br>WARNING 001176: Perfect Multicollinearity in: SEVERITYBIN ~ Intercept + VICTIMCOUNT + NUMBERKILLED + NUMBERINJ + COUNTVISIBLEINJ + COUNTBICINJ.<br>WARNING 001176: Perfect Multicollinearity in: SEVERITYBIN ~ Intercept + VICTIMCOUNT + NUMBERKILLED + NUMBERINJ + COUNTVISIBLEINJ + COUNTMCKILLED.<br>WARNING 001176: Perfect Multicollinearity in: SEVERITYBIN ~ Intercept + VICTIMCOUNT + NUMBERKILLED + NUMBERINJ + COUNTVISIBLEINJ + COUNTMCINJ.<br>WARNING 001176: Perfect Multicollinearity in: SEVERITYBIN ~ Intercept + VICTIMCOUNT + NUMBERKILLED + NUMBERINJ + COUNTCOMPLAINTPAIN + COUNTCARKILLED.<br>WARNING 001176: Perfect Multicollinearity in: SEVERITYBIN ~ Intercept + VICTIMCOUNT + NUMBERKILLED + NUMBERINJ + COUNTCOMPLAINTPAIN + COUNTCARINJ.<br>WARNING 001176: Perfect Multicollinearity in: SEVERITYBIN ~ Intercept + VICTIMCOUNT + NUMBERKILLED + NUMBERINJ + COUNTCOMPLAINTPAIN + COUNTPEDKILLED.<br>WARNING 001176: Perfect Multicollinearity in: SEVERITYBIN ~ Intercept + VICTIMCOUNT + NUMBERKILLED + NUMBERINJ + COUNTCOMPLAINTPAIN + COUNTPEDINJ.<br>WARNING 001176: Perfect Multicollinearity in: SEVERITYBIN ~ Intercept + VICTIMCOUNT + NUMBERKILLED + NUMBERINJ + COUNTCOMPLAINTPAIN + COUNTBICKILLED.<br>WARNING 001176: Perfect Multicollinearity in: SEVERITYBIN ~ Intercept + VICTIMCOUNT + NUMBERKILLED + NUMBERINJ + COUNTCOMPLAINTPAIN + COUNTBICINJ.<br>WARNING 001176: Perfect Multicollinearity in: SEVERITYBIN ~ Intercept + VICTIMCOUNT + NUMBERKILLED + NUMBERINJ + COUNTCOMPLAINTPAIN + COUNTMCKILLED.<br>WARNING 001176: Perfect Multicollinearity in: SEVERITYBIN ~ Intercept + VICTIMCOUNT + NUMBERKILLED + NUMBERINJ + COUNTCOMPLAINTPAIN + COUNTMCINJ.<br>WARNING 001176: Perfect Multicollinearity in: SEVERITYBIN ~ Intercept + VICTIMCOUNT + NUMBERKILLED + NUMBERINJ + COUNTCARKILLED + COUNTCARINJ.<br>WARNING 001176: Perfect Multicollinearity in: SEVERITYBIN ~ Intercept + VICTIMCOUNT + NUMBERKILLED + NUMBERINJ + COUNTCARKILLED + COUNTPEDKILLED.<br>WARNING 001176: Perfect Multicollinearity in: SEVERITYBIN ~ Intercept + VICTIMCOUNT + NUMBERKILLED + NUMBERINJ + COUNTCARKILLED + COUNTPEDINJ.<br>WARNING 001176: Perfect Multicollinearity in: SEVERITYBIN ~ Intercept + VICTIMCOUNT + NUMBERKILLED + NUMBERINJ + COUNTCARKILLED + COUNTBICKILLED.<br>WARNING 001176: Perfect Multicollinearity in: SEVERITYBIN ~ Intercept + VICTIMCOUNT + NUMBERKILLED + NUMBERINJ + COUNTCARKILLED + COUNTBICINJ.<br>WARNING 001176: Perfect Multicollinearity in: SEVERITYBIN ~ Intercept + VICTIMCOUNT + NUMBERKILLED + NUMBERINJ + COUNTCARKILLED + COUNTMCKILLED.<br>WARNING 001176: Perfect Multicollinearity in: SEVERITYBIN ~ Intercept + VICTIMCOUNT + NUMBERKILLED + NUMBERINJ + COUNTCARKILLED + COUNTMCINJ.<br>WARNING 001176: Perfect Multicollinearity in: SEVERITYBIN ~ Intercept + VICTIMCOUNT + NUMBERKILLED + NUMBERINJ + COUNTCARINJ + COUNTPEDKILLED.<br>WARNING 001176: Perfect Multicollinearity in: SEVERITYBIN ~ Intercept + VICTIMCOUNT + NUMBERKILLED + NUMBERINJ + COUNTCARINJ + COUNTPEDINJ.<br>WARNING 001176: Perfect Multicollinearity in: SEVERITYBIN ~ Intercept + VICTIMCOUNT + NUMBERKILLED + NUMBERINJ + COUNTCARINJ + COUNTBICKILLED.<br>WARNING 001176: Perfect Multicollinearity in: SEVERITYBIN ~ Intercept + VICTIMCOUNT + NUMBERKILLED + NUMBERINJ + COUNTCARINJ + COUNTBICINJ.<br>WARNING 001176: Perfect Multicollinearity in: SEVERITYBIN ~ Intercept + VICTIMCOUNT + NUMBERKILLED + NUMBERINJ + COUNTCARINJ + COUNTMCKILLED.<br>WARNING 001176: Perfect Multicollinearity in: SEVERITYBIN ~ Intercept + VICTIMCOUNT + NUMBERKILLED + NUMBERINJ + COUNTCARINJ + COUNTMCINJ.<br>WARNING 001176: Perfect Multicollinearity in: SEVERITYBIN ~ Intercept + VICTIMCOUNT + NUMBERKILLED + NUMBERINJ + COUNTPEDKILLED + COUNTPEDINJ.<br>WARNING 001176: Perfect Multicollinearity in: SEVERITYBIN ~ Intercept + VICTIMCOUNT + NUMBERKILLED + NUMBERINJ + COUNTPEDKILLED + COUNTBICKILLED.<br>WARNING 001176: Perfect Multicollinearity in: SEVERITYBIN ~ Intercept + VICTIMCOUNT + NUMBERKILLED + NUMBERINJ + COUNTPEDKILLED + COUNTBICINJ.<br>WARNING 001176: Perfect Multicollinearity in: SEVERITYBIN ~ Intercept + VICTIMCOUNT + NUMBERKILLED + NUMBERINJ + COUNTPEDKILLED + COUNTMCKILLED.<br>WARNING 001176: Perfect Multicollinearity in: SEVERITYBIN ~ Intercept + VICTIMCOUNT + NUMBERKILLED + NUMBERINJ + COUNTPEDKILLED + COUNTMCINJ.<br>WARNING 001176: Perfect Multicollinearity in: SEVERITYBIN ~ Intercept + VICTIMCOUNT + NUMBERKILLED + NUMBERINJ + COUNTPEDINJ + COUNTBICKILLED.<br>WARNING 001176: Perfect Multicollinearity in: SEVERITYBIN ~ Intercept + VICTIMCOUNT + NUMBERKILLED + NUMBERINJ + COUNTPEDINJ + COUNTBICINJ.<br>WARNING 001176: Perfect Multicollinearity in: SEVERITYBIN ~ Intercept + VICTIMCOUNT + NUMBERKILLED + NUMBERINJ + COUNTPEDINJ + COUNTMCKILLED.<br>WARNING 001176: Perfect Multicollinearity in: SEVERITYBIN ~ Intercept + VICTIMCOUNT + NUMBERKILLED + NUMBERINJ + COUNTPEDINJ + COUNTMCINJ.<br>WARNING 001176: Perfect Multicollinearity in: SEVERITYBIN ~ Intercept + VICTIMCOUNT + NUMBERKILLED + NUMBERINJ + COUNTBICKILLED + COUNTBICINJ.<br>WARNING 001176: Perfect Multicollinearity in: SEVERITYBIN ~ Intercept + VICTIMCOUNT + NUMBERKILLED + NUMBERINJ + COUNTBICKILLED + COUNTMCKILLED.<br>WARNING 001176: Perfect Multicollinearity in: SEVERITYBIN ~ Intercept + VICTIMCOUNT + NUMBERKILLED + NUMBERINJ + COUNTBICKILLED + COUNTMCINJ.<br>WARNING 001176: Perfect Multicollinearity in: SEVERITYBIN ~ Intercept + VICTIMCOUNT + NUMBERKILLED + NUMBERINJ + COUNTBICINJ + COUNTMCKILLED.<br>WARNING 001176: Perfect Multicollinearity in: SEVERITYBIN ~ Intercept + VICTIMCOUNT + NUMBERKILLED + NUMBERINJ + COUNTBICINJ + COUNTMCINJ.<br>WARNING 001176: Perfect Multicollinearity in: SEVERITYBIN ~ Intercept + VICTIMCOUNT + NUMBERKILLED + NUMBERINJ + COUNTMCKILLED + COUNTMCINJ.<br>WARNING 001176: Perfect Multicollinearity in: SEVERITYBIN ~ Intercept + VICTIMCOUNT + NUMBERKILLED + COUNTSEVEREINJ + COUNTVISIBLEINJ + COUNTCOMPLAINTPAIN.<br>WARNING 001176: Perfect Multicollinearity in: SEVERITYBIN ~ Intercept + VICTIMCOUNT + NUMBERINJ + COUNTSEVEREINJ + COUNTVISIBLEINJ + COUNTCOMPLAINTPAIN.<br>WARNING 001176: Perfect Multicollinearity in: SEVERITYBIN ~ Intercept + NUMBERKILLED + NUMBERINJ + COUNTSEVEREINJ + COUNTVISIBLEINJ + COUNTCOMPLAINTPAIN.<br>WARNING 001176: Perfect Multicollinearity in: SEVERITYBIN ~ Intercept + NUMBERKILLED + COUNTCARKILLED + COUNTPEDKILLED + COUNTBICKILLED + COUNTMCKILLED.<br>WARNING 001176: Perfect Multicollinearity in: SEVERITYBIN ~ Intercept + NUMBERINJ + COUNTSEVEREINJ + COUNTVISIBLEINJ + COUNTCOMPLAINTPAIN + COUNTCARKILLED.<br>WARNING 001176: Perfect Multicollinearity in: SEVERITYBIN ~ Intercept + NUMBERINJ + COUNTSEVEREINJ + COUNTVISIBLEINJ + COUNTCOMPLAINTPAIN + COUNTCARINJ.<br>WARNING 001176: Perfect Multicollinearity in: SEVERITYBIN ~ Intercept + NUMBERINJ + COUNTSEVEREINJ + COUNTVISIBLEINJ + COUNTCOMPLAINTPAIN + COUNTPEDKILLED.<br>WARNING 001176: Perfect Multicollinearity in: SEVERITYBIN ~ Intercept + NUMBERINJ + COUNTSEVEREINJ + COUNTVISIBLEINJ + COUNTCOMPLAINTPAIN + COUNTPEDINJ.<br>WARNING 001176: Perfect Multicollinearity in: SEVERITYBIN ~ Intercept + NUMBERINJ + COUNTSEVEREINJ + COUNTVISIBLEINJ + COUNTCOMPLAINTPAIN + COUNTBICKILLED.<br>WARNING 001176: Perfect Multicollinearity in: SEVERITYBIN ~ Intercept + NUMBERINJ + COUNTSEVEREINJ + COUNTVISIBLEINJ + COUNTCOMPLAINTPAIN + COUNTBICINJ.<br>WARNING 001176: Perfect Multicollinearity in: SEVERITYBIN ~ Intercept + NUMBERINJ + COUNTSEVEREINJ + COUNTVISIBLEINJ + COUNTCOMPLAINTPAIN + COUNTMCKILLED.<br>WARNING 001176: Perfect Multicollinearity in: SEVERITYBIN ~ Intercept + NUMBERINJ + COUNTSEVEREINJ + COUNTVISIBLEINJ + COUNTCOMPLAINTPAIN + COUNTMCINJ.<br>WARNING 001176: Perfect Multicollinearity in: SEVERITYBIN ~ Intercept + NUMBERINJ + COUNTCARINJ + COUNTPEDINJ + COUNTBICINJ + COUNTMCINJ.<br>******************************************************************************<br>******************************************************************************<br>************ Exploratory Regression Global Summary (SEVERITYBIN) *************<br>\\n              Percentage of Search Criteria Passed             \\nSearch Criterion                    Cutoff Trials # Passed % Passed\\nMin Adjusted R-Squared              \\u003e 0.50  12460     7110    57.06\\nMax Coefficient p-value             \\u003c 0.05  12460    10420    83.63\\nMax VIF Value                       \\u003c 7.50  12460    11095    89.04\\nMin Jarque-Bera p-value             \\u003e 0.10  12460        0     0.00\\nMin Spatial Autocorrelation p-value \\u003e 0.10     16        0     0.00\\n<br>------------------------------------------------------------------------------<br>\\n          Summary of Variable Significance          \\nVariable            % Significant % Negative % Positive\\nCOLLSEVERITYNUM            100.00       0.00     100.00\\nCOUNTCARKILLED             100.00      44.68      55.32\\nNUMBERKILLED                99.97      25.70      74.30\\nCOLLSEVERITYRANKNUM         99.94       0.03      99.97\\nCOUNTBICKILLED              99.56      17.93      82.07\\nCOUNTVISIBLEINJ             98.65      99.53       0.47\\nVICTIMCOUNT                 97.85      37.46      62.54\\nCOUNTCOMPLAINTPAIN          97.77      74.25      25.75\\nCOUNTMCKILLED               96.75      20.87      79.13\\nCOUNTCARINJ                 96.46      79.35      20.65\\nCOUNTPEDKILLED              96.28      21.96      78.04\\nCOUNTSEVEREINJ              96.21       1.07      98.93\\nNUMBERINJ                   95.40      48.43      51.57\\nCOUNTMCINJ                  95.28       8.42      91.58\\nPARTYCOUNT                  93.46      79.98      20.02\\nCOUNTPEDINJ                 91.40      12.55      87.45\\nCOUNTBICINJ                 90.33      45.24      54.76\\nACCIDENTYEAR                87.96      12.57      87.43\\n<br>------------------------------------------------------------------------------<br>\\n                                                                                               Summary of Multicollinearity*                                                                                                \\nVariable               VIF Violations Covariates                                                                                                                                                                               \\nACCIDENTYEAR          1.01     0      --------                                                                                                                                                                                 \\nCOLLSEVERITYNUM       6.94     0      --------                                                                                                                                                                                 \\nCOLLSEVERITYRANKNUM  76.39    139     NUMBERKILLED (17.48), COUNTSEVEREINJ (17.19), VICTIMCOUNT (0.29), NUMBERINJ (0.29), COUNTVISIBLEINJ (0.29), COUNTCOMPLAINTPAIN (0.29)                                                    \\nPARTYCOUNT            1.08     0      --------                                                                                                                                                                                 \\nVICTIMCOUNT         643.30    738     NUMBERINJ (80.23), COUNTCOMPLAINTPAIN (16.91), COUNTCARINJ (14.18), COUNTVISIBLEINJ (5.44), COLLSEVERITYRANKNUM (0.29), COUNTSEVEREINJ (0.29), NUMBERKILLED (0.14), COUNTCARKILLED (0.14)\\nNUMBERKILLED         51.87    137     COLLSEVERITYRANKNUM (17.48), COUNTSEVEREINJ (17.19), COUNTCARKILLED (2.01), COUNTVISIBLEINJ (0.29), COUNTCOMPLAINTPAIN (0.29), VICTIMCOUNT (0.14), NUMBERINJ (0.14)                      \\nNUMBERINJ           647.86    744     VICTIMCOUNT (80.23), COUNTCARINJ (16.76), COUNTCOMPLAINTPAIN (15.19), COUNTVISIBLEINJ (3.72), COLLSEVERITYRANKNUM (0.29), NUMBERKILLED (0.14), COUNTCARKILLED (0.14)                     \\nCOUNTSEVEREINJ       21.34    122     COLLSEVERITYRANKNUM (17.19), NUMBERKILLED (17.19), VICTIMCOUNT (0.29), COUNTVISIBLEINJ (0.29), COUNTCOMPLAINTPAIN (0.29)                                                                 \\nCOUNTVISIBLEINJ     113.94     63     COUNTCOMPLAINTPAIN (9.03), VICTIMCOUNT (5.44), NUMBERINJ (3.72), COLLSEVERITYRANKNUM (0.29), NUMBERKILLED (0.29), COUNTSEVEREINJ (0.29)                                                  \\nCOUNTCOMPLAINTPAIN  234.11    247     VICTIMCOUNT (16.91), NUMBERINJ (15.19), COUNTVISIBLEINJ (9.03), COUNTCARINJ (1.58), COLLSEVERITYRANKNUM (0.29), NUMBERKILLED (0.29), COUNTSEVEREINJ (0.29)                               \\nCOUNTCARKILLED        8.53     15     NUMBERKILLED (2.01), VICTIMCOUNT (0.14), NUMBERINJ (0.14)                                                                                                                                \\nCOUNTCARINJ          59.85    445     NUMBERINJ (16.76), VICTIMCOUNT (14.18), COUNTCOMPLAINTPAIN (1.58)                                                                                                                        \\nCOUNTPEDKILLED        5.85     0      --------                                                                                                                                                                                 \\nCOUNTPEDINJ           4.75     0      --------                                                                                                                                                                                 \\nCOUNTBICKILLED        1.42     0      --------                                                                                                                                                                                 \\nCOUNTBICINJ           5.52     0      --------                                                                                                                                                                                 \\nCOUNTMCKILLED         3.36     0      --------                                                                                                                                                                                 \\nCOUNTMCINJ            5.33     0      --------                                                                                                                                                                                 \\n* At least one model failed to solve due to perfect multicollinearity.\\nPlease review the warning messages for further information.<br>------------------------------------------------------------------------------<br>\\n                      Summary of Residual Normality (JB)                      \\n      JB    AdjR2           AICc    K(BP)      VIF       SA   Model                 \\n0.000000 0.683628 -188424.904262 0.000000 1.000000 0.000000  +COLLSEVERITYRANKNUM***\\n0.000000 0.489118 -106863.807818 0.000000 1.000000 0.000000  +COLLSEVERITYNUM***    \\n0.000000 0.001145    7246.956352 0.000000 1.000000 0.000000  +ACCIDENTYEAR***       \\n<br>------------------------------------------------------------------------------<br>\\n                                                        Summary of Residual Spatial Autocorrelation (SA)                                                        \\n      SA    AdjR2           AICc       JB    K(BP)        VIF   Model                                                                                                 \\n0.030324 0.935169 -458202.676449 0.000000 0.000000  10.865958  +COLLSEVERITYNUM***  +COLLSEVERITYRANKNUM***  -NUMBERKILLED***  +NUMBERINJ***  -COUNTVISIBLEINJ***     \\n0.030324 0.935169 -458202.676449 0.000000 0.000000 189.839695  +COLLSEVERITYNUM***  +COLLSEVERITYRANKNUM***  -VICTIMCOUNT***  +NUMBERINJ***  -COUNTVISIBLEINJ***      \\n0.024541 0.935681 -459553.297926 0.000000 0.000000   9.955391  +COLLSEVERITYNUM***  +COLLSEVERITYRANKNUM***  -NUMBERKILLED***  -COUNTVISIBLEINJ***  -COUNTCARKILLED***\\n<br>------------------------------------------------------------------------------<br>                    Table Abbreviations                     \\nAdjR2 Adjusted R-Squared                                     \\nAICc  Akaike&#39;s Information Criterion                         \\nJB    Jarque-Bera p-value                                    \\nK(BP) Koenker (BP) Statistic p-value                         \\nVIF   Max Variance Inflation Factor                          \\nSA    Global Moran&#39;s I p-value                               \\nModel Variable sign (+/-)                                    \\nModel Variable significance (* = 0.10; ** = 0.05; *** = 0.01)<br>------------------------------------------------------------------------------<br>Succeeded at Monday, May 5, 2025 8:43:38 AM (Elapsed Time: 27 minutes 47 seconds)<br></div><div id = 'default' /></div></div>"
      ],
      "text/plain": [
       "<Result ''>"
      ]
     },
     "execution_count": 84,
     "metadata": {},
     "output_type": "execute_result"
    }
   ],
   "source": [
    "arcpy.stats.ExploratoryRegression(\n",
    "    Input_Features=crashes,\n",
    "    Dependent_Variable=\"severityBin\",\n",
    "    Candidate_Explanatory_Variables=\"accidentYear;collSeverityNum;collSeverityRankNum;partyCount;victimCount;numberKilled;numberInj;countSevereInj;countVisibleInj;countComplaintPain;countCarKilled;countCarInj;countPedKilled;countPedInj;countBicKilled;countBicInj;countMcKilled;countMcInj\",\n",
    "    Weights_Matrix_File=None,\n",
    "    Output_Report_File=None,\n",
    "    Output_Results_Table=None,\n",
    "    Maximum_Number_of_Explanatory_Variables=5,\n",
    "    Minimum_Number_of_Explanatory_Variables=1,\n",
    "    Minimum_Acceptable_Adj_R_Squared=0.5,\n",
    "    Maximum_Coefficient_p_value_Cutoff=0.05,\n",
    "    Maximum_VIF_Value_Cutoff=7.5,\n",
    "    Minimum_Acceptable_Jarque_Bera_p_value=0.1,\n",
    "    Minimum_Acceptable_Spatial_Autocorrelation_p_value=0.1\n",
    ")"
   ]
  },
  {
   "cell_type": "markdown",
   "metadata": {},
   "source": [
    "<h3 style=\"font-weight:bold; color:lime; padding-left: 50px\">Save Project</h3>"
   ]
  },
  {
   "cell_type": "code",
   "execution_count": 85,
   "metadata": {},
   "outputs": [],
   "source": [
    "# Save the project\n",
    "aprx.save()"
   ]
  },
  {
   "cell_type": "markdown",
   "metadata": {},
   "source": [
    "<h2 style=\"font-weight:bold; color:dodgerblue; border-bottom: 1px solid dodgerblue; padding-left: 25px\">2.4. Hotspot Data Feature Classes</h2>"
   ]
  },
  {
   "cell_type": "markdown",
   "metadata": {},
   "source": [
    "<h3 style=\"font-weight:bold; color:lime; padding-left: 50px\">Delete all Old Hotspot Feature Classes</h3>"
   ]
  },
  {
   "cell_type": "markdown",
   "metadata": {},
   "source": [
    "Loop through all hotspot data feature dataset and delete all feature classes"
   ]
  },
  {
   "cell_type": "code",
   "execution_count": 86,
   "metadata": {},
   "outputs": [],
   "source": [
    "for f in arcpy.ListFeatureClasses(feature_dataset = \"HotSpotData\"):\n",
    "    print(f\"Deleting {f}...\")\n",
    "    arcpy.Delete_management(f)\n",
    "    print(arcpy.GetMessages())"
   ]
  },
  {
   "cell_type": "markdown",
   "metadata": {},
   "source": [
    "<h3 style=\"font-weight:bold; color:lime; padding-left: 50px\">Create Hot Spots (Crashes, Collision Severity)</h3>"
   ]
  },
  {
   "cell_type": "markdown",
   "metadata": {},
   "source": [
    "Create a hot spot analysis for the crash collision data (collision severity)"
   ]
  },
  {
   "cell_type": "code",
   "execution_count": 87,
   "metadata": {},
   "outputs": [
    {
     "data": {
      "text/html": [
       "<div class='gpresult'><h2 class='msg-title'>Messages</h2><div id='messages'>Start Time: Monday, May 5, 2025 8:43:40 AM<br>WARNING 000853: The default neighborhood search threshold was 5800.7226 meters.<br>WARNING 001420: The number of neighbors for at least one feature exceeds 1000, you may want to change your conceptualization of spatial relationships to avoid the potential of running out of memory.<br>WARNING 001422: Features with number of neighbors exceeding warning value (only includes first 30): OBJECTID = 1, 2, 3, 4, 5, 6, 7, 8, 9, 10, 11, 12, 13, 14, 15, 16, 17, 18, 19, 20, 21, 22, 23, 24, 25, 26, 27, 28, 29, 30.<br>Succeeded at Monday, May 5, 2025 8:56:25 AM (Elapsed Time: 12 minutes 44 seconds)<br></div><div id = 'default' /></div></div>"
      ],
      "text/plain": [
       "<Result 'c:\\\\Users\\\\ktale\\\\OneDrive\\\\Documents\\\\GitHub\\\\OCSWITRS\\\\AGPSWITRS\\\\AGPSWITRS.gdb\\\\HotSpotData\\\\crashesHotspots'>"
      ]
     },
     "execution_count": 87,
     "metadata": {},
     "output_type": "execute_result"
    }
   ],
   "source": [
    "# Create a path for the new crashes hot spots feature class\n",
    "crashesHotspots = os.path.join(gdbHotspotData, \"crashesHotspots\")\n",
    "\n",
    "# Create hot spots points\n",
    "arcpy.stats.HotSpots(\n",
    "    Input_Feature_Class = crashes,\n",
    "    Input_Field = \"collSeverityNum\",\n",
    "    Output_Feature_Class = crashesHotspots,\n",
    "    Conceptualization_of_Spatial_Relationships = \"FIXED_DISTANCE_BAND\",\n",
    "    Distance_Method = \"EUCLIDEAN_DISTANCE\",\n",
    "    Standardization = \"ROW\",\n",
    "    Distance_Band_or_Threshold_Distance = None,\n",
    "    Self_Potential_Field = None,\n",
    "    Weights_Matrix_File = None,\n",
    "    Apply_False_Discovery_Rate__FDR__Correction = \"NO_FDR\",\n",
    "    number_of_neighbors = None\n",
    ")"
   ]
  },
  {
   "cell_type": "markdown",
   "metadata": {},
   "source": [
    "Add feature class alias for the hot spots (crashes, collision severity) feature class"
   ]
  },
  {
   "cell_type": "code",
   "execution_count": 88,
   "metadata": {},
   "outputs": [
    {
     "name": "stdout",
     "output_type": "stream",
     "text": [
      "Start Time: Monday, May 5, 2025 8:43:40 AM\n",
      "WARNING 000853: The default neighborhood search threshold was 5800.7226 meters.\n",
      "WARNING 001420: The number of neighbors for at least one feature exceeds 1000, you may want to change your conceptualization of spatial relationships to avoid the potential of running out of memory.\n",
      "WARNING 001422: Features with number of neighbors exceeding warning value (only includes first 30): OBJECTID = 1, 2, 3, 4, 5, 6, 7, 8, 9, 10, 11, 12, 13, 14, 15, 16, 17, 18, 19, 20, 21, 22, 23, 24, 25, 26, 27, 28, 29, 30.\n",
      "Succeeded at Monday, May 5, 2025 8:56:25 AM (Elapsed Time: 12 minutes 44 seconds)\n"
     ]
    }
   ],
   "source": [
    "# Define the crashes hot spots layer alias and modify the feature class alias\n",
    "crashesHotspotsAlias = \"OCSWITRS Crashes Hot Spots\"\n",
    "arcpy.AlterAliasName(crashesHotspots, crashesHotspotsAlias)\n",
    "print(arcpy.GetMessages())"
   ]
  },
  {
   "cell_type": "markdown",
   "metadata": {},
   "source": [
    "Obtain the fields for the hot spots (crashes, collision severity) feature class"
   ]
  },
  {
   "cell_type": "code",
   "execution_count": 89,
   "metadata": {},
   "outputs": [
    {
     "name": "stdout",
     "output_type": "stream",
     "text": [
      "OBJECTID (OBJECTID)\n",
      "Shape (Shape)\n",
      "SOURCE_ID (SOURCE_ID)\n",
      "collSeverityNum (Collision Severity Numeric)\n",
      "GiZScore (GiZScore Fixed 5800)\n",
      "GiPValue (GiPValue Fixed 5800)\n",
      "NNeighbors (NNeighbors Fixed 5800)\n",
      "Gi_Bin (Gi_Bin Fixed 5800)\n"
     ]
    }
   ],
   "source": [
    "crashesHotspotsFields = [f.name for f in arcpy.ListFields(crashesHotspots)] # crashesHotspots field list\n",
    "\n",
    "# Field Aliases for the crashes hot spots feature class\n",
    "for f in arcpy.ListFields(crashesHotspots):\n",
    "    print(f\"{f.name} ({f.aliasName})\")"
   ]
  },
  {
   "cell_type": "markdown",
   "metadata": {},
   "source": [
    "<h3 style=\"font-weight:bold; color:lime; padding-left: 50px\">Optimized Hot Spots (Crashes, Collision Severity, 1,000 m)</h3>"
   ]
  },
  {
   "cell_type": "markdown",
   "metadata": {},
   "source": [
    "Optimized hot spot analysis for the crash collision data (collision severity)"
   ]
  },
  {
   "cell_type": "code",
   "execution_count": 90,
   "metadata": {},
   "outputs": [
    {
     "data": {
      "text/html": [
       "<div class='gpresult'><h2 class='msg-title'>Messages</h2><div id='messages'>Start Time: Monday, May 5, 2025 8:56:26 AM<br>\\n************************** Initial Data Assessment ***************************<br>Making sure there are enough weighted features for analysis....<br>    - There are 170195 valid input features.\\n<br>Evaluating the Analysis Field values....<br>    - COLLSEVERITYNUM Properties:\\n        Min:       1.0000\\n        Max:       4.0000\\n        Mean:      1.4658\\n        Std. Dev.: 0.6586<br>Looking for locational outliers....<br>    - There were 2529 outlier locations; these will not be used to compute the optimal fixed distance band.\\n<br>***************************** Scale of Analysis ******************************<br>    - The Neighborhood Distance used was 1000 meters.\\n<br>***************************** Hot Spot Analysis ******************************<br>Finding statistically significant clusters of high and low Collision Severity Numeric values....<br>WARNING 001420: The number of neighbors for at least one feature exceeds 1000, you may want to change your conceptualization of spatial relationships to avoid the potential of running out of memory.<br>WARNING 001422: Features with number of neighbors exceeding warning value (only includes first 30): OBJECTID = 4, 24, 35, 50, 64, 131, 170, 207, 208, 241, 281, 284, 289, 327, 328, 349, 353, 382, 388, 389, 390, 394, 396, 397, 403, 417, 422, 423, 429, 430.<br>    - There are 95311 output features statistically significant based on an FDR correction for multiple testing and spatial dependence.\\n<br>    - .1% of features had less than 8 neighbors based on the distance band of 1000 meters<br>*********************************** Output ***********************************<br>Creating output feature class: c:\\\\Users\\\\ktale\\\\OneDrive\\\\Documents\\\\GitHub\\\\OCSWITRS\\\\AGPSWITRS\\\\AGPSWITRS.gdb\\\\HotSpotData\\\\crashesOptimizedHotspots<br>\\n<br>Succeeded at Monday, May 5, 2025 8:57:44 AM (Elapsed Time: 1 minutes 18 seconds)<br></div><div id = 'default' /></div></div>"
      ],
      "text/plain": [
       "<Result 'c:\\\\Users\\\\ktale\\\\OneDrive\\\\Documents\\\\GitHub\\\\OCSWITRS\\\\AGPSWITRS\\\\AGPSWITRS.gdb\\\\HotSpotData\\\\crashesOptimizedHotspots'>"
      ]
     },
     "execution_count": 90,
     "metadata": {},
     "output_type": "execute_result"
    }
   ],
   "source": [
    "# Create a path for the new optimized crashes hot spots feature class\n",
    "crashesOptimizedHotspots = os.path.join(gdbHotspotData, \"crashesOptimizedHotspots\")\n",
    "\n",
    "# Perform Optimized Hot Spot Analysis on the crashes data\n",
    "arcpy.stats.OptimizedHotSpotAnalysis(\n",
    "    Input_Features = crashes,\n",
    "    Output_Features = crashesOptimizedHotspots,\n",
    "    Analysis_Field = \"collSeverityNum\",\n",
    "    Incident_Data_Aggregation_Method = \"COUNT_INCIDENTS_WITHIN_FISHNET_POLYGONS\",\n",
    "    Bounding_Polygons_Defining_Where_Incidents_Are_Possible = None,\n",
    "    Polygons_For_Aggregating_Incidents_Into_Counts = None,\n",
    "    Density_Surface = None,\n",
    "    Cell_Size = None,\n",
    "    Distance_Band = \"1000 Meters\"\n",
    ")"
   ]
  },
  {
   "cell_type": "markdown",
   "metadata": {},
   "source": [
    "Add feature class alias for the optimized hot spots (crashes, collision severity, 1,000 m) feature class"
   ]
  },
  {
   "cell_type": "code",
   "execution_count": 91,
   "metadata": {},
   "outputs": [
    {
     "name": "stdout",
     "output_type": "stream",
     "text": [
      "Start Time: Monday, May 5, 2025 8:56:26 AM\n",
      "\n",
      "************************** Initial Data Assessment ***************************\n",
      "Making sure there are enough weighted features for analysis....\n",
      "    - There are 170195 valid input features.\n",
      "\n",
      "Evaluating the Analysis Field values....\n",
      "    - COLLSEVERITYNUM Properties:\n",
      "        Min:       1.0000\n",
      "        Max:       4.0000\n",
      "        Mean:      1.4658\n",
      "        Std. Dev.: 0.6586\n",
      "Looking for locational outliers....\n",
      "    - There were 2529 outlier locations; these will not be used to compute the optimal fixed distance band.\n",
      "\n",
      "***************************** Scale of Analysis ******************************\n",
      "    - The Neighborhood Distance used was 1000 meters.\n",
      "\n",
      "***************************** Hot Spot Analysis ******************************\n",
      "Finding statistically significant clusters of high and low Collision Severity Numeric values....\n",
      "WARNING 001420: The number of neighbors for at least one feature exceeds 1000, you may want to change your conceptualization of spatial relationships to avoid the potential of running out of memory.\n",
      "WARNING 001422: Features with number of neighbors exceeding warning value (only includes first 30): OBJECTID = 4, 24, 35, 50, 64, 131, 170, 207, 208, 241, 281, 284, 289, 327, 328, 349, 353, 382, 388, 389, 390, 394, 396, 397, 403, 417, 422, 423, 429, 430.\n",
      "    - There are 95311 output features statistically significant based on an FDR correction for multiple testing and spatial dependence.\n",
      "\n",
      "    - .1% of features had less than 8 neighbors based on the distance band of 1000 meters\n",
      "*********************************** Output ***********************************\n",
      "Creating output feature class: c:\\Users\\ktale\\OneDrive\\Documents\\GitHub\\OCSWITRS\\AGPSWITRS\\AGPSWITRS.gdb\\HotSpotData\\crashesOptimizedHotspots\n",
      "\n",
      "\n",
      "Succeeded at Monday, May 5, 2025 8:57:44 AM (Elapsed Time: 1 minutes 18 seconds)\n"
     ]
    }
   ],
   "source": [
    "# Define the optimized crashes hot spots layer alias and modify the feature class alias\n",
    "crashesOptimizedHotspotsAlias = \"OCSWITRS Crashes Optimized Hot Spots\"\n",
    "arcpy.AlterAliasName(crashesOptimizedHotspots, crashesOptimizedHotspotsAlias)\n",
    "print(arcpy.GetMessages())"
   ]
  },
  {
   "cell_type": "markdown",
   "metadata": {},
   "source": [
    "Obtain the fields for the optimized hot spots (crashes, collision severity, 1,000 m) feature class"
   ]
  },
  {
   "cell_type": "code",
   "execution_count": 92,
   "metadata": {},
   "outputs": [
    {
     "name": "stdout",
     "output_type": "stream",
     "text": [
      "OBJECTID (OBJECTID)\n",
      "Shape (Shape)\n",
      "SOURCE_ID (SOURCE_ID)\n",
      "collSeverityNum (Collision Severity Numeric)\n",
      "GiZScore (GiZScore Fixed 1000)\n",
      "GiPValue (GiPValue Fixed 1000)\n",
      "NNeighbors (NNeighbors Fixed 1000)\n",
      "Gi_Bin (Gi_Bin Fixed 1000_FDR)\n"
     ]
    }
   ],
   "source": [
    "crashesOptimizedHotspotsFields = [f.name for f in arcpy.ListFields(crashesOptimizedHotspots)] # crashesOptimizedHotspots field list\n",
    "\n",
    "# Field Aliases for the optimized crashes hot spots feature class\n",
    "for f in arcpy.ListFields(crashesOptimizedHotspots):\n",
    "    print(f\"{f.name} ({f.aliasName})\")"
   ]
  },
  {
   "cell_type": "markdown",
   "metadata": {},
   "source": [
    "<h3 style=\"font-weight:bold; color:lime; padding-left: 50px\">Find Hot Spots (Crashes, 100m bins, 1km neighbors)</h3>"
   ]
  },
  {
   "cell_type": "markdown",
   "metadata": {},
   "source": [
    "Find hot spots for the crash collision data using 100 m bins and 1 km neighborhood radius (328 ft/ 0.621 mi)"
   ]
  },
  {
   "cell_type": "code",
   "execution_count": 93,
   "metadata": {},
   "outputs": [
    {
     "data": {
      "text/html": [
       "<div class='gpresult'><h2 class='msg-title'>Messages</h2><div id='messages'>Start Time: Monday, May 5, 2025 8:57:46 AM<br>Started Spark Job 1 with 24 tasks.<br>Spark Job 1 completed in 8.5 seconds.<br>Started Spark Job 2 with 48 tasks.<br>Spark Job 2 completed in 10.6 seconds.<br>Started Spark Job 3 with 36 tasks.<br>Spark Job 3 completed in 2.0 seconds.<br><br>Succeeded at Monday, May 5, 2025 8:58:38 AM (Elapsed Time: 51.58 seconds)<br></div><div id = 'default' /></div></div>"
      ],
      "text/plain": [
       "<Result 'c:\\\\Users\\\\ktale\\\\OneDrive\\\\Documents\\\\GitHub\\\\OCSWITRS\\\\AGPSWITRS\\\\AGPSWITRS.gdb\\\\HotSpotData\\\\crashesFindHotspots100m1km'>"
      ]
     },
     "execution_count": 93,
     "metadata": {},
     "output_type": "execute_result"
    }
   ],
   "source": [
    "# Create a path for the new crashes find hot spots feature class\n",
    "crashesFindHotspots100m1km = os.path.join(gdbHotspotData, \"crashesFindHotspots100m1km\")\n",
    "\n",
    "# Find the hot spots within the crashes data\n",
    "arcpy.gapro.FindHotSpots(\n",
    "    point_layer = crashes,\n",
    "    out_feature_class = crashesFindHotspots100m1km,\n",
    "    bin_size = \"100 Meters\",\n",
    "    neighborhood_size = \"1 Kilometers\",\n",
    "    time_step_interval = None,\n",
    "    time_step_alignment = \"START_TIME\",\n",
    "    time_step_reference = None\n",
    ")"
   ]
  },
  {
   "cell_type": "markdown",
   "metadata": {},
   "source": [
    "Add feature class alias for the hot spots (crashes, 100m bins, 1km neighbors) feature class"
   ]
  },
  {
   "cell_type": "code",
   "execution_count": 94,
   "metadata": {},
   "outputs": [
    {
     "name": "stdout",
     "output_type": "stream",
     "text": [
      "Start Time: Monday, May 5, 2025 8:57:46 AM\n",
      "Started Spark Job 1 with 24 tasks.\n",
      "Spark Job 1 completed in 8.5 seconds.\n",
      "Started Spark Job 2 with 48 tasks.\n",
      "Spark Job 2 completed in 10.6 seconds.\n",
      "Started Spark Job 3 with 36 tasks.\n",
      "Spark Job 3 completed in 2.0 seconds.\n",
      "Succeeded at Monday, May 5, 2025 8:58:38 AM (Elapsed Time: 51.58 seconds)\n"
     ]
    }
   ],
   "source": [
    "# Define the crashes find hot spots layer alias and modify the feature class alias\n",
    "crashesFindHotspots100m1kmAlias = \"OCSWITRS Crashes Find Hot Spots 100m 1km\"\n",
    "arcpy.AlterAliasName(crashesFindHotspots100m1km, crashesFindHotspots100m1kmAlias)\n",
    "print(arcpy.GetMessages())"
   ]
  },
  {
   "cell_type": "markdown",
   "metadata": {},
   "source": [
    "Obtain the fields for the hot spots (crashes, 100m bins, 1km neighbors) feature class"
   ]
  },
  {
   "cell_type": "code",
   "execution_count": 95,
   "metadata": {},
   "outputs": [
    {
     "name": "stdout",
     "output_type": "stream",
     "text": [
      "OBJECTID (OBJECTID)\n",
      "value (value)\n",
      "GiZScore (GiZScore)\n",
      "GiPValue (GiPValue)\n",
      "Gi_Bin (Gi_Bin)\n",
      "SHAPE (SHAPE)\n",
      "SHAPE_Length (SHAPE_Length)\n",
      "SHAPE_Area (SHAPE_Area)\n"
     ]
    }
   ],
   "source": [
    "crashesFindHotspots100m1kmFields = [f.name for f in arcpy.ListFields(crashesFindHotspots100m1km)] # crashesFindHotspots100m1km field list\n",
    "\n",
    "# Field Aliases for the crashes find hot spots feature class\n",
    "for f in arcpy.ListFields(crashesFindHotspots100m1km):\n",
    "    print(f\"{f.name} ({f.aliasName})\")"
   ]
  },
  {
   "cell_type": "markdown",
   "metadata": {},
   "source": [
    "<h3 style=\"font-weight:bold; color:lime; padding-left: 50px\">Find Hot Spots (Crashes, 150m bins, 2km neighbors)</h3>"
   ]
  },
  {
   "cell_type": "markdown",
   "metadata": {},
   "source": [
    "Find hot spots for the crash collision data using 150 m bins and 2 km neighborhood radius (492 ft/ 1.24 mi)"
   ]
  },
  {
   "cell_type": "code",
   "execution_count": 96,
   "metadata": {},
   "outputs": [
    {
     "data": {
      "text/html": [
       "<div class='gpresult'><h2 class='msg-title'>Messages</h2><div id='messages'>Start Time: Monday, May 5, 2025 8:58:40 AM<br>Started Spark Job 1 with 24 tasks.<br>Spark Job 1 completed in 4.4 seconds.<br>Started Spark Job 2 with 48 tasks.<br>Spark Job 2 completed in 5.6 seconds.<br>Started Spark Job 3 with 36 tasks.<br>Spark Job 3 completed in 1.1 seconds.<br><br>Succeeded at Monday, May 5, 2025 8:58:56 AM (Elapsed Time: 16.62 seconds)<br></div><div id = 'default' /></div></div>"
      ],
      "text/plain": [
       "<Result 'c:\\\\Users\\\\ktale\\\\OneDrive\\\\Documents\\\\GitHub\\\\OCSWITRS\\\\AGPSWITRS\\\\AGPSWITRS.gdb\\\\HotSpotData\\\\crashesFindHotspots150m2km'>"
      ]
     },
     "execution_count": 96,
     "metadata": {},
     "output_type": "execute_result"
    }
   ],
   "source": [
    "# Create a path for the new crashes find hot spots feature class\n",
    "crashesFindHotspots150m2km = os.path.join(gdbHotspotData, \"crashesFindHotspots150m2km\")\n",
    "\n",
    "# Find the hot spots within the crashes data\n",
    "arcpy.gapro.FindHotSpots(\n",
    "    point_layer = crashes,\n",
    "    out_feature_class = crashesFindHotspots150m2km,\n",
    "    bin_size = \"150 Meters\",\n",
    "    neighborhood_size = \"2 Kilometers\",\n",
    "    time_step_interval = None,\n",
    "    time_step_alignment = \"START_TIME\",\n",
    "    time_step_reference = None\n",
    ")"
   ]
  },
  {
   "cell_type": "markdown",
   "metadata": {},
   "source": [
    "Add feature class alias for the hot spots (crashes, 150m bins, 2km neighbors) feature class"
   ]
  },
  {
   "cell_type": "code",
   "execution_count": 97,
   "metadata": {},
   "outputs": [
    {
     "name": "stdout",
     "output_type": "stream",
     "text": [
      "Start Time: Monday, May 5, 2025 8:58:40 AM\n",
      "Started Spark Job 1 with 24 tasks.\n",
      "Spark Job 1 completed in 4.4 seconds.\n",
      "Started Spark Job 2 with 48 tasks.\n",
      "Spark Job 2 completed in 5.6 seconds.\n",
      "Started Spark Job 3 with 36 tasks.\n",
      "Spark Job 3 completed in 1.1 seconds.\n",
      "Succeeded at Monday, May 5, 2025 8:58:56 AM (Elapsed Time: 16.62 seconds)\n"
     ]
    }
   ],
   "source": [
    "# Define the crashes find hot spots layer alias and modify the feature class alias\n",
    "crashesFindHotspots150m2kmAlias = \"OCSWITRS Crashes Find Hot Spots 150m 2km\"\n",
    "arcpy.AlterAliasName(crashesFindHotspots150m2km, crashesFindHotspots150m2kmAlias)\n",
    "print(arcpy.GetMessages())"
   ]
  },
  {
   "cell_type": "markdown",
   "metadata": {},
   "source": [
    "Obtain the fields for the hot spots (crashes, 150m bins, 2km neighbors) feature class"
   ]
  },
  {
   "cell_type": "code",
   "execution_count": 98,
   "metadata": {},
   "outputs": [
    {
     "name": "stdout",
     "output_type": "stream",
     "text": [
      "OBJECTID (OBJECTID)\n",
      "value (value)\n",
      "GiZScore (GiZScore)\n",
      "GiPValue (GiPValue)\n",
      "Gi_Bin (Gi_Bin)\n",
      "SHAPE (SHAPE)\n",
      "SHAPE_Length (SHAPE_Length)\n",
      "SHAPE_Area (SHAPE_Area)\n"
     ]
    }
   ],
   "source": [
    "crashesFindHotspots150m2kmFields = [f.name for f in arcpy.ListFields(crashesFindHotspots150m2km)] # crashesFindHotspots150m2km field list\n",
    "\n",
    "# Field Aliases for the crashes find hot spots feature class\n",
    "for f in arcpy.ListFields(crashesFindHotspots150m2km):\n",
    "    print(f\"{f.name} ({f.aliasName})\")"
   ]
  },
  {
   "cell_type": "markdown",
   "metadata": {},
   "source": [
    "<h3 style=\"font-weight:bold; color:lime; padding-left: 50px\">Find Hot Spots (Crashes, 100m bins, 5km neighbors)</h3>"
   ]
  },
  {
   "cell_type": "markdown",
   "metadata": {},
   "source": [
    "Find hot spots for the crash collision data using 100 m bins and 5 km neighborhood radius (328 ft/ 3.11 mi)"
   ]
  },
  {
   "cell_type": "code",
   "execution_count": 99,
   "metadata": {},
   "outputs": [
    {
     "data": {
      "text/html": [
       "<div class='gpresult'><h2 class='msg-title'>Messages</h2><div id='messages'>Start Time: Monday, May 5, 2025 8:58:58 AM<br>Started Spark Job 1 with 24 tasks.<br>Spark Job 1 completed in 3.8 seconds.<br>Started Spark Job 2 with 48 tasks.<br>Spark Job 2 completed in 4.8 seconds.<br>Started Spark Job 3 with 36 tasks.<br>Spark Job 3 completed in 6.4 seconds.<br><br>Succeeded at Monday, May 5, 2025 8:59:20 AM (Elapsed Time: 21.46 seconds)<br></div><div id = 'default' /></div></div>"
      ],
      "text/plain": [
       "<Result 'c:\\\\Users\\\\ktale\\\\OneDrive\\\\Documents\\\\GitHub\\\\OCSWITRS\\\\AGPSWITRS\\\\AGPSWITRS.gdb\\\\HotSpotData\\\\crashesFindHotspots100m5km'>"
      ]
     },
     "execution_count": 99,
     "metadata": {},
     "output_type": "execute_result"
    }
   ],
   "source": [
    "# Create a path for the new crashes find hot spots feature class\n",
    "crashesFindHotspots100m5km = os.path.join(gdbHotspotData, \"crashesFindHotspots100m5km\")\n",
    "\n",
    "# Find the hot spots within the crashes data\n",
    "arcpy.gapro.FindHotSpots(\n",
    "    point_layer = crashes,\n",
    "    out_feature_class = crashesFindHotspots100m5km,\n",
    "    bin_size = \"100 Meters\",\n",
    "    neighborhood_size = \"5 Kilometers\",\n",
    "    time_step_interval = None,\n",
    "    time_step_alignment = \"START_TIME\",\n",
    "    time_step_reference = None\n",
    ")"
   ]
  },
  {
   "cell_type": "markdown",
   "metadata": {},
   "source": [
    "Add feature class alias for the hot spots (crashes, 100m bins, 5km neighbors) feature class"
   ]
  },
  {
   "cell_type": "code",
   "execution_count": 100,
   "metadata": {},
   "outputs": [
    {
     "name": "stdout",
     "output_type": "stream",
     "text": [
      "Start Time: Monday, May 5, 2025 8:58:58 AM\n",
      "Started Spark Job 1 with 24 tasks.\n",
      "Spark Job 1 completed in 3.8 seconds.\n",
      "Started Spark Job 2 with 48 tasks.\n",
      "Spark Job 2 completed in 4.8 seconds.\n",
      "Started Spark Job 3 with 36 tasks.\n",
      "Spark Job 3 completed in 6.4 seconds.\n",
      "Succeeded at Monday, May 5, 2025 8:59:20 AM (Elapsed Time: 21.46 seconds)\n"
     ]
    }
   ],
   "source": [
    "# Define the crashes find hot spots layer alias and modify the feature class alias\n",
    "crashesFindHotspots100m5kmAlias = \"OCSWITRS Crashes Find Hot Spots 100m 5km\"\n",
    "arcpy.AlterAliasName(crashesFindHotspots100m5km, crashesFindHotspots100m5kmAlias)\n",
    "print(arcpy.GetMessages())"
   ]
  },
  {
   "cell_type": "markdown",
   "metadata": {},
   "source": [
    "Obtain the fields for the hot spots (crashes, 100m bins, 5km neighbors) feature class"
   ]
  },
  {
   "cell_type": "code",
   "execution_count": 101,
   "metadata": {},
   "outputs": [
    {
     "name": "stdout",
     "output_type": "stream",
     "text": [
      "OBJECTID (OBJECTID)\n",
      "value (value)\n",
      "GiZScore (GiZScore)\n",
      "GiPValue (GiPValue)\n",
      "Gi_Bin (Gi_Bin)\n",
      "SHAPE (SHAPE)\n",
      "SHAPE_Length (SHAPE_Length)\n",
      "SHAPE_Area (SHAPE_Area)\n"
     ]
    }
   ],
   "source": [
    "crashesFindHotspots100m5kmFields = [f.name for f in arcpy.ListFields(crashesFindHotspots100m5km)] # crashesFindHotspots100m5km field list\n",
    "\n",
    "# Field Aliases for the crashes find hot spots feature class\n",
    "for f in arcpy.ListFields(crashesFindHotspots100m5km):\n",
    "    print(f\"{f.name} ({f.aliasName})\")"
   ]
  },
  {
   "cell_type": "markdown",
   "metadata": {},
   "source": [
    "<h3 style=\"font-weight:bold; color:lime; padding-left: 50px\">Hot Spots (Proximity to Major Roads, 500ft)</h3>"
   ]
  },
  {
   "cell_type": "markdown",
   "metadata": {},
   "source": [
    "Hot spot points within 500 feet of major roads"
   ]
  },
  {
   "cell_type": "code",
   "execution_count": 102,
   "metadata": {},
   "outputs": [
    {
     "data": {
      "text/html": [
       "<div class='gpresult'><h2 class='msg-title'>Messages</h2><div id='messages'>Start Time: Monday, May 5, 2025 8:59:22 AM<br>WARNING 000853: The default neighborhood search threshold was 872.0926 meters.<br>WARNING 001420: The number of neighbors for at least one feature exceeds 1000, you may want to change your conceptualization of spatial relationships to avoid the potential of running out of memory.<br>WARNING 001422: Features with number of neighbors exceeding warning value (only includes first 30): OBJECTID = 133, 146, 303, 309, 430, 442, 500, 529, 534, 584, 694, 796, 849, 861, 889, 945, 1012, 1200, 1224, 1231, 1322, 1353, 1356, 1418, 1460, 1465, 1467, 1494, 1500, 1514.<br>Succeeded at Monday, May 5, 2025 8:59:49 AM (Elapsed Time: 27.19 seconds)<br></div><div id = 'default' /></div></div>"
      ],
      "text/plain": [
       "<Result 'c:\\\\Users\\\\ktale\\\\OneDrive\\\\Documents\\\\GitHub\\\\OCSWITRS\\\\AGPSWITRS\\\\AGPSWITRS.gdb\\\\HotSpotData\\\\crashesHotspots500ftFromMajorRoads'>"
      ]
     },
     "execution_count": 102,
     "metadata": {},
     "output_type": "execute_result"
    }
   ],
   "source": [
    "# Create a path for the new hot spots within 500 mt from major roads feature class\n",
    "crashesHotspots500ftFromMajorRoads = os.path.join(gdbHotspotData, \"crashesHotspots500ftFromMajorRoads\")\n",
    "\n",
    "arcpy.stats.HotSpots(\n",
    "    Input_Feature_Class = crashes500ftFromMajorRoads,\n",
    "    Input_Field=\"collSeverityNum\",\n",
    "    Output_Feature_Class = crashesHotspots500ftFromMajorRoads,\n",
    "    Conceptualization_of_Spatial_Relationships = \"FIXED_DISTANCE_BAND\",\n",
    "    Distance_Method = \"EUCLIDEAN_DISTANCE\",\n",
    "    Standardization = \"ROW\",\n",
    "    Distance_Band_or_Threshold_Distance = None,\n",
    "    Self_Potential_Field = None,\n",
    "    Weights_Matrix_File = None,\n",
    "    Apply_False_Discovery_Rate__FDR__Correction = \"NO_FDR\",\n",
    "    number_of_neighbors = None\n",
    ")"
   ]
  },
  {
   "cell_type": "markdown",
   "metadata": {},
   "source": [
    "Add feature class alias for the hot spots (proximity to major roads, 500ft) feature class"
   ]
  },
  {
   "cell_type": "code",
   "execution_count": 103,
   "metadata": {},
   "outputs": [
    {
     "name": "stdout",
     "output_type": "stream",
     "text": [
      "Start Time: Monday, May 5, 2025 8:59:22 AM\n",
      "WARNING 000853: The default neighborhood search threshold was 872.0926 meters.\n",
      "WARNING 001420: The number of neighbors for at least one feature exceeds 1000, you may want to change your conceptualization of spatial relationships to avoid the potential of running out of memory.\n",
      "WARNING 001422: Features with number of neighbors exceeding warning value (only includes first 30): OBJECTID = 133, 146, 303, 309, 430, 442, 500, 529, 534, 584, 694, 796, 849, 861, 889, 945, 1012, 1200, 1224, 1231, 1322, 1353, 1356, 1418, 1460, 1465, 1467, 1494, 1500, 1514.\n",
      "Succeeded at Monday, May 5, 2025 8:59:49 AM (Elapsed Time: 27.19 seconds)\n"
     ]
    }
   ],
   "source": [
    "# Define the crashes hot spots 500 feet from major roads layer alias and modify the feature class alias\n",
    "crashesHotspots500ftFromMajorRoadsAlias = \"OCSWITRS Crashes Hot Spots 500 Feet from Major Roads\"\n",
    "arcpy.AlterAliasName(crashesHotspots500ftFromMajorRoads, crashesHotspots500ftFromMajorRoadsAlias)\n",
    "print(arcpy.GetMessages())"
   ]
  },
  {
   "cell_type": "markdown",
   "metadata": {},
   "source": [
    "Obtain the fields for the hot spots (proximity to major roads, 500ft) feature class"
   ]
  },
  {
   "cell_type": "code",
   "execution_count": 104,
   "metadata": {},
   "outputs": [
    {
     "name": "stdout",
     "output_type": "stream",
     "text": [
      "OBJECTID (OBJECTID)\n",
      "Shape (Shape)\n",
      "SOURCE_ID (SOURCE_ID)\n",
      "collSeverityNum (Collision Severity Numeric)\n",
      "GiZScore (GiZScore Fixed 872)\n",
      "GiPValue (GiPValue Fixed 872)\n",
      "NNeighbors (NNeighbors Fixed 872)\n",
      "Gi_Bin (Gi_Bin Fixed 872)\n"
     ]
    }
   ],
   "source": [
    "crashesHotspots500ftFromMajorRoadsFields = [f.name for f in arcpy.ListFields(crashesHotspots500ftFromMajorRoads)] # crashesHotspots500ftFromMajorRoads field list\n",
    "\n",
    "# Field Aliases for the crashes hot spots 500 feet from major roads feature class\n",
    "for f in arcpy.ListFields(crashesHotspots500ftFromMajorRoads):\n",
    "    print(f\"{f.name} ({f.aliasName})\")"
   ]
  },
  {
   "cell_type": "markdown",
   "metadata": {},
   "source": [
    "<h3 style=\"font-weight:bold; color:lime; padding-left: 50px\">Find Hot Spots (Proximity to Major Roads, 500ft)</h3>"
   ]
  },
  {
   "cell_type": "markdown",
   "metadata": {},
   "source": [
    "Find hot spots within 500 feet from major roads"
   ]
  },
  {
   "cell_type": "code",
   "execution_count": 105,
   "metadata": {},
   "outputs": [
    {
     "data": {
      "text/html": [
       "<div class='gpresult'><h2 class='msg-title'>Messages</h2><div id='messages'>Start Time: Monday, May 5, 2025 8:59:51 AM<br>Started Spark Job 1 with 24 tasks.<br>Spark Job 1 completed in 1.9 seconds.<br>Started Spark Job 2 with 48 tasks.<br>Spark Job 2 completed in 2.3 seconds.<br>Started Spark Job 3 with 36 tasks.<br>Spark Job 3 completed in 0.3 seconds.<br><br>Succeeded at Monday, May 5, 2025 9:00:01 AM (Elapsed Time: 10.51 seconds)<br></div><div id = 'default' /></div></div>"
      ],
      "text/plain": [
       "<Result 'c:\\\\Users\\\\ktale\\\\OneDrive\\\\Documents\\\\GitHub\\\\OCSWITRS\\\\AGPSWITRS\\\\AGPSWITRS.gdb\\\\HotSpotData\\\\crashesFindHotspots500ftMajorRoads500ft1mi'>"
      ]
     },
     "execution_count": 105,
     "metadata": {},
     "output_type": "execute_result"
    }
   ],
   "source": [
    "# Create a path for the new hot spots within 500 ft from major roads feature class\n",
    "crashesFindHotspots500ftMajorRoads500ft1mi = os.path.join(gdbHotspotData, \"crashesFindHotspots500ftMajorRoads500ft1mi\")\n",
    "\n",
    "arcpy.gapro.FindHotSpots(\n",
    "    point_layer = crashes500ftFromMajorRoads,\n",
    "    out_feature_class = crashesFindHotspots500ftMajorRoads500ft1mi,\n",
    "    bin_size=\"500 Feet\",\n",
    "    neighborhood_size = \"1 Miles\",\n",
    "    time_step_interval = None,\n",
    "    time_step_alignment = \"START_TIME\",\n",
    "    time_step_reference=None\n",
    ")"
   ]
  },
  {
   "cell_type": "markdown",
   "metadata": {},
   "source": [
    "Add feature class alias for the hot spots (proximity to major roads, 500ft) feature class"
   ]
  },
  {
   "cell_type": "code",
   "execution_count": 106,
   "metadata": {},
   "outputs": [
    {
     "name": "stdout",
     "output_type": "stream",
     "text": [
      "Start Time: Monday, May 5, 2025 8:59:51 AM\n",
      "Started Spark Job 1 with 24 tasks.\n",
      "Spark Job 1 completed in 1.9 seconds.\n",
      "Started Spark Job 2 with 48 tasks.\n",
      "Spark Job 2 completed in 2.3 seconds.\n",
      "Started Spark Job 3 with 36 tasks.\n",
      "Spark Job 3 completed in 0.3 seconds.\n",
      "Succeeded at Monday, May 5, 2025 9:00:01 AM (Elapsed Time: 10.51 seconds)\n"
     ]
    }
   ],
   "source": [
    "# Define the crashes find hot spots 500 feet from major roads layer alias and modify the feature class alias\n",
    "crashesFindHotspots500ftMajorRoads500ft1miAlias = \"OCSWITRS Crashes Find Hot Spots 500 Feet from Major Roads 500ft 1mi\"\n",
    "arcpy.AlterAliasName(crashesFindHotspots500ftMajorRoads500ft1mi, crashesFindHotspots500ftMajorRoads500ft1miAlias)\n",
    "print(arcpy.GetMessages())"
   ]
  },
  {
   "cell_type": "markdown",
   "metadata": {},
   "source": [
    "Obtain the fields for the hot spots (proximity to major roads, 500ft) feature class"
   ]
  },
  {
   "cell_type": "code",
   "execution_count": 107,
   "metadata": {},
   "outputs": [
    {
     "name": "stdout",
     "output_type": "stream",
     "text": [
      "OBJECTID (OBJECTID)\n",
      "value (value)\n",
      "GiZScore (GiZScore)\n",
      "GiPValue (GiPValue)\n",
      "Gi_Bin (Gi_Bin)\n",
      "SHAPE (SHAPE)\n",
      "SHAPE_Length (SHAPE_Length)\n",
      "SHAPE_Area (SHAPE_Area)\n"
     ]
    }
   ],
   "source": [
    "crashesFindHotspots500ftMajorRoads500ft1miFields = [f.name for f in arcpy.ListFields(crashesFindHotspots500ftMajorRoads500ft1mi)] # crashesFindHotspots500ftMajorRoads500ft1mi field list\n",
    "\n",
    "# Field Aliases for the crashes find hot spots 500 feet from major roads feature class\n",
    "for f in arcpy.ListFields(crashesFindHotspots500ftMajorRoads500ft1mi):\n",
    "    print(f\"{f.name} ({f.aliasName})\")"
   ]
  },
  {
   "cell_type": "markdown",
   "metadata": {},
   "source": [
    "<h1 style=\"font-weight:bold; color:orangered; border-bottom: 2px solid orangered\">3. Feature Class Metadata Processing</h1>"
   ]
  },
  {
   "cell_type": "markdown",
   "metadata": {},
   "source": [
    "<h2 style=\"font-weight:bold; color:dodgerblue; border-bottom: 1px solid dodgerblue; padding-left: 25px\">3.1. Collisions Metadata</h2>"
   ]
  },
  {
   "cell_type": "markdown",
   "metadata": {},
   "source": [
    "Create a new metadata object for the collisions feature class"
   ]
  },
  {
   "cell_type": "code",
   "execution_count": 108,
   "metadata": {},
   "outputs": [],
   "source": [
    "# Define key metadata attributes for the Collisions feature class\n",
    "mdoCollisions = md.Metadata()\n",
    "mdoCollisions.title = \"OCSWITRS Combined Collisions Points\"\n",
    "mdoCollisions.tags = \"Orange County, California, Traffic, Traffic Conditions, Crashes, Collisions, Road Safety, Accidents, SWITRS, OCSWITRS, Transportation\"\n",
    "mdoCollisions.summary = f\"Statewide Integrated Traffic Records System (SWITRS) Combined Collisions Data for Orange County, California ({mdYears})\"\n",
    "mdoCollisions.description = f\"\"\"<div style=\"text-align:Left;\"><div><div><p><span style=\"font-weight:bold;\">Statewide Integrated Traffic Records System (SWITRS)</span><span> location point data, containing </span><span style=\"font-weight:bold;\">combined reports on collision crashes, parties, and victims</span><span> in Orange County, California for {mdYears} ({mdDates}). The data are collected and maintained by the </span><a href=\"https://www.chp.ca.gov:443/\" style=\"text-decoration:underline;\"><span>California Highway Patrol (CHP)</span></a><span>, from incidents reported by local and government agencies. Original tabular datasets are provided by the </span><a href=\"https://tims.berkeley.edu:443/\" style=\"text-decoration:underline;\"><span>Transportation Injury Mapping System (TIMS)</span></a><span>. Only records with reported locational GPS attributes in Orange County are included in the spatial database (either from X and Y geocoded coordinates, or the longitude and latitude coordinates generated by the CHP officer on site). Incidents without valid coordinates are omitted from this spatial dataset representation. Last Updated on <b>{dateUpdated}</b></span></p></div></div></div>\"\"\"\n",
    "mdoCollisions.credits = \"Dr. Kostas Alexandridis, GISP, Data Scientist, OC Public Works, OC Survey Geospatial Services\"\n",
    "mdoCollisions.accessConstraints = \"\"\"<div style=\"text-align:Left;\"><p><span>The SWITRS data displayed are provided by the California Highway Patrol (CHP) reports through the Transportation Injury Mapping System (TIMS) of the University of California, Berkeley. Issues of report accuracy should be addressed to CHP.</span></p><p>The displayed mapped data can be used under a <a href=\"https://creativecommons.org/licenses/by-sa/3.0/\" target=\"_blank\">Creative Commons CC-SA-BY</a> License, providing attribution to TIMS, CHP, and OC Public Works, OC Survey Geospatial Services. </p><div>We make every effort to provide the most accurate and up-to-date data and information. Nevertheless, the data feed is provided, 'as is' and OC Public Work's standard <a href=\"https://www.ocgov.com/contact-county/disclaimer\" target=\"_blank\">Disclaimer</a> applies.<br /></div><div><br /></div><div>For any inquiries, suggestions or questions, please contact:</div><div><br /></div><div style=\"text-align:center;\"><a href=\"https://www.linkedin.com/in/ktalexan/\" target=\"_blank\"><b>Dr. Kostas Alexandridis, GISP</b></a><br /></div><div style=\"text-align:center;\">GIS Analyst | Spatial Complex Systems Scientist</div><div style=\"text-align:center;\">OC Public Works/OC Survey Geospatial Applications</div><div style=\"text-align:center;\"><div>601 N. Ross Street, P.O. Box 4048, Santa Ana, CA 92701</div><div>Email: <a href=\"mailto:kostas.alexandridis@ocpw.ocgov.com\" target=\"_blank\">kostas.alexandridis@ocpw.ocgov.com</a> | Phone: (714) 967-0826</div><div><br /></div></div></div>\"\"\"\n",
    "mdoCollisions.thumbnailUri = \"https://ocpw.maps.arcgis.com/sharing/rest/content/items/6b96b7d6d5394cbb95aa2fae390503a9/data\""
   ]
  },
  {
   "cell_type": "markdown",
   "metadata": {},
   "source": [
    "Assign the collisions metadata object to the collisions feature class"
   ]
  },
  {
   "cell_type": "code",
   "execution_count": 109,
   "metadata": {},
   "outputs": [
    {
     "name": "stdout",
     "output_type": "stream",
     "text": [
      "Metadata updated for OCSWITRS Collisions feature class.\n"
     ]
    }
   ],
   "source": [
    "# Apply the metadata object to the collisions feature class\n",
    "mdCollisions = md.Metadata(collisions)\n",
    "if not mdCollisions.isReadOnly:\n",
    "    mdCollisions.copy(mdoCollisions)\n",
    "    mdCollisions.save()\n",
    "    print(f\"Metadata updated for {collisionsAlias} feature class.\")"
   ]
  },
  {
   "cell_type": "markdown",
   "metadata": {},
   "source": [
    "<h2 style=\"font-weight:bold; color:dodgerblue; border-bottom: 1px solid dodgerblue; padding-left: 25px\">3.2. Crashes Metadata</h2>"
   ]
  },
  {
   "cell_type": "markdown",
   "metadata": {},
   "source": [
    "Create a new metadata object for the crashes feature class"
   ]
  },
  {
   "cell_type": "code",
   "execution_count": 110,
   "metadata": {},
   "outputs": [],
   "source": [
    "# Define key metadata attributes for the Crashes feature class\n",
    "mdoCrashes = md.Metadata()\n",
    "mdoCrashes.title = \"OCSWITRS Crashes Points\"\n",
    "mdoCrashes.tags = \"Orange County, California, Traffic, Traffic Conditions, Crashes, Collisions, Road Safety, Accidents, SWITRS, OCSWITRS, Transportation\"\n",
    "mdoCrashes.summary = f\"Statewide Integrated Traffic Records System (SWITRS) Crash Data for Orange County, California ({mdYears})\"\n",
    "mdoCrashes.description = f\"\"\"<div style=\"text-align:Left;\"><div><div><p><span style=\"font-weight:bold;\">Statewide Integrated Traffic Records System (SWITRS)</span><span> location point data, containing </span><span style=\"font-weight:bold;\">reports on crashes</span><span> in Orange County, California for {mdYears} ({mdDates}). The data are collected and maintained by the </span><a href=\"https://www.chp.ca.gov:443/\" style=\"text-decoration:underline;\"><span>California Highway Patrol (CHP)</span></a><span>, from incidents reported by local and government agencies. Original tabular datasets are provided by the </span><a href=\"https://tims.berkeley.edu:443/\" style=\"text-decoration:underline;\"><span>Transportation Injury Mapping System (TIMS)</span></a><span>. Only records with reported locational GPS attributes in Orange County are included in the spatial database (either from X and Y geocoded coordinates, or the longitude and latitude coordinates generated by the CHP officer on site). Incidents without valid coordinates are omitted from this spatial dataset representation. Last Updated on <b>{dateUpdated}</b></span></p></div></div></div>\"\"\"\n",
    "mdoCrashes.credits = \"Dr. Kostas Alexandridis, GISP, Data Scientist, OC Public Works, OC Survey Geospatial Services\"\n",
    "mdoCrashes.accessConstraints = \"\"\"<div style=\"text-align:Left;\"><p><span>The SWITRS data displayed are provided by the California Highway Patrol (CHP) reports through the Transportation Injury Mapping System (TIMS) of the University of California, Berkeley. Issues of report accuracy should be addressed to CHP.</span></p><p>The displayed mapped data can be used under a <a href=\"https://creativecommons.org/licenses/by-sa/3.0/\" target=\"_blank\">Creative Commons CC-SA-BY</a> License, providing attribution to TIMS, CHP, and OC Public Works, OC Survey Geospatial Services. </p><div>We make every effort to provide the most accurate and up-to-date data and information. Nevertheless, the data feed is provided, 'as is' and OC Public Work's standard <a href=\"https://www.ocgov.com/contact-county/disclaimer\" target=\"_blank\">Disclaimer</a> applies.<br /></div><div><br /></div><div>For any inquiries, suggestions or questions, please contact:</div><div><br /></div><div style=\"text-align:center;\"><a href=\"https://www.linkedin.com/in/ktalexan/\" target=\"_blank\"><b>Dr. Kostas Alexandridis, GISP</b></a><br /></div><div style=\"text-align:center;\">GIS Analyst | Spatial Complex Systems Scientist</div><div style=\"text-align:center;\">OC Public Works/OC Survey Geospatial Applications</div><div style=\"text-align:center;\"><div>601 N. Ross Street, P.O. Box 4048, Santa Ana, CA 92701</div><div>Email: <a href=\"mailto:kostas.alexandridis@ocpw.ocgov.com\" target=\"_blank\">kostas.alexandridis@ocpw.ocgov.com</a> | Phone: (714) 967-0826</div><div><br /></div></div></div>\"\"\"\n",
    "mdoCrashes.thumbnailUri = \"https://ocpw.maps.arcgis.com/sharing/rest/content/items/6b96b7d6d5394cbb95aa2fae390503a9/data\""
   ]
  },
  {
   "cell_type": "markdown",
   "metadata": {},
   "source": [
    "Assign the crashes metadata object to the crashes feature class"
   ]
  },
  {
   "cell_type": "code",
   "execution_count": 111,
   "metadata": {},
   "outputs": [
    {
     "name": "stdout",
     "output_type": "stream",
     "text": [
      "Metadata updated for OCSWITRS Crashes feature class.\n"
     ]
    }
   ],
   "source": [
    "# Apply the metadata object to the crashes feature class\n",
    "mdCrashes = md.Metadata(crashes)\n",
    "if not mdCrashes.isReadOnly:\n",
    "    mdCrashes.copy(mdoCrashes)\n",
    "    mdCrashes.save()\n",
    "    print(f\"Metadata updated for {crashesAlias} feature class.\")"
   ]
  },
  {
   "cell_type": "markdown",
   "metadata": {},
   "source": [
    "<h2 style=\"font-weight:bold; color:dodgerblue; border-bottom: 1px solid dodgerblue; padding-left: 25px\">3.3. Parties Metadata</h2>"
   ]
  },
  {
   "cell_type": "markdown",
   "metadata": {},
   "source": [
    "Create a new metadata object for the parties feature class"
   ]
  },
  {
   "cell_type": "code",
   "execution_count": 112,
   "metadata": {},
   "outputs": [],
   "source": [
    "# Define key metadata attributes for the Parties feature class\n",
    "mdoParties = md.Metadata()\n",
    "mdoParties.title = \"OCSWITRS Parties Points\"\n",
    "mdoParties.tags = \"Orange County, California, Traffic, Traffic Conditions, Crashes, Parties, Collisions, Road Safety, Accidents, SWITRS, OCSWITRS, Transportation\"\n",
    "mdoParties.summary = f\"Statewide Integrated Traffic Records System (SWITRS) Incident-Involved Parties Data for Orange County, California ({mdYears})\"\n",
    "mdoParties.description = f\"\"\"<div style=\"text-align:Left;\"><div><div><p><span style=\"font-weight:bold;\">Statewide Integrated Traffic Records System (SWITRS)</span><span> location point data, containing </span><span style=\"font-weight:bold;\">reports on parties involved in crash incidents</span><span> in Orange County, California for {mdYears} ({mdDates}). The data are collected and maintained by the </span><a href=\"https://www.chp.ca.gov:443/\" style=\"text-decoration:underline;\"><span>California Highway Patrol (CHP)</span></a><span>, from incidents reported by local and government agencies. Original tabular datasets are provided by the </span><a href=\"https://tims.berkeley.edu:443/\" style=\"text-decoration:underline;\"><span>Transportation Injury Mapping System (TIMS)</span></a><span>. Only records with reported locational GPS attributes in Orange County are included in the spatial database (either from X and Y geocoded coordinates, or the longitude and latitude coordinates generated by the CHP officer on site). Incidents without valid coordinates are omitted from this spatial dataset representation. Last Updated on <b>{dateUpdated}</b></span></p></div></div></div>\"\"\"\n",
    "mdoParties.credits = \"Dr. Kostas Alexandridis, GISP, Data Scientist, OC Public Works, OC Survey Geospatial Services\"\n",
    "mdoParties.accessConstraints = \"\"\"<div style=\"text-align:Left;\"><p><span>The SWITRS data displayed are provided by the California Highway Patrol (CHP) reports through the Transportation Injury Mapping System (TIMS) of the University of California, Berkeley. Issues of report accuracy should be addressed to CHP.</span></p><p>The displayed mapped data can be used under a <a href=\"https://creativecommons.org/licenses/by-sa/3.0/\" target=\"_blank\">Creative Commons CC-SA-BY</a> License, providing attribution to TIMS, CHP, and OC Public Works, OC Survey Geospatial Services. </p><div>We make every effort to provide the most accurate and up-to-date data and information. Nevertheless, the data feed is provided, 'as is' and OC Public Work's standard <a href=\"https://www.ocgov.com/contact-county/disclaimer\" target=\"_blank\">Disclaimer</a> applies.<br /></div><div><br /></div><div>For any inquiries, suggestions or questions, please contact:</div><div><br /></div><div style=\"text-align:center;\"><a href=\"https://www.linkedin.com/in/ktalexan/\" target=\"_blank\"><b>Dr. Kostas Alexandridis, GISP</b></a><br /></div><div style=\"text-align:center;\">GIS Analyst | Spatial Complex Systems Scientist</div><div style=\"text-align:center;\">OC Public Works/OC Survey Geospatial Applications</div><div style=\"text-align:center;\"><div>601 N. Ross Street, P.O. Box 4048, Santa Ana, CA 92701</div><div>Email: <a href=\"mailto:kostas.alexandridis@ocpw.ocgov.com\" target=\"_blank\">kostas.alexandridis@ocpw.ocgov.com</a> | Phone: (714) 967-0826</div><div><br /></div></div></div>\"\"\"\n",
    "mdoParties.thumbnailUri = \"https://ocpw.maps.arcgis.com/sharing/rest/content/items/1e07bb1002f9457fa6fd3540fdb08e29/data\""
   ]
  },
  {
   "cell_type": "markdown",
   "metadata": {},
   "source": [
    "Assign the parties metadata object to the parties feature class"
   ]
  },
  {
   "cell_type": "code",
   "execution_count": 113,
   "metadata": {},
   "outputs": [
    {
     "name": "stdout",
     "output_type": "stream",
     "text": [
      "Metadata updated for OCSWITRS Parties feature class.\n"
     ]
    }
   ],
   "source": [
    "# Apply the metadata object to the parties feature class\n",
    "mdParties = md.Metadata(parties)\n",
    "if not mdParties.isReadOnly:\n",
    "    mdParties.copy(mdoParties)\n",
    "    mdParties.save()\n",
    "    print(f\"Metadata updated for {partiesAlias} feature class.\")"
   ]
  },
  {
   "cell_type": "markdown",
   "metadata": {},
   "source": [
    "<h2 style=\"font-weight:bold; color:dodgerblue; border-bottom: 1px solid dodgerblue; padding-left: 25px\">3.4. Victims Metadata</h2>"
   ]
  },
  {
   "cell_type": "markdown",
   "metadata": {},
   "source": [
    "Create a new metadata object for the victims feature class"
   ]
  },
  {
   "cell_type": "code",
   "execution_count": 114,
   "metadata": {},
   "outputs": [],
   "source": [
    "# Define key metadata attributes for the Victims feature class\n",
    "mdoVictims = md.Metadata()\n",
    "mdoVictims.title = \"OCSWITRS Victims Points\"\n",
    "mdoVictims.tags = \"Orange County, California, Traffic, Traffic Conditions, Crashes, Victims, Collisions, Road Safety, Accidents, SWITRS, OCSWITRS, Transportation\"\n",
    "mdoVictims.summary = f\"Statewide Integrated Traffic Records System (SWITRS) Incident-Involved Victims Data for Orange County, California ({mdYears})\"\n",
    "mdoVictims.description = f\"\"\"<div style=\"text-align:Left;\"><div><div><p><span style=\"font-weight:bold;\">Statewide Integrated Traffic Records System (SWITRS)</span><span> location point data, containing </span><span style=\"font-weight:bold;\">reports on victims/persons involved in crash incidents</span><span> in Orange County, California for {mdYears} ({mdDates}). The data are collected and maintained by the </span><a href=\"https://www.chp.ca.gov:443/\" style=\"text-decoration:underline;\"><span>California Highway Patrol (CHP)</span></a><span>, from incidents reported by local and government agencies. Original tabular datasets are provided by the </span><a href=\"https://tims.berkeley.edu:443/\" style=\"text-decoration:underline;\"><span>Transportation Injury Mapping System (TIMS)</span></a><span>. Only records with reported locational GPS attributes in Orange County are included in the spatial database (either from X and Y geocoded coordinates, or the longitude and latitude coordinates generated by the CHP officer on site). Incidents without valid coordinates are omitted from this spatial dataset representation. Last Updated on <b>{dateUpdated}</b></span></p></div></div></div>\"\"\"\n",
    "mdoVictims.credits = \"Dr. Kostas Alexandridis, GISP, Data Scientist, OC Public Works, OC Survey Geospatial Services\"\n",
    "mdoVictims.accessConstraints = \"\"\"<div style=\"text-align:Left;\"><p><span>The SWITRS data displayed are provided by the California Highway Patrol (CHP) reports through the Transportation Injury Mapping System (TIMS) of the University of California, Berkeley. Issues of report accuracy should be addressed to CHP.</span></p><p>The displayed mapped data can be used under a <a href=\"https://creativecommons.org/licenses/by-sa/3.0/\" target=\"_blank\">Creative Commons CC-SA-BY</a> License, providing attribution to TIMS, CHP, and OC Public Works, OC Survey Geospatial Services. </p><div>We make every effort to provide the most accurate and up-to-date data and information. Nevertheless, the data feed is provided, 'as is' and OC Public Work's standard <a href=\"https://www.ocgov.com/contact-county/disclaimer\" target=\"_blank\">Disclaimer</a> applies.<br /></div><div><br /></div><div>For any inquiries, suggestions or questions, please contact:</div><div><br /></div><div style=\"text-align:center;\"><a href=\"https://www.linkedin.com/in/ktalexan/\" target=\"_blank\"><b>Dr. Kostas Alexandridis, GISP</b></a><br /></div><div style=\"text-align:center;\">GIS Analyst | Spatial Complex Systems Scientist</div><div style=\"text-align:center;\">OC Public Works/OC Survey Geospatial Applications</div><div style=\"text-align:center;\"><div>601 N. Ross Street, P.O. Box 4048, Santa Ana, CA 92701</div><div>Email: <a href=\"mailto:kostas.alexandridis@ocpw.ocgov.com\" target=\"_blank\">kostas.alexandridis@ocpw.ocgov.com</a> | Phone: (714) 967-0826</div><div><br /></div></div></div>\"\"\"\n",
    "mdoVictims.thumbnailUri = \"https://ocpw.maps.arcgis.com/sharing/rest/content/items/78682395df4744009c58625f1db0c25b/data\""
   ]
  },
  {
   "cell_type": "markdown",
   "metadata": {},
   "source": [
    "Assign the victims metadata object to the victims feature class"
   ]
  },
  {
   "cell_type": "code",
   "execution_count": 115,
   "metadata": {},
   "outputs": [
    {
     "name": "stdout",
     "output_type": "stream",
     "text": [
      "Metadata updated for OCSWITRS Victims feature class.\n"
     ]
    }
   ],
   "source": [
    "# Apply the metadata object to the victims feature class\n",
    "mdVictims = md.Metadata(victims)\n",
    "if not mdVictims.isReadOnly:\n",
    "    mdVictims.copy(mdoVictims)\n",
    "    mdVictims.save()\n",
    "    print(f\"Metadata updated for {victimsAlias} feature class.\")"
   ]
  },
  {
   "cell_type": "markdown",
   "metadata": {},
   "source": [
    "<h2 style=\"font-weight:bold; color:dodgerblue; border-bottom: 1px solid dodgerblue; padding-left: 25px\">3.5. Roads Metadata</h2>"
   ]
  },
  {
   "cell_type": "markdown",
   "metadata": {},
   "source": [
    "Create a new metadata object for the roads feature class"
   ]
  },
  {
   "cell_type": "code",
   "execution_count": 116,
   "metadata": {},
   "outputs": [],
   "source": [
    "# Define key metadata attributes for the Roads feature class\n",
    "mdoRoads = md.Metadata()\n",
    "mdoRoads.title = \"OCSWITRS Roads Network\"\n",
    "mdoRoads.tags = \"Orange County, California, Roads, Traffic, Road Safety, Transportation, Collisions, Crashes, SWITRS, OCSWITRS\"\n",
    "mdoRoads.summary = \"All roads for Orange County, California (Primary roads and highways, secondary roads, and local roads)\"\n",
    "mdoRoads.description = \"\"\"<div style=\"text-align:Left;\"><div><div><p><span>The Orange County Roads Network is a comprehensive representation of all roads in the area, including primary roads and highways, secondary roads, and local roads. The data are sourced from the Orange County Department of Public Works and are updated regularly to reflect the most current road network configuration.</span></p></div></div></div>\"\"\"\n",
    "mdoRoads.credits = \"Dr. Kostas Alexandridis, GISP, Data Scientist, OC Public Works, OC Survey Geospatial Services\"\n",
    "mdoRoads.accessConstraints = \"\"\"<div style=\"text-align:Left;\"><div><div><p><span>The feed data and associated resources (maps, apps, endpoints) can be used under a <a href=\"https://creativecommons.org/licenses/by-sa/3.0/\" target=\"_blank\">Creative Commons CC-SA-BY</a> License, providing attribution to OC Public Works, OC Survey Geospatial Services. </p><div>We make every effort to provide the most accurate and up-to-date data and information. Nevertheless, the data feed is provided, 'as is' and OC Public Work's standard <a href=\"https://www.ocgov.com/contact-county/disclaimer\" target=\"_blank\">Disclaimer</a> applies.<br /></div><div><br /></div><div>For any inquiries, suggestions or questions, please contact:</div><div><br /></div><div style=\"text-align:center;\"><a href=\"https://www.linkedin.com/in/ktalexan/\" target=\"_blank\"><b>Dr. Kostas Alexandridis, GISP</b></a><br /></div><div style=\"text-align:center;\">GIS Analyst | Spatial Complex Systems Scientist</div><div style=\"text-align:center;\">OC Public Works/OC Survey Geospatial Applications</div><div style=\"text-align:center;\"><div>601 N. Ross Street, P.O. Box 4048, Santa Ana, CA 92701</div><div>Email: <a href=\"mailto:kostas.alexandridis@ocpw.ocgov.com\" target=\"_blank\">kostas.alexandridis@ocpw.ocgov.com</a> | Phone: (714) 967-0826</div><div><br /></div></div></div>\"\"\"\n",
    "mdoRoads.thumbnailUri = \"https://ocpw.maps.arcgis.com/sharing/rest/content/items/76f6fbe9acbb482c9684307854d6352b/data\""
   ]
  },
  {
   "cell_type": "markdown",
   "metadata": {},
   "source": [
    "Assign the roads metadata object to the roads feature class"
   ]
  },
  {
   "cell_type": "code",
   "execution_count": 117,
   "metadata": {},
   "outputs": [
    {
     "name": "stdout",
     "output_type": "stream",
     "text": [
      "Metadata updated for OCSWITRS Roads feature class.\n"
     ]
    }
   ],
   "source": [
    "# Apply the metadata object to the roads feature class\n",
    "mdRoads = md.Metadata(roads)\n",
    "if not mdRoads.isReadOnly:\n",
    "    mdRoads.copy(mdoRoads)\n",
    "    mdRoads.save()\n",
    "    print(f\"Metadata updated for {roadsAlias} feature class.\")"
   ]
  },
  {
   "cell_type": "markdown",
   "metadata": {},
   "source": [
    "<h2 style=\"font-weight:bold; color:dodgerblue; border-bottom: 1px solid dodgerblue; padding-left: 25px\">3.6. Census Blocks Metadata</h2>"
   ]
  },
  {
   "cell_type": "markdown",
   "metadata": {},
   "source": [
    "Create a new metadata object for the census blocks feature class"
   ]
  },
  {
   "cell_type": "code",
   "execution_count": 118,
   "metadata": {},
   "outputs": [],
   "source": [
    "# Define key metadata attributes for the US Census 2020 Blocks feature class\n",
    "mdoCensusBlocks = md.Metadata()\n",
    "mdoCensusBlocks.title = \"OCSWITRS US Census 2020 Blocks\"\n",
    "mdoCensusBlocks.tags = \"Orange County, California, US Census 2020, Blocks, Census, Demographics, Population\"\n",
    "mdoCensusBlocks.summary = \"US Census 2020 Blocks for Orange County, California\"\n",
    "mdoCensusBlocks.description = \"\"\"<div style=\"text-align:Left;\"><div><div><p><span>The US Census 2020 Blocks feature class provides a comprehensive representation of the 2020 Census Blocks for Orange County, California. The data are sourced from the US Census Bureau and are updated regularly to reflect the most current demographic and population data.</span></p></div></div></div>\"\"\"\n",
    "mdoCensusBlocks.credits = \"Dr. Kostas Alexandridis, GISP, Data Scientist, OC Public Works, OC Survey Geospatial Services\"\n",
    "mdoCensusBlocks.accessConstraints = \"\"\"<div style=\"text-align:Left;\"><div><div><p><span>The feed data and associated resources (maps, apps, endpoints) can be used under a <a href=\"https://creativecommons.org/licenses/by-sa/3.0/\" target=\"_blank\">Creative Commons CC-SA-BY</a> License, providing attribution to OC Public Works, OC Survey Geospatial Services. </p><div>We make every effort to provide the most accurate and up-to-date data and information. Nevertheless, the data feed is provided, 'as is' and OC Public Work's standard <a href=\"https://www.ocgov.com/contact-county/disclaimer\" target=\"_blank\">Disclaimer</a> applies.<br /></div><div><br /></div><div>For any inquiries, suggestions or questions, please contact:</div><div><br /></div><div style=\"text-align:center;\"><a href=\"https://www.linkedin.com/in/ktalexan/\" target=\"_blank\"><b>Dr. Kostas Alexandridis, GISP</b></a><br /></div><div style=\"text-align:center;\">GIS Analyst | Spatial Complex Systems Scientist</div><div style=\"text-align:center;\">OC Public Works/OC Survey Geospatial Applications</div><div style=\"text-align:center;\"><div>601 N. Ross Street, P.O. Box 4048, Santa Ana, CA 92701</div><div>Email: <a href=\"mailto:kostas.alexandridis@ocpw.ocgov.com\" target=\"_blank\">kostas.alexandridis@ocpw.ocgov.com</a> | Phone: (714) 967-0826</div><div><br /></div></div></div>\"\"\"\n",
    "mdoCensusBlocks.thumbnailUri = \"https://ocpw.maps.arcgis.com/sharing/rest/content/items/e2c4cd39783a4d1bb0925ead15a23cdc/data\""
   ]
  },
  {
   "cell_type": "markdown",
   "metadata": {},
   "source": [
    "Assign the census blocks metadata object to the census blocks feature class"
   ]
  },
  {
   "cell_type": "code",
   "execution_count": 119,
   "metadata": {},
   "outputs": [
    {
     "name": "stdout",
     "output_type": "stream",
     "text": [
      "Metadata updated for OCSWITRS Census Blocks feature class.\n"
     ]
    }
   ],
   "source": [
    "# Apply the metadata object to the US Census 2020 Blocks feature class\n",
    "mdCensusBlocks = md.Metadata(censusBlocks)\n",
    "if not mdCensusBlocks.isReadOnly:\n",
    "    mdCensusBlocks.copy(mdoCensusBlocks)\n",
    "    mdCensusBlocks.save()\n",
    "    print(f\"Metadata updated for {censusBlocksAlias} feature class.\")"
   ]
  },
  {
   "cell_type": "markdown",
   "metadata": {},
   "source": [
    "<h2 style=\"font-weight:bold; color:dodgerblue; border-bottom: 1px solid dodgerblue; padding-left: 25px\">3.7. Cities Metadata</h2>"
   ]
  },
  {
   "cell_type": "markdown",
   "metadata": {},
   "source": [
    "Create a new metadata object for the cities feature class"
   ]
  },
  {
   "cell_type": "code",
   "execution_count": 120,
   "metadata": {},
   "outputs": [],
   "source": [
    "# Define key metadata attributes for the Cities feature class\n",
    "mdoCities = md.Metadata()\n",
    "mdoCities.title = \"OCSWITRS Cities Boundaries\"\n",
    "mdoCities.tags = \"Orange County, California, Cities, Traffic, Road Safety, Transportation, Collisions, Crashes, SWITRS, OCSWITRS\"\n",
    "mdoCities.summary = \"Orange County City and Unincorporated Areas Land Boundaries, enriched with geodemographic characteristics\"\n",
    "mdoCities.description = \"\"\"<div style=\"text-align:Left;\"><div><div><p><span>The Orange County City and Unincorporated Areas Land Boundaries are enriched with a comprehensive set of geodemographic characteristics from OC ACS 2021 data. These characteristics span across demographic, housing, economic, and social aspects, providing a holistic view of the area. </span></p><p><span>The geodemographic data originate from the US Census American Community Survey (ACS) 2021, a 5-year estimate of the key Characteristics of Cities' geographic level in Orange County, California. The data contains:</span></p><ul><li><p><span>Total population and housing counts for each area;</span></p></li><li><p><span>Population and housing density measurements (per square mile);</span></p></li><li><p><span>Race counts for Asian, Black or African American, Hispanic and White groups;</span></p></li><li><p><span>Aggregate values for the number of vehicles commuting and travel time to work;</span></p></li></ul></div></div></div>\"\"\"\n",
    "mdoCities.credits = \"Dr. Kostas Alexandridis, GISP, Data Scientist, OC Public Works, OC Survey Geospatial Services\"\n",
    "mdoCities.accessConstraints = \"\"\"<div style=\"text-align:Left;\"><div><div><p><span>The feed data and associated resources (maps, apps, endpoints) can be used under a <a href=\"https://creativecommons.org/licenses/by-sa/3.0/\" target=\"_blank\">Creative Commons CC-SA-BY</a> License, providing attribution to OC Public Works, OC Survey Geospatial Services. </p><div>We make every effort to provide the most accurate and up-to-date data and information. Nevertheless, the data feed is provided, 'as is' and OC Public Work's standard <a href=\"https://www.ocgov.com/contact-county/disclaimer\" target=\"_blank\">Disclaimer</a> applies.<br /></div><div><br /></div><div>For any inquiries, suggestions or questions, please contact:</div><div><br /></div><div style=\"text-align:center;\"><a href=\"https://www.linkedin.com/in/ktalexan/\" target=\"_blank\"><b>Dr. Kostas Alexandridis, GISP</b></a><br /></div><div style=\"text-align:center;\">GIS Analyst | Spatial Complex Systems Scientist</div><div style=\"text-align:center;\">OC Public Works/OC Survey Geospatial Applications</div><div style=\"text-align:center;\"><div>601 N. Ross Street, P.O. Box 4048, Santa Ana, CA 92701</div><div>Email: <a href=\"mailto:kostas.alexandridis@ocpw.ocgov.com\" target=\"_blank\">kostas.alexandridis@ocpw.ocgov.com</a> | Phone: (714) 967-0826</div><div><br /></div></div></div>\"\"\"\n",
    "mdoCities.thumbnailUri = \"https://ocpw.maps.arcgis.com/sharing/rest/content/items/ffe4a73307a245eda7dc7eaffe1db6d2/data\""
   ]
  },
  {
   "cell_type": "markdown",
   "metadata": {},
   "source": [
    "Assign the cities metadata object to the cities feature class"
   ]
  },
  {
   "cell_type": "code",
   "execution_count": 121,
   "metadata": {},
   "outputs": [
    {
     "name": "stdout",
     "output_type": "stream",
     "text": [
      "Metadata updated for OCSWITRS Cities feature class.\n"
     ]
    }
   ],
   "source": [
    "# Apply the metadata object to the Cities feature class\n",
    "mdCities = md.Metadata(cities)\n",
    "if not mdCities.isReadOnly:\n",
    "    mdCities.copy(mdoCities)\n",
    "    mdCities.save()\n",
    "    print(f\"Metadata updated for {citiesAlias} feature class.\")"
   ]
  },
  {
   "cell_type": "markdown",
   "metadata": {},
   "source": [
    "<h2 style=\"font-weight:bold; color:dodgerblue; border-bottom: 1px solid dodgerblue; padding-left: 25px\">3.8. Boundaries Metadata</h2>"
   ]
  },
  {
   "cell_type": "markdown",
   "metadata": {},
   "source": [
    "Create a new metadata object for the boundaries feature class"
   ]
  },
  {
   "cell_type": "code",
   "execution_count": 122,
   "metadata": {},
   "outputs": [],
   "source": [
    "# Define key metadata attributes for the Boundaries feature class\n",
    "mdoBoundaries = md.Metadata()\n",
    "mdoBoundaries.title = \"OC Land Boundaries\"\n",
    "mdoBoundaries.tags = \"Orange County, California, Boundaries, Traffic, Road Safety, Transportation, Collisions, Crashes, SWITRS, OCSWITRS\"\n",
    "mdoBoundaries.summary = \"Land boundaries for Orange County, cities, and unincorporated areas\"\n",
    "mdoBoundaries.description = \"\"\"<div style=\"text-align:Left;\"><div><div><p><span>Land boundaries for Orange County, cities, and unincorporated areas (based on the five supervisorial districts). Contains additional geodemographic data on population and housing from the US Census 2021 American Community Survey (ACS).</span></p></div></div></div>\"\"\"\n",
    "mdoBoundaries.credits = \"Dr. Kostas Alexandridis, GISP, Data Scientist, OC Public Works, OC Survey Geospatial Services\"\n",
    "mdoBoundaries.accessConstraints = \"\"\"<div style=\"text-align:Left;\"><div><div><p><span>The feed data and associated resources (maps, apps, endpoints) can be used under a <a href=\"https://creativecommons.org/licenses/by-sa/3.0/\" target=\"_blank\">Creative Commons CC-SA-BY</a> License, providing attribution to OC Public Works, OC Survey Geospatial Services. </p><div>We make every effort to provide the most accurate and up-to-date data and information. Nevertheless, the data feed is provided, 'as is' and OC Public Work's standard <a href=\"https://www.ocgov.com/contact-county/disclaimer\" target=\"_blank\">Disclaimer</a> applies.<br /></div><div><br /></div><div>For any inquiries, suggestions or questions, please contact:</div><div><br /></div><div style=\"text-align:center;\"><a href=\"https://www.linkedin.com/in/ktalexan/\" target=\"_blank\"><b>Dr. Kostas Alexandridis, GISP</b></a><br /></div><div style=\"text-align:center;\">GIS Analyst | Spatial Complex Systems Scientist</div><div style=\"text-align:center;\">OC Public Works/OC Survey Geospatial Applications</div><div style=\"text-align:center;\"><div>601 N. Ross Street, P.O. Box 4048, Santa Ana, CA 92701</div><div>Email: <a href=\"mailto:kostas.alexandridis@ocpw.ocgov.com\" target=\"_blank\">kostas.alexandridis@ocpw.ocgov.com</a> | Phone: (714) 967-0826</div><div><br /></div></div></div>\"\"\"\n",
    "mdoBoundaries.thumbnailUri = \"https://ocpw.maps.arcgis.com/sharing/rest/content/items/4041c4b1f4234218a4ce654e5d22f176/data\""
   ]
  },
  {
   "cell_type": "markdown",
   "metadata": {},
   "source": [
    "Assign the boundaries metadata object to the boundaries feature class"
   ]
  },
  {
   "cell_type": "code",
   "execution_count": 123,
   "metadata": {},
   "outputs": [
    {
     "name": "stdout",
     "output_type": "stream",
     "text": [
      "Metadata updated for OCSWITRS Boundaries feature class.\n"
     ]
    }
   ],
   "source": [
    "# Apply the metadata object to the Boundaries feature class\n",
    "mdBoundaries = md.Metadata(boundaries)\n",
    "if not mdBoundaries.isReadOnly:\n",
    "    mdBoundaries.copy(mdoBoundaries)\n",
    "    mdBoundaries.save()\n",
    "    print(f\"Metadata updated for {boundariesAlias} feature class.\")"
   ]
  },
  {
   "cell_type": "markdown",
   "metadata": {},
   "source": [
    "<h3 style=\"font-weight:bold; color:lime; padding-left: 50px\">Save Project</h3>"
   ]
  },
  {
   "cell_type": "code",
   "execution_count": 124,
   "metadata": {},
   "outputs": [],
   "source": [
    "# Save the project\n",
    "aprx.save()"
   ]
  },
  {
   "cell_type": "markdown",
   "metadata": {},
   "source": [
    "<div style = \"background-color:indigo\"><center>\n",
    "<h1 style=\"font-weight:bold; color:goldenrod; border-top: 2px solid goldenrod; border-bottom: 2px solid goldenrod; padding-top: 5px; padding-bottom: 10px\">End of Script</h1>\n",
    "</center></div>"
   ]
  }
 ],
 "metadata": {
  "kernelspec": {
   "display_name": "agpenv",
   "language": "python",
   "name": "python3"
  },
  "language_info": {
   "file_extension": ".py",
   "mimetype": "text/x-python",
   "name": "python",
   "version": "3.11.10"
  }
 },
 "nbformat": 4,
 "nbformat_minor": 4
}
