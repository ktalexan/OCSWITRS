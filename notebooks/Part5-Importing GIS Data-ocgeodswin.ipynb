{
 "cells": [
  {
   "cell_type": "markdown",
   "metadata": {},
   "source": [
    "<center>\n",
    "<h1 style=\"font-size: 50px; font-weight: bold; color:sandybrown\">OC SWITRS R Data Processing</h1>\n",
    "\n",
    "<div style=\"font-size: 40px; font-weight: bold; color: sandybrown\">ArcGIS and Spatial Geoprocessing</div>\n",
    "<div style=\"font-size: 30px; font-weight: bold; color: sandybrown\">v.1, January 2025</div>\n",
    "</center>"
   ]
  },
  {
   "cell_type": "markdown",
   "metadata": {},
   "source": [
    "----"
   ]
  },
  {
   "cell_type": "code",
   "execution_count": null,
   "metadata": {},
   "outputs": [],
   "source": [
    "# %reset"
   ]
  },
  {
   "cell_type": "markdown",
   "metadata": {},
   "source": [
    "## <font color=\"orangered\">**1. Referencing Libraries and Initialization**</font>"
   ]
  },
  {
   "cell_type": "markdown",
   "metadata": {},
   "source": [
    "### <font color=\"blue\">**1.1. Preliminaries**</font>"
   ]
  },
  {
   "cell_type": "markdown",
   "metadata": {},
   "source": [
    "Instantiating python libraries for the project"
   ]
  },
  {
   "cell_type": "code",
   "execution_count": 1,
   "metadata": {},
   "outputs": [],
   "source": [
    "# Import Python libraries\n",
    "import os\n",
    "import json\n",
    "import pytz\n",
    "import math\n",
    "import arcpy\n",
    "import arcgis\n",
    "from datetime import date, time, datetime, timedelta, tzinfo, timezone\n",
    "from tqdm.notebook import trange, tqdm, tqdm_notebook\n",
    "import pandas as pd\n",
    "import numpy as np\n",
    "from arcpy import metadata as md\n",
    "\n",
    "# important as it \"enhances\" Pandas by importing these classes (from ArcGIS API for Python)\n",
    "from arcgis.features import GeoAccessor, GeoSeriesAccessor\n"
   ]
  },
  {
   "cell_type": "markdown",
   "metadata": {},
   "source": [
    "### <font color=\"blue\">**1.2. Project and Workspace Variables**</font>"
   ]
  },
  {
   "cell_type": "markdown",
   "metadata": {},
   "source": [
    "Define and maitnain project, workspace, ArcGIS, and data-related variables"
   ]
  },
  {
   "cell_type": "markdown",
   "metadata": {},
   "source": [
    "#### <font color=\"darkgreen\">Project and Geodatabase Paths</font>"
   ]
  },
  {
   "cell_type": "markdown",
   "metadata": {},
   "source": [
    "Project and ArcGIS pro project paths"
   ]
  },
  {
   "cell_type": "code",
   "execution_count": 2,
   "metadata": {},
   "outputs": [
    {
     "name": "stdout",
     "output_type": "stream",
     "text": [
      "Project Directories:\n",
      "- Project Path:C:\\Users\\ktalexan\\OneDrive - County of Orange\\Documents\\OCSWITRS\n",
      "- ArcGIS Pro Project Path: C:\\Users\\ktalexan\\OneDrive - County of Orange\\Documents\\OCSWITRS\\AGPSWITRS\n"
     ]
    }
   ],
   "source": [
    "# Environment variables for OneDrive path\n",
    "onedrive_path = os.getenv(\"OneDriveCommercial\")\n",
    "\n",
    "# OC Switrs project path\n",
    "project_path = os.path.join(onedrive_path, \"Documents\", \"OCSWITRS\")\n",
    "\n",
    "# OC Switrs ArcGIS Pro project path\n",
    "agp_path = os.path.join(project_path, \"AGPSWITRS\")\n",
    "\n",
    "print(f\"Project Directories:\\n- Project Path:{project_path}\\n- ArcGIS Pro Project Path: {agp_path}\")\n"
   ]
  },
  {
   "cell_type": "markdown",
   "metadata": {},
   "source": [
    "#### <font color=\"darkgreen\">ArcGIS Pro Paths</font>"
   ]
  },
  {
   "cell_type": "markdown",
   "metadata": {},
   "source": [
    "ArcGIS pro related paths"
   ]
  },
  {
   "cell_type": "code",
   "execution_count": 3,
   "metadata": {},
   "outputs": [],
   "source": [
    "# ArcGIS Pro project name and path\n",
    "project_aprx = \"AGPSWITRS.aprx\"\n",
    "project_aprx_path = os.path.join(agp_path, project_aprx)\n",
    "\n",
    "# ArcGIS Pro project geodatabase and path\n",
    "gdb = \"AGPSWITRS.gdb\"\n",
    "gdb_path = os.path.join(agp_path, gdb)\n",
    "\n",
    "# Current ArcGIS pro project\n",
    "aprx = arcpy.mp.ArcGISProject('CURRENT')\n",
    "\n",
    "# Close all map views\n",
    "aprx.closeViews()\n",
    "\n",
    "# Current ArcGIS pro project maps\n",
    "map_main = aprx.listMaps(\"MainMap\")[0]\n",
    "map_hotspots = aprx.listMaps(\"HotSpotsMap\")[0]\n",
    "\n",
    "# Current ArcGIS workspace (arcpy)\n",
    "arcpy.env.workspace = gdb_path\n",
    "workspace = arcpy.env.workspace\n",
    "\n",
    "# Enable overwriting existing outputs\n",
    "arcpy.env.overwriteOutput = True\n"
   ]
  },
  {
   "cell_type": "markdown",
   "metadata": {},
   "source": [
    "#### <font color=\"darkgreen\">Folder Paths</font>"
   ]
  },
  {
   "cell_type": "markdown",
   "metadata": {},
   "source": [
    "Project folder paths"
   ]
  },
  {
   "cell_type": "code",
   "execution_count": 4,
   "metadata": {},
   "outputs": [],
   "source": [
    "# Raw data folder path\n",
    "raw_data_path = os.path.join(project_path, \"Data\", \"Raw\")\n",
    "\n",
    "# Layers folder path\n",
    "layers_path = os.path.join(project_path, \"Layers\")\n",
    "\n",
    "# Notebooks folder path\n",
    "notebooks_path = os.path.join(project_path, \"Notebooks\")\n",
    "\n",
    "# Geodatabase feature directory paths\n",
    "gdb_raw_data_path = os.path.join(workspace, \"RawData\") # raw data\n",
    "gdb_supporting_data_path = os.path.join(workspace, \"SupportingData\") # supporting data\n",
    "gdb_analysis_data_path = os.path.join(workspace, \"AnalysisData\") # analysis data\n",
    "gdb_hotspot_data_path = os.path.join(workspace, \"HotSpotData\") # hotspot data\n",
    "\n",
    "\n",
    "# Codebook Json folder path\n",
    "codebook_path = os.path.join(project_path, \"Data\", \"codebook\", \"cb.json\")\n"
   ]
  },
  {
   "cell_type": "markdown",
   "metadata": {},
   "source": [
    "#### <font color=\"darkgreen\">Data Folder Paths</font>"
   ]
  },
  {
   "cell_type": "markdown",
   "metadata": {},
   "source": [
    "Data folder paths and contents"
   ]
  },
  {
   "cell_type": "markdown",
   "metadata": {},
   "source": [
    "The most current raw data files cover the periods from 01/01/2013 to 09/30/2024. The data files are already processed in the R scripts and imported into the project's geodatabase."
   ]
  },
  {
   "cell_type": "code",
   "execution_count": 5,
   "metadata": {},
   "outputs": [],
   "source": [
    "# add the date 01/01/2013 to a new python datetime object named 'rawDateStart'\n",
    "raw_date_start = datetime(2013, 1, 1)\n",
    "\n",
    "# add the date 06/30/2024 to a new python datetime object named 'rawDateEnd'\n",
    "raw_date_end = datetime(2024, 9, 30)\n",
    "\n",
    "# Define time and date variables\n",
    "time_zone = pytz.timezone(\"US/Pacific\")\n",
    "today = datetime.now(time_zone)\n",
    "last_update_date = today.strftime(\"%B %d, %Y\")\n",
    "last_update_datetime = today.strftime(\"%A %B %d, %Y, %I:%M %p (%Z)\")\n"
   ]
  },
  {
   "cell_type": "markdown",
   "metadata": {},
   "source": [
    "#### <font color=\"darkgreen\">Geodatabase Feature Classes Paths</font>"
   ]
  },
  {
   "cell_type": "markdown",
   "metadata": {},
   "source": [
    "Paths to geodatabase feature classes"
   ]
  },
  {
   "cell_type": "code",
   "execution_count": 6,
   "metadata": {},
   "outputs": [],
   "source": [
    "# Paths to raw data feature classes\n",
    "crashes_path = os.path.join(gdb_raw_data_path, \"crashes\")\n",
    "parties_path = os.path.join(gdb_raw_data_path, \"parties\")\n",
    "victims_path = os.path.join(gdb_raw_data_path, \"victims\")\n",
    "collisions_path = os.path.join(gdb_raw_data_path, \"collisions\")\n",
    "\n",
    "# Paths to supporting data feature classes\n",
    "boundaries_path = os.path.join(gdb_supporting_data_path, \"boundaries\")\n",
    "cities_path = os.path.join(gdb_supporting_data_path, \"cities\")\n",
    "roads_path = os.path.join(gdb_supporting_data_path, \"roads\")\n",
    "usc2020blk_path = os.path.join(gdb_supporting_data_path, \"usc2020blk\")\n"
   ]
  },
  {
   "cell_type": "markdown",
   "metadata": {},
   "source": [
    "Display all information about paths, folders, and data files"
   ]
  },
  {
   "cell_type": "code",
   "execution_count": 7,
   "metadata": {},
   "outputs": [
    {
     "name": "stdout",
     "output_type": "stream",
     "text": [
      "Key Project Information\n",
      "\n",
      "\t- Name AGPSWITRS.aprx\n",
      "\t- Path: C:\\Users\\ktalexan\\OneDrive - County of Orange\\Documents\\OCSWITRS\\AGPSWITRS\\AGPSWITRS.aprx\n",
      "\t- Project Path: C:\\Users\\ktalexan\\OneDrive - County of Orange\\Documents\\OCSWITRS\n",
      "\t- Workspace: C:\\Users\\ktalexan\\OneDrive - County of Orange\\Documents\\OCSWITRS\\AGPSWITRS\\AGPSWITRS.gdb\n",
      "\t- Geodatabase: AGPSWITRS.gdb\n",
      "\t- Geodatabase Path: C:\\Users\\ktalexan\\OneDrive - County of Orange\\Documents\\OCSWITRS\\AGPSWITRS\\AGPSWITRS.gdb\n",
      "\n",
      "Project Directories:\n",
      "\n",
      "\t- Raw Data: C:\\Users\\ktalexan\\OneDrive - County of Orange\\Documents\\OCSWITRS\\Data\\Raw\n",
      "\t- Layers: C:\\Users\\ktalexan\\OneDrive - County of Orange\\Documents\\OCSWITRS\\Layers\n",
      "\t- Notebooks: C:\\Users\\ktalexan\\OneDrive - County of Orange\\Documents\\OCSWITRS\\Notebooks\n",
      "\n",
      "Raw Feature Classes:\n",
      "\n",
      "\t- Crashes: C:\\Users\\ktalexan\\OneDrive - County of Orange\\Documents\\OCSWITRS\\AGPSWITRS\\AGPSWITRS.gdb\\RawData\\crashes\n",
      "\t- Parties: C:\\Users\\ktalexan\\OneDrive - County of Orange\\Documents\\OCSWITRS\\AGPSWITRS\\AGPSWITRS.gdb\\RawData\\parties\n",
      "\t- Victims: C:\\Users\\ktalexan\\OneDrive - County of Orange\\Documents\\OCSWITRS\\AGPSWITRS\\AGPSWITRS.gdb\\RawData\\victims\n",
      "\t- Collisions: C:\\Users\\ktalexan\\OneDrive - County of Orange\\Documents\\OCSWITRS\\AGPSWITRS\\AGPSWITRS.gdb\\RawData\\collisions\n",
      "\n",
      "Supporting Feature Classes:\n",
      "\n",
      "\t- Boundaries: C:\\Users\\ktalexan\\OneDrive - County of Orange\\Documents\\OCSWITRS\\AGPSWITRS\\AGPSWITRS.gdb\\SupportingData\\boundaries\n",
      "\t- Cities: C:\\Users\\ktalexan\\OneDrive - County of Orange\\Documents\\OCSWITRS\\AGPSWITRS\\AGPSWITRS.gdb\\SupportingData\\cities\n",
      "\t- Roads: C:\\Users\\ktalexan\\OneDrive - County of Orange\\Documents\\OCSWITRS\\AGPSWITRS\\AGPSWITRS.gdb\\SupportingData\\roads\n",
      "\t- USC 2020 Blocks: C:\\Users\\ktalexan\\OneDrive - County of Orange\\Documents\\OCSWITRS\\AGPSWITRS\\AGPSWITRS.gdb\\SupportingData\\usc2020blk\n",
      "\n",
      "Other Supporting Data\n",
      "\n",
      "\t- Codebook: C:\\Users\\ktalexan\\OneDrive - County of Orange\\Documents\\OCSWITRS\\Data\\codebook\\cb.json\n"
     ]
    }
   ],
   "source": [
    "# Display all information\n",
    "print(\"Key Project Information\")\n",
    "print(f\"\\n\\t- Name {project_aprx}\\n\\t- Path: {project_aprx_path}\\n\\t- Project Path: {project_path}\\n\\t- Workspace: {workspace}\\n\\t- Geodatabase: {gdb}\\n\\t- Geodatabase Path: {gdb_path}\")\n",
    "print(\"\\nProject Directories:\")\n",
    "print(\n",
    "    f\"\\n\\t- Raw Data: {raw_data_path}\\n\\t- Layers: {layers_path}\\n\\t- Notebooks: {notebooks_path}\")\n",
    "print(\"\\nRaw Feature Classes:\")\n",
    "print(f\"\\n\\t- Crashes: {crashes_path}\\n\\t- Parties: {parties_path}\\n\\t- Victims: {victims_path}\\n\\t- Collisions: {collisions_path}\")\n",
    "print(\"\\nSupporting Feature Classes:\")\n",
    "print(\n",
    "    f\"\\n\\t- Boundaries: {boundaries_path}\\n\\t- Cities: {cities_path}\\n\\t- Roads: {roads_path}\\n\\t- USC 2020 Blocks: {usc2020blk_path}\")\n",
    "print(\"\\nOther Supporting Data\")\n",
    "print(f\"\\n\\t- Codebook: {codebook_path}\")\n"
   ]
  },
  {
   "cell_type": "markdown",
   "metadata": {},
   "source": [
    "#### <font color=\"darkgreen\">Current Map Operations</font>"
   ]
  },
  {
   "cell_type": "markdown",
   "metadata": {},
   "source": [
    "Remove all layers from main map"
   ]
  },
  {
   "cell_type": "code",
   "execution_count": 8,
   "metadata": {},
   "outputs": [],
   "source": [
    "# Add and rename layers in contents view, using their aliases\n",
    "for lyr in map_main.listLayers():\n",
    "    if \"OCSWITRS\" in lyr.name:\n",
    "        map_main.removeLayer(lyr)"
   ]
  },
  {
   "cell_type": "markdown",
   "metadata": {},
   "source": [
    "Open the main map view, and set it as the active map"
   ]
  },
  {
   "cell_type": "code",
   "execution_count": 9,
   "metadata": {},
   "outputs": [],
   "source": [
    "# Open the main map window\n",
    "map_main.openView()\n",
    "\n",
    "# set the main map as active map\n",
    "map = aprx.activeMap"
   ]
  },
  {
   "cell_type": "markdown",
   "metadata": {},
   "source": [
    "## <font color=\"orangered\">**2. Feature Classes and Data Definitions**</font>"
   ]
  },
  {
   "cell_type": "markdown",
   "metadata": {},
   "source": [
    "#### <font color=\"darkgreen\">Codebook</font>"
   ]
  },
  {
   "cell_type": "markdown",
   "metadata": {},
   "source": [
    "Codebook JSON file loading"
   ]
  },
  {
   "cell_type": "code",
   "execution_count": 10,
   "metadata": {},
   "outputs": [],
   "source": [
    "# Load the JSON file from directory and store it in a variable\n",
    "with open(codebook_path) as json_file:\n",
    "    codebook = json.load(json_file)\n"
   ]
  },
  {
   "cell_type": "markdown",
   "metadata": {},
   "source": [
    "#### <font color=\"darkgreen\">Paths</font>"
   ]
  },
  {
   "cell_type": "markdown",
   "metadata": {},
   "source": [
    "Set the raw data file path as the default and read feature classes"
   ]
  },
  {
   "cell_type": "code",
   "execution_count": 11,
   "metadata": {},
   "outputs": [
    {
     "data": {
      "text/plain": [
       "['crashes', 'parties', 'victims', 'collisions']"
      ]
     },
     "execution_count": 11,
     "metadata": {},
     "output_type": "execute_result"
    }
   ],
   "source": [
    "arcpy.env.workspace = gdb_raw_data_path\n",
    "workspace = arcpy.env.workspace\n",
    "arcpy.ListFeatureClasses()\n"
   ]
  },
  {
   "cell_type": "markdown",
   "metadata": {},
   "source": [
    "Set the path as the root of the geodatabase"
   ]
  },
  {
   "cell_type": "code",
   "execution_count": 12,
   "metadata": {},
   "outputs": [],
   "source": [
    "arcpy.env.workspace = gdb_path\n",
    "workspace = arcpy.env.workspace\n"
   ]
  },
  {
   "cell_type": "markdown",
   "metadata": {},
   "source": [
    "#### <font color=\"darkgreen\">Feature Classes and Fields</font>"
   ]
  },
  {
   "cell_type": "code",
   "execution_count": 13,
   "metadata": {},
   "outputs": [],
   "source": [
    "# Get all the feature classes by name\n",
    "boundaries_fc = os.path.join(gdb_supporting_data_path, arcpy.ListFeatureClasses(\"boundaries\", feature_dataset=\"SupportingData\")[0])\n",
    "cities_fc = os.path.join(gdb_supporting_data_path, arcpy.ListFeatureClasses(\"cities\", feature_dataset=\"SupportingData\")[0])\n",
    "usc2020blk_fc = os.path.join(gdb_supporting_data_path, arcpy.ListFeatureClasses(\"usc2020blk\", feature_dataset=\"SupportingData\")[0])\n",
    "roads_fc = os.path.join(gdb_supporting_data_path, arcpy.ListFeatureClasses(\"roads\", feature_dataset=\"SupportingData\")[0])\n",
    "victims_fc = os.path.join(gdb_raw_data_path, arcpy.ListFeatureClasses(\"victims\", feature_dataset=\"RawData\")[0])\n",
    "parties_fc = os.path.join(gdb_raw_data_path, arcpy.ListFeatureClasses(\"parties\", feature_dataset=\"RawData\")[0])\n",
    "crashes_fc = os.path.join(gdb_raw_data_path, arcpy.ListFeatureClasses(\"crashes\", feature_dataset=\"RawData\")[0])\n",
    "collisions_fc = os.path.join(gdb_raw_data_path, arcpy.ListFeatureClasses(\"collisions\", feature_dataset=\"RawData\")[0])\n"
   ]
  },
  {
   "cell_type": "markdown",
   "metadata": {},
   "source": [
    "Obrain the list fields of the geodatabase data"
   ]
  },
  {
   "cell_type": "code",
   "execution_count": 14,
   "metadata": {},
   "outputs": [],
   "source": [
    "# Field lists for each of the geodatabase raw data feature classes\n",
    "fields_collisions = arcpy.ListFields(collisions_path)\n",
    "fields_crashes = arcpy.ListFields(crashes_path)\n",
    "fields_parties = arcpy.ListFields(parties_path)\n",
    "fields_victims = arcpy.ListFields(victims_path)\n",
    "\n",
    "# Field lists for each of the geodatabase supporting data feature classes\n",
    "fields_roads = arcpy.ListFields(roads_path)\n",
    "fields_usc2020blk = arcpy.ListFields(usc2020blk_path)\n",
    "fields_cities = arcpy.ListFields(cities_path)\n",
    "fields_boundaries = arcpy.ListFields(boundaries_path)\n"
   ]
  },
  {
   "cell_type": "markdown",
   "metadata": {},
   "source": [
    "Count rows in each of the geodatabase feature classes"
   ]
  },
  {
   "cell_type": "code",
   "execution_count": 15,
   "metadata": {},
   "outputs": [
    {
     "name": "stdout",
     "output_type": "stream",
     "text": [
      "Counts:\n",
      "- Collisions: 391,782\n",
      "- Crashes: 152,987\n",
      "- Parties: 330,435\n",
      "- Victims: 264,954\n",
      "- Roads: 59,144\n",
      "- US Census 2020 Blocks: 26864\n",
      "- Cities: 46\n",
      "- Boundaries: 1\n"
     ]
    }
   ],
   "source": [
    "# Get the count for each of the feature classes\n",
    "count_collisions = int(arcpy.management.GetCount(collisions_fc)[0])\n",
    "count_crashes = int(arcpy.management.GetCount(crashes_fc)[0])\n",
    "count_victims = int(arcpy.management.GetCount(victims_fc)[0])\n",
    "count_parties = int(arcpy.management.GetCount(parties_fc)[0])\n",
    "count_roads = int(arcpy.management.GetCount(roads_fc)[0])\n",
    "count_usc2020blk = int(arcpy.management.GetCount(usc2020blk_fc)[0])\n",
    "count_cities = int(arcpy.management.GetCount(cities_fc)[0])\n",
    "count_boundaries = int(arcpy.management.GetCount(boundaries_fc)[0])\n",
    "\n",
    "print(f\"Counts:\\n- Collisions: {count_collisions:,}\\n- Crashes: {count_crashes:,}\\n- Parties: {count_parties:,}\\n- Victims: {count_victims:,}\\n- Roads: {count_roads:,}\\n- US Census 2020 Blocks: {count_usc2020blk}\\n- Cities: {count_cities:,}\\n- Boundaries: {count_boundaries:,}\")\n"
   ]
  },
  {
   "cell_type": "markdown",
   "metadata": {},
   "source": [
    "## <font color=\"orangered\">**3. Codebook for Field Aliases**</font>"
   ]
  },
  {
   "cell_type": "markdown",
   "metadata": {},
   "source": [
    "### <font color=\"blue\">**3.1. Assigning field aliases**</font>"
   ]
  },
  {
   "cell_type": "markdown",
   "metadata": {},
   "source": [
    "Creating and assigning field aliases for the geodatabase feature classes using the JSON codebook dictionary"
   ]
  },
  {
   "cell_type": "markdown",
   "metadata": {},
   "source": [
    "#### <font color=\"darkgreen\">Crashes Feature Class</font>"
   ]
  },
  {
   "cell_type": "markdown",
   "metadata": {},
   "source": [
    "Field aliases for the crashes feature class"
   ]
  },
  {
   "cell_type": "code",
   "execution_count": 16,
   "metadata": {},
   "outputs": [
    {
     "name": "stdout",
     "output_type": "stream",
     "text": [
      "\tMatch 1: case_id (Case ID)\n",
      "\tMatch 2: cid (Crash ID)\n",
      "\tMatch 5: crash_tag (Crash Tag)\n",
      "\tMatch 10: crashes_case_tag (Crashes Tag)\n",
      "\tMatch 17: crashes_cid_count (Total Collisions in Crashes Dataset)\n",
      "\tMatch 23: city (City)\n",
      "\tMatch 25: date_datetime (Crash Date and Time)\n",
      "\tMatch 26: date_year (Crash Year)\n",
      "\tMatch 27: date_quarter (Crash Quarter)\n",
      "\tMatch 28: date_month (Crash Month)\n",
      "\tMatch 29: date_week (Crash Week)\n",
      "\tMatch 30: date_day (Crash Day)\n",
      "\tMatch 31: date_process (Process Date)\n",
      "\tMatch 32: dt_year (Crash Year)\n",
      "\tMatch 33: dt_quarter (Crash Quarter)\n",
      "\tMatch 34: dt_month (Crash Month)\n",
      "\tMatch 35: dt_year_week (Crash Year Week)\n",
      "\tMatch 36: dt_week_day (Crash Weekday)\n",
      "\tMatch 37: dt_month_day (Crash Month Day)\n",
      "\tMatch 38: dt_year_day (Crash Year Day)\n",
      "\tMatch 39: dt_hour (Crash Hour)\n",
      "\tMatch 40: dt_minute (Crash Minute)\n",
      "\tMatch 41: dt_dst (Crash Daylight Saving Time)\n",
      "\tMatch 42: dt_zone (Crash Time Zone)\n",
      "\tMatch 43: coll_date (Collision Date (reported))\n",
      "\tMatch 44: coll_time (Collision Time (reported))\n",
      "\tMatch 45: accident_year (Crash Year)\n",
      "\tMatch 46: process_date (Processing Date)\n",
      "\tMatch 47: coll_time_intervals (Crash Time Intervals)\n",
      "\tMatch 48: rush_hours (Rush Hours)\n",
      "\tMatch 49: rush_hours_bin (Rush Hours (binary))\n",
      "\tMatch 50: coll_severity (Collision Severity)\n",
      "\tMatch 51: coll_severity_num (Collision Severity Numeric)\n",
      "\tMatch 52: coll_severity_bin (Collision Severity (binary))\n",
      "\tMatch 53: coll_severity_rank (Collision Severity Rank)\n",
      "\tMatch 54: coll_severity_rank_num (Collision Severity Rank Numeric)\n",
      "\tMatch 55: ind_severe (Severe Injury Indicator)\n",
      "\tMatch 56: ind_fatal (Fatal Injury Indicator)\n",
      "\tMatch 57: ind_multi (Multiple Injury Indicator)\n",
      "\tMatch 58: party_count (Party Count)\n",
      "\tMatch 59: victim_count (Victim Count)\n",
      "\tMatch 60: number_killed (Killed Victims)\n",
      "\tMatch 61: number_inj (Injured Victims)\n",
      "\tMatch 62: count_severe_inj (Severe Injury Count)\n",
      "\tMatch 63: count_visible_inj (Visible Injury Count)\n",
      "\tMatch 64: count_complaint_pain (Complaint of Pain Injury Count)\n",
      "\tMatch 65: count_car_killed (Number of Killed Car Victims)\n",
      "\tMatch 66: count_car_inj (Number of Injured Car Victims)\n",
      "\tMatch 67: count_ped_killed (Pedestrian Killed Count)\n",
      "\tMatch 68: count_ped_inj (Pedestrian Injury Count)\n",
      "\tMatch 69: count_bic_killed (Bicyclist Killed Count)\n",
      "\tMatch 70: count_bic_inj (Bicyclist Injury Count)\n",
      "\tMatch 71: count_mc_killed (Motorcyclist Killed Count)\n",
      "\tMatch 72: count_mc_inj (Motorcyclist Injury Count)\n",
      "\tMatch 73: primary_coll_factor (Primary Collision Factor)\n",
      "\tMatch 74: type_of_coll (Type of Crash)\n",
      "\tMatch 75: ped_accident (Pedestrian Crash)\n",
      "\tMatch 76: bic_accident (Bicycle Crash)\n",
      "\tMatch 77: mc_accident (Motorcycle Crash)\n",
      "\tMatch 78: truck_accident (Truck Crash)\n",
      "\tMatch 79: hit_and_run (Hit and Run)\n",
      "\tMatch 80: hit_and_run_bin (Hit and Run (binary))\n",
      "\tMatch 81: alcohol_involved (Alcohol Involved)\n",
      "\tMatch 82: juris (Jurisdiction)\n",
      "\tMatch 83: officer_id (Officer ID)\n",
      "\tMatch 84: reporting_district (Reporting District)\n",
      "\tMatch 85: chp_shift (CHP Shift)\n",
      "\tMatch 86: cnty_city_loc (County City Location)\n",
      "\tMatch 87: special_cond (Special Condition)\n",
      "\tMatch 88: beat_type (Beat Type)\n",
      "\tMatch 89: chp_beat_type (CHP Beat Type)\n",
      "\tMatch 90: chp_beat_class (CHP Beat Class)\n",
      "\tMatch 91: beat_number (Beat Number)\n",
      "\tMatch 92: primary_rd (Primary Road)\n",
      "\tMatch 93: secondary_rd (Secondary Road)\n",
      "\tMatch 94: distance (Distance)\n",
      "\tMatch 95: direction (Direction)\n",
      "\tMatch 96: intersection (Intersection)\n",
      "\tMatch 97: weather_1 (Weather 1)\n",
      "\tMatch 98: weather_2 (Weather 2)\n",
      "\tMatch 99: weather_comb (Combined Weather)\n",
      "\tMatch 100: road_surface (Road Surface)\n",
      "\tMatch 101: road_cond_1 (Road Condition 1)\n",
      "\tMatch 102: road_cond_2 (Road Condition 2)\n",
      "\tMatch 103: lighting (Lighting)\n",
      "\tMatch 104: control_device (Control Device)\n",
      "\tMatch 105: state_hwy_ind (State Highway Indicator)\n",
      "\tMatch 106: side_of_hwy (Side of Highway)\n",
      "\tMatch 107: tow_away (Tow Away)\n",
      "\tMatch 108: pcf_code_of_viol (PCF Violation Code)\n",
      "\tMatch 109: pcf_viol_category (PCF Violation Category)\n",
      "\tMatch 110: pcf_violation (PCF Violation)\n",
      "\tMatch 111: pcf_viol_subsection (PCF Violation Subsection)\n",
      "\tMatch 112: mviw (Motor Vehicle Involved With)\n",
      "\tMatch 113: ped_action (Pedestrian Action)\n",
      "\tMatch 114: not_private_property (Not Private Property)\n",
      "\tMatch 115: stwd_veh_type_at_fault (Statewide Vehicle Type at Fault)\n",
      "\tMatch 116: chp_veh_type_at_fault (CHP Vehicle Type at Fault)\n",
      "\tMatch 117: primary_ramp (Primary Ramp)\n",
      "\tMatch 118: secondary_ramp (Secondary Ramp)\n",
      "\tMatch 186: latitude (GPS Latitude)\n",
      "\tMatch 187: longitude (GPS Longitude)\n",
      "\tMatch 188: point_x (X Coordinate Location)\n",
      "\tMatch 189: point_y (Y Coordinate Location)\n",
      "Start Time: Saturday, January 25, 2025 9:07:18 AM\n",
      "Succeeded at Saturday, January 25, 2025 9:07:19 AM (Elapsed Time: 0.52 seconds)\n"
     ]
    }
   ],
   "source": [
    "# Field aliases for the crashes geodatabase feature class\n",
    "for field in fields_crashes:\n",
    "    if field.name in list(codebook.keys()):\n",
    "        print(\n",
    "            f\"\\tMatch {codebook[field.name]['var_order']}: {field.name} ({codebook[field.name]['label']})\")\n",
    "        arcpy.management.AlterField(\n",
    "            in_table = crashes_fc,\n",
    "            field = field.name,\n",
    "            new_field_alias = codebook[field.name]['label']\n",
    "        )\n",
    "print(arcpy.GetMessages())\n"
   ]
  },
  {
   "cell_type": "markdown",
   "metadata": {},
   "source": [
    "#### <font color=\"darkgreen\">Parties Feature Class</font>"
   ]
  },
  {
   "cell_type": "markdown",
   "metadata": {},
   "source": [
    "Field aliases for the parties feature class"
   ]
  },
  {
   "cell_type": "code",
   "execution_count": 17,
   "metadata": {},
   "outputs": [
    {
     "name": "stdout",
     "output_type": "stream",
     "text": [
      "\tMatch 1: case_id (Case ID)\n",
      "\tMatch 2: cid (Crash ID)\n",
      "\tMatch 3: pid (Party ID)\n",
      "\tMatch 6: party_tag (Party Tag)\n",
      "\tMatch 8: party_number (Party Number)\n",
      "\tMatch 11: parties_case_tag (Parties Tag)\n",
      "\tMatch 18: parties_cid_count (Total Collisions in Parties Dataset)\n",
      "\tMatch 20: parties_pid_count (Total Parties in Parties Dataset)\n",
      "\tMatch 25: date_datetime (Crash Date and Time)\n",
      "\tMatch 26: date_year (Crash Year)\n",
      "\tMatch 27: date_quarter (Crash Quarter)\n",
      "\tMatch 28: date_month (Crash Month)\n",
      "\tMatch 29: date_week (Crash Week)\n",
      "\tMatch 30: date_day (Crash Day)\n",
      "\tMatch 31: date_process (Process Date)\n",
      "\tMatch 32: dt_year (Crash Year)\n",
      "\tMatch 33: dt_quarter (Crash Quarter)\n",
      "\tMatch 34: dt_month (Crash Month)\n",
      "\tMatch 35: dt_year_week (Crash Year Week)\n",
      "\tMatch 36: dt_week_day (Crash Weekday)\n",
      "\tMatch 37: dt_month_day (Crash Month Day)\n",
      "\tMatch 38: dt_year_day (Crash Year Day)\n",
      "\tMatch 39: dt_hour (Crash Hour)\n",
      "\tMatch 40: dt_minute (Crash Minute)\n",
      "\tMatch 41: dt_dst (Crash Daylight Saving Time)\n",
      "\tMatch 42: dt_zone (Crash Time Zone)\n",
      "\tMatch 43: coll_date (Collision Date (reported))\n",
      "\tMatch 44: coll_time (Collision Time (reported))\n",
      "\tMatch 46: process_date (Processing Date)\n",
      "\tMatch 50: coll_severity (Collision Severity)\n",
      "\tMatch 51: coll_severity_num (Collision Severity Numeric)\n",
      "\tMatch 53: coll_severity_rank (Collision Severity Rank)\n",
      "\tMatch 54: coll_severity_rank_num (Collision Severity Rank Numeric)\n",
      "\tMatch 119: party_type (Party Type)\n",
      "\tMatch 120: at_fault (At Fault)\n",
      "\tMatch 121: party_sex (Party Sex)\n",
      "\tMatch 122: party_age (Party Age)\n",
      "\tMatch 123: party_age_group (Party Age Group)\n",
      "\tMatch 124: party_race (Party Race)\n",
      "\tMatch 125: party_number_killed (Party Number Killed)\n",
      "\tMatch 126: party_number_inj (Party Number Injured)\n",
      "\tMatch 127: inattention (Inattention)\n",
      "\tMatch 128: party_sobriety (Party Sobriety)\n",
      "\tMatch 129: dui_alcohol_ind (DUI Alcohol Indicator)\n",
      "\tMatch 130: party_drug_physical (Party Drug Physical)\n",
      "\tMatch 131: dui_drug_ind (DUI Drug Indicator)\n",
      "\tMatch 132: dir_of_travel (Direction of Travel)\n",
      "\tMatch 133: party_safety_eq_1 (Party Safety Equipment 1)\n",
      "\tMatch 134: party_safety_eq_2 (Party Safety Equipment 2)\n",
      "\tMatch 135: finan_respons (Financial Responsibility)\n",
      "\tMatch 136: sp_info_1 (Special Information 1)\n",
      "\tMatch 137: sp_info_2 (Special Information 2)\n",
      "\tMatch 138: sp_info_3 (Special Information 3)\n",
      "\tMatch 139: oaf_viol_code (OAF Violation Code)\n",
      "\tMatch 140: oaf_viol_cat (OAF Violation Category)\n",
      "\tMatch 141: oaf_viol_section (OAF Violation Section)\n",
      "\tMatch 142: oaf_viol_suffix (OAF Violation Suffix)\n",
      "\tMatch 143: oaf_1 (Other Associated Factor 1)\n",
      "\tMatch 144: oaf_2 (Other Associated Factor 2)\n",
      "\tMatch 145: move_pre_acc (Movement Preceding Crash)\n",
      "\tMatch 146: vehicle_year (Vehicle Year)\n",
      "\tMatch 147: vehicle_year_group (Vehicle Year Group)\n",
      "\tMatch 148: vehicle_make (Vehicle Make)\n",
      "\tMatch 149: stwd_vehicle_type (Statewide Vehicle Type)\n",
      "\tMatch 150: chp_veh_type_towing (CHP Vehicle Type Towing)\n",
      "\tMatch 151: chp_veh_type_towed (CHP Vehicle Type Towed)\n",
      "\tMatch 152: special_info_f (Special Information F)\n",
      "\tMatch 153: special_info_g (Special Information G)\n",
      "\tMatch 188: point_x (X Coordinate Location)\n",
      "\tMatch 189: point_y (Y Coordinate Location)\n",
      "Start Time: Saturday, January 25, 2025 9:08:14 AM\n",
      "Succeeded at Saturday, January 25, 2025 9:08:15 AM (Elapsed Time: 0.52 seconds)\n"
     ]
    }
   ],
   "source": [
    "# Field aliases for the parties geodatabase feature class\n",
    "for field in fields_parties:\n",
    "    if field.name in list(codebook.keys()):\n",
    "        print(\n",
    "            f\"\\tMatch {codebook[field.name]['var_order']}: {field.name} ({codebook[field.name]['label']})\")\n",
    "        arcpy.management.AlterField(\n",
    "            in_table = parties_fc,\n",
    "            field = field.name,\n",
    "            new_field_alias = codebook[field.name]['label']\n",
    "        )\n",
    "print(arcpy.GetMessages())\n"
   ]
  },
  {
   "cell_type": "markdown",
   "metadata": {},
   "source": [
    "#### <font color=\"darkgreen\">Victims Feature Class</font>"
   ]
  },
  {
   "cell_type": "markdown",
   "metadata": {},
   "source": [
    "Field aliases for the victims feature class"
   ]
  },
  {
   "cell_type": "code",
   "execution_count": 18,
   "metadata": {},
   "outputs": [
    {
     "name": "stdout",
     "output_type": "stream",
     "text": [
      "\tMatch 1: case_id (Case ID)\n",
      "\tMatch 2: cid (Crash ID)\n",
      "\tMatch 3: pid (Party ID)\n",
      "\tMatch 4: vid (Victim ID)\n",
      "\tMatch 7: victim_tag (Victim Tag)\n",
      "\tMatch 8: party_number (Party Number)\n",
      "\tMatch 9: victim_number (Victim Number)\n",
      "\tMatch 12: victims_case_tag (Victims Tag)\n",
      "\tMatch 19: victims_cid_count (Total Collisions in Victims Dataset)\n",
      "\tMatch 21: victims_pid_count (Total Parties in Victims Dataset)\n",
      "\tMatch 22: victims_vid_count (Total Victims in Victims Dataset)\n",
      "\tMatch 25: date_datetime (Crash Date and Time)\n",
      "\tMatch 26: date_year (Crash Year)\n",
      "\tMatch 27: date_quarter (Crash Quarter)\n",
      "\tMatch 28: date_month (Crash Month)\n",
      "\tMatch 29: date_week (Crash Week)\n",
      "\tMatch 30: date_day (Crash Day)\n",
      "\tMatch 31: date_process (Process Date)\n",
      "\tMatch 32: dt_year (Crash Year)\n",
      "\tMatch 33: dt_quarter (Crash Quarter)\n",
      "\tMatch 34: dt_month (Crash Month)\n",
      "\tMatch 35: dt_year_week (Crash Year Week)\n",
      "\tMatch 36: dt_week_day (Crash Weekday)\n",
      "\tMatch 37: dt_month_day (Crash Month Day)\n",
      "\tMatch 38: dt_year_day (Crash Year Day)\n",
      "\tMatch 39: dt_hour (Crash Hour)\n",
      "\tMatch 40: dt_minute (Crash Minute)\n",
      "\tMatch 41: dt_dst (Crash Daylight Saving Time)\n",
      "\tMatch 42: dt_zone (Crash Time Zone)\n",
      "\tMatch 43: coll_date (Collision Date (reported))\n",
      "\tMatch 44: coll_time (Collision Time (reported))\n",
      "\tMatch 46: process_date (Processing Date)\n",
      "\tMatch 50: coll_severity (Collision Severity)\n",
      "\tMatch 51: coll_severity_num (Collision Severity Numeric)\n",
      "\tMatch 53: coll_severity_rank (Collision Severity Rank)\n",
      "\tMatch 54: coll_severity_rank_num (Collision Severity Rank Numeric)\n",
      "\tMatch 154: victim_role (Victim Role)\n",
      "\tMatch 155: victim_sex (Victim Sex)\n",
      "\tMatch 156: victim_age (Victim Age)\n",
      "\tMatch 157: victim_age_group (Victim Age Group)\n",
      "\tMatch 158: victim_degree_of_injury (Victim Degree of Injury)\n",
      "\tMatch 159: victim_degree_of_injury_bin (Victim Degree of Injury (binary))\n",
      "\tMatch 160: victim_seating_position (Victim Seating Position)\n",
      "\tMatch 161: victim_safety_eq_1 (Victim Safety Equipment 1)\n",
      "\tMatch 162: victim_safety_eq_2 (Victim Safety Equipment 2)\n",
      "\tMatch 163: victim_ejected (Victim Ejected)\n",
      "\tMatch 188: point_x (X Coordinate Location)\n",
      "\tMatch 189: point_y (Y Coordinate Location)\n",
      "Start Time: Saturday, January 25, 2025 9:08:54 AM\n",
      "Succeeded at Saturday, January 25, 2025 9:08:54 AM (Elapsed Time: 0.50 seconds)\n"
     ]
    }
   ],
   "source": [
    "# Field aliases for the victims geodatabase feature class\n",
    "for field in fields_victims:\n",
    "    if field.name in list(codebook.keys()):\n",
    "        print(\n",
    "            f\"\\tMatch {codebook[field.name]['var_order']}: {field.name} ({codebook[field.name]['label']})\")\n",
    "        arcpy.management.AlterField(\n",
    "            in_table = victims_fc,\n",
    "            field = field.name,\n",
    "            new_field_alias = codebook[field.name]['label']\n",
    "        )\n",
    "print(arcpy.GetMessages())\n"
   ]
  },
  {
   "cell_type": "markdown",
   "metadata": {},
   "source": [
    "#### <font color=\"darkgreen\">Collisions Feature Class</font>"
   ]
  },
  {
   "cell_type": "markdown",
   "metadata": {},
   "source": [
    "Field aliases for the collisions feature class"
   ]
  },
  {
   "cell_type": "code",
   "execution_count": 19,
   "metadata": {},
   "outputs": [
    {
     "name": "stdout",
     "output_type": "stream",
     "text": [
      "\tMatch 1: case_id (Case ID)\n",
      "\tMatch 2: cid (Crash ID)\n",
      "\tMatch 3: pid (Party ID)\n",
      "\tMatch 4: vid (Victim ID)\n",
      "\tMatch 5: crash_tag (Crash Tag)\n",
      "\tMatch 6: party_tag (Party Tag)\n",
      "\tMatch 7: victim_tag (Victim Tag)\n",
      "\tMatch 8: party_number (Party Number)\n",
      "\tMatch 9: victim_number (Victim Number)\n",
      "\tMatch 10: crashes_case_tag (Crashes Tag)\n",
      "\tMatch 11: parties_case_tag (Parties Tag)\n",
      "\tMatch 12: victims_case_tag (Victims Tag)\n",
      "\tMatch 16: combined_ind (Combined Indicator)\n",
      "\tMatch 17: crashes_cid_count (Total Collisions in Crashes Dataset)\n",
      "\tMatch 18: parties_cid_count (Total Collisions in Parties Dataset)\n",
      "\tMatch 19: victims_cid_count (Total Collisions in Victims Dataset)\n",
      "\tMatch 20: parties_pid_count (Total Parties in Parties Dataset)\n",
      "\tMatch 21: victims_pid_count (Total Parties in Victims Dataset)\n",
      "\tMatch 22: victims_vid_count (Total Victims in Victims Dataset)\n",
      "\tMatch 23: city (City)\n",
      "\tMatch 24: place_type (Place Type)\n",
      "\tMatch 25: date_datetime (Crash Date and Time)\n",
      "\tMatch 26: date_year (Crash Year)\n",
      "\tMatch 27: date_quarter (Crash Quarter)\n",
      "\tMatch 28: date_month (Crash Month)\n",
      "\tMatch 29: date_week (Crash Week)\n",
      "\tMatch 30: date_day (Crash Day)\n",
      "\tMatch 31: date_process (Process Date)\n",
      "\tMatch 32: dt_year (Crash Year)\n",
      "\tMatch 33: dt_quarter (Crash Quarter)\n",
      "\tMatch 34: dt_month (Crash Month)\n",
      "\tMatch 35: dt_year_week (Crash Year Week)\n",
      "\tMatch 36: dt_week_day (Crash Weekday)\n",
      "\tMatch 37: dt_month_day (Crash Month Day)\n",
      "\tMatch 38: dt_year_day (Crash Year Day)\n",
      "\tMatch 39: dt_hour (Crash Hour)\n",
      "\tMatch 40: dt_minute (Crash Minute)\n",
      "\tMatch 41: dt_dst (Crash Daylight Saving Time)\n",
      "\tMatch 42: dt_zone (Crash Time Zone)\n",
      "\tMatch 43: coll_date (Collision Date (reported))\n",
      "\tMatch 44: coll_time (Collision Time (reported))\n",
      "\tMatch 45: accident_year (Crash Year)\n",
      "\tMatch 46: process_date (Processing Date)\n",
      "\tMatch 47: coll_time_intervals (Crash Time Intervals)\n",
      "\tMatch 48: rush_hours (Rush Hours)\n",
      "\tMatch 49: rush_hours_bin (Rush Hours (binary))\n",
      "\tMatch 50: coll_severity (Collision Severity)\n",
      "\tMatch 51: coll_severity_num (Collision Severity Numeric)\n",
      "\tMatch 52: coll_severity_bin (Collision Severity (binary))\n",
      "\tMatch 53: coll_severity_rank (Collision Severity Rank)\n",
      "\tMatch 54: coll_severity_rank_num (Collision Severity Rank Numeric)\n",
      "\tMatch 55: ind_severe (Severe Injury Indicator)\n",
      "\tMatch 56: ind_fatal (Fatal Injury Indicator)\n",
      "\tMatch 57: ind_multi (Multiple Injury Indicator)\n",
      "\tMatch 58: party_count (Party Count)\n",
      "\tMatch 59: victim_count (Victim Count)\n",
      "\tMatch 60: number_killed (Killed Victims)\n",
      "\tMatch 61: number_inj (Injured Victims)\n",
      "\tMatch 62: count_severe_inj (Severe Injury Count)\n",
      "\tMatch 63: count_visible_inj (Visible Injury Count)\n",
      "\tMatch 64: count_complaint_pain (Complaint of Pain Injury Count)\n",
      "\tMatch 65: count_car_killed (Number of Killed Car Victims)\n",
      "\tMatch 66: count_car_inj (Number of Injured Car Victims)\n",
      "\tMatch 67: count_ped_killed (Pedestrian Killed Count)\n",
      "\tMatch 68: count_ped_inj (Pedestrian Injury Count)\n",
      "\tMatch 69: count_bic_killed (Bicyclist Killed Count)\n",
      "\tMatch 70: count_bic_inj (Bicyclist Injury Count)\n",
      "\tMatch 71: count_mc_killed (Motorcyclist Killed Count)\n",
      "\tMatch 72: count_mc_inj (Motorcyclist Injury Count)\n",
      "\tMatch 73: primary_coll_factor (Primary Collision Factor)\n",
      "\tMatch 74: type_of_coll (Type of Crash)\n",
      "\tMatch 75: ped_accident (Pedestrian Crash)\n",
      "\tMatch 76: bic_accident (Bicycle Crash)\n",
      "\tMatch 77: mc_accident (Motorcycle Crash)\n",
      "\tMatch 78: truck_accident (Truck Crash)\n",
      "\tMatch 79: hit_and_run (Hit and Run)\n",
      "\tMatch 80: hit_and_run_bin (Hit and Run (binary))\n",
      "\tMatch 81: alcohol_involved (Alcohol Involved)\n",
      "\tMatch 82: juris (Jurisdiction)\n",
      "\tMatch 83: officer_id (Officer ID)\n",
      "\tMatch 84: reporting_district (Reporting District)\n",
      "\tMatch 85: chp_shift (CHP Shift)\n",
      "\tMatch 86: cnty_city_loc (County City Location)\n",
      "\tMatch 87: special_cond (Special Condition)\n",
      "\tMatch 88: beat_type (Beat Type)\n",
      "\tMatch 89: chp_beat_type (CHP Beat Type)\n",
      "\tMatch 90: chp_beat_class (CHP Beat Class)\n",
      "\tMatch 91: beat_number (Beat Number)\n",
      "\tMatch 92: primary_rd (Primary Road)\n",
      "\tMatch 93: secondary_rd (Secondary Road)\n",
      "\tMatch 94: distance (Distance)\n",
      "\tMatch 95: direction (Direction)\n",
      "\tMatch 96: intersection (Intersection)\n",
      "\tMatch 97: weather_1 (Weather 1)\n",
      "\tMatch 98: weather_2 (Weather 2)\n",
      "\tMatch 99: weather_comb (Combined Weather)\n",
      "\tMatch 100: road_surface (Road Surface)\n",
      "\tMatch 101: road_cond_1 (Road Condition 1)\n",
      "\tMatch 102: road_cond_2 (Road Condition 2)\n",
      "\tMatch 103: lighting (Lighting)\n",
      "\tMatch 104: control_device (Control Device)\n",
      "\tMatch 105: state_hwy_ind (State Highway Indicator)\n",
      "\tMatch 106: side_of_hwy (Side of Highway)\n",
      "\tMatch 107: tow_away (Tow Away)\n",
      "\tMatch 108: pcf_code_of_viol (PCF Violation Code)\n",
      "\tMatch 109: pcf_viol_category (PCF Violation Category)\n",
      "\tMatch 110: pcf_violation (PCF Violation)\n",
      "\tMatch 111: pcf_viol_subsection (PCF Violation Subsection)\n",
      "\tMatch 112: mviw (Motor Vehicle Involved With)\n",
      "\tMatch 113: ped_action (Pedestrian Action)\n",
      "\tMatch 114: not_private_property (Not Private Property)\n",
      "\tMatch 115: stwd_veh_type_at_fault (Statewide Vehicle Type at Fault)\n",
      "\tMatch 116: chp_veh_type_at_fault (CHP Vehicle Type at Fault)\n",
      "\tMatch 117: primary_ramp (Primary Ramp)\n",
      "\tMatch 118: secondary_ramp (Secondary Ramp)\n",
      "\tMatch 119: party_type (Party Type)\n",
      "\tMatch 120: at_fault (At Fault)\n",
      "\tMatch 121: party_sex (Party Sex)\n",
      "\tMatch 122: party_age (Party Age)\n",
      "\tMatch 123: party_age_group (Party Age Group)\n",
      "\tMatch 124: party_race (Party Race)\n",
      "\tMatch 125: party_number_killed (Party Number Killed)\n",
      "\tMatch 126: party_number_inj (Party Number Injured)\n",
      "\tMatch 127: inattention (Inattention)\n",
      "\tMatch 128: party_sobriety (Party Sobriety)\n",
      "\tMatch 129: dui_alcohol_ind (DUI Alcohol Indicator)\n",
      "\tMatch 130: party_drug_physical (Party Drug Physical)\n",
      "\tMatch 131: dui_drug_ind (DUI Drug Indicator)\n",
      "\tMatch 132: dir_of_travel (Direction of Travel)\n",
      "\tMatch 133: party_safety_eq_1 (Party Safety Equipment 1)\n",
      "\tMatch 134: party_safety_eq_2 (Party Safety Equipment 2)\n",
      "\tMatch 135: finan_respons (Financial Responsibility)\n",
      "\tMatch 136: sp_info_1 (Special Information 1)\n",
      "\tMatch 137: sp_info_2 (Special Information 2)\n",
      "\tMatch 138: sp_info_3 (Special Information 3)\n",
      "\tMatch 139: oaf_viol_code (OAF Violation Code)\n",
      "\tMatch 140: oaf_viol_cat (OAF Violation Category)\n",
      "\tMatch 141: oaf_viol_section (OAF Violation Section)\n",
      "\tMatch 142: oaf_viol_suffix (OAF Violation Suffix)\n",
      "\tMatch 143: oaf_1 (Other Associated Factor 1)\n",
      "\tMatch 144: oaf_2 (Other Associated Factor 2)\n",
      "\tMatch 145: move_pre_acc (Movement Preceding Crash)\n",
      "\tMatch 146: vehicle_year (Vehicle Year)\n",
      "\tMatch 147: vehicle_year_group (Vehicle Year Group)\n",
      "\tMatch 148: vehicle_make (Vehicle Make)\n",
      "\tMatch 149: stwd_vehicle_type (Statewide Vehicle Type)\n",
      "\tMatch 150: chp_veh_type_towing (CHP Vehicle Type Towing)\n",
      "\tMatch 151: chp_veh_type_towed (CHP Vehicle Type Towed)\n",
      "\tMatch 152: special_info_f (Special Information F)\n",
      "\tMatch 153: special_info_g (Special Information G)\n",
      "\tMatch 154: victim_role (Victim Role)\n",
      "\tMatch 155: victim_sex (Victim Sex)\n",
      "\tMatch 156: victim_age (Victim Age)\n",
      "\tMatch 157: victim_age_group (Victim Age Group)\n",
      "\tMatch 158: victim_degree_of_injury (Victim Degree of Injury)\n",
      "\tMatch 159: victim_degree_of_injury_bin (Victim Degree of Injury (binary))\n",
      "\tMatch 160: victim_seating_position (Victim Seating Position)\n",
      "\tMatch 161: victim_safety_eq_1 (Victim Safety Equipment 1)\n",
      "\tMatch 162: victim_safety_eq_2 (Victim Safety Equipment 2)\n",
      "\tMatch 163: victim_ejected (Victim Ejected)\n",
      "\tMatch 164: city_area_sqmi (City Area (in sq miles))\n",
      "\tMatch 165: city_pop_dens (City Population Density (sq miles))\n",
      "\tMatch 166: city_hou_dens (City Housing Density (sq miles))\n",
      "\tMatch 167: city_pop_total (City Total Population)\n",
      "\tMatch 168: city_hou_total (City Total Housing Units)\n",
      "\tMatch 169: city_pop_asian (City Asian Population)\n",
      "\tMatch 170: city_pop_black (City Black Population)\n",
      "\tMatch 171: city_pop_hispanic (City Hispanic Population)\n",
      "\tMatch 172: city_pop_white (City White Population)\n",
      "\tMatch 173: city_vehicles (Number of Commuting Vehicles)\n",
      "\tMatch 174: city_travel_time (Aggregate Travel Time to Work (min))\n",
      "\tMatch 175: city_mean_travel_time (Mean Travel Time to work Per Vehicle (min))\n",
      "\tMatch 181: roads_primary (Number of Primary Road Segments)\n",
      "\tMatch 182: roads_secondary (Number of Secondary Road Segments)\n",
      "\tMatch 183: roads_local (Number of Local Road Segments)\n",
      "\tMatch 184: road_length_mean (Mean Road Length (in miles))\n",
      "\tMatch 185: road_length_sum (Total Road Length (in miles))\n",
      "\tMatch 186: latitude (GPS Latitude)\n",
      "\tMatch 187: longitude (GPS Longitude)\n",
      "\tMatch 188: point_x (X Coordinate Location)\n",
      "\tMatch 189: point_y (Y Coordinate Location)\n",
      "Start Time: Saturday, January 25, 2025 9:11:30 AM\n",
      "Succeeded at Saturday, January 25, 2025 9:11:30 AM (Elapsed Time: 0.56 seconds)\n"
     ]
    }
   ],
   "source": [
    "# Field aliases for the collisions geodatabase feature class\n",
    "for field in fields_collisions:\n",
    "    if field.name in list(codebook.keys()):\n",
    "        print(\n",
    "            f\"\\tMatch {codebook[field.name]['var_order']}: {field.name} ({codebook[field.name]['label']})\")\n",
    "        arcpy.management.AlterField(\n",
    "            in_table = collisions_fc,\n",
    "            field = field.name,\n",
    "            new_field_alias = codebook[field.name]['label']\n",
    "        )\n",
    "print(arcpy.GetMessages())\n"
   ]
  },
  {
   "cell_type": "markdown",
   "metadata": {},
   "source": [
    "#### <font color=\"darkgreen\">Cities Feature Class</font>"
   ]
  },
  {
   "cell_type": "markdown",
   "metadata": {},
   "source": [
    "Field aliases for the cities feature class"
   ]
  },
  {
   "cell_type": "code",
   "execution_count": 20,
   "metadata": {},
   "outputs": [
    {
     "name": "stdout",
     "output_type": "stream",
     "text": [
      "\tMatch 23: city (City)\n",
      "\tMatch 24: place_type (Place Type)\n",
      "\tMatch 164: city_area_sqmi (City Area (in sq miles))\n",
      "\tMatch 167: city_pop_total (City Total Population)\n",
      "\tMatch 168: city_hou_total (City Total Housing Units)\n",
      "\tMatch 165: city_pop_dens (City Population Density (sq miles))\n",
      "\tMatch 166: city_hou_dens (City Housing Density (sq miles))\n",
      "\tMatch 169: city_pop_asian (City Asian Population)\n",
      "\tMatch 170: city_pop_black (City Black Population)\n",
      "\tMatch 171: city_pop_hispanic (City Hispanic Population)\n",
      "\tMatch 172: city_pop_white (City White Population)\n",
      "\tMatch 173: city_vehicles (Number of Commuting Vehicles)\n",
      "\tMatch 174: city_travel_time (Aggregate Travel Time to Work (min))\n",
      "\tMatch 175: city_mean_travel_time (Mean Travel Time to work Per Vehicle (min))\n",
      "Start Time: Saturday, January 25, 2025 9:11:46 AM\n",
      "Succeeded at Saturday, January 25, 2025 9:11:46 AM (Elapsed Time: 0.45 seconds)\n"
     ]
    }
   ],
   "source": [
    "# Field aliases for the cities geodatabase feature class\n",
    "for field in fields_cities:\n",
    "    if field.name in list(codebook.keys()):\n",
    "        print(\n",
    "            f\"\\tMatch {codebook[field.name]['var_order']}: {field.name} ({codebook[field.name]['label']})\")\n",
    "        arcpy.management.AlterField(\n",
    "            in_table = cities_fc,\n",
    "            field = field.name,\n",
    "            new_field_alias = codebook[field.name]['label']\n",
    "        )\n",
    "print(arcpy.GetMessages())\n"
   ]
  },
  {
   "cell_type": "markdown",
   "metadata": {},
   "source": [
    "#### <font color=\"darkgreen\">Roads Feature Class</font>"
   ]
  },
  {
   "cell_type": "markdown",
   "metadata": {},
   "source": [
    "Field aliases for the roads feature class"
   ]
  },
  {
   "cell_type": "code",
   "execution_count": 21,
   "metadata": {},
   "outputs": [
    {
     "name": "stdout",
     "output_type": "stream",
     "text": [
      "\tMatch 178: place_name (Road City)\n",
      "\tMatch 176: road_name (Road Name)\n",
      "\tMatch 177: road_id (Road ID)\n",
      "\tMatch 179: road_cat (Road Category)\n",
      "\tMatch 180: road_length (Road Length (in miles))\n",
      "\tMatch 181: roads_primary (Number of Primary Road Segments)\n",
      "\tMatch 182: roads_secondary (Number of Secondary Road Segments)\n",
      "\tMatch 183: roads_local (Number of Local Road Segments)\n",
      "\tMatch 184: road_length_mean (Mean Road Length (in miles))\n",
      "\tMatch 185: road_length_sum (Total Road Length (in miles))\n",
      "Start Time: Saturday, January 25, 2025 9:11:58 AM\n",
      "Succeeded at Saturday, January 25, 2025 9:11:58 AM (Elapsed Time: 0.45 seconds)\n"
     ]
    }
   ],
   "source": [
    "# Field aliases for the roads geodatabase feature class\n",
    "for field in fields_roads:\n",
    "    if field.name in list(codebook.keys()):\n",
    "        print(f\"\\tMatch {codebook[field.name]['var_order']}: {field.name} ({codebook[field.name]['label']})\")\n",
    "        arcpy.management.AlterField(\n",
    "            in_table = roads_fc,\n",
    "            field = field.name,\n",
    "            new_field_alias = codebook[field.name]['label']\n",
    "        )\n",
    "print(arcpy.GetMessages())\n"
   ]
  },
  {
   "cell_type": "markdown",
   "metadata": {},
   "source": [
    "## <font color=\"orangered\">**4. Geodatabase Metadata Operations**</font>"
   ]
  },
  {
   "cell_type": "markdown",
   "metadata": {},
   "source": [
    "### <font color=\"blue\">**4.1. Feature Class Aliases**</font>"
   ]
  },
  {
   "cell_type": "markdown",
   "metadata": {},
   "source": [
    "Define name aliases for the feature classes (to be used both for defining feature class aliases, and for calling layer names in map contents)"
   ]
  },
  {
   "cell_type": "code",
   "execution_count": 22,
   "metadata": {},
   "outputs": [],
   "source": [
    "# Define aliases for each of the feature classes\n",
    "alias_collisions = \"OCSWITRS Collisions\"\n",
    "alias_crashes = \"OCSWITRS Crashes\"\n",
    "alias_parties = \"OCSWITRS Parties\"\n",
    "alias_victims = \"OCSWITRS Victims\"\n",
    "alias_roads = \"OCSWITRS Roads\"\n",
    "alias_usc2020blk = \"OCSWITRS Census 2020 Blocks\"\n",
    "alias_cities = \"OCSWITRS Cities\"\n",
    "alias_boundaries = \"OCSWITRS Boundaries\"\n"
   ]
  },
  {
   "cell_type": "markdown",
   "metadata": {},
   "source": [
    "Assign aliases to feature classes"
   ]
  },
  {
   "cell_type": "code",
   "execution_count": 23,
   "metadata": {},
   "outputs": [],
   "source": [
    "# Assign alias operations to each of the feature classes\n",
    "arcpy.AlterAliasName(collisions_path, alias_collisions)\n",
    "arcpy.AlterAliasName(crashes_path, alias_crashes)\n",
    "arcpy.AlterAliasName(parties_path, alias_parties)\n",
    "arcpy.AlterAliasName(victims_path, alias_victims)\n",
    "arcpy.AlterAliasName(roads_path, alias_roads)\n",
    "arcpy.AlterAliasName(usc2020blk_path, alias_usc2020blk)\n",
    "arcpy.AlterAliasName(cities_path, alias_cities)\n",
    "arcpy.AlterAliasName(boundaries_path, alias_boundaries)\n"
   ]
  },
  {
   "cell_type": "markdown",
   "metadata": {},
   "source": [
    "Save the ArcGIS pro project"
   ]
  },
  {
   "cell_type": "code",
   "execution_count": 24,
   "metadata": {},
   "outputs": [],
   "source": [
    "# Save the project\n",
    "aprx.save()\n"
   ]
  },
  {
   "cell_type": "markdown",
   "metadata": {},
   "source": [
    "Define date strings for metadata"
   ]
  },
  {
   "cell_type": "code",
   "execution_count": 25,
   "metadata": {},
   "outputs": [
    {
     "name": "stdout",
     "output_type": "stream",
     "text": [
      "2013-2024 (January 01, 2013 to September 30, 2024)\n"
     ]
    }
   ],
   "source": [
    "# String defining the years of the raw data\n",
    "md_years = f\"{raw_date_start.year}-{raw_date_end.year}\"\n",
    "\n",
    "# String defining the start and end dates of the raw data\n",
    "md_dates = f\"{raw_date_start.strftime('%B %d, %Y')} to {raw_date_end.strftime('%B %d, %Y')}\"\n",
    "print(f\"{md_years} ({md_dates})\")\n"
   ]
  },
  {
   "cell_type": "markdown",
   "metadata": {},
   "source": [
    "### <font color=\"blue\">**4.2. Collisions Metadata**</font>"
   ]
  },
  {
   "cell_type": "markdown",
   "metadata": {},
   "source": [
    "Create a collisions metadata object"
   ]
  },
  {
   "cell_type": "code",
   "execution_count": 26,
   "metadata": {},
   "outputs": [],
   "source": [
    "# Define key metadata attributes for the Collisions feature class\n",
    "mdo_collisions = md.Metadata()\n",
    "mdo_collisions.title = \"OCSWITRS Combined Collisions Points\"\n",
    "mdo_collisions.tags = \"Orange County, California, Traffic, Traffic Conditions, Crashes, Collisions, Road Safety, Accidents, SWITRS, OCSWITRS, Transportation\"\n",
    "mdo_collisions.summary = f\"Statewide Integrated Traffic Records System (SWITRS) Combined Collisions Data for Orange County, California ({md_years})\"\n",
    "mdo_collisions.description = f\"\"\"<div style=\"text-align:Left;\"><div><div><p><span style=\"font-weight:bold;\">Statewide Integrated Traffic Records System (SWITRS)</span><span> location point data, containing </span><span style=\"font-weight:bold;\">combined reports on collision crashes, parties, and victims</span><span> in Orange County, California for {md_years} ({md_dates}). The data are collected and maintained by the </span><a href=\"https://www.chp.ca.gov:443/\" style=\"text-decoration:underline;\"><span>California Highway Patrol (CHP)</span></a><span>, from incidents reported by local and government agencies. Original tabular datasets are provided by the </span><a href=\"https://tims.berkeley.edu:443/\" style=\"text-decoration:underline;\"><span>Transportation Injury Mapping System (TIMS)</span></a><span>. Only records with reported locational GPS attributes in Orange County are included in the spatial database (either from X and Y geocoded coordinates, or the longitude and latitude coordinates generated by the CHP officer on site). Incidents without valid coordinates are omitted from this spatial dataset representation. Last Updated on <b>{last_update_date}</b></span></p></div></div></div>\"\"\"\n",
    "mdo_collisions.credits = \"Dr. Kostas Alexandridis, GISP, Data Scientist, OC Public Works, OC Survey Geospatial Services\"\n",
    "mdo_collisions.accessConstraints = \"\"\"<div style=\"text-align:Left;\"><p><span>The SWITRS data displayed are provided by the California Highway Patrol (CHP) reports through the Transportation Injury Mapping System (TIMS) of the University of California, Berkeley. Issues of report accuracy should be addressed to CHP.</span></p><p>The displayed mapped data can be used under a <a href=\"https://creativecommons.org/licenses/by-sa/3.0/\" target=\"_blank\">Creative Commons CC-SA-BY</a> License, providing attribution to TIMS, CHP, and OC Public Works, OC Survey Geospatial Services. </p><div>We make every effort to provide the most accurate and up-to-date data and information. Nevertheless, the data feed is provided, 'as is' and OC Public Work's standard <a href=\"https://www.ocgov.com/contact-county/disclaimer\" target=\"_blank\">Disclaimer</a> applies.<br /></div><div><br /></div><div>For any inquiries, suggestions or questions, please contact:</div><div><br /></div><div style=\"text-align:center;\"><a href=\"https://www.linkedin.com/in/ktalexan/\" target=\"_blank\"><b>Dr. Kostas Alexandridis, GISP</b></a><br /></div><div style=\"text-align:center;\">GIS Analyst | Spatial Complex Systems Scientist</div><div style=\"text-align:center;\">OC Public Works/OC Survey Geospatial Applications</div><div style=\"text-align:center;\"><div>601 N. Ross Street, P.O. Box 4048, Santa Ana, CA 92701</div><div>Email: <a href=\"mailto:kostas.alexandridis@ocpw.ocgov.com\" target=\"_blank\">kostas.alexandridis@ocpw.ocgov.com</a> | Phone: (714) 967-0826</div><div><br /></div></div></div>\"\"\"\n",
    "mdo_collisions.thumbnailUri = \"https://ocpw.maps.arcgis.com/sharing/rest/content/items/6b96b7d6d5394cbb95aa2fae390503a9/data\""
   ]
  },
  {
   "cell_type": "markdown",
   "metadata": {},
   "source": [
    "Assign the collisions metadata object to the collisions feature class"
   ]
  },
  {
   "cell_type": "code",
   "execution_count": 27,
   "metadata": {},
   "outputs": [],
   "source": [
    "# Apply the metadata object to the collisions feature class\n",
    "md_collisions = md.Metadata(collisions_fc)\n",
    "if not md_collisions.isReadOnly:\n",
    "    md_collisions.copy(mdo_collisions)\n",
    "    md_collisions.save()"
   ]
  },
  {
   "cell_type": "markdown",
   "metadata": {},
   "source": [
    "### <font color=\"blue\">**4.3. Crashes Metadata**</font>"
   ]
  },
  {
   "cell_type": "markdown",
   "metadata": {},
   "source": [
    "Create a new *Crashes* metadata object"
   ]
  },
  {
   "cell_type": "code",
   "execution_count": 28,
   "metadata": {},
   "outputs": [],
   "source": [
    "# Define key metadata attributes for the Crashes feature class\n",
    "mdo_crashes = md.Metadata()\n",
    "mdo_crashes.title = \"OCSWITRS Crashes Points\"\n",
    "mdo_crashes.tags = \"Orange County, California, Traffic, Traffic Conditions, Crashes, Collisions, Road Safety, Accidents, SWITRS, OCSWITRS, Transportation\"\n",
    "mdo_crashes.summary = f\"Statewide Integrated Traffic Records System (SWITRS) Crash Data for Orange County, California ({md_years})\"\n",
    "mdo_crashes.description = f\"\"\"<div style=\"text-align:Left;\"><div><div><p><span style=\"font-weight:bold;\">Statewide Integrated Traffic Records System (SWITRS)</span><span> location point data, containing </span><span style=\"font-weight:bold;\">reports on crashes</span><span> in Orange County, California for {md_years} ({md_dates}). The data are collected and maintained by the </span><a href=\"https://www.chp.ca.gov:443/\" style=\"text-decoration:underline;\"><span>California Highway Patrol (CHP)</span></a><span>, from incidents reported by local and government agencies. Original tabular datasets are provided by the </span><a href=\"https://tims.berkeley.edu:443/\" style=\"text-decoration:underline;\"><span>Transportation Injury Mapping System (TIMS)</span></a><span>. Only records with reported locational GPS attributes in Orange County are included in the spatial database (either from X and Y geocoded coordinates, or the longitude and latitude coordinates generated by the CHP officer on site). Incidents without valid coordinates are omitted from this spatial dataset representation. Last Updated on <b>{\n",
    "    last_update_date}</b></span></p></div></div></div>\"\"\"\n",
    "mdo_crashes.credits = \"Dr. Kostas Alexandridis, GISP, Data Scientist, OC Public Works, OC Survey Geospatial Services\"\n",
    "mdo_crashes.accessConstraints = \"\"\"<div style=\"text-align:Left;\"><p><span>The SWITRS data displayed are provided by the California Highway Patrol (CHP) reports through the Transportation Injury Mapping System (TIMS) of the University of California, Berkeley. Issues of report accuracy should be addressed to CHP.</span></p><p>The displayed mapped data can be used under a <a href=\"https://creativecommons.org/licenses/by-sa/3.0/\" target=\"_blank\">Creative Commons CC-SA-BY</a> License, providing attribution to TIMS, CHP, and OC Public Works, OC Survey Geospatial Services. </p><div>We make every effort to provide the most accurate and up-to-date data and information. Nevertheless, the data feed is provided, 'as is' and OC Public Work's standard <a href=\"https://www.ocgov.com/contact-county/disclaimer\" target=\"_blank\">Disclaimer</a> applies.<br /></div><div><br /></div><div>For any inquiries, suggestions or questions, please contact:</div><div><br /></div><div style=\"text-align:center;\"><a href=\"https://www.linkedin.com/in/ktalexan/\" target=\"_blank\"><b>Dr. Kostas Alexandridis, GISP</b></a><br /></div><div style=\"text-align:center;\">GIS Analyst | Spatial Complex Systems Scientist</div><div style=\"text-align:center;\">OC Public Works/OC Survey Geospatial Applications</div><div style=\"text-align:center;\"><div>601 N. Ross Street, P.O. Box 4048, Santa Ana, CA 92701</div><div>Email: <a href=\"mailto:kostas.alexandridis@ocpw.ocgov.com\" target=\"_blank\">kostas.alexandridis@ocpw.ocgov.com</a> | Phone: (714) 967-0826</div><div><br /></div></div></div>\"\"\"\n",
    "mdo_crashes.thumbnailUri = \"https://ocpw.maps.arcgis.com/sharing/rest/content/items/6b96b7d6d5394cbb95aa2fae390503a9/data\"\n"
   ]
  },
  {
   "cell_type": "markdown",
   "metadata": {},
   "source": [
    "Assign the Crashes metadata object to the crashes feature class"
   ]
  },
  {
   "cell_type": "code",
   "execution_count": 29,
   "metadata": {},
   "outputs": [],
   "source": [
    "# Apply the metadata object to the crashes feature class\n",
    "md_crashes = md.Metadata(crashes_fc)\n",
    "if not md_crashes.isReadOnly:\n",
    "    md_crashes.copy(mdo_crashes)\n",
    "    md_crashes.save()\n"
   ]
  },
  {
   "cell_type": "markdown",
   "metadata": {},
   "source": [
    "### <font color=\"blue\">**4.4. Parties Metadata**</font>"
   ]
  },
  {
   "cell_type": "markdown",
   "metadata": {},
   "source": [
    "Create a parties metadata object"
   ]
  },
  {
   "cell_type": "code",
   "execution_count": 30,
   "metadata": {},
   "outputs": [],
   "source": [
    "# Define key metadata attributes for the Parties feature class\n",
    "mdo_parties = md.Metadata()\n",
    "mdo_parties.title = \"OCSWITRS Parties Points\"\n",
    "mdo_parties.tags = \"Orange County, California, Traffic, Traffic Conditions, Crashes, Parties, Collisions, Road Safety, Accidents, SWITRS, OCSWITRS, Transportation\"\n",
    "mdo_parties.summary = f\"Statewide Integrated Traffic Records System (SWITRS) Incident-Involved Parties Data for Orange County, California ({md_years})\"\n",
    "mdo_parties.description = f\"\"\"<div style=\"text-align:Left;\"><div><div><p><span style=\"font-weight:bold;\">Statewide Integrated Traffic Records System (SWITRS)</span><span> location point data, containing </span><span style=\"font-weight:bold;\">reports on parties involved in crash incidents</span><span> in Orange County, California for {md_years} ({md_dates}). The data are collected and maintained by the </span><a href=\"https://www.chp.ca.gov:443/\" style=\"text-decoration:underline;\"><span>California Highway Patrol (CHP)</span></a><span>, from incidents reported by local and government agencies. Original tabular datasets are provided by the </span><a href=\"https://tims.berkeley.edu:443/\" style=\"text-decoration:underline;\"><span>Transportation Injury Mapping System (TIMS)</span></a><span>. Only records with reported locational GPS attributes in Orange County are included in the spatial database (either from X and Y geocoded coordinates, or the longitude and latitude coordinates generated by the CHP officer on site). Incidents without valid coordinates are omitted from this spatial dataset representation. Last Updated on <b>{\n",
    "    last_update_date}</b></span></p></div></div></div>\"\"\"\n",
    "mdo_parties.credits = \"Dr. Kostas Alexandridis, GISP, Data Scientist, OC Public Works, OC Survey Geospatial Services\"\n",
    "mdo_parties.accessConstraints = \"\"\"<div style=\"text-align:Left;\"><p><span>The SWITRS data displayed are provided by the California Highway Patrol (CHP) reports through the Transportation Injury Mapping System (TIMS) of the University of California, Berkeley. Issues of report accuracy should be addressed to CHP.</span></p><p>The displayed mapped data can be used under a <a href=\"https://creativecommons.org/licenses/by-sa/3.0/\" target=\"_blank\">Creative Commons CC-SA-BY</a> License, providing attribution to TIMS, CHP, and OC Public Works, OC Survey Geospatial Services. </p><div>We make every effort to provide the most accurate and up-to-date data and information. Nevertheless, the data feed is provided, 'as is' and OC Public Work's standard <a href=\"https://www.ocgov.com/contact-county/disclaimer\" target=\"_blank\">Disclaimer</a> applies.<br /></div><div><br /></div><div>For any inquiries, suggestions or questions, please contact:</div><div><br /></div><div style=\"text-align:center;\"><a href=\"https://www.linkedin.com/in/ktalexan/\" target=\"_blank\"><b>Dr. Kostas Alexandridis, GISP</b></a><br /></div><div style=\"text-align:center;\">GIS Analyst | Spatial Complex Systems Scientist</div><div style=\"text-align:center;\">OC Public Works/OC Survey Geospatial Applications</div><div style=\"text-align:center;\"><div>601 N. Ross Street, P.O. Box 4048, Santa Ana, CA 92701</div><div>Email: <a href=\"mailto:kostas.alexandridis@ocpw.ocgov.com\" target=\"_blank\">kostas.alexandridis@ocpw.ocgov.com</a> | Phone: (714) 967-0826</div><div><br /></div></div></div>\"\"\"\n",
    "mdo_parties.thumbnailUri = \"https://ocpw.maps.arcgis.com/sharing/rest/content/items/1e07bb1002f9457fa6fd3540fdb08e29/data\"\n"
   ]
  },
  {
   "cell_type": "markdown",
   "metadata": {},
   "source": [
    "Assign the parties metadata object to the parties feature class"
   ]
  },
  {
   "cell_type": "code",
   "execution_count": 31,
   "metadata": {},
   "outputs": [],
   "source": [
    "# Apply the metadata object to the parties feature class\n",
    "md_parties = md.Metadata(parties_fc)\n",
    "if not md_parties.isReadOnly:\n",
    "    md_parties.copy(mdo_parties)\n",
    "    md_parties.save()\n"
   ]
  },
  {
   "cell_type": "markdown",
   "metadata": {},
   "source": [
    "### <font color=\"blue\">**4.5. Victims Metadata**</font>"
   ]
  },
  {
   "cell_type": "markdown",
   "metadata": {},
   "source": [
    "Create a victims metadata object"
   ]
  },
  {
   "cell_type": "code",
   "execution_count": 32,
   "metadata": {},
   "outputs": [],
   "source": [
    "# Define key metadata attributes for the Victims feature class\n",
    "mdo_victims = md.Metadata()\n",
    "mdo_victims.title = \"OCSWITRS Victims Points\"\n",
    "mdo_victims.tags = \"Orange County, California, Traffic, Traffic Conditions, Crashes, Victims, Collisions, Road Safety, Accidents, SWITRS, OCSWITRS, Transportation\"\n",
    "mdo_victims.summary = f\"Statewide Integrated Traffic Records System (SWITRS) Incident-Involved Victims Data for Orange County, California ({md_years})\"\n",
    "mdo_victims.description = f\"\"\"<div style=\"text-align:Left;\"><div><div><p><span style=\"font-weight:bold;\">Statewide Integrated Traffic Records System (SWITRS)</span><span> location point data, containing </span><span style=\"font-weight:bold;\">reports on victims/persons involved in crash incidents</span><span> in Orange County, California for {md_years} ({md_dates}). The data are collected and maintained by the </span><a href=\"https://www.chp.ca.gov:443/\" style=\"text-decoration:underline;\"><span>California Highway Patrol (CHP)</span></a><span>, from incidents reported by local and government agencies. Original tabular datasets are provided by the </span><a href=\"https://tims.berkeley.edu:443/\" style=\"text-decoration:underline;\"><span>Transportation Injury Mapping System (TIMS)</span></a><span>. Only records with reported locational GPS attributes in Orange County are included in the spatial database (either from X and Y geocoded coordinates, or the longitude and latitude coordinates generated by the CHP officer on site). Incidents without valid coordinates are omitted from this spatial dataset representation. Last Updated on <b>{\n",
    "    last_update_date}</b></span></p></div></div></div>\"\"\"\n",
    "mdo_victims.credits = \"Dr. Kostas Alexandridis, GISP, Data Scientist, OC Public Works, OC Survey Geospatial Services\"\n",
    "mdo_victims.accessConstraints = \"\"\"<div style=\"text-align:Left;\"><p><span>The SWITRS data displayed are provided by the California Highway Patrol (CHP) reports through the Transportation Injury Mapping System (TIMS) of the University of California, Berkeley. Issues of report accuracy should be addressed to CHP.</span></p><p>The displayed mapped data can be used under a <a href=\"https://creativecommons.org/licenses/by-sa/3.0/\" target=\"_blank\">Creative Commons CC-SA-BY</a> License, providing attribution to TIMS, CHP, and OC Public Works, OC Survey Geospatial Services. </p><div>We make every effort to provide the most accurate and up-to-date data and information. Nevertheless, the data feed is provided, 'as is' and OC Public Work's standard <a href=\"https://www.ocgov.com/contact-county/disclaimer\" target=\"_blank\">Disclaimer</a> applies.<br /></div><div><br /></div><div>For any inquiries, suggestions or questions, please contact:</div><div><br /></div><div style=\"text-align:center;\"><a href=\"https://www.linkedin.com/in/ktalexan/\" target=\"_blank\"><b>Dr. Kostas Alexandridis, GISP</b></a><br /></div><div style=\"text-align:center;\">GIS Analyst | Spatial Complex Systems Scientist</div><div style=\"text-align:center;\">OC Public Works/OC Survey Geospatial Applications</div><div style=\"text-align:center;\"><div>601 N. Ross Street, P.O. Box 4048, Santa Ana, CA 92701</div><div>Email: <a href=\"mailto:kostas.alexandridis@ocpw.ocgov.com\" target=\"_blank\">kostas.alexandridis@ocpw.ocgov.com</a> | Phone: (714) 967-0826</div><div><br /></div></div></div>\"\"\"\n",
    "mdo_victims.thumbnailUri = \"https://ocpw.maps.arcgis.com/sharing/rest/content/items/78682395df4744009c58625f1db0c25b/data\"\n"
   ]
  },
  {
   "cell_type": "markdown",
   "metadata": {},
   "source": [
    "Assign the victims metadata object to the victims feature class"
   ]
  },
  {
   "cell_type": "code",
   "execution_count": 33,
   "metadata": {},
   "outputs": [],
   "source": [
    "# Apply the metadata object to the victims feature class\n",
    "md_victims = md.Metadata(victims_fc)\n",
    "if not md_victims.isReadOnly:\n",
    "    md_victims.copy(mdo_victims)\n",
    "    md_victims.save()\n"
   ]
  },
  {
   "cell_type": "markdown",
   "metadata": {},
   "source": [
    "### <font color=\"blue\">**4.6. Roads Metadata**</font>"
   ]
  },
  {
   "cell_type": "markdown",
   "metadata": {},
   "source": [
    "Create a roads metadata object"
   ]
  },
  {
   "cell_type": "code",
   "execution_count": 34,
   "metadata": {},
   "outputs": [],
   "source": [
    "# Define key metadata attributes for the Roads feature class\n",
    "mdo_roads = md.Metadata()\n",
    "mdo_roads.title = \"OCSWITRS Roads Network\"\n",
    "mdo_roads.tags = \"Orange County, California, Roads, Traffic, Road Safety, Transportation, Collisions, Crashes, SWITRS, OCSWITRS\"\n",
    "mdo_roads.summary = \"All roads for Orange County, California (Primary roads and highways, secondary roads, and local roads)\"\n",
    "mdo_roads.description = \"\"\"<div style=\"text-align:Left;\"><div><div><p><span>The Orange County Roads Network is a comprehensive representation of all roads in the area, including primary roads and highways, secondary roads, and local roads. The data are sourced from the Orange County Department of Public Works and are updated regularly to reflect the most current road network configuration.</span></p></div></div></div>\"\"\"\n",
    "mdo_roads.credits = \"Dr. Kostas Alexandridis, GISP, Data Scientist, OC Public Works, OC Survey Geospatial Services\"\n",
    "mdo_roads.accessConstraints = \"\"\"<div style=\"text-align:Left;\"><div><div><p><span>The feed data and associated resources (maps, apps, endpoints) can be used under a <a href=\"https://creativecommons.org/licenses/by-sa/3.0/\" target=\"_blank\">Creative Commons CC-SA-BY</a> License, providing attribution to OC Public Works, OC Survey Geospatial Services. </p><div>We make every effort to provide the most accurate and up-to-date data and information. Nevertheless, the data feed is provided, 'as is' and OC Public Work's standard <a href=\"https://www.ocgov.com/contact-county/disclaimer\" target=\"_blank\">Disclaimer</a> applies.<br /></div><div><br /></div><div>For any inquiries, suggestions or questions, please contact:</div><div><br /></div><div style=\"text-align:center;\"><a href=\"https://www.linkedin.com/in/ktalexan/\" target=\"_blank\"><b>Dr. Kostas Alexandridis, GISP</b></a><br /></div><div style=\"text-align:center;\">GIS Analyst | Spatial Complex Systems Scientist</div><div style=\"text-align:center;\">OC Public Works/OC Survey Geospatial Applications</div><div style=\"text-align:center;\"><div>601 N. Ross Street, P.O. Box 4048, Santa Ana, CA 92701</div><div>Email: <a href=\"mailto:kostas.alexandridis@ocpw.ocgov.com\" target=\"_blank\">kostas.alexandridis@ocpw.ocgov.com</a> | Phone: (714) 967-0826</div><div><br /></div></div></div>\"\"\"\n",
    "mdo_roads.thumbnailUri = \"https://ocpw.maps.arcgis.com/sharing/rest/content/items/76f6fbe9acbb482c9684307854d6352b/data\"\n"
   ]
  },
  {
   "cell_type": "markdown",
   "metadata": {},
   "source": [
    "Assign the roads metadata object to the roads feature class"
   ]
  },
  {
   "cell_type": "code",
   "execution_count": 35,
   "metadata": {},
   "outputs": [],
   "source": [
    "# Apply the metadata object to the roads feature class\n",
    "md_roads = md.Metadata(roads_fc)\n",
    "if not md_roads.isReadOnly:\n",
    "    md_roads.copy(mdo_roads)\n",
    "    md_roads.save()\n"
   ]
  },
  {
   "cell_type": "markdown",
   "metadata": {},
   "source": [
    "### <font color=\"blue\">**4.7. US Census 2020 Blocks Metadata**</font>"
   ]
  },
  {
   "cell_type": "markdown",
   "metadata": {},
   "source": [
    "Create a US Census 2020 Blocks metadata object"
   ]
  },
  {
   "cell_type": "code",
   "execution_count": 36,
   "metadata": {},
   "outputs": [],
   "source": [
    "# Define key metadata attributes for the US Census 2020 Blocks feature class\n",
    "mdo_usc2020blk = md.Metadata()\n",
    "mdo_usc2020blk.title = \"OCSWITRS US Census 2020 Blocks\"\n",
    "mdo_usc2020blk.tags = \"Orange County, California, US Census 2020, Blocks, Census, Demographics, Population\"\n",
    "mdo_usc2020blk.summary = \"US Census 2020 Blocks for Orange County, California\"\n",
    "mdo_usc2020blk.description = \"\"\"<div style=\"text-align:Left;\"><div><div><p><span>The US Census 2020 Blocks feature class provides a comprehensive representation of the 2020 Census Blocks for Orange County, California. The data are sourced from the US Census Bureau and are updated regularly to reflect the most current demographic and population data.</span></p></div></div></div>\"\"\"\n",
    "mdo_usc2020blk.credits = \"Dr. Kostas Alexandridis, GISP, Data Scientist, OC Public Works, OC Survey Geospatial Services\"\n",
    "mdo_usc2020blk.accessConstraints = \"\"\"<div style=\"text-align:Left;\"><div><div><p><span>The feed data and associated resources (maps, apps, endpoints) can be used under a <a href=\"https://creativecommons.org/licenses/by-sa/3.0/\" target=\"_blank\">Creative Commons CC-SA-BY</a> License, providing attribution to OC Public Works, OC Survey Geospatial Services. </p><div>We make every effort to provide the most accurate and up-to-date data and information. Nevertheless, the data feed is provided, 'as is' and OC Public Work's standard <a href=\"https://www.ocgov.com/contact-county/disclaimer\" target=\"_blank\">Disclaimer</a> applies.<br /></div><div><br /></div><div>For any inquiries, suggestions or questions, please contact:</div><div><br /></div><div style=\"text-align:center;\"><a href=\"https://www.linkedin.com/in/ktalexan/\" target=\"_blank\"><b>Dr. Kostas Alexandridis, GISP</b></a><br /></div><div style=\"text-align:center;\">GIS Analyst | Spatial Complex Systems Scientist</div><div style=\"text-align:center;\">OC Public Works/OC Survey Geospatial Applications</div><div style=\"text-align:center;\"><div>601 N. Ross Street, P.O. Box 4048, Santa Ana, CA 92701</div><div>Email: <a href=\"mailto:kostas.alexandridis@ocpw.ocgov.com\" target=\"_blank\">kostas.alexandridis@ocpw.ocgov.com</a> | Phone: (714) 967-0826</div><div><br /></div></div></div>\"\"\"\n",
    "mdo_usc2020blk.thumbnailUri = \"https://ocpw.maps.arcgis.com/sharing/rest/content/items/e2c4cd39783a4d1bb0925ead15a23cdc/data\"\n"
   ]
  },
  {
   "cell_type": "markdown",
   "metadata": {},
   "source": [
    "Assign the US Census 2020 Blocks metadata object to the US Census 2020 Blocks feature class"
   ]
  },
  {
   "cell_type": "code",
   "execution_count": 37,
   "metadata": {},
   "outputs": [],
   "source": [
    "# Apply the metadata object to the US Census 2020 Blocks feature class\n",
    "md_usc2020blk = md.Metadata(usc2020blk_fc)\n",
    "if not md_usc2020blk.isReadOnly:\n",
    "    md_usc2020blk.copy(mdo_usc2020blk)\n",
    "    md_usc2020blk.save()\n",
    "    "
   ]
  },
  {
   "cell_type": "markdown",
   "metadata": {},
   "source": [
    "### <font color=\"blue\">**4.8. Cities Metadata**</font>"
   ]
  },
  {
   "cell_type": "markdown",
   "metadata": {},
   "source": [
    "Create a cities metadata object"
   ]
  },
  {
   "cell_type": "code",
   "execution_count": 38,
   "metadata": {},
   "outputs": [],
   "source": [
    "# Define key metadata attributes for the Cities feature class\n",
    "mdo_cities = md.Metadata()\n",
    "mdo_cities.title = \"OCSWITRS Cities Boundaries\"\n",
    "mdo_cities.tags = \"Orange County, California, Cities, Traffic, Road Safety, Transportation, Collisions, Crashes, SWITRS, OCSWITRS\"\n",
    "mdo_cities.summary = \"Orange County City and Unincorporated Areas Land Boundaries, enriched with geodemographic characteristics\"\n",
    "mdo_cities.description = \"\"\"<div style=\"text-align:Left;\"><div><div><p><span>The Orange County City and Unincorporated Areas Land Boundaries are enriched with a comprehensive set of geodemographic characteristics from OC ACS 2021 data. These characteristics span across demographic, housing, economic, and social aspects, providing a holistic view of the area. </span></p><p><span>The geodemographic data originate from the US Census American Community Survey (ACS) 2021, a 5-year estimate of the key Characteristics of Cities' geographic level in Orange County, California. The data contains:</span></p><ul><li><p><span>Total population and housing counts for each area;</span></p></li><li><p><span>Population and housing density measurements (per square mile);</span></p></li><li><p><span>Race counts for Asian, Black or African American, Hispanic and White groups;</span></p></li><li><p><span>Aggregate values for the number of vehicles commuting and travel time to work;</span></p></li></ul></div></div></div>\"\"\"\n",
    "mdo_cities.credits = \"Dr. Kostas Alexandridis, GISP, Data Scientist, OC Public Works, OC Survey Geospatial Services\"\n",
    "mdo_cities.accessConstraints = \"\"\"<div style=\"text-align:Left;\"><div><div><p><span>The feed data and associated resources (maps, apps, endpoints) can be used under a <a href=\"https://creativecommons.org/licenses/by-sa/3.0/\" target=\"_blank\">Creative Commons CC-SA-BY</a> License, providing attribution to OC Public Works, OC Survey Geospatial Services. </p><div>We make every effort to provide the most accurate and up-to-date data and information. Nevertheless, the data feed is provided, 'as is' and OC Public Work's standard <a href=\"https://www.ocgov.com/contact-county/disclaimer\" target=\"_blank\">Disclaimer</a> applies.<br /></div><div><br /></div><div>For any inquiries, suggestions or questions, please contact:</div><div><br /></div><div style=\"text-align:center;\"><a href=\"https://www.linkedin.com/in/ktalexan/\" target=\"_blank\"><b>Dr. Kostas Alexandridis, GISP</b></a><br /></div><div style=\"text-align:center;\">GIS Analyst | Spatial Complex Systems Scientist</div><div style=\"text-align:center;\">OC Public Works/OC Survey Geospatial Applications</div><div style=\"text-align:center;\"><div>601 N. Ross Street, P.O. Box 4048, Santa Ana, CA 92701</div><div>Email: <a href=\"mailto:kostas.alexandridis@ocpw.ocgov.com\" target=\"_blank\">kostas.alexandridis@ocpw.ocgov.com</a> | Phone: (714) 967-0826</div><div><br /></div></div></div>\"\"\"\n",
    "mdo_cities.thumbnailUri = \"https://ocpw.maps.arcgis.com/sharing/rest/content/items/ffe4a73307a245eda7dc7eaffe1db6d2/data\"\n"
   ]
  },
  {
   "cell_type": "markdown",
   "metadata": {},
   "source": [
    "Assign the cities metadata object to the cities feature class"
   ]
  },
  {
   "cell_type": "code",
   "execution_count": 39,
   "metadata": {},
   "outputs": [],
   "source": [
    "# Apply the metadata object to the cities feature class\n",
    "md_cities = md.Metadata(cities_fc)\n",
    "if not md_cities.isReadOnly:\n",
    "    md_cities.copy(mdo_cities)\n",
    "    md_cities.save()\n"
   ]
  },
  {
   "cell_type": "markdown",
   "metadata": {},
   "source": [
    "### <font color=\"blue\">**4.9. Boundaries Metadata**</font>"
   ]
  },
  {
   "cell_type": "markdown",
   "metadata": {},
   "source": [
    "Create a boundaries metadata object"
   ]
  },
  {
   "cell_type": "code",
   "execution_count": 40,
   "metadata": {},
   "outputs": [],
   "source": [
    "# Define key metadata attributes for the Boundaries feature class\n",
    "mdo_boundaries = md.Metadata()\n",
    "mdo_boundaries.title = \"OC Land Boundaries\"\n",
    "mdo_boundaries.tags = \"Orange County, California, Boundaries, Traffic, Road Safety, Transportation, Collisions, Crashes, SWITRS, OCSWITRS\"\n",
    "mdo_boundaries.summary = \"Land boundaries for Orange County, cities, and unincorporated areas\"\n",
    "mdo_boundaries.description = \"\"\"<div style=\"text-align:Left;\"><div><div><p><span>Land boundaries for Orange County, cities, and unincorporated areas (based on the five supervisorial districts). Contains additional geodemographic data on population and housing from the US Census 2021 American Community Survey (ACS).</span></p></div></div></div>\"\"\"\n",
    "mdo_boundaries.credits = \"Dr. Kostas Alexandridis, GISP, Data Scientist, OC Public Works, OC Survey Geospatial Services\"\n",
    "mdo_boundaries.accessConstraints = \"\"\"<div style=\"text-align:Left;\"><div><div><p><span>The feed data and associated resources (maps, apps, endpoints) can be used under a <a href=\"https://creativecommons.org/licenses/by-sa/3.0/\" target=\"_blank\">Creative Commons CC-SA-BY</a> License, providing attribution to OC Public Works, OC Survey Geospatial Services. </p><div>We make every effort to provide the most accurate and up-to-date data and information. Nevertheless, the data feed is provided, 'as is' and OC Public Work's standard <a href=\"https://www.ocgov.com/contact-county/disclaimer\" target=\"_blank\">Disclaimer</a> applies.<br /></div><div><br /></div><div>For any inquiries, suggestions or questions, please contact:</div><div><br /></div><div style=\"text-align:center;\"><a href=\"https://www.linkedin.com/in/ktalexan/\" target=\"_blank\"><b>Dr. Kostas Alexandridis, GISP</b></a><br /></div><div style=\"text-align:center;\">GIS Analyst | Spatial Complex Systems Scientist</div><div style=\"text-align:center;\">OC Public Works/OC Survey Geospatial Applications</div><div style=\"text-align:center;\"><div>601 N. Ross Street, P.O. Box 4048, Santa Ana, CA 92701</div><div>Email: <a href=\"mailto:kostas.alexandridis@ocpw.ocgov.com\" target=\"_blank\">kostas.alexandridis@ocpw.ocgov.com</a> | Phone: (714) 967-0826</div><div><br /></div></div></div>\"\"\"\n",
    "mdo_boundaries.thumbnailUri = \"https://ocpw.maps.arcgis.com/sharing/rest/content/items/4041c4b1f4234218a4ce654e5d22f176/data\"\n"
   ]
  },
  {
   "cell_type": "markdown",
   "metadata": {},
   "source": [
    "Assign the boundaries metadata object to the boundaries feature class"
   ]
  },
  {
   "cell_type": "code",
   "execution_count": 41,
   "metadata": {},
   "outputs": [],
   "source": [
    "# Apply the metadata object to the boundaries feature class\n",
    "md_boundaries = md.Metadata(boundaries_fc)\n",
    "if not md_boundaries.isReadOnly:\n",
    "    md_boundaries.copy(mdo_boundaries)\n",
    "    md_boundaries.save()\n"
   ]
  },
  {
   "cell_type": "markdown",
   "metadata": {},
   "source": [
    "Save the ArcGIS pro project"
   ]
  },
  {
   "cell_type": "code",
   "execution_count": 42,
   "metadata": {},
   "outputs": [],
   "source": [
    "# Save the project\n",
    "aprx.save()\n"
   ]
  },
  {
   "cell_type": "markdown",
   "metadata": {},
   "source": [
    "## <font color=\"orangered\">**5. Map Layer Operations**</font>"
   ]
  },
  {
   "cell_type": "markdown",
   "metadata": {},
   "source": [
    "In this section we will be creating map layers for the feature classes."
   ]
  },
  {
   "cell_type": "markdown",
   "metadata": {},
   "source": [
    "### <font color=\"blue\">**5.1. Visual Layer Operations**</font>"
   ]
  },
  {
   "cell_type": "markdown",
   "metadata": {},
   "source": [
    "Add and rename layers in contents view, using their aliases"
   ]
  },
  {
   "cell_type": "markdown",
   "metadata": {},
   "source": [
    "Add the feature classes to the map"
   ]
  },
  {
   "cell_type": "code",
   "execution_count": 43,
   "metadata": {},
   "outputs": [
    {
     "name": "stdout",
     "output_type": "stream",
     "text": [
      "Added layers to the map:\n",
      "- OCSWITRS Collisions\n",
      "- OCSWITRS Crashes\n",
      "- OCSWITRS Parties\n",
      "- OCSWITRS Victims\n",
      "- OCSWITRS Roads\n",
      "- OCSWITRS Census 2020 Blocks\n",
      "- OCSWITRS Cities\n",
      "- OCSWITRS Boundaries\n"
     ]
    }
   ],
   "source": [
    "# Add the layers to the map (in order, the first layer goes to the bottom of the contents)\n",
    "boundaries_lyr_name = map_main.addDataFromPath(boundaries_fc)\n",
    "cities_lyr_name = map_main.addDataFromPath(cities_fc)\n",
    "usc2020blk_lyr_name = map_main.addDataFromPath(usc2020blk_fc)\n",
    "roads_lyr_name = map_main.addDataFromPath(roads_fc)\n",
    "victims_lyr_name = map_main.addDataFromPath(victims_fc)\n",
    "parties_lyr_name = map_main.addDataFromPath(parties_fc)\n",
    "crashes_lyr_name = map_main.addDataFromPath(crashes_fc)\n",
    "collisions_lyr_name = map_main.addDataFromPath(collisions_fc)\n",
    "\n",
    "print(f\"Added layers to the map:\\n- {collisions_lyr_name}\\n- {crashes_lyr_name}\\n- {parties_lyr_name}\\n- {victims_lyr_name}\\n- {roads_lyr_name}\\n- {usc2020blk_lyr_name}\\n- {cities_lyr_name}\\n- {boundaries_lyr_name}\")\n"
   ]
  },
  {
   "cell_type": "code",
   "execution_count": 44,
   "metadata": {},
   "outputs": [],
   "source": [
    "# Save the project\n",
    "aprx.save()\n"
   ]
  },
  {
   "cell_type": "markdown",
   "metadata": {},
   "source": [
    "Define individual layers for each of the SWITRS feature classes"
   ]
  },
  {
   "cell_type": "code",
   "execution_count": 45,
   "metadata": {},
   "outputs": [
    {
     "name": "stdout",
     "output_type": "stream",
     "text": [
      "Active Map Layers:\n",
      " - OCSWITRS Collisions\n",
      " - OCSWITRS Crashes\n",
      " - OCSWITRS Parties\n",
      " - OCSWITRS Victims\n",
      " - OCSWITRS Roads\n",
      " - OCSWITRS Census 2020 Blocks\n",
      " - OCSWITRS Cities\n",
      " - OCSWITRS Boundaries\n",
      " - World Topographic Map\n"
     ]
    }
   ],
   "source": [
    "# Store the current list of layers to a new variable\n",
    "map_lyrs = map_main.listLayers()\n",
    "\n",
    "# Store the names of the layers in a list\n",
    "map_lyrs_list = [mlyr.name for mlyr in map_lyrs]\n",
    "\n",
    "print(\"Active Map Layers:\")\n",
    "# Loop through the list of layers in the map, and print their names\n",
    "for mlyr in map_lyrs:\n",
    "    print(f\" - {mlyr.name}\")\n"
   ]
  },
  {
   "cell_type": "code",
   "execution_count": 46,
   "metadata": {},
   "outputs": [],
   "source": [
    "# Identify each of the Crashes, Parties, Victim and Collisions layers\n",
    "collisions_lyr = next((mlyr for mlyr in map_lyrs if mlyr.name == alias_collisions), False)\n",
    "crashes_lyr = next((mlyr for mlyr in map_lyrs if mlyr.name == alias_crashes), False)\n",
    "parties_lyr = next((mlyr for mlyr in map_lyrs if mlyr.name == alias_parties), False)\n",
    "victims_lyr = next((mlyr for mlyr in map_lyrs if mlyr.name == alias_victims), False)\n",
    "roads_lyr = next((mlyr for mlyr in map_lyrs if mlyr.name == alias_roads), False)\n",
    "usc2020blk_lyr = next((mlyr for mlyr in map_lyrs if mlyr.name == alias_usc2020blk), False)\n",
    "cities_lyr = next((mlyr for mlyr in map_lyrs if mlyr.name == alias_cities), False)\n",
    "boundaries_lyr = next((mlyr for mlyr in map_lyrs if mlyr.name == alias_boundaries), False)\n",
    "\n",
    "# Define a list of the four layers, and a list of supporting data layers\n",
    "data_lyrs_list = [collisions_lyr, crashes_lyr, parties_lyr, victims_lyr]\n",
    "supp_lyrs_list = [roads_lyr, usc2020blk_lyr, cities_lyr, boundaries_lyr]\n"
   ]
  },
  {
   "cell_type": "markdown",
   "metadata": {},
   "source": [
    "Turn off the initial visibility of all layers in the map"
   ]
  },
  {
   "cell_type": "code",
   "execution_count": 47,
   "metadata": {},
   "outputs": [],
   "source": [
    "# Iterate through the data layers list\n",
    "for lyr in data_lyrs_list:\n",
    "    # If the layer is not False\n",
    "    if lyr:\n",
    "        # Set the visibility of the layer to True\n",
    "        lyr.visible = False\n",
    "\n",
    "# Iterate through the supporting data layers list\n",
    "for lyr in supp_lyrs_list:\n",
    "    # If the layer is not False\n",
    "    if lyr:\n",
    "        # Set the visibility of the layer to True\n",
    "        lyr.visible = False\n"
   ]
  },
  {
   "cell_type": "markdown",
   "metadata": {},
   "source": [
    "Save the ArcGIS pro project"
   ]
  },
  {
   "cell_type": "code",
   "execution_count": 48,
   "metadata": {},
   "outputs": [],
   "source": [
    "# Save the project\n",
    "aprx.save()\n"
   ]
  },
  {
   "cell_type": "markdown",
   "metadata": {},
   "source": [
    "### <font color=\"blue\">**5.2. Map Layer Time Settings Configuration**</font>"
   ]
  },
  {
   "cell_type": "markdown",
   "metadata": {},
   "source": [
    "In this subsection we will configure the time settings for the map layers, so that the map view will be time-enabled"
   ]
  },
  {
   "cell_type": "markdown",
   "metadata": {},
   "source": [
    "> <font color=\"orange\">⚠️ **Reminder**:</font> When doing an update on the raw data, make sure you update the the end-time date for the project (this changes with each update).\n",
    "- Current End Date: 9/30/2024, thus the time settings for the map layers will be set to the end of this date (9/30/2024, 23:59:59, or better, 10/1/2024, 00:00:00)."
   ]
  },
  {
   "cell_type": "markdown",
   "metadata": {},
   "source": [
    "Set time settings configuration for the map layers"
   ]
  },
  {
   "cell_type": "code",
   "execution_count": 49,
   "metadata": {},
   "outputs": [],
   "source": [
    "# Define the key time parameters for the layers using a dictionary\n",
    "time_settings = {\n",
    "    \"st\": datetime(2013, 1, 1, 0, 0),\n",
    "    \"et\": datetime(2024, 10, 1, 0, 0),\n",
    "    \"td\": datetime(2024, 10, 1, 0, 0) - datetime(2013, 1, 1, 0, 0),\n",
    "    \"stf\": \"date_datetime\",\n",
    "    \"tsi\": 1.0,\n",
    "    \"tsiu\": \"months\",\n",
    "    \"tz\": arcpy.mp.ListTimeZones(\"*Pacific*\")[0]\n",
    "}  \n",
    "# where, st: start time, et: end time, td: time extent, stf: time field, \n",
    "# tsi: time interval, tsiu: time units, tz: time zone"
   ]
  },
  {
   "cell_type": "markdown",
   "metadata": {},
   "source": [
    "Enable layer time, if needed"
   ]
  },
  {
   "cell_type": "code",
   "execution_count": 50,
   "metadata": {},
   "outputs": [],
   "source": [
    "# Iterate through the data layer list and enable time\n",
    "for mylyr in data_lyrs_list:\n",
    "    # if the layer is not time-enabled\n",
    "    if not mylyr.isTimeEnabled:\n",
    "        # Enable time for the layer\n",
    "        mylyr.enableTime(\"date_datetime\", \"\", \"TRUE\", None)\n",
    "        # Set the start time for the layer\n",
    "        mylyr.time.startTime = time_settings[\"st\"]\n",
    "        # Set the end time for the layer\n",
    "        mylyr.time.endTime = time_settings[\"et\"]\n",
    "        # Set the time field for the layer\n",
    "        mylyr.time.startTimeField = time_settings[\"stf\"]\n",
    "        # Set the time step interval for the layer\n",
    "        mylyr.time.timeStepInterval = time_settings[\"tsi\"]\n",
    "        # Set the time step interval units for the layer\n",
    "        mylyr.time.timeStepIntervalUnits = time_settings[\"tsiu\"]\n",
    "        # Set the time zone for the layer\n",
    "        mylyr.time.timeZone = time_settings[\"tz\"]\n"
   ]
  },
  {
   "cell_type": "markdown",
   "metadata": {},
   "source": [
    "Reset time step interval parameters (seems to be a problem showing 10 months instead of 1 month)"
   ]
  },
  {
   "cell_type": "code",
   "execution_count": 51,
   "metadata": {},
   "outputs": [],
   "source": [
    "# Iterate through the data layer list and manually change the time's time step interval\n",
    "for mylyr in data_lyrs_list:\n",
    "    if mylyr.isTimeEnabled:\n",
    "        mylyr.time.timeStepInterval = 1.0\n",
    "        mylyr.time.timeStepIntervalUnits = \"months\"\n"
   ]
  },
  {
   "cell_type": "markdown",
   "metadata": {},
   "source": [
    "Read and display the current time settings of the layers"
   ]
  },
  {
   "cell_type": "code",
   "execution_count": 52,
   "metadata": {},
   "outputs": [
    {
     "name": "stdout",
     "output_type": "stream",
     "text": [
      "OCSWITRS Collisions\n",
      "- Time Field: Crash Date and Time (date_datetime)\n",
      "- Time Step Intervals: 1 months\n",
      "- Start Time: 01/01/2013 00:00 AM\n",
      "- End Time: 10/01/2024 00:00 AM\n",
      "- Time Extent: 4,291 days (141 months)\n",
      "- Time Zone: (UTC-08:00) Pacific Time (US & Canada)\n",
      "OCSWITRS Crashes\n",
      "- Time Field: Crash Date and Time (date_datetime)\n",
      "- Time Step Intervals: 1 months\n",
      "- Start Time: 01/01/2013 00:00 AM\n",
      "- End Time: 10/01/2024 00:00 AM\n",
      "- Time Extent: 4,291 days (141 months)\n",
      "- Time Zone: (UTC-08:00) Pacific Time (US & Canada)\n",
      "OCSWITRS Parties\n",
      "- Time Field: Crash Date and Time (date_datetime)\n",
      "- Time Step Intervals: 1 months\n",
      "- Start Time: 01/01/2013 00:00 AM\n",
      "- End Time: 10/01/2024 00:00 AM\n",
      "- Time Extent: 4,291 days (141 months)\n",
      "- Time Zone: (UTC-08:00) Pacific Time (US & Canada)\n",
      "OCSWITRS Victims\n",
      "- Time Field: Crash Date and Time (date_datetime)\n",
      "- Time Step Intervals: 1 months\n",
      "- Start Time: 01/01/2013 00:00 AM\n",
      "- End Time: 10/01/2024 00:00 AM\n",
      "- Time Extent: 4,291 days (141 months)\n",
      "- Time Zone: (UTC-08:00) Pacific Time (US & Canada)\n"
     ]
    }
   ],
   "source": [
    "# Iterate through the data layer list and display the time settings\n",
    "for mylyr in data_lyrs_list:\n",
    "    print(mylyr.name)\n",
    "    print(f\"- Time Field: {codebook[time_settings['stf']]['label']} ({time_settings['stf']})\")\n",
    "    print(f\"- Time Step Intervals: {int(mylyr.time.timeStepInterval)} {mylyr.time.timeStepIntervalUnits}\")\n",
    "    print(f\"- Start Time: {str(time_settings['st'].strftime('%m/%d/%Y %H:%M %p'))}\")\n",
    "    print(f\"- End Time: {str(time_settings['et'].strftime('%m/%d/%Y %H:%M %p'))}\")\n",
    "    print(f\"- Time Extent: {int(time_settings['td'].days):,} days ({int((time_settings['td'].days/365)*12)} months)\")\n",
    "    print(f\"- Time Zone: {time_settings['tz']}\")\n"
   ]
  },
  {
   "cell_type": "markdown",
   "metadata": {},
   "source": [
    "Save the ArcGIS pro project"
   ]
  },
  {
   "cell_type": "code",
   "execution_count": 53,
   "metadata": {},
   "outputs": [],
   "source": [
    "# Save the project\n",
    "aprx.save()\n"
   ]
  },
  {
   "cell_type": "markdown",
   "metadata": {},
   "source": [
    "### <font color=\"blue\">**5.3. Update Layer Views and File Lists**</font>"
   ]
  },
  {
   "cell_type": "markdown",
   "metadata": {},
   "source": [
    "List project and directories, layers in contents view, and layer files in directories"
   ]
  },
  {
   "cell_type": "code",
   "execution_count": 55,
   "metadata": {},
   "outputs": [
    {
     "name": "stdout",
     "output_type": "stream",
     "text": [
      "Project:\n",
      "- Name: AGPSWITRS.aprx\n",
      "- Path: C:\\Users\\ktalexan\\OneDrive - County of Orange\\Documents\\OCSWITRS\\AGPSWITRS\\AGPSWITRS.aprx\n",
      "- Layers Directory: C:\\Users\\ktalexan\\OneDrive - County of Orange\\Documents\\OCSWITRS\\Layers\n",
      "\n",
      "Layers in Content View:\n",
      "- Collisions: OCSWITRS Collisions\n",
      "- Crashes: OCSWITRS Crashes\n",
      "- Parties: OCSWITRS Parties\n",
      "- Victims: OCSWITRS Victims\n",
      "- Roads: OCSWITRS Roads\n",
      "- US Census 2020 Blocks: OCSWITRS Census 2020 Blocks\n",
      "- Cities: OCSWITRS Cities\n",
      "- Boundaries: OCSWITRS Boundaries\n",
      "\n",
      "Layers in Directory:\n",
      "- Collisions: C:\\Users\\ktalexan\\OneDrive - County of Orange\\Documents\\OCSWITRS\\AGPSWITRS\\AGPSWITRS.gdb\\RawData\\collisions\n",
      "- Crashes: C:\\Users\\ktalexan\\OneDrive - County of Orange\\Documents\\OCSWITRS\\AGPSWITRS\\AGPSWITRS.gdb\\RawData\\crashes\n",
      "- Parties: C:\\Users\\ktalexan\\OneDrive - County of Orange\\Documents\\OCSWITRS\\AGPSWITRS\\AGPSWITRS.gdb\\RawData\\parties\n",
      "- Victims: C:\\Users\\ktalexan\\OneDrive - County of Orange\\Documents\\OCSWITRS\\AGPSWITRS\\AGPSWITRS.gdb\\RawData\\victims\n",
      "- Roads: C:\\Users\\ktalexan\\OneDrive - County of Orange\\Documents\\OCSWITRS\\AGPSWITRS\\AGPSWITRS.gdb\\SupportingData\\roads\n",
      "- US Census 2020 Blocks: C:\\Users\\ktalexan\\OneDrive - County of Orange\\Documents\\OCSWITRS\\AGPSWITRS\\AGPSWITRS.gdb\\SupportingData\\usc2020blk\n",
      "- Cities: C:\\Users\\ktalexan\\OneDrive - County of Orange\\Documents\\OCSWITRS\\AGPSWITRS\\AGPSWITRS.gdb\\SupportingData\\cities\n",
      "- Boundaries: C:\\Users\\ktalexan\\OneDrive - County of Orange\\Documents\\OCSWITRS\\AGPSWITRS\\AGPSWITRS.gdb\\SupportingData\\boundaries\n"
     ]
    }
   ],
   "source": [
    "# Display the project details\n",
    "print(f\"Project:\\n- Name: {project_aprx}\\n- Path: {project_aprx_path}\\n- Layers Directory: {layers_path}\\n\")\n",
    "\n",
    "# Display the layers in content view\n",
    "print(f\"Layers in Content View:\\n- Collisions: {collisions_lyr}\\n- Crashes: {crashes_lyr}\\n- Parties: {parties_lyr}\\n- Victims: {victims_lyr}\\n- Roads: {roads_lyr}\\n- US Census 2020 Blocks: {usc2020blk_lyr}\\n- Cities: {cities_lyr}\\n- Boundaries: {boundaries_lyr}\\n\")\n",
    "\n",
    "# Layers in Directory\n",
    "print(f\"Layers in Directory:\\n- Collisions: {collisions_path}\\n- Crashes: {crashes_path}\\n- Parties: {parties_path}\\n- Victims: {victims_path}\\n- Roads: {roads_path}\\n- US Census 2020 Blocks: {usc2020blk_path}\\n- Cities: {cities_path}\\n- Boundaries: {boundaries_path}\")\n"
   ]
  },
  {
   "cell_type": "markdown",
   "metadata": {},
   "source": [
    "## <font color=\"orangered\">**6. Symbology Operations**</font>"
   ]
  },
  {
   "cell_type": "markdown",
   "metadata": {},
   "source": [
    "### <font color=\"blue\">**6.1. Data Layer Symbologies**</font>"
   ]
  },
  {
   "cell_type": "markdown",
   "metadata": {},
   "source": [
    "Define symbology for each of the data layers (Crashes, Parties, Victims, and Collisions). The symbology is pre-saved in the SWITRS layer file, stored in the project's layer folder."
   ]
  },
  {
   "cell_type": "code",
   "execution_count": 59,
   "metadata": {},
   "outputs": [
    {
     "data": {
      "text/html": [
       "<div class='gpresult'><h2 class='msg-title'>Messages</h2><div id='messages'>Start Time: Saturday, January 25, 2025 9:24:53 AM<br>Succeeded at Saturday, January 25, 2025 9:24:56 AM (Elapsed Time: 2.64 seconds)<br></div><div id = 'default' /></div></div>"
      ],
      "text/plain": [
       "<Result 'OCSWITRS Collisions'>"
      ]
     },
     "execution_count": 59,
     "metadata": {},
     "output_type": "execute_result"
    }
   ],
   "source": [
    "# Apply the symbology for the Collisions data layer\n",
    "arcpy.management.ApplySymbologyFromLayer(\n",
    "    in_layer = collisions_lyr,\n",
    "    in_symbology_layer = os.path.join(layers_path, \"OCSWITRS Collisions.lyrx\"),\n",
    "    symbology_fields = \"VALUE_FIELD coll_severity coll_severity\",\n",
    "    update_symbology = \"MAINTAIN\"\n",
    ")"
   ]
  },
  {
   "cell_type": "code",
   "execution_count": 60,
   "metadata": {},
   "outputs": [
    {
     "data": {
      "text/html": [
       "<div class='gpresult'><h2 class='msg-title'>Messages</h2><div id='messages'>Start Time: Saturday, January 25, 2025 9:25:10 AM<br>Succeeded at Saturday, January 25, 2025 9:25:12 AM (Elapsed Time: 1.40 seconds)<br></div><div id = 'default' /></div></div>"
      ],
      "text/plain": [
       "<Result 'OCSWITRS Crashes'>"
      ]
     },
     "execution_count": 60,
     "metadata": {},
     "output_type": "execute_result"
    }
   ],
   "source": [
    "# Apply the symbology for the Crashes data layer\n",
    "arcpy.management.ApplySymbologyFromLayer(\n",
    "    in_layer = crashes_lyr,\n",
    "    in_symbology_layer = os.path.join(layers_path, \"OCSWITRS Crashes.lyrx\"),\n",
    "    symbology_fields = \"VALUE_FIELD coll_severity coll_severity\",\n",
    "    update_symbology = \"MAINTAIN\"\n",
    ")"
   ]
  },
  {
   "cell_type": "code",
   "execution_count": 61,
   "metadata": {},
   "outputs": [
    {
     "data": {
      "text/html": [
       "<div class='gpresult'><h2 class='msg-title'>Messages</h2><div id='messages'>Start Time: Saturday, January 25, 2025 9:25:30 AM<br>Succeeded at Saturday, January 25, 2025 9:25:31 AM (Elapsed Time: 1.37 seconds)<br></div><div id = 'default' /></div></div>"
      ],
      "text/plain": [
       "<Result 'OCSWITRS Parties'>"
      ]
     },
     "execution_count": 61,
     "metadata": {},
     "output_type": "execute_result"
    }
   ],
   "source": [
    "# Apply the symbology for the Parties data layer\n",
    "arcpy.management.ApplySymbologyFromLayer(\n",
    "    in_layer = parties_lyr,\n",
    "    in_symbology_layer = os.path.join(layers_path, \"OCSWITRS Parties.lyrx\"),\n",
    "    symbology_fields=\"VALUE_FIELD coll_severity coll_severity\",\n",
    "    update_symbology = \"MAINTAIN\"\n",
    ")"
   ]
  },
  {
   "cell_type": "code",
   "execution_count": 62,
   "metadata": {},
   "outputs": [
    {
     "data": {
      "text/html": [
       "<div class='gpresult'><h2 class='msg-title'>Messages</h2><div id='messages'>Start Time: Saturday, January 25, 2025 9:25:40 AM<br>Succeeded at Saturday, January 25, 2025 9:25:41 AM (Elapsed Time: 1.44 seconds)<br></div><div id = 'default' /></div></div>"
      ],
      "text/plain": [
       "<Result 'OCSWITRS Victims'>"
      ]
     },
     "execution_count": 62,
     "metadata": {},
     "output_type": "execute_result"
    }
   ],
   "source": [
    "# Apply the symbology for the Victims data layer\n",
    "arcpy.management.ApplySymbologyFromLayer(\n",
    "    in_layer = victims_lyr,\n",
    "    in_symbology_layer = os.path.join(layers_path, \"OCSWITRS Victims.lyrx\"),\n",
    "    symbology_fields=\"VALUE_FIELD coll_severity coll_severity\",\n",
    "    update_symbology = \"MAINTAIN\"\n",
    ")"
   ]
  },
  {
   "cell_type": "markdown",
   "metadata": {},
   "source": [
    "Define symbology for the supporting data layers (Cities, Roads, Boundaries). The symbology for each of the supporting data layers is pre-saved in the CITIES and ROADS layer files respectively, stored in the project's layer folder."
   ]
  },
  {
   "cell_type": "code",
   "execution_count": 63,
   "metadata": {},
   "outputs": [
    {
     "data": {
      "text/html": [
       "<div class='gpresult'><h2 class='msg-title'>Messages</h2><div id='messages'>Start Time: Saturday, January 25, 2025 9:25:55 AM<br>Succeeded at Saturday, January 25, 2025 9:25:57 AM (Elapsed Time: 1.16 seconds)<br></div><div id = 'default' /></div></div>"
      ],
      "text/plain": [
       "<Result 'OCSWITRS Roads'>"
      ]
     },
     "execution_count": 63,
     "metadata": {},
     "output_type": "execute_result"
    }
   ],
   "source": [
    "# Apply the symbology for the Roads data layer\n",
    "arcpy.management.ApplySymbologyFromLayer(\n",
    "    in_layer = roads_lyr,\n",
    "    in_symbology_layer = os.path.join(layers_path, \"OCSWITRS Roads.lyrx\"),\n",
    "    symbology_fields = \"VALUE_FIELD road_cat road_cat\",\n",
    "    update_symbology = \"MAINTAIN\"\n",
    ")"
   ]
  },
  {
   "cell_type": "code",
   "execution_count": 64,
   "metadata": {},
   "outputs": [
    {
     "data": {
      "text/html": [
       "<div class='gpresult'><h2 class='msg-title'>Messages</h2><div id='messages'>Start Time: Saturday, January 25, 2025 9:26:10 AM<br>Succeeded at Saturday, January 25, 2025 9:26:11 AM (Elapsed Time: 1.17 seconds)<br></div><div id = 'default' /></div></div>"
      ],
      "text/plain": [
       "<Result 'OCSWITRS Census 2020 Blocks'>"
      ]
     },
     "execution_count": 64,
     "metadata": {},
     "output_type": "execute_result"
    }
   ],
   "source": [
    "# Apply the symbology for the US Census 2020 Blocks data layer\n",
    "arcpy.management.ApplySymbologyFromLayer(\n",
    "    in_layer = usc2020blk_lyr,\n",
    "    in_symbology_layer = os.path.join(layers_path, \"OCSWITRS Census 2020 Blocks.lyrx\"),\n",
    "    symbology_fields=\"VALUE_FIELD population_total population_total;EXCLUSION_CLAUSE_FIELD population_total population_total\",\n",
    "    update_symbology = \"MAINTAIN\"\n",
    ")"
   ]
  },
  {
   "cell_type": "code",
   "execution_count": 66,
   "metadata": {},
   "outputs": [
    {
     "data": {
      "text/html": [
       "<div class='gpresult'><h2 class='msg-title'>Messages</h2><div id='messages'>Start Time: Saturday, January 25, 2025 9:26:28 AM<br>Succeeded at Saturday, January 25, 2025 9:26:29 AM (Elapsed Time: 1.18 seconds)<br></div><div id = 'default' /></div></div>"
      ],
      "text/plain": [
       "<Result 'OCSWITRS Cities'>"
      ]
     },
     "execution_count": 66,
     "metadata": {},
     "output_type": "execute_result"
    }
   ],
   "source": [
    "# Apply the symbology for the Cities data layer\n",
    "arcpy.management.ApplySymbologyFromLayer(\n",
    "    in_layer = cities_lyr,\n",
    "    in_symbology_layer = os.path.join(layers_path, \"OCSWITRS Cities.lyrx\"),\n",
    "    symbology_fields=\"VALUE_FIELD city_pop_dens city_pop_dens;COLOR_EXPRESSION_FIELD city_pop_dens city_pop_dens\",\n",
    "    update_symbology = \"MAINTAIN\"\n",
    ")"
   ]
  },
  {
   "cell_type": "code",
   "execution_count": 67,
   "metadata": {},
   "outputs": [
    {
     "data": {
      "text/html": [
       "<div class='gpresult'><h2 class='msg-title'>Messages</h2><div id='messages'>Start Time: Saturday, January 25, 2025 9:26:33 AM<br>Succeeded at Saturday, January 25, 2025 9:26:35 AM (Elapsed Time: 1.21 seconds)<br></div><div id = 'default' /></div></div>"
      ],
      "text/plain": [
       "<Result 'OCSWITRS Boundaries'>"
      ]
     },
     "execution_count": 67,
     "metadata": {},
     "output_type": "execute_result"
    }
   ],
   "source": [
    "# Apply the symbology for the Boundaries data layer\n",
    "arcpy.management.ApplySymbologyFromLayer(\n",
    "    in_layer = boundaries_lyr,\n",
    "    in_symbology_layer = os.path.join(layers_path, \"OCSWITRS Boundaries.lyrx\"),\n",
    "    symbology_fields = None,\n",
    "    update_symbology = \"MAINTAIN\"\n",
    ")"
   ]
  },
  {
   "cell_type": "markdown",
   "metadata": {},
   "source": [
    "Save the ArcGIS pro project"
   ]
  },
  {
   "cell_type": "code",
   "execution_count": 69,
   "metadata": {},
   "outputs": [],
   "source": [
    "# Save the project\n",
    "aprx.save()"
   ]
  },
  {
   "cell_type": "markdown",
   "metadata": {},
   "source": [
    "### <font color=\"blue\">**6.2. Pop-Ups Configuration (Arcade)**</font>"
   ]
  },
  {
   "cell_type": "markdown",
   "metadata": {},
   "source": [
    "Run these code segments below after opening the ArcGIS Pro project to configure the pop-ups for the feature classes."
   ]
  },
  {
   "cell_type": "markdown",
   "metadata": {},
   "source": [
    "**<font color=\"orange\">Arcade Expression:</font> Configure Pop-Ups for the Crashes layer**\n",
    "\n",
    "- Language: `Arcade`\n",
    "- Name: `expression0`\n",
    "- Title: `popupCrashes`\n",
    "- Expression:\n",
    "    ```javascript\n",
    "    var c = $feature.cid\n",
    "    var ct = $feature.city\n",
    "    var dt = Text($feature.date_datetime, 'M/D/YYYY H:m A')\n",
    "    \"Crash ID: \" + c + \" | Date: \" + dt + \", \" + ct\n",
    "    ```\n",
    "    "
   ]
  },
  {
   "cell_type": "markdown",
   "metadata": {},
   "source": [
    "**<font color=\"orange\">Arcade Expression:</font> Configure Pop-Ups for the Parties layer**\n",
    "\n",
    "- Language: `Arcade`\n",
    "- Name: `expression0`\n",
    "- Title: `popupParties`\n",
    "- Expression:\n",
    "    ```javascript\n",
    "    var c = $feature.cid\n",
    "    var p = $feature.party_number\n",
    "    var dt = Text($feature.date_datetime, 'M/D/YYYY H:m A')\n",
    "    \"Crash ID: \" + c + \", Party: \" + p + \" | Date: \" + dt\n",
    "    ```\n"
   ]
  },
  {
   "cell_type": "markdown",
   "metadata": {},
   "source": [
    "**<font color=\"orange\">Arcade Expression</font> Configure Pop-Ups for the Victims layer**\n",
    "\n",
    "- Language: `Arcade`\n",
    "- Name: `expression0`\n",
    "- Title: `popupVictims`\n",
    "- Expression:\n",
    "    ```javascript\n",
    "    var c = $feature.cid\n",
    "    var p = $feature.party_number\n",
    "    var v = $feature.victim_number\n",
    "    var dt = Text($feature.date_datetime, 'M/D/YYYY H:m A')\n",
    "    \"Crash ID: \" + c + \", Party: \" + p + \", Victim: \" + v + \" | Date: \" + dt\n",
    "    ```"
   ]
  },
  {
   "cell_type": "markdown",
   "metadata": {},
   "source": [
    "**<font color=\"orange\">Arcade Expression</font> Configure Pop-Ups for the Collisions layer**\n",
    "\n",
    "- Language: `Arcade`\n",
    "- Name: `expression0`\n",
    "- Title: `popupCollisions`\n",
    "- Expression:\n",
    "    ```javascript\n",
    "    var c = $feature.cid\n",
    "    var p = $feature.party_number\n",
    "    var v = $feature.victim_number\n",
    "    var ct = $feature.city\n",
    "    var dt = Text($feature.date_datetime, 'M/D/YYYY H:m A')\n",
    "    var exp1 = \"Crash ID: \" + c + \", Party: \" + p + \", Victim: \" + v + \" | Date: \" + dt + \", \" + ct\n",
    "    var exp2 = \"Crash ID: \" + c + \", Party: \" + p + \", No Victim | Date: \" + dt + \", \" + ct\n",
    "    if(!isEmpty(p) && !isEmpty(v)){\n",
    "        return exp1\n",
    "    } else if(!isEmpty(p) && isEmpty(v)){\n",
    "        return exp2\n",
    "    }\n",
    "    ```\n",
    "    "
   ]
  },
  {
   "cell_type": "markdown",
   "metadata": {},
   "source": [
    "----"
   ]
  },
  {
   "cell_type": "markdown",
   "metadata": {},
   "source": [
    "> <font color=\"coral\">💬 **Note**:</font> <font color=\"darkgreen\"> This is the end of data pre-processing (Notebook Part 2). The ArcGIS Online (AGO) processing of the data is continuing on a new ArcGIS notebook (Part 3)</font>"
   ]
  },
  {
   "cell_type": "markdown",
   "metadata": {},
   "source": []
  }
 ],
 "metadata": {
  "kernelspec": {
   "display_name": "ArcGISPro",
   "language": "python",
   "name": "python3"
  },
  "language_info": {
   "file_extension": ".py",
   "mimetype": "text/x-python",
   "name": "python",
   "version": "3.11.10"
  }
 },
 "nbformat": 4,
 "nbformat_minor": 4
}
