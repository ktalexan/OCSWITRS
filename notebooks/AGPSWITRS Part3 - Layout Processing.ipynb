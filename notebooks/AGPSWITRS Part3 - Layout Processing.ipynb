{
 "cells": [
  {
   "cell_type": "markdown",
   "metadata": {},
   "source": [
    "<div style = \"background-color:indigo\"><center>\n",
    "<h1 style=\"font-size: 50px; font-weight: bold; color:goldenrod; border-top: 3px solid goldenrod; padding-top: 10px\">OC SWITRS GIS Data Processing</h1>\n",
    "<div style=\"font-size: 35px; font-weight: bold; color: goldenrod\"> Part 3 - Map Layout Processing</div>\n",
    "<div style=\"font-size: 30px; font-weight: bold; color: goldenrod; border-bottom: 3px solid goldenrod; padding-bottom: 20px\">v.1, January 2025</div>\n",
    "</center></div>"
   ]
  },
  {
   "cell_type": "markdown",
   "metadata": {},
   "source": [
    "<h1 style=\"font-weight:bold; color:orangered; border-bottom: 2px solid orangered\">1. Preliminaries</h1>"
   ]
  },
  {
   "cell_type": "markdown",
   "metadata": {},
   "source": [
    "<h2 style=\"font-weight:bold; color:dodgerblue; border-bottom: 1px solid dodgerblue; padding-left: 25px\">1.1 Referencing Libraries and Initialization</h2>"
   ]
  },
  {
   "cell_type": "markdown",
   "metadata": {},
   "source": [
    "If needed to reset the kernel, please run the following cell:"
   ]
  },
  {
   "cell_type": "code",
   "execution_count": null,
   "metadata": {},
   "outputs": [],
   "source": [
    "#%reset -f"
   ]
  },
  {
   "cell_type": "markdown",
   "metadata": {
    "notebookRunGroups": {
     "groupValue": "1"
    }
   },
   "source": [
    "Instantiating python libraries for the project"
   ]
  },
  {
   "cell_type": "code",
   "execution_count": null,
   "metadata": {
    "notebookRunGroups": {
     "groupValue": "1"
    }
   },
   "outputs": [],
   "source": [
    "# Import Python libraries\n",
    "import os, json, pytz, math, arcpy, arcgis\n",
    "from datetime import date, time, datetime, timedelta, tzinfo, timezone\n",
    "from arcpy import metadata as md\n",
    "import numpy as np\n",
    "\n",
    "# important as it \"enhances\" Pandas by importing these classes (from ArcGIS API for Python)\n",
    "from arcgis.features import GeoAccessor, GeoSeriesAccessor"
   ]
  },
  {
   "cell_type": "markdown",
   "metadata": {},
   "source": [
    "Which running environment this notebook is using? (1 = Visual Studio Code, 2 = ArcGIS Pro)"
   ]
  },
  {
   "cell_type": "code",
   "execution_count": null,
   "metadata": {},
   "outputs": [],
   "source": [
    "runEnv = input(\"Enter the running environment (1=VSCode, 2=ArcGIS Pro): \")"
   ]
  },
  {
   "cell_type": "markdown",
   "metadata": {},
   "source": [
    "<h2 style=\"font-weight:bold; color:dodgerblue; border-bottom: 1px solid dodgerblue; padding-left: 25px\">1.2. Project and Workspace Variables</h2>"
   ]
  },
  {
   "cell_type": "markdown",
   "metadata": {},
   "source": [
    "Define and maitnain project, workspace, ArcGIS, and data-related variables"
   ]
  },
  {
   "cell_type": "markdown",
   "metadata": {},
   "source": [
    "<h3 style=\"font-weight:bold; color:lime; padding-left: 50px\">Project and Geodatabase Paths</h3>"
   ]
  },
  {
   "cell_type": "markdown",
   "metadata": {},
   "source": [
    "Define the ArcGIS pro project variables"
   ]
  },
  {
   "cell_type": "code",
   "execution_count": null,
   "metadata": {},
   "outputs": [],
   "source": [
    "# Environment variable for OneDrive path\n",
    "onedriveFolder = os.getenv(\"OneDriveCommercial\")\n",
    "\n",
    "# OCSWITRS project path\n",
    "projectFolder = os.path.join(onedriveFolder, \"Documents\", \"OCSWITRS\")"
   ]
  },
  {
   "cell_type": "markdown",
   "metadata": {},
   "source": [
    "<h3 style=\"font-weight:bold; color:lime; padding-left: 50px\">ArcGIS Pro Paths</h3>"
   ]
  },
  {
   "cell_type": "markdown",
   "metadata": {},
   "source": [
    "ArcGIS pro related paths"
   ]
  },
  {
   "cell_type": "code",
   "execution_count": null,
   "metadata": {},
   "outputs": [],
   "source": [
    "# OCSWITRS project AGP path\n",
    "agpFolder = os.path.join(projectFolder, \"AGPSWITRS\")\n",
    "\n",
    "# AGP APRX file name and path\n",
    "aprxName = \"AGPSWITRS.aprx\"\n",
    "aprxPath = os.path.join(agpFolder, aprxName)\n",
    "\n",
    "# ArcGIS Pro project geodatabase and path\n",
    "gdbName = \"AGPSWITRS.gdb\"\n",
    "gdbPath = os.path.join(agpFolder, gdbName)\n",
    "\n",
    "# ArcGIS pro project\n",
    "if runEnv == \"1\": # VSCode\n",
    "    print(\"Running in VSCode (project = aprxPath)\")\n",
    "    aprx = arcpy.mp.ArcGISProject(aprxPath)\n",
    "elif runEnv == \"2\": # ArcGIS Pro\n",
    "    print(\"Running in ArcGIS Pro (project = CURRENT)\")\n",
    "    aprx = arcpy.mp.ArcGISProject('CURRENT')\n",
    "\n",
    "# Close all map views\n",
    "aprx.closeViews()\n",
    "\n",
    "# Current ArcGIS workspace (arcpy)\n",
    "arcpy.env.workspace = gdbPath\n",
    "workspace = arcpy.env.workspace\n",
    "# Enable overwriting existing outputs\n",
    "arcpy.env.overwriteOutput = True\n",
    "# Disable adding outputs to map\n",
    "arcpy.env.addOutputsToMap = False"
   ]
  },
  {
   "cell_type": "markdown",
   "metadata": {},
   "source": [
    "<h3 style=\"font-weight:bold; color:lime; padding-left: 50px\">Folder Paths</h3>"
   ]
  },
  {
   "cell_type": "code",
   "execution_count": null,
   "metadata": {},
   "outputs": [],
   "source": [
    "# Raw data folder path\n",
    "rawDataFolder = os.path.join(projectFolder, \"Data\", \"Raw\")\n",
    "\n",
    "# Maps folder path\n",
    "mapsFolder = os.path.join(projectFolder, \"Maps\")\n",
    "\n",
    "# Layers folder path\n",
    "layersFolder = os.path.join(projectFolder, \"Layers\")\n",
    "layersTemplates = os.path.join(layersFolder, \"Templates\")\n",
    "\n",
    "# Layouts folder path\n",
    "layoutsFolder = os.path.join(projectFolder, \"Layouts\")\n",
    "\n",
    "# Notebooks folder path\n",
    "notebooksFolder = os.path.join(projectFolder, \"Notebooks\")\n",
    "codebookPath = os.path.join(projectFolder, \"Data\", \"codebook\", \"cb.json\")\n",
    "\n",
    "# Analysis and Graphics folder path\n",
    "analysisFolder = os.path.join(projectFolder, \"Analysis\")\n",
    "graphicsFolder = os.path.join(analysisFolder, \"Graphics\")"
   ]
  },
  {
   "cell_type": "markdown",
   "metadata": {},
   "source": [
    "Geodatabase feature datasets paths (directories)"
   ]
  },
  {
   "cell_type": "code",
   "execution_count": null,
   "metadata": {},
   "outputs": [],
   "source": [
    "# RawData feature dataset in the geodatabase\n",
    "gdbRawData = os.path.join(gdbPath, \"RawData\")\n",
    "\n",
    "# RawData feature dataset in the geodatabase\n",
    "gdbSupportingData = os.path.join(gdbPath, \"SupportingData\")\n",
    "\n",
    "# AnalysisData feature dataset in the geodatabase\n",
    "gdbAnalysisData = os.path.join(gdbPath, \"AnalysisData\")\n",
    "\n",
    "# HotSpotData feature dataset in the geodatabase\n",
    "gdbHotspotData = os.path.join(gdbPath, \"HotSpotData\")"
   ]
  },
  {
   "cell_type": "markdown",
   "metadata": {},
   "source": [
    "<h3 style=\"font-weight:bold; color:lime; padding-left: 50px\">Data Folder Paths</h3>"
   ]
  },
  {
   "cell_type": "markdown",
   "metadata": {},
   "source": [
    "The most current raw data files cover the periods from 01/01/2013 to 09/30/2024. The data files are already processed in the R scripts and imported into the project's geodatabase."
   ]
  },
  {
   "cell_type": "code",
   "execution_count": null,
   "metadata": {},
   "outputs": [],
   "source": [
    "# Add the start date of the raw data to a new python datetime object\n",
    "dateStart = datetime(2012, 1, 1, 0, 0, 0)\n",
    "\n",
    "# Add the end date of the raw data to a new python datetime object\n",
    "dateEnd = datetime(2024, 9, 30, 23, 59, 59)\n",
    "\n",
    "# Define time and date variables\n",
    "timeZone = pytz.timezone(\"US/Pacific\")\n",
    "today = datetime.now(timeZone)\n",
    "dateUpdated = today.strftime(\"%B %d, %Y\")\n",
    "timeUpdated = today.strftime(\"%I:%M %p\")"
   ]
  },
  {
   "cell_type": "markdown",
   "metadata": {},
   "source": [
    "Define date strings for metadata"
   ]
  },
  {
   "cell_type": "code",
   "execution_count": null,
   "metadata": {},
   "outputs": [],
   "source": [
    "# String defining the years of the raw data\n",
    "mdYears = f\"{dateStart.year}-{dateEnd.year}\"\n",
    "\n",
    "# String defining the start and end dates of the raw data\n",
    "mdDates = f\"Data from {dateStart.strftime('%B %d, %Y')} to {dateEnd.strftime('%B %d, %Y')}\""
   ]
  },
  {
   "cell_type": "markdown",
   "metadata": {},
   "source": [
    "<h3 style=\"font-weight:bold; color:lime; padding-left: 50px\">Codebook</h3>"
   ]
  },
  {
   "cell_type": "code",
   "execution_count": null,
   "metadata": {},
   "outputs": [],
   "source": [
    "# Load the JSON file from directory and store it in a variable\n",
    "with open(codebookPath) as json_file:\n",
    "    codebook = json.load(json_file)"
   ]
  },
  {
   "cell_type": "markdown",
   "metadata": {},
   "source": [
    "<h3 style=\"font-weight:bold; color:lime; padding-left: 50px\">JSON CIM Exports</h3>"
   ]
  },
  {
   "cell_type": "markdown",
   "metadata": {},
   "source": [
    "Creating a function to export the CIM JSON files to disk."
   ]
  },
  {
   "cell_type": "code",
   "execution_count": null,
   "metadata": {},
   "outputs": [],
   "source": [
    "def exportCim(cimType, cimObject, cimName):\n",
    "    \"\"\"Export a CIM object to a file in both native (MAPX, PAGX, LYRX) and JSON CIM formats.\"\"\"\n",
    "    match cimType:\n",
    "        # When the CIM object is a map\n",
    "        case \"map\":\n",
    "            # Export the CIM object to a MAPX file\n",
    "            print(f\"Exporting {cimName} map to MAPX...\")\n",
    "            cimObject.exportToMAPX(os.path.join(mapsFolder, cimName+\".mapx\"))\n",
    "            print(arcpy.GetMessages())\n",
    "            \n",
    "            # Export the CIM object to a JSON file\n",
    "            print(f\"Exporting {cimName} map to JSON...\\n\")\n",
    "            with open(os.path.join(mapsFolder, cimName+\".mapx\"), \"r\") as f:\n",
    "                data = f.read()\n",
    "            with open(os.path.join(mapsFolder, cimName+\".json\"), \"w\") as f:\n",
    "                f.write(data)\n",
    "        \n",
    "        # When the CIM object is a layout\n",
    "        case \"layout\":\n",
    "            # Export the CIM object to a PAGX file\n",
    "            print(f\"Exporting {cimName} layout to PAGX...\")\n",
    "            cimObject.exportToPAGX(os.path.join(layoutsFolder, cimName+\".pagx\"))\n",
    "            print(arcpy.GetMessages())\n",
    "            \n",
    "            # Export the CIM object to a JSON file\n",
    "            print(f\"Exporting {cimName} layout to JSON...\\n\")\n",
    "            with open(os.path.join(layoutsFolder, cimName+\".pagx\"), \"r\") as f:\n",
    "                data = f.read()\n",
    "            with open(os.path.join(layoutsFolder, cimName+\".json\"), \"w\") as f:\n",
    "                f.write(data)\n",
    "        \n",
    "        # When the CIM object is a layer\n",
    "        case \"layer\":\n",
    "            # Export the CIM object to a LYRX file\n",
    "            print(f\"Exporting {cimName} layer to LYRX...\")\n",
    "            # Reformat the name of the output file\n",
    "            for m in aprx.listMaps():\n",
    "                for l in m.listLayers():\n",
    "                    if l == cimObject:\n",
    "                        cimNewName = m.name.title()+\"Map-\"+l.name.replace(\"OCSWITRS \", \"\")\n",
    "            # Save the layer to a LYRX file\n",
    "            arcpy.management.SaveToLayerFile(cimObject, os.path.join(layersFolder, cimNewName + \".lyrx\"))\n",
    "            print(arcpy.GetMessages())\n",
    "            \n",
    "            # Export the CIM object to a JSON file\n",
    "            print(f\"Exporting {cimName} layer to JSON...\\n\")\n",
    "            with open(os.path.join(layersFolder, cimNewName+\".lyrx\"), \"r\") as f:\n",
    "                data = f.read()\n",
    "            with open(os.path.join(layersFolder, cimNewName+\".json\"), \"w\") as f:\n",
    "                f.write(data)"
   ]
  },
  {
   "cell_type": "markdown",
   "metadata": {},
   "source": [
    "<h2 style=\"font-weight:bold; color:dodgerblue; border-bottom: 1px solid dodgerblue; padding-left: 25px\">1.3. ArcGIS Pro Workspace</h2>"
   ]
  },
  {
   "cell_type": "markdown",
   "metadata": {},
   "source": [
    "Set the workspace and environment settings for the ArcGIS Pro project"
   ]
  },
  {
   "cell_type": "code",
   "execution_count": null,
   "metadata": {},
   "outputs": [],
   "source": [
    "# Set the workspace and environment to the root of the project geodatabase\n",
    "arcpy.env.workspace = gdbPath\n",
    "workspace = arcpy.env.workspace\n",
    "\n",
    "# Current ArcGIS workspace (arcpy)\n",
    "arcpy.env.workspace = gdbPath\n",
    "workspace = arcpy.env.workspace\n",
    "# Enable overwriting existing outputs\n",
    "arcpy.env.overwriteOutput = True\n",
    "# Disable adding outputs to map\n",
    "arcpy.env.addOutputsToMap = False"
   ]
  },
  {
   "cell_type": "markdown",
   "metadata": {},
   "source": [
    "<h2 style=\"font-weight:bold; color:dodgerblue; border-bottom: 1px solid dodgerblue; padding-left: 25px\">1.4. Map and Layout Lists</h2>"
   ]
  },
  {
   "cell_type": "markdown",
   "metadata": {},
   "source": [
    "<h3 style=\"font-weight:bold; color:lime; padding-left: 50px\">Project Maps</h3>"
   ]
  },
  {
   "cell_type": "code",
   "execution_count": null,
   "metadata": {},
   "outputs": [],
   "source": [
    "# List of maps to be created for the project\n",
    "mapList = [\"collisions\", \"crashes\", \"parties\", \"victims\", \"injuries\", \"fatalities\", \"fhs100m1km\", \"fhs150m2km\", \"fhs100m5km\", \"fhsRoads500ft\", \"ohsRoads500ft\", \"roadCrashes\",\n",
    "           \"roadHotspots\", \"roadBuffers\", \"roadSegments\", \"roads\", \"pointFhs\", \"pointOhs\", \"popDens\", \"houDens\", \"areaCities\", \"areaBlocks\", \"summaries\", \"analysis\", \"regression\"]"
   ]
  },
  {
   "cell_type": "markdown",
   "metadata": {},
   "source": [
    "<h3 style=\"font-weight:bold; color:lime; padding-left: 50px\">Project Layouts</h3>"
   ]
  },
  {
   "cell_type": "code",
   "execution_count": null,
   "metadata": {},
   "outputs": [],
   "source": [
    "# List or layouts to be created for the project\n",
    "layoutList = [\"maps\", \"injuries\", \"hotspots\", \"roads\", \"points\", \"density\", \"areas\"]"
   ]
  },
  {
   "cell_type": "markdown",
   "metadata": {},
   "source": [
    "<h2 style=\"font-weight:bold; color:dodgerblue; border-bottom: 1px solid dodgerblue; padding-left: 25px\">1.5. Feature Class Definitions</h2>"
   ]
  },
  {
   "cell_type": "markdown",
   "metadata": {},
   "source": [
    "<h3 style=\"font-weight:bold; color:lime; padding-left: 50px\">Raw Data Feature Classes</h3>"
   ]
  },
  {
   "cell_type": "markdown",
   "metadata": {},
   "source": [
    "Define paths for the feature classes in the raw data feature dateset of the geodatabase"
   ]
  },
  {
   "cell_type": "code",
   "execution_count": null,
   "metadata": {},
   "outputs": [],
   "source": [
    "collisions = os.path.join(gdbRawData, \"collisions\")\n",
    "crashes = os.path.join(gdbRawData, \"crashes\")\n",
    "parties = os.path.join(gdbRawData, \"parties\")\n",
    "victims = os.path.join(gdbRawData, \"victims\")"
   ]
  },
  {
   "cell_type": "markdown",
   "metadata": {},
   "source": [
    "<h3 style=\"font-weight:bold; color:lime; padding-left: 50px\">Supporting Data Feature Classes</h3>"
   ]
  },
  {
   "cell_type": "markdown",
   "metadata": {},
   "source": [
    "Define paths for the feature classes in the supporting data feature dateset of the geodatabase"
   ]
  },
  {
   "cell_type": "code",
   "execution_count": null,
   "metadata": {},
   "outputs": [],
   "source": [
    "boundaries = os.path.join(gdbSupportingData, \"boundaries\")\n",
    "cities = os.path.join(gdbSupportingData, \"cities\")\n",
    "censusBlocks = os.path.join(gdbSupportingData, \"censusBlocks\")\n",
    "roads = os.path.join(gdbSupportingData, \"roads\")"
   ]
  },
  {
   "cell_type": "markdown",
   "metadata": {},
   "source": [
    "<h3 style=\"font-weight:bold; color:lime; padding-left: 50px\">Analysis Data Feature Classes</h3>"
   ]
  },
  {
   "cell_type": "markdown",
   "metadata": {},
   "source": [
    "Define paths for the feature classes in the analysis data feature dateset of the geodatabase"
   ]
  },
  {
   "cell_type": "code",
   "execution_count": null,
   "metadata": {},
   "outputs": [],
   "source": [
    "roadsMajor = os.path.join(gdbAnalysisData, \"roadsMajor\")\n",
    "roadsMajorBuffers = os.path.join(gdbAnalysisData, \"roadsMajorBuffers\")\n",
    "roadsMajorBuffersSum = os.path.join(gdbAnalysisData, \"roadsMajorBuffersSum\")\n",
    "roadsMajorPointsAlongLines = os.path.join(gdbAnalysisData, \"roadsMajorPointsAlongLines\")\n",
    "roadsMajorSplit = os.path.join(gdbAnalysisData, \"roadsMajorSplit\")\n",
    "roadsMajorSplitBuffer = os.path.join(gdbAnalysisData, \"roadsMajorSplitBuffer\")\n",
    "roadsMajorSplitBufferSum = os.path.join(gdbAnalysisData, \"roadsMajorSplitBufferSum\")\n",
    "censusBlocksSum = os.path.join(gdbAnalysisData, \"censusBlocksSum\")\n",
    "citiesSum = os.path.join(gdbAnalysisData, \"citiesSum\")\n",
    "crashes500ftFromMajorRoads = os.path.join(gdbAnalysisData, \"crashes500ftFromMajorRoads\")"
   ]
  },
  {
   "cell_type": "markdown",
   "metadata": {},
   "source": [
    "<h3 style=\"font-weight:bold; color:lime; padding-left: 50px\">Hot Spot Data Feature Classes</h3>"
   ]
  },
  {
   "cell_type": "markdown",
   "metadata": {},
   "source": [
    "Define paths for the feature classes in the hot spot data feature dateset of the geodatabase"
   ]
  },
  {
   "cell_type": "code",
   "execution_count": null,
   "metadata": {},
   "outputs": [],
   "source": [
    "crashesHotspots = os.path.join(gdbHotspotData, \"crashesHotspots\")\n",
    "crashesOptimizedHotspots = os.path.join(gdbHotspotData, \"crashesOptimizedHotspots\")\n",
    "crashesFindHotspots100m1km = os.path.join(gdbHotspotData, \"crashesFindHotspots100m1km\")\n",
    "crashesFindHotspots150m2km = os.path.join(gdbHotspotData, \"crashesFindHotspots150m2km\")\n",
    "crashesFindHotspots100m5km = os.path.join(gdbHotspotData, \"crashesFindHotspots100m5km\")\n",
    "crashesHotspots500ftFromMajorRoads = os.path.join(gdbHotspotData, \"crashesHotspots500ftFromMajorRoads\")\n",
    "crashesFindHotspots500ftMajorRoads500ft1mi = os.path.join(gdbHotspotData, \"crashesFindHotspots500ftMajorRoads500ft1mi\")"
   ]
  },
  {
   "cell_type": "markdown",
   "metadata": {},
   "source": [
    "<h2 style=\"font-weight:bold; color:dodgerblue; border-bottom: 1px solid dodgerblue; padding-left: 25px\">1.6. Map Layer Definitions</h2>"
   ]
  },
  {
   "cell_type": "markdown",
   "metadata": {},
   "source": [
    "<h3 style=\"font-weight:bold; color:lime; padding-left: 50px\">Project Maps</h3>"
   ]
  },
  {
   "cell_type": "markdown",
   "metadata": {},
   "source": [
    "Define the maps of the project"
   ]
  },
  {
   "cell_type": "code",
   "execution_count": null,
   "metadata": {},
   "outputs": [],
   "source": [
    "# OCSWITRS Data Maps\n",
    "mapCollisions = aprx.listMaps(\"collisions\")[0]\n",
    "mapCrashes = aprx.listMaps(\"crashes\")[0]\n",
    "mapParties = aprx.listMaps(\"parties\")[0]\n",
    "mapVictims = aprx.listMaps(\"victims\")[0]\n",
    "mapInjuries = aprx.listMaps(\"injuries\")[0]\n",
    "mapFatalities = aprx.listMaps(\"fatalities\")[0]\n",
    "mapRoadCrashes = aprx.listMaps(\"roadCrashes\")[0]\n",
    "\n",
    "# OCSWITRS Hotspot Maps\n",
    "mapFhs100m1km = aprx.listMaps(\"fhs100m1km\")[0]\n",
    "mapFhs150m2km = aprx.listMaps(\"fhs150m2km\")[0]\n",
    "mapFhs100m5km = aprx.listMaps(\"fhs100m5km\")[0]\n",
    "mapFhsRoads500ft = aprx.listMaps(\"fhsRoads500ft\")[0]\n",
    "mapOhsRoads500ft = aprx.listMaps(\"ohsRoads500ft\")[0]\n",
    "mapRoadHotspots = aprx.listMaps(\"roadHotspots\")[0]\n",
    "mapPointFhs = aprx.listMaps(\"pointFhs\")[0]\n",
    "mapPointOhs = aprx.listMaps(\"pointOhs\")[0]\n",
    "\n",
    "# OCSWITRS Supporting Data Maps\n",
    "mapRoadBuffers = aprx.listMaps(\"roadBuffers\")[0]\n",
    "mapRoadSegments = aprx.listMaps(\"roadSegments\")[0]\n",
    "mapRoads = aprx.listMaps(\"roads\")[0]\n",
    "mapPopDens = aprx.listMaps(\"popDens\")[0]\n",
    "mapHouDens = aprx.listMaps(\"houDens\")[0]\n",
    "mapAreaCities = aprx.listMaps(\"areaCities\")[0]\n",
    "mapAreaBlocks = aprx.listMaps(\"areaBlocks\")[0]\n",
    "\n",
    "# OCSWITRS Analysis and Processing Maps\n",
    "mapSummaries = aprx.listMaps(\"summaries\")[0]\n",
    "mapAnalysis = aprx.listMaps(\"analysis\")[0]\n",
    "mapRegression = aprx.listMaps(\"regression\")[0]"
   ]
  },
  {
   "cell_type": "markdown",
   "metadata": {},
   "source": [
    "<h3 style=\"font-weight:bold; color:lime; padding-left: 50px\">1. Collisions Map Layers</h3>"
   ]
  },
  {
   "cell_type": "markdown",
   "metadata": {},
   "source": [
    "Define the layers for the collisions map"
   ]
  },
  {
   "cell_type": "code",
   "execution_count": null,
   "metadata": {},
   "outputs": [],
   "source": [
    "# Define map layers\n",
    "mapCollisionsLyrBoundaries = mapCollisions.listLayers(\"OCSWITRS Boundaries\")[0]\n",
    "mapCollisionsLyrCities = mapCollisions.listLayers(\"OCSWITRS Cities\")[0]\n",
    "mapCollisionsLyrCensusBlocks = mapCollisions.listLayers(\"OCSWITRS Census Blocks\")[0]\n",
    "mapCollisionsLyrRoads = mapCollisions.listLayers(\"OCSWITRS Roads\")[0]\n",
    "mapCollisionsLyrCollisions = mapCollisions.listLayers(\"OCSWITRS Collisions\")[0]\n",
    "\n",
    "# List layers in map\n",
    "print(\"Collisions Map Layers:\")\n",
    "for l in mapCollisions.listLayers():\n",
    "    print(f\"- {l.name}\")\n",
    "\n",
    "# Count Collisions\n",
    "countCollisions = int(arcpy.management.GetCount(collisions)[0])\n",
    "print(f\"Count of Collisions: {countCollisions:,}\")"
   ]
  },
  {
   "cell_type": "markdown",
   "metadata": {},
   "source": [
    "<h3 style=\"font-weight:bold; color:lime; padding-left: 50px\">2. Crashes Map Layers</h3>"
   ]
  },
  {
   "cell_type": "markdown",
   "metadata": {},
   "source": [
    "Define the layers for the crashes map"
   ]
  },
  {
   "cell_type": "code",
   "execution_count": null,
   "metadata": {},
   "outputs": [],
   "source": [
    "# Define map layers\n",
    "mapCrashesLyrBoundaries = mapCrashes.listLayers(\"OCSWITRS Boundaries\")[0]\n",
    "mapCrashesLyrCities = mapCrashes.listLayers(\"OCSWITRS Cities\")[0]\n",
    "mapCrashesLyrCensusBlocks = mapCrashes.listLayers(\"OCSWITRS Census Blocks\")[0]\n",
    "mapCrashesLyrRoads = mapCrashes.listLayers(\"OCSWITRS Roads\")[0]\n",
    "mapCrashesLyrCrashes = mapCrashes.listLayers(\"OCSWITRS Crashes\")[0]\n",
    "\n",
    "# List layers in map\n",
    "print(\"Crashes Map Layers:\")\n",
    "for l in mapCrashes.listLayers():\n",
    "    print(f\"- {l.name}\")\n",
    "\n",
    "countCrashes = int(arcpy.management.GetCount(crashes)[0])\n",
    "print(f\"Count of Crashes: {countCrashes:,}\")"
   ]
  },
  {
   "cell_type": "markdown",
   "metadata": {},
   "source": [
    "<h3 style=\"font-weight:bold; color:lime; padding-left: 50px\">3. Parties Map Layers</h3>"
   ]
  },
  {
   "cell_type": "code",
   "execution_count": null,
   "metadata": {},
   "outputs": [],
   "source": [
    "# Define map layers\n",
    "mapPartiesLyrBoundaries = mapParties.listLayers(\"OCSWITRS Boundaries\")[0]\n",
    "mapPartiesLyrCities = mapParties.listLayers(\"OCSWITRS Cities\")[0]\n",
    "mapPartiesLyrCensusBlocks = mapParties.listLayers(\"OCSWITRS Census Blocks\")[0]\n",
    "mapPartiesLyrRoads = mapParties.listLayers(\"OCSWITRS Roads\")[0]\n",
    "mapPartiesLyrParties = mapParties.listLayers(\"OCSWITRS Parties\")[0]\n",
    "\n",
    "# List layers in map\n",
    "print(\"Parties Map Layers:\")\n",
    "for l in mapParties.listLayers():\n",
    "    print(f\"- {l.name}\")\n",
    "\n",
    "countParties = int(arcpy.management.GetCount(parties)[0])\n",
    "print(f\"Count of Parties: {countParties:,}\")"
   ]
  },
  {
   "cell_type": "markdown",
   "metadata": {},
   "source": [
    "<h3 style=\"font-weight:bold; color:lime; padding-left: 50px\">4. Victims Map Layers</h3>"
   ]
  },
  {
   "cell_type": "code",
   "execution_count": null,
   "metadata": {},
   "outputs": [],
   "source": [
    "# Define map layers\n",
    "mapVictimsLyrBoundaries = mapVictims.listLayers(\"OCSWITRS Boundaries\")[0]\n",
    "mapVictimsLyrCities = mapVictims.listLayers(\"OCSWITRS Cities\")[0]\n",
    "mapVictimsLyrCensusBlocks = mapVictims.listLayers(\"OCSWITRS Census Blocks\")[0]\n",
    "mapVictimsLyrRoads = mapVictims.listLayers(\"OCSWITRS Roads\")[0]\n",
    "mapVictimsLyrVictims = mapVictims.listLayers(\"OCSWITRS Victims\")[0]\n",
    "\n",
    "# List layers in map\n",
    "print(\"Victims Map Layers:\")\n",
    "for l in mapVictims.listLayers():\n",
    "    print(f\"- {l.name}\")\n",
    "\n",
    "countVictims = int(arcpy.management.GetCount(victims)[0])\n",
    "print(f\"Count of Victims: {countVictims:,}\")"
   ]
  },
  {
   "cell_type": "markdown",
   "metadata": {},
   "source": [
    "<h3 style=\"font-weight:bold; color:lime; padding-left: 50px\">5. Injuries Map Layers</h3>"
   ]
  },
  {
   "cell_type": "code",
   "execution_count": null,
   "metadata": {},
   "outputs": [],
   "source": [
    "# Define map layers\n",
    "mapInjuriesLyrBoundaries = mapInjuries.listLayers(\"OCSWITRS Boundaries\")[0]\n",
    "mapInjuriesLyrCities = mapInjuries.listLayers(\"OCSWITRS Cities\")[0]\n",
    "mapInjuriesLyrCensusBlocks = mapInjuries.listLayers(\"OCSWITRS Census Blocks\")[0]\n",
    "mapInjuriesLyrVictims = mapInjuries.listLayers(\"OCSWITRS Victims\")[0]\n",
    "\n",
    "# List layers in map\n",
    "print(\"Injuries Map Layers:\")\n",
    "for l in mapInjuries.listLayers():\n",
    "    print(f\"- {l.name}\")"
   ]
  },
  {
   "cell_type": "markdown",
   "metadata": {},
   "source": [
    "<h3 style=\"font-weight:bold; color:lime; padding-left: 50px\">6. Fatalities Map Layers</h3>"
   ]
  },
  {
   "cell_type": "code",
   "execution_count": null,
   "metadata": {},
   "outputs": [],
   "source": [
    "# Define map layers\n",
    "mapFatalitiesLyrBoundaries = mapFatalities.listLayers(\"OCSWITRS Boundaries\")[0]\n",
    "mapFatalitiesLyrRoads = mapFatalities.listLayers(\"OCSWITRS Roads\")[0]\n",
    "mapFatalitiesLyrRoadsMajorBuffers = mapFatalities.listLayers(\"OCSWITRS Major Roads Buffers\")[0]\n",
    "mapFatalitiesLyrFatalities = mapFatalities.listLayers(\"OCSWITRS Crashes\")[0]\n",
    "\n",
    "# List layers in map\n",
    "print(\"Fatalities Map Layers:\")\n",
    "for l in mapFatalities.listLayers():\n",
    "    print(f\"- {l.name}\")"
   ]
  },
  {
   "cell_type": "markdown",
   "metadata": {},
   "source": [
    "<h3 style=\"font-weight:bold; color:lime; padding-left: 50px\">7. Hot Spots (100m, 1km) Map Layers</h3>"
   ]
  },
  {
   "cell_type": "code",
   "execution_count": null,
   "metadata": {},
   "outputs": [],
   "source": [
    "# Define map layers\n",
    "mapFhs100m1kmLyrBoundaries = mapFhs100m1km.listLayers(\"OCSWITRS Boundaries\")[0]\n",
    "mapFhs100m1kmLyrCities = mapFhs100m1km.listLayers(\"OCSWITRS Cities\")[0]\n",
    "mapFhs100m1kmLyrCensusBlocks = mapFhs100m1km.listLayers(\"OCSWITRS Census Blocks\")[0]\n",
    "mapFhs100m1kmLyrRoads = mapFhs100m1km.listLayers(\"OCSWITRS Roads\")[0]\n",
    "mapFhs100m1kmLyrFhs100m1km = mapFhs100m1km.listLayers(\"OCSWITRS Crashes Find Hot Spots 100m 1km\")[0]\n",
    "\n",
    "# List layers in map\n",
    "print(\"Find Hotspots 100m 1km Map Layers:\")\n",
    "for l in mapFhs100m1km.listLayers():\n",
    "    print(f\"- {l.name}\")"
   ]
  },
  {
   "cell_type": "markdown",
   "metadata": {},
   "source": [
    "<h3 style=\"font-weight:bold; color:lime; padding-left: 50px\">8. Hot Spots (150m, 2km) Map Layers</h3>"
   ]
  },
  {
   "cell_type": "code",
   "execution_count": null,
   "metadata": {},
   "outputs": [],
   "source": [
    "# Define map layers\n",
    "mapFhs150m2kmLyrBoundaries = mapFhs150m2km.listLayers(\"OCSWITRS Boundaries\")[0]\n",
    "mapFhs150m2kmLyrCities = mapFhs150m2km.listLayers(\"OCSWITRS Cities\")[0]\n",
    "mapFhs150m2kmLyrCensusBlocks = mapFhs150m2km.listLayers(\"OCSWITRS Census Blocks\")[0]\n",
    "mapFhs150m2kmLyrRoads = mapFhs150m2km.listLayers(\"OCSWITRS Roads\")[0]\n",
    "mapFhs150m2kmLyrFhs150m2km = mapFhs150m2km.listLayers(\"OCSWITRS Crashes Find Hot Spots 150m 2km\")[0]\n",
    "\n",
    "# List layers in map\n",
    "print(\"Find Hotspots 150m 2km Map Layers:\")\n",
    "for l in mapFhs150m2km.listLayers():\n",
    "    print(f\"- {l.name}\")"
   ]
  },
  {
   "cell_type": "markdown",
   "metadata": {},
   "source": [
    "<h3 style=\"font-weight:bold; color:lime; padding-left: 50px\">9. Hot Spots (100m, 5km) Map Layers</h3>"
   ]
  },
  {
   "cell_type": "code",
   "execution_count": null,
   "metadata": {},
   "outputs": [],
   "source": [
    "# Define map layers\n",
    "mapFhs100m5kmLyrBoundaries = mapFhs100m5km.listLayers(\"OCSWITRS Boundaries\")[0]\n",
    "mapFhs100m5kmLyrCities = mapFhs100m5km.listLayers(\"OCSWITRS Cities\")[0]\n",
    "mapFhs100m5kmLyrCensusBlocks = mapFhs100m5km.listLayers(\"OCSWITRS Census Blocks\")[0]\n",
    "mapFhs100m5kmLyrRoads = mapFhs100m5km.listLayers(\"OCSWITRS Roads\")[0]\n",
    "mapFhs100m5kmLyrFhs100m5km = mapFhs100m5km.listLayers(\"OCSWITRS Crashes Find Hot Spots 100m 5km\")[0]\n",
    "\n",
    "# List layers in map\n",
    "print(\"Find Hotspots 100m 5km Map Layers:\")\n",
    "for l in mapFhs100m5km.listLayers():\n",
    "    print(f\"- {l.name}\")"
   ]
  },
  {
   "cell_type": "markdown",
   "metadata": {},
   "source": [
    "<h3 style=\"font-weight:bold; color:lime; padding-left: 50px\">10. Hot Spots 500ft from Major Roads Map Layers</h3>"
   ]
  },
  {
   "cell_type": "code",
   "execution_count": null,
   "metadata": {},
   "outputs": [],
   "source": [
    "# Define map layers\n",
    "mapFhsRoads500ftLyrBoundaries = mapFhsRoads500ft.listLayers(\"OCSWITRS Boundaries\")[0]\n",
    "mapFhsRoads500ftLyrCities = mapFhsRoads500ft.listLayers(\"OCSWITRS Cities\")[0]\n",
    "mapFhsRoads500ftLyrCensusBlocks = mapFhsRoads500ft.listLayers(\"OCSWITRS Census Blocks\")[0]\n",
    "mapFhsRoads500ftLyrRoads = mapFhsRoads500ft.listLayers(\"OCSWITRS Roads\")[0]\n",
    "mapFhsRoads500ftLyrFhsRoads500ft = mapFhsRoads500ft.listLayers(\"OCSWITRS Crashes Find Hot Spots 500 Feet from Major Roads 500ft 1mi\")[0]\n",
    "\n",
    "# List layers in map\n",
    "print(\"Find Hotspots 500 Feet from Major Roads Map Layers:\")\n",
    "for l in mapFhsRoads500ft.listLayers():\n",
    "    print(f\"- {l.name}\")"
   ]
  },
  {
   "cell_type": "markdown",
   "metadata": {},
   "source": [
    "<h3 style=\"font-weight:bold; color:lime; padding-left: 50px\">11. Optimized Hot Spots 500ft from Major Roads Map Layers</h3>"
   ]
  },
  {
   "cell_type": "code",
   "execution_count": null,
   "metadata": {},
   "outputs": [],
   "source": [
    "# Define map layers\n",
    "mapOhsRoads500ftLyrBoundaries = mapOhsRoads500ft.listLayers(\"OCSWITRS Boundaries\")[0]\n",
    "mapOhsRoads500ftLyrCities = mapOhsRoads500ft.listLayers(\"OCSWITRS Cities\")[0]\n",
    "mapOhsRoads500ftLyrCensusBlocks = mapOhsRoads500ft.listLayers(\"OCSWITRS Census Blocks\")[0]\n",
    "mapOhsRoads500ftLyrRoads = mapOhsRoads500ft.listLayers(\"OCSWITRS Roads\")[0]\n",
    "mapOhsRoads500ftLyrOhsRoads500ft = mapOhsRoads500ft.listLayers(\"OCSWITRS Crashes Find Hot Spots 500 Feet from Major Roads 500ft 1mi\")[0]\n",
    "\n",
    "# List layers in map\n",
    "print(\"Optimized Hotspots 500 Feet from Major Roads Map Layers:\")\n",
    "for l in mapOhsRoads500ft.listLayers():\n",
    "    print(f\"- {l.name}\")"
   ]
  },
  {
   "cell_type": "markdown",
   "metadata": {},
   "source": [
    "<h3 style=\"font-weight:bold; color:lime; padding-left: 50px\">12. Major Road Crashes Map Layers</h3>"
   ]
  },
  {
   "cell_type": "code",
   "execution_count": null,
   "metadata": {},
   "outputs": [],
   "source": [
    "# Define map layers\n",
    "mapRoadCrashesLyrBoundaries = mapRoadCrashes.listLayers(\"OCSWITRS Boundaries\")[0]\n",
    "mapRoadCrashesLyrCensusBlocks = mapRoadCrashes.listLayers(\"OCSWITRS Census Blocks\")[0]\n",
    "mapRoadCrashesLyrRoadsMajor = mapRoadCrashes.listLayers(\"OCSWITRS Major Roads\")[0]\n",
    "mapRoadCrashesLyrCrashes500ftRoads = mapRoadCrashes.listLayers(\"OCSWITRS Crashes 500 Feet from Major Roads\")[0]\n",
    "\n",
    "# List layers in map\n",
    "print(\"Major Road Crasjes Map Layers:\")\n",
    "for l in mapRoadCrashes.listLayers():\n",
    "    print(f\"- {l.name}\")"
   ]
  },
  {
   "cell_type": "markdown",
   "metadata": {},
   "source": [
    "<h3 style=\"font-weight:bold; color:lime; padding-left: 50px\">13. Major Road Hotspots Map Layers</h3>"
   ]
  },
  {
   "cell_type": "code",
   "execution_count": null,
   "metadata": {},
   "outputs": [],
   "source": [
    "# Define map layers\n",
    "mapRoadHotspotsLyrBoundaries = mapRoadHotspots.listLayers(\"OCSWITRS Boundaries\")[0]\n",
    "mapRoadHotspotsLyrCensusBlocks = mapRoadHotspots.listLayers(\"OCSWITRS Census Blocks\")[0]\n",
    "mapRoadHotspotsLyrRoadsMajor = mapRoadHotspots.listLayers(\"OCSWITRS Major Roads\")[0]\n",
    "mapRoadHotspotsLyrCrashesHotspots = mapRoadHotspots.listLayers(\"OCSWITRS Crashes Hot Spots 500 Feet from Major Roads\")\n",
    "\n",
    "# List layers in map\n",
    "print(\"Major Road Hotspots Map Layers:\")\n",
    "for l in mapRoadHotspots.listLayers():\n",
    "    print(f\"- {l.name}\")"
   ]
  },
  {
   "cell_type": "markdown",
   "metadata": {},
   "source": [
    "<h3 style=\"font-weight:bold; color:lime; padding-left: 50px\">14. Major Road Buffers Map Layers</h3>"
   ]
  },
  {
   "cell_type": "code",
   "execution_count": null,
   "metadata": {},
   "outputs": [],
   "source": [
    "# Define map layers\n",
    "mapRoadBuffersLyrBoundaries = mapRoadBuffers.listLayers(\"OCSWITRS Boundaries\")[0]\n",
    "mapRoadBuffersLyrCensusBlocks = mapRoadBuffers.listLayers(\"OCSWITRS Census Blocks\")[0]\n",
    "mapRoadBuffersLyrRoadsMajor = mapRoadBuffers.listLayers(\"OCSWITRS Major Roads\")[0]\n",
    "mapRoadBuffersLyrRoadBuffers = mapRoadBuffers.listLayers(\"OCSWITRS Major Roads Buffers Summary\")[0]\n",
    "\n",
    "# List layers in map\n",
    "print(\"Major Road Buffers Map Layers:\")\n",
    "for l in mapRoadBuffers.listLayers():\n",
    "    print(f\"- {l.name}\")"
   ]
  },
  {
   "cell_type": "markdown",
   "metadata": {},
   "source": [
    "<h3 style=\"font-weight:bold; color:lime; padding-left: 50px\">15. Major Road Segments Map Layers</h3>"
   ]
  },
  {
   "cell_type": "code",
   "execution_count": null,
   "metadata": {},
   "outputs": [],
   "source": [
    "# Define map layers\n",
    "mapRoadSegmentsLyrBoundaries = mapRoadSegments.listLayers(\"OCSWITRS Boundaries\")[0]\n",
    "mapRoadSegmentsLyrCensusBlocks = mapRoadSegments.listLayers(\"OCSWITRS Census Blocks\")[0]\n",
    "mapRoadSegmentsLyrRoadsMajor = mapRoadSegments.listLayers(\"OCSWITRS Major Roads\")[0]\n",
    "mapRoadSegmentsLyrRoadsMajorSplit = mapRoadSegments.listLayers(\"OCSWITRS Major Roads Split Buffer Summary\")[0]\n",
    "\n",
    "# List layers in map\n",
    "print(\"Major Road Segments Map Layers:\")\n",
    "for l in mapRoadSegments.listLayers():\n",
    "    print(f\"- {l.name}\")"
   ]
  },
  {
   "cell_type": "markdown",
   "metadata": {},
   "source": [
    "<h3 style=\"font-weight:bold; color:lime; padding-left: 50px\">16. Roads Map Layers</h3>"
   ]
  },
  {
   "cell_type": "code",
   "execution_count": null,
   "metadata": {},
   "outputs": [],
   "source": [
    "# Define map layers\n",
    "mapRoadsLyrRoadsMajor = mapRoads.listLayers(\"OCSWITRS Major Roads\")[0]\n",
    "mapRoadsLyrRoadsMajorBuffers = mapRoads.listLayers(\"OCSWITRS Major Roads Buffers\")[0]\n",
    "mapRoadsLyrRoadsMajorBuffersSum = mapRoads.listLayers(\"OCSWITRS Major Roads Buffers Summary\")[0]\n",
    "mapRoadsLyrRoadsMajorPointsAlongLines = mapRoads.listLayers(\"OCSWITRS Major Roads Points Along Lines\")[0]\n",
    "mapRoadsLyrRoadsMajorSplit = mapRoads.listLayers(\"OCSWITRS Major Roads Split\")[0]\n",
    "mapRoadsLyrRoadsMajorSplitBuffer = mapRoads.listLayers(\"OCSWITRS Major Roads Split Buffer\")[0]\n",
    "mapRoadsLyrRoadsMajorSplitBufferSum = mapRoads.listLayers(\"OCSWITRS Major Roads Split Buffer Summary\")[0]\n",
    "\n",
    "# List layers in map\n",
    "print(\"Roads Map Layers:\")\n",
    "for l in mapRoads.listLayers():\n",
    "    print(f\"- {l.name}\")"
   ]
  },
  {
   "cell_type": "markdown",
   "metadata": {},
   "source": [
    "<h3 style=\"font-weight:bold; color:lime; padding-left: 50px\">17. Hotspot Points Map Layers</h3>"
   ]
  },
  {
   "cell_type": "code",
   "execution_count": null,
   "metadata": {},
   "outputs": [],
   "source": [
    "# Define map layers\n",
    "mapPointFhsLyrBoundaries = mapPointFhs.listLayers(\"OCSWITRS Boundaries\")[0]\n",
    "mapPointFhsLyrRoadsMajor = mapPointFhs.listLayers(\"OCSWITRS Major Roads\")[0]\n",
    "mapPointFhsLyrFhs = mapPointFhs.listLayers(\"OCSWITRS Crashes Hot Spots\")[0]\n",
    "\n",
    "# List layers in map\n",
    "print(\"Hotspot Points Map Layers:\")\n",
    "for l in mapPointFhs.listLayers():\n",
    "    print(f\"- {l.name}\")"
   ]
  },
  {
   "cell_type": "markdown",
   "metadata": {},
   "source": [
    "<h3 style=\"font-weight:bold; color:lime; padding-left: 50px\">18. Optimized Hotspot Points Map Layers</h3>"
   ]
  },
  {
   "cell_type": "code",
   "execution_count": null,
   "metadata": {},
   "outputs": [],
   "source": [
    "# Define map layers\n",
    "mapPointOhsLyrBoundaries = mapPointOhs.listLayers(\"OCSWITRS Boundaries\")[0]\n",
    "mapPointOhsLyrRoadsMajor = mapPointOhs.listLayers(\"OCSWITRS Major Roads\")[0]\n",
    "mapPointOhsLyrOhs = mapPointOhs.listLayers(\"OCSWITRS Crashes Optimized Hot Spots\")[0]\n",
    "\n",
    "# List layers in map\n",
    "print(\"Optimized Hotspot Points Map Layers:\")\n",
    "for l in mapPointOhs.listLayers():\n",
    "    print(f\"- {l.name}\")"
   ]
  },
  {
   "cell_type": "markdown",
   "metadata": {},
   "source": [
    "<h3 style=\"font-weight:bold; color:lime; padding-left: 50px\">19. Population Density Map Layers</h3>"
   ]
  },
  {
   "cell_type": "code",
   "execution_count": null,
   "metadata": {},
   "outputs": [],
   "source": [
    "# Define map layers\n",
    "mapPopDensLyrBoundaries = mapPopDens.listLayers(\"OCSWITRS Boundaries\")[0]\n",
    "mapPopDensLyrRoadsMajor = mapPopDens.listLayers(\"OCSWITRS Major Roads\")[0]\n",
    "mapPopDensLyrPopDens = mapPopDens.listLayers(\"OCSWITRS Population Density\")[0]\n",
    "\n",
    "# List layers in map\n",
    "print(\"Population Density Map Layers:\")\n",
    "for l in mapPopDens.listLayers():\n",
    "    print(f\"- {l.name}\")"
   ]
  },
  {
   "cell_type": "markdown",
   "metadata": {},
   "source": [
    "<h3 style=\"font-weight:bold; color:lime; padding-left: 50px\">20. Housing Density Map Layers</h3>"
   ]
  },
  {
   "cell_type": "code",
   "execution_count": null,
   "metadata": {},
   "outputs": [],
   "source": [
    "# Define map layers\n",
    "mapHouDensLyrBoundaries = mapHouDens.listLayers(\"OCSWITRS Boundaries\")[0]\n",
    "mapHouDensLyrRoadsMajor = mapHouDens.listLayers(\"OCSWITRS Major Roads\")[0]\n",
    "mapHouDensLyrHouDens = mapHouDens.listLayers(\"OCSWITRS Housing Density\")[0]\n",
    "\n",
    "# List layers in map\n",
    "print(\"Housing Density Map Layers:\")\n",
    "for l in mapHouDens.listLayers():\n",
    "    print(f\"- {l.name}\")"
   ]
  },
  {
   "cell_type": "markdown",
   "metadata": {},
   "source": [
    "<h3 style=\"font-weight:bold; color:lime; padding-left: 50px\">21. Victims By City Areas Map Layers</h3>"
   ]
  },
  {
   "cell_type": "code",
   "execution_count": null,
   "metadata": {},
   "outputs": [],
   "source": [
    "# Define map layers\n",
    "mapAreaCitiesLyrBoundaries = mapAreaCities.listLayers(\"OCSWITRS Boundaries\")[0]\n",
    "mapAreaCitiesLyrRoadsMajor = mapAreaCities.listLayers(\"OCSWITRS Major Roads\")[0]\n",
    "mapAreaCitiesLyrCities = mapAreaCities.listLayers(\"OCSWITRS Cities Summary\")[0]\n",
    "\n",
    "# List layers in map\n",
    "print(\"Victims by City Areas Map Layers:\")\n",
    "for l in mapAreaCities.listLayers():\n",
    "    print(f\"- {l.name}\")"
   ]
  },
  {
   "cell_type": "markdown",
   "metadata": {},
   "source": [
    "<h3 style=\"font-weight:bold; color:lime; padding-left: 50px\">22. Victims By Census Blocks Map Layers</h3>"
   ]
  },
  {
   "cell_type": "code",
   "execution_count": null,
   "metadata": {},
   "outputs": [],
   "source": [
    "# Define map layers\n",
    "mapAreaBlocksLyrBoundaries = mapAreaBlocks.listLayers(\"OCSWITRS Boundaries\")[0]\n",
    "mapAreaBlocksLyrRoadsMajor = mapAreaBlocks.listLayers(\"OCSWITRS Major Roads\")[0]\n",
    "mapAreaBlocksLyrCensusBlocks = mapAreaBlocks.listLayers(\"OCSWITRS Census Blocks Summary\")[0]\n",
    "\n",
    "# List layers in map\n",
    "print(\"Victims by Census Block Areas Map Layers:\")\n",
    "for l in mapAreaBlocks.listLayers():\n",
    "    print(f\"- {l.name}\")"
   ]
  },
  {
   "cell_type": "markdown",
   "metadata": {},
   "source": [
    "<h3 style=\"font-weight:bold; color:lime; padding-left: 50px\">23. Summaries Map Layers</h3>"
   ]
  },
  {
   "cell_type": "code",
   "execution_count": null,
   "metadata": {},
   "outputs": [],
   "source": [
    "# Define map layers\n",
    "mapSummariesLyrCensusBlocksSum = mapSummaries.listLayers(\"OCSWITRS Census Blocks Summary\")[0]\n",
    "mapSummariesLyrCitiesSum = mapSummaries.listLayers(\"OCSWITRS Cities Summary\")[0]\n",
    "mapSummariesLyrCrashes500ftFromMajorRoads = mapSummaries.listLayers(\"OCSWITRS Crashes 500 Feet from Major Roads\")[0]\n",
    "\n",
    "# List layers in map\n",
    "print(\"Summaries Map Layers:\")\n",
    "for l in mapSummaries.listLayers():\n",
    "    print(f\"- {l.name}\")"
   ]
  },
  {
   "cell_type": "markdown",
   "metadata": {},
   "source": [
    "<h3 style=\"font-weight:bold; color:lime; padding-left: 50px\">24. Analysis Map Layers</h3>"
   ]
  },
  {
   "cell_type": "code",
   "execution_count": null,
   "metadata": {},
   "outputs": [],
   "source": [
    "# Define map layers\n",
    "mapAnalysisLyrCrashesHotspots = mapAnalysis.listLayers(\"OCSWITRS Crashes Hot Spots\")[0]\n",
    "mapAnalysisLyrCrashesOptimizedHotspots = mapAnalysis.listLayers(\"OCSWITRS Crashes Optimized Hot Spots\")[0]\n",
    "\n",
    "# List layers in map\n",
    "print(\"Analysis Map Layers:\")\n",
    "for l in mapAnalysis.listLayers():\n",
    "    print(f\"- {l.name}\")"
   ]
  },
  {
   "cell_type": "markdown",
   "metadata": {},
   "source": [
    "<h3 style=\"font-weight:bold; color:lime; padding-left: 50px\">25. Regression Map Layers</h3>"
   ]
  },
  {
   "cell_type": "code",
   "execution_count": null,
   "metadata": {},
   "outputs": [],
   "source": [
    "# Define map layers\n",
    "mapRegressionLyrBoundaries = mapRegression.listLayers(\"OCSWITRS Boundaries\")[0]\n",
    "mapRegressionLyrCities = mapRegression.listLayers(\"OCSWITRS Cities\")[0]\n",
    "mapRegressionLyrCensusBlocks = mapRegression.listLayers(\"OCSWITRS Census Blocks\")[0]\n",
    "mapRegressionLyrRoads = mapRegression.listLayers(\"OCSWITRS Roads\")[0]\n",
    "\n",
    "# List layers in map\n",
    "print(\"Regression Map Layers:\")\n",
    "for l in mapRegression.listLayers():\n",
    "    print(f\"- {l.name}\")"
   ]
  },
  {
   "cell_type": "markdown",
   "metadata": {},
   "source": [
    "<h2 style=\"font-weight:bold; color:dodgerblue; border-bottom: 1px solid dodgerblue; padding-left: 25px\">1.7. Project and Map Extent</h2>"
   ]
  },
  {
   "cell_type": "markdown",
   "metadata": {},
   "source": [
    "Define and create the project and map extent"
   ]
  },
  {
   "cell_type": "code",
   "execution_count": null,
   "metadata": {},
   "outputs": [],
   "source": [
    "# Define the map extent coordinates\n",
    "xmin = -13150753.258299999\n",
    "ymin = 3942787.8856000006\n",
    "xmax = -13069273.7991\n",
    "ymax = 4029458.1212000027\n",
    "\n",
    "# Get the spatial reference of the boundaries layer\n",
    "ref = arcpy.Describe(boundaries).spatialReference\n",
    "\n",
    "# Set the map extent\n",
    "prjExtent = arcpy.Extent(xmin, ymin, xmax, ymax, spatial_reference=ref)"
   ]
  },
  {
   "cell_type": "markdown",
   "metadata": {},
   "source": [
    "<h1 style=\"font-weight:bold; color:orangered; border-bottom: 2px solid orangered\">2. Project Layouts</h1>"
   ]
  },
  {
   "cell_type": "markdown",
   "metadata": {},
   "source": [
    "<h2 style=\"font-weight:bold; color:dodgerblue; border-bottom: 1px solid dodgerblue; padding-left: 25px\">2.1. Setup Map Layouts</h2>"
   ]
  },
  {
   "cell_type": "markdown",
   "metadata": {},
   "source": [
    "<h3 style=\"font-weight:bold; color:lime; padding-left: 50px\">Layout Configuration</h3>"
   ]
  },
  {
   "cell_type": "markdown",
   "metadata": {},
   "source": [
    "Setting up layout configuration variables. Options are:\n",
    "- Single map frame: 6 x 4 inches (landscape)\n",
    "- Dual map frames: 12 x 4 inches (landscape) (two 6 x 4 inches frames)\n",
    "- Four map frames: 12 x 8 inches (landscape) (four 6 x 4 inches frames)"
   ]
  },
  {
   "cell_type": "code",
   "execution_count": null,
   "metadata": {},
   "outputs": [],
   "source": [
    "# Function to setup layout configuration\n",
    "def layoutConfiguration(nmf):\n",
    "    # Match the number of map frames in layout\n",
    "    match nmf:\n",
    "        case 1:\n",
    "            lytConfig = {\n",
    "                \"pageWidth\": 11.0,\n",
    "                \"pageHeight\": 8.5,\n",
    "                \"pageUnits\": \"INCH\",\n",
    "                \"rows\": 1,\n",
    "                \"cols\": 1,\n",
    "                \"nmf\": 1,\n",
    "                \"mf1\": {\n",
    "                    \"coords\": [(0.0, 8.5), (11.0, 8.5), (0.0, 0.0), (11.0, 0.0)],\n",
    "                    \"width\": 11.0,\n",
    "                    \"height\": 8.5,\n",
    "                    \"anchor\": \"BOTTOM_LEFT_CORNER\",\n",
    "                    \"coordX\": 0.0,\n",
    "                    \"coordY\": 0.0,\n",
    "                    \"geometry\": arcpy.Point(0.0, 0.0)\n",
    "                },\n",
    "                \"t1\": {\n",
    "                    \"width\": 1.9184,\n",
    "                    \"height\": 0.3414,\n",
    "                    \"anchor\": \"TOP_LEFT_CORNER\",\n",
    "                    \"coordX\": 0.25,\n",
    "                    \"coordY\": 8.25,\n",
    "                    \"geometry\": arcpy.Point(0.25, 8.25)\n",
    "                },\n",
    "                \"na\": {\n",
    "                    \"width\": 0.3606,\n",
    "                    \"height\": 0.75,\n",
    "                    \"anchor\": \"BOTTOM_RIGHT_CORNER\",\n",
    "                    \"coordX\": 10.75,\n",
    "                    \"coordY\": 0.25,\n",
    "                    \"geometry\": arcpy.Point(10.75, 0.25)\n",
    "                },\n",
    "                \"sb\": {\n",
    "                    \"width\": 4.5,\n",
    "                    \"height\": 0.5,\n",
    "                    \"anchor\": \"BOTTOM_MID_POINT\",\n",
    "                    \"coordX\": 5.5,\n",
    "                    \"coordY\": 0.25,\n",
    "                    \"geometry\": arcpy.Point(5.5, 0.25)\n",
    "                },\n",
    "                \"cr\": {\n",
    "                    \"width\": 0.0,\n",
    "                    \"height\": 0.0,\n",
    "                    \"anchor\": \"BOTTOM_LEFT_CORNER\",\n",
    "                    \"coordX\": 0.0,\n",
    "                    \"coordY\": 0.0,\n",
    "                    \"geometry\": arcpy.Point(0.0, 0.0)\n",
    "                },\n",
    "                \"lg1\": {\n",
    "                    \"width\": 4.5,\n",
    "                    \"height\": 2.0,\n",
    "                    \"anchor\": \"BOTTOM_LEFT_CORNER\",\n",
    "                    \"coordX\": 0.25,\n",
    "                    \"coordY\": 0.25,\n",
    "                    \"geometry\": arcpy.Point(0.25, 0.25)\n",
    "                }\n",
    "            }\n",
    "        case 2:\n",
    "            lytConfig = {\n",
    "                \"pageWidth\": 22.0,\n",
    "                \"pageHeight\": 8.5,\n",
    "                \"pageUnits\": \"INCH\",\n",
    "                \"rows\": 1,\n",
    "                \"cols\": 2,\n",
    "                \"nmf\": 2,\n",
    "                \"mf1\": {\n",
    "                    \"coords\": [(0.0, 8.5), (11.0, 8.5), (0.0, 0.0), (11.0, 0.0)],\n",
    "                    \"width\": 11.0,\n",
    "                    \"height\": 8.5,\n",
    "                    \"anchor\": \"BOTTOM_LEFT_CORNER\",\n",
    "                    \"coordX\": 0.0,\n",
    "                    \"coordY\": 0.0,\n",
    "                    \"geometry\": arcpy.Point(0.0, 0.0)\n",
    "                },\n",
    "                \"mf2\": {\n",
    "                    \"coords\": [(11.0, 8.5), (22.0, 8.5), (11.0, 0.0), (22.0, 0.0)],\n",
    "                    \"width\": 11.0,\n",
    "                    \"height\": 8.5,\n",
    "                    \"anchor\": \"BOTTOM_LEFT_CORNER\",\n",
    "                    \"coordX\": 11.0,\n",
    "                    \"coordY\": 0.0,\n",
    "                    \"geometry\": arcpy.Point(11.0, 0.0)\n",
    "                },\n",
    "                \"t1\": {\n",
    "                    \"width\": 1.9184,\n",
    "                    \"height\": 0.3414,\n",
    "                    \"anchor\": \"TOP_LEFT_CORNER\",\n",
    "                    \"coordX\": 0.25,\n",
    "                    \"coordY\": 8.25,\n",
    "                    \"geometry\": arcpy.Point(0.25, 8.25)\n",
    "                },\n",
    "                \"t2\": {\n",
    "                    \"width\": 1.9184,\n",
    "                    \"height\": 0.3414,\n",
    "                    \"anchor\": \"TOP_LEFT_CORNER\",\n",
    "                    \"coordX\": 11.25,\n",
    "                    \"coordY\": 8.25,\n",
    "                    \"geometry\": arcpy.Point(11.25, 8.25)\n",
    "                },\n",
    "                \"na\": {\n",
    "                    \"width\": 0.3606,\n",
    "                    \"height\": 0.75,\n",
    "                    \"anchor\": \"BOTTOM_RIGHT_CORNER\",\n",
    "                    \"coordX\": 21.75,\n",
    "                    \"coordY\": 0.25,\n",
    "                    \"geometry\": arcpy.Point(21.75, 0.25)\n",
    "                },\n",
    "                \"sb\": {\n",
    "                    \"width\": 4.5,\n",
    "                    \"height\": 0.5,\n",
    "                    \"anchor\": \"BOTTOM_MID_POINT\",\n",
    "                    \"coordX\": 16.5,\n",
    "                    \"coordY\": 0.25,\n",
    "                    \"geometry\": arcpy.Point(16.5, 0.25)\n",
    "                },\n",
    "                \"cr\": {\n",
    "                    \"width\": 0.0,\n",
    "                    \"height\": 0.0,\n",
    "                    \"anchor\": \"BOTTOM_LEFT_CORNER\",\n",
    "                    \"coordX\": 0.0,\n",
    "                    \"coordY\": 0.0,\n",
    "                    \"geometry\": arcpy.Point(0.0, 0.0)\n",
    "                },\n",
    "                \"lg1\": {\n",
    "                    \"width\": 4.5,\n",
    "                    \"height\": 2.0,\n",
    "                    \"anchor\": \"BOTTOM_LEFT_CORNER\",\n",
    "                    \"coordX\": 0.25,\n",
    "                    \"coordY\": 0.25,\n",
    "                    \"geometry\": arcpy.Point(0.25, 0.25)\n",
    "                },\n",
    "                \"lg2\": {\n",
    "                    \"width\": 4.5,\n",
    "                    \"height\": 2.0,\n",
    "                    \"anchor\": \"BOTTOM_LEFT_CORNER\",\n",
    "                    \"coordX\": 11.25,\n",
    "                    \"coordY\": 0.25,\n",
    "                    \"geometry\": arcpy.Point(11.25, 0.25)\n",
    "                }\n",
    "            }\n",
    "        case 4:\n",
    "            lytConfig = {\n",
    "                \"pageWidth\": 22.0,\n",
    "                \"pageHeight\": 17.0,\n",
    "                \"pageUnits\": \"INCH\",\n",
    "                \"rows\": 2,\n",
    "                \"cols\": 2,\n",
    "                \"nmf\": 4,\n",
    "                \"mf1\": {\n",
    "                    \"coords\": [(0.0, 17.0), (11.0, 17.0), (0.0, 8.5), (11.0, 8.5)],\n",
    "                    \"width\": 11.0,\n",
    "                    \"height\": 8.5,\n",
    "                    \"anchor\": \"BOTTOM_LEFT_CORNER\",\n",
    "                    \"coordX\": 0.0,\n",
    "                    \"coordY\": 8.5,\n",
    "                    \"geometry\": arcpy.Point(0.0, 8.5)\n",
    "                },\n",
    "                \"mf2\": {\n",
    "                    \"coords\": [(11.0, 17.0), (22.0, 17.0), (11.0, 8.5), (22.0, 8.5)],\n",
    "                    \"width\": 11.0,\n",
    "                    \"height\": 8.5,\n",
    "                    \"anchor\": \"BOTTOM_LEFT_CORNER\",\n",
    "                    \"coordX\": 11.0,\n",
    "                    \"coordY\": 8.5,\n",
    "                    \"geometry\": arcpy.Point(11.0, 8.5)\n",
    "                },\n",
    "                \"mf3\": {\n",
    "                    \"coords\": [(0.0, 8.5), (11.0, 8.5), (0.0, 0.0), (11.0, 0.0)],\n",
    "                    \"width\": 11.0,\n",
    "                    \"height\": 8.5,\n",
    "                    \"anchor\": \"BOTTOM_LEFT_CORNER\",\n",
    "                    \"coordX\": 0.0,\n",
    "                    \"coordY\": 0.0,\n",
    "                    \"geometry\": arcpy.Point(0.0, 0.0)\n",
    "                },\n",
    "                \"mf4\": {\n",
    "                    \"coords\": [(11.0, 8.5), (22.0, 8.5), (11.0, 0.0), (22.0, 0.0)],\n",
    "                    \"width\": 11.0,\n",
    "                    \"height\": 8.5,\n",
    "                    \"anchor\": \"BOTTOM_LEFT_CORNER\",\n",
    "                    \"coordX\": 11.0,\n",
    "                    \"coordY\": 0.0,\n",
    "                    \"geometry\": arcpy.Point(11.0, 0.0)\n",
    "                },\n",
    "                \"t1\": {\n",
    "                    \"width\": 1.9184,\n",
    "                    \"height\": 0.3414,\n",
    "                    \"anchor\": \"TOP_LEFT_CORNER\",\n",
    "                    \"coordX\": 0.25,\n",
    "                    \"coordY\": 16.75,\n",
    "                    \"geometry\": arcpy.Point(0.25, 16.75)\n",
    "                },\n",
    "                \"t2\": {\n",
    "                    \"width\": 1.9184,\n",
    "                    \"height\": 0.3414,\n",
    "                    \"anchor\": \"TOP_LEFT_CORNER\",\n",
    "                    \"coordX\": 11.25,\n",
    "                    \"coordY\": 16.75,\n",
    "                    \"geometry\": arcpy.Point(11.25, 16.75)\n",
    "                },\n",
    "                \"t3\": {\n",
    "                    \"width\": 1.9184,\n",
    "                    \"height\": 0.3414,\n",
    "                    \"anchor\": \"TOP_LEFT_CORNER\",\n",
    "                    \"coordX\": 0.25,\n",
    "                    \"coordY\": 8.25,\n",
    "                    \"geometry\": arcpy.Point(0.25, 8.25)\n",
    "                },\n",
    "                \"t4\": {\n",
    "                    \"width\": 1.9184,\n",
    "                    \"height\": 0.3414,\n",
    "                    \"anchor\": \"TOP_LEFT_CORNER\",\n",
    "                    \"coordX\": 11.25,\n",
    "                    \"coordY\": 8.25,\n",
    "                    \"geometry\": arcpy.Point(11.25, 8.25)\n",
    "                },\n",
    "                \"na\": {\n",
    "                    \"width\": 0.3606,\n",
    "                    \"height\": 0.75,\n",
    "                    \"anchor\": \"BOTTOM_RIGHT_CORNER\",\n",
    "                    \"coordX\": 21.75,\n",
    "                    \"coordY\": 0.25,\n",
    "                    \"geometry\": arcpy.Point(21.75, 0.25)\n",
    "                },\n",
    "                \"sb\": {\n",
    "                    \"width\": 4.5,\n",
    "                    \"height\": 0.5,\n",
    "                    \"anchor\": \"BOTTOM_MID_POINT\",\n",
    "                    \"coordX\": 16.75,\n",
    "                    \"coordY\": 0.25,\n",
    "                    \"geometry\": arcpy.Point(16.75, 0.25)\n",
    "                },\n",
    "                \"cr\": {\n",
    "                    \"width\": 0.5,\n",
    "                    \"height\": 0.5,\n",
    "                    \"anchor\": \"BOTTOM_LEFT_CORNER\",\n",
    "                    \"coordX\": 0.0,\n",
    "                    \"coordY\": 0.0,\n",
    "                    \"geometry\": arcpy.Point(0.0, 0.0)\n",
    "                },\n",
    "                \"lg1\": {\n",
    "                    \"width\": 4.5,\n",
    "                    \"height\": 2.0,\n",
    "                    \"anchor\": \"BOTTOM_LEFT_CORNER\",\n",
    "                    \"coordX\": 0.25,\n",
    "                    \"coordY\": 8.75,\n",
    "                    \"geometry\": arcpy.Point(0.25, 8.75)\n",
    "                },\n",
    "                \"lg2\": {\n",
    "                    \"width\": 4.5,\n",
    "                    \"height\": 2.0,\n",
    "                    \"anchor\": \"BOTTOM_LEFT_CORNER\",\n",
    "                    \"coordX\": 11.25,\n",
    "                    \"coordY\": 8.75,\n",
    "                    \"geometry\": arcpy.Point(11.25, 8.75)\n",
    "                },\n",
    "                \"lg3\": {\n",
    "                    \"width\": 4.5,\n",
    "                    \"height\": 2.0,\n",
    "                    \"anchor\": \"BOTTOM_LEFT_CORNER\",\n",
    "                    \"coordX\": 0.25,\n",
    "                    \"coordY\": 0.25,\n",
    "                    \"geometry\": arcpy.Point(0.25, 0.25)\n",
    "                },\n",
    "                \"lg4\": {\n",
    "                    \"width\": 4.5,\n",
    "                    \"height\": 2.0,\n",
    "                    \"anchor\": \"BOTTOM_LEFT_CORNER\",\n",
    "                    \"coordX\": 11.25,\n",
    "                    \"coordY\": 0.25,\n",
    "                    \"geometry\": arcpy.Point(11.25, 0.25)\n",
    "                }\n",
    "            }\n",
    "    return lytConfig"
   ]
  },
  {
   "cell_type": "markdown",
   "metadata": {},
   "source": [
    "Apply the layout configuration to all layouts"
   ]
  },
  {
   "cell_type": "code",
   "execution_count": null,
   "metadata": {},
   "outputs": [],
   "source": [
    "# Define layout configurations for each map\n",
    "mapsLytConfig = layoutConfiguration(4)\n",
    "injuriesLytConfig = layoutConfiguration(2)\n",
    "hotspotsLytConfig = layoutConfiguration(4)\n",
    "roadsLytConfig = layoutConfiguration(4)\n",
    "pointsLytConfig = layoutConfiguration(2)\n",
    "densityLytConfig = layoutConfiguration(2)\n",
    "areasLytConfig = layoutConfiguration(2)\n",
    "\n",
    "# Add the layout configurations to a new dictionary\n",
    "lytDict = {\n",
    "    \"maps\": mapsLytConfig,\n",
    "    \"injuries\": injuriesLytConfig,\n",
    "    \"hotspots\": hotspotsLytConfig,\n",
    "    \"roads\": roadsLytConfig,\n",
    "    \"points\": pointsLytConfig,\n",
    "    \"density\": densityLytConfig,\n",
    "    \"areas\": areasLytConfig\n",
    "}"
   ]
  },
  {
   "cell_type": "markdown",
   "metadata": {},
   "source": [
    "<h3 style=\"font-weight:bold; color:lime; padding-left: 50px\">Remove Old Layouts</h3>"
   ]
  },
  {
   "cell_type": "markdown",
   "metadata": {},
   "source": [
    "Remove all old layouts from the ArcGIS Pro project"
   ]
  },
  {
   "cell_type": "code",
   "execution_count": null,
   "metadata": {},
   "outputs": [],
   "source": [
    "if aprx.listLayouts():\n",
    "    for l in aprx.listLayouts():\n",
    "        print(f\"Deleting layout: {l.name}\")\n",
    "        aprx.deleteItem(l)\n",
    "else:\n",
    "    print(\"No layouts to delete.\")"
   ]
  },
  {
   "cell_type": "markdown",
   "metadata": {},
   "source": [
    "<h3 style=\"font-weight:bold; color:lime; padding-left: 50px\">Create New Layouts</h3>"
   ]
  },
  {
   "cell_type": "markdown",
   "metadata": {},
   "source": [
    "Create new layouts in the ArcGIS Pro project"
   ]
  },
  {
   "cell_type": "code",
   "execution_count": null,
   "metadata": {},
   "outputs": [],
   "source": [
    "# for each of the layouts in the list, if it exists, delete it\n",
    "for l in layoutList:\n",
    "    for i in aprx.listLayouts():\n",
    "        if i.name == l:\n",
    "            print(f\"Deleting layout: {l}\")\n",
    "            aprx.deleteItem(i)\n",
    "    # Create new layouts\n",
    "    print(f\"Creating layout: {l}\")\n",
    "    aprx.createLayout(\n",
    "        page_width = lytDict[l][\"pageWidth\"], \n",
    "        page_height = lytDict[l][\"pageHeight\"], \n",
    "        page_units = lytDict[l][\"pageUnits\"], \n",
    "        name=l\n",
    "    )\n",
    "\n",
    "# List all the newly created layouts\n",
    "print(\"\\nNewly created layouts:\")\n",
    "for l in aprx.listLayouts():\n",
    "    print(f\"- {l.name}\")"
   ]
  },
  {
   "cell_type": "markdown",
   "metadata": {},
   "source": [
    "Store the layout objects in variables"
   ]
  },
  {
   "cell_type": "code",
   "execution_count": null,
   "metadata": {},
   "outputs": [],
   "source": [
    "mapsLayout = aprx.listLayouts(\"maps\")[0] # maps layout\n",
    "injuriesLayout = aprx.listLayouts(\"injuries\")[0] # injuries layout\n",
    "hotspotsLayout = aprx.listLayouts(\"hotspots\")[0] # hotspots layout\n",
    "roadsLayout = aprx.listLayouts(\"roads\")[0] # road hotspots layout\n",
    "pointsLayout = aprx.listLayouts(\"points\")[0] # point hotspots layout\n",
    "densityLayout = aprx.listLayouts(\"density\")[0] # densities layout\n",
    "areasLayout = aprx.listLayouts(\"areas\")[0] # areas layout"
   ]
  },
  {
   "cell_type": "markdown",
   "metadata": {},
   "source": [
    "<h2 style=\"font-weight:bold; color:dodgerblue; border-bottom: 1px solid dodgerblue; padding-left: 25px\">2.2. Layout Metadata</h2>"
   ]
  },
  {
   "cell_type": "markdown",
   "metadata": {},
   "source": [
    "<h3 style=\"font-weight:bold; color:lime; padding-left: 50px\">Maps Layout Metadata</h3>"
   ]
  },
  {
   "cell_type": "markdown",
   "metadata": {},
   "source": [
    "Create a new metadata object for the maps layout and assign it to the layout"
   ]
  },
  {
   "cell_type": "code",
   "execution_count": null,
   "metadata": {},
   "outputs": [],
   "source": [
    "mdoMapsLayout = md.Metadata()\n",
    "mdoMapsLayout.title = \"OCSWITRS Maps Layout\"\n",
    "mdoMapsLayout.tags = \"Orange County, California, Traffic, Traffic Conditions, Crashes, Collisions, Road Safety, Accidents, SWITRS, OCSWITRS, Transportation\"\n",
    "mdoMapsLayout.summary = \"Layout for the OCSWITRS Project Maps\"\n",
    "mdoMapsLayout.description = \"\"\"<div style=\"text-align:Left;\"><div><div><p><span>Layout for the OCSWITRS Project Maps</span></p></div></div></div>\"\"\"\n",
    "mdoMapsLayout.credits = \"Dr. Kostas Alexandridis, GISP, Data Scientist, OC Public Works, OC Survey Geospatial Services\"\n",
    "mdoMapsLayout.accessConstraints = \"\"\"<div style=\"text-align:Left;\"><p><span>The SWITRS data displayed are provided by the California Highway Patrol (CHP) reports through the Transportation Injury Mapping System (TIMS) of the University of California, Berkeley. Issues of report accuracy should be addressed to CHP.</span></p><p>The displayed mapped data can be used under a <a href=\"https://creativecommons.org/licenses/by-sa/3.0/\" target=\"_blank\">Creative Commons CC-SA-BY</a> License, providing attribution to TIMS, CHP, and OC Public Works, OC Survey Geospatial Services. </p><div>We make every effort to provide the most accurate and up-to-date data and information. Nevertheless, the data feed is provided, 'as is' and OC Public Work's standard <a href=\"https://www.ocgov.com/contact-county/disclaimer\" target=\"_blank\">Disclaimer</a> applies.<br /></div><div><br /></div><div>For any inquiries, suggestions or questions, please contact:</div><div><br /></div><div style=\"text-align:center;\"><a href=\"https://www.linkedin.com/in/ktalexan/\" target=\"_blank\"><b>Dr. Kostas Alexandridis, GISP</b></a><br /></div><div style=\"text-align:center;\">GIS Analyst | Spatial Complex Systems Scientist</div><div style=\"text-align:center;\">OC Public Works/OC Survey Geospatial Applications</div><div style=\"text-align:center;\"><div>601 N. Ross Street, P.O. Box 4048, Santa Ana, CA 92701</div><div>Email: <a href=\"mailto:kostas.alexandridis@ocpw.ocgov.com\" target=\"_blank\">kostas.alexandridis@ocpw.ocgov.com</a> | Phone: (714) 967-0826</div><div><br /></div></div></div>\"\"\"\n",
    "mdoMapsLayout.thumbnailUri = \"https://ocpw.maps.arcgis.com/sharing/rest/content/items/6b96b7d6d5394cbb95aa2fae390503a9/data\"\n",
    "\n",
    "# Apply the metadata to the layout\n",
    "mapsLayout.metadata = mdoMapsLayout"
   ]
  },
  {
   "cell_type": "markdown",
   "metadata": {},
   "source": [
    "<h3 style=\"font-weight:bold; color:lime; padding-left: 50px\">Injuries Layout Metadata</h3>"
   ]
  },
  {
   "cell_type": "markdown",
   "metadata": {},
   "source": [
    "Create a new metadata object for the injuries layout and assign it to the layout"
   ]
  },
  {
   "cell_type": "code",
   "execution_count": null,
   "metadata": {},
   "outputs": [],
   "source": [
    "mdoInjuriesLayout = md.Metadata()\n",
    "mdoInjuriesLayout.title = \"OCSWITRS Injuries Layout\"\n",
    "mdoInjuriesLayout.tags = \"Orange County, California, Traffic, Traffic Conditions, Crashes, Collisions, Road Safety, Accidents, SWITRS, OCSWITRS, Transportation\"\n",
    "mdoInjuriesLayout.summary = \"Layout for the OCSWITRS Project Injuries\"\n",
    "mdoInjuriesLayout.description = \"\"\"<div style=\"text-align:Left;\"><div><div><p><span>Layout for the OCSWITRS Project Injuries</span></p></div></div></div>\"\"\"\n",
    "mdoInjuriesLayout.credits = \"Dr. Kostas Alexandridis, GISP, Data Scientist, OC Public Works, OC Survey Geospatial Services\"\n",
    "mdoInjuriesLayout.accessConstraints = \"\"\"<div style=\"text-align:Left;\"><p><span>The SWITRS data displayed are provided by the California Highway Patrol (CHP) reports through the Transportation Injury Mapping System (TIMS) of the University of California, Berkeley. Issues of report accuracy should be addressed to CHP.</span></p><p>The displayed mapped data can be used under a <a href=\"https://creativecommons.org/licenses/by-sa/3.0/\" target=\"_blank\">Creative Commons CC-SA-BY</a> License, providing attribution to TIMS, CHP, and OC Public Works, OC Survey Geospatial Services. </p><div>We make every effort to provide the most accurate and up-to-date data and information. Nevertheless, the data feed is provided, 'as is' and OC Public Work's standard <a href=\"https://www.ocgov.com/contact-county/disclaimer\" target=\"_blank\">Disclaimer</a> applies.<br /></div><div><br /></div><div>For any inquiries, suggestions or questions, please contact:</div><div><br /></div><div style=\"text-align:center;\"><a href=\"https://www.linkedin.com/in/ktalexan/\" target=\"_blank\"><b>Dr. Kostas Alexandridis, GISP</b></a><br /></div><div style=\"text-align:center;\">GIS Analyst | Spatial Complex Systems Scientist</div><div style=\"text-align:center;\">OC Public Works/OC Survey Geospatial Applications</div><div style=\"text-align:center;\"><div>601 N. Ross Street, P.O. Box 4048, Santa Ana, CA 92701</div><div>Email: <a href=\"mailto:kostas.alexandridis@ocpw.ocgov.com\" target=\"_blank\">kostas.alexandridis@ocpw.ocgov.com</a> | Phone: (714) 967-0826</div><div><br /></div></div></div>\"\"\"\n",
    "mdoInjuriesLayout.thumbnailUri = \"https://ocpw.maps.arcgis.com/sharing/rest/content/items/6b96b7d6d5394cbb95aa2fae390503a9/data\"\n",
    "\n",
    "# Apply the metadata to the layout\n",
    "injuriesLayout.metadata = mdoInjuriesLayout"
   ]
  },
  {
   "cell_type": "markdown",
   "metadata": {},
   "source": [
    "<h3 style=\"font-weight:bold; color:lime; padding-left: 50px\">Hotspots Layout Metadata</h3>"
   ]
  },
  {
   "cell_type": "markdown",
   "metadata": {},
   "source": [
    "Create a new metadata object for the hotspots layout and assign it to the layout"
   ]
  },
  {
   "cell_type": "code",
   "execution_count": null,
   "metadata": {},
   "outputs": [],
   "source": [
    "mdoHotspotsLayout = md.Metadata()\n",
    "mdoHotspotsLayout.title = \"OCSWITRS Hot Spots Layout\"\n",
    "mdoHotspotsLayout.tags = \"Orange County, California, Traffic, Traffic Conditions, Crashes, Collisions, Road Safety, Accidents, SWITRS, OCSWITRS, Transportation\"\n",
    "mdoHotspotsLayout.summary = \"Layout for the OCSWITRS Project Hot Spots\"\n",
    "mdoHotspotsLayout.description = \"\"\"<div style=\"text-align:Left;\"><div><div><p><span>Layout for the OCSWITRS Project Hot Spots</span></p></div></div></div>\"\"\"\n",
    "mdoHotspotsLayout.credits = \"Dr. Kostas Alexandridis, GISP, Data Scientist, OC Public Works, OC Survey Geospatial Services\"\n",
    "mdoHotspotsLayout.accessConstraints = \"\"\"<div style=\"text-align:Left;\"><p><span>The SWITRS data displayed are provided by the California Highway Patrol (CHP) reports through the Transportation Injury Mapping System (TIMS) of the University of California, Berkeley. Issues of report accuracy should be addressed to CHP.</span></p><p>The displayed mapped data can be used under a <a href=\"https://creativecommons.org/licenses/by-sa/3.0/\" target=\"_blank\">Creative Commons CC-SA-BY</a> License, providing attribution to TIMS, CHP, and OC Public Works, OC Survey Geospatial Services. </p><div>We make every effort to provide the most accurate and up-to-date data and information. Nevertheless, the data feed is provided, 'as is' and OC Public Work's standard <a href=\"https://www.ocgov.com/contact-county/disclaimer\" target=\"_blank\">Disclaimer</a> applies.<br /></div><div><br /></div><div>For any inquiries, suggestions or questions, please contact:</div><div><br /></div><div style=\"text-align:center;\"><a href=\"https://www.linkedin.com/in/ktalexan/\" target=\"_blank\"><b>Dr. Kostas Alexandridis, GISP</b></a><br /></div><div style=\"text-align:center;\">GIS Analyst | Spatial Complex Systems Scientist</div><div style=\"text-align:center;\">OC Public Works/OC Survey Geospatial Applications</div><div style=\"text-align:center;\"><div>601 N. Ross Street, P.O. Box 4048, Santa Ana, CA 92701</div><div>Email: <a href=\"mailto:kostas.alexandridis@ocpw.ocgov.com\" target=\"_blank\">kostas.alexandridis@ocpw.ocgov.com</a> | Phone: (714) 967-0826</div><div><br /></div></div></div>\"\"\"\n",
    "mdoHotspotsLayout.thumbnailUri = \"https://ocpw.maps.arcgis.com/sharing/rest/content/items/6b96b7d6d5394cbb95aa2fae390503a9/data\"\n",
    "\n",
    "# Apply the metadata to the layout\n",
    "hotspotsLayout.metadata = mdoHotspotsLayout"
   ]
  },
  {
   "cell_type": "markdown",
   "metadata": {},
   "source": [
    "<h3 style=\"font-weight:bold; color:lime; padding-left: 50px\">Roads Layout Metadata</h3>"
   ]
  },
  {
   "cell_type": "markdown",
   "metadata": {},
   "source": [
    "Create a new metadata object for the roads layout and assign it to the layout"
   ]
  },
  {
   "cell_type": "code",
   "execution_count": null,
   "metadata": {},
   "outputs": [],
   "source": [
    "mdoRoadsLayout = md.Metadata()\n",
    "mdoRoadsLayout.title = \"OCSWITRS Road Hot Spots Layout\"\n",
    "mdoRoadsLayout.tags = \"Orange County, California, Traffic, Traffic Conditions, Crashes, Collisions, Road Safety, Accidents, SWITRS, OCSWITRS, Transportation\"\n",
    "mdoRoadsLayout.summary = \"Layout for the OCSWITRS Project Roads Hot Spots\"\n",
    "mdoRoadsLayout.description = \"\"\"<div style=\"text-align:Left;\"><div><div><p><span>Layout for the OCSWITRS Project Hot Spots</span></p></div></div></div>\"\"\"\n",
    "mdoRoadsLayout.credits = \"Dr. Kostas Alexandridis, GISP, Data Scientist, OC Public Works, OC Survey Geospatial Services\"\n",
    "mdoRoadsLayout.accessConstraints = \"\"\"<div style=\"text-align:Left;\"><p><span>The SWITRS data displayed are provided by the California Highway Patrol (CHP) reports through the Transportation Injury Mapping System (TIMS) of the University of California, Berkeley. Issues of report accuracy should be addressed to CHP.</span></p><p>The displayed mapped data can be used under a <a href=\"https://creativecommons.org/licenses/by-sa/3.0/\" target=\"_blank\">Creative Commons CC-SA-BY</a> License, providing attribution to TIMS, CHP, and OC Public Works, OC Survey Geospatial Services. </p><div>We make every effort to provide the most accurate and up-to-date data and information. Nevertheless, the data feed is provided, 'as is' and OC Public Work's standard <a href=\"https://www.ocgov.com/contact-county/disclaimer\" target=\"_blank\">Disclaimer</a> applies.<br /></div><div><br /></div><div>For any inquiries, suggestions or questions, please contact:</div><div><br /></div><div style=\"text-align:center;\"><a href=\"https://www.linkedin.com/in/ktalexan/\" target=\"_blank\"><b>Dr. Kostas Alexandridis, GISP</b></a><br /></div><div style=\"text-align:center;\">GIS Analyst | Spatial Complex Systems Scientist</div><div style=\"text-align:center;\">OC Public Works/OC Survey Geospatial Applications</div><div style=\"text-align:center;\"><div>601 N. Ross Street, P.O. Box 4048, Santa Ana, CA 92701</div><div>Email: <a href=\"mailto:kostas.alexandridis@ocpw.ocgov.com\" target=\"_blank\">kostas.alexandridis@ocpw.ocgov.com</a> | Phone: (714) 967-0826</div><div><br /></div></div></div>\"\"\"\n",
    "mdoRoadsLayout.thumbnailUri = \"https://ocpw.maps.arcgis.com/sharing/rest/content/items/6b96b7d6d5394cbb95aa2fae390503a9/data\"\n",
    "\n",
    "# Apply the metadata to the layout\n",
    "roadsLayout.metadata = mdoRoadsLayout"
   ]
  },
  {
   "cell_type": "markdown",
   "metadata": {},
   "source": [
    "<h3 style=\"font-weight:bold; color:lime; padding-left: 50px\">Points Layout Metadata</h3>"
   ]
  },
  {
   "cell_type": "markdown",
   "metadata": {},
   "source": [
    "Create a new metadata object for the points hotspots layout and assign it to the layout"
   ]
  },
  {
   "cell_type": "code",
   "execution_count": null,
   "metadata": {},
   "outputs": [],
   "source": [
    "mdoPointsLayout = md.Metadata()\n",
    "mdoPointsLayout.title = \"OCSWITRS Optimized Hot Spots Layout\"\n",
    "mdoPointsLayout.tags = \"Orange County, California, Traffic, Traffic Conditions, Crashes, Collisions, Road Safety, Accidents, SWITRS, OCSWITRS, Transportation\"\n",
    "mdoPointsLayout.summary = \"Layout for the OCSWITRS Project Optimized Hot Spots\"\n",
    "mdoPointsLayout.description = \"\"\"<div style=\"text-align:Left;\"><div><div><p><span>Layout for the OCSWITRS Project Optimized Hot Spots</span></p></div></div></div>\"\"\"\n",
    "mdoPointsLayout.credits = \"Dr. Kostas Alexandridis, GISP, Data Scientist, OC Public Works, OC Survey Geospatial Services\"\n",
    "mdoPointsLayout.accessConstraints = \"\"\"<div style=\"text-align:Left;\"><p><span>The SWITRS data displayed are provided by the California Highway Patrol (CHP) reports through the Transportation Injury Mapping System (TIMS) of the University of California, Berkeley. Issues of report accuracy should be addressed to CHP.</span></p><p>The displayed mapped data can be used under a <a href=\"https://creativecommons.org/licenses/by-sa/3.0/\" target=\"_blank\">Creative Commons CC-SA-BY</a> License, providing attribution to TIMS, CHP, and OC Public Works, OC Survey Geospatial Services. </p><div>We make every effort to provide the most accurate and up-to-date data and information. Nevertheless, the data feed is provided, 'as is' and OC Public Work's standard <a href=\"https://www.ocgov.com/contact-county/disclaimer\" target=\"_blank\">Disclaimer</a> applies.<br /></div><div><br /></div><div>For any inquiries, suggestions or questions, please contact:</div><div><br /></div><div style=\"text-align:center;\"><a href=\"https://www.linkedin.com/in/ktalexan/\" target=\"_blank\"><b>Dr. Kostas Alexandridis, GISP</b></a><br /></div><div style=\"text-align:center;\">GIS Analyst | Spatial Complex Systems Scientist</div><div style=\"text-align:center;\">OC Public Works/OC Survey Geospatial Applications</div><div style=\"text-align:center;\"><div>601 N. Ross Street, P.O. Box 4048, Santa Ana, CA 92701</div><div>Email: <a href=\"mailto:kostas.alexandridis@ocpw.ocgov.com\" target=\"_blank\">kostas.alexandridis@ocpw.ocgov.com</a> | Phone: (714) 967-0826</div><div><br /></div></div></div>\"\"\"\n",
    "mdoPointsLayout.thumbnailUri = \"https://ocpw.maps.arcgis.com/sharing/rest/content/items/6b96b7d6d5394cbb95aa2fae390503a9/data\"\n",
    "\n",
    "# Apply the metadata to the layout\n",
    "pointsLayout.metadata = mdoPointsLayout"
   ]
  },
  {
   "cell_type": "markdown",
   "metadata": {},
   "source": [
    "<h3 style=\"font-weight:bold; color:lime; padding-left: 50px\">Density Layout Metadata</h3>"
   ]
  },
  {
   "cell_type": "markdown",
   "metadata": {},
   "source": [
    "Create a new metadata object for the densities layout and assign it to the layout"
   ]
  },
  {
   "cell_type": "code",
   "execution_count": null,
   "metadata": {},
   "outputs": [],
   "source": [
    "mdoDensityLayout = md.Metadata()\n",
    "mdoDensityLayout.title = \"OCSWITRS Densities Layout\"\n",
    "mdoDensityLayout.tags = \"Orange County, California, Traffic, Traffic Conditions, Crashes, Collisions, Road Safety, Accidents, SWITRS, OCSWITRS, Transportation\"\n",
    "mdoDensityLayout.summary = \"Layout for the OCSWITRS Project Densities\"\n",
    "mdoDensityLayout.description = \"\"\"<div style=\"text-align:Left;\"><div><div><p><span>Layout for the OCSWITRS Project Densities</span></p></div></div></div>\"\"\"\n",
    "mdoDensityLayout.credits = \"Dr. Kostas Alexandridis, GISP, Data Scientist, OC Public Works, OC Survey Geospatial Services\"\n",
    "mdoDensityLayout.accessConstraints = \"\"\"<div style=\"text-align:Left;\"><p><span>The SWITRS data displayed are provided by the California Highway Patrol (CHP) reports through the Transportation Injury Mapping System (TIMS) of the University of California, Berkeley. Issues of report accuracy should be addressed to CHP.</span></p><p>The displayed mapped data can be used under a <a href=\"https://creativecommons.org/licenses/by-sa/3.0/\" target=\"_blank\">Creative Commons CC-SA-BY</a> License, providing attribution to TIMS, CHP, and OC Public Works, OC Survey Geospatial Services. </p><div>We make every effort to provide the most accurate and up-to-date data and information. Nevertheless, the data feed is provided, 'as is' and OC Public Work's standard <a href=\"https://www.ocgov.com/contact-county/disclaimer\" target=\"_blank\">Disclaimer</a> applies.<br /></div><div><br /></div><div>For any inquiries, suggestions or questions, please contact:</div><div><br /></div><div style=\"text-align:center;\"><a href=\"https://www.linkedin.com/in/ktalexan/\" target=\"_blank\"><b>Dr. Kostas Alexandridis, GISP</b></a><br /></div><div style=\"text-align:center;\">GIS Analyst | Spatial Complex Systems Scientist</div><div style=\"text-align:center;\">OC Public Works/OC Survey Geospatial Applications</div><div style=\"text-align:center;\"><div>601 N. Ross Street, P.O. Box 4048, Santa Ana, CA 92701</div><div>Email: <a href=\"mailto:kostas.alexandridis@ocpw.ocgov.com\" target=\"_blank\">kostas.alexandridis@ocpw.ocgov.com</a> | Phone: (714) 967-0826</div><div><br /></div></div></div>\"\"\"\n",
    "mdoDensityLayout.thumbnailUri = \"https://ocpw.maps.arcgis.com/sharing/rest/content/items/6b96b7d6d5394cbb95aa2fae390503a9/data\"\n",
    "\n",
    "# Apply the metadata to the layout\n",
    "densityLayout.metadata = mdoDensityLayout"
   ]
  },
  {
   "cell_type": "markdown",
   "metadata": {},
   "source": [
    "<h3 style=\"font-weight:bold; color:lime; padding-left: 50px\">Areas Layout Metadata</h3>"
   ]
  },
  {
   "cell_type": "markdown",
   "metadata": {},
   "source": [
    "Create a new metadata object for the areas layout and assign it to the layout"
   ]
  },
  {
   "cell_type": "code",
   "execution_count": null,
   "metadata": {},
   "outputs": [],
   "source": [
    "mdoAreasLayout = md.Metadata()\n",
    "mdoAreasLayout.title = \"OCSWITRS Areas Layout\"\n",
    "mdoAreasLayout.tags = \"Orange County, California, Traffic, Traffic Conditions, Crashes, Collisions, Road Safety, Accidents, SWITRS, OCSWITRS, Transportation\"\n",
    "mdoAreasLayout.summary = \"Layout for the OCSWITRS Project Areas\"\n",
    "mdoAreasLayout.description = \"\"\"<div style=\"text-align:Left;\"><div><div><p><span>Layout for the OCSWITRS Project Areas</span></p></div></div></div>\"\"\"\n",
    "mdoAreasLayout.credits = \"Dr. Kostas Alexandridis, GISP, Data Scientist, OC Public Works, OC Survey Geospatial Services\"\n",
    "mdoAreasLayout.accessConstraints = \"\"\"<div style=\"text-align:Left;\"><p><span>The SWITRS data displayed are provided by the California Highway Patrol (CHP) reports through the Transportation Injury Mapping System (TIMS) of the University of California, Berkeley. Issues of report accuracy should be addressed to CHP.</span></p><p>The displayed mapped data can be used under a <a href=\"https://creativecommons.org/licenses/by-sa/3.0/\" target=\"_blank\">Creative Commons CC-SA-BY</a> License, providing attribution to TIMS, CHP, and OC Public Works, OC Survey Geospatial Services. </p><div>We make every effort to provide the most accurate and up-to-date data and information. Nevertheless, the data feed is provided, 'as is' and OC Public Work's standard <a href=\"https://www.ocgov.com/contact-county/disclaimer\" target=\"_blank\">Disclaimer</a> applies.<br /></div><div><br /></div><div>For any inquiries, suggestions or questions, please contact:</div><div><br /></div><div style=\"text-align:center;\"><a href=\"https://www.linkedin.com/in/ktalexan/\" target=\"_blank\"><b>Dr. Kostas Alexandridis, GISP</b></a><br /></div><div style=\"text-align:center;\">GIS Analyst | Spatial Complex Systems Scientist</div><div style=\"text-align:center;\">OC Public Works/OC Survey Geospatial Applications</div><div style=\"text-align:center;\"><div>601 N. Ross Street, P.O. Box 4048, Santa Ana, CA 92701</div><div>Email: <a href=\"mailto:kostas.alexandridis@ocpw.ocgov.com\" target=\"_blank\">kostas.alexandridis@ocpw.ocgov.com</a> | Phone: (714) 967-0826</div><div><br /></div></div></div>\"\"\"\n",
    "mdoAreasLayout.thumbnailUri = \"https://ocpw.maps.arcgis.com/sharing/rest/content/items/6b96b7d6d5394cbb95aa2fae390503a9/data\"\n",
    "\n",
    "# Apply the metadata to the layout\n",
    "areasLayout.metadata = mdoAreasLayout"
   ]
  },
  {
   "cell_type": "markdown",
   "metadata": {},
   "source": [
    "<h3 style=\"font-weight:bold; color:lime; padding-left: 50px\">Save Project</h3>"
   ]
  },
  {
   "cell_type": "code",
   "execution_count": null,
   "metadata": {},
   "outputs": [],
   "source": [
    "# Save the project\n",
    "aprx.save()"
   ]
  },
  {
   "cell_type": "markdown",
   "metadata": {},
   "source": [
    "<h1 style=\"font-weight:bold; color:orangered; border-bottom: 2px solid orangered\">3. Maps Layout Processing</h1>"
   ]
  },
  {
   "cell_type": "markdown",
   "metadata": {},
   "source": [
    "<h2 style=\"font-weight:bold; color:dodgerblue; border-bottom: 1px solid dodgerblue; padding-left: 25px\">3.1. Layout View</h2>"
   ]
  },
  {
   "cell_type": "markdown",
   "metadata": {},
   "source": [
    "<h3 style=\"font-weight:bold; color:lime; padding-left: 50px\">Set Maps Layout View</h3>"
   ]
  },
  {
   "cell_type": "markdown",
   "metadata": {},
   "source": [
    "Close all views and open the map layout"
   ]
  },
  {
   "cell_type": "code",
   "execution_count": null,
   "metadata": {},
   "outputs": [],
   "source": [
    "# Close all previous views\n",
    "aprx.closeViews()\n",
    "\n",
    "# Open the maps layout view\n",
    "mapsLayout.openView()\n",
    "\n",
    "# set the main layout as active view\n",
    "layout = aprx.activeView"
   ]
  },
  {
   "cell_type": "markdown",
   "metadata": {},
   "source": [
    "<h2 style=\"font-weight:bold; color:dodgerblue; border-bottom: 1px solid dodgerblue; padding-left: 25px\">3.2. Add Map Frames</h2>"
   ]
  },
  {
   "cell_type": "markdown",
   "metadata": {},
   "source": [
    "<h3 style=\"font-weight:bold; color:lime; padding-left: 50px\">Remove Old Map Frames</h3>"
   ]
  },
  {
   "cell_type": "markdown",
   "metadata": {},
   "source": [
    "Delete all layout data frames and elements"
   ]
  },
  {
   "cell_type": "code",
   "execution_count": null,
   "metadata": {},
   "outputs": [],
   "source": [
    "# Delete all map frames from the layout\n",
    "for el in mapsLayout.listElements():\n",
    "    if el.type == \"MAPFRAME_ELEMENT\":\n",
    "        print(f\"Deleting map frame: {el.name}\")\n",
    "        mapsLayout.deleteElement(el)"
   ]
  },
  {
   "cell_type": "markdown",
   "metadata": {},
   "source": [
    "<h3 style=\"font-weight:bold; color:lime; padding-left: 50px\">Map Frame Definitions</h3>"
   ]
  },
  {
   "cell_type": "code",
   "execution_count": null,
   "metadata": {},
   "outputs": [],
   "source": [
    "# List of maps to be added as map frames to the layout\n",
    "mapsMfList = [mapCollisions, mapCrashes, mapParties, mapVictims]\n",
    "\n",
    "# Number of map frames\n",
    "mapsMfCount = len(mapsMfList)\n",
    "\n",
    "# Number of rows and columns for the map frames\n",
    "mapsMfCols = 2\n",
    "mapsMfRows = math.ceil(mapsMfCount / mapsMfCols)\n",
    "\n",
    "# Map frame page dimensions\n",
    "mapsMfPageWidth = lytDict[\"maps\"][\"pageWidth\"]\n",
    "mapsMfPageHeight = lytDict[\"maps\"][\"pageHeight\"]\n",
    "\n",
    "# Map frame names\n",
    "mapsMfNames = [f\"mf{i}\" for i in range(1, mapsMfCount + 1)]"
   ]
  },
  {
   "cell_type": "markdown",
   "metadata": {},
   "source": [
    "<h3 style=\"font-weight:bold; color:lime; padding-left: 50px\">Map Frame 1</h3>"
   ]
  },
  {
   "cell_type": "markdown",
   "metadata": {},
   "source": [
    "Add collisions map frame (map frame 1)"
   ]
  },
  {
   "cell_type": "code",
   "execution_count": null,
   "metadata": {},
   "outputs": [],
   "source": [
    "# Add the mapframe to the layout\n",
    "mapsMf1 = mapsLayout.createMapFrame(\n",
    "    geometry = lytDict[\"maps\"][\"mf1\"][\"geometry\"],\n",
    "    map = mapsMfList[0],\n",
    "    name = f\"{mapsLayout.name}{mapsMfNames[0].title()}\"\n",
    ")\n",
    "\n",
    "# Set up map frame properties\n",
    "mapsMf1.name = f\"{mapsLayout.name}{mapsMfNames[0].title()}\"\n",
    "mapsMf1.setAnchor(lytDict[\"maps\"][\"mf1\"][\"anchor\"])\n",
    "mapsMf1.elementWidth = lytDict[\"maps\"][\"mf1\"][\"width\"]\n",
    "mapsMf1.elementHeight = lytDict[\"maps\"][\"mf1\"][\"height\"]\n",
    "mapsMf1.elementPositionX = lytDict[\"maps\"][\"mf1\"][\"coordX\"]\n",
    "mapsMf1.elementPositionY = lytDict[\"maps\"][\"mf1\"][\"coordY\"]\n",
    "mapsMf1.elementRotation = 0\n",
    "mapsMf1.visible = True\n",
    "mapsMf1.map = mapsMfList[0]\n",
    "mapsMf1Cim = mapsMf1.getDefinition('V3')\n",
    "mapsMf1Cim.graphicFrame.borderSymbol.symbol.symbolLayers[0].enable = False\n",
    "mapsMf1.setDefinition(mapsMf1Cim)"
   ]
  },
  {
   "cell_type": "markdown",
   "metadata": {},
   "source": [
    "<h3 style=\"font-weight:bold; color:lime; padding-left: 50px\">Map Frame 2</h3>"
   ]
  },
  {
   "cell_type": "markdown",
   "metadata": {},
   "source": [
    "Add crashes map frame (map frame 2)"
   ]
  },
  {
   "cell_type": "code",
   "execution_count": null,
   "metadata": {},
   "outputs": [],
   "source": [
    "# Add the mapframe to the layout\n",
    "mapsMf2 = mapsLayout.createMapFrame(\n",
    "    geometry = lytDict[\"maps\"][\"mf2\"][\"geometry\"],\n",
    "    map = mapsMfList[1],\n",
    "    name = f\"{mapsLayout.name}{mapsMfNames[1].title()}\"\n",
    ")\n",
    "\n",
    "# Set up map frame properties\n",
    "mapsMf2.name = f\"{mapsLayout.name}{mapsMfNames[1].title()}\"\n",
    "mapsMf2.setAnchor(lytDict[\"maps\"][\"mf2\"][\"anchor\"])\n",
    "mapsMf2.elementWidth = lytDict[\"maps\"][\"mf2\"][\"width\"]\n",
    "mapsMf2.elementHeight = lytDict[\"maps\"][\"mf2\"][\"height\"]\n",
    "mapsMf2.elementPositionX = lytDict[\"maps\"][\"mf2\"][\"coordX\"]\n",
    "mapsMf2.elementPositionY = lytDict[\"maps\"][\"mf2\"][\"coordY\"]\n",
    "mapsMf2.elementRotation = 0\n",
    "mapsMf2.visible = True\n",
    "mapsMf2.map = mapsMfList[1]\n",
    "mapsMf2Cim = mapsMf2.getDefinition('V3')\n",
    "mapsMf2Cim.graphicFrame.borderSymbol.symbol.symbolLayers[0].enable = False\n",
    "mapsMf2.setDefinition(mapsMf2Cim)"
   ]
  },
  {
   "cell_type": "markdown",
   "metadata": {},
   "source": [
    "<h3 style=\"font-weight:bold; color:lime; padding-left: 50px\">Map Frame 3</h3>"
   ]
  },
  {
   "cell_type": "markdown",
   "metadata": {},
   "source": [
    "Add parties map frame (map frame 3)"
   ]
  },
  {
   "cell_type": "code",
   "execution_count": null,
   "metadata": {},
   "outputs": [],
   "source": [
    "# Add the mapframe to the layout\n",
    "mapsMf3 = mapsLayout.createMapFrame(\n",
    "    geometry = lytDict[\"maps\"][\"mf3\"][\"geometry\"],\n",
    "    map = mapsMfList[2],\n",
    "    name = f\"{mapsLayout.name}{mapsMfNames[2].title()}\"\n",
    ")\n",
    "\n",
    "# Set up map frame properties\n",
    "mapsMf3.name = f\"{mapsLayout.name}{mapsMfNames[2].title()}\"\n",
    "mapsMf3.setAnchor(lytDict[\"maps\"][\"mf3\"][\"anchor\"])\n",
    "mapsMf3.elementWidth = lytDict[\"maps\"][\"mf3\"][\"width\"]\n",
    "mapsMf3.elementHeight = lytDict[\"maps\"][\"mf3\"][\"height\"]\n",
    "mapsMf3.elementPositionX = lytDict[\"maps\"][\"mf3\"][\"coordX\"]\n",
    "mapsMf3.elementPositionY = lytDict[\"maps\"][\"mf3\"][\"coordY\"]\n",
    "mapsMf3.elementRotation = 0\n",
    "mapsMf3.visible = True\n",
    "mapsMf3.map = mapsMfList[2]\n",
    "mapsMf3Cim = mapsMf3.getDefinition('V3')\n",
    "mapsMf3Cim.graphicFrame.borderSymbol.symbol.symbolLayers[0].enable = False\n",
    "mapsMf3.setDefinition(mapsMf3Cim)"
   ]
  },
  {
   "cell_type": "markdown",
   "metadata": {},
   "source": [
    "<h3 style=\"font-weight:bold; color:lime; padding-left: 50px\">Map Frame 4</h3>"
   ]
  },
  {
   "cell_type": "markdown",
   "metadata": {},
   "source": [
    "Add victims map frame (map frame 4)"
   ]
  },
  {
   "cell_type": "code",
   "execution_count": null,
   "metadata": {},
   "outputs": [],
   "source": [
    "# Add the mapframe to the layout\n",
    "mapsMf4 = mapsLayout.createMapFrame(\n",
    "    geometry = lytDict[\"maps\"][\"mf4\"][\"geometry\"],\n",
    "    map = mapsMfList[3],\n",
    "    name = f\"{mapsLayout.name}{mapsMfNames[3].title()}\"\n",
    ")\n",
    "\n",
    "# Set up map frame properties\n",
    "mapsMf4.name = f\"{mapsLayout.name}{mapsMfNames[3].title()}\"\n",
    "mapsMf4.setAnchor(lytDict[\"maps\"][\"mf4\"][\"anchor\"])\n",
    "mapsMf4.elementWidth = lytDict[\"maps\"][\"mf4\"][\"width\"]\n",
    "mapsMf4.elementHeight = lytDict[\"maps\"][\"mf4\"][\"height\"]\n",
    "mapsMf4.elementPositionX = lytDict[\"maps\"][\"mf4\"][\"coordX\"]\n",
    "mapsMf4.elementPositionY = lytDict[\"maps\"][\"mf4\"][\"coordY\"]\n",
    "mapsMf4.elementRotation = 0\n",
    "mapsMf4.visible = True\n",
    "mapsMf4.map = mapsMfList[3]\n",
    "mapsMf4Cim = mapsMf4.getDefinition('V3')\n",
    "mapsMf4Cim.graphicFrame.borderSymbol.symbol.symbolLayers[0].enable = False\n",
    "mapsMf4.setDefinition(mapsMf4Cim)"
   ]
  },
  {
   "cell_type": "markdown",
   "metadata": {},
   "source": [
    "<h3 style=\"font-weight:bold; color:lime; padding-left: 50px\">Adjust Map Frame Layer Visibility</h3>"
   ]
  },
  {
   "cell_type": "markdown",
   "metadata": {},
   "source": [
    "Set extent for the map views (zoom to layers)"
   ]
  },
  {
   "cell_type": "code",
   "execution_count": null,
   "metadata": {},
   "outputs": [],
   "source": [
    "mapsMf1.camera.setExtent(prjExtent)\n",
    "mapsMf2.camera.setExtent(prjExtent)\n",
    "mapsMf3.camera.setExtent(prjExtent)\n",
    "mapsMf4.camera.setExtent(prjExtent)"
   ]
  },
  {
   "cell_type": "markdown",
   "metadata": {},
   "source": [
    "Turn on the visibility of the appropriate layers for each map frame"
   ]
  },
  {
   "cell_type": "code",
   "execution_count": null,
   "metadata": {},
   "outputs": [],
   "source": [
    "# Loop through map frames and turn on appropriate layers\n",
    "for mf in mapsLayout.listElements(\"MAPFRAME_ELEMENT\"):\n",
    "    for l in mf.map.listLayers():\n",
    "        if l.name in [\"OCSWITRS Collisions\", \"OCSWITRS Crashes\", \"OCSWITRS Parties\", \"OCSWITRS Victims\", \"OCSWITRS Roads\", \"OCSWITRS Cities\", \"OCSWITRS Boundaries\", \"Light Gray Base\"]:\n",
    "            l.visible = True\n",
    "        else:\n",
    "            l.visible = False"
   ]
  },
  {
   "cell_type": "markdown",
   "metadata": {},
   "source": [
    "<h2 style=\"font-weight:bold; color:dodgerblue; border-bottom: 1px solid dodgerblue; padding-left: 25px\">3.3. Add North Arrow</h2>"
   ]
  },
  {
   "cell_type": "markdown",
   "metadata": {},
   "source": [
    "Adding north arrow"
   ]
  },
  {
   "cell_type": "code",
   "execution_count": null,
   "metadata": {},
   "outputs": [],
   "source": [
    "# Add the North Arrow to the layout\n",
    "mapsNa = mapsLayout.createMapSurroundElement(\n",
    "    geometry = lytDict[\"maps\"][\"na\"][\"geometry\"],\n",
    "    mapsurround_type = \"NORTH_ARROW\",\n",
    "    mapframe = mapsMf1,\n",
    "    style_item = aprx.listStyleItems(\"ArcGIS 2D\", \"North_Arrow\", \"ArcGIS North 1\")[0],\n",
    "    name = \"na\"\n",
    ")"
   ]
  },
  {
   "cell_type": "markdown",
   "metadata": {},
   "source": [
    "Set north arrow properties"
   ]
  },
  {
   "cell_type": "code",
   "execution_count": null,
   "metadata": {},
   "outputs": [],
   "source": [
    "# Set up north arrow properties\n",
    "mapsNa.name = \"na\"\n",
    "mapsNa.setAnchor(lytDict[\"maps\"][\"na\"][\"anchor\"])\n",
    "mapsNa.elementWidth = lytDict[\"maps\"][\"na\"][\"width\"]\n",
    "mapsNa.elementHeight = lytDict[\"maps\"][\"na\"][\"height\"]\n",
    "mapsNa.elementPositionX = lytDict[\"maps\"][\"na\"][\"coordX\"]\n",
    "mapsNa.elementPositionY = lytDict[\"maps\"][\"na\"][\"coordY\"]\n",
    "mapsNa.elementRotation = 0\n",
    "mapsNa.visible = True\n",
    "mapsNaCim = mapsNa.getDefinition(\"V3\")"
   ]
  },
  {
   "cell_type": "markdown",
   "metadata": {},
   "source": [
    "<h2 style=\"font-weight:bold; color:dodgerblue; border-bottom: 1px solid dodgerblue; padding-left: 25px\">3.4. Add Scale Bar</h2>"
   ]
  },
  {
   "cell_type": "markdown",
   "metadata": {},
   "source": [
    "Adding scale bar"
   ]
  },
  {
   "cell_type": "code",
   "execution_count": null,
   "metadata": {},
   "outputs": [],
   "source": [
    "# Add the Scale Bar to the layout\n",
    "mapsSb = mapsLayout.createMapSurroundElement(\n",
    "    geometry = lytDict[\"maps\"][\"sb\"][\"geometry\"],\n",
    "    mapsurround_type = \"SCALE_BAR\",\n",
    "    mapframe = mapsMf1,\n",
    "    style_item = aprx.listStyleItems(\"ArcGIS 2D\", \"SCALE_BAR\", \"Scale Line 1\")[0],\n",
    "    name = \"sb\"\n",
    ")"
   ]
  },
  {
   "cell_type": "markdown",
   "metadata": {},
   "source": [
    "Set scale bar properties"
   ]
  },
  {
   "cell_type": "code",
   "execution_count": null,
   "metadata": {},
   "outputs": [],
   "source": [
    "# Set up scale bar properties\n",
    "mapsSb.name = \"sb\"\n",
    "mapsSb.setAnchor(lytDict[\"maps\"][\"sb\"][\"anchor\"])\n",
    "mapsSb.elementWidth = lytDict[\"maps\"][\"sb\"][\"width\"]\n",
    "mapsSb.elementHeight = lytDict[\"maps\"][\"sb\"][\"height\"]\n",
    "mapsSb.elementPositionX = lytDict[\"maps\"][\"sb\"][\"coordX\"]\n",
    "mapsSb.elementPositionY = lytDict[\"maps\"][\"sb\"][\"coordY\"]\n",
    "mapsSb.elementRotation = 0\n",
    "mapsSb.visible = True\n",
    "mapsSbCim = mapsSb.getDefinition(\"V3\")\n",
    "mapsSbCim.labelSymbol.symbol.height = 14\n",
    "mapsSb.setDefinition(mapsSbCim)"
   ]
  },
  {
   "cell_type": "markdown",
   "metadata": {},
   "source": [
    "<h2 style=\"font-weight:bold; color:dodgerblue; border-bottom: 1px solid dodgerblue; padding-left: 25px\">3.5. Add Dynamic Text (Service Layer Credits)</h2>"
   ]
  },
  {
   "cell_type": "markdown",
   "metadata": {},
   "source": [
    "Add dynamic text element for the service layer credits"
   ]
  },
  {
   "cell_type": "code",
   "execution_count": null,
   "metadata": {},
   "outputs": [],
   "source": [
    "if mapsLayout.listElements(\"TEXT_ELEMENT\", \"cr\"):\n",
    "    mapsLayout.deleteElement(\"cr\")\n",
    "\n",
    "# Add the credits text to the layout\n",
    "mapsCr = aprx.createTextElement(\n",
    "    container = mapsLayout,\n",
    "    geometry = lytDict[\"maps\"][\"cr\"][\"geometry\"],\n",
    "    text_size = 6,\n",
    "    font_family_name = \"Inter 9pt Regular\",\n",
    "    style_item = None,\n",
    "    name = \"cr\",\n",
    "    text_type = \"POINT\",\n",
    "    text = \"<dyn type='layout' name='maps' property='serviceLayerCredits'/>\"\n",
    ")"
   ]
  },
  {
   "cell_type": "markdown",
   "metadata": {},
   "source": [
    "Set dynamic text properties"
   ]
  },
  {
   "cell_type": "code",
   "execution_count": null,
   "metadata": {},
   "outputs": [],
   "source": [
    "# Set up credits text properties\n",
    "mapsCr.name = \"cr\"\n",
    "mapsCr.setAnchor(lytDict[\"maps\"][\"cr\"][\"anchor\"])\n",
    "mapsCr.elementPositionX = 0\n",
    "mapsCr.elementPositionY = 0\n",
    "mapsCr.elementRotation = 0\n",
    "mapsCr.visible = False\n",
    "mapsCrCim = mapsCr.getDefinition(\"V3\")"
   ]
  },
  {
   "cell_type": "markdown",
   "metadata": {},
   "source": [
    "<h2 style=\"font-weight:bold; color:dodgerblue; border-bottom: 1px solid dodgerblue; padding-left: 25px\">3.6. Add New Legends</h2>"
   ]
  },
  {
   "cell_type": "markdown",
   "metadata": {},
   "source": [
    "<h3 style=\"font-weight:bold; color:lime; padding-left: 50px\">Remove Old Legends</h3>"
   ]
  },
  {
   "cell_type": "code",
   "execution_count": null,
   "metadata": {},
   "outputs": [],
   "source": [
    "# Remove all old legends from the layout\n",
    "for el in mapsLayout.listElements():\n",
    "    if el.type == \"LEGEND_ELEMENT\":\n",
    "        print(f\"Deleting legend: {el.name}\")\n",
    "        mapsLayout.deleteElement(el)"
   ]
  },
  {
   "cell_type": "markdown",
   "metadata": {},
   "source": [
    "<h3 style=\"font-weight:bold; color:lime; padding-left: 50px\">Legend 1: Severity Legend (Collisions Severity)</h3>"
   ]
  },
  {
   "cell_type": "markdown",
   "metadata": {},
   "source": [
    "Adding severity Legend (legend 1) to the layout"
   ]
  },
  {
   "cell_type": "code",
   "execution_count": null,
   "metadata": {},
   "outputs": [],
   "source": [
    "# Add the legend to the layout\n",
    "mapsLg1 = mapsLayout.createMapSurroundElement(\n",
    "    geometry = lytDict[\"maps\"][\"lg1\"][\"geometry\"],\n",
    "    mapsurround_type = \"LEGEND\",\n",
    "    mapframe = mapsMf1,\n",
    "    name = \"lg1\"\n",
    ")"
   ]
  },
  {
   "cell_type": "markdown",
   "metadata": {},
   "source": [
    "Set density legend properties"
   ]
  },
  {
   "cell_type": "code",
   "execution_count": null,
   "metadata": {},
   "outputs": [],
   "source": [
    "# Obtain the CIM object of the legend\n",
    "mapsLg1Cim = mapsLg1.getDefinition(\"V3\")\n",
    "\n",
    "# Disable the legend title\n",
    "mapsLg1Cim.showTitle = False\n",
    "\n",
    "# Adjust fitting of the legend frame\n",
    "mapsLg1Cim.fittingStrategy = \"AdjustFrame\"\n",
    "\n",
    "# Turn on the collisions layer, and turn off the rest of the layers\n",
    "for i in mapsLg1Cim.items:\n",
    "    if i.name == \"OCSWITRS Collisions\":\n",
    "        i.isVisible = True\n",
    "        i.showLayerName = False\n",
    "        i.autoVisibility = True\n",
    "        i.keepTogetherOption = \"Items\"\n",
    "        i.scaleToPatch = False\n",
    "        i.headingSymbol.symbol.height = 16\n",
    "        i.labelSymbol.symbol.height = 14\n",
    "        i.showFeatureCount = True\n",
    "    else:\n",
    "        i.isVisible = False\n",
    "\n",
    "# Update the legend CIM definitions\n",
    "mapsLg1.setDefinition(mapsLg1Cim)"
   ]
  },
  {
   "cell_type": "markdown",
   "metadata": {},
   "source": [
    "Adjust overall legend properties"
   ]
  },
  {
   "cell_type": "code",
   "execution_count": null,
   "metadata": {},
   "outputs": [],
   "source": [
    "# Set up legend properties\n",
    "mapsLg1.name = \"lg1\"\n",
    "mapsLg1.setAnchor(lytDict[\"maps\"][\"lg1\"][\"anchor\"])\n",
    "mapsLg1.elementPositionX = lytDict[\"maps\"][\"lg1\"][\"coordX\"]\n",
    "mapsLg1.elementPositionY = lytDict[\"maps\"][\"lg1\"][\"coordY\"]\n",
    "mapsLg1.elementRotation = 0\n",
    "mapsLg1.visible = True\n",
    "mapsLg1.mapFrame = mapsMf1\n",
    "mapsLg1Cim = mapsLg1.getDefinition(\"V3\")"
   ]
  },
  {
   "cell_type": "markdown",
   "metadata": {},
   "source": [
    "<h3 style=\"font-weight:bold; color:lime; padding-left: 50px\">Legend 2: Roads Legend</h3>"
   ]
  },
  {
   "cell_type": "markdown",
   "metadata": {},
   "source": [
    "Adding Roads Legend (legend 2) to the layout"
   ]
  },
  {
   "cell_type": "code",
   "execution_count": null,
   "metadata": {},
   "outputs": [],
   "source": [
    "# Add the legend to the layout\n",
    "mapsLg2 = mapsLayout.createMapSurroundElement(\n",
    "    geometry = lytDict[\"maps\"][\"lg2\"][\"geometry\"],\n",
    "    mapsurround_type = \"LEGEND\",\n",
    "    mapframe = mapsMf1,\n",
    "    name=\"lg2\"\n",
    ")"
   ]
  },
  {
   "cell_type": "markdown",
   "metadata": {},
   "source": [
    "Set roads legend properties"
   ]
  },
  {
   "cell_type": "code",
   "execution_count": null,
   "metadata": {},
   "outputs": [],
   "source": [
    "# Obtain the CIM object of the legend\n",
    "mapsLg2Cim = mapsLg2.getDefinition(\"V3\")\n",
    "\n",
    "# Disable the legend title\n",
    "mapsLg2Cim.showTitle = False\n",
    "\n",
    "# Adjust fitting of the legend frame\n",
    "mapsLg2Cim.fittingStrategy = \"AdjustFrame\"\n",
    "\n",
    "# Turn on the roads layer, and turn off the rest of the layers\n",
    "for i in mapsLg2Cim.items:\n",
    "    if i.name == \"OCSWITRS Roads\":\n",
    "        i.isVisible = True\n",
    "        i.showLayerName = False\n",
    "        i.autoVisibility = True\n",
    "        i.keepTogetherOption = \"Items\"\n",
    "        i.scaleToPatch = False\n",
    "        i.headingSymbol.symbol.height = 16\n",
    "        i.labelSymbol.symbol.height = 14\n",
    "        i.showFeatureCount = True\n",
    "    else:\n",
    "        i.isVisible = False\n",
    "\n",
    "# Update the legend CIM definitions\n",
    "mapsLg2.setDefinition(mapsLg2Cim)"
   ]
  },
  {
   "cell_type": "markdown",
   "metadata": {},
   "source": [
    "Adjust overall legend properties"
   ]
  },
  {
   "cell_type": "code",
   "execution_count": null,
   "metadata": {},
   "outputs": [],
   "source": [
    "# Set up legend properties\n",
    "mapsLg2.name = \"lg2\"\n",
    "mapsLg2.setAnchor(lytDict[\"maps\"][\"lg2\"][\"anchor\"])\n",
    "mapsLg2.elementPositionX = lytDict[\"maps\"][\"lg2\"][\"coordX\"]\n",
    "mapsLg2.elementPositionY = lytDict[\"maps\"][\"lg2\"][\"coordY\"]\n",
    "mapsLg2.elementRotation = 0\n",
    "mapsLg2.visible = True\n",
    "mapsLg2.mapFrame = mapsMf1\n",
    "mapsLg2_cim = mapsLg2.getDefinition(\"V3\")"
   ]
  },
  {
   "cell_type": "markdown",
   "metadata": {},
   "source": [
    "<h3 style=\"font-weight:bold; color:lime; padding-left: 50px\">Legend 3: Density Legend (Cities)</h3>"
   ]
  },
  {
   "cell_type": "markdown",
   "metadata": {},
   "source": [
    "Adding Severity Legend (legend 3) to the layout"
   ]
  },
  {
   "cell_type": "code",
   "execution_count": null,
   "metadata": {},
   "outputs": [],
   "source": [
    "# Add the legend to the layout\n",
    "mapsLg3 = mapsLayout.createMapSurroundElement(\n",
    "    geometry = lytDict[\"maps\"][\"lg3\"][\"geometry\"],\n",
    "    mapsurround_type = \"LEGEND\",\n",
    "    mapframe = mapsMf1,\n",
    "    name=\"lg3\"\n",
    ")"
   ]
  },
  {
   "cell_type": "markdown",
   "metadata": {},
   "source": [
    "Set severity legend properties"
   ]
  },
  {
   "cell_type": "code",
   "execution_count": null,
   "metadata": {},
   "outputs": [],
   "source": [
    "# Obtain the CIM object of the legend\n",
    "mapsLg3Cim = mapsLg3.getDefinition(\"V3\")\n",
    "\n",
    "# Disable the legend title\n",
    "mapsLg3Cim.showTitle = False\n",
    "\n",
    "# Adjust fitting of the legend frame\n",
    "mapsLg3Cim.fittingStrategy = \"AdjustFrame\"\n",
    "\n",
    "# Turn on the cities and boundaries layers, and turn off the rest of the layers\n",
    "for i in mapsLg3Cim.items:\n",
    "    if i.name == \"OCSWITRS Cities\":\n",
    "        i.isVisible = True\n",
    "        i.showLayerName = False\n",
    "        i.autoVisibility = True\n",
    "        i.keepTogetherOption = \"Items\"\n",
    "        i.scaleToPatch = False\n",
    "        i.headingSymbol.symbol.height = 16\n",
    "        i.labelSymbol.symbol.height = 14\n",
    "    elif i.name == \"OCSWITRS Boundaries\":\n",
    "        i.isVisible = True\n",
    "        i.showLayerName = False\n",
    "        i.autoVisibility = True\n",
    "        i.keepTogetherOption = \"Items\"\n",
    "        i.scaleToPatch = False\n",
    "        i.headingSymbol.symbol.height = 16\n",
    "        i.labelSymbol.symbol.height = 14\n",
    "    else:\n",
    "        i.isVisible = False\n",
    "\n",
    "# Update the legend CIM definitions\n",
    "mapsLg3.setDefinition(mapsLg3Cim)"
   ]
  },
  {
   "cell_type": "markdown",
   "metadata": {},
   "source": [
    "Adjust overall legend properties"
   ]
  },
  {
   "cell_type": "code",
   "execution_count": null,
   "metadata": {},
   "outputs": [],
   "source": [
    "# Set up legend properties\n",
    "mapsLg3.name = \"lg3\"\n",
    "mapsLg3.setAnchor(lytDict[\"maps\"][\"lg3\"][\"anchor\"])\n",
    "mapsLg3.elementPositionX = lytDict[\"maps\"][\"lg3\"][\"coordX\"]\n",
    "mapsLg3.elementPositionY = lytDict[\"maps\"][\"lg3\"][\"coordY\"]\n",
    "mapsLg3.elementRotation = 0\n",
    "mapsLg3.visible = True\n",
    "mapsLg3.mapFrame = mapsMf1\n",
    "mapsLg3Cim = mapsLg3.getDefinition(\"V3\")"
   ]
  },
  {
   "cell_type": "markdown",
   "metadata": {},
   "source": [
    "<h2 style=\"font-weight:bold; color:dodgerblue; border-bottom: 1px solid dodgerblue; padding-left: 25px\">3.7. Add Titles for Map Frames</h2>"
   ]
  },
  {
   "cell_type": "markdown",
   "metadata": {},
   "source": [
    "<h3 style=\"font-weight:bold; color:lime; padding-left: 50px\">Title 1</h3>"
   ]
  },
  {
   "cell_type": "markdown",
   "metadata": {},
   "source": [
    "Add title for for the collisions map frame (title 1)"
   ]
  },
  {
   "cell_type": "code",
   "execution_count": null,
   "metadata": {},
   "outputs": [],
   "source": [
    "# Check if the collisions title already exist and if it is, delete it\n",
    "if mapsLayout.listElements(\"TEXT_ELEMENT\", \"t1\"):\n",
    "    mapsLayout.deleteElement(\"t1\")\n",
    "\n",
    "# Add the title to the layout\n",
    "mapsT1 = aprx.createTextElement(\n",
    "    container = mapsLayout,\n",
    "    geometry = lytDict[\"maps\"][\"t1\"][\"geometry\"],\n",
    "    text_size = 20,\n",
    "    font_family_name = \"Inter 18pt Medium\",\n",
    "    style_item = None,\n",
    "    name = \"t1\",\n",
    "    text_type = \"POINT\",\n",
    "    text = f\"(a) Collisions (Count: {countCollisions:,})\"\n",
    ")"
   ]
  },
  {
   "cell_type": "markdown",
   "metadata": {},
   "source": [
    "Set title properties"
   ]
  },
  {
   "cell_type": "code",
   "execution_count": null,
   "metadata": {},
   "outputs": [],
   "source": [
    "# Set up title properties\n",
    "mapsT1.name = \"t1\"\n",
    "mapsT1.setAnchor(lytDict[\"maps\"][\"t1\"][\"anchor\"])\n",
    "mapsT1.elementPositionX = lytDict[\"maps\"][\"t1\"][\"coordX\"]\n",
    "mapsT1.elementPositionY = lytDict[\"maps\"][\"t1\"][\"coordY\"]\n",
    "mapsT1.elementRotation = 0\n",
    "mapsT1.visible = True\n",
    "mapsT1.text = f\"(a) Collisions (Count: {countCollisions:,})\"\n",
    "mapsT1.textSize = 20\n",
    "mapsT1Cim = mapsT1.getDefinition(\"V3\")"
   ]
  },
  {
   "cell_type": "markdown",
   "metadata": {},
   "source": [
    "<h3 style=\"font-weight:bold; color:lime; padding-left: 50px\">Title 2</h3>"
   ]
  },
  {
   "cell_type": "markdown",
   "metadata": {},
   "source": [
    "Add title for for the crashes map frame (title 2)"
   ]
  },
  {
   "cell_type": "code",
   "execution_count": null,
   "metadata": {},
   "outputs": [],
   "source": [
    "# Check if the crashes title already exist and if it is, delete it\n",
    "if mapsLayout.listElements(\"TEXT_ELEMENT\", \"t2\"):\n",
    "    mapsLayout.deleteElement(\"t2\")\n",
    "\n",
    "# Add the title to the layout\n",
    "mapsT2 = aprx.createTextElement(\n",
    "    container = mapsLayout,\n",
    "    geometry = lytDict[\"maps\"][\"t2\"][\"geometry\"],\n",
    "    text_size = 20,\n",
    "    font_family_name = \"Inter 18pt Medium\",\n",
    "    style_item = None,\n",
    "    name = \"t2\",\n",
    "    text_type = \"POINT\",\n",
    "    text = f\"(b) Crashes (Count: {countCrashes:,})\"\n",
    ")"
   ]
  },
  {
   "cell_type": "markdown",
   "metadata": {},
   "source": [
    "Set title properties"
   ]
  },
  {
   "cell_type": "code",
   "execution_count": null,
   "metadata": {},
   "outputs": [],
   "source": [
    "# Set up title properties\n",
    "mapsT2.name = \"t2\"\n",
    "mapsT2.setAnchor(lytDict[\"maps\"][\"t2\"][\"anchor\"])\n",
    "mapsT2.elementPositionX = lytDict[\"maps\"][\"t2\"][\"coordX\"]\n",
    "mapsT2.elementPositionY = lytDict[\"maps\"][\"t2\"][\"coordY\"]\n",
    "mapsT2.elementRotation = 0\n",
    "mapsT2.visible = True\n",
    "mapsT2.text = f\"(b) Crashes (Count: {countCrashes:,})\"\n",
    "mapsT2.textSize = 20\n",
    "mapsT2Cim = mapsT2.getDefinition(\"V3\")"
   ]
  },
  {
   "cell_type": "markdown",
   "metadata": {},
   "source": [
    "<h3 style=\"font-weight:bold; color:lime; padding-left: 50px\">Title 3</h3>"
   ]
  },
  {
   "cell_type": "markdown",
   "metadata": {},
   "source": [
    "Add title for for the parties map frame (title 3)"
   ]
  },
  {
   "cell_type": "code",
   "execution_count": null,
   "metadata": {},
   "outputs": [],
   "source": [
    "# Check if the parties title already exist and if it is, delete it\n",
    "if mapsLayout.listElements(\"TEXT_ELEMENT\", \"t3\"):\n",
    "    mapsLayout.deleteElement(\"t3\")\n",
    "\n",
    "# Add the title to the layout\n",
    "mapsT3 = aprx.createTextElement(\n",
    "    container = mapsLayout,\n",
    "    geometry = lytDict[\"maps\"][\"t3\"][\"geometry\"],\n",
    "    text_size = 20,\n",
    "    font_family_name = \"Inter 18pt Medium\",\n",
    "    style_item = None,\n",
    "    name = \"t3\",\n",
    "    text_type = \"POINT\",\n",
    "    text = f\"(c) Parties (Count: {countParties:,})\"\n",
    ")"
   ]
  },
  {
   "cell_type": "markdown",
   "metadata": {},
   "source": [
    "Set title properties"
   ]
  },
  {
   "cell_type": "code",
   "execution_count": null,
   "metadata": {},
   "outputs": [],
   "source": [
    "# Set up title properties\n",
    "mapsT3.name = \"t3\"\n",
    "mapsT3.setAnchor(lytDict[\"maps\"][\"t3\"][\"anchor\"])\n",
    "mapsT3.elementPositionX = lytDict[\"maps\"][\"t3\"][\"coordX\"]\n",
    "mapsT3.elementPositionY = lytDict[\"maps\"][\"t3\"][\"coordY\"]\n",
    "mapsT3.elementRotation = 0\n",
    "mapsT3.visible = True\n",
    "mapsT3.text = f\"(c) Parties (Count: {countParties:,})\"\n",
    "mapsT3.textSize = 20\n",
    "mapsT3Cim = mapsT3.getDefinition(\"V3\")"
   ]
  },
  {
   "cell_type": "markdown",
   "metadata": {},
   "source": [
    "<h3 style=\"font-weight:bold; color:lime; padding-left: 50px\">Title 4</h3>"
   ]
  },
  {
   "cell_type": "markdown",
   "metadata": {},
   "source": [
    "Add title for for the victims map frame (title 4)"
   ]
  },
  {
   "cell_type": "code",
   "execution_count": null,
   "metadata": {},
   "outputs": [],
   "source": [
    "# Check if the victims title already exist and if it is, delete it\n",
    "if mapsLayout.listElements(\"TEXT_ELEMENT\", \"t4\"):\n",
    "    mapsLayout.deleteElement(\"t4\")\n",
    "\n",
    "# Add the title to the layout\n",
    "mapsT4 = aprx.createTextElement(\n",
    "    container = mapsLayout,\n",
    "    geometry = lytDict[\"maps\"][\"t4\"][\"geometry\"],\n",
    "    text_size = 20,\n",
    "    font_family_name = \"Inter 18pt Medium\",\n",
    "    style_item = None,\n",
    "    name = \"t4\",\n",
    "    text_type = \"POINT\",\n",
    "    text = f\"(d) Victims (Count: {countVictims:,})\"\n",
    ")"
   ]
  },
  {
   "cell_type": "markdown",
   "metadata": {},
   "source": [
    "Set title properties"
   ]
  },
  {
   "cell_type": "code",
   "execution_count": null,
   "metadata": {},
   "outputs": [],
   "source": [
    "# Set up title properties\n",
    "mapsT4.name = \"t4\"\n",
    "mapsT4.setAnchor(lytDict[\"maps\"][\"t4\"][\"anchor\"])\n",
    "mapsT4.elementPositionX = lytDict[\"maps\"][\"t4\"][\"coordX\"]\n",
    "mapsT4.elementPositionY = lytDict[\"maps\"][\"t4\"][\"coordY\"]\n",
    "mapsT4.elementRotation = 0\n",
    "mapsT4.visible = True\n",
    "mapsT4.text = f\"(d) Victims (Count: {countVictims:,})\"\n",
    "mapsT4.textSize = 20\n",
    "mapsT4Cim = mapsT4.getDefinition(\"V3\")"
   ]
  },
  {
   "cell_type": "markdown",
   "metadata": {},
   "source": [
    "<h2 style=\"font-weight:bold; color:dodgerblue; border-bottom: 1px solid dodgerblue; padding-left: 25px\">3.8. Export Maps Layout</h2>"
   ]
  },
  {
   "cell_type": "markdown",
   "metadata": {},
   "source": [
    "Get maps layout CIM"
   ]
  },
  {
   "cell_type": "code",
   "execution_count": null,
   "metadata": {},
   "outputs": [],
   "source": [
    "mapsLayoutCim = mapsLayout.getDefinition(\"V3\")  # Maps layout CIM"
   ]
  },
  {
   "cell_type": "markdown",
   "metadata": {},
   "source": [
    "Export maps layout to disk"
   ]
  },
  {
   "cell_type": "code",
   "execution_count": null,
   "metadata": {},
   "outputs": [],
   "source": [
    "exportCim(\"layout\", mapsLayout, mapsLayout.name)"
   ]
  },
  {
   "cell_type": "markdown",
   "metadata": {},
   "source": [
    "Export layout image to the graphics project directory"
   ]
  },
  {
   "cell_type": "code",
   "execution_count": null,
   "metadata": {},
   "outputs": [],
   "source": [
    "# Export maps layout to PNG (Figure 10)\n",
    "mapsLayout.exportToPNG(\n",
    "    out_png = os.path.join(graphicsFolder, \"Fig10-MapsLayout.png\"),\n",
    "    resolution = 300,\n",
    "    color_mode = \"24-BIT_TRUE_COLOR\",\n",
    "    transparent_background = False,\n",
    "    embed_color_profile = False,\n",
    "    clip_to_elements = True\n",
    ")"
   ]
  },
  {
   "cell_type": "markdown",
   "metadata": {},
   "source": [
    "<h3 style=\"font-weight:bold; color:lime; padding-left: 50px\">Save Project</h3>"
   ]
  },
  {
   "cell_type": "code",
   "execution_count": null,
   "metadata": {},
   "outputs": [],
   "source": [
    "# Save the project\n",
    "aprx.save()"
   ]
  },
  {
   "cell_type": "markdown",
   "metadata": {},
   "source": [
    "<h1 style=\"font-weight:bold; color:orangered; border-bottom: 2px solid orangered\">4. Injuries Layout Processing</h1>"
   ]
  },
  {
   "cell_type": "markdown",
   "metadata": {},
   "source": [
    "<h2 style=\"font-weight:bold; color:dodgerblue; border-bottom: 1px solid dodgerblue; padding-left: 25px\">4.1. Layout View</h2>"
   ]
  },
  {
   "cell_type": "markdown",
   "metadata": {},
   "source": [
    "<h3 style=\"font-weight:bold; color:lime; padding-left: 50px\">Set Injuries Layout View</h3>"
   ]
  },
  {
   "cell_type": "markdown",
   "metadata": {},
   "source": [
    "Close all views and open the injuries layout"
   ]
  },
  {
   "cell_type": "code",
   "execution_count": null,
   "metadata": {},
   "outputs": [],
   "source": [
    "# Close all previous views\n",
    "aprx.closeViews()\n",
    "\n",
    "# Open the injuries layout view\n",
    "injuriesLayout.openView()\n",
    "\n",
    "# set the main layout as active view\n",
    "layout = aprx.activeView"
   ]
  },
  {
   "cell_type": "markdown",
   "metadata": {},
   "source": [
    "<h2 style=\"font-weight:bold; color:dodgerblue; border-bottom: 1px solid dodgerblue; padding-left: 25px\">4.2. Add Map Frames</h2>"
   ]
  },
  {
   "cell_type": "markdown",
   "metadata": {},
   "source": [
    "<h3 style=\"font-weight:bold; color:lime; padding-left: 50px\">Remove Old Map Frames</h3>"
   ]
  },
  {
   "cell_type": "markdown",
   "metadata": {},
   "source": [
    "Delete all layout data frames and elements"
   ]
  },
  {
   "cell_type": "code",
   "execution_count": null,
   "metadata": {},
   "outputs": [],
   "source": [
    "# Delete all map frames from the layout\n",
    "for el in injuriesLayout.listElements():\n",
    "    if el.type == \"MAPFRAME_ELEMENT\":\n",
    "        print(f\"Deleting map frame: {el.name}\")\n",
    "        injuriesLayout.deleteElement(el)"
   ]
  },
  {
   "cell_type": "markdown",
   "metadata": {},
   "source": [
    "<h3 style=\"font-weight:bold; color:lime; padding-left: 50px\">Map Frame Definitions</h3>"
   ]
  },
  {
   "cell_type": "code",
   "execution_count": null,
   "metadata": {},
   "outputs": [],
   "source": [
    "# List of maps to be added as map frames to the layout\n",
    "injuriesMfList = [mapInjuries, mapFatalities]\n",
    "\n",
    "# Number of map frames\n",
    "injuriesMfCount = len(injuriesMfList)\n",
    "\n",
    "# Number of rows and columns for the map frames\n",
    "injuriesMfCols = 2\n",
    "injuriesMfRows = math.ceil(injuriesMfCount / injuriesMfCols)\n",
    "\n",
    "# Map frame page dimensions\n",
    "injuriesMfPageWidth = lytDict[\"injuries\"][\"pageWidth\"]\n",
    "injuriesMfPageHeight = lytDict[\"injuries\"][\"pageHeight\"]\n",
    "\n",
    "# Map frame names\n",
    "injuriesMfNames = [f\"mf{i}\" for i in range(1, injuriesMfCount + 1)]"
   ]
  },
  {
   "cell_type": "markdown",
   "metadata": {},
   "source": [
    "<h3 style=\"font-weight:bold; color:lime; padding-left: 50px\">Map Frame 1</h3>"
   ]
  },
  {
   "cell_type": "markdown",
   "metadata": {},
   "source": [
    "Add Victims map frame (map frame 1)"
   ]
  },
  {
   "cell_type": "code",
   "execution_count": null,
   "metadata": {},
   "outputs": [],
   "source": [
    "# Add the mapframe to the layout\n",
    "injuriesMf1 = injuriesLayout.createMapFrame(\n",
    "    geometry = lytDict[\"injuries\"][\"mf1\"][\"geometry\"],\n",
    "    map = injuriesMfList[0],\n",
    "    name = f\"{injuriesLayout.name}{injuriesMfNames[0].title()}\"\n",
    ")\n",
    "\n",
    "# Set up map frame properties\n",
    "injuriesMf1.name = f\"{injuriesLayout.name}{injuriesMfNames[0].title()}\"\n",
    "injuriesMf1.setAnchor(lytDict[\"injuries\"][\"mf1\"][\"anchor\"])\n",
    "injuriesMf1.elementWidth = lytDict[\"injuries\"][\"mf1\"][\"width\"]\n",
    "injuriesMf1.elementHeight = lytDict[\"injuries\"][\"mf1\"][\"height\"]\n",
    "injuriesMf1.elementPositionX = lytDict[\"injuries\"][\"mf1\"][\"coordX\"]\n",
    "injuriesMf1.elementPositionY = lytDict[\"injuries\"][\"mf1\"][\"coordY\"]\n",
    "injuriesMf1.elementRotation = 0\n",
    "injuriesMf1.visible = True\n",
    "injuriesMf1.map = injuriesMfList[0]\n",
    "injuriesMf1Cim = injuriesMf1.getDefinition('V3')\n",
    "injuriesMf1Cim.graphicFrame.borderSymbol.symbol.symbolLayers[0].enable = False\n",
    "injuriesMf1.setDefinition(injuriesMf1Cim)"
   ]
  },
  {
   "cell_type": "markdown",
   "metadata": {},
   "source": [
    "<h3 style=\"font-weight:bold; color:lime; padding-left: 50px\">Map Frame 2</h3>"
   ]
  },
  {
   "cell_type": "markdown",
   "metadata": {},
   "source": [
    "Add Fatalities map frame (map frame 2)"
   ]
  },
  {
   "cell_type": "code",
   "execution_count": null,
   "metadata": {},
   "outputs": [],
   "source": [
    "# Add the mapframe to the layout\n",
    "injuriesMf2 = injuriesLayout.createMapFrame(\n",
    "    geometry = lytDict[\"injuries\"][\"mf2\"][\"geometry\"],\n",
    "    map = injuriesMfList[1],\n",
    "    name = f\"{injuriesLayout.name}{injuriesMfNames[1].title()}\"\n",
    ")\n",
    "\n",
    "# Set up map frame properties\n",
    "injuriesMf2.name = f\"{injuriesLayout.name}{injuriesMfNames[1].title()}\"\n",
    "injuriesMf2.setAnchor(lytDict[\"injuries\"][\"mf2\"][\"anchor\"])\n",
    "injuriesMf2.elementWidth = lytDict[\"injuries\"][\"mf2\"][\"width\"]\n",
    "injuriesMf2.elementHeight = lytDict[\"injuries\"][\"mf2\"][\"height\"]\n",
    "injuriesMf2.elementPositionX = lytDict[\"injuries\"][\"mf2\"][\"coordX\"]\n",
    "injuriesMf2.elementPositionY = lytDict[\"injuries\"][\"mf2\"][\"coordY\"]\n",
    "injuriesMf2.elementRotation = 0\n",
    "injuriesMf2.visible = True\n",
    "injuriesMf2.map = injuriesMfList[1]\n",
    "injuriesMf2Cim = injuriesMf2.getDefinition('V3')\n",
    "injuriesMf2Cim.graphicFrame.borderSymbol.symbol.symbolLayers[0].enable = False\n",
    "injuriesMf2.setDefinition(injuriesMf2Cim)"
   ]
  },
  {
   "cell_type": "markdown",
   "metadata": {},
   "source": [
    "<h3 style=\"font-weight:bold; color:lime; padding-left: 50px\">Adjust Map Frame Layer Visibility</h3>"
   ]
  },
  {
   "cell_type": "markdown",
   "metadata": {},
   "source": [
    "Set extent for the map frame"
   ]
  },
  {
   "cell_type": "code",
   "execution_count": null,
   "metadata": {},
   "outputs": [],
   "source": [
    "injuriesMf1.camera.setExtent(prjExtent)\n",
    "injuriesMf2.camera.setExtent(prjExtent)"
   ]
  },
  {
   "cell_type": "markdown",
   "metadata": {},
   "source": [
    "Turn on appropriate layers"
   ]
  },
  {
   "cell_type": "code",
   "execution_count": null,
   "metadata": {},
   "outputs": [],
   "source": [
    "# Loop through map frames and turn on appropriate layers\n",
    "for mf in injuriesLayout.listElements(\"MAPFRAME_ELEMENT\"):\n",
    "    for l in mf.map.listLayers():\n",
    "        if l.name in [\"OCSWITRS Victims\", \"OCSWITRS Crashes\", \"OCSWITRS Major Roads Buffers\", \"OCSWITRS Roads\", \"OCSWITRS Cities\", \"OCSWITRS Boundaries\", \"Light Gray Base\"]:\n",
    "            l.visible = True\n",
    "        else:\n",
    "            l.visible = False"
   ]
  },
  {
   "cell_type": "markdown",
   "metadata": {},
   "source": [
    "<h2 style=\"font-weight:bold; color:dodgerblue; border-bottom: 1px solid dodgerblue; padding-left: 25px\">4.3. Add North Arrow</h2>"
   ]
  },
  {
   "cell_type": "markdown",
   "metadata": {},
   "source": [
    "Adding north arrow"
   ]
  },
  {
   "cell_type": "code",
   "execution_count": null,
   "metadata": {},
   "outputs": [],
   "source": [
    "# Add the North Arrow to the layout\n",
    "injuriesNa = injuriesLayout.createMapSurroundElement(\n",
    "    geometry = lytDict[\"injuries\"][\"na\"][\"geometry\"],\n",
    "    mapsurround_type = \"NORTH_ARROW\",\n",
    "    mapframe = injuriesMf1,\n",
    "    style_item = aprx.listStyleItems(\"ArcGIS 2D\", \"North_Arrow\", \"ArcGIS North 1\")[0],\n",
    "    name = \"na\"\n",
    ")"
   ]
  },
  {
   "cell_type": "markdown",
   "metadata": {},
   "source": [
    "Set north arrow properties"
   ]
  },
  {
   "cell_type": "code",
   "execution_count": null,
   "metadata": {},
   "outputs": [],
   "source": [
    "# Set up north arrow properties\n",
    "injuriesNa.name = \"na\"\n",
    "injuriesNa.setAnchor(lytDict[\"injuries\"][\"na\"][\"anchor\"])\n",
    "injuriesNa.elementWidth = lytDict[\"injuries\"][\"na\"][\"width\"]\n",
    "injuriesNa.elementHeight = lytDict[\"injuries\"][\"na\"][\"height\"]\n",
    "injuriesNa.elementPositionX = lytDict[\"injuries\"][\"na\"][\"coordX\"]\n",
    "injuriesNa.elementPositionY = lytDict[\"injuries\"][\"na\"][\"coordY\"]\n",
    "injuriesNa.elementRotation = 0\n",
    "injuriesNa.visible = True\n",
    "injuriesNaCim = injuriesNa.getDefinition(\"V3\")"
   ]
  },
  {
   "cell_type": "markdown",
   "metadata": {},
   "source": [
    "<h2 style=\"font-weight:bold; color:dodgerblue; border-bottom: 1px solid dodgerblue; padding-left: 25px\">4.4. Add Scale Bar</h2>"
   ]
  },
  {
   "cell_type": "markdown",
   "metadata": {},
   "source": [
    "Adding scale bar"
   ]
  },
  {
   "cell_type": "code",
   "execution_count": null,
   "metadata": {},
   "outputs": [],
   "source": [
    "# Add the Scale Bar to the layout\n",
    "injuriesSb = injuriesLayout.createMapSurroundElement(\n",
    "    geometry = lytDict[\"injuries\"][\"sb\"][\"geometry\"],\n",
    "    mapsurround_type = \"SCALE_BAR\",\n",
    "    mapframe = injuriesMf1,\n",
    "    style_item = aprx.listStyleItems(\"ArcGIS 2D\", \"SCALE_BAR\", \"Scale Line 1\")[0],\n",
    "    name = \"sb\"\n",
    ")"
   ]
  },
  {
   "cell_type": "markdown",
   "metadata": {},
   "source": [
    "Set scale bar properties"
   ]
  },
  {
   "cell_type": "code",
   "execution_count": null,
   "metadata": {},
   "outputs": [],
   "source": [
    "# Set up scale bar properties\n",
    "injuriesSb.name = \"sb\"\n",
    "injuriesSb.setAnchor(lytDict[\"injuries\"][\"sb\"][\"anchor\"])\n",
    "injuriesSb.elementWidth = lytDict[\"injuries\"][\"sb\"][\"width\"]\n",
    "injuriesSb.elementHeight = lytDict[\"injuries\"][\"sb\"][\"height\"]\n",
    "injuriesSb.elementPositionX = lytDict[\"injuries\"][\"sb\"][\"coordX\"]\n",
    "injuriesSb.elementPositionY = lytDict[\"injuries\"][\"sb\"][\"coordY\"]\n",
    "injuriesSb.elementRotation = 0\n",
    "injuriesSb.visible = True\n",
    "injuriesSbCim = injuriesSb.getDefinition(\"V3\")\n",
    "injuriesSbCim.labelSymbol.symbol.height = 14\n",
    "injuriesSb.setDefinition(injuriesSbCim)"
   ]
  },
  {
   "cell_type": "markdown",
   "metadata": {},
   "source": [
    "<h2 style=\"font-weight:bold; color:dodgerblue; border-bottom: 1px solid dodgerblue; padding-left: 25px\">4.5. Add Dynamic Text (Service Layer Credits)</h2>"
   ]
  },
  {
   "cell_type": "markdown",
   "metadata": {},
   "source": [
    "Add dynamic text element for the service layer credits"
   ]
  },
  {
   "cell_type": "code",
   "execution_count": null,
   "metadata": {},
   "outputs": [],
   "source": [
    "if injuriesLayout.listElements(\"TEXT_ELEMENT\", \"cr\"):\n",
    "    injuriesLayout.deleteElements(\"cr\")\n",
    "\n",
    "# Add the credits text to the layout\n",
    "injuriesCr = aprx.createTextElement(\n",
    "    container = injuriesLayout,\n",
    "    geometry = lytDict[\"injuries\"][\"cr\"][\"geometry\"],\n",
    "    text_size = 6,\n",
    "    font_family_name = \"Inter 9pt Regular\",\n",
    "    style_item = None,\n",
    "    name = \"cr\",\n",
    "    text_type = \"POINT\",\n",
    "    text = \"<dyn type='layout' name='injuries' property='serviceLayerCredits'/>\"\n",
    ")"
   ]
  },
  {
   "cell_type": "markdown",
   "metadata": {},
   "source": [
    "Set dynamic text properties"
   ]
  },
  {
   "cell_type": "code",
   "execution_count": null,
   "metadata": {},
   "outputs": [],
   "source": [
    "# Set up credits text properties\n",
    "injuriesCr.name = \"cr\"\n",
    "injuriesCr.setAnchor(lytDict[\"injuries\"][\"cr\"][\"anchor\"])\n",
    "injuriesCr.elementPositionX = 0\n",
    "injuriesCr.elementPositionY = 0\n",
    "injuriesCr.elementRotation = 0\n",
    "injuriesCr.visible = False\n",
    "injuriesCrCim = injuriesCr.getDefinition(\"V3\")"
   ]
  },
  {
   "cell_type": "markdown",
   "metadata": {},
   "source": [
    "<h2 style=\"font-weight:bold; color:dodgerblue; border-bottom: 1px solid dodgerblue; padding-left: 25px\">4.6. Add New Legends</h2>"
   ]
  },
  {
   "cell_type": "markdown",
   "metadata": {},
   "source": [
    "<h3 style=\"font-weight:bold; color:lime; padding-left: 50px\">Remove Old Legends</h3>"
   ]
  },
  {
   "cell_type": "code",
   "execution_count": null,
   "metadata": {},
   "outputs": [],
   "source": [
    "# Remove all old legends from the layout\n",
    "for el in injuriesLayout.listElements():\n",
    "    if el.type == \"LEGEND_ELEMENT\":\n",
    "        print(f\"Deleting legend: {el.name}\")\n",
    "        injuriesLayout.deleteElement(el)"
   ]
  },
  {
   "cell_type": "markdown",
   "metadata": {},
   "source": [
    "<h3 style=\"font-weight:bold; color:lime; padding-left: 50px\">Legend 1: Severity Legend (Injuries Severity)</h3>"
   ]
  },
  {
   "cell_type": "markdown",
   "metadata": {},
   "source": [
    "Adding Severity Legend (legend 1) to the layout"
   ]
  },
  {
   "cell_type": "code",
   "execution_count": null,
   "metadata": {},
   "outputs": [],
   "source": [
    "# Add the legend to the layout\n",
    "injuriesLg1 = injuriesLayout.createMapSurroundElement(\n",
    "    geometry = lytDict[\"injuries\"][\"lg1\"][\"geometry\"],\n",
    "    mapsurround_type = \"LEGEND\",\n",
    "    mapframe = injuriesMf1,\n",
    "    name = \"lg1\"\n",
    ")"
   ]
  },
  {
   "cell_type": "markdown",
   "metadata": {},
   "source": [
    "Set severity legend properties"
   ]
  },
  {
   "cell_type": "code",
   "execution_count": null,
   "metadata": {},
   "outputs": [],
   "source": [
    "# Obtain the CIM object of the legend\n",
    "injuriesLg1Cim = injuriesLg1.getDefinition(\"V3\")\n",
    "\n",
    "# Disable the legend title\n",
    "injuriesLg1Cim.showTitle = False\n",
    "\n",
    "# Adjust fitting of the legend frame\n",
    "injuriesLg1Cim.fittingStrategy = \"AdjustFrame\"\n",
    "\n",
    "# Turn on the victims layer, and turn off the rest of the layers\n",
    "for i in injuriesLg1Cim.items:\n",
    "    if i.name == \"OCSWITRS Victims\":\n",
    "        i.isVisible = True\n",
    "        i.showLayerName = False\n",
    "        i.autoVisibility = True\n",
    "        i.keepTogetherOption = \"Items\"\n",
    "        i.scaleToPatch = False\n",
    "        i.headingSymbol.symbol.height = 16\n",
    "        i.labelSymbol.symbol.height = 14\n",
    "        i.showFeatureCount = True\n",
    "    else:\n",
    "        i.isVisible = False\n",
    "\n",
    "# Update the legend CIM definitions\n",
    "injuriesLg1.setDefinition(injuriesLg1Cim)"
   ]
  },
  {
   "cell_type": "markdown",
   "metadata": {},
   "source": [
    "Adjust overall legend properties"
   ]
  },
  {
   "cell_type": "code",
   "execution_count": null,
   "metadata": {},
   "outputs": [],
   "source": [
    "# Set up legend properties\n",
    "injuriesLg1.name = \"lg1\"\n",
    "injuriesLg1.setAnchor(lytDict[\"injuries\"][\"lg1\"][\"anchor\"])\n",
    "injuriesLg1.elementPositionX = lytDict[\"injuries\"][\"lg1\"][\"coordX\"]\n",
    "injuriesLg1.elementPositionY = lytDict[\"injuries\"][\"lg1\"][\"coordY\"]\n",
    "injuriesLg1.elementRotation = 0\n",
    "injuriesLg1.visible = True\n",
    "injuriesLg1.mapFrame = injuriesMf1\n",
    "injuriesLg1Cim = injuriesLg1.getDefinition(\"V3\")"
   ]
  },
  {
   "cell_type": "markdown",
   "metadata": {},
   "source": [
    "<h3 style=\"font-weight:bold; color:lime; padding-left: 50px\">Legend 2: Fatalities and Roads Legend</h3>"
   ]
  },
  {
   "cell_type": "markdown",
   "metadata": {},
   "source": [
    "Adding Fatalities and Roads Legend (legend 2) to the layout"
   ]
  },
  {
   "cell_type": "code",
   "execution_count": null,
   "metadata": {},
   "outputs": [],
   "source": [
    "# Add the legend to the layout\n",
    "injuriesLg2 = injuriesLayout.createMapSurroundElement(\n",
    "    geometry = lytDict[\"injuries\"][\"lg2\"][\"geometry\"],\n",
    "    mapsurround_type = \"LEGEND\",\n",
    "    mapframe = injuriesMf2,\n",
    "    name=\"lg2\"\n",
    ")"
   ]
  },
  {
   "cell_type": "markdown",
   "metadata": {},
   "source": [
    "Set fatalities and roads legend properties"
   ]
  },
  {
   "cell_type": "code",
   "execution_count": null,
   "metadata": {},
   "outputs": [],
   "source": [
    "# Obtain the CIM object of the legend\n",
    "injuriesLg2Cim = injuriesLg2.getDefinition(\"V3\")\n",
    "\n",
    "# Disable the legend title\n",
    "injuriesLg2Cim.showTitle = False\n",
    "\n",
    "# Adjust fitting of the legend frame\n",
    "injuriesLg2Cim.fittingStrategy = \"AdjustFrame\"\n",
    "\n",
    "# Turn on the fatalities layer, and turn off the rest of the layers\n",
    "for i in injuriesLg2Cim.items:\n",
    "    if i.name == \"OCSWITRS Crashes\":\n",
    "        i.isVisible = True\n",
    "        i.showLayerName = False\n",
    "        i.autoVisibility = True\n",
    "        i.keepTogetherOption = \"Items\"\n",
    "        i.scaleToPatch = False\n",
    "        i.headingSymbol.symbol.height = 16\n",
    "        i.labelSymbol.symbol.height = 14\n",
    "    elif i.name == \"OCSWITRS Major Roads Buffers\":\n",
    "        i.isVisible = True\n",
    "        i.showLayerName = False\n",
    "        i.autoVisibility = True\n",
    "        i.keepTogetherOption = \"Items\"\n",
    "        i.scaleToPatch = False\n",
    "        i.headingSymbol.symbol.height = 16\n",
    "        i.labelSymbol.symbol.height = 14\n",
    "    elif i.name == \"OCSWITRS Roads\":\n",
    "        i.isVisible = True\n",
    "        i.showLayerName = False\n",
    "        i.autoVisibility = True\n",
    "        i.keepTogetherOption = \"Items\"\n",
    "        i.scaleToPatch = False\n",
    "        i.headingSymbol.symbol.height = 16\n",
    "        i.labelSymbol.symbol.height = 14\n",
    "    else:\n",
    "        i.isVisible = False\n",
    "\n",
    "# Update the legend CIM definitions\n",
    "injuriesLg2.setDefinition(injuriesLg2Cim)"
   ]
  },
  {
   "cell_type": "markdown",
   "metadata": {},
   "source": [
    "Adjust overall legend properties"
   ]
  },
  {
   "cell_type": "code",
   "execution_count": null,
   "metadata": {},
   "outputs": [],
   "source": [
    "# Set up legend properties\n",
    "injuriesLg2.name = \"lg2\"\n",
    "injuriesLg2.setAnchor(lytDict[\"injuries\"][\"lg2\"][\"anchor\"])\n",
    "injuriesLg2.elementPositionX = lytDict[\"injuries\"][\"lg2\"][\"coordX\"]\n",
    "injuriesLg2.elementPositionY = lytDict[\"injuries\"][\"lg2\"][\"coordY\"]\n",
    "injuriesLg2.elementRotation = 0\n",
    "injuriesLg2.visible = True\n",
    "injuriesLg2.mapFrame = injuriesMf2\n",
    "injuriesLg2Cim = injuriesLg2.getDefinition(\"V3\")"
   ]
  },
  {
   "cell_type": "markdown",
   "metadata": {},
   "source": [
    "<h2 style=\"font-weight:bold; color:dodgerblue; border-bottom: 1px solid dodgerblue; padding-left: 25px\">4.7. Add Titles for Map Frames</h2>"
   ]
  },
  {
   "cell_type": "markdown",
   "metadata": {},
   "source": [
    "<h3 style=\"font-weight:bold; color:lime; padding-left: 50px\">Title 1</h3>"
   ]
  },
  {
   "cell_type": "markdown",
   "metadata": {},
   "source": [
    "Add title for for the victims map frame (title 1)"
   ]
  },
  {
   "cell_type": "code",
   "execution_count": null,
   "metadata": {},
   "outputs": [],
   "source": [
    "# Check if the victims title already exist and if it is, delete it\n",
    "if injuriesLayout.listElements(\"TEXT_ELEMENT\", \"t1\"):\n",
    "    injuriesLayout.deleteElement(\"t1\")\n",
    "\n",
    "# Add the title to the layout\n",
    "injuriesT1 = aprx.createTextElement(\n",
    "    container = injuriesLayout,\n",
    "    geometry = lytDict[\"injuries\"][\"t1\"][\"geometry\"],\n",
    "    text_size = 20,\n",
    "    font_family_name = \"Inter 18pt Medium\",\n",
    "    style_item = None,\n",
    "    name = \"t1\",\n",
    "    text_type = \"POINT\",\n",
    "    text = f\"(a) Victim Injuries\"\n",
    ")"
   ]
  },
  {
   "cell_type": "markdown",
   "metadata": {},
   "source": [
    "Set title properties"
   ]
  },
  {
   "cell_type": "code",
   "execution_count": null,
   "metadata": {},
   "outputs": [],
   "source": [
    "# Set up title properties\n",
    "injuriesT1.name = \"t1\"\n",
    "injuriesT1.setAnchor(lytDict[\"injuries\"][\"t1\"][\"anchor\"])\n",
    "injuriesT1.elementPositionX = lytDict[\"injuries\"][\"t1\"][\"coordX\"]\n",
    "injuriesT1.elementPositionY = lytDict[\"injuries\"][\"t1\"][\"coordY\"]\n",
    "injuriesT1.elementRotation = 0\n",
    "injuriesT1.visible = True\n",
    "injuriesT1.text = f\"(a) Victim Injuries\"\n",
    "injuriesT1.textSize = 20\n",
    "injuriesT1Cim = injuriesT1.getDefinition(\"V3\")"
   ]
  },
  {
   "cell_type": "markdown",
   "metadata": {},
   "source": [
    "<h3 style=\"font-weight:bold; color:lime; padding-left: 50px\">Title 2</h3>"
   ]
  },
  {
   "cell_type": "markdown",
   "metadata": {},
   "source": [
    "Add title for for the fatalities map frame (title 2)"
   ]
  },
  {
   "cell_type": "code",
   "execution_count": null,
   "metadata": {},
   "outputs": [],
   "source": [
    "# Check if the crashes title already exist and if it is, delete it\n",
    "if injuriesLayout.listElements(\"TEXT_ELEMENT\", \"t2\"):\n",
    "    injuriesLayout.deleteElement(\"t2\")\n",
    "\n",
    "# Add the title to the layout\n",
    "injuriesT2 = aprx.createTextElement(\n",
    "    container = injuriesLayout,\n",
    "    geometry = lytDict[\"injuries\"][\"t2\"][\"geometry\"],\n",
    "    text_size = 20,\n",
    "    font_family_name = \"Inter 18pt Medium\",\n",
    "    style_item = None,\n",
    "    name = \"t2\",\n",
    "    text_type = \"POINT\",\n",
    "    text = f\"(b) Victim Fatalities\"\n",
    ")"
   ]
  },
  {
   "cell_type": "markdown",
   "metadata": {},
   "source": [
    "Set title properties"
   ]
  },
  {
   "cell_type": "code",
   "execution_count": null,
   "metadata": {},
   "outputs": [],
   "source": [
    "# Set up title properties\n",
    "injuriesT2.name = \"t2\"\n",
    "injuriesT2.setAnchor(lytDict[\"injuries\"][\"t2\"][\"anchor\"])\n",
    "injuriesT2.elementPositionX = lytDict[\"injuries\"][\"t2\"][\"coordX\"]\n",
    "injuriesT2.elementPositionY = lytDict[\"injuries\"][\"t2\"][\"coordY\"]\n",
    "injuriesT2.elementRotation = 0\n",
    "injuriesT2.visible = True\n",
    "injuriesT2.text = f\"(b) Victim Fatalities\"\n",
    "injuriesT2.textSize = 20\n",
    "injuriesT2Cim = injuriesT2.getDefinition(\"V3\")"
   ]
  },
  {
   "cell_type": "markdown",
   "metadata": {},
   "source": [
    "<h2 style=\"font-weight:bold; color:dodgerblue; border-bottom: 1px solid dodgerblue; padding-left: 25px\">4.8. Export Injuries Layout</h2>"
   ]
  },
  {
   "cell_type": "markdown",
   "metadata": {},
   "source": [
    "Get injuries layout CIM"
   ]
  },
  {
   "cell_type": "code",
   "execution_count": null,
   "metadata": {},
   "outputs": [],
   "source": [
    "injuriesLayoutCim = injuriesLayout.getDefinition(\"V3\")  # Injuries layout CIM"
   ]
  },
  {
   "cell_type": "markdown",
   "metadata": {},
   "source": [
    "Export injuries layout to disk"
   ]
  },
  {
   "cell_type": "code",
   "execution_count": null,
   "metadata": {},
   "outputs": [],
   "source": [
    "exportCim(\"layout\", injuriesLayout, injuriesLayout.name)"
   ]
  },
  {
   "cell_type": "markdown",
   "metadata": {},
   "source": [
    "Export layout image to the graphics project directory"
   ]
  },
  {
   "cell_type": "code",
   "execution_count": null,
   "metadata": {},
   "outputs": [],
   "source": [
    "# Export injuries layout to PNG (Figure 11)\n",
    "injuriesLayout.exportToPNG(\n",
    "    out_png = os.path.join(graphicsFolder, \"Fig11-InjuriesLayout.png\"),\n",
    "    resolution = 300,\n",
    "    color_mode = \"24-BIT_TRUE_COLOR\",\n",
    "    transparent_background = False,\n",
    "    embed_color_profile = False,\n",
    "    clip_to_elements = True\n",
    ")"
   ]
  },
  {
   "cell_type": "markdown",
   "metadata": {},
   "source": [
    "<h3 style=\"font-weight:bold; color:lime; padding-left: 50px\">Save Project</h3>"
   ]
  },
  {
   "cell_type": "code",
   "execution_count": null,
   "metadata": {},
   "outputs": [],
   "source": [
    "# Save the project\n",
    "aprx.save()"
   ]
  },
  {
   "cell_type": "markdown",
   "metadata": {
    "jp-MarkdownHeadingCollapsed": true
   },
   "source": [
    "<h1 style=\"font-weight:bold; color:orangered; border-bottom: 2px solid orangered\">5. Hotspots Layout Processing</h1>"
   ]
  },
  {
   "cell_type": "markdown",
   "metadata": {},
   "source": [
    "<h2 style=\"font-weight:bold; color:dodgerblue; border-bottom: 1px solid dodgerblue; padding-left: 25px\">5.1. Layout View</h2>"
   ]
  },
  {
   "cell_type": "markdown",
   "metadata": {},
   "source": [
    "<h3 style=\"font-weight:bold; color:lime; padding-left: 50px\">Set Hotspots Layout View</h3>"
   ]
  },
  {
   "cell_type": "markdown",
   "metadata": {},
   "source": [
    "Close all views and open the hotspots layout"
   ]
  },
  {
   "cell_type": "code",
   "execution_count": null,
   "metadata": {},
   "outputs": [],
   "source": [
    "# Close all previous views\n",
    "aprx.closeViews()\n",
    "\n",
    "# Open the hotspots layout view\n",
    "hotspotsLayout.openView()\n",
    "\n",
    "# set the main layout as active view\n",
    "layout = aprx.activeView"
   ]
  },
  {
   "cell_type": "markdown",
   "metadata": {},
   "source": [
    "<h2 style=\"font-weight:bold; color:dodgerblue; border-bottom: 1px solid dodgerblue; padding-left: 25px\">5.2. Add Map Frames</h2>"
   ]
  },
  {
   "cell_type": "markdown",
   "metadata": {},
   "source": [
    "<h3 style=\"font-weight:bold; color:lime; padding-left: 50px\">Remove Old Map Frames</h3>"
   ]
  },
  {
   "cell_type": "markdown",
   "metadata": {},
   "source": [
    "Delete all layout data frames and elements"
   ]
  },
  {
   "cell_type": "code",
   "execution_count": null,
   "metadata": {},
   "outputs": [],
   "source": [
    "# Delete all map frames from the layout\n",
    "for el in hotspotsLayout.listElements():\n",
    "    if el.type == \"MAPFRAME_ELEMENT\":\n",
    "        print(f\"Deleting map frame: {el.name}\")\n",
    "        hotspotsLayout.deleteElement(el)"
   ]
  },
  {
   "cell_type": "markdown",
   "metadata": {},
   "source": [
    "<h3 style=\"font-weight:bold; color:lime; padding-left: 50px\">Map Frame Definitions</h3>"
   ]
  },
  {
   "cell_type": "markdown",
   "metadata": {},
   "source": [
    "Map frames definitions and calculations"
   ]
  },
  {
   "cell_type": "code",
   "execution_count": null,
   "metadata": {},
   "outputs": [],
   "source": [
    "# List of maps to be added as map frames to the layout\n",
    "hotspotsMfList = [mapFhs100m1km, mapFhs150m2km, mapFhs100m5km, mapFhsRoads500ft]\n",
    "\n",
    "# Number of map frames\n",
    "hotspotsMfCount = len(hotspotsMfList)\n",
    "\n",
    "# Number of rows and columns for the map frames\n",
    "hotspotsMfCols = 2\n",
    "hotspotsMfRows = math.ceil(hotspotsMfCount / hotspotsMfCols)\n",
    "\n",
    "# Map frame page dimensions\n",
    "hotspotsMfPageWidth = lytDict[\"hotspots\"][\"pageWidth\"]\n",
    "hotspotsMfPageHeight = lytDict[\"hotspots\"][\"pageHeight\"]\n",
    "\n",
    "# Map frame names\n",
    "hotspotsMfNames = [f\"mf{i}\" for i in range(1, hotspotsMfCount + 1)]"
   ]
  },
  {
   "cell_type": "markdown",
   "metadata": {},
   "source": [
    "<h3 style=\"font-weight:bold; color:lime; padding-left: 50px\">Map Frame 1</h3>"
   ]
  },
  {
   "cell_type": "markdown",
   "metadata": {},
   "source": [
    "Add Hot Spots (100m, 1km) map frame (map frame 1)"
   ]
  },
  {
   "cell_type": "code",
   "execution_count": null,
   "metadata": {},
   "outputs": [],
   "source": [
    "# Add the mapframe to the layout\n",
    "hotspotsMf1 = hotspotsLayout.createMapFrame(\n",
    "    geometry = lytDict[\"hotspots\"][\"mf1\"][\"geometry\"],\n",
    "    map = hotspotsMfList[0],\n",
    "    name = f\"{hotspotsLayout.name}{hotspotsMfNames[0].title()}\"\n",
    ")\n",
    "\n",
    "# Set up map frame properties\n",
    "hotspotsMf1.name = f\"{hotspotsLayout.name}{hotspotsMfNames[0].title()}\"\n",
    "hotspotsMf1.setAnchor(lytDict[\"hotspots\"][\"mf1\"][\"anchor\"])\n",
    "hotspotsMf1.elementWidth = lytDict[\"hotspots\"][\"mf1\"][\"width\"]\n",
    "hotspotsMf1.elementHeight = lytDict[\"hotspots\"][\"mf1\"][\"height\"]\n",
    "hotspotsMf1.elementPositionX = lytDict[\"hotspots\"][\"mf1\"][\"coordX\"]\n",
    "hotspotsMf1.elementPositionY = lytDict[\"hotspots\"][\"mf1\"][\"coordY\"]\n",
    "hotspotsMf1.elementRotation = 0\n",
    "hotspotsMf1.visible = True\n",
    "hotspotsMf1.map = hotspotsMfList[0]\n",
    "hotspotsMf1Cim = hotspotsMf1.getDefinition('V3')\n",
    "hotspotsMf1Cim.graphicFrame.borderSymbol.symbol.symbolLayers[0].enable = False\n",
    "hotspotsMf1.setDefinition(hotspotsMf1Cim)"
   ]
  },
  {
   "cell_type": "markdown",
   "metadata": {},
   "source": [
    "<h3 style=\"font-weight:bold; color:lime; padding-left: 50px\">Map Frame 2</h3>"
   ]
  },
  {
   "cell_type": "markdown",
   "metadata": {},
   "source": [
    "Add Hot Spots (150m, 2km) map frame (map frame 2)"
   ]
  },
  {
   "cell_type": "code",
   "execution_count": null,
   "metadata": {},
   "outputs": [],
   "source": [
    "# Add the mapframe to the layout\n",
    "hotspotsMf2 = hotspotsLayout.createMapFrame(\n",
    "    geometry = lytDict[\"hotspots\"][\"mf2\"][\"geometry\"],\n",
    "    map = hotspotsMfList[1],\n",
    "    name = f\"{hotspotsLayout.name}{hotspotsMfNames[1].title()}\"\n",
    ")\n",
    "\n",
    "# Set up map frame properties\n",
    "hotspotsMf2.name = f\"{hotspotsLayout.name}{hotspotsMfNames[1].title()}\"\n",
    "hotspotsMf2.setAnchor(lytDict[\"hotspots\"][\"mf2\"][\"anchor\"])\n",
    "hotspotsMf2.elementWidth = lytDict[\"hotspots\"][\"mf2\"][\"width\"]\n",
    "hotspotsMf2.elementHeight = lytDict[\"hotspots\"][\"mf2\"][\"height\"]\n",
    "hotspotsMf2.elementPositionX = lytDict[\"hotspots\"][\"mf2\"][\"coordX\"]\n",
    "hotspotsMf2.elementPositionY = lytDict[\"hotspots\"][\"mf2\"][\"coordY\"]\n",
    "hotspotsMf2.elementRotation = 0\n",
    "hotspotsMf2.visible = True\n",
    "hotspotsMf2.map = hotspotsMfList[1]\n",
    "hotspotsMf2Cim = hotspotsMf2.getDefinition('V3')\n",
    "hotspotsMf2Cim.graphicFrame.borderSymbol.symbol.symbolLayers[0].enable = False\n",
    "hotspotsMf2.setDefinition(hotspotsMf2Cim)"
   ]
  },
  {
   "cell_type": "markdown",
   "metadata": {},
   "source": [
    "<h3 style=\"font-weight:bold; color:lime; padding-left: 50px\">Map Frame 3</h3>"
   ]
  },
  {
   "cell_type": "markdown",
   "metadata": {},
   "source": [
    "Add Hot Spots (100m, 5km) map frame (map frame 3)"
   ]
  },
  {
   "cell_type": "code",
   "execution_count": null,
   "metadata": {},
   "outputs": [],
   "source": [
    "# Add the mapframe to the layout\n",
    "hotspotsMf3 = hotspotsLayout.createMapFrame(\n",
    "    geometry = lytDict[\"hotspots\"][\"mf3\"][\"geometry\"],\n",
    "    map = hotspotsMfList[2],\n",
    "    name = f\"{hotspotsLayout.name}{hotspotsMfNames[2].title()}\"\n",
    ")\n",
    "\n",
    "# Set up map frame properties\n",
    "hotspotsMf3.name = f\"{hotspotsLayout.name}{hotspotsMfNames[2].title()}\"\n",
    "hotspotsMf3.setAnchor(lytDict[\"hotspots\"][\"mf3\"][\"anchor\"])\n",
    "hotspotsMf3.elementWidth = lytDict[\"hotspots\"][\"mf3\"][\"width\"]\n",
    "hotspotsMf3.elementHeight = lytDict[\"hotspots\"][\"mf3\"][\"height\"]\n",
    "hotspotsMf3.elementPositionX = lytDict[\"hotspots\"][\"mf3\"][\"coordX\"]\n",
    "hotspotsMf3.elementPositionY = lytDict[\"hotspots\"][\"mf3\"][\"coordY\"]\n",
    "hotspotsMf3.elementRotation = 0\n",
    "hotspotsMf3.visible = True\n",
    "hotspotsMf3.map = hotspotsMfList[2]\n",
    "hotspotsMf3Cim = hotspotsMf3.getDefinition('V3')\n",
    "hotspotsMf3Cim.graphicFrame.borderSymbol.symbol.symbolLayers[0].enable = False\n",
    "hotspotsMf3.setDefinition(hotspotsMf3Cim)"
   ]
  },
  {
   "cell_type": "markdown",
   "metadata": {},
   "source": [
    "<h3 style=\"font-weight:bold; color:lime; padding-left: 50px\">Map Frame 4</h3>"
   ]
  },
  {
   "cell_type": "markdown",
   "metadata": {},
   "source": [
    "Add Hot Spots (500ft from Major Roads) map frame (map frame 4)"
   ]
  },
  {
   "cell_type": "code",
   "execution_count": null,
   "metadata": {},
   "outputs": [],
   "source": [
    "# Add the mapframe to the layout\n",
    "hotspotsMf4 = hotspotsLayout.createMapFrame(\n",
    "    geometry = lytDict[\"hotspots\"][\"mf4\"][\"geometry\"],\n",
    "    map = hotspotsMfList[3],\n",
    "    name = f\"{hotspotsLayout.name}{hotspotsMfNames[3].title()}\"\n",
    ")\n",
    "\n",
    "# Set up map frame properties\n",
    "hotspotsMf4.name = f\"{hotspotsLayout.name}{hotspotsMfNames[3].title()}\"\n",
    "hotspotsMf4.setAnchor(lytDict[\"hotspots\"][\"mf4\"][\"anchor\"])\n",
    "hotspotsMf4.elementWidth = lytDict[\"hotspots\"][\"mf4\"][\"width\"]\n",
    "hotspotsMf4.elementHeight = lytDict[\"hotspots\"][\"mf4\"][\"height\"]\n",
    "hotspotsMf4.elementPositionX = lytDict[\"hotspots\"][\"mf4\"][\"coordX\"]\n",
    "hotspotsMf4.elementPositionY = lytDict[\"hotspots\"][\"mf4\"][\"coordY\"]\n",
    "hotspotsMf4.elementRotation = 0\n",
    "hotspotsMf4.visible = True\n",
    "hotspotsMf4.map = hotspotsMfList[3]\n",
    "hotspotsMf4Cim = hotspotsMf4.getDefinition('V3')\n",
    "hotspotsMf4Cim.graphicFrame.borderSymbol.symbol.symbolLayers[0].enable = False\n",
    "hotspotsMf4.setDefinition(hotspotsMf4Cim)"
   ]
  },
  {
   "cell_type": "markdown",
   "metadata": {},
   "source": [
    "<h3 style=\"font-weight:bold; color:lime; padding-left: 50px\">Adjust Map Frame Layer Visibility</h3>"
   ]
  },
  {
   "cell_type": "markdown",
   "metadata": {},
   "source": [
    "Set extent for the map frame"
   ]
  },
  {
   "cell_type": "code",
   "execution_count": null,
   "metadata": {},
   "outputs": [],
   "source": [
    "hotspotsMf1.camera.setExtent(prjExtent)\n",
    "hotspotsMf2.camera.setExtent(prjExtent)\n",
    "hotspotsMf3.camera.setExtent(prjExtent)\n",
    "hotspotsMf4.camera.setExtent(prjExtent)"
   ]
  },
  {
   "cell_type": "markdown",
   "metadata": {},
   "source": [
    "Adjust visibility of the layers"
   ]
  },
  {
   "cell_type": "code",
   "execution_count": null,
   "metadata": {},
   "outputs": [],
   "source": [
    "# Loop through map frames and turn on appropriate layers\n",
    "for mf in hotspotsLayout.listElements(\"MAPFRAME_ELEMENT\"):\n",
    "    for l in mf.map.listLayers():\n",
    "        if l.name in [\"OCSWITRS Crashes Find Hot Spots 100m 1km\", \"OCSWITRS Crashes Find Hot Spots 150m 2km\", \"OCSWITRS Crashes Find Hot Spots 100m 5km\", \"OCSWITRS Crashes Find Hot Spots 500 Feet from Major Roads 500ft 1mi\", \"OCSWITRS Boundaries\", \"OCSWITRS Roads\", \"OCSWITRS Census Blocks\", \"Light Gray Base\"]:\n",
    "            l.visible = True\n",
    "            if l.name in [\"OCSWITRS Census Blocks\", \"OCSWITRS Roads\"]:\n",
    "                l.transparency = 65\n",
    "        else:\n",
    "            l.visible = False"
   ]
  },
  {
   "cell_type": "markdown",
   "metadata": {},
   "source": [
    "<h2 style=\"font-weight:bold; color:dodgerblue; border-bottom: 1px solid dodgerblue; padding-left: 25px\">5.3. Add North Arrow</h2>"
   ]
  },
  {
   "cell_type": "markdown",
   "metadata": {},
   "source": [
    "Adding north arrow"
   ]
  },
  {
   "cell_type": "code",
   "execution_count": null,
   "metadata": {},
   "outputs": [],
   "source": [
    "# Add the North Arrow to the layout\n",
    "hotspotsNa = hotspotsLayout.createMapSurroundElement(\n",
    "    geometry = lytDict[\"hotspots\"][\"na\"][\"geometry\"],\n",
    "    mapsurround_type = \"NORTH_ARROW\",\n",
    "    mapframe = hotspotsMf1,\n",
    "    style_item = aprx.listStyleItems(\"ArcGIS 2D\", \"North_Arrow\", \"ArcGIS North 1\")[0],\n",
    "    name = \"na\"\n",
    ")"
   ]
  },
  {
   "cell_type": "markdown",
   "metadata": {},
   "source": [
    "Set north arrow properties"
   ]
  },
  {
   "cell_type": "code",
   "execution_count": null,
   "metadata": {},
   "outputs": [],
   "source": [
    "# Set up north arrow properties\n",
    "hotspotsNa.name = \"na\"\n",
    "hotspotsNa.setAnchor(lytDict[\"hotspots\"][\"na\"][\"anchor\"])\n",
    "hotspotsNa.elementWidth = lytDict[\"hotspots\"][\"na\"][\"width\"]\n",
    "hotspotsNa.elementHeight = lytDict[\"hotspots\"][\"na\"][\"height\"]\n",
    "hotspotsNa.elementPositionX = lytDict[\"hotspots\"][\"na\"][\"coordX\"]\n",
    "hotspotsNa.elementPositionY = lytDict[\"hotspots\"][\"na\"][\"coordY\"]\n",
    "hotspotsNa.elementRotation = 0\n",
    "hotspotsNa.visible = True\n",
    "hotspotsNaCim = hotspotsNa.getDefinition(\"V3\")"
   ]
  },
  {
   "cell_type": "markdown",
   "metadata": {},
   "source": [
    "<h2 style=\"font-weight:bold; color:dodgerblue; border-bottom: 1px solid dodgerblue; padding-left: 25px\">5.4. Add Scale Bar</h2>"
   ]
  },
  {
   "cell_type": "markdown",
   "metadata": {},
   "source": [
    "Adding scale bar"
   ]
  },
  {
   "cell_type": "code",
   "execution_count": null,
   "metadata": {},
   "outputs": [],
   "source": [
    "# Add the Scale Bar to the layout\n",
    "hotspotsSb = hotspotsLayout.createMapSurroundElement(\n",
    "    geometry = lytDict[\"hotspots\"][\"sb\"][\"geometry\"],\n",
    "    mapsurround_type = \"SCALE_BAR\",\n",
    "    mapframe = hotspotsMf1,\n",
    "    style_item = aprx.listStyleItems(\"ArcGIS 2D\", \"SCALE_BAR\", \"Scale Line 1\")[0],\n",
    "    name = \"sb\"\n",
    ")"
   ]
  },
  {
   "cell_type": "markdown",
   "metadata": {},
   "source": [
    "Set scale bar properties"
   ]
  },
  {
   "cell_type": "code",
   "execution_count": null,
   "metadata": {},
   "outputs": [],
   "source": [
    "# Set up scale bar properties\n",
    "hotspotsSb.name = \"sb\"\n",
    "hotspotsSb.setAnchor(lytDict[\"hotspots\"][\"sb\"][\"anchor\"])\n",
    "hotspotsSb.elementWidth = lytDict[\"hotspots\"][\"sb\"][\"width\"]\n",
    "hotspotsSb.elementHeight = lytDict[\"hotspots\"][\"sb\"][\"height\"]\n",
    "hotspotsSb.elementPositionX = lytDict[\"hotspots\"][\"sb\"][\"coordX\"]\n",
    "hotspotsSb.elementPositionY = lytDict[\"hotspots\"][\"sb\"][\"coordY\"]\n",
    "hotspotsSb.elementRotation = 0\n",
    "hotspotsSb.visible = True\n",
    "hotspotsSbCim = hotspotsSb.getDefinition(\"V3\")\n",
    "hotspotsSbCim.labelSymbol.symbol.height = 14\n",
    "hotspotsSb.setDefinition(hotspotsSbCim)"
   ]
  },
  {
   "cell_type": "markdown",
   "metadata": {},
   "source": [
    "<h2 style=\"font-weight:bold; color:dodgerblue; border-bottom: 1px solid dodgerblue; padding-left: 25px\">5.5. Add Dynamic Text (Service Layer Credits)</h2>"
   ]
  },
  {
   "cell_type": "markdown",
   "metadata": {},
   "source": [
    "Add dynamic text element for the service layer credits"
   ]
  },
  {
   "cell_type": "code",
   "execution_count": null,
   "metadata": {},
   "outputs": [],
   "source": [
    "if hotspotsLayout.listElements(\"TEXT_ELEMENT\", \"cr\"):\n",
    "    hotspotsLayout.deleteElement(\"cr\")\n",
    "\n",
    "# Add the credits text to the layout\n",
    "hotspotsCr = aprx.createTextElement(\n",
    "    container = hotspotsLayout,\n",
    "    geometry = lytDict[\"hotspots\"][\"cr\"][\"geometry\"],\n",
    "    text_size = 6,\n",
    "    font_family_name = \"Inter 9pt Regular\",\n",
    "    style_item = None,\n",
    "    name = \"cr\",\n",
    "    text_type = \"POINT\",\n",
    "    text = \"<dyn type='layout' name='hotspots' property='serviceLayerCredits'/>\"\n",
    ")"
   ]
  },
  {
   "cell_type": "markdown",
   "metadata": {},
   "source": [
    "Set dynamic text properties"
   ]
  },
  {
   "cell_type": "code",
   "execution_count": null,
   "metadata": {},
   "outputs": [],
   "source": [
    "# Set up credits text properties\n",
    "hotspotsCr.name = \"cr\"\n",
    "hotspotsCr.setAnchor(lytDict[\"hotspots\"][\"cr\"][\"anchor\"])\n",
    "hotspotsCr.elementPositionX = 0\n",
    "hotspotsCr.elementPositionY = 0\n",
    "hotspotsCr.elementRotation = 0\n",
    "hotspotsCr.visible = False\n",
    "hotspotsCrCim = hotspotsCr.getDefinition(\"V3\")"
   ]
  },
  {
   "cell_type": "markdown",
   "metadata": {},
   "source": [
    "<h2 style=\"font-weight:bold; color:dodgerblue; border-bottom: 1px solid dodgerblue; padding-left: 25px\">5.6. Add New Legends</h2>"
   ]
  },
  {
   "cell_type": "markdown",
   "metadata": {},
   "source": [
    "<h3 style=\"font-weight:bold; color:lime; padding-left: 50px\">Remove Old Legends</h3>"
   ]
  },
  {
   "cell_type": "code",
   "execution_count": null,
   "metadata": {},
   "outputs": [],
   "source": [
    "# Remove all old legends from the layout\n",
    "for el in hotspotsLayout.listElements():\n",
    "    if el.type == \"LEGEND_ELEMENT\":\n",
    "        print(f\"Deleting legend: {el.name}\")\n",
    "        hotspotsLayout.deleteElement(el)"
   ]
  },
  {
   "cell_type": "markdown",
   "metadata": {},
   "source": [
    "<h3 style=\"font-weight:bold; color:lime; padding-left: 50px\">Legend 1: Hotspots Legend</h3>"
   ]
  },
  {
   "cell_type": "markdown",
   "metadata": {},
   "source": [
    "Adding Hotspots Legend (legend 1) to the layout"
   ]
  },
  {
   "cell_type": "code",
   "execution_count": null,
   "metadata": {},
   "outputs": [],
   "source": [
    "# Add the legend to the layout\n",
    "hotspotsLg1 = hotspotsLayout.createMapSurroundElement(\n",
    "    geometry = lytDict[\"hotspots\"][\"lg1\"][\"geometry\"],\n",
    "    mapsurround_type = \"LEGEND\",\n",
    "    mapframe = hotspotsMf1,\n",
    "    name = \"lg1\"\n",
    ")"
   ]
  },
  {
   "cell_type": "markdown",
   "metadata": {},
   "source": [
    "Set hotspots legend properties"
   ]
  },
  {
   "cell_type": "code",
   "execution_count": null,
   "metadata": {},
   "outputs": [],
   "source": [
    "# Obtain the CIM object of the legend\n",
    "hotspotsLg1Cim = hotspotsLg1.getDefinition(\"V3\")\n",
    "\n",
    "# Disable the legend title\n",
    "hotspotsLg1Cim.showTitle = False\n",
    "\n",
    "# Adjust fitting of the legend frame\n",
    "hotspotsLg1Cim.fittingStrategy = \"AdjustFrame\"\n",
    "\n",
    "# Turn on the hotspots layer, and turn off the rest of the layers\n",
    "for i in hotspotsLg1Cim.items:\n",
    "    if i.name == \"OCSWITRS Crashes Find Hot Spots 100m 1km\":\n",
    "        i.isVisible = True\n",
    "        i.showLayerName = False\n",
    "        i.autoVisibility = True\n",
    "        i.keepTogetherOption = \"Items\"\n",
    "        i.scaleToPatch = False\n",
    "        i.headingSymbol.symbol.height = 16\n",
    "        i.labelSymbol.symbol.height = 14\n",
    "    else:\n",
    "        i.isVisible = False\n",
    "\n",
    "# Update the legend CIM definitions\n",
    "hotspotsLg1.setDefinition(hotspotsLg1Cim)"
   ]
  },
  {
   "cell_type": "markdown",
   "metadata": {},
   "source": [
    "Adjust overall legend properties"
   ]
  },
  {
   "cell_type": "code",
   "execution_count": null,
   "metadata": {},
   "outputs": [],
   "source": [
    "# Set up legend properties\n",
    "hotspotsLg1.name = \"lg1\"\n",
    "hotspotsLg1.setAnchor(lytDict[\"hotspots\"][\"lg1\"][\"anchor\"])\n",
    "hotspotsLg1.elementPositionX = lytDict[\"hotspots\"][\"lg1\"][\"coordX\"]\n",
    "hotspotsLg1.elementPositionY = lytDict[\"hotspots\"][\"lg1\"][\"coordY\"]\n",
    "hotspotsLg1.elementRotation = 0\n",
    "hotspotsLg1.visible = True\n",
    "hotspotsLg1.mapFrame = hotspotsMf1\n",
    "hotspotsLg1Cim = hotspotsLg1.getDefinition(\"V3\")"
   ]
  },
  {
   "cell_type": "markdown",
   "metadata": {},
   "source": [
    "<h3 style=\"font-weight:bold; color:lime; padding-left: 50px\">Legend 2: Roads Legend</h3>"
   ]
  },
  {
   "cell_type": "markdown",
   "metadata": {},
   "source": [
    "Adding Roads Legend (legend 2) to the layout"
   ]
  },
  {
   "cell_type": "code",
   "execution_count": null,
   "metadata": {},
   "outputs": [],
   "source": [
    "# Add the legend to the layout\n",
    "hotspotsLg2 = hotspotsLayout.createMapSurroundElement(\n",
    "    geometry = lytDict[\"hotspots\"][\"lg2\"][\"geometry\"],\n",
    "    mapsurround_type = \"LEGEND\",\n",
    "    mapframe = hotspotsMf1,\n",
    "    name = \"lg2\"\n",
    ")"
   ]
  },
  {
   "cell_type": "markdown",
   "metadata": {},
   "source": [
    "Set roads legend properties"
   ]
  },
  {
   "cell_type": "code",
   "execution_count": null,
   "metadata": {},
   "outputs": [],
   "source": [
    "# Obtain the CIM object of the legend\n",
    "hotspotsLg2Cim = hotspotsLg2.getDefinition(\"V3\")\n",
    "\n",
    "# Disable the legend title\n",
    "hotspotsLg2Cim.showTitle = False\n",
    "\n",
    "# Adjust fitting of the legend frame\n",
    "hotspotsLg2Cim.fittingStrategy = \"AdjustFrame\"\n",
    "\n",
    "# Turn on the roads layer, and turn off the rest of the layers\n",
    "for i in hotspotsLg2Cim.items:\n",
    "    if i.name == \"OCSWITRS Roads\":\n",
    "        i.isVisible = True\n",
    "        i.showLayerName = False\n",
    "        i.autoVisibility = True\n",
    "        i.keepTogetherOption = \"Items\"\n",
    "        i.scaleToPatch = False\n",
    "        i.headingSymbol.symbol.height = 16\n",
    "        i.labelSymbol.symbol.height = 14\n",
    "    else:\n",
    "        i.isVisible = False\n",
    "\n",
    "# Update the legend CIM definitions\n",
    "hotspotsLg2.setDefinition(hotspotsLg2Cim)"
   ]
  },
  {
   "cell_type": "markdown",
   "metadata": {},
   "source": [
    "Adjust overall legend properties"
   ]
  },
  {
   "cell_type": "code",
   "execution_count": null,
   "metadata": {},
   "outputs": [],
   "source": [
    "# Set up legend properties\n",
    "hotspotsLg2.name = \"lg2\"\n",
    "hotspotsLg2.setAnchor(lytDict[\"hotspots\"][\"lg2\"][\"anchor\"])\n",
    "hotspotsLg2.elementPositionX = lytDict[\"hotspots\"][\"lg2\"][\"coordX\"]\n",
    "hotspotsLg2.elementPositionY = lytDict[\"hotspots\"][\"lg2\"][\"coordY\"]\n",
    "hotspotsLg2.elementRotation = 0\n",
    "hotspotsLg2.visible = True\n",
    "hotspotsLg2.mapFrame = hotspotsMf1\n",
    "hotspotsLg2Cim = hotspotsLg2.getDefinition(\"V3\")"
   ]
  },
  {
   "cell_type": "markdown",
   "metadata": {},
   "source": [
    "<h3 style=\"font-weight:bold; color:lime; padding-left: 50px\">Legend 3: Density Legend</h3>"
   ]
  },
  {
   "cell_type": "markdown",
   "metadata": {},
   "source": [
    "Adding Density (Cencus Blocks) Legend (legend 3) to the layout"
   ]
  },
  {
   "cell_type": "code",
   "execution_count": null,
   "metadata": {},
   "outputs": [],
   "source": [
    "# Add the legend to the layout\n",
    "hotspotsLg3 = hotspotsLayout.createMapSurroundElement(\n",
    "    geometry = lytDict[\"hotspots\"][\"lg3\"][\"geometry\"],\n",
    "    mapsurround_type = \"LEGEND\",\n",
    "    mapframe = hotspotsMf1,\n",
    "    name = \"lg3\"\n",
    ")"
   ]
  },
  {
   "cell_type": "markdown",
   "metadata": {},
   "source": [
    "Set density legend properties"
   ]
  },
  {
   "cell_type": "code",
   "execution_count": null,
   "metadata": {},
   "outputs": [],
   "source": [
    "# Obtain the CIM object of the legend\n",
    "hotspotsLg3Cim = hotspotsLg3.getDefinition(\"V3\")\n",
    "\n",
    "# Disable the legend title\n",
    "hotspotsLg3Cim.showTitle = False\n",
    "\n",
    "# Adjust fitting of the legend frame\n",
    "hotspotsLg3Cim.fittingStrategy = \"AdjustFrame\"\n",
    "\n",
    "# Turn on the fhs100m1km layer, and turn off the rest of the layers\n",
    "for i in hotspotsLg3Cim.items:\n",
    "    if i.name == \"OCSWITRS Census Blocks\":\n",
    "        i.isVisible = True\n",
    "        i.showLayerName = False\n",
    "        i.autoVisibility = True\n",
    "        i.keepTogetherOption = \"Items\"\n",
    "        i.scaleToPatch = False\n",
    "        i.headingSymbol.symbol.height = 16\n",
    "        i.labelSymbol.symbol.height = 14\n",
    "    else:\n",
    "        i.isVisible = False\n",
    "\n",
    "# Update the legend CIM definitions\n",
    "hotspotsLg3.setDefinition(hotspotsLg3Cim)"
   ]
  },
  {
   "cell_type": "markdown",
   "metadata": {},
   "source": [
    "Adjust overall legend properties"
   ]
  },
  {
   "cell_type": "code",
   "execution_count": null,
   "metadata": {},
   "outputs": [],
   "source": [
    "# Set up legend properties\n",
    "hotspotsLg3.name = \"lg3\"\n",
    "hotspotsLg3.setAnchor(lytDict[\"hotspots\"][\"lg3\"][\"anchor\"])\n",
    "hotspotsLg3.elementPositionX = lytDict[\"hotspots\"][\"lg3\"][\"coordX\"]\n",
    "hotspotsLg3.elementPositionY = lytDict[\"hotspots\"][\"lg3\"][\"coordY\"]\n",
    "hotspotsLg3.elementRotation = 0\n",
    "hotspotsLg3.visible = True\n",
    "hotspotsLg3.mapFrame = hotspotsMf1\n",
    "hotspotsLg3Cim = hotspotsLg3.getDefinition(\"V3\")"
   ]
  },
  {
   "cell_type": "markdown",
   "metadata": {},
   "source": [
    "<h2 style=\"font-weight:bold; color:dodgerblue; border-bottom: 1px solid dodgerblue; padding-left: 25px\">5.7. Add Titles for Map Frames</h2>"
   ]
  },
  {
   "cell_type": "markdown",
   "metadata": {},
   "source": [
    "<h3 style=\"font-weight:bold; color:lime; padding-left: 50px\">Title 1</h3>"
   ]
  },
  {
   "cell_type": "markdown",
   "metadata": {},
   "source": [
    "Add title for for the hotspots (100m, 1km) map frame (title 1)"
   ]
  },
  {
   "cell_type": "code",
   "execution_count": null,
   "metadata": {},
   "outputs": [],
   "source": [
    "# Check if the fhs100m1km title already exist and if it is, delete it\n",
    "if hotspotsLayout.listElements(\"TEXT_ELEMENT\", \"t1\"):\n",
    "    hotspotsLayout.deleteElement(\"t1\")\n",
    "\n",
    "# Add the title to the layout\n",
    "hotspotsT1 = aprx.createTextElement(\n",
    "    container = hotspotsLayout,\n",
    "    geometry = lytDict[\"hotspots\"][\"t1\"][\"geometry\"],\n",
    "    text_size = 20,\n",
    "    font_family_name = \"Inter 18pt Medium\",\n",
    "    style_item = None,\n",
    "    name = \"t1\",\n",
    "    text_type = \"POINT\",\n",
    "    text = f\"(a) Crashes Hot Spots (100m Bins, 1km NN)\"\n",
    ")"
   ]
  },
  {
   "cell_type": "markdown",
   "metadata": {},
   "source": [
    "Set title properties"
   ]
  },
  {
   "cell_type": "code",
   "execution_count": null,
   "metadata": {},
   "outputs": [],
   "source": [
    "# Set up title properties\n",
    "hotspotsT1.name = \"t1\"\n",
    "hotspotsT1.setAnchor(lytDict[\"hotspots\"][\"t1\"][\"anchor\"])\n",
    "hotspotsT1.elementPositionX = lytDict[\"hotspots\"][\"t1\"][\"coordX\"]\n",
    "hotspotsT1.elementPositionY = lytDict[\"hotspots\"][\"t1\"][\"coordY\"]\n",
    "hotspotsT1.elementRotation = 0\n",
    "hotspotsT1.visible = True\n",
    "hotspotsT1.text = f\"(a) Crashes Hot Spots (100m Bins, 1km NN)\"\n",
    "hotspotsT1.textSize = 20\n",
    "findHotspotsT1Cim = hotspotsT1.getDefinition(\"V3\")"
   ]
  },
  {
   "cell_type": "markdown",
   "metadata": {},
   "source": [
    "<h3 style=\"font-weight:bold; color:lime; padding-left: 50px\">Title 2</h3>"
   ]
  },
  {
   "cell_type": "markdown",
   "metadata": {},
   "source": [
    "Add title for for the hotspots (150m, 2km) map frame (title 2)"
   ]
  },
  {
   "cell_type": "code",
   "execution_count": null,
   "metadata": {},
   "outputs": [],
   "source": [
    "# Check if the fhs150m2km title already exist and if it is, delete it\n",
    "if hotspotsLayout.listElements(\"TEXT_ELEMENT\", \"t2\"):\n",
    "    hotspotsLayout.deleteElement(\"t2\")\n",
    "\n",
    "# Add the title to the layout\n",
    "hotspotsT2 = aprx.createTextElement(\n",
    "    container = hotspotsLayout,\n",
    "    geometry = lytDict[\"hotspots\"][\"t2\"][\"geometry\"],\n",
    "    text_size = 20,\n",
    "    font_family_name = \"Inter 18pt Medium\",\n",
    "    style_item = None,\n",
    "    name = \"t2\",\n",
    "    text_type = \"POINT\",\n",
    "    text = f\"(b) Crashes Hot Spots (150m Bins, 2km NN)\"\n",
    ")"
   ]
  },
  {
   "cell_type": "markdown",
   "metadata": {},
   "source": [
    "Set title properties"
   ]
  },
  {
   "cell_type": "code",
   "execution_count": null,
   "metadata": {},
   "outputs": [],
   "source": [
    "# Set up title properties\n",
    "hotspotsT2.name = \"t2\"\n",
    "hotspotsT2.setAnchor(lytDict[\"hotspots\"][\"t2\"][\"anchor\"])\n",
    "hotspotsT2.elementPositionX = lytDict[\"hotspots\"][\"t2\"][\"coordX\"]\n",
    "hotspotsT2.elementPositionY = lytDict[\"hotspots\"][\"t2\"][\"coordY\"]\n",
    "hotspotsT2.elementRotation = 0\n",
    "hotspotsT2.visible = True\n",
    "hotspotsT2.text = f\"(b) Crashes Hot Spots (150m Bins, 2km NN)\"\n",
    "hotspotsT2.textSize = 20\n",
    "findHotspotsT2Cim = hotspotsT2.getDefinition(\"V3\")"
   ]
  },
  {
   "cell_type": "markdown",
   "metadata": {},
   "source": [
    "<h3 style=\"font-weight:bold; color:lime; padding-left: 50px\">Title 3</h3>"
   ]
  },
  {
   "cell_type": "markdown",
   "metadata": {},
   "source": [
    "Add title for for the hotspots (100m, 5km) map frame (title 3)"
   ]
  },
  {
   "cell_type": "code",
   "execution_count": null,
   "metadata": {},
   "outputs": [],
   "source": [
    "# Check if the fhs100m5km title already exist and if it is, delete it\n",
    "if hotspotsLayout.listElements(\"TEXT_ELEMENT\", \"t3\"):\n",
    "    hotspotsLayout.deleteElement(\"t3\")\n",
    "\n",
    "# Add the title to the layout\n",
    "hotspotsT3 = aprx.createTextElement(\n",
    "    container = hotspotsLayout,\n",
    "    geometry = lytDict[\"hotspots\"][\"t3\"][\"geometry\"],\n",
    "    text_size = 20,\n",
    "    font_family_name = \"Inter 18pt Medium\",\n",
    "    style_item = None,\n",
    "    name = \"t3\",\n",
    "    text_type = \"POINT\",\n",
    "    text = f\"(c) Crashes Hot Spots (100m Bins, 5km NN)\"\n",
    ")"
   ]
  },
  {
   "cell_type": "markdown",
   "metadata": {},
   "source": [
    "Set title properties"
   ]
  },
  {
   "cell_type": "code",
   "execution_count": null,
   "metadata": {},
   "outputs": [],
   "source": [
    "# Set up title properties\n",
    "hotspotsT3.name = \"t3\"\n",
    "hotspotsT3.setAnchor(lytDict[\"hotspots\"][\"t3\"][\"anchor\"])\n",
    "hotspotsT3.elementPositionX = lytDict[\"hotspots\"][\"t3\"][\"coordX\"]\n",
    "hotspotsT3.elementPositionY = lytDict[\"hotspots\"][\"t3\"][\"coordY\"]\n",
    "hotspotsT3.elementRotation = 0\n",
    "hotspotsT3.visible = True\n",
    "hotspotsT3.text = f\"(c) Crashes Hot Spots (100m Bins, 5km NN)\"\n",
    "hotspotsT3.textSize = 20\n",
    "hotspotsT3Cim = hotspotsT3.getDefinition(\"V3\")"
   ]
  },
  {
   "cell_type": "markdown",
   "metadata": {},
   "source": [
    "<h3 style=\"font-weight:bold; color:lime; padding-left: 50px\">Title 4</h3>"
   ]
  },
  {
   "cell_type": "markdown",
   "metadata": {},
   "source": [
    "Add title for for the hotspots 500ft from major roads map frame (title 4)"
   ]
  },
  {
   "cell_type": "code",
   "execution_count": null,
   "metadata": {},
   "outputs": [],
   "source": [
    "# Check if the fhsRoads500ft title already exist and if it is, delete it\n",
    "if hotspotsLayout.listElements(\"TEXT_ELEMENT\", \"t4\"):\n",
    "    hotspotsLayout.deleteElement(\"t4\")\n",
    "\n",
    "# Add the title to the layout\n",
    "hotspotsT4 = aprx.createTextElement(\n",
    "    container = hotspotsLayout,\n",
    "    geometry = lytDict[\"hotspots\"][\"t4\"][\"geometry\"],\n",
    "    text_size = 20,\n",
    "    font_family_name = \"Inter 18pt Medium\",\n",
    "    style_item = None,\n",
    "    name = \"t4\",\n",
    "    text_type = \"POINT\",\n",
    "    text = f\"(d) Crashes Hot Spots (500ft from Major Roads)\"\n",
    ")"
   ]
  },
  {
   "cell_type": "markdown",
   "metadata": {},
   "source": [
    "Set title properties"
   ]
  },
  {
   "cell_type": "code",
   "execution_count": null,
   "metadata": {},
   "outputs": [],
   "source": [
    "# Set up title properties\n",
    "hotspotsT4.name = \"t4\"\n",
    "hotspotsT4.setAnchor(lytDict[\"hotspots\"][\"t4\"][\"anchor\"])\n",
    "hotspotsT4.elementPositionX = lytDict[\"hotspots\"][\"t4\"][\"coordX\"]\n",
    "hotspotsT4.elementPositionY = lytDict[\"hotspots\"][\"t4\"][\"coordY\"]\n",
    "hotspotsT4.elementRotation = 0\n",
    "hotspotsT4.visible = True\n",
    "hotspotsT4.text = f\"(d) Crashes Hot Spots (500ft from Major Roads)\"\n",
    "hotspotsT4.textSize = 20\n",
    "hotspotsT4Cim = hotspotsT4.getDefinition(\"V3\")"
   ]
  },
  {
   "cell_type": "markdown",
   "metadata": {},
   "source": [
    "<h2 style=\"font-weight:bold; color:dodgerblue; border-bottom: 1px solid dodgerblue; padding-left: 25px\">5.8. Export Hotspots Layout</h2>"
   ]
  },
  {
   "cell_type": "markdown",
   "metadata": {},
   "source": [
    "Get hotspots layout CIM"
   ]
  },
  {
   "cell_type": "code",
   "execution_count": null,
   "metadata": {},
   "outputs": [],
   "source": [
    "hotspotsLayoutCim = hotspotsLayout.getDefinition(\"V3\")  # Find Hotspots layout CIM"
   ]
  },
  {
   "cell_type": "markdown",
   "metadata": {},
   "source": [
    "Export hotspots layout to disk"
   ]
  },
  {
   "cell_type": "code",
   "execution_count": null,
   "metadata": {},
   "outputs": [],
   "source": [
    "exportCim(\"layout\", hotspotsLayout, hotspotsLayout.name)"
   ]
  },
  {
   "cell_type": "markdown",
   "metadata": {},
   "source": [
    "Export layout image to the graphics project directory"
   ]
  },
  {
   "cell_type": "code",
   "execution_count": null,
   "metadata": {},
   "outputs": [],
   "source": [
    "# Export find hotspots layout to PNG (Figure 12)\n",
    "hotspotsLayout.exportToPNG(\n",
    "    out_png = os.path.join(graphicsFolder, \"Fig12-HotspotsLayout.png\"),\n",
    "    resolution = 300,\n",
    "    color_mode = \"24-BIT_TRUE_COLOR\",\n",
    "    transparent_background = False,\n",
    "    embed_color_profile = False,\n",
    "    clip_to_elements = True\n",
    ")"
   ]
  },
  {
   "cell_type": "markdown",
   "metadata": {},
   "source": [
    "<h3 style=\"font-weight:bold; color:lime; padding-left: 50px\">Save Project</h3>"
   ]
  },
  {
   "cell_type": "code",
   "execution_count": null,
   "metadata": {},
   "outputs": [],
   "source": [
    "# Save the project\n",
    "aprx.save()"
   ]
  },
  {
   "cell_type": "markdown",
   "metadata": {
    "jp-MarkdownHeadingCollapsed": true
   },
   "source": [
    "<h1 style=\"font-weight:bold; color:orangered; border-bottom: 2px solid orangered\">6. Roads Layout Processing</h1>"
   ]
  },
  {
   "cell_type": "markdown",
   "metadata": {},
   "source": [
    "<h2 style=\"font-weight:bold; color:dodgerblue; border-bottom: 1px solid dodgerblue; padding-left: 25px\">6.1. Layout View</h2>"
   ]
  },
  {
   "cell_type": "markdown",
   "metadata": {},
   "source": [
    "<h3 style=\"font-weight:bold; color:lime; padding-left: 50px\">Set Road Hotspots Layout View</h3>"
   ]
  },
  {
   "cell_type": "markdown",
   "metadata": {},
   "source": [
    "Close all views and open the map layout"
   ]
  },
  {
   "cell_type": "code",
   "execution_count": null,
   "metadata": {},
   "outputs": [],
   "source": [
    "# Close all previous views\n",
    "aprx.closeViews()\n",
    "\n",
    "# Open the roads layout view\n",
    "roadsLayout.openView()\n",
    "\n",
    "# set the main layout as active view\n",
    "layout = aprx.activeView"
   ]
  },
  {
   "cell_type": "markdown",
   "metadata": {},
   "source": [
    "<h2 style=\"font-weight:bold; color:dodgerblue; border-bottom: 1px solid dodgerblue; padding-left: 25px\">6.2. Add Map Frames</h2>"
   ]
  },
  {
   "cell_type": "markdown",
   "metadata": {},
   "source": [
    "<h3 style=\"font-weight:bold; color:lime; padding-left: 50px\">Remove Old Map Frames</h3>"
   ]
  },
  {
   "cell_type": "markdown",
   "metadata": {},
   "source": [
    "Delete all layout data frames and elements"
   ]
  },
  {
   "cell_type": "code",
   "execution_count": null,
   "metadata": {},
   "outputs": [],
   "source": [
    "# Delete all map frames from the layout\n",
    "for el in roadsLayout.listElements():\n",
    "    if el.type == \"MAPFRAME_ELEMENT\":\n",
    "        print(f\"Deleting map frame: {el.name}\")\n",
    "        roadsLayout.deleteElement(el)"
   ]
  },
  {
   "cell_type": "markdown",
   "metadata": {},
   "source": [
    "<h3 style=\"font-weight:bold; color:lime; padding-left: 50px\">Map Frame Definitions</h3>"
   ]
  },
  {
   "cell_type": "markdown",
   "metadata": {},
   "source": [
    "Map frames definitions and calculations"
   ]
  },
  {
   "cell_type": "code",
   "execution_count": null,
   "metadata": {},
   "outputs": [],
   "source": [
    "# List of maps to be added as map frames to the layout\n",
    "roadsMfList = [mapRoadCrashes, mapRoadHotspots, mapRoadBuffers, mapRoadSegments]\n",
    "\n",
    "# Number of map frames\n",
    "roadsMfCount = len(roadsMfList)\n",
    "\n",
    "# Number of rows and columns for the map frames\n",
    "roadsMfCols = 2\n",
    "roadsMfRows = math.ceil(roadsMfCount / roadsMfCols)\n",
    "\n",
    "# Map frame page dimensions\n",
    "roadsMfPageWidth = lytDict[\"roads\"][\"pageWidth\"]\n",
    "roadsMfPageHeight = lytDict[\"roads\"][\"pageHeight\"]\n",
    "\n",
    "# Map frame names\n",
    "roadsMfNames = [f\"mf{i}\" for i in range(1, roadsMfCount + 1)]"
   ]
  },
  {
   "cell_type": "markdown",
   "metadata": {},
   "source": [
    "<h3 style=\"font-weight:bold; color:lime; padding-left: 50px\">Map Frame 1</h3>"
   ]
  },
  {
   "cell_type": "markdown",
   "metadata": {},
   "source": [
    "Add Crashes within 500ft of Major Roads map frame (map frame 1)"
   ]
  },
  {
   "cell_type": "code",
   "execution_count": null,
   "metadata": {},
   "outputs": [],
   "source": [
    "# Add the mapframe to the layout\n",
    "roadsMf1 = roadsLayout.createMapFrame(\n",
    "    geometry = lytDict[\"roads\"][\"mf1\"][\"geometry\"],\n",
    "    map = roadsMfList[0],\n",
    "    name = f\"{roadsLayout.name}{roadsMfNames[0].title()}\"\n",
    ")\n",
    "\n",
    "# Set up map frame properties\n",
    "roadsMf1.name = f\"{roadsLayout.name}{roadsMfNames[0].title()}\"\n",
    "roadsMf1.setAnchor(lytDict[\"roads\"][\"mf1\"][\"anchor\"])\n",
    "roadsMf1.elementWidth = lytDict[\"roads\"][\"mf1\"][\"width\"]\n",
    "roadsMf1.elementHeight = lytDict[\"roads\"][\"mf1\"][\"height\"]\n",
    "roadsMf1.elementPositionX = lytDict[\"roads\"][\"mf1\"][\"coordX\"]\n",
    "roadsMf1.elementPositionY = lytDict[\"roads\"][\"mf1\"][\"coordY\"]\n",
    "roadsMf1.elementRotation = 0\n",
    "roadsMf1.visible = True\n",
    "roadsMf1.map = roadsMfList[0]\n",
    "roadsMf1Cim = roadsMf1.getDefinition('V3')\n",
    "roadsMf1Cim.graphicFrame.borderSymbol.symbol.symbolLayers[0].enable = False\n",
    "roadsMf1.setDefinition(roadsMf1Cim)"
   ]
  },
  {
   "cell_type": "markdown",
   "metadata": {},
   "source": [
    "<h3 style=\"font-weight:bold; color:lime; padding-left: 50px\">Map Frame 2</h3>"
   ]
  },
  {
   "cell_type": "markdown",
   "metadata": {},
   "source": [
    "Add Crashes Hotspots 500ft of Major Roads map frame (map frame 2)"
   ]
  },
  {
   "cell_type": "code",
   "execution_count": null,
   "metadata": {},
   "outputs": [],
   "source": [
    "# Add the mapframe to the layout\n",
    "roadsMf2 = roadsLayout.createMapFrame(\n",
    "    geometry = lytDict[\"roads\"][\"mf2\"][\"geometry\"],\n",
    "    map = roadsMfList[1],\n",
    "    name = f\"{roadsLayout.name}{roadsMfNames[1].title()}\"\n",
    ")\n",
    "\n",
    "# Set up map frame properties\n",
    "roadsMf2.name = f\"{roadsLayout.name}{roadsMfNames[1].title()}\"\n",
    "roadsMf2.setAnchor(lytDict[\"roads\"][\"mf2\"][\"anchor\"])\n",
    "roadsMf2.elementWidth = lytDict[\"roads\"][\"mf2\"][\"width\"]\n",
    "roadsMf2.elementHeight = lytDict[\"roads\"][\"mf2\"][\"height\"]\n",
    "roadsMf2.elementPositionX = lytDict[\"roads\"][\"mf2\"][\"coordX\"]\n",
    "roadsMf2.elementPositionY = lytDict[\"roads\"][\"mf2\"][\"coordY\"]\n",
    "roadsMf2.elementRotation = 0\n",
    "roadsMf2.visible = True\n",
    "roadsMf2.map = roadsMfList[1]\n",
    "roadsMf2Cim = roadsMf2.getDefinition('V3')\n",
    "roadsMf2Cim.graphicFrame.borderSymbol.symbol.symbolLayers[0].enable = False\n",
    "roadsMf2.setDefinition(roadsMf2Cim)"
   ]
  },
  {
   "cell_type": "markdown",
   "metadata": {},
   "source": [
    "<h3 style=\"font-weight:bold; color:lime; padding-left: 50px\">Map Frame 3</h3>"
   ]
  },
  {
   "cell_type": "markdown",
   "metadata": {},
   "source": [
    "Add Major Road and Highway Buffers map frame (map frame 3)"
   ]
  },
  {
   "cell_type": "code",
   "execution_count": null,
   "metadata": {},
   "outputs": [],
   "source": [
    "# Add the mapframe to the layout\n",
    "roadsMf3 = roadsLayout.createMapFrame(\n",
    "    geometry = lytDict[\"roads\"][\"mf3\"][\"geometry\"],\n",
    "    map = roadsMfList[2],\n",
    "    name = f\"{roadsLayout.name}{roadsMfNames[2].title()}\"\n",
    ")\n",
    "\n",
    "# Set up map frame properties\n",
    "roadsMf3.name = f\"{roadsLayout.name}{roadsMfNames[2].title()}\"\n",
    "roadsMf3.setAnchor(lytDict[\"roads\"][\"mf3\"][\"anchor\"])\n",
    "roadsMf3.elementWidth = lytDict[\"roads\"][\"mf3\"][\"width\"]\n",
    "roadsMf3.elementHeight = lytDict[\"roads\"][\"mf3\"][\"height\"]\n",
    "roadsMf3.elementPositionX = lytDict[\"roads\"][\"mf3\"][\"coordX\"]\n",
    "roadsMf3.elementPositionY = lytDict[\"roads\"][\"mf3\"][\"coordY\"]\n",
    "roadsMf3.elementRotation = 0\n",
    "roadsMf3.visible = True\n",
    "roadsMf3.map = roadsMfList[2]\n",
    "roadsMf3Cim = roadsMf3.getDefinition('V3')\n",
    "roadsMf3Cim.graphicFrame.borderSymbol.symbol.symbolLayers[0].enable = False\n",
    "roadsMf3.setDefinition(roadsMf3Cim)"
   ]
  },
  {
   "cell_type": "markdown",
   "metadata": {},
   "source": [
    "<h3 style=\"font-weight:bold; color:lime; padding-left: 50px\">Map Frame 4</h3>"
   ]
  },
  {
   "cell_type": "markdown",
   "metadata": {},
   "source": [
    "Add Major Road Segments (1,000ft along lines) map frame (map frame 4)"
   ]
  },
  {
   "cell_type": "code",
   "execution_count": null,
   "metadata": {},
   "outputs": [],
   "source": [
    "# Add the mapframe to the layout\n",
    "roadsMf4 = roadsLayout.createMapFrame(\n",
    "    geometry = lytDict[\"roads\"][\"mf4\"][\"geometry\"],\n",
    "    map = roadsMfList[3],\n",
    "    name = f\"{roadsLayout.name}{roadsMfNames[3].title()}\"\n",
    ")\n",
    "\n",
    "# Set up map frame properties\n",
    "roadsMf4.name = f\"{roadsLayout.name}{roadsMfNames[3].title()}\"\n",
    "roadsMf4.setAnchor(lytDict[\"roads\"][\"mf4\"][\"anchor\"])\n",
    "roadsMf4.elementWidth = lytDict[\"roads\"][\"mf4\"][\"width\"]\n",
    "roadsMf4.elementHeight = lytDict[\"roads\"][\"mf4\"][\"height\"]\n",
    "roadsMf4.elementPositionX = lytDict[\"roads\"][\"mf4\"][\"coordX\"]\n",
    "roadsMf4.elementPositionY = lytDict[\"roads\"][\"mf4\"][\"coordY\"]\n",
    "roadsMf4.elementRotation = 0\n",
    "roadsMf4.visible = True\n",
    "roadsMf4.map = roadsMfList[3]\n",
    "roadsMf4Cim = roadsMf4.getDefinition('V3')\n",
    "roadsMf4Cim.graphicFrame.borderSymbol.symbol.symbolLayers[0].enable = False\n",
    "roadsMf4.setDefinition(roadsMf4Cim)"
   ]
  },
  {
   "cell_type": "markdown",
   "metadata": {},
   "source": [
    "<h3 style=\"font-weight:bold; color:lime; padding-left: 50px\">Adjust Map Frame Layer Visibility</h3>"
   ]
  },
  {
   "cell_type": "markdown",
   "metadata": {},
   "source": [
    "Set extent for the map frame"
   ]
  },
  {
   "cell_type": "code",
   "execution_count": null,
   "metadata": {},
   "outputs": [],
   "source": [
    "roadsMf1.camera.setExtent(prjExtent)\n",
    "roadsMf2.camera.setExtent(prjExtent)\n",
    "roadsMf3.camera.setExtent(prjExtent)\n",
    "roadsMf4.camera.setExtent(prjExtent)"
   ]
  },
  {
   "cell_type": "markdown",
   "metadata": {},
   "source": [
    "Adjust visibility of the layers"
   ]
  },
  {
   "cell_type": "code",
   "execution_count": null,
   "metadata": {},
   "outputs": [],
   "source": [
    "# Loop through map frames and turn on appropriate layers\n",
    "for mf in roadsLayout.listElements(\"MAPFRAME_ELEMENT\"):\n",
    "    for l in mf.map.listLayers():\n",
    "        if l.name in [\"OCSWITRS Crashes 500 Feet from Major Roads\", \"OCSWITRS Crashes Hot Spots 500 Feet from Major Roads\", \"OCSWITRS Major Roads Buffers Summary\", \"OCSWITRS Major Roads Split Buffer Summary\", \"OCSWITRS Boundaries\", \"Light Gray Base\"]:\n",
    "            l.visible = True\n",
    "            l.transparency = 0\n",
    "        else:\n",
    "            l.visible = False"
   ]
  },
  {
   "cell_type": "markdown",
   "metadata": {},
   "source": [
    "<h2 style=\"font-weight:bold; color:dodgerblue; border-bottom: 1px solid dodgerblue; padding-left: 25px\">6.3. Add North Arrow</h2>"
   ]
  },
  {
   "cell_type": "markdown",
   "metadata": {},
   "source": [
    "Adding north arrow"
   ]
  },
  {
   "cell_type": "code",
   "execution_count": null,
   "metadata": {},
   "outputs": [],
   "source": [
    "# Add the North Arrow to the layout\n",
    "roadsNa = roadsLayout.createMapSurroundElement(\n",
    "    geometry = lytDict[\"roads\"][\"na\"][\"geometry\"],\n",
    "    mapsurround_type = \"NORTH_ARROW\",\n",
    "    mapframe = roadsMf1,\n",
    "    style_item = aprx.listStyleItems(\"ArcGIS 2D\", \"North_Arrow\", \"ArcGIS North 1\")[0],\n",
    "    name = \"na\"\n",
    ")"
   ]
  },
  {
   "cell_type": "markdown",
   "metadata": {},
   "source": [
    "Set north arrow properties"
   ]
  },
  {
   "cell_type": "code",
   "execution_count": null,
   "metadata": {},
   "outputs": [],
   "source": [
    "# Set up north arrow properties\n",
    "roadsNa.name = \"na\"\n",
    "roadsNa.setAnchor(lytDict[\"roads\"][\"na\"][\"anchor\"])\n",
    "roadsNa.elementWidth = lytDict[\"roads\"][\"na\"][\"width\"]\n",
    "roadsNa.elementHeight = lytDict[\"roads\"][\"na\"][\"height\"]\n",
    "roadsNa.elementPositionX = lytDict[\"roads\"][\"na\"][\"coordX\"]\n",
    "roadsNa.elementPositionY = lytDict[\"roads\"][\"na\"][\"coordY\"]\n",
    "roadsNa.elementRotation = 0\n",
    "roadsNa.visible = True\n",
    "roadsNaCim = roadsNa.getDefinition(\"V3\")"
   ]
  },
  {
   "cell_type": "markdown",
   "metadata": {},
   "source": [
    "<h2 style=\"font-weight:bold; color:dodgerblue; border-bottom: 1px solid dodgerblue; padding-left: 25px\">6.4. Add Scale Bar</h2>"
   ]
  },
  {
   "cell_type": "markdown",
   "metadata": {},
   "source": [
    "Adding scale bar"
   ]
  },
  {
   "cell_type": "code",
   "execution_count": null,
   "metadata": {},
   "outputs": [],
   "source": [
    "# Add the Scale Bar to the layout\n",
    "roadsSb = roadsLayout.createMapSurroundElement(\n",
    "    geometry = lytDict[\"roads\"][\"sb\"][\"geometry\"],\n",
    "    mapsurround_type = \"SCALE_BAR\",\n",
    "    mapframe = roadsMf1,\n",
    "    style_item = aprx.listStyleItems(\"ArcGIS 2D\", \"SCALE_BAR\", \"Scale Line 1\")[0],\n",
    "    name = \"sb\"\n",
    ")"
   ]
  },
  {
   "cell_type": "markdown",
   "metadata": {},
   "source": [
    "Set scale bar properties"
   ]
  },
  {
   "cell_type": "code",
   "execution_count": null,
   "metadata": {},
   "outputs": [],
   "source": [
    "# Set up scale bar properties\n",
    "roadsSb.name = \"sb\"\n",
    "roadsSb.setAnchor(lytDict[\"roads\"][\"sb\"][\"anchor\"])\n",
    "roadsSb.elementWidth = lytDict[\"roads\"][\"sb\"][\"width\"]\n",
    "roadsSb.elementHeight = lytDict[\"roads\"][\"sb\"][\"height\"]\n",
    "roadsSb.elementPositionX = lytDict[\"roads\"][\"sb\"][\"coordX\"]\n",
    "roadsSb.elementPositionY = lytDict[\"roads\"][\"sb\"][\"coordY\"]\n",
    "roadsSb.elementRotation = 0\n",
    "roadsSb.visible = True\n",
    "roadsSbCim = roadsSb.getDefinition(\"V3\")\n",
    "roadsSbCim.labelSymbol.symbol.height = 14\n",
    "roadsSb.setDefinition(roadsSbCim)"
   ]
  },
  {
   "cell_type": "markdown",
   "metadata": {},
   "source": [
    "<h2 style=\"font-weight:bold; color:dodgerblue; border-bottom: 1px solid dodgerblue; padding-left: 25px\">6.5. Add Dynamic Text (Service Layer Credits)</h2>"
   ]
  },
  {
   "cell_type": "markdown",
   "metadata": {},
   "source": [
    "Add dynamic text element for the service layer credits"
   ]
  },
  {
   "cell_type": "code",
   "execution_count": null,
   "metadata": {},
   "outputs": [],
   "source": [
    "if roadsLayout.listElements(\"TEXT_ELEMENT\", \"cr\"):\n",
    "    roadsLayout.deleteElement(\"cr\")\n",
    "\n",
    "# Add the credits text to the layout\n",
    "roadsCr = aprx.createTextElement(\n",
    "    container = roadsLayout,\n",
    "    geometry = lytDict[\"roads\"][\"cr\"][\"geometry\"],\n",
    "    text_size = 6,\n",
    "    font_family_name = \"Inter 9pt Regular\",\n",
    "    style_item = None,\n",
    "    name = \"cr\",\n",
    "    text_type = \"POINT\",\n",
    "    text = \"<dyn type='layout' name='roads' property='serviceLayerCredits'/>\"\n",
    ")"
   ]
  },
  {
   "cell_type": "markdown",
   "metadata": {},
   "source": [
    "Set dynamic text properties"
   ]
  },
  {
   "cell_type": "code",
   "execution_count": null,
   "metadata": {},
   "outputs": [],
   "source": [
    "# Set up credits text properties\n",
    "roadsCr.name = \"cr\"\n",
    "roadsCr.setAnchor(lytDict[\"roads\"][\"cr\"][\"anchor\"])\n",
    "roadsCr.elementPositionX = 0\n",
    "roadsCr.elementPositionY = 0\n",
    "roadsCr.elementRotation = 0\n",
    "roadsCr.visible = False\n",
    "roadsCrCim = roadsCr.getDefinition(\"V3\")"
   ]
  },
  {
   "cell_type": "markdown",
   "metadata": {},
   "source": [
    "<h2 style=\"font-weight:bold; color:dodgerblue; border-bottom: 1px solid dodgerblue; padding-left: 25px\">6.6. Add New Legends</h2>"
   ]
  },
  {
   "cell_type": "markdown",
   "metadata": {},
   "source": [
    "<h3 style=\"font-weight:bold; color:lime; padding-left: 50px\">Remove Old Legends</h3>"
   ]
  },
  {
   "cell_type": "code",
   "execution_count": null,
   "metadata": {},
   "outputs": [],
   "source": [
    "# Remove all old legends from the layout\n",
    "for el in roadsLayout.listElements():\n",
    "    if el.type == \"LEGEND_ELEMENT\":\n",
    "        print(f\"Deleting legend: {el.name}\")\n",
    "        roadsLayout.deleteElement(el)"
   ]
  },
  {
   "cell_type": "markdown",
   "metadata": {},
   "source": [
    "<h3 style=\"font-weight:bold; color:lime; padding-left: 50px\">Legend 1: Road Crashes Legend</h3>"
   ]
  },
  {
   "cell_type": "markdown",
   "metadata": {},
   "source": [
    "Adding Road Crashes Legend (legend 1) to the layout"
   ]
  },
  {
   "cell_type": "code",
   "execution_count": null,
   "metadata": {},
   "outputs": [],
   "source": [
    "# Add the legend to the layout\n",
    "roadsLg1 = roadsLayout.createMapSurroundElement(\n",
    "    geometry = lytDict[\"roads\"][\"lg1\"][\"geometry\"],\n",
    "    mapsurround_type = \"LEGEND\",\n",
    "    mapframe = roadsMf1,\n",
    "    name = \"lg1\"\n",
    ")"
   ]
  },
  {
   "cell_type": "markdown",
   "metadata": {},
   "source": [
    "Set road crashes legend properties"
   ]
  },
  {
   "cell_type": "code",
   "execution_count": null,
   "metadata": {},
   "outputs": [],
   "source": [
    "# Obtain the CIM object of the legend\n",
    "roadsLg1Cim = roadsLg1.getDefinition(\"V3\")\n",
    "\n",
    "# Disable the legend title\n",
    "roadsLg1Cim.showTitle = False\n",
    "\n",
    "# Adjust fitting of the legend frame\n",
    "roadsLg1Cim.fittingStrategy = \"AdjustFrame\"\n",
    "\n",
    "# Turn on the roads layer, and turn off the rest of the layers\n",
    "for i in roadsLg1Cim.items:\n",
    "    if i.name == \"OCSWITRS Crashes 500 Feet from Major Roads\":\n",
    "        i.isVisible = True\n",
    "        i.showLayerName = False\n",
    "        i.autoVisibility = True\n",
    "        i.keepTogetherOption = \"Items\"\n",
    "        i.scaleToPatch = False\n",
    "        i.headingSymbol.symbol.height = 16\n",
    "        i.labelSymbol.symbol.height = 14\n",
    "    else:\n",
    "        i.isVisible = False\n",
    "\n",
    "# Update the legend CIM definitions\n",
    "roadsLg1.setDefinition(roadsLg1Cim)"
   ]
  },
  {
   "cell_type": "markdown",
   "metadata": {},
   "source": [
    "Adjust overall legend properties"
   ]
  },
  {
   "cell_type": "code",
   "execution_count": null,
   "metadata": {},
   "outputs": [],
   "source": [
    "# Set up legend properties\n",
    "roadsLg1.name = \"lg1\"\n",
    "roadsLg1.setAnchor(lytDict[\"roads\"][\"lg1\"][\"anchor\"])\n",
    "roadsLg1.elementPositionX = lytDict[\"roads\"][\"lg1\"][\"coordX\"]\n",
    "roadsLg1.elementPositionY = lytDict[\"roads\"][\"lg1\"][\"coordY\"]\n",
    "roadsLg1.elementRotation = 0\n",
    "roadsLg1.visible = True\n",
    "roadsLg1.mapFrame = roadsMf1\n",
    "roadsLg1Cim = roadsLg1.getDefinition(\"V3\")"
   ]
  },
  {
   "cell_type": "markdown",
   "metadata": {},
   "source": [
    "<h3 style=\"font-weight:bold; color:lime; padding-left: 50px\">Legend 2: Road Hotspots Legend</h3>"
   ]
  },
  {
   "cell_type": "markdown",
   "metadata": {},
   "source": [
    "Adding Road Hotspots Legend (legend 2) to the layout"
   ]
  },
  {
   "cell_type": "code",
   "execution_count": null,
   "metadata": {},
   "outputs": [],
   "source": [
    "# Add the legend to the layout\n",
    "roadsLg2 = roadsLayout.createMapSurroundElement(\n",
    "    geometry = lytDict[\"roads\"][\"lg2\"][\"geometry\"],\n",
    "    mapsurround_type = \"LEGEND\",\n",
    "    mapframe = roadsMf2,\n",
    "    name = \"lg2\"\n",
    ")"
   ]
  },
  {
   "cell_type": "markdown",
   "metadata": {},
   "source": [
    "Set road hotspots legend properties"
   ]
  },
  {
   "cell_type": "code",
   "execution_count": null,
   "metadata": {},
   "outputs": [],
   "source": [
    "# Obtain the CIM object of the legend\n",
    "roadsLg2Cim = roadsLg2.getDefinition(\"V3\")\n",
    "\n",
    "# Disable the legend title\n",
    "roadsLg2Cim.showTitle = False\n",
    "\n",
    "# Adjust fitting of the legend frame\n",
    "roadsLg2Cim.fittingStrategy = \"AdjustFrame\"\n",
    "\n",
    "# Turn on the roads layer, and turn off the rest of the layers\n",
    "for i in roadsLg2Cim.items:\n",
    "    if i.name == \"OCSWITRS Crashes Hot Spots 500 Feet from Major Roads\":\n",
    "        i.isVisible = True\n",
    "        i.showLayerName = False\n",
    "        i.autoVisibility = True\n",
    "        i.keepTogetherOption = \"Items\"\n",
    "        i.scaleToPatch = False\n",
    "        i.headingSymbol.symbol.height = 16\n",
    "        i.labelSymbol.symbol.height = 14\n",
    "    else:\n",
    "        i.isVisible = False\n",
    "\n",
    "# Update the legend CIM definitions\n",
    "roadsLg2.setDefinition(roadsLg2Cim)"
   ]
  },
  {
   "cell_type": "markdown",
   "metadata": {},
   "source": [
    "Adjust overall legend properties"
   ]
  },
  {
   "cell_type": "code",
   "execution_count": null,
   "metadata": {},
   "outputs": [],
   "source": [
    "# Set up legend properties\n",
    "roadsLg2.name = \"lg2\"\n",
    "roadsLg2.setAnchor(lytDict[\"roads\"][\"lg2\"][\"anchor\"])\n",
    "roadsLg2.elementPositionX = lytDict[\"roads\"][\"lg2\"][\"coordX\"]\n",
    "roadsLg2.elementPositionY = lytDict[\"roads\"][\"lg2\"][\"coordY\"]\n",
    "roadsLg2.elementRotation = 0\n",
    "roadsLg2.visible = True\n",
    "roadsLg2.mapFrame = roadsMf2\n",
    "roadsLg2Cim = roadsLg2.getDefinition(\"V3\")"
   ]
  },
  {
   "cell_type": "markdown",
   "metadata": {},
   "source": [
    "<h3 style=\"font-weight:bold; color:lime; padding-left: 50px\">Legend 3: Road Buffers Legend</h3>"
   ]
  },
  {
   "cell_type": "markdown",
   "metadata": {},
   "source": [
    "Adding Road Buffers Legend (legend 3) to the layout"
   ]
  },
  {
   "cell_type": "code",
   "execution_count": null,
   "metadata": {},
   "outputs": [],
   "source": [
    "# Add the legend to the layout\n",
    "roadsLg3 = roadsLayout.createMapSurroundElement(\n",
    "    geometry = lytDict[\"roads\"][\"lg3\"][\"geometry\"],\n",
    "    mapsurround_type = \"LEGEND\",\n",
    "    mapframe = roadsMf3,\n",
    "    name = \"lg3\"\n",
    ")"
   ]
  },
  {
   "cell_type": "markdown",
   "metadata": {},
   "source": [
    "Set road buffers legend properties"
   ]
  },
  {
   "cell_type": "code",
   "execution_count": null,
   "metadata": {},
   "outputs": [],
   "source": [
    "# Obtain the CIM object of the legend\n",
    "roadsLg3Cim = roadsLg3.getDefinition(\"V3\")\n",
    "\n",
    "# Disable the legend title\n",
    "roadsLg3Cim.showTitle = False\n",
    "\n",
    "# Adjust fitting of the legend frame\n",
    "roadsLg3Cim.fittingStrategy = \"AdjustFrame\"\n",
    "\n",
    "# Turn on the roads layer, and turn off the rest of the layers\n",
    "for i in roadsLg3Cim.items:\n",
    "    if i.name == \"OCSWITRS Major Roads Buffers Summary\":\n",
    "        i.isVisible = True\n",
    "        i.showLayerName = False\n",
    "        i.autoVisibility = True\n",
    "        i.keepTogetherOption = \"Items\"\n",
    "        i.scaleToPatch = False\n",
    "        i.headingSymbol.symbol.height = 16\n",
    "        i.labelSymbol.symbol.height = 14\n",
    "    else:\n",
    "        i.isVisible = False\n",
    "\n",
    "# Update the legend CIM definitions\n",
    "roadsLg3.setDefinition(roadsLg3Cim)"
   ]
  },
  {
   "cell_type": "markdown",
   "metadata": {},
   "source": [
    "Adjust overall legend properties"
   ]
  },
  {
   "cell_type": "code",
   "execution_count": null,
   "metadata": {},
   "outputs": [],
   "source": [
    "# Set up legend properties\n",
    "roadsLg3.name = \"lg3\"\n",
    "roadsLg3.setAnchor(lytDict[\"roads\"][\"lg3\"][\"anchor\"])\n",
    "roadsLg3.elementPositionX = lytDict[\"roads\"][\"lg3\"][\"coordX\"]\n",
    "roadsLg3.elementPositionY = lytDict[\"roads\"][\"lg3\"][\"coordY\"]\n",
    "roadsLg3.elementRotation = 0\n",
    "roadsLg3.visible = True\n",
    "roadsLg3.mapFrame = roadsMf3\n",
    "roadsLg3Cim = roadsLg3.getDefinition(\"V3\")"
   ]
  },
  {
   "cell_type": "markdown",
   "metadata": {},
   "source": [
    "<h3 style=\"font-weight:bold; color:lime; padding-left: 50px\">Legend 4: Road Segments Legend</h3>"
   ]
  },
  {
   "cell_type": "markdown",
   "metadata": {},
   "source": [
    "Adding Road Segments Legend (legend 4) to the layout"
   ]
  },
  {
   "cell_type": "code",
   "execution_count": null,
   "metadata": {},
   "outputs": [],
   "source": [
    "# Add the legend to the layout\n",
    "roadsLg4 = roadsLayout.createMapSurroundElement(\n",
    "    geometry = lytDict[\"roads\"][\"lg4\"][\"geometry\"],\n",
    "    mapsurround_type = \"LEGEND\",\n",
    "    mapframe = roadsMf4,\n",
    "    name = \"lg4\"\n",
    ")"
   ]
  },
  {
   "cell_type": "markdown",
   "metadata": {},
   "source": [
    "Set road segments legend properties"
   ]
  },
  {
   "cell_type": "code",
   "execution_count": null,
   "metadata": {},
   "outputs": [],
   "source": [
    "# Obtain the CIM object of the legend\n",
    "roadsLg4Cim = roadsLg4.getDefinition(\"V3\")\n",
    "\n",
    "# Disable the legend title\n",
    "roadsLg4Cim.showTitle = False\n",
    "\n",
    "# Adjust fitting of the legend frame\n",
    "roadsLg4Cim.fittingStrategy = \"AdjustFrame\"\n",
    "\n",
    "# Turn on the roads layer, and turn off the rest of the layers\n",
    "for i in roadsLg4Cim.items:\n",
    "    if i.name == \"OCSWITRS Major Roads Split Buffer Summary\":\n",
    "        i.isVisible = True\n",
    "        i.showLayerName = False\n",
    "        i.autoVisibility = True\n",
    "        i.keepTogetherOption = \"Items\"\n",
    "        i.scaleToPatch = False\n",
    "        i.headingSymbol.symbol.height = 16\n",
    "        i.labelSymbol.symbol.height = 14\n",
    "    else:\n",
    "        i.isVisible = False\n",
    "\n",
    "# Update the legend CIM definitions\n",
    "roadsLg4.setDefinition(roadsLg4Cim)"
   ]
  },
  {
   "cell_type": "markdown",
   "metadata": {},
   "source": [
    "Adjust overall legend properties"
   ]
  },
  {
   "cell_type": "code",
   "execution_count": null,
   "metadata": {},
   "outputs": [],
   "source": [
    "# Set up legend properties\n",
    "roadsLg4.name = \"lg4\"\n",
    "roadsLg4.setAnchor(lytDict[\"roads\"][\"lg4\"][\"anchor\"])\n",
    "roadsLg4.elementPositionX = lytDict[\"roads\"][\"lg4\"][\"coordX\"]\n",
    "roadsLg4.elementPositionY = lytDict[\"roads\"][\"lg4\"][\"coordY\"]\n",
    "roadsLg4.elementRotation = 0\n",
    "roadsLg4.visible = True\n",
    "roadsLg4.mapFrame = roadsMf4\n",
    "roadsLg4Cim = roadsLg4.getDefinition(\"V3\")"
   ]
  },
  {
   "cell_type": "markdown",
   "metadata": {},
   "source": [
    "<h2 style=\"font-weight:bold; color:dodgerblue; border-bottom: 1px solid dodgerblue; padding-left: 25px\">6.7. Add Titles for Map Frames</h2>"
   ]
  },
  {
   "cell_type": "markdown",
   "metadata": {},
   "source": [
    "<h3 style=\"font-weight:bold; color:lime; padding-left: 50px\">Title 1</h3>"
   ]
  },
  {
   "cell_type": "markdown",
   "metadata": {},
   "source": [
    "Add title for for the crashes within 500ft of major roads map frame (title 1)"
   ]
  },
  {
   "cell_type": "code",
   "execution_count": null,
   "metadata": {},
   "outputs": [],
   "source": [
    "# Check if the fhsRoads500ft title already exist and if it is, delete it\n",
    "if roadsLayout.listElements(\"TEXT_ELEMENT\", \"t1\"):\n",
    "    roadsLayout.deleteElement(\"t1\")\n",
    "\n",
    "# Add the title to the layout\n",
    "roadsT1 = aprx.createTextElement(\n",
    "    container = roadsLayout,\n",
    "    geometry = lytDict[\"roads\"][\"t1\"][\"geometry\"],\n",
    "    text_size = 20,\n",
    "    font_family_name = \"Inter 18pt Medium\",\n",
    "    style_item = None,\n",
    "    name = \"t1\",\n",
    "    text_type = \"POINT\",\n",
    "    text = f\"(a) Crashes (500ft from Major Roads)\"\n",
    ")"
   ]
  },
  {
   "cell_type": "markdown",
   "metadata": {},
   "source": [
    "Add title properties"
   ]
  },
  {
   "cell_type": "code",
   "execution_count": null,
   "metadata": {},
   "outputs": [],
   "source": [
    "# Set up title properties\n",
    "roadsT1.name = \"t1\"\n",
    "roadsT1.setAnchor(lytDict[\"roads\"][\"t1\"][\"anchor\"])\n",
    "roadsT1.elementPositionX = lytDict[\"roads\"][\"t1\"][\"coordX\"]\n",
    "roadsT1.elementPositionY = lytDict[\"roads\"][\"t1\"][\"coordY\"]\n",
    "roadsT1.elementRotation = 0\n",
    "roadsT1.visible = True\n",
    "roadsT1.text = f\"(a) Crashes (500ft from Major Roads)\"\n",
    "roadsT1.textSize = 20\n",
    "roadsT1Cim = roadsT1.getDefinition(\"V3\")"
   ]
  },
  {
   "cell_type": "markdown",
   "metadata": {},
   "source": [
    "<h3 style=\"font-weight:bold; color:lime; padding-left: 50px\">Title 2</h3>"
   ]
  },
  {
   "cell_type": "markdown",
   "metadata": {},
   "source": [
    "Add title for the OCSWITRS Crashes Hot Spots 500 Feet from Major Roads map frame (title 2)"
   ]
  },
  {
   "cell_type": "code",
   "execution_count": null,
   "metadata": {},
   "outputs": [],
   "source": [
    "# Check if the fhsRoads500ft title already exist and if it is, delete it\n",
    "if roadsLayout.listElements(\"TEXT_ELEMENT\", \"t2\"):\n",
    "    roadsLayout.deleteElement(\"t2\")\n",
    "\n",
    "# Add the title to the layout\n",
    "roadsT2 = aprx.createTextElement(\n",
    "    container = roadsLayout,\n",
    "    geometry = lytDict[\"roads\"][\"t2\"][\"geometry\"],\n",
    "    text_size = 20,\n",
    "    font_family_name = \"Inter 18pt Medium\",\n",
    "    style_item = None,\n",
    "    name = \"t2\",\n",
    "    text_type = \"POINT\",\n",
    "    text = f\"(b) Crashes Hot Spots (500ft from Major Roads)\"\n",
    ")"
   ]
  },
  {
   "cell_type": "markdown",
   "metadata": {},
   "source": [
    "Add title properties"
   ]
  },
  {
   "cell_type": "code",
   "execution_count": null,
   "metadata": {},
   "outputs": [],
   "source": [
    "# Set up title properties\n",
    "roadsT2.name = \"t2\"\n",
    "roadsT2.setAnchor(lytDict[\"roads\"][\"t2\"][\"anchor\"])\n",
    "roadsT2.elementPositionX = lytDict[\"roads\"][\"t2\"][\"coordX\"]\n",
    "roadsT2.elementPositionY = lytDict[\"roads\"][\"t2\"][\"coordY\"]\n",
    "roadsT2.elementRotation = 0\n",
    "roadsT2.visible = True\n",
    "roadsT2.text = f\"(b) Crashes Hot Spots (500ft from Major Roads)\"\n",
    "roadsT2.textSize = 20\n",
    "roadsT2Cim = roadsT2.getDefinition(\"V3\")"
   ]
  },
  {
   "cell_type": "markdown",
   "metadata": {},
   "source": [
    "<h3 style=\"font-weight:bold; color:lime; padding-left: 50px\">Title 3</h3>"
   ]
  },
  {
   "cell_type": "markdown",
   "metadata": {},
   "source": [
    "Add title for the OCSWITRS Major Roads Buffers Summary map frame (title 3)"
   ]
  },
  {
   "cell_type": "code",
   "execution_count": null,
   "metadata": {},
   "outputs": [],
   "source": [
    "# Check if the fhsRoads500ft title already exist and if it is, delete it\n",
    "if roadsLayout.listElements(\"TEXT_ELEMENT\", \"t3\"):\n",
    "    roadsLayout.deleteElement(\"t3\")\n",
    "\n",
    "# Add the title to the layout\n",
    "roadsT3 = aprx.createTextElement(\n",
    "    container = roadsLayout,\n",
    "    geometry = lytDict[\"roads\"][\"t3\"][\"geometry\"],\n",
    "    text_size = 20,\n",
    "    font_family_name = \"Inter 18pt Medium\",\n",
    "    style_item = None,\n",
    "    name = \"t3\",\n",
    "    text_type = \"POINT\",\n",
    "    text = f\"(c) Major Roads Buffers\"\n",
    ")"
   ]
  },
  {
   "cell_type": "markdown",
   "metadata": {},
   "source": [
    "Add title properties"
   ]
  },
  {
   "cell_type": "code",
   "execution_count": null,
   "metadata": {},
   "outputs": [],
   "source": [
    "# Set up title properties\n",
    "roadsT3.name = \"t3\"\n",
    "roadsT3.setAnchor(lytDict[\"roads\"][\"t3\"][\"anchor\"])\n",
    "roadsT3.elementPositionX = lytDict[\"roads\"][\"t3\"][\"coordX\"]\n",
    "roadsT3.elementPositionY = lytDict[\"roads\"][\"t3\"][\"coordY\"]\n",
    "roadsT3.elementRotation = 0\n",
    "roadsT3.visible = True\n",
    "roadsT3.text = f\"(c) Major Roads Buffers\"\n",
    "roadsT3.textSize = 20\n",
    "roadsT3Cim = roadsT3.getDefinition(\"V3\")"
   ]
  },
  {
   "cell_type": "markdown",
   "metadata": {},
   "source": [
    "<h3 style=\"font-weight:bold; color:lime; padding-left: 50px\">Title 4</h3>"
   ]
  },
  {
   "cell_type": "markdown",
   "metadata": {},
   "source": [
    "Add title for the OCSWITRS Major Roads Split Buffer Summary map frame (title 4)"
   ]
  },
  {
   "cell_type": "code",
   "execution_count": null,
   "metadata": {},
   "outputs": [],
   "source": [
    "# Check if the fhsRoads500ft title already exist and if it is, delete it\n",
    "if roadsLayout.listElements(\"TEXT_ELEMENT\", \"t4\"):\n",
    "    roadsLayout.deleteElement(\"t4\")\n",
    "\n",
    "# Add the title to the layout\n",
    "roadsT4 = aprx.createTextElement(\n",
    "    container = roadsLayout,\n",
    "    geometry = lytDict[\"roads\"][\"t4\"][\"geometry\"],\n",
    "    text_size = 20,\n",
    "    font_family_name = \"Inter 18pt Medium\",\n",
    "    style_item = None,\n",
    "    name = \"t4\",\n",
    "    text_type = \"POINT\",\n",
    "    text = f\"(d) Major Road Segments (1,000ft length)\"\n",
    ")"
   ]
  },
  {
   "cell_type": "markdown",
   "metadata": {},
   "source": [
    "Add title properties"
   ]
  },
  {
   "cell_type": "code",
   "execution_count": null,
   "metadata": {},
   "outputs": [],
   "source": [
    "# Set up title properties\n",
    "roadsT4.name = \"t4\"\n",
    "roadsT4.setAnchor(lytDict[\"roads\"][\"t4\"][\"anchor\"])\n",
    "roadsT4.elementPositionX = lytDict[\"roads\"][\"t4\"][\"coordX\"]\n",
    "roadsT4.elementPositionY = lytDict[\"roads\"][\"t4\"][\"coordY\"]\n",
    "roadsT4.elementRotation = 0\n",
    "roadsT4.visible = True\n",
    "roadsT4.text = f\"(d) Major Road Segments (1,000ft length)\"\n",
    "roadsT4.textSize = 20\n",
    "roadsT4Cim = roadsT4.getDefinition(\"V3\")"
   ]
  },
  {
   "cell_type": "markdown",
   "metadata": {},
   "source": [
    "<h2 style=\"font-weight:bold; color:dodgerblue; border-bottom: 1px solid dodgerblue; padding-left: 25px\">6.8. Export Road Hotspots Layout</h2>"
   ]
  },
  {
   "cell_type": "markdown",
   "metadata": {},
   "source": [
    "Get roads layout CIM"
   ]
  },
  {
   "cell_type": "code",
   "execution_count": null,
   "metadata": {},
   "outputs": [],
   "source": [
    "roadsLayoutCim = roadsLayout.getDefinition(\"V3\")  # Roads layout CIM"
   ]
  },
  {
   "cell_type": "markdown",
   "metadata": {},
   "source": [
    "Export roads layout to disk"
   ]
  },
  {
   "cell_type": "code",
   "execution_count": null,
   "metadata": {},
   "outputs": [],
   "source": [
    "exportCim(\"layout\", roadsLayout, roadsLayout.name)"
   ]
  },
  {
   "cell_type": "markdown",
   "metadata": {},
   "source": [
    "Export layout image to the graphics project directory"
   ]
  },
  {
   "cell_type": "code",
   "execution_count": null,
   "metadata": {},
   "outputs": [],
   "source": [
    "# Export roads layout to PNG (Figure 13)\n",
    "roadsLayout.exportToPNG(\n",
    "    out_png = os.path.join(graphicsFolder, \"Fig13-RoadsLayout.png\"),\n",
    "    resolution = 300,\n",
    "    color_mode = \"24-BIT_TRUE_COLOR\",\n",
    "    transparent_background = False,\n",
    "    embed_color_profile = False,\n",
    "    clip_to_elements = True\n",
    ")"
   ]
  },
  {
   "cell_type": "markdown",
   "metadata": {},
   "source": [
    "<h3 style=\"font-weight:bold; color:lime; padding-left: 50px\">Save Project</h3>"
   ]
  },
  {
   "cell_type": "code",
   "execution_count": null,
   "metadata": {},
   "outputs": [],
   "source": [
    "# Save the project\n",
    "aprx.save()"
   ]
  },
  {
   "cell_type": "markdown",
   "metadata": {},
   "source": [
    "<h1 style=\"font-weight:bold; color:orangered; border-bottom: 2px solid orangered\">7. Points Layout Processing</h1>"
   ]
  },
  {
   "cell_type": "markdown",
   "metadata": {},
   "source": [
    "<h2 style=\"font-weight:bold; color:dodgerblue; border-bottom: 1px solid dodgerblue; padding-left: 25px\">7.1. Layout View</h2>"
   ]
  },
  {
   "cell_type": "markdown",
   "metadata": {},
   "source": [
    "<h3 style=\"font-weight:bold; color:lime; padding-left: 50px\">Set Optimized Hotspots Layout View</h3>"
   ]
  },
  {
   "cell_type": "code",
   "execution_count": null,
   "metadata": {},
   "outputs": [],
   "source": [
    "# Close all previous views\n",
    "aprx.closeViews()\n",
    "\n",
    "# Open the points layout view\n",
    "pointsLayout.openView()\n",
    "\n",
    "# set the main layout as active view\n",
    "layout = aprx.activeView"
   ]
  },
  {
   "cell_type": "markdown",
   "metadata": {},
   "source": [
    "<h2 style=\"font-weight:bold; color:dodgerblue; border-bottom: 1px solid dodgerblue; padding-left: 25px\">7.2. Add Map Frames</h2>"
   ]
  },
  {
   "cell_type": "markdown",
   "metadata": {},
   "source": [
    "<h3 style=\"font-weight:bold; color:lime; padding-left: 50px\">Remove Old Map Frames</h3>"
   ]
  },
  {
   "cell_type": "markdown",
   "metadata": {},
   "source": [
    "Delete all layout data frames and elements"
   ]
  },
  {
   "cell_type": "code",
   "execution_count": null,
   "metadata": {},
   "outputs": [],
   "source": [
    "# Delete all map frames from the layout\n",
    "for el in pointsLayout.listElements():\n",
    "    if el.type == \"MAPFRAME_ELEMENT\":\n",
    "        print(f\"Deleting map frame: {el.name}\")\n",
    "        pointsLayout.deleteElement(el)"
   ]
  },
  {
   "cell_type": "markdown",
   "metadata": {},
   "source": [
    "<h3 style=\"font-weight:bold; color:lime; padding-left: 50px\">Map Frame Definitions</h3>"
   ]
  },
  {
   "cell_type": "markdown",
   "metadata": {},
   "source": [
    "Map frames definitions and calculations"
   ]
  },
  {
   "cell_type": "code",
   "execution_count": null,
   "metadata": {},
   "outputs": [],
   "source": [
    "# List of maps to be added as map frames to the layout\n",
    "pointsMfList = [mapPointFhs, mapPointOhs]\n",
    "\n",
    "# Number of map frames\n",
    "pointsMfCount = len(pointsMfList)\n",
    "\n",
    "# Number of rows and columns for the map frames\n",
    "pointsMfCols = 2\n",
    "pointsMfRows = math.ceil(pointsMfCount / pointsMfCols)\n",
    "\n",
    "# Map frame page dimensions\n",
    "pointsMfPageWidth = lytDict[\"points\"][\"pageWidth\"]\n",
    "pointsMfPageHeight = lytDict[\"points\"][\"pageHeight\"]\n",
    "\n",
    "# Map frame names\n",
    "pointsMfNames = [f\"mf{i}\" for i in range(1, pointsMfCount + 1)]"
   ]
  },
  {
   "cell_type": "markdown",
   "metadata": {},
   "source": [
    "<h3 style=\"font-weight:bold; color:lime; padding-left: 50px\">Map Frame 1</h3>"
   ]
  },
  {
   "cell_type": "markdown",
   "metadata": {},
   "source": [
    "Add Hotspot Points map frame (map frame 1)"
   ]
  },
  {
   "cell_type": "code",
   "execution_count": null,
   "metadata": {},
   "outputs": [],
   "source": [
    "# Add the mapframe to the layout\n",
    "pointsMf1 = pointsLayout.createMapFrame(\n",
    "    geometry = lytDict[\"points\"][\"mf1\"][\"geometry\"],\n",
    "    map = pointsMfList[0],\n",
    "    name = f\"{pointsLayout.name}{pointsMfNames[0].title()}\"\n",
    ")\n",
    "\n",
    "# Set up map frame properties\n",
    "pointsMf1.name = f\"{pointsLayout.name}{pointsMfNames[0].title()}\"\n",
    "pointsMf1.setAnchor(lytDict[\"points\"][\"mf1\"][\"anchor\"])\n",
    "pointsMf1.elementWidth = lytDict[\"points\"][\"mf1\"][\"width\"]\n",
    "pointsMf1.elementHeight = lytDict[\"points\"][\"mf1\"][\"height\"]\n",
    "pointsMf1.elementPositionX = lytDict[\"points\"][\"mf1\"][\"coordX\"]\n",
    "pointsMf1.elementPositionY = lytDict[\"points\"][\"mf1\"][\"coordY\"]\n",
    "pointsMf1.elementRotation = 0\n",
    "pointsMf1.visible = True\n",
    "pointsMf1.map = pointsMfList[0]\n",
    "pointsMf1Cim = pointsMf1.getDefinition('V3')\n",
    "pointsMf1Cim.graphicFrame.borderSymbol.symbol.symbolLayers[0].enable = False\n",
    "pointsMf1.setDefinition(pointsMf1Cim)"
   ]
  },
  {
   "cell_type": "markdown",
   "metadata": {},
   "source": [
    "<h3 style=\"font-weight:bold; color:lime; padding-left: 50px\">Map Frame 2</h3>"
   ]
  },
  {
   "cell_type": "markdown",
   "metadata": {},
   "source": [
    "Add Optimized Hotspot Points map frame (map frame 2)"
   ]
  },
  {
   "cell_type": "code",
   "execution_count": null,
   "metadata": {},
   "outputs": [],
   "source": [
    "# Add the mapframe to the layout\n",
    "pointsMf2 = pointsLayout.createMapFrame(\n",
    "    geometry = lytDict[\"points\"][\"mf2\"][\"geometry\"],\n",
    "    map = pointsMfList[1],\n",
    "    name = f\"{pointsLayout.name}{pointsMfNames[1].title()}\"\n",
    ")\n",
    "\n",
    "# Set up map frame properties\n",
    "pointsMf2.name = f\"{pointsLayout.name}{pointsMfNames[1].title()}\"\n",
    "pointsMf2.setAnchor(lytDict[\"points\"][\"mf2\"][\"anchor\"])\n",
    "pointsMf2.elementWidth = lytDict[\"points\"][\"mf2\"][\"width\"]\n",
    "pointsMf2.elementHeight = lytDict[\"points\"][\"mf2\"][\"height\"]\n",
    "pointsMf2.elementPositionX = lytDict[\"points\"][\"mf2\"][\"coordX\"]\n",
    "pointsMf2.elementPositionY = lytDict[\"points\"][\"mf2\"][\"coordY\"]\n",
    "pointsMf2.elementRotation = 0\n",
    "pointsMf2.visible = True\n",
    "pointsMf2.map = pointsMfList[1]\n",
    "pointsMf2Cim = pointsMf2.getDefinition('V3')\n",
    "pointsMf2Cim.graphicFrame.borderSymbol.symbol.symbolLayers[0].enable = False\n",
    "pointsMf2.setDefinition(pointsMf2Cim)"
   ]
  },
  {
   "cell_type": "markdown",
   "metadata": {},
   "source": [
    "<h3 style=\"font-weight:bold; color:lime; padding-left: 50px\">Adjust Map Frame Layer Visibility</h3>"
   ]
  },
  {
   "cell_type": "markdown",
   "metadata": {},
   "source": [
    "Set extent for the map frame"
   ]
  },
  {
   "cell_type": "code",
   "execution_count": null,
   "metadata": {},
   "outputs": [],
   "source": [
    "pointsMf1.camera.setExtent(prjExtent)\n",
    "pointsMf2.camera.setExtent(prjExtent)"
   ]
  },
  {
   "cell_type": "markdown",
   "metadata": {},
   "source": [
    "Adjust visibility of the layers"
   ]
  },
  {
   "cell_type": "code",
   "execution_count": null,
   "metadata": {},
   "outputs": [],
   "source": [
    "# Loop through map frames and turn on appropriate layers\n",
    "for mf in pointsLayout.listElements(\"MAPFRAME_ELEMENT\"):\n",
    "    for l in mf.map.listLayers():\n",
    "        if l.name in [\"OCSWITRS Crashes Hot Spots\", \"OCSWITRS Crashes Optimized Hot Spots\", \"OCSWITRS Roads\", \"OCSWITRS Boundaries\", \"Light Gray Base\"]:\n",
    "            l.visible = True\n",
    "            l.transparency = 0\n",
    "        else:\n",
    "            l.visible = False"
   ]
  },
  {
   "cell_type": "markdown",
   "metadata": {},
   "source": [
    "<h2 style=\"font-weight:bold; color:dodgerblue; border-bottom: 1px solid dodgerblue; padding-left: 25px\">7.3. Add North Arrow</h2>"
   ]
  },
  {
   "cell_type": "markdown",
   "metadata": {},
   "source": [
    "Adding north arrow"
   ]
  },
  {
   "cell_type": "code",
   "execution_count": null,
   "metadata": {},
   "outputs": [],
   "source": [
    "# Add the North Arrow to the layout\n",
    "pointsNa = pointsLayout.createMapSurroundElement(\n",
    "    geometry = lytDict[\"points\"][\"na\"][\"geometry\"],\n",
    "    mapsurround_type = \"NORTH_ARROW\",\n",
    "    mapframe = pointsMf1,\n",
    "    style_item = aprx.listStyleItems(\"ArcGIS 2D\", \"North_Arrow\", \"ArcGIS North 1\")[0],\n",
    "    name = \"na\"\n",
    ")"
   ]
  },
  {
   "cell_type": "markdown",
   "metadata": {},
   "source": [
    "Set north arrow properties"
   ]
  },
  {
   "cell_type": "code",
   "execution_count": null,
   "metadata": {},
   "outputs": [],
   "source": [
    "# Set up north arrow properties\n",
    "pointsNa.name = \"na\"\n",
    "pointsNa.setAnchor(lytDict[\"points\"][\"na\"][\"anchor\"])\n",
    "pointsNa.elementWidth = lytDict[\"points\"][\"na\"][\"width\"]\n",
    "pointsNa.elementHeight = lytDict[\"points\"][\"na\"][\"height\"]\n",
    "pointsNa.elementPositionX = lytDict[\"points\"][\"na\"][\"coordX\"]\n",
    "pointsNa.elementPositionY = lytDict[\"points\"][\"na\"][\"coordY\"]\n",
    "pointsNa.elementRotation = 0\n",
    "pointsNa.visible = True\n",
    "pointsNaCim = pointsNa.getDefinition(\"V3\")"
   ]
  },
  {
   "cell_type": "markdown",
   "metadata": {},
   "source": [
    "<h2 style=\"font-weight:bold; color:dodgerblue; border-bottom: 1px solid dodgerblue; padding-left: 25px\">7.4. Add Scale Bar</h2>"
   ]
  },
  {
   "cell_type": "markdown",
   "metadata": {},
   "source": [
    "Adding scale bar"
   ]
  },
  {
   "cell_type": "code",
   "execution_count": null,
   "metadata": {},
   "outputs": [],
   "source": [
    "# Add the Scale Bar to the layout\n",
    "pointsSb = pointsLayout.createMapSurroundElement(\n",
    "    geometry = lytDict[\"points\"][\"sb\"][\"geometry\"],\n",
    "    mapsurround_type = \"SCALE_BAR\",\n",
    "    mapframe = pointsMf1,\n",
    "    style_item = aprx.listStyleItems(\"ArcGIS 2D\", \"SCALE_BAR\", \"Scale Line 1\")[0],\n",
    "    name = \"sb\"\n",
    ")"
   ]
  },
  {
   "cell_type": "markdown",
   "metadata": {},
   "source": [
    "Add scale bar properties"
   ]
  },
  {
   "cell_type": "code",
   "execution_count": null,
   "metadata": {},
   "outputs": [],
   "source": [
    "# Set up scale bar properties\n",
    "pointsSb.name = \"sb\"\n",
    "pointsSb.setAnchor(lytDict[\"points\"][\"sb\"][\"anchor\"])\n",
    "pointsSb.elementWidth = lytDict[\"points\"][\"sb\"][\"width\"]\n",
    "pointsSb.elementHeight = lytDict[\"points\"][\"sb\"][\"height\"]\n",
    "pointsSb.elementPositionX = lytDict[\"points\"][\"sb\"][\"coordX\"]\n",
    "pointsSb.elementPositionY = lytDict[\"points\"][\"sb\"][\"coordY\"]\n",
    "pointsSb.elementRotation = 0\n",
    "pointsSb.visible = True\n",
    "pointsSbCim = pointsSb.getDefinition(\"V3\")\n",
    "pointsSbCim.labelSymbol.symbol.height = 14\n",
    "pointsSb.setDefinition(pointsSbCim)"
   ]
  },
  {
   "cell_type": "markdown",
   "metadata": {},
   "source": [
    "<h2 style=\"font-weight:bold; color:dodgerblue; border-bottom: 1px solid dodgerblue; padding-left: 25px\">7.5. Add Dynamic Text (Service Layer Credits)</h2>"
   ]
  },
  {
   "cell_type": "markdown",
   "metadata": {},
   "source": [
    "Add dynamic text element for the service layer credits"
   ]
  },
  {
   "cell_type": "code",
   "execution_count": null,
   "metadata": {},
   "outputs": [],
   "source": [
    "if pointsLayout.listElements(\"TEXT_ELEMENT\", \"cr\"):\n",
    "    pointsLayout.deleteElement(\"cr\")\n",
    "\n",
    "# Add the credits text to the layout\n",
    "pointsCr = aprx.createTextElement(\n",
    "    container = pointsLayout,\n",
    "    geometry = lytDict[\"points\"][\"cr\"][\"geometry\"],\n",
    "    text_size = 6,\n",
    "    font_family_name = \"Inter 9pt Regular\",\n",
    "    style_item = None,\n",
    "    name = \"cr\",\n",
    "    text_type = \"POINT\",\n",
    "    text = \"<dyn type='layout' name='points' property='serviceLayerCredits'/>\"\n",
    ")"
   ]
  },
  {
   "cell_type": "markdown",
   "metadata": {},
   "source": [
    "Set dynamic text properties"
   ]
  },
  {
   "cell_type": "code",
   "execution_count": null,
   "metadata": {},
   "outputs": [],
   "source": [
    "# Set up credits text properties\n",
    "pointsCr.name = \"cr\"\n",
    "pointsCr.setAnchor(lytDict[\"points\"][\"cr\"][\"anchor\"])\n",
    "pointsCr.elementPositionX = 0\n",
    "pointsCr.elementPositionY = 0\n",
    "pointsCr.elementRotation = 0\n",
    "pointsCr.visible = False\n",
    "pointsCrCim = pointsCr.getDefinition(\"V3\")"
   ]
  },
  {
   "cell_type": "markdown",
   "metadata": {},
   "source": [
    "<h2 style=\"font-weight:bold; color:dodgerblue; border-bottom: 1px solid dodgerblue; padding-left: 25px\">7.6. Add New Legends</h2>"
   ]
  },
  {
   "cell_type": "markdown",
   "metadata": {},
   "source": [
    "<h3 style=\"font-weight:bold; color:lime; padding-left: 50px\">Remove Old Legends</h3>"
   ]
  },
  {
   "cell_type": "code",
   "execution_count": null,
   "metadata": {},
   "outputs": [],
   "source": [
    "# Remove all old legends from the layout\n",
    "for el in pointsLayout.listElements():\n",
    "    if el.type == \"LEGEND_ELEMENT\":\n",
    "        print(f\"Deleting legend: {el.name}\")\n",
    "        pointsLayout.deleteElement(el)"
   ]
  },
  {
   "cell_type": "markdown",
   "metadata": {},
   "source": [
    "<h3 style=\"font-weight:bold; color:lime; padding-left: 50px\">Legend 1: Hotspots Points Legend</h3>"
   ]
  },
  {
   "cell_type": "markdown",
   "metadata": {},
   "source": [
    "Adding Hotspots Points Legend (legend 1) to the layout"
   ]
  },
  {
   "cell_type": "code",
   "execution_count": null,
   "metadata": {},
   "outputs": [],
   "source": [
    "# Add the legend to the layout\n",
    "pointsLg1 = pointsLayout.createMapSurroundElement(\n",
    "    geometry = lytDict[\"points\"][\"lg1\"][\"geometry\"],\n",
    "    mapsurround_type = \"LEGEND\",\n",
    "    mapframe = pointsMf1,\n",
    "    name = \"lg1\"\n",
    ")"
   ]
  },
  {
   "cell_type": "markdown",
   "metadata": {},
   "source": [
    "Set hotspots points legend properties"
   ]
  },
  {
   "cell_type": "code",
   "execution_count": null,
   "metadata": {},
   "outputs": [],
   "source": [
    "# Obtain the CIM object of the legend\n",
    "pointsLg1Cim = pointsLg1.getDefinition(\"V3\")\n",
    "\n",
    "# Disable the legend title\n",
    "pointsLg1Cim.showTitle = False\n",
    "\n",
    "# Adjust fitting of the legend frame\n",
    "pointsLg1Cim.fittingStrategy = \"AdjustFrame\"\n",
    "\n",
    "# Turn on the hotspots point layer, and turn off the rest of the layers\n",
    "for i in pointsLg1Cim.items:\n",
    "    if i.name == \"OCSWITRS Crashes Hot Spots\":\n",
    "        i.isVisible = True\n",
    "        i.showLayerName = False\n",
    "        i.autoVisibility = True\n",
    "        i.keepTogetherOption = \"Items\"\n",
    "        i.scaleToPatch = False\n",
    "        i.headingSymbol.symbol.height = 16\n",
    "        i.labelSymbol.symbol.height = 14\n",
    "    else:\n",
    "        i.isVisible = False\n",
    "\n",
    "# Update the legend CIM definitions\n",
    "pointsLg1.setDefinition(pointsLg1Cim)"
   ]
  },
  {
   "cell_type": "markdown",
   "metadata": {},
   "source": [
    "Adjust overall legend properties"
   ]
  },
  {
   "cell_type": "code",
   "execution_count": null,
   "metadata": {},
   "outputs": [],
   "source": [
    "# Set up legend properties\n",
    "pointsLg1.name = \"lg1\"\n",
    "pointsLg1.setAnchor(lytDict[\"points\"][\"lg1\"][\"anchor\"])\n",
    "pointsLg1.elementPositionX = lytDict[\"points\"][\"lg1\"][\"coordX\"]\n",
    "pointsLg1.elementPositionY = lytDict[\"points\"][\"lg1\"][\"coordY\"]\n",
    "pointsLg1.elementRotation = 0\n",
    "pointsLg1.visible = True\n",
    "pointsLg1.mapFrame = pointsMf1\n",
    "pointsLg1Cim = pointsLg1.getDefinition(\"V3\")"
   ]
  },
  {
   "cell_type": "markdown",
   "metadata": {},
   "source": [
    "<h3 style=\"font-weight:bold; color:lime; padding-left: 50px\">Legend 2: Optimized Hotspots Points Legend</h3>"
   ]
  },
  {
   "cell_type": "markdown",
   "metadata": {},
   "source": [
    "Adding Optimized Hotspots Points Legend (legend 2) to the layout"
   ]
  },
  {
   "cell_type": "code",
   "execution_count": null,
   "metadata": {},
   "outputs": [],
   "source": [
    "# Add the legend to the layout\n",
    "pointsLg2 = pointsLayout.createMapSurroundElement(\n",
    "    geometry = lytDict[\"points\"][\"lg2\"][\"geometry\"],\n",
    "    mapsurround_type = \"LEGEND\",\n",
    "    mapframe = pointsMf2,\n",
    "    name = \"lg2\"\n",
    ")"
   ]
  },
  {
   "cell_type": "markdown",
   "metadata": {},
   "source": [
    "Set optimized hotspots points legend properties"
   ]
  },
  {
   "cell_type": "code",
   "execution_count": null,
   "metadata": {},
   "outputs": [],
   "source": [
    "# Obtain the CIM object of the legend\n",
    "pointsLg2Cim = pointsLg2.getDefinition(\"V3\")\n",
    "\n",
    "# Disable the legend title\n",
    "pointsLg2Cim.showTitle = False\n",
    "\n",
    "# Adjust fitting of the legend frame\n",
    "pointsLg2Cim.fittingStrategy = \"AdjustFrame\"\n",
    "\n",
    "# Turn on the optimized hotspots point layer, and turn off the rest of the layers\n",
    "for i in pointsLg2Cim.items:\n",
    "    if i.name == \"OCSWITRS Crashes Optimized Hot Spots\":\n",
    "        i.isVisible = True\n",
    "        i.showLayerName = False\n",
    "        i.autoVisibility = True\n",
    "        i.keepTogetherOption = \"Items\"\n",
    "        i.scaleToPatch = False\n",
    "        i.headingSymbol.symbol.height = 16\n",
    "        i.labelSymbol.symbol.height = 14\n",
    "    else:\n",
    "        i.isVisible = False\n",
    "\n",
    "# Update the legend CIM definitions\n",
    "pointsLg2.setDefinition(pointsLg2Cim)"
   ]
  },
  {
   "cell_type": "markdown",
   "metadata": {},
   "source": [
    "Adjust overall legend properties"
   ]
  },
  {
   "cell_type": "code",
   "execution_count": null,
   "metadata": {},
   "outputs": [],
   "source": [
    "# Set up legend properties\n",
    "pointsLg2.name = \"lg2\"\n",
    "pointsLg2.setAnchor(lytDict[\"points\"][\"lg2\"][\"anchor\"])\n",
    "pointsLg2.elementPositionX = lytDict[\"points\"][\"lg2\"][\"coordX\"]\n",
    "pointsLg2.elementPositionY = lytDict[\"points\"][\"lg2\"][\"coordY\"]\n",
    "pointsLg2.elementRotation = 0\n",
    "pointsLg2.visible = True\n",
    "pointsLg2.mapFrame = pointsMf2\n",
    "pointsLg2Cim = pointsLg2.getDefinition(\"V3\")"
   ]
  },
  {
   "cell_type": "markdown",
   "metadata": {},
   "source": [
    "<h2 style=\"font-weight:bold; color:dodgerblue; border-bottom: 1px solid dodgerblue; padding-left: 25px\">7.7. Add Titles for Map Frames</h2>"
   ]
  },
  {
   "cell_type": "markdown",
   "metadata": {},
   "source": [
    "<h3 style=\"font-weight:bold; color:lime; padding-left: 50px\">Title 1</h3>"
   ]
  },
  {
   "cell_type": "markdown",
   "metadata": {},
   "source": [
    "Add title for for the hotspots points map frame (title 1)"
   ]
  },
  {
   "cell_type": "code",
   "execution_count": null,
   "metadata": {},
   "outputs": [],
   "source": [
    "# Check if the title already exist and if it is, delete it\n",
    "if pointsLayout.listElements(\"TEXT_ELEMENT\", \"t1\"):\n",
    "    pointsLayout.deleteElement(\"t1\")\n",
    "\n",
    "# Add the title to the layout\n",
    "pointsT1 = aprx.createTextElement(\n",
    "    container = pointsLayout,\n",
    "    geometry = lytDict[\"points\"][\"t1\"][\"geometry\"],\n",
    "    text_size = 20,\n",
    "    font_family_name = \"Inter 18pt Medium\",\n",
    "    style_item = None,\n",
    "    name = \"t1\",\n",
    "    text_type = \"POINT\",\n",
    "    text = f\"(a) Crashes Hot Spots\"\n",
    ")"
   ]
  },
  {
   "cell_type": "markdown",
   "metadata": {},
   "source": [
    "Add title properties"
   ]
  },
  {
   "cell_type": "code",
   "execution_count": null,
   "metadata": {},
   "outputs": [],
   "source": [
    "# Set up title properties\n",
    "pointsT1.name = \"t1\"\n",
    "pointsT1.setAnchor(lytDict[\"points\"][\"t1\"][\"anchor\"])\n",
    "pointsT1.elementPositionX = lytDict[\"points\"][\"t1\"][\"coordX\"]\n",
    "pointsT1.elementPositionY = lytDict[\"points\"][\"t1\"][\"coordY\"]\n",
    "pointsT1.elementRotation = 0\n",
    "pointsT1.visible = True\n",
    "pointsT1.text = f\"(a) Crashes Hot Spots\"\n",
    "pointsT1.textSize = 20\n",
    "pointsT1Cim = pointsT1.getDefinition(\"V3\")"
   ]
  },
  {
   "cell_type": "markdown",
   "metadata": {},
   "source": [
    "<h3 style=\"font-weight:bold; color:lime; padding-left: 50px\">Title 2</h3>"
   ]
  },
  {
   "cell_type": "markdown",
   "metadata": {},
   "source": [
    "Add title for for the optimized hotspots points map frame (title 2)"
   ]
  },
  {
   "cell_type": "code",
   "execution_count": null,
   "metadata": {},
   "outputs": [],
   "source": [
    "# Check if the title already exist and if it is, delete it\n",
    "if pointsLayout.listElements(\"TEXT_ELEMENT\", \"t2\"):\n",
    "    pointsLayout.deleteElement(\"t2\")\n",
    "\n",
    "# Add the title to the layout\n",
    "pointsT2 = aprx.createTextElement(\n",
    "    container = pointsLayout,\n",
    "    geometry = lytDict[\"points\"][\"t2\"][\"geometry\"],\n",
    "    text_size = 20,\n",
    "    font_family_name = \"Inter 18pt Medium\",\n",
    "    style_item = None,\n",
    "    name = \"t2\",\n",
    "    text_type = \"POINT\",\n",
    "    text = f\"(b) Optimized Crashes Hot Spots\"\n",
    ")"
   ]
  },
  {
   "cell_type": "markdown",
   "metadata": {},
   "source": [
    "Add title properties"
   ]
  },
  {
   "cell_type": "code",
   "execution_count": null,
   "metadata": {},
   "outputs": [],
   "source": [
    "# Set up title properties\n",
    "pointsT2.name = \"t2\"\n",
    "pointsT2.setAnchor(lytDict[\"points\"][\"t2\"][\"anchor\"])\n",
    "pointsT2.elementPositionX = lytDict[\"points\"][\"t2\"][\"coordX\"]\n",
    "pointsT2.elementPositionY = lytDict[\"points\"][\"t2\"][\"coordY\"]\n",
    "pointsT2.elementRotation = 0\n",
    "pointsT2.visible = True\n",
    "pointsT2.text = f\"(b) Optimized Crashes Hot Spots\"\n",
    "pointsT2.textSize = 20\n",
    "pointsT2Cim = pointsT2.getDefinition(\"V3\")"
   ]
  },
  {
   "cell_type": "markdown",
   "metadata": {},
   "source": [
    "<h2 style=\"font-weight:bold; color:dodgerblue; border-bottom: 1px solid dodgerblue; padding-left: 25px\">7.8. Export Points Hotspots Layout</h2>"
   ]
  },
  {
   "cell_type": "markdown",
   "metadata": {},
   "source": [
    "Get points layout CIM"
   ]
  },
  {
   "cell_type": "code",
   "execution_count": null,
   "metadata": {},
   "outputs": [],
   "source": [
    "pointsLayoutCim = pointsLayout.getDefinition(\"V3\")  # Points layout CIM"
   ]
  },
  {
   "cell_type": "markdown",
   "metadata": {},
   "source": [
    "Export points layout to disk"
   ]
  },
  {
   "cell_type": "code",
   "execution_count": null,
   "metadata": {},
   "outputs": [],
   "source": [
    "exportCim(\"layout\", pointsLayout, pointsLayout.name)"
   ]
  },
  {
   "cell_type": "markdown",
   "metadata": {},
   "source": [
    "Export layout image to the graphics project directory"
   ]
  },
  {
   "cell_type": "code",
   "execution_count": null,
   "metadata": {},
   "outputs": [],
   "source": [
    "# Export points layout to PNG (Figure 14)\n",
    "pointsLayout.exportToPNG(\n",
    "    out_png = os.path.join(graphicsFolder, \"Fig14-PointsLayout.png\"),\n",
    "    resolution = 300,\n",
    "    color_mode = \"24-BIT_TRUE_COLOR\",\n",
    "    transparent_background = False,\n",
    "    embed_color_profile = False,\n",
    "    clip_to_elements = True\n",
    ")"
   ]
  },
  {
   "cell_type": "markdown",
   "metadata": {},
   "source": [
    "<h3 style=\"font-weight:bold; color:lime; padding-left: 50px\">Save Project</h3>"
   ]
  },
  {
   "cell_type": "code",
   "execution_count": null,
   "metadata": {},
   "outputs": [],
   "source": [
    "# Save the project\n",
    "aprx.save()"
   ]
  },
  {
   "cell_type": "markdown",
   "metadata": {},
   "source": [
    "<h1 style=\"font-weight:bold; color:orangered; border-bottom: 2px solid orangered\">8. Density Layout Processing</h1>"
   ]
  },
  {
   "cell_type": "markdown",
   "metadata": {},
   "source": [
    "<h2 style=\"font-weight:bold; color:dodgerblue; border-bottom: 1px solid dodgerblue; padding-left: 25px\">8.1. Layout View</h2>"
   ]
  },
  {
   "cell_type": "markdown",
   "metadata": {},
   "source": [
    "<h3 style=\"font-weight:bold; color:lime; padding-left: 50px\">Set Density Layout View</h3>"
   ]
  },
  {
   "cell_type": "code",
   "execution_count": null,
   "metadata": {},
   "outputs": [],
   "source": [
    "# Close all previous views\n",
    "aprx.closeViews()\n",
    "\n",
    "# Open the densities layout view\n",
    "densityLayout.openView()\n",
    "\n",
    "# set the main layout as active view\n",
    "layout = aprx.activeView"
   ]
  },
  {
   "cell_type": "markdown",
   "metadata": {},
   "source": [
    "<h2 style=\"font-weight:bold; color:dodgerblue; border-bottom: 1px solid dodgerblue; padding-left: 25px\">8.2. Add Map Frames</h2>"
   ]
  },
  {
   "cell_type": "markdown",
   "metadata": {},
   "source": [
    "<h3 style=\"font-weight:bold; color:lime; padding-left: 50px\">Remove Old Map Frames</h3>"
   ]
  },
  {
   "cell_type": "markdown",
   "metadata": {},
   "source": [
    "Delete all layout data frames and elements"
   ]
  },
  {
   "cell_type": "code",
   "execution_count": null,
   "metadata": {},
   "outputs": [],
   "source": [
    "# Delete all map frames from the layout\n",
    "for el in densityLayout.listElements():\n",
    "    if el.type == \"MAPFRAME_ELEMENT\":\n",
    "        print(f\"Deleting map frame: {el.name}\")\n",
    "        densityLayout.deleteElement(el)"
   ]
  },
  {
   "cell_type": "markdown",
   "metadata": {},
   "source": [
    "<h3 style=\"font-weight:bold; color:lime; padding-left: 50px\">Map Frame Definitions</h3>"
   ]
  },
  {
   "cell_type": "markdown",
   "metadata": {},
   "source": [
    "Map frames definitions and calculations"
   ]
  },
  {
   "cell_type": "code",
   "execution_count": null,
   "metadata": {},
   "outputs": [],
   "source": [
    "# List of maps to be added as map frames to the layout\n",
    "densityMfList = [mapPopDens, mapHouDens]\n",
    "\n",
    "# Number of map frames\n",
    "densityMfCount = len(densityMfList)\n",
    "\n",
    "# Number of rows and columns for the map frames\n",
    "densityMfCols = 2\n",
    "densityMfRows = math.ceil(densityMfCount / densityMfCols)\n",
    "\n",
    "# Map frame page dimensions\n",
    "densityMfPageWidth = lytDict[\"density\"][\"pageWidth\"]\n",
    "densityMfPageHeight = lytDict[\"density\"][\"pageHeight\"]\n",
    "\n",
    "# Map frame names\n",
    "densityMfNames = [f\"mf{i}\" for i in range(1, densityMfCount + 1)]"
   ]
  },
  {
   "cell_type": "markdown",
   "metadata": {},
   "source": [
    "<h3 style=\"font-weight:bold; color:lime; padding-left: 50px\">Map Frame 1</h3>"
   ]
  },
  {
   "cell_type": "markdown",
   "metadata": {},
   "source": [
    "Add Population Density map frame (map frame 1)"
   ]
  },
  {
   "cell_type": "code",
   "execution_count": null,
   "metadata": {},
   "outputs": [],
   "source": [
    "# Add the mapframe to the layout\n",
    "densityMf1 = densityLayout.createMapFrame(\n",
    "    geometry = lytDict[\"density\"][\"mf1\"][\"geometry\"],\n",
    "    map = densityMfList[0],\n",
    "    name = f\"{densityLayout.name}{densityMfNames[0].title()}\"\n",
    ")\n",
    "\n",
    "# Set up map frame properties\n",
    "densityMf1.name = f\"{densityLayout.name}{densityMfNames[0].title()}\"\n",
    "densityMf1.setAnchor(lytDict[\"density\"][\"mf1\"][\"anchor\"])\n",
    "densityMf1.elementWidth = lytDict[\"density\"][\"mf1\"][\"width\"]\n",
    "densityMf1.elementHeight = lytDict[\"density\"][\"mf1\"][\"height\"]\n",
    "densityMf1.elementPositionX = lytDict[\"density\"][\"mf1\"][\"coordX\"]\n",
    "densityMf1.elementPositionY = lytDict[\"density\"][\"mf1\"][\"coordY\"]\n",
    "densityMf1.elementRotation = 0\n",
    "densityMf1.visible = True\n",
    "densityMf1.map = densityMfList[0]\n",
    "densityMf1Cim = densityMf1.getDefinition('V3')\n",
    "densityMf1Cim.graphicFrame.borderSymbol.symbol.symbolLayers[0].enable = False\n",
    "densityMf1.setDefinition(densityMf1Cim)"
   ]
  },
  {
   "cell_type": "markdown",
   "metadata": {},
   "source": [
    "<h3 style=\"font-weight:bold; color:lime; padding-left: 50px\">Map Frame 2</h3>"
   ]
  },
  {
   "cell_type": "markdown",
   "metadata": {},
   "source": [
    "Add Housing Density map frame (map frame 2)"
   ]
  },
  {
   "cell_type": "code",
   "execution_count": null,
   "metadata": {},
   "outputs": [],
   "source": [
    "# Add the mapframe to the layout\n",
    "densityMf2 = densityLayout.createMapFrame(\n",
    "    geometry = lytDict[\"density\"][\"mf2\"][\"geometry\"],\n",
    "    map = densityMfList[1],\n",
    "    name = f\"{densityLayout.name}{densityMfNames[1].title()}\"\n",
    ")\n",
    "\n",
    "# Set up map frame properties\n",
    "densityMf2.name = f\"{densityLayout.name}{densityMfNames[1].title()}\"\n",
    "densityMf2.setAnchor(lytDict[\"density\"][\"mf2\"][\"anchor\"])\n",
    "densityMf2.elementWidth = lytDict[\"density\"][\"mf2\"][\"width\"]\n",
    "densityMf2.elementHeight = lytDict[\"density\"][\"mf2\"][\"height\"]\n",
    "densityMf2.elementPositionX = lytDict[\"density\"][\"mf2\"][\"coordX\"]\n",
    "densityMf2.elementPositionY = lytDict[\"density\"][\"mf2\"][\"coordY\"]\n",
    "densityMf2.elementRotation = 0\n",
    "densityMf2.visible = True\n",
    "densityMf2.map = densityMfList[1]\n",
    "densityMf2Cim = densityMf2.getDefinition('V3')\n",
    "densityMf2Cim.graphicFrame.borderSymbol.symbol.symbolLayers[0].enable = False\n",
    "densityMf2.setDefinition(densityMf2Cim)"
   ]
  },
  {
   "cell_type": "markdown",
   "metadata": {},
   "source": [
    "<h3 style=\"font-weight:bold; color:lime; padding-left: 50px\">Adjust Map Frame Layer Visibility</h3>"
   ]
  },
  {
   "cell_type": "markdown",
   "metadata": {},
   "source": [
    "Set extent for the map frame"
   ]
  },
  {
   "cell_type": "code",
   "execution_count": null,
   "metadata": {},
   "outputs": [],
   "source": [
    "densityMf1.camera.setExtent(prjExtent)\n",
    "densityMf2.camera.setExtent(prjExtent)"
   ]
  },
  {
   "cell_type": "markdown",
   "metadata": {},
   "source": [
    "Adjust visibility of the layers"
   ]
  },
  {
   "cell_type": "code",
   "execution_count": null,
   "metadata": {},
   "outputs": [],
   "source": [
    "# Loop through map frames and turn on appropriate layers\n",
    "for mf in densityLayout.listElements(\"MAPFRAME_ELEMENT\"):\n",
    "    for l in mf.map.listLayers():\n",
    "        if l.name in [\"OCSWITRS Population Density\", \"OCSWITRS Housing Density\", \"OCSWITRS Boundaries\", \"Light Gray Base\"]:\n",
    "            l.visible = True\n",
    "            l.transparency = 0\n",
    "        else:\n",
    "            l.visible = False"
   ]
  },
  {
   "cell_type": "markdown",
   "metadata": {},
   "source": [
    "<h2 style=\"font-weight:bold; color:dodgerblue; border-bottom: 1px solid dodgerblue; padding-left: 25px\">8.3. Add North Arrow</h2>"
   ]
  },
  {
   "cell_type": "markdown",
   "metadata": {},
   "source": [
    "Adding north arrow"
   ]
  },
  {
   "cell_type": "code",
   "execution_count": null,
   "metadata": {},
   "outputs": [],
   "source": [
    "# Add the North Arrow to the layout\n",
    "densityNa = densityLayout.createMapSurroundElement(\n",
    "    geometry = lytDict[\"density\"][\"na\"][\"geometry\"],\n",
    "    mapsurround_type = \"NORTH_ARROW\",\n",
    "    mapframe = densityMf1,\n",
    "    style_item = aprx.listStyleItems(\"ArcGIS 2D\", \"North_Arrow\", \"ArcGIS North 1\")[0],\n",
    "    name = \"na\"\n",
    ")"
   ]
  },
  {
   "cell_type": "markdown",
   "metadata": {},
   "source": [
    "Set north arrow properties"
   ]
  },
  {
   "cell_type": "code",
   "execution_count": null,
   "metadata": {},
   "outputs": [],
   "source": [
    "# Set up north arrow properties\n",
    "densityNa.name = \"na\"\n",
    "densityNa.setAnchor(lytDict[\"density\"][\"na\"][\"anchor\"])\n",
    "densityNa.elementWidth = lytDict[\"density\"][\"na\"][\"width\"]\n",
    "densityNa.elementHeight = lytDict[\"density\"][\"na\"][\"height\"]\n",
    "densityNa.elementPositionX = lytDict[\"density\"][\"na\"][\"coordX\"]\n",
    "densityNa.elementPositionY = lytDict[\"density\"][\"na\"][\"coordY\"]\n",
    "densityNa.elementRotation = 0\n",
    "densityNa.visible = True\n",
    "densityNaCim = densityNa.getDefinition(\"V3\")"
   ]
  },
  {
   "cell_type": "markdown",
   "metadata": {},
   "source": [
    "<h2 style=\"font-weight:bold; color:dodgerblue; border-bottom: 1px solid dodgerblue; padding-left: 25px\">8.4. Add Scale Bar</h2>"
   ]
  },
  {
   "cell_type": "markdown",
   "metadata": {},
   "source": [
    "Adding scale bar"
   ]
  },
  {
   "cell_type": "code",
   "execution_count": null,
   "metadata": {},
   "outputs": [],
   "source": [
    "# Add the Scale Bar to the layout\n",
    "densitySb = densityLayout.createMapSurroundElement(\n",
    "    geometry = lytDict[\"density\"][\"sb\"][\"geometry\"],\n",
    "    mapsurround_type = \"SCALE_BAR\",\n",
    "    mapframe = densityMf1,\n",
    "    style_item = aprx.listStyleItems(\"ArcGIS 2D\", \"SCALE_BAR\", \"Scale Line 1\")[0],\n",
    "    name = \"sb\"\n",
    ")"
   ]
  },
  {
   "cell_type": "markdown",
   "metadata": {},
   "source": [
    "Add scale bar properties"
   ]
  },
  {
   "cell_type": "code",
   "execution_count": null,
   "metadata": {},
   "outputs": [],
   "source": [
    "# Set up scale bar properties\n",
    "densitySb.name = \"sb\"\n",
    "densitySb.setAnchor(lytDict[\"density\"][\"sb\"][\"anchor\"])\n",
    "densitySb.elementWidth = lytDict[\"density\"][\"sb\"][\"width\"]\n",
    "densitySb.elementHeight = lytDict[\"density\"][\"sb\"][\"height\"]\n",
    "densitySb.elementPositionX = lytDict[\"density\"][\"sb\"][\"coordX\"]\n",
    "densitySb.elementPositionY = lytDict[\"density\"][\"sb\"][\"coordY\"]\n",
    "densitySb.elementRotation = 0\n",
    "densitySb.visible = True\n",
    "densitySbCim = densitySb.getDefinition(\"V3\")\n",
    "densitySbCim.labelSymbol.symbol.height = 14\n",
    "densitySb.setDefinition(densitySbCim)"
   ]
  },
  {
   "cell_type": "markdown",
   "metadata": {},
   "source": [
    "<h2 style=\"font-weight:bold; color:dodgerblue; border-bottom: 1px solid dodgerblue; padding-left: 25px\">8.5. Add Dynamic Text (Service Layer Credits)</h2>"
   ]
  },
  {
   "cell_type": "markdown",
   "metadata": {},
   "source": [
    "Add dynamic text element for the service layer credits"
   ]
  },
  {
   "cell_type": "code",
   "execution_count": null,
   "metadata": {},
   "outputs": [],
   "source": [
    "if densityLayout.listElements(\"TEXT_ELEMENT\", \"cr\"):\n",
    "    densityLayout.deleteElement(\"cr\")\n",
    "\n",
    "# Add the credits text to the layout\n",
    "densityCr = aprx.createTextElement(\n",
    "    container = densityLayout,\n",
    "    geometry = lytDict[\"density\"][\"cr\"][\"geometry\"],\n",
    "    text_size = 6,\n",
    "    font_family_name = \"Inter 9pt Regular\",\n",
    "    style_item = None,\n",
    "    name = \"cr\",\n",
    "    text_type = \"POINT\",\n",
    "    text = \"<dyn type='layout' name='density' property='serviceLayerCredits'/>\"\n",
    ")"
   ]
  },
  {
   "cell_type": "markdown",
   "metadata": {},
   "source": [
    "Set dynamic text properties"
   ]
  },
  {
   "cell_type": "code",
   "execution_count": null,
   "metadata": {},
   "outputs": [],
   "source": [
    "# Set up credits text properties\n",
    "densityCr.name = \"cr\"\n",
    "densityCr.setAnchor(lytDict[\"density\"][\"cr\"][\"anchor\"])\n",
    "densityCr.elementPositionX = 0\n",
    "densityCr.elementPositionY = 0\n",
    "densityCr.elementRotation = 0\n",
    "densityCr.visible = False\n",
    "densityCrCim = densityCr.getDefinition(\"V3\")"
   ]
  },
  {
   "cell_type": "markdown",
   "metadata": {},
   "source": [
    "<h2 style=\"font-weight:bold; color:dodgerblue; border-bottom: 1px solid dodgerblue; padding-left: 25px\">8.6. Add New Legends</h2>"
   ]
  },
  {
   "cell_type": "markdown",
   "metadata": {},
   "source": [
    "<h3 style=\"font-weight:bold; color:lime; padding-left: 50px\">Remove Old Legends</h3>"
   ]
  },
  {
   "cell_type": "code",
   "execution_count": null,
   "metadata": {},
   "outputs": [],
   "source": [
    "# Remove all old legends from the layout\n",
    "for el in densityLayout.listElements():\n",
    "    if el.type == \"LEGEND_ELEMENT\":\n",
    "        print(f\"Deleting legend: {el.name}\")\n",
    "        densityLayout.deleteElement(el)"
   ]
  },
  {
   "cell_type": "markdown",
   "metadata": {},
   "source": [
    "<h3 style=\"font-weight:bold; color:lime; padding-left: 50px\">Legend 1: Population Density Legend</h3>"
   ]
  },
  {
   "cell_type": "markdown",
   "metadata": {},
   "source": [
    "Adding Population Density Legend (legend 1) to the layout"
   ]
  },
  {
   "cell_type": "code",
   "execution_count": null,
   "metadata": {},
   "outputs": [],
   "source": [
    "# Add the legend to the layout\n",
    "densityLg1 = densityLayout.createMapSurroundElement(\n",
    "    geometry = lytDict[\"density\"][\"lg1\"][\"geometry\"],\n",
    "    mapsurround_type = \"LEGEND\",\n",
    "    mapframe = densityMf1,\n",
    "    name = \"lg1\"\n",
    ")"
   ]
  },
  {
   "cell_type": "markdown",
   "metadata": {},
   "source": [
    "Set population density legend properties"
   ]
  },
  {
   "cell_type": "code",
   "execution_count": null,
   "metadata": {},
   "outputs": [],
   "source": [
    "# Obtain the CIM object of the legend\n",
    "densityLg1Cim = densityLg1.getDefinition(\"V3\")\n",
    "\n",
    "# Disable the legend title\n",
    "densityLg1Cim.showTitle = False\n",
    "\n",
    "# Adjust fitting of the legend frame\n",
    "densityLg1Cim.fittingStrategy = \"AdjustFrame\"\n",
    "\n",
    "# Turn on the population density layer, and turn off the rest of the layers\n",
    "for i in densityLg1Cim.items:\n",
    "    if i.name == \"OCSWITRS Population Density\":\n",
    "        i.isVisible = True\n",
    "        i.showLayerName = False\n",
    "        i.autoVisibility = True\n",
    "        i.keepTogetherOption = \"Items\"\n",
    "        i.scaleToPatch = False\n",
    "        i.headingSymbol.symbol.height = 16\n",
    "        i.labelSymbol.symbol.height = 14\n",
    "    else:\n",
    "        i.isVisible = False\n",
    "\n",
    "# Update the legend CIM definitions\n",
    "densityLg1.setDefinition(densityLg1Cim)"
   ]
  },
  {
   "cell_type": "markdown",
   "metadata": {},
   "source": [
    "Adjust overall legend properties"
   ]
  },
  {
   "cell_type": "code",
   "execution_count": null,
   "metadata": {},
   "outputs": [],
   "source": [
    "# Set up legend properties\n",
    "densityLg1.name = \"lg1\"\n",
    "densityLg1.setAnchor(lytDict[\"density\"][\"lg1\"][\"anchor\"])\n",
    "densityLg1.elementPositionX = lytDict[\"density\"][\"lg1\"][\"coordX\"]\n",
    "densityLg1.elementPositionY = lytDict[\"density\"][\"lg1\"][\"coordY\"]\n",
    "densityLg1.elementRotation = 0\n",
    "densityLg1.visible = True\n",
    "densityLg1.mapFrame = densityMf1\n",
    "densityLg1Cim = densityLg1.getDefinition(\"V3\")"
   ]
  },
  {
   "cell_type": "markdown",
   "metadata": {},
   "source": [
    "<h3 style=\"font-weight:bold; color:lime; padding-left: 50px\">Legend 2: Housing Density Legend</h3>"
   ]
  },
  {
   "cell_type": "markdown",
   "metadata": {},
   "source": [
    "Adding Housing Density Legend (legend 2) to the layout"
   ]
  },
  {
   "cell_type": "code",
   "execution_count": null,
   "metadata": {},
   "outputs": [],
   "source": [
    "# Add the legend to the layout\n",
    "densityLg2 = densityLayout.createMapSurroundElement(\n",
    "    geometry = lytDict[\"density\"][\"lg2\"][\"geometry\"],\n",
    "    mapsurround_type = \"LEGEND\",\n",
    "    mapframe = densityMf2,\n",
    "    name = \"lg2\"\n",
    ")"
   ]
  },
  {
   "cell_type": "markdown",
   "metadata": {},
   "source": [
    "Set housing density legend properties"
   ]
  },
  {
   "cell_type": "code",
   "execution_count": null,
   "metadata": {},
   "outputs": [],
   "source": [
    "# Obtain the CIM object of the legend\n",
    "densityLg2Cim = densityLg2.getDefinition(\"V3\")\n",
    "\n",
    "# Disable the legend title\n",
    "densityLg2Cim.showTitle = False\n",
    "\n",
    "# Adjust fitting of the legend frame\n",
    "densityLg2Cim.fittingStrategy = \"AdjustFrame\"\n",
    "\n",
    "# Turn on the housing density layer, and turn off the rest of the layers\n",
    "for i in densityLg2Cim.items:\n",
    "    if i.name == \"OCSWITRS Housing Density\":\n",
    "        i.isVisible = True\n",
    "        i.showLayerName = False\n",
    "        i.autoVisibility = True\n",
    "        i.keepTogetherOption = \"Items\"\n",
    "        i.scaleToPatch = False\n",
    "        i.headingSymbol.symbol.height = 16\n",
    "        i.labelSymbol.symbol.height = 14\n",
    "    else:\n",
    "        i.isVisible = False\n",
    "\n",
    "# Update the legend CIM definitions\n",
    "densityLg2.setDefinition(densityLg2Cim)"
   ]
  },
  {
   "cell_type": "markdown",
   "metadata": {},
   "source": [
    "Adjust overall legend properties"
   ]
  },
  {
   "cell_type": "code",
   "execution_count": null,
   "metadata": {},
   "outputs": [],
   "source": [
    "# Set up legend properties\n",
    "densityLg2.name = \"lg2\"\n",
    "densityLg2.setAnchor(lytDict[\"density\"][\"lg2\"][\"anchor\"])\n",
    "densityLg2.elementPositionX = lytDict[\"density\"][\"lg2\"][\"coordX\"]\n",
    "densityLg2.elementPositionY = lytDict[\"density\"][\"lg2\"][\"coordY\"]\n",
    "densityLg2.elementRotation = 0\n",
    "densityLg2.visible = True\n",
    "densityLg2.mapFrame = densityMf2\n",
    "densityLg2Cim = densityLg2.getDefinition(\"V3\")"
   ]
  },
  {
   "cell_type": "markdown",
   "metadata": {},
   "source": [
    "<h2 style=\"font-weight:bold; color:dodgerblue; border-bottom: 1px solid dodgerblue; padding-left: 25px\">8.7. Add Titles for Map Frames</h2>"
   ]
  },
  {
   "cell_type": "markdown",
   "metadata": {},
   "source": [
    "<h3 style=\"font-weight:bold; color:lime; padding-left: 50px\">Title 1</h3>"
   ]
  },
  {
   "cell_type": "markdown",
   "metadata": {},
   "source": [
    "Add title for for the population density map frame"
   ]
  },
  {
   "cell_type": "code",
   "execution_count": null,
   "metadata": {},
   "outputs": [],
   "source": [
    "# Check if the title already exist and if it is, delete it\n",
    "if densityLayout.listElements(\"TEXT_ELEMENT\", \"t1\"):\n",
    "    densityLayout.deleteElement(\"t1\")\n",
    "\n",
    "# Add the title to the layout\n",
    "densityT1 = aprx.createTextElement(\n",
    "    container = densityLayout,\n",
    "    geometry = lytDict[\"density\"][\"t1\"][\"geometry\"],\n",
    "    text_size = 20,\n",
    "    font_family_name = \"Inter 18pt Medium\",\n",
    "    style_item = None,\n",
    "    name = \"t1\",\n",
    "    text_type = \"POINT\",\n",
    "    text = f\"(a) Population Density\"\n",
    ")"
   ]
  },
  {
   "cell_type": "markdown",
   "metadata": {},
   "source": [
    "Add title properties"
   ]
  },
  {
   "cell_type": "code",
   "execution_count": null,
   "metadata": {},
   "outputs": [],
   "source": [
    "# Set up title properties\n",
    "densityT1.name = \"t1\"\n",
    "densityT1.setAnchor(lytDict[\"density\"][\"t1\"][\"anchor\"])\n",
    "densityT1.elementPositionX = lytDict[\"density\"][\"t1\"][\"coordX\"]\n",
    "densityT1.elementPositionY = lytDict[\"density\"][\"t1\"][\"coordY\"]\n",
    "densityT1.elementRotation = 0\n",
    "densityT1.visible = True\n",
    "densityT1.text = f\"(a) Population Density\"\n",
    "densityT1.textSize = 20\n",
    "densityT1Cim = densityT1.getDefinition(\"V3\")"
   ]
  },
  {
   "cell_type": "markdown",
   "metadata": {},
   "source": [
    "<h3 style=\"font-weight:bold; color:lime; padding-left: 50px\">Title 2</h3>"
   ]
  },
  {
   "cell_type": "markdown",
   "metadata": {},
   "source": [
    "Add title for for the housing density map frame"
   ]
  },
  {
   "cell_type": "code",
   "execution_count": null,
   "metadata": {},
   "outputs": [],
   "source": [
    "# Check if the title already exist and if it is, delete it\n",
    "if densityLayout.listElements(\"TEXT_ELEMENT\", \"t2\"):\n",
    "    densityLayout.deleteElement(\"t2\")\n",
    "\n",
    "# Add the title to the layout\n",
    "densityT2 = aprx.createTextElement(\n",
    "    container = densityLayout,\n",
    "    geometry = lytDict[\"density\"][\"t2\"][\"geometry\"],\n",
    "    text_size = 20,\n",
    "    font_family_name = \"Inter 18pt Medium\",\n",
    "    style_item = None,\n",
    "    name = \"t2\",\n",
    "    text_type = \"POINT\",\n",
    "    text = f\"(b) Housing Density\"\n",
    ")"
   ]
  },
  {
   "cell_type": "markdown",
   "metadata": {},
   "source": [
    "Add title properties"
   ]
  },
  {
   "cell_type": "code",
   "execution_count": null,
   "metadata": {},
   "outputs": [],
   "source": [
    "# Set up title properties\n",
    "densityT2.name = \"t2\"\n",
    "densityT2.setAnchor(lytDict[\"density\"][\"t2\"][\"anchor\"])\n",
    "densityT2.elementPositionX = lytDict[\"density\"][\"t2\"][\"coordX\"]\n",
    "densityT2.elementPositionY = lytDict[\"density\"][\"t2\"][\"coordY\"]\n",
    "densityT2.elementRotation = 0\n",
    "densityT2.visible = True\n",
    "densityT2.text = f\"(b) Housing Density\"\n",
    "densityT2.textSize = 20\n",
    "densityT2Cim = densityT2.getDefinition(\"V3\")"
   ]
  },
  {
   "cell_type": "markdown",
   "metadata": {},
   "source": [
    "<h2 style=\"font-weight:bold; color:dodgerblue; border-bottom: 1px solid dodgerblue; padding-left: 25px\">8.8. Export Densities Layout</h2>"
   ]
  },
  {
   "cell_type": "markdown",
   "metadata": {},
   "source": [
    "Get densities layout CIM"
   ]
  },
  {
   "cell_type": "code",
   "execution_count": null,
   "metadata": {},
   "outputs": [],
   "source": [
    "densityLayoutCim = densityLayout.getDefinition(\"V3\")  # Density layout CIM"
   ]
  },
  {
   "cell_type": "markdown",
   "metadata": {},
   "source": [
    "Export densities layout to disk"
   ]
  },
  {
   "cell_type": "code",
   "execution_count": null,
   "metadata": {},
   "outputs": [],
   "source": [
    "exportCim(\"layout\", densityLayout, densityLayout.name)"
   ]
  },
  {
   "cell_type": "markdown",
   "metadata": {},
   "source": [
    "Export layout image to the graphics project directory"
   ]
  },
  {
   "cell_type": "code",
   "execution_count": null,
   "metadata": {},
   "outputs": [],
   "source": [
    "# Export density layout to PNG (Figure 15)\n",
    "densityLayout.exportToPNG(\n",
    "    out_png = os.path.join(graphicsFolder, \"Fig15-DensityLayout.png\"),\n",
    "    resolution = 300,\n",
    "    color_mode = \"24-BIT_TRUE_COLOR\",\n",
    "    transparent_background = False,\n",
    "    embed_color_profile = False,\n",
    "    clip_to_elements = True\n",
    ")"
   ]
  },
  {
   "cell_type": "markdown",
   "metadata": {},
   "source": [
    "<h3 style=\"font-weight:bold; color:lime; padding-left: 50px\">Save Project</h3>"
   ]
  },
  {
   "cell_type": "code",
   "execution_count": null,
   "metadata": {},
   "outputs": [],
   "source": [
    "# Save the project\n",
    "aprx.save()"
   ]
  },
  {
   "cell_type": "markdown",
   "metadata": {},
   "source": [
    "<h1 style=\"font-weight:bold; color:orangered; border-bottom: 2px solid orangered\">9. Areas Layout Processing</h1>"
   ]
  },
  {
   "cell_type": "markdown",
   "metadata": {},
   "source": [
    "<h2 style=\"font-weight:bold; color:dodgerblue; border-bottom: 1px solid dodgerblue; padding-left: 25px\">9.1. Layout View</h2>"
   ]
  },
  {
   "cell_type": "markdown",
   "metadata": {},
   "source": [
    "<h3 style=\"font-weight:bold; color:lime; padding-left: 50px\">Set City Areas Layout View</h3>"
   ]
  },
  {
   "cell_type": "code",
   "execution_count": null,
   "metadata": {},
   "outputs": [],
   "source": [
    "# Close all previous views\n",
    "aprx.closeViews()\n",
    "\n",
    "# Open the city areas layout view\n",
    "areasLayout.openView()\n",
    "\n",
    "# set the main layout as active view\n",
    "layout = aprx.activeView"
   ]
  },
  {
   "cell_type": "markdown",
   "metadata": {},
   "source": [
    "<h2 style=\"font-weight:bold; color:dodgerblue; border-bottom: 1px solid dodgerblue; padding-left: 25px\">9.2. Add Map Frames</h2>"
   ]
  },
  {
   "cell_type": "markdown",
   "metadata": {},
   "source": [
    "<h3 style=\"font-weight:bold; color:lime; padding-left: 50px\">Remove Old Map Frames</h3>"
   ]
  },
  {
   "cell_type": "markdown",
   "metadata": {},
   "source": [
    "Delete all layout data frames and elements"
   ]
  },
  {
   "cell_type": "code",
   "execution_count": null,
   "metadata": {},
   "outputs": [],
   "source": [
    "# Delete all map frames from the layout\n",
    "for el in areasLayout.listElements():\n",
    "    if el.type == \"MAPFRAME_ELEMENT\":\n",
    "        print(f\"Deleting map frame: {el.name}\")\n",
    "        areasLayout.deleteElement(el)"
   ]
  },
  {
   "cell_type": "markdown",
   "metadata": {},
   "source": [
    "<h3 style=\"font-weight:bold; color:lime; padding-left: 50px\">Map Frame Definitions</h3>"
   ]
  },
  {
   "cell_type": "markdown",
   "metadata": {},
   "source": [
    "Map frames definitions and calculations"
   ]
  },
  {
   "cell_type": "code",
   "execution_count": null,
   "metadata": {},
   "outputs": [],
   "source": [
    "# List of maps to be added as map frames to the layout\n",
    "areasMfList = [mapAreaCities, mapAreaBlocks]\n",
    "\n",
    "# Number of map frames\n",
    "areasMfCount = len(areasMfList)\n",
    "\n",
    "# Number of rows and columns for the map frames\n",
    "areasMfCols = 2\n",
    "areasMfRows = math.ceil(areasMfCount / areasMfCols)\n",
    "\n",
    "# Map frame page dimensions\n",
    "areasMfPageWidth = lytDict[\"areas\"][\"pageWidth\"]\n",
    "areasMfPageHeight = lytDict[\"areas\"][\"pageHeight\"]\n",
    "\n",
    "# Map frame names\n",
    "areasMfNames = [f\"mf{i}\" for i in range(1, areasMfCount + 1)]"
   ]
  },
  {
   "cell_type": "markdown",
   "metadata": {},
   "source": [
    "<h3 style=\"font-weight:bold; color:lime; padding-left: 50px\">Map Frame 1</h3>"
   ]
  },
  {
   "cell_type": "markdown",
   "metadata": {},
   "source": [
    "Add Victims by City Areas map frame (map frame 1)"
   ]
  },
  {
   "cell_type": "code",
   "execution_count": null,
   "metadata": {},
   "outputs": [],
   "source": [
    "# Add the mapframe to the layout\n",
    "areasMf1 = areasLayout.createMapFrame(\n",
    "    geometry = lytDict[\"areas\"][\"mf1\"][\"geometry\"],\n",
    "    map = areasMfList[0],\n",
    "    name = f\"{areasLayout.name}{areasMfNames[0].title()}\"\n",
    ")\n",
    "\n",
    "# Set up map frame properties\n",
    "areasMf1.name = f\"{areasLayout.name}{areasMfNames[0].title()}\"\n",
    "areasMf1.setAnchor(lytDict[\"areas\"][\"mf1\"][\"anchor\"])\n",
    "areasMf1.elementWidth = lytDict[\"areas\"][\"mf1\"][\"width\"]\n",
    "areasMf1.elementHeight = lytDict[\"areas\"][\"mf1\"][\"height\"]\n",
    "areasMf1.elementPositionX = lytDict[\"areas\"][\"mf1\"][\"coordX\"]\n",
    "areasMf1.elementPositionY = lytDict[\"areas\"][\"mf1\"][\"coordY\"]\n",
    "areasMf1.elementRotation = 0\n",
    "areasMf1.visible = True\n",
    "areasMf1.map = areasMfList[0]\n",
    "areasMf1Cim = areasMf1.getDefinition('V3')\n",
    "areasMf1Cim.graphicFrame.borderSymbol.symbol.symbolLayers[0].enable = False\n",
    "areasMf1.setDefinition(areasMf1Cim)"
   ]
  },
  {
   "cell_type": "markdown",
   "metadata": {},
   "source": [
    "<h3 style=\"font-weight:bold; color:lime; padding-left: 50px\">Map Frame 2</h3>"
   ]
  },
  {
   "cell_type": "markdown",
   "metadata": {},
   "source": [
    "Add Victims by Census Blocks map frame (map frame 2)"
   ]
  },
  {
   "cell_type": "code",
   "execution_count": null,
   "metadata": {},
   "outputs": [],
   "source": [
    "# Add the mapframe to the layout\n",
    "areasMf2 = areasLayout.createMapFrame(\n",
    "    geometry = lytDict[\"areas\"][\"mf2\"][\"geometry\"],\n",
    "    map = areasMfList[1],\n",
    "    name = f\"{areasLayout.name}{areasMfNames[1].title()}\"\n",
    ")\n",
    "\n",
    "# Set up map frame properties\n",
    "areasMf2.name = f\"{areasLayout.name}{areasMfNames[1].title()}\"\n",
    "areasMf2.setAnchor(lytDict[\"areas\"][\"mf2\"][\"anchor\"])\n",
    "areasMf2.elementWidth = lytDict[\"areas\"][\"mf2\"][\"width\"]\n",
    "areasMf2.elementHeight = lytDict[\"areas\"][\"mf2\"][\"height\"]\n",
    "areasMf2.elementPositionX = lytDict[\"areas\"][\"mf2\"][\"coordX\"]\n",
    "areasMf2.elementPositionY = lytDict[\"areas\"][\"mf2\"][\"coordY\"]\n",
    "areasMf2.elementRotation = 0\n",
    "areasMf2.visible = True\n",
    "areasMf2.map = areasMfList[1]\n",
    "areasMf2Cim = areasMf2.getDefinition('V3')\n",
    "areasMf2Cim.graphicFrame.borderSymbol.symbol.symbolLayers[0].enable = False\n",
    "areasMf2.setDefinition(areasMf2Cim)"
   ]
  },
  {
   "cell_type": "markdown",
   "metadata": {},
   "source": [
    "<h3 style=\"font-weight:bold; color:lime; padding-left: 50px\">Adjust Map Frame Layer Visibility</h3>"
   ]
  },
  {
   "cell_type": "markdown",
   "metadata": {},
   "source": [
    "Set extent for the map frame"
   ]
  },
  {
   "cell_type": "code",
   "execution_count": null,
   "metadata": {},
   "outputs": [],
   "source": [
    "areasMf1.camera.setExtent(prjExtent)\n",
    "areasMf2.camera.setExtent(prjExtent)"
   ]
  },
  {
   "cell_type": "markdown",
   "metadata": {},
   "source": [
    "Adjust visibility of the layers"
   ]
  },
  {
   "cell_type": "code",
   "execution_count": null,
   "metadata": {},
   "outputs": [],
   "source": [
    "# Loop through map frames and turn on appropriate layers\n",
    "for mf in areasLayout.listElements(\"MAPFRAME_ELEMENT\"):\n",
    "    for l in mf.map.listLayers():\n",
    "        if l.name in [\"OCSWITRS Cities Summary\", \"OCSWITRS Census Blocks Summary\", \"OCSWITRS Boundaries\", \"Light Gray Base\"]:\n",
    "            l.visible = True\n",
    "            l.transparency = 0\n",
    "        else:\n",
    "            l.visible = False"
   ]
  },
  {
   "cell_type": "markdown",
   "metadata": {},
   "source": [
    "<h2 style=\"font-weight:bold; color:dodgerblue; border-bottom: 1px solid dodgerblue; padding-left: 25px\">9.3. Add North Arrow</h2>"
   ]
  },
  {
   "cell_type": "markdown",
   "metadata": {},
   "source": [
    "Adding north arrow"
   ]
  },
  {
   "cell_type": "code",
   "execution_count": null,
   "metadata": {},
   "outputs": [],
   "source": [
    "# Add the North Arrow to the layout\n",
    "areasNa = areasLayout.createMapSurroundElement(\n",
    "    geometry = lytDict[\"areas\"][\"na\"][\"geometry\"],\n",
    "    mapsurround_type = \"NORTH_ARROW\",\n",
    "    mapframe = areasMf1,\n",
    "    style_item = aprx.listStyleItems(\"ArcGIS 2D\", \"North_Arrow\", \"ArcGIS North 1\")[0],\n",
    "    name = \"na\"\n",
    ")"
   ]
  },
  {
   "cell_type": "markdown",
   "metadata": {},
   "source": [
    "Set north arrow properties"
   ]
  },
  {
   "cell_type": "code",
   "execution_count": null,
   "metadata": {},
   "outputs": [],
   "source": [
    "# Set up north arrow properties\n",
    "areasNa.name = \"na\"\n",
    "areasNa.setAnchor(lytDict[\"areas\"][\"na\"][\"anchor\"])\n",
    "areasNa.elementWidth = lytDict[\"areas\"][\"na\"][\"width\"]\n",
    "areasNa.elementHeight = lytDict[\"areas\"][\"na\"][\"height\"]\n",
    "areasNa.elementPositionX = lytDict[\"areas\"][\"na\"][\"coordX\"]\n",
    "areasNa.elementPositionY = lytDict[\"areas\"][\"na\"][\"coordY\"]\n",
    "areasNa.elementRotation = 0\n",
    "areasNa.visible = True\n",
    "areasNaCim = areasNa.getDefinition(\"V3\")"
   ]
  },
  {
   "cell_type": "markdown",
   "metadata": {},
   "source": [
    "<h2 style=\"font-weight:bold; color:dodgerblue; border-bottom: 1px solid dodgerblue; padding-left: 25px\">9.4. Add Scale Bar</h2>"
   ]
  },
  {
   "cell_type": "markdown",
   "metadata": {},
   "source": [
    "Adding scale bar"
   ]
  },
  {
   "cell_type": "code",
   "execution_count": null,
   "metadata": {},
   "outputs": [],
   "source": [
    "# Add the Scale Bar to the layout\n",
    "areasSb = areasLayout.createMapSurroundElement(\n",
    "    geometry = lytDict[\"areas\"][\"sb\"][\"geometry\"],\n",
    "    mapsurround_type = \"SCALE_BAR\",\n",
    "    mapframe = areasMf1,\n",
    "    style_item = aprx.listStyleItems(\"ArcGIS 2D\", \"SCALE_BAR\", \"Scale Line 1\")[0],\n",
    "    name = \"sb\"\n",
    ")"
   ]
  },
  {
   "cell_type": "markdown",
   "metadata": {},
   "source": [
    "Add scale bar properties"
   ]
  },
  {
   "cell_type": "code",
   "execution_count": null,
   "metadata": {},
   "outputs": [],
   "source": [
    "# Set up scale bar properties\n",
    "areasSb.name = \"sb\"\n",
    "areasSb.setAnchor(lytDict[\"areas\"][\"sb\"][\"anchor\"])\n",
    "areasSb.elementWidth = lytDict[\"areas\"][\"sb\"][\"width\"]\n",
    "areasSb.elementHeight = lytDict[\"areas\"][\"sb\"][\"height\"]\n",
    "areasSb.elementPositionX = lytDict[\"areas\"][\"sb\"][\"coordX\"]\n",
    "areasSb.elementPositionY = lytDict[\"areas\"][\"sb\"][\"coordY\"]\n",
    "areasSb.elementRotation = 0\n",
    "areasSb.visible = True\n",
    "areasSbCim = areasSb.getDefinition(\"V3\")\n",
    "areasSbCim.labelSymbol.symbol.height = 14\n",
    "areasSb.setDefinition(areasSbCim)"
   ]
  },
  {
   "cell_type": "markdown",
   "metadata": {},
   "source": [
    "<h2 style=\"font-weight:bold; color:dodgerblue; border-bottom: 1px solid dodgerblue; padding-left: 25px\">9.5. Add Dynamic Text (Service Layer Credits)</h2>"
   ]
  },
  {
   "cell_type": "markdown",
   "metadata": {},
   "source": [
    "Add dynamic text element for the service layer credits"
   ]
  },
  {
   "cell_type": "code",
   "execution_count": null,
   "metadata": {},
   "outputs": [],
   "source": [
    "if areasLayout.listElements(\"TEXT_ELEMENT\", \"cr\"):\n",
    "    areasLayout.deleteElement(\"cr\")\n",
    "\n",
    "# Add the credits text to the layout\n",
    "areasCr = aprx.createTextElement(\n",
    "    container = areasLayout,\n",
    "    geometry = lytDict[\"areas\"][\"cr\"][\"geometry\"],\n",
    "    text_size = 6,\n",
    "    font_family_name = \"Inter 9pt Regular\",\n",
    "    style_item = None,\n",
    "    name = \"cr\",\n",
    "    text_type = \"POINT\",\n",
    "    text = \"<dyn type='layout' name='areas' property='serviceLayerCredits'/>\"\n",
    ")"
   ]
  },
  {
   "cell_type": "markdown",
   "metadata": {},
   "source": [
    "Set dynamic text properties"
   ]
  },
  {
   "cell_type": "code",
   "execution_count": null,
   "metadata": {},
   "outputs": [],
   "source": [
    "# Set up credits text properties\n",
    "areasCr.name = \"cr\"\n",
    "areasCr.setAnchor(lytDict[\"areas\"][\"cr\"][\"anchor\"])\n",
    "areasCr.elementPositionX = 0\n",
    "areasCr.elementPositionY = 0\n",
    "areasCr.elementRotation = 0\n",
    "areasCr.visible = False\n",
    "areasCrCim = areasCr.getDefinition(\"V3\")"
   ]
  },
  {
   "cell_type": "markdown",
   "metadata": {},
   "source": [
    "<h2 style=\"font-weight:bold; color:dodgerblue; border-bottom: 1px solid dodgerblue; padding-left: 25px\">9.6. Add New Legends</h2>"
   ]
  },
  {
   "cell_type": "markdown",
   "metadata": {},
   "source": [
    "<h3 style=\"font-weight:bold; color:lime; padding-left: 50px\">Remove Old Legends</h3>"
   ]
  },
  {
   "cell_type": "code",
   "execution_count": null,
   "metadata": {},
   "outputs": [],
   "source": [
    "# Remove all old legends from the layout\n",
    "for el in areasLayout.listElements():\n",
    "    if el.type == \"LEGEND_ELEMENT\":\n",
    "        print(f\"Deleting legend: {el.name}\")\n",
    "        areasLayout.deleteElement(el)"
   ]
  },
  {
   "cell_type": "markdown",
   "metadata": {},
   "source": [
    "<h3 style=\"font-weight:bold; color:lime; padding-left: 50px\">Legend 1: Victims by City Areas Legend</h3>"
   ]
  },
  {
   "cell_type": "markdown",
   "metadata": {},
   "source": [
    "Adding Victims by City Areas Legend (legend 1) to the layout"
   ]
  },
  {
   "cell_type": "code",
   "execution_count": null,
   "metadata": {},
   "outputs": [],
   "source": [
    "# Add the legend to the layout\n",
    "areasLg1 = areasLayout.createMapSurroundElement(\n",
    "    geometry = lytDict[\"areas\"][\"lg1\"][\"geometry\"],\n",
    "    mapsurround_type = \"LEGEND\",\n",
    "    mapframe = areasMf1,\n",
    "    name = \"lg1\"\n",
    ")"
   ]
  },
  {
   "cell_type": "markdown",
   "metadata": {},
   "source": [
    "Set victims by city areas legend properties"
   ]
  },
  {
   "cell_type": "code",
   "execution_count": null,
   "metadata": {},
   "outputs": [],
   "source": [
    "# Obtain the CIM object of the legend\n",
    "areasLg1Cim = areasLg1.getDefinition(\"V3\")\n",
    "\n",
    "# Disable the legend title\n",
    "areasLg1Cim.showTitle = False\n",
    "\n",
    "# Adjust fitting of the legend frame\n",
    "areasLg1Cim.fittingStrategy = \"AdjustFrame\"\n",
    "\n",
    "# Turn on the area cities layer, and turn off the rest of the layers\n",
    "for i in areasLg1Cim.items:\n",
    "    if i.name == \"OCSWITRS Cities Summary\":\n",
    "        i.isVisible = True\n",
    "        i.showLayerName = False\n",
    "        i.autoVisibility = True\n",
    "        i.keepTogetherOption = \"Items\"\n",
    "        i.scaleToPatch = False\n",
    "        i.headingSymbol.symbol.height = 16\n",
    "        i.labelSymbol.symbol.height = 14\n",
    "    else:\n",
    "        i.isVisible = False\n",
    "\n",
    "# Update the legend CIM definitions\n",
    "areasLg1.setDefinition(areasLg1Cim)"
   ]
  },
  {
   "cell_type": "markdown",
   "metadata": {},
   "source": [
    "Adjust overall legend properties"
   ]
  },
  {
   "cell_type": "code",
   "execution_count": null,
   "metadata": {},
   "outputs": [],
   "source": [
    "# Set up legend properties\n",
    "areasLg1.name = \"lg1\"\n",
    "areasLg1.setAnchor(lytDict[\"areas\"][\"lg1\"][\"anchor\"])\n",
    "areasLg1.elementPositionX = lytDict[\"areas\"][\"lg1\"][\"coordX\"]\n",
    "areasLg1.elementPositionY = lytDict[\"areas\"][\"lg1\"][\"coordY\"]\n",
    "areasLg1.elementRotation = 0\n",
    "areasLg1.visible = True\n",
    "areasLg1.mapFrame = areasMf1\n",
    "areasLg1Cim = areasLg1.getDefinition(\"V3\")"
   ]
  },
  {
   "cell_type": "markdown",
   "metadata": {},
   "source": [
    "<h3 style=\"font-weight:bold; color:lime; padding-left: 50px\">Legend 2: Victims by Census Blocks Legend</h3>"
   ]
  },
  {
   "cell_type": "markdown",
   "metadata": {},
   "source": [
    "Adding Victims by Census Blocks Legend (legend 2) to the layout"
   ]
  },
  {
   "cell_type": "code",
   "execution_count": null,
   "metadata": {},
   "outputs": [],
   "source": [
    "# Add the legend to the layout\n",
    "areasLg2 = areasLayout.createMapSurroundElement(\n",
    "    geometry = lytDict[\"areas\"][\"lg2\"][\"geometry\"],\n",
    "    mapsurround_type = \"LEGEND\",\n",
    "    mapframe = areasMf2,\n",
    "    name = \"lg2\"\n",
    ")"
   ]
  },
  {
   "cell_type": "markdown",
   "metadata": {},
   "source": [
    "Set victims by census blocks legend properties"
   ]
  },
  {
   "cell_type": "code",
   "execution_count": null,
   "metadata": {},
   "outputs": [],
   "source": [
    "# Obtain the CIM object of the legend\n",
    "areasLg2Cim = areasLg2.getDefinition(\"V3\")\n",
    "\n",
    "# Disable the legend title\n",
    "areasLg2Cim.showTitle = False\n",
    "\n",
    "# Adjust fitting of the legend frame\n",
    "areasLg2Cim.fittingStrategy = \"AdjustFrame\"\n",
    "\n",
    "# Turn on the area blocks layer, and turn off the rest of the layers\n",
    "for i in areasLg2Cim.items:\n",
    "    if i.name == \"OCSWITRS Census Blocks Summary\":\n",
    "        i.isVisible = True\n",
    "        i.showLayerName = False\n",
    "        i.autoVisibility = True\n",
    "        i.keepTogetherOption = \"Items\"\n",
    "        i.scaleToPatch = False\n",
    "        i.headingSymbol.symbol.height = 16\n",
    "        i.labelSymbol.symbol.height = 14\n",
    "    else:\n",
    "        i.isVisible = False\n",
    "\n",
    "# Update the legend CIM definitions\n",
    "areasLg2.setDefinition(areasLg2Cim)"
   ]
  },
  {
   "cell_type": "markdown",
   "metadata": {},
   "source": [
    "Adjust overall legend properties"
   ]
  },
  {
   "cell_type": "code",
   "execution_count": null,
   "metadata": {},
   "outputs": [],
   "source": [
    "# Set up legend properties\n",
    "areasLg2.name = \"lg2\"\n",
    "areasLg2.setAnchor(lytDict[\"areas\"][\"lg2\"][\"anchor\"])\n",
    "areasLg2.elementPositionX = lytDict[\"areas\"][\"lg2\"][\"coordX\"]\n",
    "areasLg2.elementPositionY = lytDict[\"areas\"][\"lg2\"][\"coordY\"]\n",
    "areasLg2.elementRotation = 0\n",
    "areasLg2.visible = True\n",
    "areasLg2.mapFrame = areasMf2\n",
    "areasLg2Cim = areasLg2.getDefinition(\"V3\")"
   ]
  },
  {
   "cell_type": "markdown",
   "metadata": {},
   "source": [
    "<h2 style=\"font-weight:bold; color:dodgerblue; border-bottom: 1px solid dodgerblue; padding-left: 25px\">9.7. Add Titles for Map Frames</h2>"
   ]
  },
  {
   "cell_type": "markdown",
   "metadata": {},
   "source": [
    "<h3 style=\"font-weight:bold; color:lime; padding-left: 50px\">Title 1</h3>"
   ]
  },
  {
   "cell_type": "markdown",
   "metadata": {},
   "source": [
    "Add title for for the victims by city areas map frame"
   ]
  },
  {
   "cell_type": "code",
   "execution_count": null,
   "metadata": {},
   "outputs": [],
   "source": [
    "# Check if the title already exist and if it is, delete it\n",
    "if areasLayout.listElements(\"TEXT_ELEMENT\", \"t1\"):\n",
    "    areasLayout.deleteElement(\"t1\")\n",
    "\n",
    "# Add the title to the layout\n",
    "areasT1 = aprx.createTextElement(\n",
    "    container = areasLayout,\n",
    "    geometry = lytDict[\"areas\"][\"t1\"][\"geometry\"],\n",
    "    text_size = 20,\n",
    "    font_family_name = \"Inter 18pt Medium\",\n",
    "    style_item = None,\n",
    "    name = \"t1\",\n",
    "    text_type = \"POINT\",\n",
    "    text = f\"(a) Area Cities\"\n",
    ")"
   ]
  },
  {
   "cell_type": "markdown",
   "metadata": {},
   "source": [
    "Add title properties"
   ]
  },
  {
   "cell_type": "code",
   "execution_count": null,
   "metadata": {},
   "outputs": [],
   "source": [
    "# Set up title properties\n",
    "areasT1.name = \"t1\"\n",
    "areasT1.setAnchor(lytDict[\"areas\"][\"t1\"][\"anchor\"])\n",
    "areasT1.elementPositionX = lytDict[\"areas\"][\"t1\"][\"coordX\"]\n",
    "areasT1.elementPositionY = lytDict[\"areas\"][\"t1\"][\"coordY\"]\n",
    "areasT1.elementRotation = 0\n",
    "areasT1.visible = True\n",
    "areasT1.text = f\"(a) Area Cities\"\n",
    "areasT1.textSize = 20\n",
    "areasT1Cim = areasT1.getDefinition(\"V3\")"
   ]
  },
  {
   "cell_type": "markdown",
   "metadata": {},
   "source": [
    "<h3 style=\"font-weight:bold; color:lime; padding-left: 50px\">Title 2</h3>"
   ]
  },
  {
   "cell_type": "markdown",
   "metadata": {},
   "source": [
    "Add title for for the victims by census blocks map frame"
   ]
  },
  {
   "cell_type": "code",
   "execution_count": null,
   "metadata": {},
   "outputs": [],
   "source": [
    "# Check if the title already exist and if it is, delete it\n",
    "if areasLayout.listElements(\"TEXT_ELEMENT\", \"t2\"):\n",
    "    areasLayout.deleteElement(\"t2\")\n",
    "\n",
    "# Add the title to the layout\n",
    "areasT2 = aprx.createTextElement(\n",
    "    container = areasLayout,\n",
    "    geometry = lytDict[\"areas\"][\"t2\"][\"geometry\"],\n",
    "    text_size = 20,\n",
    "    font_family_name = \"Inter 18pt Medium\",\n",
    "    style_item = None,\n",
    "    name = \"t2\",\n",
    "    text_type = \"POINT\",\n",
    "    text = f\"(b) Area Blocks\"\n",
    ")"
   ]
  },
  {
   "cell_type": "markdown",
   "metadata": {},
   "source": [
    "Add title properties"
   ]
  },
  {
   "cell_type": "code",
   "execution_count": null,
   "metadata": {},
   "outputs": [],
   "source": [
    "# Set up title properties\n",
    "areasT2.name = \"t2\"\n",
    "areasT2.setAnchor(lytDict[\"areas\"][\"t2\"][\"anchor\"])\n",
    "areasT2.elementPositionX = lytDict[\"areas\"][\"t2\"][\"coordX\"]\n",
    "areasT2.elementPositionY = lytDict[\"areas\"][\"t2\"][\"coordY\"]\n",
    "areasT2.elementRotation = 0\n",
    "areasT2.visible = True\n",
    "areasT2.text = f\"(b) Area Blocks\"\n",
    "areasT2.textSize = 20\n",
    "areasT2Cim = areasT2.getDefinition(\"V3\")"
   ]
  },
  {
   "cell_type": "markdown",
   "metadata": {},
   "source": [
    "<h2 style=\"font-weight:bold; color:dodgerblue; border-bottom: 1px solid dodgerblue; padding-left: 25px\">9.8. Export City Areas Layout</h2>"
   ]
  },
  {
   "cell_type": "markdown",
   "metadata": {},
   "source": [
    "Get city areas layout CIM"
   ]
  },
  {
   "cell_type": "code",
   "execution_count": null,
   "metadata": {},
   "outputs": [],
   "source": [
    "areasLayoutCim = areasLayout.getDefinition(\"V3\")  # Areas layout CIM"
   ]
  },
  {
   "cell_type": "markdown",
   "metadata": {},
   "source": [
    "Export city areas layout to disk"
   ]
  },
  {
   "cell_type": "code",
   "execution_count": null,
   "metadata": {},
   "outputs": [],
   "source": [
    "exportCim(\"layout\", areasLayout, areasLayout.name)"
   ]
  },
  {
   "cell_type": "markdown",
   "metadata": {},
   "source": [
    "Export layout image to the graphics project directory"
   ]
  },
  {
   "cell_type": "code",
   "execution_count": null,
   "metadata": {},
   "outputs": [],
   "source": [
    "# Export areas layout to PNG (Figure 16)\n",
    "areasLayout.exportToPNG(\n",
    "    out_png = os.path.join(graphicsFolder, \"Fig16-AreasLayout.png\"),\n",
    "    resolution = 300,\n",
    "    color_mode = \"24-BIT_TRUE_COLOR\",\n",
    "    transparent_background = False,\n",
    "    embed_color_profile = False,\n",
    "    clip_to_elements = True\n",
    ")"
   ]
  },
  {
   "cell_type": "markdown",
   "metadata": {},
   "source": [
    "<h3 style=\"font-weight:bold; color:lime; padding-left: 50px\">Save Project</h3>"
   ]
  },
  {
   "cell_type": "code",
   "execution_count": null,
   "metadata": {},
   "outputs": [],
   "source": [
    "# Save the project\n",
    "aprx.save()"
   ]
  },
  {
   "cell_type": "markdown",
   "metadata": {},
   "source": [
    "<h1 style=\"font-weight:bold; color:orangered; border-bottom: 2px solid orangered\">10. Layout Elements and CIM</h1>"
   ]
  },
  {
   "cell_type": "markdown",
   "metadata": {},
   "source": [
    "<h2 style=\"font-weight:bold; color:dodgerblue; border-bottom: 1px solid dodgerblue; padding-left: 25px\">4.1. Maps Layout Elements</h2>"
   ]
  },
  {
   "cell_type": "markdown",
   "metadata": {},
   "source": [
    "<h3 style=\"font-weight:bold; color:lime; padding-left: 50px\">Layout Elements</h3>"
   ]
  },
  {
   "cell_type": "markdown",
   "metadata": {},
   "source": [
    "Get all the elements of the layout by element type and functionality"
   ]
  },
  {
   "cell_type": "code",
   "execution_count": null,
   "metadata": {},
   "outputs": [],
   "source": [
    "# Layout element lists\n",
    "mapsLayoutMapFrames = mapsLayout.listElements(element_type = \"MAPFRAME_ELEMENT\")\n",
    "mapsLayoutLegendSet = mapsLayout.listElements(element_type = \"LEGEND_ELEMENT\")\n",
    "mapsLayoutScaleBars = mapsLayout.listElements(element_type = \"MAPSURROUND_ELEMENT\", wildcard = \"sb\")\n",
    "mapsLayoutNorthArrows = mapsLayout.listElements(element_type = \"MAPSURROUND_ELEMENT\", wildcard = \"na\")\n",
    "mapsLayoutTitles = mapsLayout.listElements(element_type = \"TEXT_ELEMENT\", wildcard = \"t*\")\n",
    "mapsLayoutText = mapsLayout.listElements(element_type = \"TEXT_ELEMENT\", wildcard = \"cr\")"
   ]
  },
  {
   "cell_type": "markdown",
   "metadata": {},
   "source": [
    "<h3 style=\"font-weight:bold; color:lime; padding-left: 50px\">Map Frames</h3>"
   ]
  },
  {
   "cell_type": "markdown",
   "metadata": {},
   "source": [
    "Get the map frames of the layout elements "
   ]
  },
  {
   "cell_type": "code",
   "execution_count": null,
   "metadata": {},
   "outputs": [],
   "source": [
    "# List map frames\n",
    "print(f\"Map Frames:\")\n",
    "for i in mapsLayoutMapFrames:\n",
    "    print(f\"- {i.name}\")"
   ]
  },
  {
   "cell_type": "code",
   "execution_count": null,
   "metadata": {},
   "outputs": [],
   "source": [
    "# Get map frames\n",
    "mapsLayoutMf1 = mapsLayout.listElements(element_type = \"MAPFRAME_ELEMENT\", wildcard = \"mapsMf1\")[0]\n",
    "mapsLayoutMf2 = mapsLayout.listElements(element_type = \"MAPFRAME_ELEMENT\", wildcard = \"mapsMf2\")[0]\n",
    "mapsLayoutMf3 = mapsLayout.listElements(element_type = \"MAPFRAME_ELEMENT\", wildcard = \"mapsMf3\")[0]\n",
    "mapsLayoutMf4 = mapsLayout.listElements(element_type = \"MAPFRAME_ELEMENT\", wildcard = \"mapsMf4\")[0]"
   ]
  },
  {
   "cell_type": "markdown",
   "metadata": {},
   "source": [
    "Get the map frame CIM objects for each map frame"
   ]
  },
  {
   "cell_type": "code",
   "execution_count": null,
   "metadata": {},
   "outputs": [],
   "source": [
    "# get map frame CIMs\n",
    "mapsLayoutMf1Cim = mapsLayoutMf1.getDefinition(\"V3\")\n",
    "mapsLayoutMf2Cim = mapsLayoutMf2.getDefinition(\"V3\")\n",
    "mapsLayoutMf3Cim = mapsLayoutMf3.getDefinition(\"V3\")\n",
    "mapsLayoutMf4Cim = mapsLayoutMf4.getDefinition(\"V3\")"
   ]
  },
  {
   "cell_type": "markdown",
   "metadata": {},
   "source": [
    "<h3 style=\"font-weight:bold; color:lime; padding-left: 50px\">Legends</h3>"
   ]
  },
  {
   "cell_type": "markdown",
   "metadata": {},
   "source": [
    "Get the legends of the layout"
   ]
  },
  {
   "cell_type": "code",
   "execution_count": null,
   "metadata": {},
   "outputs": [],
   "source": [
    "# List legends\n",
    "print(f\"Legends:\")\n",
    "for i in mapsLayoutLegendSet:\n",
    "    print(f\"- {i.name}\")"
   ]
  },
  {
   "cell_type": "code",
   "execution_count": null,
   "metadata": {},
   "outputs": [],
   "source": [
    "# Get legends\n",
    "mapsLayoutLg1 = mapsLayout.listElements(element_type = \"LEGEND_ELEMENT\", wildcard = \"lg1\")[0]\n",
    "mapsLayoutLg2 = mapsLayout.listElements(element_type = \"LEGEND_ELEMENT\", wildcard = \"lg2\")[0]\n",
    "mapsLayoutLg3 = mapsLayout.listElements(element_type = \"LEGEND_ELEMENT\", wildcard = \"lg3\")[0]"
   ]
  },
  {
   "cell_type": "markdown",
   "metadata": {},
   "source": [
    "Get the legend CIM objects for each legend"
   ]
  },
  {
   "cell_type": "code",
   "execution_count": null,
   "metadata": {},
   "outputs": [],
   "source": [
    "# Get legend CIMs\n",
    "mapsLayoutLg1Cim = mapsLayoutLg1.getDefinition(\"V3\")\n",
    "mapsLayoutLg2Cim = mapsLayoutLg2.getDefinition(\"V3\")\n",
    "mapsLayoutLg3Cim = mapsLayoutLg3.getDefinition(\"V3\")"
   ]
  },
  {
   "cell_type": "markdown",
   "metadata": {},
   "source": [
    "<h3 style=\"font-weight:bold; color:lime; padding-left: 50px\">Scale Bar and North Arrow</h3>"
   ]
  },
  {
   "cell_type": "markdown",
   "metadata": {},
   "source": [
    "Get the scale bar and north arrow of the layout"
   ]
  },
  {
   "cell_type": "code",
   "execution_count": null,
   "metadata": {},
   "outputs": [],
   "source": [
    "# List scale bars\n",
    "print(f\"Scale Bars:\")\n",
    "for i in mapsLayoutScaleBars:\n",
    "    print(f\"- {i.name}\")\n",
    "\n",
    "# List north arrows\n",
    "print(f\"North Arrows:\")\n",
    "for i in mapsLayoutNorthArrows:\n",
    "    print(f\"- {i.name}\")"
   ]
  },
  {
   "cell_type": "code",
   "execution_count": null,
   "metadata": {},
   "outputs": [],
   "source": [
    "# Get scale bars and north arrows\n",
    "mapsLayoutSb = mapsLayout.listElements(element_type = \"MAPSURROUND_ELEMENT\", wildcard = \"sb\")[0]\n",
    "mapsLayoutNa = mapsLayout.listElements(element_type = \"MAPSURROUND_ELEMENT\", wildcard = \"na\")[0]"
   ]
  },
  {
   "cell_type": "markdown",
   "metadata": {},
   "source": [
    "Get the scale bar and north arrow CIM objects"
   ]
  },
  {
   "cell_type": "code",
   "execution_count": null,
   "metadata": {},
   "outputs": [],
   "source": [
    "# Get scale bar and north arrow CIMs\n",
    "mapsLayoutSbCim = mapsLayoutSb.getDefinition(\"V3\")\n",
    "mapsLayoutNaCim = mapsLayoutNa.getDefinition(\"V3\")"
   ]
  },
  {
   "cell_type": "markdown",
   "metadata": {},
   "source": [
    "<h3 style=\"font-weight:bold; color:lime; padding-left: 50px\">Titles and Text Elements</h3>"
   ]
  },
  {
   "cell_type": "markdown",
   "metadata": {},
   "source": [
    "Get the titles and text elements of the layout"
   ]
  },
  {
   "cell_type": "code",
   "execution_count": null,
   "metadata": {},
   "outputs": [],
   "source": [
    "# List titles\n",
    "print(f\"Titles:\")\n",
    "for i in mapsLayoutTitles:\n",
    "    print(f\"- {i.name}\")\n",
    "\n",
    "# List text\n",
    "print(f\"Text:\")\n",
    "for i in mapsLayoutText:\n",
    "    print(f\"- {i.name}\")"
   ]
  },
  {
   "cell_type": "code",
   "execution_count": null,
   "metadata": {},
   "outputs": [],
   "source": [
    "# Get titles and text\n",
    "mapsLayoutT1 = mapsLayout.listElements(element_type = \"TEXT_ELEMENT\", wildcard = \"t1\")[0]\n",
    "mapsLayoutT2 = mapsLayout.listElements(element_type = \"TEXT_ELEMENT\", wildcard = \"t2\")[0]\n",
    "mapsLayoutT3 = mapsLayout.listElements(element_type = \"TEXT_ELEMENT\", wildcard = \"t3\")[0]\n",
    "mapsLayoutT4 = mapsLayout.listElements(element_type = \"TEXT_ELEMENT\", wildcard = \"t4\")[0]\n",
    "mapsLayoutCr = mapsLayout.listElements(element_type = \"TEXT_ELEMENT\", wildcard = \"cr\")[0]"
   ]
  },
  {
   "cell_type": "markdown",
   "metadata": {},
   "source": [
    "Get the title and text CIM objects"
   ]
  },
  {
   "cell_type": "code",
   "execution_count": null,
   "metadata": {},
   "outputs": [],
   "source": [
    "# Get title and text CIMs\n",
    "mapsLayoutT1Cim = mapsLayoutT1.getDefinition(\"V3\")\n",
    "mapsLayoutT2Cim = mapsLayoutT2.getDefinition(\"V3\")\n",
    "mapsLayoutT3Cim = mapsLayoutT3.getDefinition(\"V3\")\n",
    "mapsLayoutT4Cim = mapsLayoutT4.getDefinition(\"V3\")\n",
    "mapsLayoutCrCim = mapsLayoutCr.getDefinition(\"V3\")"
   ]
  },
  {
   "cell_type": "markdown",
   "metadata": {},
   "source": [
    "<h3 style=\"font-weight:bold; color:lime; padding-left: 50px\">Layout CIM</h3>"
   ]
  },
  {
   "cell_type": "markdown",
   "metadata": {},
   "source": [
    "Get the layout CIM object"
   ]
  },
  {
   "cell_type": "code",
   "execution_count": null,
   "metadata": {},
   "outputs": [],
   "source": [
    "# layout CIM\n",
    "mapsLayoutCIM = mapsLayout.getDefinition(\"V3\")"
   ]
  },
  {
   "cell_type": "markdown",
   "metadata": {},
   "source": [
    "Export the layout CIM to disk"
   ]
  },
  {
   "cell_type": "code",
   "execution_count": null,
   "metadata": {},
   "outputs": [],
   "source": [
    "# Export CIM to disk\n",
    "exportCim(\"layout\", mapsLayout, mapsLayout.name)"
   ]
  },
  {
   "cell_type": "markdown",
   "metadata": {},
   "source": [
    "<h2 style=\"font-weight:bold; color:dodgerblue; border-bottom: 1px solid dodgerblue; padding-left: 25px\">4.2. Injuries Layout Elements</h2>"
   ]
  },
  {
   "cell_type": "markdown",
   "metadata": {},
   "source": [
    "<h3 style=\"font-weight:bold; color:lime; padding-left: 50px\">Layout Elements</h3>"
   ]
  },
  {
   "cell_type": "markdown",
   "metadata": {},
   "source": [
    "Get all the elements of the layout by element type and functionality"
   ]
  },
  {
   "cell_type": "code",
   "execution_count": null,
   "metadata": {},
   "outputs": [],
   "source": [
    "# Layout element lists\n",
    "injuriesLayoutMapFrames = injuriesLayout.listElements(element_type = \"MAPFRAME_ELEMENT\")\n",
    "injuriesLayoutLegendSet = injuriesLayout.listElements(element_type = \"LEGEND_ELEMENT\")\n",
    "injuriesLayoutScaleBars = injuriesLayout.listElements(element_type = \"MAPSURROUND_ELEMENT\", wildcard = \"sb\")\n",
    "injuriesLayoutNorthArrows = injuriesLayout.listElements(element_type = \"MAPSURROUND_ELEMENT\", wildcard = \"na\")\n",
    "injuriesLayoutTitles = injuriesLayout.listElements(element_type = \"TEXT_ELEMENT\", wildcard = \"t*\")\n",
    "injuriesLayoutText = injuriesLayout.listElements(element_type = \"TEXT_ELEMENT\", wildcard = \"cr\")"
   ]
  },
  {
   "cell_type": "markdown",
   "metadata": {},
   "source": [
    "<h3 style=\"font-weight:bold; color:lime; padding-left: 50px\">Map Frames</h3>"
   ]
  },
  {
   "cell_type": "markdown",
   "metadata": {},
   "source": [
    "Get the map frames of the layout elements"
   ]
  },
  {
   "cell_type": "code",
   "execution_count": null,
   "metadata": {},
   "outputs": [],
   "source": [
    "# List map frames\n",
    "print(f\"Map Frames:\")\n",
    "for i in injuriesLayoutMapFrames:\n",
    "    print(f\"- {i.name}\")"
   ]
  },
  {
   "cell_type": "code",
   "execution_count": null,
   "metadata": {},
   "outputs": [],
   "source": [
    "# Get map frames\n",
    "injuriesLayoutMf1 = injuriesLayout.listElements(element_type = \"MAPFRAME_ELEMENT\", wildcard = \"injuriesMf1\")[0]\n",
    "injuriesLayoutMf2 = injuriesLayout.listElements(element_type = \"MAPFRAME_ELEMENT\", wildcard = \"injuriesMf2\")[0]"
   ]
  },
  {
   "cell_type": "markdown",
   "metadata": {},
   "source": [
    "Get the map frame CIM objects for each map frame"
   ]
  },
  {
   "cell_type": "code",
   "execution_count": null,
   "metadata": {},
   "outputs": [],
   "source": [
    "# get map frame CIMs\n",
    "injuriesLayoutMf1Cim = injuriesLayoutMf1.getDefinition(\"V3\")\n",
    "injuriesLayoutMf2Cim = injuriesLayoutMf2.getDefinition(\"V3\")"
   ]
  },
  {
   "cell_type": "markdown",
   "metadata": {},
   "source": [
    "<h3 style=\"font-weight:bold; color:lime; padding-left: 50px\">Legends</h3>"
   ]
  },
  {
   "cell_type": "markdown",
   "metadata": {},
   "source": [
    "Get the legends of the layout"
   ]
  },
  {
   "cell_type": "code",
   "execution_count": null,
   "metadata": {},
   "outputs": [],
   "source": [
    "# List legends\n",
    "print(f\"Legends:\")\n",
    "for i in injuriesLayoutLegendSet:\n",
    "    print(f\"- {i.name}\")"
   ]
  },
  {
   "cell_type": "code",
   "execution_count": null,
   "metadata": {},
   "outputs": [],
   "source": [
    "# Get legends\n",
    "injuriesLayoutLg1 = injuriesLayout.listElements(element_type = \"LEGEND_ELEMENT\", wildcard = \"lg1\")[0]\n",
    "injuriesLayoutLg2 = injuriesLayout.listElements(element_type = \"LEGEND_ELEMENT\", wildcard = \"lg2\")[0]"
   ]
  },
  {
   "cell_type": "markdown",
   "metadata": {},
   "source": [
    "Get the legend CIM objects for each legend"
   ]
  },
  {
   "cell_type": "code",
   "execution_count": null,
   "metadata": {},
   "outputs": [],
   "source": [
    "# Get legend CIMs\n",
    "injuriesLayoutLg1Cim = injuriesLayoutLg1.getDefinition(\"V3\")\n",
    "injuriesLayoutLg2Cim = injuriesLayoutLg2.getDefinition(\"V3\")"
   ]
  },
  {
   "cell_type": "markdown",
   "metadata": {},
   "source": [
    "<h3 style=\"font-weight:bold; color:lime; padding-left: 50px\">Scale Bar and North Arrow</h3>"
   ]
  },
  {
   "cell_type": "markdown",
   "metadata": {},
   "source": [
    "Get the scale bar and north arrow of the layout"
   ]
  },
  {
   "cell_type": "code",
   "execution_count": null,
   "metadata": {},
   "outputs": [],
   "source": [
    "# List scale bars\n",
    "print(f\"Scale Bars:\")\n",
    "for i in injuriesLayoutScaleBars:\n",
    "    print(f\"- {i.name}\")\n",
    "\n",
    "# List north arrows\n",
    "print(f\"North Arrows:\")\n",
    "for i in injuriesLayoutNorthArrows:\n",
    "    print(f\"- {i.name}\")"
   ]
  },
  {
   "cell_type": "code",
   "execution_count": null,
   "metadata": {},
   "outputs": [],
   "source": [
    "# Get scale bars and north arrows\n",
    "injuriesLayoutSb = injuriesLayout.listElements(element_type = \"MAPSURROUND_ELEMENT\", wildcard = \"sb\")[0]\n",
    "injuriesLayoutNa = injuriesLayout.listElements(element_type = \"MAPSURROUND_ELEMENT\", wildcard = \"na\")[0]"
   ]
  },
  {
   "cell_type": "markdown",
   "metadata": {},
   "source": [
    "Get the scale bar and north arrow CIM objects"
   ]
  },
  {
   "cell_type": "code",
   "execution_count": null,
   "metadata": {},
   "outputs": [],
   "source": [
    "# Get scale bar and north arrow CIMs\n",
    "injuriesLayoutSbCim = injuriesLayoutSb.getDefinition(\"V3\")\n",
    "injuriesLayoutNaCim = injuriesLayoutNa.getDefinition(\"V3\")"
   ]
  },
  {
   "cell_type": "markdown",
   "metadata": {},
   "source": [
    "<h3 style=\"font-weight:bold; color:lime; padding-left: 50px\">Titles and Text Elements</h3>"
   ]
  },
  {
   "cell_type": "markdown",
   "metadata": {},
   "source": [
    "Get the titles and text elements of the layout"
   ]
  },
  {
   "cell_type": "code",
   "execution_count": null,
   "metadata": {},
   "outputs": [],
   "source": [
    "# List titles\n",
    "print(f\"Titles:\")\n",
    "for i in injuriesLayoutTitles:\n",
    "    print(f\"- {i.name}\")\n",
    "\n",
    "# List text\n",
    "print(f\"Text:\")\n",
    "for i in injuriesLayoutText:\n",
    "    print(f\"- {i.name}\")"
   ]
  },
  {
   "cell_type": "code",
   "execution_count": null,
   "metadata": {},
   "outputs": [],
   "source": [
    "# Get titles and text\n",
    "injuriesLayoutT1 = injuriesLayout.listElements(element_type = \"TEXT_ELEMENT\", wildcard = \"t1\")[0]\n",
    "injuriesLayoutT2 = injuriesLayout.listElements(element_type = \"TEXT_ELEMENT\", wildcard = \"t2\")[0]\n",
    "injuriesLayoutCr = injuriesLayout.listElements(element_type = \"TEXT_ELEMENT\", wildcard = \"cr\")[0]"
   ]
  },
  {
   "cell_type": "markdown",
   "metadata": {},
   "source": [
    "Get the title and text CIM objects"
   ]
  },
  {
   "cell_type": "code",
   "execution_count": null,
   "metadata": {},
   "outputs": [],
   "source": [
    "# Get title and text CIMs\n",
    "injuriesLayoutT1Cim = injuriesLayoutT1.getDefinition(\"V3\")\n",
    "injuriesLayoutT2Cim = injuriesLayoutT2.getDefinition(\"V3\")\n",
    "injuriesLayoutCrCim = injuriesLayoutCr.getDefinition(\"V3\")"
   ]
  },
  {
   "cell_type": "markdown",
   "metadata": {},
   "source": [
    "<h3 style=\"font-weight:bold; color:lime; padding-left: 50px\">Layout CIM</h3>"
   ]
  },
  {
   "cell_type": "markdown",
   "metadata": {},
   "source": [
    "Get the layout CIM object"
   ]
  },
  {
   "cell_type": "code",
   "execution_count": null,
   "metadata": {},
   "outputs": [],
   "source": [
    "# layout CIM\n",
    "injuriesLayoutCIM = injuriesLayout.getDefinition(\"V3\")"
   ]
  },
  {
   "cell_type": "markdown",
   "metadata": {},
   "source": [
    "Export the layout CIM to disk"
   ]
  },
  {
   "cell_type": "code",
   "execution_count": null,
   "metadata": {},
   "outputs": [],
   "source": [
    "# Export CIM to disk\n",
    "exportCim(\"layout\", injuriesLayout, injuriesLayout.name)"
   ]
  },
  {
   "cell_type": "markdown",
   "metadata": {},
   "source": [
    "<h2 style=\"font-weight:bold; color:dodgerblue; border-bottom: 1px solid dodgerblue; padding-left: 25px\">4.3. Hotspots Layout Elements</h2>"
   ]
  },
  {
   "cell_type": "markdown",
   "metadata": {},
   "source": [
    "<h3 style=\"font-weight:bold; color:lime; padding-left: 50px\">Layout Elements</h3>"
   ]
  },
  {
   "cell_type": "markdown",
   "metadata": {},
   "source": [
    "Get all the elements of the layout by element type and functionality"
   ]
  },
  {
   "cell_type": "code",
   "execution_count": null,
   "metadata": {},
   "outputs": [],
   "source": [
    "# Layout element lists\n",
    "hotspotsLayoutMapFrames = hotspotsLayout.listElements(element_type = \"MAPFRAME_ELEMENT\")\n",
    "hotspotsLayoutLegendSet = hotspotsLayout.listElements(element_type = \"LEGEND_ELEMENT\")\n",
    "hotspotsLayoutScaleBars = hotspotsLayout.listElements(element_type = \"MAPSURROUND_ELEMENT\", wildcard = \"sb\")\n",
    "hotspotsLayoutNorthArrows = hotspotsLayout.listElements(element_type = \"MAPSURROUND_ELEMENT\", wildcard = \"na\")\n",
    "hotspotsLayoutTitles = hotspotsLayout.listElements(element_type = \"TEXT_ELEMENT\", wildcard = \"t*\")\n",
    "hotspotsLayoutText = hotspotsLayout.listElements(element_type = \"TEXT_ELEMENT\", wildcard = \"cr\")"
   ]
  },
  {
   "cell_type": "markdown",
   "metadata": {},
   "source": [
    "<h3 style=\"font-weight:bold; color:lime; padding-left: 50px\">Map Frames</h3>"
   ]
  },
  {
   "cell_type": "markdown",
   "metadata": {},
   "source": [
    "Get the map frames of the layout elements"
   ]
  },
  {
   "cell_type": "code",
   "execution_count": null,
   "metadata": {},
   "outputs": [],
   "source": [
    "# List map frames\n",
    "print(f\"Map Frames:\")\n",
    "for i in hotspotsLayoutMapFrames:\n",
    "    print(f\"- {i.name}\")"
   ]
  },
  {
   "cell_type": "code",
   "execution_count": null,
   "metadata": {},
   "outputs": [],
   "source": [
    "# Get map frames\n",
    "hotspotsLayoutMf1 = hotspotsLayout.listElements(element_type = \"MAPFRAME_ELEMENT\", wildcard = \"hotspotsMf1\")[0]\n",
    "hotspotsLayoutMf2 = hotspotsLayout.listElements(element_type = \"MAPFRAME_ELEMENT\", wildcard = \"hotspotsMf2\")[0]\n",
    "hotspotsLayoutMf3 = hotspotsLayout.listElements(element_type = \"MAPFRAME_ELEMENT\", wildcard = \"hotspotsMf3\")[0]\n",
    "hotspotsLayoutMf4 = hotspotsLayout.listElements(element_type = \"MAPFRAME_ELEMENT\", wildcard = \"hotspotsMf4\")[0]"
   ]
  },
  {
   "cell_type": "markdown",
   "metadata": {},
   "source": [
    "Get the map frame CIM objects for each map frame"
   ]
  },
  {
   "cell_type": "code",
   "execution_count": null,
   "metadata": {},
   "outputs": [],
   "source": [
    "# get map frame CIMs\n",
    "hotspotsLayoutMf1Cim = hotspotsLayoutMf1.getDefinition(\"V3\")\n",
    "hotspotsLayoutMf2Cim = hotspotsLayoutMf2.getDefinition(\"V3\")\n",
    "hotspotsLayoutMf3Cim = hotspotsLayoutMf3.getDefinition(\"V3\")\n",
    "hotspotsLayoutMf4Cim = hotspotsLayoutMf4.getDefinition(\"V3\")"
   ]
  },
  {
   "cell_type": "markdown",
   "metadata": {},
   "source": [
    "<h3 style=\"font-weight:bold; color:lime; padding-left: 50px\">Legends</h3>"
   ]
  },
  {
   "cell_type": "markdown",
   "metadata": {},
   "source": [
    "Get the legends of the layout"
   ]
  },
  {
   "cell_type": "code",
   "execution_count": null,
   "metadata": {},
   "outputs": [],
   "source": [
    "# List legends\n",
    "print(f\"Legends:\")\n",
    "for i in hotspotsLayoutLegendSet:\n",
    "    print(f\"- {i.name}\")"
   ]
  },
  {
   "cell_type": "code",
   "execution_count": null,
   "metadata": {},
   "outputs": [],
   "source": [
    "# Get legends\n",
    "hotspotsLayoutLg1 = hotspotsLayout.listElements(element_type = \"LEGEND_ELEMENT\", wildcard = \"lg1\")[0]\n",
    "hotspotsLayoutLg2 = hotspotsLayout.listElements(element_type = \"LEGEND_ELEMENT\", wildcard = \"lg2\")[0]\n",
    "hotspotsLayoutLg3 = hotspotsLayout.listElements(element_type = \"LEGEND_ELEMENT\", wildcard = \"lg3\")[0]"
   ]
  },
  {
   "cell_type": "markdown",
   "metadata": {},
   "source": [
    "Get the legend CIM objects for each legend"
   ]
  },
  {
   "cell_type": "code",
   "execution_count": null,
   "metadata": {},
   "outputs": [],
   "source": [
    "# Get legend CIMs\n",
    "hotspotsLayoutLg1Cim = hotspotsLayoutLg1.getDefinition(\"V3\")\n",
    "hotspotsLayoutLg2Cim = hotspotsLayoutLg2.getDefinition(\"V3\")\n",
    "hotspotsLayoutLg3Cim = hotspotsLayoutLg3.getDefinition(\"V3\")"
   ]
  },
  {
   "cell_type": "markdown",
   "metadata": {},
   "source": [
    "<h3 style=\"font-weight:bold; color:lime; padding-left: 50px\">Scale Bar and North Arrow</h3>"
   ]
  },
  {
   "cell_type": "markdown",
   "metadata": {},
   "source": [
    "Get the scale bar and north arrow of the layout"
   ]
  },
  {
   "cell_type": "code",
   "execution_count": null,
   "metadata": {},
   "outputs": [],
   "source": [
    "# List scale bars\n",
    "print(f\"Scale Bars:\")\n",
    "for i in hotspotsLayoutScaleBars:\n",
    "    print(f\"- {i.name}\")\n",
    "\n",
    "# List north arrows\n",
    "print(f\"North Arrows:\")\n",
    "for i in hotspotsLayoutNorthArrows:\n",
    "    print(f\"- {i.name}\")"
   ]
  },
  {
   "cell_type": "code",
   "execution_count": null,
   "metadata": {},
   "outputs": [],
   "source": [
    "# Get scale bars and north arrows\n",
    "hotspotsLayoutSb = hotspotsLayout.listElements(element_type = \"MAPSURROUND_ELEMENT\", wildcard = \"sb\")[0]\n",
    "hotspotsLayoutNa = hotspotsLayout.listElements(element_type = \"MAPSURROUND_ELEMENT\", wildcard = \"na\")[0]"
   ]
  },
  {
   "cell_type": "markdown",
   "metadata": {},
   "source": [
    "Get the scale bar and north arrow CIM objects"
   ]
  },
  {
   "cell_type": "code",
   "execution_count": null,
   "metadata": {},
   "outputs": [],
   "source": [
    "# Get scale bar and north arrow CIMs\n",
    "hotspotsLayoutSbCim = hotspotsLayoutSb.getDefinition(\"V3\")\n",
    "hotspotsLayoutNaCim = hotspotsLayoutNa.getDefinition(\"V3\")"
   ]
  },
  {
   "cell_type": "markdown",
   "metadata": {},
   "source": [
    "<h3 style=\"font-weight:bold; color:lime; padding-left: 50px\">Titles and Text Elements</h3>"
   ]
  },
  {
   "cell_type": "markdown",
   "metadata": {},
   "source": [
    "Get the titles and text elements of the layout"
   ]
  },
  {
   "cell_type": "code",
   "execution_count": null,
   "metadata": {},
   "outputs": [],
   "source": [
    "# List titles\n",
    "print(f\"Titles:\")\n",
    "for i in hotspotsLayoutTitles:\n",
    "    print(f\"- {i.name}\")\n",
    "\n",
    "# List text\n",
    "print(f\"Text:\")\n",
    "for i in hotspotsLayoutText:\n",
    "    print(f\"- {i.name}\")"
   ]
  },
  {
   "cell_type": "code",
   "execution_count": null,
   "metadata": {},
   "outputs": [],
   "source": [
    "# Get titles and text\n",
    "hotspotsLayoutT1 = hotspotsLayout.listElements(element_type = \"TEXT_ELEMENT\", wildcard = \"t1\")[0]\n",
    "hotspotsLayoutT2 = hotspotsLayout.listElements(element_type = \"TEXT_ELEMENT\", wildcard = \"t2\")[0]\n",
    "hotspotsLayoutT3 = hotspotsLayout.listElements(element_type = \"TEXT_ELEMENT\", wildcard = \"t3\")[0]\n",
    "hotspotsLayoutT4 = hotspotsLayout.listElements(element_type = \"TEXT_ELEMENT\", wildcard = \"t4\")[0]\n",
    "hotspotsLayoutCr = hotspotsLayout.listElements(element_type = \"TEXT_ELEMENT\", wildcard = \"cr\")[0]"
   ]
  },
  {
   "cell_type": "markdown",
   "metadata": {},
   "source": [
    "Get the title and text CIM objects"
   ]
  },
  {
   "cell_type": "code",
   "execution_count": null,
   "metadata": {},
   "outputs": [],
   "source": [
    "# Get title and text CIMs\n",
    "hotspotsLayoutT1Cim = hotspotsLayoutT1.getDefinition(\"V3\")\n",
    "hotspotsLayoutT2Cim = hotspotsLayoutT2.getDefinition(\"V3\")\n",
    "hotspotsLayoutT3Cim = hotspotsLayoutT3.getDefinition(\"V3\")\n",
    "hotspotsLayoutT4Cim = hotspotsLayoutT4.getDefinition(\"V3\")\n",
    "hotspotsLayoutCrCim = hotspotsLayoutCr.getDefinition(\"V3\")"
   ]
  },
  {
   "cell_type": "markdown",
   "metadata": {},
   "source": [
    "<h3 style=\"font-weight:bold; color:lime; padding-left: 50px\">Layout CIM</h3>"
   ]
  },
  {
   "cell_type": "markdown",
   "metadata": {},
   "source": [
    "Get the layout CIM object"
   ]
  },
  {
   "cell_type": "code",
   "execution_count": null,
   "metadata": {},
   "outputs": [],
   "source": [
    "# layout CIM\n",
    "hotspotsLayoutCIM = hotspotsLayout.getDefinition(\"V3\")"
   ]
  },
  {
   "cell_type": "markdown",
   "metadata": {},
   "source": [
    "Export the layout CIM to disk"
   ]
  },
  {
   "cell_type": "code",
   "execution_count": null,
   "metadata": {},
   "outputs": [],
   "source": [
    "# Export CIM to disk\n",
    "exportCim(\"layout\", hotspotsLayout, hotspotsLayout.name)"
   ]
  },
  {
   "cell_type": "markdown",
   "metadata": {},
   "source": [
    "<h2 style=\"font-weight:bold; color:dodgerblue; border-bottom: 1px solid dodgerblue; padding-left: 25px\">4.4. Roads Layout Elements</h2>"
   ]
  },
  {
   "cell_type": "markdown",
   "metadata": {},
   "source": [
    "<h3 style=\"font-weight:bold; color:lime; padding-left: 50px\">Layout Elements</h3>"
   ]
  },
  {
   "cell_type": "markdown",
   "metadata": {},
   "source": [
    "Get all the elements of the layout by element type and functionality"
   ]
  },
  {
   "cell_type": "code",
   "execution_count": null,
   "metadata": {},
   "outputs": [],
   "source": [
    "# Layout element lists\n",
    "roadsLayoutMapFrames = roadsLayout.listElements(element_type = \"MAPFRAME_ELEMENT\")\n",
    "roadsLayoutLegendSet = roadsLayout.listElements(element_type = \"LEGEND_ELEMENT\")\n",
    "roadsLayoutScaleBars = roadsLayout.listElements(element_type = \"MAPSURROUND_ELEMENT\", wildcard = \"sb\")\n",
    "roadsLayoutNorthArrows = roadsLayout.listElements(element_type = \"MAPSURROUND_ELEMENT\", wildcard = \"na\")\n",
    "roadsLayoutTitles = roadsLayout.listElements(element_type = \"TEXT_ELEMENT\", wildcard = \"t*\")\n",
    "roadsLayoutText = roadsLayout.listElements(element_type = \"TEXT_ELEMENT\", wildcard = \"cr\")"
   ]
  },
  {
   "cell_type": "markdown",
   "metadata": {},
   "source": [
    "<h3 style=\"font-weight:bold; color:lime; padding-left: 50px\">Map Frames</h3>"
   ]
  },
  {
   "cell_type": "markdown",
   "metadata": {},
   "source": [
    "Get the map frames of the layout elements"
   ]
  },
  {
   "cell_type": "code",
   "execution_count": null,
   "metadata": {},
   "outputs": [],
   "source": [
    "# List map frames\n",
    "print(f\"Map Frames:\")\n",
    "for i in roadsLayoutMapFrames:\n",
    "    print(f\"- {i.name}\")"
   ]
  },
  {
   "cell_type": "code",
   "execution_count": null,
   "metadata": {},
   "outputs": [],
   "source": [
    "# Get map frames\n",
    "roadsLayoutMf1 = roadsLayout.listElements(element_type = \"MAPFRAME_ELEMENT\", wildcard = \"roadsMf1\")[0]\n",
    "roadsLayoutMf2 = roadsLayout.listElements(element_type = \"MAPFRAME_ELEMENT\", wildcard = \"roadsMf2\")[0]\n",
    "roadsLayoutMf3 = roadsLayout.listElements(element_type = \"MAPFRAME_ELEMENT\", wildcard = \"roadsMf3\")[0]\n",
    "roadsLayoutMf4 = roadsLayout.listElements(element_type = \"MAPFRAME_ELEMENT\", wildcard = \"roadsMf4\")[0]"
   ]
  },
  {
   "cell_type": "markdown",
   "metadata": {},
   "source": [
    "Get the map frame CIM objects for each map frame"
   ]
  },
  {
   "cell_type": "code",
   "execution_count": null,
   "metadata": {},
   "outputs": [],
   "source": [
    "# get map frame CIMs\n",
    "roadsLayoutMf1Cim = roadsLayoutMf1.getDefinition(\"V3\")\n",
    "roadsLayoutMf2Cim = roadsLayoutMf2.getDefinition(\"V3\")\n",
    "roadsLayoutMf3Cim = roadsLayoutMf3.getDefinition(\"V3\")\n",
    "roadsLayoutMf4Cim = roadsLayoutMf4.getDefinition(\"V3\")"
   ]
  },
  {
   "cell_type": "markdown",
   "metadata": {},
   "source": [
    "<h3 style=\"font-weight:bold; color:lime; padding-left: 50px\">Legends</h3>"
   ]
  },
  {
   "cell_type": "markdown",
   "metadata": {},
   "source": [
    "Get the legends of the layout"
   ]
  },
  {
   "cell_type": "code",
   "execution_count": null,
   "metadata": {},
   "outputs": [],
   "source": [
    "# List legends\n",
    "print(f\"Legends:\")\n",
    "for i in roadsLayoutLegendSet:\n",
    "    print(f\"- {i.name}\")"
   ]
  },
  {
   "cell_type": "code",
   "execution_count": null,
   "metadata": {},
   "outputs": [],
   "source": [
    "# Get legends\n",
    "roadsLayoutLg1 = roadsLayout.listElements(element_type = \"LEGEND_ELEMENT\", wildcard = \"lg1\")[0]\n",
    "roadsLayoutLg2 = roadsLayout.listElements(element_type = \"LEGEND_ELEMENT\", wildcard = \"lg2\")[0]\n",
    "roadsLayoutLg3 = roadsLayout.listElements(element_type = \"LEGEND_ELEMENT\", wildcard = \"lg3\")[0]\n",
    "roadsLayoutLg4 = roadsLayout.listElements(element_type = \"LEGEND_ELEMENT\", wildcard = \"lg4\")[0]"
   ]
  },
  {
   "cell_type": "markdown",
   "metadata": {},
   "source": [
    "Get the legend CIM objects for each legend"
   ]
  },
  {
   "cell_type": "code",
   "execution_count": null,
   "metadata": {},
   "outputs": [],
   "source": [
    "# Get legend CIMs\n",
    "roadsLayoutLg1Cim = roadsLayoutLg1.getDefinition(\"V3\")\n",
    "roadsLayoutLg2Cim = roadsLayoutLg2.getDefinition(\"V3\")\n",
    "roadsLayoutLg3Cim = roadsLayoutLg3.getDefinition(\"V3\")\n",
    "roadsLayoutLg4Cim = roadsLayoutLg4.getDefinition(\"V3\")"
   ]
  },
  {
   "cell_type": "markdown",
   "metadata": {},
   "source": [
    "<h3 style=\"font-weight:bold; color:lime; padding-left: 50px\">Scale Bar and North Arrow</h3>"
   ]
  },
  {
   "cell_type": "markdown",
   "metadata": {},
   "source": [
    "Get the scale bar and north arrow of the layout"
   ]
  },
  {
   "cell_type": "code",
   "execution_count": null,
   "metadata": {},
   "outputs": [],
   "source": [
    "# List scale bars\n",
    "print(f\"Scale Bars:\")\n",
    "for i in roadsLayoutScaleBars:\n",
    "    print(f\"- {i.name}\")\n",
    "\n",
    "# List north arrows\n",
    "print(f\"North Arrows:\")\n",
    "for i in roadsLayoutNorthArrows:\n",
    "    print(f\"- {i.name}\")"
   ]
  },
  {
   "cell_type": "code",
   "execution_count": null,
   "metadata": {},
   "outputs": [],
   "source": [
    "# Get scale bars and north arrows\n",
    "roadsLayoutSb = roadsLayout.listElements(element_type = \"MAPSURROUND_ELEMENT\", wildcard = \"sb\")[0]\n",
    "roadsLayoutNa = roadsLayout.listElements(element_type = \"MAPSURROUND_ELEMENT\", wildcard = \"na\")[0]"
   ]
  },
  {
   "cell_type": "markdown",
   "metadata": {},
   "source": [
    "Get the scale bar and north arrow CIM objects"
   ]
  },
  {
   "cell_type": "code",
   "execution_count": null,
   "metadata": {},
   "outputs": [],
   "source": [
    "# Get scale bar and north arrow CIMs\n",
    "roadsLayoutSbCim = roadsLayoutSb.getDefinition(\"V3\")\n",
    "roadsLayoutNaCim = roadsLayoutNa.getDefinition(\"V3\")"
   ]
  },
  {
   "cell_type": "markdown",
   "metadata": {},
   "source": [
    "<h3 style=\"font-weight:bold; color:lime; padding-left: 50px\">Titles and Text Elements</h3>"
   ]
  },
  {
   "cell_type": "markdown",
   "metadata": {},
   "source": [
    "Get the titles and text elements of the layout"
   ]
  },
  {
   "cell_type": "code",
   "execution_count": null,
   "metadata": {},
   "outputs": [],
   "source": [
    "# List titles\n",
    "print(f\"Titles:\")\n",
    "for i in roadsLayoutTitles:\n",
    "    print(f\"- {i.name}\")\n",
    "\n",
    "# List text\n",
    "print(f\"Text:\")\n",
    "for i in roadsLayoutText:\n",
    "    print(f\"- {i.name}\")"
   ]
  },
  {
   "cell_type": "code",
   "execution_count": null,
   "metadata": {},
   "outputs": [],
   "source": [
    "# Get titles and text\n",
    "roadsLayoutT1 = roadsLayout.listElements(element_type = \"TEXT_ELEMENT\", wildcard = \"t1\")[0]\n",
    "roadsLayoutT2 = roadsLayout.listElements(element_type = \"TEXT_ELEMENT\", wildcard = \"t2\")[0]\n",
    "roadsLayoutT3 = roadsLayout.listElements(element_type = \"TEXT_ELEMENT\", wildcard = \"t3\")[0]\n",
    "roadsLayoutT4 = roadsLayout.listElements(element_type = \"TEXT_ELEMENT\", wildcard = \"t4\")[0]\n",
    "roadsLayoutCr = roadsLayout.listElements(element_type = \"TEXT_ELEMENT\", wildcard = \"cr\")[0]"
   ]
  },
  {
   "cell_type": "markdown",
   "metadata": {},
   "source": [
    "Get the title and text CIM objects"
   ]
  },
  {
   "cell_type": "code",
   "execution_count": null,
   "metadata": {},
   "outputs": [],
   "source": [
    "# Get title and text CIMs\n",
    "roadsLayoutT1Cim = roadsLayoutT1.getDefinition(\"V3\")\n",
    "roadsLayoutT2Cim = roadsLayoutT2.getDefinition(\"V3\")\n",
    "roadsLayoutT3Cim = roadsLayoutT3.getDefinition(\"V3\")\n",
    "roadsLayoutT4Cim = roadsLayoutT4.getDefinition(\"V3\")\n",
    "roadsLayoutCrCim = roadsLayoutCr.getDefinition(\"V3\")"
   ]
  },
  {
   "cell_type": "markdown",
   "metadata": {},
   "source": [
    "<h3 style=\"font-weight:bold; color:lime; padding-left: 50px\">Layout CIM</h3>"
   ]
  },
  {
   "cell_type": "markdown",
   "metadata": {},
   "source": [
    "Get the layout CIM object"
   ]
  },
  {
   "cell_type": "code",
   "execution_count": null,
   "metadata": {},
   "outputs": [],
   "source": [
    "# layout CIM\n",
    "roadsLayoutCIM = roadsLayout.getDefinition(\"V3\")"
   ]
  },
  {
   "cell_type": "markdown",
   "metadata": {},
   "source": [
    "Export the layout CIM to disk"
   ]
  },
  {
   "cell_type": "code",
   "execution_count": null,
   "metadata": {},
   "outputs": [],
   "source": [
    "# Export CIM to disk\n",
    "exportCim(\"layout\", roadsLayout, roadsLayout.name)"
   ]
  },
  {
   "cell_type": "markdown",
   "metadata": {},
   "source": [
    "<h2 style=\"font-weight:bold; color:dodgerblue; border-bottom: 1px solid dodgerblue; padding-left: 25px\">4.5. Points Layout Elements</h2>"
   ]
  },
  {
   "cell_type": "markdown",
   "metadata": {},
   "source": [
    "<h3 style=\"font-weight:bold; color:lime; padding-left: 50px\">Layout Elements</h3>"
   ]
  },
  {
   "cell_type": "markdown",
   "metadata": {},
   "source": [
    "Get all the elements of the layout by element type and functionality"
   ]
  },
  {
   "cell_type": "code",
   "execution_count": null,
   "metadata": {},
   "outputs": [],
   "source": [
    "# Layout element lists\n",
    "pointsLayoutMapFrames = pointsLayout.listElements(element_type = \"MAPFRAME_ELEMENT\")\n",
    "pointsLayoutLegendSet = pointsLayout.listElements(element_type = \"LEGEND_ELEMENT\")\n",
    "pointsLayoutScaleBars = pointsLayout.listElements(element_type = \"MAPSURROUND_ELEMENT\", wildcard = \"sb\")\n",
    "pointsLayoutNorthArrows = pointsLayout.listElements(element_type = \"MAPSURROUND_ELEMENT\", wildcard = \"na\")\n",
    "pointsLayoutTitles = pointsLayout.listElements(element_type = \"TEXT_ELEMENT\", wildcard = \"t*\")\n",
    "pointsLayoutText = pointsLayout.listElements(element_type = \"TEXT_ELEMENT\", wildcard = \"cr\")"
   ]
  },
  {
   "cell_type": "markdown",
   "metadata": {},
   "source": [
    "<h3 style=\"font-weight:bold; color:lime; padding-left: 50px\">Map Frames</h3>"
   ]
  },
  {
   "cell_type": "markdown",
   "metadata": {},
   "source": [
    "Get the map frames of the layout elements"
   ]
  },
  {
   "cell_type": "code",
   "execution_count": null,
   "metadata": {},
   "outputs": [],
   "source": [
    "# List map frames\n",
    "print(f\"Map Frames:\")\n",
    "for i in pointsLayoutMapFrames:\n",
    "    print(f\"- {i.name}\")"
   ]
  },
  {
   "cell_type": "code",
   "execution_count": null,
   "metadata": {},
   "outputs": [],
   "source": [
    "# Get map frames\n",
    "pointsLayoutMf1 = pointsLayout.listElements(element_type = \"MAPFRAME_ELEMENT\", wildcard = \"pointsMf1\")[0]\n",
    "pointsLayoutMf2 = pointsLayout.listElements(element_type = \"MAPFRAME_ELEMENT\", wildcard = \"pointsMf2\")[0]"
   ]
  },
  {
   "cell_type": "markdown",
   "metadata": {},
   "source": [
    "Get the map frame CIM objects for each map frame"
   ]
  },
  {
   "cell_type": "code",
   "execution_count": null,
   "metadata": {},
   "outputs": [],
   "source": [
    "# get map frame CIMs\n",
    "pointsLayoutMf1Cim = pointsLayoutMf1.getDefinition(\"V3\")\n",
    "pointsLayoutMf2Cim = pointsLayoutMf2.getDefinition(\"V3\")"
   ]
  },
  {
   "cell_type": "markdown",
   "metadata": {},
   "source": [
    "<h3 style=\"font-weight:bold; color:lime; padding-left: 50px\">Legends</h3>"
   ]
  },
  {
   "cell_type": "markdown",
   "metadata": {},
   "source": [
    "Get the legends of the layout"
   ]
  },
  {
   "cell_type": "code",
   "execution_count": null,
   "metadata": {},
   "outputs": [],
   "source": [
    "# List legends\n",
    "print(f\"Legends:\")\n",
    "for i in pointsLayoutLegendSet:\n",
    "    print(f\"- {i.name}\")"
   ]
  },
  {
   "cell_type": "code",
   "execution_count": null,
   "metadata": {},
   "outputs": [],
   "source": [
    "# Get legends\n",
    "pointsLayoutLg1 = pointsLayout.listElements(element_type = \"LEGEND_ELEMENT\", wildcard = \"lg1\")[0]\n",
    "pointsLayoutLg2 = pointsLayout.listElements(element_type = \"LEGEND_ELEMENT\", wildcard = \"lg2\")[0]"
   ]
  },
  {
   "cell_type": "markdown",
   "metadata": {},
   "source": [
    "Get the legend CIM objects for each legend"
   ]
  },
  {
   "cell_type": "code",
   "execution_count": null,
   "metadata": {},
   "outputs": [],
   "source": [
    "# Get legend CIMs\n",
    "pointsLayoutLg1Cim = pointsLayoutLg1.getDefinition(\"V3\")\n",
    "pointsLayoutLg2Cim = pointsLayoutLg2.getDefinition(\"V3\")"
   ]
  },
  {
   "cell_type": "markdown",
   "metadata": {},
   "source": [
    "<h3 style=\"font-weight:bold; color:lime; padding-left: 50px\">Scale Bar and North Arrow</h3>"
   ]
  },
  {
   "cell_type": "markdown",
   "metadata": {},
   "source": [
    "Get the scale bar and north arrow of the layout"
   ]
  },
  {
   "cell_type": "code",
   "execution_count": null,
   "metadata": {},
   "outputs": [],
   "source": [
    "# List scale bars\n",
    "print(f\"Scale Bars:\")\n",
    "for i in pointsLayoutScaleBars:\n",
    "    print(f\"- {i.name}\")\n",
    "\n",
    "# List north arrows\n",
    "print(f\"North Arrows:\")\n",
    "for i in pointsLayoutNorthArrows:\n",
    "    print(f\"- {i.name}\")"
   ]
  },
  {
   "cell_type": "code",
   "execution_count": null,
   "metadata": {},
   "outputs": [],
   "source": [
    "# Get scale bars and north arrows\n",
    "pointsLayoutSb = pointsLayout.listElements(element_type = \"MAPSURROUND_ELEMENT\", wildcard = \"sb\")[0]\n",
    "pointsLayoutNa = pointsLayout.listElements(element_type = \"MAPSURROUND_ELEMENT\", wildcard = \"na\")[0]"
   ]
  },
  {
   "cell_type": "markdown",
   "metadata": {},
   "source": [
    "Get the scale bar and north arrow CIM objects"
   ]
  },
  {
   "cell_type": "code",
   "execution_count": null,
   "metadata": {},
   "outputs": [],
   "source": [
    "# Get scale bar and north arrow CIMs\n",
    "pointsLayoutSbCim = pointsLayoutSb.getDefinition(\"V3\")\n",
    "pointsLayoutNaCim = pointsLayoutNa.getDefinition(\"V3\")"
   ]
  },
  {
   "cell_type": "markdown",
   "metadata": {},
   "source": [
    "<h3 style=\"font-weight:bold; color:lime; padding-left: 50px\">Titles and Text Elements</h3>"
   ]
  },
  {
   "cell_type": "markdown",
   "metadata": {},
   "source": [
    "Get the titles and text elements of the layout"
   ]
  },
  {
   "cell_type": "code",
   "execution_count": null,
   "metadata": {},
   "outputs": [],
   "source": [
    "# List titles\n",
    "print(f\"Titles:\")\n",
    "for i in pointsLayoutTitles:\n",
    "    print(f\"- {i.name}\")\n",
    "\n",
    "# List text\n",
    "print(f\"Text:\")\n",
    "for i in pointsLayoutText:\n",
    "    print(f\"- {i.name}\")"
   ]
  },
  {
   "cell_type": "code",
   "execution_count": null,
   "metadata": {},
   "outputs": [],
   "source": [
    "# Get titles and text\n",
    "pointsLayoutT1 = pointsLayout.listElements(element_type = \"TEXT_ELEMENT\", wildcard = \"t1\")[0]\n",
    "pointsLayoutT2 = pointsLayout.listElements(element_type = \"TEXT_ELEMENT\", wildcard = \"t2\")[0]\n",
    "pointsLayoutCr = pointsLayout.listElements(element_type = \"TEXT_ELEMENT\", wildcard = \"cr\")[0]"
   ]
  },
  {
   "cell_type": "markdown",
   "metadata": {},
   "source": [
    "Get the title and text CIM objects"
   ]
  },
  {
   "cell_type": "code",
   "execution_count": null,
   "metadata": {},
   "outputs": [],
   "source": [
    "# Get title and text CIMs\n",
    "pointsLayoutT1Cim = pointsLayoutT1.getDefinition(\"V3\")\n",
    "pointsLayoutT2Cim = pointsLayoutT2.getDefinition(\"V3\")\n",
    "pointsLayoutCrCim = pointsLayoutCr.getDefinition(\"V3\")"
   ]
  },
  {
   "cell_type": "markdown",
   "metadata": {},
   "source": [
    "<h3 style=\"font-weight:bold; color:lime; padding-left: 50px\">Layout CIM</h3>"
   ]
  },
  {
   "cell_type": "markdown",
   "metadata": {},
   "source": [
    "Get the layout CIM object"
   ]
  },
  {
   "cell_type": "code",
   "execution_count": null,
   "metadata": {},
   "outputs": [],
   "source": [
    "# layout CIM\n",
    "pointsLayoutCIM = pointsLayout.getDefinition(\"V3\")"
   ]
  },
  {
   "cell_type": "markdown",
   "metadata": {},
   "source": [
    "Export the layout CIM to disk"
   ]
  },
  {
   "cell_type": "code",
   "execution_count": null,
   "metadata": {},
   "outputs": [],
   "source": [
    "# Export CIM to disk\n",
    "exportCim(\"layout\", pointsLayout, pointsLayout.name)"
   ]
  },
  {
   "cell_type": "markdown",
   "metadata": {},
   "source": [
    "<h2 style=\"font-weight:bold; color:dodgerblue; border-bottom: 1px solid dodgerblue; padding-left: 25px\">4.6. Density Layout Elements</h2>"
   ]
  },
  {
   "cell_type": "markdown",
   "metadata": {},
   "source": [
    "<h3 style=\"font-weight:bold; color:lime; padding-left: 50px\">Layout Elements</h3>"
   ]
  },
  {
   "cell_type": "markdown",
   "metadata": {},
   "source": [
    "Get all the elements of the layout by element type and functionality"
   ]
  },
  {
   "cell_type": "code",
   "execution_count": null,
   "metadata": {},
   "outputs": [],
   "source": [
    "# Layout element lists\n",
    "densityLayoutMapFrames = densityLayout.listElements(element_type = \"MAPFRAME_ELEMENT\")\n",
    "densityLayoutLegendSet = densityLayout.listElements(element_type = \"LEGEND_ELEMENT\")\n",
    "densityLayoutScaleBars = densityLayout.listElements(element_type = \"MAPSURROUND_ELEMENT\", wildcard = \"sb\")\n",
    "densityLayoutNorthArrows = densityLayout.listElements(element_type = \"MAPSURROUND_ELEMENT\", wildcard = \"na\")\n",
    "densityLayoutTitles = densityLayout.listElements(element_type = \"TEXT_ELEMENT\", wildcard = \"t*\")\n",
    "densityLayoutText = densityLayout.listElements(element_type = \"TEXT_ELEMENT\", wildcard = \"cr\")"
   ]
  },
  {
   "cell_type": "markdown",
   "metadata": {},
   "source": [
    "<h3 style=\"font-weight:bold; color:lime; padding-left: 50px\">Map Frames</h3>"
   ]
  },
  {
   "cell_type": "markdown",
   "metadata": {},
   "source": [
    "Get the map frames of the layout elements"
   ]
  },
  {
   "cell_type": "code",
   "execution_count": null,
   "metadata": {},
   "outputs": [],
   "source": [
    "# List map frames\n",
    "print(f\"Map Frames:\")\n",
    "for i in densityLayoutMapFrames:\n",
    "    print(f\"- {i.name}\")"
   ]
  },
  {
   "cell_type": "code",
   "execution_count": null,
   "metadata": {},
   "outputs": [],
   "source": [
    "# Get map frames\n",
    "densityLayoutMf1 = densityLayout.listElements(element_type = \"MAPFRAME_ELEMENT\", wildcard = \"densityMf1\")[0]\n",
    "densityLayoutMf2 = densityLayout.listElements(element_type = \"MAPFRAME_ELEMENT\", wildcard = \"densityMf2\")[0]"
   ]
  },
  {
   "cell_type": "markdown",
   "metadata": {},
   "source": [
    "Get the map frame CIM objects for each map frame"
   ]
  },
  {
   "cell_type": "code",
   "execution_count": null,
   "metadata": {},
   "outputs": [],
   "source": [
    "# get map frame CIMs\n",
    "densityLayoutMf1Cim = densityLayoutMf1.getDefinition(\"V3\")\n",
    "densityLayoutMf2Cim = densityLayoutMf2.getDefinition(\"V3\")"
   ]
  },
  {
   "cell_type": "markdown",
   "metadata": {},
   "source": [
    "<h3 style=\"font-weight:bold; color:lime; padding-left: 50px\">Legends</h3>"
   ]
  },
  {
   "cell_type": "markdown",
   "metadata": {},
   "source": [
    "Get the legends of the layout"
   ]
  },
  {
   "cell_type": "code",
   "execution_count": null,
   "metadata": {},
   "outputs": [],
   "source": [
    "# List legends\n",
    "print(f\"Legends:\")\n",
    "for i in densityLayoutLegendSet:\n",
    "    print(f\"- {i.name}\")"
   ]
  },
  {
   "cell_type": "code",
   "execution_count": null,
   "metadata": {},
   "outputs": [],
   "source": [
    "# Get legends\n",
    "densityLayoutLg1 = densityLayout.listElements(element_type = \"LEGEND_ELEMENT\", wildcard = \"lg1\")[0]\n",
    "densityLayoutLg2 = densityLayout.listElements(element_type = \"LEGEND_ELEMENT\", wildcard = \"lg2\")[0]"
   ]
  },
  {
   "cell_type": "markdown",
   "metadata": {},
   "source": [
    "Get the legend CIM objects for each legend"
   ]
  },
  {
   "cell_type": "code",
   "execution_count": null,
   "metadata": {},
   "outputs": [],
   "source": [
    "# Get legend CIMs\n",
    "densityLayoutLg1Cim = densityLayoutLg1.getDefinition(\"V3\")\n",
    "densityLayoutLg2Cim = densityLayoutLg2.getDefinition(\"V3\")"
   ]
  },
  {
   "cell_type": "markdown",
   "metadata": {},
   "source": [
    "<h3 style=\"font-weight:bold; color:lime; padding-left: 50px\">Scale Bar and North Arrow</h3>"
   ]
  },
  {
   "cell_type": "markdown",
   "metadata": {},
   "source": [
    "Get the scale bar and north arrow of the layout"
   ]
  },
  {
   "cell_type": "code",
   "execution_count": null,
   "metadata": {},
   "outputs": [],
   "source": [
    "# List scale bars\n",
    "print(f\"Scale Bars:\")\n",
    "for i in densityLayoutScaleBars:\n",
    "    print(f\"- {i.name}\")\n",
    "\n",
    "# List north arrows\n",
    "print(f\"North Arrows:\")\n",
    "for i in densityLayoutNorthArrows:\n",
    "    print(f\"- {i.name}\")"
   ]
  },
  {
   "cell_type": "code",
   "execution_count": null,
   "metadata": {},
   "outputs": [],
   "source": [
    "# Get scale bars and north arrows\n",
    "densityLayoutSb = densityLayout.listElements(element_type = \"MAPSURROUND_ELEMENT\", wildcard = \"sb\")[0]\n",
    "densityLayoutNa = densityLayout.listElements(element_type = \"MAPSURROUND_ELEMENT\", wildcard = \"na\")[0]"
   ]
  },
  {
   "cell_type": "markdown",
   "metadata": {},
   "source": [
    "Get the scale bar and north arrow CIM objects"
   ]
  },
  {
   "cell_type": "code",
   "execution_count": null,
   "metadata": {},
   "outputs": [],
   "source": [
    "# Get scale bar and north arrow CIMs\n",
    "densityLayoutSbCim = densityLayoutSb.getDefinition(\"V3\")\n",
    "densityLayoutNaCim = densityLayoutNa.getDefinition(\"V3\")"
   ]
  },
  {
   "cell_type": "markdown",
   "metadata": {},
   "source": [
    "<h3 style=\"font-weight:bold; color:lime; padding-left: 50px\">Titles and Text Elements</h3>"
   ]
  },
  {
   "cell_type": "markdown",
   "metadata": {},
   "source": [
    "Get the titles and text elements of the layout"
   ]
  },
  {
   "cell_type": "code",
   "execution_count": null,
   "metadata": {},
   "outputs": [],
   "source": [
    "# List titles\n",
    "print(f\"Titles:\")\n",
    "for i in densityLayoutTitles:\n",
    "    print(f\"- {i.name}\")\n",
    "\n",
    "# List text\n",
    "print(f\"Text:\")\n",
    "for i in densityLayoutText:\n",
    "    print(f\"- {i.name}\")"
   ]
  },
  {
   "cell_type": "code",
   "execution_count": null,
   "metadata": {},
   "outputs": [],
   "source": [
    "# Get titles and text\n",
    "densityLayoutT1 = densityLayout.listElements(element_type = \"TEXT_ELEMENT\", wildcard = \"t1\")[0]\n",
    "densityLayoutT2 = densityLayout.listElements(element_type = \"TEXT_ELEMENT\", wildcard = \"t2\")[0]\n",
    "densityLayoutCr = densityLayout.listElements(element_type = \"TEXT_ELEMENT\", wildcard = \"cr\")[0]"
   ]
  },
  {
   "cell_type": "markdown",
   "metadata": {},
   "source": [
    "Get the title and text CIM objects"
   ]
  },
  {
   "cell_type": "code",
   "execution_count": null,
   "metadata": {},
   "outputs": [],
   "source": [
    "# Get title and text CIMs\n",
    "densityLayoutT1Cim = densityLayoutT1.getDefinition(\"V3\")\n",
    "densityLayoutT2Cim = densityLayoutT2.getDefinition(\"V3\")\n",
    "densityLayoutCrCim = densityLayoutCr.getDefinition(\"V3\")"
   ]
  },
  {
   "cell_type": "markdown",
   "metadata": {},
   "source": [
    "<h3 style=\"font-weight:bold; color:lime; padding-left: 50px\">Layout CIM</h3>"
   ]
  },
  {
   "cell_type": "markdown",
   "metadata": {},
   "source": [
    "Get the layout CIM object"
   ]
  },
  {
   "cell_type": "code",
   "execution_count": null,
   "metadata": {},
   "outputs": [],
   "source": [
    "# layout CIM\n",
    "densityLayoutCIM = densityLayout.getDefinition(\"V3\")"
   ]
  },
  {
   "cell_type": "markdown",
   "metadata": {},
   "source": [
    "Export the layout CIM to disk"
   ]
  },
  {
   "cell_type": "code",
   "execution_count": null,
   "metadata": {},
   "outputs": [],
   "source": [
    "# Export CIM to disk\n",
    "exportCim(\"layout\", densityLayout, densityLayout.name)"
   ]
  },
  {
   "cell_type": "markdown",
   "metadata": {},
   "source": [
    "<h2 style=\"font-weight:bold; color:dodgerblue; border-bottom: 1px solid dodgerblue; padding-left: 25px\">4.7. Areas Layout Elements</h2>"
   ]
  },
  {
   "cell_type": "markdown",
   "metadata": {},
   "source": [
    "<h3 style=\"font-weight:bold; color:lime; padding-left: 50px\">Layout Elements</h3>"
   ]
  },
  {
   "cell_type": "markdown",
   "metadata": {},
   "source": [
    "Get all the elements of the layout by element type and functionality"
   ]
  },
  {
   "cell_type": "code",
   "execution_count": null,
   "metadata": {},
   "outputs": [],
   "source": [
    "# Layout element lists\n",
    "areasLayoutMapFrames = areasLayout.listElements(element_type = \"MAPFRAME_ELEMENT\")\n",
    "areasLayoutLegendSet = areasLayout.listElements(element_type = \"LEGEND_ELEMENT\")\n",
    "areasLayoutScaleBars = areasLayout.listElements(element_type = \"MAPSURROUND_ELEMENT\", wildcard = \"sb\")\n",
    "areasLayoutNorthArrows = areasLayout.listElements(element_type = \"MAPSURROUND_ELEMENT\", wildcard = \"na\")\n",
    "areasLayoutTitles = areasLayout.listElements(element_type = \"TEXT_ELEMENT\", wildcard = \"t*\")\n",
    "areasLayoutText = areasLayout.listElements(element_type = \"TEXT_ELEMENT\", wildcard = \"cr\")"
   ]
  },
  {
   "cell_type": "markdown",
   "metadata": {},
   "source": [
    "<h3 style=\"font-weight:bold; color:lime; padding-left: 50px\">Map Frames</h3>"
   ]
  },
  {
   "cell_type": "markdown",
   "metadata": {},
   "source": [
    "Get the map frames of the layout elements"
   ]
  },
  {
   "cell_type": "code",
   "execution_count": null,
   "metadata": {},
   "outputs": [],
   "source": [
    "# List map frames\n",
    "print(f\"Map Frames:\")\n",
    "for i in areasLayoutMapFrames:\n",
    "    print(f\"- {i.name}\")"
   ]
  },
  {
   "cell_type": "code",
   "execution_count": null,
   "metadata": {},
   "outputs": [],
   "source": [
    "# Get map frames\n",
    "areasLayoutMf1 = areasLayout.listElements(element_type = \"MAPFRAME_ELEMENT\", wildcard = \"areasMf1\")[0]\n",
    "areasLayoutMf2 = areasLayout.listElements(element_type = \"MAPFRAME_ELEMENT\", wildcard = \"areasMf2\")[0]"
   ]
  },
  {
   "cell_type": "markdown",
   "metadata": {},
   "source": [
    "Get the map frame CIM objects for each map frame"
   ]
  },
  {
   "cell_type": "code",
   "execution_count": null,
   "metadata": {},
   "outputs": [],
   "source": [
    "# get map frame CIMs\n",
    "areasLayoutMf1Cim = areasLayoutMf1.getDefinition(\"V3\")\n",
    "areasLayoutMf2Cim = areasLayoutMf2.getDefinition(\"V3\")"
   ]
  },
  {
   "cell_type": "markdown",
   "metadata": {},
   "source": [
    "<h3 style=\"font-weight:bold; color:lime; padding-left: 50px\">Legends</h3>"
   ]
  },
  {
   "cell_type": "markdown",
   "metadata": {},
   "source": [
    "Get the legends of the layout"
   ]
  },
  {
   "cell_type": "code",
   "execution_count": null,
   "metadata": {},
   "outputs": [],
   "source": [
    "# List legends\n",
    "print(f\"Legends:\")\n",
    "for i in areasLayoutLegendSet:\n",
    "    print(f\"- {i.name}\")"
   ]
  },
  {
   "cell_type": "code",
   "execution_count": null,
   "metadata": {},
   "outputs": [],
   "source": [
    "# Get legends\n",
    "areasLayoutLg1 = areasLayout.listElements(element_type = \"LEGEND_ELEMENT\", wildcard = \"lg1\")[0]\n",
    "areasLayoutLg2 = areasLayout.listElements(element_type = \"LEGEND_ELEMENT\", wildcard = \"lg2\")[0]"
   ]
  },
  {
   "cell_type": "markdown",
   "metadata": {},
   "source": [
    "Get the legend CIM objects for each legend"
   ]
  },
  {
   "cell_type": "code",
   "execution_count": null,
   "metadata": {},
   "outputs": [],
   "source": [
    "# Get legend CIMs\n",
    "areasLayoutLg1Cim = areasLayoutLg1.getDefinition(\"V3\")\n",
    "areasLayoutLg2Cim = areasLayoutLg2.getDefinition(\"V3\")"
   ]
  },
  {
   "cell_type": "markdown",
   "metadata": {},
   "source": [
    "<h3 style=\"font-weight:bold; color:lime; padding-left: 50px\">Scale Bar and North Arrow</h3>"
   ]
  },
  {
   "cell_type": "markdown",
   "metadata": {},
   "source": [
    "Get the scale bar and north arrow of the layout"
   ]
  },
  {
   "cell_type": "code",
   "execution_count": null,
   "metadata": {},
   "outputs": [],
   "source": [
    "# List scale bars\n",
    "print(f\"Scale Bars:\")\n",
    "for i in areasLayoutScaleBars:\n",
    "    print(f\"- {i.name}\")\n",
    "\n",
    "# List north arrows\n",
    "print(f\"North Arrows:\")\n",
    "for i in areasLayoutNorthArrows:\n",
    "    print(f\"- {i.name}\")"
   ]
  },
  {
   "cell_type": "code",
   "execution_count": null,
   "metadata": {},
   "outputs": [],
   "source": [
    "# Get scale bars and north arrows\n",
    "areasLayoutSb = areasLayout.listElements(element_type = \"MAPSURROUND_ELEMENT\", wildcard = \"sb\")[0]\n",
    "areasLayoutNa = areasLayout.listElements(element_type = \"MAPSURROUND_ELEMENT\", wildcard = \"na\")[0]"
   ]
  },
  {
   "cell_type": "markdown",
   "metadata": {},
   "source": [
    "Get the scale bar and north arrow CIM objects"
   ]
  },
  {
   "cell_type": "code",
   "execution_count": null,
   "metadata": {},
   "outputs": [],
   "source": [
    "# Get scale bar and north arrow CIMs\n",
    "areasLayoutSbCim = areasLayoutSb.getDefinition(\"V3\")\n",
    "areasLayoutNaCim = areasLayoutNa.getDefinition(\"V3\")"
   ]
  },
  {
   "cell_type": "markdown",
   "metadata": {},
   "source": [
    "<h3 style=\"font-weight:bold; color:lime; padding-left: 50px\">Titles and Text Elements</h3>"
   ]
  },
  {
   "cell_type": "markdown",
   "metadata": {},
   "source": [
    "Get the titles and text elements of the layout"
   ]
  },
  {
   "cell_type": "code",
   "execution_count": null,
   "metadata": {},
   "outputs": [],
   "source": [
    "# List titles\n",
    "print(f\"Titles:\")\n",
    "for i in areasLayoutTitles:\n",
    "    print(f\"- {i.name}\")\n",
    "\n",
    "# List text\n",
    "print(f\"Text:\")\n",
    "for i in areasLayoutText:\n",
    "    print(f\"- {i.name}\")"
   ]
  },
  {
   "cell_type": "code",
   "execution_count": null,
   "metadata": {},
   "outputs": [],
   "source": [
    "# Get titles and text\n",
    "areasLayoutT1 = areasLayout.listElements(element_type = \"TEXT_ELEMENT\", wildcard = \"t1\")[0]\n",
    "areasLayoutT2 = areasLayout.listElements(element_type = \"TEXT_ELEMENT\", wildcard = \"t2\")[0]\n",
    "areasLayoutCr = areasLayout.listElements(element_type = \"TEXT_ELEMENT\", wildcard = \"cr\")[0]"
   ]
  },
  {
   "cell_type": "markdown",
   "metadata": {},
   "source": [
    "Get the title and text CIM objects"
   ]
  },
  {
   "cell_type": "code",
   "execution_count": null,
   "metadata": {},
   "outputs": [],
   "source": [
    "# Get title and text CIMs\n",
    "areasLayoutT1Cim = areasLayoutT1.getDefinition(\"V3\")\n",
    "areasLayoutT2Cim = areasLayoutT2.getDefinition(\"V3\")\n",
    "areasLayoutCrCim = areasLayoutCr.getDefinition(\"V3\")"
   ]
  },
  {
   "cell_type": "markdown",
   "metadata": {},
   "source": [
    "<h3 style=\"font-weight:bold; color:lime; padding-left: 50px\">Layout CIM</h3>"
   ]
  },
  {
   "cell_type": "markdown",
   "metadata": {},
   "source": [
    "Get the layout CIM object"
   ]
  },
  {
   "cell_type": "code",
   "execution_count": null,
   "metadata": {},
   "outputs": [],
   "source": [
    "# layout CIM\n",
    "areasLayoutCIM = areasLayout.getDefinition(\"V3\")"
   ]
  },
  {
   "cell_type": "markdown",
   "metadata": {},
   "source": [
    "Export the layout CIM to disk"
   ]
  },
  {
   "cell_type": "code",
   "execution_count": null,
   "metadata": {},
   "outputs": [],
   "source": [
    "# Export CIM to disk\n",
    "exportCim(\"layout\", areasLayout, areasLayout.name)"
   ]
  },
  {
   "cell_type": "markdown",
   "metadata": {},
   "source": [
    "<h3 style=\"font-weight:bold; color:lime; padding-left: 50px\">Save Project</h3>"
   ]
  },
  {
   "cell_type": "code",
   "execution_count": null,
   "metadata": {},
   "outputs": [],
   "source": [
    "# Save the project\n",
    "aprx.save()"
   ]
  },
  {
   "cell_type": "code",
   "execution_count": null,
   "metadata": {},
   "outputs": [],
   "source": [
    "gisDataFolder = os.path.join(projectFolder, \"Data\", \"GIS\")"
   ]
  },
  {
   "cell_type": "code",
   "execution_count": null,
   "metadata": {},
   "outputs": [],
   "source": [
    "arcpy.conversion.FeatureClassToShapefile(collisions, gisDataFolder)\n",
    "arcpy.conversion.FeatureClassToShapefile(crashes, gisDataFolder)\n",
    "arcpy.conversion.FeatureClassToShapefile(parties, gisDataFolder)\n",
    "arcpy.conversion.FeatureClassToShapefile(victims, gisDataFolder)\n",
    "arcpy.conversion.FeatureClassToShapefile(roads, gisDataFolder)\n",
    "arcpy.conversion.FeatureClassToShapefile(cities, gisDataFolder)\n",
    "arcpy.conversion.FeatureClassToShapefile(censusBlocks, gisDataFolder)"
   ]
  },
  {
   "cell_type": "markdown",
   "metadata": {},
   "source": [
    "<div style = \"background-color:indigo\"><center>\n",
    "<h1 style=\"font-weight:bold; color:goldenrod; border-top: 2px solid goldenrod; border-bottom: 2px solid goldenrod; padding-top: 5px; padding-bottom: 10px\">End of Script</h1>\n",
    "</center></div>"
   ]
  }
 ],
 "metadata": {
  "kernelspec": {
   "display_name": "drkPy",
   "language": "python",
   "name": "python3"
  },
  "language_info": {
   "codemirror_mode": {
    "name": "ipython",
    "version": 3
   },
   "file_extension": ".py",
   "mimetype": "text/x-python",
   "name": "python",
   "nbconvert_exporter": "python",
   "pygments_lexer": "ipython3",
   "version": "3.11.11"
  }
 },
 "nbformat": 4,
 "nbformat_minor": 4
}
