{
 "cells": [
  {
   "cell_type": "code",
   "execution_count": null,
   "metadata": {
    "vscode": {
     "languageId": "html"
    }
   },
   "outputs": [],
   "source": [
    "%%HTML\n",
    "<style>\n",
    "    body {\n",
    "        --vscode-font-family: \"Inter\";\n",
    "    }\n",
    "</style>\n"
   ]
  },
  {
   "cell_type": "markdown",
   "metadata": {},
   "source": [
    "<center>\n",
    "<h1 style=\"font-size: 50px; font-weight: bold; color:sandybrown\">OC SWITRS Data Processing</h1>\n",
    "\n",
    "<div style=\"font-size: 40px; font-weight: bold; color: sandybrown\">Part 04: ArcGIS Hotspot Analysis</div>\n",
    "<div style=\"font-size: 30px; font-weight: bold; color: sandybrown\">v.1, November 2024</div>\n",
    "</center>\n",
    "\n",
    "---"
   ]
  },
  {
   "cell_type": "markdown",
   "metadata": {},
   "source": [
    "## <font color=\"orangered\">**Referencing Libraries and Initialization**</font>"
   ]
  },
  {
   "cell_type": "markdown",
   "metadata": {},
   "source": [
    "### <font color=\"lime\">**Preliminaries**</font>"
   ]
  },
  {
   "cell_type": "markdown",
   "metadata": {},
   "source": [
    "Instantiating python libraries for the project"
   ]
  },
  {
   "cell_type": "code",
   "execution_count": 3,
   "metadata": {},
   "outputs": [],
   "source": [
    "# Import Python libraries\n",
    "import os, json, pytz, math, arcpy, arcgis\n",
    "from datetime import date, time, datetime, timedelta, tzinfo, timezone\n",
    "from tqdm.notebook import trange, tqdm, tqdm_notebook\n",
    "import pandas as pd\n",
    "import numpy as np\n",
    "from arcpy import metadata as md\n",
    "\n",
    "# important as it \"enhances\" Pandas by importing these classes (from ArcGIS API for Python)\n",
    "from arcgis.features import GeoAccessor, GeoSeriesAccessor\n"
   ]
  },
  {
   "cell_type": "markdown",
   "metadata": {},
   "source": [
    "### <font color=\"lime\">**Project and Workspace Variables**</font>"
   ]
  },
  {
   "cell_type": "markdown",
   "metadata": {},
   "source": [
    "Define and maintain project, workspace, ArcGIS, and data-related variables."
   ]
  },
  {
   "cell_type": "markdown",
   "metadata": {},
   "source": [
    "Project and ArcGIS Pro project paths"
   ]
  },
  {
   "cell_type": "code",
   "execution_count": 4,
   "metadata": {},
   "outputs": [],
   "source": [
    "# Environment variables for OneDrive path\n",
    "#oneDrivePath = os.getenv(\"OneDriveCommercial\")\n",
    "\n",
    "# OC SWITRS project path\n",
    "#projectPath = os.path.join(oneDrivePath, \"Projects\", \"OCTraffic\", \"OCSWITRS\")\n",
    "projectPath = os.path.join(r\"I:\\Professional\\Projects-OCPW\\OCTraffic\\OCSWITRS\")\n",
    "\n",
    "# OC SWITRS Hotspot Analysis ArcGIS Pro project path\n",
    "agpDataPath = os.path.join(projectPath, \"AGPSWITRS\")\n",
    "agpAnalysisPath = os.path.join(projectPath, \"AGPSWITRS_HSA\")\n",
    "\n"
   ]
  },
  {
   "cell_type": "markdown",
   "metadata": {},
   "source": [
    "ArcGIS Pro-related paths"
   ]
  },
  {
   "cell_type": "code",
   "execution_count": 5,
   "metadata": {},
   "outputs": [],
   "source": [
    "# ArcGIS Pro project name and path\n",
    "aprxData = \"AGPSWITRS.aprx\"\n",
    "aprxAnalysis = \"AGPSWITRS_HSA.aprx\"\n",
    "aprxDataPath = os.path.join(agpDataPath, aprxData)\n",
    "aprxAnalysisPath = os.path.join(agpAnalysisPath, aprxAnalysis)\n",
    "\n",
    "# ArcGIS Pro project geodatabase and path\n",
    "gdbData = \"AGPSWITRS.gdb\"\n",
    "gdbAnalysis = \"OCSWITRS_HSA.gdb\"\n",
    "gdbDataPath = os.path.join(agpDataPath, gdbData)\n",
    "gdbAnalysisPath = os.path.join(agpAnalysisPath, gdbAnalysis)\n",
    "\n",
    "# USC 2020 geodatabase path\n",
    "gdbUSC2020Path = os.path.join(r\"I:\\Professional\\Projects-OCPW\\OCGD\\USC2020\\USC2020.gdb\")\n",
    "\n",
    "# Current ArcGIS workspace (arcpy)\n",
    "arcpy.env.workspace = gdbAnalysisPath\n",
    "workspace = arcpy.env.workspace\n",
    "\n",
    "# Enable overwriting existing outputs\n",
    "arcpy.env.overwriteOutput = True\n"
   ]
  },
  {
   "cell_type": "markdown",
   "metadata": {},
   "source": [
    "Project folder paths"
   ]
  },
  {
   "cell_type": "code",
   "execution_count": 6,
   "metadata": {},
   "outputs": [],
   "source": [
    "# Raw data folder path\n",
    "rawDataPath = os.path.join(projectPath, \"RawData\")\n",
    "\n",
    "# Layers folder path\n",
    "layersPath = os.path.join(projectPath, \"Layers\")\n",
    "\n",
    "# Notebooks folder path\n",
    "notebooksPath = os.path.join(projectPath, \"Notebooks\")\n",
    "\n",
    "# Supporting data path on the project geodatabase (feature directory)\n",
    "supportingDataPath = os.path.join(projectPath, \"SupportingData\")\n"
   ]
  },
  {
   "cell_type": "markdown",
   "metadata": {},
   "source": [
    "ArcGIS Pro folder and geodatabase and data paths"
   ]
  },
  {
   "cell_type": "code",
   "execution_count": null,
   "metadata": {},
   "outputs": [],
   "source": [
    "# Define the arcpy environment for the data geodatabase\n",
    "arcpy.env.workspace = gdbDataPath\n",
    "arcpy.env.overwriteOutput = True\n",
    "\n",
    "# List all feature classes in the geodatabase root\n",
    "gdbDataFCList = arcpy.ListFeatureClasses(feature_type='Point')\n",
    "print(f\"Geodatabase Point Feature Classes: {gdbDataFCList}\")\n",
    "\n",
    "# Get the feature classes from the data geodatabase root\n",
    "crashesPoints = arcpy.ListFeatureClasses(\"Crashes*\")[0]\n",
    "partiesPoints = arcpy.ListFeatureClasses(\"Parties*\")[0]\n",
    "victimsPoints = arcpy.ListFeatureClasses(\"Victims*\")[0]\n",
    "collisionsPoints = arcpy.ListFeatureClasses(\"Collisions*\")[0]\n",
    "\n",
    "# Get the paths of each of the layers: Crashes, Parties, Victims, Collisions\n",
    "crashesPointsPath = os.path.join(gdbDataPath, crashesPoints)\n",
    "partiesPointsPath = os.path.join(gdbDataPath, partiesPoints)\n",
    "victimsPointsPath = os.path.join(gdbDataPath, victimsPoints)\n",
    "collisionsPointsPath = os.path.join(gdbDataPath, collisionsPoints)\n",
    "\n",
    "# Get the path for the USC 2020 Blocks data\n",
    "usc2020blkPath = os.path.join(gdbUSC2020Path, \"USC2020_BLK\")\n",
    "\n",
    "# Supporting data pathsboundariesPath = os.path.join(gdbDataPath, \")\n",
    "boundariesPath = os.path.join(gdbDataPath, \"SupportingData\", \"OCSWITRS_Boundaries\")\n",
    "citiesPath = os.path.join(gdbDataPath, \"SupportingData\", \"OCSWITRS_Cities\")\n",
    "roadsPath = os.path.join(gdbDataPath, \"SupportingData\", \"OCSWITRS_Roads\")\n",
    "\n",
    "\n",
    "print(f\"\\nFeature Paths:\\n- Crashes: {crashesPointsPath}\\n- Parties: {partiesPointsPath}\\n- Victims: {victimsPointsPath}\\n- Collisions: {collisionsPointsPath}\\n\")\n",
    "print(f\"\\nUSC 2020:\\n- Census Blocks: {usc2020blkPath}\\n\")\n",
    "print(f\"\\nSupporting Data Paths:\\n- Boundaries: {boundariesPath}\\n- Cities: {citiesPath}\\n- Roads: {roadsPath}\\n\")\n"
   ]
  },
  {
   "cell_type": "code",
   "execution_count": 8,
   "metadata": {},
   "outputs": [],
   "source": [
    "# Current ArcGIS Pro project\n",
    "aprx = arcpy.mp.ArcGISProject(aprxAnalysisPath)\n",
    "\n",
    "# Current ArcGIS Pro project map\n",
    "map = aprx.listMaps()[0]\n"
   ]
  },
  {
   "cell_type": "code",
   "execution_count": null,
   "metadata": {},
   "outputs": [],
   "source": [
    "# Add the four feature classes (Crashes Points, Parties Points, Victims Points, Collisions Points) from the geodatabase to the map\n",
    "crashesLyrName = map.addDataFromPath(crashesPointsPath)\n",
    "partiesLyrName =map.addDataFromPath(partiesPointsPath)\n",
    "victimsLyrName = map.addDataFromPath(victimsPointsPath)\n",
    "collisionsLyrName = map.addDataFromPath(collisionsPointsPath)\n",
    "\n",
    "# Add the Census 2020 blocks to the map\n",
    "usc2020blkLyrName = map.addDataFromPath(usc2020blkPath)\n",
    "\n",
    "# Add the supporting data Cities and Roads layers to the map\n",
    "citiesLyrName = map.addDataFromPath(citiesPath)\n",
    "roadsLyrName = map.addDataFromPath(roadsPath)\n",
    "\n",
    "print(f\"Added layers to the map:\\n\\t- {crashesLyrName}\\n\\t- {partiesLyrName}\\n\\t- {victimsLyrName}\\n\\t- {collisionsLyrName}\\n\\t- {usc2020blkLyrName}\\n\\t- {citiesLyrName}\\n\\t- {roadsLyrName}\")\n"
   ]
  },
  {
   "cell_type": "markdown",
   "metadata": {},
   "source": [
    "Create a summary for each of the Census blocks that contains statistics and counts of crash collision data"
   ]
  },
  {
   "cell_type": "code",
   "execution_count": null,
   "metadata": {},
   "outputs": [],
   "source": [
    "arcpy.analysis.SummarizeWithin(\n",
    "    in_polygons=\"USC2020_BLK\",\n",
    "    in_sum_features=\"OCSWITRS Crashes\",\n",
    "    out_feature_class=r\"I:\\Professional\\Projects-OCPW\\OCTraffic\\OCSWITRS\\AGPSWITRS_HSA\\AGPSWITRS_HSA.gdb\\USC2020_BLK_SumCrashes\",\n",
    "    keep_all_polygons=\"KEEP_ALL\",\n",
    "    sum_fields=\"VICTIM_COUNT Sum;NUMBER_KILLED Sum;NUMBER_INJURED Sum;COUNT_SEVERE_INJ Sum;COUNT_VISIBLE_INJ Sum;COUNT_COMPLAINT_PAIN Sum;COUNT_PED_KILLED Sum;COUNT_PED_INJURED Sum;COUNT_BICYCLIST_KILLED Sum;COUNT_BICYCLIST_INJURED Sum;COUNT_MC_KILLED Sum;COUNT_MC_INJURED Sum;COLLISION_SEVERITY_RANKED Mean;COLLISION_SEVERITY_RECLASS Mean\",\n",
    "    sum_shape=\"ADD_SHAPE_SUM\",\n",
    "    shape_unit=\"SQUAREKILOMETERS\",\n",
    "    group_field=None,\n",
    "    add_min_maj=\"NO_MIN_MAJ\",\n",
    "    add_group_percent=\"NO_PERCENT\",\n",
    "    out_group_table=None\n",
    ")\n"
   ]
  },
  {
   "cell_type": "markdown",
   "metadata": {},
   "source": [
    "Create a summary for each of the cities that contains statistics and counts of crash collision data"
   ]
  },
  {
   "cell_type": "code",
   "execution_count": null,
   "metadata": {},
   "outputs": [],
   "source": [
    "arcpy.analysis.SummarizeWithin(\n",
    "    in_polygons=\"OCSWITRS Cities\",\n",
    "    in_sum_features=\"OCSWITRS Crashes\",\n",
    "    out_feature_class=r\"I:\\Professional\\Projects-OCPW\\OCTraffic\\OCSWITRS\\AGPSWITRS_HSA\\AGPSWITRS_HSA.gdb\\Cities_SumCrashes\",\n",
    "    keep_all_polygons=\"KEEP_ALL\",\n",
    "    sum_fields=\"VICTIM_COUNT Sum;NUMBER_KILLED Sum;NUMBER_INJURED Sum;COUNT_SEVERE_INJ Sum;COUNT_VISIBLE_INJ Sum;COUNT_COMPLAINT_PAIN Sum;COUNT_PED_KILLED Sum;COUNT_PED_INJURED Sum;COUNT_BICYCLIST_KILLED Sum;COUNT_BICYCLIST_INJURED Sum;COUNT_MC_KILLED Sum;COUNT_MC_INJURED Sum;COLLISION_SEVERITY_RANKED Mean;COLLISION_SEVERITY_RECLASS Mean\",\n",
    "    sum_shape=\"ADD_SHAPE_SUM\",\n",
    "    shape_unit=\"SQUAREKILOMETERS\",\n",
    "    group_field=None,\n",
    "    add_min_maj=\"NO_MIN_MAJ\",\n",
    "    add_group_percent=\"NO_PERCENT\",\n",
    "    out_group_table=None\n",
    ")\n"
   ]
  },
  {
   "cell_type": "code",
   "execution_count": null,
   "metadata": {},
   "outputs": [],
   "source": [
    "arcpy.analysis.SummarizeWithin(\n",
    "    in_polygons=\"MajorRoadBuffers\",\n",
    "    in_sum_features=\"OCSWITRS Crashes\",\n",
    "    out_feature_class=r\"I:\\Professional\\Projects-OCPW\\OCTraffic\\OCSWITRS\\AGPSWITRS_HSA\\AGPSWITRS_HSA.gdb\\MajorRoadBuffers_SumCrashes\",\n",
    "    keep_all_polygons=\"KEEP_ALL\",\n",
    "    sum_fields=\"VICTIM_COUNT Sum;NUMBER_KILLED Sum;NUMBER_INJURED Sum;COUNT_SEVERE_INJ Sum;COUNT_VISIBLE_INJ Sum;COUNT_COMPLAINT_PAIN Sum;COUNT_PED_KILLED Sum;COUNT_PED_INJURED Sum;COUNT_BICYCLIST_KILLED Sum;COUNT_BICYCLIST_INJURED Sum;COUNT_MC_KILLED Sum;COUNT_MC_INJURED Sum;COLLISION_SEVERITY_RANKED Mean;COLLISION_SEVERITY_RECLASS Mean\",\n",
    "    sum_shape=\"ADD_SHAPE_SUM\",\n",
    "    shape_unit=\"SQUAREKILOMETERS\",\n",
    "    group_field=None,\n",
    "    add_min_maj=\"NO_MIN_MAJ\",\n",
    "    add_group_percent=\"NO_PERCENT\",\n",
    "    out_group_table=None\n",
    ")\n"
   ]
  },
  {
   "cell_type": "code",
   "execution_count": null,
   "metadata": {},
   "outputs": [],
   "source": [
    "arcpy.analysis.Select(\n",
    "    in_features=\"OCSWITRS Roads\",\n",
    "    out_feature_class=r\"I:\\Professional\\Projects-OCPW\\OCTraffic\\OCSWITRS\\AGPSWITRS_HSA\\AGPSWITRS_HSA.gdb\\MajorRoads\",\n",
    "    where_clause=\"ROADCAT = 'Primary' Or ROADCAT = 'Secondary'\"\n",
    ")\n"
   ]
  },
  {
   "cell_type": "code",
   "execution_count": null,
   "metadata": {},
   "outputs": [],
   "source": [
    "arcpy.analysis.Buffer(\n",
    "    in_features=\"MajorRoads\",\n",
    "    out_feature_class=r\"I:\\Professional\\Projects-OCPW\\OCTraffic\\OCSWITRS\\AGPSWITRS_HSA\\AGPSWITRS_HSA.gdb\\MajorRoadBuffers\",\n",
    "    buffer_distance_or_field=\"250 Meters\",\n",
    "    line_side=\"FULL\",\n",
    "    line_end_type=\"FLAT\",\n",
    "    dissolve_option=\"ALL\",\n",
    "    dissolve_field=None,\n",
    "    method=\"PLANAR\"\n",
    ")\n"
   ]
  },
  {
   "cell_type": "code",
   "execution_count": null,
   "metadata": {},
   "outputs": [],
   "source": [
    "arcpy.analysis.SummarizeWithin(\n",
    "    in_polygons=\"MajorRoadBuffers\",\n",
    "    in_sum_features=\"OCSWITRS Crashes\",\n",
    "    out_feature_class=r\"I:\\Professional\\Projects-OCPW\\OCTraffic\\OCSWITRS\\AGPSWITRS_HSA\\AGPSWITRS_HSA.gdb\\MajorRoadBuffers_SummarizeWithin\",\n",
    "    keep_all_polygons=\"KEEP_ALL\",\n",
    "    sum_fields=\"VICTIM_COUNT Sum;NUMBER_KILLED Sum;NUMBER_INJURED Sum;COUNT_SEVERE_INJ Sum;COUNT_VISIBLE_INJ Sum;COUNT_COMPLAINT_PAIN Sum;COUNT_PED_KILLED Sum;COUNT_PED_INJURED Sum;COUNT_BICYCLIST_KILLED Sum;COUNT_BICYCLIST_INJURED Sum;COUNT_MC_KILLED Sum;COUNT_MC_INJURED Sum;COLLISION_SEVERITY_RANKED Mean;COLLISION_SEVERITY_RECLASS Mean\",\n",
    "    sum_shape=\"ADD_SHAPE_SUM\",\n",
    "    shape_unit=\"SQUAREKILOMETERS\",\n",
    "    group_field=None,\n",
    "    add_min_maj=\"NO_MIN_MAJ\",\n",
    "    add_group_percent=\"NO_PERCENT\",\n",
    "    out_group_table=None\n",
    ")\n"
   ]
  },
  {
   "cell_type": "code",
   "execution_count": null,
   "metadata": {},
   "outputs": [],
   "source": [
    "arcpy.management.GeneratePointsAlongLines(\n",
    "    Input_Features=\"MajorRoads\",\n",
    "    Output_Feature_Class=r\"I:\\Professional\\Projects-OCPW\\OCTraffic\\OCSWITRS\\AGPSWITRS_HSA\\AGPSWITRS_HSA.gdb\\MajorRoads_GeneratePointsAlongLines\",\n",
    "    Point_Placement=\"DISTANCE\",\n",
    "    Distance=\"1000 Feet\",\n",
    "    Percentage=None,\n",
    "    Include_End_Points=\"NO_END_POINTS\",\n",
    "    Add_Chainage_Fields=\"NO_CHAINAGE\",\n",
    "    Distance_Field=None,\n",
    "    Distance_Method=\"PLANAR\"\n",
    ")\n"
   ]
  },
  {
   "cell_type": "code",
   "execution_count": null,
   "metadata": {},
   "outputs": [],
   "source": [
    "arcpy.management.SplitLineAtPoint(\n",
    "    in_features=\"MajorRoads\",\n",
    "    point_features=\"MajorRoads_GeneratePointsAlongLines\",\n",
    "    out_feature_class=r\"I:\\Professional\\Projects-OCPW\\OCTraffic\\OCSWITRS\\AGPSWITRS_HSA\\AGPSWITRS_HSA.gdb\\MajorRoadsSplit\",\n",
    "    search_radius=\"1000 Feet\"\n",
    ")\n"
   ]
  },
  {
   "cell_type": "code",
   "execution_count": null,
   "metadata": {},
   "outputs": [],
   "source": [
    "arcpy.analysis.Buffer(\n",
    "    in_features=\"MajorRoadsSplit\",\n",
    "    out_feature_class=r\"I:\\Professional\\Projects-OCPW\\OCTraffic\\OCSWITRS\\AGPSWITRS_HSA\\AGPSWITRS_HSA.gdb\\MajorRoadsSplitBuffer\",\n",
    "    buffer_distance_or_field=\"500 Feet\",\n",
    "    line_side=\"FULL\",\n",
    "    line_end_type=\"FLAT\",\n",
    "    dissolve_option=\"NONE\",\n",
    "    dissolve_field=None,\n",
    "    method=\"PLANAR\"\n",
    ")\n"
   ]
  },
  {
   "cell_type": "code",
   "execution_count": null,
   "metadata": {},
   "outputs": [],
   "source": [
    "arcpy.analysis.SummarizeWithin(\n",
    "    in_polygons=\"MajorRoadsSplitBuffer\",\n",
    "    in_sum_features=\"OCSWITRS Crashes\",\n",
    "    out_feature_class=r\"I:\\Professional\\Projects-OCPW\\OCTraffic\\OCSWITRS\\AGPSWITRS_HSA\\AGPSWITRS_HSA.gdb\\MajorRoadsSplitBuffer_SumCrashes\",\n",
    "    keep_all_polygons=\"KEEP_ALL\",\n",
    "    sum_fields=\"VICTIM_COUNT Sum;NUMBER_KILLED Sum;NUMBER_INJURED Sum;COUNT_SEVERE_INJ Sum;COUNT_VISIBLE_INJ Sum;COUNT_COMPLAINT_PAIN Sum;COUNT_PED_KILLED Sum;COUNT_PED_INJURED Sum;COUNT_BICYCLIST_KILLED Sum;COUNT_BICYCLIST_INJURED Sum;COUNT_MC_KILLED Sum;COUNT_MC_INJURED Sum;COLLISION_SEVERITY_RANKED Mean;COLLISION_SEVERITY_RECLASS Mean\",\n",
    "    sum_shape=\"ADD_SHAPE_SUM\",\n",
    "    shape_unit=\"SQUAREKILOMETERS\",\n",
    "    group_field=None,\n",
    "    add_min_maj=\"NO_MIN_MAJ\",\n",
    "    add_group_percent=\"NO_PERCENT\",\n",
    "    out_group_table=None\n",
    ")\n"
   ]
  },
  {
   "cell_type": "code",
   "execution_count": null,
   "metadata": {},
   "outputs": [],
   "source": [
    "arcpy.stats.HotSpots(\n",
    "    Input_Feature_Class=r\"I:\\Professional\\Projects-OCPW\\OCTraffic\\OCSWITRS\\AGPSWITRS\\AGPSWITRS.gdb\\CrashesPoints\",\n",
    "    Input_Field=\"COLLISION_SEVERITY_RECLASS\",\n",
    "    Output_Feature_Class=r\"I:\\Professional\\Projects-OCPW\\OCTraffic\\OCSWITRS\\AGPSWITRS_HSA\\AGPSWITRS_HSA.gdb\\Collisions20132024_HotSpots\",\n",
    "    Conceptualization_of_Spatial_Relationships=\"FIXED_DISTANCE_BAND\",\n",
    "    Distance_Method=\"EUCLIDEAN_DISTANCE\",\n",
    "    Standardization=\"ROW\",\n",
    "    Distance_Band_or_Threshold_Distance=None,\n",
    "    Self_Potential_Field=None,\n",
    "    Weights_Matrix_File=None,\n",
    "    Apply_False_Discovery_Rate__FDR__Correction=\"NO_FDR\",\n",
    "    number_of_neighbors=None\n",
    ")\n"
   ]
  },
  {
   "cell_type": "code",
   "execution_count": null,
   "metadata": {},
   "outputs": [],
   "source": [
    "arcpy.stats.OptimizedHotSpotAnalysis(\n",
    "    Input_Features=\"Crashes (2013-2024)\",\n",
    "    Output_Features=r\"I:\\Professional\\Projects-OCPW\\OCTraffic\\OCSWITRS\\AGPSWITRS_HSA\\AGPSWITRS_HSA.gdb\\Crashes20132024_OptimizedHotSpotAnalysis\",\n",
    "    Analysis_Field=\"COLLISION_SEVERITY_RECLASS\",\n",
    "    Incident_Data_Aggregation_Method=\"COUNT_INCIDENTS_WITHIN_FISHNET_POLYGONS\",\n",
    "    Bounding_Polygons_Defining_Where_Incidents_Are_Possible=None,\n",
    "    Polygons_For_Aggregating_Incidents_Into_Counts=None,\n",
    "    Density_Surface=None,\n",
    "    Cell_Size=None,\n",
    "    Distance_Band=\"1000 Meters\"\n",
    ")\n"
   ]
  },
  {
   "cell_type": "code",
   "execution_count": null,
   "metadata": {},
   "outputs": [],
   "source": [
    "arcpy.gapro.FindHotSpots(\n",
    "    point_layer=\"Crashes (2013-2024)\",\n",
    "    out_feature_class=r\"I:\\Professional\\Projects-OCPW\\OCTraffic\\OCSWITRS\\AGPSWITRS_HSA\\AGPSWITRS_HSA.gdb\\Crashes_FindHotSpots_1000ft_1mi\",\n",
    "    bin_size=\"1000 Feet\",\n",
    "    neighborhood_size=\"1 Miles\",\n",
    "    time_step_interval=None,\n",
    "    time_step_alignment=\"START_TIME\",\n",
    "    time_step_reference=None\n",
    ")\n"
   ]
  },
  {
   "cell_type": "code",
   "execution_count": null,
   "metadata": {},
   "outputs": [],
   "source": [
    "arcpy.gapro.FindHotSpots(\n",
    "    point_layer=\"Victims (2013-2024)\",\n",
    "    out_feature_class=r\"I:\\Professional\\Projects-OCPW\\OCTraffic\\OCSWITRS\\AGPSWITRS_HSA\\AGPSWITRS_HSA.gdb\\Victims_FindHotSpots_1000ft_1mi\",\n",
    "    bin_size=\"1000 Feet\",\n",
    "    neighborhood_size=\"1 Miles\",\n",
    "    time_step_interval=None,\n",
    "    time_step_alignment=\"START_TIME\",\n",
    "    time_step_reference=None\n",
    ")\n"
   ]
  },
  {
   "cell_type": "code",
   "execution_count": null,
   "metadata": {},
   "outputs": [],
   "source": [
    "arcpy.gapro.FindHotSpots(\n",
    "    point_layer=\"Crashes (2013-2024)\",\n",
    "    out_feature_class=r\"I:\\Professional\\Projects-OCPW\\OCTraffic\\OCSWITRS\\AGPSWITRS_HSA\\AGPSWITRS_HSA.gdb\\Crashes_FindHotSpots_500m_1km\",\n",
    "    bin_size=\"500 Meters\",\n",
    "    neighborhood_size=\"1 Kilometers\",\n",
    "    time_step_interval=None,\n",
    "    time_step_alignment=\"START_TIME\",\n",
    "    time_step_reference=None\n",
    ")\n"
   ]
  },
  {
   "cell_type": "code",
   "execution_count": null,
   "metadata": {},
   "outputs": [],
   "source": [
    "arcpy.gapro.FindHotSpots(\n",
    "    point_layer=\"Crashes (2013-2024)\",\n",
    "    out_feature_class=r\"I:\\Professional\\Projects-OCPW\\OCTraffic\\OCSWITRS\\AGPSWITRS_HSA\\AGPSWITRS_HSA.gdb\\Crashes_FindHotSpots_100m_1km\",\n",
    "    bin_size=\"100 Meters\",\n",
    "    neighborhood_size=\"1 Kilometers\",\n",
    "    time_step_interval=None,\n",
    "    time_step_alignment=\"START_TIME\",\n",
    "    time_step_reference=None\n",
    ")\n"
   ]
  },
  {
   "cell_type": "code",
   "execution_count": null,
   "metadata": {},
   "outputs": [],
   "source": [
    "arcpy.gapro.FindHotSpots(\n",
    "    point_layer=\"Crashes (2013-2024)\",\n",
    "    out_feature_class=r\"I:\\Professional\\Projects-OCPW\\OCTraffic\\OCSWITRS\\AGPSWITRS_HSA\\AGPSWITRS_HSA.gdb\\Crashes_FindHotSpots_100m_1km\",\n",
    "    bin_size=\"100 Meters\",\n",
    "    neighborhood_size=\"1 Kilometers\",\n",
    "    time_step_interval=None,\n",
    "    time_step_alignment=\"START_TIME\",\n",
    "    time_step_reference=None\n",
    ")\n"
   ]
  },
  {
   "cell_type": "code",
   "execution_count": null,
   "metadata": {},
   "outputs": [],
   "source": [
    "arcpy.gapro.FindHotSpots(\n",
    "    point_layer=\"Crashes (2013-2024)\",\n",
    "    out_feature_class=r\"I:\\Professional\\Projects-OCPW\\OCTraffic\\OCSWITRS\\AGPSWITRS_HSA\\AGPSWITRS_HSA.gdb\\Crashes_FindHotSpots_500ft_1mi\",\n",
    "    bin_size=\"500 Feet\",\n",
    "    neighborhood_size=\"1 Miles\",\n",
    "    time_step_interval=None,\n",
    "    time_step_alignment=\"START_TIME\",\n",
    "    time_step_reference=None\n",
    ")\n"
   ]
  },
  {
   "cell_type": "code",
   "execution_count": null,
   "metadata": {},
   "outputs": [],
   "source": [
    "arcpy.stats.HotSpots(\n",
    "    Input_Feature_Class=\"Crashes within 500m of Major Roads\",\n",
    "    Input_Field=\"COLLISION_SEVERITY_RECLASS\",\n",
    "    Output_Feature_Class=r\"I:\\Professional\\Projects-OCPW\\OCTraffic\\OCSWITRS\\AGPSWITRS_HSA\\AGPSWITRS_HSA.gdb\\Crasheswithin500mofMajorRoads_HotSpots\",\n",
    "    Conceptualization_of_Spatial_Relationships=\"FIXED_DISTANCE_BAND\",\n",
    "    Distance_Method=\"EUCLIDEAN_DISTANCE\",\n",
    "    Standardization=\"ROW\",\n",
    "    Distance_Band_or_Threshold_Distance=None,\n",
    "    Self_Potential_Field=None,\n",
    "    Weights_Matrix_File=None,\n",
    "    Apply_False_Discovery_Rate__FDR__Correction=\"NO_FDR\",\n",
    "    number_of_neighbors=None\n",
    ")\n"
   ]
  },
  {
   "cell_type": "code",
   "execution_count": null,
   "metadata": {},
   "outputs": [],
   "source": [
    "arcpy.gapro.FindHotSpots(\n",
    "    point_layer=\"Crashes within 500m of Major Roads\",\n",
    "    out_feature_class=r\"I:\\Professional\\Projects-OCPW\\OCTraffic\\OCSWITRS\\AGPSWITRS_HSA\\AGPSWITRS_HSA.gdb\\Crasheswithin500mofMajorRoads_FindHotSpots_500ft_1mi\",\n",
    "    bin_size=\"500 Feet\",\n",
    "    neighborhood_size=\"1 Miles\",\n",
    "    time_step_interval=None,\n",
    "    time_step_alignment=\"START_TIME\",\n",
    "    time_step_reference=None\n",
    ")\n"
   ]
  },
  {
   "cell_type": "code",
   "execution_count": null,
   "metadata": {},
   "outputs": [],
   "source": [
    "arcpy.stats.ExploratoryRegression(\n",
    "    Input_Features=\"Crashes (2013-2024)\",\n",
    "    Dependent_Variable=\"COLLISION_SEVERITY_BINARY\",\n",
    "    Candidate_Explanatory_Variables=\"COLLISION_TIME_RUSH_HOURS;NUMBER_KILLED;COUNT_SEVERE_INJ;COUNT_PED_KILLED;COUNT_BICYCLIST_KILLED;COUNT_MC_KILLED;PCF_VIOLATION;CITY_POPDENS;CITY_HUDENS;CITY_POPA;CITY_POPB;CITY_POPH;CITY_POPW\",\n",
    "    Weights_Matrix_File=None,\n",
    "    Output_Report_File=None,\n",
    "    Output_Results_Table=None,\n",
    "    Maximum_Number_of_Explanatory_Variables=5,\n",
    "    Minimum_Number_of_Explanatory_Variables=1,\n",
    "    Minimum_Acceptable_Adj_R_Squared=0.5,\n",
    "    Maximum_Coefficient_p_value_Cutoff=0.05,\n",
    "    Maximum_VIF_Value_Cutoff=7.5,\n",
    "    Minimum_Acceptable_Jarque_Bera_p_value=0.1,\n",
    "    Minimum_Acceptable_Spatial_Autocorrelation_p_value=0.1\n",
    ")\n"
   ]
  },
  {
   "cell_type": "code",
   "execution_count": null,
   "metadata": {},
   "outputs": [],
   "source": [
    "arcpy.stats.ExploratoryRegression(\n",
    "    Input_Features=\"Collisions (2013-2024)\",\n",
    "    Dependent_Variable=\"COLLISION_SEVERITY_RECLASS\",\n",
    "    Candidate_Explanatory_Variables=\"COLLISION_TIME_RUSH_HOURS;WEATHER_COMBINED;VEHICLE_YEAR;VICTIM_ROLE;VICTIM_AGE;CITY_POPDENS;CITY_HUDENS;CITY_POPA;CITY_POPB;CITY_POPH;CITY_POPW\",\n",
    "    Weights_Matrix_File=None,\n",
    "    Output_Report_File=None,\n",
    "    Output_Results_Table=None,\n",
    "    Maximum_Number_of_Explanatory_Variables=5,\n",
    "    Minimum_Number_of_Explanatory_Variables=1,\n",
    "    Minimum_Acceptable_Adj_R_Squared=0.5,\n",
    "    Maximum_Coefficient_p_value_Cutoff=0.05,\n",
    "    Maximum_VIF_Value_Cutoff=7.5,\n",
    "    Minimum_Acceptable_Jarque_Bera_p_value=0.1,\n",
    "    Minimum_Acceptable_Spatial_Autocorrelation_p_value=0.1\n",
    ")\n"
   ]
  }
 ],
 "metadata": {
  "kernelspec": {
   "display_name": "ArcGISPro",
   "language": "python",
   "name": "python3"
  },
  "language_info": {
   "file_extension": ".py",
   "mimetype": "text/x-python",
   "name": "python",
   "version": "3.11.10"
  }
 },
 "nbformat": 4,
 "nbformat_minor": 4
}
