{
 "cells": [
  {
   "cell_type": "code",
   "execution_count": 1,
   "metadata": {
    "vscode": {
     "languageId": "html"
    }
   },
   "outputs": [
    {
     "data": {
      "text/html": [
       "<style>\n",
       "    body {\n",
       "        --vscode-font-family: \"Inter\";\n",
       "    }\n",
       "</style>\n",
       "%%HTML\n",
       "<style>\n",
       "    body {\n",
       "        --vscode-font-family: \"Inter\";\n",
       "    }\n",
       "</style>\n"
      ],
      "text/plain": [
       "<IPython.core.display.HTML object>"
      ]
     },
     "metadata": {},
     "output_type": "display_data"
    }
   ],
   "source": [
    "%%HTML\n",
    "<style>\n",
    "    body {\n",
    "        --vscode-font-family: \"Inter\";\n",
    "    }\n",
    "</style>\n",
    "%%HTML\n",
    "<style>\n",
    "    body {\n",
    "        --vscode-font-family: \"Inter\";\n",
    "    }\n",
    "</style>\n"
   ]
  },
  {
   "cell_type": "markdown",
   "metadata": {},
   "source": [
    "<center>\n",
    "<h1 style=\"font-size: 50px; font-weight: bold; color:sandybrown\">OC SWITRS Data Processing</h1>\n",
    "\n",
    "<div style=\"font-size: 40px; font-weight: bold; color: sandybrown\">Stata Integration Data Operations</div>\n",
    "<div style=\"font-size: 30px; font-weight: bold; color: sandybrown\">v.2, November 2024</div>\n",
    "</center>\n",
    "\n",
    "---"
   ]
  },
  {
   "cell_type": "markdown",
   "metadata": {},
   "source": [
    "### <font color=\"lime\">**Preliminaries**</font>"
   ]
  },
  {
   "cell_type": "markdown",
   "metadata": {},
   "source": [
    "Instantiating python libraries for the project"
   ]
  },
  {
   "cell_type": "code",
   "execution_count": 2,
   "metadata": {},
   "outputs": [],
   "source": [
    "# Import Python libraries\n",
    "import os, json, pytz, math, arcpy, arcgis\n",
    "from datetime import date, time, datetime, timedelta, tzinfo, timezone\n",
    "from tqdm.notebook import trange, tqdm, tqdm_notebook\n",
    "import pandas as pd\n",
    "import numpy as np\n",
    "from pandas.api.types import infer_dtype, is_numeric_dtype, is_object_dtype, is_float_dtype, is_integer_dtype, is_string_dtype, is_datetime64_any_dtype, is_complex_dtype, is_interval_dtype, is_sparse, is_integer, is_any_real_numeric_dtype\n",
    "\n",
    "# important as it \"enhances\" Pandas by importing these classes (from ArcGIS API for Python)\n",
    "from arcgis.features import GeoAccessor, GeoSeriesAccessor\n"
   ]
  },
  {
   "cell_type": "markdown",
   "metadata": {},
   "source": [
    "### <font color=\"lime\">**Project and Workspace Variables**</font>"
   ]
  },
  {
   "cell_type": "markdown",
   "metadata": {},
   "source": [
    "Define and maintain project, workspace, ArcGIS, and data-related variables."
   ]
  },
  {
   "cell_type": "markdown",
   "metadata": {},
   "source": [
    "Project and ArcGIS Pro project path"
   ]
  },
  {
   "cell_type": "code",
   "execution_count": 3,
   "metadata": {},
   "outputs": [],
   "source": [
    "# Environment variables for OneDrive path\n",
    "#oneDrivePath = os.getenv(\"OneDriveCommercial\")\n",
    "\n",
    "# OC SWITRS project path\n",
    "#projectPath = os.path.join(oneDrivePath, \"Projects\", \"OCTraffic\", \"OCSWITRS\")\n",
    "projectPath = os.path.join(r\"D:\\Professional\\Projects-OCPW\\OCTraffic\\OCSWITRS\")\n",
    "\n",
    "# OC SWITRS ArcGIS Pro project path\n",
    "agpPath = os.path.join(projectPath, \"AGPSWITRS\")\n"
   ]
  },
  {
   "cell_type": "markdown",
   "metadata": {},
   "source": [
    "ArcGIS related paths"
   ]
  },
  {
   "cell_type": "code",
   "execution_count": null,
   "metadata": {},
   "outputs": [],
   "source": [
    "# ArcGIS Pro project name and path\n",
    "aprx = \"AGPSWITRS.aprx\"\n",
    "aprxPath = os.path.join(agpPath, aprx)\n",
    "\n",
    "# ArcGIS project geodatabase and path\n",
    "gdb = \"AGPSWITRS.gdb\"\n",
    "gdbPath = os.path.join(agpPath, gdb)\n",
    "\n",
    "# Current ArcGIS workspace (arcpy)\n",
    "arcpy.env.workspace = gdbPath\n",
    "workspace = arcpy.env.workspace\n",
    "\n",
    "# Enable overwriting existing outputs\n",
    "arcpy.env.overwriteOutput = True\n"
   ]
  },
  {
   "cell_type": "markdown",
   "metadata": {},
   "source": [
    "Project folder paths"
   ]
  },
  {
   "cell_type": "code",
   "execution_count": 6,
   "metadata": {},
   "outputs": [],
   "source": [
    "# RawData folder path\n",
    "rawDataPath = os.path.join(projectPath, \"RawData\")\n",
    "\n",
    "# Layers folder path\n",
    "layersPath = os.path.join(projectPath, \"Layers\")\n",
    "\n",
    "# Notebooks folder path\n",
    "notebooksPath = os.path.join(projectPath, \"Notebooks\")\n",
    "\n",
    "# Supporting data path on the project geodatabase (feature directory)\n",
    "supportingDataPath = os.path.join(workspace, \"SupportingData\")\n"
   ]
  },
  {
   "cell_type": "markdown",
   "metadata": {},
   "source": [
    "Data folder contents"
   ]
  },
  {
   "cell_type": "markdown",
   "metadata": {},
   "source": [
    "The most current raw data files cover the periods from 01/01/2013 to 06/30/2024. The data files are in CSV format and are stored in the data folder, after downloaded from the SWITRS Database (https://tims.berkeley.edu/tools/query/summary.php). Date variables are defined below."
   ]
  },
  {
   "cell_type": "code",
   "execution_count": 7,
   "metadata": {},
   "outputs": [],
   "source": [
    "# add the date 01/01/2013 to a new python datetime object named 'rawDateStart'\n",
    "rawDateStart = datetime(2013, 1, 1)\n",
    "\n",
    "# add the date 06/30/2024 to a new python datetime object named 'rawDateEnd'\n",
    "rawDateEnd = datetime(2024, 6, 30)\n"
   ]
  },
  {
   "cell_type": "code",
   "execution_count": 8,
   "metadata": {},
   "outputs": [],
   "source": [
    "# Paths to raw data (crashes, parties, victims)\n",
    "#rawCrashesPath = os.path.join(rawDataPath, \"Crashes.csv\")\n",
    "#rawPartiesPath = os.path.join(rawDataPath, \"Parties.csv\")\n",
    "#rawVictimsPath = os.path.join(rawDataPath, \"Victims.csv\")\n",
    "rawCrashesPath = os.path.join(rawDataPath, \"Crashes_\"+rawDateStart.strftime(\"%Y%m%d\")+\"_\"+rawDateEnd.strftime(\"%Y%m%d\")+\".csv\")\n",
    "rawPartiesPath = os.path.join(rawDataPath, \"Parties_\"+rawDateStart.strftime(\"%Y%m%d\")+\"_\"+rawDateEnd.strftime(\"%Y%m%d\")+\".csv\")\n",
    "rawVictimsPath = os.path.join(rawDataPath, \"Victims_\"+rawDateStart.strftime(\"%Y%m%d\")+\"_\"+rawDateEnd.strftime(\"%Y%m%d\")+\".csv\")\n",
    "\n",
    "# Path to JSON codebook\n",
    "codebookPath = os.path.join(rawDataPath, \"codebook.json\")\n",
    "\n",
    "# Paths to supporting data (feature classes)\n",
    "boundariesPath = os.path.join(supportingDataPath, \"OCSWITRS_Boundaries\")\n",
    "citiesPath = os.path.join(supportingDataPath, \"OCSWITRS_Cities\")\n",
    "roadsPath = os.path.join(supportingDataPath, \"OCSWITRS_Roads\")\n"
   ]
  },
  {
   "cell_type": "markdown",
   "metadata": {},
   "source": [
    "Display all information about paths, folders, and data files"
   ]
  },
  {
   "cell_type": "code",
   "execution_count": 9,
   "metadata": {},
   "outputs": [
    {
     "name": "stdout",
     "output_type": "stream",
     "text": [
      "Key Project Information\n",
      "\n",
      "\t- Name: AGPSWITRS.aprx\n",
      "\t- Path: D:\\Professional\\Projects-OCPW\\OCTraffic\\OCSWITRS\\AGPSWITRS\\AGPSWITRS.aprx\n",
      "\t- Project Path: D:\\Professional\\Projects-OCPW\\OCTraffic\\OCSWITRS\n",
      "\t- Workspace: D:\\Professional\\Projects-OCPW\\OCTraffic\\OCSWITRS\\AGPSWITRS\\AGPSWITRS.gdb\n",
      "\t-Geodatabase: AGPSWITRS.gdb\n",
      "\t- Geodatabase Path: D:\\Professional\\Projects-OCPW\\OCTraffic\\OCSWITRS\\AGPSWITRS\\AGPSWITRS.gdb\n",
      "\n",
      "Project Directories:\n",
      "\n",
      "\t- Raw Data: D:\\Professional\\Projects-OCPW\\OCTraffic\\OCSWITRS\\RawData\n",
      "\t- Layers: D:\\Professional\\Projects-OCPW\\OCTraffic\\OCSWITRS\\Layers\n",
      "\t- Notebooks: D:\\Professional\\Projects-OCPW\\OCTraffic\\OCSWITRS\\Notebooks\n",
      "\t- Supporting Data: D:\\Professional\\Projects-OCPW\\OCTraffic\\OCSWITRS\\AGPSWITRS\\AGPSWITRS.gdb\\SupportingData\n",
      "\n",
      "Supporting Feature Classes:\n",
      "\n",
      "\t- Boundaries: D:\\Professional\\Projects-OCPW\\OCTraffic\\OCSWITRS\\AGPSWITRS\\AGPSWITRS.gdb\\SupportingData\\OCSWITRS_Boundaries\n",
      "\t- Cities: D:\\Professional\\Projects-OCPW\\OCTraffic\\OCSWITRS\\AGPSWITRS\\AGPSWITRS.gdb\\SupportingData\\OCSWITRS_Cities\n",
      "\t- Roads: D:\\Professional\\Projects-OCPW\\OCTraffic\\OCSWITRS\\AGPSWITRS\\AGPSWITRS.gdb\\SupportingData\\OCSWITRS_Roads\n",
      "\n",
      "Other Supporting Data:\n",
      "\n",
      "\t- Codebook: D:\\Professional\\Projects-OCPW\\OCTraffic\\OCSWITRS\\RawData\\codebook.json\n",
      "\t- Raw Data Files:\n",
      "\t\t- Crashes: D:\\Professional\\Projects-OCPW\\OCTraffic\\OCSWITRS\\RawData\\Crashes_20130101_20240630.csv\n",
      "\t\t- Parties: D:\\Professional\\Projects-OCPW\\OCTraffic\\OCSWITRS\\RawData\\Parties_20130101_20240630.csv\n",
      "\t\t- Victims: D:\\Professional\\Projects-OCPW\\OCTraffic\\OCSWITRS\\RawData\\Victims_20130101_20240630.csv\n"
     ]
    }
   ],
   "source": [
    "# Display all information\n",
    "print(\"Key Project Information\")\n",
    "print(f\"\\n\\t- Name: {aprx}\\n\\t- Path: {aprxPath}\\n\\t- Project Path: {projectPath}\\n\\t- Workspace: {workspace}\\n\\t-Geodatabase: {gdb}\\n\\t- Geodatabase Path: {gdbPath}\")\n",
    "print(\"\\nProject Directories:\")\n",
    "print(f\"\\n\\t- Raw Data: {rawDataPath}\\n\\t- Layers: {layersPath}\\n\\t- Notebooks: {notebooksPath}\\n\\t- Supporting Data: {supportingDataPath}\")\n",
    "print(\"\\nSupporting Feature Classes:\")\n",
    "print(f\"\\n\\t- Boundaries: {boundariesPath}\\n\\t- Cities: {citiesPath}\\n\\t- Roads: {roadsPath}\")\n",
    "print(\"\\nOther Supporting Data:\")\n",
    "print(f\"\\n\\t- Codebook: {codebookPath}\\n\\t- Raw Data Files:\\n\\t\\t- Crashes: {rawCrashesPath}\\n\\t\\t- Parties: {rawPartiesPath}\\n\\t\\t- Victims: {rawVictimsPath}\")\n"
   ]
  },
  {
   "cell_type": "markdown",
   "metadata": {},
   "source": [
    "## <font color=\"orangered\">**Importing Raw Data**</font>"
   ]
  },
  {
   "cell_type": "markdown",
   "metadata": {},
   "source": [
    "Importing the pandas pickle files"
   ]
  },
  {
   "cell_type": "code",
   "execution_count": null,
   "metadata": {},
   "outputs": [],
   "source": [
    "pklCrashes = os.path.join(rawDataPath, \"dfCrashes.pkl\")\n",
    "pklParties = os.path.join(rawDataPath, \"dfParties.pkl\")\n",
    "pklVictims = os.path.join(rawDataPath, \"dfVictims.pkl\")\n",
    "pklCollisions = os.path.join(rawDataPath, \"dfCollisions.pkl\")\n"
   ]
  },
  {
   "cell_type": "code",
   "execution_count": null,
   "metadata": {},
   "outputs": [],
   "source": [
    "dfCrashes = pd.read_pickle(pklCrashes)\n",
    "dfParties = pd.read_pickle(pklParties)\n",
    "dfVictims = pd.read_pickle(pklVictims)\n",
    "dfCollisions = pd.read_pickle(pklCollisions)\n"
   ]
  },
  {
   "cell_type": "markdown",
   "metadata": {},
   "source": []
  }
 ],
 "metadata": {
  "kernelspec": {
   "display_name": "agpenv",
   "language": "python",
   "name": "python3"
  },
  "language_info": {
   "codemirror_mode": {
    "name": "ipython",
    "version": 3
   },
   "file_extension": ".py",
   "mimetype": "text/x-python",
   "name": "python",
   "nbconvert_exporter": "python",
   "pygments_lexer": "ipython3",
   "version": "3.11.8"
  }
 },
 "nbformat": 4,
 "nbformat_minor": 2
}
