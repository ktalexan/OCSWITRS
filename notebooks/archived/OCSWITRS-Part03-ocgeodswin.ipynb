{
 "cells": [
  {
   "cell_type": "code",
   "execution_count": null,
   "metadata": {
    "vscode": {
     "languageId": "html"
    }
   },
   "outputs": [],
   "source": [
    "%%HTML\n",
    "<style>\n",
    "    body {\n",
    "        --vscode-font-family: \"Inter\";\n",
    "    }\n",
    "</style>\n"
   ]
  },
  {
   "cell_type": "markdown",
   "metadata": {},
   "source": [
    "<center>\n",
    "<h1 style=\"font-size: 50px; font-weight: bold; color:sandybrown\">OC SWITRS Data Processing</h1>\n",
    "\n",
    "<div style=\"font-size: 40px; font-weight: bold; color: sandybrown\">Part 03: ArcGIS Online Operations</div>\n",
    "<div style=\"font-size: 30px; font-weight: bold; color: sandybrown\">v.5, August 2024</div>\n",
    "</center>\n",
    "\n",
    "---"
   ]
  },
  {
   "cell_type": "markdown",
   "metadata": {},
   "source": [
    "## <font color=\"orangered\">**Referencing Libraries and Initialization**</font>"
   ]
  },
  {
   "cell_type": "markdown",
   "metadata": {},
   "source": [
    "### <font color=\"lime\">**Preliminaries**</font>"
   ]
  },
  {
   "cell_type": "markdown",
   "metadata": {},
   "source": [
    "Instantiating python libraries for the project"
   ]
  },
  {
   "cell_type": "code",
   "execution_count": null,
   "metadata": {},
   "outputs": [],
   "source": [
    "# Import Python libraries\n",
    "import os, json, pytz, math, arcpy, arcgis\n",
    "from datetime import date, time, datetime, timedelta, tzinfo, timezone\n",
    "from tqdm.notebook import trange, tqdm, tqdm_notebook\n",
    "from arcpy import metadata as md\n",
    "from arcgis.gis import GIS\n",
    "from arcgis.mapping import WebMap\n",
    "from arcgis.features import FeatureLayer\n"
   ]
  },
  {
   "cell_type": "markdown",
   "metadata": {},
   "source": [
    "### <font color=\"lime\">**Project and Workspace Variables**</font>"
   ]
  },
  {
   "cell_type": "markdown",
   "metadata": {},
   "source": [
    "Define and maintain project, workspace, ArcGIS, and data-related variables."
   ]
  },
  {
   "cell_type": "markdown",
   "metadata": {},
   "source": [
    "Project and ArcGIS Pro project paths"
   ]
  },
  {
   "cell_type": "code",
   "execution_count": 59,
   "metadata": {},
   "outputs": [],
   "source": [
    "# Environment variables for OneDrive path\n",
    "oneDrivePath = os.getenv(\"OneDriveCommercial\")\n",
    "\n",
    "# OC SWITRS project path\n",
    "projectPath = os.path.join(oneDrivePath, \"Projects\", \"OCTraffic\", \"OCSWITRS\")\n",
    "\n",
    "# OC SWITRS ArcGIS Pro project path\n",
    "agpPath = os.path.join(projectPath, \"AGPSWITRS\")\n"
   ]
  },
  {
   "cell_type": "markdown",
   "metadata": {},
   "source": [
    "ArcGIS Pro-related paths"
   ]
  },
  {
   "cell_type": "code",
   "execution_count": null,
   "metadata": {},
   "outputs": [],
   "source": [
    "# ArcGIS Pro project name and path\n",
    "aprx = \"AGPSWITRS.aprx\"\n",
    "aprxPath = os.path.join(agpPath, aprx)\n",
    "\n",
    "# ArcGIS Pro project geodatabase and path\n",
    "gdb = \"AGPSWITRS.gdb\"\n",
    "gdbPath = os.path.join(agpPath, gdb)\n",
    "\n",
    "# Current ArcGIS workspace (arcpy)\n",
    "arcpy.env.workspace = gdbPath\n",
    "workspace = arcpy.env.workspace\n",
    "\n",
    "# Enable overwriting existing outputs\n",
    "arcpy.env.overwriteOutput = True\n"
   ]
  },
  {
   "cell_type": "markdown",
   "metadata": {},
   "source": [
    "Project folder paths"
   ]
  },
  {
   "cell_type": "code",
   "execution_count": 61,
   "metadata": {},
   "outputs": [],
   "source": [
    "# Raw data folder path\n",
    "rawDataPath = os.path.join(projectPath, \"RawData\")\n",
    "\n",
    "# Layers folder path\n",
    "layersPath = os.path.join(projectPath, \"Layers\")\n",
    "\n",
    "# Notebooks folder path\n",
    "notebooksPath = os.path.join(projectPath, \"Notebooks\")\n",
    "\n",
    "# Supporting data path on the project geodatabase (feature directory)\n",
    "supportingDataPath = os.path.join(workspace, \"SupportingData\")\n"
   ]
  },
  {
   "cell_type": "markdown",
   "metadata": {},
   "source": [
    "Data folder paths and contents"
   ]
  },
  {
   "cell_type": "code",
   "execution_count": 62,
   "metadata": {},
   "outputs": [],
   "source": [
    "# Paths to raw data (crashes, parties, victims)\n",
    "rawCrashesPath = os.path.join(rawDataPath, \"Crashes.csv\")\n",
    "rawPartiesPath = os.path.join(rawDataPath, \"Parties.csv\")\n",
    "rawVictimsPath = os.path.join(rawDataPath, \"Victims.csv\")\n",
    "\n",
    "# Path to JSON codebook\n",
    "codebookPath = os.path.join(rawDataPath, \"codebook.json\")\n",
    "\n",
    "# Paths to supporting data (feature classes)\n",
    "boundariesPath = os.path.join(supportingDataPath, \"OCSWITRS_Boundaries\")\n",
    "citiesPath = os.path.join(supportingDataPath, \"OCSWITRS_Cities\")\n",
    "roadsPath = os.path.join(supportingDataPath, \"OCSWITRS_Roads\")\n",
    "lookupPath = os.path.join(supportingDataPath, \"OCSWITRS_Lookup\")\n",
    "\n",
    "# Paths to saved dataframe pickles (crashes, parties, victims, collisions)\n",
    "dfCrashesPickle = os.path.join(rawDataPath, \"dfCrashes.pkl\")\n",
    "dfPartiesPickle = os.path.join(rawDataPath, \"dfParties.pkl\")\n",
    "dfVictimsPickle = os.path.join(rawDataPath, \"dfVictims.pkl\")\n",
    "dfCollisionsPickle = os.path.join(rawDataPath, \"dfCollisions.pkl\")\n",
    "\n",
    "# Paths to saved excel files (crashes, parties, victims, collisions) ready to be imported to ArcGIS Pro\n",
    "dfCrashesExcel = os.path.join(rawDataPath, \"dfCrashes.xlsx\")\n",
    "dfPartiesExcel = os.path.join(rawDataPath, \"dfParties.xlsx\")\n",
    "dfVictimsExcel = os.path.join(rawDataPath, \"dfVictims.xlsx\")\n",
    "dfCollisionsExcel = os.path.join(rawDataPath, \"dfCollisions.xlsx\")\n"
   ]
  },
  {
   "cell_type": "markdown",
   "metadata": {},
   "source": [
    "Display all information about paths, folders, and data files"
   ]
  },
  {
   "cell_type": "code",
   "execution_count": null,
   "metadata": {},
   "outputs": [
    {
     "name": "stdout",
     "output_type": "stream",
     "text": [
      "Key Project Information\n",
      "\n",
      "\t- Name AGPSWITRS.aprx\n",
      "\t- Path: D:\\OneDriveOCPW\\Projects\\OCTraffic\\OCSWITRS\\AGPSWITRS\\AGPSWITRS.aprx\n",
      "\t- Project Path: D:\\OneDriveOCPW\\Projects\\OCTraffic\\OCSWITRS\n",
      "\t- Workspace: D:\\OneDriveOCPW\\Projects\\OCTraffic\\OCSWITRS\\AGPSWITRS\\AGPSWITRS.gdb\n",
      "\t- Geodatabase: AGPSWITRS.gdb\n",
      "\t- Geodatabase Path: D:\\OneDriveOCPW\\Projects\\OCTraffic\\OCSWITRS\\AGPSWITRS\\AGPSWITRS.gdb\n",
      "\n",
      "Project Directories:\n",
      "\n",
      "\t- Raw Data: D:\\OneDriveOCPW\\Projects\\OCTraffic\\OCSWITRS\\RawData\n",
      "\t- Layers: D:\\OneDriveOCPW\\Projects\\OCTraffic\\OCSWITRS\\Layers\n",
      "\t- Notebooks: D:\\OneDriveOCPW\\Projects\\OCTraffic\\OCSWITRS\\Notebooks\n",
      "\t- Supporting Data: D:\\OneDriveOCPW\\Projects\\OCTraffic\\OCSWITRS\\AGPSWITRS\\AGPSWITRS.gdb\\SupportingData\n",
      "\n",
      "Supporting Feature Classes:\n",
      "\n",
      "\t- Boundaries: D:\\OneDriveOCPW\\Projects\\OCTraffic\\OCSWITRS\\AGPSWITRS\\AGPSWITRS.gdb\\SupportingData\\OCSWITRS_Boundaries\n",
      "\t- Cities: D:\\OneDriveOCPW\\Projects\\OCTraffic\\OCSWITRS\\AGPSWITRS\\AGPSWITRS.gdb\\SupportingData\\OCSWITRS_Cities\n",
      "\t- Roads: D:\\OneDriveOCPW\\Projects\\OCTraffic\\OCSWITRS\\AGPSWITRS\\AGPSWITRS.gdb\\SupportingData\\OCSWITRS_Roads\n",
      "\t- Lookup: D:\\OneDriveOCPW\\Projects\\OCTraffic\\OCSWITRS\\AGPSWITRS\\AGPSWITRS.gdb\\SupportingData\\OCSWITRS_Lookup\n",
      "\n",
      "Other Supporting Data\n",
      "\n",
      "\t- Codebook: D:\\OneDriveOCPW\\Projects\\OCTraffic\\OCSWITRS\\RawData\\codebook.json\n",
      "\t- Raw Data Files:\n",
      "\t\t- Crashes: D:\\OneDriveOCPW\\Projects\\OCTraffic\\OCSWITRS\\RawData\\Crashes.csv\n",
      "\t\t- Parties: D:\\OneDriveOCPW\\Projects\\OCTraffic\\OCSWITRS\\RawData\\Parties.csv\n",
      "\t\t- Victims: D:\\OneDriveOCPW\\Projects\\OCTraffic\\OCSWITRS\\RawData\\Victims.csv\n",
      "\n",
      "\t- Saved datafram Pickles:\n",
      "\t\t- Crashes: D:\\OneDriveOCPW\\Projects\\OCTraffic\\OCSWITRS\\RawData\\dfCrashes.pkl\n",
      "\t\t- Parties: D:\\OneDriveOCPW\\Projects\\OCTraffic\\OCSWITRS\\RawData\\dfParties.pkl\n",
      "\t\t- Victims: D:\\OneDriveOCPW\\Projects\\OCTraffic\\OCSWITRS\\RawData\\dfVictims.pkl\n",
      "\t\t- Collisions: D:\\OneDriveOCPW\\Projects\\OCTraffic\\OCSWITRS\\RawData\\dfCollisions.pkl\n",
      "\n",
      "\t- Saved Excel dataframes:\n",
      "\t\t- Crashes: D:\\OneDriveOCPW\\Projects\\OCTraffic\\OCSWITRS\\RawData\\dfCrashes.xlsx\n",
      "\t\t- Parties: D:\\OneDriveOCPW\\Projects\\OCTraffic\\OCSWITRS\\RawData\\dfParties.xlsx\n",
      "\t\t- Victims: D:\\OneDriveOCPW\\Projects\\OCTraffic\\OCSWITRS\\RawData\\dfVictims.xlsx\n",
      "\t\t- Collisions: D:\\OneDriveOCPW\\Projects\\OCTraffic\\OCSWITRS\\RawData\\dfCollisions.xlsx\n"
     ]
    }
   ],
   "source": [
    "# Display all information\n",
    "print(\"Key Project Information\")\n",
    "print(f\"\\n\\t- Name {aprx}\\n\\t- Path: {aprxPath}\\n\\t- Project Path: {projectPath}\\n\\t- Workspace: {workspace}\\n\\t- Geodatabase: {gdb}\\n\\t- Geodatabase Path: {gdbPath}\")\n",
    "print(\"\\nProject Directories:\")\n",
    "print(f\"\\n\\t- Raw Data: {rawDataPath}\\n\\t- Layers: {layersPath}\\n\\t- Notebooks: {notebooksPath}\\n\\t- Supporting Data: {supportingDataPath}\")\n",
    "print(\"\\nSupporting Feature Classes:\")\n",
    "print(f\"\\n\\t- Boundaries: {boundariesPath}\\n\\t- Cities: {citiesPath}\\n\\t- Roads: {roadsPath}\\n\\t- Lookup: {lookupPath}\")\n",
    "print(\"\\nOther Supporting Data\")\n",
    "print(f\"\\n\\t- Codebook: {codebookPath}\\n\\t- Raw Data Files:\\n\\t\\t- Crashes: {rawCrashesPath}\\n\\t\\t- Parties: {rawPartiesPath}\\n\\t\\t- Victims: {rawVictimsPath}\")\n",
    "print(f\"\\n\\t- Saved datafram Pickles:\\n\\t\\t- Crashes: {dfCrashesPickle}\\n\\t\\t- Parties: {dfPartiesPickle}\\n\\t\\t- Victims: {dfVictimsPickle}\\n\\t\\t- Collisions: {dfCollisionsPickle}\")\n",
    "print(f\"\\n\\t- Saved Excel dataframes:\\n\\t\\t- Crashes: {dfCrashesExcel}\\n\\t\\t- Parties: {dfPartiesExcel}\\n\\t\\t- Victims: {dfVictimsExcel}\\n\\t\\t- Collisions: {dfCollisionsExcel}\")\n"
   ]
  },
  {
   "cell_type": "markdown",
   "metadata": {},
   "source": [
    "Define ArcGIS Pro project and map list"
   ]
  },
  {
   "cell_type": "code",
   "execution_count": 64,
   "metadata": {},
   "outputs": [],
   "source": [
    "# Current ArcGIS Pro project\n",
    "aprx = arcpy.mp.ArcGISProject(aprxPath)\n",
    "\n",
    "# Current ArcGIS Pro project map\n",
    "map = aprx.listMaps()[0]\n"
   ]
  },
  {
   "cell_type": "markdown",
   "metadata": {},
   "source": [
    "Define ArcGIS Map Layers and List"
   ]
  },
  {
   "cell_type": "code",
   "execution_count": 65,
   "metadata": {},
   "outputs": [],
   "source": [
    "# Define variables for each of the map layers in the ArcGIS Pro project\n",
    "crashesLyr = map.listLayers(\"OCSWITRS Crashes\")[0]\n",
    "partiesLyr = map.listLayers(\"OCSWITRS Parties\")[0]\n",
    "victimsLyr = map.listLayers(\"OCSWITRS Victims\")[0]\n",
    "collisionsLyr = map.listLayers(\"OCSWITRS Collisions\")[0]\n",
    "citiesLyr = map.listLayers(\"OCSWITRS Cities\")[0]\n",
    "roadsLyr = map.listLayers(\"OCSWITRS Roads\")[0]\n",
    "\n",
    "# List of the main data layers in the ArcGIS Pro project\n",
    "dataLyrList = [crashesLyr, partiesLyr, victimsLyr, collisionsLyr]\n",
    "# List of the supporting data layers in the ArcGIS Pro project\n",
    "supportingLyrList = [citiesLyr,roadsLyr]\n"
   ]
  },
  {
   "cell_type": "markdown",
   "metadata": {},
   "source": [
    "## <font color=\"orangered\">**Exporting Layers to ArcGIS Online (AGO)**</font>"
   ]
  },
  {
   "cell_type": "markdown",
   "metadata": {},
   "source": []
  },
  {
   "cell_type": "markdown",
   "metadata": {},
   "source": [
    "## <font color=\"orangered\">**Visualizing ArcGIS Online Published Data**</font>"
   ]
  },
  {
   "cell_type": "markdown",
   "metadata": {},
   "source": [
    "Preliminaries for visualizing ArcGIS Online published data"
   ]
  },
  {
   "cell_type": "code",
   "execution_count": 66,
   "metadata": {},
   "outputs": [],
   "source": [
    "# Create a GIS object\n",
    "gis = GIS(\"pro\")\n"
   ]
  },
  {
   "cell_type": "code",
   "execution_count": 67,
   "metadata": {},
   "outputs": [
    {
     "data": {
      "text/html": [
       "<div class=\"9item_container\" style=\"height: auto; overflow: hidden; border: 1px solid #cfcfcf; border-radius: 2px; background: #f6fafa; line-height: 1.21429em; padding: 10px;\">\n",
       "                    <div class=\"item_left\" style=\"width: 210px; float: left;\">\n",
       "                       <a href='https://www.arcgis.com//home/user.html?user=ktalexan' target='_blank'>\n",
       "                        <img src='data:image/png;base64,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' width='200' height='133' class=\"itemThumbnail\">\n",
       "                       </a>\n",
       "                    </div>\n",
       "\n",
       "                    <div class=\"item_right\" style=\"float: none; width: auto; overflow: hidden;\">\n",
       "                        <a href='https://www.arcgis.com//home/user.html?user=ktalexan' target='_blank'><b>Kostas Alexandridis</b>\n",
       "                        </a>\n",
       "                        <br/><br/><b>Bio</b>: Dr. Kostas Alexandridis, GISP, is a GIS Analyst/ Spatial Complex Systems Scientist with the County of Orange, OC Survey Geospatial Applications in Santa Ana, California. He holds a PhD in Natural Resource Policy from Purdue University and BS/MS degrees in Agricultural Engineering/Agricultural Economics and Rural Sociology from Aristotle University of Thessaloniki in Greece. His work involves programming, modeling and simulation for Digital Twin models, advanced geoAI and spatially explicit Machine Learning (ML), and complex geospatial and geoscientific analysis and simulation. From 2009-2018, Dr. Alexandridis served in multiple joint positions at the University of the Virgin Islands, in the US Caribbean. Specifically, as a Research Assistant Professor of Marine and Environmental Science with a join appointment as an Assistant Professor of Computer and Computational Sciences, College of Science and Mathematics, UVI (2010-2018). He also served in academic administrative positions as the Director of the Center for Marine and Environmental Studies at UVI (2012-2013), and the founder and Director of the Institute for Geocomputational Analysis and Statistics (GeoCAS) at UVI (2013-2018). He also held an adjunct position with the University of South Florida (2012-2018). From 2006 to 2009, Dr. Alexandridis served as a senior research scientist with the Commonwealth Scientific and Industrial Research Organization (CSIRO) in Northern Queensland, Australia. Dr. Alexandridis is a certified Geographic Information Systems Professional (GISP No. 51820), has published extensively in the areas of complex information sciences, semantic network analysis, self-organizing systems, complex Spatial sciences, social- ecological systems, and computational social sciences. More information about Kostas in his LinkedIn Profile: https://www.linkedin.com/in/ktalexan/\n",
       "                        <br/><b>First Name</b>: Kostas\n",
       "                        <br/><b>Last Name</b>: Alexandridis\n",
       "                        <br/><b>Username</b>: ktalexan\n",
       "                        <br/><b>Joined</b>: December 27, 2018\n",
       "\n",
       "                    </div>\n",
       "                </div>\n",
       "                "
      ],
      "text/plain": [
       "<User username:ktalexan>"
      ]
     },
     "execution_count": 67,
     "metadata": {},
     "output_type": "execute_result"
    }
   ],
   "source": [
    "gis.users.me\n"
   ]
  },
  {
   "cell_type": "code",
   "execution_count": 68,
   "metadata": {},
   "outputs": [
    {
     "data": {
      "text/plain": [
       "[<Item title:\"OCSWITRS Historical Collisions Map\" type:Web Map owner:ktalexan>,\n",
       " <Item title:\"OCSWITRS Crashes Map\" type:Web Map owner:ktalexan>,\n",
       " <Item title:\"OCSWITRS Collisions App Map\" type:Web Map owner:ktalexan>,\n",
       " <Item title:\"OCSWITRS Parties Map\" type:Web Map owner:ktalexan>,\n",
       " <Item title:\"OCSWITRS Victims Map\" type:Web Map owner:ktalexan>]"
      ]
     },
     "execution_count": 68,
     "metadata": {},
     "output_type": "execute_result"
    }
   ],
   "source": [
    "map_search = gis.content.search(query=\"SWITRS\", item_type=\"Web Map\", max_items=10)\n",
    "map_search\n"
   ]
  },
  {
   "cell_type": "code",
   "execution_count": 70,
   "metadata": {},
   "outputs": [
    {
     "data": {
      "text/html": [
       "<div class=\"item_container\" style=\"height: auto; overflow: hidden; border: 1px solid #cfcfcf; border-radius: 2px; background: #f6fafa; line-height: 1.21429em; padding: 10px;\">\n",
       "                    <div class=\"item_left\" style=\"width: 210px; float: left;\">\n",
       "                       <a href='https://www.arcgis.com//home/item.html?id=170f1f20995f48de9598db1f936e53d5' target='_blank'>\n",
       "                        <img src='data:image/png;base64,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' width='200' height='133' class=\"itemThumbnail\">\n",
       "                       </a>\n",
       "                    </div>\n",
       "\n",
       "                    <div class=\"item_right\"     style=\"float: none; width: auto; overflow: hidden;\">\n",
       "                        <a href='https://www.arcgis.com//home/item.html?id=170f1f20995f48de9598db1f936e53d5' target='_blank'><b>OCSWITRS Crashes Map</b>\n",
       "                        </a>\n",
       "                        <br/>Statewide Integrated Traffic Records System (SWITRS) Crash Data for Orange County, California (2012-2023)<img src='https://www.arcgis.com//home/js/jsapi/esri/css/images/item_type_icons/maps16.png' style=\"vertical-align:middle;\" width=16 height=16>Web Map by ktalexan\n",
       "                        <br/>Last Modified: July 06, 2024\n",
       "                        <br/>0 comments, 280 views\n",
       "                    </div>\n",
       "                </div>\n",
       "                "
      ],
      "text/plain": [
       "<Item title:\"OCSWITRS Crashes Map\" type:Web Map owner:ktalexan>"
      ]
     },
     "execution_count": 70,
     "metadata": {},
     "output_type": "execute_result"
    }
   ],
   "source": [
    "web_item= map_search[1]\n",
    "web_item\n"
   ]
  },
  {
   "cell_type": "code",
   "execution_count": 71,
   "metadata": {},
   "outputs": [
    {
     "data": {
      "application/vnd.jupyter.widget-view+json": {
       "model_id": "560a9d86387847e78e6e0751c761f360",
       "version_major": 2,
       "version_minor": 0
      },
      "text/plain": [
       "MapView(hide_mode_switch=True, layout=Layout(height='400px', width='100%'))"
      ]
     },
     "metadata": {},
     "output_type": "display_data"
    },
    {
     "data": {
      "text/html": [
       "<div class=\"map-static-img-preview-0c95d7e1-7498-43a4-8e7d-bc8976b737f5\"><img src=\"\"></img></div>"
      ],
      "text/plain": [
       "<IPython.core.display.HTML object>"
      ]
     },
     "metadata": {},
     "output_type": "display_data"
    },
    {
     "data": {
      "text/html": [
       "<div class=\"map-html-embed-preview-0c95d7e1-7498-43a4-8e7d-bc8976b737f5\"></div>"
      ],
      "text/plain": [
       "<IPython.core.display.HTML object>"
      ]
     },
     "metadata": {},
     "output_type": "display_data"
    }
   ],
   "source": [
    "from arcgis.mapping import WebMap\n",
    "ocswitrs_webmap = WebMap(web_item)\n",
    "ocswitrs_webmap\n"
   ]
  },
  {
   "cell_type": "code",
   "execution_count": 77,
   "metadata": {},
   "outputs": [],
   "source": [
    "item = gis.content.get(\"5bc8a27565da4bb68e94dc5e4a402b80\")\n",
    "flayer = item.layers[0]\n"
   ]
  },
  {
   "cell_type": "code",
   "execution_count": 78,
   "metadata": {},
   "outputs": [],
   "source": [
    "import pandas as pd\n",
    "from arcgis.features import GeoAccessor, GeoSeriesAccessor\n"
   ]
  },
  {
   "cell_type": "code",
   "execution_count": 79,
   "metadata": {},
   "outputs": [],
   "source": [
    "sdf = pd.DataFrame.spatial.from_layer(flayer)\n"
   ]
  },
  {
   "cell_type": "code",
   "execution_count": 80,
   "metadata": {},
   "outputs": [
    {
     "data": {
      "text/html": [
       "<div>\n",
       "<style scoped>\n",
       "    .dataframe tbody tr th:only-of-type {\n",
       "        vertical-align: middle;\n",
       "    }\n",
       "\n",
       "    .dataframe tbody tr th {\n",
       "        vertical-align: top;\n",
       "    }\n",
       "\n",
       "    .dataframe thead th {\n",
       "        text-align: right;\n",
       "    }\n",
       "</style>\n",
       "<table border=\"1\" class=\"dataframe\">\n",
       "  <thead>\n",
       "    <tr style=\"text-align: right;\">\n",
       "      <th></th>\n",
       "      <th>OBJECTID</th>\n",
       "      <th>index_</th>\n",
       "      <th>recordDate</th>\n",
       "      <th>recordTime</th>\n",
       "      <th>recordEpoch</th>\n",
       "      <th>district</th>\n",
       "      <th>locationName</th>\n",
       "      <th>nearbyPlace</th>\n",
       "      <th>longitude</th>\n",
       "      <th>latitude</th>\n",
       "      <th>...</th>\n",
       "      <th>postmile</th>\n",
       "      <th>alignment</th>\n",
       "      <th>milepost</th>\n",
       "      <th>inService</th>\n",
       "      <th>imageDescription</th>\n",
       "      <th>streamingVideoURL</th>\n",
       "      <th>currentImageUpdateFrequency</th>\n",
       "      <th>currentImageURL</th>\n",
       "      <th>referenceImageUpdateFrequency</th>\n",
       "      <th>SHAPE</th>\n",
       "    </tr>\n",
       "  </thead>\n",
       "  <tbody>\n",
       "    <tr>\n",
       "      <th>0</th>\n",
       "      <td>1</td>\n",
       "      <td>1</td>\n",
       "      <td>2023-06-01</td>\n",
       "      <td>10:03:30</td>\n",
       "      <td>1685639010</td>\n",
       "      <td>12</td>\n",
       "      <td>I-5 : North of Magnolia Avenue (South Of SR-91)</td>\n",
       "      <td>Anaheim</td>\n",
       "      <td>-117.97886</td>\n",
       "      <td>33.85629</td>\n",
       "      <td>...</td>\n",
       "      <td>42.11</td>\n",
       "      <td>L</td>\n",
       "      <td>114.08</td>\n",
       "      <td>TRUE</td>\n",
       "      <td>&lt;NA&gt;</td>\n",
       "      <td>https://wzmedia.dot.ca.gov/D12/SB5MagnoliaAveS...</td>\n",
       "      <td>5</td>\n",
       "      <td>https://cwwp2.dot.ca.gov/data/d12/cctv/image/i...</td>\n",
       "      <td>&lt;NA&gt;</td>\n",
       "      <td>{\"x\": -13133346.6196, \"y\": 4009521.5688999966,...</td>\n",
       "    </tr>\n",
       "    <tr>\n",
       "      <th>1</th>\n",
       "      <td>2</td>\n",
       "      <td>2</td>\n",
       "      <td>2020-08-07</td>\n",
       "      <td>12:30:14</td>\n",
       "      <td>1596828614</td>\n",
       "      <td>12</td>\n",
       "      <td>SR-91 : Beach Boulevard</td>\n",
       "      <td>Buena Park</td>\n",
       "      <td>-117.99698</td>\n",
       "      <td>33.85631</td>\n",
       "      <td>...</td>\n",
       "      <td>2.67</td>\n",
       "      <td>&lt;NA&gt;</td>\n",
       "      <td>17.41</td>\n",
       "      <td>TRUE</td>\n",
       "      <td>&lt;NA&gt;</td>\n",
       "      <td>&lt;NA&gt;</td>\n",
       "      <td>5</td>\n",
       "      <td>https://cwwp2.dot.ca.gov/data/d12/cctv/image/s...</td>\n",
       "      <td>&lt;NA&gt;</td>\n",
       "      <td>{\"x\": -13135363.7287, \"y\": 4009524.2498999983,...</td>\n",
       "    </tr>\n",
       "    <tr>\n",
       "      <th>2</th>\n",
       "      <td>3</td>\n",
       "      <td>3</td>\n",
       "      <td>2023-10-18</td>\n",
       "      <td>14:27:07</td>\n",
       "      <td>1697664427</td>\n",
       "      <td>12</td>\n",
       "      <td>SR-57 : SR-22</td>\n",
       "      <td>Anaheim</td>\n",
       "      <td>-117.875531</td>\n",
       "      <td>33.849091</td>\n",
       "      <td>...</td>\n",
       "      <td>15.55</td>\n",
       "      <td>&lt;NA&gt;</td>\n",
       "      <td>4.82</td>\n",
       "      <td>TRUE</td>\n",
       "      <td>&lt;NA&gt;</td>\n",
       "      <td>https://wzmedia.dot.ca.gov/D12/NB57NO_RTE22.st...</td>\n",
       "      <td>5</td>\n",
       "      <td>https://cwwp2.dot.ca.gov/data/d12/cctv/image/s...</td>\n",
       "      <td>&lt;NA&gt;</td>\n",
       "      <td>{\"x\": -13121844.0879, \"y\": 4008556.589400001, ...</td>\n",
       "    </tr>\n",
       "    <tr>\n",
       "      <th>3</th>\n",
       "      <td>4</td>\n",
       "      <td>4</td>\n",
       "      <td>2020-12-14</td>\n",
       "      <td>13:39:35</td>\n",
       "      <td>1607981975</td>\n",
       "      <td>12</td>\n",
       "      <td>SR-91 : Scale House</td>\n",
       "      <td>Anaheim</td>\n",
       "      <td>-117.755142</td>\n",
       "      <td>33.868618</td>\n",
       "      <td>...</td>\n",
       "      <td>13.81</td>\n",
       "      <td>R</td>\n",
       "      <td>32.18</td>\n",
       "      <td>TRUE</td>\n",
       "      <td>&lt;NA&gt;</td>\n",
       "      <td>&lt;NA&gt;</td>\n",
       "      <td>5</td>\n",
       "      <td>https://cwwp2.dot.ca.gov/data/d12/cctv/image/s...</td>\n",
       "      <td>&lt;NA&gt;</td>\n",
       "      <td>{\"x\": -13108442.445700001, \"y\": 4011174.246799...</td>\n",
       "    </tr>\n",
       "    <tr>\n",
       "      <th>4</th>\n",
       "      <td>5</td>\n",
       "      <td>5</td>\n",
       "      <td>2020-08-07</td>\n",
       "      <td>12:08:58</td>\n",
       "      <td>1596827338</td>\n",
       "      <td>12</td>\n",
       "      <td>SR-91 : SR-55</td>\n",
       "      <td>Anaheim</td>\n",
       "      <td>-117.828285</td>\n",
       "      <td>33.844076</td>\n",
       "      <td>...</td>\n",
       "      <td>9.12</td>\n",
       "      <td>&lt;NA&gt;</td>\n",
       "      <td>27.49</td>\n",
       "      <td>TRUE</td>\n",
       "      <td>&lt;NA&gt;</td>\n",
       "      <td>&lt;NA&gt;</td>\n",
       "      <td>5</td>\n",
       "      <td>https://cwwp2.dot.ca.gov/data/d12/cctv/image/s...</td>\n",
       "      <td>&lt;NA&gt;</td>\n",
       "      <td>{\"x\": -13116584.687199999, \"y\": 4007884.409000...</td>\n",
       "    </tr>\n",
       "  </tbody>\n",
       "</table>\n",
       "<p>5 rows × 26 columns</p>\n",
       "</div>"
      ],
      "text/plain": [
       "   OBJECTID index_ recordDate recordTime  recordEpoch  district  \\\n",
       "0         1      1 2023-06-01   10:03:30   1685639010        12   \n",
       "1         2      2 2020-08-07   12:30:14   1596828614        12   \n",
       "2         3      3 2023-10-18   14:27:07   1697664427        12   \n",
       "3         4      4 2020-12-14   13:39:35   1607981975        12   \n",
       "4         5      5 2020-08-07   12:08:58   1596827338        12   \n",
       "\n",
       "                                      locationName nearbyPlace   longitude  \\\n",
       "0  I-5 : North of Magnolia Avenue (South Of SR-91)     Anaheim  -117.97886   \n",
       "1                          SR-91 : Beach Boulevard  Buena Park  -117.99698   \n",
       "2                                    SR-57 : SR-22     Anaheim -117.875531   \n",
       "3                              SR-91 : Scale House     Anaheim -117.755142   \n",
       "4                                    SR-91 : SR-55     Anaheim -117.828285   \n",
       "\n",
       "    latitude  ...  postmile alignment milepost inService imageDescription  \\\n",
       "0   33.85629  ...     42.11         L   114.08      TRUE             <NA>   \n",
       "1   33.85631  ...      2.67      <NA>    17.41      TRUE             <NA>   \n",
       "2  33.849091  ...     15.55      <NA>     4.82      TRUE             <NA>   \n",
       "3  33.868618  ...     13.81         R    32.18      TRUE             <NA>   \n",
       "4  33.844076  ...      9.12      <NA>    27.49      TRUE             <NA>   \n",
       "\n",
       "                                   streamingVideoURL  \\\n",
       "0  https://wzmedia.dot.ca.gov/D12/SB5MagnoliaAveS...   \n",
       "1                                               <NA>   \n",
       "2  https://wzmedia.dot.ca.gov/D12/NB57NO_RTE22.st...   \n",
       "3                                               <NA>   \n",
       "4                                               <NA>   \n",
       "\n",
       "   currentImageUpdateFrequency  \\\n",
       "0                            5   \n",
       "1                            5   \n",
       "2                            5   \n",
       "3                            5   \n",
       "4                            5   \n",
       "\n",
       "                                     currentImageURL  \\\n",
       "0  https://cwwp2.dot.ca.gov/data/d12/cctv/image/i...   \n",
       "1  https://cwwp2.dot.ca.gov/data/d12/cctv/image/s...   \n",
       "2  https://cwwp2.dot.ca.gov/data/d12/cctv/image/s...   \n",
       "3  https://cwwp2.dot.ca.gov/data/d12/cctv/image/s...   \n",
       "4  https://cwwp2.dot.ca.gov/data/d12/cctv/image/s...   \n",
       "\n",
       "   referenceImageUpdateFrequency  \\\n",
       "0                           <NA>   \n",
       "1                           <NA>   \n",
       "2                           <NA>   \n",
       "3                           <NA>   \n",
       "4                           <NA>   \n",
       "\n",
       "                                               SHAPE  \n",
       "0  {\"x\": -13133346.6196, \"y\": 4009521.5688999966,...  \n",
       "1  {\"x\": -13135363.7287, \"y\": 4009524.2498999983,...  \n",
       "2  {\"x\": -13121844.0879, \"y\": 4008556.589400001, ...  \n",
       "3  {\"x\": -13108442.445700001, \"y\": 4011174.246799...  \n",
       "4  {\"x\": -13116584.687199999, \"y\": 4007884.409000...  \n",
       "\n",
       "[5 rows x 26 columns]"
      ]
     },
     "execution_count": 80,
     "metadata": {},
     "output_type": "execute_result"
    }
   ],
   "source": [
    "sdf.head()\n"
   ]
  },
  {
   "cell_type": "code",
   "execution_count": 81,
   "metadata": {},
   "outputs": [
    {
     "data": {
      "text/html": [
       "<div class=\"item_container\" style=\"height: auto; overflow: hidden; border: 1px solid #cfcfcf; border-radius: 2px; background: #f6fafa; line-height: 1.21429em; padding: 10px;\">\n",
       "                    <div class=\"item_left\" style=\"width: 210px; float: left;\">\n",
       "                       <a href='https://www.arcgis.com//home/item.html?id=5bc8a27565da4bb68e94dc5e4a402b80' target='_blank'>\n",
       "                        <img src='data:image/png;base64,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' width='200' height='133' class=\"itemThumbnail\">\n",
       "                       </a>\n",
       "                    </div>\n",
       "\n",
       "                    <div class=\"item_right\"     style=\"float: none; width: auto; overflow: hidden;\">\n",
       "                        <a href='https://www.arcgis.com//home/item.html?id=5bc8a27565da4bb68e94dc5e4a402b80' target='_blank'><b>OC CalTrans Highway CCTV</b>\n",
       "                        </a>\n",
       "                        <br/>Orange County CalTrans Highway CCTV Cameras<img src='https://www.arcgis.com//home/js/jsapi/esri/css/images/item_type_icons/featureshosted16.png' style=\"vertical-align:middle;\" width=16 height=16>Feature Layer Collection by ktalexan\n",
       "                        <br/>Last Modified: March 25, 2024\n",
       "                        <br/>0 comments, 341 views\n",
       "                    </div>\n",
       "                </div>\n",
       "                "
      ],
      "text/plain": [
       "<Item title:\"OC CalTrans Highway CCTV\" type:Feature Layer Collection owner:ktalexan>"
      ]
     },
     "execution_count": 81,
     "metadata": {},
     "output_type": "execute_result"
    }
   ],
   "source": [
    "item\n"
   ]
  },
  {
   "cell_type": "code",
   "execution_count": 86,
   "metadata": {},
   "outputs": [
    {
     "data": {
      "text/plain": [
       "51"
      ]
     },
     "execution_count": 86,
     "metadata": {},
     "output_type": "execute_result"
    }
   ],
   "source": [
    "df = flayer.query(where=\"nearbyPlace = 'Irvine'\", as_df=True)\n",
    "len(df)\n"
   ]
  },
  {
   "cell_type": "code",
   "execution_count": 87,
   "metadata": {},
   "outputs": [
    {
     "data": {
      "text/plain": [
       "282"
      ]
     },
     "execution_count": 87,
     "metadata": {},
     "output_type": "execute_result"
    }
   ],
   "source": [
    "len(sdf)\n"
   ]
  },
  {
   "cell_type": "code",
   "execution_count": 88,
   "metadata": {},
   "outputs": [
    {
     "data": {
      "text/plain": [
       "<StringArray>\n",
       "[               'Anaheim',             'Buena Park',           'Garden Grove',\n",
       "            'Westminster',             'Costa Mesa',              'Santa Ana',\n",
       "                 'Tustin',                 'Irvine',                 'Orange',\n",
       "            'Lake Forest',          'Newport Beach',              'Placentia',\n",
       "              'Fullerton',                   'Brea',    'San Juan Capistrano',\n",
       "          'Mission Viejo',             'Seal Beach',           'Los Alamitos',\n",
       "           'San Clemente',       'Capistrano Beach',        'Fountain Valley',\n",
       "         'Trabuco Canyon', 'Rancho Santa Margarita',         'Foothill Ranch',\n",
       "              'Silverado',            'Yorba Linda',          'Laguna Niguel',\n",
       "           'Laguna Hills',            'Aliso Viejo',           'Laguna Beach',\n",
       "          'Newport Coast',               'La Habra']\n",
       "Length: 32, dtype: string"
      ]
     },
     "execution_count": 88,
     "metadata": {},
     "output_type": "execute_result"
    }
   ],
   "source": [
    "sdf[\"nearbyPlace\"].unique()\n"
   ]
  },
  {
   "cell_type": "code",
   "execution_count": 96,
   "metadata": {},
   "outputs": [
    {
     "data": {
      "text/plain": [
       "nearbyPlace\n",
       "Irvine                    51\n",
       "Anaheim                   33\n",
       "Orange                    19\n",
       "Costa Mesa                14\n",
       "Fullerton                 13\n",
       "Brea                      13\n",
       "Westminster               11\n",
       "Santa Ana                 10\n",
       "Tustin                     9\n",
       "San Juan Capistrano        9\n",
       "Mission Viejo              9\n",
       "Buena Park                 8\n",
       "Garden Grove               8\n",
       "Foothill Ranch             8\n",
       "San Clemente               8\n",
       "Aliso Viejo                7\n",
       "La Habra                   6\n",
       "Fountain Valley            5\n",
       "Newport Beach              5\n",
       "Newport Coast              5\n",
       "Seal Beach                 5\n",
       "Silverado                  4\n",
       "Laguna Niguel              4\n",
       "Los Alamitos               3\n",
       "Rancho Santa Margarita     3\n",
       "Lake Forest                3\n",
       "Capistrano Beach           2\n",
       "Trabuco Canyon             2\n",
       "Yorba Linda                2\n",
       "Placentia                  1\n",
       "Laguna Hills               1\n",
       "Laguna Beach               1\n",
       "Name: count, dtype: Int64"
      ]
     },
     "execution_count": 96,
     "metadata": {},
     "output_type": "execute_result"
    }
   ],
   "source": [
    "sdf[\"nearbyPlace\"].value_counts()\n"
   ]
  },
  {
   "cell_type": "code",
   "execution_count": 97,
   "metadata": {},
   "outputs": [
    {
     "data": {
      "application/vnd.jupyter.widget-view+json": {
       "model_id": "d52a7f5afbb44040b62bd16456d4548d",
       "version_major": 2,
       "version_minor": 0
      },
      "text/plain": [
       "MapView(layout=Layout(height='400px', width='100%'))"
      ]
     },
     "metadata": {},
     "output_type": "display_data"
    },
    {
     "data": {
      "text/html": [
       "<div class=\"map-static-img-preview-4cb510ae-72a8-4e65-9b16-6576212fcf2d\"><img src=\"\"></img></div>"
      ],
      "text/plain": [
       "<IPython.core.display.HTML object>"
      ]
     },
     "metadata": {},
     "output_type": "display_data"
    },
    {
     "data": {
      "text/html": [
       "<div class=\"map-html-embed-preview-4cb510ae-72a8-4e65-9b16-6576212fcf2d\"></div>"
      ],
      "text/plain": [
       "<IPython.core.display.HTML object>"
      ]
     },
     "metadata": {},
     "output_type": "display_data"
    }
   ],
   "source": [
    "m1 = gis.map(\"Orange County, CA\")\n",
    "m1\n"
   ]
  },
  {
   "cell_type": "code",
   "execution_count": 103,
   "metadata": {},
   "outputs": [],
   "source": [
    "m1.zoom=2\n",
    "m1.center=[33.6846, -117.8265]\n"
   ]
  },
  {
   "cell_type": "code",
   "execution_count": 112,
   "metadata": {},
   "outputs": [
    {
     "data": {
      "text/plain": [
       "True"
      ]
     },
     "execution_count": 112,
     "metadata": {},
     "output_type": "execute_result"
    }
   ],
   "source": [
    "sdf.spatial.plot(map_widget=m1)\n"
   ]
  },
  {
   "cell_type": "code",
   "execution_count": 116,
   "metadata": {},
   "outputs": [
    {
     "data": {
      "text/plain": [
       "0       42.11\n",
       "1        2.67\n",
       "2       15.55\n",
       "3       13.81\n",
       "4        9.12\n",
       "        ...  \n",
       "277     0.567\n",
       "278     11.44\n",
       "279    18.309\n",
       "280    20.193\n",
       "281    18.362\n",
       "Name: postmile, Length: 282, dtype: Float64"
      ]
     },
     "execution_count": 116,
     "metadata": {},
     "output_type": "execute_result"
    }
   ],
   "source": [
    "sdf[\"postmile\"]\n"
   ]
  },
  {
   "cell_type": "code",
   "execution_count": 119,
   "metadata": {},
   "outputs": [
    {
     "data": {
      "image/png": "[encoded data removed]",
      "text/plain": [
       "<Figure size 640x480 with 1 Axes>"
      ]
     },
     "metadata": {},
     "output_type": "display_data"
    },
    {
     "data": {
      "text/plain": [
       "count        282.0\n",
       "mean     15.982947\n",
       "std      11.275731\n",
       "min           0.51\n",
       "25%           5.98\n",
       "50%         14.475\n",
       "75%        22.8875\n",
       "max         44.255\n",
       "Name: postmile, dtype: Float64"
      ]
     },
     "execution_count": 119,
     "metadata": {},
     "output_type": "execute_result"
    }
   ],
   "source": [
    "import matplotlib.pyplot as plt\n",
    "n, bins, patches = plt.hist(sdf[\"postmile\"], bins=5, color='blue', alpha=0.7, rwidth=0.85)\n",
    "plt.show()\n",
    "\n",
    "sdf[\"postmile\"].describe()\n",
    "\n"
   ]
  },
  {
   "cell_type": "code",
   "execution_count": null,
   "metadata": {},
   "outputs": [],
   "source": []
  }
 ],
 "metadata": {
  "kernelspec": {
   "display_name": "ArcGISPro",
   "language": "python",
   "name": "python3"
  },
  "language_info": {
   "file_extension": ".py",
   "mimetype": "text/x-python",
   "name": "python",
   "version": "3.11.10"
  }
 },
 "nbformat": 4,
 "nbformat_minor": 4
}
