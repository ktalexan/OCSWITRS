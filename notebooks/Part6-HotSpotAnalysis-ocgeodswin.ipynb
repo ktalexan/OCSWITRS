{
 "cells": [
  {
   "cell_type": "markdown",
   "metadata": {},
   "source": [
    "<center>\n",
    "<h1 style=\"font-size: 50px; font-weight: bold; color:sandybrown\">OC SWITRS R Data Processing</h1>\n",
    "\n",
    "<div style=\"font-size: 40px; font-weight: bold; color: sandybrown\">ArcGIS Hot Spot Analysis</div>\n",
    "<div style=\"font-size: 30px; font-weight: bold; color: sandybrown\">v.1, January 2025</div>\n",
    "</center>"
   ]
  },
  {
   "cell_type": "markdown",
   "metadata": {},
   "source": [
    "----"
   ]
  },
  {
   "cell_type": "markdown",
   "metadata": {},
   "source": [
    "## <font color=\"orangered\">**1. Referencing Libraries and Initialization**</font>"
   ]
  },
  {
   "cell_type": "markdown",
   "metadata": {},
   "source": [
    "### <font color=\"blue\">**1.1. Preliminaries**</font>"
   ]
  },
  {
   "cell_type": "markdown",
   "metadata": {},
   "source": [
    "Instantiating python libraries for the project"
   ]
  },
  {
   "cell_type": "code",
   "execution_count": 70,
   "metadata": {},
   "outputs": [],
   "source": [
    "# Import Python libraries\n",
    "import os, json, pytz, math, arcpy, arcgis\n",
    "from datetime import date, time, datetime, timedelta, tzinfo, timezone\n",
    "from tqdm.notebook import trange, tqdm, tqdm_notebook\n",
    "import pandas as pd\n",
    "import numpy as np\n",
    "from arcpy import metadata as md\n",
    "\n",
    "# important as it \"enhances\" Pandas by importing these classes (from ArcGIS API for Python)\n",
    "from arcgis.features import GeoAccessor, GeoSeriesAccessor\n"
   ]
  },
  {
   "cell_type": "markdown",
   "metadata": {},
   "source": [
    "### <font color=\"blue\">**1.2. Project and Workspace Variables**</font>"
   ]
  },
  {
   "cell_type": "markdown",
   "metadata": {},
   "source": [
    "Define and maintain project, workspace, ArcGIS, and data-related variables."
   ]
  },
  {
   "cell_type": "markdown",
   "metadata": {},
   "source": [
    "#### <font color=\"darkgreen\">Project and Geodatabase Paths</font>"
   ]
  },
  {
   "cell_type": "markdown",
   "metadata": {},
   "source": [
    "Project and ArcGIS Pro project paths"
   ]
  },
  {
   "cell_type": "code",
   "execution_count": 71,
   "metadata": {},
   "outputs": [
    {
     "name": "stdout",
     "output_type": "stream",
     "text": [
      "Project Directories:\n",
      "- Project Path:C:\\Users\\ktalexan\\OneDrive - County of Orange\\Documents\\OCSWITRS\n",
      "- ArcGIS Pro Project Path: C:\\Users\\ktalexan\\OneDrive - County of Orange\\Documents\\OCSWITRS\\AGPSWITRS\n"
     ]
    }
   ],
   "source": [
    "# Environment variables for OneDrive path\n",
    "onedrive_path = os.getenv(\"OneDriveCommercial\")\n",
    "\n",
    "# OC Switrs project path\n",
    "project_path = os.path.join(onedrive_path, \"Documents\", \"OCSWITRS\")\n",
    "\n",
    "# OC Switrs ArcGIS Pro project path\n",
    "agp_path = os.path.join(project_path, \"AGPSWITRS\")\n",
    "\n",
    "print(f\"Project Directories:\\n- Project Path:{project_path}\\n- ArcGIS Pro Project Path: {agp_path}\")\n"
   ]
  },
  {
   "cell_type": "markdown",
   "metadata": {},
   "source": [
    "#### <font color=\"darkgreen\">ArcGIS Pro Paths</font>"
   ]
  },
  {
   "cell_type": "markdown",
   "metadata": {},
   "source": [
    "ArcGIS Pro related paths and variables"
   ]
  },
  {
   "cell_type": "code",
   "execution_count": 151,
   "metadata": {},
   "outputs": [],
   "source": [
    "# ArcGIS Pro project name and path\n",
    "project_aprx = \"AGPSWITRS.aprx\"\n",
    "project_aprx_path = os.path.join(agp_path, project_aprx)\n",
    "\n",
    "# ArcGIS Pro project geodatabase and path\n",
    "gdb = \"AGPSWITRS.gdb\"\n",
    "gdb_path = os.path.join(agp_path, gdb)\n",
    "\n",
    "# Current ArcGIS pro project\n",
    "aprx = arcpy.mp.ArcGISProject('CURRENT')\n",
    "\n",
    "# Close all map views\n",
    "aprx.closeViews()\n",
    "\n",
    "# Current ArcGIS pro project maps\n",
    "map_main = aprx.listMaps(\"MainMap\")[0]\n",
    "map_hotspots = aprx.listMaps(\"HotSpotsMap\")[0]\n",
    "\n",
    "# Current ArcGIS pro project layouts\n",
    "layout_main = aprx.listLayouts(\"MainLayout\")[0]\n",
    "layout_hotsponts = aprx.listLayouts(\"HotSpotsLayout\")[0]\n",
    "\n",
    "# Current ArcGIS workspace (arcpy)\n",
    "arcpy.env.workspace = gdb_path\n",
    "workspace = arcpy.env.workspace\n",
    "\n",
    "# Enable overwriting existing outputs\n",
    "arcpy.env.overwriteOutput = True"
   ]
  },
  {
   "cell_type": "markdown",
   "metadata": {},
   "source": [
    "#### <font color=\"darkgreen\">Folder Paths</font>"
   ]
  },
  {
   "cell_type": "markdown",
   "metadata": {},
   "source": [
    "Project folder paths"
   ]
  },
  {
   "cell_type": "code",
   "execution_count": 73,
   "metadata": {},
   "outputs": [],
   "source": [
    "# Raw data folder path\n",
    "raw_data_path = os.path.join(project_path, \"Data\", \"Raw\")\n",
    "\n",
    "# Layers folder path\n",
    "layers_path = os.path.join(project_path, \"Layers\")\n",
    "\n",
    "# Notebooks folder path\n",
    "notebooks_path = os.path.join(project_path, \"Notebooks\")\n",
    "\n",
    "# Geodatabase feature directory paths\n",
    "gdb_raw_data_path = os.path.join(workspace, \"RawData\")  # raw data\n",
    "gdb_supporting_data_path = os.path.join(\n",
    "    workspace, \"SupportingData\")  # supporting data\n",
    "gdb_analysis_data_path = os.path.join(\n",
    "    workspace, \"AnalysisData\")  # analysis data\n",
    "gdb_hotspot_data_path = os.path.join(workspace, \"HotSpotData\")  # hotspot data\n",
    "\n",
    "# Codebook Json folder path\n",
    "codebook_path = os.path.join(project_path, \"Data\", \"codebook\", \"cb.json\")\n"
   ]
  },
  {
   "cell_type": "markdown",
   "metadata": {},
   "source": [
    "#### <font color=\"darkgreen\">Data Folder Paths</font>"
   ]
  },
  {
   "cell_type": "markdown",
   "metadata": {},
   "source": [
    "Data folder paths and contents"
   ]
  },
  {
   "cell_type": "markdown",
   "metadata": {},
   "source": [
    "The most current data files cover the periods from 01/01/2013 to 09/30/2024. The data files are already processed in the R scripts and imported into the project's geodatabase."
   ]
  },
  {
   "cell_type": "code",
   "execution_count": 74,
   "metadata": {},
   "outputs": [],
   "source": [
    "# add the date 01/01/2013 to a new python datetime object named 'rawDateStart'\n",
    "raw_date_start = datetime(2013, 1, 1)\n",
    "\n",
    "# add the date 06/30/2024 to a new python datetime object named 'rawDateEnd'\n",
    "raw_date_end = datetime(2024, 9, 30)\n",
    "\n",
    "# Define time and date variables\n",
    "time_zone = pytz.timezone(\"US/Pacific\")\n",
    "today = datetime.now(time_zone)\n",
    "last_update_date = today.strftime(\"%B %d, %Y\")\n",
    "last_update_datetime = today.strftime(\"%A %B %d, %Y, %I:%M %p (%Z)\")\n"
   ]
  },
  {
   "cell_type": "markdown",
   "metadata": {},
   "source": [
    "#### <font color=\"darkgreen\">Geodatabase Feature Classes Paths</font>"
   ]
  },
  {
   "cell_type": "markdown",
   "metadata": {},
   "source": [
    "ArcGIS Pro geodatabase data paths and feature classes"
   ]
  },
  {
   "cell_type": "code",
   "execution_count": 75,
   "metadata": {},
   "outputs": [],
   "source": [
    "# Paths to raw data feature classes\n",
    "crashes_path = os.path.join(gdb_raw_data_path, \"crashes\")\n",
    "parties_path = os.path.join(gdb_raw_data_path, \"parties\")\n",
    "victims_path = os.path.join(gdb_raw_data_path, \"victims\")\n",
    "collisions_path = os.path.join(gdb_raw_data_path, \"collisions\")\n",
    "\n",
    "# Paths to supporting data feature classes\n",
    "boundaries_path = os.path.join(gdb_supporting_data_path, \"boundaries\")\n",
    "cities_path = os.path.join(gdb_supporting_data_path, \"cities\")\n",
    "roads_path = os.path.join(gdb_supporting_data_path, \"roads\")\n",
    "usc2020blk_path = os.path.join(gdb_supporting_data_path, \"usc2020blk\")\n"
   ]
  },
  {
   "cell_type": "markdown",
   "metadata": {},
   "source": [
    "ArcGIS Pro geodatabase supporting data paths and feature classes"
   ]
  },
  {
   "cell_type": "code",
   "execution_count": 76,
   "metadata": {},
   "outputs": [
    {
     "name": "stdout",
     "output_type": "stream",
     "text": [
      "Key Project Information\n",
      "\n",
      "\t- Name AGPSWITRS.aprx\n",
      "\t- Path: C:\\Users\\ktalexan\\OneDrive - County of Orange\\Documents\\OCSWITRS\\AGPSWITRS\\AGPSWITRS.aprx\n",
      "\t- Project Path: C:\\Users\\ktalexan\\OneDrive - County of Orange\\Documents\\OCSWITRS\n",
      "\t- Workspace: C:\\Users\\ktalexan\\OneDrive - County of Orange\\Documents\\OCSWITRS\\AGPSWITRS\\AGPSWITRS.gdb\n",
      "\t- Geodatabase: AGPSWITRS.gdb\n",
      "\t- Geodatabase Path: C:\\Users\\ktalexan\\OneDrive - County of Orange\\Documents\\OCSWITRS\\AGPSWITRS\\AGPSWITRS.gdb\n",
      "\n",
      "Project Directories:\n",
      "\n",
      "\t- Raw Data: C:\\Users\\ktalexan\\OneDrive - County of Orange\\Documents\\OCSWITRS\\Data\\Raw\n",
      "\t- Layers: C:\\Users\\ktalexan\\OneDrive - County of Orange\\Documents\\OCSWITRS\\Layers\n",
      "\t- Notebooks: C:\\Users\\ktalexan\\OneDrive - County of Orange\\Documents\\OCSWITRS\\Notebooks\n",
      "\n",
      "Raw Feature Classes:\n",
      "\n",
      "\t- Crashes: C:\\Users\\ktalexan\\OneDrive - County of Orange\\Documents\\OCSWITRS\\AGPSWITRS\\AGPSWITRS.gdb\\RawData\\crashes\n",
      "\t- Parties: C:\\Users\\ktalexan\\OneDrive - County of Orange\\Documents\\OCSWITRS\\AGPSWITRS\\AGPSWITRS.gdb\\RawData\\parties\n",
      "\t- Victims: C:\\Users\\ktalexan\\OneDrive - County of Orange\\Documents\\OCSWITRS\\AGPSWITRS\\AGPSWITRS.gdb\\RawData\\victims\n",
      "\t- Collisions: C:\\Users\\ktalexan\\OneDrive - County of Orange\\Documents\\OCSWITRS\\AGPSWITRS\\AGPSWITRS.gdb\\RawData\\collisions\n",
      "\n",
      "Supporting Feature Classes:\n",
      "\n",
      "\t- Boundaries: C:\\Users\\ktalexan\\OneDrive - County of Orange\\Documents\\OCSWITRS\\AGPSWITRS\\AGPSWITRS.gdb\\SupportingData\\boundaries\n",
      "\t- Cities: C:\\Users\\ktalexan\\OneDrive - County of Orange\\Documents\\OCSWITRS\\AGPSWITRS\\AGPSWITRS.gdb\\SupportingData\\cities\n",
      "\t- Roads: C:\\Users\\ktalexan\\OneDrive - County of Orange\\Documents\\OCSWITRS\\AGPSWITRS\\AGPSWITRS.gdb\\SupportingData\\roads\n",
      "\t- USC 2020 Blocks: C:\\Users\\ktalexan\\OneDrive - County of Orange\\Documents\\OCSWITRS\\AGPSWITRS\\AGPSWITRS.gdb\\SupportingData\\usc2020blk\n",
      "\n",
      "Other Supporting Data\n",
      "\n",
      "\t- Codebook: C:\\Users\\ktalexan\\OneDrive - County of Orange\\Documents\\OCSWITRS\\Data\\codebook\\cb.json\n"
     ]
    }
   ],
   "source": [
    "# Display all information\n",
    "print(\"Key Project Information\")\n",
    "print(f\"\\n\\t- Name {project_aprx}\\n\\t- Path: {project_aprx_path}\\n\\t- Project Path: {project_path}\\n\\t- Workspace: {workspace}\\n\\t- Geodatabase: {gdb}\\n\\t- Geodatabase Path: {gdb_path}\")\n",
    "print(\"\\nProject Directories:\")\n",
    "print(\n",
    "    f\"\\n\\t- Raw Data: {raw_data_path}\\n\\t- Layers: {layers_path}\\n\\t- Notebooks: {notebooks_path}\")\n",
    "print(\"\\nRaw Feature Classes:\")\n",
    "print(f\"\\n\\t- Crashes: {crashes_path}\\n\\t- Parties: {parties_path}\\n\\t- Victims: {victims_path}\\n\\t- Collisions: {collisions_path}\")\n",
    "print(\"\\nSupporting Feature Classes:\")\n",
    "print(\n",
    "    f\"\\n\\t- Boundaries: {boundaries_path}\\n\\t- Cities: {cities_path}\\n\\t- Roads: {roads_path}\\n\\t- USC 2020 Blocks: {usc2020blk_path}\")\n",
    "print(\"\\nOther Supporting Data\")\n",
    "print(f\"\\n\\t- Codebook: {codebook_path}\")\n"
   ]
  },
  {
   "cell_type": "markdown",
   "metadata": {},
   "source": [
    "#### <font color=\"darkgreen\">Current Map Operations</font>"
   ]
  },
  {
   "cell_type": "markdown",
   "metadata": {},
   "source": [
    "Remove all layers from the Hot Spots Map"
   ]
  },
  {
   "cell_type": "code",
   "execution_count": 79,
   "metadata": {},
   "outputs": [],
   "source": [
    "for lyr in map_hotspots.listLayers():\n",
    "    if \"World Topographic Map\" not in lyr.name:\n",
    "        map_hotspots.removeLayer(lyr)"
   ]
  },
  {
   "cell_type": "markdown",
   "metadata": {},
   "source": [
    "Close all active views and open the active map"
   ]
  },
  {
   "cell_type": "code",
   "execution_count": 80,
   "metadata": {},
   "outputs": [],
   "source": [
    "# Close all map views\n",
    "aprx.closeViews()\n",
    "\n",
    "# Open the main map window\n",
    "map_hotspots.openView()\n",
    "\n",
    "# set the main map as active map\n",
    "map = aprx.activeMap\n"
   ]
  },
  {
   "cell_type": "markdown",
   "metadata": {},
   "source": [
    "Set the working directory to the root of the project geodatabase."
   ]
  },
  {
   "cell_type": "code",
   "execution_count": 81,
   "metadata": {},
   "outputs": [],
   "source": [
    "# Current ArcGIS workspace (arcpy)\n",
    "arcpy.env.workspace = gdb_path\n",
    "workspace = arcpy.env.workspace\n",
    "\n",
    "# Enable overwriting existing outputs\n",
    "arcpy.env.overwriteOutput = True\n"
   ]
  },
  {
   "cell_type": "markdown",
   "metadata": {},
   "source": [
    "## <font color=\"orangered\">**2. Map and Geodatabase Operations**</font>"
   ]
  },
  {
   "cell_type": "markdown",
   "metadata": {},
   "source": [
    "List all the layers on the main map"
   ]
  },
  {
   "cell_type": "code",
   "execution_count": 82,
   "metadata": {},
   "outputs": [
    {
     "name": "stdout",
     "output_type": "stream",
     "text": [
      "OCSWITRS Collisions\n",
      "OCSWITRS Crashes\n",
      "OCSWITRS Parties\n",
      "OCSWITRS Victims\n",
      "OCSWITRS Roads\n",
      "OCSWITRS Census 2020 Blocks\n",
      "OCSWITRS Cities\n",
      "OCSWITRS Boundaries\n",
      "World Topographic Map\n"
     ]
    }
   ],
   "source": [
    "# List all layers in the map\n",
    "for lyr in map_main.listLayers():\n",
    "    print(lyr.name)\n",
    "    "
   ]
  },
  {
   "cell_type": "markdown",
   "metadata": {},
   "source": [
    "Turn off visibility of the layers in the map"
   ]
  },
  {
   "cell_type": "code",
   "execution_count": 83,
   "metadata": {},
   "outputs": [],
   "source": [
    "# Iterate through the data layers list\n",
    "for lyr in map_main.listLayers():\n",
    "    if \"OCSWITRS\" in lyr.name:\n",
    "        # Set the visibility of the layer to True\n",
    "        lyr.visible = False\n"
   ]
  },
  {
   "cell_type": "markdown",
   "metadata": {},
   "source": [
    "Save the ArcGIS Pro project"
   ]
  },
  {
   "cell_type": "code",
   "execution_count": 84,
   "metadata": {},
   "outputs": [],
   "source": [
    "# Save the ArcGIS Pro analysis project\n",
    "aprx.save()\n"
   ]
  },
  {
   "cell_type": "markdown",
   "metadata": {},
   "source": [
    "### <font color=\"blue\">**2.1. Adding Symbology from Layers**</font>"
   ]
  },
  {
   "cell_type": "code",
   "execution_count": 85,
   "metadata": {},
   "outputs": [],
   "source": [
    "# List all the layers in the map\n",
    "main_map_lyrs = map_main.listLayers()\n",
    "\n",
    "# Get the layers from the map\n",
    "collisions_lyr = next((mlyr for mlyr in main_map_lyrs if mlyr.name == \"OCSWITRS Collisions\"), False)\n",
    "crashes_lyr = next((mlyr for mlyr in main_map_lyrs if mlyr.name == \"OCSWITRS Crashes\"), False)\n",
    "parties_lyr = next((mlyr for mlyr in main_map_lyrs if mlyr.name == \"OCSWITRS Parties\"), False)\n",
    "victims_lyr = next((mlyr for mlyr in main_map_lyrs if mlyr.name == \"OCSWITRS Victims\"), False)\n",
    "roads_lyr = next((mlyr for mlyr in main_map_lyrs if mlyr.name == \"OCSWITRS Roads\"), False)\n",
    "usc2020blk_lyr = next((mlyr for mlyr in main_map_lyrs if mlyr.name == \"OCSWITRS Census 2020 Blocks\"), False)\n",
    "cities_lyr = next((mlyr for mlyr in main_map_lyrs if mlyr.name == \"OCSWITRS Cities\"), False)\n",
    "boundaries_lyr = next((mlyr for mlyr in main_map_lyrs if mlyr.name == \"OCSWITRS Boundaries\"), False)\n"
   ]
  },
  {
   "cell_type": "markdown",
   "metadata": {},
   "source": [
    "### <font color=\"blue\">**2.2. Create Major Roads**</font>"
   ]
  },
  {
   "cell_type": "markdown",
   "metadata": {},
   "source": [
    "Separate the primary and secondary roads from the local roads"
   ]
  },
  {
   "cell_type": "code",
   "execution_count": 89,
   "metadata": {},
   "outputs": [
    {
     "data": {
      "text/html": [
       "<div class='gpresult'><h2 class='msg-title'>Messages</h2><div id='messages'>Start Time: Saturday, January 25, 2025 9:42:23 AM<br>Succeeded at Saturday, January 25, 2025 9:42:24 AM (Elapsed Time: 1.30 seconds)<br></div><div id = 'default' /></div></div>"
      ],
      "text/plain": [
       "<Result 'C:\\\\Users\\\\ktalexan\\\\OneDrive - County of Orange\\\\Documents\\\\OCSWITRS\\\\AGPSWITRS\\\\AGPSWITRS.gdb\\\\AnalysisData\\\\roads_major'>"
      ]
     },
     "execution_count": 89,
     "metadata": {},
     "output_type": "execute_result"
    }
   ],
   "source": [
    "# Output feature for the Major roads\n",
    "roads_major_path = os.path.join(gdb_analysis_data_path, \"roads_major\")\n",
    "\n",
    "# Select the major (primary and secondary) roads from the roads feature class\n",
    "arcpy.analysis.Select(\n",
    "    in_features = roads_path,\n",
    "    out_feature_class = roads_major_path,\n",
    "    where_clause = \"road_cat = 'Primary' Or road_cat = 'Secondary'\"\n",
    ")"
   ]
  },
  {
   "cell_type": "markdown",
   "metadata": {},
   "source": [
    "Map layer operations"
   ]
  },
  {
   "cell_type": "code",
   "execution_count": 90,
   "metadata": {},
   "outputs": [
    {
     "data": {
      "text/html": [
       "<div class='gpresult'><h2 class='msg-title'>Messages</h2><div id='messages'>Start Time: Saturday, January 25, 2025 9:42:28 AM<br>Succeeded at Saturday, January 25, 2025 9:42:30 AM (Elapsed Time: 1.22 seconds)<br></div><div id = 'default' /></div></div>"
      ],
      "text/plain": [
       "<Result 'Major Roads'>"
      ]
     },
     "execution_count": 90,
     "metadata": {},
     "output_type": "execute_result"
    }
   ],
   "source": [
    "# Remove the output layer\n",
    "map.removeLayer(map.listLayers(\"roads_major\")[0])\n",
    "\n",
    "# Change the feature class alias for the Major Roads\n",
    "arcpy.AlterAliasName(roads_major_path, \"Major Roads\")\n",
    "\n",
    "# Add the major roads layer to the Hot Spots map\n",
    "roads_major_lyr = map_hotspots.addDataFromPath(roads_major_path)\n",
    "roads_major_lyr.visible = False\n",
    "\n",
    "# Apply the symbology for the major roads layer\n",
    "arcpy.management.ApplySymbologyFromLayer(\n",
    "    in_layer = roads_major_lyr,\n",
    "    in_symbology_layer = os.path.join(layers_path, \"Major Roads.lyrx\"),\n",
    "    symbology_fields = \"VALUE_FIELD road_cat road_cat\",\n",
    "    update_symbology = \"MAINTAIN\"\n",
    ")"
   ]
  },
  {
   "cell_type": "markdown",
   "metadata": {},
   "source": [
    "### <font color=\"blue\">**2.3. Create Road Buffers**</font>"
   ]
  },
  {
   "cell_type": "markdown",
   "metadata": {},
   "source": [
    "Create road buffers for the primary and secondary roads"
   ]
  },
  {
   "cell_type": "code",
   "execution_count": 92,
   "metadata": {},
   "outputs": [
    {
     "data": {
      "text/html": [
       "<div class='gpresult'><h2 class='msg-title'>Messages</h2><div id='messages'>Start Time: Saturday, January 25, 2025 9:43:17 AM<br>Succeeded at Saturday, January 25, 2025 9:43:19 AM (Elapsed Time: 2.74 seconds)<br></div><div id = 'default' /></div></div>"
      ],
      "text/plain": [
       "<Result 'C:\\\\Users\\\\ktalexan\\\\OneDrive - County of Orange\\\\Documents\\\\OCSWITRS\\\\AGPSWITRS\\\\AGPSWITRS.gdb\\\\AnalysisData\\\\roads_major_buffers'>"
      ]
     },
     "execution_count": 92,
     "metadata": {},
     "output_type": "execute_result"
    }
   ],
   "source": [
    "# Output feature for the major road buffers\n",
    "roads_major_buffers_path = os.path.join(gdb_analysis_data_path, \"roads_major_buffers\")\n",
    "\n",
    "# Buffer the major roads by 250 meters\n",
    "arcpy.analysis.Buffer(\n",
    "    in_features = roads_major_path,\n",
    "    out_feature_class = roads_major_buffers_path,\n",
    "    buffer_distance_or_field = \"250 Meters\",\n",
    "    line_side = \"FULL\",\n",
    "    line_end_type = \"FLAT\",\n",
    "    dissolve_option = \"ALL\",\n",
    "    dissolve_field = None,\n",
    "    method = \"PLANAR\"\n",
    ")"
   ]
  },
  {
   "cell_type": "markdown",
   "metadata": {},
   "source": [
    "Map layer operations"
   ]
  },
  {
   "cell_type": "code",
   "execution_count": 93,
   "metadata": {},
   "outputs": [],
   "source": [
    "# Remove the newly created layer from map\n",
    "map.removeLayer(map.listLayers(\"roads_major_buffers\")[0])\n",
    "\n",
    "# Change the feature class alias for the Major Road Buffers\n",
    "arcpy.AlterAliasName(roads_major_buffers_path, \"Major Road Buffers\")\n",
    "\n",
    "# Add the major road buffers layer to the Hot spots map\n",
    "roads_major_buffers_lyr = map_hotspots.addDataFromPath(roads_major_buffers_path)\n",
    "roads_major_buffers_lyr.visible = False\n"
   ]
  },
  {
   "cell_type": "markdown",
   "metadata": {},
   "source": [
    "### <font color=\"blue\">**2.4. Summarize Census Blocks**</font>"
   ]
  },
  {
   "cell_type": "markdown",
   "metadata": {},
   "source": [
    "Create a summary for each of the Census blocks that contains statistics and counts of crash collision data"
   ]
  },
  {
   "cell_type": "code",
   "execution_count": 94,
   "metadata": {},
   "outputs": [
    {
     "data": {
      "text/html": [
       "<div class='gpresult'><h2 class='msg-title'>Messages</h2><div id='messages'>Start Time: Saturday, January 25, 2025 9:43:47 AM<br>Succeeded at Saturday, January 25, 2025 9:44:33 AM (Elapsed Time: 46.34 seconds)<br></div><div id = 'default' /></div></div>"
      ],
      "text/plain": [
       "<Result 'C:\\\\Users\\\\ktalexan\\\\OneDrive - County of Orange\\\\Documents\\\\OCSWITRS\\\\AGPSWITRS\\\\AGPSWITRS.gdb\\\\AnalysisData\\\\usc2020blk_sum'>"
      ]
     },
     "execution_count": 94,
     "metadata": {},
     "output_type": "execute_result"
    }
   ],
   "source": [
    "# Create a path for the new summarized US 2020 Census Blocks feature class\n",
    "usc2020blk_sum_path = os.path.join(gdb_analysis_data_path, \"usc2020blk_sum\")\n",
    "\n",
    "arcpy.analysis.SummarizeWithin(\n",
    "    in_polygons = usc2020blk_path,\n",
    "    in_sum_features = crashes_path,\n",
    "    out_feature_class = usc2020blk_sum_path,\n",
    "    keep_all_polygons = \"KEEP_ALL\",\n",
    "    sum_fields = [\n",
    "        [\"crash_tag\", \"Sum\"], [\"party_count\", \"Sum\"], [\"victim_count\", \"Sum\"], [\"number_killed\", \"Sum\"], \n",
    "        [\"number_inj\", \"Sum\"], [\"count_severe_inj\", \"Sum\"], [\"count_visible_inj\", \"Sum\"],\n",
    "        [\"count_complaint_pain\", \"Sum\"], [\"count_car_killed\", \"Sum\"], [\"count_car_inj\", \"Sum\"],\n",
    "        [\"count_ped_killed\", \"Sum\"], [\"count_ped_inj\", \"Sum\"], [\"count_bic_killed\", \"Sum\"],\n",
    "        [\"count_bic_inj\", \"Sum\"], [\"count_mc_killed\", \"Sum\"], [\"count_mc_inj\", \"Sum\"],\n",
    "        [\"coll_severity_num\", \"Mean\"], [\"coll_severity_rank_num\", \"Mean\"]\n",
    "    ]\n",
    ")"
   ]
  },
  {
   "cell_type": "markdown",
   "metadata": {},
   "source": [
    "Map layer operations"
   ]
  },
  {
   "cell_type": "code",
   "execution_count": 95,
   "metadata": {},
   "outputs": [
    {
     "data": {
      "text/html": [
       "<div class='gpresult'><h2 class='msg-title'>Messages</h2><div id='messages'>Start Time: Saturday, January 25, 2025 9:44:41 AM<br>Succeeded at Saturday, January 25, 2025 9:44:42 AM (Elapsed Time: 1.58 seconds)<br></div><div id = 'default' /></div></div>"
      ],
      "text/plain": [
       "<Result 'OCSWITRS Census 2020 Blocks Summary'>"
      ]
     },
     "execution_count": 95,
     "metadata": {},
     "output_type": "execute_result"
    }
   ],
   "source": [
    "# Remove the newly created layer from map\n",
    "map.removeLayer(map.listLayers(\"usc2020blk_sum\")[0])\n",
    "\n",
    "# Change the feature class alias for the Summarized US Census 2020 Blocks\n",
    "arcpy.AlterAliasName(usc2020blk_sum_path, \"OCSWITRS Census 2020 Blocks Summary\")\n",
    "\n",
    "# Add the Census 2020 Blocks summary layer to the hot spots map\n",
    "usc2020blk_sum_lyr = map_hotspots.addDataFromPath(usc2020blk_sum_path)\n",
    "usc2020blk_sum_lyr.visible = False\n",
    "\n",
    "# Apply the symbology for the Census 2020 Blocks summary layer\n",
    "arcpy.management.ApplySymbologyFromLayer(\n",
    "    in_layer = usc2020blk_sum_lyr,\n",
    "    in_symbology_layer = os.path.join(layers_path, \"OCSWITRS Census 2020 Blocks.lyrx\"),\n",
    "    symbology_fields = \"VALUE_FIELD population_total population_total;EXCLUSION_CLAUSE_FIELD population_total population_total\",\n",
    "    update_symbology = \"MAINTAIN\"\n",
    ")"
   ]
  },
  {
   "cell_type": "markdown",
   "metadata": {},
   "source": [
    "### <font color=\"blue\">**2.5. Summarize Cities**</font>"
   ]
  },
  {
   "cell_type": "markdown",
   "metadata": {},
   "source": [
    "Create a summary for each of the cities that contains statistics and counts of crash collision data"
   ]
  },
  {
   "cell_type": "code",
   "execution_count": 96,
   "metadata": {},
   "outputs": [
    {
     "data": {
      "text/html": [
       "<div class='gpresult'><h2 class='msg-title'>Messages</h2><div id='messages'>Start Time: Saturday, January 25, 2025 9:45:02 AM<br>Succeeded at Saturday, January 25, 2025 9:45:32 AM (Elapsed Time: 29.79 seconds)<br></div><div id = 'default' /></div></div>"
      ],
      "text/plain": [
       "<Result 'C:\\\\Users\\\\ktalexan\\\\OneDrive - County of Orange\\\\Documents\\\\OCSWITRS\\\\AGPSWITRS\\\\AGPSWITRS.gdb\\\\AnalysisData\\\\cities_sum'>"
      ]
     },
     "execution_count": 96,
     "metadata": {},
     "output_type": "execute_result"
    }
   ],
   "source": [
    "# Create a path for the new summarized US 2020 Census Blocks feature class\n",
    "cities_sum_path = os.path.join(gdb_analysis_data_path, \"cities_sum\")\n",
    "\n",
    "# Summarize the data within the cities from the crashes data\n",
    "arcpy.analysis.SummarizeWithin(\n",
    "    in_polygons = cities_path,\n",
    "    in_sum_features = crashes_path,\n",
    "    out_feature_class = cities_sum_path,\n",
    "    keep_all_polygons = \"KEEP_ALL\",\n",
    "    sum_fields=[\n",
    "        [\"crash_tag\", \"Sum\"], [\"party_count\", \"Sum\"], [\"victim_count\", \"Sum\"], [\"number_killed\", \"Sum\"], \n",
    "        [\"number_inj\", \"Sum\"], [\"count_severe_inj\", \"Sum\"], [\"count_visible_inj\", \"Sum\"],\n",
    "        [\"count_complaint_pain\", \"Sum\"], [\"count_car_killed\", \"Sum\"], [\"count_car_inj\", \"Sum\"],\n",
    "        [\"count_ped_killed\", \"Sum\"], [\"count_ped_inj\", \"Sum\"], [\"count_bic_killed\", \"Sum\"],\n",
    "        [\"count_bic_inj\", \"Sum\"], [\"count_mc_killed\", \"Sum\"], [\"count_mc_inj\", \"Sum\"],\n",
    "        [\"coll_severity_num\", \"Mean\"], [\"coll_severity_rank_num\", \"Mean\"]\n",
    "    ]\n",
    ")"
   ]
  },
  {
   "cell_type": "markdown",
   "metadata": {},
   "source": [
    "Map layer operations"
   ]
  },
  {
   "cell_type": "code",
   "execution_count": 97,
   "metadata": {},
   "outputs": [
    {
     "data": {
      "text/html": [
       "<div class='gpresult'><h2 class='msg-title'>Messages</h2><div id='messages'>Start Time: Saturday, January 25, 2025 9:46:10 AM<br>Succeeded at Saturday, January 25, 2025 9:46:12 AM (Elapsed Time: 1.92 seconds)<br></div><div id = 'default' /></div></div>"
      ],
      "text/plain": [
       "<Result 'OCSWITRS Cities Summary'>"
      ]
     },
     "execution_count": 97,
     "metadata": {},
     "output_type": "execute_result"
    }
   ],
   "source": [
    "# Remove the newly created layer from map\n",
    "map.removeLayer(map.listLayers(\"cities_sum\")[0])\n",
    "\n",
    "# Change the feature class alias for the Summarized Cities\n",
    "arcpy.AlterAliasName(cities_sum_path, \"OCSWITRS Cities Summary\")\n",
    "\n",
    "# Add the Census 2020 Blocks summary layer to the hot spots map\n",
    "cities_sum_lyr = map_hotspots.addDataFromPath(cities_sum_path)\n",
    "cities_sum_lyr.visible = False\n",
    "\n",
    "# Apply the symbology for the Cities summary layer\n",
    "arcpy.management.ApplySymbologyFromLayer(\n",
    "    in_layer = cities_sum_lyr,\n",
    "    in_symbology_layer = os.path.join(layers_path, \"OCSWITRS Cities.lyrx\"),\n",
    "    symbology_fields = \"VALUE_FIELD city_pop_dens city_pop_dens;COLOR_EXPRESSION_FIELD city_pop_dens city_pop_dens\",\n",
    "    update_symbology = \"MAINTAIN\"\n",
    ")"
   ]
  },
  {
   "cell_type": "markdown",
   "metadata": {},
   "source": [
    "### <font color=\"blue\">**2.6. Summarize Major Road Buffers**</font>"
   ]
  },
  {
   "cell_type": "markdown",
   "metadata": {},
   "source": [
    "Create a summary for each of the road buffers that contains statistics and counts of crash collision data"
   ]
  },
  {
   "cell_type": "code",
   "execution_count": 105,
   "metadata": {},
   "outputs": [
    {
     "data": {
      "text/html": [
       "<div class='gpresult'><h2 class='msg-title'>Messages</h2><div id='messages'>Start Time: Saturday, January 25, 2025 10:24:45 AM<br>Succeeded at Saturday, January 25, 2025 10:25:05 AM (Elapsed Time: 19.84 seconds)<br></div><div id = 'default' /></div></div>"
      ],
      "text/plain": [
       "<Result 'C:\\\\Users\\\\ktalexan\\\\OneDrive - County of Orange\\\\Documents\\\\OCSWITRS\\\\AGPSWITRS\\\\AGPSWITRS.gdb\\\\AnalysisData\\\\roads_major_buffers_sum'>"
      ]
     },
     "execution_count": 105,
     "metadata": {},
     "output_type": "execute_result"
    }
   ],
   "source": [
    "# Create a path for the new summarized major road buffers feature class\n",
    "roads_major_buffers_sum_path = os.path.join(gdb_analysis_data_path, \"roads_major_buffers_sum\")\n",
    "\n",
    "arcpy.analysis.SummarizeWithin(\n",
    "    in_polygons = roads_major_buffers_path,\n",
    "    in_sum_features = crashes_path,\n",
    "    out_feature_class = roads_major_buffers_sum_path,\n",
    "    keep_all_polygons = \"KEEP_ALL\",\n",
    "    sum_fields=[\n",
    "        [\"crash_tag\", \"Sum\"], [\"party_count\", \"Sum\"], [\"victim_count\", \"Sum\"], [\"number_killed\", \"Sum\"], \n",
    "        [\"number_inj\", \"Sum\"], [\"count_severe_inj\", \"Sum\"], [\"count_visible_inj\", \"Sum\"],\n",
    "        [\"count_complaint_pain\", \"Sum\"], [\"count_car_killed\", \"Sum\"], [\"count_car_inj\", \"Sum\"],\n",
    "        [\"count_ped_killed\", \"Sum\"], [\"count_ped_inj\", \"Sum\"], [\"count_bic_killed\", \"Sum\"],\n",
    "        [\"count_bic_inj\", \"Sum\"], [\"count_mc_killed\", \"Sum\"], [\"count_mc_inj\", \"Sum\"],\n",
    "        [\"coll_severity_num\", \"Mean\"], [\"coll_severity_rank_num\", \"Mean\"]\n",
    "    ]\n",
    ")"
   ]
  },
  {
   "cell_type": "markdown",
   "metadata": {},
   "source": [
    "Map layer operations"
   ]
  },
  {
   "cell_type": "code",
   "execution_count": 106,
   "metadata": {},
   "outputs": [
    {
     "data": {
      "text/plain": [
       "True"
      ]
     },
     "execution_count": 106,
     "metadata": {},
     "output_type": "execute_result"
    }
   ],
   "source": [
    "# Remove the newly created layer from map\n",
    "map.removeLayer(map.listLayers(\"roads_major_buffers_sum\")[0])\n",
    "\n",
    "# Change the feature class alias for the Summarized Major Road Buffers\n",
    "arcpy.AlterAliasName(roads_major_buffers_sum_path, \"Major Road Buffers Summary\")\n",
    "\n",
    "# Add the Major road buffers summary layer to the hot spots map\n",
    "roads_major_buffers_sum_lyr = map_hotspots.addDataFromPath(roads_major_buffers_sum_path)\n",
    "roads_major_buffers_sum_lyr.visible = False\n",
    "\n",
    "# move the layer\n",
    "map.moveLayer(roads_major_buffers_lyr, roads_major_buffers_sum_lyr, insert_position = \"BEFORE\")"
   ]
  },
  {
   "cell_type": "markdown",
   "metadata": {},
   "source": [
    "### <font color=\"blue\">**2.7. Process Road Lines and Segments**</font>"
   ]
  },
  {
   "cell_type": "markdown",
   "metadata": {},
   "source": [
    "#### <font color=\"darkgreen\">Points 1,000 ft along major road lines</font>"
   ]
  },
  {
   "cell_type": "markdown",
   "metadata": {},
   "source": [
    "Generate points every 1,000 feet along the major road lines"
   ]
  },
  {
   "cell_type": "code",
   "execution_count": 112,
   "metadata": {},
   "outputs": [
    {
     "data": {
      "text/html": [
       "<div class='gpresult'><h2 class='msg-title'>Messages</h2><div id='messages'>Start Time: Saturday, January 25, 2025 10:29:27 AM<br>Succeeded at Saturday, January 25, 2025 10:29:33 AM (Elapsed Time: 5.87 seconds)<br></div><div id = 'default' /></div></div>"
      ],
      "text/plain": [
       "<Result 'C:\\\\Users\\\\ktalexan\\\\OneDrive - County of Orange\\\\Documents\\\\OCSWITRS\\\\AGPSWITRS\\\\AGPSWITRS.gdb\\\\AnalysisData\\\\roads_major_points_along_lines'>"
      ]
     },
     "execution_count": 112,
     "metadata": {},
     "output_type": "execute_result"
    }
   ],
   "source": [
    "# Create a path for the new summarized major road buffers feature class\n",
    "roads_major_points_along_lines_path = os.path.join(gdb_analysis_data_path, \"roads_major_points_along_lines\")\n",
    "\n",
    "arcpy.management.GeneratePointsAlongLines(\n",
    "    Input_Features = roads_major_path,\n",
    "    Output_Feature_Class = roads_major_points_along_lines_path,\n",
    "    Point_Placement = \"DISTANCE\",\n",
    "    Distance = \"1000 Feet\",\n",
    "    Percentage = None,\n",
    "    Include_End_Points = \"NO_END_POINTS\",\n",
    "    Add_Chainage_Fields = \"NO_CHAINAGE\",\n",
    "    Distance_Field=None,\n",
    "    Distance_Method = \"PLANAR\"\n",
    ")"
   ]
  },
  {
   "cell_type": "markdown",
   "metadata": {},
   "source": [
    "Map Layer Operations"
   ]
  },
  {
   "cell_type": "code",
   "execution_count": 113,
   "metadata": {},
   "outputs": [
    {
     "data": {
      "text/plain": [
       "True"
      ]
     },
     "execution_count": 113,
     "metadata": {},
     "output_type": "execute_result"
    }
   ],
   "source": [
    "# Remove the newly created layer from map\n",
    "map.removeLayer(map.listLayers(\"roads_major_points_along_lines\")[0])\n",
    "\n",
    "# change the feature class alias for the Major Road Points Along Lines\n",
    "arcpy.AlterAliasName(roads_major_points_along_lines_path, \"Major Road Points Along Lines\")\n",
    "\n",
    "# Add the major road points along lines layer to the hot spots map\n",
    "roads_major_points_along_lines_lyr = map_hotspots.addDataFromPath(roads_major_points_along_lines_path)\n",
    "roads_major_points_along_lines_lyr.visible = False\n",
    "\n",
    "# move the layer\n",
    "map.moveLayer(roads_major_buffers_sum_lyr, roads_major_points_along_lines_lyr, insert_position = \"BEFORE\")"
   ]
  },
  {
   "cell_type": "markdown",
   "metadata": {},
   "source": [
    "#### <font color=\"darkgreen\">Split Road Segments 1,000ft apart</font>"
   ]
  },
  {
   "cell_type": "markdown",
   "metadata": {},
   "source": [
    "Split road segments at the points (1,000 feet apart)"
   ]
  },
  {
   "cell_type": "code",
   "execution_count": 114,
   "metadata": {},
   "outputs": [
    {
     "data": {
      "text/html": [
       "<div class='gpresult'><h2 class='msg-title'>Messages</h2><div id='messages'>Start Time: Saturday, January 25, 2025 10:31:16 AM<br>Succeeded at Saturday, January 25, 2025 10:31:25 AM (Elapsed Time: 9.00 seconds)<br></div><div id = 'default' /></div></div>"
      ],
      "text/plain": [
       "<Result 'C:\\\\Users\\\\ktalexan\\\\OneDrive - County of Orange\\\\Documents\\\\OCSWITRS\\\\AGPSWITRS\\\\AGPSWITRS.gdb\\\\AnalysisData\\\\roads_major_split'>"
      ]
     },
     "execution_count": 114,
     "metadata": {},
     "output_type": "execute_result"
    }
   ],
   "source": [
    "# Create a path for the new split major roads feature class\n",
    "roads_major_split_path = os.path.join(gdb_analysis_data_path, \"roads_major_split\")\n",
    "\n",
    "# Split the major roads at the points along the lines\n",
    "arcpy.management.SplitLineAtPoint(\n",
    "    in_features = roads_major_path,\n",
    "    point_features = roads_major_points_along_lines_path,\n",
    "    out_feature_class = roads_major_split_path,\n",
    "    search_radius = \"1000 Feet\"\n",
    ")"
   ]
  },
  {
   "cell_type": "markdown",
   "metadata": {},
   "source": [
    "Map layer operations"
   ]
  },
  {
   "cell_type": "code",
   "execution_count": 115,
   "metadata": {},
   "outputs": [
    {
     "data": {
      "text/html": [
       "<div class='gpresult'><h2 class='msg-title'>Messages</h2><div id='messages'>Start Time: Saturday, January 25, 2025 10:31:43 AM<br>Succeeded at Saturday, January 25, 2025 10:31:45 AM (Elapsed Time: 2.13 seconds)<br></div><div id = 'default' /></div></div>"
      ],
      "text/plain": [
       "<Result 'Major Roads Split'>"
      ]
     },
     "execution_count": 115,
     "metadata": {},
     "output_type": "execute_result"
    }
   ],
   "source": [
    "# Remove the newly created layer from map\n",
    "map.removeLayer(map.listLayers(\"roads_major_split\")[0])\n",
    "\n",
    "# Change the feature class alias for the Split Major Roads\n",
    "arcpy.AlterAliasName(roads_major_split_path, \"Major Roads Split\")\n",
    "\n",
    "# Add the major road split layer to the hot spots map\n",
    "roads_major_split_lyr = map_hotspots.addDataFromPath(roads_major_split_path)\n",
    "roads_major_split_lyr.visible = False\n",
    "\n",
    "# Apply the symbology for the major roads layer\n",
    "arcpy.management.ApplySymbologyFromLayer(\n",
    "    in_layer = roads_major_split_lyr,\n",
    "    in_symbology_layer = os.path.join(layers_path, \"Major Roads.lyrx\"),\n",
    "    symbology_fields = \"VALUE_FIELD road_cat road_cat\",\n",
    "    update_symbology = \"MAINTAIN\"\n",
    ")"
   ]
  },
  {
   "cell_type": "markdown",
   "metadata": {},
   "source": [
    "#### <font color=\"darkgreen\">Buffers 500ft around road segments</font>"
   ]
  },
  {
   "cell_type": "markdown",
   "metadata": {},
   "source": [
    "Create buffers (500 ft) around the road segments (1,000 feet)"
   ]
  },
  {
   "cell_type": "code",
   "execution_count": 116,
   "metadata": {
    "scrolled": true
   },
   "outputs": [
    {
     "data": {
      "text/html": [
       "<div class='gpresult'><h2 class='msg-title'>Messages</h2><div id='messages'>Start Time: Saturday, January 25, 2025 10:33:14 AM<br>WARNING 000636: Skipping feature 64 because a negative or very small distance resulted in no geometry.<br>WARNING 000636: Skipping feature 344 because a negative or very small distance resulted in no geometry.<br>WARNING 000636: Skipping feature 345 because a negative or very small distance resulted in no geometry.<br>WARNING 000636: Skipping feature 625 because a negative or very small distance resulted in no geometry.<br>WARNING 000636: Skipping feature 1294 because a negative or very small distance resulted in no geometry.<br>WARNING 000636: Skipping feature 1295 because a negative or very small distance resulted in no geometry.<br>WARNING 000636: Skipping feature 1296 because a negative or very small distance resulted in no geometry.<br>WARNING 000636: Skipping feature 1297 because a negative or very small distance resulted in no geometry.<br>WARNING 000636: Skipping feature 1308 because a negative or very small distance resulted in no geometry.<br>WARNING 000636: Skipping feature 1952 because a negative or very small distance resulted in no geometry.<br>WARNING 000636: Skipping feature 1953 because a negative or very small distance resulted in no geometry.<br>WARNING 000636: Skipping feature 2122 because a negative or very small distance resulted in no geometry.<br>WARNING 000636: Skipping feature 2123 because a negative or very small distance resulted in no geometry.<br>WARNING 000636: Skipping feature 2124 because a negative or very small distance resulted in no geometry.<br>WARNING 000636: Skipping feature 2138 because a negative or very small distance resulted in no geometry.<br>WARNING 000636: Skipping feature 2139 because a negative or very small distance resulted in no geometry.<br>WARNING 000636: Skipping feature 2140 because a negative or very small distance resulted in no geometry.<br>WARNING 000636: Skipping feature 2141 because a negative or very small distance resulted in no geometry.<br>WARNING 000636: Skipping feature 3157 because a negative or very small distance resulted in no geometry.<br>WARNING 000636: Skipping feature 3159 because a negative or very small distance resulted in no geometry.<br>WARNING 000636: Skipping feature 3175 because a negative or very small distance resulted in no geometry.<br>WARNING 000636: Skipping feature 3176 because a negative or very small distance resulted in no geometry.<br>WARNING 000636: Skipping feature 3180 because a negative or very small distance resulted in no geometry.<br>WARNING 000636: Skipping feature 3188 because a negative or very small distance resulted in no geometry.<br>WARNING 000636: Skipping feature 3206 because a negative or very small distance resulted in no geometry.<br>WARNING 000636: Skipping feature 3212 because a negative or very small distance resulted in no geometry.<br>WARNING 000636: Skipping feature 3213 because a negative or very small distance resulted in no geometry.<br>WARNING 000636: Skipping feature 3227 because a negative or very small distance resulted in no geometry.<br>WARNING 000636: Skipping feature 3231 because a negative or very small distance resulted in no geometry.<br>WARNING 000636: Skipping feature 3254 because a negative or very small distance resulted in no geometry.<br>WARNING 000636: Skipping feature 3255 because a negative or very small distance resulted in no geometry.<br>WARNING 000636: Skipping feature 3256 because a negative or very small distance resulted in no geometry.<br>WARNING 000636: Skipping feature 3257 because a negative or very small distance resulted in no geometry.<br>WARNING 000636: Skipping feature 3258 because a negative or very small distance resulted in no geometry.<br>WARNING 000636: Skipping feature 3272 because a negative or very small distance resulted in no geometry.<br>WARNING 000636: Skipping feature 3273 because a negative or very small distance resulted in no geometry.<br>WARNING 000636: Skipping feature 3274 because a negative or very small distance resulted in no geometry.<br>WARNING 000636: Skipping feature 3776 because a negative or very small distance resulted in no geometry.<br>WARNING 000636: Skipping feature 3791 because a negative or very small distance resulted in no geometry.<br>WARNING 000636: Skipping feature 3815 because a negative or very small distance resulted in no geometry.<br>WARNING 000636: Skipping feature 3839 because a negative or very small distance resulted in no geometry.<br>WARNING 000636: Skipping feature 3953 because a negative or very small distance resulted in no geometry.<br>WARNING 000636: Skipping feature 3962 because a negative or very small distance resulted in no geometry.<br>WARNING 000636: Skipping feature 3968 because a negative or very small distance resulted in no geometry.<br>WARNING 000636: Skipping feature 3983 because a negative or very small distance resulted in no geometry.<br>WARNING 000636: Skipping feature 3991 because a negative or very small distance resulted in no geometry.<br>WARNING 000636: Skipping feature 4009 because a negative or very small distance resulted in no geometry.<br>WARNING 000636: Skipping feature 4016 because a negative or very small distance resulted in no geometry.<br>WARNING 000636: Skipping feature 4037 because a negative or very small distance resulted in no geometry.<br>WARNING 000636: Skipping feature 4041 because a negative or very small distance resulted in no geometry.<br>WARNING 000636: Skipping feature 4045 because a negative or very small distance resulted in no geometry.<br>WARNING 000636: Skipping feature 4059 because a negative or very small distance resulted in no geometry.<br>WARNING 000636: Skipping feature 4060 because a negative or very small distance resulted in no geometry.<br>WARNING 000636: Skipping feature 4210 because a negative or very small distance resulted in no geometry.<br>WARNING 000636: Skipping feature 4211 because a negative or very small distance resulted in no geometry.<br>WARNING 000636: Skipping feature 4212 because a negative or very small distance resulted in no geometry.<br>WARNING 000636: Skipping feature 4224 because a negative or very small distance resulted in no geometry.<br>WARNING 000636: Skipping feature 4226 because a negative or very small distance resulted in no geometry.<br>WARNING 000636: Skipping feature 4227 because a negative or very small distance resulted in no geometry.<br>WARNING 000636: Skipping feature 4229 because a negative or very small distance resulted in no geometry.<br>WARNING 000636: Skipping feature 4302 because a negative or very small distance resulted in no geometry.<br>WARNING 000636: Skipping feature 4303 because a negative or very small distance resulted in no geometry.<br>WARNING 000636: Skipping feature 4346 because a negative or very small distance resulted in no geometry.<br>WARNING 000636: Skipping feature 4353 because a negative or very small distance resulted in no geometry.<br>WARNING 000636: Skipping feature 4354 because a negative or very small distance resulted in no geometry.<br>WARNING 000636: Skipping feature 4356 because a negative or very small distance resulted in no geometry.<br>WARNING 000636: Skipping feature 4407 because a negative or very small distance resulted in no geometry.<br>WARNING 000636: Skipping feature 4414 because a negative or very small distance resulted in no geometry.<br>WARNING 000636: Skipping feature 4415 because a negative or very small distance resulted in no geometry.<br>WARNING 000636: Skipping feature 4417 because a negative or very small distance resulted in no geometry.<br>WARNING 000636: Skipping feature 4591 because a negative or very small distance resulted in no geometry.<br>WARNING 000636: Skipping feature 4606 because a negative or very small distance resulted in no geometry.<br>WARNING 000636: Skipping feature 4609 because a negative or very small distance resulted in no geometry.<br>WARNING 000636: Skipping feature 4610 because a negative or very small distance resulted in no geometry.<br>WARNING 000636: Skipping feature 4621 because a negative or very small distance resulted in no geometry.<br>WARNING 000636: Skipping feature 4739 because a negative or very small distance resulted in no geometry.<br>WARNING 000636: Skipping feature 4754 because a negative or very small distance resulted in no geometry.<br>WARNING 000636: Skipping feature 4757 because a negative or very small distance resulted in no geometry.<br>WARNING 000636: Skipping feature 4758 because a negative or very small distance resulted in no geometry.<br>WARNING 000636: Skipping feature 4769 because a negative or very small distance resulted in no geometry.<br>WARNING 000636: Skipping feature 4829 because a negative or very small distance resulted in no geometry.<br>WARNING 000636: Skipping feature 4845 because a negative or very small distance resulted in no geometry.<br>WARNING 000636: Skipping feature 4846 because a negative or very small distance resulted in no geometry.<br>WARNING 000636: Skipping feature 4847 because a negative or very small distance resulted in no geometry.<br>WARNING 000636: Skipping feature 4848 because a negative or very small distance resulted in no geometry.<br>WARNING 000636: Skipping feature 4849 because a negative or very small distance resulted in no geometry.<br>WARNING 000636: Skipping feature 4904 because a negative or very small distance resulted in no geometry.<br>WARNING 000636: Skipping feature 4905 because a negative or very small distance resulted in no geometry.<br>WARNING 000636: Skipping feature 4906 because a negative or very small distance resulted in no geometry.<br>WARNING 000636: Skipping feature 4907 because a negative or very small distance resulted in no geometry.<br>WARNING 000636: Skipping feature 4908 because a negative or very small distance resulted in no geometry.<br>WARNING 000636: Skipping feature 4999 because a negative or very small distance resulted in no geometry.<br>WARNING 000636: Skipping feature 5000 because a negative or very small distance resulted in no geometry.<br>WARNING 000636: Skipping feature 5001 because a negative or very small distance resulted in no geometry.<br>WARNING 000636: Skipping feature 5002 because a negative or very small distance resulted in no geometry.<br>WARNING 000636: Skipping feature 5003 because a negative or very small distance resulted in no geometry.<br>WARNING 000636: Skipping feature 5028 because a negative or very small distance resulted in no geometry.<br>WARNING 000636: Skipping feature 5048 because a negative or very small distance resulted in no geometry.<br>WARNING 000636: Skipping feature 5049 because a negative or very small distance resulted in no geometry.<br>WARNING 000636: Skipping feature 5050 because a negative or very small distance resulted in no geometry.<br>WARNING 000636: Skipping feature 5051 because a negative or very small distance resulted in no geometry.<br>WARNING 000636: Skipping feature 5052 because a negative or very small distance resulted in no geometry.<br>WARNING 000636: Skipping feature 5200 because a negative or very small distance resulted in no geometry.<br>WARNING 000636: Skipping feature 5292 because a negative or very small distance resulted in no geometry.<br>WARNING 000636: Skipping feature 5294 because a negative or very small distance resulted in no geometry.<br>WARNING 000636: Skipping feature 5306 because a negative or very small distance resulted in no geometry.<br>WARNING 000636: Skipping feature 5307 because a negative or very small distance resulted in no geometry.<br>WARNING 000636: Skipping feature 5324 because a negative or very small distance resulted in no geometry.<br>WARNING 000636: Skipping feature 5328 because a negative or very small distance resulted in no geometry.<br>WARNING 000636: Skipping feature 5336 because a negative or very small distance resulted in no geometry.<br>WARNING 000636: Skipping feature 5360 because a negative or very small distance resulted in no geometry.<br>WARNING 000636: Skipping feature 5361 because a negative or very small distance resulted in no geometry.<br>WARNING 000636: Skipping feature 5366 because a negative or very small distance resulted in no geometry.<br>WARNING 000636: Skipping feature 5383 because a negative or very small distance resulted in no geometry.<br>WARNING 000636: Skipping feature 5388 because a negative or very small distance resulted in no geometry.<br>WARNING 000636: Skipping feature 5389 because a negative or very small distance resulted in no geometry.<br>WARNING 000636: Skipping feature 5390 because a negative or very small distance resulted in no geometry.<br>WARNING 000636: Skipping feature 5391 because a negative or very small distance resulted in no geometry.<br>WARNING 000636: Skipping feature 5392 because a negative or very small distance resulted in no geometry.<br>WARNING 000636: Skipping feature 5414 because a negative or very small distance resulted in no geometry.<br>WARNING 000636: Skipping feature 5415 because a negative or very small distance resulted in no geometry.<br>WARNING 000636: Skipping feature 5416 because a negative or very small distance resulted in no geometry.<br>WARNING 000636: Skipping feature 6007 because a negative or very small distance resulted in no geometry.<br>WARNING 000636: Skipping feature 6031 because a negative or very small distance resulted in no geometry.<br>WARNING 000636: Skipping feature 6043 because a negative or very small distance resulted in no geometry.<br>WARNING 000636: Skipping feature 6076 because a negative or very small distance resulted in no geometry.<br>WARNING 000636: Skipping feature 6118 because a negative or very small distance resulted in no geometry.<br>WARNING 000636: Skipping feature 6123 because a negative or very small distance resulted in no geometry.<br>WARNING 000636: Skipping feature 6142 because a negative or very small distance resulted in no geometry.<br>WARNING 000636: Skipping feature 6148 because a negative or very small distance resulted in no geometry.<br>WARNING 000636: Skipping feature 6152 because a negative or very small distance resulted in no geometry.<br>WARNING 000636: Skipping feature 6160 because a negative or very small distance resulted in no geometry.<br>WARNING 000636: Skipping feature 6185 because a negative or very small distance resulted in no geometry.<br>WARNING 000636: Skipping feature 6204 because a negative or very small distance resulted in no geometry.<br>WARNING 000636: Skipping feature 6214 because a negative or very small distance resulted in no geometry.<br>WARNING 000636: Skipping feature 6215 because a negative or very small distance resulted in no geometry.<br>WARNING 000636: Skipping feature 6228 because a negative or very small distance resulted in no geometry.<br>WARNING 000636: Skipping feature 6232 because a negative or very small distance resulted in no geometry.<br>WARNING 000636: Skipping feature 6738 because a negative or very small distance resulted in no geometry.<br>WARNING 000636: Skipping feature 6745 because a negative or very small distance resulted in no geometry.<br>WARNING 000636: Skipping feature 6748 because a negative or very small distance resulted in no geometry.<br>WARNING 000636: Skipping feature 6807 because a negative or very small distance resulted in no geometry.<br>WARNING 000636: Skipping feature 7151 because a negative or very small distance resulted in no geometry.<br>WARNING 000636: Skipping feature 7152 because a negative or very small distance resulted in no geometry.<br>WARNING 000636: Skipping feature 7461 because a negative or very small distance resulted in no geometry.<br>WARNING 000636: Skipping feature 7808 because a negative or very small distance resulted in no geometry.<br>WARNING 000636: Skipping feature 7811 because a negative or very small distance resulted in no geometry.<br>WARNING 000636: Skipping feature 7812 because a negative or very small distance resulted in no geometry.<br>WARNING 000636: Skipping feature 7813 because a negative or very small distance resulted in no geometry.<br>WARNING 000636: Skipping feature 7838 because a negative or very small distance resulted in no geometry.<br>WARNING 000636: Skipping feature 7839 because a negative or very small distance resulted in no geometry.<br>WARNING 000636: Skipping feature 7840 because a negative or very small distance resulted in no geometry.<br>WARNING 000636: Skipping feature 7841 because a negative or very small distance resulted in no geometry.<br>WARNING 000636: Skipping feature 7956 because a negative or very small distance resulted in no geometry.<br>WARNING 000636: Skipping feature 7957 because a negative or very small distance resulted in no geometry.<br>WARNING 000636: Skipping feature 7964 because a negative or very small distance resulted in no geometry.<br>WARNING 000636: Skipping feature 7965 because a negative or very small distance resulted in no geometry.<br>WARNING 000636: Skipping feature 7966 because a negative or very small distance resulted in no geometry.<br>WARNING 000636: Skipping feature 7990 because a negative or very small distance resulted in no geometry.<br>WARNING 000636: Skipping feature 7994 because a negative or very small distance resulted in no geometry.<br>WARNING 000636: Skipping feature 7995 because a negative or very small distance resulted in no geometry.<br>WARNING 000636: Skipping feature 7997 because a negative or very small distance resulted in no geometry.<br>WARNING 000636: Skipping feature 9348 because a negative or very small distance resulted in no geometry.<br>WARNING 000636: Skipping feature 9580 because a negative or very small distance resulted in no geometry.<br>WARNING 000636: Skipping feature 10895 because a negative or very small distance resulted in no geometry.<br>WARNING 000636: Skipping feature 10897 because a negative or very small distance resulted in no geometry.<br>WARNING 000636: Skipping feature 10913 because a negative or very small distance resulted in no geometry.<br>WARNING 000636: Skipping feature 10914 because a negative or very small distance resulted in no geometry.<br>WARNING 000636: Skipping feature 10918 because a negative or very small distance resulted in no geometry.<br>WARNING 000636: Skipping feature 10926 because a negative or very small distance resulted in no geometry.<br>WARNING 000636: Skipping feature 10944 because a negative or very small distance resulted in no geometry.<br>WARNING 000636: Skipping feature 10950 because a negative or very small distance resulted in no geometry.<br>WARNING 000636: Skipping feature 10951 because a negative or very small distance resulted in no geometry.<br>WARNING 000636: Skipping feature 10971 because a negative or very small distance resulted in no geometry.<br>WARNING 000636: Skipping feature 10975 because a negative or very small distance resulted in no geometry.<br>WARNING 000636: Skipping feature 11000 because a negative or very small distance resulted in no geometry.<br>WARNING 000636: Skipping feature 11001 because a negative or very small distance resulted in no geometry.<br>WARNING 000636: Skipping feature 11002 because a negative or very small distance resulted in no geometry.<br>WARNING 000636: Skipping feature 11003 because a negative or very small distance resulted in no geometry.<br>WARNING 000636: Skipping feature 11004 because a negative or very small distance resulted in no geometry.<br>WARNING 000636: Skipping feature 11018 because a negative or very small distance resulted in no geometry.<br>WARNING 000636: Skipping feature 11019 because a negative or very small distance resulted in no geometry.<br>WARNING 000636: Skipping feature 11020 because a negative or very small distance resulted in no geometry.<br>WARNING 000636: Skipping feature 11122 because a negative or very small distance resulted in no geometry.<br>WARNING 000636: Skipping feature 11127 because a negative or very small distance resulted in no geometry.<br>WARNING 000636: Skipping feature 11146 because a negative or very small distance resulted in no geometry.<br>WARNING 000636: Skipping feature 11152 because a negative or very small distance resulted in no geometry.<br>WARNING 000636: Skipping feature 11156 because a negative or very small distance resulted in no geometry.<br>WARNING 000636: Skipping feature 11164 because a negative or very small distance resulted in no geometry.<br>WARNING 000636: Skipping feature 11189 because a negative or very small distance resulted in no geometry.<br>WARNING 000636: Skipping feature 11208 because a negative or very small distance resulted in no geometry.<br>WARNING 000636: Skipping feature 11218 because a negative or very small distance resulted in no geometry.<br>WARNING 000636: Skipping feature 11219 because a negative or very small distance resulted in no geometry.<br>WARNING 000636: Skipping feature 11232 because a negative or very small distance resulted in no geometry.<br>WARNING 000636: Skipping feature 11236 because a negative or very small distance resulted in no geometry.<br>WARNING 000636: Skipping feature 11523 because a negative or very small distance resulted in no geometry.<br>WARNING 000636: Skipping feature 11541 because a negative or very small distance resulted in no geometry.<br>WARNING 000636: Skipping feature 11617 because a negative or very small distance resulted in no geometry.<br>WARNING 000636: Skipping feature 11635 because a negative or very small distance resulted in no geometry.<br>WARNING 000636: Skipping feature 11822 because a negative or very small distance resulted in no geometry.<br>WARNING 000636: Skipping feature 11830 because a negative or very small distance resulted in no geometry.<br>WARNING 000636: Skipping feature 13207 because a negative or very small distance resulted in no geometry.<br>WARNING 000636: Skipping feature 13491 because a negative or very small distance resulted in no geometry.<br>WARNING 000636: Skipping feature 13492 because a negative or very small distance resulted in no geometry.<br>WARNING 000636: Skipping feature 13493 because a negative or very small distance resulted in no geometry.<br>WARNING 000636: Skipping feature 13494 because a negative or very small distance resulted in no geometry.<br>WARNING 000636: Skipping feature 13505 because a negative or very small distance resulted in no geometry.<br>WARNING 000636: Skipping feature 14173 because a negative or very small distance resulted in no geometry.<br>WARNING 000636: Skipping feature 14181 because a negative or very small distance resulted in no geometry.<br>WARNING 000636: Skipping feature 14549 because a negative or very small distance resulted in no geometry.<br>WARNING 000636: Skipping feature 14556 because a negative or very small distance resulted in no geometry.<br>WARNING 000636: Skipping feature 14811 because a negative or very small distance resulted in no geometry.<br>WARNING 000636: Skipping feature 14812 because a negative or very small distance resulted in no geometry.<br>WARNING 000636: Skipping feature 16560 because a negative or very small distance resulted in no geometry.<br>WARNING 000636: Skipping feature 16703 because a negative or very small distance resulted in no geometry.<br>WARNING 000636: Skipping feature 16859 because a negative or very small distance resulted in no geometry.<br>WARNING 000636: Skipping feature 17277 because a negative or very small distance resulted in no geometry.<br>WARNING 000636: Skipping feature 17280 because a negative or very small distance resulted in no geometry.<br>WARNING 000636: Skipping feature 17288 because a negative or very small distance resulted in no geometry.<br>WARNING 000636: Skipping feature 17348 because a negative or very small distance resulted in no geometry.<br>Succeeded at Saturday, January 25, 2025 10:33:25 AM (Elapsed Time: 10.71 seconds)<br></div><div id = 'default' /></div></div>"
      ],
      "text/plain": [
       "<Result 'C:\\\\Users\\\\ktalexan\\\\OneDrive - County of Orange\\\\Documents\\\\OCSWITRS\\\\AGPSWITRS\\\\AGPSWITRS.gdb\\\\AnalysisData\\\\roads_major_split_buffer'>"
      ]
     },
     "execution_count": 116,
     "metadata": {},
     "output_type": "execute_result"
    }
   ],
   "source": [
    "# Create a path for the new split major roads feature class\n",
    "roads_major_split_buffer_path = os.path.join(gdb_analysis_data_path, \"roads_major_split_buffer\")\n",
    "\n",
    "# Buffer the split major roads by 500 feet\n",
    "arcpy.analysis.Buffer(\n",
    "    in_features = roads_major_split_path,\n",
    "    out_feature_class = roads_major_split_buffer_path,\n",
    "    buffer_distance_or_field = \"500 Feet\",\n",
    "    line_side = \"FULL\",\n",
    "    line_end_type = \"FLAT\",\n",
    "    dissolve_option = \"NONE\",\n",
    "    dissolve_field = None,\n",
    "    method = \"PLANAR\"\n",
    ")"
   ]
  },
  {
   "cell_type": "markdown",
   "metadata": {},
   "source": [
    "Map layer operations"
   ]
  },
  {
   "cell_type": "code",
   "execution_count": 117,
   "metadata": {},
   "outputs": [
    {
     "data": {
      "text/plain": [
       "True"
      ]
     },
     "execution_count": 117,
     "metadata": {},
     "output_type": "execute_result"
    }
   ],
   "source": [
    "# Remove the newly created layer from map\n",
    "map.removeLayer(map.listLayers(\"roads_major_split_buffer\")[0])\n",
    "\n",
    "# Change the feature class alias for the Split Major Roads Buffer\n",
    "arcpy.AlterAliasName(roads_major_split_buffer_path, \"Major Roads Split Buffer\")\n",
    "\n",
    "# Add the Major Roads Split Buffer layer to the hot spots map\n",
    "roads_major_split_buffer_lyr = map_hotspots.addDataFromPath(roads_major_split_buffer_path)\n",
    "roads_major_split_buffer_lyr.visible = False\n",
    "\n",
    "# move the layer\n",
    "map.moveLayer(roads_major_buffers_sum_lyr, roads_major_split_buffer_lyr, insert_position = \"BEFORE\")"
   ]
  },
  {
   "cell_type": "markdown",
   "metadata": {},
   "source": [
    "#### <font color=\"darkgreen\">Summarize road segments buffers</font>"
   ]
  },
  {
   "cell_type": "markdown",
   "metadata": {},
   "source": [
    "Summarize the crash collision data for each of the road segments"
   ]
  },
  {
   "cell_type": "code",
   "execution_count": 118,
   "metadata": {},
   "outputs": [
    {
     "data": {
      "text/html": [
       "<div class='gpresult'><h2 class='msg-title'>Messages</h2><div id='messages'>Start Time: Saturday, January 25, 2025 10:35:59 AM<br>Succeeded at Saturday, January 25, 2025 10:36:40 AM (Elapsed Time: 40.12 seconds)<br></div><div id = 'default' /></div></div>"
      ],
      "text/plain": [
       "<Result 'C:\\\\Users\\\\ktalexan\\\\OneDrive - County of Orange\\\\Documents\\\\OCSWITRS\\\\AGPSWITRS\\\\AGPSWITRS.gdb\\\\AnalysisData\\\\roads_major_split_buffer_sum'>"
      ]
     },
     "execution_count": 118,
     "metadata": {},
     "output_type": "execute_result"
    }
   ],
   "source": [
    "# Create a path for the new summarized major road buffers feature class\n",
    "roads_major_split_buffer_sum_path = os.path.join(gdb_analysis_data_path, \"roads_major_split_buffer_sum\")\n",
    "\n",
    "# Summarize the data within the major road buffers from the crashes data\n",
    "arcpy.analysis.SummarizeWithin(\n",
    "    in_polygons = roads_major_split_buffer_path,\n",
    "    in_sum_features = crashes_path,\n",
    "    out_feature_class = roads_major_split_buffer_sum_path,\n",
    "    keep_all_polygons = \"KEEP_ALL\",\n",
    "    sum_fields=[\n",
    "        [\"crash_tag\", \"Sum\"], [\"party_count\", \"Sum\"], [\"victim_count\", \"Sum\"], [\"number_killed\", \"Sum\"], \n",
    "        [\"number_inj\", \"Sum\"], [\"count_severe_inj\", \"Sum\"], [\"count_visible_inj\", \"Sum\"],\n",
    "        [\"count_complaint_pain\", \"Sum\"], [\"count_car_killed\", \"Sum\"], [\"count_car_inj\", \"Sum\"],\n",
    "        [\"count_ped_killed\", \"Sum\"], [\"count_ped_inj\", \"Sum\"], [\"count_bic_killed\", \"Sum\"],\n",
    "        [\"count_bic_inj\", \"Sum\"], [\"count_mc_killed\", \"Sum\"], [\"count_mc_inj\", \"Sum\"],\n",
    "        [\"coll_severity_num\", \"Mean\"], [\"coll_severity_rank_num\", \"Mean\"]\n",
    "    ]\n",
    ")"
   ]
  },
  {
   "cell_type": "markdown",
   "metadata": {},
   "source": [
    "Map layer operations"
   ]
  },
  {
   "cell_type": "code",
   "execution_count": 119,
   "metadata": {},
   "outputs": [
    {
     "data": {
      "text/plain": [
       "True"
      ]
     },
     "execution_count": 119,
     "metadata": {},
     "output_type": "execute_result"
    }
   ],
   "source": [
    "# Remove the newly created layer from map\n",
    "map.removeLayer(map.listLayers(\"roads_major_split_buffer_sum\")[0])\n",
    "\n",
    "# Change the feature class alias for the Summarized Major Road Split Buffers\n",
    "arcpy.AlterAliasName(roads_major_split_buffer_sum_path, \"Major Roads Split Buffer Summary\")\n",
    "\n",
    "# Add the Major Roads Split Buffer layer to the hot spots map\n",
    "roads_major_split_buffer_sum_lyr = map_hotspots.addDataFromPath(roads_major_split_buffer_sum_path)\n",
    "roads_major_split_buffer_sum_lyr.visible = False\n",
    "\n",
    "# move the layer\n",
    "map.moveLayer(roads_major_split_buffer_lyr, roads_major_split_buffer_sum_lyr, insert_position = \"BEFORE\")"
   ]
  },
  {
   "cell_type": "markdown",
   "metadata": {},
   "source": [
    "### <font color=\"blue\">**2.8. Crashes within 500ft from Major Roads**</font>"
   ]
  },
  {
   "cell_type": "markdown",
   "metadata": {},
   "source": [
    "Select all crashes that are within 500 ft of the major roads"
   ]
  },
  {
   "cell_type": "code",
   "execution_count": 127,
   "metadata": {},
   "outputs": [],
   "source": [
    "# Create a path for the new feature class\n",
    "crashes_500ft_from_major_roads_path = os.path.join(\n",
    "    gdb_analysis_data_path, \"Crashes_500ft_from_Major_Roads\")\n",
    "\n",
    "# Select the crashes within 500 feet of the major roads and store it in a temporary layer\n",
    "temp_lyr = arcpy.management.SelectLayerByLocation(\n",
    "    in_layer = crashes_path,\n",
    "    overlap_type = \"WITHIN_A_DISTANCE\",\n",
    "    select_features = roads_major_path,\n",
    "    search_distance=\"500 Feet\",\n",
    "    selection_type=\"NEW_SELECTION\",\n",
    "    invert_spatial_relationship=\"NOT_INVERT\"\n",
    ")"
   ]
  },
  {
   "cell_type": "markdown",
   "metadata": {},
   "source": [
    "Export the selected data to the geodatabase"
   ]
  },
  {
   "cell_type": "code",
   "execution_count": 128,
   "metadata": {},
   "outputs": [
    {
     "data": {
      "text/html": [
       "<div class='gpresult'><h2 class='msg-title'>Messages</h2><div id='messages'>Start Time: Saturday, January 25, 2025 10:41:29 AM<br>Succeeded at Saturday, January 25, 2025 10:41:42 AM (Elapsed Time: 13.27 seconds)<br></div><div id = 'default' /></div></div>"
      ],
      "text/plain": [
       "<Result 'C:\\\\Users\\\\ktalexan\\\\OneDrive - County of Orange\\\\Documents\\\\OCSWITRS\\\\AGPSWITRS\\\\AGPSWITRS.gdb\\\\AnalysisData\\\\Crashes_500ft_from_Major_Roads'>"
      ]
     },
     "execution_count": 128,
     "metadata": {},
     "output_type": "execute_result"
    }
   ],
   "source": [
    "# Export the selected crashes to a new feature class\n",
    "arcpy.conversion.ExportFeatures(\n",
    "    in_features = temp_lyr,\n",
    "    out_features = crashes_500ft_from_major_roads_path,\n",
    "    where_clause = \"\",\n",
    "    use_field_alias_as_name = \"NOT_USE_ALIAS\",\n",
    ")"
   ]
  },
  {
   "cell_type": "markdown",
   "metadata": {},
   "source": [
    "Map layer operations"
   ]
  },
  {
   "cell_type": "code",
   "execution_count": 129,
   "metadata": {},
   "outputs": [
    {
     "data": {
      "text/html": [
       "<div class='gpresult'><h2 class='msg-title'>Messages</h2><div id='messages'>Start Time: Saturday, January 25, 2025 10:41:56 AM<br>Succeeded at Saturday, January 25, 2025 10:42:00 AM (Elapsed Time: 3.88 seconds)<br></div><div id = 'default' /></div></div>"
      ],
      "text/plain": [
       "<Result 'Crashes within 500ft from Major Roads'>"
      ]
     },
     "execution_count": 129,
     "metadata": {},
     "output_type": "execute_result"
    }
   ],
   "source": [
    "# Delete the temporary layer\n",
    "arcpy.management.Delete(temp_lyr)\n",
    "\n",
    "# Remove the newly created layer from map\n",
    "map.removeLayer(map.listLayers(\"Crashes_500ft_from_Major_Roads\")[0])\n",
    "\n",
    "# Change the feature class alias for the Crashes 500ft from Major Roads\n",
    "arcpy.AlterAliasName(crashes_500ft_from_major_roads_path, \"Crashes within 500ft from Major Roads\")\n",
    "\n",
    "# Add the new feature class to the map\n",
    "crashes_500ft_from_major_roads_lyr = map_hotspots.addDataFromPath(crashes_500ft_from_major_roads_path)\n",
    "crashes_500ft_from_major_roads_lyr.visible = False\n",
    "\n",
    "# Apply the symbology for the Crashes 500ft from Major Roads data layer\n",
    "arcpy.management.ApplySymbologyFromLayer(\n",
    "    in_layer = crashes_500ft_from_major_roads_lyr,\n",
    "    in_symbology_layer = os.path.join(layers_path, \"OCSWITRS Crashes.lyrx\"),\n",
    "    symbology_fields = \"VALUE_FIELD coll_severity coll_severity\",\n",
    "    update_symbology = \"MAINTAIN\"\n",
    ")"
   ]
  },
  {
   "cell_type": "markdown",
   "metadata": {},
   "source": [
    "Save the ArcGIS Pro project"
   ]
  },
  {
   "cell_type": "code",
   "execution_count": 130,
   "metadata": {},
   "outputs": [],
   "source": [
    "# Save the project\n",
    "aprx.save()\n"
   ]
  },
  {
   "cell_type": "markdown",
   "metadata": {},
   "source": [
    "## <font color=\"orangered\">**3. Hot Spot Analysis Operations**</font>"
   ]
  },
  {
   "cell_type": "markdown",
   "metadata": {},
   "source": [
    "### <font color=\"blue\">**3.1. Create Hot Spots (Crashes, Collision Severity)**</font>"
   ]
  },
  {
   "cell_type": "markdown",
   "metadata": {},
   "source": [
    "Create a hot spot analysis for the crash collision data (collision severity)"
   ]
  },
  {
   "cell_type": "code",
   "execution_count": 131,
   "metadata": {},
   "outputs": [
    {
     "data": {
      "text/html": [
       "<div class='gpresult'><h2 class='msg-title'>Messages</h2><div id='messages'>Start Time: Saturday, January 25, 2025 10:43:04 AM<br>WARNING 000853: The default neighborhood search threshold was 5882.8670 meters.<br>WARNING 001420: The number of neighbors for at least one feature exceeds 1000, you may want to change your conceptualization of spatial relationships to avoid the potential of running out of memory.<br>WARNING 001422: Features with number of neighbors exceeding warning value (only includes first 30): OBJECTID = 1, 2, 3, 4, 5, 6, 7, 8, 9, 10, 11, 12, 13, 14, 15, 16, 17, 18, 19, 20, 21, 22, 23, 24, 25, 26, 27, 28, 29, 30.<br>Succeeded at Saturday, January 25, 2025 10:48:24 AM (Elapsed Time: 5 minutes 20 seconds)<br></div><div id = 'default' /></div></div>"
      ],
      "text/plain": [
       "<Result 'C:\\\\Users\\\\ktalexan\\\\OneDrive - County of Orange\\\\Documents\\\\OCSWITRS\\\\AGPSWITRS\\\\AGPSWITRS.gdb\\\\HotSpotData\\\\crashes_hot_spots'>"
      ]
     },
     "execution_count": 131,
     "metadata": {},
     "output_type": "execute_result"
    }
   ],
   "source": [
    "# Create a path for the new crashes hot spots feature class\n",
    "crashes_hot_spots_path = os.path.join(gdb_hotspot_data_path, \"crashes_hot_spots\")\n",
    "\n",
    "# Create hot spots points\n",
    "arcpy.stats.HotSpots(\n",
    "    Input_Feature_Class = crashes_path,\n",
    "    Input_Field = \"coll_severity_num\",\n",
    "    Output_Feature_Class = crashes_hot_spots_path,\n",
    "    Conceptualization_of_Spatial_Relationships = \"FIXED_DISTANCE_BAND\",\n",
    "    Distance_Method = \"EUCLIDEAN_DISTANCE\",\n",
    "    Standardization = \"ROW\",\n",
    "    Distance_Band_or_Threshold_Distance = None,\n",
    "    Self_Potential_Field = None,\n",
    "    Weights_Matrix_File = None,\n",
    "    Apply_False_Discovery_Rate__FDR__Correction = \"NO_FDR\",\n",
    "    number_of_neighbors = None\n",
    ")"
   ]
  },
  {
   "cell_type": "markdown",
   "metadata": {},
   "source": [
    "Map layer operations"
   ]
  },
  {
   "cell_type": "code",
   "execution_count": 132,
   "metadata": {},
   "outputs": [],
   "source": [
    "# Remove the newly created layer from map\n",
    "map.removeLayer(map.listLayers(\"crashes_hot_spots\")[0])\n",
    "\n",
    "# Change the feature class alias for the Crashes Hot Spots\n",
    "arcpy.AlterAliasName(crashes_hot_spots_path, \"Crashes Hot Spots\")\n",
    "\n",
    "# Add the new feature class to the map\n",
    "crashes_hot_spots_lyr = map_hotspots.addDataFromPath(crashes_hot_spots_path)\n",
    "crashes_hot_spots_lyr.visible = False"
   ]
  },
  {
   "cell_type": "markdown",
   "metadata": {},
   "source": [
    "### <font color=\"blue\">**3.2. Optimized Hot Spots (Crashes, Collision Severity, 1,000 m)**</font>"
   ]
  },
  {
   "cell_type": "markdown",
   "metadata": {},
   "source": [
    "Optimized hot spot analysis for the crash collision data (collision severity)"
   ]
  },
  {
   "cell_type": "code",
   "execution_count": 133,
   "metadata": {},
   "outputs": [
    {
     "data": {
      "text/html": [
       "<div class='gpresult'><h2 class='msg-title'>Messages</h2><div id='messages' data-messages='[\"Start Time: Saturday, January 25, 2025 10:48:47 AM\",{\"element\":\"h5\",\"data\":\"Initial Data Assessment\"},\"Making sure there are enough weighted features for analysis....\",{\"element\":\"unorderedlist\",\"data\":[\"There are 152987 valid input features.\"]},\"Evaluating the Analysis Field values....\",[{\"element\":\"table\",\"data\":[[\"Min\",\"1.0000\"],[\"Max\",\"4.0000\"],[\"Mean\",\"1.4682\"],[\"Std. Dev.\",\"0.6613\"]],\"elementProps\":{\"striped\":\"true\",\"className\":\"small\",\"noHeader\":true,\"title\":\"COLL_SEVERITY_NUM Properties:\",\"0\":{\"align\":\"left\",\"pad\":\"0px\",\"wrap\":true},\"1\":{\"align\":\"right\",\"pad\":\"0px\",\"wrap\":true}}}],\"\",\"Looking for locational outliers....\",{\"element\":\"unorderedlist\",\"data\":[\"There were 2272 outlier locations; these will not be used to compute the optimal fixed distance band.\"]},{\"element\":\"h5\",\"data\":\"Scale of Analysis\"},{\"element\":\"unorderedlist\",\"data\":[\"The Neighborhood Distance used was 1000 meters.\"]},{\"element\":\"h5\",\"data\":\"Hot Spot Analysis\"},\"Finding statistically significant clusters of high and low Collision Severity Numeric values....\",\"WARNING 001420: The number of neighbors for at least one feature exceeds 1000, you may want to change your conceptualization of spatial relationships to avoid the potential of running out of memory.\",\"WARNING 001422: Features with number of neighbors exceeding warning value (only includes first 30): OBJECTID = 13, 17, 35, 59, 68, 82, 125, 142, 144, 170, 187, 204, 216, 218, 241, 274, 290, 300, 308, 362, 374, 405, 407, 446, 475, 476, 529, 583, 586, 598.\",{\"element\":\"unorderedlist\",\"data\":[\"There are 82163 output features statistically significant based on an FDR correction for multiple testing and spatial dependence.\"]},{\"element\":\"unorderedlist\",\"data\":[\".1% of features had less than 8 neighbors based on the distance band of 1000 meters\"]},{\"element\":\"h5\",\"data\":\"Output\"},\"Creating output feature class: C:\\\\Users\\\\ktalexan\\\\OneDrive - County of Orange\\\\Documents\\\\OCSWITRS\\\\AGPSWITRS\\\\AGPSWITRS.gdb\\\\HotSpotData\\\\crashes_optimized_hot_spots\",{\"element\":\"orderedlist\",\"data\":[\"Red output features represent hot spots where high Collision Severity Numeric values cluster.\",\"Blue output features represent cold spots where low Collision Severity Numeric values cluster.\"]},\"\\n\",\"Succeeded at Saturday, January 25, 2025 10:49:29 AM (Elapsed Time: 41.99 seconds)\"]' data-show='true'><div id = 'default' /></div></div>"
      ],
      "text/plain": [
       "<Result 'C:\\\\Users\\\\ktalexan\\\\OneDrive - County of Orange\\\\Documents\\\\OCSWITRS\\\\AGPSWITRS\\\\AGPSWITRS.gdb\\\\HotSpotData\\\\crashes_optimized_hot_spots'>"
      ]
     },
     "execution_count": 133,
     "metadata": {},
     "output_type": "execute_result"
    }
   ],
   "source": [
    "# Create a path for the new optimized crashes hot spots feature class\n",
    "crashes_optimized_hot_spots_path = os.path.join(gdb_hotspot_data_path, \"crashes_optimized_hot_spots\")\n",
    "\n",
    "# Perform Optimized Hot Spot Analysis on the crashes data\n",
    "arcpy.stats.OptimizedHotSpotAnalysis(\n",
    "    Input_Features = crashes_path,\n",
    "    Output_Features = crashes_optimized_hot_spots_path,\n",
    "    Analysis_Field = \"coll_severity_num\",\n",
    "    Incident_Data_Aggregation_Method = \"COUNT_INCIDENTS_WITHIN_FISHNET_POLYGONS\",\n",
    "    Bounding_Polygons_Defining_Where_Incidents_Are_Possible = None,\n",
    "    Polygons_For_Aggregating_Incidents_Into_Counts = None,\n",
    "    Density_Surface = None,\n",
    "    Cell_Size = None,\n",
    "    Distance_Band = \"1000 Meters\"\n",
    ")"
   ]
  },
  {
   "cell_type": "markdown",
   "metadata": {},
   "source": [
    "Map layer operations"
   ]
  },
  {
   "cell_type": "code",
   "execution_count": 134,
   "metadata": {},
   "outputs": [],
   "source": [
    "# Remove the newly created layer from map\n",
    "map.removeLayer(map.listLayers(\"crashes_optimized_hot_spots\")[0])\n",
    "\n",
    "# Change the feature class alias for the Optimized Crashes Hot Spots\n",
    "arcpy.AlterAliasName(crashes_optimized_hot_spots_path, \"Crashes Optimized Hot Spots\")\n",
    "\n",
    "# Add the new feature class to the map\n",
    "crashes_optimized_hot_spots_lyr = map_hotspots.addDataFromPath(crashes_optimized_hot_spots_path)\n",
    "crashes_optimized_hot_spots_lyr.visible = False\n"
   ]
  },
  {
   "cell_type": "markdown",
   "metadata": {},
   "source": [
    "### <font color=\"blue\">**3.3. Find Hot Spots (Crashes, 100m bins, 1km neighbors)**</font>"
   ]
  },
  {
   "cell_type": "markdown",
   "metadata": {},
   "source": [
    "Find hot spots for the crash collision data using 100 m bins and 1 km neighborhood radius (328 ft/ 0.621 mi)"
   ]
  },
  {
   "cell_type": "code",
   "execution_count": 135,
   "metadata": {},
   "outputs": [
    {
     "data": {
      "text/html": [
       "<div class='gpresult'><h2 class='msg-title'>Messages</h2><div id='messages'>Start Time: Saturday, January 25, 2025 10:49:50 AM<br>Started Spark Job 1 with 16 tasks.<br>Spark Job 1 completed in 3.3 seconds.<br>Started Spark Job 2 with 32 tasks.<br>Spark Job 2 completed in 4.3 seconds.<br>Started Spark Job 3 with 24 tasks.<br>Spark Job 3 completed in 0.8 seconds.<br><br>Succeeded at Saturday, January 25, 2025 10:50:29 AM (Elapsed Time: 38.52 seconds)<br></div><div id = 'default' /></div></div>"
      ],
      "text/plain": [
       "<Result 'C:\\\\Users\\\\ktalexan\\\\OneDrive - County of Orange\\\\Documents\\\\OCSWITRS\\\\AGPSWITRS\\\\AGPSWITRS.gdb\\\\HotSpotData\\\\crashes_find_hot_spots_100m_1km'>"
      ]
     },
     "execution_count": 135,
     "metadata": {},
     "output_type": "execute_result"
    }
   ],
   "source": [
    "# Create a path for the new crashes find hot spots feature class\n",
    "crashes_find_hot_spots_100m_1km_path = os.path.join(gdb_hotspot_data_path, \"crashes_find_hot_spots_100m_1km\")\n",
    "\n",
    "# Find the hot spots within the crashes data\n",
    "arcpy.gapro.FindHotSpots(\n",
    "    point_layer = crashes_path,\n",
    "    out_feature_class = crashes_find_hot_spots_100m_1km_path,\n",
    "    bin_size = \"100 Meters\",\n",
    "    neighborhood_size = \"1 Kilometers\",\n",
    "    time_step_interval = None,\n",
    "    time_step_alignment = \"START_TIME\",\n",
    "    time_step_reference = None\n",
    ")"
   ]
  },
  {
   "cell_type": "markdown",
   "metadata": {},
   "source": [
    "Map layer operations"
   ]
  },
  {
   "cell_type": "code",
   "execution_count": 136,
   "metadata": {},
   "outputs": [],
   "source": [
    "# Remove the newly created layer from map\n",
    "map.removeLayer(map.listLayers(\"crashes_find_hot_spots_100m_1km\")[0])\n",
    "\n",
    "# Change the feature class alias for the Crashes Find Hot Spots\n",
    "arcpy.AlterAliasName(crashes_find_hot_spots_100m_1km_path, \"Crashes Find Hot Spots 100m 1km\")\n",
    "\n",
    "# Add the new feature class to the map\n",
    "crashes_find_hot_spots_100m_1km_lyr = map_hotspots.addDataFromPath(crashes_find_hot_spots_100m_1km_path)\n",
    "crashes_find_hot_spots_100m_1km_lyr.visible = False\n"
   ]
  },
  {
   "cell_type": "markdown",
   "metadata": {},
   "source": [
    "### <font color=\"blue\">**3.4. Find Hot Spots (Crashes, 150m bins, 2km neighbors)**</font>"
   ]
  },
  {
   "cell_type": "markdown",
   "metadata": {},
   "source": [
    "Find hot spots for the crash collision data using 150 m bins and 2 km neighborhood radius (492 ft/ 1.24 mi)"
   ]
  },
  {
   "cell_type": "code",
   "execution_count": 138,
   "metadata": {},
   "outputs": [
    {
     "data": {
      "text/html": [
       "<div class='gpresult'><h2 class='msg-title'>Messages</h2><div id='messages'>Start Time: Saturday, January 25, 2025 10:52:55 AM<br>Started Spark Job 1 with 16 tasks.<br>Spark Job 1 completed in 2.4 seconds.<br>Started Spark Job 2 with 32 tasks.<br>Spark Job 2 completed in 2.8 seconds.<br>Started Spark Job 3 with 24 tasks.<br>Spark Job 3 completed in 0.6 seconds.<br><br>Succeeded at Saturday, January 25, 2025 10:53:07 AM (Elapsed Time: 11.83 seconds)<br></div><div id = 'default' /></div></div>"
      ],
      "text/plain": [
       "<Result 'C:\\\\Users\\\\ktalexan\\\\OneDrive - County of Orange\\\\Documents\\\\OCSWITRS\\\\AGPSWITRS\\\\AGPSWITRS.gdb\\\\HotSpotData\\\\crashes_find_hot_spots_150m_2km'>"
      ]
     },
     "execution_count": 138,
     "metadata": {},
     "output_type": "execute_result"
    }
   ],
   "source": [
    "# Create a path for the new crashes find hot spots feature class\n",
    "crashes_find_hot_spots_150m_2km_path = os.path.join(gdb_hotspot_data_path, \"crashes_find_hot_spots_150m_2km\")\n",
    "\n",
    "# Find the hot spots within the crashes data\n",
    "arcpy.gapro.FindHotSpots(\n",
    "    point_layer = crashes_path,\n",
    "    out_feature_class = crashes_find_hot_spots_150m_2km_path,\n",
    "    bin_size = \"150 Meters\",\n",
    "    neighborhood_size = \"2 Kilometers\",\n",
    "    time_step_interval = None,\n",
    "    time_step_alignment = \"START_TIME\",\n",
    "    time_step_reference = None\n",
    ")"
   ]
  },
  {
   "cell_type": "markdown",
   "metadata": {},
   "source": [
    "Map layer operations"
   ]
  },
  {
   "cell_type": "code",
   "execution_count": 139,
   "metadata": {},
   "outputs": [],
   "source": [
    "# Remove the newly created layer from map\n",
    "map.removeLayer(map.listLayers(\"crashes_find_hot_spots_150m_2km\")[0])\n",
    "\n",
    "# Change the feature class alias for the Crashes Find Hot Spots\n",
    "arcpy.AlterAliasName(crashes_find_hot_spots_150m_2km_path, \"Crashes Find Hot Spots 150m 2km\")\n",
    "\n",
    "# Add the new feature class to the map\n",
    "crashes_find_hot_spots_150m_2km_lyr = map_hotspots.addDataFromPath(crashes_find_hot_spots_150m_2km_path)\n",
    "crashes_find_hot_spots_150m_2km_lyr.visible = False"
   ]
  },
  {
   "cell_type": "markdown",
   "metadata": {},
   "source": [
    "### <font color=\"blue\">**3.5. Find Hot Spots (Crashes, 100m bins, 5km neighbors)**</font>"
   ]
  },
  {
   "cell_type": "markdown",
   "metadata": {},
   "source": [
    "Find hot spots for the crash collision data using 100 m bins and 5 km neighborhood radius (328 ft/ 3.11 mi)"
   ]
  },
  {
   "cell_type": "code",
   "execution_count": 140,
   "metadata": {},
   "outputs": [
    {
     "data": {
      "text/html": [
       "<div class='gpresult'><h2 class='msg-title'>Messages</h2><div id='messages'>Start Time: Saturday, January 25, 2025 10:53:41 AM<br>Started Spark Job 1 with 16 tasks.<br>Spark Job 1 completed in 2.2 seconds.<br>Started Spark Job 2 with 32 tasks.<br>Spark Job 2 completed in 2.9 seconds.<br>Started Spark Job 3 with 24 tasks.<br>Spark Job 3 completed in 5.4 seconds.<br><br>Succeeded at Saturday, January 25, 2025 10:53:58 AM (Elapsed Time: 16.97 seconds)<br></div><div id = 'default' /></div></div>"
      ],
      "text/plain": [
       "<Result 'C:\\\\Users\\\\ktalexan\\\\OneDrive - County of Orange\\\\Documents\\\\OCSWITRS\\\\AGPSWITRS\\\\AGPSWITRS.gdb\\\\HotSpotData\\\\crashes_find_hot_spots_100m_5km'>"
      ]
     },
     "execution_count": 140,
     "metadata": {},
     "output_type": "execute_result"
    }
   ],
   "source": [
    "# Create a path for the new crashes find hot spots feature class\n",
    "crashes_find_hot_spots_100m_5km_path = os.path.join(gdb_hotspot_data_path, \"crashes_find_hot_spots_100m_5km\")\n",
    "\n",
    "# Find the hot spots within the crashes data\n",
    "arcpy.gapro.FindHotSpots(\n",
    "    point_layer = crashes_path,\n",
    "    out_feature_class = crashes_find_hot_spots_100m_5km_path,\n",
    "    bin_size = \"100 Meters\",\n",
    "    neighborhood_size = \"5 Kilometers\",\n",
    "    time_step_interval = None,\n",
    "    time_step_alignment = \"START_TIME\",\n",
    "    time_step_reference = None\n",
    ")"
   ]
  },
  {
   "cell_type": "markdown",
   "metadata": {},
   "source": [
    "Map layer operations"
   ]
  },
  {
   "cell_type": "code",
   "execution_count": 141,
   "metadata": {},
   "outputs": [],
   "source": [
    "# Remove the newly created layer from map\n",
    "map.removeLayer(map.listLayers(\"crashes_find_hot_spots_100m_5km\")[0])\n",
    "\n",
    "# Change the feature class alias for the Crashes Find Hot Spots\n",
    "arcpy.AlterAliasName(crashes_find_hot_spots_100m_5km_path, \"Crashes Find Hot Spots 100m 5km\")\n",
    "\n",
    "# Add the new feature class to the map\n",
    "crashes_find_hot_spots_100m_5km_lyr = map_hotspots.addDataFromPath(crashes_find_hot_spots_100m_5km_path)\n",
    "crashes_find_hot_spots_100m_5km_lyr.visible = False"
   ]
  },
  {
   "cell_type": "markdown",
   "metadata": {},
   "source": [
    "Save the ArcGIS Pro project"
   ]
  },
  {
   "cell_type": "code",
   "execution_count": 142,
   "metadata": {},
   "outputs": [],
   "source": [
    "# Save the project\n",
    "aprx.save()\n"
   ]
  },
  {
   "cell_type": "markdown",
   "metadata": {},
   "source": [
    "### <font color=\"blue\">**3.6. Hot Spots (Proximity to Major Roads, 500ft)**</font>"
   ]
  },
  {
   "cell_type": "markdown",
   "metadata": {},
   "source": [
    "Hot spot points within 500 feet of major roads"
   ]
  },
  {
   "cell_type": "code",
   "execution_count": 143,
   "metadata": {},
   "outputs": [
    {
     "data": {
      "text/html": [
       "<div class='gpresult'><h2 class='msg-title'>Messages</h2><div id='messages'>Start Time: Saturday, January 25, 2025 10:54:37 AM<br>WARNING 000853: The default neighborhood search threshold was 872.0926 meters.<br>WARNING 001420: The number of neighbors for at least one feature exceeds 1000, you may want to change your conceptualization of spatial relationships to avoid the potential of running out of memory.<br>WARNING 001422: Features with number of neighbors exceeding warning value (only includes first 30): OBJECTID = 365, 628, 1301, 1668, 1808, 2657, 3315, 4446, 4910, 5168, 5835, 5883, 7285, 8073, 9926, 10087, 10407, 11651, 11685, 12182, 12811, 23859, 24918, 24996, 24999, 25324, 26919, 27367, 27438, 27592.<br>Succeeded at Saturday, January 25, 2025 10:54:53 AM (Elapsed Time: 15.96 seconds)<br></div><div id = 'default' /></div></div>"
      ],
      "text/plain": [
       "<Result 'C:\\\\Users\\\\ktalexan\\\\OneDrive - County of Orange\\\\Documents\\\\OCSWITRS\\\\AGPSWITRS\\\\AGPSWITRS.gdb\\\\HotSpotData\\\\crashes_hot_spots_500ft_major_roads'>"
      ]
     },
     "execution_count": 143,
     "metadata": {},
     "output_type": "execute_result"
    }
   ],
   "source": [
    "# Create a path for the new hot spots within 500 mt from major roads feature class\n",
    "crashes_within_500ft_from_major_roads_hot_spots_path = os.path.join(\n",
    "    gdb_hotspot_data_path, \"crashes_hot_spots_500ft_major_roads\")\n",
    "\n",
    "arcpy.stats.HotSpots(\n",
    "    Input_Feature_Class = crashes_500ft_from_major_roads_path,\n",
    "    Input_Field=\"coll_severity_num\",\n",
    "    Output_Feature_Class = crashes_within_500ft_from_major_roads_hot_spots_path,\n",
    "    Conceptualization_of_Spatial_Relationships = \"FIXED_DISTANCE_BAND\",\n",
    "    Distance_Method = \"EUCLIDEAN_DISTANCE\",\n",
    "    Standardization = \"ROW\",\n",
    "    Distance_Band_or_Threshold_Distance = None,\n",
    "    Self_Potential_Field = None,\n",
    "    Weights_Matrix_File = None,\n",
    "    Apply_False_Discovery_Rate__FDR__Correction = \"NO_FDR\",\n",
    "    number_of_neighbors = None\n",
    ")"
   ]
  },
  {
   "cell_type": "markdown",
   "metadata": {},
   "source": [
    "Map layer operations"
   ]
  },
  {
   "cell_type": "code",
   "execution_count": 144,
   "metadata": {},
   "outputs": [],
   "source": [
    "# Remove the newly created layer from map\n",
    "map.removeLayer(map.listLayers(\"crashes_hot_spots_500ft_major_roads\")[0])\n",
    "\n",
    "# Change the feature class alias for the Crashes Find Hot Spots\n",
    "arcpy.AlterAliasName(\n",
    "    crashes_within_500ft_from_major_roads_hot_spots_path, \n",
    "    \"Crashes Hot Spots within 500ft from Major Roads\")\n",
    "\n",
    "# Add the new feature class to the map\n",
    "crashes_within_500ft_from_major_roads_hot_spots_lyr = map_hotspots.addDataFromPath(crashes_within_500ft_from_major_roads_hot_spots_path)\n",
    "crashes_within_500ft_from_major_roads_hot_spots_lyr.visible = False"
   ]
  },
  {
   "cell_type": "markdown",
   "metadata": {},
   "source": [
    "### <font color=\"blue\">**3.8. Find Hot Spots (Proximity to Major Roads, 500ft)**</font>"
   ]
  },
  {
   "cell_type": "markdown",
   "metadata": {},
   "source": [
    "Find hot spots within 500 feet from major roads"
   ]
  },
  {
   "cell_type": "code",
   "execution_count": 145,
   "metadata": {},
   "outputs": [
    {
     "data": {
      "text/html": [
       "<div class='gpresult'><h2 class='msg-title'>Messages</h2><div id='messages'>Start Time: Saturday, January 25, 2025 10:55:59 AM<br>Started Spark Job 1 with 16 tasks.<br>Spark Job 1 completed in 1.2 seconds.<br>Started Spark Job 2 with 32 tasks.<br>Spark Job 2 completed in 1.5 seconds.<br>Started Spark Job 3 with 24 tasks.<br>Spark Job 3 completed in 0.1 seconds.<br><br>Succeeded at Saturday, January 25, 2025 10:56:08 AM (Elapsed Time: 9.14 seconds)<br></div><div id = 'default' /></div></div>"
      ],
      "text/plain": [
       "<Result 'C:\\\\Users\\\\ktalexan\\\\OneDrive - County of Orange\\\\Documents\\\\OCSWITRS\\\\AGPSWITRS\\\\AGPSWITRS.gdb\\\\HotSpotData\\\\crashes_find_hot_spots_500ft_major_roads_500ft_1mi'>"
      ]
     },
     "execution_count": 145,
     "metadata": {},
     "output_type": "execute_result"
    }
   ],
   "source": [
    "# Create a path for the new hot spots within 500 ft from major roads feature class\n",
    "crashes_within_500ft_from_major_roads_find_hot_spots_path = os.path.join(\n",
    "    gdb_hotspot_data_path, \"crashes_find_hot_spots_500ft_major_roads_500ft_1mi\")\n",
    "\n",
    "arcpy.gapro.FindHotSpots(\n",
    "    point_layer = crashes_500ft_from_major_roads_path,\n",
    "    out_feature_class = crashes_within_500ft_from_major_roads_find_hot_spots_path,\n",
    "    bin_size=\"500 Feet\",\n",
    "    neighborhood_size = \"1 Miles\",\n",
    "    time_step_interval = None,\n",
    "    time_step_alignment = \"START_TIME\",\n",
    "    time_step_reference=None\n",
    ")"
   ]
  },
  {
   "cell_type": "markdown",
   "metadata": {},
   "source": [
    "Map layer operations"
   ]
  },
  {
   "cell_type": "code",
   "execution_count": 146,
   "metadata": {},
   "outputs": [],
   "source": [
    "# Remove the newly created layer from map\n",
    "map.removeLayer(map.listLayers(\"crashes_find_hot_spots_500ft_major_roads_500ft_1mi\")[0])\n",
    "\n",
    "# Change the feature class alias for the Crashes Find Hot Spots\n",
    "arcpy.AlterAliasName(\n",
    "    crashes_within_500ft_from_major_roads_find_hot_spots_path, \n",
    "    \"Crashes Hot Spots within 500ft from Major Roads 500ft 1mi\")\n",
    "\n",
    "# Add the new feature class to the map\n",
    "crashes_within_500ft_from_major_roads_find_hot_spots_lyr = map_hotspots.addDataFromPath(crashes_within_500ft_from_major_roads_find_hot_spots_path)\n",
    "crashes_within_500ft_from_major_roads_find_hot_spots_lyr.visible = False"
   ]
  },
  {
   "cell_type": "markdown",
   "metadata": {},
   "source": [
    "## <font color=\"orangered\">**4. Exploratory Regression Operations**</font>"
   ]
  },
  {
   "cell_type": "markdown",
   "metadata": {},
   "source": [
    "### <font color=\"blue\">**4.1. Crashes (Collision Severity) Exploratory Regression**</font>"
   ]
  },
  {
   "cell_type": "code",
   "execution_count": null,
   "metadata": {},
   "outputs": [],
   "source": [
    "# Add collision severity binary indicator to crashes\n",
    "arcpy.management.CalculateField(\n",
    "    in_table = crashes_path,\n",
    "    field = \"severity_bin\",\n",
    "    expression = \"sevbin(!coll_severity_bin!)\",\n",
    "    expression_type = \"PYTHON3\",\n",
    "    code_block = \"\"\"def sevbin(x):\n",
    "    if x == \"Severe or fatal\":\n",
    "        return 1\n",
    "    elif x == \"None, minor or pain\":\n",
    "        return 0\"\"\",\n",
    "    field_type = \"SHORT\",\n",
    "    enforce_domains = \"NO_ENFORCE_DOMAINS\"\n",
    ")"
   ]
  },
  {
   "cell_type": "markdown",
   "metadata": {},
   "source": [
    "Perform exploratory regression to predict the binary severity bin"
   ]
  },
  {
   "cell_type": "code",
   "execution_count": null,
   "metadata": {},
   "outputs": [],
   "source": [
    "arcpy.stats.ExploratoryRegression(\n",
    "    Input_Features=crashes_path,\n",
    "    Dependent_Variable=\"severity_bin\",\n",
    "    Candidate_Explanatory_Variables=\"accident_year;coll_severity_num;coll_severity_rank_num;party_count;victim_count;number_killed;number_inj;count_severe_inj;count_visible_inj;count_complaint_pain;count_car_killed;count_car_inj;count_ped_killed;count_ped_inj;count_bic_killed;count_bic_inj;count_mc_killed;count_mc_inj\",\n",
    "    Weights_Matrix_File=None,\n",
    "    Output_Report_File=None,\n",
    "    Output_Results_Table=None,\n",
    "    Maximum_Number_of_Explanatory_Variables=5,\n",
    "    Minimum_Number_of_Explanatory_Variables=1,\n",
    "    Minimum_Acceptable_Adj_R_Squared=0.5,\n",
    "    Maximum_Coefficient_p_value_Cutoff=0.05,\n",
    "    Maximum_VIF_Value_Cutoff=7.5,\n",
    "    Minimum_Acceptable_Jarque_Bera_p_value=0.1,\n",
    "    Minimum_Acceptable_Spatial_Autocorrelation_p_value=0.1\n",
    ")"
   ]
  },
  {
   "cell_type": "markdown",
   "metadata": {},
   "source": [
    "Save the ArcGIS Pro project"
   ]
  },
  {
   "cell_type": "code",
   "execution_count": 154,
   "metadata": {},
   "outputs": [],
   "source": [
    "# Save the project\n",
    "aprx.save()"
   ]
  },
  {
   "cell_type": "markdown",
   "metadata": {},
   "source": [
    "## <font color=\"orangered\">**5. Map Layout Operations**</font>"
   ]
  },
  {
   "cell_type": "markdown",
   "metadata": {},
   "source": [
    "### <font color=\"blue\">**4.1 Main Map Layout**</font>"
   ]
  },
  {
   "cell_type": "markdown",
   "metadata": {},
   "source": [
    "Close all views and open the main layout and map"
   ]
  },
  {
   "cell_type": "code",
   "execution_count": 156,
   "metadata": {},
   "outputs": [],
   "source": [
    "# Close all map views\n",
    "aprx.closeViews()\n",
    "\n",
    "# Open the main layout window\n",
    "layout_main.openView()\n",
    "\n",
    "# open the main map window\n",
    "map_main.openView()\n",
    "\n",
    "# set the main map as active map\n",
    "map = aprx.activeMap"
   ]
  },
  {
   "cell_type": "code",
   "execution_count": null,
   "metadata": {},
   "outputs": [],
   "source": []
  }
 ],
 "metadata": {
  "kernelspec": {
   "display_name": "ArcGISPro",
   "language": "python",
   "name": "python3"
  },
  "language_info": {
   "file_extension": ".py",
   "mimetype": "text/x-python",
   "name": "python",
   "version": "3.11.10"
  }
 },
 "nbformat": 4,
 "nbformat_minor": 4
}
