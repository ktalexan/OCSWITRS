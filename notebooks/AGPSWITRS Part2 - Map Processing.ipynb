{
 "cells": [
  {
   "cell_type": "markdown",
   "metadata": {},
   "source": [
    "<div style = \"background-color:indigo\"><center>\n",
    "<h1 style=\"font-size: 50px; font-weight: bold; color:goldenrod; border-top: 3px solid goldenrod; padding-top: 10px\">OC SWITRS GIS Data Processing</h1>\n",
    "<div style=\"font-size: 35px; font-weight: bold; color: goldenrod\"> Part 2 - Map Processing</div>\n",
    "<div style=\"font-size: 30px; font-weight: bold; color: goldenrod; border-bottom: 3px solid goldenrod; padding-bottom: 20px\">v.1, January 2025</div>\n",
    "</center></div>"
   ]
  },
  {
   "cell_type": "markdown",
   "metadata": {},
   "source": [
    "<h1 style=\"font-weight:bold; color:orangered; border-bottom: 2px solid orangered\">1. Preliminaries</h1>"
   ]
  },
  {
   "cell_type": "markdown",
   "metadata": {},
   "source": [
    "<h2 style=\"font-weight:bold; color:dodgerblue; border-bottom: 1px solid dodgerblue; padding-left: 25px\">1.1 Referencing Libraries and Initialization</h2>"
   ]
  },
  {
   "cell_type": "markdown",
   "metadata": {},
   "source": [
    "If needed to reset the kernel, please run the following cell:"
   ]
  },
  {
   "cell_type": "code",
   "execution_count": 371,
   "metadata": {},
   "outputs": [],
   "source": [
    "#%reset -f"
   ]
  },
  {
   "cell_type": "markdown",
   "metadata": {},
   "source": [
    "Instantiating python libraries for the project"
   ]
  },
  {
   "cell_type": "code",
   "execution_count": 1,
   "metadata": {},
   "outputs": [],
   "source": [
    "# Import Python libraries\n",
    "import os, json, pytz, math, arcpy, arcgis\n",
    "from datetime import date, time, datetime, timedelta, tzinfo, timezone\n",
    "from arcpy import metadata as md\n",
    "\n",
    "# important as it \"enhances\" Pandas by importing these classes (from ArcGIS API for Python)\n",
    "from arcgis.features import GeoAccessor, GeoSeriesAccessor"
   ]
  },
  {
   "cell_type": "markdown",
   "metadata": {},
   "source": [
    "Which running environment this notebook is using? (1 = Visual Studio Code, 2 = ArcGIS Pro)"
   ]
  },
  {
   "cell_type": "code",
   "execution_count": 2,
   "metadata": {},
   "outputs": [],
   "source": [
    "runEnv = input(\"Enter the running environment (1=VSCode, 2=ArcGIS Pro): \")"
   ]
  },
  {
   "cell_type": "markdown",
   "metadata": {},
   "source": [
    "<h2 style=\"font-weight:bold; color:dodgerblue; border-bottom: 1px solid dodgerblue; padding-left: 25px\">1.2. Project and Workspace Variables</h2>"
   ]
  },
  {
   "cell_type": "markdown",
   "metadata": {},
   "source": [
    "Define and maitnain project, workspace, ArcGIS, and data-related variables"
   ]
  },
  {
   "cell_type": "markdown",
   "metadata": {},
   "source": [
    "<h3 style=\"font-weight:bold; color:lime; padding-left: 50px\">Project and Geodatabase Paths</h3>"
   ]
  },
  {
   "cell_type": "markdown",
   "metadata": {},
   "source": [
    "Define the ArcGIS pro project variables"
   ]
  },
  {
   "cell_type": "code",
   "execution_count": 3,
   "metadata": {},
   "outputs": [],
   "source": [
    "# Environment variable for OneDrive path\n",
    "onedriveFolder = os.getenv(\"OneDriveCommercial\")\n",
    "\n",
    "# OCSWITRS project path\n",
    "projectFolder = os.path.join(onedriveFolder, \"Documents\", \"OCSWITRS\")"
   ]
  },
  {
   "cell_type": "markdown",
   "metadata": {},
   "source": [
    "<h3 style=\"font-weight:bold; color:lime; padding-left: 50px\">ArcGIS Pro Paths</h3>"
   ]
  },
  {
   "cell_type": "markdown",
   "metadata": {},
   "source": [
    "ArcGIS pro related paths"
   ]
  },
  {
   "cell_type": "code",
   "execution_count": 4,
   "metadata": {},
   "outputs": [
    {
     "name": "stdout",
     "output_type": "stream",
     "text": [
      "Running in VSCode (project = aprxPath)\n"
     ]
    }
   ],
   "source": [
    "# OCSWITRS project AGP path\n",
    "agpFolder = os.path.join(projectFolder, \"AGPSWITRS\")\n",
    "\n",
    "# AGP APRX file name and path\n",
    "aprxName = \"AGPSWITRS.aprx\"\n",
    "aprxPath = os.path.join(agpFolder, aprxName)\n",
    "\n",
    "# ArcGIS Pro project geodatabase and path\n",
    "gdbName = \"AGPSWITRS.gdb\"\n",
    "gdbPath = os.path.join(agpFolder, gdbName)\n",
    "\n",
    "# ArcGIS pro project\n",
    "if runEnv == \"1\":  # VSCode\n",
    "    print(\"Running in VSCode (project = aprxPath)\")\n",
    "    aprx = arcpy.mp.ArcGISProject(aprxPath)\n",
    "elif runEnv == \"2\":  # ArcGIS Pro\n",
    "    print(\"Running in ArcGIS Pro (project = CURRENT)\")\n",
    "    aprx = arcpy.mp.ArcGISProject('CURRENT')\n",
    "\n",
    "# Close all map views\n",
    "aprx.closeViews()\n",
    "\n",
    "# Current ArcGIS workspace (arcpy)\n",
    "arcpy.env.workspace = gdbPath\n",
    "workspace = arcpy.env.workspace\n",
    "# Enable overwriting existing outputs\n",
    "arcpy.env.overwriteOutput = True\n",
    "# Disable adding outputs to map\n",
    "arcpy.env.addOutputsToMap = False"
   ]
  },
  {
   "cell_type": "markdown",
   "metadata": {},
   "source": [
    "<h3 style=\"font-weight:bold; color:lime; padding-left: 50px\">Folder Paths</h3>"
   ]
  },
  {
   "cell_type": "code",
   "execution_count": 5,
   "metadata": {},
   "outputs": [],
   "source": [
    "# Raw data folder path\n",
    "rawDataFolder = os.path.join(projectFolder, \"Data\", \"Raw\")\n",
    "\n",
    "# Maps folder path\n",
    "mapsFolder = os.path.join(projectFolder, \"Maps\")\n",
    "\n",
    "# Layers folder path\n",
    "layersFolder = os.path.join(projectFolder, \"Layers\")\n",
    "layersTemplates = os.path.join(layersFolder, \"Templates\")\n",
    "\n",
    "# Layouts folder path\n",
    "layoutsFolder = os.path.join(projectFolder, \"Layouts\")\n",
    "\n",
    "# Notebooks folder path\n",
    "notebooksFolder = os.path.join(projectFolder, \"Notebooks\")\n",
    "codebookPath = os.path.join(projectFolder, \"Data\", \"codebook\", \"cb.json\")"
   ]
  },
  {
   "cell_type": "markdown",
   "metadata": {},
   "source": [
    "Geodatabase feature datasets paths (directories)"
   ]
  },
  {
   "cell_type": "code",
   "execution_count": 6,
   "metadata": {},
   "outputs": [],
   "source": [
    "# RawData feature dataset in the geodatabase\n",
    "gdbRawData = os.path.join(gdbPath, \"RawData\")\n",
    "\n",
    "# RawData feature dataset in the geodatabase\n",
    "gdbSupportingData = os.path.join(gdbPath, \"SupportingData\")\n",
    "\n",
    "# AnalysisData feature dataset in the geodatabase\n",
    "gdbAnalysisData = os.path.join(gdbPath, \"AnalysisData\")\n",
    "\n",
    "# HotSpotData feature dataset in the geodatabase\n",
    "gdbHotspotData = os.path.join(gdbPath, \"HotSpotData\")"
   ]
  },
  {
   "cell_type": "markdown",
   "metadata": {},
   "source": [
    "<h3 style=\"font-weight:bold; color:lime; padding-left: 50px\">Data Folder Paths</h3>"
   ]
  },
  {
   "cell_type": "markdown",
   "metadata": {},
   "source": [
    "The most current raw data files cover the periods from 01/01/2013 to 09/30/2024. The data files are already processed in the R scripts and imported into the project's geodatabase."
   ]
  },
  {
   "cell_type": "code",
   "execution_count": 7,
   "metadata": {},
   "outputs": [],
   "source": [
    "# Add the start date of the raw data to a new python datetime object\n",
    "dateStart = datetime(2012, 1, 1, 0, 0, 0)\n",
    "\n",
    "# Add the end date of the raw data to a new python datetime object\n",
    "dateEnd = datetime(2024, 9, 30, 23, 59, 59)\n",
    "\n",
    "# Define time and date variables\n",
    "timeZone = pytz.timezone(\"US/Pacific\")\n",
    "today = datetime.now(timeZone)\n",
    "dateUpdated = today.strftime(\"%B %d, %Y\")\n",
    "timeUpdated = today.strftime(\"%I:%M %p\")"
   ]
  },
  {
   "cell_type": "markdown",
   "metadata": {},
   "source": [
    "Define date strings for metadata"
   ]
  },
  {
   "cell_type": "code",
   "execution_count": 8,
   "metadata": {},
   "outputs": [],
   "source": [
    "# String defining the years of the raw data\n",
    "mdYears = f\"{dateStart.year}-{dateEnd.year}\"\n",
    "\n",
    "# String defining the start and end dates of the raw data\n",
    "mdDates = f\"Data from {dateStart.strftime('%B %d, %Y')} to {dateEnd.strftime('%B %d, %Y')}\""
   ]
  },
  {
   "cell_type": "markdown",
   "metadata": {},
   "source": [
    "<h3 style=\"font-weight:bold; color:lime; padding-left: 50px\">Codebook</h3>"
   ]
  },
  {
   "cell_type": "code",
   "execution_count": 9,
   "metadata": {},
   "outputs": [],
   "source": [
    "# Load the JSON file from directory and store it in a variable\n",
    "with open(codebookPath) as jsonFile:\n",
    "    codebook = json.load(jsonFile)"
   ]
  },
  {
   "cell_type": "markdown",
   "metadata": {},
   "source": [
    "<h3 style=\"font-weight:bold; color:lime; padding-left: 50px\">JSON CIM Exports</h3>"
   ]
  },
  {
   "cell_type": "markdown",
   "metadata": {},
   "source": [
    "Creating a function to export the CIM JSON files to disk."
   ]
  },
  {
   "cell_type": "code",
   "execution_count": 10,
   "metadata": {},
   "outputs": [],
   "source": [
    "def exportCim(cimType, cimObject, cimName):\n",
    "    \"\"\"Export a CIM object to a file in both native (MAPX, PAGX, LYRX) and JSON CIM formats.\"\"\"\n",
    "    match cimType:\n",
    "        # When the CIM object is a map\n",
    "        case \"map\":\n",
    "            # Export the CIM object to a MAPX file\n",
    "            print(f\"Exporting {cimName} map to MAPX...\")\n",
    "            cimObject.exportToMAPX(os.path.join(mapsFolder, cimName+\".mapx\"))\n",
    "            print(arcpy.GetMessages())\n",
    "            \n",
    "            # Export the CIM object to a JSON file\n",
    "            print(f\"Exporting {cimName} map to JSON...\\n\")\n",
    "            with open(os.path.join(mapsFolder, cimName+\".mapx\"), \"r\") as f:\n",
    "                data = f.read()\n",
    "            with open(os.path.join(mapsFolder, cimName+\".json\"), \"w\") as f:\n",
    "                f.write(data)\n",
    "        \n",
    "        # When the CIM object is a layout\n",
    "        case \"layout\":\n",
    "            # Export the CIM object to a PAGX file\n",
    "            print(f\"Exporting {cimName} layout to PAGX...\")\n",
    "            cimObject.exportToPAGX(os.path.join(layoutsFolder, cimName+\".pagx\"))\n",
    "            print(arcpy.GetMessages())\n",
    "            \n",
    "            # Export the CIM object to a JSON file\n",
    "            print(f\"Exporting {cimName} layout to JSON...\\n\")\n",
    "            with open(os.path.join(layoutsFolder, cimName+\".pagx\"), \"r\") as f:\n",
    "                data = f.read()\n",
    "            with open(os.path.join(layoutsFolder, cimName+\".json\"), \"w\") as f:\n",
    "                f.write(data)\n",
    "        \n",
    "        # When the CIM object is a layer\n",
    "        case \"layer\":\n",
    "            # Export the CIM object to a LYRX file\n",
    "            print(f\"Exporting {cimName} layer to LYRX...\")\n",
    "            # Reformat the name of the output file\n",
    "            for m in aprx.listMaps():\n",
    "                for l in m.listLayers():\n",
    "                    if l == cimObject:\n",
    "                        cimNewName = m.name.title()+\"Map-\"+l.name.replace(\"OCSWITRS \", \"\")\n",
    "            # Save the layer to a LYRX file\n",
    "            arcpy.management.SaveToLayerFile(cimObject, os.path.join(layersFolder, cimNewName + \".lyrx\"))\n",
    "            print(arcpy.GetMessages())\n",
    "            \n",
    "            # Export the CIM object to a JSON file\n",
    "            print(f\"Exporting {cimName} layer to JSON...\\n\")\n",
    "            with open(os.path.join(layersFolder, cimNewName+\".lyrx\"), \"r\") as f:\n",
    "                data = f.read()\n",
    "            with open(os.path.join(layersFolder, cimNewName+\".json\"), \"w\") as f:\n",
    "                f.write(data)"
   ]
  },
  {
   "cell_type": "markdown",
   "metadata": {},
   "source": [
    "<h2 style=\"font-weight:bold; color:dodgerblue; border-bottom: 1px solid dodgerblue; padding-left: 25px\">1.3. ArcGIS Pro Workspace</h2>"
   ]
  },
  {
   "cell_type": "markdown",
   "metadata": {},
   "source": [
    "Set the workspace and environment settings for the ArcGIS Pro project"
   ]
  },
  {
   "cell_type": "code",
   "execution_count": 11,
   "metadata": {},
   "outputs": [],
   "source": [
    "# Set the workspace and environment to the root of the project geodatabase\n",
    "arcpy.env.workspace = gdbPath\n",
    "workspace = arcpy.env.workspace\n",
    "\n",
    "# Current ArcGIS workspace (arcpy)\n",
    "arcpy.env.workspace = gdbPath\n",
    "workspace = arcpy.env.workspace\n",
    "\n",
    "# Enable overwriting existing outputs\n",
    "arcpy.env.overwriteOutput = True\n",
    "\n",
    "# Disable adding outputs to map\n",
    "arcpy.env.addOutputsToMap = False"
   ]
  },
  {
   "cell_type": "markdown",
   "metadata": {},
   "source": [
    "<h2 style=\"font-weight:bold; color:dodgerblue; border-bottom: 1px solid dodgerblue; padding-left: 25px\">1.4. Map List</h2>"
   ]
  },
  {
   "cell_type": "markdown",
   "metadata": {},
   "source": [
    "<h3 style=\"font-weight:bold; color:lime; padding-left: 50px\">Project Maps</h3>"
   ]
  },
  {
   "cell_type": "code",
   "execution_count": 12,
   "metadata": {},
   "outputs": [],
   "source": [
    "# List of maps to be created for the project\n",
    "mapList = [\"collisions\", \"crashes\", \"parties\", \"victims\", \"injuries\", \"fatalities\", \"fhs100m1km\", \"fhs150m2km\", \"fhs100m5km\", \"fhsRoads500ft\", \"ohsRoads500ft\", \"roadCrashes\",\n",
    "           \"roadHotspots\", \"roadBuffers\", \"roadSegments\", \"roads\", \"pointFhs\", \"pointOhs\", \"popDens\", \"houDens\", \"areaCities\", \"areaBlocks\", \"summaries\", \"analysis\", \"regression\"]"
   ]
  },
  {
   "cell_type": "markdown",
   "metadata": {},
   "source": [
    "<h3 style=\"font-weight:bold; color:lime; padding-left: 50px\">Project Layouts</h3>"
   ]
  },
  {
   "cell_type": "code",
   "execution_count": 13,
   "metadata": {},
   "outputs": [],
   "source": [
    "# List or layouts to be created for the project\n",
    "layoutList = [\"maps\", \"injuries\", \"hotspots\", \"roads\", \"points\", \"densities\", \"areas\"]"
   ]
  },
  {
   "cell_type": "markdown",
   "metadata": {},
   "source": [
    "<h2 style=\"font-weight:bold; color:dodgerblue; border-bottom: 1px solid dodgerblue; padding-left: 25px\">1.5. Feature Class Definitions</h2>"
   ]
  },
  {
   "cell_type": "markdown",
   "metadata": {},
   "source": [
    "<h3 style=\"font-weight:bold; color:lime; padding-left: 50px\">Raw Data Feature Classes</h3>"
   ]
  },
  {
   "cell_type": "markdown",
   "metadata": {},
   "source": [
    "Define paths for the feature classes in the raw data feature dateset of the geodatabase"
   ]
  },
  {
   "cell_type": "code",
   "execution_count": 14,
   "metadata": {},
   "outputs": [],
   "source": [
    "collisions = os.path.join(gdbRawData, \"collisions\")\n",
    "crashes = os.path.join(gdbRawData, \"crashes\")\n",
    "parties = os.path.join(gdbRawData, \"parties\")\n",
    "victims = os.path.join(gdbRawData, \"victims\")"
   ]
  },
  {
   "cell_type": "markdown",
   "metadata": {},
   "source": [
    "<h3 style=\"font-weight:bold; color:lime; padding-left: 50px\">Supporting Data Feature Classes</h3>"
   ]
  },
  {
   "cell_type": "markdown",
   "metadata": {},
   "source": [
    "Define paths for the feature classes in the supporting data feature dateset of the geodatabase"
   ]
  },
  {
   "cell_type": "code",
   "execution_count": 15,
   "metadata": {},
   "outputs": [],
   "source": [
    "boundaries = os.path.join(gdbSupportingData, \"boundaries\")\n",
    "cities = os.path.join(gdbSupportingData, \"cities\")\n",
    "censusBlocks = os.path.join(gdbSupportingData, \"censusBlocks\")\n",
    "roads = os.path.join(gdbSupportingData, \"roads\")"
   ]
  },
  {
   "cell_type": "markdown",
   "metadata": {},
   "source": [
    "<h3 style=\"font-weight:bold; color:lime; padding-left: 50px\">Analysis Data Feature Classes</h3>"
   ]
  },
  {
   "cell_type": "markdown",
   "metadata": {},
   "source": [
    "Define paths for the feature classes in the analysis data feature dateset of the geodatabase"
   ]
  },
  {
   "cell_type": "code",
   "execution_count": 16,
   "metadata": {},
   "outputs": [],
   "source": [
    "roadsMajor = os.path.join(gdbAnalysisData, \"roadsMajor\")\n",
    "roadsMajorBuffers = os.path.join(gdbAnalysisData, \"roadsMajorBuffers\")\n",
    "roadsMajorBuffersSum = os.path.join(gdbAnalysisData, \"roadsMajorBuffersSum\")\n",
    "roadsMajorPointsAlongLines = os.path.join(gdbAnalysisData, \"roadsMajorPointsAlongLines\")\n",
    "roadsMajorSplit = os.path.join(gdbAnalysisData, \"roadsMajorSplit\")\n",
    "roadsMajorSplitBuffer = os.path.join(gdbAnalysisData, \"roadsMajorSplitBuffer\")\n",
    "roadsMajorSplitBufferSum = os.path.join(gdbAnalysisData, \"roadsMajorSplitBufferSum\")\n",
    "censusBlocksSum = os.path.join(gdbAnalysisData, \"censusBlocksSum\")\n",
    "citiesSum = os.path.join(gdbAnalysisData, \"citiesSum\")\n",
    "crashes500ftFromMajorRoads = os.path.join(gdbAnalysisData, \"crashes500ftFromMajorRoads\")"
   ]
  },
  {
   "cell_type": "markdown",
   "metadata": {},
   "source": [
    "<h3 style=\"font-weight:bold; color:lime; padding-left: 50px\">Hot Spot Data Feature Classes</h3>"
   ]
  },
  {
   "cell_type": "markdown",
   "metadata": {},
   "source": [
    "Define paths for the feature classes in the hot spot data feature dateset of the geodatabase"
   ]
  },
  {
   "cell_type": "code",
   "execution_count": 17,
   "metadata": {},
   "outputs": [],
   "source": [
    "crashesHotspots = os.path.join(gdbHotspotData, \"crashesHotspots\")\n",
    "crashesOptimizedHotspots = os.path.join(gdbHotspotData, \"crashesOptimizedHotspots\")\n",
    "crashesFindHotspots100m1km = os.path.join(gdbHotspotData, \"crashesFindHotspots100m1km\")\n",
    "crashesFindHotspots150m2km = os.path.join(gdbHotspotData, \"crashesFindHotspots150m2km\")\n",
    "crashesFindHotspots100m5km = os.path.join(gdbHotspotData, \"crashesFindHotspots100m5km\")\n",
    "crashesHotspots500ftFromMajorRoads = os.path.join(gdbHotspotData, \"crashesHotspots500ftFromMajorRoads\")\n",
    "crashesFindHotspots500ftMajorRoads500ft1mi = os.path.join(gdbHotspotData, \"crashesFindHotspots500ftMajorRoads500ft1mi\")"
   ]
  },
  {
   "cell_type": "markdown",
   "metadata": {},
   "source": [
    "<h1 style=\"font-weight:bold; color:orangered; border-bottom: 2px solid orangered\">2. Project Maps</h1>"
   ]
  },
  {
   "cell_type": "markdown",
   "metadata": {},
   "source": [
    "<h2 style=\"font-weight:bold; color:dodgerblue; border-bottom: 1px solid dodgerblue; padding-left: 25px\">2.1. Setup Maps</h2>"
   ]
  },
  {
   "cell_type": "markdown",
   "metadata": {},
   "source": [
    "<h3 style=\"font-weight:bold; color:lime; padding-left: 50px\">Remove Old Maps</h3>"
   ]
  },
  {
   "cell_type": "markdown",
   "metadata": {},
   "source": [
    "First delete all raw data maps from ArcGIS pro current project"
   ]
  },
  {
   "cell_type": "code",
   "execution_count": 18,
   "metadata": {},
   "outputs": [
    {
     "name": "stdout",
     "output_type": "stream",
     "text": [
      "Removing analysis map from the project...\n",
      "Removing areaBlocks map from the project...\n",
      "Removing areaCities map from the project...\n",
      "Removing collisions map from the project...\n",
      "Removing crashes map from the project...\n",
      "Removing fatalities map from the project...\n",
      "Removing fhs100m1km map from the project...\n",
      "Removing fhs100m5km map from the project...\n",
      "Removing fhs150m2km map from the project...\n",
      "Removing fhsRoads500ft map from the project...\n",
      "Removing houDens map from the project...\n",
      "Removing injuries map from the project...\n",
      "Removing ohsRoads500ft map from the project...\n",
      "Removing parties map from the project...\n",
      "Removing pointFhs map from the project...\n",
      "Removing pointOhs map from the project...\n",
      "Removing popDens map from the project...\n",
      "Removing regression map from the project...\n",
      "Removing roadBuffers map from the project...\n",
      "Removing roadCrashes map from the project...\n",
      "Removing roadHotspots map from the project...\n",
      "Removing roads map from the project...\n",
      "Removing roadSegments map from the project...\n",
      "Removing summaries map from the project...\n",
      "Removing victims map from the project...\n"
     ]
    }
   ],
   "source": [
    "if aprx.listMaps():\n",
    "    for m in aprx.listMaps():\n",
    "        if m.name in mapList:\n",
    "            print(f\"Removing {m.name} map from the project...\")\n",
    "            aprx.deleteItem(m)\n",
    "        else:\n",
    "            print(f\"Map {m.name} is not in the list of maps to be created.\")\n",
    "else:\n",
    "    print(\"No maps are currently in the project.\")"
   ]
  },
  {
   "cell_type": "markdown",
   "metadata": {},
   "source": [
    "<h3 style=\"font-weight:bold; color:lime; padding-left: 50px\">Create New Maps</h3>"
   ]
  },
  {
   "cell_type": "markdown",
   "metadata": {},
   "source": [
    "Create new raw data maps in current ArcGIS Pro project"
   ]
  },
  {
   "cell_type": "code",
   "execution_count": 19,
   "metadata": {},
   "outputs": [
    {
     "name": "stdout",
     "output_type": "stream",
     "text": [
      "Creating map 1: collisions\n",
      "Creating map 2: crashes\n",
      "Creating map 3: parties\n",
      "Creating map 4: victims\n",
      "Creating map 5: injuries\n",
      "Creating map 6: fatalities\n",
      "Creating map 7: fhs100m1km\n",
      "Creating map 8: fhs150m2km\n",
      "Creating map 9: fhs100m5km\n",
      "Creating map 10: fhsRoads500ft\n",
      "Creating map 11: ohsRoads500ft\n",
      "Creating map 12: roadCrashes\n",
      "Creating map 13: roadHotspots\n",
      "Creating map 14: roadBuffers\n",
      "Creating map 15: roadSegments\n",
      "Creating map 16: roads\n",
      "Creating map 17: pointFhs\n",
      "Creating map 18: pointOhs\n",
      "Creating map 19: popDens\n",
      "Creating map 20: houDens\n",
      "Creating map 21: areaCities\n",
      "Creating map 22: areaBlocks\n",
      "Creating map 23: summaries\n",
      "Creating map 24: analysis\n",
      "Creating map 25: regression\n"
     ]
    }
   ],
   "source": [
    "# for each of the maps in the list, if it exists, delete it\n",
    "c = 1\n",
    "for m in mapList:\n",
    "    for i in aprx.listMaps():\n",
    "        if i.name == m:\n",
    "            print(f\"Deleting map: {m}\")\n",
    "            aprx.deleteItem(i)\n",
    "    # Create new maps\n",
    "    print(f\"Creating map {c}: {m}\")\n",
    "    aprx.createMap(m)\n",
    "    c += 1"
   ]
  },
  {
   "cell_type": "markdown",
   "metadata": {},
   "source": [
    "Store the map objects in variables"
   ]
  },
  {
   "cell_type": "code",
   "execution_count": 20,
   "metadata": {},
   "outputs": [],
   "source": [
    "# OCSWITRS Data Maps\n",
    "mapCollisions = aprx.listMaps(\"collisions\")[0]\n",
    "mapCrashes = aprx.listMaps(\"crashes\")[0]\n",
    "mapParties = aprx.listMaps(\"parties\")[0]\n",
    "mapVictims = aprx.listMaps(\"victims\")[0]\n",
    "mapInjuries = aprx.listMaps(\"injuries\")[0]\n",
    "mapFatalities = aprx.listMaps(\"fatalities\")[0]\n",
    "\n",
    "# OCSWITRS Hotspot Maps\n",
    "mapFhs100m1km = aprx.listMaps(\"fhs100m1km\")[0]\n",
    "mapFhs150m2km = aprx.listMaps(\"fhs150m2km\")[0]\n",
    "mapFhs100m5km = aprx.listMaps(\"fhs100m5km\")[0]\n",
    "mapFhsRoads500ft = aprx.listMaps(\"fhsRoads500ft\")[0]\n",
    "mapOhsRoads500ft = aprx.listMaps(\"ohsRoads500ft\")[0]\n",
    "mapPointFhs = aprx.listMaps(\"pointFhs\")[0]\n",
    "mapPointOhs = aprx.listMaps(\"pointOhs\")[0]\n",
    "\n",
    "# OCSWITRS Supporting Data Maps\n",
    "mapRoads = aprx.listMaps(\"roads\")[0]\n",
    "mapRoadCrashes = aprx.listMaps(\"roadCrashes\")[0]\n",
    "mapRoadHotspots = aprx.listMaps(\"roadHotspots\")[0]\n",
    "mapRoadBuffers = aprx.listMaps(\"roadBuffers\")[0]\n",
    "mapRoadSegments = aprx.listMaps(\"roadSegments\")[0]\n",
    "mapPopDens = aprx.listMaps(\"popDens\")[0]\n",
    "mapHouDens = aprx.listMaps(\"houDens\")[0]\n",
    "mapAreaCities = aprx.listMaps(\"areaCities\")[0]\n",
    "mapAreaBlocks = aprx.listMaps(\"areaBlocks\")[0]\n",
    "\n",
    "# OCSWITRS Analysis and Processing Maps\n",
    "mapSummaries = aprx.listMaps(\"summaries\")[0]\n",
    "mapAnalysis = aprx.listMaps(\"analysis\")[0]\n",
    "mapRegression = aprx.listMaps(\"regression\")[0]"
   ]
  },
  {
   "cell_type": "markdown",
   "metadata": {},
   "source": [
    "<h3 style=\"font-weight:bold; color:lime; padding-left: 50px\">Change Map Basemaps</h3>"
   ]
  },
  {
   "cell_type": "markdown",
   "metadata": {},
   "source": [
    "For each map, replace the existing basemap (\"Topographic\") with the \"Dark Gray Canvas\" basemap"
   ]
  },
  {
   "cell_type": "code",
   "execution_count": 21,
   "metadata": {},
   "outputs": [
    {
     "name": "stdout",
     "output_type": "stream",
     "text": [
      "Map: analysis\n",
      "  - Removing Basemap: Topographic\n",
      "  - Adding Basemap: Light Gray Canvas\n",
      "Map: areaBlocks\n",
      "  - Removing Basemap: Topographic\n",
      "  - Adding Basemap: Light Gray Canvas\n",
      "Map: areaCities\n",
      "  - Removing Basemap: Topographic\n",
      "  - Adding Basemap: Light Gray Canvas\n",
      "Map: collisions\n",
      "  - Removing Basemap: Topographic\n",
      "  - Adding Basemap: Light Gray Canvas\n",
      "Map: crashes\n",
      "  - Removing Basemap: Topographic\n",
      "  - Adding Basemap: Light Gray Canvas\n",
      "Map: fatalities\n",
      "  - Removing Basemap: Topographic\n",
      "  - Adding Basemap: Light Gray Canvas\n",
      "Map: fhs100m1km\n",
      "  - Removing Basemap: Topographic\n",
      "  - Adding Basemap: Light Gray Canvas\n",
      "Map: fhs100m5km\n",
      "  - Removing Basemap: Topographic\n",
      "  - Adding Basemap: Light Gray Canvas\n",
      "Map: fhs150m2km\n",
      "  - Removing Basemap: Topographic\n",
      "  - Adding Basemap: Light Gray Canvas\n",
      "Map: fhsRoads500ft\n",
      "  - Removing Basemap: Topographic\n",
      "  - Adding Basemap: Light Gray Canvas\n",
      "Map: houDens\n",
      "  - Removing Basemap: Topographic\n",
      "  - Adding Basemap: Light Gray Canvas\n",
      "Map: injuries\n",
      "  - Removing Basemap: Topographic\n",
      "  - Adding Basemap: Light Gray Canvas\n",
      "Map: ohsRoads500ft\n",
      "  - Removing Basemap: Topographic\n",
      "  - Adding Basemap: Light Gray Canvas\n",
      "Map: parties\n",
      "  - Removing Basemap: Topographic\n",
      "  - Adding Basemap: Light Gray Canvas\n",
      "Map: pointFhs\n",
      "  - Removing Basemap: Topographic\n",
      "  - Adding Basemap: Light Gray Canvas\n",
      "Map: pointOhs\n",
      "  - Removing Basemap: Topographic\n",
      "  - Adding Basemap: Light Gray Canvas\n",
      "Map: popDens\n",
      "  - Removing Basemap: Topographic\n",
      "  - Adding Basemap: Light Gray Canvas\n",
      "Map: regression\n",
      "  - Removing Basemap: Topographic\n",
      "  - Adding Basemap: Light Gray Canvas\n",
      "Map: roadBuffers\n",
      "  - Removing Basemap: Topographic\n",
      "  - Adding Basemap: Light Gray Canvas\n",
      "Map: roadCrashes\n",
      "  - Removing Basemap: Topographic\n",
      "  - Adding Basemap: Light Gray Canvas\n",
      "Map: roadHotspots\n",
      "  - Removing Basemap: Topographic\n",
      "  - Adding Basemap: Light Gray Canvas\n",
      "Map: roads\n",
      "  - Removing Basemap: Topographic\n",
      "  - Adding Basemap: Light Gray Canvas\n",
      "Map: roadSegments\n",
      "  - Removing Basemap: Topographic\n",
      "  - Adding Basemap: Light Gray Canvas\n",
      "Map: summaries\n",
      "  - Removing Basemap: Topographic\n",
      "  - Adding Basemap: Light Gray Canvas\n",
      "Map: victims\n",
      "  - Removing Basemap: Topographic\n",
      "  - Adding Basemap: Light Gray Canvas\n"
     ]
    }
   ],
   "source": [
    "for m in aprx.listMaps():\n",
    "    print(f\"Map: {m.name}\")\n",
    "    for l in m.listLayers():\n",
    "        if l.isBasemapLayer:\n",
    "            print(f\"  - Removing Basemap: {l.name}\")\n",
    "            m.removeLayer(l)\n",
    "    print(f\"  - Adding Basemap: Light Gray Canvas\")\n",
    "    m.addBasemap(\"Light Gray Canvas\")"
   ]
  },
  {
   "cell_type": "markdown",
   "metadata": {},
   "source": [
    "Turn off the basemap reference layer for all maps"
   ]
  },
  {
   "cell_type": "code",
   "execution_count": 22,
   "metadata": {},
   "outputs": [
    {
     "name": "stdout",
     "output_type": "stream",
     "text": [
      "Map: analysis\n",
      "Map: areaBlocks\n",
      "Map: areaCities\n",
      "Map: collisions\n",
      "Map: crashes\n",
      "Map: fatalities\n",
      "Map: fhs100m1km\n",
      "Map: fhs100m5km\n",
      "Map: fhs150m2km\n",
      "Map: fhsRoads500ft\n",
      "Map: houDens\n",
      "Map: injuries\n",
      "Map: ohsRoads500ft\n",
      "Map: parties\n",
      "Map: pointFhs\n",
      "Map: pointOhs\n",
      "Map: popDens\n",
      "Map: regression\n",
      "Map: roadBuffers\n",
      "Map: roadCrashes\n",
      "Map: roadHotspots\n",
      "Map: roads\n",
      "Map: roadSegments\n",
      "Map: summaries\n",
      "Map: victims\n"
     ]
    }
   ],
   "source": [
    "for m in aprx.listMaps():\n",
    "    print(f\"Map: {m.name}\")\n",
    "    for l in m.listLayers():\n",
    "        if l.name == \"Light Gray Reference\":\n",
    "            l.visible = False"
   ]
  },
  {
   "cell_type": "markdown",
   "metadata": {},
   "source": [
    "<h2 style=\"font-weight:bold; color:dodgerblue; border-bottom: 1px solid dodgerblue; padding-left: 25px\">2.2. Map Metadata</h2>"
   ]
  },
  {
   "cell_type": "markdown",
   "metadata": {},
   "source": [
    "<h3 style=\"font-weight:bold; color:lime; padding-left: 50px\">1. Collisions Map Metadata</h3>"
   ]
  },
  {
   "cell_type": "markdown",
   "metadata": {},
   "source": [
    "Create a new metadata object for the collisions map and assign it to the map"
   ]
  },
  {
   "cell_type": "code",
   "execution_count": 23,
   "metadata": {},
   "outputs": [],
   "source": [
    "mdoMapCollisions = md.Metadata()\n",
    "mdoMapCollisions.title = \"OCSWITRS Collisions Map\"\n",
    "mdoMapCollisions.tags = \"Orange County, California, Traffic, Traffic Conditions, Crashes, Collisions, Road Safety, Accidents, SWITRS, OCSWITRS, Transporation\"\n",
    "mdoMapCollisions.summary = f\"Statewide Integrated Traffic Records System (SWITRS) Collisions Map for Orange County, California ({mdYears})\"\n",
    "mdoMapCollisions.description = f\"\"\"<div style=\"text-align:Left;\"><div><div><p><span style=\"font-weight:bold;\">Statewide Integrated Traffic Records System (SWITRS)</span><span> location point data, containing </span><span style=\"font-weight:bold;\">combined reports on collision crashes, parties, and victims</span><span> in Orange County, California for {mdYears} ({mdDates}). The data are collected and maintained by the </span><a href=\"https://www.chp.ca.gov:443/\" style=\"text-decoration:underline;\"><span>California Highway Patrol (CHP)</span></a><span>, from incidents reported by local and government agencies. Original tabular datasets are provided by the </span><a href=\"https://tims.berkeley.edu:443/\" style=\"text-decoration:underline;\"><span>Transportation Injury Mapping System (TIMS)</span></a><span>. Only records with reported locational GPS attributes in Orange County are included in the spatial database (either from X and Y geocoded coordinates, or the longitude and latitude coordinates generated by the CHP officer on site). Incidents without valid coordinates are omitted from this spatial dataset representation. Last Updated on <b>{dateUpdated}</b></span></p></div></div></div>\"\"\"\n",
    "mdoMapCollisions.credits = \"Dr. Kostas Alexandridis, GISP, Data Scientist, OC Public Works, OC Survey Geospatial Services\"\n",
    "mdoMapCollisions.accessConstraints = \"\"\"<div style=\"text-align:Left;\"><p><span>The SWITRS data displayed are provided by the California Highway Patrol (CHP) reports through the Transportation Injury Mapping System (TIMS) of the University of California, Berkeley. Issues of report accuracy should be addressed to CHP.</span></p><p>The displayed mapped data can be used under a <a href=\"https://creativecommons.org/licenses/by-sa/3.0/\" target=\"_blank\">Creative Commons CC-SA-BY</a> License, providing attribution to TIMS, CHP, and OC Public Works, OC Survey Geospatial Services. </p><div>We make every effort to provide the most accurate and up-to-date data and information. Nevertheless, the data feed is provided, 'as is' and OC Public Work's standard <a href=\"https://www.ocgov.com/contact-county/disclaimer\" target=\"_blank\">Disclaimer</a> applies.<br /></div><div><br /></div><div>For any inquiries, suggestions or questions, please contact:</div><div><br /></div><div style=\"text-align:center;\"><a href=\"https://www.linkedin.com/in/ktalexan/\" target=\"_blank\"><b>Dr. Kostas Alexandridis, GISP</b></a><br /></div><div style=\"text-align:center;\">GIS Analyst | Spatial Complex Systems Scientist</div><div style=\"text-align:center;\">OC Public Works/OC Survey Geospatial Applications</div><div style=\"text-align:center;\"><div>601 N. Ross Street, P.O. Box 4048, Santa Ana, CA 92701</div><div>Email: <a href=\"mailto:kostas.alexandridis@ocpw.ocgov.com\" target=\"_blank\">kostas.alexandridis@ocpw.ocgov.com</a> | Phone: (714) 967-0826</div><div><br /></div></div></div>\"\"\"\n",
    "mdoMapCollisions.thumbnailUri = \"https://ocpw.maps.arcgis.com/sharing/rest/content/items/6b96b7d6d5394cbb95aa2fae390503a9/data\"\n",
    "\n",
    "# Apply the metadata to the map\n",
    "mapCollisions.metadata = mdoMapCollisions"
   ]
  },
  {
   "cell_type": "markdown",
   "metadata": {},
   "source": [
    "<h3 style=\"font-weight:bold; color:lime; padding-left: 50px\">2. Crashes Map Metadata</h3>"
   ]
  },
  {
   "cell_type": "markdown",
   "metadata": {},
   "source": [
    "Create a new metadata object for the crashes map and assign it to the map"
   ]
  },
  {
   "cell_type": "code",
   "execution_count": 24,
   "metadata": {},
   "outputs": [],
   "source": [
    "mdoMapCrashes = md.Metadata()\n",
    "mdoMapCrashes.title = \"OCSWITRS Crashes Map\"\n",
    "mdoMapCrashes.tags = \"Orange County, California, Traffic, Traffic Conditions, Crashes, Collisions, Road Safety, Accidents, SWITRS, OCSWITRS, Transportation\"\n",
    "mdoMapCrashes.summary = f\"Statewide Integrated Traffic Records System (SWITRS) Crashes Map for Orange County, California ({mdYears})\"\n",
    "mdoMapCrashes.description = f\"\"\"<div style=\"text-align:Left;\"><div><div><p><span style=\"font-weight:bold;\">Statewide Integrated Traffic Records System (SWITRS)</span><span> location point data, containing </span><span style=\"font-weight:bold;\">reports on crashes</span><span> in Orange County, California for {mdYears} ({mdDates}). The data are collected and maintained by the </span><a href=\"https://www.chp.ca.gov:443/\" style=\"text-decoration:underline;\"><span>California Highway Patrol (CHP)</span></a><span>, from incidents reported by local and government agencies. Original tabular datasets are provided by the </span><a href=\"https://tims.berkeley.edu:443/\" style=\"text-decoration:underline;\"><span>Transportation Injury Mapping System (TIMS)</span></a><span>. Only records with reported locational GPS attributes in Orange County are included in the spatial database (either from X and Y geocoded coordinates, or the longitude and latitude coordinates generated by the CHP officer on site). Incidents without valid coordinates are omitted from this spatial dataset representation. Last Updated on <b>{dateUpdated}</b></span></p></div></div></div>\"\"\"\n",
    "mdoMapCrashes.credits = \"Dr. Kostas Alexandridis, GISP, Data Scientist, OC Public Works, OC Survey Geospatial Services\"\n",
    "mdoMapCrashes.accessConstraints = \"\"\"<div style=\"text-align:Left;\"><p><span>The SWITRS data displayed are provided by the California Highway Patrol (CHP) reports through the Transportation Injury Mapping System (TIMS) of the University of California, Berkeley. Issues of report accuracy should be addressed to CHP.</span></p><p>The displayed mapped data can be used under a <a href=\"https://creativecommons.org/licenses/by-sa/3.0/\" target=\"_blank\">Creative Commons CC-SA-BY</a> License, providing attribution to TIMS, CHP, and OC Public Works, OC Survey Geospatial Services. </p><div>We make every effort to provide the most accurate and up-to-date data and information. Nevertheless, the data feed is provided, 'as is' and OC Public Work's standard <a href=\"https://www.ocgov.com/contact-county/disclaimer\" target=\"_blank\">Disclaimer</a> applies.<br /></div><div><br /></div><div>For any inquiries, suggestions or questions, please contact:</div><div><br /></div><div style=\"text-align:center;\"><a href=\"https://www.linkedin.com/in/ktalexan/\" target=\"_blank\"><b>Dr. Kostas Alexandridis, GISP</b></a><br /></div><div style=\"text-align:center;\">GIS Analyst | Spatial Complex Systems Scientist</div><div style=\"text-align:center;\">OC Public Works/OC Survey Geospatial Applications</div><div style=\"text-align:center;\"><div>601 N. Ross Street, P.O. Box 4048, Santa Ana, CA 92701</div><div>Email: <a href=\"mailto:kostas.alexandridis@ocpw.ocgov.com\" target=\"_blank\">kostas.alexandridis@ocpw.ocgov.com</a> | Phone: (714) 967-0826</div><div><br /></div></div></div>\"\"\"\n",
    "mdoMapCrashes.thumbnailUri = \"https://ocpw.maps.arcgis.com/sharing/rest/content/items/6b96b7d6d5394cbb95aa2fae390503a9/data\"\n",
    "\n",
    "# Apply the metadata to the map\n",
    "mapCrashes.metadata = mdoMapCrashes"
   ]
  },
  {
   "cell_type": "markdown",
   "metadata": {},
   "source": [
    "<h3 style=\"font-weight:bold; color:lime; padding-left: 50px\">3. Parties Map Metadata</h3>"
   ]
  },
  {
   "cell_type": "markdown",
   "metadata": {},
   "source": [
    "Create a new metadata object for the parties map and assign it to the map"
   ]
  },
  {
   "cell_type": "code",
   "execution_count": 25,
   "metadata": {},
   "outputs": [],
   "source": [
    "mdoMapParties = md.Metadata()\n",
    "mdoMapParties.title = \"OCSWITRS Parties Map\"\n",
    "mdoMapParties.tags = \"Orange County, California, Traffic, Traffic Conditions, Crashes, Parties, Collisions, Road Safety, Accidents, SWITRS, OCSWITRS, Transportation\"\n",
    "mdoMapParties.summary = f\"Statewide Integrated Traffic Records System (SWITRS) Incident-Involved Parties Data for Orange County, California ({mdYears})\"\n",
    "mdoMapParties.description = f\"\"\"<div style=\"text-align:Left;\"><div><div><p><span style=\"font-weight:bold;\">Statewide Integrated Traffic Records System (SWITRS)</span><span> location point data, containing </span><span style=\"font-weight:bold;\">reports on parties involved in crash incidents</span><span> in Orange County, California for {mdYears} ({mdDates}). The data are collected and maintained by the </span><a href=\"https://www.chp.ca.gov:443/\" style=\"text-decoration:underline;\"><span>California Highway Patrol (CHP)</span></a><span>, from incidents reported by local and government agencies. Original tabular datasets are provided by the </span><a href=\"https://tims.berkeley.edu:443/\" style=\"text-decoration:underline;\"><span>Transportation Injury Mapping System (TIMS)</span></a><span>. Only records with reported locational GPS attributes in Orange County are included in the spatial database (either from X and Y geocoded coordinates, or the longitude and latitude coordinates generated by the CHP officer on site). Incidents without valid coordinates are omitted from this spatial dataset representation. Last Updated on <b>{dateUpdated}</b></span></p></div></div></div>\"\"\"\n",
    "mdoMapParties_credits = \"Dr. Kostas Alexandridis, GISP, Data Scientist, OC Public Works, OC Survey Geospatial Services\"\n",
    "mdoMapParties.accessConstraints = \"\"\"<div style=\"text-align:Left;\"><p><span>The SWITRS data displayed are provided by the California Highway Patrol (CHP) reports through the Transportation Injury Mapping System (TIMS) of the University of California, Berkeley. Issues of report accuracy should be addressed to CHP.</span></p><p>The displayed mapped data can be used under a <a href=\"https://creativecommons.org/licenses/by-sa/3.0/\" target=\"_blank\">Creative Commons CC-SA-BY</a> License, providing attribution to TIMS, CHP, and OC Public Works, OC Survey Geospatial Services. </p><div>We make every effort to provide the most accurate and up-to-date data and information. Nevertheless, the data feed is provided, 'as is' and OC Public Work's standard <a href=\"https://www.ocgov.com/contact-county/disclaimer\" target=\"_blank\">Disclaimer</a> applies.<br /></div><div><br /></div><div>For any inquiries, suggestions or questions, please contact:</div><div><br /></div><div style=\"text-align:center;\"><a href=\"https://www.linkedin.com/in/ktalexan/\" target=\"_blank\"><b>Dr. Kostas Alexandridis, GISP</b></a><br /></div><div style=\"text-align:center;\">GIS Analyst | Spatial Complex Systems Scientist</div><div style=\"text-align:center;\">OC Public Works/OC Survey Geospatial Applications</div><div style=\"text-align:center;\"><div>601 N. Ross Street, P.O. Box 4048, Santa Ana, CA 92701</div><div>Email: <a href=\"mailto:kostas.alexandridis@ocpw.ocgov.com\" target=\"_blank\">kostas.alexandridis@ocpw.ocgov.com</a> | Phone: (714) 967-0826</div><div><br /></div></div></div>\"\"\"\n",
    "mdoMapParties.thumbnailUri = \"https://ocpw.maps.arcgis.com/sharing/rest/content/items/1e07bb1002f9457fa6fd3540fdb08e29/data\"\n",
    "\n",
    "# Apply the metadata to the map\n",
    "mapParties.metadata = mdoMapParties"
   ]
  },
  {
   "cell_type": "markdown",
   "metadata": {},
   "source": [
    "<h3 style=\"font-weight:bold; color:lime; padding-left: 50px\">4. Victims Map Metadata</h3>"
   ]
  },
  {
   "cell_type": "markdown",
   "metadata": {},
   "source": [
    "Create a new metadata object for the victims map and assign it to the map"
   ]
  },
  {
   "cell_type": "code",
   "execution_count": 26,
   "metadata": {},
   "outputs": [],
   "source": [
    "mdoMapVictims = md.Metadata()\n",
    "mdoMapVictims.title = \"OCSWITRS Victims Map\"\n",
    "mdoMapVictims.tags = \"Orange County, California, Traffic, Traffic Conditions, Crashes, Victims, Collisions, Road Safety, Accidents, SWITRS, OCSWITRS, Transportation\"\n",
    "mdoMapVictims.summary = f\"Statewide Integrated Traffic Records System (SWITRS) Incident-Involved Victims Data for Orange County, California ({mdYears})\"\n",
    "mdoMapVictims.description = f\"\"\"<div style=\"text-align:Left;\"><div><div><p><span style=\"font-weight:bold;\">Statewide Integrated Traffic Records System (SWITRS)</span><span> location point data, containing </span><span style=\"font-weight:bold;\">reports on victims/persons involved in crash incidents</span><span> in Orange County, California for {mdYears} ({mdDates}). The data are collected and maintained by the </span><a href=\"https://www.chp.ca.gov:443/\" style=\"text-decoration:underline;\"><span>California Highway Patrol (CHP)</span></a><span>, from incidents reported by local and government agencies. Original tabular datasets are provided by the </span><a href=\"https://tims.berkeley.edu:443/\" style=\"text-decoration:underline;\"><span>Transportation Injury Mapping System (TIMS)</span></a><span>. Only records with reported locational GPS attributes in Orange County are included in the spatial database (either from X and Y geocoded coordinates, or the longitude and latitude coordinates generated by the CHP officer on site). Incidents without valid coordinates are omitted from this spatial dataset representation. Last Updated on <b>{dateUpdated}</b></span></p></div></div></div>\"\"\"\n",
    "mdoMapVictims.credits = \"Dr. Kostas Alexandridis, GISP, Data Scientist, OC Public Works, OC Survey Geospatial Services\"\n",
    "mdoMapVictims.accessConstraints = \"\"\"<div style=\"text-align:Left;\"><p><span>The SWITRS data displayed are provided by the California Highway Patrol (CHP) reports through the Transportation Injury Mapping System (TIMS) of the University of California, Berkeley. Issues of report accuracy should be addressed to CHP.</span></p><p>The displayed mapped data can be used under a <a href=\"https://creativecommons.org/licenses/by-sa/3.0/\" target=\"_blank\">Creative Commons CC-SA-BY</a> License, providing attribution to TIMS, CHP, and OC Public Works, OC Survey Geospatial Services. </p><div>We make every effort to provide the most accurate and up-to-date data and information. Nevertheless, the data feed is provided, 'as is' and OC Public Work's standard <a href=\"https://www.ocgov.com/contact-county/disclaimer\" target=\"_blank\">Disclaimer</a> applies.<br /></div><div><br /></div><div>For any inquiries, suggestions or questions, please contact:</div><div><br /></div><div style=\"text-align:center;\"><a href=\"https://www.linkedin.com/in/ktalexan/\" target=\"_blank\"><b>Dr. Kostas Alexandridis, GISP</b></a><br /></div><div style=\"text-align:center;\">GIS Analyst | Spatial Complex Systems Scientist</div><div style=\"text-align:center;\">OC Public Works/OC Survey Geospatial Applications</div><div style=\"text-align:center;\"><div>601 N. Ross Street, P.O. Box 4048, Santa Ana, CA 92701</div><div>Email: <a href=\"mailto:kostas.alexandridis@ocpw.ocgov.com\" target=\"_blank\">kostas.alexandridis@ocpw.ocgov.com</a> | Phone: (714) 967-0826</div><div><br /></div></div></div>\"\"\"\n",
    "mdoMapVictims.thumbnailUri = \"https://ocpw.maps.arcgis.com/sharing/rest/content/items/78682395df4744009c58625f1db0c25b/data\"\n",
    "\n",
    "# Apply the metadata to the map\n",
    "mapVictims.metadata = mdoMapVictims"
   ]
  },
  {
   "cell_type": "markdown",
   "metadata": {},
   "source": [
    "<h3 style=\"font-weight:bold; color:lime; padding-left: 50px\">5. Injuries Map Metadata</h3>"
   ]
  },
  {
   "cell_type": "markdown",
   "metadata": {},
   "source": [
    "Create a new metadata object for the injuries map and assign it to the map"
   ]
  },
  {
   "cell_type": "code",
   "execution_count": 27,
   "metadata": {},
   "outputs": [],
   "source": [
    "mdoMapInjuries = md.Metadata()\n",
    "mdoMapInjuries.title = \"OCSWITRS Injuries Map\"\n",
    "mdoMapInjuries.tags = \"Orange County, California, Traffic, Traffic Conditions, Crashes, Injuries, Collisions, Road Safety, Accidents, SWITRS, OCSWITRS, Transportation\"\n",
    "mdoMapInjuries.summary = f\"Statewide Integrated Traffic Records System (SWITRS) Incident-Involved Injuries Data for Orange County, California ({mdYears})\"\n",
    "mdoMapInjuries.description = f\"\"\"<div style=\"text-align:Left;\"><div><div><p><span style=\"font-weight:bold;\">Statewide Integrated Traffic Records System (SWITRS)</span><span> location point data, containing </span><span style=\"font-weight:bold;\">reports on injuries sustained by victims in crash incidents</span><span> in Orange County, California for {mdYears} ({mdDates}). The data are collected and maintained by the </span><a href=\"https://www.chp.ca.gov:443/\" style=\"text-decoration:underline;\"><span>California Highway Patrol (CHP)</span></a><span>, from incidents reported by local and government agencies. Original tabular datasets are provided by the </span><a href=\"https://tims.berkeley.edu:443/\" style=\"text-decoration:underline;\"><span>Transportation Injury Mapping System (TIMS)</span></a><span>. Only records with reported locational GPS attributes in Orange County are included in the spatial database (either from X and Y geocoded coordinates, or the longitude and latitude coordinates generated by the CHP officer on site). Incidents without valid coordinates are omitted from this spatial dataset representation. Last Updated on <b>{dateUpdated}</b></span></p></div></div></div>\"\"\"\n",
    "mdoMapInjuries.credits = \"Dr. Kostas Alexandridis, GISP, Data Scientist, OC Public Works, OC Survey Geospatial Services\"\n",
    "mdoMapInjuries.accessConstraints = \"\"\"<div style=\"text-align:Left;\"><p><span>The SWITRS data displayed are provided by the California Highway Patrol (CHP) reports through the Transportation Injury Mapping System (TIMS) of the University of California, Berkeley. Issues of report accuracy should be addressed to CHP.</span></p><p>The displayed mapped data can be used under a <a href=\"https://creativecommons.org/licenses/by-sa/3.0/\" target=\"_blank\">Creative Commons CC-SA-BY</a> License, providing attribution to TIMS, CHP, and OC Public Works, OC Survey Geospatial Services. </p><div>We make every effort to provide the most accurate and up-to-date data and information. Nevertheless, the data feed is provided, 'as is' and OC Public Work's standard <a href=\"https://www.ocgov.com/contact-county/disclaimer\" target=\"_blank\">Disclaimer</a> applies.<br /></div><div><br /></div><div>For any inquiries, suggestions or questions, please contact:</div><div><br /></div><div style=\"text-align:center;\"><a href=\"https://www.linkedin.com/in/ktalexan/\" target=\"_blank\"><b>Dr. Kostas Alexandridis, GISP</b></a><br /></div><div style=\"text-align:center;\">GIS Analyst | Spatial Complex Systems Scientist</div><div style=\"text-align:center;\">OC Public Works/OC Survey Geospatial Applications</div><div style=\"text-align:center;\"><div>601 N. Ross Street, P.O. Box 4048, Santa Ana, CA 92701</div><div>Email: <a href=\"mailto:kostas.alexandridis@ocpw.ocgov.com\" target=\"_blank\">kostas.alexandridis@ocpw.ocgov.com</a> | Phone: (714) 967-0826</div><div><br /></div></div></div>\"\"\"\n",
    "mdoMapInjuries.thumbnailUri = \"https://ocpw.maps.arcgis.com/sharing/rest/content/items/78682395df4744009c58625f1db0c25b/data\"\n",
    "\n",
    "# Apply the metadata to the map\n",
    "mapInjuries.metadata = mdoMapInjuries"
   ]
  },
  {
   "cell_type": "markdown",
   "metadata": {},
   "source": [
    "<h3 style=\"font-weight:bold; color:lime; padding-left: 50px\">6. Fatalities Map Metadata</h3>"
   ]
  },
  {
   "cell_type": "markdown",
   "metadata": {},
   "source": [
    "Create a new metadata object for the fatalities map and assign it to the map"
   ]
  },
  {
   "cell_type": "code",
   "execution_count": 28,
   "metadata": {},
   "outputs": [],
   "source": [
    "mdoMapFatalities = md.Metadata()\n",
    "mdoMapFatalities.title = \"OCSWITRS Fatalities Map\"\n",
    "mdoMapFatalities.tags = \"Orange County, California, Traffic, Traffic Conditions, Crashes, Collisions, Road Safety, Accidents, SWITRS, OCSWITRS, Transporation\"\n",
    "mdoMapFatalities.summary = f\"Statewide Integrated Traffic Records System (SWITRS) Fatalities Map for Orange County, California ({mdYears})\"\n",
    "mdoMapFatalities.description = f\"\"\"<div style=\"text-align:Left;\"><div><div><p><span style=\"font-weight:bold;\">Statewide Integrated Traffic Records System (SWITRS)</span><span> location point data, containing </span><span style=\"font-weight:bold;\">victim fatality counts per accident in Orange County, California for {mdYears} ({mdDates}). The data are collected and maintained by the </span><a href=\"https://www.chp.ca.gov:443/\" style=\"text-decoration:underline;\"><span>California Highway Patrol (CHP)</span></a><span>, from incidents reported by local and government agencies. Original tabular datasets are provided by the </span><a href=\"https://tims.berkeley.edu:443/\" style=\"text-decoration:underline;\"><span>Transportation Injury Mapping System (TIMS)</span></a><span>. Only records with reported locational GPS attributes in Orange County are included in the spatial database (either from X and Y geocoded coordinates, or the longitude and latitude coordinates generated by the CHP officer on site). Incidents without valid coordinates are omitted from this spatial dataset representation. Last Updated on <b>{dateUpdated}</b></span></p></div></div></div>\"\"\"\n",
    "mdoMapFatalities.credits = \"Dr. Kostas Alexandridis, GISP, Data Scientist, OC Public Works, OC Survey Geospatial Services\"\n",
    "mdoMapFatalities.accessConstraints = \"\"\"<div style=\"text-align:Left;\"><p><span>The SWITRS data displayed are provided by the California Highway Patrol (CHP) reports through the Transportation Injury Mapping System (TIMS) of the University of California, Berkeley. Issues of report accuracy should be addressed to CHP.</span></p><p>The displayed mapped data can be used under a <a href=\"https://creativecommons.org/licenses/by-sa/3.0/\" target=\"_blank\">Creative Commons CC-SA-BY</a> License, providing attribution to TIMS, CHP, and OC Public Works, OC Survey Geospatial Services. </p><div>We make every effort to provide the most accurate and up-to-date data and information. Nevertheless, the data feed is provided, 'as is' and OC Public Work's standard <a href=\"https://www.ocgov.com/contact-county/disclaimer\" target=\"_blank\">Disclaimer</a> applies.<br /></div><div><br /></div><div>For any inquiries, suggestions or questions, please contact:</div><div><br /></div><div style=\"text-align:center;\"><a href=\"https://www.linkedin.com/in/ktalexan/\" target=\"_blank\"><b>Dr. Kostas Alexandridis, GISP</b></a><br /></div><div style=\"text-align:center;\">GIS Analyst | Spatial Complex Systems Scientist</div><div style=\"text-align:center;\">OC Public Works/OC Survey Geospatial Applications</div><div style=\"text-align:center;\"><div>601 N. Ross Street, P.O. Box 4048, Santa Ana, CA 92701</div><div>Email: <a href=\"mailto:kostas.alexandridis@ocpw.ocgov.com\" target=\"_blank\">kostas.alexandridis@ocpw.ocgov.com</a> | Phone: (714) 967-0826</div><div><br /></div></div></div>\"\"\"\n",
    "mdoMapFatalities.thumbnailUri = \"https://ocpw.maps.arcgis.com/sharing/rest/content/items/6b96b7d6d5394cbb95aa2fae390503a9/data\"\n",
    "\n",
    "# Apply the metadata to the map\n",
    "mapFatalities.metadata = mdoMapFatalities"
   ]
  },
  {
   "cell_type": "markdown",
   "metadata": {},
   "source": [
    "<h3 style=\"font-weight:bold; color:lime; padding-left: 50px\">7. Hotspots (100m, 1km) Map Metadata</h3>"
   ]
  },
  {
   "cell_type": "markdown",
   "metadata": {},
   "source": [
    "Create a new metadata object for the hotspots (100m, 1km) map and assign it to the map"
   ]
  },
  {
   "cell_type": "code",
   "execution_count": 29,
   "metadata": {},
   "outputs": [],
   "source": [
    "mdoMapFhs100m1km = md.Metadata()\n",
    "mdoMapFhs100m1km.title = \"OCSWITRS Hot Spot Analysis 100m 1km Map\"\n",
    "mdoMapFhs100m1km.tags = \"Orange County, California, Traffic, Traffic Conditions, Crashes, Collisions, Road Safety, Accidents, SWITRS, OCSWITRS, Transportation\"\n",
    "mdoMapFhs100m1km.summary = f\"Statewide Integrated Traffic Records System (SWITRS) Hot Spot Analysis 100m 1km Map for Orange County, California ({mdYears})\"\n",
    "mdoMapFhs100m1km.description = \"\"\"<div style=\"text-align:Left;\"><div><div><p><span>Hot Spot Analysis for the OCSWITRS Project Data using 100m bins and 1km neighborhood radius grid</span></p></div></div></div>\"\"\"\n",
    "mdoMapFhs100m1km.credits = \"Dr. Kostas Alexandridis, GISP, Data Scientist, OC Public Works, OC Survey Geospatial Services\"\n",
    "mdoMapFhs100m1km.accessConstraints = \"\"\"<div style=\"text-align:Left;\"><div><div><p><span>The feed data and associated resources (maps, apps, endpoints) can be used under a <a href=\"https://creativecommons.org/licenses/by-sa/3.0/\" target=\"_blank\">Creative Commons CC-SA-BY</a> License, providing attribution to OC Public Works, OC Survey Geospatial Services. </p><div>We make every effort to provide the most accurate and up-to-date data and information. Nevertheless, the data feed is provided, 'as is' and OC Public Work's standard <a href=\"https://www.ocgov.com/contact-county/disclaimer\" target=\"_blank\">Disclaimer</a> applies.<br /></div><div><br /></div><div>For any inquiries, suggestions or questions, please contact:</div><div><br /></div><div style=\"text-align:center;\"><a href=\"https://www.linkedin.com/in/ktalexan/\" target=\"_blank\"><b>Dr. Kostas Alexandridis, GISP</b></a><br /></div><div style=\"text-align:center;\">GIS Analyst | Spatial Complex Systems Scientist</div><div style=\"text-align:center;\">OC Public Works/OC Survey Geospatial Applications</div><div style=\"text-align:center;\"><div>601 N. Ross Street, P.O. Box 4048, Santa Ana, CA 92701</div><div>Email: <a href=\"mailto:kostas.alexandridis@ocpw.ocgov.com\" target=\"_blank\">kostas.alexandridis@ocpw.ocgov.com</a> | Phone: (714) 967-0826</div><div><br /></div></div></div>\"\"\"\n",
    "mdoMapFhs100m1km.thumbnailUri = \"https://ocpw.maps.arcgis.com/sharing/rest/content/items/6b96b7d6d5394cbb95aa2fae390503a9/data\"\n",
    "\n",
    "# Apply the metadata to the map\n",
    "mapFhs100m1km.metadata = mdoMapFhs100m1km"
   ]
  },
  {
   "cell_type": "markdown",
   "metadata": {},
   "source": [
    "<h3 style=\"font-weight:bold; color:lime; padding-left: 50px\">8. Hotspots (150m, 2km) Map Metadata</h3>"
   ]
  },
  {
   "cell_type": "markdown",
   "metadata": {},
   "source": [
    "Create a new metadata object for the hotspots (150m, 2km) map and assign it to the map"
   ]
  },
  {
   "cell_type": "code",
   "execution_count": 30,
   "metadata": {},
   "outputs": [],
   "source": [
    "mdoMapFhs150m2km = md.Metadata()\n",
    "mdoMapFhs150m2km.title = \"OCSWITRS Hot Spot Analysis 150m 2km Map\"\n",
    "mdoMapFhs150m2km.tags = \"Orange County, California, Traffic, Traffic Conditions, Crashes, Collisions, Road Safety, Accidents, SWITRS, OCSWITRS, Transportation\"\n",
    "mdoMapFhs150m2km.summary = f\"Statewide Integrated Traffic Records System (SWITRS) Hot Spot Analysis 150m 2km Map for Orange County, California ({mdYears})\"\n",
    "mdoMapFhs150m2km.description = \"\"\"<div style=\"text-align:Left;\"><div><div><p><span>Hot Spot Analysis for the OCSWITRS Project Data using 150m bins and 2km neighborhood radius grid</span></p></div></div></div>\"\"\"\n",
    "mdoMapFhs150m2km.credits = \"Dr. Kostas Alexandridis, GISP, Data Scientist, OC Public Works, OC Survey Geospatial Services\"\n",
    "mdoMapFhs150m2km.accessConstraints = \"\"\"<div style=\"text-align:Left;\"><div><div><p><span>The feed data and associated resources (maps, apps, endpoints) can be used under a <a href=\"https://creativecommons.org/licenses/by-sa/3.0/\" target=\"_blank\">Creative Commons CC-SA-BY</a> License, providing attribution to OC Public Works, OC Survey Geospatial Services. </p><div>We make every effort to provide the most accurate and up-to-date data and information. Nevertheless, the data feed is provided, 'as is' and OC Public Work's standard <a href=\"https://www.ocgov.com/contact-county/disclaimer\" target=\"_blank\">Disclaimer</a> applies.<br /></div><div><br /></div><div>For any inquiries, suggestions or questions, please contact:</div><div><br /></div><div style=\"text-align:center;\"><a href=\"https://www.linkedin.com/in/ktalexan/\" target=\"_blank\"><b>Dr. Kostas Alexandridis, GISP</b></a><br /></div><div style=\"text-align:center;\">GIS Analyst | Spatial Complex Systems Scientist</div><div style=\"text-align:center;\">OC Public Works/OC Survey Geospatial Applications</div><div style=\"text-align:center;\"><div>601 N. Ross Street, P.O. Box 4048, Santa Ana, CA 92701</div><div>Email: <a href=\"mailto:kostas.alexandridis@ocpw.ocgov.com\" target=\"_blank\">kostas.alexandridis@ocpw.ocgov.com</a> | Phone: (714) 967-0826</div><div><br /></div></div></div>\"\"\"\n",
    "mdoMapFhs150m2km.thumbnailUri = \"https://ocpw.maps.arcgis.com/sharing/rest/content/items/6b96b7d6d5394cbb95aa2fae390503a9/data\"\n",
    "\n",
    "# Apply the metadata to the map\n",
    "mapFhs150m2km.metadata = mdoMapFhs150m2km"
   ]
  },
  {
   "cell_type": "markdown",
   "metadata": {},
   "source": [
    "<h3 style=\"font-weight:bold; color:lime; padding-left: 50px\">9. Hotspots (100m, 5km) Map Metadata</h3>"
   ]
  },
  {
   "cell_type": "markdown",
   "metadata": {},
   "source": [
    "Create a new metadata object for the hotspots (100m, 5km) map and assign it to the map"
   ]
  },
  {
   "cell_type": "code",
   "execution_count": 31,
   "metadata": {},
   "outputs": [],
   "source": [
    "mdoMapFhs100m5km = md.Metadata()\n",
    "mdoMapFhs100m5km.title = \"OCSWITRS Hot Spot Analysis 100m 5km Map\"\n",
    "mdoMapFhs100m5km.tags = \"Orange County, California, Traffic, Traffic Conditions, Crashes, Collisions, Road Safety, Accidents, SWITRS, OCSWITRS, Transportation\"\n",
    "mdoMapFhs100m5km.summary = f\"Statewide Integrated Traffic Records System (SWITRS) Hot Spot Analysis 100m 5km Map for Orange County, California ({mdYears})\"\n",
    "mdoMapFhs100m5km.description = \"\"\"<div style=\"text-align:Left;\"><div><div><p><span>Hot Spot Analysis for the OCSWITRS Project Data using 100m bins and 5km neighborhood radius grid</span></p></div></div></div>\"\"\"\n",
    "mdoMapFhs100m5km.credits = \"Dr. Kostas Alexandridis, GISP, Data Scientist, OC Public Works, OC Survey Geospatial Services\"\n",
    "mdoMapFhs100m5km.accessConstraints = \"\"\"<div style=\"text-align:Left;\"><div><div><p><span>The feed data and associated resources (maps, apps, endpoints) can be used under a <a href=\"https://creativecommons.org/licenses/by-sa/3.0/\" target=\"_blank\">Creative Commons CC-SA-BY</a> License, providing attribution to OC Public Works, OC Survey Geospatial Services. </p><div>We make every effort to provide the most accurate and up-to-date data and information. Nevertheless, the data feed is provided, 'as is' and OC Public Work's standard <a href=\"https://www.ocgov.com/contact-county/disclaimer\" target=\"_blank\">Disclaimer</a> applies.<br /></div><div><br /></div><div>For any inquiries, suggestions or questions, please contact:</div><div><br /></div><div style=\"text-align:center;\"><a href=\"https://www.linkedin.com/in/ktalexan/\" target=\"_blank\"><b>Dr. Kostas Alexandridis, GISP</b></a><br /></div><div style=\"text-align:center;\">GIS Analyst | Spatial Complex Systems Scientist</div><div style=\"text-align:center;\">OC Public Works/OC Survey Geospatial Applications</div><div style=\"text-align:center;\"><div>601 N. Ross Street, P.O. Box 4048, Santa Ana, CA 92701</div><div>Email: <a href=\"mailto:kostas.alexandridis@ocpw.ocgov.com\" target=\"_blank\">kostas.alexandridis@ocpw.ocgov.com</a> | Phone: (714) 967-0826</div><div><br /></div></div></div>\"\"\"\n",
    "mdoMapFhs100m5km.thumbnailUri = \"https://ocpw.maps.arcgis.com/sharing/rest/content/items/6b96b7d6d5394cbb95aa2fae390503a9/data\"\n",
    "\n",
    "# Apply the metadata to the map\n",
    "mapFhs100m5km.metadata = mdoMapFhs100m5km"
   ]
  },
  {
   "cell_type": "markdown",
   "metadata": {},
   "source": [
    "<h3 style=\"font-weight:bold; color:lime; padding-left: 50px\">10. Hotspots 500ft from Major Roads Map Metadata</h3>"
   ]
  },
  {
   "cell_type": "markdown",
   "metadata": {},
   "source": [
    "Create a new metadata object for the hotspots 500ft from major roads map and assign it to the map"
   ]
  },
  {
   "cell_type": "code",
   "execution_count": 32,
   "metadata": {},
   "outputs": [],
   "source": [
    "mdoMapFhsRoads500ft = md.Metadata()\n",
    "mdoMapFhsRoads500ft.title = \"OCSWITRS Hot Spots within 500ft from Major Roads Map\"\n",
    "mdoMapFhsRoads500ft.tags = \"Orange County, California, Traffic, Traffic Conditions, Crashes, Collisions, Road Safety, Accidents, SWITRS, OCSWITRS, Transportation\"\n",
    "mdoMapFhsRoads500ft.summary = f\"Statewide Integrated Traffic Records System (SWITRS) Hot Spots within 500ft from Major Roads Map for Orange County, California ({mdYears})\"\n",
    "mdoMapFhsRoads500ft.description = \"\"\"<div style=\"text-align:Left;\"><div><div><p><span>Hot Spot Analysis for the OCSWITRS Project Data within 500ft from Major Roads</span></p></div></div></div>\"\"\"\n",
    "mdoMapFhsRoads500ft.credits = \"Dr. Kostas Alexandridis, GISP, Data Scientist, OC Public Works, OC Survey Geospatial Services\"\n",
    "mdoMapFhsRoads500ft.accessConstraints = \"\"\"<div style=\"text-align:Left;\"><div><div><p><span>The feed data and associated resources (maps, apps, endpoints) can be used under a <a href=\"https://creativecommons.org/licenses/by-sa/3.0/\" target=\"_blank\">Creative Commons CC-SA-BY</a> License, providing attribution to OC Public Works, OC Survey Geospatial Services. </p><div>We make every effort to provide the most accurate and up-to-date data and information. Nevertheless, the data feed is provided, 'as is' and OC Public Work's standard <a href=\"https://www.ocgov.com/contact-county/disclaimer\" target=\"_blank\">Disclaimer</a> applies.<br /></div><div><br /></div><div>For any inquiries, suggestions or questions, please contact:</div><div><br /></div><div style=\"text-align:center;\"><a href=\"https://www.linkedin.com/in/ktalexan/\" target=\"_blank\"><b>Dr. Kostas Alexandridis, GISP</b></a><br /></div><div style=\"text-align:center;\">GIS Analyst | Spatial Complex Systems Scientist</div><div style=\"text-align:center;\">OC Public Works/OC Survey Geospatial Applications</div><div style=\"text-align:center;\"><div>601 N. Ross Street, P.O. Box 4048, Santa Ana, CA 92701</div><div>Email: <a href=\"mailto:kostas.alexandridis@ocpw.ocgov.com\" target=\"_blank\">kostas.alexandridis@ocpw.ocgov.com</a> | Phone: (714) 967-0826</div><div><br /></div></div></div>\"\"\"\n",
    "mdoMapFhsRoads500ft.thumbnailUri = \"https://ocpw.maps.arcgis.com/sharing/rest/content/items/6b96b7d6d5394cbb95aa2fae390503a9/data\"\n",
    "\n",
    "# Apply the metadata to the map\n",
    "mapFhsRoads500ft.metadata = mdoMapFhsRoads500ft"
   ]
  },
  {
   "cell_type": "markdown",
   "metadata": {},
   "source": [
    "<h3 style=\"font-weight:bold; color:lime; padding-left: 50px\">11. Optimized Hotspots 500ft from Major Roads Map Metadata</h3>"
   ]
  },
  {
   "cell_type": "markdown",
   "metadata": {},
   "source": [
    "Create a new metadata object for the optimized hotspots 500ft from major roads map and assign it to the map"
   ]
  },
  {
   "cell_type": "code",
   "execution_count": 33,
   "metadata": {},
   "outputs": [],
   "source": [
    "mdoMapOhsRoads500ft = md.Metadata()\n",
    "mdoMapOhsRoads500ft.title = \"OCSWITRS Optimized Hot Spots within 500ft from Major Roads Map\"\n",
    "mdoMapOhsRoads500ft.tags = \"Orange County, California, Traffic, Traffic Conditions, Crashes, Collisions, Road Safety, Accidents, SWITRS, OCSWITRS, Transportation\"\n",
    "mdoMapOhsRoads500ft.summary = f\"Statewide Integrated Traffic Records System (SWITRS) Optimized Hot Spots within 500ft from Major Roads Map for Orange County, California ({mdYears})\"\n",
    "mdoMapOhsRoads500ft.description = \"\"\"<div style=\"text-align:Left;\"><div><div><p><span>Optimized Hot Spot Analysis for the OCSWITRS Project Data within 500ft from Major Roads</span></p></div></div></div>\"\"\"\n",
    "mdoMapOhsRoads500ft.credits = \"Dr. Kostas Alexandridis, GISP, Data Scientist, OC Public Works, OC Survey Geospatial Services\"\n",
    "mdoMapOhsRoads500ft.accessConstraints = \"\"\"<div style=\"text-align:Left;\"><div><div><p><span>The feed data and associated resources (maps, apps, endpoints) can be used under a <a href=\"https://creativecommons.org/licenses/by-sa/3.0/\" target=\"_blank\">Creative Commons CC-SA-BY</a> License, providing attribution to OC Public Works, OC Survey Geospatial Services. </p><div>We make every effort to provide the most accurate and up-to-date data and information. Nevertheless, the data feed is provided, 'as is' and OC Public Work's standard <a href=\"https://www.ocgov.com/contact-county/disclaimer\" target=\"_blank\">Disclaimer</a> applies.<br /></div><div><br /></div><div>For any inquiries, suggestions or questions, please contact:</div><div><br /></div><div style=\"text-align:center;\"><a href=\"https://www.linkedin.com/in/ktalexan/\" target=\"_blank\"><b>Dr. Kostas Alexandridis, GISP</b></a><br /></div><div style=\"text-align:center;\">GIS Analyst | Spatial Complex Systems Scientist</div><div style=\"text-align:center;\">OC Public Works/OC Survey Geospatial Applications</div><div style=\"text-align:center;\"><div>601 N. Ross Street, P.O. Box 4048, Santa Ana, CA 92701</div><div>Email: <a href=\"mailto:kostas.alexandridis@ocpw.ocgov.com\" target=\"_blank\">kostas.alexandridis@ocpw.ocgov.com</a> | Phone: (714) 967-0826</div><div><br /></div></div></div>\"\"\"\n",
    "mdoMapOhsRoads500ft.thumbnailUri = \"https://ocpw.maps.arcgis.com/sharing/rest/content/items/6b96b7d6d5394cbb95aa2fae390503a9/data\"\n",
    "\n",
    "# Apply the metadata to the map\n",
    "mapOhsRoads500ft.metadata = mdoMapOhsRoads500ft"
   ]
  },
  {
   "cell_type": "markdown",
   "metadata": {},
   "source": [
    "<h3 style=\"font-weight:bold; color:lime; padding-left: 50px\">12. Major Road Crashes Map Metadata</h3>"
   ]
  },
  {
   "cell_type": "markdown",
   "metadata": {},
   "source": [
    "Create a new metadata object for the major road crashes map and assign it to the map"
   ]
  },
  {
   "cell_type": "code",
   "execution_count": 34,
   "metadata": {},
   "outputs": [],
   "source": [
    "mdoMapRoadCrashes = md.Metadata()\n",
    "mdoMapRoadCrashes.title = \"OCSWITRS Major Road Crashes Map\"\n",
    "mdoMapRoadCrashes.tags = \"Orange County, California, Traffic, Traffic Conditions, Crashes, Collisions, Road Safety, Accidents, SWITRS, OCSWITRS, Transportation\"\n",
    "mdoMapRoadCrashes.summary = f\"Statewide Integrated Traffic Records System (SWITRS) Road Crashes Map for Orange County, California ({mdYears})\"\n",
    "mdoMapRoadCrashes.description = f\"\"\"<div style=\"text-align:Left;\"><div><div><p><span style=\"font-weight:bold;\">Statewide Integrated Traffic Records System (SWITRS)</span><span> location point data, containing </span><span style=\"font-weight:bold;\">reports on road crashes in Orange County, California for {mdYears} ({mdDates}). The data are collected and maintained by the </span><a href=\"https://www.chp.ca.gov:443/\" style=\"text-decoration:underline;\"><span>California Highway Patrol (CHP)</span></a><span>, from incidents reported by local and government agencies. Original tabular datasets are provided by the </span><a href=\"https://tims.berkeley.edu:443/\" style=\"text-decoration:underline;\"><span>Transportation Injury Mapping System (TIMS)</span></a><span>. Only records with reported locational GPS attributes in Orange County are included in the spatial database (either from X and Y geocoded coordinates, or the longitude and latitude coordinates generated by the CHP officer on site). Incidents without valid coordinates are omitted from this spatial dataset representation. Last Updated on <b>{dateUpdated}</b></span></p></div></div></div>\"\"\"\n",
    "mdoMapRoadCrashes.credits = \"Dr. Kostas Alexandridis, GISP, Data Scientist, OC Public Works, OC Survey Geospatial Services\"\n",
    "mdoMapRoadCrashes.accessConstraints = \"\"\"<div style=\"text-align:Left;\"><div><div><p><span>The feed data and associated resources (maps, apps, endpoints) can be used under a <a href=\"https://creativecommons.org/licenses/by-sa/3.0/\" target=\"_blank\">Creative Commons CC-SA-BY</a> License, providing attribution to OC Public Works, OC Survey Geospatial Services. </p><div>We make every effort to provide the most accurate and up-to-date data and information. Nevertheless, the data feed is provided, 'as is' and OC Public Work's standard <a href=\"https://www.ocgov.com/contact-county/disclaimer\" target=\"_blank\">Disclaimer</a> applies.<br /></div><div><br /></div><div>For any inquiries, suggestions or questions, please contact:</div><div><br /></div><div style=\"text-align:center;\"><a href=\"https://www.linkedin.com/in/ktalexan/\" target=\"_blank\"><b>Dr. Kostas Alexandridis, GISP</b></a><br /></div><div style=\"text-align:center;\">GIS Analyst | Spatial Complex Systems Scientist</div><div style=\"text-align:center;\">OC Public Works/OC Survey Geospatial Applications</div><div style=\"text-align:center;\"><div>601 N. Ross Street, P.O. Box 4048, Santa Ana, CA 92701</div><div>Email: <a href=\"mailto:kostas.alexandridis@ocpw.ocgov.com\" target=\"_blank\">kostas.alexandridis@ocpw.ocgov.com</a> | Phone: (714) 967-0826</div><div><br /></div></div></div>\"\"\"\n",
    "mdoMapRoadCrashes.thumbnailUri = \"https://ocpw.maps.arcgis.com/sharing/rest/content/items/6b96b7d6d5394cbb95aa2fae390503a9/data\"\n",
    "\n",
    "# Apply the metadata to the map\n",
    "mapRoadCrashes.metadata = mdoMapRoadCrashes"
   ]
  },
  {
   "cell_type": "markdown",
   "metadata": {},
   "source": [
    "<h3 style=\"font-weight:bold; color:lime; padding-left: 50px\">13. Major Road Hotspots Map Metadata</h3>"
   ]
  },
  {
   "cell_type": "markdown",
   "metadata": {},
   "source": [
    "Create a new metadata object for the major road hotspots map and assign it to the map"
   ]
  },
  {
   "cell_type": "code",
   "execution_count": 35,
   "metadata": {},
   "outputs": [],
   "source": [
    "mdoMapRoadHotspots = md.Metadata()\n",
    "mdoMapRoadHotspots.title = \"OCSWITRS Major Road Hotspots Map\"\n",
    "mdoMapRoadHotspots.tags = \"Orange County, California, Traffic, Traffic Conditions, Crashes, Collisions, Road Safety, Accidents, SWITRS, OCSWITRS, Transportation\"\n",
    "mdoMapRoadHotspots.summary = f\"Statewide Integrated Traffic Records System (SWITRS) Road Hotspots Map for Orange County, California ({mdYears})\"\n",
    "mdoMapRoadHotspots.description = f\"\"\"<div style=\"text-align:Left;\"><div><div><p><span style=\"font-weight:bold;\">Statewide Integrated Traffic Records System (SWITRS)</span><span> location point data, containing </span><span style=\"font-weight:bold;\">reports on road hotspots in Orange County, California for {mdYears} ({mdDates}). The data are collected and maintained by the </span><a href=\"https://www.chp.ca.gov:443/\" style=\"text-decoration:underline;\"><span>California Highway Patrol (CHP)</span></a><span>, from incidents reported by local and government agencies. Original tabular datasets are provided by the </span><a href=\"https://tims.berkeley.edu:443/\" style=\"text-decoration:underline;\"><span>Transportation Injury Mapping System (TIMS)</span></a><span>. Only records with reported locational GPS attributes in Orange County are included in the spatial database (either from X and Y geocoded coordinates, or the longitude and latitude coordinates generated by the CHP officer on site). Incidents without valid coordinates are omitted from this spatial dataset representation. Last Updated on <b>{dateUpdated}</b></span></p></div></div></div>\"\"\"\n",
    "mdoMapRoadHotspots.credits = \"Dr. Kostas Alexandridis, GISP, Data Scientist, OC Public Works, OC Survey Geospatial Services\"\n",
    "mdoMapRoadHotspots.accessConstraints = \"\"\"<div style=\"text-align:Left;\"><div><div><p><span>The feed data and associated resources (maps, apps, endpoints) can be used under a <a href=\"https://creativecommons.org/licenses/by-sa/3.0/\" target=\"_blank\">Creative Commons CC-SA-BY</a> License, providing attribution to OC Public Works, OC Survey Geospatial Services. </p><div>We make every effort to provide the most accurate and up-to-date data and information. Nevertheless, the data feed is provided, 'as is' and OC Public Work's standard <a href=\"https://www.ocgov.com/contact-county/disclaimer\" target=\"_blank\">Disclaimer</a> applies.<br /></div><div><br /></div><div>For any inquiries, suggestions or questions, please contact:</div><div><br /></div><div style=\"text-align:center;\"><a href=\"https://www.linkedin.com/in/ktalexan/\" target=\"_blank\"><b>Dr. Kostas Alexandridis, GISP</b></a><br /></div><div style=\"text-align:center;\">GIS Analyst | Spatial Complex Systems Scientist</div><div style=\"text-align:center;\">OC Public Works/OC Survey Geospatial Applications</div><div style=\"text-align:center;\"><div>601 N. Ross Street, P.O. Box 4048, Santa Ana, CA 92701</div><div>Email: <a href=\"mailto:kostas.alexandridis@ocpw.ocgov.com\" target=\"_blank\">kostas.alexandridis@ocpw.ocgov.com</a> | Phone: (714) 967-0826</div><div><br /></div></div></div>\"\"\"\n",
    "mdoMapRoadHotspots.thumbnailUri = \"https://ocpw.maps.arcgis.com/sharing/rest/content/items/6b96b7d6d5394cbb95aa2fae390503a9/data\"\n",
    "\n",
    "# Apply the metadata to the map\n",
    "mapRoadHotspots.metadata = mdoMapRoadHotspots"
   ]
  },
  {
   "cell_type": "markdown",
   "metadata": {},
   "source": [
    "<h3 style=\"font-weight:bold; color:lime; padding-left: 50px\">14. Major Road Buffers Map Metadata</h3>"
   ]
  },
  {
   "cell_type": "markdown",
   "metadata": {},
   "source": [
    "Create a new metadata object for the major road buffers map and assign it to the map"
   ]
  },
  {
   "cell_type": "code",
   "execution_count": 36,
   "metadata": {},
   "outputs": [],
   "source": [
    "mdoMapRoadBuffers = md.Metadata()\n",
    "mdoMapRoadBuffers.title = \"OCSWITRS Major Road Buffers Map\"\n",
    "mdoMapRoadBuffers.tags = \"Orange County, California, Traffic, Traffic Conditions, Crashes, Collisions, Road Safety, Accidents, SWITRS, OCSWITRS, Transportation\"\n",
    "mdoMapRoadBuffers.summary = f\"Statewide Integrated Traffic Records System (SWITRS) Road Buffers Map for Orange County, California ({mdYears})\"\n",
    "mdoMapRoadBuffers.description = f\"\"\"<div style=\"text-align:Left;\"><div><div><p><span style=\"font-weight:bold;\">Statewide Integrated Traffic Records System (SWITRS)</span><span> location point data, containing </span><span style=\"font-weight:bold;\">reports on road buffers in Orange County, California for {mdYears} ({mdDates}). The data are collected and maintained by the </span><a href=\"https://www.chp.ca.gov:443/\" style=\"text-decoration:underline;\"><span>California Highway Patrol (CHP)</span></a><span>, from incidents reported by local and government agencies. Original tabular datasets are provided by the </span><a href=\"https://tims.berkeley.edu:443/\" style=\"text-decoration:underline;\"><span>Transportation Injury Mapping System (TIMS)</span></a><span>. Only records with reported locational GPS attributes in Orange County are included in the spatial database (either from X and Y geocoded coordinates, or the longitude and latitude coordinates generated by the CHP officer on site). Incidents without valid coordinates are omitted from this spatial dataset representation. Last Updated on <b>{dateUpdated}</b></span></p></div></div></div>\"\"\"\n",
    "mdoMapRoadBuffers.credits = \"Dr. Kostas Alexandridis, GISP, Data Scientist, OC Public Works, OC Survey Geospatial Services\"\n",
    "mdoMapRoadBuffers.accessConstraints = \"\"\"<div style=\"text-align:Left;\"><div><div><p><span>The feed data and associated resources (maps, apps, endpoints) can be used under a <a href=\"https://creativecommons.org/licenses/by-sa/3.0/\" target=\"_blank\">Creative Commons CC-SA-BY</a> License, providing attribution to OC Public Works, OC Survey Geospatial Services. </p><div>We make every effort to provide the most accurate and up-to-date data and information. Nevertheless, the data feed is provided, 'as is' and OC Public Work's standard <a href=\"https://www.ocgov.com/contact-county/disclaimer\" target=\"_blank\">Disclaimer</a> applies.<br /></div><div><br /></div><div>For any inquiries, suggestions or questions, please contact:</div><div><br /></div><div style=\"text-align:center;\"><a href=\"https://www.linkedin.com/in/ktalexan/\" target=\"_blank\"><b>Dr. Kostas Alexandridis, GISP</b></a><br /></div><div style=\"text-align:center;\">GIS Analyst | Spatial Complex Systems Scientist</div><div style=\"text-align:center;\">OC Public Works/OC Survey Geospatial Applications</div><div style=\"text-align:center;\"><div>601 N. Ross Street, P.O. Box 4048, Santa Ana, CA 92701</div><div>Email: <a href=\"mailto:kostas.alexandridis@ocpw.ocgov.com\" target=\"_blank\">kostas.alexandridis@ocpw.ocgov.com</a> | Phone: (714) 967-0826</div><div><br /></div></div></div>\"\"\"\n",
    "mdoMapRoadBuffers.thumbnailUri = \"https://ocpw.maps.arcgis.com/sharing/rest/content/items/6b96b7d6d5394cbb95aa2fae390503a9/data\"\n",
    "\n",
    "# Apply the metadata to the map\n",
    "mapRoadBuffers.metadata = mdoMapRoadBuffers"
   ]
  },
  {
   "cell_type": "markdown",
   "metadata": {},
   "source": [
    "<h3 style=\"font-weight:bold; color:lime; padding-left: 50px\">15. Major Road Buffer Segments Map Metadata</h3>"
   ]
  },
  {
   "cell_type": "markdown",
   "metadata": {},
   "source": [
    "Create a new metadata object for the major road buffer segments map and assign it to the map"
   ]
  },
  {
   "cell_type": "code",
   "execution_count": 37,
   "metadata": {},
   "outputs": [],
   "source": [
    "mdoMapRoadSegments = md.Metadata()\n",
    "mdoMapRoadSegments.title = \"OCSWITRS Major Road Segments Map\"\n",
    "mdoMapRoadSegments.tags = \"Orange County, California, Traffic, Traffic Conditions, Crashes, Collisions, Road Safety, Accidents, SWITRS, OCSWITRS, Transportation\"\n",
    "mdoMapRoadSegments.summary = f\"Statewide Integrated Traffic Records System (SWITRS) Road Segments Map for Orange County, California ({mdYears})\"\n",
    "mdoMapRoadSegments.description = f\"\"\"<div style=\"text-align:Left;\"><div><div><p><span style=\"font-weight:bold;\">Statewide Integrated Traffic Records System (SWITRS)</span><span> location point data, containing </span><span style=\"font-weight:bold;\">reports on road segments in Orange County, California for {mdYears} ({mdDates}). The data are collected and maintained by the </span><a href=\"https://www.chp.ca.gov:443/\" style=\"text-decoration:underline;\"><span>California Highway Patrol (CHP)</span></a><span>, from incidents reported by local and government agencies. Original tabular datasets are provided by the </span><a href=\"https://tims.berkeley.edu:443/\" style=\"text-decoration:underline;\"><span>Transportation Injury Mapping System (TIMS)</span></a><span>. Only records with reported locational GPS attributes in Orange County are included in the spatial database (either from X and Y geocoded coordinates, or the longitude and latitude coordinates generated by the CHP officer on site). Incidents without valid coordinates are omitted from this spatial dataset representation. Last Updated on <b>{dateUpdated}</b></span></p></div></div></div>\"\"\"\n",
    "mdoMapRoadSegments.credits = \"Dr. Kostas Alexandridis, GISP, Data Scientist, OC Public Works, OC Survey Geospatial Services\"\n",
    "mdoMapRoadSegments.accessConstraints = \"\"\"<div style=\"text-align:Left;\"><div><div><p><span>The feed data and associated resources (maps, apps, endpoints) can be used under a <a href=\"https://creativecommons.org/licenses/by-sa/3.0/\" target=\"_blank\">Creative Commons CC-SA-BY</a> License, providing attribution to OC Public Works, OC Survey Geospatial Services. </p><div>We make every effort to provide the most accurate and up-to-date data and information. Nevertheless, the data feed is provided, 'as is' and OC Public Work's standard <a href=\"https://www.ocgov.com/contact-county/disclaimer\" target=\"_blank\">Disclaimer</a> applies.<br /></div><div><br /></div><div>For any inquiries, suggestions or questions, please contact:</div><div><br /></div><div style=\"text-align:center;\"><a href=\"https://www.linkedin.com/in/ktalexan/\" target=\"_blank\"><b>Dr. Kostas Alexandridis, GISP</b></a><br /></div><div style=\"text-align:center;\">GIS Analyst | Spatial Complex Systems Scientist</div><div style=\"text-align:center;\">OC Public Works/OC Survey Geospatial Applications</div><div style=\"text-align:center;\"><div>601 N. Ross Street, P.O. Box 4048, Santa Ana, CA 92701</div><div>Email: <a href=\"mailto:kostas.alexandridis@ocpw.ocgov.com\" target=\"_blank\">kostas.alexandridis@ocpw.ocgov.com</a> | Phone: (714) 967-0826</div><div><br /></div></div></div>\"\"\"\n",
    "mdoMapRoadSegments.thumbnailUri = \"https://ocpw.maps.arcgis.com/sharing/rest/content/items/6b96b7d6d5394cbb95aa2fae390503a9/data\"\n",
    "\n",
    "# Apply the metadata to the map\n",
    "mapRoadSegments.metadata = mdoMapRoadSegments"
   ]
  },
  {
   "cell_type": "markdown",
   "metadata": {},
   "source": [
    "<h3 style=\"font-weight:bold; color:lime; padding-left: 50px\">16. Roads Map Metadata</h3>"
   ]
  },
  {
   "cell_type": "markdown",
   "metadata": {},
   "source": [
    "Create a new metadata object for the roads map and assign it to the map"
   ]
  },
  {
   "cell_type": "code",
   "execution_count": 38,
   "metadata": {},
   "outputs": [],
   "source": [
    "mdoMapRoads = md.Metadata()\n",
    "mdoMapRoads.title = \"OCSWITRS Roads Processing Map\"\n",
    "mdoMapRoads.tags = \"Orange County, California, Roads, Traffic, Road Safety, Transportation, Collisions, Crashes, SWITRS, OCSWITRS\"\n",
    "mdoMapRoads.summary = \"Roads Processing Map for the OCSWITRS Project\"\n",
    "mdoMapRoads.description = \"\"\"<div style=\"text-align:Left;\"><div><div><p><span>The Orange County Roads Network is a comprehensive representation of all roads in the area, including primary roads and highways, secondary roads, and local roads. The data are sourced from the Orange County Department of Public Works and are updated regularly to reflect the most current road network configuration.</span></p></div></div></div>\"\"\"\n",
    "mdoMapRoads.credits = \"Dr. Kostas Alexandridis, GISP, Data Scientist, OC Public Works, OC Survey Geospatial Services\"\n",
    "mdoMapRoads.accessConstraints = \"\"\"<div style=\"text-align:Left;\"><div><div><p><span>The feed data and associated resources (maps, apps, endpoints) can be used under a <a href=\"https://creativecommons.org/licenses/by-sa/3.0/\" target=\"_blank\">Creative Commons CC-SA-BY</a> License, providing attribution to OC Public Works, OC Survey Geospatial Services. </p><div>We make every effort to provide the most accurate and up-to-date data and information. Nevertheless, the data feed is provided, 'as is' and OC Public Work's standard <a href=\"https://www.ocgov.com/contact-county/disclaimer\" target=\"_blank\">Disclaimer</a> applies.<br /></div><div><br /></div><div>For any inquiries, suggestions or questions, please contact:</div><div><br /></div><div style=\"text-align:center;\"><a href=\"https://www.linkedin.com/in/ktalexan/\" target=\"_blank\"><b>Dr. Kostas Alexandridis, GISP</b></a><br /></div><div style=\"text-align:center;\">GIS Analyst | Spatial Complex Systems Scientist</div><div style=\"text-align:center;\">OC Public Works/OC Survey Geospatial Applications</div><div style=\"text-align:center;\"><div>601 N. Ross Street, P.O. Box 4048, Santa Ana, CA 92701</div><div>Email: <a href=\"mailto:kostas.alexandridis@ocpw.ocgov.com\" target=\"_blank\">kostas.alexandridis@ocpw.ocgov.com</a> | Phone: (714) 967-0826</div><div><br /></div></div></div>\"\"\"\n",
    "mdoMapRoads.thumbnailUri = \"https://ocpw.maps.arcgis.com/sharing/rest/content/items/76f6fbe9acbb482c9684307854d6352b/data\"\n",
    "\n",
    "# Apply the metadata to the map\n",
    "mapRoads.metadata = mdoMapRoads"
   ]
  },
  {
   "cell_type": "markdown",
   "metadata": {},
   "source": [
    "<h3 style=\"font-weight:bold; color:lime; padding-left: 50px\">17. Hotspot Points Map Metadata</h3>"
   ]
  },
  {
   "cell_type": "markdown",
   "metadata": {},
   "source": [
    "Create a new metadata object for the hotspot points map and assign it to the map"
   ]
  },
  {
   "cell_type": "code",
   "execution_count": 39,
   "metadata": {},
   "outputs": [],
   "source": [
    "mdoMapPointFhs = md.Metadata()\n",
    "mdoMapPointFhs.title = \"OCSWITRS Point Features Hot Spots Map\"\n",
    "mdoMapPointFhs.tags = \"Orange County, California, Traffic, Traffic Conditions, Crashes, Collisions, Road Safety, Accidents, SWITRS, OCSWITRS, Transportation\"\n",
    "mdoMapPointFhs.summary = f\"Statewide Integrated Traffic Records System (SWITRS) Point Features Hot Spots Map for Orange County, California ({mdYears})\"\n",
    "mdoMapPointFhs.description = \"\"\"<div style=\"text-align:Left;\"><div><div><p><span>Hot Spot Analysis for the OCSWITRS Project Data using point features</span></p></div></div></div>\"\"\"\n",
    "mdoMapPointFhs.credits = \"Dr. Kostas Alexandridis, GISP, Data Scientist, OC Public Works, OC Survey Geospatial Services\"\n",
    "mdoMapPointFhs.accessConstraints = \"\"\"<div style=\"text-align:Left;\"><div><div><p><span>The feed data and associated resources (maps, apps, endpoints) can be used under a <a href=\"https://creativecommons.org/licenses/by-sa/3.0/\" target=\"_blank\">Creative Commons CC-SA-BY</a> License, providing attribution to OC Public Works, OC Survey Geospatial Services. </p><div>We make every effort to provide the most accurate and up-to-date data and information. Nevertheless, the data feed is provided, 'as is' and OC Public Work's standard <a href=\"https://www.ocgov.com/contact-county/disclaimer\" target=\"_blank\">Disclaimer</a> applies.<br /></div><div><br /></div><div>For any inquiries, suggestions or questions, please contact:</div><div><br /></div><div style=\"text-align:center;\"><a href=\"https://www.linkedin.com/in/ktalexan/\" target=\"_blank\"><b>Dr. Kostas Alexandridis, GISP</b></a><br /></div><div style=\"text-align:center;\">GIS Analyst | Spatial Complex Systems Scientist</div><div style=\"text-align:center;\">OC Public Works/OC Survey Geospatial Applications</div><div style=\"text-align:center;\"><div>601 N. Ross Street, P.O. Box 4048, Santa Ana, CA 92701</div><div>Email: <a href=\"mailto:kostas.alexandridis@ocpw.ocgov.com\" target=\"_blank\">kostas.alexandridis@ocpw.ocgov.com</a> | Phone: (714) 967-0826</div><div><br /></div></div></div>\"\"\"\n",
    "mdoMapPointFhs.thumbnailUri = \"https://ocpw.maps.arcgis.com/sharing/rest/content/items/6b96b7d6d5394cbb95aa2fae390503a9/data\"\n",
    "\n",
    "# Apply the metadata to the map\n",
    "mapPointFhs.metadata = mdoMapPointFhs"
   ]
  },
  {
   "cell_type": "markdown",
   "metadata": {},
   "source": [
    "<h3 style=\"font-weight:bold; color:lime; padding-left: 50px\">18. Optimized Hotspot Points Map Metadata</h3>"
   ]
  },
  {
   "cell_type": "markdown",
   "metadata": {},
   "source": [
    "Create a new metadata object for the optimized hotspot points map and assign it to the map"
   ]
  },
  {
   "cell_type": "code",
   "execution_count": 40,
   "metadata": {},
   "outputs": [],
   "source": [
    "mdoMapPointOhs = md.Metadata()\n",
    "mdoMapPointOhs.title = \"OCSWITRS Point Features Optimized Hot Spots Map\"\n",
    "mdoMapPointOhs.tags = \"Orange County, California, Traffic, Traffic Conditions, Crashes, Collisions, Road Safety, Accidents, SWITRS, OCSWITRS, Transportation\"\n",
    "mdoMapPointOhs.summary = f\"Statewide Integrated Traffic Records System (SWITRS) Point Features Optimized Hot Spots Map for Orange County, California ({mdYears})\"\n",
    "mdoMapPointOhs.description = \"\"\"<div style=\"text-align:Left;\"><div><div><p><span>Optimized Hot Spot Analysis for the OCSWITRS Project Data using point features</span></p></div></div></div>\"\"\"\n",
    "mdoMapPointOhs.credits = \"Dr. Kostas Alexandridis, GISP, Data Scientist, OC Public Works, OC Survey Geospatial Services\"\n",
    "mdoMapPointOhs.accessConstraints = \"\"\"<div style=\"text-align:Left;\"><div><div><p><span>The feed data and associated resources (maps, apps, endpoints) can be used under a <a href=\"https://creativecommons.org/licenses/by-sa/3.0/\" target=\"_blank\">Creative Commons CC-SA-BY</a> License, providing attribution to OC Public Works, OC Survey Geospatial Services. </p><div>We make every effort to provide the most accurate and up-to-date data and information. Nevertheless, the data feed is provided, 'as is' and OC Public Work's standard <a href=\"https://www.ocgov.com/contact-county/disclaimer\" target=\"_blank\">Disclaimer</a> applies.<br /></div><div><br /></div><div>For any inquiries, suggestions or questions, please contact:</div><div><br /></div><div style=\"text-align:center;\"><a href=\"https://www.linkedin.com/in/ktalexan/\" target=\"_blank\"><b>Dr. Kostas Alexandridis, GISP</b></a><br /></div><div style=\"text-align:center;\">GIS Analyst | Spatial Complex Systems Scientist</div><div style=\"text-align:center;\">OC Public Works/OC Survey Geospatial Applications</div><div style=\"text-align:center;\"><div>601 N. Ross Street, P.O. Box 4048, Santa Ana, CA 92701</div><div>Email: <a href=\"mailto:kostas.alexandridis@ocpw.ocgov.com\" target=\"_blank\">kostas.alexandridis@ocpw.ocgov.com</a> | Phone: (714) 967-0826</div><div><br /></div></div></div>\"\"\"\n",
    "mdoMapPointOhs.thumbnailUri = \"https://ocpw.maps.arcgis.com/sharing/rest/content/items/6b96b7d6d5394cbb95aa2fae390503a9/data\"\n",
    "\n",
    "# Apply the metadata to the map\n",
    "mapPointOhs.metadata = mdoMapPointOhs"
   ]
  },
  {
   "cell_type": "markdown",
   "metadata": {},
   "source": [
    "<h3 style=\"font-weight:bold; color:lime; padding-left: 50px\">19. Population Density Map Metadata</h3>"
   ]
  },
  {
   "cell_type": "markdown",
   "metadata": {},
   "source": [
    "Create a new metadata object for the population density map and assign it to the map"
   ]
  },
  {
   "cell_type": "code",
   "execution_count": 41,
   "metadata": {},
   "outputs": [],
   "source": [
    "mdoMapPopDens = md.Metadata()\n",
    "mdoMapPopDens.title = \"OCSWITRS Population Density Map\"\n",
    "mdoMapPopDens.tags = \"Orange County, California, Roads, Traffic, Road Safety, Transportation, Collisions, Crashes, SWITRS, OCSWITRS\"\n",
    "mdoMapPopDens.summary = \"Population Density Map for the OCSWITRS Project\"\n",
    "mdoMapPopDens.description = \"\"\"<div style=\"text-align:Left;\"><div><div><p><span>The map displays the population density (per square mile) in Orange County by Census Blocks (US Census 2000). The data source is the US Centennial Census of 2000.</span></p></div></div></div>\"\"\"\n",
    "mdoMapPopDens.credits = \"Dr. Kostas Alexandridis, GISP, Data Scientist, OC Public Works, OC Survey Geospatial Services\"\n",
    "mdoMapPopDens.accessConstraints = \"\"\"<div style=\"text-align:Left;\"><div><div><p><span>The feed data and associated resources (maps, apps, endpoints) can be used under a <a href=\"https://creativecommons.org/licenses/by-sa/3.0/\" target=\"_blank\">Creative Commons CC-SA-BY</a> License, providing attribution to OC Public Works, OC Survey Geospatial Services. </p><div>We make every effort to provide the most accurate and up-to-date data and information. Nevertheless, the data feed is provided, 'as is' and OC Public Work's standard <a href=\"https://www.ocgov.com/contact-county/disclaimer\" target=\"_blank\">Disclaimer</a> applies.<br /></div><div><br /></div><div>For any inquiries, suggestions or questions, please contact:</div><div><br /></div><div style=\"text-align:center;\"><a href=\"https://www.linkedin.com/in/ktalexan/\" target=\"_blank\"><b>Dr. Kostas Alexandridis, GISP</b></a><br /></div><div style=\"text-align:center;\">GIS Analyst | Spatial Complex Systems Scientist</div><div style=\"text-align:center;\">OC Public Works/OC Survey Geospatial Applications</div><div style=\"text-align:center;\"><div>601 N. Ross Street, P.O. Box 4048, Santa Ana, CA 92701</div><div>Email: <a href=\"mailto:kostas.alexandridis@ocpw.ocgov.com\" target=\"_blank\">kostas.alexandridis@ocpw.ocgov.com</a> | Phone: (714) 967-0826</div><div><br /></div></div></div>\"\"\"\n",
    "mdoMapPopDens.thumbnailUri = \"https://ocpw.maps.arcgis.com/sharing/rest/content/items/76f6fbe9acbb482c9684307854d6352b/data\"\n",
    "\n",
    "# Apply the metadata to the map\n",
    "mapPopDens.metadata = mdoMapPopDens"
   ]
  },
  {
   "cell_type": "markdown",
   "metadata": {},
   "source": [
    "<h3 style=\"font-weight:bold; color:lime; padding-left: 50px\">20. Housing Density Map Metadata</h3>"
   ]
  },
  {
   "cell_type": "markdown",
   "metadata": {},
   "source": [
    "Create a new metadata object for the housing density map and assign it to the map"
   ]
  },
  {
   "cell_type": "code",
   "execution_count": 42,
   "metadata": {},
   "outputs": [],
   "source": [
    "mdoMapHouDens = md.Metadata()\n",
    "mdoMapHouDens.title = \"OCSWITRS Housing Density Map\"\n",
    "mdoMapHouDens.tags = \"Orange County, California, Roads, Traffic, Road Safety, Transportation, Collisions, Crashes, SWITRS, OCSWITRS\"\n",
    "mdoMapHouDens.summary = \"Housing Density Map for the OCSWITRS Project\"\n",
    "mdoMapHouDens.description = \"\"\"<div style=\"text-align:Left;\"><div><div><p><span>The map displays the housing density (per square mile) in Orange County by Census Blocks (US Census 2000). The data source is the US Centennial Census of 2000.</span></p></div></div></div>\"\"\"\n",
    "mdoMapHouDens.credits = \"Dr. Kostas Alexandridis, GISP, Data Scientist, OC Public Works, OC Survey Geospatial Services\"\n",
    "mdoMapHouDens.accessConstraints = \"\"\"<div style=\"text-align:Left;\"><div><div><p><span>The feed data and associated resources (maps, apps, endpoints) can be used under a <a href=\"https://creativecommons.org/licenses/by-sa/3.0/\" target=\"_blank\">Creative Commons CC-SA-BY</a> License, providing attribution to OC Public Works, OC Survey Geospatial Services. </p><div>We make every effort to provide the most accurate and up-to-date data and information. Nevertheless, the data feed is provided, 'as is' and OC Public Work's standard <a href=\"https://www.ocgov.com/contact-county/disclaimer\" target=\"_blank\">Disclaimer</a> applies.<br /></div><div><br /></div><div>For any inquiries, suggestions or questions, please contact:</div><div><br /></div><div style=\"text-align:center;\"><a href=\"https://www.linkedin.com/in/ktalexan/\" target=\"_blank\"><b>Dr. Kostas Alexandridis, GISP</b></a><br /></div><div style=\"text-align:center;\">GIS Analyst | Spatial Complex Systems Scientist</div><div style=\"text-align:center;\">OC Public Works/OC Survey Geospatial Applications</div><div style=\"text-align:center;\"><div>601 N. Ross Street, P.O. Box 4048, Santa Ana, CA 92701</div><div>Email: <a href=\"mailto:kostas.alexandridis@ocpw.ocgov.com\" target=\"_blank\">kostas.alexandridis@ocpw.ocgov.com</a> | Phone: (714) 967-0826</div><div><br /></div></div></div>\"\"\"\n",
    "mdoMapHouDens.thumbnailUri = \"https://ocpw.maps.arcgis.com/sharing/rest/content/items/76f6fbe9acbb482c9684307854d6352b/data\"\n",
    "\n",
    "# Apply the metadata to the map\n",
    "mapHouDens.metadata = mdoMapHouDens"
   ]
  },
  {
   "cell_type": "markdown",
   "metadata": {},
   "source": [
    "<h3 style=\"font-weight:bold; color:lime; padding-left: 50px\">21. City Areas Victims Map Metadata</h3>"
   ]
  },
  {
   "cell_type": "markdown",
   "metadata": {},
   "source": [
    "Create a new metadata object for the victims by city areas map and assign it to the map"
   ]
  },
  {
   "cell_type": "code",
   "execution_count": 43,
   "metadata": {},
   "outputs": [],
   "source": [
    "mdoMapAreaCities = md.Metadata()\n",
    "mdoMapAreaCities.title = \"OCSWITRS City Areas Victims Count Map\"\n",
    "mdoMapAreaCities.tags = \"Orange County, California, Roads, Traffic, Road Safety, Transportation, Collisions, Crashes, SWITRS, OCSWITRS\"\n",
    "mdoMapAreaCities.summary = \"City Areas Victims Count Map for the OCSWITRS Project\"\n",
    "mdoMapAreaCities.description = \"\"\"<div style=\"text-align:Left;\"><div><div><p><span>The map displays the number of victims involved in traffic incidents in Orange County by City Areas. The data source is the SWITRS database maintained by the California Highway Patrol (CHP).</span></p></div></div></div>\"\"\"\n",
    "mdoMapAreaCities.credits = \"Dr. Kostas Alexandridis, GISP, Data Scientist, OC Public Works, OC Survey Geospatial Services\"\n",
    "mdoMapAreaCities.accessConstraints = \"\"\"<div style=\"text-align:Left;\"><div><div><p><span>The feed data and associated resources (maps, apps, endpoints) can be used under a <a href=\"https://creativecommons.org/licenses/by-sa/3.0/\" target=\"_blank\">Creative Commons CC-SA-BY</a> License, providing attribution to OC Public Works, OC Survey Geospatial Services. </p><div>We make every effort to provide the most accurate and up-to-date data and information. Nevertheless, the data feed is provided, 'as is' and OC Public Work's standard <a href=\"https://www.ocgov.com/contact-county/disclaimer\" target=\"_blank\">Disclaimer</a> applies.<br /></div><div><br /></div><div>For any inquiries, suggestions or questions, please contact:</div><div><br /></div><div style=\"text-align:center;\"><a href=\"https://www.linkedin.com/in/ktalexan/\" target=\"_blank\"><b>Dr. Kostas Alexandridis, GISP</b></a><br /></div><div style=\"text-align:center;\">GIS Analyst | Spatial Complex Systems Scientist</div><div style=\"text-align:center;\">OC Public Works/OC Survey Geospatial Applications</div><div style=\"text-align:center;\"><div>601 N. Ross Street, P.O. Box 4048, Santa Ana, CA 92701</div><div>Email: <a href=\"mailto:kostas.alexandridis@ocpw.ocgov.com\" target=\"_blank\">kostas.alexandridis@ocpw.ocgov.com</a> | Phone: (714) 967-0826</div><div><br /></div></div></div>\"\"\"\n",
    "mdoMapAreaCities.thumbnailUri = \"https://ocpw.maps.arcgis.com/sharing/rest/content/items/76f6fbe9acbb482c9684307854d6352b/data\"\n",
    "\n",
    "# Apply the metadata to the map\n",
    "mapAreaCities.metadata = mdoMapAreaCities"
   ]
  },
  {
   "cell_type": "markdown",
   "metadata": {},
   "source": [
    "<h3 style=\"font-weight:bold; color:lime; padding-left: 50px\">22. Census Blocks Victims Map Metadata</h3>"
   ]
  },
  {
   "cell_type": "markdown",
   "metadata": {},
   "source": [
    "Create a new metadata object for the victims by census blocks map and assign it to the map"
   ]
  },
  {
   "cell_type": "code",
   "execution_count": 44,
   "metadata": {},
   "outputs": [],
   "source": [
    "mdoMapAreaBlocks = md.Metadata()\n",
    "mdoMapAreaBlocks.title = \"OCSWITRS Census Blocks Victims Count Map\"\n",
    "mdoMapAreaBlocks.tags = \"Orange County, California, Roads, Traffic, Road Safety, Transportation, Collisions, Crashes, SWITRS, OCSWITRS\"\n",
    "mdoMapAreaBlocks.summary = \"Census Blocks Victims Count Map for the OCSWITRS Project\"\n",
    "mdoMapAreaBlocks.description = \"\"\"<div style=\"text-align:Left;\"><div><div><p><span>The map displays the number of victims involved in traffic incidents in Orange County by Census Blocks. The data source is the SWITRS database maintained by the California Highway Patrol (CHP).</span></p></div></div></div>\"\"\"\n",
    "mdoMapAreaBlocks.credits = \"Dr. Kostas Alexandridis, GISP, Data Scientist, OC Public Works, OC Survey Geospatial Services\"\n",
    "mdoMapAreaBlocks.accessConstraints = \"\"\"<div style=\"text-align:Left;\"><div><div><p><span>The feed data and associated resources (maps, apps, endpoints) can be used under a <a href=\"https://creativecommons.org/licenses/by-sa/3.0/\" target=\"_blank\">Creative Commons CC-SA-BY</a> License, providing attribution to OC Public Works, OC Survey Geospatial Services. </p><div>We make every effort to provide the most accurate and up-to-date data and information. Nevertheless, the data feed is provided, 'as is' and OC Public Work's standard <a href=\"https://www.ocgov.com/contact-county/disclaimer\" target=\"_blank\">Disclaimer</a> applies.<br /></div><div><br /></div><div>For any inquiries, suggestions or questions, please contact:</div><div><br /></div><div style=\"text-align:center;\"><a href=\"https://www.linkedin.com/in/ktalexan/\" target=\"_blank\"><b>Dr. Kostas Alexandridis, GISP</b></a><br /></div><div style=\"text-align:center;\">GIS Analyst | Spatial Complex Systems Scientist</div><div style=\"text-align:center;\">OC Public Works/OC Survey Geospatial Applications</div><div style=\"text-align:center;\"><div>601 N. Ross Street, P.O. Box 4048, Santa Ana, CA 92701</div><div>Email: <a href=\"mailto:kostas.alexandridis@ocpw.ocgov.com\" target=\"_blank\">kostas.alexandridis@ocpw.ocgov.com</a> | Phone: (714) 967-0826</div><div><br /></div></div></div>\"\"\"\n",
    "mdoMapAreaBlocks.thumbnailUri = \"https://ocpw.maps.arcgis.com/sharing/rest/content/items/76f6fbe9acbb482c9684307854d6352b/data\"\n",
    "\n",
    "# Apply the metadata to the map\n",
    "mapAreaBlocks.metadata = mdoMapAreaBlocks"
   ]
  },
  {
   "cell_type": "markdown",
   "metadata": {},
   "source": [
    "<h3 style=\"font-weight:bold; color:lime; padding-left: 50px\">23. Summaries Map Metadata</h3>"
   ]
  },
  {
   "cell_type": "markdown",
   "metadata": {},
   "source": [
    "Create a new metadata object for the summaries map and assign it to the map"
   ]
  },
  {
   "cell_type": "code",
   "execution_count": 45,
   "metadata": {},
   "outputs": [],
   "source": [
    "mdoMapSummaries = md.Metadata()\n",
    "mdoMapSummaries.title = \"OCSWITRS Summaries Map\"\n",
    "mdoMapSummaries.tags = \"Orange County, California, Traffic, Traffic Conditions, Crashes, Collisions, Road Safety, Accidents, SWITRS, OCSWITRS, Transportation\"\n",
    "mdoMapSummaries.summary = f\"Statewide Integrated Traffic Records System (SWITRS) Summaries Map for Orange County, California ({mdYears})\"\n",
    "mdoMapSummaries.description = \"\"\"<div style=\"text-align:Left;\"><div><div><p><span>Summarized data representation and visualization for the Orange County OCSWITRS traffic incident data.</span></p></div></div></div>\"\"\"\n",
    "mdoMapSummaries.credits = \"Dr. Kostas Alexandridis, GISP, Data Scientist, OC Public Works, OC Survey Geospatial Services\"\n",
    "mdoMapSummaries.accessConstraints = \"\"\"<div style=\"text-align:Left;\"><div><div><p><span>The feed data and associated resources (maps, apps, endpoints) can be used under a <a href=\"https://creativecommons.org/licenses/by-sa/3.0/\" target=\"_blank\">Creative Commons CC-SA-BY</a> License, providing attribution to OC Public Works, OC Survey Geospatial Services. </p><div>We make every effort to provide the most accurate and up-to-date data and information. Nevertheless, the data feed is provided, 'as is' and OC Public Work's standard <a href=\"https://www.ocgov.com/contact-county/disclaimer\" target=\"_blank\">Disclaimer</a> applies.<br /></div><div><br /></div><div>For any inquiries, suggestions or questions, please contact:</div><div><br /></div><div style=\"text-align:center;\"><a href=\"https://www.linkedin.com/in/ktalexan/\" target=\"_blank\"><b>Dr. Kostas Alexandridis, GISP</b></a><br /></div><div style=\"text-align:center;\">GIS Analyst | Spatial Complex Systems Scientist</div><div style=\"text-align:center;\">OC Public Works/OC Survey Geospatial Applications</div><div style=\"text-align:center;\"><div>601 N. Ross Street, P.O. Box 4048, Santa Ana, CA 92701</div><div>Email: <a href=\"mailto:kostas.alexandridis@ocpw.ocgov.com\" target=\"_blank\">kostas.alexandridis@ocpw.ocgov.com</a> | Phone: (714) 967-0826</div><div><br /></div></div></div>\"\"\"\n",
    "mdoMapSummaries.thumbnailUri = \"https://ocpw.maps.arcgis.com/sharing/rest/content/items/6b96b7d6d5394cbb95aa2fae390503a9/data\"\n",
    "\n",
    "# Apply the metadata to the map\n",
    "mapSummaries.metadata = mdoMapSummaries"
   ]
  },
  {
   "cell_type": "markdown",
   "metadata": {},
   "source": [
    "<h3 style=\"font-weight:bold; color:lime; padding-left: 50px\">24. Analysis Map Metadata</h3>"
   ]
  },
  {
   "cell_type": "markdown",
   "metadata": {},
   "source": [
    "Create a new metadata object for the analysis map and assign it to the map"
   ]
  },
  {
   "cell_type": "code",
   "execution_count": 46,
   "metadata": {},
   "outputs": [],
   "source": [
    "mdoMapAnalysis = md.Metadata()\n",
    "mdoMapAnalysis.title = \"OCSWITRS Analysis Map\"\n",
    "mdoMapAnalysis.tags = \"Orange County, California, Traffic, Traffic Conditions, Crashes, Collisions, Road Safety, Accidents, SWITRS, OCSWITRS, Transportation\"\n",
    "mdoMapAnalysis.summary = f\"Statewide Integrated Traffic Records System (SWITRS) Analysis Map for Orange County, California ({mdYears})\"\n",
    "mdoMapAnalysis.description = \"\"\"<div style=\"text-align:Left;\"><div><div><p><span>Analysis and visualization for the OCSWITRS Project Data</span></p></div></div></div>\"\"\"\n",
    "mdoMapAnalysis.credits = \"Dr. Kostas Alexandridis, GISP, Data Scientist, OC Public Works, OC Survey Geospatial Services\"\n",
    "mdoMapAnalysis.accessConstraints = \"\"\"<div style=\"text-align:Left;\"><div><div><p><span>The feed data and associated resources (maps, apps, endpoints) can be used under a <a href=\"https://creativecommons.org/licenses/by-sa/3.0/\" target=\"_blank\">Creative Commons CC-SA-BY</a> License, providing attribution to OC Public Works, OC Survey Geospatial Services. </p><div>We make every effort to provide the most accurate and up-to-date data and information. Nevertheless, the data feed is provided, 'as is' and OC Public Work's standard <a href=\"https://www.ocgov.com/contact-county/disclaimer\" target=\"_blank\">Disclaimer</a> applies.<br /></div><div><br /></div><div>For any inquiries, suggestions or questions, please contact:</div><div><br /></div><div style=\"text-align:center;\"><a href=\"https://www.linkedin.com/in/ktalexan/\" target=\"_blank\"><b>Dr. Kostas Alexandridis, GISP</b></a><br /></div><div style=\"text-align:center;\">GIS Analyst | Spatial Complex Systems Scientist</div><div style=\"text-align:center;\">OC Public Works/OC Survey Geospatial Applications</div><div style=\"text-align:center;\"><div>601 N. Ross Street, P.O. Box 4048, Santa Ana, CA 92701</div><div>Email: <a href=\"mailto:kostas.alexandridis@ocpw.ocgov.com\" target=\"_blank\">kostas.alexandridis@ocpw.ocgov.com</a> | Phone: (714) 967-0826</div><div><br /></div></div></div>\"\"\"\n",
    "mdoMapAnalysis.thumbnailUri = \"https://ocpw.maps.arcgis.com/sharing/rest/content/items/6b96b7d6d5394cbb95aa2fae390503a9/data\"\n",
    "\n",
    "# Apply the metadata to the map\n",
    "mapAnalysis.metadata = mdoMapAnalysis"
   ]
  },
  {
   "cell_type": "markdown",
   "metadata": {},
   "source": [
    "<h3 style=\"font-weight:bold; color:lime; padding-left: 50px\">25. Regression Map Metadata</h3>"
   ]
  },
  {
   "cell_type": "markdown",
   "metadata": {},
   "source": [
    "Create a new metadata object for the regression map and assign it to the map"
   ]
  },
  {
   "cell_type": "code",
   "execution_count": 47,
   "metadata": {},
   "outputs": [],
   "source": [
    "mdoMapRegression = md.Metadata()\n",
    "mdoMapRegression.title = \"OCSWITRS Regression Analysis Map\"\n",
    "mdoMapRegression.tags = \"Orange County, California, Traffic, Traffic Conditions, Crashes, Collisions, Road Safety, Accidents, SWITRS, OCSWITRS, Transportation\"\n",
    "mdoMapRegression.summary = f\"Statewide Integrated Traffic Records System (SWITRS) Regression Analysis Map for Orange County, California ({mdYears})\"\n",
    "mdoMapRegression.description = \"\"\"<div style=\"text-align:Left;\"><div><div><p><span>Regression Analysis for the OCSWITRS Project Data</span></p></div></div></div>\"\"\"\n",
    "mdoMapRegression.credits = \"Dr. Kostas Alexandridis, GISP, Data Scientist, OC Public Works, OC Survey Geospatial Services\"\n",
    "mdoMapRegression.accessConstraints = \"\"\"<div style=\"text-align:Left;\"><div><div><p><span>The feed data and associated resources (maps, apps, endpoints) can be used under a <a href=\"https://creativecommons.org/licenses/by-sa/3.0/\" target=\"_blank\">Creative Commons CC-SA-BY</a> License, providing attribution to OC Public Works, OC Survey Geospatial Services. </p><div>We make every effort to provide the most accurate and up-to-date data and information. Nevertheless, the data feed is provided, 'as is' and OC Public Work's standard <a href=\"https://www.ocgov.com/contact-county/disclaimer\" target=\"_blank\">Disclaimer</a> applies.<br /></div><div><br /></div><div>For any inquiries, suggestions or questions, please contact:</div><div><br /></div><div style=\"text-align:center;\"><a href=\"https://www.linkedin.com/in/ktalexan/\" target=\"_blank\"><b>Dr. Kostas Alexandridis, GISP</b></a><br /></div><div style=\"text-align:center;\">GIS Analyst | Spatial Complex Systems Scientist</div><div style=\"text-align:center;\">OC Public Works/OC Survey Geospatial Applications</div><div style=\"text-align:center;\"><div>601 N. Ross Street, P.O. Box 4048, Santa Ana, CA 92701</div><div>Email: <a href=\"mailto:kostas.alexandridis@ocpw.ocgov.com\" target=\"_blank\">kostas.alexandridis@ocpw.ocgov.com</a> | Phone: (714) 967-0826</div><div><br /></div></div></div>\"\"\"\n",
    "mdoMapRegression.thumbnailUri = \"https://ocpw.maps.arcgis.com/sharing/rest/content/items/6b96b7d6d5394cbb95aa2fae390503a9/data\"\n",
    "\n",
    "# Apply the metadata to the map\n",
    "mapRegression.metadata = mdoMapRegression"
   ]
  },
  {
   "cell_type": "markdown",
   "metadata": {},
   "source": [
    "<h3 style=\"font-weight:bold; color:lime; padding-left: 50px\">Save Project</h3>"
   ]
  },
  {
   "cell_type": "code",
   "execution_count": 48,
   "metadata": {},
   "outputs": [],
   "source": [
    "# Save the project\n",
    "aprx.save()"
   ]
  },
  {
   "cell_type": "markdown",
   "metadata": {},
   "source": [
    "<h1 style=\"font-weight:bold; color:orangered; border-bottom: 2px solid orangered\">3. Map Layers Processing</h1>"
   ]
  },
  {
   "cell_type": "markdown",
   "metadata": {},
   "source": [
    "In this section we will be creating map layers for the feature classes in the geodatabase. The layers will be added to the maps and layouts."
   ]
  },
  {
   "cell_type": "markdown",
   "metadata": {},
   "source": [
    "<h2 style=\"font-weight:bold; color:dodgerblue; border-bottom: 1px solid dodgerblue; padding-left: 25px\">3.1. Time Settings Configuration</h2>"
   ]
  },
  {
   "cell_type": "markdown",
   "metadata": {},
   "source": [
    "Define time settings configuration for the map layers"
   ]
  },
  {
   "cell_type": "code",
   "execution_count": 49,
   "metadata": {},
   "outputs": [],
   "source": [
    "# Define the key time parameters for the layers using a dictionary\n",
    "timeSettings = {\n",
    "    \"st\": datetime(2012, 1, 1, 0, 0, 0),\n",
    "    \"et\": datetime(2024, 9, 30, 23, 59, 59),\n",
    "    \"td\": datetime(2024, 9, 30, 23, 59, 59) - datetime(2012, 1, 1, 0, 0, 0),\n",
    "    \"stf\": \"dateDatetime\",\n",
    "    \"tsi\": 1.0,\n",
    "    \"tsiu\": \"months\",\n",
    "    \"tz\": arcpy.mp.ListTimeZones(\"*Pacific*\")[0]\n",
    "}\n",
    "# where, st: start time, et: end time, td: time extent, stf: time field,\n",
    "# tsi: time interval, tsiu: time units, tz: time zone"
   ]
  },
  {
   "cell_type": "markdown",
   "metadata": {},
   "source": [
    "Define a function that enables time settings in data layers"
   ]
  },
  {
   "cell_type": "code",
   "execution_count": 50,
   "metadata": {},
   "outputs": [],
   "source": [
    "def setLayerTime(layer):\n",
    "    \"\"\"Set the time properties for a layer in the map\"\"\"\n",
    "    # Check if the layer is time-enabled\n",
    "    if not layer.isTimeEnabled:\n",
    "        # Enable time for the layer\n",
    "        layer.enableTime(\"dateDatetime\", \"\", \"TRUE\", None)\n",
    "        # Set the start time for the layer\n",
    "        layer.time.startTime = timeSettings[\"st\"]\n",
    "        # Set the end time for the layer\n",
    "        layer.time.endTime = timeSettings[\"et\"]\n",
    "        # Set the time field for the layer\n",
    "        layer.time.startTimeField = timeSettings[\"stf\"]\n",
    "        # Set the time step interval for the layer\n",
    "        layer.time.timeStepInterval = timeSettings[\"tsi\"]\n",
    "        # Set the time step interval units for the layer\n",
    "        layer.time.timeStepIntervalUnits = timeSettings[\"tsiu\"]\n",
    "        # Set the time zone for the layer\n",
    "        layer.time.timeZone = timeSettings[\"tz\"]\n",
    "\n",
    "    # Re assign step interval and time units\n",
    "    if layer.isTimeEnabled:\n",
    "        layer.time.timeStepInterval = 1.0\n",
    "        layer.time.timeStepIntervalUnits = \"months\""
   ]
  },
  {
   "cell_type": "markdown",
   "metadata": {},
   "source": [
    "<h2 style=\"font-weight:bold; color:dodgerblue; border-bottom: 1px solid dodgerblue; padding-left: 25px\">3.2. Collisions Map Layers</h2>"
   ]
  },
  {
   "cell_type": "markdown",
   "metadata": {},
   "source": [
    "<h3 style=\"font-weight:bold; color:lime; padding-left: 50px\">Open Map View</h3>"
   ]
  },
  {
   "cell_type": "markdown",
   "metadata": {},
   "source": [
    "Close all open maps, open the collisions map and set it as the active map"
   ]
  },
  {
   "cell_type": "code",
   "execution_count": 51,
   "metadata": {},
   "outputs": [],
   "source": [
    "# Close all previous map views\n",
    "aprx.closeViews()\n",
    "\n",
    "# Open the roads map view\n",
    "mapCollisions.openView()\n",
    "\n",
    "# set the main map as active map\n",
    "map = aprx.activeMap"
   ]
  },
  {
   "cell_type": "markdown",
   "metadata": {},
   "source": [
    "Remove all layers from the active map"
   ]
  },
  {
   "cell_type": "code",
   "execution_count": 52,
   "metadata": {},
   "outputs": [],
   "source": [
    "for lyr in mapCollisions.listLayers():\n",
    "    if not lyr.isBasemapLayer:\n",
    "        print(f\"Removing layer: {lyr.name}\")\n",
    "        mapCollisions.removeLayer(lyr)"
   ]
  },
  {
   "cell_type": "markdown",
   "metadata": {},
   "source": [
    "<h3 style=\"font-weight:bold; color:lime; padding-left: 50px\">Add Layers to Map</h3>"
   ]
  },
  {
   "cell_type": "markdown",
   "metadata": {},
   "source": [
    "Add the feature classes as layers to the map (in order, as the first layer goes to the bottom of the contents)"
   ]
  },
  {
   "cell_type": "code",
   "execution_count": 53,
   "metadata": {},
   "outputs": [],
   "source": [
    "# Add the data layers to the map\n",
    "mapCollisionsLyrBoundaries = mapCollisions.addDataFromPath(boundaries)\n",
    "mapCollisionsLyrCities = mapCollisions.addDataFromPath(cities)\n",
    "mapCollisionsLyrCensusBlocks = mapCollisions.addDataFromPath(censusBlocks)\n",
    "mapCollisionsLyrRoads = mapCollisions.addDataFromPath(roads)\n",
    "mapCollisionsLyrCollisions = mapCollisions.addDataFromPath(collisions)\n",
    "\n",
    "# Set layer visibility on the map\n",
    "mapCollisionsLyrBoundaries.visible = False\n",
    "mapCollisionsLyrCities.visible = False\n",
    "mapCollisionsLyrCensusBlocks.visible = False\n",
    "mapCollisionsLyrRoads.visible = False\n",
    "mapCollisionsLyrCollisions.visible = False"
   ]
  },
  {
   "cell_type": "markdown",
   "metadata": {},
   "source": [
    "<h3 style=\"font-weight:bold; color:lime; padding-left: 50px\">Enable Time Settings</h3>"
   ]
  },
  {
   "cell_type": "markdown",
   "metadata": {},
   "source": [
    "Setup and enable time settings for the collisions map layers"
   ]
  },
  {
   "cell_type": "code",
   "execution_count": 54,
   "metadata": {},
   "outputs": [],
   "source": [
    "setLayerTime(mapCollisionsLyrCollisions)"
   ]
  },
  {
   "cell_type": "markdown",
   "metadata": {},
   "source": [
    "<h3 style=\"font-weight:bold; color:lime; padding-left: 50px\">Layer Symbology</h3>"
   ]
  },
  {
   "cell_type": "markdown",
   "metadata": {},
   "source": [
    "Define symbology for each of the map layers. The symbology is predefined in the project's template layer folders."
   ]
  },
  {
   "cell_type": "markdown",
   "metadata": {},
   "source": [
    "- Collisions layer"
   ]
  },
  {
   "cell_type": "code",
   "execution_count": 55,
   "metadata": {},
   "outputs": [
    {
     "name": "stdout",
     "output_type": "stream",
     "text": [
      "Start Time: Thursday, February 27, 2025 1:51:33 PM\n",
      "Succeeded at Thursday, February 27, 2025 1:51:33 PM (Elapsed Time: 0.07 seconds)\n"
     ]
    }
   ],
   "source": [
    "# Apply the symbology for the Collisions data layer\n",
    "arcpy.management.ApplySymbologyFromLayer(\n",
    "    in_layer = mapCollisionsLyrCollisions,\n",
    "    in_symbology_layer = os.path.join(layersTemplates, \"OCSWITRS Collisions.lyrx\"),\n",
    "    symbology_fields = [[\"VALUE_FIELD\", \"collSeverity\", \"collSeverity\"]],\n",
    "    update_symbology = \"MAINTAIN\"\n",
    ")\n",
    "print(arcpy.GetMessages())"
   ]
  },
  {
   "cell_type": "markdown",
   "metadata": {},
   "source": [
    "- Roads layer"
   ]
  },
  {
   "cell_type": "code",
   "execution_count": 56,
   "metadata": {},
   "outputs": [
    {
     "name": "stdout",
     "output_type": "stream",
     "text": [
      "Start Time: Thursday, February 27, 2025 1:51:34 PM\n",
      "Succeeded at Thursday, February 27, 2025 1:51:34 PM (Elapsed Time: 0.03 seconds)\n"
     ]
    }
   ],
   "source": [
    "# Apply the symbology for the Roads data layer\n",
    "arcpy.management.ApplySymbologyFromLayer(\n",
    "    in_layer = mapCollisionsLyrRoads,\n",
    "    in_symbology_layer = os.path.join(layersTemplates, \"OCSWITRS Roads.lyrx\"),\n",
    "    symbology_fields = [[\"VALUE_FIELD\", \"roadCat\", \"roadCat\"]],\n",
    "    update_symbology = \"MAINTAIN\"\n",
    ")\n",
    "print(arcpy.GetMessages())"
   ]
  },
  {
   "cell_type": "markdown",
   "metadata": {},
   "source": [
    "- Census Blocks layer"
   ]
  },
  {
   "cell_type": "code",
   "execution_count": 57,
   "metadata": {},
   "outputs": [
    {
     "name": "stdout",
     "output_type": "stream",
     "text": [
      "Start Time: Thursday, February 27, 2025 1:51:34 PM\n",
      "Succeeded at Thursday, February 27, 2025 1:51:34 PM (Elapsed Time: 0.04 seconds)\n"
     ]
    }
   ],
   "source": [
    "# Apply the symbology for the US Census 2020 Blocks data layer\n",
    "arcpy.management.ApplySymbologyFromLayer(\n",
    "    in_layer = mapCollisionsLyrCensusBlocks,\n",
    "    in_symbology_layer = os.path.join(layersTemplates, \"OCSWITRS Census Blocks.lyrx\"),\n",
    "    symbology_fields = [[\"VALUE_FIELD\", \"populationDensity\", \"populationDensity\"]],\n",
    "    update_symbology = \"MAINTAIN\"\n",
    ")\n",
    "print(arcpy.GetMessages())"
   ]
  },
  {
   "cell_type": "markdown",
   "metadata": {},
   "source": [
    "- Cities layer"
   ]
  },
  {
   "cell_type": "code",
   "execution_count": 58,
   "metadata": {},
   "outputs": [
    {
     "name": "stdout",
     "output_type": "stream",
     "text": [
      "Start Time: Thursday, February 27, 2025 1:51:35 PM\n",
      "Succeeded at Thursday, February 27, 2025 1:51:35 PM (Elapsed Time: 0.05 seconds)\n"
     ]
    }
   ],
   "source": [
    "# Apply the symbology for the Cities data layer\n",
    "arcpy.management.ApplySymbologyFromLayer(\n",
    "    in_layer = mapCollisionsLyrCities,\n",
    "    in_symbology_layer = os.path.join(layersTemplates, \"OCSWITRS Cities.lyrx\"),\n",
    "    symbology_fields = [[\"VALUE_FIELD\", \"cityPopDens\", \"cityPopDens\"]],\n",
    "    update_symbology = \"MAINTAIN\"\n",
    ")\n",
    "print(arcpy.GetMessages())"
   ]
  },
  {
   "cell_type": "markdown",
   "metadata": {},
   "source": [
    "- Boundaries layer"
   ]
  },
  {
   "cell_type": "code",
   "execution_count": 59,
   "metadata": {},
   "outputs": [
    {
     "name": "stdout",
     "output_type": "stream",
     "text": [
      "Start Time: Thursday, February 27, 2025 1:51:35 PM\n",
      "Succeeded at Thursday, February 27, 2025 1:51:35 PM (Elapsed Time: 0.03 seconds)\n"
     ]
    }
   ],
   "source": [
    "# Apply the symbology for the Boundaries data layer\n",
    "arcpy.management.ApplySymbologyFromLayer(\n",
    "    in_layer = mapCollisionsLyrBoundaries,\n",
    "    in_symbology_layer = os.path.join(layersTemplates, \"OCSWITRS Boundaries.lyrx\"),\n",
    "    symbology_fields = None,\n",
    "    update_symbology = \"MAINTAIN\"\n",
    ")\n",
    "print(arcpy.GetMessages())"
   ]
  },
  {
   "cell_type": "markdown",
   "metadata": {},
   "source": [
    "<h3 style=\"font-weight:bold; color:lime; padding-left: 50px\">Layer CIM Operations</h3>"
   ]
  },
  {
   "cell_type": "markdown",
   "metadata": {},
   "source": [
    "Generate CIM JSON configuration for layers"
   ]
  },
  {
   "cell_type": "code",
   "execution_count": 60,
   "metadata": {},
   "outputs": [],
   "source": [
    "# Get CIM definitions for the collisions map layers\n",
    "mapCollisionsCimBoundaries = mapCollisionsLyrBoundaries.getDefinition(\"V3\")\n",
    "mapCollisionsCimCities = mapCollisionsLyrCities.getDefinition(\"V3\")\n",
    "mapCollisionsCimCensusBlocks = mapCollisionsLyrCensusBlocks.getDefinition(\"V3\")\n",
    "mapCollisionsCimRoads = mapCollisionsLyrRoads.getDefinition(\"V3\")\n",
    "mapCollisionsCimCollisions = mapCollisionsLyrCollisions.getDefinition(\"V3\")"
   ]
  },
  {
   "cell_type": "markdown",
   "metadata": {},
   "source": [
    "Set symbology headings and update CIM definitions for layers"
   ]
  },
  {
   "cell_type": "code",
   "execution_count": 61,
   "metadata": {},
   "outputs": [],
   "source": [
    "# Set the layer headings\n",
    "mapCollisionsCimBoundaries.renderer.heading = \"Boundaries\"\n",
    "mapCollisionsCimCities.renderer.heading = \"City Population Density\"\n",
    "mapCollisionsCimCensusBlocks.renderer.heading = \"Population Density\"\n",
    "mapCollisionsCimRoads.renderer.heading = \"Road Categories\"\n",
    "mapCollisionsCimCollisions.renderer.heading = \"Severity Level\"\n",
    "\n",
    "# Update the map layer definitions\n",
    "mapCollisionsLyrBoundaries.setDefinition(mapCollisionsCimBoundaries)\n",
    "mapCollisionsLyrCities.setDefinition(mapCollisionsCimCities)\n",
    "mapCollisionsLyrCensusBlocks.setDefinition(mapCollisionsCimCensusBlocks)\n",
    "mapCollisionsLyrRoads.setDefinition(mapCollisionsCimRoads)\n",
    "mapCollisionsLyrCollisions.setDefinition(mapCollisionsCimCollisions)"
   ]
  },
  {
   "cell_type": "markdown",
   "metadata": {},
   "source": [
    "Update the CIM defintion for the collisions map"
   ]
  },
  {
   "cell_type": "code",
   "execution_count": 62,
   "metadata": {},
   "outputs": [],
   "source": [
    "cimCollisions = mapCollisions.getDefinition(\"V3\")  # Collisions map CIM"
   ]
  },
  {
   "cell_type": "markdown",
   "metadata": {},
   "source": [
    "<h3 style=\"font-weight:bold; color:lime; padding-left: 50px\">Export Map and Map Layers</h3>"
   ]
  },
  {
   "cell_type": "markdown",
   "metadata": {},
   "source": [
    "Update the mapx file with the new layers"
   ]
  },
  {
   "cell_type": "code",
   "execution_count": 63,
   "metadata": {},
   "outputs": [
    {
     "name": "stdout",
     "output_type": "stream",
     "text": [
      "Exporting collisions map to MAPX...\n",
      "Start Time: Thursday, February 27, 2025 1:51:35 PM\n",
      "Succeeded at Thursday, February 27, 2025 1:51:35 PM (Elapsed Time: 0.03 seconds)\n",
      "Exporting collisions map to JSON...\n",
      "\n"
     ]
    }
   ],
   "source": [
    "# Update the collisions map mapx file\n",
    "exportCim(\"map\", mapCollisions, \"collisions\")"
   ]
  },
  {
   "cell_type": "markdown",
   "metadata": {},
   "source": [
    "Export map layers as CIM JSON `.lyrx` files to the layers folder directory of the project."
   ]
  },
  {
   "cell_type": "code",
   "execution_count": 64,
   "metadata": {},
   "outputs": [
    {
     "name": "stdout",
     "output_type": "stream",
     "text": [
      "Exporting OCSWITRS Collisions layer to LYRX...\n",
      "Start Time: Thursday, February 27, 2025 1:51:36 PM\n",
      "Succeeded at Thursday, February 27, 2025 1:51:36 PM (Elapsed Time: 0.16 seconds)\n",
      "Exporting OCSWITRS Collisions layer to JSON...\n",
      "\n",
      "Exporting OCSWITRS Roads layer to LYRX...\n",
      "Start Time: Thursday, February 27, 2025 1:51:36 PM\n",
      "Succeeded at Thursday, February 27, 2025 1:51:36 PM (Elapsed Time: 0.05 seconds)\n",
      "Exporting OCSWITRS Roads layer to JSON...\n",
      "\n",
      "Exporting OCSWITRS Census Blocks layer to LYRX...\n",
      "Start Time: Thursday, February 27, 2025 1:51:36 PM\n",
      "Succeeded at Thursday, February 27, 2025 1:51:36 PM (Elapsed Time: 0.06 seconds)\n",
      "Exporting OCSWITRS Census Blocks layer to JSON...\n",
      "\n",
      "Exporting OCSWITRS Cities layer to LYRX...\n",
      "Start Time: Thursday, February 27, 2025 1:51:36 PM\n",
      "Succeeded at Thursday, February 27, 2025 1:51:36 PM (Elapsed Time: 0.05 seconds)\n",
      "Exporting OCSWITRS Cities layer to JSON...\n",
      "\n",
      "Exporting OCSWITRS Boundaries layer to LYRX...\n",
      "Start Time: Thursday, February 27, 2025 1:51:36 PM\n",
      "Succeeded at Thursday, February 27, 2025 1:51:37 PM (Elapsed Time: 0.04 seconds)\n",
      "Exporting OCSWITRS Boundaries layer to JSON...\n",
      "\n"
     ]
    }
   ],
   "source": [
    "for l in mapCollisions.listLayers():\n",
    "    if not l.isBasemapLayer:\n",
    "        exportCim(\"layer\", l, l.name)"
   ]
  },
  {
   "cell_type": "markdown",
   "metadata": {},
   "source": [
    "<h3 style=\"font-weight:bold; color:lime; padding-left: 50px\">Save Project</h3>"
   ]
  },
  {
   "cell_type": "code",
   "execution_count": 65,
   "metadata": {},
   "outputs": [],
   "source": [
    "# Save the project\n",
    "aprx.save()"
   ]
  },
  {
   "cell_type": "markdown",
   "metadata": {},
   "source": [
    "<h2 style=\"font-weight:bold; color:dodgerblue; border-bottom: 1px solid dodgerblue; padding-left: 25px\">3.3. Crashes Map Layers</h2>"
   ]
  },
  {
   "cell_type": "markdown",
   "metadata": {},
   "source": [
    "<h3 style=\"font-weight:bold; color:lime; padding-left: 50px\">Open Map View</h3>"
   ]
  },
  {
   "cell_type": "markdown",
   "metadata": {},
   "source": [
    "Close all open maps, open the crashes map and set it as the active map"
   ]
  },
  {
   "cell_type": "code",
   "execution_count": 66,
   "metadata": {},
   "outputs": [],
   "source": [
    "# Close all previous map views\n",
    "aprx.closeViews()\n",
    "\n",
    "# Open the crashes map view\n",
    "mapCrashes.openView()\n",
    "\n",
    "# set the main map as active map\n",
    "map = aprx.activeMap"
   ]
  },
  {
   "cell_type": "markdown",
   "metadata": {},
   "source": [
    "Remove all layers from the active map"
   ]
  },
  {
   "cell_type": "code",
   "execution_count": 67,
   "metadata": {},
   "outputs": [],
   "source": [
    "for lyr in mapCrashes.listLayers():\n",
    "    if not lyr.isBasemapLayer:\n",
    "        print(f\"Removing layer: {lyr.name}\")\n",
    "        mapCrashes.removeLayer(lyr)"
   ]
  },
  {
   "cell_type": "markdown",
   "metadata": {},
   "source": [
    "<h3 style=\"font-weight:bold; color:lime; padding-left: 50px\">Add Layers to Map</h3>"
   ]
  },
  {
   "cell_type": "markdown",
   "metadata": {},
   "source": [
    "Add the feature classes as layers to the map (in order, as the first layer goes to the bottom of the contents)"
   ]
  },
  {
   "cell_type": "code",
   "execution_count": 68,
   "metadata": {},
   "outputs": [],
   "source": [
    "# Add the data layers to the map\n",
    "mapCrashesLyrBoundaries = mapCrashes.addDataFromPath(boundaries)\n",
    "mapCrashesLyrCities = mapCrashes.addDataFromPath(cities)\n",
    "mapCrashesLyrCensusBlocks = mapCrashes.addDataFromPath(censusBlocks)\n",
    "mapCrashesLyrRoads = mapCrashes.addDataFromPath(roads)\n",
    "mapCrashesLyrCrashes = mapCrashes.addDataFromPath(crashes)\n",
    "\n",
    "# Set layer visibility on the map\n",
    "mapCrashesLyrBoundaries.visible = False\n",
    "mapCrashesLyrCities.visible = False\n",
    "mapCrashesLyrCensusBlocks.visible = False\n",
    "mapCrashesLyrRoads.visible = False\n",
    "mapCrashesLyrCrashes.visible = False"
   ]
  },
  {
   "cell_type": "markdown",
   "metadata": {},
   "source": [
    "<h3 style=\"font-weight:bold; color:lime; padding-left: 50px\">Enable Time Settings</h3>"
   ]
  },
  {
   "cell_type": "markdown",
   "metadata": {},
   "source": [
    "Setup and enable time settings for the crashes map layers"
   ]
  },
  {
   "cell_type": "code",
   "execution_count": 69,
   "metadata": {},
   "outputs": [],
   "source": [
    "setLayerTime(mapCrashesLyrCrashes)"
   ]
  },
  {
   "cell_type": "markdown",
   "metadata": {},
   "source": [
    "<h3 style=\"font-weight:bold; color:lime; padding-left: 50px\">Layer Symbology</h3>"
   ]
  },
  {
   "cell_type": "markdown",
   "metadata": {},
   "source": [
    "Define symbology for each of the map layers. The symbology is predefined in the project's template layer folders."
   ]
  },
  {
   "cell_type": "markdown",
   "metadata": {},
   "source": [
    "- Crashes layer"
   ]
  },
  {
   "cell_type": "code",
   "execution_count": 70,
   "metadata": {},
   "outputs": [
    {
     "name": "stdout",
     "output_type": "stream",
     "text": [
      "Start Time: Thursday, February 27, 2025 1:53:36 PM\n",
      "Succeeded at Thursday, February 27, 2025 1:53:36 PM (Elapsed Time: 0.10 seconds)\n"
     ]
    }
   ],
   "source": [
    "# Apply the symbology for the Collisions data layer\n",
    "arcpy.management.ApplySymbologyFromLayer(\n",
    "    in_layer = mapCrashesLyrCrashes,\n",
    "    in_symbology_layer = os.path.join(layersTemplates, \"OCSWITRS Crashes.lyrx\"),\n",
    "    symbology_fields = [[\"VALUE_FIELD\", \"collSeverity\", \"collSeverity\"]],\n",
    "    update_symbology = \"MAINTAIN\"\n",
    ")\n",
    "print(arcpy.GetMessages())"
   ]
  },
  {
   "cell_type": "markdown",
   "metadata": {},
   "source": [
    "- Roads layer"
   ]
  },
  {
   "cell_type": "code",
   "execution_count": 71,
   "metadata": {},
   "outputs": [
    {
     "name": "stdout",
     "output_type": "stream",
     "text": [
      "Start Time: Thursday, February 27, 2025 1:53:36 PM\n",
      "Succeeded at Thursday, February 27, 2025 1:53:36 PM (Elapsed Time: 0.03 seconds)\n"
     ]
    }
   ],
   "source": [
    "# Apply the symbology for the Roads data layer\n",
    "arcpy.management.ApplySymbologyFromLayer(\n",
    "    in_layer = mapCrashesLyrRoads,\n",
    "    in_symbology_layer = os.path.join(layersTemplates, \"OCSWITRS Roads.lyrx\"),\n",
    "    symbology_fields = [[\"VALUE_FIELD\", \"roadCat\", \"roadCat\"]],\n",
    "    update_symbology = \"MAINTAIN\"\n",
    ")\n",
    "print(arcpy.GetMessages())"
   ]
  },
  {
   "cell_type": "markdown",
   "metadata": {},
   "source": [
    "- Census Blocks layer"
   ]
  },
  {
   "cell_type": "code",
   "execution_count": 72,
   "metadata": {},
   "outputs": [
    {
     "name": "stdout",
     "output_type": "stream",
     "text": [
      "Start Time: Thursday, February 27, 2025 1:53:37 PM\n",
      "Succeeded at Thursday, February 27, 2025 1:53:37 PM (Elapsed Time: 0.05 seconds)\n"
     ]
    }
   ],
   "source": [
    "# Apply the symbology for the US Census 2020 Blocks data layer\n",
    "arcpy.management.ApplySymbologyFromLayer(\n",
    "    in_layer = mapCrashesLyrCensusBlocks,\n",
    "    in_symbology_layer = os.path.join(layersTemplates, \"OCSWITRS Census Blocks.lyrx\"),\n",
    "    symbology_fields = [[\"VALUE_FIELD\", \"populationDensity\", \"populationDensity\"]],\n",
    "    update_symbology = \"MAINTAIN\"\n",
    ")\n",
    "print(arcpy.GetMessages())"
   ]
  },
  {
   "cell_type": "markdown",
   "metadata": {},
   "source": [
    "- Cities layer"
   ]
  },
  {
   "cell_type": "code",
   "execution_count": 73,
   "metadata": {},
   "outputs": [
    {
     "name": "stdout",
     "output_type": "stream",
     "text": [
      "Start Time: Thursday, February 27, 2025 1:53:37 PM\n",
      "Succeeded at Thursday, February 27, 2025 1:53:37 PM (Elapsed Time: 0.04 seconds)\n"
     ]
    }
   ],
   "source": [
    "# Apply the symbology for the Cities data layer\n",
    "arcpy.management.ApplySymbologyFromLayer(\n",
    "    in_layer = mapCrashesLyrCities,\n",
    "    in_symbology_layer = os.path.join(layersTemplates, \"OCSWITRS Cities.lyrx\"),\n",
    "    symbology_fields = [[\"VALUE_FIELD\", \"cityPopDens\", \"cityPopDens\"]],\n",
    "    update_symbology = \"MAINTAIN\"\n",
    ")\n",
    "print(arcpy.GetMessages())"
   ]
  },
  {
   "cell_type": "markdown",
   "metadata": {},
   "source": [
    "- Boundaries layer"
   ]
  },
  {
   "cell_type": "code",
   "execution_count": 74,
   "metadata": {},
   "outputs": [
    {
     "name": "stdout",
     "output_type": "stream",
     "text": [
      "Start Time: Thursday, February 27, 2025 1:53:37 PM\n",
      "Succeeded at Thursday, February 27, 2025 1:53:37 PM (Elapsed Time: 0.05 seconds)\n"
     ]
    }
   ],
   "source": [
    "# Apply the symbology for the Boundaries data layer\n",
    "arcpy.management.ApplySymbologyFromLayer(\n",
    "    in_layer = mapCrashesLyrBoundaries,\n",
    "    in_symbology_layer = os.path.join(layersTemplates, \"OCSWITRS Boundaries.lyrx\"),\n",
    "    symbology_fields = None,\n",
    "    update_symbology = \"MAINTAIN\"\n",
    ")\n",
    "print(arcpy.GetMessages())"
   ]
  },
  {
   "cell_type": "markdown",
   "metadata": {},
   "source": [
    "<h3 style=\"font-weight:bold; color:lime; padding-left: 50px\">Layer CIM Operations</h3>"
   ]
  },
  {
   "cell_type": "markdown",
   "metadata": {},
   "source": [
    "Generate CIM JSON configuration for layers"
   ]
  },
  {
   "cell_type": "code",
   "execution_count": 75,
   "metadata": {},
   "outputs": [],
   "source": [
    "# Get CIM definitions for the crashes map layers\n",
    "mapCrashesCimBoundaries = mapCrashesLyrBoundaries.getDefinition(\"V3\")\n",
    "mapCrashesCimCities = mapCrashesLyrCities.getDefinition(\"V3\")\n",
    "mapCrashesCimCensusBlocks = mapCrashesLyrCensusBlocks.getDefinition(\"V3\")\n",
    "mapCrashesCimRoads = mapCrashesLyrRoads.getDefinition(\"V3\")\n",
    "mapCrashesCimCrashes = mapCrashesLyrCrashes.getDefinition(\"V3\")"
   ]
  },
  {
   "cell_type": "markdown",
   "metadata": {},
   "source": [
    "Set symbology headings and update CIM definitions for layers"
   ]
  },
  {
   "cell_type": "code",
   "execution_count": 76,
   "metadata": {},
   "outputs": [],
   "source": [
    "# Set the layer headings\n",
    "mapCrashesCimBoundaries.renderer.heading = \"Boundaries\"\n",
    "mapCrashesCimCities.renderer.heading = \"City Population Density\"\n",
    "mapCrashesCimCensusBlocks.renderer.heading = \"Population Density\"\n",
    "mapCrashesCimRoads.renderer.heading = \"Road Categories\"\n",
    "mapCrashesCimCrashes.renderer.heading = \"Severity Level\"\n",
    "\n",
    "# Update the map layer definitions\n",
    "mapCrashesLyrBoundaries.setDefinition(mapCrashesCimBoundaries)\n",
    "mapCrashesLyrCities.setDefinition(mapCrashesCimCities)\n",
    "mapCrashesLyrCensusBlocks.setDefinition(mapCrashesCimCensusBlocks)\n",
    "mapCrashesLyrRoads.setDefinition(mapCrashesCimRoads)\n",
    "mapCrashesLyrCrashes.setDefinition(mapCrashesCimCrashes)"
   ]
  },
  {
   "cell_type": "markdown",
   "metadata": {},
   "source": [
    "Update the CIM defintion for the crashes map"
   ]
  },
  {
   "cell_type": "code",
   "execution_count": 77,
   "metadata": {},
   "outputs": [],
   "source": [
    "cimCrashes = mapCrashes.getDefinition(\"V3\")"
   ]
  },
  {
   "cell_type": "markdown",
   "metadata": {},
   "source": [
    "<h3 style=\"font-weight:bold; color:lime; padding-left: 50px\">Export Map and Map Layers</h3>"
   ]
  },
  {
   "cell_type": "markdown",
   "metadata": {},
   "source": [
    "Update the mapx file with the new layers"
   ]
  },
  {
   "cell_type": "code",
   "execution_count": 78,
   "metadata": {},
   "outputs": [
    {
     "name": "stdout",
     "output_type": "stream",
     "text": [
      "Exporting crashes map to MAPX...\n",
      "Start Time: Thursday, February 27, 2025 1:53:37 PM\n",
      "Succeeded at Thursday, February 27, 2025 1:53:37 PM (Elapsed Time: 0.05 seconds)\n",
      "Exporting crashes map to JSON...\n",
      "\n"
     ]
    }
   ],
   "source": [
    "# Update the crashes map mapx file\n",
    "exportCim(\"map\", mapCrashes, \"crashes\")"
   ]
  },
  {
   "cell_type": "markdown",
   "metadata": {},
   "source": [
    "Export map layers as CIM JSON `.lyrx` files to the layers folder directory of the project."
   ]
  },
  {
   "cell_type": "code",
   "execution_count": 79,
   "metadata": {},
   "outputs": [
    {
     "name": "stdout",
     "output_type": "stream",
     "text": [
      "Exporting OCSWITRS Crashes layer to LYRX...\n",
      "Start Time: Thursday, February 27, 2025 1:53:38 PM\n",
      "Succeeded at Thursday, February 27, 2025 1:53:38 PM (Elapsed Time: 0.08 seconds)\n",
      "Exporting OCSWITRS Crashes layer to JSON...\n",
      "\n",
      "Exporting OCSWITRS Roads layer to LYRX...\n",
      "Start Time: Thursday, February 27, 2025 1:53:38 PM\n",
      "Succeeded at Thursday, February 27, 2025 1:53:38 PM (Elapsed Time: 0.07 seconds)\n",
      "Exporting OCSWITRS Roads layer to JSON...\n",
      "\n",
      "Exporting OCSWITRS Census Blocks layer to LYRX...\n",
      "Start Time: Thursday, February 27, 2025 1:53:38 PM\n",
      "Succeeded at Thursday, February 27, 2025 1:53:38 PM (Elapsed Time: 0.07 seconds)\n",
      "Exporting OCSWITRS Census Blocks layer to JSON...\n",
      "\n",
      "Exporting OCSWITRS Cities layer to LYRX...\n",
      "Start Time: Thursday, February 27, 2025 1:53:38 PM\n",
      "Succeeded at Thursday, February 27, 2025 1:53:38 PM (Elapsed Time: 0.05 seconds)\n",
      "Exporting OCSWITRS Cities layer to JSON...\n",
      "\n",
      "Exporting OCSWITRS Boundaries layer to LYRX...\n",
      "Start Time: Thursday, February 27, 2025 1:53:38 PM\n",
      "Succeeded at Thursday, February 27, 2025 1:53:38 PM (Elapsed Time: 0.05 seconds)\n",
      "Exporting OCSWITRS Boundaries layer to JSON...\n",
      "\n"
     ]
    }
   ],
   "source": [
    "# Export the layers to JSON\n",
    "for l in mapCrashes.listLayers():\n",
    "    if not l.isBasemapLayer:\n",
    "        exportCim(\"layer\", l, l.name)"
   ]
  },
  {
   "cell_type": "markdown",
   "metadata": {},
   "source": [
    "<h3 style=\"font-weight:bold; color:lime; padding-left: 50px\">Save Project</h3>"
   ]
  },
  {
   "cell_type": "code",
   "execution_count": 80,
   "metadata": {},
   "outputs": [],
   "source": [
    "# Save the project\n",
    "aprx.save()"
   ]
  },
  {
   "cell_type": "markdown",
   "metadata": {},
   "source": [
    "<h2 style=\"font-weight:bold; color:dodgerblue; border-bottom: 1px solid dodgerblue; padding-left: 25px\">3.4. Parties Map Layers</h2>"
   ]
  },
  {
   "cell_type": "markdown",
   "metadata": {},
   "source": [
    "<h3 style=\"font-weight:bold; color:lime; padding-left: 50px\">Open Map View</h3>"
   ]
  },
  {
   "cell_type": "markdown",
   "metadata": {},
   "source": [
    "Close all open maps, open the parties map and set it as the active map"
   ]
  },
  {
   "cell_type": "code",
   "execution_count": 81,
   "metadata": {},
   "outputs": [],
   "source": [
    "# Close all previous map views\n",
    "aprx.closeViews()\n",
    "\n",
    "# Open the parties map view\n",
    "mapParties.openView()\n",
    "\n",
    "# set the main map as active map\n",
    "map = aprx.activeMap"
   ]
  },
  {
   "cell_type": "markdown",
   "metadata": {},
   "source": [
    "Remove all layers from the active map"
   ]
  },
  {
   "cell_type": "code",
   "execution_count": 82,
   "metadata": {},
   "outputs": [],
   "source": [
    "for lyr in mapParties.listLayers():\n",
    "    if not lyr.isBasemapLayer:\n",
    "        print(f\"Removing layer: {lyr.name}\")\n",
    "        mapParties.removeLayer(lyr)"
   ]
  },
  {
   "cell_type": "markdown",
   "metadata": {},
   "source": [
    "<h3 style=\"font-weight:bold; color:lime; padding-left: 50px\">Add Layers to Map</h3>"
   ]
  },
  {
   "cell_type": "markdown",
   "metadata": {},
   "source": [
    "Add the feature classes as layers to the map (in order, as the first layer goes to the bottom of the contents)"
   ]
  },
  {
   "cell_type": "code",
   "execution_count": 83,
   "metadata": {},
   "outputs": [],
   "source": [
    "# Add the data layers to the map\n",
    "mapPartiesLyrBoundaries = mapParties.addDataFromPath(boundaries)\n",
    "mapPartiesLyrCities = mapParties.addDataFromPath(cities)\n",
    "mapPartiesLyrCensusBlocks = mapParties.addDataFromPath(censusBlocks)\n",
    "mapPartiesLyrRoads = mapParties.addDataFromPath(roads)\n",
    "mapPartiesLyrParties = mapParties.addDataFromPath(parties)\n",
    "\n",
    "# Set layer visibility on the map\n",
    "mapPartiesLyrBoundaries.visible = False\n",
    "mapPartiesLyrCities.visible = False\n",
    "mapPartiesLyrCensusBlocks.visible = False\n",
    "mapPartiesLyrRoads.visible = False\n",
    "mapPartiesLyrParties.visible = False"
   ]
  },
  {
   "cell_type": "markdown",
   "metadata": {},
   "source": [
    "<h3 style=\"font-weight:bold; color:lime; padding-left: 50px\">Enable Time Settings</h3>"
   ]
  },
  {
   "cell_type": "markdown",
   "metadata": {},
   "source": [
    "Setup and enable time settings for the parties map layers"
   ]
  },
  {
   "cell_type": "code",
   "execution_count": 84,
   "metadata": {},
   "outputs": [],
   "source": [
    "setLayerTime(mapPartiesLyrParties)"
   ]
  },
  {
   "cell_type": "markdown",
   "metadata": {},
   "source": [
    "<h3 style=\"font-weight:bold; color:lime; padding-left: 50px\">Layer Symbology</h3>"
   ]
  },
  {
   "cell_type": "markdown",
   "metadata": {},
   "source": [
    "Define symbology for each of the map layers. The symbology is predefined in the project's template layer folders."
   ]
  },
  {
   "cell_type": "markdown",
   "metadata": {},
   "source": [
    "- Parties layer"
   ]
  },
  {
   "cell_type": "code",
   "execution_count": 85,
   "metadata": {},
   "outputs": [
    {
     "name": "stdout",
     "output_type": "stream",
     "text": [
      "Start Time: Thursday, February 27, 2025 1:54:34 PM\n",
      "Succeeded at Thursday, February 27, 2025 1:54:34 PM (Elapsed Time: 0.08 seconds)\n"
     ]
    }
   ],
   "source": [
    "# Apply the symbology for the Parties data layer\n",
    "arcpy.management.ApplySymbologyFromLayer(\n",
    "    in_layer = mapPartiesLyrParties,\n",
    "    in_symbology_layer = os.path.join(layersTemplates, \"OCSWITRS Parties.lyrx\"),\n",
    "    symbology_fields = [[\"VALUE_FIELD\", \"collSeverity\", \"collSeverity\"]],\n",
    "    update_symbology = \"MAINTAIN\"\n",
    ")\n",
    "print(arcpy.GetMessages())"
   ]
  },
  {
   "cell_type": "markdown",
   "metadata": {},
   "source": [
    "- Roads layer"
   ]
  },
  {
   "cell_type": "code",
   "execution_count": 86,
   "metadata": {},
   "outputs": [
    {
     "name": "stdout",
     "output_type": "stream",
     "text": [
      "Start Time: Thursday, February 27, 2025 1:54:34 PM\n",
      "Succeeded at Thursday, February 27, 2025 1:54:34 PM (Elapsed Time: 0.05 seconds)\n"
     ]
    }
   ],
   "source": [
    "# Apply the symbology for the Roads data layer\n",
    "arcpy.management.ApplySymbologyFromLayer(\n",
    "    in_layer = mapPartiesLyrRoads,\n",
    "    in_symbology_layer = os.path.join(layersTemplates, \"OCSWITRS Roads.lyrx\"),\n",
    "    symbology_fields = [[\"VALUE_FIELD\", \"roadCat\", \"roadCat\"]],\n",
    "    update_symbology = \"MAINTAIN\"\n",
    ")\n",
    "print(arcpy.GetMessages())"
   ]
  },
  {
   "cell_type": "markdown",
   "metadata": {},
   "source": [
    "- Census Blocks layer"
   ]
  },
  {
   "cell_type": "code",
   "execution_count": 87,
   "metadata": {},
   "outputs": [
    {
     "name": "stdout",
     "output_type": "stream",
     "text": [
      "Start Time: Thursday, February 27, 2025 1:54:34 PM\n",
      "Succeeded at Thursday, February 27, 2025 1:54:34 PM (Elapsed Time: 0.10 seconds)\n"
     ]
    }
   ],
   "source": [
    "# Apply the symbology for the US Census 2020 Blocks data layer\n",
    "arcpy.management.ApplySymbologyFromLayer(\n",
    "    in_layer = mapPartiesLyrCensusBlocks,\n",
    "    in_symbology_layer = os.path.join(layersTemplates, \"OCSWITRS Census Blocks.lyrx\"),\n",
    "    symbology_fields = [[\"VALUE_FIELD\", \"populationDensity\", \"populationDensity\"]],\n",
    "    update_symbology = \"MAINTAIN\"\n",
    ")\n",
    "print(arcpy.GetMessages())"
   ]
  },
  {
   "cell_type": "markdown",
   "metadata": {},
   "source": [
    "- Cities layer"
   ]
  },
  {
   "cell_type": "code",
   "execution_count": 88,
   "metadata": {},
   "outputs": [
    {
     "name": "stdout",
     "output_type": "stream",
     "text": [
      "Start Time: Thursday, February 27, 2025 1:54:34 PM\n",
      "Succeeded at Thursday, February 27, 2025 1:54:35 PM (Elapsed Time: 0.09 seconds)\n"
     ]
    }
   ],
   "source": [
    "# Apply the symbology for the Cities data layer\n",
    "arcpy.management.ApplySymbologyFromLayer(\n",
    "    in_layer = mapPartiesLyrCities,\n",
    "    in_symbology_layer = os.path.join(layersTemplates, \"OCSWITRS Cities.lyrx\"),\n",
    "    symbology_fields = [[\"VALUE_FIELD\", \"cityPopDens\", \"cityPopDens\"]],\n",
    "    update_symbology = \"MAINTAIN\"\n",
    ")\n",
    "print(arcpy.GetMessages())"
   ]
  },
  {
   "cell_type": "markdown",
   "metadata": {},
   "source": [
    "- Boundaries layer"
   ]
  },
  {
   "cell_type": "code",
   "execution_count": 89,
   "metadata": {},
   "outputs": [
    {
     "name": "stdout",
     "output_type": "stream",
     "text": [
      "Start Time: Thursday, February 27, 2025 1:54:35 PM\n",
      "Succeeded at Thursday, February 27, 2025 1:54:35 PM (Elapsed Time: 0.03 seconds)\n"
     ]
    }
   ],
   "source": [
    "# Apply the symbology for the Boundaries data layer\n",
    "arcpy.management.ApplySymbologyFromLayer(\n",
    "    in_layer = mapPartiesLyrBoundaries,\n",
    "    in_symbology_layer = os.path.join(layersTemplates, \"OCSWITRS Boundaries.lyrx\"),\n",
    "    symbology_fields = None,\n",
    "    update_symbology = \"MAINTAIN\"\n",
    ")\n",
    "print(arcpy.GetMessages())"
   ]
  },
  {
   "cell_type": "markdown",
   "metadata": {},
   "source": [
    "<h3 style=\"font-weight:bold; color:lime; padding-left: 50px\">Layer CIM Operations</h3>"
   ]
  },
  {
   "cell_type": "markdown",
   "metadata": {},
   "source": [
    "Generate CIM JSON configuration for layers"
   ]
  },
  {
   "cell_type": "code",
   "execution_count": 90,
   "metadata": {},
   "outputs": [],
   "source": [
    "# Get CIM definitions for the parties map layers\n",
    "mapPartiesCimBoundaries = mapPartiesLyrBoundaries.getDefinition(\"V3\")\n",
    "mapPartiesCimCities = mapPartiesLyrCities.getDefinition(\"V3\")\n",
    "mapPartiesCimCensusBlocks = mapPartiesLyrCensusBlocks.getDefinition(\"V3\")\n",
    "mapPartiesCimRoads = mapPartiesLyrRoads.getDefinition(\"V3\")\n",
    "mapPartiesCimParties = mapPartiesLyrParties.getDefinition(\"V3\")"
   ]
  },
  {
   "cell_type": "markdown",
   "metadata": {},
   "source": [
    "Set symbology headings and update CIM definitions for layers"
   ]
  },
  {
   "cell_type": "code",
   "execution_count": 91,
   "metadata": {},
   "outputs": [],
   "source": [
    "# Set the layer headings\n",
    "mapPartiesCimBoundaries.renderer.heading = \"Boundaries\"\n",
    "mapPartiesCimCities.renderer.heading = \"City Population Density\"\n",
    "mapPartiesCimCensusBlocks.renderer.heading = \"Population Density\"\n",
    "mapPartiesCimRoads.renderer.heading = \"Road Categories\"\n",
    "mapPartiesCimParties.renderer.heading = \"Severity Level\"\n",
    "\n",
    "# Update the map layer definitions\n",
    "mapPartiesLyrBoundaries.setDefinition(mapPartiesCimBoundaries)\n",
    "mapPartiesLyrCities.setDefinition(mapPartiesCimCities)\n",
    "mapPartiesLyrCensusBlocks.setDefinition(mapPartiesCimCensusBlocks)\n",
    "mapPartiesLyrRoads.setDefinition(mapPartiesCimRoads)\n",
    "mapPartiesLyrParties.setDefinition(mapPartiesCimParties)"
   ]
  },
  {
   "cell_type": "markdown",
   "metadata": {},
   "source": [
    "Update the CIM defintion for the parties map"
   ]
  },
  {
   "cell_type": "code",
   "execution_count": 92,
   "metadata": {},
   "outputs": [],
   "source": [
    "partiesCim = mapParties.getDefinition(\"V3\")"
   ]
  },
  {
   "cell_type": "markdown",
   "metadata": {},
   "source": [
    "<h3 style=\"font-weight:bold; color:lime; padding-left: 50px\">Export Map and Map Layers</h3>"
   ]
  },
  {
   "cell_type": "markdown",
   "metadata": {},
   "source": [
    "Update the mapx file with the new layers"
   ]
  },
  {
   "cell_type": "code",
   "execution_count": 93,
   "metadata": {},
   "outputs": [
    {
     "name": "stdout",
     "output_type": "stream",
     "text": [
      "Exporting parties map to MAPX...\n",
      "Start Time: Thursday, February 27, 2025 1:54:35 PM\n",
      "Succeeded at Thursday, February 27, 2025 1:54:35 PM (Elapsed Time: 0.03 seconds)\n",
      "Exporting parties map to JSON...\n",
      "\n"
     ]
    }
   ],
   "source": [
    "# Update the parties map mapx file\n",
    "exportCim(\"map\", mapParties, \"parties\")"
   ]
  },
  {
   "cell_type": "markdown",
   "metadata": {},
   "source": [
    "Export map layers as CIM JSON `.lyrx` files to the layers folder directory of the project."
   ]
  },
  {
   "cell_type": "code",
   "execution_count": 94,
   "metadata": {},
   "outputs": [
    {
     "name": "stdout",
     "output_type": "stream",
     "text": [
      "Exporting OCSWITRS Parties layer to LYRX...\n",
      "Start Time: Thursday, February 27, 2025 1:54:35 PM\n",
      "Succeeded at Thursday, February 27, 2025 1:54:35 PM (Elapsed Time: 0.07 seconds)\n",
      "Exporting OCSWITRS Parties layer to JSON...\n",
      "\n",
      "Exporting OCSWITRS Roads layer to LYRX...\n",
      "Start Time: Thursday, February 27, 2025 1:54:35 PM\n",
      "Succeeded at Thursday, February 27, 2025 1:54:36 PM (Elapsed Time: 0.05 seconds)\n",
      "Exporting OCSWITRS Roads layer to JSON...\n",
      "\n",
      "Exporting OCSWITRS Census Blocks layer to LYRX...\n",
      "Start Time: Thursday, February 27, 2025 1:54:36 PM\n",
      "Succeeded at Thursday, February 27, 2025 1:54:36 PM (Elapsed Time: 0.05 seconds)\n",
      "Exporting OCSWITRS Census Blocks layer to JSON...\n",
      "\n",
      "Exporting OCSWITRS Cities layer to LYRX...\n",
      "Start Time: Thursday, February 27, 2025 1:54:36 PM\n",
      "Succeeded at Thursday, February 27, 2025 1:54:36 PM (Elapsed Time: 0.05 seconds)\n",
      "Exporting OCSWITRS Cities layer to JSON...\n",
      "\n",
      "Exporting OCSWITRS Boundaries layer to LYRX...\n",
      "Start Time: Thursday, February 27, 2025 1:54:36 PM\n",
      "Succeeded at Thursday, February 27, 2025 1:54:36 PM (Elapsed Time: 0.04 seconds)\n",
      "Exporting OCSWITRS Boundaries layer to JSON...\n",
      "\n"
     ]
    }
   ],
   "source": [
    "# Export the layers to JSON\n",
    "for l in mapParties.listLayers():\n",
    "    if not l.isBasemapLayer:\n",
    "        exportCim(\"layer\", l, l.name)"
   ]
  },
  {
   "cell_type": "markdown",
   "metadata": {},
   "source": [
    "<h3 style=\"font-weight:bold; color:lime; padding-left: 50px\">Save Project</h3>"
   ]
  },
  {
   "cell_type": "code",
   "execution_count": 95,
   "metadata": {},
   "outputs": [],
   "source": [
    "# Save the project\n",
    "aprx.save()"
   ]
  },
  {
   "cell_type": "markdown",
   "metadata": {},
   "source": [
    "<h2 style=\"font-weight:bold; color:dodgerblue; border-bottom: 1px solid dodgerblue; padding-left: 25px\">3.5. Victims Map Layers</h2>"
   ]
  },
  {
   "cell_type": "markdown",
   "metadata": {},
   "source": [
    "<h3 style=\"font-weight:bold; color:lime; padding-left: 50px\">Open Map View</h3>"
   ]
  },
  {
   "cell_type": "markdown",
   "metadata": {},
   "source": [
    "Close all open maps, open the victims map and set it as the active map"
   ]
  },
  {
   "cell_type": "code",
   "execution_count": 96,
   "metadata": {},
   "outputs": [],
   "source": [
    "# Close all previous map views\n",
    "aprx.closeViews()\n",
    "\n",
    "# Open the victims map view\n",
    "mapVictims.openView()\n",
    "\n",
    "# set the main map as active map\n",
    "map = aprx.activeMap"
   ]
  },
  {
   "cell_type": "markdown",
   "metadata": {},
   "source": [
    "Remove all layers from the active map"
   ]
  },
  {
   "cell_type": "code",
   "execution_count": 97,
   "metadata": {},
   "outputs": [],
   "source": [
    "# Remove all the layers from the map\n",
    "for lyr in mapVictims.listLayers():\n",
    "    if not lyr.isBasemapLayer:\n",
    "        print(f\"Removing layer: {lyr.name}\")\n",
    "        mapVictims.removeLayer(lyr)"
   ]
  },
  {
   "cell_type": "markdown",
   "metadata": {},
   "source": [
    "<h3 style=\"font-weight:bold; color:lime; padding-left: 50px\">Add Layers to Map</h3>"
   ]
  },
  {
   "cell_type": "markdown",
   "metadata": {},
   "source": [
    "Add the feature classes as layers to the map (in order, as the first layer goes to the bottom of the contents)"
   ]
  },
  {
   "cell_type": "code",
   "execution_count": 98,
   "metadata": {},
   "outputs": [],
   "source": [
    "# Add the data layers to the map\n",
    "mapVictimsLyrBoundaries = mapVictims.addDataFromPath(boundaries)\n",
    "mapVictimsLyrCities = mapVictims.addDataFromPath(cities)\n",
    "mapVictimsLyrCensusBlocks = mapVictims.addDataFromPath(censusBlocks)\n",
    "mapVictimsLyrRoads = mapVictims.addDataFromPath(roads)\n",
    "mapVictimsLyrVictims = mapVictims.addDataFromPath(victims)\n",
    "\n",
    "# Set layer visibility on the map\n",
    "mapVictimsLyrBoundaries.visible = False\n",
    "mapVictimsLyrCities.visible = False\n",
    "mapVictimsLyrCensusBlocks.visible = False\n",
    "mapVictimsLyrRoads.visible = False\n",
    "mapVictimsLyrVictims.visible = False"
   ]
  },
  {
   "cell_type": "markdown",
   "metadata": {},
   "source": [
    "<h3 style=\"font-weight:bold; color:lime; padding-left: 50px\">Enable Time Settings</h3>"
   ]
  },
  {
   "cell_type": "markdown",
   "metadata": {},
   "source": [
    "Setup and enable time settings for the victims map layers"
   ]
  },
  {
   "cell_type": "code",
   "execution_count": 99,
   "metadata": {},
   "outputs": [],
   "source": [
    "setLayerTime(mapVictimsLyrVictims)"
   ]
  },
  {
   "cell_type": "markdown",
   "metadata": {},
   "source": [
    "<h3 style=\"font-weight:bold; color:lime; padding-left: 50px\">Layer Symbology</h3>"
   ]
  },
  {
   "cell_type": "markdown",
   "metadata": {},
   "source": [
    "Define symbology for each of the map layers. The symbology is predefined in the project's template layer folders."
   ]
  },
  {
   "cell_type": "markdown",
   "metadata": {},
   "source": [
    "- Victims layer"
   ]
  },
  {
   "cell_type": "code",
   "execution_count": 100,
   "metadata": {},
   "outputs": [
    {
     "name": "stdout",
     "output_type": "stream",
     "text": [
      "Start Time: Thursday, February 27, 2025 1:55:06 PM\n",
      "Succeeded at Thursday, February 27, 2025 1:55:06 PM (Elapsed Time: 0.05 seconds)\n"
     ]
    }
   ],
   "source": [
    "# Apply the symbology for the Victims data layer\n",
    "arcpy.management.ApplySymbologyFromLayer(\n",
    "    in_layer = mapVictimsLyrVictims,\n",
    "    in_symbology_layer = os.path.join(layersTemplates, \"OCSWITRS Victims.lyrx\"),\n",
    "    symbology_fields = [[\"VALUE_FIELD\", \"collSeverity\", \"collSeverity\"]],\n",
    "    update_symbology = \"MAINTAIN\"\n",
    ")\n",
    "print(arcpy.GetMessages())"
   ]
  },
  {
   "cell_type": "markdown",
   "metadata": {},
   "source": [
    "- Roads layer"
   ]
  },
  {
   "cell_type": "code",
   "execution_count": 101,
   "metadata": {},
   "outputs": [
    {
     "name": "stdout",
     "output_type": "stream",
     "text": [
      "Start Time: Thursday, February 27, 2025 1:55:06 PM\n",
      "Succeeded at Thursday, February 27, 2025 1:55:06 PM (Elapsed Time: 0.05 seconds)\n"
     ]
    }
   ],
   "source": [
    "# Apply the symbology for the Roads data layer\n",
    "arcpy.management.ApplySymbologyFromLayer(\n",
    "    in_layer = mapVictimsLyrRoads,\n",
    "    in_symbology_layer = os.path.join(layersTemplates, \"OCSWITRS Roads.lyrx\"),\n",
    "    symbology_fields = [[\"VALUE_FIELD\", \"roadCat\", \"roadCat\"]],\n",
    "    update_symbology = \"MAINTAIN\"\n",
    ")\n",
    "print(arcpy.GetMessages())"
   ]
  },
  {
   "cell_type": "markdown",
   "metadata": {},
   "source": [
    "- Census Blocks layer"
   ]
  },
  {
   "cell_type": "code",
   "execution_count": 102,
   "metadata": {},
   "outputs": [
    {
     "name": "stdout",
     "output_type": "stream",
     "text": [
      "Start Time: Thursday, February 27, 2025 1:55:07 PM\n",
      "Succeeded at Thursday, February 27, 2025 1:55:07 PM (Elapsed Time: 0.12 seconds)\n"
     ]
    }
   ],
   "source": [
    "# Apply the symbology for the US Census 2020 Blocks data layer\n",
    "arcpy.management.ApplySymbologyFromLayer(\n",
    "    in_layer = mapVictimsLyrCensusBlocks,\n",
    "    in_symbology_layer = os.path.join(layersTemplates, \"OCSWITRS Census Blocks.lyrx\"),\n",
    "    symbology_fields = [[\"VALUE_FIELD\", \"populationDensity\", \"populationDensity\"]],\n",
    "    update_symbology = \"MAINTAIN\"\n",
    ")\n",
    "print(arcpy.GetMessages())"
   ]
  },
  {
   "cell_type": "markdown",
   "metadata": {},
   "source": [
    "- Cities layer"
   ]
  },
  {
   "cell_type": "code",
   "execution_count": 103,
   "metadata": {},
   "outputs": [
    {
     "name": "stdout",
     "output_type": "stream",
     "text": [
      "Start Time: Thursday, February 27, 2025 1:55:07 PM\n",
      "Succeeded at Thursday, February 27, 2025 1:55:07 PM (Elapsed Time: 0.12 seconds)\n"
     ]
    }
   ],
   "source": [
    "# Apply the symbology for the Cities data layer\n",
    "arcpy.management.ApplySymbologyFromLayer(\n",
    "    in_layer = mapVictimsLyrCities,\n",
    "    in_symbology_layer = os.path.join(layersTemplates, \"OCSWITRS Cities.lyrx\"),\n",
    "    symbology_fields = [[\"VALUE_FIELD\", \"cityPopDens\", \"cityPopDens\"]],\n",
    "    update_symbology = \"MAINTAIN\"\n",
    ")\n",
    "print(arcpy.GetMessages())"
   ]
  },
  {
   "cell_type": "markdown",
   "metadata": {},
   "source": [
    "- Boundaries layer"
   ]
  },
  {
   "cell_type": "code",
   "execution_count": 104,
   "metadata": {},
   "outputs": [
    {
     "name": "stdout",
     "output_type": "stream",
     "text": [
      "Start Time: Thursday, February 27, 2025 1:55:07 PM\n",
      "Succeeded at Thursday, February 27, 2025 1:55:07 PM (Elapsed Time: 0.06 seconds)\n"
     ]
    }
   ],
   "source": [
    "# Apply the symbology for the Boundaries data layer\n",
    "arcpy.management.ApplySymbologyFromLayer(\n",
    "    in_layer = mapVictimsLyrBoundaries,\n",
    "    in_symbology_layer = os.path.join(layersTemplates, \"OCSWITRS Boundaries.lyrx\"),\n",
    "    symbology_fields = None,\n",
    "    update_symbology = \"MAINTAIN\"\n",
    ")\n",
    "print(arcpy.GetMessages())"
   ]
  },
  {
   "cell_type": "markdown",
   "metadata": {},
   "source": [
    "<h3 style=\"font-weight:bold; color:lime; padding-left: 50px\">Layer CIM Operations</h3>"
   ]
  },
  {
   "cell_type": "markdown",
   "metadata": {},
   "source": [
    "Generate CIM JSON configuration for layers"
   ]
  },
  {
   "cell_type": "code",
   "execution_count": 105,
   "metadata": {},
   "outputs": [],
   "source": [
    "# Get CIM definitions for the victims map layers\n",
    "mapVictimsCimBoundaries = mapVictimsLyrBoundaries.getDefinition(\"V3\")\n",
    "mapVictimsCimCities = mapVictimsLyrCities.getDefinition(\"V3\")\n",
    "mapVictimsCimCensusBlocks = mapVictimsLyrCensusBlocks.getDefinition(\"V3\")\n",
    "mapVictimsCimRoads = mapVictimsLyrRoads.getDefinition(\"V3\")\n",
    "mapVictimsCimVictims = mapVictimsLyrVictims.getDefinition(\"V3\")"
   ]
  },
  {
   "cell_type": "markdown",
   "metadata": {},
   "source": [
    "Set symbology headings and update CIM definitions for layers"
   ]
  },
  {
   "cell_type": "code",
   "execution_count": 106,
   "metadata": {},
   "outputs": [],
   "source": [
    "# Set the layer headings\n",
    "mapVictimsCimBoundaries.renderer.heading = \"Boundaries\"\n",
    "mapVictimsCimCities.renderer.heading = \"City Population Density\"\n",
    "mapVictimsCimCensusBlocks.renderer.heading = \"Population Density\"\n",
    "mapVictimsCimRoads.renderer.heading = \"Road Categories\"\n",
    "mapVictimsCimVictims.renderer.heading = \"Severity Level\"\n",
    "\n",
    "# Update the map layer definitions\n",
    "mapVictimsLyrBoundaries.setDefinition(mapVictimsCimBoundaries)\n",
    "mapVictimsLyrCities.setDefinition(mapVictimsCimCities)\n",
    "mapVictimsLyrCensusBlocks.setDefinition(mapVictimsCimCensusBlocks)\n",
    "mapVictimsLyrRoads.setDefinition(mapVictimsCimRoads)\n",
    "mapVictimsLyrVictims.setDefinition(mapVictimsCimVictims)"
   ]
  },
  {
   "cell_type": "markdown",
   "metadata": {},
   "source": [
    "Update the CIM defintion for the victims map"
   ]
  },
  {
   "cell_type": "code",
   "execution_count": 107,
   "metadata": {},
   "outputs": [],
   "source": [
    "cimVictims = mapVictims.getDefinition(\"V3\")"
   ]
  },
  {
   "cell_type": "markdown",
   "metadata": {},
   "source": [
    "<h3 style=\"font-weight:bold; color:lime; padding-left: 50px\">Export Map and Map Layers</h3>"
   ]
  },
  {
   "cell_type": "markdown",
   "metadata": {},
   "source": [
    "Update the mapx file with the new layers"
   ]
  },
  {
   "cell_type": "code",
   "execution_count": 108,
   "metadata": {},
   "outputs": [
    {
     "name": "stdout",
     "output_type": "stream",
     "text": [
      "Exporting victims map to MAPX...\n",
      "Start Time: Thursday, February 27, 2025 1:55:07 PM\n",
      "Succeeded at Thursday, February 27, 2025 1:55:07 PM (Elapsed Time: 0.06 seconds)\n",
      "Exporting victims map to JSON...\n",
      "\n"
     ]
    }
   ],
   "source": [
    "# Update the victims map mapx file\n",
    "exportCim(\"map\", mapVictims, \"victims\")"
   ]
  },
  {
   "cell_type": "markdown",
   "metadata": {},
   "source": [
    "Export map layers as CIM JSON `.lyrx` files to the layers folder directory of the project."
   ]
  },
  {
   "cell_type": "code",
   "execution_count": 109,
   "metadata": {},
   "outputs": [
    {
     "name": "stdout",
     "output_type": "stream",
     "text": [
      "Exporting OCSWITRS Victims layer to LYRX...\n",
      "Start Time: Thursday, February 27, 2025 1:55:08 PM\n",
      "Succeeded at Thursday, February 27, 2025 1:55:08 PM (Elapsed Time: 0.12 seconds)\n",
      "Exporting OCSWITRS Victims layer to JSON...\n",
      "\n",
      "Exporting OCSWITRS Roads layer to LYRX...\n",
      "Start Time: Thursday, February 27, 2025 1:55:08 PM\n",
      "Succeeded at Thursday, February 27, 2025 1:55:08 PM (Elapsed Time: 0.05 seconds)\n",
      "Exporting OCSWITRS Roads layer to JSON...\n",
      "\n",
      "Exporting OCSWITRS Census Blocks layer to LYRX...\n",
      "Start Time: Thursday, February 27, 2025 1:55:08 PM\n",
      "Succeeded at Thursday, February 27, 2025 1:55:08 PM (Elapsed Time: 0.05 seconds)\n",
      "Exporting OCSWITRS Census Blocks layer to JSON...\n",
      "\n",
      "Exporting OCSWITRS Cities layer to LYRX...\n",
      "Start Time: Thursday, February 27, 2025 1:55:08 PM\n",
      "Succeeded at Thursday, February 27, 2025 1:55:08 PM (Elapsed Time: 0.05 seconds)\n",
      "Exporting OCSWITRS Cities layer to JSON...\n",
      "\n",
      "Exporting OCSWITRS Boundaries layer to LYRX...\n",
      "Start Time: Thursday, February 27, 2025 1:55:09 PM\n",
      "Succeeded at Thursday, February 27, 2025 1:55:09 PM (Elapsed Time: 0.04 seconds)\n",
      "Exporting OCSWITRS Boundaries layer to JSON...\n",
      "\n"
     ]
    }
   ],
   "source": [
    "# Export the layers to JSON\n",
    "for l in mapVictims.listLayers():\n",
    "    if not l.isBasemapLayer:\n",
    "        exportCim(\"layer\", l, l.name)"
   ]
  },
  {
   "cell_type": "markdown",
   "metadata": {},
   "source": [
    "<h3 style=\"font-weight:bold; color:lime; padding-left: 50px\">Save Project</h3>"
   ]
  },
  {
   "cell_type": "code",
   "execution_count": 110,
   "metadata": {},
   "outputs": [],
   "source": [
    "# Save the project\n",
    "aprx.save()"
   ]
  },
  {
   "cell_type": "markdown",
   "metadata": {},
   "source": [
    "<h2 style=\"font-weight:bold; color:dodgerblue; border-bottom: 1px solid dodgerblue; padding-left: 25px\">3.6. Injuries Map Layers</h2>"
   ]
  },
  {
   "cell_type": "markdown",
   "metadata": {},
   "source": [
    "<h3 style=\"font-weight:bold; color:lime; padding-left: 50px\">Open Map View</h3>"
   ]
  },
  {
   "cell_type": "markdown",
   "metadata": {},
   "source": [
    "Close all open maps, open the injuries map and set it as the active map"
   ]
  },
  {
   "cell_type": "code",
   "execution_count": 111,
   "metadata": {},
   "outputs": [],
   "source": [
    "# Close all previous map views\n",
    "aprx.closeViews()\n",
    "\n",
    "# Open the injuries map view\n",
    "mapInjuries.openView()\n",
    "\n",
    "# set the main map as active map\n",
    "map = aprx.activeMap"
   ]
  },
  {
   "cell_type": "markdown",
   "metadata": {},
   "source": [
    "Remove all layers from the active map"
   ]
  },
  {
   "cell_type": "code",
   "execution_count": 112,
   "metadata": {},
   "outputs": [],
   "source": [
    "# Remove all layers from the map\n",
    "for lyr in mapInjuries.listLayers():\n",
    "    if not lyr.isBasemapLayer:\n",
    "        print(f\"Removing layer: {lyr.name}\")\n",
    "        mapInjuries.removeLayer(lyr)"
   ]
  },
  {
   "cell_type": "markdown",
   "metadata": {},
   "source": [
    "<h3 style=\"font-weight:bold; color:lime; padding-left: 50px\">Add Layers to Map</h3>"
   ]
  },
  {
   "cell_type": "markdown",
   "metadata": {},
   "source": [
    "Add the feature classes as layers to the map (in order, as the first layer goes to the bottom of the contents)"
   ]
  },
  {
   "cell_type": "code",
   "execution_count": 113,
   "metadata": {},
   "outputs": [],
   "source": [
    "# Add the data layers to the map\n",
    "mapInjuriesLyrBoundaries = mapInjuries.addDataFromPath(boundaries)\n",
    "mapInjuriesLyrCities = mapInjuries.addDataFromPath(cities)\n",
    "mapInjuriesLyrCensusBlocks = mapInjuries.addDataFromPath(censusBlocks)\n",
    "mapInjuriesLyrVictims = mapInjuries.addDataFromPath(victims)\n",
    "\n",
    "# Set layer visibility on the map\n",
    "mapInjuriesLyrBoundaries.visible = False\n",
    "mapInjuriesLyrCities.visible = False\n",
    "mapInjuriesLyrCensusBlocks.visible = False\n",
    "mapInjuriesLyrVictims.visible = False"
   ]
  },
  {
   "cell_type": "markdown",
   "metadata": {},
   "source": [
    "<h3 style=\"font-weight:bold; color:lime; padding-left: 50px\">Layer Symbology</h3>"
   ]
  },
  {
   "cell_type": "markdown",
   "metadata": {},
   "source": [
    "Define symbology for each of the map layers. The symbology is predefined in the project's template layer folders."
   ]
  },
  {
   "cell_type": "markdown",
   "metadata": {},
   "source": [
    "- Victims layer"
   ]
  },
  {
   "cell_type": "code",
   "execution_count": 114,
   "metadata": {},
   "outputs": [
    {
     "name": "stdout",
     "output_type": "stream",
     "text": [
      "Start Time: Thursday, February 27, 2025 1:55:10 PM\n",
      "Succeeded at Thursday, February 27, 2025 1:55:10 PM (Elapsed Time: 0.09 seconds)\n"
     ]
    }
   ],
   "source": [
    "# Apply the symbology for the Roads data layer\n",
    "arcpy.management.ApplySymbologyFromLayer(\n",
    "    in_layer = mapInjuriesLyrVictims,\n",
    "    in_symbology_layer = os.path.join(layersTemplates, \"OCSWITRS Victims.lyrx\"),\n",
    "    symbology_fields = [[\"VALUE_FIELD\", \"collSeverity\", \"collSeverity\"]],\n",
    "    update_symbology = \"MAINTAIN\"\n",
    ")\n",
    "print(arcpy.GetMessages())"
   ]
  },
  {
   "cell_type": "markdown",
   "metadata": {},
   "source": [
    "- Census Blocks layer"
   ]
  },
  {
   "cell_type": "code",
   "execution_count": 115,
   "metadata": {},
   "outputs": [
    {
     "name": "stdout",
     "output_type": "stream",
     "text": [
      "Start Time: Thursday, February 27, 2025 1:55:10 PM\n",
      "Succeeded at Thursday, February 27, 2025 1:55:11 PM (Elapsed Time: 0.13 seconds)\n"
     ]
    }
   ],
   "source": [
    "# Apply the symbology for the US Census 2020 Blocks data layer\n",
    "arcpy.management.ApplySymbologyFromLayer(\n",
    "    in_layer = mapInjuriesLyrCensusBlocks,\n",
    "    in_symbology_layer = os.path.join(layersTemplates, \"OCSWITRS Census Blocks.lyrx\"),\n",
    "    symbology_fields = [[\"VALUE_FIELD\", \"populationDensity\", \"populationDensity\"]],\n",
    "    update_symbology = \"MAINTAIN\"\n",
    ")\n",
    "print(arcpy.GetMessages())"
   ]
  },
  {
   "cell_type": "markdown",
   "metadata": {},
   "source": [
    "- Cities layer"
   ]
  },
  {
   "cell_type": "code",
   "execution_count": 116,
   "metadata": {},
   "outputs": [
    {
     "name": "stdout",
     "output_type": "stream",
     "text": [
      "Start Time: Thursday, February 27, 2025 1:55:11 PM\n",
      "Succeeded at Thursday, February 27, 2025 1:55:11 PM (Elapsed Time: 0.04 seconds)\n"
     ]
    }
   ],
   "source": [
    "# Apply the symbology for the Cities data layer\n",
    "arcpy.management.ApplySymbologyFromLayer(\n",
    "    in_layer = mapInjuriesLyrCities,\n",
    "    in_symbology_layer = os.path.join(layersTemplates, \"OCSWITRS Cities.lyrx\"),\n",
    "    symbology_fields = [[\"VALUE_FIELD\", \"cityPopDens\", \"cityPopDens\"]],\n",
    "    update_symbology = \"MAINTAIN\"\n",
    ")\n",
    "print(arcpy.GetMessages())"
   ]
  },
  {
   "cell_type": "markdown",
   "metadata": {},
   "source": [
    "- Boundaries layer"
   ]
  },
  {
   "cell_type": "code",
   "execution_count": 117,
   "metadata": {},
   "outputs": [
    {
     "name": "stdout",
     "output_type": "stream",
     "text": [
      "Start Time: Thursday, February 27, 2025 1:55:11 PM\n",
      "Succeeded at Thursday, February 27, 2025 1:55:11 PM (Elapsed Time: 0.07 seconds)\n"
     ]
    }
   ],
   "source": [
    "# Apply the symbology for the Boundaries data layer\n",
    "arcpy.management.ApplySymbologyFromLayer(\n",
    "    in_layer = mapInjuriesLyrBoundaries,\n",
    "    in_symbology_layer = os.path.join(layersTemplates, \"OCSWITRS Boundaries.lyrx\"),\n",
    "    symbology_fields = None,\n",
    "    update_symbology = \"MAINTAIN\"\n",
    ")\n",
    "print(arcpy.GetMessages())"
   ]
  },
  {
   "cell_type": "markdown",
   "metadata": {},
   "source": [
    "<h3 style=\"font-weight:bold; color:lime; padding-left: 50px\">Layer CIM Operations</h3>"
   ]
  },
  {
   "cell_type": "markdown",
   "metadata": {},
   "source": [
    "Generate CIM JSON configuration for layers"
   ]
  },
  {
   "cell_type": "code",
   "execution_count": 118,
   "metadata": {},
   "outputs": [],
   "source": [
    "# Get CIM definitions for the regression map layers\n",
    "mapInjuriesCimBoundaries = mapInjuriesLyrBoundaries.getDefinition(\"V3\")\n",
    "mapInjuriesCimCities = mapInjuriesLyrCities.getDefinition(\"V3\")\n",
    "mapInjuriesCimCensusBlocks = mapInjuriesLyrCensusBlocks.getDefinition(\"V3\")\n",
    "mapInjuriesCimVictims = mapInjuriesLyrVictims.getDefinition(\"V3\")"
   ]
  },
  {
   "cell_type": "markdown",
   "metadata": {},
   "source": [
    "Set symbology headings and update CIM definitions for layers"
   ]
  },
  {
   "cell_type": "code",
   "execution_count": 119,
   "metadata": {},
   "outputs": [],
   "source": [
    "# Set the layer headings\n",
    "mapInjuriesCimBoundaries.renderer.heading = \"Boundaries\"\n",
    "mapInjuriesCimCities.renderer.heading = \"City Population Density\"\n",
    "mapInjuriesCimCensusBlocks.renderer.heading = \"Population Density\"\n",
    "mapInjuriesCimVictims.renderer.heading = \"Severity Level\"\n",
    "\n",
    "# Update the map layer definitions\n",
    "mapInjuriesLyrBoundaries.setDefinition(mapInjuriesCimBoundaries)\n",
    "mapInjuriesLyrCities.setDefinition(mapInjuriesCimCities)\n",
    "mapInjuriesLyrCensusBlocks.setDefinition(mapInjuriesCimCensusBlocks)\n",
    "mapInjuriesLyrVictims.setDefinition(mapInjuriesCimVictims)"
   ]
  },
  {
   "cell_type": "markdown",
   "metadata": {},
   "source": [
    "Update the CIM defintion for the regression map"
   ]
  },
  {
   "cell_type": "code",
   "execution_count": 120,
   "metadata": {},
   "outputs": [],
   "source": [
    "cimInjuries = mapInjuries.getDefinition(\"V3\")"
   ]
  },
  {
   "cell_type": "markdown",
   "metadata": {},
   "source": [
    "<h3 style=\"font-weight:bold; color:lime; padding-left: 50px\">Export Map and Map Layers</h3>"
   ]
  },
  {
   "cell_type": "markdown",
   "metadata": {},
   "source": [
    "Update the mapx file with the new layers"
   ]
  },
  {
   "cell_type": "code",
   "execution_count": 121,
   "metadata": {},
   "outputs": [
    {
     "name": "stdout",
     "output_type": "stream",
     "text": [
      "Exporting injuries map to MAPX...\n",
      "Start Time: Thursday, February 27, 2025 1:55:11 PM\n",
      "Succeeded at Thursday, February 27, 2025 1:55:11 PM (Elapsed Time: 0.07 seconds)\n",
      "Exporting injuries map to JSON...\n",
      "\n"
     ]
    }
   ],
   "source": [
    "# Update the victims map mapx file\n",
    "exportCim(\"map\", mapInjuries, \"injuries\")"
   ]
  },
  {
   "cell_type": "markdown",
   "metadata": {},
   "source": [
    "Export map layers as CIM JSON `.lyrx` files to the layers folder directory of the project."
   ]
  },
  {
   "cell_type": "code",
   "execution_count": 122,
   "metadata": {},
   "outputs": [
    {
     "name": "stdout",
     "output_type": "stream",
     "text": [
      "Exporting OCSWITRS Victims layer to LYRX...\n",
      "Start Time: Thursday, February 27, 2025 1:55:12 PM\n",
      "Succeeded at Thursday, February 27, 2025 1:55:12 PM (Elapsed Time: 0.08 seconds)\n",
      "Exporting OCSWITRS Victims layer to JSON...\n",
      "\n",
      "Exporting OCSWITRS Census Blocks layer to LYRX...\n",
      "Start Time: Thursday, February 27, 2025 1:55:12 PM\n",
      "Succeeded at Thursday, February 27, 2025 1:55:12 PM (Elapsed Time: 0.28 seconds)\n",
      "Exporting OCSWITRS Census Blocks layer to JSON...\n",
      "\n",
      "Exporting OCSWITRS Cities layer to LYRX...\n",
      "Start Time: Thursday, February 27, 2025 1:55:12 PM\n",
      "Succeeded at Thursday, February 27, 2025 1:55:13 PM (Elapsed Time: 0.10 seconds)\n",
      "Exporting OCSWITRS Cities layer to JSON...\n",
      "\n",
      "Exporting OCSWITRS Boundaries layer to LYRX...\n",
      "Start Time: Thursday, February 27, 2025 1:55:13 PM\n",
      "Succeeded at Thursday, February 27, 2025 1:55:13 PM (Elapsed Time: 0.05 seconds)\n",
      "Exporting OCSWITRS Boundaries layer to JSON...\n",
      "\n"
     ]
    }
   ],
   "source": [
    "# Export the layers to JSON\n",
    "for l in mapInjuries.listLayers():\n",
    "    if not l.isBasemapLayer:\n",
    "        exportCim(\"layer\", l, l.name)"
   ]
  },
  {
   "cell_type": "markdown",
   "metadata": {},
   "source": [
    "<h3 style=\"font-weight:bold; color:lime; padding-left: 50px\">Save Project</h3>"
   ]
  },
  {
   "cell_type": "code",
   "execution_count": 123,
   "metadata": {},
   "outputs": [],
   "source": [
    "# Save the project\n",
    "aprx.save()"
   ]
  },
  {
   "cell_type": "markdown",
   "metadata": {},
   "source": [
    "<h2 style=\"font-weight:bold; color:dodgerblue; border-bottom: 1px solid dodgerblue; padding-left: 25px\">3.7. Fatalities Map Layers</h2>"
   ]
  },
  {
   "cell_type": "markdown",
   "metadata": {},
   "source": [
    "<h3 style=\"font-weight:bold; color:lime; padding-left: 50px\">Open Map View</h3>"
   ]
  },
  {
   "cell_type": "markdown",
   "metadata": {},
   "source": [
    "Close all open maps, open the fatalities map and set it as the active map"
   ]
  },
  {
   "cell_type": "code",
   "execution_count": 124,
   "metadata": {},
   "outputs": [],
   "source": [
    "# Close all previous map views\n",
    "aprx.closeViews()\n",
    "\n",
    "# Open the fatalities map view\n",
    "mapFatalities.openView()\n",
    "\n",
    "# set the main map as active map\n",
    "map = aprx.activeMap"
   ]
  },
  {
   "cell_type": "markdown",
   "metadata": {},
   "source": [
    "Remove all layers from the active map"
   ]
  },
  {
   "cell_type": "code",
   "execution_count": 125,
   "metadata": {},
   "outputs": [],
   "source": [
    "# Remove all the layers from the map\n",
    "for lyr in mapFatalities.listLayers():\n",
    "    if not lyr.isBasemapLayer:\n",
    "        print(f\"Removing layer: {lyr.name}\")\n",
    "        mapFatalities.removeLayer(lyr)"
   ]
  },
  {
   "cell_type": "markdown",
   "metadata": {},
   "source": [
    "<h3 style=\"font-weight:bold; color:lime; padding-left: 50px\">Add Layers to Map</h3>"
   ]
  },
  {
   "cell_type": "markdown",
   "metadata": {},
   "source": [
    "Add the feature classes as layers to the map (in order, as the first layer goes to the bottom of the contents)"
   ]
  },
  {
   "cell_type": "code",
   "execution_count": 126,
   "metadata": {},
   "outputs": [
    {
     "data": {
      "text/plain": [
       "True"
      ]
     },
     "execution_count": 126,
     "metadata": {},
     "output_type": "execute_result"
    }
   ],
   "source": [
    "# Add the data layers to the map\n",
    "mapFatalitiesLyrBoundaries = mapFatalities.addDataFromPath(boundaries)\n",
    "mapFatalitiesLyrRoads = mapFatalities.addDataFromPath(roads)\n",
    "mapFatalitiesLyrRoadsMajorBuffers = mapFatalities.addDataFromPath(roadsMajorBuffers)\n",
    "mapFatalitiesLyrFatalities = mapFatalities.addDataFromPath(crashes)\n",
    "\n",
    "# Set layer visibility on the map\n",
    "mapFatalitiesLyrBoundaries.visible = False\n",
    "mapFatalitiesLyrRoads.visible = False\n",
    "mapFatalitiesLyrRoadsMajorBuffers.visible = False\n",
    "mapFatalitiesLyrFatalities.visible = False\n",
    "\n",
    "# Move layers\n",
    "mapFatalities.moveLayer(\n",
    "    reference_layer = mapFatalitiesLyrRoads,\n",
    "    move_layer = mapFatalitiesLyrRoadsMajorBuffers,\n",
    "    insert_position = \"BEFORE\"\n",
    ")"
   ]
  },
  {
   "cell_type": "markdown",
   "metadata": {},
   "source": [
    "<h3 style=\"font-weight:bold; color:lime; padding-left: 50px\">Layer Symbology</h3>"
   ]
  },
  {
   "cell_type": "markdown",
   "metadata": {},
   "source": [
    "Define symbology for each of the map layers. The symbology is predefined in the project's template layer folders."
   ]
  },
  {
   "cell_type": "markdown",
   "metadata": {},
   "source": [
    "- Fatalities layer"
   ]
  },
  {
   "cell_type": "code",
   "execution_count": 127,
   "metadata": {},
   "outputs": [
    {
     "name": "stdout",
     "output_type": "stream",
     "text": [
      "Start Time: Thursday, February 27, 2025 1:55:15 PM\n",
      "Succeeded at Thursday, February 27, 2025 1:55:15 PM (Elapsed Time: 0.11 seconds)\n"
     ]
    }
   ],
   "source": [
    "# Apply the symbology for the Fatalities data layer\n",
    "arcpy.management.ApplySymbologyFromLayer(\n",
    "    in_layer = mapFatalitiesLyrFatalities,\n",
    "    in_symbology_layer = os.path.join(layersTemplates, \"OCSWITRS Crashes Killed Victims.lyrx\"),\n",
    "    symbology_fields = [[\"VALUE_FIELD\", \"numberKilled\", \"numberKilled\"]],\n",
    "    update_symbology = \"MAINTAIN\"\n",
    ")\n",
    "print(arcpy.GetMessages())"
   ]
  },
  {
   "cell_type": "markdown",
   "metadata": {},
   "source": [
    "- Major Road Buffers Layer"
   ]
  },
  {
   "cell_type": "code",
   "execution_count": 128,
   "metadata": {},
   "outputs": [
    {
     "name": "stdout",
     "output_type": "stream",
     "text": [
      "Start Time: Thursday, February 27, 2025 1:55:15 PM\n",
      "Succeeded at Thursday, February 27, 2025 1:55:15 PM (Elapsed Time: 0.05 seconds)\n"
     ]
    }
   ],
   "source": [
    "# Apply the symbology for the Major Road Buffers data layer\n",
    "arcpy.management.ApplySymbologyFromLayer(\n",
    "    in_layer = mapFatalitiesLyrRoadsMajorBuffers,\n",
    "    in_symbology_layer = os.path.join(layersTemplates, \"OCSWITRS Major Roads Buffers.lyrx\"),\n",
    "    symbology_fields = None,\n",
    "    update_symbology = \"MAINTAIN\"\n",
    ")\n",
    "print(arcpy.GetMessages())"
   ]
  },
  {
   "cell_type": "markdown",
   "metadata": {},
   "source": [
    "- Roads layer"
   ]
  },
  {
   "cell_type": "code",
   "execution_count": 129,
   "metadata": {},
   "outputs": [
    {
     "name": "stdout",
     "output_type": "stream",
     "text": [
      "Start Time: Thursday, February 27, 2025 1:55:15 PM\n",
      "Succeeded at Thursday, February 27, 2025 1:55:16 PM (Elapsed Time: 0.05 seconds)\n"
     ]
    }
   ],
   "source": [
    "# Apply the symbology for the Roads data layer\n",
    "arcpy.management.ApplySymbologyFromLayer(\n",
    "    in_layer = mapFatalitiesLyrRoads,\n",
    "    in_symbology_layer = os.path.join(layersTemplates, \"OCSWITRS Roads.lyrx\"),\n",
    "    symbology_fields = [[\"VALUE_FIELD\", \"roadCat\", \"roadCat\"]],\n",
    "    update_symbology = \"MAINTAIN\"\n",
    ")\n",
    "print(arcpy.GetMessages())"
   ]
  },
  {
   "cell_type": "markdown",
   "metadata": {},
   "source": [
    "- Boundaries layer"
   ]
  },
  {
   "cell_type": "code",
   "execution_count": 130,
   "metadata": {},
   "outputs": [
    {
     "name": "stdout",
     "output_type": "stream",
     "text": [
      "Start Time: Thursday, February 27, 2025 1:55:16 PM\n",
      "Succeeded at Thursday, February 27, 2025 1:55:16 PM (Elapsed Time: 0.05 seconds)\n"
     ]
    }
   ],
   "source": [
    "# Apply the symbology for the Boundaries data layer\n",
    "arcpy.management.ApplySymbologyFromLayer(\n",
    "    in_layer = mapFatalitiesLyrBoundaries,\n",
    "    in_symbology_layer = os.path.join(layersTemplates, \"OCSWITRS Boundaries.lyrx\"),\n",
    "    symbology_fields = None,\n",
    "    update_symbology = \"MAINTAIN\"\n",
    ")\n",
    "print(arcpy.GetMessages())"
   ]
  },
  {
   "cell_type": "markdown",
   "metadata": {},
   "source": [
    "<h3 style=\"font-weight:bold; color:lime; padding-left: 50px\">Layer CIM Operations</h3>"
   ]
  },
  {
   "cell_type": "markdown",
   "metadata": {},
   "source": [
    "Generate CIM JSON configuration for layers"
   ]
  },
  {
   "cell_type": "code",
   "execution_count": 131,
   "metadata": {},
   "outputs": [],
   "source": [
    "# Get CIM definitions for the fatalities map layers\n",
    "mapFatalitiesCimBoundaries = mapFatalitiesLyrBoundaries.getDefinition(\"V3\")\n",
    "mapFatalitiesCimRoads = mapFatalitiesLyrRoads.getDefinition(\"V3\")\n",
    "mapFatalitiesCimRoadsMajorBuffers = mapFatalitiesLyrRoadsMajorBuffers.getDefinition(\"V3\")\n",
    "mapFatalitiesCimFatalities = mapFatalitiesLyrFatalities.getDefinition(\"V3\")"
   ]
  },
  {
   "cell_type": "markdown",
   "metadata": {},
   "source": [
    "Set symbology headings and update CIM definitions for layers"
   ]
  },
  {
   "cell_type": "code",
   "execution_count": 132,
   "metadata": {},
   "outputs": [],
   "source": [
    "# Set the layer headings\n",
    "mapFatalitiesCimBoundaries.renderer.heading = \"Boundaries\"\n",
    "mapFatalitiesCimRoads.renderer.heading = \"Road Categories\"\n",
    "mapFatalitiesCimRoadsMajorBuffers.renderer.heading = \"Major Road Buffers\"\n",
    "mapFatalitiesCimFatalities.renderer.heading = \"Victims Killed\"\n",
    "\n",
    "# Update the map layer definitions\n",
    "mapFatalitiesLyrBoundaries.setDefinition(mapFatalitiesCimBoundaries)\n",
    "mapFatalitiesLyrRoads.setDefinition(mapFatalitiesCimRoads)\n",
    "mapFatalitiesLyrRoadsMajorBuffers.setDefinition(mapFatalitiesCimRoadsMajorBuffers)\n",
    "mapFatalitiesLyrFatalities.setDefinition(mapFatalitiesCimFatalities)"
   ]
  },
  {
   "cell_type": "markdown",
   "metadata": {},
   "source": [
    "Update the CIM defintion for the fatalities map"
   ]
  },
  {
   "cell_type": "code",
   "execution_count": 133,
   "metadata": {},
   "outputs": [],
   "source": [
    "cimFatalities = mapFatalities.getDefinition(\"V3\")"
   ]
  },
  {
   "cell_type": "markdown",
   "metadata": {},
   "source": [
    "<h3 style=\"font-weight:bold; color:lime; padding-left: 50px\">Export Map and Map Layers</h3>"
   ]
  },
  {
   "cell_type": "markdown",
   "metadata": {},
   "source": [
    "Update the mapx file with the new layers"
   ]
  },
  {
   "cell_type": "code",
   "execution_count": 134,
   "metadata": {},
   "outputs": [
    {
     "name": "stdout",
     "output_type": "stream",
     "text": [
      "Exporting fatalities map to MAPX...\n",
      "Start Time: Thursday, February 27, 2025 1:55:16 PM\n",
      "Succeeded at Thursday, February 27, 2025 1:55:16 PM (Elapsed Time: 0.05 seconds)\n",
      "Exporting fatalities map to JSON...\n",
      "\n"
     ]
    }
   ],
   "source": [
    "# Update the fatalities map mapx file\n",
    "exportCim(\"map\", mapFatalities, \"fatalities\")"
   ]
  },
  {
   "cell_type": "markdown",
   "metadata": {},
   "source": [
    "Export map layers as CIM JSON `.lyrx` files to the layers folder directory of the project."
   ]
  },
  {
   "cell_type": "code",
   "execution_count": 135,
   "metadata": {},
   "outputs": [
    {
     "name": "stdout",
     "output_type": "stream",
     "text": [
      "Exporting OCSWITRS Crashes layer to LYRX...\n",
      "Start Time: Thursday, February 27, 2025 1:55:16 PM\n",
      "Succeeded at Thursday, February 27, 2025 1:55:17 PM (Elapsed Time: 0.09 seconds)\n",
      "Exporting OCSWITRS Crashes layer to JSON...\n",
      "\n",
      "Exporting OCSWITRS Major Roads Buffers layer to LYRX...\n",
      "Start Time: Thursday, February 27, 2025 1:55:17 PM\n",
      "Succeeded at Thursday, February 27, 2025 1:55:17 PM (Elapsed Time: 0.05 seconds)\n",
      "Exporting OCSWITRS Major Roads Buffers layer to JSON...\n",
      "\n",
      "Exporting OCSWITRS Roads layer to LYRX...\n",
      "Start Time: Thursday, February 27, 2025 1:55:17 PM\n",
      "Succeeded at Thursday, February 27, 2025 1:55:17 PM (Elapsed Time: 0.22 seconds)\n",
      "Exporting OCSWITRS Roads layer to JSON...\n",
      "\n",
      "Exporting OCSWITRS Boundaries layer to LYRX...\n",
      "Start Time: Thursday, February 27, 2025 1:55:17 PM\n",
      "Succeeded at Thursday, February 27, 2025 1:55:18 PM (Elapsed Time: 0.30 seconds)\n",
      "Exporting OCSWITRS Boundaries layer to JSON...\n",
      "\n"
     ]
    }
   ],
   "source": [
    "# Export the layers to JSON\n",
    "for l in mapFatalities.listLayers():\n",
    "    if not l.isBasemapLayer:\n",
    "        exportCim(\"layer\", l, l.name)"
   ]
  },
  {
   "cell_type": "markdown",
   "metadata": {},
   "source": [
    "<h3 style=\"font-weight:bold; color:lime; padding-left: 50px\">Save Project</h3>"
   ]
  },
  {
   "cell_type": "code",
   "execution_count": 136,
   "metadata": {},
   "outputs": [],
   "source": [
    "# Save the project\n",
    "aprx.save()"
   ]
  },
  {
   "cell_type": "markdown",
   "metadata": {},
   "source": [
    "<h2 style=\"font-weight:bold; color:dodgerblue; border-bottom: 1px solid dodgerblue; padding-left: 25px\">3.8. Hotspots (100m, 1km) Map Layers</h2>"
   ]
  },
  {
   "cell_type": "markdown",
   "metadata": {},
   "source": [
    "<h3 style=\"font-weight:bold; color:lime; padding-left: 50px\">Open Map View</h3>"
   ]
  },
  {
   "cell_type": "markdown",
   "metadata": {},
   "source": [
    "Close all open maps, open the hotspots (100m, 1km) map and set it as the active map"
   ]
  },
  {
   "cell_type": "code",
   "execution_count": 137,
   "metadata": {},
   "outputs": [],
   "source": [
    "# Close all previous map views\n",
    "aprx.closeViews()\n",
    "\n",
    "# Open the hotspots100m1km map view\n",
    "mapFhs100m1km.openView()\n",
    "\n",
    "# set the main map as active map\n",
    "map = aprx.activeMap"
   ]
  },
  {
   "cell_type": "markdown",
   "metadata": {},
   "source": [
    "Remove all layers from the active map"
   ]
  },
  {
   "cell_type": "code",
   "execution_count": 138,
   "metadata": {},
   "outputs": [],
   "source": [
    "# Remove all the layers from the map\n",
    "for lyr in mapFhs100m1km.listLayers():\n",
    "    if not lyr.isBasemapLayer:\n",
    "        print(f\"Removing layer: {lyr.name}\")\n",
    "        mapFhs100m1km.removeLayer(lyr)"
   ]
  },
  {
   "cell_type": "markdown",
   "metadata": {},
   "source": [
    "<h3 style=\"font-weight:bold; color:lime; padding-left: 50px\">Add Layers to Map</h3>"
   ]
  },
  {
   "cell_type": "markdown",
   "metadata": {},
   "source": [
    "Add the feature classes as layers to the map (in order, as the first layer goes to the bottom of the contents)"
   ]
  },
  {
   "cell_type": "code",
   "execution_count": 139,
   "metadata": {},
   "outputs": [
    {
     "data": {
      "text/plain": [
       "True"
      ]
     },
     "execution_count": 139,
     "metadata": {},
     "output_type": "execute_result"
    }
   ],
   "source": [
    "# Add the data layers to the map\n",
    "mapFhs100m1kmLyrBoundaries = mapFhs100m1km.addDataFromPath(boundaries)\n",
    "mapFhs100m1kmLyrCities = mapFhs100m1km.addDataFromPath(cities)\n",
    "mapFhs100m1kmLyrCensusBlocks = mapFhs100m1km.addDataFromPath(censusBlocks)\n",
    "mapFhs100m1kmLyrRoads = mapFhs100m1km.addDataFromPath(roads)\n",
    "mapFhs100m1kmLyrFhs100m1km = mapFhs100m1km.addDataFromPath(crashesFindHotspots100m1km)\n",
    "\n",
    "# Set layer visibility on the map\n",
    "mapFhs100m1kmLyrBoundaries.visible = False\n",
    "mapFhs100m1kmLyrCities.visible = False\n",
    "mapFhs100m1kmLyrCensusBlocks.visible = False\n",
    "mapFhs100m1kmLyrRoads.visible = False\n",
    "mapFhs100m1kmLyrFhs100m1km.visible = False\n",
    "\n",
    "# Move layers\n",
    "mapFhs100m1km.moveLayer(\n",
    "    reference_layer = mapFhs100m1kmLyrBoundaries,\n",
    "    move_layer = mapFhs100m1kmLyrRoads,\n",
    "    insert_position = \"AFTER\"\n",
    ")"
   ]
  },
  {
   "cell_type": "markdown",
   "metadata": {},
   "source": [
    "<h3 style=\"font-weight:bold; color:lime; padding-left: 50px\">Layer Symbology</h3>"
   ]
  },
  {
   "cell_type": "markdown",
   "metadata": {},
   "source": [
    "Define symbology for each of the map layers. The symbology is predefined in the project's template layer folders."
   ]
  },
  {
   "cell_type": "markdown",
   "metadata": {},
   "source": [
    "- Roads layer"
   ]
  },
  {
   "cell_type": "code",
   "execution_count": 140,
   "metadata": {},
   "outputs": [
    {
     "name": "stdout",
     "output_type": "stream",
     "text": [
      "Start Time: Thursday, February 27, 2025 1:55:19 PM\n",
      "Succeeded at Thursday, February 27, 2025 1:55:19 PM (Elapsed Time: 0.06 seconds)\n"
     ]
    }
   ],
   "source": [
    "# Apply the symbology for the Roads data layer\n",
    "arcpy.management.ApplySymbologyFromLayer(\n",
    "    in_layer = mapFhs100m1kmLyrRoads,\n",
    "    in_symbology_layer = os.path.join(layersTemplates, \"OCSWITRS Roads.lyrx\"),\n",
    "    symbology_fields = [[\"VALUE_FIELD\", \"roadCat\", \"roadCat\"]],\n",
    "    update_symbology = \"MAINTAIN\"\n",
    ")\n",
    "print(arcpy.GetMessages())"
   ]
  },
  {
   "cell_type": "markdown",
   "metadata": {},
   "source": [
    "- Census Blocks layer"
   ]
  },
  {
   "cell_type": "code",
   "execution_count": 141,
   "metadata": {},
   "outputs": [
    {
     "name": "stdout",
     "output_type": "stream",
     "text": [
      "Start Time: Thursday, February 27, 2025 1:55:19 PM\n",
      "Succeeded at Thursday, February 27, 2025 1:55:19 PM (Elapsed Time: 0.09 seconds)\n"
     ]
    }
   ],
   "source": [
    "# Apply the symbology for the US Census 2020 Blocks data layer\n",
    "arcpy.management.ApplySymbologyFromLayer(\n",
    "    in_layer = mapFhs100m1kmLyrCensusBlocks,\n",
    "    in_symbology_layer = os.path.join(layersTemplates, \"OCSWITRS Census Blocks.lyrx\"),\n",
    "    symbology_fields = [[\"VALUE_FIELD\", \"populationDensity\", \"populationDensity\"]],\n",
    "    update_symbology = \"MAINTAIN\"\n",
    ")\n",
    "print(arcpy.GetMessages())"
   ]
  },
  {
   "cell_type": "markdown",
   "metadata": {},
   "source": [
    "- Cities layer"
   ]
  },
  {
   "cell_type": "code",
   "execution_count": 142,
   "metadata": {},
   "outputs": [
    {
     "name": "stdout",
     "output_type": "stream",
     "text": [
      "Start Time: Thursday, February 27, 2025 1:55:20 PM\n",
      "Succeeded at Thursday, February 27, 2025 1:55:20 PM (Elapsed Time: 0.08 seconds)\n"
     ]
    }
   ],
   "source": [
    "# Apply the symbology for the Cities data layer\n",
    "arcpy.management.ApplySymbologyFromLayer(\n",
    "    in_layer = mapFhs100m1kmLyrCities,\n",
    "    in_symbology_layer = os.path.join(layersTemplates, \"OCSWITRS Cities.lyrx\"),\n",
    "    symbology_fields = [[\"VALUE_FIELD\", \"cityPopDens\", \"cityPopDens\"]],\n",
    "    update_symbology = \"MAINTAIN\"\n",
    ")\n",
    "print(arcpy.GetMessages())"
   ]
  },
  {
   "cell_type": "markdown",
   "metadata": {},
   "source": [
    "- Boundaries layer"
   ]
  },
  {
   "cell_type": "code",
   "execution_count": 143,
   "metadata": {},
   "outputs": [
    {
     "name": "stdout",
     "output_type": "stream",
     "text": [
      "Start Time: Thursday, February 27, 2025 1:55:20 PM\n",
      "Succeeded at Thursday, February 27, 2025 1:55:20 PM (Elapsed Time: 0.03 seconds)\n"
     ]
    }
   ],
   "source": [
    "# Apply the symbology for the Boundaries data layer\n",
    "arcpy.management.ApplySymbologyFromLayer(\n",
    "    in_layer = mapFhs100m1kmLyrBoundaries,\n",
    "    in_symbology_layer = os.path.join(layersTemplates, \"OCSWITRS Boundaries.lyrx\"),\n",
    "    symbology_fields = None,\n",
    "    update_symbology = \"MAINTAIN\"\n",
    ")\n",
    "print(arcpy.GetMessages())"
   ]
  },
  {
   "cell_type": "markdown",
   "metadata": {},
   "source": [
    "<h3 style=\"font-weight:bold; color:lime; padding-left: 50px\">Layer CIM Operations</h3>"
   ]
  },
  {
   "cell_type": "markdown",
   "metadata": {},
   "source": [
    "Generate CIM JSON configuration for layers"
   ]
  },
  {
   "cell_type": "code",
   "execution_count": 144,
   "metadata": {},
   "outputs": [],
   "source": [
    "# Get CIM definitions for the hotspots100m1km map layers\n",
    "mapFhs100m1kmCimBoundaries = mapFhs100m1kmLyrBoundaries.getDefinition(\"V3\")\n",
    "mapFhs100m1kmCimCities = mapFhs100m1kmLyrCities.getDefinition(\"V3\")\n",
    "mapFhs100m1kmCimCensusBlocks = mapFhs100m1kmLyrCensusBlocks.getDefinition(\"V3\")\n",
    "mapFhs100m1kmCimRoads = mapFhs100m1kmLyrRoads.getDefinition(\"V3\")\n",
    "mapFhs100m1kmCimFhs100m1km = mapFhs100m1kmLyrFhs100m1km.getDefinition(\"V3\")"
   ]
  },
  {
   "cell_type": "markdown",
   "metadata": {},
   "source": [
    "Set symbology headings and update CIM definitions for layers"
   ]
  },
  {
   "cell_type": "code",
   "execution_count": 145,
   "metadata": {},
   "outputs": [],
   "source": [
    "# Set the layer headings\n",
    "mapFhs100m1kmCimBoundaries.renderer.heading = \"Boundaries\"\n",
    "mapFhs100m1kmCimCities.renderer.heading = \"City Population Density\"\n",
    "mapFhs100m1kmCimCensusBlocks.renderer.heading = \"Population Density\"\n",
    "mapFhs100m1kmCimRoads.renderer.heading = \"Road Categories\"\n",
    "mapFhs100m1kmCimFhs100m1km.renderer.heading = \"Getis-Ord Gi*\"\n",
    "\n",
    "# Update the map layer definitions\n",
    "mapFhs100m1kmLyrBoundaries.setDefinition(mapFhs100m1kmCimBoundaries)\n",
    "mapFhs100m1kmLyrCities.setDefinition(mapFhs100m1kmCimCities)\n",
    "mapFhs100m1kmLyrCensusBlocks.setDefinition(mapFhs100m1kmCimCensusBlocks)\n",
    "mapFhs100m1kmLyrRoads.setDefinition(mapFhs100m1kmCimRoads)\n",
    "mapFhs100m1kmLyrFhs100m1km.setDefinition(mapFhs100m1kmCimFhs100m1km)"
   ]
  },
  {
   "cell_type": "markdown",
   "metadata": {},
   "source": [
    "Update the CIM defintion for the hotspots (100m, 1km) map"
   ]
  },
  {
   "cell_type": "code",
   "execution_count": 146,
   "metadata": {},
   "outputs": [],
   "source": [
    "cimFhs100m1km = mapFhs100m1km.getDefinition(\"V3\")"
   ]
  },
  {
   "cell_type": "markdown",
   "metadata": {},
   "source": [
    "<h3 style=\"font-weight:bold; color:lime; padding-left: 50px\">Export Map and Map Layers</h3>"
   ]
  },
  {
   "cell_type": "markdown",
   "metadata": {},
   "source": [
    "Update the mapx file with the new layers"
   ]
  },
  {
   "cell_type": "code",
   "execution_count": 147,
   "metadata": {},
   "outputs": [
    {
     "name": "stdout",
     "output_type": "stream",
     "text": [
      "Exporting hotspots100m1km map to MAPX...\n",
      "Start Time: Thursday, February 27, 2025 1:55:20 PM\n",
      "Succeeded at Thursday, February 27, 2025 1:55:20 PM (Elapsed Time: 0.03 seconds)\n",
      "Exporting hotspots100m1km map to JSON...\n",
      "\n"
     ]
    }
   ],
   "source": [
    "# Update the victims map mapx file\n",
    "exportCim(\"map\", mapFhs100m1km, \"hotspots100m1km\")"
   ]
  },
  {
   "cell_type": "markdown",
   "metadata": {},
   "source": [
    "Export map layers as CIM JSON `.lyrx` files to the layers folder directory of the project."
   ]
  },
  {
   "cell_type": "code",
   "execution_count": 148,
   "metadata": {},
   "outputs": [
    {
     "name": "stdout",
     "output_type": "stream",
     "text": [
      "Exporting OCSWITRS Crashes Find Hot Spots 100m 1km layer to LYRX...\n",
      "Start Time: Thursday, February 27, 2025 1:55:21 PM\n",
      "Succeeded at Thursday, February 27, 2025 1:55:21 PM (Elapsed Time: 0.06 seconds)\n",
      "Exporting OCSWITRS Crashes Find Hot Spots 100m 1km layer to JSON...\n",
      "\n",
      "Exporting OCSWITRS Census Blocks layer to LYRX...\n",
      "Start Time: Thursday, February 27, 2025 1:55:21 PM\n",
      "Succeeded at Thursday, February 27, 2025 1:55:21 PM (Elapsed Time: 0.08 seconds)\n",
      "Exporting OCSWITRS Census Blocks layer to JSON...\n",
      "\n",
      "Exporting OCSWITRS Cities layer to LYRX...\n",
      "Start Time: Thursday, February 27, 2025 1:55:21 PM\n",
      "Succeeded at Thursday, February 27, 2025 1:55:21 PM (Elapsed Time: 0.08 seconds)\n",
      "Exporting OCSWITRS Cities layer to JSON...\n",
      "\n",
      "Exporting OCSWITRS Boundaries layer to LYRX...\n",
      "Start Time: Thursday, February 27, 2025 1:55:21 PM\n",
      "Succeeded at Thursday, February 27, 2025 1:55:21 PM (Elapsed Time: 0.06 seconds)\n",
      "Exporting OCSWITRS Boundaries layer to JSON...\n",
      "\n",
      "Exporting OCSWITRS Roads layer to LYRX...\n",
      "Start Time: Thursday, February 27, 2025 1:55:22 PM\n",
      "Succeeded at Thursday, February 27, 2025 1:55:22 PM (Elapsed Time: 0.07 seconds)\n",
      "Exporting OCSWITRS Roads layer to JSON...\n",
      "\n"
     ]
    }
   ],
   "source": [
    "# Export the layers to JSON\n",
    "for l in mapFhs100m1km.listLayers():\n",
    "    if not l.isBasemapLayer:\n",
    "        exportCim(\"layer\", l, l.name)"
   ]
  },
  {
   "cell_type": "markdown",
   "metadata": {},
   "source": [
    "<h3 style=\"font-weight:bold; color:lime; padding-left: 50px\">Save Project</h3>"
   ]
  },
  {
   "cell_type": "code",
   "execution_count": 149,
   "metadata": {},
   "outputs": [],
   "source": [
    "# Save the project\n",
    "aprx.save()"
   ]
  },
  {
   "cell_type": "markdown",
   "metadata": {},
   "source": [
    "<h2 style=\"font-weight:bold; color:dodgerblue; border-bottom: 1px solid dodgerblue; padding-left: 25px\">3.9. Hotspots (150m, 2km) Map Layers</h2>"
   ]
  },
  {
   "cell_type": "markdown",
   "metadata": {},
   "source": [
    "<h3 style=\"font-weight:bold; color:lime; padding-left: 50px\">Open Map View</h3>"
   ]
  },
  {
   "cell_type": "markdown",
   "metadata": {},
   "source": [
    "Close all open maps, open the hotspots (150m, 2km) map and set it as the active map"
   ]
  },
  {
   "cell_type": "code",
   "execution_count": 150,
   "metadata": {},
   "outputs": [],
   "source": [
    "# Close all previous map views\n",
    "aprx.closeViews()\n",
    "\n",
    "# Open the hotspots150m2km map view\n",
    "mapFhs150m2km.openView()\n",
    "\n",
    "# set the main map as active map\n",
    "map = aprx.activeMap"
   ]
  },
  {
   "cell_type": "markdown",
   "metadata": {},
   "source": [
    "Remove all layers from the active map"
   ]
  },
  {
   "cell_type": "code",
   "execution_count": 151,
   "metadata": {},
   "outputs": [],
   "source": [
    "# Remove all the layers from the map\n",
    "for lyr in mapFhs150m2km.listLayers():\n",
    "    if not lyr.isBasemapLayer:\n",
    "        print(f\"Removing layer: {lyr.name}\")\n",
    "        mapFhs150m2km.removeLayer(lyr)"
   ]
  },
  {
   "cell_type": "markdown",
   "metadata": {},
   "source": [
    "<h3 style=\"font-weight:bold; color:lime; padding-left: 50px\">Add Layers to Map</h3>"
   ]
  },
  {
   "cell_type": "markdown",
   "metadata": {},
   "source": [
    "Add the feature classes as layers to the map (in order, as the first layer goes to the bottom of the contents)"
   ]
  },
  {
   "cell_type": "code",
   "execution_count": 152,
   "metadata": {},
   "outputs": [
    {
     "data": {
      "text/plain": [
       "True"
      ]
     },
     "execution_count": 152,
     "metadata": {},
     "output_type": "execute_result"
    }
   ],
   "source": [
    "# Add the data layers to the map\n",
    "mapFhs150m2kmLyrBoundaries = mapFhs150m2km.addDataFromPath(boundaries)\n",
    "mapFhs150m2kmLyrCities = mapFhs150m2km.addDataFromPath(cities)\n",
    "mapFhs150m2kmLyrCensusBlocks = mapFhs150m2km.addDataFromPath(censusBlocks)\n",
    "mapFhs150m2kmLyrRoads = mapFhs150m2km.addDataFromPath(roads)\n",
    "mapFhs150m2kmLyrFhs150m2km = mapFhs150m2km.addDataFromPath(crashesFindHotspots150m2km)\n",
    "\n",
    "# Set layer visibility on the map\n",
    "mapFhs150m2kmLyrBoundaries.visible = False\n",
    "mapFhs150m2kmLyrCities.visible = False\n",
    "mapFhs150m2kmLyrCensusBlocks.visible = False\n",
    "mapFhs150m2kmLyrRoads.visible = False\n",
    "mapFhs150m2kmLyrFhs150m2km.visible = False\n",
    "\n",
    "# Move layers\n",
    "mapFhs150m2km.moveLayer(\n",
    "    reference_layer = mapFhs150m2kmLyrBoundaries,\n",
    "    move_layer = mapFhs150m2kmLyrRoads,\n",
    "    insert_position = \"AFTER\"\n",
    ")"
   ]
  },
  {
   "cell_type": "markdown",
   "metadata": {},
   "source": [
    "<h3 style=\"font-weight:bold; color:lime; padding-left: 50px\">Layer Symbology</h3>"
   ]
  },
  {
   "cell_type": "markdown",
   "metadata": {},
   "source": [
    "Define symbology for each of the map layers. The symbology is predefined in the project's template layer folders."
   ]
  },
  {
   "cell_type": "markdown",
   "metadata": {},
   "source": [
    "- Roads layer"
   ]
  },
  {
   "cell_type": "code",
   "execution_count": 153,
   "metadata": {},
   "outputs": [
    {
     "name": "stdout",
     "output_type": "stream",
     "text": [
      "Start Time: Thursday, February 27, 2025 1:55:24 PM\n",
      "Succeeded at Thursday, February 27, 2025 1:55:24 PM (Elapsed Time: 0.04 seconds)\n"
     ]
    }
   ],
   "source": [
    "# Apply the symbology for the Roads data layer\n",
    "arcpy.management.ApplySymbologyFromLayer(\n",
    "    in_layer = mapFhs150m2kmLyrRoads,\n",
    "    in_symbology_layer = os.path.join(layersTemplates, \"OCSWITRS Roads.lyrx\"),\n",
    "    symbology_fields = [[\"VALUE_FIELD\", \"roadCat\", \"roadCat\"]],\n",
    "    update_symbology = \"MAINTAIN\"\n",
    ")\n",
    "print(arcpy.GetMessages())"
   ]
  },
  {
   "cell_type": "markdown",
   "metadata": {},
   "source": [
    "- Census Blocks layer"
   ]
  },
  {
   "cell_type": "code",
   "execution_count": 154,
   "metadata": {},
   "outputs": [
    {
     "name": "stdout",
     "output_type": "stream",
     "text": [
      "Start Time: Thursday, February 27, 2025 1:55:24 PM\n",
      "Succeeded at Thursday, February 27, 2025 1:55:24 PM (Elapsed Time: 0.06 seconds)\n"
     ]
    }
   ],
   "source": [
    "# Apply the symbology for the US Census 2020 Blocks data layer\n",
    "arcpy.management.ApplySymbologyFromLayer(\n",
    "    in_layer = mapFhs150m2kmLyrCensusBlocks,\n",
    "    in_symbology_layer = os.path.join(layersTemplates, \"OCSWITRS Census Blocks.lyrx\"),\n",
    "    symbology_fields = [[\"VALUE_FIELD\", \"populationDensity\", \"populationDensity\"]],\n",
    "    update_symbology = \"MAINTAIN\"\n",
    ")\n",
    "print(arcpy.GetMessages())"
   ]
  },
  {
   "cell_type": "markdown",
   "metadata": {},
   "source": [
    "- Cities layer"
   ]
  },
  {
   "cell_type": "code",
   "execution_count": 155,
   "metadata": {},
   "outputs": [
    {
     "name": "stdout",
     "output_type": "stream",
     "text": [
      "Start Time: Thursday, February 27, 2025 1:55:24 PM\n",
      "Succeeded at Thursday, February 27, 2025 1:55:24 PM (Elapsed Time: 0.04 seconds)\n"
     ]
    }
   ],
   "source": [
    "# Apply the symbology for the Cities data layer\n",
    "arcpy.management.ApplySymbologyFromLayer(\n",
    "    in_layer = mapFhs150m2kmLyrCities,\n",
    "    in_symbology_layer = os.path.join(layersTemplates, \"OCSWITRS Cities.lyrx\"),\n",
    "    symbology_fields = [[\"VALUE_FIELD\", \"cityPopDens\", \"cityPopDens\"]],\n",
    "    update_symbology = \"MAINTAIN\"\n",
    ")\n",
    "print(arcpy.GetMessages())"
   ]
  },
  {
   "cell_type": "markdown",
   "metadata": {},
   "source": [
    "- Boundaries layer"
   ]
  },
  {
   "cell_type": "code",
   "execution_count": 156,
   "metadata": {},
   "outputs": [
    {
     "name": "stdout",
     "output_type": "stream",
     "text": [
      "Start Time: Thursday, February 27, 2025 1:55:25 PM\n",
      "Succeeded at Thursday, February 27, 2025 1:55:25 PM (Elapsed Time: 0.04 seconds)\n"
     ]
    }
   ],
   "source": [
    "# Apply the symbology for the Boundaries data layer\n",
    "arcpy.management.ApplySymbologyFromLayer(\n",
    "    in_layer = mapFhs150m2kmLyrBoundaries,\n",
    "    in_symbology_layer = os.path.join(layersTemplates, \"OCSWITRS Boundaries.lyrx\"),\n",
    "    symbology_fields = None,\n",
    "    update_symbology = \"MAINTAIN\"\n",
    ")\n",
    "print(arcpy.GetMessages())"
   ]
  },
  {
   "cell_type": "markdown",
   "metadata": {},
   "source": [
    "<h3 style=\"font-weight:bold; color:lime; padding-left: 50px\">Layer CIM Operations</h3>"
   ]
  },
  {
   "cell_type": "markdown",
   "metadata": {},
   "source": [
    "Generate CIM JSON configuration for layers"
   ]
  },
  {
   "cell_type": "code",
   "execution_count": 157,
   "metadata": {},
   "outputs": [],
   "source": [
    "# Get CIM definitions for the hotspots150m2km map layers\n",
    "mapFhs150m2kmCimBoundaries = mapFhs150m2kmLyrBoundaries.getDefinition(\"V3\")\n",
    "mapFhs150m2kmCimCities = mapFhs150m2kmLyrCities.getDefinition(\"V3\")\n",
    "mapFhs150m2kmCimCensusBlocks = mapFhs150m2kmLyrCensusBlocks.getDefinition(\"V3\")\n",
    "mapFhs150m2kmCimRoads = mapFhs150m2kmLyrRoads.getDefinition(\"V3\")\n",
    "mapFhs150m2kmCimFhs150m2km = mapFhs150m2kmLyrFhs150m2km.getDefinition(\"V3\")"
   ]
  },
  {
   "cell_type": "markdown",
   "metadata": {},
   "source": [
    "Set symbology headings and update CIM definitions for layers"
   ]
  },
  {
   "cell_type": "code",
   "execution_count": 158,
   "metadata": {},
   "outputs": [],
   "source": [
    "# Set the layer headings\n",
    "mapFhs150m2kmCimBoundaries.renderer.heading = \"Boundaries\"\n",
    "mapFhs150m2kmCimCities.renderer.heading = \"City Population Density\"\n",
    "mapFhs150m2kmCimCensusBlocks.renderer.heading = \"Population Density\"\n",
    "mapFhs150m2kmCimRoads.renderer.heading = \"Road Categories\"\n",
    "mapFhs150m2kmCimFhs150m2km.renderer.heading = \"Getis-Ord Gi*\"\n",
    "\n",
    "# Update the map layer definitions\n",
    "mapFhs150m2kmLyrBoundaries.setDefinition(mapFhs150m2kmCimBoundaries)\n",
    "mapFhs150m2kmLyrCities.setDefinition(mapFhs150m2kmCimCities)\n",
    "mapFhs150m2kmLyrCensusBlocks.setDefinition(mapFhs150m2kmCimCensusBlocks)\n",
    "mapFhs150m2kmLyrRoads.setDefinition(mapFhs150m2kmCimRoads)\n",
    "mapFhs150m2kmLyrFhs150m2km.setDefinition(mapFhs150m2kmCimFhs150m2km)"
   ]
  },
  {
   "cell_type": "markdown",
   "metadata": {},
   "source": [
    "Update the CIM defintion for the hotspots (150m, 2km) map"
   ]
  },
  {
   "cell_type": "code",
   "execution_count": 159,
   "metadata": {},
   "outputs": [],
   "source": [
    "cimFhs150m2km = mapFhs150m2km.getDefinition(\"V3\")"
   ]
  },
  {
   "cell_type": "markdown",
   "metadata": {},
   "source": [
    "<h3 style=\"font-weight:bold; color:lime; padding-left: 50px\">Export Map and Map Layers</h3>"
   ]
  },
  {
   "cell_type": "markdown",
   "metadata": {},
   "source": [
    "Update the mapx file with the new layers"
   ]
  },
  {
   "cell_type": "code",
   "execution_count": 160,
   "metadata": {},
   "outputs": [
    {
     "name": "stdout",
     "output_type": "stream",
     "text": [
      "Exporting hotspots150m2km map to MAPX...\n",
      "Start Time: Thursday, February 27, 2025 1:55:25 PM\n",
      "Succeeded at Thursday, February 27, 2025 1:55:25 PM (Elapsed Time: 0.04 seconds)\n",
      "Exporting hotspots150m2km map to JSON...\n",
      "\n"
     ]
    }
   ],
   "source": [
    "# Update the victims map mapx file\n",
    "exportCim(\"map\", mapFhs150m2km, \"hotspots150m2km\")"
   ]
  },
  {
   "cell_type": "markdown",
   "metadata": {},
   "source": [
    "Export map layers as CIM JSON `.lyrx` files to the layers folder directory of the project."
   ]
  },
  {
   "cell_type": "code",
   "execution_count": 161,
   "metadata": {},
   "outputs": [
    {
     "name": "stdout",
     "output_type": "stream",
     "text": [
      "Exporting OCSWITRS Crashes Find Hot Spots 150m 2km layer to LYRX...\n",
      "Start Time: Thursday, February 27, 2025 1:55:25 PM\n",
      "Succeeded at Thursday, February 27, 2025 1:55:25 PM (Elapsed Time: 0.04 seconds)\n",
      "Exporting OCSWITRS Crashes Find Hot Spots 150m 2km layer to JSON...\n",
      "\n",
      "Exporting OCSWITRS Census Blocks layer to LYRX...\n",
      "Start Time: Thursday, February 27, 2025 1:55:25 PM\n",
      "Succeeded at Thursday, February 27, 2025 1:55:25 PM (Elapsed Time: 0.05 seconds)\n",
      "Exporting OCSWITRS Census Blocks layer to JSON...\n",
      "\n",
      "Exporting OCSWITRS Cities layer to LYRX...\n",
      "Start Time: Thursday, February 27, 2025 1:55:26 PM\n",
      "Succeeded at Thursday, February 27, 2025 1:55:26 PM (Elapsed Time: 0.05 seconds)\n",
      "Exporting OCSWITRS Cities layer to JSON...\n",
      "\n",
      "Exporting OCSWITRS Boundaries layer to LYRX...\n",
      "Start Time: Thursday, February 27, 2025 1:55:26 PM\n",
      "Succeeded at Thursday, February 27, 2025 1:55:26 PM (Elapsed Time: 0.04 seconds)\n",
      "Exporting OCSWITRS Boundaries layer to JSON...\n",
      "\n",
      "Exporting OCSWITRS Roads layer to LYRX...\n",
      "Start Time: Thursday, February 27, 2025 1:55:26 PM\n",
      "Succeeded at Thursday, February 27, 2025 1:55:26 PM (Elapsed Time: 0.04 seconds)\n",
      "Exporting OCSWITRS Roads layer to JSON...\n",
      "\n"
     ]
    }
   ],
   "source": [
    "# Export the layers to JSON\n",
    "for l in mapFhs150m2km.listLayers():\n",
    "    if not l.isBasemapLayer:\n",
    "        exportCim(\"layer\", l, l.name)"
   ]
  },
  {
   "cell_type": "markdown",
   "metadata": {},
   "source": [
    "<h3 style=\"font-weight:bold; color:lime; padding-left: 50px\">Save Project</h3>"
   ]
  },
  {
   "cell_type": "code",
   "execution_count": 162,
   "metadata": {},
   "outputs": [],
   "source": [
    "# Save the project\n",
    "aprx.save()"
   ]
  },
  {
   "cell_type": "markdown",
   "metadata": {},
   "source": [
    "<h2 style=\"font-weight:bold; color:dodgerblue; border-bottom: 1px solid dodgerblue; padding-left: 25px\">3.10. Hotspots (100m, 5km) Map Layers</h2>"
   ]
  },
  {
   "cell_type": "markdown",
   "metadata": {},
   "source": [
    "<h3 style=\"font-weight:bold; color:lime; padding-left: 50px\">Open Map View</h3>"
   ]
  },
  {
   "cell_type": "markdown",
   "metadata": {},
   "source": [
    "Close all open maps, open the hotspots (100m, 5km) map and set it as the active map"
   ]
  },
  {
   "cell_type": "code",
   "execution_count": 163,
   "metadata": {},
   "outputs": [],
   "source": [
    "# Close all previous map views\n",
    "aprx.closeViews()\n",
    "\n",
    "# Open the hotspots100m5km map view\n",
    "mapFhs100m5km.openView()\n",
    "\n",
    "# set the main map as active map\n",
    "map = aprx.activeMap"
   ]
  },
  {
   "cell_type": "markdown",
   "metadata": {},
   "source": [
    "Remove all layers from the active map"
   ]
  },
  {
   "cell_type": "code",
   "execution_count": 164,
   "metadata": {},
   "outputs": [],
   "source": [
    "# Remove all the layers from the map\n",
    "for lyr in mapFhs100m5km.listLayers():\n",
    "    if not lyr.isBasemapLayer:\n",
    "        print(f\"Removing layer: {lyr.name}\")\n",
    "        mapFhs100m5km.removeLayer(lyr)"
   ]
  },
  {
   "cell_type": "markdown",
   "metadata": {},
   "source": [
    "<h3 style=\"font-weight:bold; color:lime; padding-left: 50px\">Add Layers to Map</h3>"
   ]
  },
  {
   "cell_type": "markdown",
   "metadata": {},
   "source": [
    "Add the feature classes as layers to the map (in order, as the first layer goes to the bottom of the contents)"
   ]
  },
  {
   "cell_type": "code",
   "execution_count": 165,
   "metadata": {},
   "outputs": [
    {
     "data": {
      "text/plain": [
       "True"
      ]
     },
     "execution_count": 165,
     "metadata": {},
     "output_type": "execute_result"
    }
   ],
   "source": [
    "# Add the data layers to the map\n",
    "mapFhs100m5kmLyrBoundaries = mapFhs100m5km.addDataFromPath(boundaries)\n",
    "mapFhs100m5kmLyrCities = mapFhs100m5km.addDataFromPath(cities)\n",
    "mapFhs100m5kmLyrCensusBlocks = mapFhs100m5km.addDataFromPath(censusBlocks)\n",
    "mapFhs100m5kmLyrRoads = mapFhs100m5km.addDataFromPath(roads)\n",
    "mapFhs100m5kmLyrFhs100m5km = mapFhs100m5km.addDataFromPath(crashesFindHotspots100m5km)\n",
    "\n",
    "# Set layer visibility on the map\n",
    "mapFhs100m5kmLyrBoundaries.visible = False\n",
    "mapFhs100m5kmLyrCities.visible = False\n",
    "mapFhs100m5kmLyrCensusBlocks.visible = False\n",
    "mapFhs100m5kmLyrRoads.visible = False\n",
    "mapFhs100m5kmLyrFhs100m5km.visible = False\n",
    "\n",
    "# Move layers\n",
    "mapFhs100m5km.moveLayer(\n",
    "    reference_layer = mapFhs100m5kmLyrBoundaries,\n",
    "    move_layer = mapFhs100m5kmLyrRoads,\n",
    "    insert_position = \"AFTER\"\n",
    ")"
   ]
  },
  {
   "cell_type": "markdown",
   "metadata": {},
   "source": [
    "<h3 style=\"font-weight:bold; color:lime; padding-left: 50px\">Layer Symbology</h3>"
   ]
  },
  {
   "cell_type": "markdown",
   "metadata": {},
   "source": [
    "Define symbology for each of the map layers. The symbology is predefined in the project's template layer folders."
   ]
  },
  {
   "cell_type": "markdown",
   "metadata": {},
   "source": [
    "- Roads layer"
   ]
  },
  {
   "cell_type": "code",
   "execution_count": 166,
   "metadata": {},
   "outputs": [
    {
     "name": "stdout",
     "output_type": "stream",
     "text": [
      "Start Time: Thursday, February 27, 2025 1:55:27 PM\n",
      "Succeeded at Thursday, February 27, 2025 1:55:27 PM (Elapsed Time: 0.05 seconds)\n"
     ]
    }
   ],
   "source": [
    "# Apply the symbology for the Roads data layer\n",
    "arcpy.management.ApplySymbologyFromLayer(\n",
    "    in_layer = mapFhs100m5kmLyrRoads,\n",
    "    in_symbology_layer = os.path.join(layersTemplates, \"OCSWITRS Roads.lyrx\"),\n",
    "    symbology_fields = [[\"VALUE_FIELD\", \"roadCat\", \"roadCat\"]],\n",
    "    update_symbology = \"MAINTAIN\"\n",
    ")\n",
    "print(arcpy.GetMessages())"
   ]
  },
  {
   "cell_type": "markdown",
   "metadata": {},
   "source": [
    "- Census Blocks layer"
   ]
  },
  {
   "cell_type": "code",
   "execution_count": 167,
   "metadata": {},
   "outputs": [
    {
     "name": "stdout",
     "output_type": "stream",
     "text": [
      "Start Time: Thursday, February 27, 2025 1:55:27 PM\n",
      "Succeeded at Thursday, February 27, 2025 1:55:28 PM (Elapsed Time: 0.08 seconds)\n"
     ]
    }
   ],
   "source": [
    "# Apply the symbology for the US Census 2020 Blocks data layer\n",
    "arcpy.management.ApplySymbologyFromLayer(\n",
    "    in_layer = mapFhs100m5kmLyrCensusBlocks,\n",
    "    in_symbology_layer = os.path.join(layersTemplates, \"OCSWITRS Census Blocks.lyrx\"),\n",
    "    symbology_fields = [[\"VALUE_FIELD\", \"populationDensity\", \"populationDensity\"]],\n",
    "    update_symbology = \"MAINTAIN\"\n",
    ")\n",
    "print(arcpy.GetMessages())"
   ]
  },
  {
   "cell_type": "markdown",
   "metadata": {},
   "source": [
    "- Cities layer"
   ]
  },
  {
   "cell_type": "code",
   "execution_count": 168,
   "metadata": {},
   "outputs": [
    {
     "name": "stdout",
     "output_type": "stream",
     "text": [
      "Start Time: Thursday, February 27, 2025 1:55:28 PM\n",
      "Succeeded at Thursday, February 27, 2025 1:55:28 PM (Elapsed Time: 0.04 seconds)\n"
     ]
    }
   ],
   "source": [
    "# Apply the symbology for the Cities data layer\n",
    "arcpy.management.ApplySymbologyFromLayer(\n",
    "    in_layer = mapFhs100m5kmLyrCities,\n",
    "    in_symbology_layer = os.path.join(layersTemplates, \"OCSWITRS Cities.lyrx\"),\n",
    "    symbology_fields = [[\"VALUE_FIELD\", \"cityPopDens\", \"cityPopDens\"]],\n",
    "    update_symbology = \"MAINTAIN\"\n",
    ")\n",
    "print(arcpy.GetMessages())"
   ]
  },
  {
   "cell_type": "markdown",
   "metadata": {},
   "source": [
    "- Boundaries layer"
   ]
  },
  {
   "cell_type": "code",
   "execution_count": 169,
   "metadata": {},
   "outputs": [
    {
     "name": "stdout",
     "output_type": "stream",
     "text": [
      "Start Time: Thursday, February 27, 2025 1:55:28 PM\n",
      "Succeeded at Thursday, February 27, 2025 1:55:28 PM (Elapsed Time: 0.12 seconds)\n"
     ]
    }
   ],
   "source": [
    "# Apply the symbology for the Boundaries data layer\n",
    "arcpy.management.ApplySymbologyFromLayer(\n",
    "    in_layer = mapFhs100m5kmLyrBoundaries,\n",
    "    in_symbology_layer = os.path.join(layersTemplates, \"OCSWITRS Boundaries.lyrx\"),\n",
    "    symbology_fields = None,\n",
    "    update_symbology = \"MAINTAIN\"\n",
    ")\n",
    "print(arcpy.GetMessages())"
   ]
  },
  {
   "cell_type": "markdown",
   "metadata": {},
   "source": [
    "<h3 style=\"font-weight:bold; color:lime; padding-left: 50px\">Layer CIM Operations</h3>"
   ]
  },
  {
   "cell_type": "markdown",
   "metadata": {},
   "source": [
    "Generate CIM JSON configuration for layers"
   ]
  },
  {
   "cell_type": "code",
   "execution_count": 170,
   "metadata": {},
   "outputs": [],
   "source": [
    "# Get CIM definitions for the hotspots100m5km map layers\n",
    "mapFhs100m5kmCimBoundaries = mapFhs100m5kmLyrBoundaries.getDefinition(\"V3\")\n",
    "mapFhs100m5kmCimCities = mapFhs100m5kmLyrCities.getDefinition(\"V3\")\n",
    "mapFhs100m5kmCimCensusBlocks = mapFhs100m5kmLyrCensusBlocks.getDefinition(\"V3\")\n",
    "mapFhs100m5kmCimRoads = mapFhs100m5kmLyrRoads.getDefinition(\"V3\")\n",
    "mapFhs100m5kmCimFhs100m5km = mapFhs100m5kmLyrFhs100m5km.getDefinition(\"V3\")"
   ]
  },
  {
   "cell_type": "markdown",
   "metadata": {},
   "source": [
    "Set symbology headings and update CIM definitions for layers"
   ]
  },
  {
   "cell_type": "code",
   "execution_count": 171,
   "metadata": {},
   "outputs": [],
   "source": [
    "# Set the layer headings\n",
    "mapFhs100m5kmCimBoundaries.renderer.heading = \"Boundaries\"\n",
    "mapFhs100m5kmCimCities.renderer.heading = \"City Population Density\"\n",
    "mapFhs100m5kmCimCensusBlocks.renderer.heading = \"Population Density\"\n",
    "mapFhs100m5kmCimRoads.renderer.heading = \"Road Categories\"\n",
    "mapFhs100m5kmCimFhs100m5km.renderer.heading = \"Getis-Ord Gi*\"\n",
    "\n",
    "# Update the map layer definitions\n",
    "mapFhs100m5kmLyrBoundaries.setDefinition(mapFhs100m5kmCimBoundaries)\n",
    "mapFhs100m5kmLyrCities.setDefinition(mapFhs100m5kmCimCities)\n",
    "mapFhs100m5kmLyrCensusBlocks.setDefinition(mapFhs100m5kmCimCensusBlocks)\n",
    "mapFhs100m5kmLyrRoads.setDefinition(mapFhs100m5kmCimRoads)\n",
    "mapFhs100m5kmLyrFhs100m5km.setDefinition(mapFhs100m5kmCimFhs100m5km)"
   ]
  },
  {
   "cell_type": "markdown",
   "metadata": {},
   "source": [
    "Update the CIM defintion for the hotspots (100m, 5km) map"
   ]
  },
  {
   "cell_type": "code",
   "execution_count": 172,
   "metadata": {},
   "outputs": [],
   "source": [
    "cimFhs100m5kmLyr = mapFhs100m5km.getDefinition(\"V3\")"
   ]
  },
  {
   "cell_type": "markdown",
   "metadata": {},
   "source": [
    "<h3 style=\"font-weight:bold; color:lime; padding-left: 50px\">Export Map and Map Layers</h3>"
   ]
  },
  {
   "cell_type": "markdown",
   "metadata": {},
   "source": [
    "Update the mapx file with the new layers"
   ]
  },
  {
   "cell_type": "code",
   "execution_count": 173,
   "metadata": {},
   "outputs": [
    {
     "name": "stdout",
     "output_type": "stream",
     "text": [
      "Exporting hotspots100m5km map to MAPX...\n",
      "Start Time: Thursday, February 27, 2025 1:55:28 PM\n",
      "Succeeded at Thursday, February 27, 2025 1:55:28 PM (Elapsed Time: 0.12 seconds)\n",
      "Exporting hotspots100m5km map to JSON...\n",
      "\n"
     ]
    }
   ],
   "source": [
    "# Update the victims map mapx file\n",
    "exportCim(\"map\", mapFhs100m5km, \"hotspots100m5km\")"
   ]
  },
  {
   "cell_type": "markdown",
   "metadata": {},
   "source": [
    "Export map layers as CIM JSON `.lyrx` files to the layers folder directory of the project."
   ]
  },
  {
   "cell_type": "code",
   "execution_count": 174,
   "metadata": {},
   "outputs": [
    {
     "name": "stdout",
     "output_type": "stream",
     "text": [
      "Exporting OCSWITRS Crashes Find Hot Spots 100m 5km layer to LYRX...\n",
      "Start Time: Thursday, February 27, 2025 1:55:29 PM\n",
      "Succeeded at Thursday, February 27, 2025 1:55:29 PM (Elapsed Time: 0.05 seconds)\n",
      "Exporting OCSWITRS Crashes Find Hot Spots 100m 5km layer to JSON...\n",
      "\n",
      "Exporting OCSWITRS Census Blocks layer to LYRX...\n",
      "Start Time: Thursday, February 27, 2025 1:55:29 PM\n",
      "Succeeded at Thursday, February 27, 2025 1:55:29 PM (Elapsed Time: 0.06 seconds)\n",
      "Exporting OCSWITRS Census Blocks layer to JSON...\n",
      "\n",
      "Exporting OCSWITRS Cities layer to LYRX...\n",
      "Start Time: Thursday, February 27, 2025 1:55:29 PM\n",
      "Succeeded at Thursday, February 27, 2025 1:55:29 PM (Elapsed Time: 0.06 seconds)\n",
      "Exporting OCSWITRS Cities layer to JSON...\n",
      "\n",
      "Exporting OCSWITRS Boundaries layer to LYRX...\n",
      "Start Time: Thursday, February 27, 2025 1:55:29 PM\n",
      "Succeeded at Thursday, February 27, 2025 1:55:29 PM (Elapsed Time: 0.04 seconds)\n",
      "Exporting OCSWITRS Boundaries layer to JSON...\n",
      "\n",
      "Exporting OCSWITRS Roads layer to LYRX...\n",
      "Start Time: Thursday, February 27, 2025 1:55:29 PM\n",
      "Succeeded at Thursday, February 27, 2025 1:55:29 PM (Elapsed Time: 0.05 seconds)\n",
      "Exporting OCSWITRS Roads layer to JSON...\n",
      "\n"
     ]
    }
   ],
   "source": [
    "# Export the layers to JSON\n",
    "for l in mapFhs100m5km.listLayers():\n",
    "    if not l.isBasemapLayer:\n",
    "        exportCim(\"layer\", l, l.name)"
   ]
  },
  {
   "cell_type": "markdown",
   "metadata": {},
   "source": [
    "<h3 style=\"font-weight:bold; color:lime; padding-left: 50px\">Save Project</h3>"
   ]
  },
  {
   "cell_type": "code",
   "execution_count": 175,
   "metadata": {},
   "outputs": [],
   "source": [
    "# Save the project\n",
    "aprx.save()"
   ]
  },
  {
   "cell_type": "markdown",
   "metadata": {},
   "source": [
    "<h2 style=\"font-weight:bold; color:dodgerblue; border-bottom: 1px solid dodgerblue; padding-left: 25px\">3.11. Hotspots 500ft from Major Roads Map Layers</h2>"
   ]
  },
  {
   "cell_type": "markdown",
   "metadata": {},
   "source": [
    "<h3 style=\"font-weight:bold; color:lime; padding-left: 50px\">Open Map View</h3>"
   ]
  },
  {
   "cell_type": "markdown",
   "metadata": {},
   "source": [
    "Close all open maps, open the hotspots 500ft from major roads map and set it as the active map"
   ]
  },
  {
   "cell_type": "code",
   "execution_count": 176,
   "metadata": {},
   "outputs": [],
   "source": [
    "# Close all previous map views\n",
    "aprx.closeViews()\n",
    "\n",
    "# Open the hotspotsroads500ft map view\n",
    "mapFhsRoads500ft.openView()\n",
    "\n",
    "# set the main map as active map\n",
    "map = aprx.activeMap"
   ]
  },
  {
   "cell_type": "markdown",
   "metadata": {},
   "source": [
    "Remove all layers from the active map"
   ]
  },
  {
   "cell_type": "code",
   "execution_count": 177,
   "metadata": {},
   "outputs": [],
   "source": [
    "# Remove all the layers from the map\n",
    "for lyr in mapFhsRoads500ft.listLayers():\n",
    "    if not lyr.isBasemapLayer:\n",
    "        print(f\"Removing layer: {lyr.name}\")\n",
    "        mapFhsRoads500ft.removeLayer(lyr)"
   ]
  },
  {
   "cell_type": "markdown",
   "metadata": {},
   "source": [
    "<h3 style=\"font-weight:bold; color:lime; padding-left: 50px\">Add Layers to Map</h3>"
   ]
  },
  {
   "cell_type": "markdown",
   "metadata": {},
   "source": [
    "Add the feature classes as layers to the map (in order, as the first layer goes to the bottom of the contents)"
   ]
  },
  {
   "cell_type": "code",
   "execution_count": 178,
   "metadata": {},
   "outputs": [
    {
     "data": {
      "text/plain": [
       "True"
      ]
     },
     "execution_count": 178,
     "metadata": {},
     "output_type": "execute_result"
    }
   ],
   "source": [
    "# Add the data layers to the map\n",
    "mapFhsRoads500ftLyrBoundaries = mapFhsRoads500ft.addDataFromPath(boundaries)\n",
    "mapFhsRoads500ftLyrCities = mapFhsRoads500ft.addDataFromPath(cities)\n",
    "mapFhsRoads500ftLyrCensusBlocks = mapFhsRoads500ft.addDataFromPath(censusBlocks)\n",
    "mapFhsRoads500ftLyrRoads = mapFhsRoads500ft.addDataFromPath(roads)\n",
    "mapFhsRoads500ftLyrFhsRoads500ft = mapFhsRoads500ft.addDataFromPath(crashesFindHotspots500ftMajorRoads500ft1mi)\n",
    "\n",
    "# Set layer visibility on the map\n",
    "mapFhsRoads500ftLyrBoundaries.visible = False\n",
    "mapFhsRoads500ftLyrCities.visible = False\n",
    "mapFhsRoads500ftLyrCensusBlocks.visible = False\n",
    "mapFhsRoads500ftLyrRoads.visible = False\n",
    "mapFhsRoads500ftLyrFhsRoads500ft.visible = False\n",
    "\n",
    "# Move layers\n",
    "mapFhsRoads500ft.moveLayer(\n",
    "    reference_layer = mapFhsRoads500ftLyrBoundaries,\n",
    "    move_layer = mapFhsRoads500ftLyrRoads,\n",
    "    insert_position = \"AFTER\"\n",
    ")"
   ]
  },
  {
   "cell_type": "markdown",
   "metadata": {},
   "source": [
    "<h3 style=\"font-weight:bold; color:lime; padding-left: 50px\">Layer Symbology</h3>"
   ]
  },
  {
   "cell_type": "markdown",
   "metadata": {},
   "source": [
    "Define symbology for each of the map layers. The symbology is predefined in the project's template layer folders."
   ]
  },
  {
   "cell_type": "markdown",
   "metadata": {},
   "source": [
    "- Roads layer"
   ]
  },
  {
   "cell_type": "code",
   "execution_count": 179,
   "metadata": {},
   "outputs": [
    {
     "name": "stdout",
     "output_type": "stream",
     "text": [
      "Start Time: Thursday, February 27, 2025 1:55:31 PM\n",
      "Succeeded at Thursday, February 27, 2025 1:55:31 PM (Elapsed Time: 0.05 seconds)\n"
     ]
    }
   ],
   "source": [
    "# Apply the symbology for the Roads data layer\n",
    "arcpy.management.ApplySymbologyFromLayer(\n",
    "    in_layer = mapFhsRoads500ftLyrRoads,\n",
    "    in_symbology_layer = os.path.join(layersTemplates, \"OCSWITRS Roads.lyrx\"),\n",
    "    symbology_fields = [[\"VALUE_FIELD\", \"roadCat\", \"roadCat\"]],\n",
    "    update_symbology = \"MAINTAIN\"\n",
    ")\n",
    "print(arcpy.GetMessages())"
   ]
  },
  {
   "cell_type": "markdown",
   "metadata": {},
   "source": [
    "- Census Blocks layer"
   ]
  },
  {
   "cell_type": "code",
   "execution_count": 180,
   "metadata": {},
   "outputs": [
    {
     "name": "stdout",
     "output_type": "stream",
     "text": [
      "Start Time: Thursday, February 27, 2025 1:55:31 PM\n",
      "Succeeded at Thursday, February 27, 2025 1:55:31 PM (Elapsed Time: 0.04 seconds)\n"
     ]
    }
   ],
   "source": [
    "# Apply the symbology for the US Census 2020 Blocks data layer\n",
    "arcpy.management.ApplySymbologyFromLayer(\n",
    "    in_layer = mapFhsRoads500ftLyrCensusBlocks,\n",
    "    in_symbology_layer = os.path.join(layersTemplates, \"OCSWITRS Census Blocks.lyrx\"),\n",
    "    symbology_fields = [[\"VALUE_FIELD\", \"populationDensity\", \"populationDensity\"]],\n",
    "    update_symbology = \"MAINTAIN\"\n",
    ")\n",
    "print(arcpy.GetMessages())"
   ]
  },
  {
   "cell_type": "markdown",
   "metadata": {},
   "source": [
    "- Cities layer"
   ]
  },
  {
   "cell_type": "code",
   "execution_count": 181,
   "metadata": {},
   "outputs": [
    {
     "name": "stdout",
     "output_type": "stream",
     "text": [
      "Start Time: Thursday, February 27, 2025 1:55:31 PM\n",
      "Succeeded at Thursday, February 27, 2025 1:55:31 PM (Elapsed Time: 0.04 seconds)\n"
     ]
    }
   ],
   "source": [
    "# Apply the symbology for the Cities data layer\n",
    "arcpy.management.ApplySymbologyFromLayer(\n",
    "    in_layer = mapFhsRoads500ftLyrCities,\n",
    "    in_symbology_layer = os.path.join(layersTemplates, \"OCSWITRS Cities.lyrx\"),\n",
    "    symbology_fields = [[\"VALUE_FIELD\", \"cityPopDens\", \"cityPopDens\"]],\n",
    "    update_symbology = \"MAINTAIN\"\n",
    ")\n",
    "print(arcpy.GetMessages())"
   ]
  },
  {
   "cell_type": "markdown",
   "metadata": {},
   "source": [
    "- Boundaries layer"
   ]
  },
  {
   "cell_type": "code",
   "execution_count": 182,
   "metadata": {},
   "outputs": [
    {
     "name": "stdout",
     "output_type": "stream",
     "text": [
      "Start Time: Thursday, February 27, 2025 1:55:31 PM\n",
      "Succeeded at Thursday, February 27, 2025 1:55:31 PM (Elapsed Time: 0.03 seconds)\n"
     ]
    }
   ],
   "source": [
    "# Apply the symbology for the Boundaries data layer\n",
    "arcpy.management.ApplySymbologyFromLayer(\n",
    "    in_layer = mapFhsRoads500ftLyrBoundaries,\n",
    "    in_symbology_layer = os.path.join(layersTemplates, \"OCSWITRS Boundaries.lyrx\"),\n",
    "    symbology_fields = None,\n",
    "    update_symbology = \"MAINTAIN\"\n",
    ")\n",
    "print(arcpy.GetMessages())"
   ]
  },
  {
   "cell_type": "markdown",
   "metadata": {},
   "source": [
    "<h3 style=\"font-weight:bold; color:lime; padding-left: 50px\">Layer CIM Operations</h3>"
   ]
  },
  {
   "cell_type": "markdown",
   "metadata": {},
   "source": [
    "Generate CIM JSON configuration for layers"
   ]
  },
  {
   "cell_type": "code",
   "execution_count": 183,
   "metadata": {},
   "outputs": [],
   "source": [
    "# Get CIM definitions for the hotspotsroads500ft map layers\n",
    "mapFhsRoads500ftCimBoundaries = mapFhsRoads500ftLyrBoundaries.getDefinition(\"V3\")\n",
    "mapFhsRoads500ftCimCities = mapFhsRoads500ftLyrCities.getDefinition(\"V3\")\n",
    "mapFhsRoads500ftCimCensusBlocks = mapFhsRoads500ftLyrCensusBlocks.getDefinition(\"V3\")\n",
    "mapFhsRoads500ftCimRoads = mapFhsRoads500ftLyrRoads.getDefinition(\"V3\")\n",
    "mapFhsRoads500ftCimFhsRoads500ft = mapFhsRoads500ftLyrFhsRoads500ft.getDefinition(\"V3\")"
   ]
  },
  {
   "cell_type": "markdown",
   "metadata": {},
   "source": [
    "Set symbology headings and update CIM definitions for layers"
   ]
  },
  {
   "cell_type": "code",
   "execution_count": 184,
   "metadata": {},
   "outputs": [],
   "source": [
    "# Set the layer headings\n",
    "mapFhsRoads500ftCimBoundaries.renderer.heading = \"Boundaries\"\n",
    "mapFhsRoads500ftCimCities.renderer.heading = \"City Population Density\"\n",
    "mapFhsRoads500ftCimCensusBlocks.renderer.heading = \"Population Density\"\n",
    "mapFhsRoads500ftCimRoads.renderer.heading = \"Road Categories\"\n",
    "mapFhsRoads500ftCimFhsRoads500ft.renderer.heading = \"Getis-Ord Gi*\"\n",
    "\n",
    "# Update the map layer definitions\n",
    "mapFhsRoads500ftLyrBoundaries.setDefinition(mapFhsRoads500ftCimBoundaries)\n",
    "mapFhsRoads500ftLyrCities.setDefinition(mapFhsRoads500ftCimCities)\n",
    "mapFhsRoads500ftLyrCensusBlocks.setDefinition(mapFhsRoads500ftCimCensusBlocks)\n",
    "mapFhsRoads500ftLyrRoads.setDefinition(mapFhsRoads500ftCimRoads)\n",
    "mapFhsRoads500ftLyrFhsRoads500ft.setDefinition(mapFhsRoads500ftCimFhsRoads500ft)"
   ]
  },
  {
   "cell_type": "markdown",
   "metadata": {},
   "source": [
    "Update the CIM defintion for the hotspots 500ft from major roads map"
   ]
  },
  {
   "cell_type": "code",
   "execution_count": 185,
   "metadata": {},
   "outputs": [],
   "source": [
    "cimFhsRoads500ft = mapFhsRoads500ft.getDefinition(\"V3\")"
   ]
  },
  {
   "cell_type": "markdown",
   "metadata": {},
   "source": [
    "<h3 style=\"font-weight:bold; color:lime; padding-left: 50px\">Export Map and Map Layers</h3>"
   ]
  },
  {
   "cell_type": "markdown",
   "metadata": {},
   "source": [
    "Update the mapx file with the new layers"
   ]
  },
  {
   "cell_type": "code",
   "execution_count": 186,
   "metadata": {},
   "outputs": [
    {
     "name": "stdout",
     "output_type": "stream",
     "text": [
      "Exporting hotspotsroads500ft map to MAPX...\n",
      "Start Time: Thursday, February 27, 2025 1:55:31 PM\n",
      "Succeeded at Thursday, February 27, 2025 1:55:31 PM (Elapsed Time: 0.03 seconds)\n",
      "Exporting hotspotsroads500ft map to JSON...\n",
      "\n"
     ]
    }
   ],
   "source": [
    "# Update the victims map mapx file\n",
    "exportCim(\"map\", mapFhsRoads500ft, \"hotspotsroads500ft\")"
   ]
  },
  {
   "cell_type": "markdown",
   "metadata": {},
   "source": [
    "Export map layers as CIM JSON `.lyrx` files to the layers folder directory of the project."
   ]
  },
  {
   "cell_type": "code",
   "execution_count": 187,
   "metadata": {},
   "outputs": [
    {
     "name": "stdout",
     "output_type": "stream",
     "text": [
      "Exporting OCSWITRS Crashes Find Hot Spots 500 Feet from Major Roads 500ft 1mi layer to LYRX...\n",
      "Start Time: Thursday, February 27, 2025 1:55:32 PM\n",
      "Succeeded at Thursday, February 27, 2025 1:55:32 PM (Elapsed Time: 0.05 seconds)\n",
      "Exporting OCSWITRS Crashes Find Hot Spots 500 Feet from Major Roads 500ft 1mi layer to JSON...\n",
      "\n",
      "Exporting OCSWITRS Census Blocks layer to LYRX...\n",
      "Start Time: Thursday, February 27, 2025 1:55:32 PM\n",
      "Succeeded at Thursday, February 27, 2025 1:55:32 PM (Elapsed Time: 0.06 seconds)\n",
      "Exporting OCSWITRS Census Blocks layer to JSON...\n",
      "\n",
      "Exporting OCSWITRS Cities layer to LYRX...\n",
      "Start Time: Thursday, February 27, 2025 1:55:32 PM\n",
      "Succeeded at Thursday, February 27, 2025 1:55:32 PM (Elapsed Time: 0.06 seconds)\n",
      "Exporting OCSWITRS Cities layer to JSON...\n",
      "\n",
      "Exporting OCSWITRS Boundaries layer to LYRX...\n",
      "Start Time: Thursday, February 27, 2025 1:55:32 PM\n",
      "Succeeded at Thursday, February 27, 2025 1:55:32 PM (Elapsed Time: 0.04 seconds)\n",
      "Exporting OCSWITRS Boundaries layer to JSON...\n",
      "\n",
      "Exporting OCSWITRS Roads layer to LYRX...\n",
      "Start Time: Thursday, February 27, 2025 1:55:33 PM\n",
      "Succeeded at Thursday, February 27, 2025 1:55:33 PM (Elapsed Time: 0.05 seconds)\n",
      "Exporting OCSWITRS Roads layer to JSON...\n",
      "\n"
     ]
    }
   ],
   "source": [
    "# Export the layers to JSON\n",
    "for l in mapFhsRoads500ft.listLayers():\n",
    "    if not l.isBasemapLayer:\n",
    "        exportCim(\"layer\", l, l.name)"
   ]
  },
  {
   "cell_type": "markdown",
   "metadata": {},
   "source": [
    "<h3 style=\"font-weight:bold; color:lime; padding-left: 50px\">Save Project</h3>"
   ]
  },
  {
   "cell_type": "code",
   "execution_count": 188,
   "metadata": {},
   "outputs": [],
   "source": [
    "# Save the project\n",
    "aprx.save()"
   ]
  },
  {
   "cell_type": "markdown",
   "metadata": {},
   "source": [
    "<h2 style=\"font-weight:bold; color:dodgerblue; border-bottom: 1px solid dodgerblue; padding-left: 25px\">3.12. Optimized Hotspots 500ft from Major Roads Map Layers</h2>"
   ]
  },
  {
   "cell_type": "markdown",
   "metadata": {},
   "source": [
    "<h3 style=\"font-weight:bold; color:lime; padding-left: 50px\">Open Map View</h3>"
   ]
  },
  {
   "cell_type": "markdown",
   "metadata": {},
   "source": [
    "Open the optimized hotspots 500ft from major roads map and set it as the active map"
   ]
  },
  {
   "cell_type": "code",
   "execution_count": 189,
   "metadata": {},
   "outputs": [],
   "source": [
    "# Close all previous map views\n",
    "aprx.closeViews()\n",
    "\n",
    "# Open the optimized hot spots map view\n",
    "mapOhsRoads500ft.openView()\n",
    "\n",
    "# set the main map as active map\n",
    "map = aprx.activeMap"
   ]
  },
  {
   "cell_type": "markdown",
   "metadata": {},
   "source": [
    "Remove all layers from the active map"
   ]
  },
  {
   "cell_type": "code",
   "execution_count": 190,
   "metadata": {},
   "outputs": [],
   "source": [
    "# Remove all the layers from the map\n",
    "for lyr in mapOhsRoads500ft.listLayers():\n",
    "    if not lyr.isBasemapLayer:\n",
    "        print(f\"Removing layer: {lyr.name}\")\n",
    "        mapOhsRoads500ft.removeLayer(lyr)"
   ]
  },
  {
   "cell_type": "markdown",
   "metadata": {},
   "source": [
    "<h3 style=\"font-weight:bold; color:lime; padding-left: 50px\">Add Layers to Map</h3>"
   ]
  },
  {
   "cell_type": "markdown",
   "metadata": {},
   "source": [
    "Add the feature classes as layers to the map (in order, as the first layer goes to the bottom of the contents)"
   ]
  },
  {
   "cell_type": "code",
   "execution_count": 191,
   "metadata": {},
   "outputs": [
    {
     "data": {
      "text/plain": [
       "True"
      ]
     },
     "execution_count": 191,
     "metadata": {},
     "output_type": "execute_result"
    }
   ],
   "source": [
    "# Add the data layers to the map\n",
    "mapOhsRoads500ftLyrBoundaries = mapOhsRoads500ft.addDataFromPath(boundaries)\n",
    "mapOhsRoads500ftLyrCities = mapOhsRoads500ft.addDataFromPath(cities)\n",
    "mapOhsRoads500ftLyrCensusBlocks = mapOhsRoads500ft.addDataFromPath(censusBlocks)\n",
    "mapOhsRoads500ftLyrRoads = mapOhsRoads500ft.addDataFromPath(roads)\n",
    "mapOhsRoads500ftLyrOhsRoads500ft = mapOhsRoads500ft.addDataFromPath(crashesFindHotspots500ftMajorRoads500ft1mi)\n",
    "\n",
    "# Set layer visibility on the map\n",
    "mapOhsRoads500ftLyrBoundaries.visible = False\n",
    "mapOhsRoads500ftLyrCities.visible = False\n",
    "mapOhsRoads500ftLyrCensusBlocks.visible = False\n",
    "mapOhsRoads500ftLyrRoads.visible = False\n",
    "mapOhsRoads500ftLyrOhsRoads500ft.visible = False\n",
    "\n",
    "# Move layers\n",
    "mapOhsRoads500ft.moveLayer(\n",
    "    reference_layer = mapOhsRoads500ftLyrBoundaries,\n",
    "    move_layer = mapOhsRoads500ftLyrRoads,\n",
    "    insert_position = \"AFTER\"\n",
    ")"
   ]
  },
  {
   "cell_type": "markdown",
   "metadata": {},
   "source": [
    "<h3 style=\"font-weight:bold; color:lime; padding-left: 50px\">Layer Symbology</h3>"
   ]
  },
  {
   "cell_type": "markdown",
   "metadata": {},
   "source": [
    "Define symbology for each of the map layers. The symbology is predefined in the project's template layer folders."
   ]
  },
  {
   "cell_type": "markdown",
   "metadata": {},
   "source": [
    "- Boundaries layer"
   ]
  },
  {
   "cell_type": "code",
   "execution_count": 192,
   "metadata": {},
   "outputs": [
    {
     "data": {
      "text/html": [
       "<div class='gpresult'><h2 class='msg-title'>Messages</h2><div id='messages'>Start Time: Thursday, February 27, 2025 1:55:34 PM<br>Succeeded at Thursday, February 27, 2025 1:55:34 PM (Elapsed Time: 0.05 seconds)<br></div><div id = 'default' /></div></div>"
      ],
      "text/plain": [
       "<Result 'GPLYR_{16570DD4-87CC-49BC-BA38-DDEA7AD90ABB}'>"
      ]
     },
     "execution_count": 192,
     "metadata": {},
     "output_type": "execute_result"
    }
   ],
   "source": [
    "# Apply the symbology for the Boundaries data layer\n",
    "arcpy.management.ApplySymbologyFromLayer(\n",
    "    in_layer = mapOhsRoads500ftLyrBoundaries,\n",
    "    in_symbology_layer = os.path.join(layersTemplates, \"OCSWITRS Boundaries.lyrx\"),\n",
    "    symbology_fields = None,\n",
    "    update_symbology = \"MAINTAIN\"\n",
    ")"
   ]
  },
  {
   "cell_type": "markdown",
   "metadata": {},
   "source": [
    "- Cities layer"
   ]
  },
  {
   "cell_type": "code",
   "execution_count": 193,
   "metadata": {},
   "outputs": [
    {
     "data": {
      "text/html": [
       "<div class='gpresult'><h2 class='msg-title'>Messages</h2><div id='messages'>Start Time: Thursday, February 27, 2025 1:55:34 PM<br>Succeeded at Thursday, February 27, 2025 1:55:34 PM (Elapsed Time: 0.08 seconds)<br></div><div id = 'default' /></div></div>"
      ],
      "text/plain": [
       "<Result 'GPLYR_{826FFC89-F5FC-469E-8900-BBBF79EB8439}'>"
      ]
     },
     "execution_count": 193,
     "metadata": {},
     "output_type": "execute_result"
    }
   ],
   "source": [
    "# Apply the symbology for the cities data layer\n",
    "arcpy.management.ApplySymbologyFromLayer(\n",
    "    in_layer = mapOhsRoads500ftLyrCities,\n",
    "    in_symbology_layer = os.path.join(layersTemplates, \"OCSWITRS Cities.lyrx\"),\n",
    "    symbology_fields = [[\"VALUE_FIELD\", \"cityPopDens\", \"cityPopDens\"]],\n",
    "    update_symbology = \"MAINTAIN\"\n",
    ")"
   ]
  },
  {
   "cell_type": "markdown",
   "metadata": {},
   "source": [
    "- Census Blocks layer"
   ]
  },
  {
   "cell_type": "code",
   "execution_count": 194,
   "metadata": {},
   "outputs": [
    {
     "data": {
      "text/html": [
       "<div class='gpresult'><h2 class='msg-title'>Messages</h2><div id='messages'>Start Time: Thursday, February 27, 2025 1:55:34 PM<br>Succeeded at Thursday, February 27, 2025 1:55:34 PM (Elapsed Time: 0.04 seconds)<br></div><div id = 'default' /></div></div>"
      ],
      "text/plain": [
       "<Result 'GPLYR_{F9551C47-788D-4FA8-979F-DD0C470E2BDC}'>"
      ]
     },
     "execution_count": 194,
     "metadata": {},
     "output_type": "execute_result"
    }
   ],
   "source": [
    "# Apply the symbology for the US Census 2020 Blocks data layer\n",
    "arcpy.management.ApplySymbologyFromLayer(\n",
    "    in_layer = mapOhsRoads500ftLyrCensusBlocks,\n",
    "    in_symbology_layer = os.path.join(layersTemplates, \"OCSWITRS Census Blocks.lyrx\"),\n",
    "    symbology_fields = [[\"VALUE_FIELD\", \"populationDensity\", \"populationDensity\"]],\n",
    "    update_symbology = \"MAINTAIN\"\n",
    ")"
   ]
  },
  {
   "cell_type": "markdown",
   "metadata": {},
   "source": [
    "- Roads layer"
   ]
  },
  {
   "cell_type": "code",
   "execution_count": 195,
   "metadata": {},
   "outputs": [
    {
     "data": {
      "text/html": [
       "<div class='gpresult'><h2 class='msg-title'>Messages</h2><div id='messages'>Start Time: Thursday, February 27, 2025 1:55:35 PM<br>Succeeded at Thursday, February 27, 2025 1:55:35 PM (Elapsed Time: 0.06 seconds)<br></div><div id = 'default' /></div></div>"
      ],
      "text/plain": [
       "<Result 'GPLYR_{C8F4AAC8-9050-41C1-9B7C-E755708819F4}'>"
      ]
     },
     "execution_count": 195,
     "metadata": {},
     "output_type": "execute_result"
    }
   ],
   "source": [
    "# Apply the symbology for the roads data layer\n",
    "arcpy.management.ApplySymbologyFromLayer(\n",
    "    in_layer = mapOhsRoads500ftLyrRoads,\n",
    "    in_symbology_layer = os.path.join(layersTemplates, \"OCSWITRS Roads.lyrx\"),\n",
    "    symbology_fields = [[\"VALUE_FIELD\", \"roadCat\", \"roadCat\"]],\n",
    "    update_symbology = \"MAINTAIN\"\n",
    ")"
   ]
  },
  {
   "cell_type": "markdown",
   "metadata": {},
   "source": [
    "<h3 style=\"font-weight:bold; color:lime; padding-left: 50px\">Layer CIM Operations</h3>"
   ]
  },
  {
   "cell_type": "markdown",
   "metadata": {},
   "source": [
    "Generate CIM JSON configuration for layers"
   ]
  },
  {
   "cell_type": "code",
   "execution_count": 196,
   "metadata": {},
   "outputs": [],
   "source": [
    "# Get CIM definitions for the optimized hot spots map layers\n",
    "mapOhsRoads500ftCimBoundaries = mapOhsRoads500ftLyrBoundaries.getDefinition(\"V3\")\n",
    "mapOhsRoads500ftCimCities = mapOhsRoads500ftLyrCities.getDefinition(\"V3\")\n",
    "mapOhsRoads500ftCimCensusBlocks = mapOhsRoads500ftLyrCensusBlocks.getDefinition(\"V3\")\n",
    "mapOhsRoads500ftCimRoads = mapOhsRoads500ftLyrRoads.getDefinition(\"V3\")\n",
    "mapOhsRoads500ftCimOhsRoads500ft = mapOhsRoads500ftLyrOhsRoads500ft.getDefinition(\"V3\")"
   ]
  },
  {
   "cell_type": "markdown",
   "metadata": {},
   "source": [
    "Set symbology headings and update CIM definitions for layers"
   ]
  },
  {
   "cell_type": "code",
   "execution_count": 197,
   "metadata": {},
   "outputs": [],
   "source": [
    "# Set the layer headings\n",
    "mapOhsRoads500ftCimBoundaries.renderer.heading = \"Boundaries\"\n",
    "mapOhsRoads500ftCimCities.renderer.heading = \"City Population Density\"\n",
    "mapOhsRoads500ftCimCensusBlocks.renderer.heading = \"Population Density\"\n",
    "mapOhsRoads500ftCimRoads.renderer.heading = \"Road Categories\"\n",
    "mapOhsRoads500ftCimOhsRoads500ft.renderer.heading = \"Getis-Ord Gi*\"\n",
    "\n",
    "# Update the map layer definitions\n",
    "mapOhsRoads500ftLyrBoundaries.setDefinition(mapOhsRoads500ftCimBoundaries)\n",
    "mapOhsRoads500ftLyrCities.setDefinition(mapOhsRoads500ftCimCities)\n",
    "mapOhsRoads500ftLyrCensusBlocks.setDefinition(mapOhsRoads500ftCimCensusBlocks)\n",
    "mapOhsRoads500ftLyrRoads.setDefinition(mapOhsRoads500ftCimRoads)\n",
    "mapOhsRoads500ftLyrOhsRoads500ft.setDefinition(mapOhsRoads500ftCimOhsRoads500ft)"
   ]
  },
  {
   "cell_type": "markdown",
   "metadata": {},
   "source": [
    "Update the CIM defintion for the major roads map"
   ]
  },
  {
   "cell_type": "code",
   "execution_count": 198,
   "metadata": {},
   "outputs": [],
   "source": [
    "cimOhsRoads500ft = mapOhsRoads500ft.getDefinition(\"V3\")"
   ]
  },
  {
   "cell_type": "markdown",
   "metadata": {},
   "source": [
    "<h3 style=\"font-weight:bold; color:lime; padding-left: 50px\">Export Map and Map Layers</h3>"
   ]
  },
  {
   "cell_type": "markdown",
   "metadata": {},
   "source": [
    "Update the mapx file with the new layers"
   ]
  },
  {
   "cell_type": "code",
   "execution_count": 199,
   "metadata": {},
   "outputs": [
    {
     "name": "stdout",
     "output_type": "stream",
     "text": [
      "Exporting optimizedHotspotsRoads500ft map to MAPX...\n",
      "Start Time: Thursday, February 27, 2025 1:55:35 PM\n",
      "Succeeded at Thursday, February 27, 2025 1:55:35 PM (Elapsed Time: 0.06 seconds)\n",
      "Exporting optimizedHotspotsRoads500ft map to JSON...\n",
      "\n"
     ]
    }
   ],
   "source": [
    "# Update the optimized hot spots map mapx file\n",
    "exportCim(\"map\", mapOhsRoads500ft, \"optimizedHotspotsRoads500ft\")"
   ]
  },
  {
   "cell_type": "markdown",
   "metadata": {},
   "source": [
    "Export map layers as CIM JSON `.lyrx` files to the layers folder directory of the project."
   ]
  },
  {
   "cell_type": "code",
   "execution_count": 200,
   "metadata": {},
   "outputs": [
    {
     "name": "stdout",
     "output_type": "stream",
     "text": [
      "Exporting OCSWITRS Crashes Find Hot Spots 500 Feet from Major Roads 500ft 1mi layer to LYRX...\n",
      "Start Time: Thursday, February 27, 2025 1:55:35 PM\n",
      "Succeeded at Thursday, February 27, 2025 1:55:35 PM (Elapsed Time: 0.06 seconds)\n",
      "Exporting OCSWITRS Crashes Find Hot Spots 500 Feet from Major Roads 500ft 1mi layer to JSON...\n",
      "\n",
      "Exporting OCSWITRS Census Blocks layer to LYRX...\n",
      "Start Time: Thursday, February 27, 2025 1:55:36 PM\n",
      "Succeeded at Thursday, February 27, 2025 1:55:36 PM (Elapsed Time: 0.16 seconds)\n",
      "Exporting OCSWITRS Census Blocks layer to JSON...\n",
      "\n",
      "Exporting OCSWITRS Cities layer to LYRX...\n",
      "Start Time: Thursday, February 27, 2025 1:55:36 PM\n",
      "Succeeded at Thursday, February 27, 2025 1:55:36 PM (Elapsed Time: 0.08 seconds)\n",
      "Exporting OCSWITRS Cities layer to JSON...\n",
      "\n",
      "Exporting OCSWITRS Boundaries layer to LYRX...\n",
      "Start Time: Thursday, February 27, 2025 1:55:36 PM\n",
      "Succeeded at Thursday, February 27, 2025 1:55:36 PM (Elapsed Time: 0.05 seconds)\n",
      "Exporting OCSWITRS Boundaries layer to JSON...\n",
      "\n",
      "Exporting OCSWITRS Roads layer to LYRX...\n",
      "Start Time: Thursday, February 27, 2025 1:55:36 PM\n",
      "Succeeded at Thursday, February 27, 2025 1:55:36 PM (Elapsed Time: 0.06 seconds)\n",
      "Exporting OCSWITRS Roads layer to JSON...\n",
      "\n"
     ]
    }
   ],
   "source": [
    "# Export the layers to JSON\n",
    "for l in mapOhsRoads500ft.listLayers():\n",
    "    if not l.isBasemapLayer:\n",
    "        exportCim(\"layer\", l, l.name)"
   ]
  },
  {
   "cell_type": "markdown",
   "metadata": {},
   "source": [
    "<h3 style=\"font-weight:bold; color:lime; padding-left: 50px\">Save Project</h3>"
   ]
  },
  {
   "cell_type": "code",
   "execution_count": 201,
   "metadata": {},
   "outputs": [],
   "source": [
    "# Save the project\n",
    "aprx.save()"
   ]
  },
  {
   "cell_type": "markdown",
   "metadata": {},
   "source": [
    "<h2 style=\"font-weight:bold; color:dodgerblue; border-bottom: 1px solid dodgerblue; padding-left: 25px\">3.13. Major Road Crashes Map Layers</h2>"
   ]
  },
  {
   "cell_type": "markdown",
   "metadata": {},
   "source": [
    "<h3 style=\"font-weight:bold; color:lime; padding-left: 50px\">Open Map View</h3>"
   ]
  },
  {
   "cell_type": "markdown",
   "metadata": {},
   "source": [
    "Close all open maps, open the regression map and set it as the active map"
   ]
  },
  {
   "cell_type": "code",
   "execution_count": 202,
   "metadata": {},
   "outputs": [],
   "source": [
    "# Close all previous map views\n",
    "aprx.closeViews()\n",
    "\n",
    "# Open the road crashes map view\n",
    "mapRoadCrashes.openView()\n",
    "\n",
    "# set the main map as active map\n",
    "map = aprx.activeMap"
   ]
  },
  {
   "cell_type": "markdown",
   "metadata": {},
   "source": [
    "Remove all layers from the active map"
   ]
  },
  {
   "cell_type": "code",
   "execution_count": 203,
   "metadata": {},
   "outputs": [],
   "source": [
    "# Remove all the layers from the map\n",
    "for lyr in mapRoadCrashes.listLayers():\n",
    "    if not lyr.isBasemapLayer:\n",
    "        print(f\"Removing layer: {lyr.name}\")\n",
    "        mapRoadCrashes.removeLayer(lyr)"
   ]
  },
  {
   "cell_type": "markdown",
   "metadata": {},
   "source": [
    "<h3 style=\"font-weight:bold; color:lime; padding-left: 50px\">Add Layers to Map</h3>"
   ]
  },
  {
   "cell_type": "markdown",
   "metadata": {},
   "source": [
    "Add the feature classes as layers to the map (in order, as the first layer goes to the bottom of the contents)"
   ]
  },
  {
   "cell_type": "code",
   "execution_count": 204,
   "metadata": {},
   "outputs": [],
   "source": [
    "# Add the data layers to the map\n",
    "mapRoadCrashesLyrBoundaries = mapRoadCrashes.addDataFromPath(boundaries)\n",
    "mapRoadCrashesLyrCensusBlocks = mapRoadCrashes.addDataFromPath(censusBlocks)\n",
    "mapRoadCrashesLyrRoadsMajor = mapRoadCrashes.addDataFromPath(roadsMajor)\n",
    "mapRoadCrashesLyrCrashes500ftRoads = mapRoadCrashes.addDataFromPath(crashes500ftFromMajorRoads)\n",
    "\n",
    "# Set layer visibility on the map\n",
    "mapRoadCrashesLyrBoundaries.visible = False\n",
    "mapRoadCrashesLyrCensusBlocks.visible = False\n",
    "mapRoadCrashesLyrRoadsMajor.visible = False\n",
    "mapRoadCrashesLyrCrashes500ftRoads.visible = False"
   ]
  },
  {
   "cell_type": "markdown",
   "metadata": {},
   "source": [
    "<h3 style=\"font-weight:bold; color:lime; padding-left: 50px\">Layer Symbology</h3>"
   ]
  },
  {
   "cell_type": "markdown",
   "metadata": {},
   "source": [
    "Define symbology for each of the map layers. The symbology is predefined in the project's template layer folders."
   ]
  },
  {
   "cell_type": "markdown",
   "metadata": {},
   "source": [
    "- Crashes (500ft from Major Roads) layer"
   ]
  },
  {
   "cell_type": "code",
   "execution_count": 205,
   "metadata": {},
   "outputs": [
    {
     "name": "stdout",
     "output_type": "stream",
     "text": [
      "Start Time: Thursday, February 27, 2025 1:55:37 PM\n",
      "Succeeded at Thursday, February 27, 2025 1:55:38 PM (Elapsed Time: 0.08 seconds)\n"
     ]
    }
   ],
   "source": [
    "# Apply the symbology for the Crashes 500ft from Major Roads data layer\n",
    "arcpy.management.ApplySymbologyFromLayer(\n",
    "    in_layer = mapRoadCrashesLyrCrashes500ftRoads,\n",
    "    in_symbology_layer = os.path.join(layersTemplates, \"OCSWITRS Crashes.lyrx\"),\n",
    "    symbology_fields = [[\"VALUE_FIELD\", \"collSeverity\", \"collSeverity\"]],\n",
    "    update_symbology = \"MAINTAIN\"\n",
    ")\n",
    "print(arcpy.GetMessages())"
   ]
  },
  {
   "cell_type": "markdown",
   "metadata": {},
   "source": [
    "- Major Roads layer"
   ]
  },
  {
   "cell_type": "code",
   "execution_count": 206,
   "metadata": {},
   "outputs": [
    {
     "name": "stdout",
     "output_type": "stream",
     "text": [
      "Start Time: Thursday, February 27, 2025 1:55:38 PM\n",
      "Succeeded at Thursday, February 27, 2025 1:55:38 PM (Elapsed Time: 0.03 seconds)\n"
     ]
    }
   ],
   "source": [
    "# Apply the symbology for the major roads data layer\n",
    "arcpy.management.ApplySymbologyFromLayer(\n",
    "    in_layer = mapRoadCrashesLyrRoadsMajor,\n",
    "    in_symbology_layer = os.path.join(layersTemplates, \"OCSWITRS Major Roads.lyrx\"),\n",
    "    symbology_fields = [[\"VALUE_FIELD\", \"roadCat\", \"roadCat\"]],\n",
    "    update_symbology = \"MAINTAIN\"\n",
    ")\n",
    "print(arcpy.GetMessages())"
   ]
  },
  {
   "cell_type": "markdown",
   "metadata": {},
   "source": [
    "- Census Blocks layer"
   ]
  },
  {
   "cell_type": "code",
   "execution_count": 207,
   "metadata": {},
   "outputs": [
    {
     "name": "stdout",
     "output_type": "stream",
     "text": [
      "Start Time: Thursday, February 27, 2025 1:55:38 PM\n",
      "Succeeded at Thursday, February 27, 2025 1:55:38 PM (Elapsed Time: 0.13 seconds)\n"
     ]
    }
   ],
   "source": [
    "# Apply the symbology for the census blocks data layer\n",
    "arcpy.management.ApplySymbologyFromLayer(\n",
    "    in_layer = mapRoadCrashesLyrCensusBlocks,\n",
    "    in_symbology_layer = os.path.join(layersTemplates, \"OCSWITRS Census Blocks.lyrx\"),\n",
    "    symbology_fields = [[\"VALUE_FIELD\", \"populationDensity\", \"populationDensity\"]],\n",
    "    update_symbology = \"MAINTAIN\"\n",
    ")\n",
    "print(arcpy.GetMessages())"
   ]
  },
  {
   "cell_type": "markdown",
   "metadata": {},
   "source": [
    "- Boundaries layer"
   ]
  },
  {
   "cell_type": "code",
   "execution_count": 208,
   "metadata": {},
   "outputs": [
    {
     "name": "stdout",
     "output_type": "stream",
     "text": [
      "Start Time: Thursday, February 27, 2025 1:55:38 PM\n",
      "Succeeded at Thursday, February 27, 2025 1:55:38 PM (Elapsed Time: 0.05 seconds)\n"
     ]
    }
   ],
   "source": [
    "# Apply the symbology for the Boundaries data layer\n",
    "arcpy.management.ApplySymbologyFromLayer(\n",
    "    in_layer = mapRoadCrashesLyrBoundaries,\n",
    "    in_symbology_layer = os.path.join(layersTemplates, \"OCSWITRS Boundaries.lyrx\"),\n",
    "    symbology_fields = None,\n",
    "    update_symbology = \"MAINTAIN\"\n",
    ")\n",
    "print(arcpy.GetMessages())"
   ]
  },
  {
   "cell_type": "markdown",
   "metadata": {},
   "source": [
    "<h3 style=\"font-weight:bold; color:lime; padding-left: 50px\">Layer CIM Operations</h3>"
   ]
  },
  {
   "cell_type": "markdown",
   "metadata": {},
   "source": [
    "Generate CIM JSON configuration for layers"
   ]
  },
  {
   "cell_type": "code",
   "execution_count": 209,
   "metadata": {},
   "outputs": [],
   "source": [
    "# Get CIM definitions for the regression map layers\n",
    "mapRoadCrashesCimBoundaries = mapRoadCrashesLyrBoundaries.getDefinition(\"V3\")\n",
    "mapRoadCrashesCimCensusBlocks = mapRoadCrashesLyrCensusBlocks.getDefinition(\"V3\")\n",
    "mapRoadCrashesCimRoadsMajor = mapRoadCrashesLyrRoadsMajor.getDefinition(\"V3\")\n",
    "mapRoadCrashesCimCrashes500ftRoads = mapRoadCrashesLyrCrashes500ftRoads.getDefinition(\"V3\")"
   ]
  },
  {
   "cell_type": "markdown",
   "metadata": {},
   "source": [
    "Set symbology headings and update CIM definitions for layers"
   ]
  },
  {
   "cell_type": "code",
   "execution_count": 210,
   "metadata": {},
   "outputs": [],
   "source": [
    "# Set the layer headings\n",
    "mapRoadCrashesCimBoundaries.renderer.heading = \"Boundaries\"\n",
    "mapRoadCrashesCimCensusBlocks.renderer.heading = \"Population Density\"\n",
    "mapRoadCrashesCimRoadsMajor.renderer.heading = \"Major Roads\"\n",
    "mapRoadCrashesCimRoadsMajor.renderer.heading = \"Severity Level\"\n",
    "\n",
    "# Update the map layer definitions\n",
    "mapRoadCrashesLyrBoundaries.setDefinition(mapRoadCrashesCimBoundaries)\n",
    "mapRoadCrashesLyrCensusBlocks.setDefinition(mapRoadCrashesCimCensusBlocks)\n",
    "mapRoadCrashesLyrRoadsMajor.setDefinition(mapRoadCrashesCimRoadsMajor)\n",
    "mapRoadCrashesLyrCrashes500ftRoads.setDefinition(mapRoadCrashesCimCrashes500ftRoads)"
   ]
  },
  {
   "cell_type": "markdown",
   "metadata": {},
   "source": [
    "Update the CIM defintion for the regression map"
   ]
  },
  {
   "cell_type": "code",
   "execution_count": 211,
   "metadata": {},
   "outputs": [],
   "source": [
    "cimRoadCrashes = mapRoadCrashes.getDefinition(\"V3\")"
   ]
  },
  {
   "cell_type": "markdown",
   "metadata": {},
   "source": [
    "<h3 style=\"font-weight:bold; color:lime; padding-left: 50px\">Export Map and Map Layers</h3>"
   ]
  },
  {
   "cell_type": "markdown",
   "metadata": {},
   "source": [
    "Update the mapx file with the new layers"
   ]
  },
  {
   "cell_type": "code",
   "execution_count": 212,
   "metadata": {},
   "outputs": [
    {
     "name": "stdout",
     "output_type": "stream",
     "text": [
      "Exporting roadCrashes map to MAPX...\n",
      "Start Time: Thursday, February 27, 2025 1:55:38 PM\n",
      "Succeeded at Thursday, February 27, 2025 1:55:38 PM (Elapsed Time: 0.05 seconds)\n",
      "Exporting roadCrashes map to JSON...\n",
      "\n"
     ]
    }
   ],
   "source": [
    "# Update the victims map mapx file\n",
    "exportCim(\"map\", mapRoadCrashes, \"roadCrashes\")"
   ]
  },
  {
   "cell_type": "markdown",
   "metadata": {},
   "source": [
    "Export map layers as CIM JSON `.lyrx` files to the layers folder directory of the project."
   ]
  },
  {
   "cell_type": "code",
   "execution_count": 213,
   "metadata": {},
   "outputs": [
    {
     "name": "stdout",
     "output_type": "stream",
     "text": [
      "Exporting OCSWITRS Crashes 500 Feet from Major Roads layer to LYRX...\n",
      "Start Time: Thursday, February 27, 2025 1:55:39 PM\n",
      "Succeeded at Thursday, February 27, 2025 1:55:39 PM (Elapsed Time: 0.09 seconds)\n",
      "Exporting OCSWITRS Crashes 500 Feet from Major Roads layer to JSON...\n",
      "\n",
      "Exporting OCSWITRS Major Roads layer to LYRX...\n",
      "Start Time: Thursday, February 27, 2025 1:55:39 PM\n",
      "Succeeded at Thursday, February 27, 2025 1:55:39 PM (Elapsed Time: 0.06 seconds)\n",
      "Exporting OCSWITRS Major Roads layer to JSON...\n",
      "\n",
      "Exporting OCSWITRS Census Blocks layer to LYRX...\n",
      "Start Time: Thursday, February 27, 2025 1:55:39 PM\n",
      "Succeeded at Thursday, February 27, 2025 1:55:39 PM (Elapsed Time: 0.09 seconds)\n",
      "Exporting OCSWITRS Census Blocks layer to JSON...\n",
      "\n",
      "Exporting OCSWITRS Boundaries layer to LYRX...\n",
      "Start Time: Thursday, February 27, 2025 1:55:39 PM\n",
      "Succeeded at Thursday, February 27, 2025 1:55:40 PM (Elapsed Time: 0.05 seconds)\n",
      "Exporting OCSWITRS Boundaries layer to JSON...\n",
      "\n"
     ]
    }
   ],
   "source": [
    "# Export the layers to JSON\n",
    "for l in mapRoadCrashes.listLayers():\n",
    "    if not l.isBasemapLayer:\n",
    "        exportCim(\"layer\", l, l.name)"
   ]
  },
  {
   "cell_type": "markdown",
   "metadata": {},
   "source": [
    "<h3 style=\"font-weight:bold; color:lime; padding-left: 50px\">Save Project</h3>"
   ]
  },
  {
   "cell_type": "code",
   "execution_count": 214,
   "metadata": {},
   "outputs": [],
   "source": [
    "# Save the project\n",
    "aprx.save()"
   ]
  },
  {
   "cell_type": "markdown",
   "metadata": {},
   "source": [
    "<h2 style=\"font-weight:bold; color:dodgerblue; border-bottom: 1px solid dodgerblue; padding-left: 25px\">3.14. Major Road Hotspots Map Layers</h2>"
   ]
  },
  {
   "cell_type": "markdown",
   "metadata": {},
   "source": [
    "<h3 style=\"font-weight:bold; color:lime; padding-left: 50px\">Open Map View</h3>"
   ]
  },
  {
   "cell_type": "markdown",
   "metadata": {},
   "source": [
    "Close all open maps, open the road hotspots map and set it as the active map"
   ]
  },
  {
   "cell_type": "code",
   "execution_count": 215,
   "metadata": {},
   "outputs": [],
   "source": [
    "# Close all previous map views\n",
    "aprx.closeViews()\n",
    "\n",
    "# Open the road hotspots map view\n",
    "mapRoadHotspots.openView()\n",
    "\n",
    "# set the main map as active map\n",
    "map = aprx.activeMap"
   ]
  },
  {
   "cell_type": "markdown",
   "metadata": {},
   "source": [
    "Remove all layers from the active map"
   ]
  },
  {
   "cell_type": "code",
   "execution_count": 216,
   "metadata": {},
   "outputs": [],
   "source": [
    "# Remove all the layers from the map\n",
    "for lyr in mapRoadHotspots.listLayers():\n",
    "    if not lyr.isBasemapLayer:\n",
    "        print(f\"Removing layer: {lyr.name}\")\n",
    "        mapRoadHotspots.removeLayer(lyr)"
   ]
  },
  {
   "cell_type": "markdown",
   "metadata": {},
   "source": [
    "<h3 style=\"font-weight:bold; color:lime; padding-left: 50px\">Add Layers to Map</h3>"
   ]
  },
  {
   "cell_type": "markdown",
   "metadata": {},
   "source": [
    "Add the feature classes as layers to the map (in order, as the first layer goes to the bottom of the contents)"
   ]
  },
  {
   "cell_type": "code",
   "execution_count": 217,
   "metadata": {},
   "outputs": [],
   "source": [
    "# Add the data layers to the map\n",
    "mapRoadHotspotsLyrBoundaries = mapRoadHotspots.addDataFromPath(boundaries)\n",
    "mapRoadHotspotsLyrCensusBlocks = mapRoadHotspots.addDataFromPath(censusBlocks)\n",
    "mapRoadHotspotsLyrRoadsMajor = mapRoadHotspots.addDataFromPath(roadsMajor)\n",
    "mapRoadHotspotsLyrCrashesHotspots = mapRoadHotspots.addDataFromPath(crashesHotspots500ftFromMajorRoads)\n",
    "\n",
    "# Set layer visibility on the map\n",
    "mapRoadHotspotsLyrBoundaries.visible = False\n",
    "mapRoadHotspotsLyrCensusBlocks.visible = False\n",
    "mapRoadHotspotsLyrRoadsMajor.visible = False\n",
    "mapRoadHotspotsLyrCrashesHotspots.visible = False"
   ]
  },
  {
   "cell_type": "markdown",
   "metadata": {},
   "source": [
    "<h3 style=\"font-weight:bold; color:lime; padding-left: 50px\">Layer Symbology</h3>"
   ]
  },
  {
   "cell_type": "markdown",
   "metadata": {},
   "source": [
    "Define symbology for each of the map layers. The symbology is predefined in the project's template layer folders."
   ]
  },
  {
   "cell_type": "markdown",
   "metadata": {},
   "source": [
    "- Major Roads layer"
   ]
  },
  {
   "cell_type": "code",
   "execution_count": 218,
   "metadata": {},
   "outputs": [
    {
     "name": "stdout",
     "output_type": "stream",
     "text": [
      "Start Time: Thursday, February 27, 2025 1:55:41 PM\n",
      "Succeeded at Thursday, February 27, 2025 1:55:41 PM (Elapsed Time: 0.09 seconds)\n"
     ]
    }
   ],
   "source": [
    "# Apply the symbology for the major roads data layer\n",
    "arcpy.management.ApplySymbologyFromLayer(\n",
    "    in_layer = mapRoadHotspotsLyrRoadsMajor,\n",
    "    in_symbology_layer = os.path.join(layersTemplates, \"OCSWITRS Major Roads.lyrx\"),\n",
    "    symbology_fields = [[\"VALUE_FIELD\", \"roadCat\", \"roadCat\"]],\n",
    "    update_symbology = \"MAINTAIN\"\n",
    ")\n",
    "print(arcpy.GetMessages())"
   ]
  },
  {
   "cell_type": "markdown",
   "metadata": {},
   "source": [
    "- Census Blocks layer"
   ]
  },
  {
   "cell_type": "code",
   "execution_count": 219,
   "metadata": {},
   "outputs": [
    {
     "name": "stdout",
     "output_type": "stream",
     "text": [
      "Start Time: Thursday, February 27, 2025 1:55:41 PM\n",
      "Succeeded at Thursday, February 27, 2025 1:55:41 PM (Elapsed Time: 0.04 seconds)\n"
     ]
    }
   ],
   "source": [
    "# Apply the symbology for the census blocks data layer\n",
    "arcpy.management.ApplySymbologyFromLayer(\n",
    "    in_layer = mapRoadHotspotsLyrCensusBlocks,\n",
    "    in_symbology_layer = os.path.join(layersTemplates, \"OCSWITRS Census Blocks.lyrx\"),\n",
    "    symbology_fields = [[\"VALUE_FIELD\", \"populationDensity\", \"populationDensity\"]],\n",
    "    update_symbology = \"MAINTAIN\"\n",
    ")\n",
    "print(arcpy.GetMessages())"
   ]
  },
  {
   "cell_type": "markdown",
   "metadata": {},
   "source": [
    "- Boundaries layer"
   ]
  },
  {
   "cell_type": "code",
   "execution_count": 220,
   "metadata": {},
   "outputs": [
    {
     "name": "stdout",
     "output_type": "stream",
     "text": [
      "Start Time: Thursday, February 27, 2025 1:55:41 PM\n",
      "Succeeded at Thursday, February 27, 2025 1:55:41 PM (Elapsed Time: 0.04 seconds)\n"
     ]
    }
   ],
   "source": [
    "# Apply the symbology for the Boundaries data layer\n",
    "arcpy.management.ApplySymbologyFromLayer(\n",
    "    in_layer = mapRoadHotspotsLyrBoundaries,\n",
    "    in_symbology_layer = os.path.join(layersTemplates, \"OCSWITRS Boundaries.lyrx\"),\n",
    "    symbology_fields = None,\n",
    "    update_symbology = \"MAINTAIN\"\n",
    ")\n",
    "print(arcpy.GetMessages())"
   ]
  },
  {
   "cell_type": "markdown",
   "metadata": {},
   "source": [
    "<h3 style=\"font-weight:bold; color:lime; padding-left: 50px\">Layer CIM Operations</h3>"
   ]
  },
  {
   "cell_type": "markdown",
   "metadata": {},
   "source": [
    "Generate CIM JSON configuration for layers"
   ]
  },
  {
   "cell_type": "code",
   "execution_count": 221,
   "metadata": {},
   "outputs": [],
   "source": [
    "# Get CIM definitions for the regression map layers\n",
    "mapRoadHotspotsCimBoundaries = mapRoadHotspotsLyrBoundaries.getDefinition(\"V3\")\n",
    "mapRoadHotspotsCimCensusBlocks = mapRoadHotspotsLyrCensusBlocks.getDefinition(\"V3\")\n",
    "mapRoadHotspotsCimRoadsMajor = mapRoadHotspotsLyrRoadsMajor.getDefinition(\"V3\")\n",
    "mapRoadHotspotsCimCrashesHotspots = mapRoadHotspotsLyrCrashesHotspots.getDefinition(\"V3\")"
   ]
  },
  {
   "cell_type": "markdown",
   "metadata": {},
   "source": [
    "Set symbology headings and update CIM definitions for layers"
   ]
  },
  {
   "cell_type": "code",
   "execution_count": 222,
   "metadata": {},
   "outputs": [],
   "source": [
    "# Set the layer headings\n",
    "mapRoadHotspotsCimBoundaries.renderer.heading = \"Boundaries\"\n",
    "mapRoadHotspotsCimCensusBlocks.renderer.heading = \"Population Density\"\n",
    "mapRoadHotspotsCimRoadsMajor.renderer.heading = \"Major Roads\"\n",
    "mapRoadHotspotsCimCrashesHotspots.renderer.heading = \"Getis-Ord Gi*\"\n",
    "\n",
    "# Update the map layer definitions\n",
    "mapRoadHotspotsLyrBoundaries.setDefinition(mapRoadHotspotsCimBoundaries)\n",
    "mapRoadHotspotsLyrCensusBlocks.setDefinition(mapRoadHotspotsCimCensusBlocks)\n",
    "mapRoadHotspotsLyrRoadsMajor.setDefinition(mapRoadHotspotsCimRoadsMajor)\n",
    "mapRoadHotspotsLyrCrashesHotspots.setDefinition(mapRoadHotspotsCimCrashesHotspots)"
   ]
  },
  {
   "cell_type": "markdown",
   "metadata": {},
   "source": [
    "Update the CIM defintion for the regression map"
   ]
  },
  {
   "cell_type": "code",
   "execution_count": 223,
   "metadata": {},
   "outputs": [],
   "source": [
    "cimRoadHotspots = mapRoadHotspots.getDefinition(\"V3\")"
   ]
  },
  {
   "cell_type": "markdown",
   "metadata": {},
   "source": [
    "<h3 style=\"font-weight:bold; color:lime; padding-left: 50px\">Export Map and Map Layers</h3>"
   ]
  },
  {
   "cell_type": "markdown",
   "metadata": {},
   "source": [
    "Update the mapx file with the new layers"
   ]
  },
  {
   "cell_type": "code",
   "execution_count": 224,
   "metadata": {},
   "outputs": [
    {
     "name": "stdout",
     "output_type": "stream",
     "text": [
      "Exporting regression map to MAPX...\n",
      "Start Time: Thursday, February 27, 2025 1:55:41 PM\n",
      "Succeeded at Thursday, February 27, 2025 1:55:41 PM (Elapsed Time: 0.04 seconds)\n",
      "Exporting regression map to JSON...\n",
      "\n"
     ]
    }
   ],
   "source": [
    "# Update the victims map mapx file\n",
    "exportCim(\"map\", mapRoadHotspots, \"regression\")"
   ]
  },
  {
   "cell_type": "markdown",
   "metadata": {},
   "source": [
    "Export map layers as CIM JSON `.lyrx` files to the layers folder directory of the project."
   ]
  },
  {
   "cell_type": "code",
   "execution_count": 225,
   "metadata": {},
   "outputs": [
    {
     "name": "stdout",
     "output_type": "stream",
     "text": [
      "Exporting OCSWITRS Crashes Hot Spots 500 Feet from Major Roads layer to LYRX...\n",
      "Start Time: Thursday, February 27, 2025 1:55:42 PM\n",
      "Succeeded at Thursday, February 27, 2025 1:55:42 PM (Elapsed Time: 0.07 seconds)\n",
      "Exporting OCSWITRS Crashes Hot Spots 500 Feet from Major Roads layer to JSON...\n",
      "\n",
      "Exporting OCSWITRS Major Roads layer to LYRX...\n",
      "Start Time: Thursday, February 27, 2025 1:55:42 PM\n",
      "Succeeded at Thursday, February 27, 2025 1:55:42 PM (Elapsed Time: 0.05 seconds)\n",
      "Exporting OCSWITRS Major Roads layer to JSON...\n",
      "\n",
      "Exporting OCSWITRS Census Blocks layer to LYRX...\n",
      "Start Time: Thursday, February 27, 2025 1:55:42 PM\n",
      "Succeeded at Thursday, February 27, 2025 1:55:42 PM (Elapsed Time: 0.06 seconds)\n",
      "Exporting OCSWITRS Census Blocks layer to JSON...\n",
      "\n",
      "Exporting OCSWITRS Boundaries layer to LYRX...\n",
      "Start Time: Thursday, February 27, 2025 1:55:42 PM\n",
      "Succeeded at Thursday, February 27, 2025 1:55:42 PM (Elapsed Time: 0.05 seconds)\n",
      "Exporting OCSWITRS Boundaries layer to JSON...\n",
      "\n"
     ]
    }
   ],
   "source": [
    "# Export the layers to JSON\n",
    "for l in mapRoadHotspots.listLayers():\n",
    "    if not l.isBasemapLayer:\n",
    "        exportCim(\"layer\", l, l.name)"
   ]
  },
  {
   "cell_type": "markdown",
   "metadata": {},
   "source": [
    "<h3 style=\"font-weight:bold; color:lime; padding-left: 50px\">Save Project</h3>"
   ]
  },
  {
   "cell_type": "code",
   "execution_count": 226,
   "metadata": {},
   "outputs": [],
   "source": [
    "# Save the project\n",
    "aprx.save()"
   ]
  },
  {
   "cell_type": "markdown",
   "metadata": {},
   "source": [
    "<h2 style=\"font-weight:bold; color:dodgerblue; border-bottom: 1px solid dodgerblue; padding-left: 25px\">3.15. Major Road Buffers Map Layers</h2>"
   ]
  },
  {
   "cell_type": "markdown",
   "metadata": {},
   "source": [
    "<h3 style=\"font-weight:bold; color:lime; padding-left: 50px\">Open Map View</h3>"
   ]
  },
  {
   "cell_type": "markdown",
   "metadata": {},
   "source": [
    "Close all open maps, open the regression map and set it as the active map"
   ]
  },
  {
   "cell_type": "code",
   "execution_count": 227,
   "metadata": {},
   "outputs": [],
   "source": [
    "# Close all previous map views\n",
    "aprx.closeViews()\n",
    "\n",
    "# Open the regression map view\n",
    "mapRoadBuffers.openView()\n",
    "\n",
    "# set the main map as active map\n",
    "map = aprx.activeMap"
   ]
  },
  {
   "cell_type": "markdown",
   "metadata": {},
   "source": [
    "Remove all layers from the active map"
   ]
  },
  {
   "cell_type": "code",
   "execution_count": 228,
   "metadata": {},
   "outputs": [],
   "source": [
    "# Remove all the layers from the map\n",
    "for lyr in mapRoadBuffers.listLayers():\n",
    "    if not lyr.isBasemapLayer:\n",
    "        print(f\"Removing layer: {lyr.name}\")\n",
    "        mapRoadBuffers.removeLayer(lyr)"
   ]
  },
  {
   "cell_type": "markdown",
   "metadata": {},
   "source": [
    "<h3 style=\"font-weight:bold; color:lime; padding-left: 50px\">Add Layers to Map</h3>"
   ]
  },
  {
   "cell_type": "markdown",
   "metadata": {},
   "source": [
    "Add the feature classes as layers to the map (in order, as the first layer goes to the bottom of the contents)"
   ]
  },
  {
   "cell_type": "code",
   "execution_count": 229,
   "metadata": {},
   "outputs": [],
   "source": [
    "# Add the data layers to the map\n",
    "mapRoadBuffersLyrBoundaries = mapRoadBuffers.addDataFromPath(boundaries)\n",
    "mapRoadBuffersLyrCensusBlocks = mapRoadBuffers.addDataFromPath(censusBlocks)\n",
    "mapRoadBuffersLyrRoadsMajor = mapRoadBuffers.addDataFromPath(roadsMajor)\n",
    "mapRoadBuffersLyrRoadBuffers = mapRoadBuffers.addDataFromPath(roadsMajorBuffersSum)\n",
    "\n",
    "# Set layer visibility on the map\n",
    "mapRoadBuffersLyrBoundaries.visible = False\n",
    "mapRoadBuffersLyrCensusBlocks.visible = False\n",
    "mapRoadBuffersLyrRoadsMajor.visible = False\n",
    "mapRoadBuffersLyrRoadBuffers.visible = False"
   ]
  },
  {
   "cell_type": "markdown",
   "metadata": {},
   "source": [
    "<h3 style=\"font-weight:bold; color:lime; padding-left: 50px\">Layer Symbology</h3>"
   ]
  },
  {
   "cell_type": "markdown",
   "metadata": {},
   "source": [
    "Define symbology for each of the map layers. The symbology is predefined in the project's template layer folders."
   ]
  },
  {
   "cell_type": "markdown",
   "metadata": {},
   "source": [
    "- Road Buffer Fatalities layer"
   ]
  },
  {
   "cell_type": "code",
   "execution_count": 230,
   "metadata": {},
   "outputs": [
    {
     "name": "stdout",
     "output_type": "stream",
     "text": [
      "Start Time: Thursday, February 27, 2025 1:55:43 PM\n",
      "Succeeded at Thursday, February 27, 2025 1:55:44 PM (Elapsed Time: 0.05 seconds)\n"
     ]
    }
   ],
   "source": [
    "# Apply the symbology for the Roads data layer\n",
    "arcpy.management.ApplySymbologyFromLayer(\n",
    "    in_layer = mapRoadBuffersLyrRoadBuffers,\n",
    "    in_symbology_layer = os.path.join(layersTemplates, \"OCSWITRS Major Roads Buffers Summary.lyrx\"),\n",
    "    symbology_fields = [[\"VALUE_FIELD\", \"sum_numberKilled\", \"sum_numberKilled\"]],\n",
    "    update_symbology = \"MAINTAIN\"\n",
    ")\n",
    "print(arcpy.GetMessages())"
   ]
  },
  {
   "cell_type": "markdown",
   "metadata": {},
   "source": [
    "* Major Roads layer"
   ]
  },
  {
   "cell_type": "code",
   "execution_count": 231,
   "metadata": {},
   "outputs": [
    {
     "data": {
      "text/html": [
       "<div class='gpresult'><h2 class='msg-title'>Messages</h2><div id='messages'>Start Time: Thursday, February 27, 2025 1:55:44 PM<br>Succeeded at Thursday, February 27, 2025 1:55:44 PM (Elapsed Time: 0.04 seconds)<br></div><div id = 'default' /></div></div>"
      ],
      "text/plain": [
       "<Result 'GPLYR_{DF189352-0B21-4346-BA37-2E908C209CAC}'>"
      ]
     },
     "execution_count": 231,
     "metadata": {},
     "output_type": "execute_result"
    }
   ],
   "source": [
    "# Apply the symbology for the major roads data layer\n",
    "arcpy.management.ApplySymbologyFromLayer(\n",
    "    in_layer = mapRoadBuffersLyrRoadsMajor,\n",
    "    in_symbology_layer = os.path.join(layersTemplates, \"OCSWITRS Major Roads.lyrx\"),\n",
    "    symbology_fields = [[\"VALUE_FIELD\", \"roadCat\", \"roadCat\"]],\n",
    "    update_symbology = \"MAINTAIN\"\n",
    ")"
   ]
  },
  {
   "cell_type": "markdown",
   "metadata": {},
   "source": [
    "- Census Blocks layer"
   ]
  },
  {
   "cell_type": "code",
   "execution_count": 232,
   "metadata": {},
   "outputs": [
    {
     "name": "stdout",
     "output_type": "stream",
     "text": [
      "Start Time: Thursday, February 27, 2025 1:55:44 PM\n",
      "Succeeded at Thursday, February 27, 2025 1:55:44 PM (Elapsed Time: 0.07 seconds)\n"
     ]
    }
   ],
   "source": [
    "# Apply the symbology for the US Census 2020 Blocks data layer\n",
    "arcpy.management.ApplySymbologyFromLayer(\n",
    "    in_layer = mapRoadBuffersLyrCensusBlocks,\n",
    "    in_symbology_layer = os.path.join(layersTemplates, \"OCSWITRS Census Blocks.lyrx\"),\n",
    "    symbology_fields = [[\"VALUE_FIELD\", \"populationDensity\", \"populationDensity\"]],\n",
    "    update_symbology = \"MAINTAIN\"\n",
    ")\n",
    "print(arcpy.GetMessages())"
   ]
  },
  {
   "cell_type": "markdown",
   "metadata": {},
   "source": [
    "- Boundaries layer"
   ]
  },
  {
   "cell_type": "code",
   "execution_count": 233,
   "metadata": {},
   "outputs": [
    {
     "name": "stdout",
     "output_type": "stream",
     "text": [
      "Start Time: Thursday, February 27, 2025 1:55:45 PM\n",
      "Succeeded at Thursday, February 27, 2025 1:55:45 PM (Elapsed Time: 0.04 seconds)\n"
     ]
    }
   ],
   "source": [
    "# Apply the symbology for the Boundaries data layer\n",
    "arcpy.management.ApplySymbologyFromLayer(\n",
    "    in_layer = mapRoadBuffersLyrBoundaries,\n",
    "    in_symbology_layer = os.path.join(layersTemplates, \"OCSWITRS Boundaries.lyrx\"),\n",
    "    symbology_fields = None,\n",
    "    update_symbology = \"MAINTAIN\"\n",
    ")\n",
    "print(arcpy.GetMessages())"
   ]
  },
  {
   "cell_type": "markdown",
   "metadata": {},
   "source": [
    "<h3 style=\"font-weight:bold; color:lime; padding-left: 50px\">Layer CIM Operations</h3>"
   ]
  },
  {
   "cell_type": "markdown",
   "metadata": {},
   "source": [
    "Generate CIM JSON configuration for layers"
   ]
  },
  {
   "cell_type": "code",
   "execution_count": 234,
   "metadata": {},
   "outputs": [],
   "source": [
    "# Get CIM definitions for the regression map layers\n",
    "mapRoadBuffersCimBoundaries = mapRoadBuffersLyrBoundaries.getDefinition(\"V3\")\n",
    "mapRoadBuffersCimCensusBlocks = mapRoadBuffersLyrCensusBlocks.getDefinition(\"V3\")\n",
    "mapRoadBuffersCimRoadsMajor = mapRoadBuffersLyrRoadsMajor.getDefinition(\"V3\")\n",
    "mapRoadBuffersCimRoadBuffers = mapRoadBuffersLyrRoadBuffers.getDefinition(\"V3\")"
   ]
  },
  {
   "cell_type": "markdown",
   "metadata": {},
   "source": [
    "Set symbology headings and update CIM definitions for layers"
   ]
  },
  {
   "cell_type": "code",
   "execution_count": 235,
   "metadata": {},
   "outputs": [],
   "source": [
    "# Set the layer headings\n",
    "mapRoadBuffersCimBoundaries.renderer.heading = \"Boundaries\"\n",
    "mapRoadBuffersCimCensusBlocks.renderer.heading = \"Population Density\"\n",
    "mapRoadBuffersCimRoadsMajor.renderer.heading = \"Major Roads\"\n",
    "mapRoadBuffersCimRoadBuffers.renderer.heading = \"Fatalities (entire segment)\"\n",
    "\n",
    "# Update the map layer definitions\n",
    "mapRoadBuffersLyrBoundaries.setDefinition(mapRoadBuffersCimBoundaries)\n",
    "mapRoadBuffersLyrCensusBlocks.setDefinition(mapRoadBuffersCimCensusBlocks)\n",
    "mapRoadBuffersLyrRoadsMajor.setDefinition(mapRoadBuffersCimRoadsMajor)\n",
    "mapRoadBuffersLyrRoadBuffers.setDefinition(mapRoadBuffersCimRoadBuffers)"
   ]
  },
  {
   "cell_type": "markdown",
   "metadata": {},
   "source": [
    "Update the CIM defintion for the regression map"
   ]
  },
  {
   "cell_type": "code",
   "execution_count": 236,
   "metadata": {},
   "outputs": [],
   "source": [
    "cimRoadBuffers = mapRoadBuffers.getDefinition(\"V3\")"
   ]
  },
  {
   "cell_type": "markdown",
   "metadata": {},
   "source": [
    "<h3 style=\"font-weight:bold; color:lime; padding-left: 50px\">Export Map and Map Layers</h3>"
   ]
  },
  {
   "cell_type": "markdown",
   "metadata": {},
   "source": [
    "Update the mapx file with the new layers"
   ]
  },
  {
   "cell_type": "code",
   "execution_count": 237,
   "metadata": {},
   "outputs": [
    {
     "name": "stdout",
     "output_type": "stream",
     "text": [
      "Exporting roadBuffers map to MAPX...\n",
      "Start Time: Thursday, February 27, 2025 1:55:45 PM\n",
      "Succeeded at Thursday, February 27, 2025 1:55:45 PM (Elapsed Time: 0.04 seconds)\n",
      "Exporting roadBuffers map to JSON...\n",
      "\n"
     ]
    }
   ],
   "source": [
    "# Update the victims map mapx file\n",
    "exportCim(\"map\", mapRoadBuffers, \"roadBuffers\")"
   ]
  },
  {
   "cell_type": "markdown",
   "metadata": {},
   "source": [
    "Export map layers as CIM JSON `.lyrx` files to the layers folder directory of the project."
   ]
  },
  {
   "cell_type": "code",
   "execution_count": 238,
   "metadata": {},
   "outputs": [
    {
     "name": "stdout",
     "output_type": "stream",
     "text": [
      "Exporting OCSWITRS Major Roads layer to LYRX...\n",
      "Start Time: Thursday, February 27, 2025 1:55:45 PM\n",
      "Succeeded at Thursday, February 27, 2025 1:55:45 PM (Elapsed Time: 0.05 seconds)\n",
      "Exporting OCSWITRS Major Roads layer to JSON...\n",
      "\n",
      "Exporting OCSWITRS Major Roads Buffers Summary layer to LYRX...\n",
      "Start Time: Thursday, February 27, 2025 1:55:45 PM\n",
      "Succeeded at Thursday, February 27, 2025 1:55:45 PM (Elapsed Time: 0.06 seconds)\n",
      "Exporting OCSWITRS Major Roads Buffers Summary layer to JSON...\n",
      "\n",
      "Exporting OCSWITRS Census Blocks layer to LYRX...\n",
      "Start Time: Thursday, February 27, 2025 1:55:46 PM\n",
      "Succeeded at Thursday, February 27, 2025 1:55:46 PM (Elapsed Time: 0.06 seconds)\n",
      "Exporting OCSWITRS Census Blocks layer to JSON...\n",
      "\n",
      "Exporting OCSWITRS Boundaries layer to LYRX...\n",
      "Start Time: Thursday, February 27, 2025 1:55:46 PM\n",
      "Succeeded at Thursday, February 27, 2025 1:55:46 PM (Elapsed Time: 0.04 seconds)\n",
      "Exporting OCSWITRS Boundaries layer to JSON...\n",
      "\n"
     ]
    }
   ],
   "source": [
    "# Export the layers to JSON\n",
    "for l in mapRoadBuffers.listLayers():\n",
    "    if not l.isBasemapLayer:\n",
    "        exportCim(\"layer\", l, l.name)"
   ]
  },
  {
   "cell_type": "markdown",
   "metadata": {},
   "source": [
    "<h3 style=\"font-weight:bold; color:lime; padding-left: 50px\">Save Project</h3>"
   ]
  },
  {
   "cell_type": "code",
   "execution_count": 239,
   "metadata": {},
   "outputs": [],
   "source": [
    "# Save the project\n",
    "aprx.save()"
   ]
  },
  {
   "cell_type": "markdown",
   "metadata": {},
   "source": [
    "<h2 style=\"font-weight:bold; color:dodgerblue; border-bottom: 1px solid dodgerblue; padding-left: 25px\">3.16. Major Road Segments Map Layers</h2>"
   ]
  },
  {
   "cell_type": "markdown",
   "metadata": {},
   "source": [
    "<h3 style=\"font-weight:bold; color:lime; padding-left: 50px\">Open Map View</h3>"
   ]
  },
  {
   "cell_type": "markdown",
   "metadata": {},
   "source": [
    "Close all open maps, open the major road segments map and set it as the active map"
   ]
  },
  {
   "cell_type": "code",
   "execution_count": 240,
   "metadata": {},
   "outputs": [],
   "source": [
    "# Close all previous map views\n",
    "aprx.closeViews()\n",
    "\n",
    "# Open the major road segments map view\n",
    "mapRoadSegments.openView()\n",
    "\n",
    "# set the main map as active map\n",
    "map = aprx.activeMap"
   ]
  },
  {
   "cell_type": "markdown",
   "metadata": {},
   "source": [
    "Remove all layers from the active map"
   ]
  },
  {
   "cell_type": "code",
   "execution_count": 241,
   "metadata": {},
   "outputs": [],
   "source": [
    "# Remove all the layers from the map\n",
    "for lyr in mapRoadSegments.listLayers():\n",
    "    if not lyr.isBasemapLayer:\n",
    "        print(f\"Removing layer: {lyr.name}\")\n",
    "mapRoadSegments.removeLayer(lyr)"
   ]
  },
  {
   "cell_type": "markdown",
   "metadata": {},
   "source": [
    "<h3 style=\"font-weight:bold; color:lime; padding-left: 50px\">Add Layers to Map</h3>"
   ]
  },
  {
   "cell_type": "markdown",
   "metadata": {},
   "source": [
    "Add the feature classes as layers to the map (in order, as the first layer goes to the bottom of the contents)"
   ]
  },
  {
   "cell_type": "code",
   "execution_count": 242,
   "metadata": {},
   "outputs": [],
   "source": [
    "# Add the data layers to the map\n",
    "mapRoadSegmentsLyrBoundaries = mapRoadSegments.addDataFromPath(boundaries)\n",
    "mapRoadSegmentsLyrCensusBlocks = mapRoadSegments.addDataFromPath(censusBlocks)\n",
    "mapRoadSegmentsLyrRoadsMajor = mapRoadSegments.addDataFromPath(roadsMajor)\n",
    "mapRoadSegmentsLyrRoadsMajorSplit = mapRoadSegments.addDataFromPath(roadsMajorSplitBufferSum)\n",
    "\n",
    "# Set layer visibility on the map\n",
    "mapRoadSegmentsLyrBoundaries.visible = False\n",
    "mapRoadSegmentsLyrCensusBlocks.visible = False\n",
    "mapRoadSegmentsLyrRoadsMajor.visible = False\n",
    "mapRoadSegmentsLyrRoadsMajorSplit.visible = False"
   ]
  },
  {
   "cell_type": "markdown",
   "metadata": {},
   "source": [
    "<h3 style=\"font-weight:bold; color:lime; padding-left: 50px\">Layer Symbology</h3>"
   ]
  },
  {
   "cell_type": "markdown",
   "metadata": {},
   "source": [
    "Define symbology for each of the map layers. The symbology is predefined in the project's template layer folders."
   ]
  },
  {
   "cell_type": "markdown",
   "metadata": {},
   "source": [
    "- Major Roads Split Buffer Summary layer"
   ]
  },
  {
   "cell_type": "code",
   "execution_count": 243,
   "metadata": {},
   "outputs": [
    {
     "name": "stdout",
     "output_type": "stream",
     "text": [
      "Start Time: Thursday, February 27, 2025 1:55:47 PM\n",
      "Succeeded at Thursday, February 27, 2025 1:55:47 PM (Elapsed Time: 0.06 seconds)\n"
     ]
    }
   ],
   "source": [
    "# Apply the symbology for the Roads data layer\n",
    "arcpy.management.ApplySymbologyFromLayer(\n",
    "    in_layer = mapRoadSegmentsLyrRoadsMajorSplit,\n",
    "    in_symbology_layer = os.path.join(layersTemplates, \"OCSWITRS Major Roads Split Buffer Summary.lyrx\"),\n",
    "    symbology_fields=[[\"VALUE_FIELD\", \"sum_victimCount\", \"sum_victimCount\"]],\n",
    "    update_symbology = \"MAINTAIN\"\n",
    ")\n",
    "print(arcpy.GetMessages())"
   ]
  },
  {
   "cell_type": "markdown",
   "metadata": {},
   "source": [
    "- Major Roads layer"
   ]
  },
  {
   "cell_type": "code",
   "execution_count": 244,
   "metadata": {},
   "outputs": [
    {
     "data": {
      "text/html": [
       "<div class='gpresult'><h2 class='msg-title'>Messages</h2><div id='messages'>Start Time: Thursday, February 27, 2025 1:55:47 PM<br>Succeeded at Thursday, February 27, 2025 1:55:47 PM (Elapsed Time: 0.05 seconds)<br></div><div id = 'default' /></div></div>"
      ],
      "text/plain": [
       "<Result 'GPLYR_{26989FAB-1C34-45D4-8940-CC37844D883E}'>"
      ]
     },
     "execution_count": 244,
     "metadata": {},
     "output_type": "execute_result"
    }
   ],
   "source": [
    "# Apply the symbology for the major roads data layer\n",
    "arcpy.management.ApplySymbologyFromLayer(\n",
    "    in_layer = mapRoadSegmentsLyrRoadsMajor,\n",
    "    in_symbology_layer = os.path.join(layersTemplates, \"OCSWITRS Major Roads.lyrx\"),\n",
    "    symbology_fields = [[\"VALUE_FIELD\", \"roadCat\", \"roadCat\"]],\n",
    "    update_symbology = \"MAINTAIN\"\n",
    ")"
   ]
  },
  {
   "cell_type": "markdown",
   "metadata": {},
   "source": [
    "- Census Blocks layer"
   ]
  },
  {
   "cell_type": "code",
   "execution_count": 245,
   "metadata": {},
   "outputs": [
    {
     "data": {
      "text/html": [
       "<div class='gpresult'><h2 class='msg-title'>Messages</h2><div id='messages'>Start Time: Thursday, February 27, 2025 1:55:47 PM<br>Succeeded at Thursday, February 27, 2025 1:55:48 PM (Elapsed Time: 0.04 seconds)<br></div><div id = 'default' /></div></div>"
      ],
      "text/plain": [
       "<Result 'GPLYR_{5BB4C0C8-3C53-4762-BF63-50B1009A2037}'>"
      ]
     },
     "execution_count": 245,
     "metadata": {},
     "output_type": "execute_result"
    }
   ],
   "source": [
    "# Apply the symbology for the US Census 2020 Blocks data layer\n",
    "arcpy.management.ApplySymbologyFromLayer(\n",
    "    in_layer = mapRoadSegmentsLyrCensusBlocks,\n",
    "    in_symbology_layer = os.path.join(layersTemplates, \"OCSWITRS Census Blocks.lyrx\"),\n",
    "    symbology_fields = [[\"VALUE_FIELD\", \"populationDensity\", \"populationDensity\"]],\n",
    "    update_symbology = \"MAINTAIN\"\n",
    ")"
   ]
  },
  {
   "cell_type": "markdown",
   "metadata": {},
   "source": [
    "- Boundaries layer"
   ]
  },
  {
   "cell_type": "code",
   "execution_count": 246,
   "metadata": {},
   "outputs": [
    {
     "data": {
      "text/html": [
       "<div class='gpresult'><h2 class='msg-title'>Messages</h2><div id='messages'>Start Time: Thursday, February 27, 2025 1:55:48 PM<br>Succeeded at Thursday, February 27, 2025 1:55:48 PM (Elapsed Time: 0.10 seconds)<br></div><div id = 'default' /></div></div>"
      ],
      "text/plain": [
       "<Result 'GPLYR_{0196DE0E-8D94-49A4-9713-028BE635901D}'>"
      ]
     },
     "execution_count": 246,
     "metadata": {},
     "output_type": "execute_result"
    }
   ],
   "source": [
    "# Apply the symbology for the Boundaries data layer\n",
    "arcpy.management.ApplySymbologyFromLayer(\n",
    "    in_layer = mapRoadSegmentsLyrBoundaries,\n",
    "    in_symbology_layer = os.path.join(layersTemplates, \"OCSWITRS Boundaries.lyrx\"),\n",
    "    symbology_fields = None,\n",
    "    update_symbology = \"MAINTAIN\"\n",
    ")"
   ]
  },
  {
   "cell_type": "markdown",
   "metadata": {},
   "source": [
    "<h3 style=\"font-weight:bold; color:lime; padding-left: 50px\">Layer CIM Operations</h3>"
   ]
  },
  {
   "cell_type": "markdown",
   "metadata": {},
   "source": [
    "Generate CIM JSON configuration for layers"
   ]
  },
  {
   "cell_type": "code",
   "execution_count": 247,
   "metadata": {},
   "outputs": [],
   "source": [
    "# Get CIM definitions for the regression map layers\n",
    "mapRoadSegmentsCimBoundaries = mapRoadSegmentsLyrBoundaries.getDefinition(\"V3\")\n",
    "mapRoadSegmentsCimCensusBlocks = mapRoadSegmentsLyrCensusBlocks.getDefinition(\"V3\")\n",
    "mapRoadSegmentsCimRoadsMajor = mapRoadSegmentsLyrRoadsMajor.getDefinition(\"V3\")\n",
    "mapRoadSegmentsCimRoadsMajorSplit = mapRoadSegmentsLyrRoadsMajorSplit.getDefinition(\"V3\")"
   ]
  },
  {
   "cell_type": "markdown",
   "metadata": {},
   "source": [
    "Set symbology headings and update CIM definitions for layers"
   ]
  },
  {
   "cell_type": "code",
   "execution_count": 248,
   "metadata": {},
   "outputs": [],
   "source": [
    "# Set the layer headings\n",
    "mapRoadSegmentsCimBoundaries.renderer.heading = \"Boundaries\"\n",
    "mapRoadSegmentsCimCensusBlocks.renderer.heading = \"Population Density\"\n",
    "mapRoadSegmentsCimRoadsMajor.renderer.heading = \"Major Roads\"\n",
    "mapRoadSegmentsCimRoadsMajorSplit.renderer.heading = \"Victim Count per 1,000ft segment\"\n",
    "\n",
    "# Update the map layer definitions\n",
    "mapRoadSegmentsLyrBoundaries.setDefinition(mapRoadSegmentsCimBoundaries)\n",
    "mapRoadSegmentsLyrCensusBlocks.setDefinition(mapRoadSegmentsCimCensusBlocks)\n",
    "mapRoadSegmentsLyrRoadsMajor.setDefinition(mapRoadSegmentsCimRoadsMajor)\n",
    "mapRoadSegmentsLyrRoadsMajorSplit.setDefinition(mapRoadSegmentsCimRoadsMajorSplit)"
   ]
  },
  {
   "cell_type": "markdown",
   "metadata": {},
   "source": [
    "Update the CIM defintion for the regression map"
   ]
  },
  {
   "cell_type": "code",
   "execution_count": 249,
   "metadata": {},
   "outputs": [],
   "source": [
    "cimRoadSegments = mapRoadSegments.getDefinition(\"V3\")"
   ]
  },
  {
   "cell_type": "markdown",
   "metadata": {},
   "source": [
    "<h3 style=\"font-weight:bold; color:lime; padding-left: 50px\">Export Map and Map Layers</h3>"
   ]
  },
  {
   "cell_type": "markdown",
   "metadata": {},
   "source": [
    "Update the mapx file with the new layers"
   ]
  },
  {
   "cell_type": "code",
   "execution_count": 250,
   "metadata": {},
   "outputs": [
    {
     "name": "stdout",
     "output_type": "stream",
     "text": [
      "Exporting roadSegments map to MAPX...\n",
      "Start Time: Thursday, February 27, 2025 1:55:48 PM\n",
      "Succeeded at Thursday, February 27, 2025 1:55:48 PM (Elapsed Time: 0.10 seconds)\n",
      "Exporting roadSegments map to JSON...\n",
      "\n"
     ]
    }
   ],
   "source": [
    "# Update the victims map mapx file\n",
    "exportCim(\"map\", mapRoadSegments, \"roadSegments\")"
   ]
  },
  {
   "cell_type": "markdown",
   "metadata": {},
   "source": [
    "Export map layers as CIM JSON `.lyrx` files to the layers folder directory of the project."
   ]
  },
  {
   "cell_type": "code",
   "execution_count": 251,
   "metadata": {},
   "outputs": [
    {
     "name": "stdout",
     "output_type": "stream",
     "text": [
      "Exporting OCSWITRS Major Roads layer to LYRX...\n",
      "Start Time: Thursday, February 27, 2025 1:55:49 PM\n",
      "Succeeded at Thursday, February 27, 2025 1:55:49 PM (Elapsed Time: 0.08 seconds)\n",
      "Exporting OCSWITRS Major Roads layer to JSON...\n",
      "\n",
      "Exporting OCSWITRS Major Roads Split Buffer Summary layer to LYRX...\n",
      "Start Time: Thursday, February 27, 2025 1:55:49 PM\n",
      "Succeeded at Thursday, February 27, 2025 1:55:49 PM (Elapsed Time: 0.06 seconds)\n",
      "Exporting OCSWITRS Major Roads Split Buffer Summary layer to JSON...\n",
      "\n",
      "Exporting OCSWITRS Census Blocks layer to LYRX...\n",
      "Start Time: Thursday, February 27, 2025 1:55:49 PM\n",
      "Succeeded at Thursday, February 27, 2025 1:55:49 PM (Elapsed Time: 0.07 seconds)\n",
      "Exporting OCSWITRS Census Blocks layer to JSON...\n",
      "\n",
      "Exporting OCSWITRS Boundaries layer to LYRX...\n",
      "Start Time: Thursday, February 27, 2025 1:55:49 PM\n",
      "Succeeded at Thursday, February 27, 2025 1:55:49 PM (Elapsed Time: 0.05 seconds)\n",
      "Exporting OCSWITRS Boundaries layer to JSON...\n",
      "\n"
     ]
    }
   ],
   "source": [
    "# Export the layers to JSON\n",
    "for l in mapRoadSegments.listLayers():\n",
    "    if not l.isBasemapLayer:\n",
    "        exportCim(\"layer\", l, l.name)"
   ]
  },
  {
   "cell_type": "markdown",
   "metadata": {},
   "source": [
    "<h3 style=\"font-weight:bold; color:lime; padding-left: 50px\">Save Project</h3>"
   ]
  },
  {
   "cell_type": "code",
   "execution_count": 252,
   "metadata": {},
   "outputs": [],
   "source": [
    "# Save the project\n",
    "aprx.save()"
   ]
  },
  {
   "cell_type": "markdown",
   "metadata": {},
   "source": [
    "<h2 style=\"font-weight:bold; color:dodgerblue; border-bottom: 1px solid dodgerblue; padding-left: 25px\">3.17. Roads Map Layers</h2>"
   ]
  },
  {
   "cell_type": "markdown",
   "metadata": {},
   "source": [
    "<h3 style=\"font-weight:bold; color:lime; padding-left: 50px\">Open Map View</h3>"
   ]
  },
  {
   "cell_type": "markdown",
   "metadata": {},
   "source": [
    "Close all open maps, open the roads map and set it as the active map"
   ]
  },
  {
   "cell_type": "code",
   "execution_count": 253,
   "metadata": {},
   "outputs": [],
   "source": [
    "# Close all previous map views\n",
    "aprx.closeViews()\n",
    "\n",
    "# Open the roads map view\n",
    "mapRoads.openView()\n",
    "\n",
    "# set the main map as active map\n",
    "map = aprx.activeMap"
   ]
  },
  {
   "cell_type": "markdown",
   "metadata": {},
   "source": [
    "Remove all layers from the active map"
   ]
  },
  {
   "cell_type": "code",
   "execution_count": 254,
   "metadata": {},
   "outputs": [],
   "source": [
    "# Remove all the layers from the map\n",
    "for lyr in mapRoads.listLayers():\n",
    "    if not lyr.isBasemapLayer:\n",
    "        print(f\"Removing layer: {lyr.name}\")\n",
    "        mapRoads.removeLayer(lyr)"
   ]
  },
  {
   "cell_type": "markdown",
   "metadata": {},
   "source": [
    "<h3 style=\"font-weight:bold; color:lime; padding-left: 50px\">Add Layers to Map</h3>"
   ]
  },
  {
   "cell_type": "markdown",
   "metadata": {},
   "source": [
    "Add the feature classes as layers to the map (in order, as the first layer goes to the bottom of the contents)"
   ]
  },
  {
   "cell_type": "code",
   "execution_count": 255,
   "metadata": {},
   "outputs": [
    {
     "data": {
      "text/plain": [
       "True"
      ]
     },
     "execution_count": 255,
     "metadata": {},
     "output_type": "execute_result"
    }
   ],
   "source": [
    "# Add the data layers to the map\n",
    "mapRoadsLyrRoadsMajor = mapRoads.addDataFromPath(roadsMajor)\n",
    "mapRoadsLyrRoadsMajorBuffers = mapRoads.addDataFromPath(roadsMajorBuffers)\n",
    "mapRoadsLyrRoadsMajorBuffersSum = mapRoads.addDataFromPath(roadsMajorBuffersSum)\n",
    "mapRoadsLyrRoadsMajorPointsAlongLines = mapRoads.addDataFromPath(roadsMajorPointsAlongLines)\n",
    "mapRoadsLyrRoadsMajorSplit = mapRoads.addDataFromPath(roadsMajorSplit)\n",
    "mapRoadsLyrRoadsMajorSplitBuffer = mapRoads.addDataFromPath(roadsMajorSplitBuffer)\n",
    "mapRoadsLyrRoadsMajorSplitBufferSum = mapRoads.addDataFromPath(roadsMajorSplitBufferSum)\n",
    "\n",
    "# Set layer visibility on the map\n",
    "mapRoadsLyrRoadsMajor.visible = False\n",
    "mapRoadsLyrRoadsMajorBuffers.visible = False\n",
    "mapRoadsLyrRoadsMajorBuffersSum.visible = False\n",
    "mapRoadsLyrRoadsMajorPointsAlongLines.visible = False\n",
    "mapRoadsLyrRoadsMajorSplit.visible = False\n",
    "mapRoadsLyrRoadsMajorSplitBuffer.visible = False\n",
    "mapRoadsLyrRoadsMajorSplitBufferSum.visible = False\n",
    "\n",
    "# move the layers\n",
    "mapRoads.moveLayer(\n",
    "    reference_layer = mapRoadsLyrRoadsMajorBuffers, \n",
    "    move_layer = mapRoadsLyrRoadsMajorBuffersSum, \n",
    "    insert_position=\"BEFORE\"\n",
    ")\n",
    "mapRoads.moveLayer(\n",
    "    reference_layer = mapRoadsLyrRoadsMajorBuffersSum,\n",
    "    move_layer = mapRoadsLyrRoadsMajorPointsAlongLines, \n",
    "    insert_position=\"BEFORE\"\n",
    ")\n",
    "mapRoads.moveLayer(\n",
    "    reference_layer = mapRoadsLyrRoadsMajorBuffersSum, \n",
    "    move_layer = mapRoadsLyrRoadsMajorSplitBuffer, \n",
    "    insert_position=\"BEFORE\"\n",
    ")\n",
    "mapRoads.moveLayer(\n",
    "    reference_layer = mapRoadsLyrRoadsMajorSplitBuffer,\n",
    "    move_layer = mapRoadsLyrRoadsMajorSplitBufferSum, \n",
    "    insert_position=\"BEFORE\"\n",
    ")"
   ]
  },
  {
   "cell_type": "markdown",
   "metadata": {},
   "source": [
    "<h3 style=\"font-weight:bold; color:lime; padding-left: 50px\">Layer Symbology</h3>"
   ]
  },
  {
   "cell_type": "markdown",
   "metadata": {},
   "source": [
    "Define symbology for each of the map layers. The symbology is predefined in the project's template layer folders."
   ]
  },
  {
   "cell_type": "markdown",
   "metadata": {},
   "source": [
    "- Major Roads layer"
   ]
  },
  {
   "cell_type": "code",
   "execution_count": 256,
   "metadata": {},
   "outputs": [
    {
     "name": "stdout",
     "output_type": "stream",
     "text": [
      "Start Time: Thursday, February 27, 2025 1:55:51 PM\n",
      "Succeeded at Thursday, February 27, 2025 1:55:51 PM (Elapsed Time: 0.08 seconds)\n"
     ]
    }
   ],
   "source": [
    "# Apply the symbology for the Major Roads data layer\n",
    "arcpy.management.ApplySymbologyFromLayer(\n",
    "    in_layer = mapRoadsLyrRoadsMajor,\n",
    "    in_symbology_layer = os.path.join(layersTemplates, \"OCSWITRS Major Roads.lyrx\"),\n",
    "    symbology_fields = [[\"VALUE_FIELD\", \"roadCat\", \"roadCat\"]],\n",
    "    update_symbology = \"MAINTAIN\"\n",
    ")\n",
    "print(arcpy.GetMessages())"
   ]
  },
  {
   "cell_type": "markdown",
   "metadata": {},
   "source": [
    "- Major Road Split layer"
   ]
  },
  {
   "cell_type": "code",
   "execution_count": 257,
   "metadata": {},
   "outputs": [
    {
     "name": "stdout",
     "output_type": "stream",
     "text": [
      "Start Time: Thursday, February 27, 2025 1:55:51 PM\n",
      "Succeeded at Thursday, February 27, 2025 1:55:51 PM (Elapsed Time: 0.04 seconds)\n"
     ]
    }
   ],
   "source": [
    "# Apply the symbology for the major roads layer\n",
    "arcpy.management.ApplySymbologyFromLayer(\n",
    "    in_layer = mapRoadsLyrRoadsMajorSplit,\n",
    "    in_symbology_layer = os.path.join(layersTemplates, \"OCSWITRS Major Roads.lyrx\"),\n",
    "    symbology_fields = [[\"VALUE_FIELD\", \"roadCat\", \"roadCat\"]],\n",
    "    update_symbology = \"MAINTAIN\"\n",
    ")\n",
    "print(arcpy.GetMessages())"
   ]
  },
  {
   "cell_type": "markdown",
   "metadata": {},
   "source": [
    "<h3 style=\"font-weight:bold; color:lime; padding-left: 50px\">Layer CIM Operations</h3>"
   ]
  },
  {
   "cell_type": "markdown",
   "metadata": {},
   "source": [
    "Generate CIM JSON configuration for layers"
   ]
  },
  {
   "cell_type": "code",
   "execution_count": 258,
   "metadata": {},
   "outputs": [],
   "source": [
    "# Get CIM definitions for the roads map layers\n",
    "mapRoadsCimRoadsMajor = mapRoadsLyrRoadsMajor.getDefinition(\"V3\")\n",
    "mapRoadsCimRoadsMajorBuffers = mapRoadsLyrRoadsMajorBuffers.getDefinition(\"V3\")\n",
    "mapRoadsCimRoadsMajorBuffersSum = mapRoadsLyrRoadsMajorBuffersSum.getDefinition(\"V3\")\n",
    "mapRoadsCimRoadsMajorPointsAlongLines = mapRoadsLyrRoadsMajorPointsAlongLines.getDefinition(\"V3\")\n",
    "mapRoadsCimRoadsMajorSplit = mapRoadsLyrRoadsMajorSplit.getDefinition(\"V3\")\n",
    "mapRoadsCimRoadsMajorSplitBuffer = mapRoadsLyrRoadsMajorSplitBuffer.getDefinition(\"V3\")\n",
    "mapRoadsCimRoadsMajorSplitBufferSum = mapRoadsLyrRoadsMajorSplitBufferSum.getDefinition(\"V3\")"
   ]
  },
  {
   "cell_type": "markdown",
   "metadata": {},
   "source": [
    "Set symbology headings and update CIM definitions for layers"
   ]
  },
  {
   "cell_type": "code",
   "execution_count": 259,
   "metadata": {},
   "outputs": [],
   "source": [
    "# Set the layer headings\n",
    "mapRoadsCimRoadsMajor.renderer.heading = \"Road Category\"\n",
    "mapRoadsCimRoadsMajorBuffers.renderer.heading = \"Major Road Buffers\"\n",
    "mapRoadsCimRoadsMajorBuffersSum.renderer.heading = \"Major Road Buffers\"\n",
    "mapRoadsCimRoadsMajorPointsAlongLines.renderer.heading = \"Major Road Points Along Lines\"\n",
    "mapRoadsCimRoadsMajorSplit.renderer.heading = \"Road Category\"\n",
    "mapRoadsCimRoadsMajorSplitBuffer.renderer.heading = \"Major Road Buffers\"\n",
    "\n",
    "# Update the map layer definitions\n",
    "mapRoadsLyrRoadsMajor.setDefinition(mapRoadsCimRoadsMajor)\n",
    "mapRoadsLyrRoadsMajorBuffers.setDefinition(mapRoadsCimRoadsMajorBuffers)\n",
    "mapRoadsLyrRoadsMajorBuffersSum.setDefinition(mapRoadsCimRoadsMajorBuffersSum)\n",
    "mapRoadsLyrRoadsMajorPointsAlongLines.setDefinition(mapRoadsCimRoadsMajorPointsAlongLines)\n",
    "mapRoadsLyrRoadsMajorSplit.setDefinition(mapRoadsCimRoadsMajorSplit)\n",
    "mapRoadsLyrRoadsMajorSplitBuffer.setDefinition(mapRoadsCimRoadsMajorSplitBuffer)\n",
    "mapRoadsLyrRoadsMajorSplitBufferSum.setDefinition(mapRoadsCimRoadsMajorSplitBufferSum)"
   ]
  },
  {
   "cell_type": "markdown",
   "metadata": {},
   "source": [
    "Update the CIM defintion for the roads map"
   ]
  },
  {
   "cell_type": "code",
   "execution_count": 260,
   "metadata": {},
   "outputs": [],
   "source": [
    "cimRoads = mapRoads.getDefinition(\"V3\")"
   ]
  },
  {
   "cell_type": "markdown",
   "metadata": {},
   "source": [
    "<h3 style=\"font-weight:bold; color:lime; padding-left: 50px\">Export Map and Map Layers</h3>"
   ]
  },
  {
   "cell_type": "markdown",
   "metadata": {},
   "source": [
    "Update the mapx file with the new layers"
   ]
  },
  {
   "cell_type": "code",
   "execution_count": 261,
   "metadata": {},
   "outputs": [
    {
     "name": "stdout",
     "output_type": "stream",
     "text": [
      "Exporting roads map to MAPX...\n",
      "Start Time: Thursday, February 27, 2025 1:55:51 PM\n",
      "Succeeded at Thursday, February 27, 2025 1:55:51 PM (Elapsed Time: 0.04 seconds)\n",
      "Exporting roads map to JSON...\n",
      "\n"
     ]
    }
   ],
   "source": [
    "# Update the victims map mapx file\n",
    "exportCim(\"map\", mapRoads, \"roads\")"
   ]
  },
  {
   "cell_type": "markdown",
   "metadata": {},
   "source": [
    "Export map layers as CIM JSON `.lyrx` files to the layers folder directory of the project."
   ]
  },
  {
   "cell_type": "code",
   "execution_count": 262,
   "metadata": {},
   "outputs": [
    {
     "name": "stdout",
     "output_type": "stream",
     "text": [
      "Exporting OCSWITRS Major Roads Split layer to LYRX...\n",
      "Start Time: Thursday, February 27, 2025 1:55:52 PM\n",
      "Succeeded at Thursday, February 27, 2025 1:55:52 PM (Elapsed Time: 0.05 seconds)\n",
      "Exporting OCSWITRS Major Roads Split layer to JSON...\n",
      "\n",
      "Exporting OCSWITRS Major Roads layer to LYRX...\n",
      "Start Time: Thursday, February 27, 2025 1:55:52 PM\n",
      "Succeeded at Thursday, February 27, 2025 1:55:52 PM (Elapsed Time: 0.05 seconds)\n",
      "Exporting OCSWITRS Major Roads layer to JSON...\n",
      "\n",
      "Exporting OCSWITRS Major Roads Points Along Lines layer to LYRX...\n",
      "Start Time: Thursday, February 27, 2025 1:55:52 PM\n",
      "Succeeded at Thursday, February 27, 2025 1:55:52 PM (Elapsed Time: 0.04 seconds)\n",
      "Exporting OCSWITRS Major Roads Points Along Lines layer to JSON...\n",
      "\n",
      "Exporting OCSWITRS Major Roads Split Buffer Summary layer to LYRX...\n",
      "Start Time: Thursday, February 27, 2025 1:55:52 PM\n",
      "Succeeded at Thursday, February 27, 2025 1:55:52 PM (Elapsed Time: 0.05 seconds)\n",
      "Exporting OCSWITRS Major Roads Split Buffer Summary layer to JSON...\n",
      "\n",
      "Exporting OCSWITRS Major Roads Split Buffer layer to LYRX...\n",
      "Start Time: Thursday, February 27, 2025 1:55:53 PM\n",
      "Succeeded at Thursday, February 27, 2025 1:55:53 PM (Elapsed Time: 0.04 seconds)\n",
      "Exporting OCSWITRS Major Roads Split Buffer layer to JSON...\n",
      "\n",
      "Exporting OCSWITRS Major Roads Buffers Summary layer to LYRX...\n",
      "Start Time: Thursday, February 27, 2025 1:55:53 PM\n",
      "Succeeded at Thursday, February 27, 2025 1:55:53 PM (Elapsed Time: 0.04 seconds)\n",
      "Exporting OCSWITRS Major Roads Buffers Summary layer to JSON...\n",
      "\n",
      "Exporting OCSWITRS Major Roads Buffers layer to LYRX...\n",
      "Start Time: Thursday, February 27, 2025 1:55:53 PM\n",
      "Succeeded at Thursday, February 27, 2025 1:55:53 PM (Elapsed Time: 0.04 seconds)\n",
      "Exporting OCSWITRS Major Roads Buffers layer to JSON...\n",
      "\n"
     ]
    }
   ],
   "source": [
    "# Export the layers to JSON\n",
    "for l in mapRoads.listLayers():\n",
    "    if not l.isBasemapLayer:\n",
    "        exportCim(\"layer\", l, l.name)"
   ]
  },
  {
   "cell_type": "markdown",
   "metadata": {},
   "source": [
    "<h3 style=\"font-weight:bold; color:lime; padding-left: 50px\">Save Project</h3>"
   ]
  },
  {
   "cell_type": "code",
   "execution_count": 263,
   "metadata": {},
   "outputs": [],
   "source": [
    "# Save the project\n",
    "aprx.save()"
   ]
  },
  {
   "cell_type": "markdown",
   "metadata": {},
   "source": [
    "<h2 style=\"font-weight:bold; color:dodgerblue; border-bottom: 1px solid dodgerblue; padding-left: 25px\">3.18. Hotspot Points Map Layers</h2>"
   ]
  },
  {
   "cell_type": "markdown",
   "metadata": {},
   "source": [
    "<h3 style=\"font-weight:bold; color:lime; padding-left: 50px\">Open Map View</h3>"
   ]
  },
  {
   "cell_type": "markdown",
   "metadata": {},
   "source": [
    "Close all open maps, open the hotspot points map and set it as the active map"
   ]
  },
  {
   "cell_type": "code",
   "execution_count": 264,
   "metadata": {},
   "outputs": [],
   "source": [
    "# Close all previous map views\n",
    "aprx.closeViews()\n",
    "\n",
    "# Open the hotspot points map view\n",
    "mapPointFhs.openView()\n",
    "\n",
    "# set the main map as active map\n",
    "map = aprx.activeMap"
   ]
  },
  {
   "cell_type": "markdown",
   "metadata": {},
   "source": [
    "Remove all layers from the active map"
   ]
  },
  {
   "cell_type": "code",
   "execution_count": 265,
   "metadata": {},
   "outputs": [],
   "source": [
    "# Remove all the layers from the map\n",
    "for lyr in mapPointFhs.listLayers():\n",
    "    if not lyr.isBasemapLayer:\n",
    "        print(f\"Removing layer: {lyr.name}\")\n",
    "        mapPointFhs.removeLayer(lyr)"
   ]
  },
  {
   "cell_type": "markdown",
   "metadata": {},
   "source": [
    "<h3 style=\"font-weight:bold; color:lime; padding-left: 50px\">Add Layers to Map</h3>"
   ]
  },
  {
   "cell_type": "markdown",
   "metadata": {},
   "source": [
    "Add the feature classes as layers to the map (in order, as the first layer goes to the bottom of the contents)"
   ]
  },
  {
   "cell_type": "code",
   "execution_count": 266,
   "metadata": {},
   "outputs": [],
   "source": [
    "# Add the data layers to the map\n",
    "mapPointFhsLyrBoundaries = mapPointFhs.addDataFromPath(boundaries)\n",
    "mapPointFhsLyrRoadsMajor = mapPointFhs.addDataFromPath(roadsMajor)\n",
    "mapPointFhsLyrFhs = mapPointFhs.addDataFromPath(crashesHotspots)\n",
    "\n",
    "# Set layer visibility on the map\n",
    "mapPointFhsLyrBoundaries.visible = False\n",
    "mapPointFhsLyrRoadsMajor.visible = False\n",
    "mapPointFhsLyrFhs.visible = False"
   ]
  },
  {
   "cell_type": "markdown",
   "metadata": {},
   "source": [
    "<h3 style=\"font-weight:bold; color:lime; padding-left: 50px\">Layer Symbology</h3>"
   ]
  },
  {
   "cell_type": "markdown",
   "metadata": {},
   "source": [
    "Define symbology for each of the map layers. The symbology is predefined in the project's template layer folders."
   ]
  },
  {
   "cell_type": "markdown",
   "metadata": {},
   "source": [
    "- Major Roads layer"
   ]
  },
  {
   "cell_type": "code",
   "execution_count": 267,
   "metadata": {},
   "outputs": [
    {
     "data": {
      "text/html": [
       "<div class='gpresult'><h2 class='msg-title'>Messages</h2><div id='messages'>Start Time: Thursday, February 27, 2025 1:55:54 PM<br>Succeeded at Thursday, February 27, 2025 1:55:54 PM (Elapsed Time: 0.04 seconds)<br></div><div id = 'default' /></div></div>"
      ],
      "text/plain": [
       "<Result 'GPLYR_{7B6B4239-BC07-46F8-A1E7-01851384BEED}'>"
      ]
     },
     "execution_count": 267,
     "metadata": {},
     "output_type": "execute_result"
    }
   ],
   "source": [
    "# Apply the symbology for the Major Roads data layer\n",
    "arcpy.management.ApplySymbologyFromLayer(\n",
    "    in_layer = mapPointFhsLyrRoadsMajor,\n",
    "    in_symbology_layer = os.path.join(layersTemplates, \"OCSWITRS Major Roads.lyrx\"),\n",
    "    symbology_fields = [[\"VALUE_FIELD\", \"roadCat\", \"roadCat\"]],\n",
    "    update_symbology = \"MAINTAIN\"\n",
    ")"
   ]
  },
  {
   "cell_type": "markdown",
   "metadata": {},
   "source": [
    "- Boundaries layer"
   ]
  },
  {
   "cell_type": "code",
   "execution_count": 268,
   "metadata": {},
   "outputs": [
    {
     "data": {
      "text/html": [
       "<div class='gpresult'><h2 class='msg-title'>Messages</h2><div id='messages'>Start Time: Thursday, February 27, 2025 1:55:54 PM<br>Succeeded at Thursday, February 27, 2025 1:55:54 PM (Elapsed Time: 0.17 seconds)<br></div><div id = 'default' /></div></div>"
      ],
      "text/plain": [
       "<Result 'GPLYR_{12EC293E-AD17-4F15-ABC1-1E730272CCBA}'>"
      ]
     },
     "execution_count": 268,
     "metadata": {},
     "output_type": "execute_result"
    }
   ],
   "source": [
    "# Apply the symbology for the boundaires data layer\n",
    "arcpy.management.ApplySymbologyFromLayer(\n",
    "    in_layer = mapPointFhsLyrBoundaries,\n",
    "    in_symbology_layer = os.path.join(layersTemplates, \"OCSWITRS Boundaries.lyrx\"),\n",
    "    symbology_fields = None,\n",
    "    update_symbology = \"MAINTAIN\"\n",
    ")"
   ]
  },
  {
   "cell_type": "markdown",
   "metadata": {},
   "source": [
    "<h3 style=\"font-weight:bold; color:lime; padding-left: 50px\">Layer CIM Operations</h3>"
   ]
  },
  {
   "cell_type": "markdown",
   "metadata": {},
   "source": [
    "Generate CIM JSON configuration for layers"
   ]
  },
  {
   "cell_type": "code",
   "execution_count": 269,
   "metadata": {},
   "outputs": [],
   "source": [
    "# Get CIM definitions for the major roads map layers\n",
    "mapPointFhsCimBoundaries = mapPointFhsLyrBoundaries.getDefinition(\"V3\")\n",
    "mapPointFhsCimRoadsMajor = mapPointFhsLyrRoadsMajor.getDefinition(\"V3\")\n",
    "mapPointFhsCimFhs = mapPointFhsLyrFhs.getDefinition(\"V3\")"
   ]
  },
  {
   "cell_type": "markdown",
   "metadata": {},
   "source": [
    "Set symbology headings and update CIM definitions for layers"
   ]
  },
  {
   "cell_type": "code",
   "execution_count": 270,
   "metadata": {},
   "outputs": [],
   "source": [
    "# Set the layer headings\n",
    "mapPointFhsCimBoundaries.renderer.heading = \"Boundaries\"\n",
    "mapPointFhsCimRoadsMajor.renderer.heading = \"Major Roads\"\n",
    "mapPointFhsCimFhs.renderer.heading = \"Getis-Ord Gi*\"\n",
    "\n",
    "# Update the map layer definitions\n",
    "mapPointFhsLyrBoundaries.setDefinition(mapPointFhsCimBoundaries)\n",
    "mapPointFhsLyrRoadsMajor.setDefinition(mapPointFhsCimRoadsMajor)\n",
    "mapPointFhsLyrFhs.setDefinition(mapPointFhsCimFhs)"
   ]
  },
  {
   "cell_type": "markdown",
   "metadata": {},
   "source": [
    "Update the CIM defintion for the major roads map"
   ]
  },
  {
   "cell_type": "code",
   "execution_count": 271,
   "metadata": {},
   "outputs": [],
   "source": [
    "cimPointFhs = mapPointFhs.getDefinition(\"V3\")"
   ]
  },
  {
   "cell_type": "markdown",
   "metadata": {},
   "source": [
    "<h3 style=\"font-weight:bold; color:lime; padding-left: 50px\">Export Map and Map Layers</h3>"
   ]
  },
  {
   "cell_type": "markdown",
   "metadata": {},
   "source": [
    "Update the mapx file with the new layers"
   ]
  },
  {
   "cell_type": "code",
   "execution_count": 272,
   "metadata": {},
   "outputs": [
    {
     "name": "stdout",
     "output_type": "stream",
     "text": [
      "Exporting pointFhs map to MAPX...\n",
      "Start Time: Thursday, February 27, 2025 1:55:54 PM\n",
      "Succeeded at Thursday, February 27, 2025 1:55:54 PM (Elapsed Time: 0.17 seconds)\n",
      "Exporting pointFhs map to JSON...\n",
      "\n"
     ]
    }
   ],
   "source": [
    "# Update the major roads map mapx file\n",
    "exportCim(\"map\", mapPointFhs, \"pointFhs\")"
   ]
  },
  {
   "cell_type": "markdown",
   "metadata": {},
   "source": [
    "Export map layers as CIM JSON `.lyrx` files to the layers folder directory of the project."
   ]
  },
  {
   "cell_type": "code",
   "execution_count": 273,
   "metadata": {},
   "outputs": [
    {
     "name": "stdout",
     "output_type": "stream",
     "text": [
      "Exporting OCSWITRS Crashes Hot Spots layer to LYRX...\n",
      "Start Time: Thursday, February 27, 2025 1:55:55 PM\n",
      "Succeeded at Thursday, February 27, 2025 1:55:55 PM (Elapsed Time: 0.12 seconds)\n",
      "Exporting OCSWITRS Crashes Hot Spots layer to JSON...\n",
      "\n",
      "Exporting OCSWITRS Major Roads layer to LYRX...\n",
      "Start Time: Thursday, February 27, 2025 1:55:55 PM\n",
      "Succeeded at Thursday, February 27, 2025 1:55:55 PM (Elapsed Time: 0.06 seconds)\n",
      "Exporting OCSWITRS Major Roads layer to JSON...\n",
      "\n",
      "Exporting OCSWITRS Boundaries layer to LYRX...\n",
      "Start Time: Thursday, February 27, 2025 1:55:56 PM\n",
      "Succeeded at Thursday, February 27, 2025 1:55:56 PM (Elapsed Time: 0.06 seconds)\n",
      "Exporting OCSWITRS Boundaries layer to JSON...\n",
      "\n"
     ]
    }
   ],
   "source": [
    "# Export the layers to JSON\n",
    "for l in mapPointFhs.listLayers():\n",
    "    if not l.isBasemapLayer:\n",
    "        exportCim(\"layer\", l, l.name)"
   ]
  },
  {
   "cell_type": "markdown",
   "metadata": {},
   "source": [
    "<h3 style=\"font-weight:bold; color:lime; padding-left: 50px\">Save Project</h3>"
   ]
  },
  {
   "cell_type": "code",
   "execution_count": 274,
   "metadata": {},
   "outputs": [],
   "source": [
    "# Save the project\n",
    "aprx.save()"
   ]
  },
  {
   "cell_type": "markdown",
   "metadata": {},
   "source": [
    "<h2 style=\"font-weight:bold; color:dodgerblue; border-bottom: 1px solid dodgerblue; padding-left: 25px\">3.19. Optimized Hotspot Points Map Layers</h2>"
   ]
  },
  {
   "cell_type": "markdown",
   "metadata": {},
   "source": [
    "<h3 style=\"font-weight:bold; color:lime; padding-left: 50px\">Open Map View</h3>"
   ]
  },
  {
   "cell_type": "markdown",
   "metadata": {},
   "source": [
    "Close all open maps, open the optimized hotspot points map and set it as the active map"
   ]
  },
  {
   "cell_type": "code",
   "execution_count": 275,
   "metadata": {},
   "outputs": [],
   "source": [
    "# Close all previous map views\n",
    "aprx.closeViews()\n",
    "\n",
    "# Open the optimized hot spot points map view\n",
    "mapPointOhs.openView()\n",
    "\n",
    "# set the main map as active map\n",
    "map = aprx.activeMap"
   ]
  },
  {
   "cell_type": "markdown",
   "metadata": {},
   "source": [
    "Remove all layers from the active map"
   ]
  },
  {
   "cell_type": "code",
   "execution_count": 276,
   "metadata": {},
   "outputs": [],
   "source": [
    "# Remove all the layers from the map\n",
    "for lyr in mapPointOhs.listLayers():\n",
    "    if not lyr.isBasemapLayer:\n",
    "        print(f\"Removing layer: {lyr.name}\")\n",
    "        mapPointOhs.removeLayer(lyr)"
   ]
  },
  {
   "cell_type": "markdown",
   "metadata": {},
   "source": [
    "<h3 style=\"font-weight:bold; color:lime; padding-left: 50px\">Add Layers to Map</h3>"
   ]
  },
  {
   "cell_type": "markdown",
   "metadata": {},
   "source": [
    "Add the feature classes as layers to the map (in order, as the first layer goes to the bottom of the contents)"
   ]
  },
  {
   "cell_type": "code",
   "execution_count": 277,
   "metadata": {},
   "outputs": [],
   "source": [
    "# Add the data layers to the map\n",
    "mapPointOhsLyrBoundaries = mapPointOhs.addDataFromPath(boundaries)\n",
    "mapPointOhsLyrRoadsMajor = mapPointOhs.addDataFromPath(roadsMajor)\n",
    "mapPointOhsLyrOhs = mapPointOhs.addDataFromPath(crashesOptimizedHotspots)\n",
    "\n",
    "# Set layer visibility on the map\n",
    "mapPointOhsLyrBoundaries.visible = False\n",
    "mapPointOhsLyrRoadsMajor.visible = False\n",
    "mapPointOhsLyrOhs.visible = False"
   ]
  },
  {
   "cell_type": "markdown",
   "metadata": {},
   "source": [
    "<h3 style=\"font-weight:bold; color:lime; padding-left: 50px\">Layer Symbology</h3>"
   ]
  },
  {
   "cell_type": "markdown",
   "metadata": {},
   "source": [
    "Define symbology for each of the map layers. The symbology is predefined in the project's template layer folders."
   ]
  },
  {
   "cell_type": "markdown",
   "metadata": {},
   "source": [
    "- Major Roads layer"
   ]
  },
  {
   "cell_type": "code",
   "execution_count": 278,
   "metadata": {},
   "outputs": [
    {
     "data": {
      "text/html": [
       "<div class='gpresult'><h2 class='msg-title'>Messages</h2><div id='messages'>Start Time: Thursday, February 27, 2025 1:55:57 PM<br>Succeeded at Thursday, February 27, 2025 1:55:57 PM (Elapsed Time: 0.05 seconds)<br></div><div id = 'default' /></div></div>"
      ],
      "text/plain": [
       "<Result 'GPLYR_{59ECF3C5-5FDD-4BE4-911E-C9A00FE50554}'>"
      ]
     },
     "execution_count": 278,
     "metadata": {},
     "output_type": "execute_result"
    }
   ],
   "source": [
    "# Apply the symbology for the Major Roads data layer\n",
    "arcpy.management.ApplySymbologyFromLayer(\n",
    "    in_layer = mapPointOhsLyrRoadsMajor,\n",
    "    in_symbology_layer = os.path.join(layersTemplates, \"OCSWITRS Major Roads.lyrx\"),\n",
    "    symbology_fields = [[\"VALUE_FIELD\", \"roadCat\", \"roadCat\"]],\n",
    "    update_symbology = \"MAINTAIN\"\n",
    ")"
   ]
  },
  {
   "cell_type": "markdown",
   "metadata": {},
   "source": [
    "- Boundaries layer"
   ]
  },
  {
   "cell_type": "code",
   "execution_count": 279,
   "metadata": {},
   "outputs": [
    {
     "data": {
      "text/html": [
       "<div class='gpresult'><h2 class='msg-title'>Messages</h2><div id='messages'>Start Time: Thursday, February 27, 2025 1:55:57 PM<br>Succeeded at Thursday, February 27, 2025 1:55:57 PM (Elapsed Time: 0.04 seconds)<br></div><div id = 'default' /></div></div>"
      ],
      "text/plain": [
       "<Result 'GPLYR_{6E7B5CA2-E5B6-47AD-B304-0593A2A8C4F9}'>"
      ]
     },
     "execution_count": 279,
     "metadata": {},
     "output_type": "execute_result"
    }
   ],
   "source": [
    "# Apply the symbology for the boundaires data layer\n",
    "arcpy.management.ApplySymbologyFromLayer(\n",
    "    in_layer = mapPointOhsLyrBoundaries,\n",
    "    in_symbology_layer = os.path.join(layersTemplates, \"OCSWITRS Boundaries.lyrx\"),\n",
    "    symbology_fields = None,\n",
    "    update_symbology = \"MAINTAIN\"\n",
    ")"
   ]
  },
  {
   "cell_type": "markdown",
   "metadata": {},
   "source": [
    "<h3 style=\"font-weight:bold; color:lime; padding-left: 50px\">Layer CIM Operations</h3>"
   ]
  },
  {
   "cell_type": "markdown",
   "metadata": {},
   "source": [
    "Generate CIM JSON configuration for layers"
   ]
  },
  {
   "cell_type": "code",
   "execution_count": 280,
   "metadata": {},
   "outputs": [],
   "source": [
    "# Get CIM definitions for the road buffers sum map layers\n",
    "mapPointOhsCimBoundaries = mapPointOhsLyrBoundaries.getDefinition(\"V3\")\n",
    "mapPointOhsCimRoadsMajor = mapPointOhsLyrRoadsMajor.getDefinition(\"V3\")\n",
    "mapPointOhsCimOhs = mapPointOhsLyrOhs.getDefinition(\"V3\")"
   ]
  },
  {
   "cell_type": "markdown",
   "metadata": {},
   "source": [
    "Set symbology headings and update CIM definitions for layers"
   ]
  },
  {
   "cell_type": "code",
   "execution_count": 281,
   "metadata": {},
   "outputs": [],
   "source": [
    "# Set the layer headings\n",
    "mapPointOhsCimBoundaries.renderer.heading = \"Boundaries\"\n",
    "mapPointOhsCimRoadsMajor.renderer.heading = \"Major Roads\"\n",
    "mapPointOhsCimOhs.renderer.heading = \"Getis-Ord Gi*\"\n",
    "\n",
    "# Update the map layer definitions\n",
    "mapPointOhsLyrBoundaries.setDefinition(mapPointOhsCimBoundaries)\n",
    "mapPointOhsLyrRoadsMajor.setDefinition(mapPointOhsCimRoadsMajor)\n",
    "mapPointOhsLyrOhs.setDefinition(mapPointOhsCimOhs)"
   ]
  },
  {
   "cell_type": "markdown",
   "metadata": {},
   "source": [
    "Update the CIM defintion for the major roads map"
   ]
  },
  {
   "cell_type": "code",
   "execution_count": 282,
   "metadata": {},
   "outputs": [],
   "source": [
    "cimPointOhs = mapPointOhs.getDefinition(\"V3\")"
   ]
  },
  {
   "cell_type": "markdown",
   "metadata": {},
   "source": [
    "<h3 style=\"font-weight:bold; color:lime; padding-left: 50px\">Export Map and Map Layers</h3>"
   ]
  },
  {
   "cell_type": "markdown",
   "metadata": {},
   "source": [
    "Update the mapx file with the new layers"
   ]
  },
  {
   "cell_type": "code",
   "execution_count": 283,
   "metadata": {},
   "outputs": [
    {
     "name": "stdout",
     "output_type": "stream",
     "text": [
      "Exporting pointOhs map to MAPX...\n",
      "Start Time: Thursday, February 27, 2025 1:55:57 PM\n",
      "Succeeded at Thursday, February 27, 2025 1:55:57 PM (Elapsed Time: 0.04 seconds)\n",
      "Exporting pointOhs map to JSON...\n",
      "\n"
     ]
    }
   ],
   "source": [
    "# Update the road buffers map mapx file\n",
    "exportCim(\"map\", mapPointOhs, \"pointOhs\")"
   ]
  },
  {
   "cell_type": "markdown",
   "metadata": {},
   "source": [
    "Export map layers as CIM JSON `.lyrx` files to the layers folder directory of the project."
   ]
  },
  {
   "cell_type": "code",
   "execution_count": 284,
   "metadata": {},
   "outputs": [
    {
     "name": "stdout",
     "output_type": "stream",
     "text": [
      "Exporting OCSWITRS Crashes Optimized Hot Spots layer to LYRX...\n",
      "Start Time: Thursday, February 27, 2025 1:55:58 PM\n",
      "Succeeded at Thursday, February 27, 2025 1:55:58 PM (Elapsed Time: 0.07 seconds)\n",
      "Exporting OCSWITRS Crashes Optimized Hot Spots layer to JSON...\n",
      "\n",
      "Exporting OCSWITRS Major Roads layer to LYRX...\n",
      "Start Time: Thursday, February 27, 2025 1:55:58 PM\n",
      "Succeeded at Thursday, February 27, 2025 1:55:58 PM (Elapsed Time: 0.06 seconds)\n",
      "Exporting OCSWITRS Major Roads layer to JSON...\n",
      "\n",
      "Exporting OCSWITRS Boundaries layer to LYRX...\n",
      "Start Time: Thursday, February 27, 2025 1:55:58 PM\n",
      "Succeeded at Thursday, February 27, 2025 1:55:58 PM (Elapsed Time: 0.05 seconds)\n",
      "Exporting OCSWITRS Boundaries layer to JSON...\n",
      "\n"
     ]
    }
   ],
   "source": [
    "# Export the layers to JSON\n",
    "for l in mapPointOhs.listLayers():\n",
    "    if not l.isBasemapLayer:\n",
    "        exportCim(\"layer\", l, l.name)"
   ]
  },
  {
   "cell_type": "markdown",
   "metadata": {},
   "source": [
    "<h3 style=\"font-weight:bold; color:lime; padding-left: 50px\">Save Project</h3>"
   ]
  },
  {
   "cell_type": "code",
   "execution_count": 285,
   "metadata": {},
   "outputs": [],
   "source": [
    "# Save the project\n",
    "aprx.save()"
   ]
  },
  {
   "cell_type": "markdown",
   "metadata": {},
   "source": [
    "<h2 style=\"font-weight:bold; color:dodgerblue; border-bottom: 1px solid dodgerblue; padding-left: 25px\">3.20. Population Density Map Layers</h2>"
   ]
  },
  {
   "cell_type": "markdown",
   "metadata": {},
   "source": [
    "<h3 style=\"font-weight:bold; color:lime; padding-left: 50px\">Open Map View</h3>"
   ]
  },
  {
   "cell_type": "markdown",
   "metadata": {},
   "source": [
    "Close all open maps, open the densities map and set it as the active map"
   ]
  },
  {
   "cell_type": "code",
   "execution_count": 286,
   "metadata": {},
   "outputs": [],
   "source": [
    "# Close all previous map views\n",
    "aprx.closeViews()\n",
    "\n",
    "# Open the population densities map view\n",
    "mapPopDens.openView()\n",
    "\n",
    "# set the main map as active map\n",
    "map = aprx.activeMap"
   ]
  },
  {
   "cell_type": "markdown",
   "metadata": {},
   "source": [
    "Remove all layers from the active map"
   ]
  },
  {
   "cell_type": "code",
   "execution_count": 287,
   "metadata": {},
   "outputs": [],
   "source": [
    "# Remove all the layers from the map\n",
    "for lyr in mapPopDens.listLayers():\n",
    "    if not lyr.isBasemapLayer:\n",
    "        print(f\"Removing layer: {lyr.name}\")\n",
    "        mapPopDens.removeLayer(lyr)"
   ]
  },
  {
   "cell_type": "markdown",
   "metadata": {},
   "source": [
    "<h3 style=\"font-weight:bold; color:lime; padding-left: 50px\">Add Layers to Map</h3>"
   ]
  },
  {
   "cell_type": "markdown",
   "metadata": {},
   "source": [
    "Add the feature classes as layers to the map (in order, as the first layer goes to the bottom of the contents)"
   ]
  },
  {
   "cell_type": "code",
   "execution_count": 288,
   "metadata": {},
   "outputs": [],
   "source": [
    "# Add the data layers to the map\n",
    "mapPopDensLyrBoundaries = mapPopDens.addDataFromPath(boundaries)\n",
    "mapPopDensLyrRoadsMajor = mapPopDens.addDataFromPath(roadsMajor)\n",
    "mapPopDensLyrPopDens = mapPopDens.addDataFromPath(censusBlocksSum)\n",
    "\n",
    "# Rename the layer\n",
    "mapPopDensLyrPopDens.name = \"OCSWITRS Population Density\"\n",
    "\n",
    "# Set layer visibility on the map\n",
    "mapPopDensLyrBoundaries.visible = False\n",
    "mapPopDensLyrRoadsMajor.visible = False\n",
    "mapPopDensLyrPopDens.visible = False"
   ]
  },
  {
   "cell_type": "markdown",
   "metadata": {},
   "source": [
    "<h3 style=\"font-weight:bold; color:lime; padding-left: 50px\">Layer Symbology</h3>"
   ]
  },
  {
   "cell_type": "markdown",
   "metadata": {},
   "source": [
    "Define symbology for each of the map layers. The symbology is predefined in the project's template layer folders."
   ]
  },
  {
   "cell_type": "markdown",
   "metadata": {},
   "source": [
    "- Population Density layer"
   ]
  },
  {
   "cell_type": "code",
   "execution_count": 289,
   "metadata": {},
   "outputs": [
    {
     "name": "stdout",
     "output_type": "stream",
     "text": [
      "Start Time: Thursday, February 27, 2025 1:55:59 PM\n",
      "Succeeded at Thursday, February 27, 2025 1:55:59 PM (Elapsed Time: 0.08 seconds)\n"
     ]
    }
   ],
   "source": [
    "# Apply the symbology for the Housing Density data layer\n",
    "arcpy.management.ApplySymbologyFromLayer(\n",
    "    in_layer = mapPopDensLyrPopDens,\n",
    "    in_symbology_layer=os.path.join(layersTemplates, \"OCSWITRS Population Density.lyrx\"),\n",
    "    symbology_fields = [[\"VALUE_FIELD\", \"populationDensity\", \"populationDensity\"]],\n",
    "    update_symbology = \"MAINTAIN\"\n",
    ")\n",
    "print(arcpy.GetMessages())"
   ]
  },
  {
   "cell_type": "markdown",
   "metadata": {},
   "source": [
    "- Major Roads layer"
   ]
  },
  {
   "cell_type": "code",
   "execution_count": 290,
   "metadata": {},
   "outputs": [
    {
     "data": {
      "text/html": [
       "<div class='gpresult'><h2 class='msg-title'>Messages</h2><div id='messages'>Start Time: Thursday, February 27, 2025 1:56:00 PM<br>Succeeded at Thursday, February 27, 2025 1:56:00 PM (Elapsed Time: 0.04 seconds)<br></div><div id = 'default' /></div></div>"
      ],
      "text/plain": [
       "<Result 'GPLYR_{8CC1E94D-3FB3-4B22-AFCA-4595A90DBF1F}'>"
      ]
     },
     "execution_count": 290,
     "metadata": {},
     "output_type": "execute_result"
    }
   ],
   "source": [
    "# Apply the symbology for the major roads data layer\n",
    "arcpy.management.ApplySymbologyFromLayer(\n",
    "    in_layer = mapPopDensLyrRoadsMajor,\n",
    "    in_symbology_layer=os.path.join(layersTemplates, \"OCSWITRS Major Roads.lyrx\"),\n",
    "    symbology_fields = [[\"VALUE_FIELD\", \"roadCat\", \"roadCat\"]],\n",
    "    update_symbology = \"MAINTAIN\"\n",
    ")"
   ]
  },
  {
   "cell_type": "markdown",
   "metadata": {},
   "source": [
    "- Boundaries layer"
   ]
  },
  {
   "cell_type": "code",
   "execution_count": 291,
   "metadata": {},
   "outputs": [
    {
     "name": "stdout",
     "output_type": "stream",
     "text": [
      "Start Time: Thursday, February 27, 2025 1:56:00 PM\n",
      "Succeeded at Thursday, February 27, 2025 1:56:00 PM (Elapsed Time: 0.17 seconds)\n"
     ]
    }
   ],
   "source": [
    "# Apply the symbology for the Boundaries data layer\n",
    "arcpy.management.ApplySymbologyFromLayer(\n",
    "    in_layer = mapPopDensLyrBoundaries,\n",
    "    in_symbology_layer=os.path.join(layersTemplates, \"OCSWITRS Boundaries.lyrx\"),\n",
    "    symbology_fields = None,\n",
    "    update_symbology = \"MAINTAIN\"\n",
    ")\n",
    "print(arcpy.GetMessages())"
   ]
  },
  {
   "cell_type": "markdown",
   "metadata": {},
   "source": [
    "<h3 style=\"font-weight:bold; color:lime; padding-left: 50px\">Layer CIM Operations</h3>"
   ]
  },
  {
   "cell_type": "markdown",
   "metadata": {},
   "source": [
    "Generate CIM JSON configuration for layers"
   ]
  },
  {
   "cell_type": "code",
   "execution_count": 292,
   "metadata": {},
   "outputs": [],
   "source": [
    "# Get CIM definitions for the densities map layers\n",
    "mapPopDensCimBoundaries = mapPopDensLyrBoundaries.getDefinition(\"V3\")\n",
    "mapPopDensCimRoadsMajor = mapPopDensLyrRoadsMajor.getDefinition(\"V3\")\n",
    "mapPopDensCimPopDens = mapPopDensLyrPopDens.getDefinition(\"V3\")"
   ]
  },
  {
   "cell_type": "markdown",
   "metadata": {},
   "source": [
    "Set symbology headings and update CIM definitions for layers"
   ]
  },
  {
   "cell_type": "code",
   "execution_count": 293,
   "metadata": {},
   "outputs": [],
   "source": [
    "# Set the layer headings\n",
    "mapPopDensCimBoundaries.renderer.heading = \"Boundaries\"\n",
    "mapPopDensCimRoadsMajor.renderer.heading = \"Major Roads\"\n",
    "mapPopDensCimPopDens.renderer.heading = \"Population Density\"\n",
    "\n",
    "# Update the map layer definitions\n",
    "mapPopDensLyrBoundaries.setDefinition(mapPopDensCimBoundaries)\n",
    "mapPopDensLyrRoadsMajor.setDefinition(mapPopDensCimRoadsMajor)\n",
    "mapPopDensLyrPopDens.setDefinition(mapPopDensCimPopDens)"
   ]
  },
  {
   "cell_type": "markdown",
   "metadata": {},
   "source": [
    "Apply CIM operations to the layers in the densities map"
   ]
  },
  {
   "cell_type": "code",
   "execution_count": 294,
   "metadata": {},
   "outputs": [],
   "source": [
    "cimPopDens = mapPopDens.getDefinition(\"V3\")"
   ]
  },
  {
   "cell_type": "markdown",
   "metadata": {},
   "source": [
    "<h3 style=\"font-weight:bold; color:lime; padding-left: 50px\">Export Map and Map Layers</h3>"
   ]
  },
  {
   "cell_type": "markdown",
   "metadata": {},
   "source": [
    "Update the mapx file with the new layers"
   ]
  },
  {
   "cell_type": "code",
   "execution_count": 295,
   "metadata": {},
   "outputs": [
    {
     "name": "stdout",
     "output_type": "stream",
     "text": [
      "Exporting popDens map to MAPX...\n",
      "Start Time: Thursday, February 27, 2025 1:56:00 PM\n",
      "Succeeded at Thursday, February 27, 2025 1:56:00 PM (Elapsed Time: 0.17 seconds)\n",
      "Exporting popDens map to JSON...\n",
      "\n"
     ]
    }
   ],
   "source": [
    "# Update the densities map mapx file\n",
    "exportCim(\"map\", mapPopDens, \"popDens\")"
   ]
  },
  {
   "cell_type": "markdown",
   "metadata": {},
   "source": [
    "Export map layers as CIM JSON `.lyrx` files to the layers folder directory of the project."
   ]
  },
  {
   "cell_type": "code",
   "execution_count": 296,
   "metadata": {},
   "outputs": [
    {
     "name": "stdout",
     "output_type": "stream",
     "text": [
      "Exporting OCSWITRS Major Roads layer to LYRX...\n",
      "Start Time: Thursday, February 27, 2025 1:56:00 PM\n",
      "Succeeded at Thursday, February 27, 2025 1:56:00 PM (Elapsed Time: 0.07 seconds)\n",
      "Exporting OCSWITRS Major Roads layer to JSON...\n",
      "\n",
      "Exporting OCSWITRS Population Density layer to LYRX...\n",
      "Start Time: Thursday, February 27, 2025 1:56:01 PM\n",
      "Succeeded at Thursday, February 27, 2025 1:56:01 PM (Elapsed Time: 0.09 seconds)\n",
      "Exporting OCSWITRS Population Density layer to JSON...\n",
      "\n",
      "Exporting OCSWITRS Boundaries layer to LYRX...\n",
      "Start Time: Thursday, February 27, 2025 1:56:01 PM\n",
      "Succeeded at Thursday, February 27, 2025 1:56:01 PM (Elapsed Time: 0.05 seconds)\n",
      "Exporting OCSWITRS Boundaries layer to JSON...\n",
      "\n"
     ]
    }
   ],
   "source": [
    "# Export the layers to JSON\n",
    "for l in mapPopDens.listLayers():\n",
    "    if not l.isBasemapLayer:\n",
    "        exportCim(\"layer\", l, l.name)"
   ]
  },
  {
   "cell_type": "markdown",
   "metadata": {},
   "source": [
    "<h3 style=\"font-weight:bold; color:lime; padding-left: 50px\">Save Project</h3>"
   ]
  },
  {
   "cell_type": "code",
   "execution_count": 297,
   "metadata": {},
   "outputs": [],
   "source": [
    "# Save the project\n",
    "aprx.save()"
   ]
  },
  {
   "cell_type": "markdown",
   "metadata": {},
   "source": [
    "<h2 style=\"font-weight:bold; color:dodgerblue; border-bottom: 1px solid dodgerblue; padding-left: 25px\">3.21. Housing Density Map Layers</h2>"
   ]
  },
  {
   "cell_type": "markdown",
   "metadata": {},
   "source": [
    "<h3 style=\"font-weight:bold; color:lime; padding-left: 50px\">Open Map View</h3>"
   ]
  },
  {
   "cell_type": "markdown",
   "metadata": {},
   "source": [
    "Close all open maps, open the housing density map and set it as the active map"
   ]
  },
  {
   "cell_type": "code",
   "execution_count": 298,
   "metadata": {},
   "outputs": [],
   "source": [
    "# Close all previous map views\n",
    "aprx.closeViews()\n",
    "\n",
    "# Open the housing density map view\n",
    "mapHouDens.openView()\n",
    "\n",
    "# set the main map as active map\n",
    "map = aprx.activeMap"
   ]
  },
  {
   "cell_type": "markdown",
   "metadata": {},
   "source": [
    "Remove all layers from the active map"
   ]
  },
  {
   "cell_type": "code",
   "execution_count": 299,
   "metadata": {},
   "outputs": [],
   "source": [
    "# Remove all the layers from the map\n",
    "for lyr in mapHouDens.listLayers():\n",
    "    if not lyr.isBasemapLayer:\n",
    "        print(f\"Removing layer: {lyr.name}\")\n",
    "        mapHouDens.removeLayer(lyr)"
   ]
  },
  {
   "cell_type": "markdown",
   "metadata": {},
   "source": [
    "<h3 style=\"font-weight:bold; color:lime; padding-left: 50px\">Add Layers to Map</h3>"
   ]
  },
  {
   "cell_type": "markdown",
   "metadata": {},
   "source": [
    "Add the feature classes as layers to the map (in order, as the first layer goes to the bottom of the contents)"
   ]
  },
  {
   "cell_type": "code",
   "execution_count": 300,
   "metadata": {},
   "outputs": [],
   "source": [
    "# Add the data layers to the map\n",
    "mapHouDensLyrBoundaries = mapHouDens.addDataFromPath(boundaries)\n",
    "mapHouDensLyrRoadsMajor = mapHouDens.addDataFromPath(roadsMajor)\n",
    "mapHouDensLyrHouDens = mapHouDens.addDataFromPath(censusBlocksSum)\n",
    "\n",
    "# Rename the layer\n",
    "mapHouDensLyrHouDens.name = \"OCSWITRS Housing Density\"\n",
    "\n",
    "# Set layer visibility on the map\n",
    "mapHouDensLyrBoundaries.visible = False\n",
    "mapHouDensLyrRoadsMajor.visible = False\n",
    "mapHouDensLyrHouDens.visible = False"
   ]
  },
  {
   "cell_type": "markdown",
   "metadata": {},
   "source": [
    "<h3 style=\"font-weight:bold; color:lime; padding-left: 50px\">Layer Symbology</h3>"
   ]
  },
  {
   "cell_type": "markdown",
   "metadata": {},
   "source": [
    "Define symbology for each of the map layers. The symbology is predefined in the project's template layer folders."
   ]
  },
  {
   "cell_type": "markdown",
   "metadata": {},
   "source": [
    "- Housing Density layer"
   ]
  },
  {
   "cell_type": "code",
   "execution_count": 301,
   "metadata": {},
   "outputs": [
    {
     "data": {
      "text/html": [
       "<div class='gpresult'><h2 class='msg-title'>Messages</h2><div id='messages'>Start Time: Thursday, February 27, 2025 1:56:02 PM<br>Succeeded at Thursday, February 27, 2025 1:56:02 PM (Elapsed Time: 0.08 seconds)<br></div><div id = 'default' /></div></div>"
      ],
      "text/plain": [
       "<Result 'GPLYR_{BCD1E8A9-93B3-495B-B064-462454F4E0B4}'>"
      ]
     },
     "execution_count": 301,
     "metadata": {},
     "output_type": "execute_result"
    }
   ],
   "source": [
    "# Apply the symbology for the Housing Density data layer\n",
    "arcpy.management.ApplySymbologyFromLayer(\n",
    "    in_layer = mapHouDensLyrHouDens,\n",
    "    in_symbology_layer = os.path.join(layersTemplates, \"OCSWITRS Housing Density.lyrx\"),\n",
    "    symbology_fields = [[\"VALUE_FIELD\", \"housingDensity\", \"housingDensity\"]],\n",
    "    update_symbology = \"MAINTAIN\"\n",
    ")"
   ]
  },
  {
   "cell_type": "markdown",
   "metadata": {},
   "source": [
    "- Major Roads layer"
   ]
  },
  {
   "cell_type": "code",
   "execution_count": 302,
   "metadata": {},
   "outputs": [
    {
     "data": {
      "text/html": [
       "<div class='gpresult'><h2 class='msg-title'>Messages</h2><div id='messages'>Start Time: Thursday, February 27, 2025 1:56:02 PM<br>Succeeded at Thursday, February 27, 2025 1:56:03 PM (Elapsed Time: 0.06 seconds)<br></div><div id = 'default' /></div></div>"
      ],
      "text/plain": [
       "<Result 'GPLYR_{CB784D78-CAF6-4FD1-9E17-7021FBF6FFF7}'>"
      ]
     },
     "execution_count": 302,
     "metadata": {},
     "output_type": "execute_result"
    }
   ],
   "source": [
    "# Apply the symbology for the major roads data layer\n",
    "arcpy.management.ApplySymbologyFromLayer(\n",
    "    in_layer = mapHouDensLyrRoadsMajor,\n",
    "    in_symbology_layer = os.path.join(layersTemplates, \"OCSWITRS Major Roads.lyrx\"),\n",
    "    symbology_fields = [[\"VALUE_FIELD\", \"roadCat\", \"roadCat\"]],\n",
    "    update_symbology = \"MAINTAIN\"\n",
    ")"
   ]
  },
  {
   "cell_type": "markdown",
   "metadata": {},
   "source": [
    "- Boundaries layer"
   ]
  },
  {
   "cell_type": "code",
   "execution_count": 303,
   "metadata": {},
   "outputs": [
    {
     "data": {
      "text/html": [
       "<div class='gpresult'><h2 class='msg-title'>Messages</h2><div id='messages'>Start Time: Thursday, February 27, 2025 1:56:03 PM<br>Succeeded at Thursday, February 27, 2025 1:56:03 PM (Elapsed Time: 0.03 seconds)<br></div><div id = 'default' /></div></div>"
      ],
      "text/plain": [
       "<Result 'GPLYR_{395F874E-F988-47C3-8AFB-178621D2BF72}'>"
      ]
     },
     "execution_count": 303,
     "metadata": {},
     "output_type": "execute_result"
    }
   ],
   "source": [
    "# Apply the symbology for the Boundaries data layer\n",
    "arcpy.management.ApplySymbologyFromLayer(\n",
    "    in_layer = mapHouDensLyrBoundaries,\n",
    "    in_symbology_layer = os.path.join(layersTemplates, \"OCSWITRS Boundaries.lyrx\"),\n",
    "    symbology_fields = None,\n",
    "    update_symbology = \"MAINTAIN\"\n",
    ")"
   ]
  },
  {
   "cell_type": "markdown",
   "metadata": {},
   "source": [
    "<h3 style=\"font-weight:bold; color:lime; padding-left: 50px\">Layer CIM Operations</h3>"
   ]
  },
  {
   "cell_type": "markdown",
   "metadata": {},
   "source": [
    "Generate CIM JSON configuration for layers"
   ]
  },
  {
   "cell_type": "code",
   "execution_count": 304,
   "metadata": {},
   "outputs": [],
   "source": [
    "# Get CIM definitions for the regression map layers\n",
    "mapHouDensCimBoundaries = mapHouDensLyrBoundaries.getDefinition(\"V3\")\n",
    "mapHouDensCimRoadsMajor = mapHouDensLyrRoadsMajor.getDefinition(\"V3\")\n",
    "mapHouDensCimHouDens = mapHouDensLyrHouDens.getDefinition(\"V3\")"
   ]
  },
  {
   "cell_type": "markdown",
   "metadata": {},
   "source": [
    "Set symbology headings and update CIM definitions for layers"
   ]
  },
  {
   "cell_type": "code",
   "execution_count": 305,
   "metadata": {},
   "outputs": [],
   "source": [
    "# Set the layer headings\n",
    "mapHouDensCimBoundaries.renderer.heading = \"Boundaries\"\n",
    "mapHouDensCimRoadsMajor.renderer.heading = \"Major Roads\"\n",
    "mapHouDensCimHouDens.renderer.heading = \"Housing Density\"\n",
    "\n",
    "# Update the map layer definitions\n",
    "mapHouDensLyrBoundaries.setDefinition(mapHouDensCimBoundaries)\n",
    "mapHouDensLyrRoadsMajor.setDefinition(mapHouDensCimRoadsMajor)\n",
    "mapHouDensLyrHouDens.setDefinition(mapHouDensCimHouDens)"
   ]
  },
  {
   "cell_type": "markdown",
   "metadata": {},
   "source": [
    "Update the CIM defintion for the regression map"
   ]
  },
  {
   "cell_type": "code",
   "execution_count": 306,
   "metadata": {},
   "outputs": [],
   "source": [
    "cimHouDens = mapHouDens.getDefinition(\"V3\")"
   ]
  },
  {
   "cell_type": "markdown",
   "metadata": {},
   "source": [
    "<h3 style=\"font-weight:bold; color:lime; padding-left: 50px\">Export Map and Map Layers</h3>"
   ]
  },
  {
   "cell_type": "markdown",
   "metadata": {},
   "source": [
    "Update the mapx file with the new layers"
   ]
  },
  {
   "cell_type": "code",
   "execution_count": 307,
   "metadata": {},
   "outputs": [
    {
     "name": "stdout",
     "output_type": "stream",
     "text": [
      "Exporting houDens map to MAPX...\n",
      "Start Time: Thursday, February 27, 2025 1:56:03 PM\n",
      "Succeeded at Thursday, February 27, 2025 1:56:03 PM (Elapsed Time: 0.03 seconds)\n",
      "Exporting houDens map to JSON...\n",
      "\n"
     ]
    }
   ],
   "source": [
    "# Update the victims map mapx file\n",
    "exportCim(\"map\", mapHouDens, \"houDens\")"
   ]
  },
  {
   "cell_type": "markdown",
   "metadata": {},
   "source": [
    "Export map layers as CIM JSON `.lyrx` files to the layers folder directory of the project."
   ]
  },
  {
   "cell_type": "code",
   "execution_count": 308,
   "metadata": {},
   "outputs": [
    {
     "name": "stdout",
     "output_type": "stream",
     "text": [
      "Exporting OCSWITRS Major Roads layer to LYRX...\n",
      "Start Time: Thursday, February 27, 2025 1:56:03 PM\n",
      "Succeeded at Thursday, February 27, 2025 1:56:03 PM (Elapsed Time: 0.07 seconds)\n",
      "Exporting OCSWITRS Major Roads layer to JSON...\n",
      "\n",
      "Exporting OCSWITRS Housing Density layer to LYRX...\n",
      "Start Time: Thursday, February 27, 2025 1:56:03 PM\n",
      "Succeeded at Thursday, February 27, 2025 1:56:03 PM (Elapsed Time: 0.07 seconds)\n",
      "Exporting OCSWITRS Housing Density layer to JSON...\n",
      "\n",
      "Exporting OCSWITRS Boundaries layer to LYRX...\n",
      "Start Time: Thursday, February 27, 2025 1:56:04 PM\n",
      "Succeeded at Thursday, February 27, 2025 1:56:04 PM (Elapsed Time: 0.05 seconds)\n",
      "Exporting OCSWITRS Boundaries layer to JSON...\n",
      "\n"
     ]
    }
   ],
   "source": [
    "# Export the layers to JSON\n",
    "for l in mapHouDens.listLayers():\n",
    "    if not l.isBasemapLayer:\n",
    "        exportCim(\"layer\", l, l.name)"
   ]
  },
  {
   "cell_type": "markdown",
   "metadata": {},
   "source": [
    "<h3 style=\"font-weight:bold; color:lime; padding-left: 50px\">Save Project</h3>"
   ]
  },
  {
   "cell_type": "code",
   "execution_count": 309,
   "metadata": {},
   "outputs": [],
   "source": [
    "# Save the project\n",
    "aprx.save()"
   ]
  },
  {
   "cell_type": "markdown",
   "metadata": {},
   "source": [
    "<h2 style=\"font-weight:bold; color:dodgerblue; border-bottom: 1px solid dodgerblue; padding-left: 25px\">3.22. Victims by City Areas Map Layers</h2>"
   ]
  },
  {
   "cell_type": "markdown",
   "metadata": {},
   "source": [
    "<h3 style=\"font-weight:bold; color:lime; padding-left: 50px\">Open Map View</h3>"
   ]
  },
  {
   "cell_type": "markdown",
   "metadata": {},
   "source": [
    "Open the city areas map and set it as the active map"
   ]
  },
  {
   "cell_type": "code",
   "execution_count": 310,
   "metadata": {},
   "outputs": [],
   "source": [
    "# Close all previous map views\n",
    "aprx.closeViews()\n",
    "\n",
    "# Open the city areas map layers\n",
    "mapAreaCities.openView()\n",
    "\n",
    "# set the main map as active map\n",
    "map = aprx.activeMap"
   ]
  },
  {
   "cell_type": "markdown",
   "metadata": {},
   "source": [
    "Remove all layers from the active map"
   ]
  },
  {
   "cell_type": "code",
   "execution_count": 311,
   "metadata": {},
   "outputs": [],
   "source": [
    "# Remove all the layers from the map\n",
    "for lyr in mapAreaCities.listLayers():\n",
    "    if not lyr.isBasemapLayer:\n",
    "        print(f\"Removing layer: {lyr.name}\")\n",
    "        mapAreaCities.removeLayer(lyr)"
   ]
  },
  {
   "cell_type": "markdown",
   "metadata": {},
   "source": [
    "<h3 style=\"font-weight:bold; color:lime; padding-left: 50px\">Add Layers to Map</h3>"
   ]
  },
  {
   "cell_type": "markdown",
   "metadata": {},
   "source": [
    "Add the feature classes as layers to the map (in order, as the first layer goes to the bottom of the contents)"
   ]
  },
  {
   "cell_type": "code",
   "execution_count": 312,
   "metadata": {},
   "outputs": [],
   "source": [
    "# Add the data layers to the map\n",
    "mapAreaCitiesLyrBoundaries = mapAreaCities.addDataFromPath(boundaries)\n",
    "mapAreaCitiesLyrRoadsMajor = mapAreaCities.addDataFromPath(roadsMajor)\n",
    "mapAreaCitiesLyrCities = mapAreaCities.addDataFromPath(citiesSum)\n",
    "\n",
    "# Set layer visibility on the map\n",
    "mapAreaCitiesLyrBoundaries.visible = False\n",
    "mapAreaCitiesLyrRoadsMajor.visible = False\n",
    "mapAreaCitiesLyrCities.visible = False"
   ]
  },
  {
   "cell_type": "markdown",
   "metadata": {},
   "source": [
    "<h3 style=\"font-weight:bold; color:lime; padding-left: 50px\">Layer Symbology</h3>"
   ]
  },
  {
   "cell_type": "markdown",
   "metadata": {},
   "source": [
    "Define symbology for each of the map layers. The symbology is predefined in the project's template layer folders."
   ]
  },
  {
   "cell_type": "markdown",
   "metadata": {},
   "source": [
    "- Boundaries layer"
   ]
  },
  {
   "cell_type": "code",
   "execution_count": 313,
   "metadata": {},
   "outputs": [
    {
     "data": {
      "text/html": [
       "<div class='gpresult'><h2 class='msg-title'>Messages</h2><div id='messages'>Start Time: Thursday, February 27, 2025 1:56:05 PM<br>Succeeded at Thursday, February 27, 2025 1:56:05 PM (Elapsed Time: 0.04 seconds)<br></div><div id = 'default' /></div></div>"
      ],
      "text/plain": [
       "<Result 'GPLYR_{3C67897D-DA41-4F3B-A5A5-04CE50EF1348}'>"
      ]
     },
     "execution_count": 313,
     "metadata": {},
     "output_type": "execute_result"
    }
   ],
   "source": [
    "# Apply the symbology for the boundaries data layer\n",
    "arcpy.management.ApplySymbologyFromLayer(\n",
    "    in_layer = mapAreaCitiesLyrBoundaries,\n",
    "    in_symbology_layer = os.path.join(layersTemplates, \"OCSWITRS Boundaries.lyrx\"),\n",
    "    symbology_fields = None,\n",
    "    update_symbology = \"MAINTAIN\"\n",
    ")"
   ]
  },
  {
   "cell_type": "markdown",
   "metadata": {},
   "source": [
    "- Major Roads layer"
   ]
  },
  {
   "cell_type": "code",
   "execution_count": 314,
   "metadata": {},
   "outputs": [
    {
     "data": {
      "text/html": [
       "<div class='gpresult'><h2 class='msg-title'>Messages</h2><div id='messages'>Start Time: Thursday, February 27, 2025 1:56:05 PM<br>Succeeded at Thursday, February 27, 2025 1:56:05 PM (Elapsed Time: 0.06 seconds)<br></div><div id = 'default' /></div></div>"
      ],
      "text/plain": [
       "<Result 'GPLYR_{50AAAEB2-103C-40D2-B692-D59222B59376}'>"
      ]
     },
     "execution_count": 314,
     "metadata": {},
     "output_type": "execute_result"
    }
   ],
   "source": [
    "# Apply the symbology for the major roads data layer\n",
    "arcpy.management.ApplySymbologyFromLayer(\n",
    "    in_layer = mapAreaCitiesLyrRoadsMajor,\n",
    "    in_symbology_layer = os.path.join(layersTemplates, \"OCSWITRS Major Roads.lyrx\"),\n",
    "    symbology_fields = [[\"VALUE_FIELD\", \"roadCat\", \"roadCat\"]],\n",
    "    update_symbology = \"MAINTAIN\"\n",
    ")"
   ]
  },
  {
   "cell_type": "markdown",
   "metadata": {},
   "source": [
    "- City Areas Summary layer"
   ]
  },
  {
   "cell_type": "code",
   "execution_count": 315,
   "metadata": {},
   "outputs": [
    {
     "data": {
      "text/html": [
       "<div class='gpresult'><h2 class='msg-title'>Messages</h2><div id='messages'>Start Time: Thursday, February 27, 2025 1:56:06 PM<br>Succeeded at Thursday, February 27, 2025 1:56:06 PM (Elapsed Time: 0.09 seconds)<br></div><div id = 'default' /></div></div>"
      ],
      "text/plain": [
       "<Result 'GPLYR_{C4CF29C8-4442-4BF7-A35C-29D6E2EB0048}'>"
      ]
     },
     "execution_count": 315,
     "metadata": {},
     "output_type": "execute_result"
    }
   ],
   "source": [
    "# Apply the symbology for the cities sum data layer\n",
    "arcpy.management.ApplySymbologyFromLayer(\n",
    "    in_layer = mapAreaCitiesLyrCities,\n",
    "    in_symbology_layer=os.path.join(layersTemplates, \"OCSWITRS Cities Summary.lyrx\"),\n",
    "    symbology_fields = [[\"VALUE_FIELD\", \"sum_victimCount\", \"sum_victimCount\"]],\n",
    "    update_symbology = \"MAINTAIN\"\n",
    ")"
   ]
  },
  {
   "cell_type": "markdown",
   "metadata": {},
   "source": [
    "<h3 style=\"font-weight:bold; color:lime; padding-left: 50px\">Layer CIM Operations</h3>"
   ]
  },
  {
   "cell_type": "markdown",
   "metadata": {},
   "source": [
    "Generate CIM JSON configuration for layers"
   ]
  },
  {
   "cell_type": "code",
   "execution_count": 316,
   "metadata": {},
   "outputs": [],
   "source": [
    "# Get CIM definitions for the cities map layers\n",
    "mapAreaCitiesCimBoundaries = mapAreaCitiesLyrBoundaries.getDefinition(\"V3\")\n",
    "mapAreaCitiesCimRoadsMajor = mapAreaCitiesLyrRoadsMajor.getDefinition(\"V3\")\n",
    "mapAreaCitiesCimCities = mapAreaCitiesLyrCities.getDefinition(\"V3\")"
   ]
  },
  {
   "cell_type": "markdown",
   "metadata": {},
   "source": [
    "Set symbology headings and update CIM definitions for layers"
   ]
  },
  {
   "cell_type": "code",
   "execution_count": 317,
   "metadata": {},
   "outputs": [],
   "source": [
    "# Set the layer headings\n",
    "mapAreaCitiesCimBoundaries.renderer.heading = \"Boundaries\"\n",
    "mapAreaCitiesCimRoadsMajor.renderer.heading = \"Major Roads\"\n",
    "mapAreaCitiesCimCities.renderer.heading = \"Victim Count\"\n",
    "\n",
    "# Update the map layer definitions\n",
    "mapAreaCitiesLyrBoundaries.setDefinition(mapAreaCitiesCimBoundaries)\n",
    "mapAreaCitiesLyrRoadsMajor.setDefinition(mapAreaCitiesCimRoadsMajor)\n",
    "mapAreaCitiesLyrCities.setDefinition(mapAreaCitiesCimCities)"
   ]
  },
  {
   "cell_type": "markdown",
   "metadata": {},
   "source": [
    "Update the CIM defintion for the city area map"
   ]
  },
  {
   "cell_type": "code",
   "execution_count": 318,
   "metadata": {},
   "outputs": [],
   "source": [
    "cimAreasCities = mapAreaCities.getDefinition(\"V3\")"
   ]
  },
  {
   "cell_type": "markdown",
   "metadata": {},
   "source": [
    "<h3 style=\"font-weight:bold; color:lime; padding-left: 50px\">Export Map and Map Layers</h3>"
   ]
  },
  {
   "cell_type": "markdown",
   "metadata": {},
   "source": [
    "Update the mapx file with the new layers"
   ]
  },
  {
   "cell_type": "code",
   "execution_count": 319,
   "metadata": {},
   "outputs": [
    {
     "name": "stdout",
     "output_type": "stream",
     "text": [
      "Exporting areaCities map to MAPX...\n",
      "Start Time: Thursday, February 27, 2025 1:56:06 PM\n",
      "Succeeded at Thursday, February 27, 2025 1:56:06 PM (Elapsed Time: 0.09 seconds)\n",
      "Exporting areaCities map to JSON...\n",
      "\n"
     ]
    }
   ],
   "source": [
    "# Update the Cities map mapx file\n",
    "exportCim(\"map\", mapAreaCities, \"areaCities\")"
   ]
  },
  {
   "cell_type": "markdown",
   "metadata": {},
   "source": [
    "Export map layers as CIM JSON `.lyrx` files to the layers folder directory of the project."
   ]
  },
  {
   "cell_type": "code",
   "execution_count": 320,
   "metadata": {},
   "outputs": [
    {
     "name": "stdout",
     "output_type": "stream",
     "text": [
      "Exporting OCSWITRS Major Roads layer to LYRX...\n",
      "Start Time: Thursday, February 27, 2025 1:56:06 PM\n",
      "Succeeded at Thursday, February 27, 2025 1:56:06 PM (Elapsed Time: 0.07 seconds)\n",
      "Exporting OCSWITRS Major Roads layer to JSON...\n",
      "\n",
      "Exporting OCSWITRS Cities Summary layer to LYRX...\n",
      "Start Time: Thursday, February 27, 2025 1:56:06 PM\n",
      "Succeeded at Thursday, February 27, 2025 1:56:06 PM (Elapsed Time: 0.07 seconds)\n",
      "Exporting OCSWITRS Cities Summary layer to JSON...\n",
      "\n",
      "Exporting OCSWITRS Boundaries layer to LYRX...\n",
      "Start Time: Thursday, February 27, 2025 1:56:07 PM\n",
      "Succeeded at Thursday, February 27, 2025 1:56:07 PM (Elapsed Time: 0.05 seconds)\n",
      "Exporting OCSWITRS Boundaries layer to JSON...\n",
      "\n"
     ]
    }
   ],
   "source": [
    "# Export the layers to JSON\n",
    "for l in mapAreaCities.listLayers():\n",
    "    if not l.isBasemapLayer:\n",
    "        exportCim(\"layer\", l, l.name)"
   ]
  },
  {
   "cell_type": "markdown",
   "metadata": {},
   "source": [
    "<h3 style=\"font-weight:bold; color:lime; padding-left: 50px\">Save Project</h3>"
   ]
  },
  {
   "cell_type": "code",
   "execution_count": 321,
   "metadata": {},
   "outputs": [],
   "source": [
    "# Save the project\n",
    "aprx.save()"
   ]
  },
  {
   "cell_type": "markdown",
   "metadata": {},
   "source": [
    "<h2 style=\"font-weight:bold; color:dodgerblue; border-bottom: 1px solid dodgerblue; padding-left: 25px\">3.22. Victims By Census Blocks Map Layers</h2>"
   ]
  },
  {
   "cell_type": "markdown",
   "metadata": {},
   "source": [
    "<h3 style=\"font-weight:bold; color:lime; padding-left: 50px\">Open Map View</h3>"
   ]
  },
  {
   "cell_type": "markdown",
   "metadata": {},
   "source": [
    "Open the census blocks map and set it as the active map"
   ]
  },
  {
   "cell_type": "code",
   "execution_count": 322,
   "metadata": {},
   "outputs": [],
   "source": [
    "# Close all previous map views\n",
    "aprx.closeViews()\n",
    "\n",
    "# Open the census blocks map view\n",
    "mapAreaBlocks.openView()\n",
    "\n",
    "# set the main map as active map\n",
    "map = aprx.activeMap"
   ]
  },
  {
   "cell_type": "markdown",
   "metadata": {},
   "source": [
    "Remove all layers from the active map"
   ]
  },
  {
   "cell_type": "code",
   "execution_count": 323,
   "metadata": {},
   "outputs": [],
   "source": [
    "# Remove all the layers from the map\n",
    "for lyr in mapAreaBlocks.listLayers():\n",
    "    if not lyr.isBasemapLayer:\n",
    "        print(f\"Removing layer: {lyr.name}\")\n",
    "        mapAreaBlocks.removeLayer(lyr)"
   ]
  },
  {
   "cell_type": "markdown",
   "metadata": {},
   "source": [
    "<h3 style=\"font-weight:bold; color:lime; padding-left: 50px\">Add Layers to Map</h3>"
   ]
  },
  {
   "cell_type": "markdown",
   "metadata": {},
   "source": [
    "Add the feature classes as layers to the map (in order, as the first layer goes to the bottom of the contents)"
   ]
  },
  {
   "cell_type": "code",
   "execution_count": 324,
   "metadata": {},
   "outputs": [],
   "source": [
    "# Add the data layers to the map\n",
    "mapAreaBlocksLyrBoundaries = mapAreaBlocks.addDataFromPath(boundaries)\n",
    "mapAreaBlocksLyrRoadsMajor = mapAreaBlocks.addDataFromPath(roadsMajor)\n",
    "mapAreaBlocksLyrCensusBlocks = mapAreaBlocks.addDataFromPath(censusBlocksSum)\n",
    "\n",
    "# Set layer visibility on the map\n",
    "mapAreaBlocksLyrBoundaries.visible = False\n",
    "mapAreaBlocksLyrRoadsMajor.visible = False\n",
    "mapAreaBlocksLyrCensusBlocks.visible = False"
   ]
  },
  {
   "cell_type": "markdown",
   "metadata": {},
   "source": [
    "<h3 style=\"font-weight:bold; color:lime; padding-left: 50px\">Layer Symbology</h3>"
   ]
  },
  {
   "cell_type": "markdown",
   "metadata": {},
   "source": [
    "Define symbology for each of the map layers. The symbology is predefined in the project's template layer folders."
   ]
  },
  {
   "cell_type": "markdown",
   "metadata": {},
   "source": [
    "- Boundaries layer"
   ]
  },
  {
   "cell_type": "code",
   "execution_count": 325,
   "metadata": {},
   "outputs": [
    {
     "data": {
      "text/html": [
       "<div class='gpresult'><h2 class='msg-title'>Messages</h2><div id='messages'>Start Time: Thursday, February 27, 2025 1:56:08 PM<br>Succeeded at Thursday, February 27, 2025 1:56:08 PM (Elapsed Time: 0.06 seconds)<br></div><div id = 'default' /></div></div>"
      ],
      "text/plain": [
       "<Result 'GPLYR_{7FADC87A-FBB1-4A12-90D7-C68C0CEFE2BB}'>"
      ]
     },
     "execution_count": 325,
     "metadata": {},
     "output_type": "execute_result"
    }
   ],
   "source": [
    "# Apply the symbology for the boundaries data layer\n",
    "arcpy.management.ApplySymbologyFromLayer(\n",
    "    in_layer = mapAreaBlocksLyrBoundaries,\n",
    "    in_symbology_layer = os.path.join(layersTemplates, \"OCSWITRS Boundaries.lyrx\"),\n",
    "    symbology_fields = None,\n",
    "    update_symbology = \"MAINTAIN\"\n",
    ")"
   ]
  },
  {
   "cell_type": "markdown",
   "metadata": {},
   "source": [
    "- Major Roads layer"
   ]
  },
  {
   "cell_type": "code",
   "execution_count": 326,
   "metadata": {},
   "outputs": [
    {
     "data": {
      "text/html": [
       "<div class='gpresult'><h2 class='msg-title'>Messages</h2><div id='messages'>Start Time: Thursday, February 27, 2025 1:56:08 PM<br>Succeeded at Thursday, February 27, 2025 1:56:08 PM (Elapsed Time: 0.06 seconds)<br></div><div id = 'default' /></div></div>"
      ],
      "text/plain": [
       "<Result 'GPLYR_{EF60882D-0ED4-411D-8266-590FF47442D7}'>"
      ]
     },
     "execution_count": 326,
     "metadata": {},
     "output_type": "execute_result"
    }
   ],
   "source": [
    "# Apply the symbology for the major roads data layer\n",
    "arcpy.management.ApplySymbologyFromLayer(\n",
    "    in_layer = mapAreaBlocksLyrRoadsMajor,\n",
    "    in_symbology_layer = os.path.join(layersTemplates, \"OCSWITRS Major Roads.lyrx\"),\n",
    "    symbology_fields = [[\"VALUE_FIELD\", \"roadCat\", \"roadCat\"]],\n",
    "    update_symbology = \"MAINTAIN\"\n",
    ")"
   ]
  },
  {
   "cell_type": "markdown",
   "metadata": {},
   "source": [
    "- Census Blocks Summary layer"
   ]
  },
  {
   "cell_type": "code",
   "execution_count": 327,
   "metadata": {},
   "outputs": [
    {
     "data": {
      "text/html": [
       "<div class='gpresult'><h2 class='msg-title'>Messages</h2><div id='messages'>Start Time: Thursday, February 27, 2025 1:56:08 PM<br>Succeeded at Thursday, February 27, 2025 1:56:08 PM (Elapsed Time: 0.08 seconds)<br></div><div id = 'default' /></div></div>"
      ],
      "text/plain": [
       "<Result 'GPLYR_{4FF752A2-0366-4FF0-88BD-0BF3EF201C35}'>"
      ]
     },
     "execution_count": 327,
     "metadata": {},
     "output_type": "execute_result"
    }
   ],
   "source": [
    "# Apply the symbology for the census blocks sum data layer\n",
    "arcpy.management.ApplySymbologyFromLayer(\n",
    "    in_layer = mapAreaBlocksLyrCensusBlocks,\n",
    "    in_symbology_layer=os.path.join(\n",
    "        layersTemplates, \"OCSWITRS Census Blocks Summary.lyrx\"),\n",
    "    symbology_fields=[[\"VALUE_FIELD\", \"sum_victimCount\", \"sum_victimCount\"]],\n",
    "    update_symbology=\"DEFAULT\"\n",
    ")"
   ]
  },
  {
   "cell_type": "markdown",
   "metadata": {},
   "source": [
    "<h3 style=\"font-weight:bold; color:lime; padding-left: 50px\">Layer CIM Operations</h3>"
   ]
  },
  {
   "cell_type": "markdown",
   "metadata": {},
   "source": [
    "Generate CIM JSON configuration for layers"
   ]
  },
  {
   "cell_type": "code",
   "execution_count": 328,
   "metadata": {},
   "outputs": [],
   "source": [
    "# Get CIM definitions for the blocks map layers\n",
    "mapAreaBlocksCimBoundaries = mapAreaBlocksLyrBoundaries.getDefinition(\"V3\")\n",
    "mapAreaBlocksCimRoadsMajor = mapAreaBlocksLyrRoadsMajor.getDefinition(\"V3\")\n",
    "mapAreaBlocksCimCensusBlocks = mapAreaBlocksLyrCensusBlocks.getDefinition(\"V3\")"
   ]
  },
  {
   "cell_type": "markdown",
   "metadata": {},
   "source": [
    "Set symbology headings and update CIM definitions for layers"
   ]
  },
  {
   "cell_type": "code",
   "execution_count": 329,
   "metadata": {},
   "outputs": [],
   "source": [
    "# Set the layer headings\n",
    "mapAreaBlocksCimBoundaries.renderer.heading = \"Boundaries\"\n",
    "mapAreaBlocksCimRoadsMajor.renderer.heading = \"Major Roads\"\n",
    "mapAreaBlocksCimCensusBlocks.renderer.heading = \"Victim Count\"\n",
    "\n",
    "# Update the map layer definitions\n",
    "mapAreaBlocksLyrBoundaries.setDefinition(mapAreaBlocksCimBoundaries)\n",
    "mapAreaBlocksLyrRoadsMajor.setDefinition(mapAreaBlocksCimRoadsMajor)\n",
    "mapAreaBlocksLyrCensusBlocks.setDefinition(mapAreaBlocksCimCensusBlocks)"
   ]
  },
  {
   "cell_type": "markdown",
   "metadata": {},
   "source": [
    "Update the CIM defintion for the major roads map"
   ]
  },
  {
   "cell_type": "code",
   "execution_count": 330,
   "metadata": {},
   "outputs": [],
   "source": [
    "cimAreaBlocks = mapAreaBlocks.getDefinition(\"V3\")"
   ]
  },
  {
   "cell_type": "markdown",
   "metadata": {},
   "source": [
    "<h3 style=\"font-weight:bold; color:lime; padding-left: 50px\">Export Map and Map Layers</h3>"
   ]
  },
  {
   "cell_type": "markdown",
   "metadata": {},
   "source": [
    "Update the mapx file with the new layers"
   ]
  },
  {
   "cell_type": "code",
   "execution_count": 331,
   "metadata": {},
   "outputs": [
    {
     "name": "stdout",
     "output_type": "stream",
     "text": [
      "Exporting areaBlocks map to MAPX...\n",
      "Start Time: Thursday, February 27, 2025 1:56:08 PM\n",
      "Succeeded at Thursday, February 27, 2025 1:56:08 PM (Elapsed Time: 0.08 seconds)\n",
      "Exporting areaBlocks map to JSON...\n",
      "\n"
     ]
    }
   ],
   "source": [
    "# Update the Blocks map mapx file\n",
    "exportCim(\"map\", mapAreaBlocks, \"areaBlocks\")"
   ]
  },
  {
   "cell_type": "markdown",
   "metadata": {},
   "source": [
    "Export map layers as CIM JSON `.lyrx` files to the layers folder directory of the project."
   ]
  },
  {
   "cell_type": "code",
   "execution_count": 332,
   "metadata": {},
   "outputs": [
    {
     "name": "stdout",
     "output_type": "stream",
     "text": [
      "Exporting OCSWITRS Major Roads layer to LYRX...\n",
      "Start Time: Thursday, February 27, 2025 1:56:09 PM\n",
      "Succeeded at Thursday, February 27, 2025 1:56:09 PM (Elapsed Time: 0.06 seconds)\n",
      "Exporting OCSWITRS Major Roads layer to JSON...\n",
      "\n",
      "Exporting OCSWITRS Census Blocks Summary layer to LYRX...\n",
      "Start Time: Thursday, February 27, 2025 1:56:09 PM\n",
      "Succeeded at Thursday, February 27, 2025 1:56:09 PM (Elapsed Time: 0.07 seconds)\n",
      "Exporting OCSWITRS Census Blocks Summary layer to JSON...\n",
      "\n",
      "Exporting OCSWITRS Boundaries layer to LYRX...\n",
      "Start Time: Thursday, February 27, 2025 1:56:09 PM\n",
      "Succeeded at Thursday, February 27, 2025 1:56:09 PM (Elapsed Time: 0.10 seconds)\n",
      "Exporting OCSWITRS Boundaries layer to JSON...\n",
      "\n"
     ]
    }
   ],
   "source": [
    "# Export the layers to JSON\n",
    "for l in mapAreaBlocks.listLayers():\n",
    "    if not l.isBasemapLayer:\n",
    "        exportCim(\"layer\", l, l.name)"
   ]
  },
  {
   "cell_type": "markdown",
   "metadata": {},
   "source": [
    "<h3 style=\"font-weight:bold; color:lime; padding-left: 50px\">Save Project</h3>"
   ]
  },
  {
   "cell_type": "code",
   "execution_count": 333,
   "metadata": {},
   "outputs": [],
   "source": [
    "# Save the project\n",
    "aprx.save()"
   ]
  },
  {
   "cell_type": "markdown",
   "metadata": {},
   "source": [
    "<h2 style=\"font-weight:bold; color:dodgerblue; border-bottom: 1px solid dodgerblue; padding-left: 25px\">3.23. Summaries Map Layers</h2>"
   ]
  },
  {
   "cell_type": "markdown",
   "metadata": {},
   "source": [
    "<h3 style=\"font-weight:bold; color:lime; padding-left: 50px\">Open Map View</h3>"
   ]
  },
  {
   "cell_type": "markdown",
   "metadata": {},
   "source": [
    "Close all open maps, open the summaries map and set it as the active map"
   ]
  },
  {
   "cell_type": "code",
   "execution_count": 334,
   "metadata": {},
   "outputs": [],
   "source": [
    "# Close all previous map views\n",
    "aprx.closeViews()\n",
    "\n",
    "# Open the summaries map view\n",
    "mapSummaries.openView()\n",
    "\n",
    "# set the main map as active map\n",
    "map = aprx.activeMap"
   ]
  },
  {
   "cell_type": "markdown",
   "metadata": {},
   "source": [
    "Remove all layers from the active map"
   ]
  },
  {
   "cell_type": "code",
   "execution_count": 335,
   "metadata": {},
   "outputs": [],
   "source": [
    "# Remove all the layers from the map\n",
    "for lyr in mapSummaries.listLayers():\n",
    "    if not lyr.isBasemapLayer:\n",
    "        print(f\"Removing layer: {lyr.name}\")\n",
    "        mapSummaries.removeLayer(lyr)"
   ]
  },
  {
   "cell_type": "markdown",
   "metadata": {},
   "source": [
    "<h3 style=\"font-weight:bold; color:lime; padding-left: 50px\">Add Layers to Map</h3>"
   ]
  },
  {
   "cell_type": "markdown",
   "metadata": {},
   "source": [
    "Add the feature classes as layers to the map (in order, as the first layer goes to the bottom of the contents)"
   ]
  },
  {
   "cell_type": "code",
   "execution_count": 336,
   "metadata": {},
   "outputs": [
    {
     "data": {
      "text/plain": [
       "True"
      ]
     },
     "execution_count": 336,
     "metadata": {},
     "output_type": "execute_result"
    }
   ],
   "source": [
    "# Add the data layers to the map\n",
    "mapSummariesLyrCensusBlocksSum = mapSummaries.addDataFromPath(censusBlocksSum)\n",
    "mapSummariesLyrCitiesSum = mapSummaries.addDataFromPath(citiesSum)\n",
    "mapSummariesLyrCrashes500ftFromMajorRoads = mapSummaries.addDataFromPath(crashes500ftFromMajorRoads)\n",
    "\n",
    "# Set layer visibility on the map\n",
    "mapSummariesLyrCensusBlocksSum.visible = False\n",
    "mapSummariesLyrCitiesSum.visible = False\n",
    "mapSummariesLyrCrashes500ftFromMajorRoads.visible = False\n",
    "\n",
    "# Move the layers\n",
    "mapSummaries.moveLayer(\n",
    "    reference_layer = mapSummariesLyrCensusBlocksSum,\n",
    "    move_layer = mapSummariesLyrCitiesSum,\n",
    "    insert_position=\"AFTER\"\n",
    ")"
   ]
  },
  {
   "cell_type": "markdown",
   "metadata": {},
   "source": [
    "<h3 style=\"font-weight:bold; color:lime; padding-left: 50px\">Layer Symbology</h3>"
   ]
  },
  {
   "cell_type": "markdown",
   "metadata": {},
   "source": [
    "Define symbology for each of the map layers. The symbology is predefined in the project's template layer folders."
   ]
  },
  {
   "cell_type": "markdown",
   "metadata": {},
   "source": [
    "- Census Block Summary layer"
   ]
  },
  {
   "cell_type": "code",
   "execution_count": 337,
   "metadata": {},
   "outputs": [
    {
     "name": "stdout",
     "output_type": "stream",
     "text": [
      "Start Time: Thursday, February 27, 2025 1:56:11 PM\n",
      "Succeeded at Thursday, February 27, 2025 1:56:11 PM (Elapsed Time: 0.08 seconds)\n"
     ]
    }
   ],
   "source": [
    "# Apply the symbology for the Census 2020 Blocks summary layer\n",
    "arcpy.management.ApplySymbologyFromLayer(\n",
    "    in_layer = mapSummariesLyrCensusBlocksSum,\n",
    "    in_symbology_layer=os.path.join(layersTemplates, \"OCSWITRS Census Blocks.lyrx\"),\n",
    "    symbology_fields = [[\"VALUE_FIELD\", \"populationDensity\", \"populationDensity\"]],\n",
    "    update_symbology = \"MAINTAIN\"\n",
    ")\n",
    "print(arcpy.GetMessages())"
   ]
  },
  {
   "cell_type": "markdown",
   "metadata": {},
   "source": [
    "- Cities Summary layer"
   ]
  },
  {
   "cell_type": "code",
   "execution_count": 338,
   "metadata": {},
   "outputs": [
    {
     "name": "stdout",
     "output_type": "stream",
     "text": [
      "Start Time: Thursday, February 27, 2025 1:56:11 PM\n",
      "Succeeded at Thursday, February 27, 2025 1:56:11 PM (Elapsed Time: 0.04 seconds)\n"
     ]
    }
   ],
   "source": [
    "# Apply the symbology for the Cities summary layer\n",
    "arcpy.management.ApplySymbologyFromLayer(\n",
    "    in_layer = mapSummariesLyrCitiesSum,\n",
    "    in_symbology_layer=os.path.join(layersTemplates, \"OCSWITRS Cities.lyrx\"),\n",
    "    symbology_fields = [[\"VALUE_FIELD\", \"cityPopDens\", \"cityPopDens\"]],\n",
    "    update_symbology = \"MAINTAIN\"\n",
    ")\n",
    "print(arcpy.GetMessages())"
   ]
  },
  {
   "cell_type": "markdown",
   "metadata": {},
   "source": [
    "- Crashes 500ft from Major Roads layer"
   ]
  },
  {
   "cell_type": "code",
   "execution_count": 339,
   "metadata": {},
   "outputs": [
    {
     "name": "stdout",
     "output_type": "stream",
     "text": [
      "Start Time: Thursday, February 27, 2025 1:56:11 PM\n",
      "Succeeded at Thursday, February 27, 2025 1:56:11 PM (Elapsed Time: 0.24 seconds)\n"
     ]
    }
   ],
   "source": [
    "# Apply the symbology for the Crashes 500ft from Major Roads data layer\n",
    "arcpy.management.ApplySymbologyFromLayer(\n",
    "    in_layer = mapSummariesLyrCrashes500ftFromMajorRoads,\n",
    "    in_symbology_layer=os.path.join(layersTemplates, \"OCSWITRS Collisions.lyrx\"),\n",
    "    symbology_fields = [[\"VALUE_FIELD\", \"collSeverity\", \"collSeverity\"]],\n",
    "    update_symbology = \"MAINTAIN\"\n",
    ")\n",
    "print(arcpy.GetMessages())"
   ]
  },
  {
   "cell_type": "markdown",
   "metadata": {},
   "source": [
    "<h3 style=\"font-weight:bold; color:lime; padding-left: 50px\">Layer CIM Operations</h3>"
   ]
  },
  {
   "cell_type": "markdown",
   "metadata": {},
   "source": [
    "Generate CIM JSON configuration for layers"
   ]
  },
  {
   "cell_type": "code",
   "execution_count": 340,
   "metadata": {},
   "outputs": [],
   "source": [
    "# Get CIM definitions for the summaries map layers\n",
    "mapSummariesCimCensusBlocksSum = mapSummariesLyrCensusBlocksSum.getDefinition(\"V3\")\n",
    "mapSummariesCimCitiesSum = mapSummariesLyrCitiesSum.getDefinition(\"V3\")\n",
    "mapSummariesCimCrashes500ftFromMajorRoads = mapSummariesLyrCrashes500ftFromMajorRoads.getDefinition(\"V3\")"
   ]
  },
  {
   "cell_type": "markdown",
   "metadata": {},
   "source": [
    "Set symbology headings and update CIM definitions for layers"
   ]
  },
  {
   "cell_type": "code",
   "execution_count": 341,
   "metadata": {},
   "outputs": [],
   "source": [
    "# Set the layer headings\n",
    "mapSummariesCimCensusBlocksSum.renderer.heading = \"Population Density\"\n",
    "mapSummariesCimCitiesSum.renderer.heading = \"City Population Density\"\n",
    "mapSummariesCimCrashes500ftFromMajorRoads.renderer.heading = \"Collision Severity\"\n",
    "\n",
    "# Update the map layer definitions\n",
    "mapSummariesLyrCensusBlocksSum.setDefinition(mapSummariesCimCensusBlocksSum)\n",
    "mapSummariesLyrCitiesSum.setDefinition(mapSummariesCimCitiesSum)\n",
    "mapSummariesLyrCrashes500ftFromMajorRoads.setDefinition(mapSummariesCimCrashes500ftFromMajorRoads)"
   ]
  },
  {
   "cell_type": "markdown",
   "metadata": {},
   "source": [
    "Update the CIM defintion for the summaries map"
   ]
  },
  {
   "cell_type": "code",
   "execution_count": 342,
   "metadata": {},
   "outputs": [],
   "source": [
    "summariesCim = mapSummaries.getDefinition(\"V3\")"
   ]
  },
  {
   "cell_type": "markdown",
   "metadata": {},
   "source": [
    "<h3 style=\"font-weight:bold; color:lime; padding-left: 50px\">Export Map and Map Layers</h3>"
   ]
  },
  {
   "cell_type": "markdown",
   "metadata": {},
   "source": [
    "Update the mapx file with the new layers"
   ]
  },
  {
   "cell_type": "code",
   "execution_count": 343,
   "metadata": {},
   "outputs": [
    {
     "name": "stdout",
     "output_type": "stream",
     "text": [
      "Exporting summaries map to MAPX...\n",
      "Start Time: Thursday, February 27, 2025 1:56:11 PM\n",
      "Succeeded at Thursday, February 27, 2025 1:56:11 PM (Elapsed Time: 0.24 seconds)\n",
      "Exporting summaries map to JSON...\n",
      "\n"
     ]
    }
   ],
   "source": [
    "# Update the victims map mapx file\n",
    "exportCim(\"map\", mapSummaries, \"summaries\")"
   ]
  },
  {
   "cell_type": "markdown",
   "metadata": {},
   "source": [
    "Export map layers as CIM JSON `.lyrx` files to the layers folder directory of the project."
   ]
  },
  {
   "cell_type": "code",
   "execution_count": 344,
   "metadata": {},
   "outputs": [
    {
     "name": "stdout",
     "output_type": "stream",
     "text": [
      "Exporting OCSWITRS Crashes 500 Feet from Major Roads layer to LYRX...\n",
      "Start Time: Thursday, February 27, 2025 1:56:12 PM\n",
      "Succeeded at Thursday, February 27, 2025 1:56:12 PM (Elapsed Time: 0.10 seconds)\n",
      "Exporting OCSWITRS Crashes 500 Feet from Major Roads layer to JSON...\n",
      "\n",
      "Exporting OCSWITRS Census Blocks Summary layer to LYRX...\n",
      "Start Time: Thursday, February 27, 2025 1:56:12 PM\n",
      "Succeeded at Thursday, February 27, 2025 1:56:12 PM (Elapsed Time: 0.06 seconds)\n",
      "Exporting OCSWITRS Census Blocks Summary layer to JSON...\n",
      "\n",
      "Exporting OCSWITRS Cities Summary layer to LYRX...\n",
      "Start Time: Thursday, February 27, 2025 1:56:12 PM\n",
      "Succeeded at Thursday, February 27, 2025 1:56:12 PM (Elapsed Time: 0.07 seconds)\n",
      "Exporting OCSWITRS Cities Summary layer to JSON...\n",
      "\n"
     ]
    }
   ],
   "source": [
    "# Export the layers to JSON\n",
    "for l in mapSummaries.listLayers():\n",
    "    if not l.isBasemapLayer:\n",
    "        exportCim(\"layer\", l, l.name)"
   ]
  },
  {
   "cell_type": "markdown",
   "metadata": {},
   "source": [
    "<h3 style=\"font-weight:bold; color:lime; padding-left: 50px\">Save Project</h3>"
   ]
  },
  {
   "cell_type": "code",
   "execution_count": 345,
   "metadata": {},
   "outputs": [],
   "source": [
    "# Save the project\n",
    "aprx.save()"
   ]
  },
  {
   "cell_type": "markdown",
   "metadata": {},
   "source": [
    "<h2 style=\"font-weight:bold; color:dodgerblue; border-bottom: 1px solid dodgerblue; padding-left: 25px\">3.24. Analysis Map Layers</h2>"
   ]
  },
  {
   "cell_type": "markdown",
   "metadata": {},
   "source": [
    "<h3 style=\"font-weight:bold; color:lime; padding-left: 50px\">Open Map View</h3>"
   ]
  },
  {
   "cell_type": "markdown",
   "metadata": {},
   "source": [
    "Close all open maps, open the analysis map and set it as the active map"
   ]
  },
  {
   "cell_type": "code",
   "execution_count": 346,
   "metadata": {},
   "outputs": [],
   "source": [
    "# Close all previous map views\n",
    "aprx.closeViews()\n",
    "\n",
    "# Open the analysis map view\n",
    "mapAnalysis.openView()\n",
    "\n",
    "# set the main map as active map\n",
    "map = aprx.activeMap"
   ]
  },
  {
   "cell_type": "markdown",
   "metadata": {},
   "source": [
    "Remove all layers from the active map"
   ]
  },
  {
   "cell_type": "code",
   "execution_count": 347,
   "metadata": {},
   "outputs": [],
   "source": [
    "# Remove all the layers from the map\n",
    "for lyr in mapAnalysis.listLayers():\n",
    "    if not lyr.isBasemapLayer:\n",
    "        print(f\"Removing layer: {lyr.name}\")\n",
    "        mapAnalysis.removeLayer(lyr)"
   ]
  },
  {
   "cell_type": "markdown",
   "metadata": {},
   "source": [
    "<h3 style=\"font-weight:bold; color:lime; padding-left: 50px\">Add Layers to Map</h3>"
   ]
  },
  {
   "cell_type": "markdown",
   "metadata": {},
   "source": [
    "Add the feature classes as layers to the map (in order, as the first layer goes to the bottom of the contents)"
   ]
  },
  {
   "cell_type": "code",
   "execution_count": 348,
   "metadata": {},
   "outputs": [],
   "source": [
    "# Add the data layers to the map\n",
    "mapAnalysisLyrCrashesHotspots = mapAnalysis.addDataFromPath(crashesHotspots)\n",
    "mapAnalysisLyrCrashesOptimizedHotspots = mapAnalysis.addDataFromPath(crashesOptimizedHotspots)\n",
    "\n",
    "# Set layer visibility on the map\n",
    "mapAnalysisLyrCrashesHotspots.visible = False\n",
    "mapAnalysisLyrCrashesOptimizedHotspots.visible = False"
   ]
  },
  {
   "cell_type": "markdown",
   "metadata": {},
   "source": [
    "<h3 style=\"font-weight:bold; color:lime; padding-left: 50px\">Layer Symbology</h3>"
   ]
  },
  {
   "cell_type": "markdown",
   "metadata": {},
   "source": [
    "Define symbology for each of the map layers. The symbology is predefined in the project's template layer folders."
   ]
  },
  {
   "cell_type": "markdown",
   "metadata": {},
   "source": [
    "<h3 style=\"font-weight:bold; color:lime; padding-left: 50px\">Layer CIM Operations</h3>"
   ]
  },
  {
   "cell_type": "markdown",
   "metadata": {},
   "source": [
    "Update the CIM defintion for the analysis map"
   ]
  },
  {
   "cell_type": "code",
   "execution_count": 349,
   "metadata": {},
   "outputs": [],
   "source": [
    "analysisCim = mapAnalysis.getDefinition(\"V3\")"
   ]
  },
  {
   "cell_type": "markdown",
   "metadata": {},
   "source": [
    "Generate CIM JSON configuration for layers"
   ]
  },
  {
   "cell_type": "code",
   "execution_count": 350,
   "metadata": {},
   "outputs": [],
   "source": [
    "# Get CIM definitions for the analysis map layers\n",
    "mapAnalysisCimCrashesHotspots = mapAnalysisLyrCrashesHotspots.getDefinition(\"V3\")\n",
    "mapAnalysisCimCrashesOptimizedHotspots = mapAnalysisLyrCrashesOptimizedHotspots.getDefinition(\"V3\")"
   ]
  },
  {
   "cell_type": "markdown",
   "metadata": {},
   "source": [
    "<h3 style=\"font-weight:bold; color:lime; padding-left: 50px\">Export Map and Map Layers</h3>"
   ]
  },
  {
   "cell_type": "markdown",
   "metadata": {},
   "source": [
    "Update the mapx file with the new layers"
   ]
  },
  {
   "cell_type": "code",
   "execution_count": 351,
   "metadata": {},
   "outputs": [
    {
     "name": "stdout",
     "output_type": "stream",
     "text": [
      "Exporting analysis map to MAPX...\n",
      "Start Time: Thursday, February 27, 2025 1:56:12 PM\n",
      "Succeeded at Thursday, February 27, 2025 1:56:12 PM (Elapsed Time: 0.07 seconds)\n",
      "Exporting analysis map to JSON...\n",
      "\n"
     ]
    }
   ],
   "source": [
    "# Update the victims map mapx file\n",
    "exportCim(\"map\", mapAnalysis, \"analysis\")"
   ]
  },
  {
   "cell_type": "markdown",
   "metadata": {},
   "source": [
    "Export map layers as CIM JSON `.lyrx` files to the layers folder directory of the project."
   ]
  },
  {
   "cell_type": "code",
   "execution_count": 352,
   "metadata": {},
   "outputs": [
    {
     "name": "stdout",
     "output_type": "stream",
     "text": [
      "Exporting OCSWITRS Crashes Optimized Hot Spots layer to LYRX...\n",
      "Start Time: Thursday, February 27, 2025 1:56:14 PM\n",
      "Succeeded at Thursday, February 27, 2025 1:56:14 PM (Elapsed Time: 0.08 seconds)\n",
      "Exporting OCSWITRS Crashes Optimized Hot Spots layer to JSON...\n",
      "\n",
      "Exporting OCSWITRS Crashes Hot Spots layer to LYRX...\n",
      "Start Time: Thursday, February 27, 2025 1:56:14 PM\n",
      "Succeeded at Thursday, February 27, 2025 1:56:14 PM (Elapsed Time: 0.09 seconds)\n",
      "Exporting OCSWITRS Crashes Hot Spots layer to JSON...\n",
      "\n"
     ]
    }
   ],
   "source": [
    "# Export the layers to JSON\n",
    "for l in mapAnalysis.listLayers():\n",
    "    if not l.isBasemapLayer:\n",
    "        exportCim(\"layer\", l, l.name)"
   ]
  },
  {
   "cell_type": "markdown",
   "metadata": {},
   "source": [
    "<h3 style=\"font-weight:bold; color:lime; padding-left: 50px\">Save Project</h3>"
   ]
  },
  {
   "cell_type": "code",
   "execution_count": 353,
   "metadata": {},
   "outputs": [],
   "source": [
    "# Save the project\n",
    "aprx.save()"
   ]
  },
  {
   "cell_type": "markdown",
   "metadata": {},
   "source": [
    "<h2 style=\"font-weight:bold; color:dodgerblue; border-bottom: 1px solid dodgerblue; padding-left: 25px\">3.25. Regression Map Layers</h2>"
   ]
  },
  {
   "cell_type": "markdown",
   "metadata": {},
   "source": [
    "<h3 style=\"font-weight:bold; color:lime; padding-left: 50px\">Open Map View</h3>"
   ]
  },
  {
   "cell_type": "markdown",
   "metadata": {},
   "source": [
    "Close all open maps, open the regression map and set it as the active map"
   ]
  },
  {
   "cell_type": "code",
   "execution_count": 354,
   "metadata": {},
   "outputs": [],
   "source": [
    "# Close all previous map views\n",
    "aprx.closeViews()\n",
    "\n",
    "# Open the regression map view\n",
    "mapRegression.openView()\n",
    "\n",
    "# set the main map as active map\n",
    "map = aprx.activeMap"
   ]
  },
  {
   "cell_type": "markdown",
   "metadata": {},
   "source": [
    "Remove all layers from the active map"
   ]
  },
  {
   "cell_type": "code",
   "execution_count": 355,
   "metadata": {},
   "outputs": [],
   "source": [
    "# Remove all the layers from the map\n",
    "for lyr in mapRegression.listLayers():\n",
    "    if not lyr.isBasemapLayer:\n",
    "        print(f\"Removing layer: {lyr.name}\")\n",
    "        mapRegression.removeLayer(lyr)"
   ]
  },
  {
   "cell_type": "markdown",
   "metadata": {},
   "source": [
    "<h3 style=\"font-weight:bold; color:lime; padding-left: 50px\">Add Layers to Map</h3>"
   ]
  },
  {
   "cell_type": "markdown",
   "metadata": {},
   "source": [
    "Add the feature classes as layers to the map (in order, as the first layer goes to the bottom of the contents)"
   ]
  },
  {
   "cell_type": "code",
   "execution_count": 356,
   "metadata": {},
   "outputs": [],
   "source": [
    "# Add the data layers to the map\n",
    "mapRegressionLyrBoundaries = mapRegression.addDataFromPath(boundaries)\n",
    "mapRegressionLyrCities = mapRegression.addDataFromPath(cities)\n",
    "mapRegressionLyrCensusBlocks = mapRegression.addDataFromPath(censusBlocks)\n",
    "mapRegressionLyrRoads = mapRegression.addDataFromPath(roads)\n",
    "\n",
    "# Set layer visibility on the map\n",
    "mapRegressionLyrBoundaries.visible = False\n",
    "mapRegressionLyrCities.visible = False\n",
    "mapRegressionLyrCensusBlocks.visible = False\n",
    "mapRegressionLyrRoads.visible = False"
   ]
  },
  {
   "cell_type": "markdown",
   "metadata": {},
   "source": [
    "<h3 style=\"font-weight:bold; color:lime; padding-left: 50px\">Layer Symbology</h3>"
   ]
  },
  {
   "cell_type": "markdown",
   "metadata": {},
   "source": [
    "Define symbology for each of the map layers. The symbology is predefined in the project's template layer folders."
   ]
  },
  {
   "cell_type": "markdown",
   "metadata": {},
   "source": [
    "- Roads layer"
   ]
  },
  {
   "cell_type": "code",
   "execution_count": 357,
   "metadata": {},
   "outputs": [
    {
     "name": "stdout",
     "output_type": "stream",
     "text": [
      "Start Time: Thursday, February 27, 2025 1:56:15 PM\n",
      "Succeeded at Thursday, February 27, 2025 1:56:15 PM (Elapsed Time: 0.06 seconds)\n"
     ]
    }
   ],
   "source": [
    "# Apply the symbology for the Roads data layer\n",
    "arcpy.management.ApplySymbologyFromLayer(\n",
    "    in_layer = mapRegressionLyrRoads,\n",
    "    in_symbology_layer = os.path.join(layersTemplates, \"OCSWITRS Roads.lyrx\"),\n",
    "    symbology_fields = [[\"VALUE_FIELD\", \"roadCat\", \"roadCat\"]],\n",
    "    update_symbology = \"MAINTAIN\"\n",
    ")\n",
    "print(arcpy.GetMessages())"
   ]
  },
  {
   "cell_type": "markdown",
   "metadata": {},
   "source": [
    "- Census Blocks layer"
   ]
  },
  {
   "cell_type": "code",
   "execution_count": 358,
   "metadata": {},
   "outputs": [
    {
     "name": "stdout",
     "output_type": "stream",
     "text": [
      "Start Time: Thursday, February 27, 2025 1:56:16 PM\n",
      "Succeeded at Thursday, February 27, 2025 1:56:16 PM (Elapsed Time: 0.06 seconds)\n"
     ]
    }
   ],
   "source": [
    "# Apply the symbology for the US Census 2020 Blocks data layer\n",
    "arcpy.management.ApplySymbologyFromLayer(\n",
    "    in_layer = mapRegressionLyrCensusBlocks,\n",
    "    in_symbology_layer = os.path.join(layersTemplates, \"OCSWITRS Census Blocks.lyrx\"),\n",
    "    symbology_fields = [[\"VALUE_FIELD\", \"populationDensity\", \"populationDensity\"]],\n",
    "    update_symbology = \"MAINTAIN\"\n",
    ")\n",
    "print(arcpy.GetMessages())"
   ]
  },
  {
   "cell_type": "markdown",
   "metadata": {},
   "source": [
    "- Cities layer"
   ]
  },
  {
   "cell_type": "code",
   "execution_count": 359,
   "metadata": {},
   "outputs": [
    {
     "name": "stdout",
     "output_type": "stream",
     "text": [
      "Start Time: Thursday, February 27, 2025 1:56:16 PM\n",
      "Succeeded at Thursday, February 27, 2025 1:56:16 PM (Elapsed Time: 0.11 seconds)\n"
     ]
    }
   ],
   "source": [
    "# Apply the symbology for the Cities data layer\n",
    "arcpy.management.ApplySymbologyFromLayer(\n",
    "    in_layer = mapRegressionLyrCities,\n",
    "    in_symbology_layer = os.path.join(layersTemplates, \"OCSWITRS Cities.lyrx\"),\n",
    "    symbology_fields = [[\"VALUE_FIELD\", \"cityPopDens\", \"cityPopDens\"]],\n",
    "    update_symbology = \"MAINTAIN\"\n",
    ")\n",
    "print(arcpy.GetMessages())"
   ]
  },
  {
   "cell_type": "markdown",
   "metadata": {},
   "source": [
    "- Boundaries layer"
   ]
  },
  {
   "cell_type": "code",
   "execution_count": 360,
   "metadata": {},
   "outputs": [
    {
     "name": "stdout",
     "output_type": "stream",
     "text": [
      "Start Time: Thursday, February 27, 2025 1:56:16 PM\n",
      "Succeeded at Thursday, February 27, 2025 1:56:16 PM (Elapsed Time: 0.04 seconds)\n"
     ]
    }
   ],
   "source": [
    "# Apply the symbology for the Boundaries data layer\n",
    "arcpy.management.ApplySymbologyFromLayer(\n",
    "    in_layer = mapRegressionLyrBoundaries,\n",
    "    in_symbology_layer = os.path.join(layersTemplates, \"OCSWITRS Boundaries.lyrx\"),\n",
    "    symbology_fields = None,\n",
    "    update_symbology = \"MAINTAIN\"\n",
    ")\n",
    "print(arcpy.GetMessages())"
   ]
  },
  {
   "cell_type": "markdown",
   "metadata": {},
   "source": [
    "<h3 style=\"font-weight:bold; color:lime; padding-left: 50px\">Layer CIM Operations</h3>"
   ]
  },
  {
   "cell_type": "markdown",
   "metadata": {},
   "source": [
    "Generate CIM JSON configuration for layers"
   ]
  },
  {
   "cell_type": "code",
   "execution_count": 361,
   "metadata": {},
   "outputs": [],
   "source": [
    "# Get CIM definitions for the regression map layers\n",
    "mapRegressionCimBoundaries = mapRegressionLyrBoundaries.getDefinition(\"V3\")\n",
    "mapRegressionCimCities = mapRegressionLyrCities.getDefinition(\"V3\")\n",
    "mapRegressionCimCensusBlocks = mapRegressionLyrCensusBlocks.getDefinition(\"V3\")\n",
    "mapRegressionCimRoads = mapRegressionLyrRoads.getDefinition(\"V3\")"
   ]
  },
  {
   "cell_type": "markdown",
   "metadata": {},
   "source": [
    "Set symbology headings and update CIM definitions for layers"
   ]
  },
  {
   "cell_type": "code",
   "execution_count": 362,
   "metadata": {},
   "outputs": [],
   "source": [
    "# Set the layer headings\n",
    "mapRegressionCimBoundaries.renderer.heading = \"Boundaries\"\n",
    "mapRegressionCimCities.renderer.heading = \"Cities\"\n",
    "mapRegressionCimCensusBlocks.renderer.heading = \"Census Blocks\"\n",
    "mapRegressionCimRoads.renderer.heading = \"Roads\"\n",
    "\n",
    "# Update the map layer definitions\n",
    "mapRegressionLyrBoundaries.setDefinition(mapRegressionCimBoundaries)\n",
    "mapRegressionLyrCities.setDefinition(mapRegressionCimCities)\n",
    "mapRegressionLyrCensusBlocks.setDefinition(mapRegressionCimCensusBlocks)\n",
    "mapRegressionLyrRoads.setDefinition(mapRegressionCimRoads)"
   ]
  },
  {
   "cell_type": "markdown",
   "metadata": {},
   "source": [
    "Update the CIM defintion for the regression map"
   ]
  },
  {
   "cell_type": "code",
   "execution_count": 363,
   "metadata": {},
   "outputs": [],
   "source": [
    "cimRegression = mapRegression.getDefinition(\"V3\")"
   ]
  },
  {
   "cell_type": "markdown",
   "metadata": {},
   "source": [
    "<h3 style=\"font-weight:bold; color:lime; padding-left: 50px\">Export Map and Map Layers</h3>"
   ]
  },
  {
   "cell_type": "markdown",
   "metadata": {},
   "source": [
    "Update the mapx file with the new layers"
   ]
  },
  {
   "cell_type": "code",
   "execution_count": 364,
   "metadata": {},
   "outputs": [
    {
     "name": "stdout",
     "output_type": "stream",
     "text": [
      "Exporting regression map to MAPX...\n",
      "Start Time: Thursday, February 27, 2025 1:56:16 PM\n",
      "Succeeded at Thursday, February 27, 2025 1:56:16 PM (Elapsed Time: 0.04 seconds)\n",
      "Exporting regression map to JSON...\n",
      "\n"
     ]
    }
   ],
   "source": [
    "# Update the victims map mapx file\n",
    "exportCim(\"map\", mapRegression, \"regression\")"
   ]
  },
  {
   "cell_type": "markdown",
   "metadata": {},
   "source": [
    "Export map layers as CIM JSON `.lyrx` files to the layers folder directory of the project."
   ]
  },
  {
   "cell_type": "code",
   "execution_count": 365,
   "metadata": {},
   "outputs": [
    {
     "name": "stdout",
     "output_type": "stream",
     "text": [
      "Exporting OCSWITRS Roads layer to LYRX...\n",
      "Start Time: Thursday, February 27, 2025 1:56:17 PM\n",
      "Succeeded at Thursday, February 27, 2025 1:56:17 PM (Elapsed Time: 0.08 seconds)\n",
      "Exporting OCSWITRS Roads layer to JSON...\n",
      "\n",
      "Exporting OCSWITRS Census Blocks layer to LYRX...\n",
      "Start Time: Thursday, February 27, 2025 1:56:17 PM\n",
      "Succeeded at Thursday, February 27, 2025 1:56:17 PM (Elapsed Time: 0.07 seconds)\n",
      "Exporting OCSWITRS Census Blocks layer to JSON...\n",
      "\n",
      "Exporting OCSWITRS Cities layer to LYRX...\n",
      "Start Time: Thursday, February 27, 2025 1:56:17 PM\n",
      "Succeeded at Thursday, February 27, 2025 1:56:17 PM (Elapsed Time: 0.06 seconds)\n",
      "Exporting OCSWITRS Cities layer to JSON...\n",
      "\n",
      "Exporting OCSWITRS Boundaries layer to LYRX...\n",
      "Start Time: Thursday, February 27, 2025 1:56:17 PM\n",
      "Succeeded at Thursday, February 27, 2025 1:56:17 PM (Elapsed Time: 0.05 seconds)\n",
      "Exporting OCSWITRS Boundaries layer to JSON...\n",
      "\n"
     ]
    }
   ],
   "source": [
    "# Export the layers to JSON\n",
    "for l in mapRegression.listLayers():\n",
    "    if not l.isBasemapLayer:\n",
    "        exportCim(\"layer\", l, l.name)"
   ]
  },
  {
   "cell_type": "markdown",
   "metadata": {},
   "source": [
    "<h3 style=\"font-weight:bold; color:lime; padding-left: 50px\">Save Project</h3>"
   ]
  },
  {
   "cell_type": "code",
   "execution_count": 366,
   "metadata": {},
   "outputs": [],
   "source": [
    "# Save the project\n",
    "aprx.save()"
   ]
  },
  {
   "cell_type": "markdown",
   "metadata": {},
   "source": [
    "<h1 style=\"font-weight:bold; color:orangered; border-bottom: 2px solid orangered\">4. Map CIM and Exporting</h1>"
   ]
  },
  {
   "cell_type": "markdown",
   "metadata": {},
   "source": [
    "<h2 style=\"font-weight:bold; color:dodgerblue; border-bottom: 1px solid dodgerblue; padding-left: 25px\">4.1. Map CIM Processing</h2>"
   ]
  },
  {
   "cell_type": "markdown",
   "metadata": {},
   "source": [
    "<h3 style=\"font-weight:bold; color:lime; padding-left: 50px\">Get Map CIM</h3>"
   ]
  },
  {
   "cell_type": "markdown",
   "metadata": {},
   "source": [
    "For each map, obtain the map CIM object"
   ]
  },
  {
   "cell_type": "code",
   "execution_count": 367,
   "metadata": {},
   "outputs": [],
   "source": [
    "# Get the CIM definitions for the OCSWIRS maps\n",
    "cimCollisions = mapCollisions.getDefinition(\"V3\")\n",
    "cimCrashes = mapCollisions.getDefinition(\"V3\")\n",
    "cimParties = mapCollisions.getDefinition(\"V3\")\n",
    "cimVictims = mapVictims.getDefinition(\"V3\")\n",
    "cimInjuries = mapInjuries.getDefinition(\"V3\")\n",
    "cimFatalities = mapFatalities.getDefinition(\"V3\")\n",
    "cimFhs100m1km = mapFhs100m1km.getDefinition(\"V3\")\n",
    "cimFhs150m2km = mapFhs150m2km.getDefinition(\"V3\")\n",
    "cimFhs100m5km = mapFhs100m5km.getDefinition(\"V3\")\n",
    "cimFhsRoads500ft = mapFhsRoads500ft.getDefinition(\"V3\")\n",
    "cimOhsRoads500ft = mapOhsRoads500ft.getDefinition(\"V3\")\n",
    "cimRoadCrashes = mapRoadCrashes.getDefinition(\"V3\")\n",
    "cimRoadHotspots = mapRoadHotspots.getDefinition(\"V3\")\n",
    "cimRoadBuffers = mapRoadBuffers.getDefinition(\"V3\")\n",
    "cimRoadSegments = mapRoadSegments.getDefinition(\"V3\")\n",
    "cimRoads = mapRoads.getDefinition(\"V3\")\n",
    "cimPointFhs = mapPointFhs.getDefinition(\"V3\")\n",
    "cimPointOhs = mapPointOhs.getDefinition(\"V3\")\n",
    "cimPopDens = mapPopDens.getDefinition(\"V3\")\n",
    "cimHouDens = mapHouDens.getDefinition(\"V3\")\n",
    "cimAreaCities = mapAreaCities.getDefinition(\"V3\")\n",
    "cimAreaBlocks = mapAreaBlocks.getDefinition(\"V3\")\n",
    "cimSummaries = mapSummaries.getDefinition(\"V3\")\n",
    "cimAnalysis = mapAnalysis.getDefinition(\"V3\")\n",
    "cimRegression = mapRegression.getDefinition(\"V3\")"
   ]
  },
  {
   "cell_type": "markdown",
   "metadata": {},
   "source": [
    "<h3 style=\"font-weight:bold; color:lime; padding-left: 50px\">Use Service Layer IDs</h3>"
   ]
  },
  {
   "cell_type": "markdown",
   "metadata": {},
   "source": [
    "Change the map properties to allow assignment of unique numeric IDs for sharing web layers"
   ]
  },
  {
   "cell_type": "code",
   "execution_count": 368,
   "metadata": {},
   "outputs": [],
   "source": [
    "# Collisions Map\n",
    "cimCollisions.useServiceLayerIDs = True\n",
    "mapCollisions.setDefinition(cimCollisions)\n",
    "# Crashes Map\n",
    "cimCrashes.useServiceLayerIDs = True\n",
    "mapCrashes.setDefinition(cimCrashes)\n",
    "# Parties Map\n",
    "cimParties.useServiceLayerIDs = True\n",
    "mapParties.setDefinition(cimParties)\n",
    "# Victims Map\n",
    "cimVictims.useServiceLayerIDs = True\n",
    "mapVictims.setDefinition(cimVictims)\n",
    "# Injuries Map\n",
    "cimInjuries.useServiceLayerIDs = True\n",
    "mapInjuries.setDefinition(cimInjuries)\n",
    "# Fatalities Map\n",
    "cimFatalities.useServiceLayerIDs = True\n",
    "mapFatalities.setDefinition(cimFatalities)\n",
    "# FHS 100m 1km Map\n",
    "cimFhs100m1km.useServiceLayerIDs = True\n",
    "mapFhs100m1km.setDefinition(cimFhs100m1km)\n",
    "# FHS 150m 2km Map\n",
    "cimFhs150m2km.useServiceLayerIDs = True\n",
    "mapFhs150m2km.setDefinition(cimFhs150m2km)\n",
    "# FHS 100m 5km Map\n",
    "cimFhs100m5km.useServiceLayerIDs = True\n",
    "mapFhs100m5km.setDefinition(cimFhs100m5km)\n",
    "# FHS Roads 500ft Map\n",
    "cimFhsRoads500ft.useServiceLayerIDs = True\n",
    "mapFhsRoads500ft.setDefinition(cimFhsRoads500ft)\n",
    "# OHS Roads 500ft Map\n",
    "cimOhsRoads500ft.useServiceLayerIDs = True\n",
    "mapOhsRoads500ft.setDefinition(cimOhsRoads500ft)\n",
    "# Road Crashes Map\n",
    "cimRoadCrashes.useServiceLayerIDs = True\n",
    "mapRoadCrashes.setDefinition(cimRoadCrashes)\n",
    "# Road Hotspots Map\n",
    "cimRoadHotspots.useServiceLayerIDs = True\n",
    "mapRoadHotspots.setDefinition(cimRoadHotspots)\n",
    "# Road Buffers Map\n",
    "cimRoadBuffers.useServiceLayerIDs = True\n",
    "mapRoadBuffers.setDefinition(cimRoadBuffers)\n",
    "# Road Segments Map\n",
    "cimRoadSegments.useServiceLayerIDs = True\n",
    "mapRoadSegments.setDefinition(cimRoadSegments)\n",
    "# Roads Map\n",
    "cimRoads.useServiceLayerIDs = True\n",
    "mapRoads.setDefinition(cimRoads)\n",
    "# Point FHS Map\n",
    "cimPointFhs.useServiceLayerIDs = True\n",
    "mapPointFhs.setDefinition(cimPointFhs)\n",
    "# Point OHS Map\n",
    "cimPointOhs.useServiceLayerIDs = True\n",
    "mapPointOhs.setDefinition(cimPointOhs)\n",
    "# Population Density Map\n",
    "cimPopDens.useServiceLayerIDs = True\n",
    "mapPopDens.setDefinition(cimPopDens)\n",
    "# Housing Density Map\n",
    "cimHouDens.useServiceLayerIDs = True\n",
    "mapHouDens.setDefinition(cimHouDens)\n",
    "# Area Cities Map\n",
    "cimAreaCities.useServiceLayerIDs = True\n",
    "mapAreaCities.setDefinition(cimAreaCities)\n",
    "# Area Blocks Map\n",
    "cimAreaBlocks.useServiceLayerIDs = True\n",
    "mapAreaBlocks.setDefinition(cimAreaBlocks)\n",
    "# Summaries Map\n",
    "cimSummaries.useServiceLayerIDs = True\n",
    "mapSummaries.setDefinition(cimSummaries)\n",
    "# Analysis Map\n",
    "cimAnalysis.useServiceLayerIDs = True\n",
    "mapAnalysis.setDefinition(cimAnalysis)\n",
    "# Regression Map\n",
    "cimRegression.useServiceLayerIDs = True\n",
    "mapRegression.setDefinition(cimRegression)"
   ]
  },
  {
   "cell_type": "markdown",
   "metadata": {},
   "source": [
    "<h2 style=\"font-weight:bold; color:dodgerblue; border-bottom: 1px solid dodgerblue; padding-left: 25px\">4.2. Export Maps to JSON</h2>"
   ]
  },
  {
   "cell_type": "markdown",
   "metadata": {},
   "source": [
    "Export maps to mapx CIM JSON files"
   ]
  },
  {
   "cell_type": "code",
   "execution_count": 369,
   "metadata": {},
   "outputs": [
    {
     "name": "stdout",
     "output_type": "stream",
     "text": [
      "Exporting analysis map...\n",
      "Exporting analysis map to MAPX...\n",
      "Start Time: Thursday, February 27, 2025 1:56:17 PM\n",
      "Succeeded at Thursday, February 27, 2025 1:56:17 PM (Elapsed Time: 0.05 seconds)\n",
      "Exporting analysis map to JSON...\n",
      "\n",
      "Exporting areaBlocks map...\n",
      "Exporting areaBlocks map to MAPX...\n",
      "Start Time: Thursday, February 27, 2025 1:56:17 PM\n",
      "Succeeded at Thursday, February 27, 2025 1:56:17 PM (Elapsed Time: 0.05 seconds)\n",
      "Exporting areaBlocks map to JSON...\n",
      "\n",
      "Exporting areaCities map...\n",
      "Exporting areaCities map to MAPX...\n",
      "Start Time: Thursday, February 27, 2025 1:56:17 PM\n",
      "Succeeded at Thursday, February 27, 2025 1:56:17 PM (Elapsed Time: 0.05 seconds)\n",
      "Exporting areaCities map to JSON...\n",
      "\n",
      "Exporting collisions map...\n",
      "Exporting collisions map to MAPX...\n",
      "Start Time: Thursday, February 27, 2025 1:56:17 PM\n",
      "Succeeded at Thursday, February 27, 2025 1:56:17 PM (Elapsed Time: 0.05 seconds)\n",
      "Exporting collisions map to JSON...\n",
      "\n",
      "Exporting crashes map...\n",
      "Exporting crashes map to MAPX...\n",
      "Start Time: Thursday, February 27, 2025 1:56:17 PM\n",
      "Succeeded at Thursday, February 27, 2025 1:56:17 PM (Elapsed Time: 0.05 seconds)\n",
      "Exporting crashes map to JSON...\n",
      "\n",
      "Exporting fatalities map...\n",
      "Exporting fatalities map to MAPX...\n",
      "Start Time: Thursday, February 27, 2025 1:56:17 PM\n",
      "Succeeded at Thursday, February 27, 2025 1:56:17 PM (Elapsed Time: 0.05 seconds)\n",
      "Exporting fatalities map to JSON...\n",
      "\n",
      "Exporting fhs100m1km map...\n",
      "Exporting fhs100m1km map to MAPX...\n",
      "Start Time: Thursday, February 27, 2025 1:56:17 PM\n",
      "Succeeded at Thursday, February 27, 2025 1:56:17 PM (Elapsed Time: 0.05 seconds)\n",
      "Exporting fhs100m1km map to JSON...\n",
      "\n",
      "Exporting fhs100m5km map...\n",
      "Exporting fhs100m5km map to MAPX...\n",
      "Start Time: Thursday, February 27, 2025 1:56:17 PM\n",
      "Succeeded at Thursday, February 27, 2025 1:56:17 PM (Elapsed Time: 0.05 seconds)\n",
      "Exporting fhs100m5km map to JSON...\n",
      "\n",
      "Exporting fhs150m2km map...\n",
      "Exporting fhs150m2km map to MAPX...\n",
      "Start Time: Thursday, February 27, 2025 1:56:17 PM\n",
      "Succeeded at Thursday, February 27, 2025 1:56:17 PM (Elapsed Time: 0.05 seconds)\n",
      "Exporting fhs150m2km map to JSON...\n",
      "\n",
      "Exporting fhsRoads500ft map...\n",
      "Exporting fhsRoads500ft map to MAPX...\n",
      "Start Time: Thursday, February 27, 2025 1:56:17 PM\n",
      "Succeeded at Thursday, February 27, 2025 1:56:17 PM (Elapsed Time: 0.05 seconds)\n",
      "Exporting fhsRoads500ft map to JSON...\n",
      "\n",
      "Exporting houDens map...\n",
      "Exporting houDens map to MAPX...\n",
      "Start Time: Thursday, February 27, 2025 1:56:17 PM\n",
      "Succeeded at Thursday, February 27, 2025 1:56:17 PM (Elapsed Time: 0.05 seconds)\n",
      "Exporting houDens map to JSON...\n",
      "\n",
      "Exporting injuries map...\n",
      "Exporting injuries map to MAPX...\n",
      "Start Time: Thursday, February 27, 2025 1:56:17 PM\n",
      "Succeeded at Thursday, February 27, 2025 1:56:17 PM (Elapsed Time: 0.05 seconds)\n",
      "Exporting injuries map to JSON...\n",
      "\n",
      "Exporting ohsRoads500ft map...\n",
      "Exporting ohsRoads500ft map to MAPX...\n",
      "Start Time: Thursday, February 27, 2025 1:56:17 PM\n",
      "Succeeded at Thursday, February 27, 2025 1:56:17 PM (Elapsed Time: 0.05 seconds)\n",
      "Exporting ohsRoads500ft map to JSON...\n",
      "\n",
      "Exporting parties map...\n",
      "Exporting parties map to MAPX...\n",
      "Start Time: Thursday, February 27, 2025 1:56:17 PM\n",
      "Succeeded at Thursday, February 27, 2025 1:56:17 PM (Elapsed Time: 0.05 seconds)\n",
      "Exporting parties map to JSON...\n",
      "\n",
      "Exporting pointFhs map...\n",
      "Exporting pointFhs map to MAPX...\n",
      "Start Time: Thursday, February 27, 2025 1:56:17 PM\n",
      "Succeeded at Thursday, February 27, 2025 1:56:17 PM (Elapsed Time: 0.05 seconds)\n",
      "Exporting pointFhs map to JSON...\n",
      "\n",
      "Exporting pointOhs map...\n",
      "Exporting pointOhs map to MAPX...\n",
      "Start Time: Thursday, February 27, 2025 1:56:17 PM\n",
      "Succeeded at Thursday, February 27, 2025 1:56:17 PM (Elapsed Time: 0.05 seconds)\n",
      "Exporting pointOhs map to JSON...\n",
      "\n",
      "Exporting popDens map...\n",
      "Exporting popDens map to MAPX...\n",
      "Start Time: Thursday, February 27, 2025 1:56:17 PM\n",
      "Succeeded at Thursday, February 27, 2025 1:56:17 PM (Elapsed Time: 0.05 seconds)\n",
      "Exporting popDens map to JSON...\n",
      "\n",
      "Exporting regression map...\n",
      "Exporting regression map to MAPX...\n",
      "Start Time: Thursday, February 27, 2025 1:56:17 PM\n",
      "Succeeded at Thursday, February 27, 2025 1:56:17 PM (Elapsed Time: 0.05 seconds)\n",
      "Exporting regression map to JSON...\n",
      "\n",
      "Exporting roadBuffers map...\n",
      "Exporting roadBuffers map to MAPX...\n",
      "Start Time: Thursday, February 27, 2025 1:56:17 PM\n",
      "Succeeded at Thursday, February 27, 2025 1:56:17 PM (Elapsed Time: 0.05 seconds)\n",
      "Exporting roadBuffers map to JSON...\n",
      "\n",
      "Exporting roadCrashes map...\n",
      "Exporting roadCrashes map to MAPX...\n",
      "Start Time: Thursday, February 27, 2025 1:56:17 PM\n",
      "Succeeded at Thursday, February 27, 2025 1:56:17 PM (Elapsed Time: 0.05 seconds)\n",
      "Exporting roadCrashes map to JSON...\n",
      "\n",
      "Exporting roadHotspots map...\n",
      "Exporting roadHotspots map to MAPX...\n",
      "Start Time: Thursday, February 27, 2025 1:56:17 PM\n",
      "Succeeded at Thursday, February 27, 2025 1:56:17 PM (Elapsed Time: 0.05 seconds)\n",
      "Exporting roadHotspots map to JSON...\n",
      "\n",
      "Exporting roads map...\n",
      "Exporting roads map to MAPX...\n",
      "Start Time: Thursday, February 27, 2025 1:56:17 PM\n",
      "Succeeded at Thursday, February 27, 2025 1:56:17 PM (Elapsed Time: 0.05 seconds)\n",
      "Exporting roads map to JSON...\n",
      "\n",
      "Exporting roadSegments map...\n",
      "Exporting roadSegments map to MAPX...\n",
      "Start Time: Thursday, February 27, 2025 1:56:17 PM\n",
      "Succeeded at Thursday, February 27, 2025 1:56:17 PM (Elapsed Time: 0.05 seconds)\n",
      "Exporting roadSegments map to JSON...\n",
      "\n",
      "Exporting summaries map...\n",
      "Exporting summaries map to MAPX...\n",
      "Start Time: Thursday, February 27, 2025 1:56:17 PM\n",
      "Succeeded at Thursday, February 27, 2025 1:56:17 PM (Elapsed Time: 0.05 seconds)\n",
      "Exporting summaries map to JSON...\n",
      "\n",
      "Exporting victims map...\n",
      "Exporting victims map to MAPX...\n",
      "Start Time: Thursday, February 27, 2025 1:56:17 PM\n",
      "Succeeded at Thursday, February 27, 2025 1:56:17 PM (Elapsed Time: 0.05 seconds)\n",
      "Exporting victims map to JSON...\n",
      "\n"
     ]
    }
   ],
   "source": [
    "for m in aprx.listMaps():\n",
    "    print(f\"Exporting {m.name} map...\")\n",
    "    exportCim(\"map\", m, m.name)"
   ]
  },
  {
   "cell_type": "markdown",
   "metadata": {},
   "source": [
    "<h3 style=\"font-weight:bold; color:lime; padding-left: 50px\">Save Project</h3>"
   ]
  },
  {
   "cell_type": "code",
   "execution_count": 370,
   "metadata": {},
   "outputs": [],
   "source": [
    "# Save the project\n",
    "aprx.save()"
   ]
  },
  {
   "cell_type": "markdown",
   "metadata": {},
   "source": [
    "<div style = \"background-color:indigo\"><center>\n",
    "<h1 style=\"font-weight:bold; color:goldenrod; border-top: 2px solid goldenrod; border-bottom: 2px solid goldenrod; padding-top: 5px; padding-bottom: 10px\">End of Script</h1>\n",
    "</center></div>"
   ]
  }
 ],
 "metadata": {
  "kernelspec": {
   "display_name": "agpenv",
   "language": "python",
   "name": "python3"
  },
  "language_info": {
   "codemirror_mode": {
    "name": "ipython",
    "version": 3
   },
   "file_extension": ".py",
   "mimetype": "text/x-python",
   "name": "python",
   "nbconvert_exporter": "python",
   "pygments_lexer": "ipython3",
   "version": "3.11.10"
  }
 },
 "nbformat": 4,
 "nbformat_minor": 4
}
