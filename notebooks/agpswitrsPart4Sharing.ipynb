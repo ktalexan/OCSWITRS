{
 "cells": [
  {
   "cell_type": "markdown",
   "id": "49b072e9",
   "metadata": {},
   "source": [
    "<div style = \"background-color:indigo\"><center>\n",
    "<h1 style=\"font-size: 50px; font-weight: bold; color:goldenrod; border-top: 3px solid goldenrod; padding-top: 10px\">OC SWITRS GIS Data Processing</h1>\n",
    "<div style=\"font-size: 35px; font-weight: bold; color: goldenrod\"> Part 4 - Sharing ArcGIS Online</div>\n",
    "<div style=\"font-size: 30px; font-weight: bold; color: goldenrod; border-bottom: 3px solid goldenrod; padding-bottom: 20px\">v.2.1, May 2025</div>\n",
    "</center></div>"
   ]
  },
  {
   "cell_type": "markdown",
   "id": "ed89bc6a",
   "metadata": {},
   "source": [
    "<h1 style=\"font-weight:bold; color:orangered; border-bottom: 2px solid orangered\">1. Preliminaries</h1>"
   ]
  },
  {
   "cell_type": "markdown",
   "id": "9a7d6b70",
   "metadata": {},
   "source": [
    "<h2 style=\"font-weight:bold; color:dodgerblue; border-bottom: 1px solid dodgerblue; padding-left: 25px\">1.1 Referencing Libraries and Initialization</h2>"
   ]
  },
  {
   "cell_type": "markdown",
   "id": "73afed06",
   "metadata": {},
   "source": [
    "If needed to reset the kernel, please run the following cell:"
   ]
  },
  {
   "cell_type": "code",
   "execution_count": null,
   "id": "776ce00a",
   "metadata": {},
   "outputs": [],
   "source": [
    "#%reset"
   ]
  },
  {
   "cell_type": "markdown",
   "id": "d184d68b",
   "metadata": {},
   "source": [
    "Instantiating python libraries for the project"
   ]
  },
  {
   "cell_type": "code",
   "execution_count": 1,
   "id": "49c2c6e9",
   "metadata": {},
   "outputs": [],
   "source": [
    "# Import Python libraries\n",
    "import os, json, pytz, math, arcpy, arcgis\n",
    "from datetime import date, time, datetime, timedelta, tzinfo, timezone\n",
    "from arcpy import metadata as md\n",
    "from dotenv import load_dotenv\n",
    "\n",
    "# important as it \"enhances\" Pandas by importing these classes (from ArcGIS API for Python)\n",
    "from arcgis.features import GeoAccessor, GeoSeriesAccessor"
   ]
  },
  {
   "cell_type": "markdown",
   "id": "c2d2af05",
   "metadata": {},
   "source": [
    "<h2 style=\"font-weight:bold; color:dodgerblue; border-bottom: 1px solid dodgerblue; padding-left: 25px\">1.2. Project and Workspace Variables</h2>"
   ]
  },
  {
   "cell_type": "markdown",
   "id": "84703a03",
   "metadata": {},
   "source": [
    "Define and maintain project, workspace, ArcGIS, and data-related variables"
   ]
  },
  {
   "cell_type": "markdown",
   "id": "3c3651d0",
   "metadata": {},
   "source": [
    "<h3 style=\"font-weight:bold; color:lime; padding-left: 50px\">Project and Geodatabase Paths</h3>"
   ]
  },
  {
   "cell_type": "markdown",
   "id": "789338b5",
   "metadata": {},
   "source": [
    "Define the ArcGIS pro project variables"
   ]
  },
  {
   "cell_type": "code",
   "execution_count": 2,
   "id": "cc9e6260",
   "metadata": {},
   "outputs": [],
   "source": [
    "# Current notebook directory\n",
    "notebookDir = os.getcwd()\n",
    "\n",
    "# Define the project folder (parent directory of the current working directory)\n",
    "projectFolder = os.path.dirname(os.getcwd())"
   ]
  },
  {
   "cell_type": "markdown",
   "id": "da3c51e3",
   "metadata": {},
   "source": [
    "Which running environment this notebook is using? (1 = Visual Studio Code, 2 = ArcGIS Pro)"
   ]
  },
  {
   "cell_type": "code",
   "execution_count": 3,
   "id": "75385d4e",
   "metadata": {},
   "outputs": [],
   "source": [
    "runEnv = input(\"Enter the running environment (1=VSCode, 2=ArcGIS Pro): \")"
   ]
  },
  {
   "cell_type": "markdown",
   "id": "9948931f",
   "metadata": {},
   "source": [
    "Load environment variables from the .env file"
   ]
  },
  {
   "cell_type": "code",
   "execution_count": 4,
   "id": "bc6884b7",
   "metadata": {},
   "outputs": [
    {
     "data": {
      "text/plain": [
       "True"
      ]
     },
     "execution_count": 4,
     "metadata": {},
     "output_type": "execute_result"
    }
   ],
   "source": [
    "# Load environment variables from .env file\n",
    "load_dotenv()"
   ]
  },
  {
   "cell_type": "markdown",
   "id": "7686ec29",
   "metadata": {},
   "source": [
    "<h3 style=\"font-weight:bold; color:lime; padding-left: 50px\">ArcGIS Pro Paths</h3>"
   ]
  },
  {
   "cell_type": "markdown",
   "id": "85215d6f",
   "metadata": {},
   "source": [
    "ArcGIS pro related paths"
   ]
  },
  {
   "cell_type": "code",
   "execution_count": 5,
   "id": "cec8a427",
   "metadata": {},
   "outputs": [
    {
     "name": "stdout",
     "output_type": "stream",
     "text": [
      "Running in VSCode (project = aprxPath)\n"
     ]
    }
   ],
   "source": [
    "# OCSWITRS project AGP path\n",
    "agpFolder = os.path.join(projectFolder, \"AGPSWITRS\")\n",
    "\n",
    "# AGP APRX file name and path\n",
    "aprxName = \"AGPSWITRS.aprx\"\n",
    "aprxPath = os.path.join(agpFolder, aprxName)\n",
    "\n",
    "# ArcGIS Pro project geodatabase and path\n",
    "gdbName = \"AGPSWITRS.gdb\"\n",
    "gdbPath = os.path.join(agpFolder, gdbName)\n",
    "\n",
    "# ArcGIS pro project\n",
    "if runEnv == \"1\":  # VSCode\n",
    "    print(\"Running in VSCode (project = aprxPath)\")\n",
    "    aprxObj = aprxPath\n",
    "elif runEnv == \"2\":  # ArcGIS Pro\n",
    "    print(\"Running in ArcGIS Pro (project = CURRENT)\")\n",
    "    aprxObj = \"CURRENT\"\n",
    "\n",
    "try:\n",
    "    # Set the ArcGIS Pro project based on the environment\n",
    "    # Use arcpy.mp.ArcGISProject() function to initialize the project\n",
    "    aprx = arcpy.mp.ArcGISProject(aprxObj)\n",
    "    \n",
    "    # Close all map views\n",
    "    aprx.closeViews()\n",
    "except Exception as e:\n",
    "    print(f\"Error loading ArcGIS Project: {e}\")\n",
    "\n",
    "# Current ArcGIS workspace (arcpy)\n",
    "arcpy.env.workspace = gdbPath\n",
    "workspace = arcpy.env.workspace\n",
    "# Enable overwriting existing outputs\n",
    "arcpy.env.overwriteOutput = True\n",
    "# Disable adding outputs to map\n",
    "arcpy.env.addOutputsToMap = False"
   ]
  },
  {
   "cell_type": "markdown",
   "id": "27f8ffae",
   "metadata": {},
   "source": [
    "<h3 style=\"font-weight:bold; color:lime; padding-left: 50px\">Folder Paths</h3>"
   ]
  },
  {
   "cell_type": "code",
   "execution_count": 6,
   "id": "c85b1d9e",
   "metadata": {},
   "outputs": [],
   "source": [
    "# Raw data folder path\n",
    "rawDataFolder = os.path.join(projectFolder, \"data\", \"raw\")\n",
    "\n",
    "# Maps folder path\n",
    "mapsFolder = os.path.join(projectFolder, \"maps\")\n",
    "\n",
    "# Layers folder path\n",
    "layersFolder = os.path.join(projectFolder, \"layers\")\n",
    "layersTemplate = os.path.join(layersFolder, \"templates\")\n",
    "\n",
    "# Layouts folder path\n",
    "layoutsFolder = os.path.join(projectFolder, \"layouts\")\n",
    "\n",
    "# Notebooks folder path\n",
    "notebooksFolder = os.path.join(projectFolder, \"notebooks\")\n",
    "codebookPath = os.path.join(projectFolder, \"scripts\", \"codebook\", \"cb.json\")"
   ]
  },
  {
   "cell_type": "markdown",
   "id": "c634b51d",
   "metadata": {},
   "source": [
    "Geodatabase feature datasets paths (directories)"
   ]
  },
  {
   "cell_type": "code",
   "execution_count": 7,
   "id": "25265faf",
   "metadata": {},
   "outputs": [],
   "source": [
    "# RawData feature dataset in the geodatabase\n",
    "gdbRawData = os.path.join(gdbPath, \"raw\")\n",
    "\n",
    "# RawData feature dataset in the geodatabase\n",
    "gdbSupportingData = os.path.join(gdbPath, \"supporting\")\n",
    "\n",
    "# AnalysisData feature dataset in the geodatabase\n",
    "gdbAnalysisData = os.path.join(gdbPath, \"analysis\")\n",
    "\n",
    "# HotSpotData feature dataset in the geodatabase\n",
    "gdbHotspotData = os.path.join(gdbPath, \"hotspots\")"
   ]
  },
  {
   "cell_type": "markdown",
   "id": "1afe1a2c",
   "metadata": {},
   "source": [
    "<h3 style=\"font-weight:bold; color:lime; padding-left: 50px\">Data Folder Paths</h3>"
   ]
  },
  {
   "cell_type": "markdown",
   "id": "1a27bc4b",
   "metadata": {},
   "source": [
    "The most current raw data files cover the periods from 01/01/2013 to 09/30/2024. The data files are already processed in the R scripts and imported into the project's geodatabase."
   ]
  },
  {
   "cell_type": "code",
   "execution_count": 8,
   "id": "60a6b6a3",
   "metadata": {},
   "outputs": [],
   "source": [
    "# Add the start date of the raw data to a new python datetime object\n",
    "dateStart = datetime(2012, 1, 1)\n",
    "\n",
    "# Add the end date of the raw data to a new python datetime object\n",
    "dateEnd = datetime(2024, 12, 31)\n",
    "\n",
    "# Define time and date variables\n",
    "timeZone = pytz.timezone(\"US/Pacific\")\n",
    "today = datetime.now(timeZone)\n",
    "dateUpdated = today.strftime(\"%B %d, %Y\")\n",
    "timeUpdated = today.strftime(\"%I:%M %p\")"
   ]
  },
  {
   "cell_type": "markdown",
   "id": "b81d1d04",
   "metadata": {},
   "source": [
    "Define date strings for metadata"
   ]
  },
  {
   "cell_type": "code",
   "execution_count": 9,
   "id": "d3363f24",
   "metadata": {},
   "outputs": [],
   "source": [
    "# String defining the years of the raw data\n",
    "mdYears = f\"{dateStart.year}-{dateEnd.year}\"\n",
    "\n",
    "# String defining the start and end dates of the raw data\n",
    "mdDates = f\"Data from {dateStart.strftime('%B %d, %Y')} to {dateEnd.strftime('%B %d, %Y')}\""
   ]
  },
  {
   "cell_type": "markdown",
   "id": "85f40a1f",
   "metadata": {},
   "source": [
    "<h3 style=\"font-weight:bold; color:lime; padding-left: 50px\">Codebook</h3>"
   ]
  },
  {
   "cell_type": "code",
   "execution_count": 10,
   "id": "8818d954",
   "metadata": {},
   "outputs": [],
   "source": [
    "# Load the JSON file from directory and store it in a variable\n",
    "with open(codebookPath) as jsonFile:\n",
    "    codebook = json.load(jsonFile)"
   ]
  },
  {
   "cell_type": "markdown",
   "id": "9ede1fbd",
   "metadata": {},
   "source": [
    "<h2 style=\"font-weight:bold; color:dodgerblue; border-bottom: 1px solid dodgerblue; padding-left: 25px\">1.3. ArcGIS Pro Workspace</h2>"
   ]
  },
  {
   "cell_type": "markdown",
   "id": "a31b7b97",
   "metadata": {},
   "source": [
    "Set the workspace and environment settings for the ArcGIS Pro project"
   ]
  },
  {
   "cell_type": "code",
   "execution_count": 11,
   "id": "8de0c4db",
   "metadata": {},
   "outputs": [],
   "source": [
    "# Set the workspace and environment to the root of the project geodatabase\n",
    "arcpy.env.workspace = gdbPath\n",
    "workspace = arcpy.env.workspace\n",
    "\n",
    "# Current ArcGIS workspace (arcpy)\n",
    "arcpy.env.workspace = gdbPath\n",
    "workspace = arcpy.env.workspace\n",
    "\n",
    "# Enable overwriting existing outputs\n",
    "arcpy.env.overwriteOutput = True\n",
    "\n",
    "# Disable adding outputs to map\n",
    "arcpy.env.addOutputsToMap = False"
   ]
  },
  {
   "cell_type": "markdown",
   "id": "89a08670",
   "metadata": {},
   "source": [
    "<h2 style=\"font-weight:bold; color:dodgerblue; border-bottom: 1px solid dodgerblue; padding-left: 25px\">1.4. Map and Layout Lists</h2>"
   ]
  },
  {
   "cell_type": "markdown",
   "id": "eb7be0e8",
   "metadata": {},
   "source": [
    "<h3 style=\"font-weight:bold; color:lime; padding-left: 50px\">Project Maps</h3>"
   ]
  },
  {
   "cell_type": "code",
   "execution_count": 12,
   "id": "928254ee",
   "metadata": {},
   "outputs": [],
   "source": [
    "# List of maps to be created for the project\n",
    "mapList = [\"collisions\", \"crashes\", \"parties\", \"victims\", \"injuries\", \"fatalities\", \"fhs100m1km\", \"fhs150m2km\", \"fhs100m5km\", \"fhsRoads500ft\", \"ohsRoads500ft\", \"roadCrashes\",\n",
    "           \"roadHotspots\", \"roadBuffers\", \"roadSegments\", \"roads\", \"pointFhs\", \"pointOhs\", \"popDens\", \"houDens\", \"areaCities\", \"areaBlocks\", \"summaries\", \"analysis\", \"regression\"]"
   ]
  },
  {
   "cell_type": "markdown",
   "id": "39d27125",
   "metadata": {},
   "source": [
    "<h3 style=\"font-weight:bold; color:lime; padding-left: 50px\">Project Layouts</h3>"
   ]
  },
  {
   "cell_type": "code",
   "execution_count": 13,
   "id": "b2bd2444",
   "metadata": {},
   "outputs": [],
   "source": [
    "# List or layouts to be created for the project\n",
    "layoutList = [\"maps\", \"injuries\", \"hotspots\", \"roads\", \"points\", \"densities\", \"areas\"]"
   ]
  },
  {
   "cell_type": "markdown",
   "id": "246be9aa",
   "metadata": {},
   "source": [
    "<h1 style=\"font-weight:bold; color:orangered; border-bottom: 2px solid orangered\">3. ArcGIS Online Operations</h1>"
   ]
  },
  {
   "cell_type": "markdown",
   "id": "98aacfd4",
   "metadata": {},
   "source": [
    "<h2 style=\"font-weight:bold; color:dodgerblue; border-bottom: 1px solid dodgerblue; padding-left: 25px\">3.1. Sign In</h2>"
   ]
  },
  {
   "cell_type": "code",
   "execution_count": 14,
   "id": "843afa3c",
   "metadata": {},
   "outputs": [
    {
     "data": {
      "text/plain": [
       "{'token': 'mzFcMRqhxzPAoRJavp2MJn0VBFp6Imvpp-5I8rbezHt22Iy2IyTCurpOxzXl3rUU9PYgvHfUuyXeHnaEE2Fb5sFK-QyVfdC26GuDDNiiq1owC3ZbiQl7u0h-RoRF8lWAcVMfXxTkN6LcYImdYfOsZRyQTVVMJcKhv5IaYfi9W4jyTEWWK9NbG9tk3HcA4Dw90WkqfOIyKo0irTHIa_L-RAr2xwoqTWHVLajCDc44OGI.',\n",
       " 'referer': 'http://www.esri.com/AGO/0C650116-F38F-4200-9D5F-57B07485ED38',\n",
       " 'expires': 1746824839}"
      ]
     },
     "execution_count": 14,
     "metadata": {},
     "output_type": "execute_result"
    }
   ],
   "source": [
    "# Sign in to portal\n",
    "arcpy.SignInToPortal(\"https://www.arcgis.com\", os.getenv(\"AGO_USERNAME\"), os.getenv(\"AGO_PASSWORD\"))"
   ]
  },
  {
   "cell_type": "code",
   "execution_count": 15,
   "id": "1b3b736f",
   "metadata": {},
   "outputs": [
    {
     "name": "stdout",
     "output_type": "stream",
     "text": [
      "Portal: OC Public Works\n",
      "User: Kostas Alexandridis (ktalexan)\n"
     ]
    }
   ],
   "source": [
    "# Get the portal description and key information\n",
    "portalDesc = arcpy.GetPortalDescription()\n",
    "\n",
    "# Print Basic Portal Information\n",
    "print(f\"Portal: {portalDesc['name']}\")\n",
    "print(f\"User: {portalDesc['user']['fullName']} ({portalDesc['user']['username']})\")"
   ]
  },
  {
   "cell_type": "markdown",
   "id": "df2d8014",
   "metadata": {},
   "source": [
    "Path to store ArcGIS Online staging feature layers"
   ]
  },
  {
   "cell_type": "code",
   "execution_count": 37,
   "id": "a28fea48",
   "metadata": {},
   "outputs": [],
   "source": [
    "agoPrjPath = os.path.join(projectFolder, \"data\", \"ago\")"
   ]
  },
  {
   "cell_type": "markdown",
   "id": "0e61f0b0",
   "metadata": {},
   "source": [
    "<h2 style=\"font-weight:bold; color:dodgerblue; border-bottom: 1px solid dodgerblue; padding-left: 25px\">3.2. Maps and Feature Layers</h2>"
   ]
  },
  {
   "cell_type": "markdown",
   "id": "2a202d8c",
   "metadata": {},
   "source": [
    "<h3 style=\"font-weight:bold; color:lime; padding-left: 50px\">Collisions Map and Supporting Layers</h3>"
   ]
  },
  {
   "cell_type": "markdown",
   "id": "6fd1cd97",
   "metadata": {},
   "source": [
    "Maps and Layers Definitions for the Collisions Map"
   ]
  },
  {
   "cell_type": "code",
   "execution_count": 19,
   "id": "541b2cfd",
   "metadata": {},
   "outputs": [],
   "source": [
    "collisionsMap = aprx.listMaps(\"collisions\")[0]\n",
    "collisionsLayer = collisionsMap.listLayers(\"OCSWITRS Collisions\")[0]\n",
    "roadsLayer = collisionsMap.listLayers(\"OCSWITRS Roads\")[0]\n",
    "blocksLayer = collisionsMap.listLayers(\"OCSWITRS Census Blocks\")[0]\n",
    "citiesLayer = collisionsMap.listLayers(\"OCSWITRS Cities\")[0]\n",
    "boundariesLayer = collisionsMap.listLayers(\"OCSWITRS Boundaries\")[0]"
   ]
  },
  {
   "cell_type": "markdown",
   "id": "94c18b2c",
   "metadata": {},
   "source": [
    "<h3 style=\"font-weight:bold; color:lime; padding-left: 50px\">Crashes Map and Layer</h3>"
   ]
  },
  {
   "cell_type": "markdown",
   "id": "3f38cb3a",
   "metadata": {},
   "source": [
    "Crashes Map and layer definitions"
   ]
  },
  {
   "cell_type": "code",
   "execution_count": 34,
   "id": "7e70d8c2",
   "metadata": {},
   "outputs": [],
   "source": [
    "crashesMap = aprx.listMaps(\"crashes\")[0]\n",
    "crashesLayer = crashesMap.listLayers(\"OCSWITRS Crashes\")[0]"
   ]
  },
  {
   "cell_type": "markdown",
   "id": "4ba31285",
   "metadata": {},
   "source": [
    "<h3 style=\"font-weight:bold; color:lime; padding-left: 50px\">Parties Map and Layer</h3>"
   ]
  },
  {
   "cell_type": "markdown",
   "id": "4faa1dce",
   "metadata": {},
   "source": [
    "Parties map and layer definitions"
   ]
  },
  {
   "cell_type": "code",
   "execution_count": 35,
   "id": "41c83373",
   "metadata": {},
   "outputs": [],
   "source": [
    "partiesMap = aprx.listMaps(\"parties\")[0]\n",
    "partiesLayer = partiesMap.listLayers(\"OCSWITRS Parties\")[0]"
   ]
  },
  {
   "cell_type": "markdown",
   "id": "9271dc36",
   "metadata": {},
   "source": [
    "<h3 style=\"font-weight:bold; color:lime; padding-left: 50px\">Victims Map and Layer</h3>"
   ]
  },
  {
   "cell_type": "markdown",
   "id": "de8c30ef",
   "metadata": {},
   "source": [
    "Victims map and layer definitions"
   ]
  },
  {
   "cell_type": "code",
   "execution_count": 36,
   "id": "0ce26f95",
   "metadata": {},
   "outputs": [],
   "source": [
    "victimsMap = aprx.listMaps(\"victims\")[0]\n",
    "victimsLayer = victimsMap.listLayers(\"OCSWITRS Victims\")[0]"
   ]
  },
  {
   "cell_type": "markdown",
   "id": "c578f110",
   "metadata": {},
   "source": [
    "<h2 style=\"font-weight:bold; color:dodgerblue; border-bottom: 1px solid dodgerblue; padding-left: 25px\">3.2. Sharing Supporting Layers</h2>"
   ]
  },
  {
   "cell_type": "markdown",
   "id": "16bb09d8",
   "metadata": {},
   "source": [
    "<h3 style=\"font-weight:bold; color:lime; padding-left: 50px\">Boundaries Service Layer</h3>"
   ]
  },
  {
   "cell_type": "markdown",
   "id": "3b665f63",
   "metadata": {},
   "source": [
    "Service definition variables"
   ]
  },
  {
   "cell_type": "code",
   "execution_count": 41,
   "id": "76e888c3",
   "metadata": {},
   "outputs": [],
   "source": [
    "# Provide the service definition variables for the Boundaries layer\n",
    "serviceName = \"OC Boundaries\"\n",
    "serviceFolder = \"OCTraffic\"\n",
    "serviceCredits = \"Dr. Kostas Alexandridis, GISP\"\n",
    "sddraftFile = serviceName + \".sddraft\"\n",
    "sddraftOutput = os.path.join(agoPrjPath, sddraftFile)\n",
    "sdFile = serviceName + \".sd\"\n",
    "sdOutput = os.path.join(agoPrjPath, sdFile)\n",
    "\n",
    "# Define the server type\n",
    "serverType = \"HOSTING_SERVER\"\n",
    "\n",
    "# Create a feature service draft object\n",
    "sddraft = collisionsMap.getWebLayerSharingDraft(serverType, \"FEATURE\", serviceName, boundariesLayer)\n",
    "\n",
    "# Set the properties of the feature service draft object\n",
    "sddraft.overwriteExistingService = True\n",
    "sddraft.portalFolder = serviceFolder\n",
    "sddraft.credits = serviceCredits\n",
    "\n",
    "# Create Service Definition Draft file\n",
    "sddraft.exportToSDDraft(sddraftOutput)"
   ]
  },
  {
   "cell_type": "markdown",
   "id": "81ccc092",
   "metadata": {},
   "source": [
    "Stage the service definition for the boundaries layer"
   ]
  },
  {
   "cell_type": "code",
   "execution_count": 42,
   "id": "b36758b3",
   "metadata": {},
   "outputs": [
    {
     "name": "stdout",
     "output_type": "stream",
     "text": [
      "Start Staging\n"
     ]
    },
    {
     "data": {
      "text/html": [
       "<div class='gpresult'><h2 class='msg-title'>Messages</h2><div id='messages'>Start Time: Friday, May 9, 2025 2:39:53 AM<br>Succeeded at Friday, May 9, 2025 2:40:01 AM (Elapsed Time: 7.63 seconds)<br></div><div id = 'default' /></div></div>"
      ],
      "text/plain": [
       "<Result 'c:\\\\Users\\\\ktale\\\\OneDrive\\\\Documents\\\\GitHub\\\\OCSWITRS\\\\data\\\\ago\\\\OC Boundaries.sd'>"
      ]
     },
     "execution_count": 42,
     "metadata": {},
     "output_type": "execute_result"
    }
   ],
   "source": [
    "print(\"Start Staging\")\n",
    "arcpy.server.StageService(\n",
    "    in_service_definition_draft = sddraftOutput,\n",
    "    out_service_definition = sdOutput\n",
    ")"
   ]
  },
  {
   "cell_type": "markdown",
   "id": "7a3a4730",
   "metadata": {},
   "source": [
    "Publish the service definition to ArcGIS Online portal (updating the existing service)"
   ]
  },
  {
   "cell_type": "code",
   "execution_count": 43,
   "id": "7c1353d5",
   "metadata": {},
   "outputs": [
    {
     "name": "stdout",
     "output_type": "stream",
     "text": [
      "Start Uploading\n"
     ]
    },
    {
     "data": {
      "text/html": [
       "<div class='gpresult'><h2 class='msg-title'>Messages</h2><div id='messages'>Start Time: Friday, May 9, 2025 2:40:10 AM<br>Succeeded at Friday, May 9, 2025 2:40:26 AM (Elapsed Time: 16.61 seconds)<br></div><div id = 'default' /></div></div>"
      ],
      "text/plain": [
       "<Result ''>"
      ]
     },
     "execution_count": 43,
     "metadata": {},
     "output_type": "execute_result"
    }
   ],
   "source": [
    "# Share to portal\n",
    "print(\"Start Uploading\")\n",
    "arcpy.server.UploadServiceDefinition(\n",
    "    in_sd_file = sdOutput,\n",
    "    in_server = serverType,\n",
    "    in_service_name = serviceName,\n",
    "    in_folder_type = \"EXISTING\",\n",
    "    in_folder = serviceFolder,\n",
    "    in_startupType = \"STARTED\"\n",
    ")"
   ]
  },
  {
   "cell_type": "markdown",
   "id": "c3c388da",
   "metadata": {},
   "source": [
    "<h3 style=\"font-weight:bold; color:lime; padding-left: 50px\">Cities Service Layer</h3>"
   ]
  },
  {
   "cell_type": "markdown",
   "id": "c44ad331",
   "metadata": {},
   "source": [
    "Service definition variables"
   ]
  },
  {
   "cell_type": "code",
   "execution_count": 45,
   "id": "8848b2cb",
   "metadata": {},
   "outputs": [],
   "source": [
    "# Provide the service definition variables for the Cities layer\n",
    "serviceName = \"OCSWITRS Cities\"\n",
    "serviceFolder = \"OCTraffic\"\n",
    "serviceCredits = \"Dr. Kostas Alexandridis, GISP\"\n",
    "sddraftFile = serviceName + \".sddraft\"\n",
    "sddraftOutput = os.path.join(agoPrjPath, sddraftFile)\n",
    "sdFile = serviceName + \".sd\"\n",
    "sdOutput = os.path.join(agoPrjPath, sdFile)\n",
    "\n",
    "# Define the server type\n",
    "serverType = \"HOSTING_SERVER\"\n",
    "\n",
    "# Create a feature service draft object\n",
    "sddraft = collisionsMap.getWebLayerSharingDraft(serverType, \"FEATURE\", serviceName, citiesLayer)\n",
    "\n",
    "# Set the properties of the feature service draft object\n",
    "sddraft.overwriteExistingService = True\n",
    "sddraft.portalFolder = serviceFolder\n",
    "sddraft.credits = serviceCredits\n",
    "\n",
    "# Create Service Definition Draft file\n",
    "sddraft.exportToSDDraft(sddraftOutput)"
   ]
  },
  {
   "cell_type": "markdown",
   "id": "24db9c4b",
   "metadata": {},
   "source": [
    "Stage the service definition for the boundaries layer"
   ]
  },
  {
   "cell_type": "code",
   "execution_count": 46,
   "id": "0bf3865f",
   "metadata": {},
   "outputs": [
    {
     "name": "stdout",
     "output_type": "stream",
     "text": [
      "Start Staging\n"
     ]
    },
    {
     "data": {
      "text/html": [
       "<div class='gpresult'><h2 class='msg-title'>Messages</h2><div id='messages'>Start Time: Friday, May 9, 2025 2:45:24 AM<br>Succeeded at Friday, May 9, 2025 2:45:32 AM (Elapsed Time: 7.78 seconds)<br></div><div id = 'default' /></div></div>"
      ],
      "text/plain": [
       "<Result 'c:\\\\Users\\\\ktale\\\\OneDrive\\\\Documents\\\\GitHub\\\\OCSWITRS\\\\data\\\\ago\\\\OCSWITRS Cities.sd'>"
      ]
     },
     "execution_count": 46,
     "metadata": {},
     "output_type": "execute_result"
    }
   ],
   "source": [
    "print(\"Start Staging\")\n",
    "arcpy.server.StageService(\n",
    "    in_service_definition_draft = sddraftOutput,\n",
    "    out_service_definition = sdOutput\n",
    ")"
   ]
  },
  {
   "cell_type": "markdown",
   "id": "300a43e9",
   "metadata": {},
   "source": [
    "Publish the service definition to ArcGIS Online portal (updating the existing service)"
   ]
  },
  {
   "cell_type": "code",
   "execution_count": 47,
   "id": "d1eec930",
   "metadata": {},
   "outputs": [
    {
     "name": "stdout",
     "output_type": "stream",
     "text": [
      "Start Uploading\n"
     ]
    },
    {
     "data": {
      "text/html": [
       "<div class='gpresult'><h2 class='msg-title'>Messages</h2><div id='messages'>Start Time: Friday, May 9, 2025 2:46:16 AM<br>Succeeded at Friday, May 9, 2025 2:46:36 AM (Elapsed Time: 20.92 seconds)<br></div><div id = 'default' /></div></div>"
      ],
      "text/plain": [
       "<Result ''>"
      ]
     },
     "execution_count": 47,
     "metadata": {},
     "output_type": "execute_result"
    }
   ],
   "source": [
    "# Share to portal\n",
    "print(\"Start Uploading\")\n",
    "arcpy.server.UploadServiceDefinition(\n",
    "    in_sd_file = sdOutput,\n",
    "    in_server = serverType,\n",
    "    in_service_name = serviceName,\n",
    "    in_folder_type = \"EXISTING\",\n",
    "    in_folder = serviceFolder,\n",
    "    in_startupType = \"STARTED\"\n",
    ")"
   ]
  },
  {
   "cell_type": "markdown",
   "id": "6fae7e52",
   "metadata": {},
   "source": [
    "<h3 style=\"font-weight:bold; color:lime; padding-left: 50px\">Roads Service Layer</h3>"
   ]
  },
  {
   "cell_type": "markdown",
   "id": "9c43fc87",
   "metadata": {},
   "source": [
    "Service definition variables"
   ]
  },
  {
   "cell_type": "code",
   "execution_count": 48,
   "id": "d1c9e1c9",
   "metadata": {},
   "outputs": [],
   "source": [
    "# Provide the service definition variables for the Roads layer\n",
    "serviceName = \"OCSWITRS Roads\"\n",
    "serviceFolder = \"OCTraffic\"\n",
    "serviceCredits = \"Dr. Kostas Alexandridis, GISP\"\n",
    "sddraftFile = serviceName + \".sddraft\"\n",
    "sddraftOutput = os.path.join(agoPrjPath, sddraftFile)\n",
    "sdFile = serviceName + \".sd\"\n",
    "sdOutput = os.path.join(agoPrjPath, sdFile)\n",
    "\n",
    "# Define the server type\n",
    "serverType = \"HOSTING_SERVER\"\n",
    "\n",
    "# Create a feature service draft object\n",
    "sddraft = collisionsMap.getWebLayerSharingDraft(serverType, \"FEATURE\", serviceName, roadsLayer)\n",
    "\n",
    "# Set the properties of the feature service draft object\n",
    "sddraft.overwriteExistingService = True\n",
    "sddraft.portalFolder = serviceFolder\n",
    "sddraft.credits = serviceCredits\n",
    "\n",
    "# Create Service Definition Draft file\n",
    "sddraft.exportToSDDraft(sddraftOutput)"
   ]
  },
  {
   "cell_type": "markdown",
   "id": "c3460682",
   "metadata": {},
   "source": [
    "Stage the service definition for the roads layer"
   ]
  },
  {
   "cell_type": "code",
   "execution_count": 49,
   "id": "bfb9ee4f",
   "metadata": {},
   "outputs": [
    {
     "name": "stdout",
     "output_type": "stream",
     "text": [
      "Start Staging\n"
     ]
    },
    {
     "data": {
      "text/html": [
       "<div class='gpresult'><h2 class='msg-title'>Messages</h2><div id='messages'>Start Time: Friday, May 9, 2025 2:51:39 AM<br>WARNING 002893: Analyzer warnings were encountered ([{\\<br>code\\<br>:\\<br>20027\\<br>,\\<br>message\\<br>:\\<br>Layer uses advanced renderer settings\\<br>,\\<br>object\\<br>:\\<br>OCSWITRS Roads\\<br>}]).<br>Succeeded at Friday, May 9, 2025 2:51:50 AM (Elapsed Time: 10.81 seconds)<br></div><div id = 'default' /></div></div>"
      ],
      "text/plain": [
       "<Result 'c:\\\\Users\\\\ktale\\\\OneDrive\\\\Documents\\\\GitHub\\\\OCSWITRS\\\\data\\\\ago\\\\OCSWITRS Roads.sd'>"
      ]
     },
     "execution_count": 49,
     "metadata": {},
     "output_type": "execute_result"
    }
   ],
   "source": [
    "print(\"Start Staging\")\n",
    "arcpy.server.StageService(\n",
    "    in_service_definition_draft = sddraftOutput,\n",
    "    out_service_definition = sdOutput\n",
    ")"
   ]
  },
  {
   "cell_type": "markdown",
   "id": "0e59853b",
   "metadata": {},
   "source": [
    "Publish the service definition to ArcGIS Online portal (updating the existing service)"
   ]
  },
  {
   "cell_type": "code",
   "execution_count": 51,
   "id": "1c0c32c6",
   "metadata": {},
   "outputs": [
    {
     "name": "stdout",
     "output_type": "stream",
     "text": [
      "Start Uploading\n"
     ]
    },
    {
     "data": {
      "text/html": [
       "<div class='gpresult'><h2 class='msg-title'>Messages</h2><div id='messages'>Start Time: Friday, May 9, 2025 2:53:33 AM<br>Succeeded at Friday, May 9, 2025 2:54:13 AM (Elapsed Time: 40.11 seconds)<br></div><div id = 'default' /></div></div>"
      ],
      "text/plain": [
       "<Result ''>"
      ]
     },
     "execution_count": 51,
     "metadata": {},
     "output_type": "execute_result"
    }
   ],
   "source": [
    "# Share to portal\n",
    "print(\"Start Uploading\")\n",
    "arcpy.server.UploadServiceDefinition(\n",
    "    in_sd_file = sdOutput,\n",
    "    in_server = serverType,\n",
    "    in_service_name = serviceName,\n",
    "    in_folder_type = \"EXISTING\",\n",
    "    in_folder = serviceFolder,\n",
    "    in_startupType = \"STARTED\"\n",
    ")"
   ]
  },
  {
   "cell_type": "markdown",
   "id": "eab53313",
   "metadata": {},
   "source": [
    "<h3 style=\"font-weight:bold; color:lime; padding-left: 50px\">Census Blocks Service Layer</h3>"
   ]
  },
  {
   "cell_type": "markdown",
   "id": "d6ae45d1",
   "metadata": {},
   "source": [
    "Service definition variables"
   ]
  },
  {
   "cell_type": "code",
   "execution_count": 53,
   "id": "6f1e9bbf",
   "metadata": {},
   "outputs": [],
   "source": [
    "# Provide the service definition variables for the Blocks layer\n",
    "serviceName = \"OCSWITRS Census Blocks\"\n",
    "serviceFolder = \"OCTraffic\"\n",
    "serviceCredits = \"Dr. Kostas Alexandridis, GISP\"\n",
    "sddraftFile = serviceName + \".sddraft\"\n",
    "sddraftOutput = os.path.join(agoPrjPath, sddraftFile)\n",
    "sdFile = serviceName + \".sd\"\n",
    "sdOutput = os.path.join(agoPrjPath, sdFile)\n",
    "\n",
    "# Define the server type\n",
    "serverType = \"HOSTING_SERVER\"\n",
    "\n",
    "# Create a feature service draft object\n",
    "sddraft = collisionsMap.getWebLayerSharingDraft(serverType, \"FEATURE\", serviceName, blocksLayer)\n",
    "\n",
    "# Set the properties of the feature service draft object\n",
    "sddraft.overwriteExistingService = True\n",
    "sddraft.portalFolder = serviceFolder\n",
    "sddraft.credits = serviceCredits\n",
    "\n",
    "# Create Service Definition Draft file\n",
    "sddraft.exportToSDDraft(sddraftOutput)"
   ]
  },
  {
   "cell_type": "markdown",
   "id": "3a3ae183",
   "metadata": {},
   "source": [
    "Stage the service definition for the blocks layer"
   ]
  },
  {
   "cell_type": "code",
   "execution_count": 54,
   "id": "76ff360b",
   "metadata": {},
   "outputs": [
    {
     "name": "stdout",
     "output_type": "stream",
     "text": [
      "Start Staging\n"
     ]
    },
    {
     "data": {
      "text/html": [
       "<div class='gpresult'><h2 class='msg-title'>Messages</h2><div id='messages'>Start Time: Friday, May 9, 2025 2:59:35 AM<br>Succeeded at Friday, May 9, 2025 2:59:46 AM (Elapsed Time: 10.49 seconds)<br></div><div id = 'default' /></div></div>"
      ],
      "text/plain": [
       "<Result 'c:\\\\Users\\\\ktale\\\\OneDrive\\\\Documents\\\\GitHub\\\\OCSWITRS\\\\data\\\\ago\\\\OCSWITRS Census Blocks.sd'>"
      ]
     },
     "execution_count": 54,
     "metadata": {},
     "output_type": "execute_result"
    }
   ],
   "source": [
    "print(\"Start Staging\")\n",
    "arcpy.server.StageService(\n",
    "    in_service_definition_draft = sddraftOutput,\n",
    "    out_service_definition = sdOutput\n",
    ")"
   ]
  },
  {
   "cell_type": "markdown",
   "id": "5588187c",
   "metadata": {},
   "source": [
    "Publish the service definition to ArcGIS Online portal (updating the existing service)"
   ]
  },
  {
   "cell_type": "code",
   "execution_count": 55,
   "id": "91fe3ed6",
   "metadata": {},
   "outputs": [
    {
     "name": "stdout",
     "output_type": "stream",
     "text": [
      "Start Uploading\n"
     ]
    },
    {
     "data": {
      "text/html": [
       "<div class='gpresult'><h2 class='msg-title'>Messages</h2><div id='messages'>Start Time: Friday, May 9, 2025 3:00:11 AM<br>Succeeded at Friday, May 9, 2025 3:00:58 AM (Elapsed Time: 46.81 seconds)<br></div><div id = 'default' /></div></div>"
      ],
      "text/plain": [
       "<Result ''>"
      ]
     },
     "execution_count": 55,
     "metadata": {},
     "output_type": "execute_result"
    }
   ],
   "source": [
    "# Share to portal\n",
    "print(\"Start Uploading\")\n",
    "arcpy.server.UploadServiceDefinition(\n",
    "    in_sd_file = sdOutput,\n",
    "    in_server = serverType,\n",
    "    in_service_name = serviceName,\n",
    "    in_folder_type = \"EXISTING\",\n",
    "    in_folder = serviceFolder,\n",
    "    in_startupType = \"STARTED\"\n",
    ")"
   ]
  },
  {
   "cell_type": "markdown",
   "id": "0c97d546",
   "metadata": {},
   "source": [
    "<h2 style=\"font-weight:bold; color:dodgerblue; border-bottom: 1px solid dodgerblue; padding-left: 25px\">3.3. Sharing SWITRS Data Layers</h2>"
   ]
  },
  {
   "cell_type": "markdown",
   "id": "b8b2f9b4",
   "metadata": {},
   "source": [
    "<h3 style=\"font-weight:bold; color:lime; padding-left: 50px\">Crashes Service Layer</h3>"
   ]
  },
  {
   "cell_type": "markdown",
   "id": "e9448223",
   "metadata": {},
   "source": [
    "Service definition variables"
   ]
  },
  {
   "cell_type": "code",
   "execution_count": 56,
   "id": "d01c5e19",
   "metadata": {},
   "outputs": [],
   "source": [
    "# Provide the service definition variables for the crashes layer\n",
    "serviceName = \"OCSWITRS Crashes\"\n",
    "serviceFolder = \"OCTraffic\"\n",
    "serviceCredits = \"Dr. Kostas Alexandridis, GISP\"\n",
    "sddraftFile = serviceName + \".sddraft\"\n",
    "sddraftOutput = os.path.join(agoPrjPath, sddraftFile)\n",
    "sdFile = serviceName + \".sd\"\n",
    "sdOutput = os.path.join(agoPrjPath, sdFile)\n",
    "\n",
    "# Define the server type\n",
    "serverType = \"HOSTING_SERVER\"\n",
    "\n",
    "# Create a feature service draft object\n",
    "sddraft = crashesMap.getWebLayerSharingDraft(serverType, \"FEATURE\", serviceName, crashesLayer)\n",
    "\n",
    "# Set the properties of the feature service draft object\n",
    "sddraft.overwriteExistingService = True\n",
    "sddraft.portalFolder = serviceFolder\n",
    "sddraft.credits = serviceCredits\n",
    "\n",
    "# Create Service Definition Draft file\n",
    "sddraft.exportToSDDraft(sddraftOutput)"
   ]
  },
  {
   "cell_type": "markdown",
   "id": "1ecd379b",
   "metadata": {},
   "source": [
    "Stage the service definition for the crashes layer"
   ]
  },
  {
   "cell_type": "code",
   "execution_count": 57,
   "id": "c8c92b2e",
   "metadata": {},
   "outputs": [
    {
     "name": "stdout",
     "output_type": "stream",
     "text": [
      "Start Staging\n"
     ]
    },
    {
     "data": {
      "text/html": [
       "<div class='gpresult'><h2 class='msg-title'>Messages</h2><div id='messages'>Start Time: Friday, May 9, 2025 3:11:31 AM<br>WARNING 002893: Analyzer warnings were encountered ([{\\<br>code\\<br>:\\<br>20027\\<br>,\\<br>message\\<br>:\\<br>Layer uses advanced renderer settings\\<br>,\\<br>object\\<br>:\\<br>OCSWITRS Crashes\\<br>},{\\<br>code\\<br>:\\<br>24082\\<br>,\\<br>message\\<br>:\\<br>Layer&#39;s symbol will be downgraded\\<br>,\\<br>object\\<br>:\\<br>OCSWITRS Crashes\\<br>},{\\<br>code\\<br>:\\<br>24082\\<br>,\\<br>message\\<br>:\\<br>Layer&#39;s symbol will be downgraded\\<br>,\\<br>object\\<br>:\\<br>OCSWITRS Crashes\\<br>},{\\<br>code\\<br>:\\<br>24082\\<br>,\\<br>message\\<br>:\\<br>Layer&#39;s symbol will be downgraded\\<br>,\\<br>object\\<br>:\\<br>OCSWITRS Crashes\\<br>},{\\<br>code\\<br>:\\<br>24082\\<br>,\\<br>message\\<br>:\\<br>Layer&#39;s symbol will be downgraded\\<br>,\\<br>object\\<br>:\\<br>OCSWITRS Crashes\\<br>}]).<br>Succeeded at Friday, May 9, 2025 3:12:04 AM (Elapsed Time: 32.86 seconds)<br></div><div id = 'default' /></div></div>"
      ],
      "text/plain": [
       "<Result 'c:\\\\Users\\\\ktale\\\\OneDrive\\\\Documents\\\\GitHub\\\\OCSWITRS\\\\data\\\\ago\\\\OCSWITRS Crashes.sd'>"
      ]
     },
     "execution_count": 57,
     "metadata": {},
     "output_type": "execute_result"
    }
   ],
   "source": [
    "print(\"Start Staging\")\n",
    "arcpy.server.StageService(\n",
    "    in_service_definition_draft = sddraftOutput,\n",
    "    out_service_definition = sdOutput\n",
    ")"
   ]
  },
  {
   "cell_type": "markdown",
   "id": "ecd5798c",
   "metadata": {},
   "source": [
    "Publish the service definition to ArcGIS Online portal (updating the existing service)"
   ]
  },
  {
   "cell_type": "code",
   "execution_count": 58,
   "id": "62f75452",
   "metadata": {},
   "outputs": [
    {
     "name": "stdout",
     "output_type": "stream",
     "text": [
      "Start Uploading\n"
     ]
    },
    {
     "data": {
      "text/html": [
       "<div class='gpresult'><h2 class='msg-title'>Messages</h2><div id='messages'>Start Time: Friday, May 9, 2025 3:12:08 AM<br>Succeeded at Friday, May 9, 2025 3:18:49 AM (Elapsed Time: 6 minutes 41 seconds)<br></div><div id = 'default' /></div></div>"
      ],
      "text/plain": [
       "<Result ''>"
      ]
     },
     "execution_count": 58,
     "metadata": {},
     "output_type": "execute_result"
    }
   ],
   "source": [
    "# Share to portal\n",
    "print(\"Start Uploading\")\n",
    "arcpy.server.UploadServiceDefinition(\n",
    "    in_sd_file = sdOutput,\n",
    "    in_server = serverType,\n",
    "    in_service_name = serviceName,\n",
    "    in_folder_type = \"EXISTING\",\n",
    "    in_folder = serviceFolder,\n",
    "    in_startupType = \"STARTED\"\n",
    ")"
   ]
  },
  {
   "cell_type": "markdown",
   "id": "a42faa98",
   "metadata": {},
   "source": [
    "<h3 style=\"font-weight:bold; color:lime; padding-left: 50px\">Parties Service Layer</h3>"
   ]
  },
  {
   "cell_type": "markdown",
   "id": "19f174f1",
   "metadata": {},
   "source": [
    "Service definition variables"
   ]
  },
  {
   "cell_type": "code",
   "execution_count": 59,
   "id": "d0d3cff6",
   "metadata": {},
   "outputs": [],
   "source": [
    "# Provide the service definition variables for the parties layer\n",
    "serviceName = \"OCSWITRS Parties\"\n",
    "serviceFolder = \"OCTraffic\"\n",
    "serviceCredits = \"Dr. Kostas Alexandridis, GISP\"\n",
    "sddraftFile = serviceName + \".sddraft\"\n",
    "sddraftOutput = os.path.join(agoPrjPath, sddraftFile)\n",
    "sdFile = serviceName + \".sd\"\n",
    "sdOutput = os.path.join(agoPrjPath, sdFile)\n",
    "\n",
    "# Define the server type\n",
    "serverType = \"HOSTING_SERVER\"\n",
    "\n",
    "# Create a feature service draft object\n",
    "sddraft = partiesMap.getWebLayerSharingDraft(serverType, \"FEATURE\", serviceName, partiesLayer)\n",
    "\n",
    "# Set the properties of the feature service draft object\n",
    "sddraft.overwriteExistingService = True\n",
    "sddraft.portalFolder = serviceFolder\n",
    "sddraft.credits = serviceCredits\n",
    "\n",
    "# Create Service Definition Draft file\n",
    "sddraft.exportToSDDraft(sddraftOutput)"
   ]
  },
  {
   "cell_type": "markdown",
   "id": "6df0ea00",
   "metadata": {},
   "source": [
    "Stage the service definition for the parties layer"
   ]
  },
  {
   "cell_type": "code",
   "execution_count": 60,
   "id": "6d4d6fda",
   "metadata": {},
   "outputs": [
    {
     "name": "stdout",
     "output_type": "stream",
     "text": [
      "Start Staging\n"
     ]
    },
    {
     "data": {
      "text/html": [
       "<div class='gpresult'><h2 class='msg-title'>Messages</h2><div id='messages'>Start Time: Friday, May 9, 2025 3:23:30 AM<br>WARNING 002893: Analyzer warnings were encountered ([{\\<br>code\\<br>:\\<br>20027\\<br>,\\<br>message\\<br>:\\<br>Layer uses advanced renderer settings\\<br>,\\<br>object\\<br>:\\<br>OCSWITRS Parties\\<br>},{\\<br>code\\<br>:\\<br>24082\\<br>,\\<br>message\\<br>:\\<br>Layer&#39;s symbol will be downgraded\\<br>,\\<br>object\\<br>:\\<br>OCSWITRS Parties\\<br>},{\\<br>code\\<br>:\\<br>24082\\<br>,\\<br>message\\<br>:\\<br>Layer&#39;s symbol will be downgraded\\<br>,\\<br>object\\<br>:\\<br>OCSWITRS Parties\\<br>},{\\<br>code\\<br>:\\<br>24082\\<br>,\\<br>message\\<br>:\\<br>Layer&#39;s symbol will be downgraded\\<br>,\\<br>object\\<br>:\\<br>OCSWITRS Parties\\<br>},{\\<br>code\\<br>:\\<br>24082\\<br>,\\<br>message\\<br>:\\<br>Layer&#39;s symbol will be downgraded\\<br>,\\<br>object\\<br>:\\<br>OCSWITRS Parties\\<br>}]).<br>Succeeded at Friday, May 9, 2025 3:24:09 AM (Elapsed Time: 39.54 seconds)<br></div><div id = 'default' /></div></div>"
      ],
      "text/plain": [
       "<Result 'c:\\\\Users\\\\ktale\\\\OneDrive\\\\Documents\\\\GitHub\\\\OCSWITRS\\\\data\\\\ago\\\\OCSWITRS Parties.sd'>"
      ]
     },
     "execution_count": 60,
     "metadata": {},
     "output_type": "execute_result"
    }
   ],
   "source": [
    "print(\"Start Staging\")\n",
    "arcpy.server.StageService(\n",
    "    in_service_definition_draft = sddraftOutput,\n",
    "    out_service_definition = sdOutput\n",
    ")"
   ]
  },
  {
   "cell_type": "markdown",
   "id": "2cdcba62",
   "metadata": {},
   "source": [
    "Publish the service definition to ArcGIS Online portal (updating the existing service)"
   ]
  },
  {
   "cell_type": "code",
   "execution_count": 61,
   "id": "47fa66ae",
   "metadata": {},
   "outputs": [
    {
     "name": "stdout",
     "output_type": "stream",
     "text": [
      "Start Uploading\n"
     ]
    },
    {
     "data": {
      "text/html": [
       "<div class='gpresult'><h2 class='msg-title'>Messages</h2><div id='messages'>Start Time: Friday, May 9, 2025 3:24:10 AM<br>Succeeded at Friday, May 9, 2025 3:30:45 AM (Elapsed Time: 6 minutes 35 seconds)<br></div><div id = 'default' /></div></div>"
      ],
      "text/plain": [
       "<Result ''>"
      ]
     },
     "execution_count": 61,
     "metadata": {},
     "output_type": "execute_result"
    }
   ],
   "source": [
    "# Share to portal\n",
    "print(\"Start Uploading\")\n",
    "arcpy.server.UploadServiceDefinition(\n",
    "    in_sd_file = sdOutput,\n",
    "    in_server = serverType,\n",
    "    in_service_name = serviceName,\n",
    "    in_folder_type = \"EXISTING\",\n",
    "    in_folder = serviceFolder,\n",
    "    in_startupType = \"STARTED\"\n",
    ")"
   ]
  },
  {
   "cell_type": "markdown",
   "id": "fc408d40",
   "metadata": {},
   "source": [
    "<h3 style=\"font-weight:bold; color:lime; padding-left: 50px\">Victims Service Layer</h3>"
   ]
  },
  {
   "cell_type": "markdown",
   "id": "c38b889a",
   "metadata": {},
   "source": [
    "Service definition variables"
   ]
  },
  {
   "cell_type": "code",
   "execution_count": 62,
   "id": "a485f095",
   "metadata": {},
   "outputs": [],
   "source": [
    "# Provide the service definitions variables for the victims layer\n",
    "serviceName = \"OCSWITRS Victims\"\n",
    "serviceFolder = \"OCTraffic\"\n",
    "serviceCredits = \"Dr. Kostas Alexandridis, GISP\"\n",
    "sddraftFile = serviceName + \".sddraft\"\n",
    "sddraftOutput = os.path.join(agoPrjPath, sddraftFile)\n",
    "sdFile = serviceName + \".sd\"\n",
    "sdOutput = os.path.join(agoPrjPath, sdFile)\n",
    "\n",
    "# Define the server type\n",
    "serverType = \"HOSTING_SERVER\"\n",
    "\n",
    "# Create a feature service draft object\n",
    "sddraft = victimsMap.getWebLayerSharingDraft(serverType, \"FEATURE\", serviceName, victimsLayer)\n",
    "\n",
    "# Set the properties of the feature service draft object\n",
    "sddraft.overwriteExistingService = True\n",
    "sddraft.portalFolder = serviceFolder\n",
    "sddraft.credits = serviceCredits\n",
    "\n",
    "# Create Service Definition Draft file\n",
    "sddraft.exportToSDDraft(sddraftOutput)"
   ]
  },
  {
   "cell_type": "markdown",
   "id": "35bbbd74",
   "metadata": {},
   "source": [
    "Stage the service definition for the victims layer"
   ]
  },
  {
   "cell_type": "code",
   "execution_count": 63,
   "id": "bc661a9c",
   "metadata": {},
   "outputs": [
    {
     "name": "stdout",
     "output_type": "stream",
     "text": [
      "Start Staging\n"
     ]
    },
    {
     "data": {
      "text/html": [
       "<div class='gpresult'><h2 class='msg-title'>Messages</h2><div id='messages'>Start Time: Friday, May 9, 2025 3:30:48 AM<br>WARNING 002893: Analyzer warnings were encountered ([{\\<br>code\\<br>:\\<br>20027\\<br>,\\<br>message\\<br>:\\<br>Layer uses advanced renderer settings\\<br>,\\<br>object\\<br>:\\<br>OCSWITRS Victims\\<br>},{\\<br>code\\<br>:\\<br>24082\\<br>,\\<br>message\\<br>:\\<br>Layer&#39;s symbol will be downgraded\\<br>,\\<br>object\\<br>:\\<br>OCSWITRS Victims\\<br>},{\\<br>code\\<br>:\\<br>24082\\<br>,\\<br>message\\<br>:\\<br>Layer&#39;s symbol will be downgraded\\<br>,\\<br>object\\<br>:\\<br>OCSWITRS Victims\\<br>},{\\<br>code\\<br>:\\<br>24082\\<br>,\\<br>message\\<br>:\\<br>Layer&#39;s symbol will be downgraded\\<br>,\\<br>object\\<br>:\\<br>OCSWITRS Victims\\<br>},{\\<br>code\\<br>:\\<br>24082\\<br>,\\<br>message\\<br>:\\<br>Layer&#39;s symbol will be downgraded\\<br>,\\<br>object\\<br>:\\<br>OCSWITRS Victims\\<br>}]).<br>Succeeded at Friday, May 9, 2025 3:31:30 AM (Elapsed Time: 42.65 seconds)<br></div><div id = 'default' /></div></div>"
      ],
      "text/plain": [
       "<Result 'c:\\\\Users\\\\ktale\\\\OneDrive\\\\Documents\\\\GitHub\\\\OCSWITRS\\\\data\\\\ago\\\\OCSWITRS Victims.sd'>"
      ]
     },
     "execution_count": 63,
     "metadata": {},
     "output_type": "execute_result"
    }
   ],
   "source": [
    "print(\"Start Staging\")\n",
    "arcpy.server.StageService(\n",
    "    in_service_definition_draft = sddraftOutput,\n",
    "    out_service_definition = sdOutput\n",
    ")"
   ]
  },
  {
   "cell_type": "markdown",
   "id": "03a94e87",
   "metadata": {},
   "source": [
    "Publish the service definition to ArcGIS Online portal (updating the existing service)"
   ]
  },
  {
   "cell_type": "code",
   "execution_count": 64,
   "id": "cd334009",
   "metadata": {},
   "outputs": [
    {
     "name": "stdout",
     "output_type": "stream",
     "text": [
      "Start Uploading\n"
     ]
    },
    {
     "data": {
      "text/html": [
       "<div class='gpresult'><h2 class='msg-title'>Messages</h2><div id='messages'>Start Time: Friday, May 9, 2025 3:31:31 AM<br>Succeeded at Friday, May 9, 2025 3:36:34 AM (Elapsed Time: 5 minutes 2 seconds)<br></div><div id = 'default' /></div></div>"
      ],
      "text/plain": [
       "<Result ''>"
      ]
     },
     "execution_count": 64,
     "metadata": {},
     "output_type": "execute_result"
    }
   ],
   "source": [
    "# Share to portal\n",
    "print(\"Start Uploading\")\n",
    "arcpy.server.UploadServiceDefinition(\n",
    "    in_sd_file = sdOutput,\n",
    "    in_server = serverType,\n",
    "    in_service_name = serviceName,\n",
    "    in_folder_type = \"EXISTING\",\n",
    "    in_folder = serviceFolder,\n",
    "    in_startupType = \"STARTED\"\n",
    ")"
   ]
  },
  {
   "cell_type": "markdown",
   "id": "0fc3fdb3",
   "metadata": {},
   "source": [
    "<h3 style=\"font-weight:bold; color:lime; padding-left: 50px\">Collisions Service Layer</h3>"
   ]
  },
  {
   "cell_type": "markdown",
   "id": "acf5175d",
   "metadata": {},
   "source": [
    "Service definition variables"
   ]
  },
  {
   "cell_type": "code",
   "execution_count": 65,
   "id": "dbd91c07",
   "metadata": {},
   "outputs": [],
   "source": [
    "# Provide the service definitions variables for the collisions layer\n",
    "serviceName = \"OCSWITRS Collisions\"\n",
    "serviceFolder = \"OCTraffic\"\n",
    "serviceCredits = \"Dr. Kostas Alexandridis, GISP\"\n",
    "sddraftFile = serviceName + \".sddraft\"\n",
    "sddraftOutput = os.path.join(agoPrjPath, sddraftFile)\n",
    "sdFile = serviceName + \".sd\"\n",
    "sdOutput = os.path.join(agoPrjPath, sdFile)\n",
    "\n",
    "# Define the server type\n",
    "serverType = \"HOSTING_SERVER\"\n",
    "\n",
    "# Create a feature service draft object\n",
    "sddraft = collisionsMap.getWebLayerSharingDraft(serverType, \"FEATURE\", serviceName, collisionsLayer)\n",
    "\n",
    "# Set the properties of the feature service draft object\n",
    "sddraft.overwriteExistingService = True\n",
    "sddraft.portalFolder = serviceFolder\n",
    "sddraft.credits = serviceCredits\n",
    "\n",
    "# Create Service Definition Draft file\n",
    "sddraft.exportToSDDraft(sddraftOutput)"
   ]
  },
  {
   "cell_type": "markdown",
   "id": "a1f29500",
   "metadata": {},
   "source": [
    "Stage the service definition for the collisions layer"
   ]
  },
  {
   "cell_type": "code",
   "execution_count": 66,
   "id": "6d99b6f2",
   "metadata": {},
   "outputs": [
    {
     "name": "stdout",
     "output_type": "stream",
     "text": [
      "Start Staging\n"
     ]
    },
    {
     "data": {
      "text/html": [
       "<div class='gpresult'><h2 class='msg-title'>Messages</h2><div id='messages'>Start Time: Friday, May 9, 2025 3:36:35 AM<br>WARNING 002893: Analyzer warnings were encountered ([{\\<br>code\\<br>:\\<br>20027\\<br>,\\<br>message\\<br>:\\<br>Layer uses advanced renderer settings\\<br>,\\<br>object\\<br>:\\<br>OCSWITRS Collisions\\<br>},{\\<br>code\\<br>:\\<br>24082\\<br>,\\<br>message\\<br>:\\<br>Layer&#39;s symbol will be downgraded\\<br>,\\<br>object\\<br>:\\<br>OCSWITRS Collisions\\<br>},{\\<br>code\\<br>:\\<br>24082\\<br>,\\<br>message\\<br>:\\<br>Layer&#39;s symbol will be downgraded\\<br>,\\<br>object\\<br>:\\<br>OCSWITRS Collisions\\<br>},{\\<br>code\\<br>:\\<br>24082\\<br>,\\<br>message\\<br>:\\<br>Layer&#39;s symbol will be downgraded\\<br>,\\<br>object\\<br>:\\<br>OCSWITRS Collisions\\<br>},{\\<br>code\\<br>:\\<br>24082\\<br>,\\<br>message\\<br>:\\<br>Layer&#39;s symbol will be downgraded\\<br>,\\<br>object\\<br>:\\<br>OCSWITRS Collisions\\<br>}]).<br>Succeeded at Friday, May 9, 2025 3:37:55 AM (Elapsed Time: 1 minutes 19 seconds)<br></div><div id = 'default' /></div></div>"
      ],
      "text/plain": [
       "<Result 'c:\\\\Users\\\\ktale\\\\OneDrive\\\\Documents\\\\GitHub\\\\OCSWITRS\\\\data\\\\ago\\\\OCSWITRS Collisions.sd'>"
      ]
     },
     "execution_count": 66,
     "metadata": {},
     "output_type": "execute_result"
    }
   ],
   "source": [
    "print(\"Start Staging\")\n",
    "arcpy.server.StageService(\n",
    "    in_service_definition_draft = sddraftOutput,\n",
    "    out_service_definition = sdOutput\n",
    ")"
   ]
  },
  {
   "cell_type": "markdown",
   "id": "86713db4",
   "metadata": {},
   "source": [
    "Publish the service definition to ArcGIS Online portal (updating the existing service)"
   ]
  },
  {
   "cell_type": "code",
   "execution_count": 67,
   "id": "73064647",
   "metadata": {},
   "outputs": [
    {
     "name": "stdout",
     "output_type": "stream",
     "text": [
      "Start Uploading\n"
     ]
    },
    {
     "data": {
      "text/html": [
       "<div class='gpresult'><h2 class='msg-title'>Messages</h2><div id='messages'>Start Time: Friday, May 9, 2025 3:37:56 AM<br>Succeeded at Friday, May 9, 2025 4:02:45 AM (Elapsed Time: 24 minutes 48 seconds)<br></div><div id = 'default' /></div></div>"
      ],
      "text/plain": [
       "<Result ''>"
      ]
     },
     "execution_count": 67,
     "metadata": {},
     "output_type": "execute_result"
    }
   ],
   "source": [
    "# Share to portal\n",
    "print(\"Start Uploading\")\n",
    "arcpy.server.UploadServiceDefinition(\n",
    "    in_sd_file = sdOutput,\n",
    "    in_server = serverType,\n",
    "    in_service_name = serviceName,\n",
    "    in_folder_type = \"EXISTING\",\n",
    "    in_folder = serviceFolder,\n",
    "    in_startupType = \"STARTED\"\n",
    ")"
   ]
  },
  {
   "cell_type": "markdown",
   "id": "b1fddc2d",
   "metadata": {},
   "source": []
  }
 ],
 "metadata": {
  "kernelspec": {
   "display_name": "agpenv",
   "language": "python",
   "name": "python3"
  },
  "language_info": {
   "codemirror_mode": {
    "name": "ipython",
    "version": 3
   },
   "file_extension": ".py",
   "mimetype": "text/x-python",
   "name": "python",
   "nbconvert_exporter": "python",
   "pygments_lexer": "ipython3",
   "version": "3.11.10"
  }
 },
 "nbformat": 4,
 "nbformat_minor": 5
}
